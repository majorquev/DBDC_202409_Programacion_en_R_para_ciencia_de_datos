{
  "nbformat": 4,
  "nbformat_minor": 0,
  "metadata": {
    "colab": {
      "provenance": [],
      "include_colab_link": true
    },
    "kernelspec": {
      "name": "ir",
      "display_name": "R"
    }
  },
  "cells": [
    {
      "cell_type": "markdown",
      "metadata": {
        "id": "view-in-github",
        "colab_type": "text"
      },
      "source": [
        "<a href=\"https://colab.research.google.com/github/majorquev/DBDC_202409_Programacion_en_R_para_ciencia_de_datos/blob/main/Clases/C1/Clase_1_02_vectores.ipynb\" target=\"_parent\"><img src=\"https://colab.research.google.com/assets/colab-badge.svg\" alt=\"Open In Colab\"/></a>"
      ]
    },
    {
      "cell_type": "markdown",
      "metadata": {
        "collapsed": true,
        "id": "Yb2RXjL2Igun"
      },
      "source": [
        "# Parte 1: Introducción a R (continuación)\n",
        "\n",
        "**Autor:** Miguel Jorquera Viguera<br>\n",
        "**E-mail:** majorquev@gmail.com<br>\n",
        "**Ayudante:** Rodrigo Morales <br>\n",
        "**E-mail ayudante:** rumorale1@gmail.com\n",
        "\n"
      ]
    },
    {
      "cell_type": "markdown",
      "metadata": {
        "id": "d_bHZs66Iguo"
      },
      "source": [
        "## 3. Vectores y matrices\n",
        "\n",
        "### 3.1 Vectores\n",
        "\n",
        "En R, así como en la mayoría de los lenguajes de programación, uno de los objetos más usuales para almacenar información son los vectores, los que corresponden a arreglos unidimensionales que almacenan un mismo tipo de dato en cada una de sus entradas.\n",
        "\n",
        "Todo vector en R se puede declarar con la letra \"c\" seguido de los elementos que lo componen entre paréntesis y separados por comas."
      ]
    },
    {
      "cell_type": "code",
      "metadata": {
        "id": "ljQ0JcsTIgup"
      },
      "source": [
        "# Declaración de dos vectores\n",
        "v1 <- c(1,1,2,3,5,8)\n",
        "v2 <- c(60,70)\n",
        "v3 <- c(\"hola\", \"soy\", \"miguel\")\n",
        "v4 <- c(T, TRUE, FALSE, F) # NOTA para R TRUE/FALSE es los mismo que T/F\n",
        "v5 <- c(entrada_1 = 50, n2 = 40, cosa3 = 100)"
      ],
      "execution_count": 14,
      "outputs": []
    },
    {
      "cell_type": "code",
      "source": [
        "v1\n",
        "v3"
      ],
      "metadata": {
        "id": "DO-wxh5FcH3q",
        "outputId": "a7bddf1d-be89-44a9-fd4e-6fd0cd1da9b5",
        "colab": {
          "base_uri": "https://localhost:8080/",
          "height": 52
        }
      },
      "execution_count": 3,
      "outputs": [
        {
          "output_type": "display_data",
          "data": {
            "text/html": [
              "<style>\n",
              ".list-inline {list-style: none; margin:0; padding: 0}\n",
              ".list-inline>li {display: inline-block}\n",
              ".list-inline>li:not(:last-child)::after {content: \"\\00b7\"; padding: 0 .5ex}\n",
              "</style>\n",
              "<ol class=list-inline><li>1</li><li>1</li><li>2</li><li>3</li><li>5</li><li>8</li></ol>\n"
            ],
            "text/markdown": "1. 1\n2. 1\n3. 2\n4. 3\n5. 5\n6. 8\n\n\n",
            "text/latex": "\\begin{enumerate*}\n\\item 1\n\\item 1\n\\item 2\n\\item 3\n\\item 5\n\\item 8\n\\end{enumerate*}\n",
            "text/plain": [
              "[1] 1 1 2 3 5 8"
            ]
          },
          "metadata": {}
        },
        {
          "output_type": "display_data",
          "data": {
            "text/html": [
              "<style>\n",
              ".list-inline {list-style: none; margin:0; padding: 0}\n",
              ".list-inline>li {display: inline-block}\n",
              ".list-inline>li:not(:last-child)::after {content: \"\\00b7\"; padding: 0 .5ex}\n",
              "</style>\n",
              "<ol class=list-inline><li>'hola'</li><li>'soy'</li><li>'miguel'</li></ol>\n"
            ],
            "text/markdown": "1. 'hola'\n2. 'soy'\n3. 'miguel'\n\n\n",
            "text/latex": "\\begin{enumerate*}\n\\item 'hola'\n\\item 'soy'\n\\item 'miguel'\n\\end{enumerate*}\n",
            "text/plain": [
              "[1] \"hola\"   \"soy\"    \"miguel\""
            ]
          },
          "metadata": {}
        }
      ]
    },
    {
      "cell_type": "code",
      "metadata": {
        "id": "GxHhDdS4Iguy",
        "outputId": "7bf1e877-f8ac-4338-d7d1-3045cb79af89",
        "colab": {
          "base_uri": "https://localhost:8080/",
          "height": 86
        }
      },
      "source": [
        "# clase y tipo de dato\n",
        "typeof(v1)\n",
        "typeof(v3)\n",
        "\n",
        "class(v1)\n",
        "class(v3)"
      ],
      "execution_count": 6,
      "outputs": [
        {
          "output_type": "display_data",
          "data": {
            "text/html": [
              "'double'"
            ],
            "text/markdown": "'double'",
            "text/latex": "'double'",
            "text/plain": [
              "[1] \"double\""
            ]
          },
          "metadata": {}
        },
        {
          "output_type": "display_data",
          "data": {
            "text/html": [
              "'character'"
            ],
            "text/markdown": "'character'",
            "text/latex": "'character'",
            "text/plain": [
              "[1] \"character\""
            ]
          },
          "metadata": {}
        },
        {
          "output_type": "display_data",
          "data": {
            "text/html": [
              "'numeric'"
            ],
            "text/markdown": "'numeric'",
            "text/latex": "'numeric'",
            "text/plain": [
              "[1] \"numeric\""
            ]
          },
          "metadata": {}
        },
        {
          "output_type": "display_data",
          "data": {
            "text/html": [
              "'character'"
            ],
            "text/markdown": "'character'",
            "text/latex": "'character'",
            "text/plain": [
              "[1] \"character\""
            ]
          },
          "metadata": {}
        }
      ]
    },
    {
      "cell_type": "code",
      "source": [
        "v5"
      ],
      "metadata": {
        "id": "Rz3CmSirdSMd",
        "outputId": "73c16389-9dfb-4f52-c1f3-65a34cd9fe04",
        "colab": {
          "base_uri": "https://localhost:8080/",
          "height": 34
        }
      },
      "execution_count": 15,
      "outputs": [
        {
          "output_type": "display_data",
          "data": {
            "text/html": [
              "<style>\n",
              ".dl-inline {width: auto; margin:0; padding: 0}\n",
              ".dl-inline>dt, .dl-inline>dd {float: none; width: auto; display: inline-block}\n",
              ".dl-inline>dt::after {content: \":\\0020\"; padding-right: .5ex}\n",
              ".dl-inline>dt:not(:first-of-type) {padding-left: .5ex}\n",
              "</style><dl class=dl-inline><dt>entrada_1</dt><dd>50</dd><dt>n2</dt><dd>40</dd><dt>cosa3</dt><dd>100</dd></dl>\n"
            ],
            "text/markdown": "entrada_1\n:   50n2\n:   40cosa3\n:   100\n\n",
            "text/latex": "\\begin{description*}\n\\item[entrada\\textbackslash{}\\_1] 50\n\\item[n2] 40\n\\item[cosa3] 100\n\\end{description*}\n",
            "text/plain": [
              "entrada_1        n2     cosa3 \n",
              "       50        40       100 "
            ]
          },
          "metadata": {}
        }
      ]
    },
    {
      "cell_type": "code",
      "metadata": {
        "id": "R88mjniaIgu_",
        "outputId": "70a4aefa-6d7b-4add-9c3c-3c99742d28d5",
        "colab": {
          "base_uri": "https://localhost:8080/",
          "height": 34
        }
      },
      "source": [
        "# Nombres de las entradas de un vector\n",
        "\n",
        "names(v5)"
      ],
      "execution_count": 16,
      "outputs": [
        {
          "output_type": "display_data",
          "data": {
            "text/html": [
              "<style>\n",
              ".list-inline {list-style: none; margin:0; padding: 0}\n",
              ".list-inline>li {display: inline-block}\n",
              ".list-inline>li:not(:last-child)::after {content: \"\\00b7\"; padding: 0 .5ex}\n",
              "</style>\n",
              "<ol class=list-inline><li>'entrada_1'</li><li>'n2'</li><li>'cosa3'</li></ol>\n"
            ],
            "text/markdown": "1. 'entrada_1'\n2. 'n2'\n3. 'cosa3'\n\n\n",
            "text/latex": "\\begin{enumerate*}\n\\item 'entrada\\_1'\n\\item 'n2'\n\\item 'cosa3'\n\\end{enumerate*}\n",
            "text/plain": [
              "[1] \"entrada_1\" \"n2\"        \"cosa3\"    "
            ]
          },
          "metadata": {}
        }
      ]
    },
    {
      "cell_type": "code",
      "source": [],
      "metadata": {
        "id": "0AxHMWgSc-3x",
        "outputId": "c0ab7235-5e7a-4fcd-96ae-a0b1eb1d0e63",
        "colab": {
          "base_uri": "https://localhost:8080/",
          "height": 34
        }
      },
      "execution_count": 10,
      "outputs": [
        {
          "output_type": "display_data",
          "data": {
            "text/html": [
              "TRUE"
            ],
            "text/markdown": "TRUE",
            "text/latex": "TRUE",
            "text/plain": [
              "[1] TRUE"
            ]
          },
          "metadata": {}
        }
      ]
    },
    {
      "cell_type": "code",
      "metadata": {
        "id": "OAhPpN3vIgvB",
        "outputId": "61afe7b4-f5a9-4726-ed67-108572b1567b",
        "colab": {
          "base_uri": "https://localhost:8080/",
          "height": 34
        }
      },
      "source": [
        "# podemos asignar los nombres a vector 1\n",
        "# nombres de las entradas con la función, names()\n",
        "names(v2)"
      ],
      "execution_count": 17,
      "outputs": [
        {
          "output_type": "display_data",
          "data": {
            "text/plain": [
              "NULL"
            ]
          },
          "metadata": {}
        }
      ]
    },
    {
      "cell_type": "code",
      "source": [
        "names(v2) <- c(\"nombre1\",\"nombre2\")"
      ],
      "metadata": {
        "id": "mJn0Chp_d9eK"
      },
      "execution_count": 18,
      "outputs": []
    },
    {
      "cell_type": "code",
      "source": [
        "v2"
      ],
      "metadata": {
        "id": "5FxPyNUgeR_e",
        "outputId": "62214082-3262-42ef-deaa-eaa83e03c67a",
        "colab": {
          "base_uri": "https://localhost:8080/",
          "height": 34
        }
      },
      "execution_count": 19,
      "outputs": [
        {
          "output_type": "display_data",
          "data": {
            "text/html": [
              "<style>\n",
              ".dl-inline {width: auto; margin:0; padding: 0}\n",
              ".dl-inline>dt, .dl-inline>dd {float: none; width: auto; display: inline-block}\n",
              ".dl-inline>dt::after {content: \":\\0020\"; padding-right: .5ex}\n",
              ".dl-inline>dt:not(:first-of-type) {padding-left: .5ex}\n",
              "</style><dl class=dl-inline><dt>nombre1</dt><dd>60</dd><dt>nombre2</dt><dd>70</dd></dl>\n"
            ],
            "text/markdown": "nombre1\n:   60nombre2\n:   70\n\n",
            "text/latex": "\\begin{description*}\n\\item[nombre1] 60\n\\item[nombre2] 70\n\\end{description*}\n",
            "text/plain": [
              "nombre1 nombre2 \n",
              "     60      70 "
            ]
          },
          "metadata": {}
        }
      ]
    },
    {
      "cell_type": "code",
      "source": [
        "names(v2)"
      ],
      "metadata": {
        "id": "IR3nN3k_eWip",
        "outputId": "eb7c3e68-55f3-4c1a-f9ff-adb03b3b9a03",
        "colab": {
          "base_uri": "https://localhost:8080/",
          "height": 34
        }
      },
      "execution_count": 20,
      "outputs": [
        {
          "output_type": "display_data",
          "data": {
            "text/html": [
              "<style>\n",
              ".list-inline {list-style: none; margin:0; padding: 0}\n",
              ".list-inline>li {display: inline-block}\n",
              ".list-inline>li:not(:last-child)::after {content: \"\\00b7\"; padding: 0 .5ex}\n",
              "</style>\n",
              "<ol class=list-inline><li>'nombre1'</li><li>'nombre2'</li></ol>\n"
            ],
            "text/markdown": "1. 'nombre1'\n2. 'nombre2'\n\n\n",
            "text/latex": "\\begin{enumerate*}\n\\item 'nombre1'\n\\item 'nombre2'\n\\end{enumerate*}\n",
            "text/plain": [
              "[1] \"nombre1\" \"nombre2\""
            ]
          },
          "metadata": {}
        }
      ]
    },
    {
      "cell_type": "code",
      "metadata": {
        "id": "7Ayre5BlIgvH",
        "outputId": "c9f2742a-1f44-426d-da33-63708a1c6ba4",
        "colab": {
          "base_uri": "https://localhost:8080/",
          "height": 34
        }
      },
      "source": [
        "#combinar vectores\n",
        "# c : es una abreviación de \"combine\"\n",
        "v6 <- c(v2,v5)\n",
        "v6"
      ],
      "execution_count": 23,
      "outputs": [
        {
          "output_type": "display_data",
          "data": {
            "text/html": [
              "<style>\n",
              ".dl-inline {width: auto; margin:0; padding: 0}\n",
              ".dl-inline>dt, .dl-inline>dd {float: none; width: auto; display: inline-block}\n",
              ".dl-inline>dt::after {content: \":\\0020\"; padding-right: .5ex}\n",
              ".dl-inline>dt:not(:first-of-type) {padding-left: .5ex}\n",
              "</style><dl class=dl-inline><dt>nombre1</dt><dd>60</dd><dt>nombre2</dt><dd>70</dd><dt>entrada_1</dt><dd>50</dd><dt>n2</dt><dd>40</dd><dt>cosa3</dt><dd>100</dd></dl>\n"
            ],
            "text/markdown": "nombre1\n:   60nombre2\n:   70entrada_1\n:   50n2\n:   40cosa3\n:   100\n\n",
            "text/latex": "\\begin{description*}\n\\item[nombre1] 60\n\\item[nombre2] 70\n\\item[entrada\\textbackslash{}\\_1] 50\n\\item[n2] 40\n\\item[cosa3] 100\n\\end{description*}\n",
            "text/plain": [
              "  nombre1   nombre2 entrada_1        n2     cosa3 \n",
              "       60        70        50        40       100 "
            ]
          },
          "metadata": {}
        }
      ]
    },
    {
      "cell_type": "code",
      "source": [
        "# Largo de un vector\n",
        "length(v6)"
      ],
      "metadata": {
        "id": "EV4tvDhAe2DD",
        "outputId": "e08b32af-c92d-4870-aa39-7cc0b8c69c7e",
        "colab": {
          "base_uri": "https://localhost:8080/",
          "height": 34
        }
      },
      "execution_count": 24,
      "outputs": [
        {
          "output_type": "display_data",
          "data": {
            "text/html": [
              "5"
            ],
            "text/markdown": "5",
            "text/latex": "5",
            "text/plain": [
              "[1] 5"
            ]
          },
          "metadata": {}
        }
      ]
    },
    {
      "cell_type": "markdown",
      "metadata": {
        "id": "MX35j24_IgvN"
      },
      "source": [
        "#### 3.1.1 Acceso a los elementos de un vector\n",
        "\n",
        "El acceso a los elementos de un vector se puede llevar acabo indicando la posición del elemento (los naturales parten en 1!), el nombre de la casilla que lo contiene, o bien mediante sentencias lógicas que retornen \"TRUE\" en la posición deseada.\n",
        "\n"
      ]
    },
    {
      "cell_type": "code",
      "metadata": {
        "id": "zW2_TzKxIgvN",
        "outputId": "35d59b2c-51c6-4858-e88a-8c397f9eb422",
        "colab": {
          "base_uri": "https://localhost:8080/",
          "height": 34
        }
      },
      "source": [
        "# Mediante posición\n",
        "# NOTA: R cuenta los arreglos desde la posición 1. No desde el \"0\" como python.\n",
        "v1"
      ],
      "execution_count": 25,
      "outputs": [
        {
          "output_type": "display_data",
          "data": {
            "text/html": [
              "<style>\n",
              ".list-inline {list-style: none; margin:0; padding: 0}\n",
              ".list-inline>li {display: inline-block}\n",
              ".list-inline>li:not(:last-child)::after {content: \"\\00b7\"; padding: 0 .5ex}\n",
              "</style>\n",
              "<ol class=list-inline><li>1</li><li>1</li><li>2</li><li>3</li><li>5</li><li>8</li></ol>\n"
            ],
            "text/markdown": "1. 1\n2. 1\n3. 2\n4. 3\n5. 5\n6. 8\n\n\n",
            "text/latex": "\\begin{enumerate*}\n\\item 1\n\\item 1\n\\item 2\n\\item 3\n\\item 5\n\\item 8\n\\end{enumerate*}\n",
            "text/plain": [
              "[1] 1 1 2 3 5 8"
            ]
          },
          "metadata": {}
        }
      ]
    },
    {
      "cell_type": "code",
      "source": [
        "# Acceder al elemento de posición 4.\n",
        "v1[4]"
      ],
      "metadata": {
        "id": "5yJ_GFF8fS71",
        "outputId": "52f248f1-bd6e-4b91-d251-a60ca90f3aeb",
        "colab": {
          "base_uri": "https://localhost:8080/",
          "height": 34
        }
      },
      "execution_count": 26,
      "outputs": [
        {
          "output_type": "display_data",
          "data": {
            "text/html": [
              "3"
            ],
            "text/markdown": "3",
            "text/latex": "3",
            "text/plain": [
              "[1] 3"
            ]
          },
          "metadata": {}
        }
      ]
    },
    {
      "cell_type": "code",
      "metadata": {
        "id": "XWL1ZIyMIgvR",
        "outputId": "6794387d-c08a-41e3-bfad-58f763f5d1ea",
        "colab": {
          "base_uri": "https://localhost:8080/",
          "height": 34
        }
      },
      "source": [
        "# retorna los elementos de las casillas 1 y 4 de v1\n",
        "# En vez de referenciar un número con la posición, refereciamos a un vector con los números de las posiciones\n",
        "\n",
        "v1[c(1,4)]\n"
      ],
      "execution_count": 27,
      "outputs": [
        {
          "output_type": "display_data",
          "data": {
            "text/html": [
              "<style>\n",
              ".list-inline {list-style: none; margin:0; padding: 0}\n",
              ".list-inline>li {display: inline-block}\n",
              ".list-inline>li:not(:last-child)::after {content: \"\\00b7\"; padding: 0 .5ex}\n",
              "</style>\n",
              "<ol class=list-inline><li>1</li><li>3</li></ol>\n"
            ],
            "text/markdown": "1. 1\n2. 3\n\n\n",
            "text/latex": "\\begin{enumerate*}\n\\item 1\n\\item 3\n\\end{enumerate*}\n",
            "text/plain": [
              "[1] 1 3"
            ]
          },
          "metadata": {}
        }
      ]
    },
    {
      "cell_type": "code",
      "source": [
        "# NOTA: No aplica para vectores. (NO HACERLO ASI)\n",
        "v1[1,4]"
      ],
      "metadata": {
        "id": "tcIkkmtif9PA",
        "outputId": "6926a7ec-3313-4a75-f470-dec1e2b35b89",
        "colab": {
          "base_uri": "https://localhost:8080/",
          "height": 72
        }
      },
      "execution_count": 28,
      "outputs": [
        {
          "output_type": "error",
          "ename": "ERROR",
          "evalue": "Error in v1[1, 4]: incorrect number of dimensions\n",
          "traceback": [
            "Error in v1[1, 4]: incorrect number of dimensions\nTraceback:\n"
          ]
        }
      ]
    },
    {
      "cell_type": "code",
      "metadata": {
        "id": "uBqEKq1aIgvT",
        "outputId": "857f34ab-6af8-4273-ac9b-e829157d463d",
        "colab": {
          "base_uri": "https://localhost:8080/",
          "height": 34
        }
      },
      "source": [
        "#NOTA 3:5, R lo interpreta como c(3,4,5)\n",
        "# En vez de esto: v1[c(3,4,5)]\n",
        "v1[3:5]"
      ],
      "execution_count": 31,
      "outputs": [
        {
          "output_type": "display_data",
          "data": {
            "text/html": [
              "<style>\n",
              ".list-inline {list-style: none; margin:0; padding: 0}\n",
              ".list-inline>li {display: inline-block}\n",
              ".list-inline>li:not(:last-child)::after {content: \"\\00b7\"; padding: 0 .5ex}\n",
              "</style>\n",
              "<ol class=list-inline><li>2</li><li>3</li><li>5</li></ol>\n"
            ],
            "text/markdown": "1. 2\n2. 3\n3. 5\n\n\n",
            "text/latex": "\\begin{enumerate*}\n\\item 2\n\\item 3\n\\item 5\n\\end{enumerate*}\n",
            "text/plain": [
              "[1] 2 3 5"
            ]
          },
          "metadata": {}
        }
      ]
    },
    {
      "cell_type": "code",
      "source": [
        "v5"
      ],
      "metadata": {
        "id": "aoEXE_UlglxS",
        "outputId": "584aa2a1-adaf-4364-fc40-ff23638c1712",
        "colab": {
          "base_uri": "https://localhost:8080/",
          "height": 34
        }
      },
      "execution_count": 32,
      "outputs": [
        {
          "output_type": "display_data",
          "data": {
            "text/html": [
              "<style>\n",
              ".dl-inline {width: auto; margin:0; padding: 0}\n",
              ".dl-inline>dt, .dl-inline>dd {float: none; width: auto; display: inline-block}\n",
              ".dl-inline>dt::after {content: \":\\0020\"; padding-right: .5ex}\n",
              ".dl-inline>dt:not(:first-of-type) {padding-left: .5ex}\n",
              "</style><dl class=dl-inline><dt>entrada_1</dt><dd>50</dd><dt>n2</dt><dd>40</dd><dt>cosa3</dt><dd>100</dd></dl>\n"
            ],
            "text/markdown": "entrada_1\n:   50n2\n:   40cosa3\n:   100\n\n",
            "text/latex": "\\begin{description*}\n\\item[entrada\\textbackslash{}\\_1] 50\n\\item[n2] 40\n\\item[cosa3] 100\n\\end{description*}\n",
            "text/plain": [
              "entrada_1        n2     cosa3 \n",
              "       50        40       100 "
            ]
          },
          "metadata": {}
        }
      ]
    },
    {
      "cell_type": "code",
      "metadata": {
        "id": "XIuQSfvKIgvV",
        "outputId": "437df6da-29c0-45e6-8d32-735bbf491193",
        "colab": {
          "base_uri": "https://localhost:8080/",
          "height": 34
        }
      },
      "source": [
        "# podemos acceder a los elmentos mediante el nombre\n",
        "v5[\"cosa3\"]"
      ],
      "execution_count": 33,
      "outputs": [
        {
          "output_type": "display_data",
          "data": {
            "text/html": [
              "<strong>cosa3:</strong> 100"
            ],
            "text/markdown": "**cosa3:** 100",
            "text/latex": "\\textbf{cosa3:} 100",
            "text/plain": [
              "cosa3 \n",
              "  100 "
            ]
          },
          "metadata": {}
        }
      ]
    },
    {
      "cell_type": "code",
      "source": [
        "v5[c(\"cosa3\", \"entrada_1\")]"
      ],
      "metadata": {
        "id": "wP1lI2PNgtp5",
        "outputId": "267dde95-b0ff-4d5e-e31f-4d46efd26a5b",
        "colab": {
          "base_uri": "https://localhost:8080/",
          "height": 34
        }
      },
      "execution_count": 34,
      "outputs": [
        {
          "output_type": "display_data",
          "data": {
            "text/html": [
              "<style>\n",
              ".dl-inline {width: auto; margin:0; padding: 0}\n",
              ".dl-inline>dt, .dl-inline>dd {float: none; width: auto; display: inline-block}\n",
              ".dl-inline>dt::after {content: \":\\0020\"; padding-right: .5ex}\n",
              ".dl-inline>dt:not(:first-of-type) {padding-left: .5ex}\n",
              "</style><dl class=dl-inline><dt>cosa3</dt><dd>100</dd><dt>entrada_1</dt><dd>50</dd></dl>\n"
            ],
            "text/markdown": "cosa3\n:   100entrada_1\n:   50\n\n",
            "text/latex": "\\begin{description*}\n\\item[cosa3] 100\n\\item[entrada\\textbackslash{}\\_1] 50\n\\end{description*}\n",
            "text/plain": [
              "    cosa3 entrada_1 \n",
              "      100        50 "
            ]
          },
          "metadata": {}
        }
      ]
    },
    {
      "cell_type": "code",
      "metadata": {
        "id": "IHjnaSSyIgvX"
      },
      "source": [
        "# cambiar una entrada de un vector o cambiar un nombre\n",
        "# Quiero cambiar el elemento de pos 6 por un 99.\n",
        "v1[6] <- 99"
      ],
      "execution_count": 37,
      "outputs": []
    },
    {
      "cell_type": "code",
      "metadata": {
        "id": "KCKDbYtRIgvZ",
        "outputId": "e791e378-517a-442e-d416-df26b77fa26c",
        "colab": {
          "base_uri": "https://localhost:8080/",
          "height": 34
        }
      },
      "source": [
        "v1"
      ],
      "execution_count": 38,
      "outputs": [
        {
          "output_type": "display_data",
          "data": {
            "text/html": [
              "<style>\n",
              ".list-inline {list-style: none; margin:0; padding: 0}\n",
              ".list-inline>li {display: inline-block}\n",
              ".list-inline>li:not(:last-child)::after {content: \"\\00b7\"; padding: 0 .5ex}\n",
              "</style>\n",
              "<ol class=list-inline><li>1</li><li>1</li><li>2</li><li>3</li><li>5</li><li>99</li></ol>\n"
            ],
            "text/markdown": "1. 1\n2. 1\n3. 2\n4. 3\n5. 5\n6. 99\n\n\n",
            "text/latex": "\\begin{enumerate*}\n\\item 1\n\\item 1\n\\item 2\n\\item 3\n\\item 5\n\\item 99\n\\end{enumerate*}\n",
            "text/plain": [
              "[1]  1  1  2  3  5 99"
            ]
          },
          "metadata": {}
        }
      ]
    },
    {
      "cell_type": "code",
      "metadata": {
        "id": "cVzhj4ASIgvb",
        "outputId": "2ef8069f-20a3-4569-e6f2-003d20070f8d",
        "colab": {
          "base_uri": "https://localhost:8080/",
          "height": 34
        }
      },
      "source": [
        "# podemos cambiar uno de los nombres (ej, queremos cambiar el segundo nombre de v5, por \"second_el\")\n",
        "v5"
      ],
      "execution_count": 41,
      "outputs": [
        {
          "output_type": "display_data",
          "data": {
            "text/html": [
              "<style>\n",
              ".dl-inline {width: auto; margin:0; padding: 0}\n",
              ".dl-inline>dt, .dl-inline>dd {float: none; width: auto; display: inline-block}\n",
              ".dl-inline>dt::after {content: \":\\0020\"; padding-right: .5ex}\n",
              ".dl-inline>dt:not(:first-of-type) {padding-left: .5ex}\n",
              "</style><dl class=dl-inline><dt>entrada_1</dt><dd>50</dd><dt>n2</dt><dd>40</dd><dt>cosa3</dt><dd>100</dd></dl>\n"
            ],
            "text/markdown": "entrada_1\n:   50n2\n:   40cosa3\n:   100\n\n",
            "text/latex": "\\begin{description*}\n\\item[entrada\\textbackslash{}\\_1] 50\n\\item[n2] 40\n\\item[cosa3] 100\n\\end{description*}\n",
            "text/plain": [
              "entrada_1        n2     cosa3 \n",
              "       50        40       100 "
            ]
          },
          "metadata": {}
        }
      ]
    },
    {
      "cell_type": "code",
      "source": [
        "names(v5)[2] <- \"second_el\""
      ],
      "metadata": {
        "id": "ikfJD7MDhY5L"
      },
      "execution_count": 44,
      "outputs": []
    },
    {
      "cell_type": "code",
      "source": [
        "v5"
      ],
      "metadata": {
        "id": "Awsa-XoKh5CP",
        "outputId": "dca427ac-3c8f-46a6-cdf4-f2353666ef28",
        "colab": {
          "base_uri": "https://localhost:8080/",
          "height": 34
        }
      },
      "execution_count": 48,
      "outputs": [
        {
          "output_type": "display_data",
          "data": {
            "text/html": [
              "<style>\n",
              ".dl-inline {width: auto; margin:0; padding: 0}\n",
              ".dl-inline>dt, .dl-inline>dd {float: none; width: auto; display: inline-block}\n",
              ".dl-inline>dt::after {content: \":\\0020\"; padding-right: .5ex}\n",
              ".dl-inline>dt:not(:first-of-type) {padding-left: .5ex}\n",
              "</style><dl class=dl-inline><dt>entrada_1</dt><dd>50</dd><dt>second_el</dt><dd>40</dd><dt>cosa3</dt><dd>100</dd></dl>\n"
            ],
            "text/markdown": "entrada_1\n:   50second_el\n:   40cosa3\n:   100\n\n",
            "text/latex": "\\begin{description*}\n\\item[entrada\\textbackslash{}\\_1] 50\n\\item[second\\textbackslash{}\\_el] 40\n\\item[cosa3] 100\n\\end{description*}\n",
            "text/plain": [
              "entrada_1 second_el     cosa3 \n",
              "       50        40       100 "
            ]
          },
          "metadata": {}
        }
      ]
    },
    {
      "cell_type": "code",
      "source": [
        "v6"
      ],
      "metadata": {
        "id": "bb9HZDOkiL0Y",
        "outputId": "a82a033b-a019-4539-c656-7f25ae78bcdb",
        "colab": {
          "base_uri": "https://localhost:8080/",
          "height": 34
        }
      },
      "execution_count": 46,
      "outputs": [
        {
          "output_type": "display_data",
          "data": {
            "text/html": [
              "<style>\n",
              ".dl-inline {width: auto; margin:0; padding: 0}\n",
              ".dl-inline>dt, .dl-inline>dd {float: none; width: auto; display: inline-block}\n",
              ".dl-inline>dt::after {content: \":\\0020\"; padding-right: .5ex}\n",
              ".dl-inline>dt:not(:first-of-type) {padding-left: .5ex}\n",
              "</style><dl class=dl-inline><dt>nombre1</dt><dd>60</dd><dt>nombre2</dt><dd>70</dd><dt>entrada_1</dt><dd>50</dd><dt>n2</dt><dd>40</dd><dt>cosa3</dt><dd>100</dd></dl>\n"
            ],
            "text/markdown": "nombre1\n:   60nombre2\n:   70entrada_1\n:   50n2\n:   40cosa3\n:   100\n\n",
            "text/latex": "\\begin{description*}\n\\item[nombre1] 60\n\\item[nombre2] 70\n\\item[entrada\\textbackslash{}\\_1] 50\n\\item[n2] 40\n\\item[cosa3] 100\n\\end{description*}\n",
            "text/plain": [
              "  nombre1   nombre2 entrada_1        n2     cosa3 \n",
              "       60        70        50        40       100 "
            ]
          },
          "metadata": {}
        }
      ]
    },
    {
      "cell_type": "code",
      "metadata": {
        "id": "b6oqx_D4Igvd"
      },
      "source": [
        "# podemos modificar varias posiciones a la vez\n",
        "# Ej: cambiar el segundo y cuarto elemento de v6 por -88 y -99 respectivamente\n",
        "\n",
        "v6[c(2,4)] <- c(-88,-99)\n"
      ],
      "execution_count": 50,
      "outputs": []
    },
    {
      "cell_type": "code",
      "source": [
        "v6"
      ],
      "metadata": {
        "id": "pUjMxdHFi4JD",
        "outputId": "b1fa5264-c206-401d-c610-c7908f23d934",
        "colab": {
          "base_uri": "https://localhost:8080/",
          "height": 34
        }
      },
      "execution_count": 51,
      "outputs": [
        {
          "output_type": "display_data",
          "data": {
            "text/html": [
              "<style>\n",
              ".dl-inline {width: auto; margin:0; padding: 0}\n",
              ".dl-inline>dt, .dl-inline>dd {float: none; width: auto; display: inline-block}\n",
              ".dl-inline>dt::after {content: \":\\0020\"; padding-right: .5ex}\n",
              ".dl-inline>dt:not(:first-of-type) {padding-left: .5ex}\n",
              "</style><dl class=dl-inline><dt>nombre1</dt><dd>60</dd><dt>nombre2</dt><dd>-88</dd><dt>entrada_1</dt><dd>50</dd><dt>n2</dt><dd>-99</dd><dt>cosa3</dt><dd>100</dd></dl>\n"
            ],
            "text/markdown": "nombre1\n:   60nombre2\n:   -88entrada_1\n:   50n2\n:   -99cosa3\n:   100\n\n",
            "text/latex": "\\begin{description*}\n\\item[nombre1] 60\n\\item[nombre2] -88\n\\item[entrada\\textbackslash{}\\_1] 50\n\\item[n2] -99\n\\item[cosa3] 100\n\\end{description*}\n",
            "text/plain": [
              "  nombre1   nombre2 entrada_1        n2     cosa3 \n",
              "       60       -88        50       -99       100 "
            ]
          },
          "metadata": {}
        }
      ]
    },
    {
      "cell_type": "markdown",
      "metadata": {
        "id": "XzyIBLZxIgvg"
      },
      "source": [
        "**Algunas sentencias de utilidad**\n",
        "\n",
        "También es posible acceder a los alementos de un vector mediante sentencias lógicas que retornen \"TRUE\" en la posición deseada. Para ello algunas funciones que son de utilidad son las siguientes.\n",
        "\n",
        "   **Conectores lógicos**\n",
        "\n",
        "    &, && |                  : conector y\n",
        "    |,||                     : conector o\n",
        "    ==                       : igual\n",
        "    !                        : negación\n",
        "    !=                       : distinto\n",
        "    >, >=                    : mayor que, mayor o igual que\n",
        "    <,<=                     : menor que, menor o igual que\n",
        "    is.na()                  : es NA?\n",
        "    which()                  : en qué posición es verdadera la expresión evaluada?\n",
        "    which.min(), which.max() : en qué posición se alcanza el mínimi/máximo\n",
        "    %in%                     : los elementos están en?\n",
        "    \n",
        "    "
      ]
    },
    {
      "cell_type": "code",
      "metadata": {
        "id": "NhZPJo56Igvh"
      },
      "source": [
        "# para acceder a elementos de un vector tenemos:\n",
        "# 1. por posicion\n",
        "# 2. por nombre\n",
        "# 3. por indicatrices lógicas (un vector con TRUE (T) o FALSE (F) del mismo largo del que quiero consultar)\n",
        "\n",
        "\n",
        "\n",
        "\n"
      ],
      "execution_count": null,
      "outputs": []
    },
    {
      "cell_type": "code",
      "metadata": {
        "id": "5C4hDsvSIgvj"
      },
      "source": [
        "# Esto facilita la búsqueda dentro de un un vector. Ej: retornar los elementos mayores aun valor dado\n"
      ],
      "execution_count": null,
      "outputs": []
    },
    {
      "cell_type": "code",
      "metadata": {
        "id": "bj-wjeddIgvl"
      },
      "source": [
        "# con esta idea en mente podríamos, por ejemplo, rescatar las edades con valor mayor o igual a 18 años\n"
      ],
      "execution_count": null,
      "outputs": []
    },
    {
      "cell_type": "code",
      "metadata": {
        "id": "fvq5tBXVIgvm"
      },
      "source": [
        "# podríamos guardar el vector de T o F's en una variable para luego referenciarla\n",
        "\n"
      ],
      "execution_count": null,
      "outputs": []
    },
    {
      "cell_type": "code",
      "metadata": {
        "id": "ioUJy8UEIgvz"
      },
      "source": [
        "#?which.max\n",
        "#podemos rescatar el valor mediante el índice guardado\n",
        "\n"
      ],
      "execution_count": null,
      "outputs": []
    },
    {
      "cell_type": "code",
      "metadata": {
        "id": "_8-SMxfWIgv0"
      },
      "source": [
        "# Operador %in%\n",
        "# vector_a %in% vector_b (qué elementos del vector a están en el vector b)\n",
        "# retorna un  vector de TRUE's y FALSE's del largo del primer vector(a) (izquierda)\n"
      ],
      "execution_count": null,
      "outputs": []
    },
    {
      "cell_type": "code",
      "metadata": {
        "id": "s9bYOQ4GIgv2"
      },
      "source": [
        "# podemos utilizar la función all() para evaluar si todos los elementos de un vector son TRUE.\n"
      ],
      "execution_count": null,
      "outputs": []
    },
    {
      "cell_type": "code",
      "metadata": {
        "id": "Wd-mSv3PIgv4"
      },
      "source": [
        "# si quisiéramos evaluar que todos los elementos de la izq. estén en la derecha,\n",
        "# podemos utilizar la función all()."
      ],
      "execution_count": null,
      "outputs": []
    },
    {
      "cell_type": "code",
      "metadata": {
        "id": "Zn85mjGmIgv5"
      },
      "source": [],
      "execution_count": null,
      "outputs": []
    },
    {
      "cell_type": "code",
      "metadata": {
        "id": "1YGnzt1zIgv7"
      },
      "source": [
        "# aritmética con vectores\n",
        "# operación de vectore de igual largo\n"
      ],
      "execution_count": null,
      "outputs": []
    },
    {
      "cell_type": "code",
      "metadata": {
        "id": "Bw8lX76XIgv8"
      },
      "source": [
        "#ponderaciones por escalares\n"
      ],
      "execution_count": null,
      "outputs": []
    },
    {
      "cell_type": "code",
      "metadata": {
        "id": "syufc9_OIgv_"
      },
      "source": [
        "#CUIDADO: Si se operan vectores de dstinto largo se reciclan los valores del vector más pequeño\n"
      ],
      "execution_count": null,
      "outputs": []
    },
    {
      "cell_type": "code",
      "metadata": {
        "id": "9kfbx6J4IgwC"
      },
      "source": [
        "# NOTA:\n",
        "# podemos determinar el largo de un vector mediante la función length()\n"
      ],
      "execution_count": null,
      "outputs": []
    },
    {
      "cell_type": "markdown",
      "metadata": {
        "id": "LIr-IFowIgwD"
      },
      "source": [
        "**Secuencias**\n",
        "\n",
        "En R es posible generar de manera rápida y sencilla algunas secuencias numéricas y almacenarlas en un vector.\n",
        "\n",
        "Ejemplo de estas funciones son :\n",
        "\n",
        "    rep()\n",
        "    seq()\n",
        "    \n",
        "Más adelante veremos como generar números aleatorios siguiendo alguna función de distribución de interés.\n",
        "\n"
      ]
    },
    {
      "cell_type": "code",
      "metadata": {
        "id": "wk0fB_gWIgwE"
      },
      "source": [
        "# a vimos que fácilmente ppodemos generar vectores de enteros consecutivos vía \":\"\n"
      ],
      "execution_count": null,
      "outputs": []
    },
    {
      "cell_type": "code",
      "metadata": {
        "id": "rG-Q3PmhIgwG"
      },
      "source": [
        "# Ejemplo de secuencia con rep (utilice distintos tipos de datos)\n"
      ],
      "execution_count": null,
      "outputs": []
    },
    {
      "cell_type": "code",
      "metadata": {
        "id": "PpEgoWDXIgwI"
      },
      "source": [
        "# podemos controlar el largo del vector resultante con el parámetro length.out\n"
      ],
      "execution_count": null,
      "outputs": []
    },
    {
      "cell_type": "code",
      "metadata": {
        "id": "gGkgGylnIgwK"
      },
      "source": [
        "# ejemplo de función seq (utilice argumento by, y otro ejemplo con argumento length.out)\n"
      ],
      "execution_count": null,
      "outputs": []
    },
    {
      "cell_type": "code",
      "metadata": {
        "id": "psRswQHBIgwO"
      },
      "source": [
        "# ejemplo de vector aleatorio siguiendo una determinada distribución\n",
        "\n",
        "# distribución uniforme\n",
        "# distribución normal\n",
        "\n",
        "\n",
        "\n",
        "\n",
        "\n"
      ],
      "execution_count": null,
      "outputs": []
    },
    {
      "cell_type": "markdown",
      "metadata": {
        "id": "TlnEINwUIgwP"
      },
      "source": [
        "### 3.2 Funciones (primera parte)\n",
        "\n",
        "#### 3.2.1 Funciones vectorizadas y operaciones con vectores\n",
        "\n",
        "R es un lenguaje funcional, en el sentido de que prácticamente cada llamada a R corresponde a una función que puede (o no) recibir argumentos de entrada.\n",
        "Una de las ventajas es que existe una amplia, muy amplia,... verdaderamente amplia!, variedad de funciones disponibles, tanto en las librerías que vienen con la instalación por defecto como las librerías disponibles en CRAN o en toda la comunidad R.\n",
        "\n",
        "En R, una función $f$ se dice vectorizada si dado un vector $\\mathbf{x}=(x_1,x_2,\\dots,x_n)$, se tiene que $f(\\mathbf{x})=(f(x_1),f(x_2),\\dots,f(x_n))$.\n",
        "Esto hace que, por ejemplo, la aritmética de vectores se más sencilla de implentar y con un menor tiempo de cómputo . Gran parte de las funciones disponibles en la librerías (bibliotecas o *packages*) de R corresponden a funciones vectorizadas.\n",
        "A modo de ejemplo, a cotinuación se muestran algunas funciones (de las más básicas) aritméticas, y funciones para trabajar con texto:\n",
        "    \n",
        "    +,-,*,/\n",
        "    abs()\n",
        "    sqrt()\n",
        "    cos()\n",
        "    sin()\n",
        "    tan()\n",
        "    nchar()\n",
        "    susbtr()\n",
        "    grepl()\n",
        "    gsub()\n",
        "    \n",
        "   \n",
        "   \n",
        "   "
      ]
    },
    {
      "cell_type": "code",
      "metadata": {
        "id": "tO3oB1bnIgwP"
      },
      "source": [
        "# 3.2. Funciones (primera parte) ------------\n",
        "# 3.2.1 Funciones vectorizadas\n",
        "# Ejemplos básicos de funciones(vectorizadas)\n"
      ],
      "execution_count": null,
      "outputs": []
    },
    {
      "cell_type": "code",
      "metadata": {
        "id": "Z8L-KeGnIgwS"
      },
      "source": [],
      "execution_count": null,
      "outputs": []
    },
    {
      "cell_type": "code",
      "metadata": {
        "id": "NivskO3jIgwT"
      },
      "source": [
        "# funciones para manipular texto\n",
        " #cantidad de caracteres\n",
        "\n",
        "\n"
      ],
      "execution_count": null,
      "outputs": []
    },
    {
      "cell_type": "code",
      "metadata": {
        "id": "tA55foL1IgwX"
      },
      "source": [
        "# substring substr()\n",
        "\n"
      ],
      "execution_count": null,
      "outputs": []
    },
    {
      "cell_type": "code",
      "metadata": {
        "id": "vjRwdUbiIgwY"
      },
      "source": [
        "# grepl() evlaúa si un  caracter está contenido en otro. (LIKE)\n",
        "#?grepl()\n",
        "grepl(\"ala\", \"palabra\")\n",
        "grepl(\"alo\", \"palabra\")\n",
        "\n",
        "\n",
        "#gsub() reemblaza un substring por otro\n",
        "#?gsub\n",
        "\n",
        "# si reemplazamos en un vector de palabras\n",
        "\n"
      ],
      "execution_count": null,
      "outputs": []
    },
    {
      "cell_type": "code",
      "metadata": {
        "id": "0j9kKUbzIgwZ"
      },
      "source": [
        "#gsub() reemplaza caracteres dentro de un texto\n",
        "#https://www.tidytextmining.com/\n"
      ],
      "execution_count": null,
      "outputs": []
    }
  ]
}