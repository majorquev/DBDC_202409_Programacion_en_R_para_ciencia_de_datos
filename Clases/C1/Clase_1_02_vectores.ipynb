{
  "nbformat": 4,
  "nbformat_minor": 0,
  "metadata": {
    "colab": {
      "provenance": [],
      "include_colab_link": true
    },
    "kernelspec": {
      "name": "ir",
      "display_name": "R"
    }
  },
  "cells": [
    {
      "cell_type": "markdown",
      "metadata": {
        "id": "view-in-github",
        "colab_type": "text"
      },
      "source": [
        "<a href=\"https://colab.research.google.com/github/majorquev/DBDC_202409_Programacion_en_R_para_ciencia_de_datos/blob/main/Clases/C1/Clase_1_02_vectores.ipynb\" target=\"_parent\"><img src=\"https://colab.research.google.com/assets/colab-badge.svg\" alt=\"Open In Colab\"/></a>"
      ]
    },
    {
      "cell_type": "markdown",
      "metadata": {
        "collapsed": true,
        "id": "Yb2RXjL2Igun"
      },
      "source": [
        "# Parte 1: Introducción a R (continuación)\n",
        "\n",
        "**Autor:** Miguel Jorquera Viguera<br>\n",
        "**E-mail:** majorquev@gmail.com<br>\n",
        "**Ayudante:** Rodrigo Morales <br>\n",
        "**E-mail ayudante:** rumorale1@gmail.com\n",
        "\n"
      ]
    },
    {
      "cell_type": "markdown",
      "metadata": {
        "id": "d_bHZs66Iguo"
      },
      "source": [
        "## 3. Vectores y matrices\n",
        "\n",
        "### 3.1 Vectores\n",
        "\n",
        "En R, así como en la mayoría de los lenguajes de programación, uno de los objetos más usuales para almacenar información son los vectores, los que corresponden a arreglos unidimensionales que almacenan un mismo tipo de dato en cada una de sus entradas.\n",
        "\n",
        "Todo vector en R se puede declarar con la letra \"c\" seguido de los elementos que lo componen entre paréntesis y separados por comas."
      ]
    },
    {
      "cell_type": "code",
      "metadata": {
        "id": "ljQ0JcsTIgup"
      },
      "source": [
        "# Declaración de dos vectores\n",
        "v1 <- c(1,1,2,3,5,8)\n",
        "v2 <- c(60,70)\n",
        "v3 <- c(\"hola\", \"soy\", \"miguel\")\n",
        "v4 <- c(T, TRUE, FALSE, F) # NOTA para R TRUE/FALSE es los mismo que T/F\n",
        "v5 <- c(entrada_1 = 50, n2 = 40, cosa3 = 100)"
      ],
      "execution_count": 1,
      "outputs": []
    },
    {
      "cell_type": "code",
      "source": [
        "v1\n",
        "v3"
      ],
      "metadata": {
        "id": "DO-wxh5FcH3q",
        "outputId": "a7bddf1d-be89-44a9-fd4e-6fd0cd1da9b5",
        "colab": {
          "base_uri": "https://localhost:8080/",
          "height": 52
        }
      },
      "execution_count": null,
      "outputs": [
        {
          "output_type": "display_data",
          "data": {
            "text/html": [
              "<style>\n",
              ".list-inline {list-style: none; margin:0; padding: 0}\n",
              ".list-inline>li {display: inline-block}\n",
              ".list-inline>li:not(:last-child)::after {content: \"\\00b7\"; padding: 0 .5ex}\n",
              "</style>\n",
              "<ol class=list-inline><li>1</li><li>1</li><li>2</li><li>3</li><li>5</li><li>8</li></ol>\n"
            ],
            "text/markdown": "1. 1\n2. 1\n3. 2\n4. 3\n5. 5\n6. 8\n\n\n",
            "text/latex": "\\begin{enumerate*}\n\\item 1\n\\item 1\n\\item 2\n\\item 3\n\\item 5\n\\item 8\n\\end{enumerate*}\n",
            "text/plain": [
              "[1] 1 1 2 3 5 8"
            ]
          },
          "metadata": {}
        },
        {
          "output_type": "display_data",
          "data": {
            "text/html": [
              "<style>\n",
              ".list-inline {list-style: none; margin:0; padding: 0}\n",
              ".list-inline>li {display: inline-block}\n",
              ".list-inline>li:not(:last-child)::after {content: \"\\00b7\"; padding: 0 .5ex}\n",
              "</style>\n",
              "<ol class=list-inline><li>'hola'</li><li>'soy'</li><li>'miguel'</li></ol>\n"
            ],
            "text/markdown": "1. 'hola'\n2. 'soy'\n3. 'miguel'\n\n\n",
            "text/latex": "\\begin{enumerate*}\n\\item 'hola'\n\\item 'soy'\n\\item 'miguel'\n\\end{enumerate*}\n",
            "text/plain": [
              "[1] \"hola\"   \"soy\"    \"miguel\""
            ]
          },
          "metadata": {}
        }
      ]
    },
    {
      "cell_type": "code",
      "metadata": {
        "id": "GxHhDdS4Iguy",
        "outputId": "7bf1e877-f8ac-4338-d7d1-3045cb79af89",
        "colab": {
          "base_uri": "https://localhost:8080/",
          "height": 86
        }
      },
      "source": [
        "# clase y tipo de dato\n",
        "typeof(v1)\n",
        "typeof(v3)\n",
        "\n",
        "class(v1)\n",
        "class(v3)"
      ],
      "execution_count": null,
      "outputs": [
        {
          "output_type": "display_data",
          "data": {
            "text/html": [
              "'double'"
            ],
            "text/markdown": "'double'",
            "text/latex": "'double'",
            "text/plain": [
              "[1] \"double\""
            ]
          },
          "metadata": {}
        },
        {
          "output_type": "display_data",
          "data": {
            "text/html": [
              "'character'"
            ],
            "text/markdown": "'character'",
            "text/latex": "'character'",
            "text/plain": [
              "[1] \"character\""
            ]
          },
          "metadata": {}
        },
        {
          "output_type": "display_data",
          "data": {
            "text/html": [
              "'numeric'"
            ],
            "text/markdown": "'numeric'",
            "text/latex": "'numeric'",
            "text/plain": [
              "[1] \"numeric\""
            ]
          },
          "metadata": {}
        },
        {
          "output_type": "display_data",
          "data": {
            "text/html": [
              "'character'"
            ],
            "text/markdown": "'character'",
            "text/latex": "'character'",
            "text/plain": [
              "[1] \"character\""
            ]
          },
          "metadata": {}
        }
      ]
    },
    {
      "cell_type": "code",
      "source": [
        "v5"
      ],
      "metadata": {
        "id": "Rz3CmSirdSMd",
        "outputId": "73c16389-9dfb-4f52-c1f3-65a34cd9fe04",
        "colab": {
          "base_uri": "https://localhost:8080/",
          "height": 34
        }
      },
      "execution_count": null,
      "outputs": [
        {
          "output_type": "display_data",
          "data": {
            "text/html": [
              "<style>\n",
              ".dl-inline {width: auto; margin:0; padding: 0}\n",
              ".dl-inline>dt, .dl-inline>dd {float: none; width: auto; display: inline-block}\n",
              ".dl-inline>dt::after {content: \":\\0020\"; padding-right: .5ex}\n",
              ".dl-inline>dt:not(:first-of-type) {padding-left: .5ex}\n",
              "</style><dl class=dl-inline><dt>entrada_1</dt><dd>50</dd><dt>n2</dt><dd>40</dd><dt>cosa3</dt><dd>100</dd></dl>\n"
            ],
            "text/markdown": "entrada_1\n:   50n2\n:   40cosa3\n:   100\n\n",
            "text/latex": "\\begin{description*}\n\\item[entrada\\textbackslash{}\\_1] 50\n\\item[n2] 40\n\\item[cosa3] 100\n\\end{description*}\n",
            "text/plain": [
              "entrada_1        n2     cosa3 \n",
              "       50        40       100 "
            ]
          },
          "metadata": {}
        }
      ]
    },
    {
      "cell_type": "code",
      "metadata": {
        "id": "R88mjniaIgu_",
        "outputId": "70a4aefa-6d7b-4add-9c3c-3c99742d28d5",
        "colab": {
          "base_uri": "https://localhost:8080/",
          "height": 34
        }
      },
      "source": [
        "# Nombres de las entradas de un vector\n",
        "\n",
        "names(v5)"
      ],
      "execution_count": null,
      "outputs": [
        {
          "output_type": "display_data",
          "data": {
            "text/html": [
              "<style>\n",
              ".list-inline {list-style: none; margin:0; padding: 0}\n",
              ".list-inline>li {display: inline-block}\n",
              ".list-inline>li:not(:last-child)::after {content: \"\\00b7\"; padding: 0 .5ex}\n",
              "</style>\n",
              "<ol class=list-inline><li>'entrada_1'</li><li>'n2'</li><li>'cosa3'</li></ol>\n"
            ],
            "text/markdown": "1. 'entrada_1'\n2. 'n2'\n3. 'cosa3'\n\n\n",
            "text/latex": "\\begin{enumerate*}\n\\item 'entrada\\_1'\n\\item 'n2'\n\\item 'cosa3'\n\\end{enumerate*}\n",
            "text/plain": [
              "[1] \"entrada_1\" \"n2\"        \"cosa3\"    "
            ]
          },
          "metadata": {}
        }
      ]
    },
    {
      "cell_type": "code",
      "source": [],
      "metadata": {
        "id": "0AxHMWgSc-3x",
        "outputId": "c0ab7235-5e7a-4fcd-96ae-a0b1eb1d0e63",
        "colab": {
          "base_uri": "https://localhost:8080/",
          "height": 34
        }
      },
      "execution_count": null,
      "outputs": [
        {
          "output_type": "display_data",
          "data": {
            "text/html": [
              "TRUE"
            ],
            "text/markdown": "TRUE",
            "text/latex": "TRUE",
            "text/plain": [
              "[1] TRUE"
            ]
          },
          "metadata": {}
        }
      ]
    },
    {
      "cell_type": "code",
      "metadata": {
        "id": "OAhPpN3vIgvB",
        "outputId": "61afe7b4-f5a9-4726-ed67-108572b1567b",
        "colab": {
          "base_uri": "https://localhost:8080/",
          "height": 34
        }
      },
      "source": [
        "# podemos asignar los nombres a vector 1\n",
        "# nombres de las entradas con la función, names()\n",
        "names(v2)"
      ],
      "execution_count": null,
      "outputs": [
        {
          "output_type": "display_data",
          "data": {
            "text/plain": [
              "NULL"
            ]
          },
          "metadata": {}
        }
      ]
    },
    {
      "cell_type": "code",
      "source": [
        "names(v2) <- c(\"nombre1\",\"nombre2\")"
      ],
      "metadata": {
        "id": "mJn0Chp_d9eK"
      },
      "execution_count": null,
      "outputs": []
    },
    {
      "cell_type": "code",
      "source": [
        "v2"
      ],
      "metadata": {
        "id": "5FxPyNUgeR_e",
        "outputId": "62214082-3262-42ef-deaa-eaa83e03c67a",
        "colab": {
          "base_uri": "https://localhost:8080/",
          "height": 34
        }
      },
      "execution_count": null,
      "outputs": [
        {
          "output_type": "display_data",
          "data": {
            "text/html": [
              "<style>\n",
              ".dl-inline {width: auto; margin:0; padding: 0}\n",
              ".dl-inline>dt, .dl-inline>dd {float: none; width: auto; display: inline-block}\n",
              ".dl-inline>dt::after {content: \":\\0020\"; padding-right: .5ex}\n",
              ".dl-inline>dt:not(:first-of-type) {padding-left: .5ex}\n",
              "</style><dl class=dl-inline><dt>nombre1</dt><dd>60</dd><dt>nombre2</dt><dd>70</dd></dl>\n"
            ],
            "text/markdown": "nombre1\n:   60nombre2\n:   70\n\n",
            "text/latex": "\\begin{description*}\n\\item[nombre1] 60\n\\item[nombre2] 70\n\\end{description*}\n",
            "text/plain": [
              "nombre1 nombre2 \n",
              "     60      70 "
            ]
          },
          "metadata": {}
        }
      ]
    },
    {
      "cell_type": "code",
      "source": [
        "names(v2)"
      ],
      "metadata": {
        "id": "IR3nN3k_eWip",
        "outputId": "eb7c3e68-55f3-4c1a-f9ff-adb03b3b9a03",
        "colab": {
          "base_uri": "https://localhost:8080/",
          "height": 34
        }
      },
      "execution_count": null,
      "outputs": [
        {
          "output_type": "display_data",
          "data": {
            "text/html": [
              "<style>\n",
              ".list-inline {list-style: none; margin:0; padding: 0}\n",
              ".list-inline>li {display: inline-block}\n",
              ".list-inline>li:not(:last-child)::after {content: \"\\00b7\"; padding: 0 .5ex}\n",
              "</style>\n",
              "<ol class=list-inline><li>'nombre1'</li><li>'nombre2'</li></ol>\n"
            ],
            "text/markdown": "1. 'nombre1'\n2. 'nombre2'\n\n\n",
            "text/latex": "\\begin{enumerate*}\n\\item 'nombre1'\n\\item 'nombre2'\n\\end{enumerate*}\n",
            "text/plain": [
              "[1] \"nombre1\" \"nombre2\""
            ]
          },
          "metadata": {}
        }
      ]
    },
    {
      "cell_type": "code",
      "metadata": {
        "id": "7Ayre5BlIgvH",
        "outputId": "c9f2742a-1f44-426d-da33-63708a1c6ba4",
        "colab": {
          "base_uri": "https://localhost:8080/",
          "height": 34
        }
      },
      "source": [
        "#combinar vectores\n",
        "# c : es una abreviación de \"combine\"\n",
        "v6 <- c(v2,v5)\n",
        "v6"
      ],
      "execution_count": null,
      "outputs": [
        {
          "output_type": "display_data",
          "data": {
            "text/html": [
              "<style>\n",
              ".dl-inline {width: auto; margin:0; padding: 0}\n",
              ".dl-inline>dt, .dl-inline>dd {float: none; width: auto; display: inline-block}\n",
              ".dl-inline>dt::after {content: \":\\0020\"; padding-right: .5ex}\n",
              ".dl-inline>dt:not(:first-of-type) {padding-left: .5ex}\n",
              "</style><dl class=dl-inline><dt>nombre1</dt><dd>60</dd><dt>nombre2</dt><dd>70</dd><dt>entrada_1</dt><dd>50</dd><dt>n2</dt><dd>40</dd><dt>cosa3</dt><dd>100</dd></dl>\n"
            ],
            "text/markdown": "nombre1\n:   60nombre2\n:   70entrada_1\n:   50n2\n:   40cosa3\n:   100\n\n",
            "text/latex": "\\begin{description*}\n\\item[nombre1] 60\n\\item[nombre2] 70\n\\item[entrada\\textbackslash{}\\_1] 50\n\\item[n2] 40\n\\item[cosa3] 100\n\\end{description*}\n",
            "text/plain": [
              "  nombre1   nombre2 entrada_1        n2     cosa3 \n",
              "       60        70        50        40       100 "
            ]
          },
          "metadata": {}
        }
      ]
    },
    {
      "cell_type": "code",
      "source": [
        "# Largo de un vector\n",
        "length(v6)"
      ],
      "metadata": {
        "id": "EV4tvDhAe2DD",
        "outputId": "e08b32af-c92d-4870-aa39-7cc0b8c69c7e",
        "colab": {
          "base_uri": "https://localhost:8080/",
          "height": 34
        }
      },
      "execution_count": null,
      "outputs": [
        {
          "output_type": "display_data",
          "data": {
            "text/html": [
              "5"
            ],
            "text/markdown": "5",
            "text/latex": "5",
            "text/plain": [
              "[1] 5"
            ]
          },
          "metadata": {}
        }
      ]
    },
    {
      "cell_type": "markdown",
      "metadata": {
        "id": "MX35j24_IgvN"
      },
      "source": [
        "#### 3.1.1 Acceso a los elementos de un vector\n",
        "\n",
        "El acceso a los elementos de un vector se puede llevar acabo indicando la posición del elemento (los naturales parten en 1!), el nombre de la casilla que lo contiene, o bien mediante sentencias lógicas que retornen \"TRUE\" en la posición deseada.\n",
        "\n"
      ]
    },
    {
      "cell_type": "code",
      "metadata": {
        "id": "zW2_TzKxIgvN",
        "outputId": "35d59b2c-51c6-4858-e88a-8c397f9eb422",
        "colab": {
          "base_uri": "https://localhost:8080/",
          "height": 34
        }
      },
      "source": [
        "# Mediante posición\n",
        "# NOTA: R cuenta los arreglos desde la posición 1. No desde el \"0\" como python.\n",
        "v1"
      ],
      "execution_count": null,
      "outputs": [
        {
          "output_type": "display_data",
          "data": {
            "text/html": [
              "<style>\n",
              ".list-inline {list-style: none; margin:0; padding: 0}\n",
              ".list-inline>li {display: inline-block}\n",
              ".list-inline>li:not(:last-child)::after {content: \"\\00b7\"; padding: 0 .5ex}\n",
              "</style>\n",
              "<ol class=list-inline><li>1</li><li>1</li><li>2</li><li>3</li><li>5</li><li>8</li></ol>\n"
            ],
            "text/markdown": "1. 1\n2. 1\n3. 2\n4. 3\n5. 5\n6. 8\n\n\n",
            "text/latex": "\\begin{enumerate*}\n\\item 1\n\\item 1\n\\item 2\n\\item 3\n\\item 5\n\\item 8\n\\end{enumerate*}\n",
            "text/plain": [
              "[1] 1 1 2 3 5 8"
            ]
          },
          "metadata": {}
        }
      ]
    },
    {
      "cell_type": "code",
      "source": [
        "# Acceder al elemento de posición 4.\n",
        "v1[4]"
      ],
      "metadata": {
        "id": "5yJ_GFF8fS71",
        "outputId": "52f248f1-bd6e-4b91-d251-a60ca90f3aeb",
        "colab": {
          "base_uri": "https://localhost:8080/",
          "height": 34
        }
      },
      "execution_count": null,
      "outputs": [
        {
          "output_type": "display_data",
          "data": {
            "text/html": [
              "3"
            ],
            "text/markdown": "3",
            "text/latex": "3",
            "text/plain": [
              "[1] 3"
            ]
          },
          "metadata": {}
        }
      ]
    },
    {
      "cell_type": "code",
      "metadata": {
        "id": "XWL1ZIyMIgvR",
        "outputId": "6794387d-c08a-41e3-bfad-58f763f5d1ea",
        "colab": {
          "base_uri": "https://localhost:8080/",
          "height": 34
        }
      },
      "source": [
        "# retorna los elementos de las casillas 1 y 4 de v1\n",
        "# En vez de referenciar un número con la posición, refereciamos a un vector con los números de las posiciones\n",
        "\n",
        "v1[c(1,4)]\n"
      ],
      "execution_count": null,
      "outputs": [
        {
          "output_type": "display_data",
          "data": {
            "text/html": [
              "<style>\n",
              ".list-inline {list-style: none; margin:0; padding: 0}\n",
              ".list-inline>li {display: inline-block}\n",
              ".list-inline>li:not(:last-child)::after {content: \"\\00b7\"; padding: 0 .5ex}\n",
              "</style>\n",
              "<ol class=list-inline><li>1</li><li>3</li></ol>\n"
            ],
            "text/markdown": "1. 1\n2. 3\n\n\n",
            "text/latex": "\\begin{enumerate*}\n\\item 1\n\\item 3\n\\end{enumerate*}\n",
            "text/plain": [
              "[1] 1 3"
            ]
          },
          "metadata": {}
        }
      ]
    },
    {
      "cell_type": "code",
      "source": [
        "# NOTA: No aplica para vectores. (NO HACERLO ASI)\n",
        "v1[1,4]"
      ],
      "metadata": {
        "id": "tcIkkmtif9PA",
        "outputId": "6926a7ec-3313-4a75-f470-dec1e2b35b89",
        "colab": {
          "base_uri": "https://localhost:8080/",
          "height": 72
        }
      },
      "execution_count": null,
      "outputs": [
        {
          "output_type": "error",
          "ename": "ERROR",
          "evalue": "Error in v1[1, 4]: incorrect number of dimensions\n",
          "traceback": [
            "Error in v1[1, 4]: incorrect number of dimensions\nTraceback:\n"
          ]
        }
      ]
    },
    {
      "cell_type": "code",
      "metadata": {
        "id": "uBqEKq1aIgvT",
        "outputId": "857f34ab-6af8-4273-ac9b-e829157d463d",
        "colab": {
          "base_uri": "https://localhost:8080/",
          "height": 34
        }
      },
      "source": [
        "#NOTA 3:5, R lo interpreta como c(3,4,5)\n",
        "# En vez de esto: v1[c(3,4,5)]\n",
        "v1[3:5]"
      ],
      "execution_count": null,
      "outputs": [
        {
          "output_type": "display_data",
          "data": {
            "text/html": [
              "<style>\n",
              ".list-inline {list-style: none; margin:0; padding: 0}\n",
              ".list-inline>li {display: inline-block}\n",
              ".list-inline>li:not(:last-child)::after {content: \"\\00b7\"; padding: 0 .5ex}\n",
              "</style>\n",
              "<ol class=list-inline><li>2</li><li>3</li><li>5</li></ol>\n"
            ],
            "text/markdown": "1. 2\n2. 3\n3. 5\n\n\n",
            "text/latex": "\\begin{enumerate*}\n\\item 2\n\\item 3\n\\item 5\n\\end{enumerate*}\n",
            "text/plain": [
              "[1] 2 3 5"
            ]
          },
          "metadata": {}
        }
      ]
    },
    {
      "cell_type": "code",
      "source": [
        "v5"
      ],
      "metadata": {
        "id": "aoEXE_UlglxS",
        "outputId": "584aa2a1-adaf-4364-fc40-ff23638c1712",
        "colab": {
          "base_uri": "https://localhost:8080/",
          "height": 34
        }
      },
      "execution_count": null,
      "outputs": [
        {
          "output_type": "display_data",
          "data": {
            "text/html": [
              "<style>\n",
              ".dl-inline {width: auto; margin:0; padding: 0}\n",
              ".dl-inline>dt, .dl-inline>dd {float: none; width: auto; display: inline-block}\n",
              ".dl-inline>dt::after {content: \":\\0020\"; padding-right: .5ex}\n",
              ".dl-inline>dt:not(:first-of-type) {padding-left: .5ex}\n",
              "</style><dl class=dl-inline><dt>entrada_1</dt><dd>50</dd><dt>n2</dt><dd>40</dd><dt>cosa3</dt><dd>100</dd></dl>\n"
            ],
            "text/markdown": "entrada_1\n:   50n2\n:   40cosa3\n:   100\n\n",
            "text/latex": "\\begin{description*}\n\\item[entrada\\textbackslash{}\\_1] 50\n\\item[n2] 40\n\\item[cosa3] 100\n\\end{description*}\n",
            "text/plain": [
              "entrada_1        n2     cosa3 \n",
              "       50        40       100 "
            ]
          },
          "metadata": {}
        }
      ]
    },
    {
      "cell_type": "code",
      "metadata": {
        "id": "XIuQSfvKIgvV",
        "outputId": "437df6da-29c0-45e6-8d32-735bbf491193",
        "colab": {
          "base_uri": "https://localhost:8080/",
          "height": 34
        }
      },
      "source": [
        "# podemos acceder a los elmentos mediante el nombre\n",
        "v5[\"cosa3\"]"
      ],
      "execution_count": null,
      "outputs": [
        {
          "output_type": "display_data",
          "data": {
            "text/html": [
              "<strong>cosa3:</strong> 100"
            ],
            "text/markdown": "**cosa3:** 100",
            "text/latex": "\\textbf{cosa3:} 100",
            "text/plain": [
              "cosa3 \n",
              "  100 "
            ]
          },
          "metadata": {}
        }
      ]
    },
    {
      "cell_type": "code",
      "source": [
        "v5[c(\"cosa3\", \"entrada_1\")]"
      ],
      "metadata": {
        "id": "wP1lI2PNgtp5",
        "outputId": "267dde95-b0ff-4d5e-e31f-4d46efd26a5b",
        "colab": {
          "base_uri": "https://localhost:8080/",
          "height": 34
        }
      },
      "execution_count": null,
      "outputs": [
        {
          "output_type": "display_data",
          "data": {
            "text/html": [
              "<style>\n",
              ".dl-inline {width: auto; margin:0; padding: 0}\n",
              ".dl-inline>dt, .dl-inline>dd {float: none; width: auto; display: inline-block}\n",
              ".dl-inline>dt::after {content: \":\\0020\"; padding-right: .5ex}\n",
              ".dl-inline>dt:not(:first-of-type) {padding-left: .5ex}\n",
              "</style><dl class=dl-inline><dt>cosa3</dt><dd>100</dd><dt>entrada_1</dt><dd>50</dd></dl>\n"
            ],
            "text/markdown": "cosa3\n:   100entrada_1\n:   50\n\n",
            "text/latex": "\\begin{description*}\n\\item[cosa3] 100\n\\item[entrada\\textbackslash{}\\_1] 50\n\\end{description*}\n",
            "text/plain": [
              "    cosa3 entrada_1 \n",
              "      100        50 "
            ]
          },
          "metadata": {}
        }
      ]
    },
    {
      "cell_type": "code",
      "metadata": {
        "id": "IHjnaSSyIgvX"
      },
      "source": [
        "# cambiar una entrada de un vector o cambiar un nombre\n",
        "# Quiero cambiar el elemento de pos 6 por un 99.\n",
        "v1[6] <- 99"
      ],
      "execution_count": null,
      "outputs": []
    },
    {
      "cell_type": "code",
      "metadata": {
        "id": "KCKDbYtRIgvZ",
        "outputId": "e791e378-517a-442e-d416-df26b77fa26c",
        "colab": {
          "base_uri": "https://localhost:8080/",
          "height": 34
        }
      },
      "source": [
        "v1"
      ],
      "execution_count": null,
      "outputs": [
        {
          "output_type": "display_data",
          "data": {
            "text/html": [
              "<style>\n",
              ".list-inline {list-style: none; margin:0; padding: 0}\n",
              ".list-inline>li {display: inline-block}\n",
              ".list-inline>li:not(:last-child)::after {content: \"\\00b7\"; padding: 0 .5ex}\n",
              "</style>\n",
              "<ol class=list-inline><li>1</li><li>1</li><li>2</li><li>3</li><li>5</li><li>99</li></ol>\n"
            ],
            "text/markdown": "1. 1\n2. 1\n3. 2\n4. 3\n5. 5\n6. 99\n\n\n",
            "text/latex": "\\begin{enumerate*}\n\\item 1\n\\item 1\n\\item 2\n\\item 3\n\\item 5\n\\item 99\n\\end{enumerate*}\n",
            "text/plain": [
              "[1]  1  1  2  3  5 99"
            ]
          },
          "metadata": {}
        }
      ]
    },
    {
      "cell_type": "code",
      "metadata": {
        "id": "cVzhj4ASIgvb",
        "outputId": "2ef8069f-20a3-4569-e6f2-003d20070f8d",
        "colab": {
          "base_uri": "https://localhost:8080/",
          "height": 34
        }
      },
      "source": [
        "# podemos cambiar uno de los nombres (ej, queremos cambiar el segundo nombre de v5, por \"second_el\")\n",
        "v5"
      ],
      "execution_count": null,
      "outputs": [
        {
          "output_type": "display_data",
          "data": {
            "text/html": [
              "<style>\n",
              ".dl-inline {width: auto; margin:0; padding: 0}\n",
              ".dl-inline>dt, .dl-inline>dd {float: none; width: auto; display: inline-block}\n",
              ".dl-inline>dt::after {content: \":\\0020\"; padding-right: .5ex}\n",
              ".dl-inline>dt:not(:first-of-type) {padding-left: .5ex}\n",
              "</style><dl class=dl-inline><dt>entrada_1</dt><dd>50</dd><dt>n2</dt><dd>40</dd><dt>cosa3</dt><dd>100</dd></dl>\n"
            ],
            "text/markdown": "entrada_1\n:   50n2\n:   40cosa3\n:   100\n\n",
            "text/latex": "\\begin{description*}\n\\item[entrada\\textbackslash{}\\_1] 50\n\\item[n2] 40\n\\item[cosa3] 100\n\\end{description*}\n",
            "text/plain": [
              "entrada_1        n2     cosa3 \n",
              "       50        40       100 "
            ]
          },
          "metadata": {}
        }
      ]
    },
    {
      "cell_type": "code",
      "source": [
        "names(v5)[2] <- \"second_el\""
      ],
      "metadata": {
        "id": "ikfJD7MDhY5L"
      },
      "execution_count": null,
      "outputs": []
    },
    {
      "cell_type": "code",
      "source": [
        "v5"
      ],
      "metadata": {
        "id": "Awsa-XoKh5CP",
        "outputId": "dca427ac-3c8f-46a6-cdf4-f2353666ef28",
        "colab": {
          "base_uri": "https://localhost:8080/",
          "height": 34
        }
      },
      "execution_count": null,
      "outputs": [
        {
          "output_type": "display_data",
          "data": {
            "text/html": [
              "<style>\n",
              ".dl-inline {width: auto; margin:0; padding: 0}\n",
              ".dl-inline>dt, .dl-inline>dd {float: none; width: auto; display: inline-block}\n",
              ".dl-inline>dt::after {content: \":\\0020\"; padding-right: .5ex}\n",
              ".dl-inline>dt:not(:first-of-type) {padding-left: .5ex}\n",
              "</style><dl class=dl-inline><dt>entrada_1</dt><dd>50</dd><dt>second_el</dt><dd>40</dd><dt>cosa3</dt><dd>100</dd></dl>\n"
            ],
            "text/markdown": "entrada_1\n:   50second_el\n:   40cosa3\n:   100\n\n",
            "text/latex": "\\begin{description*}\n\\item[entrada\\textbackslash{}\\_1] 50\n\\item[second\\textbackslash{}\\_el] 40\n\\item[cosa3] 100\n\\end{description*}\n",
            "text/plain": [
              "entrada_1 second_el     cosa3 \n",
              "       50        40       100 "
            ]
          },
          "metadata": {}
        }
      ]
    },
    {
      "cell_type": "code",
      "source": [
        "v6"
      ],
      "metadata": {
        "id": "bb9HZDOkiL0Y",
        "outputId": "a82a033b-a019-4539-c656-7f25ae78bcdb",
        "colab": {
          "base_uri": "https://localhost:8080/",
          "height": 34
        }
      },
      "execution_count": null,
      "outputs": [
        {
          "output_type": "display_data",
          "data": {
            "text/html": [
              "<style>\n",
              ".dl-inline {width: auto; margin:0; padding: 0}\n",
              ".dl-inline>dt, .dl-inline>dd {float: none; width: auto; display: inline-block}\n",
              ".dl-inline>dt::after {content: \":\\0020\"; padding-right: .5ex}\n",
              ".dl-inline>dt:not(:first-of-type) {padding-left: .5ex}\n",
              "</style><dl class=dl-inline><dt>nombre1</dt><dd>60</dd><dt>nombre2</dt><dd>70</dd><dt>entrada_1</dt><dd>50</dd><dt>n2</dt><dd>40</dd><dt>cosa3</dt><dd>100</dd></dl>\n"
            ],
            "text/markdown": "nombre1\n:   60nombre2\n:   70entrada_1\n:   50n2\n:   40cosa3\n:   100\n\n",
            "text/latex": "\\begin{description*}\n\\item[nombre1] 60\n\\item[nombre2] 70\n\\item[entrada\\textbackslash{}\\_1] 50\n\\item[n2] 40\n\\item[cosa3] 100\n\\end{description*}\n",
            "text/plain": [
              "  nombre1   nombre2 entrada_1        n2     cosa3 \n",
              "       60        70        50        40       100 "
            ]
          },
          "metadata": {}
        }
      ]
    },
    {
      "cell_type": "code",
      "metadata": {
        "id": "b6oqx_D4Igvd"
      },
      "source": [
        "# podemos modificar varias posiciones a la vez\n",
        "# Ej: cambiar el segundo y cuarto elemento de v6 por -88 y -99 respectivamente\n",
        "\n",
        "v6[c(2,4)] <- c(-88,-99)\n"
      ],
      "execution_count": null,
      "outputs": []
    },
    {
      "cell_type": "code",
      "source": [
        "v6"
      ],
      "metadata": {
        "id": "pUjMxdHFi4JD",
        "outputId": "b1fa5264-c206-401d-c610-c7908f23d934",
        "colab": {
          "base_uri": "https://localhost:8080/",
          "height": 34
        }
      },
      "execution_count": null,
      "outputs": [
        {
          "output_type": "display_data",
          "data": {
            "text/html": [
              "<style>\n",
              ".dl-inline {width: auto; margin:0; padding: 0}\n",
              ".dl-inline>dt, .dl-inline>dd {float: none; width: auto; display: inline-block}\n",
              ".dl-inline>dt::after {content: \":\\0020\"; padding-right: .5ex}\n",
              ".dl-inline>dt:not(:first-of-type) {padding-left: .5ex}\n",
              "</style><dl class=dl-inline><dt>nombre1</dt><dd>60</dd><dt>nombre2</dt><dd>-88</dd><dt>entrada_1</dt><dd>50</dd><dt>n2</dt><dd>-99</dd><dt>cosa3</dt><dd>100</dd></dl>\n"
            ],
            "text/markdown": "nombre1\n:   60nombre2\n:   -88entrada_1\n:   50n2\n:   -99cosa3\n:   100\n\n",
            "text/latex": "\\begin{description*}\n\\item[nombre1] 60\n\\item[nombre2] -88\n\\item[entrada\\textbackslash{}\\_1] 50\n\\item[n2] -99\n\\item[cosa3] 100\n\\end{description*}\n",
            "text/plain": [
              "  nombre1   nombre2 entrada_1        n2     cosa3 \n",
              "       60       -88        50       -99       100 "
            ]
          },
          "metadata": {}
        }
      ]
    },
    {
      "cell_type": "markdown",
      "metadata": {
        "id": "XzyIBLZxIgvg"
      },
      "source": [
        "**Algunas sentencias de utilidad**\n",
        "\n",
        "También es posible acceder a los alementos de un vector mediante sentencias lógicas que retornen \"TRUE\" en la posición deseada. Para ello algunas funciones que son de utilidad son las siguientes.\n",
        "\n",
        "   **Conectores lógicos**\n",
        "\n",
        "    &                        : conector y\n",
        "    |                        : conector o\n",
        "    ==                       : igual\n",
        "    !                        : negación\n",
        "    !=                       : distinto\n",
        "    >, >=                    : mayor que, mayor o igual que\n",
        "    <,<=                     : menor que, menor o igual que\n",
        "    is.na()                  : es NA?\n",
        "    which()                  : en qué posición es verdadera la expresión evaluada?\n",
        "    which.min(), which.max() : en qué posición se alcanza el mínimi/máximo\n",
        "    %in%                     : los elementos están en?\n",
        "    \n",
        "    "
      ]
    },
    {
      "cell_type": "code",
      "source": [
        "v1"
      ],
      "metadata": {
        "id": "jSunDLdY_JSG",
        "outputId": "1e0ddb3c-7051-4726-f058-16fc305de70a",
        "colab": {
          "base_uri": "https://localhost:8080/",
          "height": 34
        }
      },
      "execution_count": 4,
      "outputs": [
        {
          "output_type": "display_data",
          "data": {
            "text/html": [
              "<style>\n",
              ".list-inline {list-style: none; margin:0; padding: 0}\n",
              ".list-inline>li {display: inline-block}\n",
              ".list-inline>li:not(:last-child)::after {content: \"\\00b7\"; padding: 0 .5ex}\n",
              "</style>\n",
              "<ol class=list-inline><li>1</li><li>1</li><li>2</li><li>3</li><li>5</li><li>8</li></ol>\n"
            ],
            "text/markdown": "1. 1\n2. 1\n3. 2\n4. 3\n5. 5\n6. 8\n\n\n",
            "text/latex": "\\begin{enumerate*}\n\\item 1\n\\item 1\n\\item 2\n\\item 3\n\\item 5\n\\item 8\n\\end{enumerate*}\n",
            "text/plain": [
              "[1] 1 1 2 3 5 8"
            ]
          },
          "metadata": {}
        }
      ]
    },
    {
      "cell_type": "code",
      "source": [
        "n <- length(v1)# para despues"
      ],
      "metadata": {
        "id": "80lKo3U7_MfS"
      },
      "execution_count": 6,
      "outputs": []
    },
    {
      "cell_type": "code",
      "metadata": {
        "id": "NhZPJo56Igvh",
        "outputId": "ce6983d4-2c77-47a3-a13c-2fde226c4de6",
        "colab": {
          "base_uri": "https://localhost:8080/",
          "height": 52
        }
      },
      "source": [
        "# para acceder a elementos de un vector tenemos:\n",
        "# 1. por posicion\n",
        "v1[c(3,5)]\n",
        "# 2. por nombre\n",
        "# No aplica ya que nuestras entradas no tienen nombres\n",
        "# 3. por indicatrices lógicas (un vector con TRUE (T) o FALSE (F) del mismo largo del que quiero consultar)\n",
        "v1[c(F,F,T,F,T,F)]\n",
        "\n",
        "\n",
        "\n"
      ],
      "execution_count": 8,
      "outputs": [
        {
          "output_type": "display_data",
          "data": {
            "text/html": [
              "<style>\n",
              ".list-inline {list-style: none; margin:0; padding: 0}\n",
              ".list-inline>li {display: inline-block}\n",
              ".list-inline>li:not(:last-child)::after {content: \"\\00b7\"; padding: 0 .5ex}\n",
              "</style>\n",
              "<ol class=list-inline><li>2</li><li>5</li></ol>\n"
            ],
            "text/markdown": "1. 2\n2. 5\n\n\n",
            "text/latex": "\\begin{enumerate*}\n\\item 2\n\\item 5\n\\end{enumerate*}\n",
            "text/plain": [
              "[1] 2 5"
            ]
          },
          "metadata": {}
        },
        {
          "output_type": "display_data",
          "data": {
            "text/html": [
              "<style>\n",
              ".list-inline {list-style: none; margin:0; padding: 0}\n",
              ".list-inline>li {display: inline-block}\n",
              ".list-inline>li:not(:last-child)::after {content: \"\\00b7\"; padding: 0 .5ex}\n",
              "</style>\n",
              "<ol class=list-inline><li>2</li><li>5</li></ol>\n"
            ],
            "text/markdown": "1. 2\n2. 5\n\n\n",
            "text/latex": "\\begin{enumerate*}\n\\item 2\n\\item 5\n\\end{enumerate*}\n",
            "text/plain": [
              "[1] 2 5"
            ]
          },
          "metadata": {}
        }
      ]
    },
    {
      "cell_type": "code",
      "source": [
        "v1 >= 5"
      ],
      "metadata": {
        "id": "3cLYkybZ_wH5",
        "outputId": "40e3b063-5607-4351-bb1e-2d668cc0c760",
        "colab": {
          "base_uri": "https://localhost:8080/",
          "height": 34
        }
      },
      "execution_count": 10,
      "outputs": [
        {
          "output_type": "display_data",
          "data": {
            "text/html": [
              "<style>\n",
              ".list-inline {list-style: none; margin:0; padding: 0}\n",
              ".list-inline>li {display: inline-block}\n",
              ".list-inline>li:not(:last-child)::after {content: \"\\00b7\"; padding: 0 .5ex}\n",
              "</style>\n",
              "<ol class=list-inline><li>FALSE</li><li>FALSE</li><li>FALSE</li><li>FALSE</li><li>TRUE</li><li>TRUE</li></ol>\n"
            ],
            "text/markdown": "1. FALSE\n2. FALSE\n3. FALSE\n4. FALSE\n5. TRUE\n6. TRUE\n\n\n",
            "text/latex": "\\begin{enumerate*}\n\\item FALSE\n\\item FALSE\n\\item FALSE\n\\item FALSE\n\\item TRUE\n\\item TRUE\n\\end{enumerate*}\n",
            "text/plain": [
              "[1] FALSE FALSE FALSE FALSE  TRUE  TRUE"
            ]
          },
          "metadata": {}
        }
      ]
    },
    {
      "cell_type": "code",
      "metadata": {
        "id": "5C4hDsvSIgvj",
        "outputId": "d0a3b471-a35e-4754-9360-e6fc2d50b999",
        "colab": {
          "base_uri": "https://localhost:8080/",
          "height": 34
        }
      },
      "source": [
        "# Esto facilita la búsqueda dentro de un un vector. Ej: retornar los elementos mayores aun valor dado\n",
        "# Identificar los elementos de v1 que son mayores o iguales a 5\n",
        "v1[v1 >= 5]"
      ],
      "execution_count": 11,
      "outputs": [
        {
          "output_type": "display_data",
          "data": {
            "text/html": [
              "<style>\n",
              ".list-inline {list-style: none; margin:0; padding: 0}\n",
              ".list-inline>li {display: inline-block}\n",
              ".list-inline>li:not(:last-child)::after {content: \"\\00b7\"; padding: 0 .5ex}\n",
              "</style>\n",
              "<ol class=list-inline><li>5</li><li>8</li></ol>\n"
            ],
            "text/markdown": "1. 5\n2. 8\n\n\n",
            "text/latex": "\\begin{enumerate*}\n\\item 5\n\\item 8\n\\end{enumerate*}\n",
            "text/plain": [
              "[1] 5 8"
            ]
          },
          "metadata": {}
        }
      ]
    },
    {
      "cell_type": "code",
      "metadata": {
        "id": "bj-wjeddIgvl"
      },
      "source": [
        "# con esta idea en mente podríamos, por ejemplo, rescatar las edades con una condicion dad\n",
        "edades <- rnorm(500,18,5)"
      ],
      "execution_count": 12,
      "outputs": []
    },
    {
      "cell_type": "code",
      "source": [
        "length(edades)"
      ],
      "metadata": {
        "id": "GeVt1e_aAtPY",
        "outputId": "43411245-b979-4380-894f-51dbe888d086",
        "colab": {
          "base_uri": "https://localhost:8080/",
          "height": 34
        }
      },
      "execution_count": 14,
      "outputs": [
        {
          "output_type": "display_data",
          "data": {
            "text/html": [
              "500"
            ],
            "text/markdown": "500",
            "text/latex": "500",
            "text/plain": [
              "[1] 500"
            ]
          },
          "metadata": {}
        }
      ]
    },
    {
      "cell_type": "code",
      "source": [
        "#los registros de edades, con edad mayor a 30 años o menores a 10\n",
        "\n",
        "edades[edades > 30 | edades < 10]"
      ],
      "metadata": {
        "id": "gz2oFzpQA2T-",
        "outputId": "42c5beb8-d08e-419e-9e97-92b5a93a7484",
        "colab": {
          "base_uri": "https://localhost:8080/",
          "height": 104
        }
      },
      "execution_count": 17,
      "outputs": [
        {
          "output_type": "display_data",
          "data": {
            "text/html": [
              "<style>\n",
              ".list-inline {list-style: none; margin:0; padding: 0}\n",
              ".list-inline>li {display: inline-block}\n",
              ".list-inline>li:not(:last-child)::after {content: \"\\00b7\"; padding: 0 .5ex}\n",
              "</style>\n",
              "<ol class=list-inline><li>8.98261391540085</li><li>7.47641672273068</li><li>7.08280056558205</li><li>5.01643211101118</li><li>8.29360813729666</li><li>7.35234878099516</li><li>30.0880394774416</li><li>9.45059612444361</li><li>7.96696874691997</li><li>32.6588938386234</li><li>5.08440358936864</li><li>7.24544088031808</li><li>8.54785019051676</li><li>7.76588581066357</li><li>7.88597584843774</li><li>31.1809127769047</li><li>5.29105242453031</li><li>8.87838563569253</li><li>9.22470765395984</li><li>6.37378236400874</li><li>9.46780117257006</li><li>8.72604793441274</li><li>6.33593902872804</li><li>9.903160548268</li><li>8.11434921718905</li><li>8.98314142734434</li><li>5.18004109200371</li><li>9.73739510060787</li><li>9.67213619989506</li><li>9.9582902397691</li></ol>\n"
            ],
            "text/markdown": "1. 8.98261391540085\n2. 7.47641672273068\n3. 7.08280056558205\n4. 5.01643211101118\n5. 8.29360813729666\n6. 7.35234878099516\n7. 30.0880394774416\n8. 9.45059612444361\n9. 7.96696874691997\n10. 32.6588938386234\n11. 5.08440358936864\n12. 7.24544088031808\n13. 8.54785019051676\n14. 7.76588581066357\n15. 7.88597584843774\n16. 31.1809127769047\n17. 5.29105242453031\n18. 8.87838563569253\n19. 9.22470765395984\n20. 6.37378236400874\n21. 9.46780117257006\n22. 8.72604793441274\n23. 6.33593902872804\n24. 9.903160548268\n25. 8.11434921718905\n26. 8.98314142734434\n27. 5.18004109200371\n28. 9.73739510060787\n29. 9.67213619989506\n30. 9.9582902397691\n\n\n",
            "text/latex": "\\begin{enumerate*}\n\\item 8.98261391540085\n\\item 7.47641672273068\n\\item 7.08280056558205\n\\item 5.01643211101118\n\\item 8.29360813729666\n\\item 7.35234878099516\n\\item 30.0880394774416\n\\item 9.45059612444361\n\\item 7.96696874691997\n\\item 32.6588938386234\n\\item 5.08440358936864\n\\item 7.24544088031808\n\\item 8.54785019051676\n\\item 7.76588581066357\n\\item 7.88597584843774\n\\item 31.1809127769047\n\\item 5.29105242453031\n\\item 8.87838563569253\n\\item 9.22470765395984\n\\item 6.37378236400874\n\\item 9.46780117257006\n\\item 8.72604793441274\n\\item 6.33593902872804\n\\item 9.903160548268\n\\item 8.11434921718905\n\\item 8.98314142734434\n\\item 5.18004109200371\n\\item 9.73739510060787\n\\item 9.67213619989506\n\\item 9.9582902397691\n\\end{enumerate*}\n",
            "text/plain": [
              " [1]  8.982614  7.476417  7.082801  5.016432  8.293608  7.352349 30.088039\n",
              " [8]  9.450596  7.966969 32.658894  5.084404  7.245441  8.547850  7.765886\n",
              "[15]  7.885976 31.180913  5.291052  8.878386  9.224708  6.373782  9.467801\n",
              "[22]  8.726048  6.335939  9.903161  8.114349  8.983141  5.180041  9.737395\n",
              "[29]  9.672136  9.958290"
            ]
          },
          "metadata": {}
        }
      ]
    },
    {
      "cell_type": "code",
      "metadata": {
        "id": "fvq5tBXVIgvm"
      },
      "source": [
        "# podríamos guardar el vector de T o F's en una variable para luego referenciarla\n",
        "condicion <- edades > 30 | edades < 10\n"
      ],
      "execution_count": 18,
      "outputs": []
    },
    {
      "cell_type": "code",
      "source": [
        "edades[condicion]"
      ],
      "metadata": {
        "id": "o_pVVq9yBgA7",
        "outputId": "7944de83-b00c-4316-f433-c2a3f0faf589",
        "colab": {
          "base_uri": "https://localhost:8080/",
          "height": 104
        }
      },
      "execution_count": 19,
      "outputs": [
        {
          "output_type": "display_data",
          "data": {
            "text/html": [
              "<style>\n",
              ".list-inline {list-style: none; margin:0; padding: 0}\n",
              ".list-inline>li {display: inline-block}\n",
              ".list-inline>li:not(:last-child)::after {content: \"\\00b7\"; padding: 0 .5ex}\n",
              "</style>\n",
              "<ol class=list-inline><li>8.98261391540085</li><li>7.47641672273068</li><li>7.08280056558205</li><li>5.01643211101118</li><li>8.29360813729666</li><li>7.35234878099516</li><li>30.0880394774416</li><li>9.45059612444361</li><li>7.96696874691997</li><li>32.6588938386234</li><li>5.08440358936864</li><li>7.24544088031808</li><li>8.54785019051676</li><li>7.76588581066357</li><li>7.88597584843774</li><li>31.1809127769047</li><li>5.29105242453031</li><li>8.87838563569253</li><li>9.22470765395984</li><li>6.37378236400874</li><li>9.46780117257006</li><li>8.72604793441274</li><li>6.33593902872804</li><li>9.903160548268</li><li>8.11434921718905</li><li>8.98314142734434</li><li>5.18004109200371</li><li>9.73739510060787</li><li>9.67213619989506</li><li>9.9582902397691</li></ol>\n"
            ],
            "text/markdown": "1. 8.98261391540085\n2. 7.47641672273068\n3. 7.08280056558205\n4. 5.01643211101118\n5. 8.29360813729666\n6. 7.35234878099516\n7. 30.0880394774416\n8. 9.45059612444361\n9. 7.96696874691997\n10. 32.6588938386234\n11. 5.08440358936864\n12. 7.24544088031808\n13. 8.54785019051676\n14. 7.76588581066357\n15. 7.88597584843774\n16. 31.1809127769047\n17. 5.29105242453031\n18. 8.87838563569253\n19. 9.22470765395984\n20. 6.37378236400874\n21. 9.46780117257006\n22. 8.72604793441274\n23. 6.33593902872804\n24. 9.903160548268\n25. 8.11434921718905\n26. 8.98314142734434\n27. 5.18004109200371\n28. 9.73739510060787\n29. 9.67213619989506\n30. 9.9582902397691\n\n\n",
            "text/latex": "\\begin{enumerate*}\n\\item 8.98261391540085\n\\item 7.47641672273068\n\\item 7.08280056558205\n\\item 5.01643211101118\n\\item 8.29360813729666\n\\item 7.35234878099516\n\\item 30.0880394774416\n\\item 9.45059612444361\n\\item 7.96696874691997\n\\item 32.6588938386234\n\\item 5.08440358936864\n\\item 7.24544088031808\n\\item 8.54785019051676\n\\item 7.76588581066357\n\\item 7.88597584843774\n\\item 31.1809127769047\n\\item 5.29105242453031\n\\item 8.87838563569253\n\\item 9.22470765395984\n\\item 6.37378236400874\n\\item 9.46780117257006\n\\item 8.72604793441274\n\\item 6.33593902872804\n\\item 9.903160548268\n\\item 8.11434921718905\n\\item 8.98314142734434\n\\item 5.18004109200371\n\\item 9.73739510060787\n\\item 9.67213619989506\n\\item 9.9582902397691\n\\end{enumerate*}\n",
            "text/plain": [
              " [1]  8.982614  7.476417  7.082801  5.016432  8.293608  7.352349 30.088039\n",
              " [8]  9.450596  7.966969 32.658894  5.084404  7.245441  8.547850  7.765886\n",
              "[15]  7.885976 31.180913  5.291052  8.878386  9.224708  6.373782  9.467801\n",
              "[22]  8.726048  6.335939  9.903161  8.114349  8.983141  5.180041  9.737395\n",
              "[29]  9.672136  9.958290"
            ]
          },
          "metadata": {}
        }
      ]
    },
    {
      "cell_type": "code",
      "metadata": {
        "id": "ioUJy8UEIgvz",
        "outputId": "58018278-adb9-4760-8b48-b1eb56e60d13",
        "colab": {
          "base_uri": "https://localhost:8080/",
          "height": 52
        }
      },
      "source": [
        "#?which.max which.min()\n",
        "ind_max <- which.max(edades) # Retorna la posición del primer máximo\n",
        "ind_max\n",
        "#podemos rescatar el valor mediante el índice guardado\n",
        "edades[ind_max]\n"
      ],
      "execution_count": 22,
      "outputs": [
        {
          "output_type": "display_data",
          "data": {
            "text/html": [
              "166"
            ],
            "text/markdown": "166",
            "text/latex": "166",
            "text/plain": [
              "[1] 166"
            ]
          },
          "metadata": {}
        },
        {
          "output_type": "display_data",
          "data": {
            "text/html": [
              "32.6588938386234"
            ],
            "text/markdown": "32.6588938386234",
            "text/latex": "32.6588938386234",
            "text/plain": [
              "[1] 32.65889"
            ]
          },
          "metadata": {}
        }
      ]
    },
    {
      "cell_type": "code",
      "source": [
        "ejemplo <- c(2,6,1,3,6,1)\n",
        "which.max(ejemplo)# Retorna la posición del primer máximo"
      ],
      "metadata": {
        "id": "z33rLZhiCTnb",
        "outputId": "761f132f-0cf2-4f53-f0e4-c29f6e21c734",
        "colab": {
          "base_uri": "https://localhost:8080/",
          "height": 34
        }
      },
      "execution_count": 23,
      "outputs": [
        {
          "output_type": "display_data",
          "data": {
            "text/html": [
              "2"
            ],
            "text/markdown": "2",
            "text/latex": "2",
            "text/plain": [
              "[1] 2"
            ]
          },
          "metadata": {}
        }
      ]
    },
    {
      "cell_type": "code",
      "source": [
        "max(ejemplo)"
      ],
      "metadata": {
        "id": "UbEt85gICyWL",
        "outputId": "0cda6620-beb1-4d4c-9dde-fd459de2a6d7",
        "colab": {
          "base_uri": "https://localhost:8080/",
          "height": 34
        }
      },
      "execution_count": 24,
      "outputs": [
        {
          "output_type": "display_data",
          "data": {
            "text/html": [
              "6"
            ],
            "text/markdown": "6",
            "text/latex": "6",
            "text/plain": [
              "[1] 6"
            ]
          },
          "metadata": {}
        }
      ]
    },
    {
      "cell_type": "code",
      "source": [
        "#si quisieramos retornar todas las posiciones donde se alcanza el max/min\n",
        "which(ejemplo == max(ejemplo)) # retornar las posiciones donde se cumple una condicion logica"
      ],
      "metadata": {
        "id": "gyuLivdnCrhY",
        "outputId": "a166cd79-8890-4c68-d572-057ed14d6bce",
        "colab": {
          "base_uri": "https://localhost:8080/",
          "height": 34
        }
      },
      "execution_count": 25,
      "outputs": [
        {
          "output_type": "display_data",
          "data": {
            "text/html": [
              "<style>\n",
              ".list-inline {list-style: none; margin:0; padding: 0}\n",
              ".list-inline>li {display: inline-block}\n",
              ".list-inline>li:not(:last-child)::after {content: \"\\00b7\"; padding: 0 .5ex}\n",
              "</style>\n",
              "<ol class=list-inline><li>2</li><li>5</li></ol>\n"
            ],
            "text/markdown": "1. 2\n2. 5\n\n\n",
            "text/latex": "\\begin{enumerate*}\n\\item 2\n\\item 5\n\\end{enumerate*}\n",
            "text/plain": [
              "[1] 2 5"
            ]
          },
          "metadata": {}
        }
      ]
    },
    {
      "cell_type": "code",
      "source": [
        "# Retomando el ejemplo de las edades, en vez de retornar las edades, podemos solicitar las posiciones donde se cumple la condicion\n",
        "which(condicion)"
      ],
      "metadata": {
        "id": "r9dFgP85DcA1",
        "outputId": "6cf8dd04-c838-4eeb-b35d-a982823123a7",
        "colab": {
          "base_uri": "https://localhost:8080/",
          "height": 52
        }
      },
      "execution_count": 26,
      "outputs": [
        {
          "output_type": "display_data",
          "data": {
            "text/html": [
              "<style>\n",
              ".list-inline {list-style: none; margin:0; padding: 0}\n",
              ".list-inline>li {display: inline-block}\n",
              ".list-inline>li:not(:last-child)::after {content: \"\\00b7\"; padding: 0 .5ex}\n",
              "</style>\n",
              "<ol class=list-inline><li>5</li><li>22</li><li>30</li><li>36</li><li>55</li><li>66</li><li>94</li><li>115</li><li>139</li><li>166</li><li>200</li><li>214</li><li>215</li><li>219</li><li>243</li><li>265</li><li>297</li><li>308</li><li>309</li><li>320</li><li>333</li><li>339</li><li>352</li><li>365</li><li>426</li><li>437</li><li>473</li><li>482</li><li>498</li><li>500</li></ol>\n"
            ],
            "text/markdown": "1. 5\n2. 22\n3. 30\n4. 36\n5. 55\n6. 66\n7. 94\n8. 115\n9. 139\n10. 166\n11. 200\n12. 214\n13. 215\n14. 219\n15. 243\n16. 265\n17. 297\n18. 308\n19. 309\n20. 320\n21. 333\n22. 339\n23. 352\n24. 365\n25. 426\n26. 437\n27. 473\n28. 482\n29. 498\n30. 500\n\n\n",
            "text/latex": "\\begin{enumerate*}\n\\item 5\n\\item 22\n\\item 30\n\\item 36\n\\item 55\n\\item 66\n\\item 94\n\\item 115\n\\item 139\n\\item 166\n\\item 200\n\\item 214\n\\item 215\n\\item 219\n\\item 243\n\\item 265\n\\item 297\n\\item 308\n\\item 309\n\\item 320\n\\item 333\n\\item 339\n\\item 352\n\\item 365\n\\item 426\n\\item 437\n\\item 473\n\\item 482\n\\item 498\n\\item 500\n\\end{enumerate*}\n",
            "text/plain": [
              " [1]   5  22  30  36  55  66  94 115 139 166 200 214 215 219 243 265 297 308 309\n",
              "[20] 320 333 339 352 365 426 437 473 482 498 500"
            ]
          },
          "metadata": {}
        }
      ]
    },
    {
      "cell_type": "code",
      "source": [
        "paste(\"hola\", \"miguel\", sep = \": \")\n",
        "paste(c(\"hola\",\"como estas\"), \"miguel\")\n",
        "paste(c(\"hola\",\"como estas\"), c(\"miguel\", \"andre\"))\n",
        "paste(c(1,2), c(\"A\",\"B\"))"
      ],
      "metadata": {
        "id": "mqBbJp57EJki",
        "outputId": "50963eb0-9e33-4689-caf8-da5e0ca5cc79",
        "colab": {
          "base_uri": "https://localhost:8080/",
          "height": 86
        }
      },
      "execution_count": 31,
      "outputs": [
        {
          "output_type": "display_data",
          "data": {
            "text/html": [
              "'hola: miguel'"
            ],
            "text/markdown": "'hola: miguel'",
            "text/latex": "'hola: miguel'",
            "text/plain": [
              "[1] \"hola: miguel\""
            ]
          },
          "metadata": {}
        },
        {
          "output_type": "display_data",
          "data": {
            "text/html": [
              "<style>\n",
              ".list-inline {list-style: none; margin:0; padding: 0}\n",
              ".list-inline>li {display: inline-block}\n",
              ".list-inline>li:not(:last-child)::after {content: \"\\00b7\"; padding: 0 .5ex}\n",
              "</style>\n",
              "<ol class=list-inline><li>'hola miguel'</li><li>'como estas miguel'</li></ol>\n"
            ],
            "text/markdown": "1. 'hola miguel'\n2. 'como estas miguel'\n\n\n",
            "text/latex": "\\begin{enumerate*}\n\\item 'hola miguel'\n\\item 'como estas miguel'\n\\end{enumerate*}\n",
            "text/plain": [
              "[1] \"hola miguel\"       \"como estas miguel\""
            ]
          },
          "metadata": {}
        },
        {
          "output_type": "display_data",
          "data": {
            "text/html": [
              "<style>\n",
              ".list-inline {list-style: none; margin:0; padding: 0}\n",
              ".list-inline>li {display: inline-block}\n",
              ".list-inline>li:not(:last-child)::after {content: \"\\00b7\"; padding: 0 .5ex}\n",
              "</style>\n",
              "<ol class=list-inline><li>'hola miguel'</li><li>'como estas andre'</li></ol>\n"
            ],
            "text/markdown": "1. 'hola miguel'\n2. 'como estas andre'\n\n\n",
            "text/latex": "\\begin{enumerate*}\n\\item 'hola miguel'\n\\item 'como estas andre'\n\\end{enumerate*}\n",
            "text/plain": [
              "[1] \"hola miguel\"      \"como estas andre\""
            ]
          },
          "metadata": {}
        },
        {
          "output_type": "display_data",
          "data": {
            "text/html": [
              "<style>\n",
              ".list-inline {list-style: none; margin:0; padding: 0}\n",
              ".list-inline>li {display: inline-block}\n",
              ".list-inline>li:not(:last-child)::after {content: \"\\00b7\"; padding: 0 .5ex}\n",
              "</style>\n",
              "<ol class=list-inline><li>'1 A'</li><li>'2 B'</li></ol>\n"
            ],
            "text/markdown": "1. '1 A'\n2. '2 B'\n\n\n",
            "text/latex": "\\begin{enumerate*}\n\\item '1 A'\n\\item '2 B'\n\\end{enumerate*}\n",
            "text/plain": [
              "[1] \"1 A\" \"2 B\""
            ]
          },
          "metadata": {}
        }
      ]
    },
    {
      "cell_type": "code",
      "source": [
        "pos <- paste(\"Pos\",which(condicion),\":\")\n",
        "pos"
      ],
      "metadata": {
        "id": "PJj97wgkE7cc",
        "outputId": "4f1426ea-23c1-4716-e52e-6d0606452b6b",
        "colab": {
          "base_uri": "https://localhost:8080/",
          "height": 69
        }
      },
      "execution_count": 34,
      "outputs": [
        {
          "output_type": "display_data",
          "data": {
            "text/html": [
              "<style>\n",
              ".list-inline {list-style: none; margin:0; padding: 0}\n",
              ".list-inline>li {display: inline-block}\n",
              ".list-inline>li:not(:last-child)::after {content: \"\\00b7\"; padding: 0 .5ex}\n",
              "</style>\n",
              "<ol class=list-inline><li>'Pos 5 :'</li><li>'Pos 22 :'</li><li>'Pos 30 :'</li><li>'Pos 36 :'</li><li>'Pos 55 :'</li><li>'Pos 66 :'</li><li>'Pos 94 :'</li><li>'Pos 115 :'</li><li>'Pos 139 :'</li><li>'Pos 166 :'</li><li>'Pos 200 :'</li><li>'Pos 214 :'</li><li>'Pos 215 :'</li><li>'Pos 219 :'</li><li>'Pos 243 :'</li><li>'Pos 265 :'</li><li>'Pos 297 :'</li><li>'Pos 308 :'</li><li>'Pos 309 :'</li><li>'Pos 320 :'</li><li>'Pos 333 :'</li><li>'Pos 339 :'</li><li>'Pos 352 :'</li><li>'Pos 365 :'</li><li>'Pos 426 :'</li><li>'Pos 437 :'</li><li>'Pos 473 :'</li><li>'Pos 482 :'</li><li>'Pos 498 :'</li><li>'Pos 500 :'</li></ol>\n"
            ],
            "text/markdown": "1. 'Pos 5 :'\n2. 'Pos 22 :'\n3. 'Pos 30 :'\n4. 'Pos 36 :'\n5. 'Pos 55 :'\n6. 'Pos 66 :'\n7. 'Pos 94 :'\n8. 'Pos 115 :'\n9. 'Pos 139 :'\n10. 'Pos 166 :'\n11. 'Pos 200 :'\n12. 'Pos 214 :'\n13. 'Pos 215 :'\n14. 'Pos 219 :'\n15. 'Pos 243 :'\n16. 'Pos 265 :'\n17. 'Pos 297 :'\n18. 'Pos 308 :'\n19. 'Pos 309 :'\n20. 'Pos 320 :'\n21. 'Pos 333 :'\n22. 'Pos 339 :'\n23. 'Pos 352 :'\n24. 'Pos 365 :'\n25. 'Pos 426 :'\n26. 'Pos 437 :'\n27. 'Pos 473 :'\n28. 'Pos 482 :'\n29. 'Pos 498 :'\n30. 'Pos 500 :'\n\n\n",
            "text/latex": "\\begin{enumerate*}\n\\item 'Pos 5 :'\n\\item 'Pos 22 :'\n\\item 'Pos 30 :'\n\\item 'Pos 36 :'\n\\item 'Pos 55 :'\n\\item 'Pos 66 :'\n\\item 'Pos 94 :'\n\\item 'Pos 115 :'\n\\item 'Pos 139 :'\n\\item 'Pos 166 :'\n\\item 'Pos 200 :'\n\\item 'Pos 214 :'\n\\item 'Pos 215 :'\n\\item 'Pos 219 :'\n\\item 'Pos 243 :'\n\\item 'Pos 265 :'\n\\item 'Pos 297 :'\n\\item 'Pos 308 :'\n\\item 'Pos 309 :'\n\\item 'Pos 320 :'\n\\item 'Pos 333 :'\n\\item 'Pos 339 :'\n\\item 'Pos 352 :'\n\\item 'Pos 365 :'\n\\item 'Pos 426 :'\n\\item 'Pos 437 :'\n\\item 'Pos 473 :'\n\\item 'Pos 482 :'\n\\item 'Pos 498 :'\n\\item 'Pos 500 :'\n\\end{enumerate*}\n",
            "text/plain": [
              " [1] \"Pos 5 :\"   \"Pos 22 :\"  \"Pos 30 :\"  \"Pos 36 :\"  \"Pos 55 :\"  \"Pos 66 :\" \n",
              " [7] \"Pos 94 :\"  \"Pos 115 :\" \"Pos 139 :\" \"Pos 166 :\" \"Pos 200 :\" \"Pos 214 :\"\n",
              "[13] \"Pos 215 :\" \"Pos 219 :\" \"Pos 243 :\" \"Pos 265 :\" \"Pos 297 :\" \"Pos 308 :\"\n",
              "[19] \"Pos 309 :\" \"Pos 320 :\" \"Pos 333 :\" \"Pos 339 :\" \"Pos 352 :\" \"Pos 365 :\"\n",
              "[25] \"Pos 426 :\" \"Pos 437 :\" \"Pos 473 :\" \"Pos 482 :\" \"Pos 498 :\" \"Pos 500 :\""
            ]
          },
          "metadata": {}
        }
      ]
    },
    {
      "cell_type": "code",
      "source": [
        "paste(pos,edades[condicion])"
      ],
      "metadata": {
        "id": "0ef6a0M6FX-P",
        "outputId": "503d08fc-e7b7-4f51-8365-e3745d2c82d2",
        "colab": {
          "base_uri": "https://localhost:8080/",
          "height": 156
        }
      },
      "execution_count": 35,
      "outputs": [
        {
          "output_type": "display_data",
          "data": {
            "text/html": [
              "<style>\n",
              ".list-inline {list-style: none; margin:0; padding: 0}\n",
              ".list-inline>li {display: inline-block}\n",
              ".list-inline>li:not(:last-child)::after {content: \"\\00b7\"; padding: 0 .5ex}\n",
              "</style>\n",
              "<ol class=list-inline><li>'Pos 5 : 8.98261391540085'</li><li>'Pos 22 : 7.47641672273068'</li><li>'Pos 30 : 7.08280056558205'</li><li>'Pos 36 : 5.01643211101118'</li><li>'Pos 55 : 8.29360813729666'</li><li>'Pos 66 : 7.35234878099516'</li><li>'Pos 94 : 30.0880394774416'</li><li>'Pos 115 : 9.45059612444361'</li><li>'Pos 139 : 7.96696874691997'</li><li>'Pos 166 : 32.6588938386234'</li><li>'Pos 200 : 5.08440358936864'</li><li>'Pos 214 : 7.24544088031808'</li><li>'Pos 215 : 8.54785019051676'</li><li>'Pos 219 : 7.76588581066357'</li><li>'Pos 243 : 7.88597584843774'</li><li>'Pos 265 : 31.1809127769047'</li><li>'Pos 297 : 5.29105242453031'</li><li>'Pos 308 : 8.87838563569253'</li><li>'Pos 309 : 9.22470765395984'</li><li>'Pos 320 : 6.37378236400874'</li><li>'Pos 333 : 9.46780117257006'</li><li>'Pos 339 : 8.72604793441274'</li><li>'Pos 352 : 6.33593902872804'</li><li>'Pos 365 : 9.903160548268'</li><li>'Pos 426 : 8.11434921718905'</li><li>'Pos 437 : 8.98314142734434'</li><li>'Pos 473 : 5.18004109200371'</li><li>'Pos 482 : 9.73739510060787'</li><li>'Pos 498 : 9.67213619989506'</li><li>'Pos 500 : 9.9582902397691'</li></ol>\n"
            ],
            "text/markdown": "1. 'Pos 5 : 8.98261391540085'\n2. 'Pos 22 : 7.47641672273068'\n3. 'Pos 30 : 7.08280056558205'\n4. 'Pos 36 : 5.01643211101118'\n5. 'Pos 55 : 8.29360813729666'\n6. 'Pos 66 : 7.35234878099516'\n7. 'Pos 94 : 30.0880394774416'\n8. 'Pos 115 : 9.45059612444361'\n9. 'Pos 139 : 7.96696874691997'\n10. 'Pos 166 : 32.6588938386234'\n11. 'Pos 200 : 5.08440358936864'\n12. 'Pos 214 : 7.24544088031808'\n13. 'Pos 215 : 8.54785019051676'\n14. 'Pos 219 : 7.76588581066357'\n15. 'Pos 243 : 7.88597584843774'\n16. 'Pos 265 : 31.1809127769047'\n17. 'Pos 297 : 5.29105242453031'\n18. 'Pos 308 : 8.87838563569253'\n19. 'Pos 309 : 9.22470765395984'\n20. 'Pos 320 : 6.37378236400874'\n21. 'Pos 333 : 9.46780117257006'\n22. 'Pos 339 : 8.72604793441274'\n23. 'Pos 352 : 6.33593902872804'\n24. 'Pos 365 : 9.903160548268'\n25. 'Pos 426 : 8.11434921718905'\n26. 'Pos 437 : 8.98314142734434'\n27. 'Pos 473 : 5.18004109200371'\n28. 'Pos 482 : 9.73739510060787'\n29. 'Pos 498 : 9.67213619989506'\n30. 'Pos 500 : 9.9582902397691'\n\n\n",
            "text/latex": "\\begin{enumerate*}\n\\item 'Pos 5 : 8.98261391540085'\n\\item 'Pos 22 : 7.47641672273068'\n\\item 'Pos 30 : 7.08280056558205'\n\\item 'Pos 36 : 5.01643211101118'\n\\item 'Pos 55 : 8.29360813729666'\n\\item 'Pos 66 : 7.35234878099516'\n\\item 'Pos 94 : 30.0880394774416'\n\\item 'Pos 115 : 9.45059612444361'\n\\item 'Pos 139 : 7.96696874691997'\n\\item 'Pos 166 : 32.6588938386234'\n\\item 'Pos 200 : 5.08440358936864'\n\\item 'Pos 214 : 7.24544088031808'\n\\item 'Pos 215 : 8.54785019051676'\n\\item 'Pos 219 : 7.76588581066357'\n\\item 'Pos 243 : 7.88597584843774'\n\\item 'Pos 265 : 31.1809127769047'\n\\item 'Pos 297 : 5.29105242453031'\n\\item 'Pos 308 : 8.87838563569253'\n\\item 'Pos 309 : 9.22470765395984'\n\\item 'Pos 320 : 6.37378236400874'\n\\item 'Pos 333 : 9.46780117257006'\n\\item 'Pos 339 : 8.72604793441274'\n\\item 'Pos 352 : 6.33593902872804'\n\\item 'Pos 365 : 9.903160548268'\n\\item 'Pos 426 : 8.11434921718905'\n\\item 'Pos 437 : 8.98314142734434'\n\\item 'Pos 473 : 5.18004109200371'\n\\item 'Pos 482 : 9.73739510060787'\n\\item 'Pos 498 : 9.67213619989506'\n\\item 'Pos 500 : 9.9582902397691'\n\\end{enumerate*}\n",
            "text/plain": [
              " [1] \"Pos 5 : 8.98261391540085\"   \"Pos 22 : 7.47641672273068\" \n",
              " [3] \"Pos 30 : 7.08280056558205\"  \"Pos 36 : 5.01643211101118\" \n",
              " [5] \"Pos 55 : 8.29360813729666\"  \"Pos 66 : 7.35234878099516\" \n",
              " [7] \"Pos 94 : 30.0880394774416\"  \"Pos 115 : 9.45059612444361\"\n",
              " [9] \"Pos 139 : 7.96696874691997\" \"Pos 166 : 32.6588938386234\"\n",
              "[11] \"Pos 200 : 5.08440358936864\" \"Pos 214 : 7.24544088031808\"\n",
              "[13] \"Pos 215 : 8.54785019051676\" \"Pos 219 : 7.76588581066357\"\n",
              "[15] \"Pos 243 : 7.88597584843774\" \"Pos 265 : 31.1809127769047\"\n",
              "[17] \"Pos 297 : 5.29105242453031\" \"Pos 308 : 8.87838563569253\"\n",
              "[19] \"Pos 309 : 9.22470765395984\" \"Pos 320 : 6.37378236400874\"\n",
              "[21] \"Pos 333 : 9.46780117257006\" \"Pos 339 : 8.72604793441274\"\n",
              "[23] \"Pos 352 : 6.33593902872804\" \"Pos 365 : 9.903160548268\"  \n",
              "[25] \"Pos 426 : 8.11434921718905\" \"Pos 437 : 8.98314142734434\"\n",
              "[27] \"Pos 473 : 5.18004109200371\" \"Pos 482 : 9.73739510060787\"\n",
              "[29] \"Pos 498 : 9.67213619989506\" \"Pos 500 : 9.9582902397691\" "
            ]
          },
          "metadata": {}
        }
      ]
    },
    {
      "cell_type": "code",
      "metadata": {
        "id": "_8-SMxfWIgv0",
        "outputId": "77878a7a-c640-4a6b-f45a-3496eefbfbf2",
        "colab": {
          "base_uri": "https://localhost:8080/",
          "height": 34
        }
      },
      "source": [
        "# Operador %in%\n",
        "# vector_a %in% vector_b (qué elementos del vector a están en el vector b)\n",
        "# retorna un  vector de TRUE's y FALSE's del largo del primer vector(a) (izquierda)\n",
        "c(1,5,6) %in% c(2,1,8,6,1) # en sql in"
      ],
      "execution_count": 37,
      "outputs": [
        {
          "output_type": "display_data",
          "data": {
            "text/html": [
              "<style>\n",
              ".list-inline {list-style: none; margin:0; padding: 0}\n",
              ".list-inline>li {display: inline-block}\n",
              ".list-inline>li:not(:last-child)::after {content: \"\\00b7\"; padding: 0 .5ex}\n",
              "</style>\n",
              "<ol class=list-inline><li>TRUE</li><li>FALSE</li><li>TRUE</li></ol>\n"
            ],
            "text/markdown": "1. TRUE\n2. FALSE\n3. TRUE\n\n\n",
            "text/latex": "\\begin{enumerate*}\n\\item TRUE\n\\item FALSE\n\\item TRUE\n\\end{enumerate*}\n",
            "text/plain": [
              "[1]  TRUE FALSE  TRUE"
            ]
          },
          "metadata": {}
        }
      ]
    },
    {
      "cell_type": "code",
      "source": [
        "v_a <- c(1,5,6)\n",
        "v_b <- c(2,1,8,6,1)"
      ],
      "metadata": {
        "id": "x9S4OwUlGXet"
      },
      "execution_count": 38,
      "outputs": []
    },
    {
      "cell_type": "code",
      "source": [
        "v_a[v_a %in% v_b]"
      ],
      "metadata": {
        "id": "t74uZEOnGdB4",
        "outputId": "5712f16c-a048-4563-dc58-764bcdd176e8",
        "colab": {
          "base_uri": "https://localhost:8080/",
          "height": 34
        }
      },
      "execution_count": 40,
      "outputs": [
        {
          "output_type": "display_data",
          "data": {
            "text/html": [
              "<style>\n",
              ".list-inline {list-style: none; margin:0; padding: 0}\n",
              ".list-inline>li {display: inline-block}\n",
              ".list-inline>li:not(:last-child)::after {content: \"\\00b7\"; padding: 0 .5ex}\n",
              "</style>\n",
              "<ol class=list-inline><li>1</li><li>6</li></ol>\n"
            ],
            "text/markdown": "1. 1\n2. 6\n\n\n",
            "text/latex": "\\begin{enumerate*}\n\\item 1\n\\item 6\n\\end{enumerate*}\n",
            "text/plain": [
              "[1] 1 6"
            ]
          },
          "metadata": {}
        }
      ]
    },
    {
      "cell_type": "code",
      "metadata": {
        "id": "s9bYOQ4GIgv2",
        "outputId": "896fd550-23be-437e-961a-63a590a77cd3",
        "colab": {
          "base_uri": "https://localhost:8080/",
          "height": 34
        }
      },
      "source": [
        "# podemos utilizar la función all() para evaluar si todos los elementos de un vector son TRUE.\n",
        "all(c(T,F,T))"
      ],
      "execution_count": 41,
      "outputs": [
        {
          "output_type": "display_data",
          "data": {
            "text/html": [
              "FALSE"
            ],
            "text/markdown": "FALSE",
            "text/latex": "FALSE",
            "text/plain": [
              "[1] FALSE"
            ]
          },
          "metadata": {}
        }
      ]
    },
    {
      "cell_type": "code",
      "source": [
        "all(c(T,T,T))"
      ],
      "metadata": {
        "id": "iMma4CmBHEk7",
        "outputId": "f2c40b31-c433-4356-9662-a3f349abb615",
        "colab": {
          "base_uri": "https://localhost:8080/",
          "height": 34
        }
      },
      "execution_count": 42,
      "outputs": [
        {
          "output_type": "display_data",
          "data": {
            "text/html": [
              "TRUE"
            ],
            "text/markdown": "TRUE",
            "text/latex": "TRUE",
            "text/plain": [
              "[1] TRUE"
            ]
          },
          "metadata": {}
        }
      ]
    },
    {
      "cell_type": "code",
      "metadata": {
        "id": "Wd-mSv3PIgv4",
        "outputId": "fe11a26b-56e7-456f-f283-a217248875b7",
        "colab": {
          "base_uri": "https://localhost:8080/",
          "height": 34
        }
      },
      "source": [
        "# si quisiéramos evaluar que todos los elementos de la izq. estén en la derecha,\n",
        "# podemos utilizar la función all().\n",
        "all(v_a %in% v_b)"
      ],
      "execution_count": 43,
      "outputs": [
        {
          "output_type": "display_data",
          "data": {
            "text/html": [
              "FALSE"
            ],
            "text/markdown": "FALSE",
            "text/latex": "FALSE",
            "text/plain": [
              "[1] FALSE"
            ]
          },
          "metadata": {}
        }
      ]
    },
    {
      "cell_type": "code",
      "metadata": {
        "id": "Zn85mjGmIgv5"
      },
      "source": [],
      "execution_count": null,
      "outputs": []
    },
    {
      "cell_type": "code",
      "metadata": {
        "id": "1YGnzt1zIgv7",
        "outputId": "470c1c2f-1e20-43ed-df48-10f025fd2725",
        "colab": {
          "base_uri": "https://localhost:8080/",
          "height": 52
        }
      },
      "source": [
        "# aritmética con vectores\n",
        "# operación de vectore de igual largo\n",
        "c(1,1,2,3) + c(10,20,30,40)\n",
        "c(1,1,2,3) / c(10,20,30,40)\n"
      ],
      "execution_count": 45,
      "outputs": [
        {
          "output_type": "display_data",
          "data": {
            "text/html": [
              "<style>\n",
              ".list-inline {list-style: none; margin:0; padding: 0}\n",
              ".list-inline>li {display: inline-block}\n",
              ".list-inline>li:not(:last-child)::after {content: \"\\00b7\"; padding: 0 .5ex}\n",
              "</style>\n",
              "<ol class=list-inline><li>11</li><li>21</li><li>32</li><li>43</li></ol>\n"
            ],
            "text/markdown": "1. 11\n2. 21\n3. 32\n4. 43\n\n\n",
            "text/latex": "\\begin{enumerate*}\n\\item 11\n\\item 21\n\\item 32\n\\item 43\n\\end{enumerate*}\n",
            "text/plain": [
              "[1] 11 21 32 43"
            ]
          },
          "metadata": {}
        },
        {
          "output_type": "display_data",
          "data": {
            "text/html": [
              "<style>\n",
              ".list-inline {list-style: none; margin:0; padding: 0}\n",
              ".list-inline>li {display: inline-block}\n",
              ".list-inline>li:not(:last-child)::after {content: \"\\00b7\"; padding: 0 .5ex}\n",
              "</style>\n",
              "<ol class=list-inline><li>0.1</li><li>0.05</li><li>0.0666666666666667</li><li>0.075</li></ol>\n"
            ],
            "text/markdown": "1. 0.1\n2. 0.05\n3. 0.0666666666666667\n4. 0.075\n\n\n",
            "text/latex": "\\begin{enumerate*}\n\\item 0.1\n\\item 0.05\n\\item 0.0666666666666667\n\\item 0.075\n\\end{enumerate*}\n",
            "text/plain": [
              "[1] 0.10000000 0.05000000 0.06666667 0.07500000"
            ]
          },
          "metadata": {}
        }
      ]
    },
    {
      "cell_type": "code",
      "metadata": {
        "id": "Bw8lX76XIgv8",
        "outputId": "de1b39bd-9059-4938-baa6-348c552f77d2",
        "colab": {
          "base_uri": "https://localhost:8080/",
          "height": 34
        }
      },
      "source": [
        "#ponderaciones por escalares\n",
        "c(1,1,2,3) + 50"
      ],
      "execution_count": 46,
      "outputs": [
        {
          "output_type": "display_data",
          "data": {
            "text/html": [
              "<style>\n",
              ".list-inline {list-style: none; margin:0; padding: 0}\n",
              ".list-inline>li {display: inline-block}\n",
              ".list-inline>li:not(:last-child)::after {content: \"\\00b7\"; padding: 0 .5ex}\n",
              "</style>\n",
              "<ol class=list-inline><li>51</li><li>51</li><li>52</li><li>53</li></ol>\n"
            ],
            "text/markdown": "1. 51\n2. 51\n3. 52\n4. 53\n\n\n",
            "text/latex": "\\begin{enumerate*}\n\\item 51\n\\item 51\n\\item 52\n\\item 53\n\\end{enumerate*}\n",
            "text/plain": [
              "[1] 51 51 52 53"
            ]
          },
          "metadata": {}
        }
      ]
    },
    {
      "cell_type": "code",
      "metadata": {
        "id": "syufc9_OIgv_",
        "outputId": "4d247743-c6ce-4b1a-9976-a36def0a4b42",
        "colab": {
          "base_uri": "https://localhost:8080/",
          "height": 69
        }
      },
      "source": [
        "#CUIDADO: Si se operan vectores de dstinto largo se reciclan los valores del vector más pequeño\n",
        "c(1,1,2,3) + c(10,20,30)"
      ],
      "execution_count": 47,
      "outputs": [
        {
          "output_type": "stream",
          "name": "stderr",
          "text": [
            "Warning message in c(1, 1, 2, 3) + c(10, 20, 30):\n",
            "“longer object length is not a multiple of shorter object length”\n"
          ]
        },
        {
          "output_type": "display_data",
          "data": {
            "text/html": [
              "<style>\n",
              ".list-inline {list-style: none; margin:0; padding: 0}\n",
              ".list-inline>li {display: inline-block}\n",
              ".list-inline>li:not(:last-child)::after {content: \"\\00b7\"; padding: 0 .5ex}\n",
              "</style>\n",
              "<ol class=list-inline><li>11</li><li>21</li><li>32</li><li>13</li></ol>\n"
            ],
            "text/markdown": "1. 11\n2. 21\n3. 32\n4. 13\n\n\n",
            "text/latex": "\\begin{enumerate*}\n\\item 11\n\\item 21\n\\item 32\n\\item 13\n\\end{enumerate*}\n",
            "text/plain": [
              "[1] 11 21 32 13"
            ]
          },
          "metadata": {}
        }
      ]
    },
    {
      "cell_type": "code",
      "source": [
        "c(1,1,2,3) + c(10,20)"
      ],
      "metadata": {
        "id": "eTw-4AXjITaO",
        "outputId": "6b81a0e8-a373-44e6-b848-c82441d8c943",
        "colab": {
          "base_uri": "https://localhost:8080/",
          "height": 34
        }
      },
      "execution_count": 48,
      "outputs": [
        {
          "output_type": "display_data",
          "data": {
            "text/html": [
              "<style>\n",
              ".list-inline {list-style: none; margin:0; padding: 0}\n",
              ".list-inline>li {display: inline-block}\n",
              ".list-inline>li:not(:last-child)::after {content: \"\\00b7\"; padding: 0 .5ex}\n",
              "</style>\n",
              "<ol class=list-inline><li>11</li><li>21</li><li>12</li><li>23</li></ol>\n"
            ],
            "text/markdown": "1. 11\n2. 21\n3. 12\n4. 23\n\n\n",
            "text/latex": "\\begin{enumerate*}\n\\item 11\n\\item 21\n\\item 12\n\\item 23\n\\end{enumerate*}\n",
            "text/plain": [
              "[1] 11 21 12 23"
            ]
          },
          "metadata": {}
        }
      ]
    },
    {
      "cell_type": "code",
      "metadata": {
        "id": "9kfbx6J4IgwC"
      },
      "source": [
        "# NOTA:\n",
        "# podemos determinar el largo de un vector mediante la función length()\n"
      ],
      "execution_count": null,
      "outputs": []
    },
    {
      "cell_type": "markdown",
      "metadata": {
        "id": "LIr-IFowIgwD"
      },
      "source": [
        "**Secuencias**\n",
        "\n",
        "En R es posible generar de manera rápida y sencilla algunas secuencias numéricas y almacenarlas en un vector.\n",
        "\n",
        "Ejemplo de estas funciones son :\n",
        "\n",
        "    rep() : para replicar elementos\n",
        "    seq() : para generar secuencias aritméticas\n",
        "    \n",
        "Más adelante veremos como generar números aleatorios siguiendo alguna función de distribución de interés.\n",
        "\n"
      ]
    },
    {
      "cell_type": "code",
      "metadata": {
        "id": "wk0fB_gWIgwE",
        "outputId": "1b3abdbf-2758-4d14-e852-4e7b1c25a6e7",
        "colab": {
          "base_uri": "https://localhost:8080/",
          "height": 34
        }
      },
      "source": [
        "# a vimos que fácilmente ppodemos generar vectores de enteros consecutivos vía \":\"\n",
        "-5:6"
      ],
      "execution_count": 49,
      "outputs": [
        {
          "output_type": "display_data",
          "data": {
            "text/html": [
              "<style>\n",
              ".list-inline {list-style: none; margin:0; padding: 0}\n",
              ".list-inline>li {display: inline-block}\n",
              ".list-inline>li:not(:last-child)::after {content: \"\\00b7\"; padding: 0 .5ex}\n",
              "</style>\n",
              "<ol class=list-inline><li>-5</li><li>-4</li><li>-3</li><li>-2</li><li>-1</li><li>0</li><li>1</li><li>2</li><li>3</li><li>4</li><li>5</li><li>6</li></ol>\n"
            ],
            "text/markdown": "1. -5\n2. -4\n3. -3\n4. -2\n5. -1\n6. 0\n7. 1\n8. 2\n9. 3\n10. 4\n11. 5\n12. 6\n\n\n",
            "text/latex": "\\begin{enumerate*}\n\\item -5\n\\item -4\n\\item -3\n\\item -2\n\\item -1\n\\item 0\n\\item 1\n\\item 2\n\\item 3\n\\item 4\n\\item 5\n\\item 6\n\\end{enumerate*}\n",
            "text/plain": [
              " [1] -5 -4 -3 -2 -1  0  1  2  3  4  5  6"
            ]
          },
          "metadata": {}
        }
      ]
    },
    {
      "cell_type": "code",
      "source": [
        "# Función seq\n",
        "?seq"
      ],
      "metadata": {
        "id": "9kJHtykaJPAJ"
      },
      "execution_count": 50,
      "outputs": []
    },
    {
      "cell_type": "code",
      "source": [
        "seq(from = -5, to = 6 , by = 1)"
      ],
      "metadata": {
        "id": "Qh6y12GuJYlV",
        "outputId": "cdb32a36-b154-4305-c8bf-572fe6ea6dc0",
        "colab": {
          "base_uri": "https://localhost:8080/",
          "height": 34
        }
      },
      "execution_count": 52,
      "outputs": [
        {
          "output_type": "display_data",
          "data": {
            "text/html": [
              "<style>\n",
              ".list-inline {list-style: none; margin:0; padding: 0}\n",
              ".list-inline>li {display: inline-block}\n",
              ".list-inline>li:not(:last-child)::after {content: \"\\00b7\"; padding: 0 .5ex}\n",
              "</style>\n",
              "<ol class=list-inline><li>-5</li><li>-4</li><li>-3</li><li>-2</li><li>-1</li><li>0</li><li>1</li><li>2</li><li>3</li><li>4</li><li>5</li><li>6</li></ol>\n"
            ],
            "text/markdown": "1. -5\n2. -4\n3. -3\n4. -2\n5. -1\n6. 0\n7. 1\n8. 2\n9. 3\n10. 4\n11. 5\n12. 6\n\n\n",
            "text/latex": "\\begin{enumerate*}\n\\item -5\n\\item -4\n\\item -3\n\\item -2\n\\item -1\n\\item 0\n\\item 1\n\\item 2\n\\item 3\n\\item 4\n\\item 5\n\\item 6\n\\end{enumerate*}\n",
            "text/plain": [
              " [1] -5 -4 -3 -2 -1  0  1  2  3  4  5  6"
            ]
          },
          "metadata": {}
        }
      ]
    },
    {
      "cell_type": "code",
      "source": [
        "seq(from = -5, to = 6 , by = 0.1)"
      ],
      "metadata": {
        "id": "hEMNcyPxJfg4",
        "outputId": "f79c03b1-10d3-4ce1-d7a3-c52ede73e2f4",
        "colab": {
          "base_uri": "https://localhost:8080/",
          "height": 104
        }
      },
      "execution_count": 59,
      "outputs": [
        {
          "output_type": "display_data",
          "data": {
            "text/html": [
              "<style>\n",
              ".list-inline {list-style: none; margin:0; padding: 0}\n",
              ".list-inline>li {display: inline-block}\n",
              ".list-inline>li:not(:last-child)::after {content: \"\\00b7\"; padding: 0 .5ex}\n",
              "</style>\n",
              "<ol class=list-inline><li>-5</li><li>-4.9</li><li>-4.8</li><li>-4.7</li><li>-4.6</li><li>-4.5</li><li>-4.4</li><li>-4.3</li><li>-4.2</li><li>-4.1</li><li>-4</li><li>-3.9</li><li>-3.8</li><li>-3.7</li><li>-3.6</li><li>-3.5</li><li>-3.4</li><li>-3.3</li><li>-3.2</li><li>-3.1</li><li>-3</li><li>-2.9</li><li>-2.8</li><li>-2.7</li><li>-2.6</li><li>-2.5</li><li>-2.4</li><li>-2.3</li><li>-2.2</li><li>-2.1</li><li>-2</li><li>-1.9</li><li>-1.8</li><li>-1.7</li><li>-1.6</li><li>-1.5</li><li>-1.4</li><li>-1.3</li><li>-1.2</li><li>-1.1</li><li>-1</li><li>-0.899999999999999</li><li>-0.8</li><li>-0.7</li><li>-0.6</li><li>-0.5</li><li>-0.399999999999999</li><li>-0.3</li><li>-0.199999999999999</li><li>-0.0999999999999996</li><li>0</li><li>0.100000000000001</li><li>0.2</li><li>0.300000000000001</li><li>0.4</li><li>0.5</li><li>0.600000000000001</li><li>0.7</li><li>0.800000000000001</li><li>0.9</li><li>1</li><li>1.1</li><li>1.2</li><li>1.3</li><li>1.4</li><li>1.5</li><li>1.6</li><li>1.7</li><li>1.8</li><li>1.9</li><li>2</li><li>2.1</li><li>2.2</li><li>2.3</li><li>2.4</li><li>2.5</li><li>2.6</li><li>2.7</li><li>2.8</li><li>2.9</li><li>3</li><li>3.1</li><li>3.2</li><li>3.3</li><li>3.4</li><li>3.5</li><li>3.6</li><li>3.7</li><li>3.8</li><li>3.9</li><li>4</li><li>4.1</li><li>4.2</li><li>4.3</li><li>4.4</li><li>4.5</li><li>4.6</li><li>4.7</li><li>4.8</li><li>4.9</li><li>5</li><li>5.1</li><li>5.2</li><li>5.3</li><li>5.4</li><li>5.5</li><li>5.6</li><li>5.7</li><li>5.8</li><li>5.9</li><li>6</li></ol>\n"
            ],
            "text/markdown": "1. -5\n2. -4.9\n3. -4.8\n4. -4.7\n5. -4.6\n6. -4.5\n7. -4.4\n8. -4.3\n9. -4.2\n10. -4.1\n11. -4\n12. -3.9\n13. -3.8\n14. -3.7\n15. -3.6\n16. -3.5\n17. -3.4\n18. -3.3\n19. -3.2\n20. -3.1\n21. -3\n22. -2.9\n23. -2.8\n24. -2.7\n25. -2.6\n26. -2.5\n27. -2.4\n28. -2.3\n29. -2.2\n30. -2.1\n31. -2\n32. -1.9\n33. -1.8\n34. -1.7\n35. -1.6\n36. -1.5\n37. -1.4\n38. -1.3\n39. -1.2\n40. -1.1\n41. -1\n42. -0.899999999999999\n43. -0.8\n44. -0.7\n45. -0.6\n46. -0.5\n47. -0.399999999999999\n48. -0.3\n49. -0.199999999999999\n50. -0.0999999999999996\n51. 0\n52. 0.100000000000001\n53. 0.2\n54. 0.300000000000001\n55. 0.4\n56. 0.5\n57. 0.600000000000001\n58. 0.7\n59. 0.800000000000001\n60. 0.9\n61. 1\n62. 1.1\n63. 1.2\n64. 1.3\n65. 1.4\n66. 1.5\n67. 1.6\n68. 1.7\n69. 1.8\n70. 1.9\n71. 2\n72. 2.1\n73. 2.2\n74. 2.3\n75. 2.4\n76. 2.5\n77. 2.6\n78. 2.7\n79. 2.8\n80. 2.9\n81. 3\n82. 3.1\n83. 3.2\n84. 3.3\n85. 3.4\n86. 3.5\n87. 3.6\n88. 3.7\n89. 3.8\n90. 3.9\n91. 4\n92. 4.1\n93. 4.2\n94. 4.3\n95. 4.4\n96. 4.5\n97. 4.6\n98. 4.7\n99. 4.8\n100. 4.9\n101. 5\n102. 5.1\n103. 5.2\n104. 5.3\n105. 5.4\n106. 5.5\n107. 5.6\n108. 5.7\n109. 5.8\n110. 5.9\n111. 6\n\n\n",
            "text/latex": "\\begin{enumerate*}\n\\item -5\n\\item -4.9\n\\item -4.8\n\\item -4.7\n\\item -4.6\n\\item -4.5\n\\item -4.4\n\\item -4.3\n\\item -4.2\n\\item -4.1\n\\item -4\n\\item -3.9\n\\item -3.8\n\\item -3.7\n\\item -3.6\n\\item -3.5\n\\item -3.4\n\\item -3.3\n\\item -3.2\n\\item -3.1\n\\item -3\n\\item -2.9\n\\item -2.8\n\\item -2.7\n\\item -2.6\n\\item -2.5\n\\item -2.4\n\\item -2.3\n\\item -2.2\n\\item -2.1\n\\item -2\n\\item -1.9\n\\item -1.8\n\\item -1.7\n\\item -1.6\n\\item -1.5\n\\item -1.4\n\\item -1.3\n\\item -1.2\n\\item -1.1\n\\item -1\n\\item -0.899999999999999\n\\item -0.8\n\\item -0.7\n\\item -0.6\n\\item -0.5\n\\item -0.399999999999999\n\\item -0.3\n\\item -0.199999999999999\n\\item -0.0999999999999996\n\\item 0\n\\item 0.100000000000001\n\\item 0.2\n\\item 0.300000000000001\n\\item 0.4\n\\item 0.5\n\\item 0.600000000000001\n\\item 0.7\n\\item 0.800000000000001\n\\item 0.9\n\\item 1\n\\item 1.1\n\\item 1.2\n\\item 1.3\n\\item 1.4\n\\item 1.5\n\\item 1.6\n\\item 1.7\n\\item 1.8\n\\item 1.9\n\\item 2\n\\item 2.1\n\\item 2.2\n\\item 2.3\n\\item 2.4\n\\item 2.5\n\\item 2.6\n\\item 2.7\n\\item 2.8\n\\item 2.9\n\\item 3\n\\item 3.1\n\\item 3.2\n\\item 3.3\n\\item 3.4\n\\item 3.5\n\\item 3.6\n\\item 3.7\n\\item 3.8\n\\item 3.9\n\\item 4\n\\item 4.1\n\\item 4.2\n\\item 4.3\n\\item 4.4\n\\item 4.5\n\\item 4.6\n\\item 4.7\n\\item 4.8\n\\item 4.9\n\\item 5\n\\item 5.1\n\\item 5.2\n\\item 5.3\n\\item 5.4\n\\item 5.5\n\\item 5.6\n\\item 5.7\n\\item 5.8\n\\item 5.9\n\\item 6\n\\end{enumerate*}\n",
            "text/plain": [
              "  [1] -5.0 -4.9 -4.8 -4.7 -4.6 -4.5 -4.4 -4.3 -4.2 -4.1 -4.0 -3.9 -3.8 -3.7 -3.6\n",
              " [16] -3.5 -3.4 -3.3 -3.2 -3.1 -3.0 -2.9 -2.8 -2.7 -2.6 -2.5 -2.4 -2.3 -2.2 -2.1\n",
              " [31] -2.0 -1.9 -1.8 -1.7 -1.6 -1.5 -1.4 -1.3 -1.2 -1.1 -1.0 -0.9 -0.8 -0.7 -0.6\n",
              " [46] -0.5 -0.4 -0.3 -0.2 -0.1  0.0  0.1  0.2  0.3  0.4  0.5  0.6  0.7  0.8  0.9\n",
              " [61]  1.0  1.1  1.2  1.3  1.4  1.5  1.6  1.7  1.8  1.9  2.0  2.1  2.2  2.3  2.4\n",
              " [76]  2.5  2.6  2.7  2.8  2.9  3.0  3.1  3.2  3.3  3.4  3.5  3.6  3.7  3.8  3.9\n",
              " [91]  4.0  4.1  4.2  4.3  4.4  4.5  4.6  4.7  4.8  4.9  5.0  5.1  5.2  5.3  5.4\n",
              "[106]  5.5  5.6  5.7  5.8  5.9  6.0"
            ]
          },
          "metadata": {}
        }
      ]
    },
    {
      "cell_type": "code",
      "metadata": {
        "id": "PpEgoWDXIgwI"
      },
      "source": [
        "# podemos controlar el largo del vector resultante con el parámetro length.out\n",
        "sec1 <- seq(from = 1, to = 3 , length.out = 70)"
      ],
      "execution_count": 55,
      "outputs": []
    },
    {
      "cell_type": "code",
      "source": [
        "sec1"
      ],
      "metadata": {
        "id": "GnpSkRTxKOKc",
        "outputId": "9429fa92-8ac0-4811-98ba-fba18d9f676d",
        "colab": {
          "base_uri": "https://localhost:8080/",
          "height": 191
        }
      },
      "execution_count": 56,
      "outputs": [
        {
          "output_type": "display_data",
          "data": {
            "text/html": [
              "<style>\n",
              ".list-inline {list-style: none; margin:0; padding: 0}\n",
              ".list-inline>li {display: inline-block}\n",
              ".list-inline>li:not(:last-child)::after {content: \"\\00b7\"; padding: 0 .5ex}\n",
              "</style>\n",
              "<ol class=list-inline><li>1</li><li>1.02898550724638</li><li>1.05797101449275</li><li>1.08695652173913</li><li>1.11594202898551</li><li>1.14492753623188</li><li>1.17391304347826</li><li>1.20289855072464</li><li>1.23188405797101</li><li>1.26086956521739</li><li>1.28985507246377</li><li>1.31884057971015</li><li>1.34782608695652</li><li>1.3768115942029</li><li>1.40579710144928</li><li>1.43478260869565</li><li>1.46376811594203</li><li>1.49275362318841</li><li>1.52173913043478</li><li>1.55072463768116</li><li>1.57971014492754</li><li>1.60869565217391</li><li>1.63768115942029</li><li>1.66666666666667</li><li>1.69565217391304</li><li>1.72463768115942</li><li>1.7536231884058</li><li>1.78260869565217</li><li>1.81159420289855</li><li>1.84057971014493</li><li>1.8695652173913</li><li>1.89855072463768</li><li>1.92753623188406</li><li>1.95652173913043</li><li>1.98550724637681</li><li>2.01449275362319</li><li>2.04347826086957</li><li>2.07246376811594</li><li>2.10144927536232</li><li>2.1304347826087</li><li>2.15942028985507</li><li>2.18840579710145</li><li>2.21739130434783</li><li>2.2463768115942</li><li>2.27536231884058</li><li>2.30434782608696</li><li>2.33333333333333</li><li>2.36231884057971</li><li>2.39130434782609</li><li>2.42028985507246</li><li>2.44927536231884</li><li>2.47826086956522</li><li>2.50724637681159</li><li>2.53623188405797</li><li>2.56521739130435</li><li>2.59420289855072</li><li>2.6231884057971</li><li>2.65217391304348</li><li>2.68115942028985</li><li>2.71014492753623</li><li>2.73913043478261</li><li>2.76811594202899</li><li>2.79710144927536</li><li>2.82608695652174</li><li>2.85507246376812</li><li>2.88405797101449</li><li>2.91304347826087</li><li>2.94202898550725</li><li>2.97101449275362</li><li>3</li></ol>\n"
            ],
            "text/markdown": "1. 1\n2. 1.02898550724638\n3. 1.05797101449275\n4. 1.08695652173913\n5. 1.11594202898551\n6. 1.14492753623188\n7. 1.17391304347826\n8. 1.20289855072464\n9. 1.23188405797101\n10. 1.26086956521739\n11. 1.28985507246377\n12. 1.31884057971015\n13. 1.34782608695652\n14. 1.3768115942029\n15. 1.40579710144928\n16. 1.43478260869565\n17. 1.46376811594203\n18. 1.49275362318841\n19. 1.52173913043478\n20. 1.55072463768116\n21. 1.57971014492754\n22. 1.60869565217391\n23. 1.63768115942029\n24. 1.66666666666667\n25. 1.69565217391304\n26. 1.72463768115942\n27. 1.7536231884058\n28. 1.78260869565217\n29. 1.81159420289855\n30. 1.84057971014493\n31. 1.8695652173913\n32. 1.89855072463768\n33. 1.92753623188406\n34. 1.95652173913043\n35. 1.98550724637681\n36. 2.01449275362319\n37. 2.04347826086957\n38. 2.07246376811594\n39. 2.10144927536232\n40. 2.1304347826087\n41. 2.15942028985507\n42. 2.18840579710145\n43. 2.21739130434783\n44. 2.2463768115942\n45. 2.27536231884058\n46. 2.30434782608696\n47. 2.33333333333333\n48. 2.36231884057971\n49. 2.39130434782609\n50. 2.42028985507246\n51. 2.44927536231884\n52. 2.47826086956522\n53. 2.50724637681159\n54. 2.53623188405797\n55. 2.56521739130435\n56. 2.59420289855072\n57. 2.6231884057971\n58. 2.65217391304348\n59. 2.68115942028985\n60. 2.71014492753623\n61. 2.73913043478261\n62. 2.76811594202899\n63. 2.79710144927536\n64. 2.82608695652174\n65. 2.85507246376812\n66. 2.88405797101449\n67. 2.91304347826087\n68. 2.94202898550725\n69. 2.97101449275362\n70. 3\n\n\n",
            "text/latex": "\\begin{enumerate*}\n\\item 1\n\\item 1.02898550724638\n\\item 1.05797101449275\n\\item 1.08695652173913\n\\item 1.11594202898551\n\\item 1.14492753623188\n\\item 1.17391304347826\n\\item 1.20289855072464\n\\item 1.23188405797101\n\\item 1.26086956521739\n\\item 1.28985507246377\n\\item 1.31884057971015\n\\item 1.34782608695652\n\\item 1.3768115942029\n\\item 1.40579710144928\n\\item 1.43478260869565\n\\item 1.46376811594203\n\\item 1.49275362318841\n\\item 1.52173913043478\n\\item 1.55072463768116\n\\item 1.57971014492754\n\\item 1.60869565217391\n\\item 1.63768115942029\n\\item 1.66666666666667\n\\item 1.69565217391304\n\\item 1.72463768115942\n\\item 1.7536231884058\n\\item 1.78260869565217\n\\item 1.81159420289855\n\\item 1.84057971014493\n\\item 1.8695652173913\n\\item 1.89855072463768\n\\item 1.92753623188406\n\\item 1.95652173913043\n\\item 1.98550724637681\n\\item 2.01449275362319\n\\item 2.04347826086957\n\\item 2.07246376811594\n\\item 2.10144927536232\n\\item 2.1304347826087\n\\item 2.15942028985507\n\\item 2.18840579710145\n\\item 2.21739130434783\n\\item 2.2463768115942\n\\item 2.27536231884058\n\\item 2.30434782608696\n\\item 2.33333333333333\n\\item 2.36231884057971\n\\item 2.39130434782609\n\\item 2.42028985507246\n\\item 2.44927536231884\n\\item 2.47826086956522\n\\item 2.50724637681159\n\\item 2.53623188405797\n\\item 2.56521739130435\n\\item 2.59420289855072\n\\item 2.6231884057971\n\\item 2.65217391304348\n\\item 2.68115942028985\n\\item 2.71014492753623\n\\item 2.73913043478261\n\\item 2.76811594202899\n\\item 2.79710144927536\n\\item 2.82608695652174\n\\item 2.85507246376812\n\\item 2.88405797101449\n\\item 2.91304347826087\n\\item 2.94202898550725\n\\item 2.97101449275362\n\\item 3\n\\end{enumerate*}\n",
            "text/plain": [
              " [1] 1.000000 1.028986 1.057971 1.086957 1.115942 1.144928 1.173913 1.202899\n",
              " [9] 1.231884 1.260870 1.289855 1.318841 1.347826 1.376812 1.405797 1.434783\n",
              "[17] 1.463768 1.492754 1.521739 1.550725 1.579710 1.608696 1.637681 1.666667\n",
              "[25] 1.695652 1.724638 1.753623 1.782609 1.811594 1.840580 1.869565 1.898551\n",
              "[33] 1.927536 1.956522 1.985507 2.014493 2.043478 2.072464 2.101449 2.130435\n",
              "[41] 2.159420 2.188406 2.217391 2.246377 2.275362 2.304348 2.333333 2.362319\n",
              "[49] 2.391304 2.420290 2.449275 2.478261 2.507246 2.536232 2.565217 2.594203\n",
              "[57] 2.623188 2.652174 2.681159 2.710145 2.739130 2.768116 2.797101 2.826087\n",
              "[65] 2.855072 2.884058 2.913043 2.942029 2.971014 3.000000"
            ]
          },
          "metadata": {}
        }
      ]
    },
    {
      "cell_type": "code",
      "source": [
        "length(sec1)"
      ],
      "metadata": {
        "id": "zYa3YDWVKPge",
        "outputId": "01ed6149-d0bc-4705-ac87-39a130d633ab",
        "colab": {
          "base_uri": "https://localhost:8080/",
          "height": 34
        }
      },
      "execution_count": 57,
      "outputs": [
        {
          "output_type": "display_data",
          "data": {
            "text/html": [
              "70"
            ],
            "text/markdown": "70",
            "text/latex": "70",
            "text/plain": [
              "[1] 70"
            ]
          },
          "metadata": {}
        }
      ]
    },
    {
      "cell_type": "code",
      "metadata": {
        "id": "rG-Q3PmhIgwG",
        "outputId": "507d1b44-41d5-4798-dcc5-be5ea97626f7",
        "colab": {
          "base_uri": "https://localhost:8080/",
          "height": 34
        }
      },
      "source": [
        "# Ejemplo de secuencia con rep (utilice distintos tipos de datos)\n"
      ],
      "execution_count": 61,
      "outputs": [
        {
          "output_type": "display_data",
          "data": {
            "text/html": [
              "TRUE"
            ],
            "text/markdown": "TRUE",
            "text/latex": "TRUE",
            "text/plain": [
              "[1] TRUE"
            ]
          },
          "metadata": {}
        }
      ]
    },
    {
      "cell_type": "code",
      "metadata": {
        "id": "gGkgGylnIgwK"
      },
      "source": [
        "# ejemplo de función seq (utilice argumento by, y otro ejemplo con argumento length.out)\n"
      ],
      "execution_count": null,
      "outputs": []
    },
    {
      "cell_type": "code",
      "metadata": {
        "id": "psRswQHBIgwO"
      },
      "source": [
        "# ejemplo de vector aleatorio siguiendo una determinada distribución\n",
        "\n",
        "# distribución uniforme\n",
        "# distribución normal\n",
        "\n",
        "\n",
        "\n",
        "\n",
        "\n"
      ],
      "execution_count": null,
      "outputs": []
    },
    {
      "cell_type": "markdown",
      "metadata": {
        "id": "TlnEINwUIgwP"
      },
      "source": [
        "### 3.2 Funciones (primera parte)\n",
        "\n",
        "#### 3.2.1 Funciones vectorizadas y operaciones con vectores\n",
        "\n",
        "R es un lenguaje funcional, en el sentido de que prácticamente cada llamada a R corresponde a una función que puede (o no) recibir argumentos de entrada.\n",
        "Una de las ventajas es que existe una amplia, muy amplia,... verdaderamente amplia!, variedad de funciones disponibles, tanto en las librerías que vienen con la instalación por defecto como las librerías disponibles en CRAN o en toda la comunidad R.\n",
        "\n",
        "En R, una función $f$ se dice vectorizada si dado un vector $\\mathbf{x}=(x_1,x_2,\\dots,x_n)$, se tiene que $f(\\mathbf{x})=(f(x_1),f(x_2),\\dots,f(x_n))$.\n",
        "Esto hace que, por ejemplo, la aritmética de vectores se más sencilla de implentar y con un menor tiempo de cómputo . Gran parte de las funciones disponibles en la librerías (bibliotecas o *packages*) de R corresponden a funciones vectorizadas.\n",
        "A modo de ejemplo, a cotinuación se muestran algunas funciones (de las más básicas) aritméticas, y funciones para trabajar con texto:\n",
        "    \n",
        "    +,-,*,/\n",
        "    abs()\n",
        "    sqrt()\n",
        "    cos()\n",
        "    sin()\n",
        "    tan()\n",
        "    nchar()\n",
        "    susbtr()\n",
        "    grepl()\n",
        "    gsub()\n",
        "    \n",
        "   \n",
        "   \n",
        "   "
      ]
    },
    {
      "cell_type": "code",
      "metadata": {
        "id": "tO3oB1bnIgwP",
        "outputId": "32be1e82-2371-4d11-f9fb-8ca91dc4436d",
        "colab": {
          "base_uri": "https://localhost:8080/",
          "height": 52
        }
      },
      "source": [
        "# 3.2. Funciones (primera parte) ------------\n",
        "# 3.2.1 Funciones vectorizadas\n",
        "# Ejemplos básicos de funciones(vectorizadas)\n",
        "sqrt(c(16,4,2,9))\n",
        "abs(c(-1,2,-8))"
      ],
      "execution_count": 63,
      "outputs": [
        {
          "output_type": "display_data",
          "data": {
            "text/html": [
              "<style>\n",
              ".list-inline {list-style: none; margin:0; padding: 0}\n",
              ".list-inline>li {display: inline-block}\n",
              ".list-inline>li:not(:last-child)::after {content: \"\\00b7\"; padding: 0 .5ex}\n",
              "</style>\n",
              "<ol class=list-inline><li>4</li><li>2</li><li>1.4142135623731</li><li>3</li></ol>\n"
            ],
            "text/markdown": "1. 4\n2. 2\n3. 1.4142135623731\n4. 3\n\n\n",
            "text/latex": "\\begin{enumerate*}\n\\item 4\n\\item 2\n\\item 1.4142135623731\n\\item 3\n\\end{enumerate*}\n",
            "text/plain": [
              "[1] 4.000000 2.000000 1.414214 3.000000"
            ]
          },
          "metadata": {}
        },
        {
          "output_type": "display_data",
          "data": {
            "text/html": [
              "<style>\n",
              ".list-inline {list-style: none; margin:0; padding: 0}\n",
              ".list-inline>li {display: inline-block}\n",
              ".list-inline>li:not(:last-child)::after {content: \"\\00b7\"; padding: 0 .5ex}\n",
              "</style>\n",
              "<ol class=list-inline><li>1</li><li>2</li><li>8</li></ol>\n"
            ],
            "text/markdown": "1. 1\n2. 2\n3. 8\n\n\n",
            "text/latex": "\\begin{enumerate*}\n\\item 1\n\\item 2\n\\item 8\n\\end{enumerate*}\n",
            "text/plain": [
              "[1] 1 2 8"
            ]
          },
          "metadata": {}
        }
      ]
    },
    {
      "cell_type": "code",
      "metadata": {
        "id": "Z8L-KeGnIgwS"
      },
      "source": [],
      "execution_count": null,
      "outputs": []
    },
    {
      "cell_type": "code",
      "metadata": {
        "id": "NivskO3jIgwT",
        "outputId": "daf2af50-af16-4aff-da63-31a897e2bc03",
        "colab": {
          "base_uri": "https://localhost:8080/",
          "height": 34
        }
      },
      "source": [
        "# funciones para manipular texto\n",
        " #cantidad de caracteres\n",
        "nchar(c(\"hola\", \"soy\", \"  yo \"))\n",
        "\n"
      ],
      "execution_count": 64,
      "outputs": [
        {
          "output_type": "display_data",
          "data": {
            "text/html": [
              "<style>\n",
              ".list-inline {list-style: none; margin:0; padding: 0}\n",
              ".list-inline>li {display: inline-block}\n",
              ".list-inline>li:not(:last-child)::after {content: \"\\00b7\"; padding: 0 .5ex}\n",
              "</style>\n",
              "<ol class=list-inline><li>4</li><li>3</li><li>5</li></ol>\n"
            ],
            "text/markdown": "1. 4\n2. 3\n3. 5\n\n\n",
            "text/latex": "\\begin{enumerate*}\n\\item 4\n\\item 3\n\\item 5\n\\end{enumerate*}\n",
            "text/plain": [
              "[1] 4 3 5"
            ]
          },
          "metadata": {}
        }
      ]
    },
    {
      "cell_type": "code",
      "metadata": {
        "id": "tA55foL1IgwX"
      },
      "source": [
        "# substring substr()\n",
        "?substr\n"
      ],
      "execution_count": 65,
      "outputs": []
    },
    {
      "cell_type": "code",
      "source": [
        "substr(c(\"hola\", \"soy\", \"  yo \"), 3,4)"
      ],
      "metadata": {
        "id": "IgIxQ3WyOP2U",
        "outputId": "d22f4c7e-5d9c-4744-ee2d-43e4e8f8dfa7",
        "colab": {
          "base_uri": "https://localhost:8080/",
          "height": 34
        }
      },
      "execution_count": 68,
      "outputs": [
        {
          "output_type": "display_data",
          "data": {
            "text/html": [
              "<style>\n",
              ".list-inline {list-style: none; margin:0; padding: 0}\n",
              ".list-inline>li {display: inline-block}\n",
              ".list-inline>li:not(:last-child)::after {content: \"\\00b7\"; padding: 0 .5ex}\n",
              "</style>\n",
              "<ol class=list-inline><li>'la'</li><li>'y'</li><li>'yo'</li></ol>\n"
            ],
            "text/markdown": "1. 'la'\n2. 'y'\n3. 'yo'\n\n\n",
            "text/latex": "\\begin{enumerate*}\n\\item 'la'\n\\item 'y'\n\\item 'yo'\n\\end{enumerate*}\n",
            "text/plain": [
              "[1] \"la\" \"y\"  \"yo\""
            ]
          },
          "metadata": {}
        }
      ]
    },
    {
      "cell_type": "code",
      "metadata": {
        "id": "vjRwdUbiIgwY",
        "outputId": "1cdb9a8e-2f79-4d34-fab4-c692991c210b",
        "colab": {
          "base_uri": "https://localhost:8080/",
          "height": 69
        }
      },
      "source": [
        "# grepl() evlaúa si un  caracter está contenido en otro. (LIKE)\n",
        "#?grepl()\n",
        "grepl(\"ala\", \"palabra\")\n",
        "grepl(\"alo\", \"palabra\")\n",
        "\n",
        "\n",
        "#gsub() reemblaza un substring por otro\n",
        "#?gsub\n",
        "\n",
        "# si reemplazamos en un vector de palabras\n",
        "grepl(\"ala\", c(\"palabra\", \"salas\", \"halos\", \"mallas\"))\n"
      ],
      "execution_count": 71,
      "outputs": [
        {
          "output_type": "display_data",
          "data": {
            "text/html": [
              "TRUE"
            ],
            "text/markdown": "TRUE",
            "text/latex": "TRUE",
            "text/plain": [
              "[1] TRUE"
            ]
          },
          "metadata": {}
        },
        {
          "output_type": "display_data",
          "data": {
            "text/html": [
              "FALSE"
            ],
            "text/markdown": "FALSE",
            "text/latex": "FALSE",
            "text/plain": [
              "[1] FALSE"
            ]
          },
          "metadata": {}
        },
        {
          "output_type": "display_data",
          "data": {
            "text/html": [
              "<style>\n",
              ".list-inline {list-style: none; margin:0; padding: 0}\n",
              ".list-inline>li {display: inline-block}\n",
              ".list-inline>li:not(:last-child)::after {content: \"\\00b7\"; padding: 0 .5ex}\n",
              "</style>\n",
              "<ol class=list-inline><li>TRUE</li><li>TRUE</li><li>FALSE</li><li>FALSE</li></ol>\n"
            ],
            "text/markdown": "1. TRUE\n2. TRUE\n3. FALSE\n4. FALSE\n\n\n",
            "text/latex": "\\begin{enumerate*}\n\\item TRUE\n\\item TRUE\n\\item FALSE\n\\item FALSE\n\\end{enumerate*}\n",
            "text/plain": [
              "[1]  TRUE  TRUE FALSE FALSE"
            ]
          },
          "metadata": {}
        }
      ]
    },
    {
      "cell_type": "code",
      "source": [
        "?grepl"
      ],
      "metadata": {
        "id": "zrMkNRc3PHi4"
      },
      "execution_count": 72,
      "outputs": []
    },
    {
      "cell_type": "code",
      "metadata": {
        "id": "0j9kKUbzIgwZ"
      },
      "source": [
        "#gsub() reemplaza caracteres dentro de un texto\n",
        "?gsub()\n",
        "#https://www.tidytextmining.com/\n"
      ],
      "execution_count": 73,
      "outputs": []
    },
    {
      "cell_type": "code",
      "source": [
        "gsub(\"la\", \"XX\", c(\"palabra\", \"salas\", \"halos\", \"mallas\"))\n",
        "# gsub(pattern = \"la\", replacement = \"XX\", x = c(\"palabra\", \"salas\", \"halos\", \"mallas\"))\n"
      ],
      "metadata": {
        "id": "EsudbfZUPduq",
        "outputId": "2cffb7b1-bba0-4783-a9a1-b49d55b11e98",
        "colab": {
          "base_uri": "https://localhost:8080/",
          "height": 34
        }
      },
      "execution_count": 74,
      "outputs": [
        {
          "output_type": "display_data",
          "data": {
            "text/html": [
              "<style>\n",
              ".list-inline {list-style: none; margin:0; padding: 0}\n",
              ".list-inline>li {display: inline-block}\n",
              ".list-inline>li:not(:last-child)::after {content: \"\\00b7\"; padding: 0 .5ex}\n",
              "</style>\n",
              "<ol class=list-inline><li>'paXXbra'</li><li>'saXXs'</li><li>'halos'</li><li>'malXXs'</li></ol>\n"
            ],
            "text/markdown": "1. 'paXXbra'\n2. 'saXXs'\n3. 'halos'\n4. 'malXXs'\n\n\n",
            "text/latex": "\\begin{enumerate*}\n\\item 'paXXbra'\n\\item 'saXXs'\n\\item 'halos'\n\\item 'malXXs'\n\\end{enumerate*}\n",
            "text/plain": [
              "[1] \"paXXbra\" \"saXXs\"   \"halos\"   \"malXXs\" "
            ]
          },
          "metadata": {}
        }
      ]
    }
  ]
}