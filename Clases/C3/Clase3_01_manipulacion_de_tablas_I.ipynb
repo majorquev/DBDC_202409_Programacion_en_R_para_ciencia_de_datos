{
  "nbformat": 4,
  "nbformat_minor": 0,
  "metadata": {
    "colab": {
      "provenance": [],
      "include_colab_link": true
    },
    "kernelspec": {
      "name": "ir",
      "display_name": "R"
    }
  },
  "cells": [
    {
      "cell_type": "markdown",
      "metadata": {
        "id": "view-in-github",
        "colab_type": "text"
      },
      "source": [
        "<a href=\"https://colab.research.google.com/github/majorquev/DBDC_202409_Programacion_en_R_para_ciencia_de_datos/blob/main/Clases/C3/Clase3_01_manipulacion_de_tablas_I.ipynb\" target=\"_parent\"><img src=\"https://colab.research.google.com/assets/colab-badge.svg\" alt=\"Open In Colab\"/></a>"
      ]
    },
    {
      "cell_type": "markdown",
      "metadata": {
        "trusted": true,
        "id": "ID-hRx0URPyD"
      },
      "source": [
        "# Parte 2: Manipulación de tablas en R (Parte I)\n",
        "\n",
        "\n",
        "**Autor:** Miguel Jorquera Viguera<br>\n",
        "**E-mail:** majorquev@gmail.com<br>\n",
        "**Ayudante:** Rodrigo Morales<br>\n",
        "**E-mail ayudante:** rumorale1@gmail.com\n",
        "\n",
        "## 1. Instalación de librerías\n",
        "\n",
        "En esta sección aprenderemos a realizar operaciones simples de manipulación de tablas en R. Para ello trabajaremos con la librería _dplyr_, la cual cuenta con una gran variedad de funciones para manipular tablas, entre otras.\n",
        "\n",
        "\n",
        "Una manera de instalar librerías en R es me diante la función `install.packages()`, la cual recibe como argunmento principal el nombre (enre comillas) de la librería que se desea cargar.\n",
        "\n",
        "Una vez instalada la librería la debemos cargar en la sesión de trbajao, para lo cual podemos utilizar la función `library()` la cual recibe como argumento el nombre de la librería que se quiere cargar.\n"
      ]
    },
    {
      "cell_type": "code",
      "metadata": {
        "id": "FPF3jDwbRnTs",
        "colab": {
          "base_uri": "https://localhost:8080/"
        },
        "outputId": "556b4fc6-5e9c-487d-a19e-397f3e7b0a20"
      },
      "source": [
        "install.packages(\"tidyr\")"
      ],
      "execution_count": null,
      "outputs": [
        {
          "output_type": "stream",
          "name": "stderr",
          "text": [
            "Installing package into ‘/usr/local/lib/R/site-library’\n",
            "(as ‘lib’ is unspecified)\n",
            "\n"
          ]
        }
      ]
    },
    {
      "cell_type": "code",
      "source": [
        "# Una vez instalada l podemos cargar en sesión\n",
        "library(tidyr)"
      ],
      "metadata": {
        "id": "_qhqDxeyFcV1"
      },
      "execution_count": null,
      "outputs": []
    },
    {
      "cell_type": "code",
      "metadata": {
        "trusted": true,
        "id": "jcbeiXarRPyE",
        "colab": {
          "base_uri": "https://localhost:8080/"
        },
        "outputId": "628adea8-8d1b-4215-b667-562f83a838a9"
      },
      "source": [
        "# 1. Instalación de package\n",
        "# install.packages(\"dplyr\") # No instalaremos la librería pues ya viene cargada en los notebooks de azure.Probablemente sea necesario hacerlo en su entorno local.\n",
        "# Para cargar la librería\n",
        "library(\"dplyr\") # sin comillas también funciona\n",
        "\n",
        "\n"
      ],
      "execution_count": null,
      "outputs": [
        {
          "output_type": "stream",
          "name": "stderr",
          "text": [
            "\n",
            "Attaching package: ‘dplyr’\n",
            "\n",
            "\n",
            "The following objects are masked from ‘package:stats’:\n",
            "\n",
            "    filter, lag\n",
            "\n",
            "\n",
            "The following objects are masked from ‘package:base’:\n",
            "\n",
            "    intersect, setdiff, setequal, union\n",
            "\n",
            "\n"
          ]
        }
      ]
    },
    {
      "cell_type": "markdown",
      "metadata": {
        "trusted": true,
        "id": "97hMfOQQRPyI"
      },
      "source": [
        "## 2. Funciones básicas en dplyr\n",
        "\n",
        "En todo proyecto analítico es necesario procesar, limpar y unificar disntintas fuentes de información para poder generar los análisis requeridos. Para dichas tareas, en la librería _dplyr_ contamos con funciones que nos permitirán filtrar datos, crear columnas, agrupar tablas, y cruzar tablas.\n",
        "\n",
        "A continuación trabajaremos con la siguientes funciones:<br>\n",
        "\n",
        "   `filter()`                        : Para filtrar los datos (por filas).<br>\n",
        "   `arrange()`                       : Para ordenar un dataset.<br>\n",
        "   `select()`                        : Para seleccionar y renombrar columnas.<br>\n",
        "   `mutate()`                        : Para crear (o modificar) nuevas columnas basadas en columnas existentes.<br>\n",
        "   `group_by()`                     : Para agrupar tablas.<br>\n",
        "   `sample_n()` and `sample_frac()`  : Para generar muestras aleatorias<br>\n",
        "   \n",
        "   \n",
        "Para entender el funcionamiento de estas funciones trabjaremos con el set de datos _nycflights13_, el cual contiene la información de los vuelos con salida en los aeropuertos de Nueva York en el año 2013.\n",
        "\n",
        "## 3. Carga de datos\n",
        "\n",
        "En R es posible cargar datos provenientes de archivos de texto plano. Un ejemplo de ellos son los de extensión *.csv (comma separated values). Para cargar los datos a la sesión, lo podemos realizar a través de la función `read.csv()`, la cual recibe como argumento principal la ruta del archivo a cargar.\n",
        "\n",
        "   \n",
        "   \n",
        "   "
      ]
    },
    {
      "cell_type": "code",
      "metadata": {
        "trusted": true,
        "id": "gKV9NYMORPyI",
        "colab": {
          "base_uri": "https://localhost:8080/",
          "height": 34
        },
        "outputId": "aee5449c-cc63-4af2-8177-0d71763435b4"
      },
      "source": [
        "getwd()\n"
      ],
      "execution_count": null,
      "outputs": [
        {
          "output_type": "display_data",
          "data": {
            "text/html": [
              "'/content'"
            ],
            "text/markdown": "'/content'",
            "text/latex": "'/content'",
            "text/plain": [
              "[1] \"/content\""
            ]
          },
          "metadata": {}
        }
      ]
    },
    {
      "cell_type": "code",
      "metadata": {
        "trusted": true,
        "id": "Ga1OFuNwRPyL"
      },
      "source": [
        "# Carga de datos ------\n",
        "# Usaremos la función read.csv para cargar el archivo flights.csv ubicado en \"./Datasets/\", y lo guardamos en una variable llamada vuelo.\n",
        "\n",
        "vuelos <- read.csv(file = \"/content/flights.csv\", header = T)\n",
        "vuelos2 <- read.csv(file = \"flights.csv\")# Podemos indicar solo el nombre (no la ruta completa) si el archivo está en el directorio de trabajo por defecto"
      ],
      "execution_count": null,
      "outputs": []
    },
    {
      "cell_type": "code",
      "source": [
        "head(vuelos)"
      ],
      "metadata": {
        "colab": {
          "base_uri": "https://localhost:8080/",
          "height": 514
        },
        "id": "fwY15jgyID82",
        "outputId": "3b11454b-05c0-4930-83bf-211d4c620422"
      },
      "execution_count": null,
      "outputs": [
        {
          "output_type": "display_data",
          "data": {
            "text/html": [
              "<table class=\"dataframe\">\n",
              "<caption>A data.frame: 6 × 19</caption>\n",
              "<thead>\n",
              "\t<tr><th></th><th scope=col>year</th><th scope=col>month</th><th scope=col>day</th><th scope=col>dep_time</th><th scope=col>sched_dep_time</th><th scope=col>dep_delay</th><th scope=col>arr_time</th><th scope=col>sched_arr_time</th><th scope=col>arr_delay</th><th scope=col>carrier</th><th scope=col>flight</th><th scope=col>tailnum</th><th scope=col>origin</th><th scope=col>dest</th><th scope=col>air_time</th><th scope=col>distance</th><th scope=col>hour</th><th scope=col>minute</th><th scope=col>time_hour</th></tr>\n",
              "\t<tr><th></th><th scope=col>&lt;int&gt;</th><th scope=col>&lt;int&gt;</th><th scope=col>&lt;int&gt;</th><th scope=col>&lt;int&gt;</th><th scope=col>&lt;int&gt;</th><th scope=col>&lt;int&gt;</th><th scope=col>&lt;int&gt;</th><th scope=col>&lt;int&gt;</th><th scope=col>&lt;int&gt;</th><th scope=col>&lt;chr&gt;</th><th scope=col>&lt;int&gt;</th><th scope=col>&lt;chr&gt;</th><th scope=col>&lt;chr&gt;</th><th scope=col>&lt;chr&gt;</th><th scope=col>&lt;int&gt;</th><th scope=col>&lt;int&gt;</th><th scope=col>&lt;int&gt;</th><th scope=col>&lt;int&gt;</th><th scope=col>&lt;chr&gt;</th></tr>\n",
              "</thead>\n",
              "<tbody>\n",
              "\t<tr><th scope=row>1</th><td>2013</td><td>1</td><td>1</td><td>517</td><td>515</td><td> 2</td><td> 830</td><td> 819</td><td> 11</td><td>UA</td><td>1545</td><td>N14228</td><td>EWR</td><td>IAH</td><td>227</td><td>1400</td><td>5</td><td>15</td><td>2013-01-01 05:00:00</td></tr>\n",
              "\t<tr><th scope=row>2</th><td>2013</td><td>1</td><td>1</td><td>533</td><td>529</td><td> 4</td><td> 850</td><td> 830</td><td> 20</td><td>UA</td><td>1714</td><td>N24211</td><td>LGA</td><td>IAH</td><td>227</td><td>1416</td><td>5</td><td>29</td><td>2013-01-01 05:00:00</td></tr>\n",
              "\t<tr><th scope=row>3</th><td>2013</td><td>1</td><td>1</td><td>542</td><td>540</td><td> 2</td><td> 923</td><td> 850</td><td> 33</td><td>AA</td><td>1141</td><td>N619AA</td><td>JFK</td><td>MIA</td><td>160</td><td>1089</td><td>5</td><td>40</td><td>2013-01-01 05:00:00</td></tr>\n",
              "\t<tr><th scope=row>4</th><td>2013</td><td>1</td><td>1</td><td>544</td><td>545</td><td>-1</td><td>1004</td><td>1022</td><td>-18</td><td>B6</td><td> 725</td><td>N804JB</td><td>JFK</td><td>BQN</td><td>183</td><td>1576</td><td>5</td><td>45</td><td>2013-01-01 05:00:00</td></tr>\n",
              "\t<tr><th scope=row>5</th><td>2013</td><td>1</td><td>1</td><td>554</td><td>600</td><td>-6</td><td> 812</td><td> 837</td><td>-25</td><td>DL</td><td> 461</td><td>N668DN</td><td>LGA</td><td>ATL</td><td>116</td><td> 762</td><td>6</td><td> 0</td><td>2013-01-01 06:00:00</td></tr>\n",
              "\t<tr><th scope=row>6</th><td>2013</td><td>1</td><td>1</td><td>554</td><td>558</td><td>-4</td><td> 740</td><td> 728</td><td> 12</td><td>UA</td><td>1696</td><td>N39463</td><td>EWR</td><td>ORD</td><td>150</td><td> 719</td><td>5</td><td>58</td><td>2013-01-01 05:00:00</td></tr>\n",
              "</tbody>\n",
              "</table>\n"
            ],
            "text/markdown": "\nA data.frame: 6 × 19\n\n| <!--/--> | year &lt;int&gt; | month &lt;int&gt; | day &lt;int&gt; | dep_time &lt;int&gt; | sched_dep_time &lt;int&gt; | dep_delay &lt;int&gt; | arr_time &lt;int&gt; | sched_arr_time &lt;int&gt; | arr_delay &lt;int&gt; | carrier &lt;chr&gt; | flight &lt;int&gt; | tailnum &lt;chr&gt; | origin &lt;chr&gt; | dest &lt;chr&gt; | air_time &lt;int&gt; | distance &lt;int&gt; | hour &lt;int&gt; | minute &lt;int&gt; | time_hour &lt;chr&gt; |\n|---|---|---|---|---|---|---|---|---|---|---|---|---|---|---|---|---|---|---|---|\n| 1 | 2013 | 1 | 1 | 517 | 515 |  2 |  830 |  819 |  11 | UA | 1545 | N14228 | EWR | IAH | 227 | 1400 | 5 | 15 | 2013-01-01 05:00:00 |\n| 2 | 2013 | 1 | 1 | 533 | 529 |  4 |  850 |  830 |  20 | UA | 1714 | N24211 | LGA | IAH | 227 | 1416 | 5 | 29 | 2013-01-01 05:00:00 |\n| 3 | 2013 | 1 | 1 | 542 | 540 |  2 |  923 |  850 |  33 | AA | 1141 | N619AA | JFK | MIA | 160 | 1089 | 5 | 40 | 2013-01-01 05:00:00 |\n| 4 | 2013 | 1 | 1 | 544 | 545 | -1 | 1004 | 1022 | -18 | B6 |  725 | N804JB | JFK | BQN | 183 | 1576 | 5 | 45 | 2013-01-01 05:00:00 |\n| 5 | 2013 | 1 | 1 | 554 | 600 | -6 |  812 |  837 | -25 | DL |  461 | N668DN | LGA | ATL | 116 |  762 | 6 |  0 | 2013-01-01 06:00:00 |\n| 6 | 2013 | 1 | 1 | 554 | 558 | -4 |  740 |  728 |  12 | UA | 1696 | N39463 | EWR | ORD | 150 |  719 | 5 | 58 | 2013-01-01 05:00:00 |\n\n",
            "text/latex": "A data.frame: 6 × 19\n\\begin{tabular}{r|lllllllllllllllllll}\n  & year & month & day & dep\\_time & sched\\_dep\\_time & dep\\_delay & arr\\_time & sched\\_arr\\_time & arr\\_delay & carrier & flight & tailnum & origin & dest & air\\_time & distance & hour & minute & time\\_hour\\\\\n  & <int> & <int> & <int> & <int> & <int> & <int> & <int> & <int> & <int> & <chr> & <int> & <chr> & <chr> & <chr> & <int> & <int> & <int> & <int> & <chr>\\\\\n\\hline\n\t1 & 2013 & 1 & 1 & 517 & 515 &  2 &  830 &  819 &  11 & UA & 1545 & N14228 & EWR & IAH & 227 & 1400 & 5 & 15 & 2013-01-01 05:00:00\\\\\n\t2 & 2013 & 1 & 1 & 533 & 529 &  4 &  850 &  830 &  20 & UA & 1714 & N24211 & LGA & IAH & 227 & 1416 & 5 & 29 & 2013-01-01 05:00:00\\\\\n\t3 & 2013 & 1 & 1 & 542 & 540 &  2 &  923 &  850 &  33 & AA & 1141 & N619AA & JFK & MIA & 160 & 1089 & 5 & 40 & 2013-01-01 05:00:00\\\\\n\t4 & 2013 & 1 & 1 & 544 & 545 & -1 & 1004 & 1022 & -18 & B6 &  725 & N804JB & JFK & BQN & 183 & 1576 & 5 & 45 & 2013-01-01 05:00:00\\\\\n\t5 & 2013 & 1 & 1 & 554 & 600 & -6 &  812 &  837 & -25 & DL &  461 & N668DN & LGA & ATL & 116 &  762 & 6 &  0 & 2013-01-01 06:00:00\\\\\n\t6 & 2013 & 1 & 1 & 554 & 558 & -4 &  740 &  728 &  12 & UA & 1696 & N39463 & EWR & ORD & 150 &  719 & 5 & 58 & 2013-01-01 05:00:00\\\\\n\\end{tabular}\n",
            "text/plain": [
              "  year month day dep_time sched_dep_time dep_delay arr_time sched_arr_time\n",
              "1 2013 1     1   517      515             2         830      819          \n",
              "2 2013 1     1   533      529             4         850      830          \n",
              "3 2013 1     1   542      540             2         923      850          \n",
              "4 2013 1     1   544      545            -1        1004     1022          \n",
              "5 2013 1     1   554      600            -6         812      837          \n",
              "6 2013 1     1   554      558            -4         740      728          \n",
              "  arr_delay carrier flight tailnum origin dest air_time distance hour minute\n",
              "1  11       UA      1545   N14228  EWR    IAH  227      1400     5    15    \n",
              "2  20       UA      1714   N24211  LGA    IAH  227      1416     5    29    \n",
              "3  33       AA      1141   N619AA  JFK    MIA  160      1089     5    40    \n",
              "4 -18       B6       725   N804JB  JFK    BQN  183      1576     5    45    \n",
              "5 -25       DL       461   N668DN  LGA    ATL  116       762     6     0    \n",
              "6  12       UA      1696   N39463  EWR    ORD  150       719     5    58    \n",
              "  time_hour          \n",
              "1 2013-01-01 05:00:00\n",
              "2 2013-01-01 05:00:00\n",
              "3 2013-01-01 05:00:00\n",
              "4 2013-01-01 05:00:00\n",
              "5 2013-01-01 06:00:00\n",
              "6 2013-01-01 05:00:00"
            ]
          },
          "metadata": {}
        }
      ]
    },
    {
      "cell_type": "code",
      "source": [
        "head(vuelos2)"
      ],
      "metadata": {
        "colab": {
          "base_uri": "https://localhost:8080/",
          "height": 514
        },
        "id": "Oba8OSRqIow1",
        "outputId": "a9e24390-f77f-4bc3-9b86-fbed076e3bd9"
      },
      "execution_count": null,
      "outputs": [
        {
          "output_type": "display_data",
          "data": {
            "text/html": [
              "<table class=\"dataframe\">\n",
              "<caption>A data.frame: 6 × 19</caption>\n",
              "<thead>\n",
              "\t<tr><th></th><th scope=col>year</th><th scope=col>month</th><th scope=col>day</th><th scope=col>dep_time</th><th scope=col>sched_dep_time</th><th scope=col>dep_delay</th><th scope=col>arr_time</th><th scope=col>sched_arr_time</th><th scope=col>arr_delay</th><th scope=col>carrier</th><th scope=col>flight</th><th scope=col>tailnum</th><th scope=col>origin</th><th scope=col>dest</th><th scope=col>air_time</th><th scope=col>distance</th><th scope=col>hour</th><th scope=col>minute</th><th scope=col>time_hour</th></tr>\n",
              "\t<tr><th></th><th scope=col>&lt;int&gt;</th><th scope=col>&lt;int&gt;</th><th scope=col>&lt;int&gt;</th><th scope=col>&lt;int&gt;</th><th scope=col>&lt;int&gt;</th><th scope=col>&lt;int&gt;</th><th scope=col>&lt;int&gt;</th><th scope=col>&lt;int&gt;</th><th scope=col>&lt;int&gt;</th><th scope=col>&lt;chr&gt;</th><th scope=col>&lt;int&gt;</th><th scope=col>&lt;chr&gt;</th><th scope=col>&lt;chr&gt;</th><th scope=col>&lt;chr&gt;</th><th scope=col>&lt;int&gt;</th><th scope=col>&lt;int&gt;</th><th scope=col>&lt;int&gt;</th><th scope=col>&lt;int&gt;</th><th scope=col>&lt;chr&gt;</th></tr>\n",
              "</thead>\n",
              "<tbody>\n",
              "\t<tr><th scope=row>1</th><td>2013</td><td>1</td><td>1</td><td>517</td><td>515</td><td> 2</td><td> 830</td><td> 819</td><td> 11</td><td>UA</td><td>1545</td><td>N14228</td><td>EWR</td><td>IAH</td><td>227</td><td>1400</td><td>5</td><td>15</td><td>2013-01-01 05:00:00</td></tr>\n",
              "\t<tr><th scope=row>2</th><td>2013</td><td>1</td><td>1</td><td>533</td><td>529</td><td> 4</td><td> 850</td><td> 830</td><td> 20</td><td>UA</td><td>1714</td><td>N24211</td><td>LGA</td><td>IAH</td><td>227</td><td>1416</td><td>5</td><td>29</td><td>2013-01-01 05:00:00</td></tr>\n",
              "\t<tr><th scope=row>3</th><td>2013</td><td>1</td><td>1</td><td>542</td><td>540</td><td> 2</td><td> 923</td><td> 850</td><td> 33</td><td>AA</td><td>1141</td><td>N619AA</td><td>JFK</td><td>MIA</td><td>160</td><td>1089</td><td>5</td><td>40</td><td>2013-01-01 05:00:00</td></tr>\n",
              "\t<tr><th scope=row>4</th><td>2013</td><td>1</td><td>1</td><td>544</td><td>545</td><td>-1</td><td>1004</td><td>1022</td><td>-18</td><td>B6</td><td> 725</td><td>N804JB</td><td>JFK</td><td>BQN</td><td>183</td><td>1576</td><td>5</td><td>45</td><td>2013-01-01 05:00:00</td></tr>\n",
              "\t<tr><th scope=row>5</th><td>2013</td><td>1</td><td>1</td><td>554</td><td>600</td><td>-6</td><td> 812</td><td> 837</td><td>-25</td><td>DL</td><td> 461</td><td>N668DN</td><td>LGA</td><td>ATL</td><td>116</td><td> 762</td><td>6</td><td> 0</td><td>2013-01-01 06:00:00</td></tr>\n",
              "\t<tr><th scope=row>6</th><td>2013</td><td>1</td><td>1</td><td>554</td><td>558</td><td>-4</td><td> 740</td><td> 728</td><td> 12</td><td>UA</td><td>1696</td><td>N39463</td><td>EWR</td><td>ORD</td><td>150</td><td> 719</td><td>5</td><td>58</td><td>2013-01-01 05:00:00</td></tr>\n",
              "</tbody>\n",
              "</table>\n"
            ],
            "text/markdown": "\nA data.frame: 6 × 19\n\n| <!--/--> | year &lt;int&gt; | month &lt;int&gt; | day &lt;int&gt; | dep_time &lt;int&gt; | sched_dep_time &lt;int&gt; | dep_delay &lt;int&gt; | arr_time &lt;int&gt; | sched_arr_time &lt;int&gt; | arr_delay &lt;int&gt; | carrier &lt;chr&gt; | flight &lt;int&gt; | tailnum &lt;chr&gt; | origin &lt;chr&gt; | dest &lt;chr&gt; | air_time &lt;int&gt; | distance &lt;int&gt; | hour &lt;int&gt; | minute &lt;int&gt; | time_hour &lt;chr&gt; |\n|---|---|---|---|---|---|---|---|---|---|---|---|---|---|---|---|---|---|---|---|\n| 1 | 2013 | 1 | 1 | 517 | 515 |  2 |  830 |  819 |  11 | UA | 1545 | N14228 | EWR | IAH | 227 | 1400 | 5 | 15 | 2013-01-01 05:00:00 |\n| 2 | 2013 | 1 | 1 | 533 | 529 |  4 |  850 |  830 |  20 | UA | 1714 | N24211 | LGA | IAH | 227 | 1416 | 5 | 29 | 2013-01-01 05:00:00 |\n| 3 | 2013 | 1 | 1 | 542 | 540 |  2 |  923 |  850 |  33 | AA | 1141 | N619AA | JFK | MIA | 160 | 1089 | 5 | 40 | 2013-01-01 05:00:00 |\n| 4 | 2013 | 1 | 1 | 544 | 545 | -1 | 1004 | 1022 | -18 | B6 |  725 | N804JB | JFK | BQN | 183 | 1576 | 5 | 45 | 2013-01-01 05:00:00 |\n| 5 | 2013 | 1 | 1 | 554 | 600 | -6 |  812 |  837 | -25 | DL |  461 | N668DN | LGA | ATL | 116 |  762 | 6 |  0 | 2013-01-01 06:00:00 |\n| 6 | 2013 | 1 | 1 | 554 | 558 | -4 |  740 |  728 |  12 | UA | 1696 | N39463 | EWR | ORD | 150 |  719 | 5 | 58 | 2013-01-01 05:00:00 |\n\n",
            "text/latex": "A data.frame: 6 × 19\n\\begin{tabular}{r|lllllllllllllllllll}\n  & year & month & day & dep\\_time & sched\\_dep\\_time & dep\\_delay & arr\\_time & sched\\_arr\\_time & arr\\_delay & carrier & flight & tailnum & origin & dest & air\\_time & distance & hour & minute & time\\_hour\\\\\n  & <int> & <int> & <int> & <int> & <int> & <int> & <int> & <int> & <int> & <chr> & <int> & <chr> & <chr> & <chr> & <int> & <int> & <int> & <int> & <chr>\\\\\n\\hline\n\t1 & 2013 & 1 & 1 & 517 & 515 &  2 &  830 &  819 &  11 & UA & 1545 & N14228 & EWR & IAH & 227 & 1400 & 5 & 15 & 2013-01-01 05:00:00\\\\\n\t2 & 2013 & 1 & 1 & 533 & 529 &  4 &  850 &  830 &  20 & UA & 1714 & N24211 & LGA & IAH & 227 & 1416 & 5 & 29 & 2013-01-01 05:00:00\\\\\n\t3 & 2013 & 1 & 1 & 542 & 540 &  2 &  923 &  850 &  33 & AA & 1141 & N619AA & JFK & MIA & 160 & 1089 & 5 & 40 & 2013-01-01 05:00:00\\\\\n\t4 & 2013 & 1 & 1 & 544 & 545 & -1 & 1004 & 1022 & -18 & B6 &  725 & N804JB & JFK & BQN & 183 & 1576 & 5 & 45 & 2013-01-01 05:00:00\\\\\n\t5 & 2013 & 1 & 1 & 554 & 600 & -6 &  812 &  837 & -25 & DL &  461 & N668DN & LGA & ATL & 116 &  762 & 6 &  0 & 2013-01-01 06:00:00\\\\\n\t6 & 2013 & 1 & 1 & 554 & 558 & -4 &  740 &  728 &  12 & UA & 1696 & N39463 & EWR & ORD & 150 &  719 & 5 & 58 & 2013-01-01 05:00:00\\\\\n\\end{tabular}\n",
            "text/plain": [
              "  year month day dep_time sched_dep_time dep_delay arr_time sched_arr_time\n",
              "1 2013 1     1   517      515             2         830      819          \n",
              "2 2013 1     1   533      529             4         850      830          \n",
              "3 2013 1     1   542      540             2         923      850          \n",
              "4 2013 1     1   544      545            -1        1004     1022          \n",
              "5 2013 1     1   554      600            -6         812      837          \n",
              "6 2013 1     1   554      558            -4         740      728          \n",
              "  arr_delay carrier flight tailnum origin dest air_time distance hour minute\n",
              "1  11       UA      1545   N14228  EWR    IAH  227      1400     5    15    \n",
              "2  20       UA      1714   N24211  LGA    IAH  227      1416     5    29    \n",
              "3  33       AA      1141   N619AA  JFK    MIA  160      1089     5    40    \n",
              "4 -18       B6       725   N804JB  JFK    BQN  183      1576     5    45    \n",
              "5 -25       DL       461   N668DN  LGA    ATL  116       762     6     0    \n",
              "6  12       UA      1696   N39463  EWR    ORD  150       719     5    58    \n",
              "  time_hour          \n",
              "1 2013-01-01 05:00:00\n",
              "2 2013-01-01 05:00:00\n",
              "3 2013-01-01 05:00:00\n",
              "4 2013-01-01 05:00:00\n",
              "5 2013-01-01 06:00:00\n",
              "6 2013-01-01 05:00:00"
            ]
          },
          "metadata": {}
        }
      ]
    },
    {
      "cell_type": "code",
      "source": [
        "setwd(\"/content/sample_data\")"
      ],
      "metadata": {
        "id": "AwwBr6dJJqLi"
      },
      "execution_count": null,
      "outputs": []
    },
    {
      "cell_type": "code",
      "source": [
        "getwd()"
      ],
      "metadata": {
        "colab": {
          "base_uri": "https://localhost:8080/",
          "height": 34
        },
        "id": "137hSVVbJzjm",
        "outputId": "afc6b053-1a14-4129-c64a-ed4fe3c0e3d9"
      },
      "execution_count": null,
      "outputs": [
        {
          "output_type": "display_data",
          "data": {
            "text/html": [
              "'/content/sample_data'"
            ],
            "text/markdown": "'/content/sample_data'",
            "text/latex": "'/content/sample\\_data'",
            "text/plain": [
              "[1] \"/content/sample_data\""
            ]
          },
          "metadata": {}
        }
      ]
    },
    {
      "cell_type": "code",
      "source": [
        "vuelos <- read.csv(\"https://raw.githubusercontent.com/majorquev/DBDC_202409_Programacion_en_R_para_ciencia_de_datos/refs/heads/main/Clases/C3/Datasets/flights.csv\") # podemos darle una ruta web"
      ],
      "metadata": {
        "id": "FF-QLvmHJ2YG"
      },
      "execution_count": null,
      "outputs": []
    },
    {
      "cell_type": "code",
      "metadata": {
        "trusted": true,
        "id": "XH_T6QWVRPyN",
        "colab": {
          "base_uri": "https://localhost:8080/",
          "height": 1000
        },
        "outputId": "ae40df6f-d76f-4b46-d0ef-12281bfe6108"
      },
      "source": [
        "# Podemos inspeccionar los datos cargados\n",
        "# Para ello son de utilidad las funciones head() y summary()\n",
        "head(vuelos,10)\n",
        "tail(vuelos,10)\n",
        "\n"
      ],
      "execution_count": null,
      "outputs": [
        {
          "output_type": "display_data",
          "data": {
            "text/html": [
              "<table class=\"dataframe\">\n",
              "<caption>A data.frame: 10 × 19</caption>\n",
              "<thead>\n",
              "\t<tr><th></th><th scope=col>year</th><th scope=col>month</th><th scope=col>day</th><th scope=col>dep_time</th><th scope=col>sched_dep_time</th><th scope=col>dep_delay</th><th scope=col>arr_time</th><th scope=col>sched_arr_time</th><th scope=col>arr_delay</th><th scope=col>carrier</th><th scope=col>flight</th><th scope=col>tailnum</th><th scope=col>origin</th><th scope=col>dest</th><th scope=col>air_time</th><th scope=col>distance</th><th scope=col>hour</th><th scope=col>minute</th><th scope=col>time_hour</th></tr>\n",
              "\t<tr><th></th><th scope=col>&lt;int&gt;</th><th scope=col>&lt;int&gt;</th><th scope=col>&lt;int&gt;</th><th scope=col>&lt;int&gt;</th><th scope=col>&lt;int&gt;</th><th scope=col>&lt;int&gt;</th><th scope=col>&lt;int&gt;</th><th scope=col>&lt;int&gt;</th><th scope=col>&lt;int&gt;</th><th scope=col>&lt;chr&gt;</th><th scope=col>&lt;int&gt;</th><th scope=col>&lt;chr&gt;</th><th scope=col>&lt;chr&gt;</th><th scope=col>&lt;chr&gt;</th><th scope=col>&lt;int&gt;</th><th scope=col>&lt;int&gt;</th><th scope=col>&lt;int&gt;</th><th scope=col>&lt;int&gt;</th><th scope=col>&lt;chr&gt;</th></tr>\n",
              "</thead>\n",
              "<tbody>\n",
              "\t<tr><th scope=row>1</th><td>2013</td><td>1</td><td>1</td><td>517</td><td>515</td><td> 2</td><td> 830</td><td> 819</td><td> 11</td><td>UA</td><td>1545</td><td>N14228</td><td>EWR</td><td>IAH</td><td>227</td><td>1400</td><td>5</td><td>15</td><td>2013-01-01 05:00:00</td></tr>\n",
              "\t<tr><th scope=row>2</th><td>2013</td><td>1</td><td>1</td><td>533</td><td>529</td><td> 4</td><td> 850</td><td> 830</td><td> 20</td><td>UA</td><td>1714</td><td>N24211</td><td>LGA</td><td>IAH</td><td>227</td><td>1416</td><td>5</td><td>29</td><td>2013-01-01 05:00:00</td></tr>\n",
              "\t<tr><th scope=row>3</th><td>2013</td><td>1</td><td>1</td><td>542</td><td>540</td><td> 2</td><td> 923</td><td> 850</td><td> 33</td><td>AA</td><td>1141</td><td>N619AA</td><td>JFK</td><td>MIA</td><td>160</td><td>1089</td><td>5</td><td>40</td><td>2013-01-01 05:00:00</td></tr>\n",
              "\t<tr><th scope=row>4</th><td>2013</td><td>1</td><td>1</td><td>544</td><td>545</td><td>-1</td><td>1004</td><td>1022</td><td>-18</td><td>B6</td><td> 725</td><td>N804JB</td><td>JFK</td><td>BQN</td><td>183</td><td>1576</td><td>5</td><td>45</td><td>2013-01-01 05:00:00</td></tr>\n",
              "\t<tr><th scope=row>5</th><td>2013</td><td>1</td><td>1</td><td>554</td><td>600</td><td>-6</td><td> 812</td><td> 837</td><td>-25</td><td>DL</td><td> 461</td><td>N668DN</td><td>LGA</td><td>ATL</td><td>116</td><td> 762</td><td>6</td><td> 0</td><td>2013-01-01 06:00:00</td></tr>\n",
              "\t<tr><th scope=row>6</th><td>2013</td><td>1</td><td>1</td><td>554</td><td>558</td><td>-4</td><td> 740</td><td> 728</td><td> 12</td><td>UA</td><td>1696</td><td>N39463</td><td>EWR</td><td>ORD</td><td>150</td><td> 719</td><td>5</td><td>58</td><td>2013-01-01 05:00:00</td></tr>\n",
              "\t<tr><th scope=row>7</th><td>2013</td><td>1</td><td>1</td><td>555</td><td>600</td><td>-5</td><td> 913</td><td> 854</td><td> 19</td><td>B6</td><td> 507</td><td>N516JB</td><td>EWR</td><td>FLL</td><td>158</td><td>1065</td><td>6</td><td> 0</td><td>2013-01-01 06:00:00</td></tr>\n",
              "\t<tr><th scope=row>8</th><td>2013</td><td>1</td><td>1</td><td>557</td><td>600</td><td>-3</td><td> 709</td><td> 723</td><td>-14</td><td>EV</td><td>5708</td><td>N829AS</td><td>LGA</td><td>IAD</td><td> 53</td><td> 229</td><td>6</td><td> 0</td><td>2013-01-01 06:00:00</td></tr>\n",
              "\t<tr><th scope=row>9</th><td>2013</td><td>1</td><td>1</td><td>557</td><td>600</td><td>-3</td><td> 838</td><td> 846</td><td> -8</td><td>B6</td><td>  79</td><td>N593JB</td><td>JFK</td><td>MCO</td><td>140</td><td> 944</td><td>6</td><td> 0</td><td>2013-01-01 06:00:00</td></tr>\n",
              "\t<tr><th scope=row>10</th><td>2013</td><td>1</td><td>1</td><td>558</td><td>600</td><td>-2</td><td> 753</td><td> 745</td><td>  8</td><td>AA</td><td> 301</td><td>N3ALAA</td><td>LGA</td><td>ORD</td><td>138</td><td> 733</td><td>6</td><td> 0</td><td>2013-01-01 06:00:00</td></tr>\n",
              "</tbody>\n",
              "</table>\n"
            ],
            "text/markdown": "\nA data.frame: 10 × 19\n\n| <!--/--> | year &lt;int&gt; | month &lt;int&gt; | day &lt;int&gt; | dep_time &lt;int&gt; | sched_dep_time &lt;int&gt; | dep_delay &lt;int&gt; | arr_time &lt;int&gt; | sched_arr_time &lt;int&gt; | arr_delay &lt;int&gt; | carrier &lt;chr&gt; | flight &lt;int&gt; | tailnum &lt;chr&gt; | origin &lt;chr&gt; | dest &lt;chr&gt; | air_time &lt;int&gt; | distance &lt;int&gt; | hour &lt;int&gt; | minute &lt;int&gt; | time_hour &lt;chr&gt; |\n|---|---|---|---|---|---|---|---|---|---|---|---|---|---|---|---|---|---|---|---|\n| 1 | 2013 | 1 | 1 | 517 | 515 |  2 |  830 |  819 |  11 | UA | 1545 | N14228 | EWR | IAH | 227 | 1400 | 5 | 15 | 2013-01-01 05:00:00 |\n| 2 | 2013 | 1 | 1 | 533 | 529 |  4 |  850 |  830 |  20 | UA | 1714 | N24211 | LGA | IAH | 227 | 1416 | 5 | 29 | 2013-01-01 05:00:00 |\n| 3 | 2013 | 1 | 1 | 542 | 540 |  2 |  923 |  850 |  33 | AA | 1141 | N619AA | JFK | MIA | 160 | 1089 | 5 | 40 | 2013-01-01 05:00:00 |\n| 4 | 2013 | 1 | 1 | 544 | 545 | -1 | 1004 | 1022 | -18 | B6 |  725 | N804JB | JFK | BQN | 183 | 1576 | 5 | 45 | 2013-01-01 05:00:00 |\n| 5 | 2013 | 1 | 1 | 554 | 600 | -6 |  812 |  837 | -25 | DL |  461 | N668DN | LGA | ATL | 116 |  762 | 6 |  0 | 2013-01-01 06:00:00 |\n| 6 | 2013 | 1 | 1 | 554 | 558 | -4 |  740 |  728 |  12 | UA | 1696 | N39463 | EWR | ORD | 150 |  719 | 5 | 58 | 2013-01-01 05:00:00 |\n| 7 | 2013 | 1 | 1 | 555 | 600 | -5 |  913 |  854 |  19 | B6 |  507 | N516JB | EWR | FLL | 158 | 1065 | 6 |  0 | 2013-01-01 06:00:00 |\n| 8 | 2013 | 1 | 1 | 557 | 600 | -3 |  709 |  723 | -14 | EV | 5708 | N829AS | LGA | IAD |  53 |  229 | 6 |  0 | 2013-01-01 06:00:00 |\n| 9 | 2013 | 1 | 1 | 557 | 600 | -3 |  838 |  846 |  -8 | B6 |   79 | N593JB | JFK | MCO | 140 |  944 | 6 |  0 | 2013-01-01 06:00:00 |\n| 10 | 2013 | 1 | 1 | 558 | 600 | -2 |  753 |  745 |   8 | AA |  301 | N3ALAA | LGA | ORD | 138 |  733 | 6 |  0 | 2013-01-01 06:00:00 |\n\n",
            "text/latex": "A data.frame: 10 × 19\n\\begin{tabular}{r|lllllllllllllllllll}\n  & year & month & day & dep\\_time & sched\\_dep\\_time & dep\\_delay & arr\\_time & sched\\_arr\\_time & arr\\_delay & carrier & flight & tailnum & origin & dest & air\\_time & distance & hour & minute & time\\_hour\\\\\n  & <int> & <int> & <int> & <int> & <int> & <int> & <int> & <int> & <int> & <chr> & <int> & <chr> & <chr> & <chr> & <int> & <int> & <int> & <int> & <chr>\\\\\n\\hline\n\t1 & 2013 & 1 & 1 & 517 & 515 &  2 &  830 &  819 &  11 & UA & 1545 & N14228 & EWR & IAH & 227 & 1400 & 5 & 15 & 2013-01-01 05:00:00\\\\\n\t2 & 2013 & 1 & 1 & 533 & 529 &  4 &  850 &  830 &  20 & UA & 1714 & N24211 & LGA & IAH & 227 & 1416 & 5 & 29 & 2013-01-01 05:00:00\\\\\n\t3 & 2013 & 1 & 1 & 542 & 540 &  2 &  923 &  850 &  33 & AA & 1141 & N619AA & JFK & MIA & 160 & 1089 & 5 & 40 & 2013-01-01 05:00:00\\\\\n\t4 & 2013 & 1 & 1 & 544 & 545 & -1 & 1004 & 1022 & -18 & B6 &  725 & N804JB & JFK & BQN & 183 & 1576 & 5 & 45 & 2013-01-01 05:00:00\\\\\n\t5 & 2013 & 1 & 1 & 554 & 600 & -6 &  812 &  837 & -25 & DL &  461 & N668DN & LGA & ATL & 116 &  762 & 6 &  0 & 2013-01-01 06:00:00\\\\\n\t6 & 2013 & 1 & 1 & 554 & 558 & -4 &  740 &  728 &  12 & UA & 1696 & N39463 & EWR & ORD & 150 &  719 & 5 & 58 & 2013-01-01 05:00:00\\\\\n\t7 & 2013 & 1 & 1 & 555 & 600 & -5 &  913 &  854 &  19 & B6 &  507 & N516JB & EWR & FLL & 158 & 1065 & 6 &  0 & 2013-01-01 06:00:00\\\\\n\t8 & 2013 & 1 & 1 & 557 & 600 & -3 &  709 &  723 & -14 & EV & 5708 & N829AS & LGA & IAD &  53 &  229 & 6 &  0 & 2013-01-01 06:00:00\\\\\n\t9 & 2013 & 1 & 1 & 557 & 600 & -3 &  838 &  846 &  -8 & B6 &   79 & N593JB & JFK & MCO & 140 &  944 & 6 &  0 & 2013-01-01 06:00:00\\\\\n\t10 & 2013 & 1 & 1 & 558 & 600 & -2 &  753 &  745 &   8 & AA &  301 & N3ALAA & LGA & ORD & 138 &  733 & 6 &  0 & 2013-01-01 06:00:00\\\\\n\\end{tabular}\n",
            "text/plain": [
              "   year month day dep_time sched_dep_time dep_delay arr_time sched_arr_time\n",
              "1  2013 1     1   517      515             2         830      819          \n",
              "2  2013 1     1   533      529             4         850      830          \n",
              "3  2013 1     1   542      540             2         923      850          \n",
              "4  2013 1     1   544      545            -1        1004     1022          \n",
              "5  2013 1     1   554      600            -6         812      837          \n",
              "6  2013 1     1   554      558            -4         740      728          \n",
              "7  2013 1     1   555      600            -5         913      854          \n",
              "8  2013 1     1   557      600            -3         709      723          \n",
              "9  2013 1     1   557      600            -3         838      846          \n",
              "10 2013 1     1   558      600            -2         753      745          \n",
              "   arr_delay carrier flight tailnum origin dest air_time distance hour minute\n",
              "1   11       UA      1545   N14228  EWR    IAH  227      1400     5    15    \n",
              "2   20       UA      1714   N24211  LGA    IAH  227      1416     5    29    \n",
              "3   33       AA      1141   N619AA  JFK    MIA  160      1089     5    40    \n",
              "4  -18       B6       725   N804JB  JFK    BQN  183      1576     5    45    \n",
              "5  -25       DL       461   N668DN  LGA    ATL  116       762     6     0    \n",
              "6   12       UA      1696   N39463  EWR    ORD  150       719     5    58    \n",
              "7   19       B6       507   N516JB  EWR    FLL  158      1065     6     0    \n",
              "8  -14       EV      5708   N829AS  LGA    IAD   53       229     6     0    \n",
              "9   -8       B6        79   N593JB  JFK    MCO  140       944     6     0    \n",
              "10   8       AA       301   N3ALAA  LGA    ORD  138       733     6     0    \n",
              "   time_hour          \n",
              "1  2013-01-01 05:00:00\n",
              "2  2013-01-01 05:00:00\n",
              "3  2013-01-01 05:00:00\n",
              "4  2013-01-01 05:00:00\n",
              "5  2013-01-01 06:00:00\n",
              "6  2013-01-01 05:00:00\n",
              "7  2013-01-01 06:00:00\n",
              "8  2013-01-01 06:00:00\n",
              "9  2013-01-01 06:00:00\n",
              "10 2013-01-01 06:00:00"
            ]
          },
          "metadata": {}
        },
        {
          "output_type": "display_data",
          "data": {
            "text/html": [
              "<table class=\"dataframe\">\n",
              "<caption>A data.frame: 10 × 19</caption>\n",
              "<thead>\n",
              "\t<tr><th></th><th scope=col>year</th><th scope=col>month</th><th scope=col>day</th><th scope=col>dep_time</th><th scope=col>sched_dep_time</th><th scope=col>dep_delay</th><th scope=col>arr_time</th><th scope=col>sched_arr_time</th><th scope=col>arr_delay</th><th scope=col>carrier</th><th scope=col>flight</th><th scope=col>tailnum</th><th scope=col>origin</th><th scope=col>dest</th><th scope=col>air_time</th><th scope=col>distance</th><th scope=col>hour</th><th scope=col>minute</th><th scope=col>time_hour</th></tr>\n",
              "\t<tr><th></th><th scope=col>&lt;int&gt;</th><th scope=col>&lt;int&gt;</th><th scope=col>&lt;int&gt;</th><th scope=col>&lt;int&gt;</th><th scope=col>&lt;int&gt;</th><th scope=col>&lt;int&gt;</th><th scope=col>&lt;int&gt;</th><th scope=col>&lt;int&gt;</th><th scope=col>&lt;int&gt;</th><th scope=col>&lt;chr&gt;</th><th scope=col>&lt;int&gt;</th><th scope=col>&lt;chr&gt;</th><th scope=col>&lt;chr&gt;</th><th scope=col>&lt;chr&gt;</th><th scope=col>&lt;int&gt;</th><th scope=col>&lt;int&gt;</th><th scope=col>&lt;int&gt;</th><th scope=col>&lt;int&gt;</th><th scope=col>&lt;chr&gt;</th></tr>\n",
              "</thead>\n",
              "<tbody>\n",
              "\t<tr><th scope=row>336767</th><td>2013</td><td>9</td><td>30</td><td>2240</td><td>2250</td><td>-10</td><td>2347</td><td>   7</td><td>-20</td><td>B6</td><td>2002</td><td>N281JB</td><td>JFK</td><td>BUF</td><td> 52</td><td> 301</td><td>22</td><td>50</td><td>2013-09-30 22:00:00</td></tr>\n",
              "\t<tr><th scope=row>336768</th><td>2013</td><td>9</td><td>30</td><td>2241</td><td>2246</td><td> -5</td><td>2345</td><td>   1</td><td>-16</td><td>B6</td><td> 486</td><td>N346JB</td><td>JFK</td><td>ROC</td><td> 47</td><td> 264</td><td>22</td><td>46</td><td>2013-09-30 22:00:00</td></tr>\n",
              "\t<tr><th scope=row>336769</th><td>2013</td><td>9</td><td>30</td><td>2307</td><td>2255</td><td> 12</td><td>2359</td><td>2358</td><td>  1</td><td>B6</td><td> 718</td><td>N565JB</td><td>JFK</td><td>BOS</td><td> 33</td><td> 187</td><td>22</td><td>55</td><td>2013-09-30 22:00:00</td></tr>\n",
              "\t<tr><th scope=row>336770</th><td>2013</td><td>9</td><td>30</td><td>2349</td><td>2359</td><td>-10</td><td> 325</td><td> 350</td><td>-25</td><td>B6</td><td> 745</td><td>N516JB</td><td>JFK</td><td>PSE</td><td>196</td><td>1617</td><td>23</td><td>59</td><td>2013-09-30 23:00:00</td></tr>\n",
              "\t<tr><th scope=row>336771</th><td>2013</td><td>9</td><td>30</td><td>  NA</td><td>1842</td><td> NA</td><td>  NA</td><td>2019</td><td> NA</td><td>EV</td><td>5274</td><td>N740EV</td><td>LGA</td><td>BNA</td><td> NA</td><td> 764</td><td>18</td><td>42</td><td>2013-09-30 18:00:00</td></tr>\n",
              "\t<tr><th scope=row>336772</th><td>2013</td><td>9</td><td>30</td><td>  NA</td><td>1455</td><td> NA</td><td>  NA</td><td>1634</td><td> NA</td><td>9E</td><td>3393</td><td>NA    </td><td>JFK</td><td>DCA</td><td> NA</td><td> 213</td><td>14</td><td>55</td><td>2013-09-30 14:00:00</td></tr>\n",
              "\t<tr><th scope=row>336773</th><td>2013</td><td>9</td><td>30</td><td>  NA</td><td>2200</td><td> NA</td><td>  NA</td><td>2312</td><td> NA</td><td>9E</td><td>3525</td><td>NA    </td><td>LGA</td><td>SYR</td><td> NA</td><td> 198</td><td>22</td><td> 0</td><td>2013-09-30 22:00:00</td></tr>\n",
              "\t<tr><th scope=row>336774</th><td>2013</td><td>9</td><td>30</td><td>  NA</td><td>1210</td><td> NA</td><td>  NA</td><td>1330</td><td> NA</td><td>MQ</td><td>3461</td><td>N535MQ</td><td>LGA</td><td>BNA</td><td> NA</td><td> 764</td><td>12</td><td>10</td><td>2013-09-30 12:00:00</td></tr>\n",
              "\t<tr><th scope=row>336775</th><td>2013</td><td>9</td><td>30</td><td>  NA</td><td>1159</td><td> NA</td><td>  NA</td><td>1344</td><td> NA</td><td>MQ</td><td>3572</td><td>N511MQ</td><td>LGA</td><td>CLE</td><td> NA</td><td> 419</td><td>11</td><td>59</td><td>2013-09-30 11:00:00</td></tr>\n",
              "\t<tr><th scope=row>336776</th><td>2013</td><td>9</td><td>30</td><td>  NA</td><td> 840</td><td> NA</td><td>  NA</td><td>1020</td><td> NA</td><td>MQ</td><td>3531</td><td>N839MQ</td><td>LGA</td><td>RDU</td><td> NA</td><td> 431</td><td> 8</td><td>40</td><td>2013-09-30 08:00:00</td></tr>\n",
              "</tbody>\n",
              "</table>\n"
            ],
            "text/markdown": "\nA data.frame: 10 × 19\n\n| <!--/--> | year &lt;int&gt; | month &lt;int&gt; | day &lt;int&gt; | dep_time &lt;int&gt; | sched_dep_time &lt;int&gt; | dep_delay &lt;int&gt; | arr_time &lt;int&gt; | sched_arr_time &lt;int&gt; | arr_delay &lt;int&gt; | carrier &lt;chr&gt; | flight &lt;int&gt; | tailnum &lt;chr&gt; | origin &lt;chr&gt; | dest &lt;chr&gt; | air_time &lt;int&gt; | distance &lt;int&gt; | hour &lt;int&gt; | minute &lt;int&gt; | time_hour &lt;chr&gt; |\n|---|---|---|---|---|---|---|---|---|---|---|---|---|---|---|---|---|---|---|---|\n| 336767 | 2013 | 9 | 30 | 2240 | 2250 | -10 | 2347 |    7 | -20 | B6 | 2002 | N281JB | JFK | BUF |  52 |  301 | 22 | 50 | 2013-09-30 22:00:00 |\n| 336768 | 2013 | 9 | 30 | 2241 | 2246 |  -5 | 2345 |    1 | -16 | B6 |  486 | N346JB | JFK | ROC |  47 |  264 | 22 | 46 | 2013-09-30 22:00:00 |\n| 336769 | 2013 | 9 | 30 | 2307 | 2255 |  12 | 2359 | 2358 |   1 | B6 |  718 | N565JB | JFK | BOS |  33 |  187 | 22 | 55 | 2013-09-30 22:00:00 |\n| 336770 | 2013 | 9 | 30 | 2349 | 2359 | -10 |  325 |  350 | -25 | B6 |  745 | N516JB | JFK | PSE | 196 | 1617 | 23 | 59 | 2013-09-30 23:00:00 |\n| 336771 | 2013 | 9 | 30 |   NA | 1842 |  NA |   NA | 2019 |  NA | EV | 5274 | N740EV | LGA | BNA |  NA |  764 | 18 | 42 | 2013-09-30 18:00:00 |\n| 336772 | 2013 | 9 | 30 |   NA | 1455 |  NA |   NA | 1634 |  NA | 9E | 3393 | NA     | JFK | DCA |  NA |  213 | 14 | 55 | 2013-09-30 14:00:00 |\n| 336773 | 2013 | 9 | 30 |   NA | 2200 |  NA |   NA | 2312 |  NA | 9E | 3525 | NA     | LGA | SYR |  NA |  198 | 22 |  0 | 2013-09-30 22:00:00 |\n| 336774 | 2013 | 9 | 30 |   NA | 1210 |  NA |   NA | 1330 |  NA | MQ | 3461 | N535MQ | LGA | BNA |  NA |  764 | 12 | 10 | 2013-09-30 12:00:00 |\n| 336775 | 2013 | 9 | 30 |   NA | 1159 |  NA |   NA | 1344 |  NA | MQ | 3572 | N511MQ | LGA | CLE |  NA |  419 | 11 | 59 | 2013-09-30 11:00:00 |\n| 336776 | 2013 | 9 | 30 |   NA |  840 |  NA |   NA | 1020 |  NA | MQ | 3531 | N839MQ | LGA | RDU |  NA |  431 |  8 | 40 | 2013-09-30 08:00:00 |\n\n",
            "text/latex": "A data.frame: 10 × 19\n\\begin{tabular}{r|lllllllllllllllllll}\n  & year & month & day & dep\\_time & sched\\_dep\\_time & dep\\_delay & arr\\_time & sched\\_arr\\_time & arr\\_delay & carrier & flight & tailnum & origin & dest & air\\_time & distance & hour & minute & time\\_hour\\\\\n  & <int> & <int> & <int> & <int> & <int> & <int> & <int> & <int> & <int> & <chr> & <int> & <chr> & <chr> & <chr> & <int> & <int> & <int> & <int> & <chr>\\\\\n\\hline\n\t336767 & 2013 & 9 & 30 & 2240 & 2250 & -10 & 2347 &    7 & -20 & B6 & 2002 & N281JB & JFK & BUF &  52 &  301 & 22 & 50 & 2013-09-30 22:00:00\\\\\n\t336768 & 2013 & 9 & 30 & 2241 & 2246 &  -5 & 2345 &    1 & -16 & B6 &  486 & N346JB & JFK & ROC &  47 &  264 & 22 & 46 & 2013-09-30 22:00:00\\\\\n\t336769 & 2013 & 9 & 30 & 2307 & 2255 &  12 & 2359 & 2358 &   1 & B6 &  718 & N565JB & JFK & BOS &  33 &  187 & 22 & 55 & 2013-09-30 22:00:00\\\\\n\t336770 & 2013 & 9 & 30 & 2349 & 2359 & -10 &  325 &  350 & -25 & B6 &  745 & N516JB & JFK & PSE & 196 & 1617 & 23 & 59 & 2013-09-30 23:00:00\\\\\n\t336771 & 2013 & 9 & 30 &   NA & 1842 &  NA &   NA & 2019 &  NA & EV & 5274 & N740EV & LGA & BNA &  NA &  764 & 18 & 42 & 2013-09-30 18:00:00\\\\\n\t336772 & 2013 & 9 & 30 &   NA & 1455 &  NA &   NA & 1634 &  NA & 9E & 3393 & NA     & JFK & DCA &  NA &  213 & 14 & 55 & 2013-09-30 14:00:00\\\\\n\t336773 & 2013 & 9 & 30 &   NA & 2200 &  NA &   NA & 2312 &  NA & 9E & 3525 & NA     & LGA & SYR &  NA &  198 & 22 &  0 & 2013-09-30 22:00:00\\\\\n\t336774 & 2013 & 9 & 30 &   NA & 1210 &  NA &   NA & 1330 &  NA & MQ & 3461 & N535MQ & LGA & BNA &  NA &  764 & 12 & 10 & 2013-09-30 12:00:00\\\\\n\t336775 & 2013 & 9 & 30 &   NA & 1159 &  NA &   NA & 1344 &  NA & MQ & 3572 & N511MQ & LGA & CLE &  NA &  419 & 11 & 59 & 2013-09-30 11:00:00\\\\\n\t336776 & 2013 & 9 & 30 &   NA &  840 &  NA &   NA & 1020 &  NA & MQ & 3531 & N839MQ & LGA & RDU &  NA &  431 &  8 & 40 & 2013-09-30 08:00:00\\\\\n\\end{tabular}\n",
            "text/plain": [
              "       year month day dep_time sched_dep_time dep_delay arr_time sched_arr_time\n",
              "336767 2013 9     30  2240     2250           -10       2347        7          \n",
              "336768 2013 9     30  2241     2246            -5       2345        1          \n",
              "336769 2013 9     30  2307     2255            12       2359     2358          \n",
              "336770 2013 9     30  2349     2359           -10        325      350          \n",
              "336771 2013 9     30    NA     1842            NA         NA     2019          \n",
              "336772 2013 9     30    NA     1455            NA         NA     1634          \n",
              "336773 2013 9     30    NA     2200            NA         NA     2312          \n",
              "336774 2013 9     30    NA     1210            NA         NA     1330          \n",
              "336775 2013 9     30    NA     1159            NA         NA     1344          \n",
              "336776 2013 9     30    NA      840            NA         NA     1020          \n",
              "       arr_delay carrier flight tailnum origin dest air_time distance hour\n",
              "336767 -20       B6      2002   N281JB  JFK    BUF   52       301     22  \n",
              "336768 -16       B6       486   N346JB  JFK    ROC   47       264     22  \n",
              "336769   1       B6       718   N565JB  JFK    BOS   33       187     22  \n",
              "336770 -25       B6       745   N516JB  JFK    PSE  196      1617     23  \n",
              "336771  NA       EV      5274   N740EV  LGA    BNA   NA       764     18  \n",
              "336772  NA       9E      3393   NA      JFK    DCA   NA       213     14  \n",
              "336773  NA       9E      3525   NA      LGA    SYR   NA       198     22  \n",
              "336774  NA       MQ      3461   N535MQ  LGA    BNA   NA       764     12  \n",
              "336775  NA       MQ      3572   N511MQ  LGA    CLE   NA       419     11  \n",
              "336776  NA       MQ      3531   N839MQ  LGA    RDU   NA       431      8  \n",
              "       minute time_hour          \n",
              "336767 50     2013-09-30 22:00:00\n",
              "336768 46     2013-09-30 22:00:00\n",
              "336769 55     2013-09-30 22:00:00\n",
              "336770 59     2013-09-30 23:00:00\n",
              "336771 42     2013-09-30 18:00:00\n",
              "336772 55     2013-09-30 14:00:00\n",
              "336773  0     2013-09-30 22:00:00\n",
              "336774 10     2013-09-30 12:00:00\n",
              "336775 59     2013-09-30 11:00:00\n",
              "336776 40     2013-09-30 08:00:00"
            ]
          },
          "metadata": {}
        }
      ]
    },
    {
      "cell_type": "code",
      "metadata": {
        "trusted": true,
        "id": "lnAkEF3NRPyQ",
        "colab": {
          "base_uri": "https://localhost:8080/",
          "height": 711
        },
        "outputId": "8f3c7f23-9451-45fa-ca08-c2a0a2878cde"
      },
      "source": [
        "summary(vuelos)"
      ],
      "execution_count": null,
      "outputs": [
        {
          "output_type": "display_data",
          "data": {
            "text/plain": [
              "      year          month             day           dep_time    sched_dep_time\n",
              " Min.   :2013   Min.   : 1.000   Min.   : 1.00   Min.   :   1   Min.   : 106  \n",
              " 1st Qu.:2013   1st Qu.: 4.000   1st Qu.: 8.00   1st Qu.: 907   1st Qu.: 906  \n",
              " Median :2013   Median : 7.000   Median :16.00   Median :1401   Median :1359  \n",
              " Mean   :2013   Mean   : 6.549   Mean   :15.71   Mean   :1349   Mean   :1344  \n",
              " 3rd Qu.:2013   3rd Qu.:10.000   3rd Qu.:23.00   3rd Qu.:1744   3rd Qu.:1729  \n",
              " Max.   :2013   Max.   :12.000   Max.   :31.00   Max.   :2400   Max.   :2359  \n",
              "                                                 NA's   :8255                 \n",
              "   dep_delay          arr_time    sched_arr_time   arr_delay       \n",
              " Min.   : -43.00   Min.   :   1   Min.   :   1   Min.   : -86.000  \n",
              " 1st Qu.:  -5.00   1st Qu.:1104   1st Qu.:1124   1st Qu.: -17.000  \n",
              " Median :  -2.00   Median :1535   Median :1556   Median :  -5.000  \n",
              " Mean   :  12.64   Mean   :1502   Mean   :1536   Mean   :   6.895  \n",
              " 3rd Qu.:  11.00   3rd Qu.:1940   3rd Qu.:1945   3rd Qu.:  14.000  \n",
              " Max.   :1301.00   Max.   :2400   Max.   :2359   Max.   :1272.000  \n",
              " NA's   :8255      NA's   :8713                  NA's   :9430      \n",
              "   carrier              flight       tailnum             origin         \n",
              " Length:336776      Min.   :   1   Length:336776      Length:336776     \n",
              " Class :character   1st Qu.: 553   Class :character   Class :character  \n",
              " Mode  :character   Median :1496   Mode  :character   Mode  :character  \n",
              "                    Mean   :1972                                        \n",
              "                    3rd Qu.:3465                                        \n",
              "                    Max.   :8500                                        \n",
              "                                                                        \n",
              "     dest              air_time        distance         hour      \n",
              " Length:336776      Min.   : 20.0   Min.   :  17   Min.   : 1.00  \n",
              " Class :character   1st Qu.: 82.0   1st Qu.: 502   1st Qu.: 9.00  \n",
              " Mode  :character   Median :129.0   Median : 872   Median :13.00  \n",
              "                    Mean   :150.7   Mean   :1040   Mean   :13.18  \n",
              "                    3rd Qu.:192.0   3rd Qu.:1389   3rd Qu.:17.00  \n",
              "                    Max.   :695.0   Max.   :4983   Max.   :23.00  \n",
              "                    NA's   :9430                                  \n",
              "     minute       time_hour        \n",
              " Min.   : 0.00   Length:336776     \n",
              " 1st Qu.: 8.00   Class :character  \n",
              " Median :29.00   Mode  :character  \n",
              " Mean   :26.23                     \n",
              " 3rd Qu.:44.00                     \n",
              " Max.   :59.00                     \n",
              "                                   "
            ]
          },
          "metadata": {}
        }
      ]
    },
    {
      "cell_type": "code",
      "source": [
        "# ¿Cuántos registros tienen las tablas?\n",
        "dim(vuelos)# Filas  y columnas\n",
        "nrow(vuelos) # Filas\n",
        "ncol(vuelos) # Columnas"
      ],
      "metadata": {
        "colab": {
          "base_uri": "https://localhost:8080/",
          "height": 69
        },
        "id": "trVWnqGtNKmY",
        "outputId": "d897c429-3789-4ea1-9b9a-0a763a665f6a"
      },
      "execution_count": null,
      "outputs": [
        {
          "output_type": "display_data",
          "data": {
            "text/html": [
              "<style>\n",
              ".list-inline {list-style: none; margin:0; padding: 0}\n",
              ".list-inline>li {display: inline-block}\n",
              ".list-inline>li:not(:last-child)::after {content: \"\\00b7\"; padding: 0 .5ex}\n",
              "</style>\n",
              "<ol class=list-inline><li>336776</li><li>19</li></ol>\n"
            ],
            "text/markdown": "1. 336776\n2. 19\n\n\n",
            "text/latex": "\\begin{enumerate*}\n\\item 336776\n\\item 19\n\\end{enumerate*}\n",
            "text/plain": [
              "[1] 336776     19"
            ]
          },
          "metadata": {}
        },
        {
          "output_type": "display_data",
          "data": {
            "text/html": [
              "336776"
            ],
            "text/markdown": "336776",
            "text/latex": "336776",
            "text/plain": [
              "[1] 336776"
            ]
          },
          "metadata": {}
        },
        {
          "output_type": "display_data",
          "data": {
            "text/html": [
              "19"
            ],
            "text/markdown": "19",
            "text/latex": "19",
            "text/plain": [
              "[1] 19"
            ]
          },
          "metadata": {}
        }
      ]
    },
    {
      "cell_type": "code",
      "metadata": {
        "trusted": true,
        "id": "OlWowRWVRPyS",
        "colab": {
          "base_uri": "https://localhost:8080/"
        },
        "outputId": "7a9cb091-a90e-4cc9-89ec-d3af3814e140"
      },
      "source": [
        "#glimpse() o str()\n",
        "str(vuelos)"
      ],
      "execution_count": null,
      "outputs": [
        {
          "output_type": "stream",
          "name": "stdout",
          "text": [
            "'data.frame':\t336776 obs. of  19 variables:\n",
            " $ year          : int  2013 2013 2013 2013 2013 2013 2013 2013 2013 2013 ...\n",
            " $ month         : int  1 1 1 1 1 1 1 1 1 1 ...\n",
            " $ day           : int  1 1 1 1 1 1 1 1 1 1 ...\n",
            " $ dep_time      : int  517 533 542 544 554 554 555 557 557 558 ...\n",
            " $ sched_dep_time: int  515 529 540 545 600 558 600 600 600 600 ...\n",
            " $ dep_delay     : int  2 4 2 -1 -6 -4 -5 -3 -3 -2 ...\n",
            " $ arr_time      : int  830 850 923 1004 812 740 913 709 838 753 ...\n",
            " $ sched_arr_time: int  819 830 850 1022 837 728 854 723 846 745 ...\n",
            " $ arr_delay     : int  11 20 33 -18 -25 12 19 -14 -8 8 ...\n",
            " $ carrier       : chr  \"UA\" \"UA\" \"AA\" \"B6\" ...\n",
            " $ flight        : int  1545 1714 1141 725 461 1696 507 5708 79 301 ...\n",
            " $ tailnum       : chr  \"N14228\" \"N24211\" \"N619AA\" \"N804JB\" ...\n",
            " $ origin        : chr  \"EWR\" \"LGA\" \"JFK\" \"JFK\" ...\n",
            " $ dest          : chr  \"IAH\" \"IAH\" \"MIA\" \"BQN\" ...\n",
            " $ air_time      : int  227 227 160 183 116 150 158 53 140 138 ...\n",
            " $ distance      : int  1400 1416 1089 1576 762 719 1065 229 944 733 ...\n",
            " $ hour          : int  5 5 5 5 6 5 6 6 6 6 ...\n",
            " $ minute        : int  15 29 40 45 0 58 0 0 0 0 ...\n",
            " $ time_hour     : chr  \"2013-01-01 05:00:00\" \"2013-01-01 05:00:00\" \"2013-01-01 05:00:00\" \"2013-01-01 05:00:00\" ...\n"
          ]
        }
      ]
    },
    {
      "cell_type": "code",
      "source": [
        "glimpse(vuelos)"
      ],
      "metadata": {
        "colab": {
          "base_uri": "https://localhost:8080/"
        },
        "id": "Kr6fTEp0Ndoe",
        "outputId": "adc737a6-f9fe-4c50-a96c-3a8b57434df1"
      },
      "execution_count": null,
      "outputs": [
        {
          "output_type": "stream",
          "name": "stdout",
          "text": [
            "Rows: 336,776\n",
            "Columns: 19\n",
            "$ year           \u001b[3m\u001b[90m<int>\u001b[39m\u001b[23m 2013, 2013, 2013, 2013, 2013, 2013, 2013, 2013, 2013, 2…\n",
            "$ month          \u001b[3m\u001b[90m<int>\u001b[39m\u001b[23m 1, 1, 1, 1, 1, 1, 1, 1, 1, 1, 1, 1, 1, 1, 1, 1, 1, 1, 1…\n",
            "$ day            \u001b[3m\u001b[90m<int>\u001b[39m\u001b[23m 1, 1, 1, 1, 1, 1, 1, 1, 1, 1, 1, 1, 1, 1, 1, 1, 1, 1, 1…\n",
            "$ dep_time       \u001b[3m\u001b[90m<int>\u001b[39m\u001b[23m 517, 533, 542, 544, 554, 554, 555, 557, 557, 558, 558, …\n",
            "$ sched_dep_time \u001b[3m\u001b[90m<int>\u001b[39m\u001b[23m 515, 529, 540, 545, 600, 558, 600, 600, 600, 600, 600, …\n",
            "$ dep_delay      \u001b[3m\u001b[90m<int>\u001b[39m\u001b[23m 2, 4, 2, -1, -6, -4, -5, -3, -3, -2, -2, -2, -2, -2, -1…\n",
            "$ arr_time       \u001b[3m\u001b[90m<int>\u001b[39m\u001b[23m 830, 850, 923, 1004, 812, 740, 913, 709, 838, 753, 849,…\n",
            "$ sched_arr_time \u001b[3m\u001b[90m<int>\u001b[39m\u001b[23m 819, 830, 850, 1022, 837, 728, 854, 723, 846, 745, 851,…\n",
            "$ arr_delay      \u001b[3m\u001b[90m<int>\u001b[39m\u001b[23m 11, 20, 33, -18, -25, 12, 19, -14, -8, 8, -2, -3, 7, -1…\n",
            "$ carrier        \u001b[3m\u001b[90m<chr>\u001b[39m\u001b[23m \"UA\", \"UA\", \"AA\", \"B6\", \"DL\", \"UA\", \"B6\", \"EV\", \"B6\", \"…\n",
            "$ flight         \u001b[3m\u001b[90m<int>\u001b[39m\u001b[23m 1545, 1714, 1141, 725, 461, 1696, 507, 5708, 79, 301, 4…\n",
            "$ tailnum        \u001b[3m\u001b[90m<chr>\u001b[39m\u001b[23m \"N14228\", \"N24211\", \"N619AA\", \"N804JB\", \"N668DN\", \"N394…\n",
            "$ origin         \u001b[3m\u001b[90m<chr>\u001b[39m\u001b[23m \"EWR\", \"LGA\", \"JFK\", \"JFK\", \"LGA\", \"EWR\", \"EWR\", \"LGA\",…\n",
            "$ dest           \u001b[3m\u001b[90m<chr>\u001b[39m\u001b[23m \"IAH\", \"IAH\", \"MIA\", \"BQN\", \"ATL\", \"ORD\", \"FLL\", \"IAD\",…\n",
            "$ air_time       \u001b[3m\u001b[90m<int>\u001b[39m\u001b[23m 227, 227, 160, 183, 116, 150, 158, 53, 140, 138, 149, 1…\n",
            "$ distance       \u001b[3m\u001b[90m<int>\u001b[39m\u001b[23m 1400, 1416, 1089, 1576, 762, 719, 1065, 229, 944, 733, …\n",
            "$ hour           \u001b[3m\u001b[90m<int>\u001b[39m\u001b[23m 5, 5, 5, 5, 6, 5, 6, 6, 6, 6, 6, 6, 6, 6, 6, 5, 6, 6, 6…\n",
            "$ minute         \u001b[3m\u001b[90m<int>\u001b[39m\u001b[23m 15, 29, 40, 45, 0, 58, 0, 0, 0, 0, 0, 0, 0, 0, 0, 59, 0…\n",
            "$ time_hour      \u001b[3m\u001b[90m<chr>\u001b[39m\u001b[23m \"2013-01-01 05:00:00\", \"2013-01-01 05:00:00\", \"2013-01-…\n"
          ]
        }
      ]
    },
    {
      "cell_type": "markdown",
      "metadata": {
        "id": "jAHBUxNxRPyV"
      },
      "source": [
        "## 4. Funciones básicas de dplyr\n",
        "\n",
        "A continuación exploraremos los datos de vuelos utilizando la librería dplyr.\n",
        "\n",
        "### 4.1 Función filter()\n",
        "\n",
        "La función filter() de dplyr es el equivalente a la sentencia where de sql."
      ]
    },
    {
      "cell_type": "code",
      "source": [
        "str(vuelos)"
      ],
      "metadata": {
        "colab": {
          "base_uri": "https://localhost:8080/"
        },
        "id": "E_tUmJVNRmMI",
        "outputId": "acd8deeb-d275-410a-d6eb-63acb6dfb81a"
      },
      "execution_count": null,
      "outputs": [
        {
          "output_type": "stream",
          "name": "stdout",
          "text": [
            "'data.frame':\t336776 obs. of  19 variables:\n",
            " $ year          : int  2013 2013 2013 2013 2013 2013 2013 2013 2013 2013 ...\n",
            " $ month         : int  1 1 1 1 1 1 1 1 1 1 ...\n",
            " $ day           : int  1 1 1 1 1 1 1 1 1 1 ...\n",
            " $ dep_time      : int  517 533 542 544 554 554 555 557 557 558 ...\n",
            " $ sched_dep_time: int  515 529 540 545 600 558 600 600 600 600 ...\n",
            " $ dep_delay     : int  2 4 2 -1 -6 -4 -5 -3 -3 -2 ...\n",
            " $ arr_time      : int  830 850 923 1004 812 740 913 709 838 753 ...\n",
            " $ sched_arr_time: int  819 830 850 1022 837 728 854 723 846 745 ...\n",
            " $ arr_delay     : int  11 20 33 -18 -25 12 19 -14 -8 8 ...\n",
            " $ carrier       : chr  \"UA\" \"UA\" \"AA\" \"B6\" ...\n",
            " $ flight        : int  1545 1714 1141 725 461 1696 507 5708 79 301 ...\n",
            " $ tailnum       : chr  \"N14228\" \"N24211\" \"N619AA\" \"N804JB\" ...\n",
            " $ origin        : chr  \"EWR\" \"LGA\" \"JFK\" \"JFK\" ...\n",
            " $ dest          : chr  \"IAH\" \"IAH\" \"MIA\" \"BQN\" ...\n",
            " $ air_time      : int  227 227 160 183 116 150 158 53 140 138 ...\n",
            " $ distance      : int  1400 1416 1089 1576 762 719 1065 229 944 733 ...\n",
            " $ hour          : int  5 5 5 5 6 5 6 6 6 6 ...\n",
            " $ minute        : int  15 29 40 45 0 58 0 0 0 0 ...\n",
            " $ time_hour     : chr  \"2013-01-01 05:00:00\" \"2013-01-01 05:00:00\" \"2013-01-01 05:00:00\" \"2013-01-01 05:00:00\" ...\n"
          ]
        }
      ]
    },
    {
      "cell_type": "code",
      "metadata": {
        "trusted": true,
        "scrolled": true,
        "id": "mv1lhelWRPyV",
        "colab": {
          "base_uri": "https://localhost:8080/",
          "height": 1000
        },
        "outputId": "b3b8d9dc-0512-4809-8b82-7aad749921cc"
      },
      "source": [
        "# filter() # where de sql----------------------------------------------------------------\n",
        "# Registros que tengan fecha 31 de diciembre del 2013\n",
        "# Antes\n",
        "vuelos[vuelos$year == 2013 & vuelos$month == 12 & vuelos$day == 31 , ] # Nos retorna 776 filas (vuelos)\n"
      ],
      "execution_count": null,
      "outputs": [
        {
          "output_type": "display_data",
          "data": {
            "text/html": [
              "<table class=\"dataframe\">\n",
              "<caption>A data.frame: 776 × 19</caption>\n",
              "<thead>\n",
              "\t<tr><th></th><th scope=col>year</th><th scope=col>month</th><th scope=col>day</th><th scope=col>dep_time</th><th scope=col>sched_dep_time</th><th scope=col>dep_delay</th><th scope=col>arr_time</th><th scope=col>sched_arr_time</th><th scope=col>arr_delay</th><th scope=col>carrier</th><th scope=col>flight</th><th scope=col>tailnum</th><th scope=col>origin</th><th scope=col>dest</th><th scope=col>air_time</th><th scope=col>distance</th><th scope=col>hour</th><th scope=col>minute</th><th scope=col>time_hour</th></tr>\n",
              "\t<tr><th></th><th scope=col>&lt;int&gt;</th><th scope=col>&lt;int&gt;</th><th scope=col>&lt;int&gt;</th><th scope=col>&lt;int&gt;</th><th scope=col>&lt;int&gt;</th><th scope=col>&lt;int&gt;</th><th scope=col>&lt;int&gt;</th><th scope=col>&lt;int&gt;</th><th scope=col>&lt;int&gt;</th><th scope=col>&lt;chr&gt;</th><th scope=col>&lt;int&gt;</th><th scope=col>&lt;chr&gt;</th><th scope=col>&lt;chr&gt;</th><th scope=col>&lt;chr&gt;</th><th scope=col>&lt;int&gt;</th><th scope=col>&lt;int&gt;</th><th scope=col>&lt;int&gt;</th><th scope=col>&lt;int&gt;</th><th scope=col>&lt;chr&gt;</th></tr>\n",
              "</thead>\n",
              "<tbody>\n",
              "\t<tr><th scope=row>110521</th><td>2013</td><td>12</td><td>31</td><td> 13</td><td>2359</td><td> 14</td><td> 439</td><td> 437</td><td>  2</td><td>B6</td><td> 839</td><td>N566JB</td><td>JFK</td><td>BQN</td><td>189</td><td>1576</td><td>23</td><td>59</td><td>2013-12-31 23:00:00</td></tr>\n",
              "\t<tr><th scope=row>110522</th><td>2013</td><td>12</td><td>31</td><td> 18</td><td>2359</td><td> 19</td><td> 449</td><td> 444</td><td>  5</td><td>DL</td><td> 412</td><td>N713TW</td><td>JFK</td><td>SJU</td><td>192</td><td>1598</td><td>23</td><td>59</td><td>2013-12-31 23:00:00</td></tr>\n",
              "\t<tr><th scope=row>110523</th><td>2013</td><td>12</td><td>31</td><td> 26</td><td>2245</td><td>101</td><td> 129</td><td>2353</td><td> 96</td><td>B6</td><td> 108</td><td>N374JB</td><td>JFK</td><td>PWM</td><td> 50</td><td> 273</td><td>22</td><td>45</td><td>2013-12-31 22:00:00</td></tr>\n",
              "\t<tr><th scope=row>110524</th><td>2013</td><td>12</td><td>31</td><td>459</td><td> 500</td><td> -1</td><td> 655</td><td> 651</td><td>  4</td><td>US</td><td>1895</td><td>N557UW</td><td>EWR</td><td>CLT</td><td> 95</td><td> 529</td><td> 5</td><td> 0</td><td>2013-12-31 05:00:00</td></tr>\n",
              "\t<tr><th scope=row>110525</th><td>2013</td><td>12</td><td>31</td><td>514</td><td> 515</td><td> -1</td><td> 814</td><td> 812</td><td>  2</td><td>UA</td><td> 700</td><td>N470UA</td><td>EWR</td><td>IAH</td><td>223</td><td>1400</td><td> 5</td><td>15</td><td>2013-12-31 05:00:00</td></tr>\n",
              "\t<tr><th scope=row>110526</th><td>2013</td><td>12</td><td>31</td><td>549</td><td> 551</td><td> -2</td><td> 925</td><td> 900</td><td> 25</td><td>UA</td><td> 274</td><td>N577UA</td><td>EWR</td><td>LAX</td><td>346</td><td>2454</td><td> 5</td><td>51</td><td>2013-12-31 05:00:00</td></tr>\n",
              "\t<tr><th scope=row>110527</th><td>2013</td><td>12</td><td>31</td><td>550</td><td> 600</td><td>-10</td><td> 725</td><td> 745</td><td>-20</td><td>AA</td><td> 301</td><td>N3CXAA</td><td>LGA</td><td>ORD</td><td>127</td><td> 733</td><td> 6</td><td> 0</td><td>2013-12-31 06:00:00</td></tr>\n",
              "\t<tr><th scope=row>110528</th><td>2013</td><td>12</td><td>31</td><td>552</td><td> 600</td><td> -8</td><td> 811</td><td> 826</td><td>-15</td><td>EV</td><td>3825</td><td>N14916</td><td>EWR</td><td>IND</td><td>118</td><td> 645</td><td> 6</td><td> 0</td><td>2013-12-31 06:00:00</td></tr>\n",
              "\t<tr><th scope=row>110529</th><td>2013</td><td>12</td><td>31</td><td>553</td><td> 600</td><td> -7</td><td> 741</td><td> 754</td><td>-13</td><td>DL</td><td> 731</td><td>N333NB</td><td>LGA</td><td>DTW</td><td> 86</td><td> 502</td><td> 6</td><td> 0</td><td>2013-12-31 06:00:00</td></tr>\n",
              "\t<tr><th scope=row>110530</th><td>2013</td><td>12</td><td>31</td><td>554</td><td> 550</td><td>  4</td><td>1024</td><td>1027</td><td> -3</td><td>B6</td><td> 939</td><td>N552JB</td><td>JFK</td><td>BQN</td><td>195</td><td>1576</td><td> 5</td><td>50</td><td>2013-12-31 05:00:00</td></tr>\n",
              "\t<tr><th scope=row>110531</th><td>2013</td><td>12</td><td>31</td><td>555</td><td> 600</td><td> -5</td><td> 901</td><td> 849</td><td> 12</td><td>B6</td><td> 353</td><td>N746JB</td><td>JFK</td><td>PBI</td><td>167</td><td>1028</td><td> 6</td><td> 0</td><td>2013-12-31 06:00:00</td></tr>\n",
              "\t<tr><th scope=row>110532</th><td>2013</td><td>12</td><td>31</td><td>555</td><td> 600</td><td> -5</td><td> 835</td><td> 831</td><td>  4</td><td>DL</td><td> 904</td><td>N3741S</td><td>LGA</td><td>ATL</td><td>137</td><td> 762</td><td> 6</td><td> 0</td><td>2013-12-31 06:00:00</td></tr>\n",
              "\t<tr><th scope=row>110533</th><td>2013</td><td>12</td><td>31</td><td>555</td><td> 551</td><td>  4</td><td> 853</td><td> 851</td><td>  2</td><td>UA</td><td> 566</td><td>N491UA</td><td>EWR</td><td>TPA</td><td>164</td><td> 997</td><td> 5</td><td>51</td><td>2013-12-31 05:00:00</td></tr>\n",
              "\t<tr><th scope=row>110534</th><td>2013</td><td>12</td><td>31</td><td>556</td><td> 600</td><td> -4</td><td> 909</td><td> 846</td><td> 23</td><td>B6</td><td> 583</td><td>N715JB</td><td>JFK</td><td>MCO</td><td>162</td><td> 944</td><td> 6</td><td> 0</td><td>2013-12-31 06:00:00</td></tr>\n",
              "\t<tr><th scope=row>110535</th><td>2013</td><td>12</td><td>31</td><td>556</td><td> 605</td><td> -9</td><td> 808</td><td> 814</td><td> -6</td><td>DL</td><td>1919</td><td>N958DL</td><td>LGA</td><td>MSP</td><td>160</td><td>1020</td><td> 6</td><td> 5</td><td>2013-12-31 06:00:00</td></tr>\n",
              "\t<tr><th scope=row>110536</th><td>2013</td><td>12</td><td>31</td><td>557</td><td> 603</td><td> -6</td><td> 719</td><td> 719</td><td>  0</td><td>EV</td><td>4241</td><td>N15574</td><td>EWR</td><td>DCA</td><td> 45</td><td> 199</td><td> 6</td><td> 3</td><td>2013-12-31 06:00:00</td></tr>\n",
              "\t<tr><th scope=row>110537</th><td>2013</td><td>12</td><td>31</td><td>558</td><td> 600</td><td> -2</td><td> 919</td><td> 905</td><td> 14</td><td>AA</td><td>1175</td><td>N3JEAA</td><td>LGA</td><td>MIA</td><td>173</td><td>1096</td><td> 6</td><td> 0</td><td>2013-12-31 06:00:00</td></tr>\n",
              "\t<tr><th scope=row>110538</th><td>2013</td><td>12</td><td>31</td><td>559</td><td> 600</td><td> -1</td><td> 917</td><td> 855</td><td> 22</td><td>B6</td><td> 605</td><td>N597JB</td><td>EWR</td><td>FLL</td><td>167</td><td>1065</td><td> 6</td><td> 0</td><td>2013-12-31 06:00:00</td></tr>\n",
              "\t<tr><th scope=row>110539</th><td>2013</td><td>12</td><td>31</td><td>600</td><td> 540</td><td> 20</td><td> 928</td><td> 850</td><td> 38</td><td>AA</td><td>2243</td><td>N5EMAA</td><td>JFK</td><td>MIA</td><td>171</td><td>1089</td><td> 5</td><td>40</td><td>2013-12-31 05:00:00</td></tr>\n",
              "\t<tr><th scope=row>110540</th><td>2013</td><td>12</td><td>31</td><td>602</td><td> 605</td><td> -3</td><td> 744</td><td> 805</td><td>-21</td><td>DL</td><td>2505</td><td>N358NB</td><td>EWR</td><td>DTW</td><td> 87</td><td> 488</td><td> 6</td><td> 5</td><td>2013-12-31 06:00:00</td></tr>\n",
              "\t<tr><th scope=row>110541</th><td>2013</td><td>12</td><td>31</td><td>602</td><td> 605</td><td> -3</td><td> 708</td><td> 723</td><td>-15</td><td>EV</td><td>6177</td><td>N14543</td><td>EWR</td><td>IAD</td><td> 45</td><td> 212</td><td> 6</td><td> 5</td><td>2013-12-31 06:00:00</td></tr>\n",
              "\t<tr><th scope=row>110542</th><td>2013</td><td>12</td><td>31</td><td>603</td><td> 611</td><td> -8</td><td>1045</td><td>1055</td><td>-10</td><td>B6</td><td>1403</td><td>N547JB</td><td>JFK</td><td>SJU</td><td>198</td><td>1598</td><td> 6</td><td>11</td><td>2013-12-31 06:00:00</td></tr>\n",
              "\t<tr><th scope=row>110543</th><td>2013</td><td>12</td><td>31</td><td>607</td><td> 600</td><td>  7</td><td> 848</td><td> 825</td><td> 23</td><td>WN</td><td>1716</td><td>N7740A</td><td>LGA</td><td>ATL</td><td>137</td><td> 762</td><td> 6</td><td> 0</td><td>2013-12-31 06:00:00</td></tr>\n",
              "\t<tr><th scope=row>110544</th><td>2013</td><td>12</td><td>31</td><td>608</td><td> 615</td><td> -7</td><td> 812</td><td> 818</td><td> -6</td><td>US</td><td>1963</td><td>N192UW</td><td>EWR</td><td>CLT</td><td>106</td><td> 529</td><td> 6</td><td>15</td><td>2013-12-31 06:00:00</td></tr>\n",
              "\t<tr><th scope=row>110545</th><td>2013</td><td>12</td><td>31</td><td>609</td><td> 610</td><td> -1</td><td> 911</td><td> 915</td><td> -4</td><td>AA</td><td>1205</td><td>N5DHAA</td><td>EWR</td><td>MIA</td><td>163</td><td>1085</td><td> 6</td><td>10</td><td>2013-12-31 06:00:00</td></tr>\n",
              "\t<tr><th scope=row>110546</th><td>2013</td><td>12</td><td>31</td><td>609</td><td> 615</td><td> -6</td><td> 848</td><td> 850</td><td> -2</td><td>DL</td><td> 404</td><td>N392DA</td><td>JFK</td><td>ATL</td><td>133</td><td> 760</td><td> 6</td><td>15</td><td>2013-12-31 06:00:00</td></tr>\n",
              "\t<tr><th scope=row>110547</th><td>2013</td><td>12</td><td>31</td><td>609</td><td> 614</td><td> -5</td><td> 755</td><td> 751</td><td>  4</td><td>EV</td><td>3812</td><td>N13994</td><td>EWR</td><td>RDU</td><td> 81</td><td> 416</td><td> 6</td><td>14</td><td>2013-12-31 06:00:00</td></tr>\n",
              "\t<tr><th scope=row>110548</th><td>2013</td><td>12</td><td>31</td><td>610</td><td> 615</td><td> -5</td><td> 828</td><td> 849</td><td>-21</td><td>DL</td><td> 479</td><td>N3766 </td><td>JFK</td><td>ATL</td><td>119</td><td> 760</td><td> 6</td><td>15</td><td>2013-12-31 06:00:00</td></tr>\n",
              "\t<tr><th scope=row>110549</th><td>2013</td><td>12</td><td>31</td><td>616</td><td> 611</td><td>  5</td><td> 933</td><td> 912</td><td> 21</td><td>B6</td><td> 601</td><td>N643JB</td><td>JFK</td><td>FLL</td><td>173</td><td>1069</td><td> 6</td><td>11</td><td>2013-12-31 06:00:00</td></tr>\n",
              "\t<tr><th scope=row>110550</th><td>2013</td><td>12</td><td>31</td><td>616</td><td> 630</td><td>-14</td><td> 922</td><td> 919</td><td>  3</td><td>B6</td><td>1099</td><td>N563JB</td><td>LGA</td><td>MCO</td><td>159</td><td> 950</td><td> 6</td><td>30</td><td>2013-12-31 06:00:00</td></tr>\n",
              "\t<tr><th scope=row>⋮</th><td>⋮</td><td>⋮</td><td>⋮</td><td>⋮</td><td>⋮</td><td>⋮</td><td>⋮</td><td>⋮</td><td>⋮</td><td>⋮</td><td>⋮</td><td>⋮</td><td>⋮</td><td>⋮</td><td>⋮</td><td>⋮</td><td>⋮</td><td>⋮</td><td>⋮</td></tr>\n",
              "\t<tr><th scope=row>111267</th><td>2013</td><td>12</td><td>31</td><td>2155</td><td>2039</td><td> 76</td><td> 253</td><td>2355</td><td> NA</td><td>B6</td><td>1205</td><td>N627JB</td><td>JFK</td><td>PDX</td><td> NA</td><td>2454</td><td>20</td><td>39</td><td>2013-12-31 20:00:00</td></tr>\n",
              "\t<tr><th scope=row>111268</th><td>2013</td><td>12</td><td>31</td><td>2155</td><td>2150</td><td>  5</td><td> 110</td><td>  51</td><td> 19</td><td>B6</td><td>1901</td><td>N729JB</td><td>JFK</td><td>FLL</td><td>164</td><td>1069</td><td>21</td><td>50</td><td>2013-12-31 21:00:00</td></tr>\n",
              "\t<tr><th scope=row>111269</th><td>2013</td><td>12</td><td>31</td><td>2159</td><td>2155</td><td>  4</td><td>  55</td><td>  46</td><td>  9</td><td>B6</td><td>2053</td><td>N593JB</td><td>JFK</td><td>PBI</td><td>155</td><td>1028</td><td>21</td><td>55</td><td>2013-12-31 21:00:00</td></tr>\n",
              "\t<tr><th scope=row>111270</th><td>2013</td><td>12</td><td>31</td><td>2206</td><td>2110</td><td> 56</td><td>  44</td><td>2339</td><td> 65</td><td>B6</td><td> 775</td><td>N184JB</td><td>JFK</td><td>MSY</td><td>195</td><td>1182</td><td>21</td><td>10</td><td>2013-12-31 21:00:00</td></tr>\n",
              "\t<tr><th scope=row>111271</th><td>2013</td><td>12</td><td>31</td><td>2211</td><td>2159</td><td> 12</td><td> 100</td><td>  45</td><td> 15</td><td>B6</td><td>1183</td><td>N715JB</td><td>JFK</td><td>MCO</td><td>148</td><td> 944</td><td>21</td><td>59</td><td>2013-12-31 21:00:00</td></tr>\n",
              "\t<tr><th scope=row>111272</th><td>2013</td><td>12</td><td>31</td><td>2218</td><td>2219</td><td> -1</td><td> 315</td><td> 304</td><td> 11</td><td>B6</td><td>1203</td><td>N625JB</td><td>JFK</td><td>SJU</td><td>202</td><td>1598</td><td>22</td><td>19</td><td>2013-12-31 22:00:00</td></tr>\n",
              "\t<tr><th scope=row>111273</th><td>2013</td><td>12</td><td>31</td><td>2235</td><td>2245</td><td>-10</td><td>2351</td><td>2355</td><td> -4</td><td>B6</td><td> 234</td><td>N355JB</td><td>JFK</td><td>BTV</td><td> 49</td><td> 266</td><td>22</td><td>45</td><td>2013-12-31 22:00:00</td></tr>\n",
              "\t<tr><th scope=row>111274</th><td>2013</td><td>12</td><td>31</td><td>2245</td><td>2250</td><td> -5</td><td>2359</td><td>2356</td><td>  3</td><td>B6</td><td>1816</td><td>N318JB</td><td>JFK</td><td>SYR</td><td> 51</td><td> 209</td><td>22</td><td>50</td><td>2013-12-31 22:00:00</td></tr>\n",
              "\t<tr><th scope=row>111275</th><td>2013</td><td>12</td><td>31</td><td>2310</td><td>2255</td><td> 15</td><td>   7</td><td>2356</td><td> 11</td><td>B6</td><td> 718</td><td>N279JB</td><td>JFK</td><td>BOS</td><td> 40</td><td> 187</td><td>22</td><td>55</td><td>2013-12-31 22:00:00</td></tr>\n",
              "\t<tr><th scope=row>111276</th><td>2013</td><td>12</td><td>31</td><td>2321</td><td>2250</td><td> 31</td><td>  46</td><td>   8</td><td> 38</td><td>B6</td><td>2002</td><td>N179JB</td><td>JFK</td><td>BUF</td><td> 66</td><td> 301</td><td>22</td><td>50</td><td>2013-12-31 22:00:00</td></tr>\n",
              "\t<tr><th scope=row>111277</th><td>2013</td><td>12</td><td>31</td><td>2328</td><td>2330</td><td> -2</td><td> 412</td><td> 409</td><td>  3</td><td>B6</td><td>1389</td><td>N651JB</td><td>EWR</td><td>SJU</td><td>198</td><td>1608</td><td>23</td><td>30</td><td>2013-12-31 23:00:00</td></tr>\n",
              "\t<tr><th scope=row>111278</th><td>2013</td><td>12</td><td>31</td><td>2332</td><td>2245</td><td> 47</td><td>  58</td><td>   3</td><td> 55</td><td>B6</td><td> 486</td><td>N334JB</td><td>JFK</td><td>ROC</td><td> 60</td><td> 264</td><td>22</td><td>45</td><td>2013-12-31 22:00:00</td></tr>\n",
              "\t<tr><th scope=row>111279</th><td>2013</td><td>12</td><td>31</td><td>2355</td><td>2359</td><td> -4</td><td> 430</td><td> 440</td><td>-10</td><td>B6</td><td>1503</td><td>N509JB</td><td>JFK</td><td>SJU</td><td>195</td><td>1598</td><td>23</td><td>59</td><td>2013-12-31 23:00:00</td></tr>\n",
              "\t<tr><th scope=row>111280</th><td>2013</td><td>12</td><td>31</td><td>2356</td><td>2359</td><td> -3</td><td> 436</td><td> 445</td><td> -9</td><td>B6</td><td> 745</td><td>N665JB</td><td>JFK</td><td>PSE</td><td>200</td><td>1617</td><td>23</td><td>59</td><td>2013-12-31 23:00:00</td></tr>\n",
              "\t<tr><th scope=row>111281</th><td>2013</td><td>12</td><td>31</td><td>  NA</td><td>1520</td><td> NA</td><td>  NA</td><td>1705</td><td> NA</td><td>AA</td><td> 341</td><td>N568AA</td><td>LGA</td><td>ORD</td><td> NA</td><td> 733</td><td>15</td><td>20</td><td>2013-12-31 15:00:00</td></tr>\n",
              "\t<tr><th scope=row>111282</th><td>2013</td><td>12</td><td>31</td><td>  NA</td><td>2025</td><td> NA</td><td>  NA</td><td>2205</td><td> NA</td><td>AA</td><td> 371</td><td>N482AA</td><td>LGA</td><td>ORD</td><td> NA</td><td> 733</td><td>20</td><td>25</td><td>2013-12-31 20:00:00</td></tr>\n",
              "\t<tr><th scope=row>111283</th><td>2013</td><td>12</td><td>31</td><td>  NA</td><td>1932</td><td> NA</td><td>  NA</td><td>2305</td><td> NA</td><td>B6</td><td> 161</td><td>N516JB</td><td>JFK</td><td>SMF</td><td> NA</td><td>2521</td><td>19</td><td>32</td><td>2013-12-31 19:00:00</td></tr>\n",
              "\t<tr><th scope=row>111284</th><td>2013</td><td>12</td><td>31</td><td>  NA</td><td>1505</td><td> NA</td><td>  NA</td><td>1725</td><td> NA</td><td>EV</td><td>4181</td><td>N24103</td><td>EWR</td><td>MCI</td><td> NA</td><td>1092</td><td>15</td><td> 5</td><td>2013-12-31 15:00:00</td></tr>\n",
              "\t<tr><th scope=row>111285</th><td>2013</td><td>12</td><td>31</td><td>  NA</td><td>1000</td><td> NA</td><td>  NA</td><td>1252</td><td> NA</td><td>UA</td><td>1124</td><td>NA    </td><td>EWR</td><td>EGE</td><td> NA</td><td>1725</td><td>10</td><td> 0</td><td>2013-12-31 10:00:00</td></tr>\n",
              "\t<tr><th scope=row>111286</th><td>2013</td><td>12</td><td>31</td><td>  NA</td><td> 840</td><td> NA</td><td>  NA</td><td>1205</td><td> NA</td><td>UA</td><td>1151</td><td>NA    </td><td>EWR</td><td>SEA</td><td> NA</td><td>2402</td><td> 8</td><td>40</td><td>2013-12-31 08:00:00</td></tr>\n",
              "\t<tr><th scope=row>111287</th><td>2013</td><td>12</td><td>31</td><td>  NA</td><td> 754</td><td> NA</td><td>  NA</td><td>1118</td><td> NA</td><td>UA</td><td>1455</td><td>NA    </td><td>EWR</td><td>LAX</td><td> NA</td><td>2454</td><td> 7</td><td>54</td><td>2013-12-31 07:00:00</td></tr>\n",
              "\t<tr><th scope=row>111288</th><td>2013</td><td>12</td><td>31</td><td>  NA</td><td>2000</td><td> NA</td><td>  NA</td><td>2146</td><td> NA</td><td>UA</td><td>1482</td><td>NA    </td><td>EWR</td><td>ORD</td><td> NA</td><td> 719</td><td>20</td><td> 0</td><td>2013-12-31 20:00:00</td></tr>\n",
              "\t<tr><th scope=row>111289</th><td>2013</td><td>12</td><td>31</td><td>  NA</td><td>1500</td><td> NA</td><td>  NA</td><td>1817</td><td> NA</td><td>UA</td><td>1483</td><td>NA    </td><td>EWR</td><td>AUS</td><td> NA</td><td>1504</td><td>15</td><td> 0</td><td>2013-12-31 15:00:00</td></tr>\n",
              "\t<tr><th scope=row>111290</th><td>2013</td><td>12</td><td>31</td><td>  NA</td><td>1430</td><td> NA</td><td>  NA</td><td>1750</td><td> NA</td><td>UA</td><td>1493</td><td>NA    </td><td>EWR</td><td>LAX</td><td> NA</td><td>2454</td><td>14</td><td>30</td><td>2013-12-31 14:00:00</td></tr>\n",
              "\t<tr><th scope=row>111291</th><td>2013</td><td>12</td><td>31</td><td>  NA</td><td> 855</td><td> NA</td><td>  NA</td><td>1142</td><td> NA</td><td>UA</td><td>1506</td><td>NA    </td><td>EWR</td><td>JAC</td><td> NA</td><td>1874</td><td> 8</td><td>55</td><td>2013-12-31 08:00:00</td></tr>\n",
              "\t<tr><th scope=row>111292</th><td>2013</td><td>12</td><td>31</td><td>  NA</td><td> 705</td><td> NA</td><td>  NA</td><td> 931</td><td> NA</td><td>UA</td><td>1729</td><td>NA    </td><td>EWR</td><td>DEN</td><td> NA</td><td>1605</td><td> 7</td><td> 5</td><td>2013-12-31 07:00:00</td></tr>\n",
              "\t<tr><th scope=row>111293</th><td>2013</td><td>12</td><td>31</td><td>  NA</td><td> 825</td><td> NA</td><td>  NA</td><td>1029</td><td> NA</td><td>US</td><td>1831</td><td>NA    </td><td>JFK</td><td>CLT</td><td> NA</td><td> 541</td><td> 8</td><td>25</td><td>2013-12-31 08:00:00</td></tr>\n",
              "\t<tr><th scope=row>111294</th><td>2013</td><td>12</td><td>31</td><td>  NA</td><td>1615</td><td> NA</td><td>  NA</td><td>1800</td><td> NA</td><td>MQ</td><td>3301</td><td>N844MQ</td><td>LGA</td><td>RDU</td><td> NA</td><td> 431</td><td>16</td><td>15</td><td>2013-12-31 16:00:00</td></tr>\n",
              "\t<tr><th scope=row>111295</th><td>2013</td><td>12</td><td>31</td><td>  NA</td><td> 600</td><td> NA</td><td>  NA</td><td> 735</td><td> NA</td><td>UA</td><td> 219</td><td>NA    </td><td>EWR</td><td>ORD</td><td> NA</td><td> 719</td><td> 6</td><td> 0</td><td>2013-12-31 06:00:00</td></tr>\n",
              "\t<tr><th scope=row>111296</th><td>2013</td><td>12</td><td>31</td><td>  NA</td><td> 830</td><td> NA</td><td>  NA</td><td>1154</td><td> NA</td><td>UA</td><td> 443</td><td>NA    </td><td>JFK</td><td>LAX</td><td> NA</td><td>2475</td><td> 8</td><td>30</td><td>2013-12-31 08:00:00</td></tr>\n",
              "</tbody>\n",
              "</table>\n"
            ],
            "text/markdown": "\nA data.frame: 776 × 19\n\n| <!--/--> | year &lt;int&gt; | month &lt;int&gt; | day &lt;int&gt; | dep_time &lt;int&gt; | sched_dep_time &lt;int&gt; | dep_delay &lt;int&gt; | arr_time &lt;int&gt; | sched_arr_time &lt;int&gt; | arr_delay &lt;int&gt; | carrier &lt;chr&gt; | flight &lt;int&gt; | tailnum &lt;chr&gt; | origin &lt;chr&gt; | dest &lt;chr&gt; | air_time &lt;int&gt; | distance &lt;int&gt; | hour &lt;int&gt; | minute &lt;int&gt; | time_hour &lt;chr&gt; |\n|---|---|---|---|---|---|---|---|---|---|---|---|---|---|---|---|---|---|---|---|\n| 110521 | 2013 | 12 | 31 |  13 | 2359 |  14 |  439 |  437 |   2 | B6 |  839 | N566JB | JFK | BQN | 189 | 1576 | 23 | 59 | 2013-12-31 23:00:00 |\n| 110522 | 2013 | 12 | 31 |  18 | 2359 |  19 |  449 |  444 |   5 | DL |  412 | N713TW | JFK | SJU | 192 | 1598 | 23 | 59 | 2013-12-31 23:00:00 |\n| 110523 | 2013 | 12 | 31 |  26 | 2245 | 101 |  129 | 2353 |  96 | B6 |  108 | N374JB | JFK | PWM |  50 |  273 | 22 | 45 | 2013-12-31 22:00:00 |\n| 110524 | 2013 | 12 | 31 | 459 |  500 |  -1 |  655 |  651 |   4 | US | 1895 | N557UW | EWR | CLT |  95 |  529 |  5 |  0 | 2013-12-31 05:00:00 |\n| 110525 | 2013 | 12 | 31 | 514 |  515 |  -1 |  814 |  812 |   2 | UA |  700 | N470UA | EWR | IAH | 223 | 1400 |  5 | 15 | 2013-12-31 05:00:00 |\n| 110526 | 2013 | 12 | 31 | 549 |  551 |  -2 |  925 |  900 |  25 | UA |  274 | N577UA | EWR | LAX | 346 | 2454 |  5 | 51 | 2013-12-31 05:00:00 |\n| 110527 | 2013 | 12 | 31 | 550 |  600 | -10 |  725 |  745 | -20 | AA |  301 | N3CXAA | LGA | ORD | 127 |  733 |  6 |  0 | 2013-12-31 06:00:00 |\n| 110528 | 2013 | 12 | 31 | 552 |  600 |  -8 |  811 |  826 | -15 | EV | 3825 | N14916 | EWR | IND | 118 |  645 |  6 |  0 | 2013-12-31 06:00:00 |\n| 110529 | 2013 | 12 | 31 | 553 |  600 |  -7 |  741 |  754 | -13 | DL |  731 | N333NB | LGA | DTW |  86 |  502 |  6 |  0 | 2013-12-31 06:00:00 |\n| 110530 | 2013 | 12 | 31 | 554 |  550 |   4 | 1024 | 1027 |  -3 | B6 |  939 | N552JB | JFK | BQN | 195 | 1576 |  5 | 50 | 2013-12-31 05:00:00 |\n| 110531 | 2013 | 12 | 31 | 555 |  600 |  -5 |  901 |  849 |  12 | B6 |  353 | N746JB | JFK | PBI | 167 | 1028 |  6 |  0 | 2013-12-31 06:00:00 |\n| 110532 | 2013 | 12 | 31 | 555 |  600 |  -5 |  835 |  831 |   4 | DL |  904 | N3741S | LGA | ATL | 137 |  762 |  6 |  0 | 2013-12-31 06:00:00 |\n| 110533 | 2013 | 12 | 31 | 555 |  551 |   4 |  853 |  851 |   2 | UA |  566 | N491UA | EWR | TPA | 164 |  997 |  5 | 51 | 2013-12-31 05:00:00 |\n| 110534 | 2013 | 12 | 31 | 556 |  600 |  -4 |  909 |  846 |  23 | B6 |  583 | N715JB | JFK | MCO | 162 |  944 |  6 |  0 | 2013-12-31 06:00:00 |\n| 110535 | 2013 | 12 | 31 | 556 |  605 |  -9 |  808 |  814 |  -6 | DL | 1919 | N958DL | LGA | MSP | 160 | 1020 |  6 |  5 | 2013-12-31 06:00:00 |\n| 110536 | 2013 | 12 | 31 | 557 |  603 |  -6 |  719 |  719 |   0 | EV | 4241 | N15574 | EWR | DCA |  45 |  199 |  6 |  3 | 2013-12-31 06:00:00 |\n| 110537 | 2013 | 12 | 31 | 558 |  600 |  -2 |  919 |  905 |  14 | AA | 1175 | N3JEAA | LGA | MIA | 173 | 1096 |  6 |  0 | 2013-12-31 06:00:00 |\n| 110538 | 2013 | 12 | 31 | 559 |  600 |  -1 |  917 |  855 |  22 | B6 |  605 | N597JB | EWR | FLL | 167 | 1065 |  6 |  0 | 2013-12-31 06:00:00 |\n| 110539 | 2013 | 12 | 31 | 600 |  540 |  20 |  928 |  850 |  38 | AA | 2243 | N5EMAA | JFK | MIA | 171 | 1089 |  5 | 40 | 2013-12-31 05:00:00 |\n| 110540 | 2013 | 12 | 31 | 602 |  605 |  -3 |  744 |  805 | -21 | DL | 2505 | N358NB | EWR | DTW |  87 |  488 |  6 |  5 | 2013-12-31 06:00:00 |\n| 110541 | 2013 | 12 | 31 | 602 |  605 |  -3 |  708 |  723 | -15 | EV | 6177 | N14543 | EWR | IAD |  45 |  212 |  6 |  5 | 2013-12-31 06:00:00 |\n| 110542 | 2013 | 12 | 31 | 603 |  611 |  -8 | 1045 | 1055 | -10 | B6 | 1403 | N547JB | JFK | SJU | 198 | 1598 |  6 | 11 | 2013-12-31 06:00:00 |\n| 110543 | 2013 | 12 | 31 | 607 |  600 |   7 |  848 |  825 |  23 | WN | 1716 | N7740A | LGA | ATL | 137 |  762 |  6 |  0 | 2013-12-31 06:00:00 |\n| 110544 | 2013 | 12 | 31 | 608 |  615 |  -7 |  812 |  818 |  -6 | US | 1963 | N192UW | EWR | CLT | 106 |  529 |  6 | 15 | 2013-12-31 06:00:00 |\n| 110545 | 2013 | 12 | 31 | 609 |  610 |  -1 |  911 |  915 |  -4 | AA | 1205 | N5DHAA | EWR | MIA | 163 | 1085 |  6 | 10 | 2013-12-31 06:00:00 |\n| 110546 | 2013 | 12 | 31 | 609 |  615 |  -6 |  848 |  850 |  -2 | DL |  404 | N392DA | JFK | ATL | 133 |  760 |  6 | 15 | 2013-12-31 06:00:00 |\n| 110547 | 2013 | 12 | 31 | 609 |  614 |  -5 |  755 |  751 |   4 | EV | 3812 | N13994 | EWR | RDU |  81 |  416 |  6 | 14 | 2013-12-31 06:00:00 |\n| 110548 | 2013 | 12 | 31 | 610 |  615 |  -5 |  828 |  849 | -21 | DL |  479 | N3766  | JFK | ATL | 119 |  760 |  6 | 15 | 2013-12-31 06:00:00 |\n| 110549 | 2013 | 12 | 31 | 616 |  611 |   5 |  933 |  912 |  21 | B6 |  601 | N643JB | JFK | FLL | 173 | 1069 |  6 | 11 | 2013-12-31 06:00:00 |\n| 110550 | 2013 | 12 | 31 | 616 |  630 | -14 |  922 |  919 |   3 | B6 | 1099 | N563JB | LGA | MCO | 159 |  950 |  6 | 30 | 2013-12-31 06:00:00 |\n| ⋮ | ⋮ | ⋮ | ⋮ | ⋮ | ⋮ | ⋮ | ⋮ | ⋮ | ⋮ | ⋮ | ⋮ | ⋮ | ⋮ | ⋮ | ⋮ | ⋮ | ⋮ | ⋮ | ⋮ |\n| 111267 | 2013 | 12 | 31 | 2155 | 2039 |  76 |  253 | 2355 |  NA | B6 | 1205 | N627JB | JFK | PDX |  NA | 2454 | 20 | 39 | 2013-12-31 20:00:00 |\n| 111268 | 2013 | 12 | 31 | 2155 | 2150 |   5 |  110 |   51 |  19 | B6 | 1901 | N729JB | JFK | FLL | 164 | 1069 | 21 | 50 | 2013-12-31 21:00:00 |\n| 111269 | 2013 | 12 | 31 | 2159 | 2155 |   4 |   55 |   46 |   9 | B6 | 2053 | N593JB | JFK | PBI | 155 | 1028 | 21 | 55 | 2013-12-31 21:00:00 |\n| 111270 | 2013 | 12 | 31 | 2206 | 2110 |  56 |   44 | 2339 |  65 | B6 |  775 | N184JB | JFK | MSY | 195 | 1182 | 21 | 10 | 2013-12-31 21:00:00 |\n| 111271 | 2013 | 12 | 31 | 2211 | 2159 |  12 |  100 |   45 |  15 | B6 | 1183 | N715JB | JFK | MCO | 148 |  944 | 21 | 59 | 2013-12-31 21:00:00 |\n| 111272 | 2013 | 12 | 31 | 2218 | 2219 |  -1 |  315 |  304 |  11 | B6 | 1203 | N625JB | JFK | SJU | 202 | 1598 | 22 | 19 | 2013-12-31 22:00:00 |\n| 111273 | 2013 | 12 | 31 | 2235 | 2245 | -10 | 2351 | 2355 |  -4 | B6 |  234 | N355JB | JFK | BTV |  49 |  266 | 22 | 45 | 2013-12-31 22:00:00 |\n| 111274 | 2013 | 12 | 31 | 2245 | 2250 |  -5 | 2359 | 2356 |   3 | B6 | 1816 | N318JB | JFK | SYR |  51 |  209 | 22 | 50 | 2013-12-31 22:00:00 |\n| 111275 | 2013 | 12 | 31 | 2310 | 2255 |  15 |    7 | 2356 |  11 | B6 |  718 | N279JB | JFK | BOS |  40 |  187 | 22 | 55 | 2013-12-31 22:00:00 |\n| 111276 | 2013 | 12 | 31 | 2321 | 2250 |  31 |   46 |    8 |  38 | B6 | 2002 | N179JB | JFK | BUF |  66 |  301 | 22 | 50 | 2013-12-31 22:00:00 |\n| 111277 | 2013 | 12 | 31 | 2328 | 2330 |  -2 |  412 |  409 |   3 | B6 | 1389 | N651JB | EWR | SJU | 198 | 1608 | 23 | 30 | 2013-12-31 23:00:00 |\n| 111278 | 2013 | 12 | 31 | 2332 | 2245 |  47 |   58 |    3 |  55 | B6 |  486 | N334JB | JFK | ROC |  60 |  264 | 22 | 45 | 2013-12-31 22:00:00 |\n| 111279 | 2013 | 12 | 31 | 2355 | 2359 |  -4 |  430 |  440 | -10 | B6 | 1503 | N509JB | JFK | SJU | 195 | 1598 | 23 | 59 | 2013-12-31 23:00:00 |\n| 111280 | 2013 | 12 | 31 | 2356 | 2359 |  -3 |  436 |  445 |  -9 | B6 |  745 | N665JB | JFK | PSE | 200 | 1617 | 23 | 59 | 2013-12-31 23:00:00 |\n| 111281 | 2013 | 12 | 31 |   NA | 1520 |  NA |   NA | 1705 |  NA | AA |  341 | N568AA | LGA | ORD |  NA |  733 | 15 | 20 | 2013-12-31 15:00:00 |\n| 111282 | 2013 | 12 | 31 |   NA | 2025 |  NA |   NA | 2205 |  NA | AA |  371 | N482AA | LGA | ORD |  NA |  733 | 20 | 25 | 2013-12-31 20:00:00 |\n| 111283 | 2013 | 12 | 31 |   NA | 1932 |  NA |   NA | 2305 |  NA | B6 |  161 | N516JB | JFK | SMF |  NA | 2521 | 19 | 32 | 2013-12-31 19:00:00 |\n| 111284 | 2013 | 12 | 31 |   NA | 1505 |  NA |   NA | 1725 |  NA | EV | 4181 | N24103 | EWR | MCI |  NA | 1092 | 15 |  5 | 2013-12-31 15:00:00 |\n| 111285 | 2013 | 12 | 31 |   NA | 1000 |  NA |   NA | 1252 |  NA | UA | 1124 | NA     | EWR | EGE |  NA | 1725 | 10 |  0 | 2013-12-31 10:00:00 |\n| 111286 | 2013 | 12 | 31 |   NA |  840 |  NA |   NA | 1205 |  NA | UA | 1151 | NA     | EWR | SEA |  NA | 2402 |  8 | 40 | 2013-12-31 08:00:00 |\n| 111287 | 2013 | 12 | 31 |   NA |  754 |  NA |   NA | 1118 |  NA | UA | 1455 | NA     | EWR | LAX |  NA | 2454 |  7 | 54 | 2013-12-31 07:00:00 |\n| 111288 | 2013 | 12 | 31 |   NA | 2000 |  NA |   NA | 2146 |  NA | UA | 1482 | NA     | EWR | ORD |  NA |  719 | 20 |  0 | 2013-12-31 20:00:00 |\n| 111289 | 2013 | 12 | 31 |   NA | 1500 |  NA |   NA | 1817 |  NA | UA | 1483 | NA     | EWR | AUS |  NA | 1504 | 15 |  0 | 2013-12-31 15:00:00 |\n| 111290 | 2013 | 12 | 31 |   NA | 1430 |  NA |   NA | 1750 |  NA | UA | 1493 | NA     | EWR | LAX |  NA | 2454 | 14 | 30 | 2013-12-31 14:00:00 |\n| 111291 | 2013 | 12 | 31 |   NA |  855 |  NA |   NA | 1142 |  NA | UA | 1506 | NA     | EWR | JAC |  NA | 1874 |  8 | 55 | 2013-12-31 08:00:00 |\n| 111292 | 2013 | 12 | 31 |   NA |  705 |  NA |   NA |  931 |  NA | UA | 1729 | NA     | EWR | DEN |  NA | 1605 |  7 |  5 | 2013-12-31 07:00:00 |\n| 111293 | 2013 | 12 | 31 |   NA |  825 |  NA |   NA | 1029 |  NA | US | 1831 | NA     | JFK | CLT |  NA |  541 |  8 | 25 | 2013-12-31 08:00:00 |\n| 111294 | 2013 | 12 | 31 |   NA | 1615 |  NA |   NA | 1800 |  NA | MQ | 3301 | N844MQ | LGA | RDU |  NA |  431 | 16 | 15 | 2013-12-31 16:00:00 |\n| 111295 | 2013 | 12 | 31 |   NA |  600 |  NA |   NA |  735 |  NA | UA |  219 | NA     | EWR | ORD |  NA |  719 |  6 |  0 | 2013-12-31 06:00:00 |\n| 111296 | 2013 | 12 | 31 |   NA |  830 |  NA |   NA | 1154 |  NA | UA |  443 | NA     | JFK | LAX |  NA | 2475 |  8 | 30 | 2013-12-31 08:00:00 |\n\n",
            "text/latex": "A data.frame: 776 × 19\n\\begin{tabular}{r|lllllllllllllllllll}\n  & year & month & day & dep\\_time & sched\\_dep\\_time & dep\\_delay & arr\\_time & sched\\_arr\\_time & arr\\_delay & carrier & flight & tailnum & origin & dest & air\\_time & distance & hour & minute & time\\_hour\\\\\n  & <int> & <int> & <int> & <int> & <int> & <int> & <int> & <int> & <int> & <chr> & <int> & <chr> & <chr> & <chr> & <int> & <int> & <int> & <int> & <chr>\\\\\n\\hline\n\t110521 & 2013 & 12 & 31 &  13 & 2359 &  14 &  439 &  437 &   2 & B6 &  839 & N566JB & JFK & BQN & 189 & 1576 & 23 & 59 & 2013-12-31 23:00:00\\\\\n\t110522 & 2013 & 12 & 31 &  18 & 2359 &  19 &  449 &  444 &   5 & DL &  412 & N713TW & JFK & SJU & 192 & 1598 & 23 & 59 & 2013-12-31 23:00:00\\\\\n\t110523 & 2013 & 12 & 31 &  26 & 2245 & 101 &  129 & 2353 &  96 & B6 &  108 & N374JB & JFK & PWM &  50 &  273 & 22 & 45 & 2013-12-31 22:00:00\\\\\n\t110524 & 2013 & 12 & 31 & 459 &  500 &  -1 &  655 &  651 &   4 & US & 1895 & N557UW & EWR & CLT &  95 &  529 &  5 &  0 & 2013-12-31 05:00:00\\\\\n\t110525 & 2013 & 12 & 31 & 514 &  515 &  -1 &  814 &  812 &   2 & UA &  700 & N470UA & EWR & IAH & 223 & 1400 &  5 & 15 & 2013-12-31 05:00:00\\\\\n\t110526 & 2013 & 12 & 31 & 549 &  551 &  -2 &  925 &  900 &  25 & UA &  274 & N577UA & EWR & LAX & 346 & 2454 &  5 & 51 & 2013-12-31 05:00:00\\\\\n\t110527 & 2013 & 12 & 31 & 550 &  600 & -10 &  725 &  745 & -20 & AA &  301 & N3CXAA & LGA & ORD & 127 &  733 &  6 &  0 & 2013-12-31 06:00:00\\\\\n\t110528 & 2013 & 12 & 31 & 552 &  600 &  -8 &  811 &  826 & -15 & EV & 3825 & N14916 & EWR & IND & 118 &  645 &  6 &  0 & 2013-12-31 06:00:00\\\\\n\t110529 & 2013 & 12 & 31 & 553 &  600 &  -7 &  741 &  754 & -13 & DL &  731 & N333NB & LGA & DTW &  86 &  502 &  6 &  0 & 2013-12-31 06:00:00\\\\\n\t110530 & 2013 & 12 & 31 & 554 &  550 &   4 & 1024 & 1027 &  -3 & B6 &  939 & N552JB & JFK & BQN & 195 & 1576 &  5 & 50 & 2013-12-31 05:00:00\\\\\n\t110531 & 2013 & 12 & 31 & 555 &  600 &  -5 &  901 &  849 &  12 & B6 &  353 & N746JB & JFK & PBI & 167 & 1028 &  6 &  0 & 2013-12-31 06:00:00\\\\\n\t110532 & 2013 & 12 & 31 & 555 &  600 &  -5 &  835 &  831 &   4 & DL &  904 & N3741S & LGA & ATL & 137 &  762 &  6 &  0 & 2013-12-31 06:00:00\\\\\n\t110533 & 2013 & 12 & 31 & 555 &  551 &   4 &  853 &  851 &   2 & UA &  566 & N491UA & EWR & TPA & 164 &  997 &  5 & 51 & 2013-12-31 05:00:00\\\\\n\t110534 & 2013 & 12 & 31 & 556 &  600 &  -4 &  909 &  846 &  23 & B6 &  583 & N715JB & JFK & MCO & 162 &  944 &  6 &  0 & 2013-12-31 06:00:00\\\\\n\t110535 & 2013 & 12 & 31 & 556 &  605 &  -9 &  808 &  814 &  -6 & DL & 1919 & N958DL & LGA & MSP & 160 & 1020 &  6 &  5 & 2013-12-31 06:00:00\\\\\n\t110536 & 2013 & 12 & 31 & 557 &  603 &  -6 &  719 &  719 &   0 & EV & 4241 & N15574 & EWR & DCA &  45 &  199 &  6 &  3 & 2013-12-31 06:00:00\\\\\n\t110537 & 2013 & 12 & 31 & 558 &  600 &  -2 &  919 &  905 &  14 & AA & 1175 & N3JEAA & LGA & MIA & 173 & 1096 &  6 &  0 & 2013-12-31 06:00:00\\\\\n\t110538 & 2013 & 12 & 31 & 559 &  600 &  -1 &  917 &  855 &  22 & B6 &  605 & N597JB & EWR & FLL & 167 & 1065 &  6 &  0 & 2013-12-31 06:00:00\\\\\n\t110539 & 2013 & 12 & 31 & 600 &  540 &  20 &  928 &  850 &  38 & AA & 2243 & N5EMAA & JFK & MIA & 171 & 1089 &  5 & 40 & 2013-12-31 05:00:00\\\\\n\t110540 & 2013 & 12 & 31 & 602 &  605 &  -3 &  744 &  805 & -21 & DL & 2505 & N358NB & EWR & DTW &  87 &  488 &  6 &  5 & 2013-12-31 06:00:00\\\\\n\t110541 & 2013 & 12 & 31 & 602 &  605 &  -3 &  708 &  723 & -15 & EV & 6177 & N14543 & EWR & IAD &  45 &  212 &  6 &  5 & 2013-12-31 06:00:00\\\\\n\t110542 & 2013 & 12 & 31 & 603 &  611 &  -8 & 1045 & 1055 & -10 & B6 & 1403 & N547JB & JFK & SJU & 198 & 1598 &  6 & 11 & 2013-12-31 06:00:00\\\\\n\t110543 & 2013 & 12 & 31 & 607 &  600 &   7 &  848 &  825 &  23 & WN & 1716 & N7740A & LGA & ATL & 137 &  762 &  6 &  0 & 2013-12-31 06:00:00\\\\\n\t110544 & 2013 & 12 & 31 & 608 &  615 &  -7 &  812 &  818 &  -6 & US & 1963 & N192UW & EWR & CLT & 106 &  529 &  6 & 15 & 2013-12-31 06:00:00\\\\\n\t110545 & 2013 & 12 & 31 & 609 &  610 &  -1 &  911 &  915 &  -4 & AA & 1205 & N5DHAA & EWR & MIA & 163 & 1085 &  6 & 10 & 2013-12-31 06:00:00\\\\\n\t110546 & 2013 & 12 & 31 & 609 &  615 &  -6 &  848 &  850 &  -2 & DL &  404 & N392DA & JFK & ATL & 133 &  760 &  6 & 15 & 2013-12-31 06:00:00\\\\\n\t110547 & 2013 & 12 & 31 & 609 &  614 &  -5 &  755 &  751 &   4 & EV & 3812 & N13994 & EWR & RDU &  81 &  416 &  6 & 14 & 2013-12-31 06:00:00\\\\\n\t110548 & 2013 & 12 & 31 & 610 &  615 &  -5 &  828 &  849 & -21 & DL &  479 & N3766  & JFK & ATL & 119 &  760 &  6 & 15 & 2013-12-31 06:00:00\\\\\n\t110549 & 2013 & 12 & 31 & 616 &  611 &   5 &  933 &  912 &  21 & B6 &  601 & N643JB & JFK & FLL & 173 & 1069 &  6 & 11 & 2013-12-31 06:00:00\\\\\n\t110550 & 2013 & 12 & 31 & 616 &  630 & -14 &  922 &  919 &   3 & B6 & 1099 & N563JB & LGA & MCO & 159 &  950 &  6 & 30 & 2013-12-31 06:00:00\\\\\n\t⋮ & ⋮ & ⋮ & ⋮ & ⋮ & ⋮ & ⋮ & ⋮ & ⋮ & ⋮ & ⋮ & ⋮ & ⋮ & ⋮ & ⋮ & ⋮ & ⋮ & ⋮ & ⋮ & ⋮\\\\\n\t111267 & 2013 & 12 & 31 & 2155 & 2039 &  76 &  253 & 2355 &  NA & B6 & 1205 & N627JB & JFK & PDX &  NA & 2454 & 20 & 39 & 2013-12-31 20:00:00\\\\\n\t111268 & 2013 & 12 & 31 & 2155 & 2150 &   5 &  110 &   51 &  19 & B6 & 1901 & N729JB & JFK & FLL & 164 & 1069 & 21 & 50 & 2013-12-31 21:00:00\\\\\n\t111269 & 2013 & 12 & 31 & 2159 & 2155 &   4 &   55 &   46 &   9 & B6 & 2053 & N593JB & JFK & PBI & 155 & 1028 & 21 & 55 & 2013-12-31 21:00:00\\\\\n\t111270 & 2013 & 12 & 31 & 2206 & 2110 &  56 &   44 & 2339 &  65 & B6 &  775 & N184JB & JFK & MSY & 195 & 1182 & 21 & 10 & 2013-12-31 21:00:00\\\\\n\t111271 & 2013 & 12 & 31 & 2211 & 2159 &  12 &  100 &   45 &  15 & B6 & 1183 & N715JB & JFK & MCO & 148 &  944 & 21 & 59 & 2013-12-31 21:00:00\\\\\n\t111272 & 2013 & 12 & 31 & 2218 & 2219 &  -1 &  315 &  304 &  11 & B6 & 1203 & N625JB & JFK & SJU & 202 & 1598 & 22 & 19 & 2013-12-31 22:00:00\\\\\n\t111273 & 2013 & 12 & 31 & 2235 & 2245 & -10 & 2351 & 2355 &  -4 & B6 &  234 & N355JB & JFK & BTV &  49 &  266 & 22 & 45 & 2013-12-31 22:00:00\\\\\n\t111274 & 2013 & 12 & 31 & 2245 & 2250 &  -5 & 2359 & 2356 &   3 & B6 & 1816 & N318JB & JFK & SYR &  51 &  209 & 22 & 50 & 2013-12-31 22:00:00\\\\\n\t111275 & 2013 & 12 & 31 & 2310 & 2255 &  15 &    7 & 2356 &  11 & B6 &  718 & N279JB & JFK & BOS &  40 &  187 & 22 & 55 & 2013-12-31 22:00:00\\\\\n\t111276 & 2013 & 12 & 31 & 2321 & 2250 &  31 &   46 &    8 &  38 & B6 & 2002 & N179JB & JFK & BUF &  66 &  301 & 22 & 50 & 2013-12-31 22:00:00\\\\\n\t111277 & 2013 & 12 & 31 & 2328 & 2330 &  -2 &  412 &  409 &   3 & B6 & 1389 & N651JB & EWR & SJU & 198 & 1608 & 23 & 30 & 2013-12-31 23:00:00\\\\\n\t111278 & 2013 & 12 & 31 & 2332 & 2245 &  47 &   58 &    3 &  55 & B6 &  486 & N334JB & JFK & ROC &  60 &  264 & 22 & 45 & 2013-12-31 22:00:00\\\\\n\t111279 & 2013 & 12 & 31 & 2355 & 2359 &  -4 &  430 &  440 & -10 & B6 & 1503 & N509JB & JFK & SJU & 195 & 1598 & 23 & 59 & 2013-12-31 23:00:00\\\\\n\t111280 & 2013 & 12 & 31 & 2356 & 2359 &  -3 &  436 &  445 &  -9 & B6 &  745 & N665JB & JFK & PSE & 200 & 1617 & 23 & 59 & 2013-12-31 23:00:00\\\\\n\t111281 & 2013 & 12 & 31 &   NA & 1520 &  NA &   NA & 1705 &  NA & AA &  341 & N568AA & LGA & ORD &  NA &  733 & 15 & 20 & 2013-12-31 15:00:00\\\\\n\t111282 & 2013 & 12 & 31 &   NA & 2025 &  NA &   NA & 2205 &  NA & AA &  371 & N482AA & LGA & ORD &  NA &  733 & 20 & 25 & 2013-12-31 20:00:00\\\\\n\t111283 & 2013 & 12 & 31 &   NA & 1932 &  NA &   NA & 2305 &  NA & B6 &  161 & N516JB & JFK & SMF &  NA & 2521 & 19 & 32 & 2013-12-31 19:00:00\\\\\n\t111284 & 2013 & 12 & 31 &   NA & 1505 &  NA &   NA & 1725 &  NA & EV & 4181 & N24103 & EWR & MCI &  NA & 1092 & 15 &  5 & 2013-12-31 15:00:00\\\\\n\t111285 & 2013 & 12 & 31 &   NA & 1000 &  NA &   NA & 1252 &  NA & UA & 1124 & NA     & EWR & EGE &  NA & 1725 & 10 &  0 & 2013-12-31 10:00:00\\\\\n\t111286 & 2013 & 12 & 31 &   NA &  840 &  NA &   NA & 1205 &  NA & UA & 1151 & NA     & EWR & SEA &  NA & 2402 &  8 & 40 & 2013-12-31 08:00:00\\\\\n\t111287 & 2013 & 12 & 31 &   NA &  754 &  NA &   NA & 1118 &  NA & UA & 1455 & NA     & EWR & LAX &  NA & 2454 &  7 & 54 & 2013-12-31 07:00:00\\\\\n\t111288 & 2013 & 12 & 31 &   NA & 2000 &  NA &   NA & 2146 &  NA & UA & 1482 & NA     & EWR & ORD &  NA &  719 & 20 &  0 & 2013-12-31 20:00:00\\\\\n\t111289 & 2013 & 12 & 31 &   NA & 1500 &  NA &   NA & 1817 &  NA & UA & 1483 & NA     & EWR & AUS &  NA & 1504 & 15 &  0 & 2013-12-31 15:00:00\\\\\n\t111290 & 2013 & 12 & 31 &   NA & 1430 &  NA &   NA & 1750 &  NA & UA & 1493 & NA     & EWR & LAX &  NA & 2454 & 14 & 30 & 2013-12-31 14:00:00\\\\\n\t111291 & 2013 & 12 & 31 &   NA &  855 &  NA &   NA & 1142 &  NA & UA & 1506 & NA     & EWR & JAC &  NA & 1874 &  8 & 55 & 2013-12-31 08:00:00\\\\\n\t111292 & 2013 & 12 & 31 &   NA &  705 &  NA &   NA &  931 &  NA & UA & 1729 & NA     & EWR & DEN &  NA & 1605 &  7 &  5 & 2013-12-31 07:00:00\\\\\n\t111293 & 2013 & 12 & 31 &   NA &  825 &  NA &   NA & 1029 &  NA & US & 1831 & NA     & JFK & CLT &  NA &  541 &  8 & 25 & 2013-12-31 08:00:00\\\\\n\t111294 & 2013 & 12 & 31 &   NA & 1615 &  NA &   NA & 1800 &  NA & MQ & 3301 & N844MQ & LGA & RDU &  NA &  431 & 16 & 15 & 2013-12-31 16:00:00\\\\\n\t111295 & 2013 & 12 & 31 &   NA &  600 &  NA &   NA &  735 &  NA & UA &  219 & NA     & EWR & ORD &  NA &  719 &  6 &  0 & 2013-12-31 06:00:00\\\\\n\t111296 & 2013 & 12 & 31 &   NA &  830 &  NA &   NA & 1154 &  NA & UA &  443 & NA     & JFK & LAX &  NA & 2475 &  8 & 30 & 2013-12-31 08:00:00\\\\\n\\end{tabular}\n",
            "text/plain": [
              "       year month day dep_time sched_dep_time dep_delay arr_time sched_arr_time\n",
              "110521 2013 12    31   13      2359            14        439      437          \n",
              "110522 2013 12    31   18      2359            19        449      444          \n",
              "110523 2013 12    31   26      2245           101        129     2353          \n",
              "110524 2013 12    31  459       500            -1        655      651          \n",
              "110525 2013 12    31  514       515            -1        814      812          \n",
              "110526 2013 12    31  549       551            -2        925      900          \n",
              "110527 2013 12    31  550       600           -10        725      745          \n",
              "110528 2013 12    31  552       600            -8        811      826          \n",
              "110529 2013 12    31  553       600            -7        741      754          \n",
              "110530 2013 12    31  554       550             4       1024     1027          \n",
              "110531 2013 12    31  555       600            -5        901      849          \n",
              "110532 2013 12    31  555       600            -5        835      831          \n",
              "110533 2013 12    31  555       551             4        853      851          \n",
              "110534 2013 12    31  556       600            -4        909      846          \n",
              "110535 2013 12    31  556       605            -9        808      814          \n",
              "110536 2013 12    31  557       603            -6        719      719          \n",
              "110537 2013 12    31  558       600            -2        919      905          \n",
              "110538 2013 12    31  559       600            -1        917      855          \n",
              "110539 2013 12    31  600       540            20        928      850          \n",
              "110540 2013 12    31  602       605            -3        744      805          \n",
              "110541 2013 12    31  602       605            -3        708      723          \n",
              "110542 2013 12    31  603       611            -8       1045     1055          \n",
              "110543 2013 12    31  607       600             7        848      825          \n",
              "110544 2013 12    31  608       615            -7        812      818          \n",
              "110545 2013 12    31  609       610            -1        911      915          \n",
              "110546 2013 12    31  609       615            -6        848      850          \n",
              "110547 2013 12    31  609       614            -5        755      751          \n",
              "110548 2013 12    31  610       615            -5        828      849          \n",
              "110549 2013 12    31  616       611             5        933      912          \n",
              "110550 2013 12    31  616       630           -14        922      919          \n",
              "⋮      ⋮    ⋮     ⋮   ⋮        ⋮              ⋮         ⋮        ⋮             \n",
              "111267 2013 12    31  2155     2039            76        253     2355          \n",
              "111268 2013 12    31  2155     2150             5        110       51          \n",
              "111269 2013 12    31  2159     2155             4         55       46          \n",
              "111270 2013 12    31  2206     2110            56         44     2339          \n",
              "111271 2013 12    31  2211     2159            12        100       45          \n",
              "111272 2013 12    31  2218     2219            -1        315      304          \n",
              "111273 2013 12    31  2235     2245           -10       2351     2355          \n",
              "111274 2013 12    31  2245     2250            -5       2359     2356          \n",
              "111275 2013 12    31  2310     2255            15          7     2356          \n",
              "111276 2013 12    31  2321     2250            31         46        8          \n",
              "111277 2013 12    31  2328     2330            -2        412      409          \n",
              "111278 2013 12    31  2332     2245            47         58        3          \n",
              "111279 2013 12    31  2355     2359            -4        430      440          \n",
              "111280 2013 12    31  2356     2359            -3        436      445          \n",
              "111281 2013 12    31    NA     1520            NA         NA     1705          \n",
              "111282 2013 12    31    NA     2025            NA         NA     2205          \n",
              "111283 2013 12    31    NA     1932            NA         NA     2305          \n",
              "111284 2013 12    31    NA     1505            NA         NA     1725          \n",
              "111285 2013 12    31    NA     1000            NA         NA     1252          \n",
              "111286 2013 12    31    NA      840            NA         NA     1205          \n",
              "111287 2013 12    31    NA      754            NA         NA     1118          \n",
              "111288 2013 12    31    NA     2000            NA         NA     2146          \n",
              "111289 2013 12    31    NA     1500            NA         NA     1817          \n",
              "111290 2013 12    31    NA     1430            NA         NA     1750          \n",
              "111291 2013 12    31    NA      855            NA         NA     1142          \n",
              "111292 2013 12    31    NA      705            NA         NA      931          \n",
              "111293 2013 12    31    NA      825            NA         NA     1029          \n",
              "111294 2013 12    31    NA     1615            NA         NA     1800          \n",
              "111295 2013 12    31    NA      600            NA         NA      735          \n",
              "111296 2013 12    31    NA      830            NA         NA     1154          \n",
              "       arr_delay carrier flight tailnum origin dest air_time distance hour\n",
              "110521   2       B6       839   N566JB  JFK    BQN  189      1576     23  \n",
              "110522   5       DL       412   N713TW  JFK    SJU  192      1598     23  \n",
              "110523  96       B6       108   N374JB  JFK    PWM   50       273     22  \n",
              "110524   4       US      1895   N557UW  EWR    CLT   95       529      5  \n",
              "110525   2       UA       700   N470UA  EWR    IAH  223      1400      5  \n",
              "110526  25       UA       274   N577UA  EWR    LAX  346      2454      5  \n",
              "110527 -20       AA       301   N3CXAA  LGA    ORD  127       733      6  \n",
              "110528 -15       EV      3825   N14916  EWR    IND  118       645      6  \n",
              "110529 -13       DL       731   N333NB  LGA    DTW   86       502      6  \n",
              "110530  -3       B6       939   N552JB  JFK    BQN  195      1576      5  \n",
              "110531  12       B6       353   N746JB  JFK    PBI  167      1028      6  \n",
              "110532   4       DL       904   N3741S  LGA    ATL  137       762      6  \n",
              "110533   2       UA       566   N491UA  EWR    TPA  164       997      5  \n",
              "110534  23       B6       583   N715JB  JFK    MCO  162       944      6  \n",
              "110535  -6       DL      1919   N958DL  LGA    MSP  160      1020      6  \n",
              "110536   0       EV      4241   N15574  EWR    DCA   45       199      6  \n",
              "110537  14       AA      1175   N3JEAA  LGA    MIA  173      1096      6  \n",
              "110538  22       B6       605   N597JB  EWR    FLL  167      1065      6  \n",
              "110539  38       AA      2243   N5EMAA  JFK    MIA  171      1089      5  \n",
              "110540 -21       DL      2505   N358NB  EWR    DTW   87       488      6  \n",
              "110541 -15       EV      6177   N14543  EWR    IAD   45       212      6  \n",
              "110542 -10       B6      1403   N547JB  JFK    SJU  198      1598      6  \n",
              "110543  23       WN      1716   N7740A  LGA    ATL  137       762      6  \n",
              "110544  -6       US      1963   N192UW  EWR    CLT  106       529      6  \n",
              "110545  -4       AA      1205   N5DHAA  EWR    MIA  163      1085      6  \n",
              "110546  -2       DL       404   N392DA  JFK    ATL  133       760      6  \n",
              "110547   4       EV      3812   N13994  EWR    RDU   81       416      6  \n",
              "110548 -21       DL       479   N3766   JFK    ATL  119       760      6  \n",
              "110549  21       B6       601   N643JB  JFK    FLL  173      1069      6  \n",
              "110550   3       B6      1099   N563JB  LGA    MCO  159       950      6  \n",
              "⋮      ⋮         ⋮       ⋮      ⋮       ⋮      ⋮    ⋮        ⋮        ⋮   \n",
              "111267  NA       B6      1205   N627JB  JFK    PDX   NA      2454     20  \n",
              "111268  19       B6      1901   N729JB  JFK    FLL  164      1069     21  \n",
              "111269   9       B6      2053   N593JB  JFK    PBI  155      1028     21  \n",
              "111270  65       B6       775   N184JB  JFK    MSY  195      1182     21  \n",
              "111271  15       B6      1183   N715JB  JFK    MCO  148       944     21  \n",
              "111272  11       B6      1203   N625JB  JFK    SJU  202      1598     22  \n",
              "111273  -4       B6       234   N355JB  JFK    BTV   49       266     22  \n",
              "111274   3       B6      1816   N318JB  JFK    SYR   51       209     22  \n",
              "111275  11       B6       718   N279JB  JFK    BOS   40       187     22  \n",
              "111276  38       B6      2002   N179JB  JFK    BUF   66       301     22  \n",
              "111277   3       B6      1389   N651JB  EWR    SJU  198      1608     23  \n",
              "111278  55       B6       486   N334JB  JFK    ROC   60       264     22  \n",
              "111279 -10       B6      1503   N509JB  JFK    SJU  195      1598     23  \n",
              "111280  -9       B6       745   N665JB  JFK    PSE  200      1617     23  \n",
              "111281  NA       AA       341   N568AA  LGA    ORD   NA       733     15  \n",
              "111282  NA       AA       371   N482AA  LGA    ORD   NA       733     20  \n",
              "111283  NA       B6       161   N516JB  JFK    SMF   NA      2521     19  \n",
              "111284  NA       EV      4181   N24103  EWR    MCI   NA      1092     15  \n",
              "111285  NA       UA      1124   NA      EWR    EGE   NA      1725     10  \n",
              "111286  NA       UA      1151   NA      EWR    SEA   NA      2402      8  \n",
              "111287  NA       UA      1455   NA      EWR    LAX   NA      2454      7  \n",
              "111288  NA       UA      1482   NA      EWR    ORD   NA       719     20  \n",
              "111289  NA       UA      1483   NA      EWR    AUS   NA      1504     15  \n",
              "111290  NA       UA      1493   NA      EWR    LAX   NA      2454     14  \n",
              "111291  NA       UA      1506   NA      EWR    JAC   NA      1874      8  \n",
              "111292  NA       UA      1729   NA      EWR    DEN   NA      1605      7  \n",
              "111293  NA       US      1831   NA      JFK    CLT   NA       541      8  \n",
              "111294  NA       MQ      3301   N844MQ  LGA    RDU   NA       431     16  \n",
              "111295  NA       UA       219   NA      EWR    ORD   NA       719      6  \n",
              "111296  NA       UA       443   NA      JFK    LAX   NA      2475      8  \n",
              "       minute time_hour          \n",
              "110521 59     2013-12-31 23:00:00\n",
              "110522 59     2013-12-31 23:00:00\n",
              "110523 45     2013-12-31 22:00:00\n",
              "110524  0     2013-12-31 05:00:00\n",
              "110525 15     2013-12-31 05:00:00\n",
              "110526 51     2013-12-31 05:00:00\n",
              "110527  0     2013-12-31 06:00:00\n",
              "110528  0     2013-12-31 06:00:00\n",
              "110529  0     2013-12-31 06:00:00\n",
              "110530 50     2013-12-31 05:00:00\n",
              "110531  0     2013-12-31 06:00:00\n",
              "110532  0     2013-12-31 06:00:00\n",
              "110533 51     2013-12-31 05:00:00\n",
              "110534  0     2013-12-31 06:00:00\n",
              "110535  5     2013-12-31 06:00:00\n",
              "110536  3     2013-12-31 06:00:00\n",
              "110537  0     2013-12-31 06:00:00\n",
              "110538  0     2013-12-31 06:00:00\n",
              "110539 40     2013-12-31 05:00:00\n",
              "110540  5     2013-12-31 06:00:00\n",
              "110541  5     2013-12-31 06:00:00\n",
              "110542 11     2013-12-31 06:00:00\n",
              "110543  0     2013-12-31 06:00:00\n",
              "110544 15     2013-12-31 06:00:00\n",
              "110545 10     2013-12-31 06:00:00\n",
              "110546 15     2013-12-31 06:00:00\n",
              "110547 14     2013-12-31 06:00:00\n",
              "110548 15     2013-12-31 06:00:00\n",
              "110549 11     2013-12-31 06:00:00\n",
              "110550 30     2013-12-31 06:00:00\n",
              "⋮      ⋮      ⋮                  \n",
              "111267 39     2013-12-31 20:00:00\n",
              "111268 50     2013-12-31 21:00:00\n",
              "111269 55     2013-12-31 21:00:00\n",
              "111270 10     2013-12-31 21:00:00\n",
              "111271 59     2013-12-31 21:00:00\n",
              "111272 19     2013-12-31 22:00:00\n",
              "111273 45     2013-12-31 22:00:00\n",
              "111274 50     2013-12-31 22:00:00\n",
              "111275 55     2013-12-31 22:00:00\n",
              "111276 50     2013-12-31 22:00:00\n",
              "111277 30     2013-12-31 23:00:00\n",
              "111278 45     2013-12-31 22:00:00\n",
              "111279 59     2013-12-31 23:00:00\n",
              "111280 59     2013-12-31 23:00:00\n",
              "111281 20     2013-12-31 15:00:00\n",
              "111282 25     2013-12-31 20:00:00\n",
              "111283 32     2013-12-31 19:00:00\n",
              "111284  5     2013-12-31 15:00:00\n",
              "111285  0     2013-12-31 10:00:00\n",
              "111286 40     2013-12-31 08:00:00\n",
              "111287 54     2013-12-31 07:00:00\n",
              "111288  0     2013-12-31 20:00:00\n",
              "111289  0     2013-12-31 15:00:00\n",
              "111290 30     2013-12-31 14:00:00\n",
              "111291 55     2013-12-31 08:00:00\n",
              "111292  5     2013-12-31 07:00:00\n",
              "111293 25     2013-12-31 08:00:00\n",
              "111294 15     2013-12-31 16:00:00\n",
              "111295  0     2013-12-31 06:00:00\n",
              "111296 30     2013-12-31 08:00:00"
            ]
          },
          "metadata": {}
        }
      ]
    },
    {
      "cell_type": "code",
      "source": [
        "# Ahora\n",
        "filter(vuelos, year == 2013 & month == 12 & day == 31)"
      ],
      "metadata": {
        "colab": {
          "base_uri": "https://localhost:8080/",
          "height": 1000
        },
        "id": "5Jv1TcN9SXUf",
        "outputId": "3e685961-17c3-40f8-db4b-c0067f5e1e8e"
      },
      "execution_count": null,
      "outputs": [
        {
          "output_type": "display_data",
          "data": {
            "text/html": [
              "<table class=\"dataframe\">\n",
              "<caption>A data.frame: 776 × 19</caption>\n",
              "<thead>\n",
              "\t<tr><th scope=col>year</th><th scope=col>month</th><th scope=col>day</th><th scope=col>dep_time</th><th scope=col>sched_dep_time</th><th scope=col>dep_delay</th><th scope=col>arr_time</th><th scope=col>sched_arr_time</th><th scope=col>arr_delay</th><th scope=col>carrier</th><th scope=col>flight</th><th scope=col>tailnum</th><th scope=col>origin</th><th scope=col>dest</th><th scope=col>air_time</th><th scope=col>distance</th><th scope=col>hour</th><th scope=col>minute</th><th scope=col>time_hour</th></tr>\n",
              "\t<tr><th scope=col>&lt;int&gt;</th><th scope=col>&lt;int&gt;</th><th scope=col>&lt;int&gt;</th><th scope=col>&lt;int&gt;</th><th scope=col>&lt;int&gt;</th><th scope=col>&lt;int&gt;</th><th scope=col>&lt;int&gt;</th><th scope=col>&lt;int&gt;</th><th scope=col>&lt;int&gt;</th><th scope=col>&lt;chr&gt;</th><th scope=col>&lt;int&gt;</th><th scope=col>&lt;chr&gt;</th><th scope=col>&lt;chr&gt;</th><th scope=col>&lt;chr&gt;</th><th scope=col>&lt;int&gt;</th><th scope=col>&lt;int&gt;</th><th scope=col>&lt;int&gt;</th><th scope=col>&lt;int&gt;</th><th scope=col>&lt;chr&gt;</th></tr>\n",
              "</thead>\n",
              "<tbody>\n",
              "\t<tr><td>2013</td><td>12</td><td>31</td><td> 13</td><td>2359</td><td> 14</td><td> 439</td><td> 437</td><td>  2</td><td>B6</td><td> 839</td><td>N566JB</td><td>JFK</td><td>BQN</td><td>189</td><td>1576</td><td>23</td><td>59</td><td>2013-12-31 23:00:00</td></tr>\n",
              "\t<tr><td>2013</td><td>12</td><td>31</td><td> 18</td><td>2359</td><td> 19</td><td> 449</td><td> 444</td><td>  5</td><td>DL</td><td> 412</td><td>N713TW</td><td>JFK</td><td>SJU</td><td>192</td><td>1598</td><td>23</td><td>59</td><td>2013-12-31 23:00:00</td></tr>\n",
              "\t<tr><td>2013</td><td>12</td><td>31</td><td> 26</td><td>2245</td><td>101</td><td> 129</td><td>2353</td><td> 96</td><td>B6</td><td> 108</td><td>N374JB</td><td>JFK</td><td>PWM</td><td> 50</td><td> 273</td><td>22</td><td>45</td><td>2013-12-31 22:00:00</td></tr>\n",
              "\t<tr><td>2013</td><td>12</td><td>31</td><td>459</td><td> 500</td><td> -1</td><td> 655</td><td> 651</td><td>  4</td><td>US</td><td>1895</td><td>N557UW</td><td>EWR</td><td>CLT</td><td> 95</td><td> 529</td><td> 5</td><td> 0</td><td>2013-12-31 05:00:00</td></tr>\n",
              "\t<tr><td>2013</td><td>12</td><td>31</td><td>514</td><td> 515</td><td> -1</td><td> 814</td><td> 812</td><td>  2</td><td>UA</td><td> 700</td><td>N470UA</td><td>EWR</td><td>IAH</td><td>223</td><td>1400</td><td> 5</td><td>15</td><td>2013-12-31 05:00:00</td></tr>\n",
              "\t<tr><td>2013</td><td>12</td><td>31</td><td>549</td><td> 551</td><td> -2</td><td> 925</td><td> 900</td><td> 25</td><td>UA</td><td> 274</td><td>N577UA</td><td>EWR</td><td>LAX</td><td>346</td><td>2454</td><td> 5</td><td>51</td><td>2013-12-31 05:00:00</td></tr>\n",
              "\t<tr><td>2013</td><td>12</td><td>31</td><td>550</td><td> 600</td><td>-10</td><td> 725</td><td> 745</td><td>-20</td><td>AA</td><td> 301</td><td>N3CXAA</td><td>LGA</td><td>ORD</td><td>127</td><td> 733</td><td> 6</td><td> 0</td><td>2013-12-31 06:00:00</td></tr>\n",
              "\t<tr><td>2013</td><td>12</td><td>31</td><td>552</td><td> 600</td><td> -8</td><td> 811</td><td> 826</td><td>-15</td><td>EV</td><td>3825</td><td>N14916</td><td>EWR</td><td>IND</td><td>118</td><td> 645</td><td> 6</td><td> 0</td><td>2013-12-31 06:00:00</td></tr>\n",
              "\t<tr><td>2013</td><td>12</td><td>31</td><td>553</td><td> 600</td><td> -7</td><td> 741</td><td> 754</td><td>-13</td><td>DL</td><td> 731</td><td>N333NB</td><td>LGA</td><td>DTW</td><td> 86</td><td> 502</td><td> 6</td><td> 0</td><td>2013-12-31 06:00:00</td></tr>\n",
              "\t<tr><td>2013</td><td>12</td><td>31</td><td>554</td><td> 550</td><td>  4</td><td>1024</td><td>1027</td><td> -3</td><td>B6</td><td> 939</td><td>N552JB</td><td>JFK</td><td>BQN</td><td>195</td><td>1576</td><td> 5</td><td>50</td><td>2013-12-31 05:00:00</td></tr>\n",
              "\t<tr><td>2013</td><td>12</td><td>31</td><td>555</td><td> 600</td><td> -5</td><td> 901</td><td> 849</td><td> 12</td><td>B6</td><td> 353</td><td>N746JB</td><td>JFK</td><td>PBI</td><td>167</td><td>1028</td><td> 6</td><td> 0</td><td>2013-12-31 06:00:00</td></tr>\n",
              "\t<tr><td>2013</td><td>12</td><td>31</td><td>555</td><td> 600</td><td> -5</td><td> 835</td><td> 831</td><td>  4</td><td>DL</td><td> 904</td><td>N3741S</td><td>LGA</td><td>ATL</td><td>137</td><td> 762</td><td> 6</td><td> 0</td><td>2013-12-31 06:00:00</td></tr>\n",
              "\t<tr><td>2013</td><td>12</td><td>31</td><td>555</td><td> 551</td><td>  4</td><td> 853</td><td> 851</td><td>  2</td><td>UA</td><td> 566</td><td>N491UA</td><td>EWR</td><td>TPA</td><td>164</td><td> 997</td><td> 5</td><td>51</td><td>2013-12-31 05:00:00</td></tr>\n",
              "\t<tr><td>2013</td><td>12</td><td>31</td><td>556</td><td> 600</td><td> -4</td><td> 909</td><td> 846</td><td> 23</td><td>B6</td><td> 583</td><td>N715JB</td><td>JFK</td><td>MCO</td><td>162</td><td> 944</td><td> 6</td><td> 0</td><td>2013-12-31 06:00:00</td></tr>\n",
              "\t<tr><td>2013</td><td>12</td><td>31</td><td>556</td><td> 605</td><td> -9</td><td> 808</td><td> 814</td><td> -6</td><td>DL</td><td>1919</td><td>N958DL</td><td>LGA</td><td>MSP</td><td>160</td><td>1020</td><td> 6</td><td> 5</td><td>2013-12-31 06:00:00</td></tr>\n",
              "\t<tr><td>2013</td><td>12</td><td>31</td><td>557</td><td> 603</td><td> -6</td><td> 719</td><td> 719</td><td>  0</td><td>EV</td><td>4241</td><td>N15574</td><td>EWR</td><td>DCA</td><td> 45</td><td> 199</td><td> 6</td><td> 3</td><td>2013-12-31 06:00:00</td></tr>\n",
              "\t<tr><td>2013</td><td>12</td><td>31</td><td>558</td><td> 600</td><td> -2</td><td> 919</td><td> 905</td><td> 14</td><td>AA</td><td>1175</td><td>N3JEAA</td><td>LGA</td><td>MIA</td><td>173</td><td>1096</td><td> 6</td><td> 0</td><td>2013-12-31 06:00:00</td></tr>\n",
              "\t<tr><td>2013</td><td>12</td><td>31</td><td>559</td><td> 600</td><td> -1</td><td> 917</td><td> 855</td><td> 22</td><td>B6</td><td> 605</td><td>N597JB</td><td>EWR</td><td>FLL</td><td>167</td><td>1065</td><td> 6</td><td> 0</td><td>2013-12-31 06:00:00</td></tr>\n",
              "\t<tr><td>2013</td><td>12</td><td>31</td><td>600</td><td> 540</td><td> 20</td><td> 928</td><td> 850</td><td> 38</td><td>AA</td><td>2243</td><td>N5EMAA</td><td>JFK</td><td>MIA</td><td>171</td><td>1089</td><td> 5</td><td>40</td><td>2013-12-31 05:00:00</td></tr>\n",
              "\t<tr><td>2013</td><td>12</td><td>31</td><td>602</td><td> 605</td><td> -3</td><td> 744</td><td> 805</td><td>-21</td><td>DL</td><td>2505</td><td>N358NB</td><td>EWR</td><td>DTW</td><td> 87</td><td> 488</td><td> 6</td><td> 5</td><td>2013-12-31 06:00:00</td></tr>\n",
              "\t<tr><td>2013</td><td>12</td><td>31</td><td>602</td><td> 605</td><td> -3</td><td> 708</td><td> 723</td><td>-15</td><td>EV</td><td>6177</td><td>N14543</td><td>EWR</td><td>IAD</td><td> 45</td><td> 212</td><td> 6</td><td> 5</td><td>2013-12-31 06:00:00</td></tr>\n",
              "\t<tr><td>2013</td><td>12</td><td>31</td><td>603</td><td> 611</td><td> -8</td><td>1045</td><td>1055</td><td>-10</td><td>B6</td><td>1403</td><td>N547JB</td><td>JFK</td><td>SJU</td><td>198</td><td>1598</td><td> 6</td><td>11</td><td>2013-12-31 06:00:00</td></tr>\n",
              "\t<tr><td>2013</td><td>12</td><td>31</td><td>607</td><td> 600</td><td>  7</td><td> 848</td><td> 825</td><td> 23</td><td>WN</td><td>1716</td><td>N7740A</td><td>LGA</td><td>ATL</td><td>137</td><td> 762</td><td> 6</td><td> 0</td><td>2013-12-31 06:00:00</td></tr>\n",
              "\t<tr><td>2013</td><td>12</td><td>31</td><td>608</td><td> 615</td><td> -7</td><td> 812</td><td> 818</td><td> -6</td><td>US</td><td>1963</td><td>N192UW</td><td>EWR</td><td>CLT</td><td>106</td><td> 529</td><td> 6</td><td>15</td><td>2013-12-31 06:00:00</td></tr>\n",
              "\t<tr><td>2013</td><td>12</td><td>31</td><td>609</td><td> 610</td><td> -1</td><td> 911</td><td> 915</td><td> -4</td><td>AA</td><td>1205</td><td>N5DHAA</td><td>EWR</td><td>MIA</td><td>163</td><td>1085</td><td> 6</td><td>10</td><td>2013-12-31 06:00:00</td></tr>\n",
              "\t<tr><td>2013</td><td>12</td><td>31</td><td>609</td><td> 615</td><td> -6</td><td> 848</td><td> 850</td><td> -2</td><td>DL</td><td> 404</td><td>N392DA</td><td>JFK</td><td>ATL</td><td>133</td><td> 760</td><td> 6</td><td>15</td><td>2013-12-31 06:00:00</td></tr>\n",
              "\t<tr><td>2013</td><td>12</td><td>31</td><td>609</td><td> 614</td><td> -5</td><td> 755</td><td> 751</td><td>  4</td><td>EV</td><td>3812</td><td>N13994</td><td>EWR</td><td>RDU</td><td> 81</td><td> 416</td><td> 6</td><td>14</td><td>2013-12-31 06:00:00</td></tr>\n",
              "\t<tr><td>2013</td><td>12</td><td>31</td><td>610</td><td> 615</td><td> -5</td><td> 828</td><td> 849</td><td>-21</td><td>DL</td><td> 479</td><td>N3766 </td><td>JFK</td><td>ATL</td><td>119</td><td> 760</td><td> 6</td><td>15</td><td>2013-12-31 06:00:00</td></tr>\n",
              "\t<tr><td>2013</td><td>12</td><td>31</td><td>616</td><td> 611</td><td>  5</td><td> 933</td><td> 912</td><td> 21</td><td>B6</td><td> 601</td><td>N643JB</td><td>JFK</td><td>FLL</td><td>173</td><td>1069</td><td> 6</td><td>11</td><td>2013-12-31 06:00:00</td></tr>\n",
              "\t<tr><td>2013</td><td>12</td><td>31</td><td>616</td><td> 630</td><td>-14</td><td> 922</td><td> 919</td><td>  3</td><td>B6</td><td>1099</td><td>N563JB</td><td>LGA</td><td>MCO</td><td>159</td><td> 950</td><td> 6</td><td>30</td><td>2013-12-31 06:00:00</td></tr>\n",
              "\t<tr><td>⋮</td><td>⋮</td><td>⋮</td><td>⋮</td><td>⋮</td><td>⋮</td><td>⋮</td><td>⋮</td><td>⋮</td><td>⋮</td><td>⋮</td><td>⋮</td><td>⋮</td><td>⋮</td><td>⋮</td><td>⋮</td><td>⋮</td><td>⋮</td><td>⋮</td></tr>\n",
              "\t<tr><td>2013</td><td>12</td><td>31</td><td>2155</td><td>2039</td><td> 76</td><td> 253</td><td>2355</td><td> NA</td><td>B6</td><td>1205</td><td>N627JB</td><td>JFK</td><td>PDX</td><td> NA</td><td>2454</td><td>20</td><td>39</td><td>2013-12-31 20:00:00</td></tr>\n",
              "\t<tr><td>2013</td><td>12</td><td>31</td><td>2155</td><td>2150</td><td>  5</td><td> 110</td><td>  51</td><td> 19</td><td>B6</td><td>1901</td><td>N729JB</td><td>JFK</td><td>FLL</td><td>164</td><td>1069</td><td>21</td><td>50</td><td>2013-12-31 21:00:00</td></tr>\n",
              "\t<tr><td>2013</td><td>12</td><td>31</td><td>2159</td><td>2155</td><td>  4</td><td>  55</td><td>  46</td><td>  9</td><td>B6</td><td>2053</td><td>N593JB</td><td>JFK</td><td>PBI</td><td>155</td><td>1028</td><td>21</td><td>55</td><td>2013-12-31 21:00:00</td></tr>\n",
              "\t<tr><td>2013</td><td>12</td><td>31</td><td>2206</td><td>2110</td><td> 56</td><td>  44</td><td>2339</td><td> 65</td><td>B6</td><td> 775</td><td>N184JB</td><td>JFK</td><td>MSY</td><td>195</td><td>1182</td><td>21</td><td>10</td><td>2013-12-31 21:00:00</td></tr>\n",
              "\t<tr><td>2013</td><td>12</td><td>31</td><td>2211</td><td>2159</td><td> 12</td><td> 100</td><td>  45</td><td> 15</td><td>B6</td><td>1183</td><td>N715JB</td><td>JFK</td><td>MCO</td><td>148</td><td> 944</td><td>21</td><td>59</td><td>2013-12-31 21:00:00</td></tr>\n",
              "\t<tr><td>2013</td><td>12</td><td>31</td><td>2218</td><td>2219</td><td> -1</td><td> 315</td><td> 304</td><td> 11</td><td>B6</td><td>1203</td><td>N625JB</td><td>JFK</td><td>SJU</td><td>202</td><td>1598</td><td>22</td><td>19</td><td>2013-12-31 22:00:00</td></tr>\n",
              "\t<tr><td>2013</td><td>12</td><td>31</td><td>2235</td><td>2245</td><td>-10</td><td>2351</td><td>2355</td><td> -4</td><td>B6</td><td> 234</td><td>N355JB</td><td>JFK</td><td>BTV</td><td> 49</td><td> 266</td><td>22</td><td>45</td><td>2013-12-31 22:00:00</td></tr>\n",
              "\t<tr><td>2013</td><td>12</td><td>31</td><td>2245</td><td>2250</td><td> -5</td><td>2359</td><td>2356</td><td>  3</td><td>B6</td><td>1816</td><td>N318JB</td><td>JFK</td><td>SYR</td><td> 51</td><td> 209</td><td>22</td><td>50</td><td>2013-12-31 22:00:00</td></tr>\n",
              "\t<tr><td>2013</td><td>12</td><td>31</td><td>2310</td><td>2255</td><td> 15</td><td>   7</td><td>2356</td><td> 11</td><td>B6</td><td> 718</td><td>N279JB</td><td>JFK</td><td>BOS</td><td> 40</td><td> 187</td><td>22</td><td>55</td><td>2013-12-31 22:00:00</td></tr>\n",
              "\t<tr><td>2013</td><td>12</td><td>31</td><td>2321</td><td>2250</td><td> 31</td><td>  46</td><td>   8</td><td> 38</td><td>B6</td><td>2002</td><td>N179JB</td><td>JFK</td><td>BUF</td><td> 66</td><td> 301</td><td>22</td><td>50</td><td>2013-12-31 22:00:00</td></tr>\n",
              "\t<tr><td>2013</td><td>12</td><td>31</td><td>2328</td><td>2330</td><td> -2</td><td> 412</td><td> 409</td><td>  3</td><td>B6</td><td>1389</td><td>N651JB</td><td>EWR</td><td>SJU</td><td>198</td><td>1608</td><td>23</td><td>30</td><td>2013-12-31 23:00:00</td></tr>\n",
              "\t<tr><td>2013</td><td>12</td><td>31</td><td>2332</td><td>2245</td><td> 47</td><td>  58</td><td>   3</td><td> 55</td><td>B6</td><td> 486</td><td>N334JB</td><td>JFK</td><td>ROC</td><td> 60</td><td> 264</td><td>22</td><td>45</td><td>2013-12-31 22:00:00</td></tr>\n",
              "\t<tr><td>2013</td><td>12</td><td>31</td><td>2355</td><td>2359</td><td> -4</td><td> 430</td><td> 440</td><td>-10</td><td>B6</td><td>1503</td><td>N509JB</td><td>JFK</td><td>SJU</td><td>195</td><td>1598</td><td>23</td><td>59</td><td>2013-12-31 23:00:00</td></tr>\n",
              "\t<tr><td>2013</td><td>12</td><td>31</td><td>2356</td><td>2359</td><td> -3</td><td> 436</td><td> 445</td><td> -9</td><td>B6</td><td> 745</td><td>N665JB</td><td>JFK</td><td>PSE</td><td>200</td><td>1617</td><td>23</td><td>59</td><td>2013-12-31 23:00:00</td></tr>\n",
              "\t<tr><td>2013</td><td>12</td><td>31</td><td>  NA</td><td>1520</td><td> NA</td><td>  NA</td><td>1705</td><td> NA</td><td>AA</td><td> 341</td><td>N568AA</td><td>LGA</td><td>ORD</td><td> NA</td><td> 733</td><td>15</td><td>20</td><td>2013-12-31 15:00:00</td></tr>\n",
              "\t<tr><td>2013</td><td>12</td><td>31</td><td>  NA</td><td>2025</td><td> NA</td><td>  NA</td><td>2205</td><td> NA</td><td>AA</td><td> 371</td><td>N482AA</td><td>LGA</td><td>ORD</td><td> NA</td><td> 733</td><td>20</td><td>25</td><td>2013-12-31 20:00:00</td></tr>\n",
              "\t<tr><td>2013</td><td>12</td><td>31</td><td>  NA</td><td>1932</td><td> NA</td><td>  NA</td><td>2305</td><td> NA</td><td>B6</td><td> 161</td><td>N516JB</td><td>JFK</td><td>SMF</td><td> NA</td><td>2521</td><td>19</td><td>32</td><td>2013-12-31 19:00:00</td></tr>\n",
              "\t<tr><td>2013</td><td>12</td><td>31</td><td>  NA</td><td>1505</td><td> NA</td><td>  NA</td><td>1725</td><td> NA</td><td>EV</td><td>4181</td><td>N24103</td><td>EWR</td><td>MCI</td><td> NA</td><td>1092</td><td>15</td><td> 5</td><td>2013-12-31 15:00:00</td></tr>\n",
              "\t<tr><td>2013</td><td>12</td><td>31</td><td>  NA</td><td>1000</td><td> NA</td><td>  NA</td><td>1252</td><td> NA</td><td>UA</td><td>1124</td><td>NA    </td><td>EWR</td><td>EGE</td><td> NA</td><td>1725</td><td>10</td><td> 0</td><td>2013-12-31 10:00:00</td></tr>\n",
              "\t<tr><td>2013</td><td>12</td><td>31</td><td>  NA</td><td> 840</td><td> NA</td><td>  NA</td><td>1205</td><td> NA</td><td>UA</td><td>1151</td><td>NA    </td><td>EWR</td><td>SEA</td><td> NA</td><td>2402</td><td> 8</td><td>40</td><td>2013-12-31 08:00:00</td></tr>\n",
              "\t<tr><td>2013</td><td>12</td><td>31</td><td>  NA</td><td> 754</td><td> NA</td><td>  NA</td><td>1118</td><td> NA</td><td>UA</td><td>1455</td><td>NA    </td><td>EWR</td><td>LAX</td><td> NA</td><td>2454</td><td> 7</td><td>54</td><td>2013-12-31 07:00:00</td></tr>\n",
              "\t<tr><td>2013</td><td>12</td><td>31</td><td>  NA</td><td>2000</td><td> NA</td><td>  NA</td><td>2146</td><td> NA</td><td>UA</td><td>1482</td><td>NA    </td><td>EWR</td><td>ORD</td><td> NA</td><td> 719</td><td>20</td><td> 0</td><td>2013-12-31 20:00:00</td></tr>\n",
              "\t<tr><td>2013</td><td>12</td><td>31</td><td>  NA</td><td>1500</td><td> NA</td><td>  NA</td><td>1817</td><td> NA</td><td>UA</td><td>1483</td><td>NA    </td><td>EWR</td><td>AUS</td><td> NA</td><td>1504</td><td>15</td><td> 0</td><td>2013-12-31 15:00:00</td></tr>\n",
              "\t<tr><td>2013</td><td>12</td><td>31</td><td>  NA</td><td>1430</td><td> NA</td><td>  NA</td><td>1750</td><td> NA</td><td>UA</td><td>1493</td><td>NA    </td><td>EWR</td><td>LAX</td><td> NA</td><td>2454</td><td>14</td><td>30</td><td>2013-12-31 14:00:00</td></tr>\n",
              "\t<tr><td>2013</td><td>12</td><td>31</td><td>  NA</td><td> 855</td><td> NA</td><td>  NA</td><td>1142</td><td> NA</td><td>UA</td><td>1506</td><td>NA    </td><td>EWR</td><td>JAC</td><td> NA</td><td>1874</td><td> 8</td><td>55</td><td>2013-12-31 08:00:00</td></tr>\n",
              "\t<tr><td>2013</td><td>12</td><td>31</td><td>  NA</td><td> 705</td><td> NA</td><td>  NA</td><td> 931</td><td> NA</td><td>UA</td><td>1729</td><td>NA    </td><td>EWR</td><td>DEN</td><td> NA</td><td>1605</td><td> 7</td><td> 5</td><td>2013-12-31 07:00:00</td></tr>\n",
              "\t<tr><td>2013</td><td>12</td><td>31</td><td>  NA</td><td> 825</td><td> NA</td><td>  NA</td><td>1029</td><td> NA</td><td>US</td><td>1831</td><td>NA    </td><td>JFK</td><td>CLT</td><td> NA</td><td> 541</td><td> 8</td><td>25</td><td>2013-12-31 08:00:00</td></tr>\n",
              "\t<tr><td>2013</td><td>12</td><td>31</td><td>  NA</td><td>1615</td><td> NA</td><td>  NA</td><td>1800</td><td> NA</td><td>MQ</td><td>3301</td><td>N844MQ</td><td>LGA</td><td>RDU</td><td> NA</td><td> 431</td><td>16</td><td>15</td><td>2013-12-31 16:00:00</td></tr>\n",
              "\t<tr><td>2013</td><td>12</td><td>31</td><td>  NA</td><td> 600</td><td> NA</td><td>  NA</td><td> 735</td><td> NA</td><td>UA</td><td> 219</td><td>NA    </td><td>EWR</td><td>ORD</td><td> NA</td><td> 719</td><td> 6</td><td> 0</td><td>2013-12-31 06:00:00</td></tr>\n",
              "\t<tr><td>2013</td><td>12</td><td>31</td><td>  NA</td><td> 830</td><td> NA</td><td>  NA</td><td>1154</td><td> NA</td><td>UA</td><td> 443</td><td>NA    </td><td>JFK</td><td>LAX</td><td> NA</td><td>2475</td><td> 8</td><td>30</td><td>2013-12-31 08:00:00</td></tr>\n",
              "</tbody>\n",
              "</table>\n"
            ],
            "text/markdown": "\nA data.frame: 776 × 19\n\n| year &lt;int&gt; | month &lt;int&gt; | day &lt;int&gt; | dep_time &lt;int&gt; | sched_dep_time &lt;int&gt; | dep_delay &lt;int&gt; | arr_time &lt;int&gt; | sched_arr_time &lt;int&gt; | arr_delay &lt;int&gt; | carrier &lt;chr&gt; | flight &lt;int&gt; | tailnum &lt;chr&gt; | origin &lt;chr&gt; | dest &lt;chr&gt; | air_time &lt;int&gt; | distance &lt;int&gt; | hour &lt;int&gt; | minute &lt;int&gt; | time_hour &lt;chr&gt; |\n|---|---|---|---|---|---|---|---|---|---|---|---|---|---|---|---|---|---|---|\n| 2013 | 12 | 31 |  13 | 2359 |  14 |  439 |  437 |   2 | B6 |  839 | N566JB | JFK | BQN | 189 | 1576 | 23 | 59 | 2013-12-31 23:00:00 |\n| 2013 | 12 | 31 |  18 | 2359 |  19 |  449 |  444 |   5 | DL |  412 | N713TW | JFK | SJU | 192 | 1598 | 23 | 59 | 2013-12-31 23:00:00 |\n| 2013 | 12 | 31 |  26 | 2245 | 101 |  129 | 2353 |  96 | B6 |  108 | N374JB | JFK | PWM |  50 |  273 | 22 | 45 | 2013-12-31 22:00:00 |\n| 2013 | 12 | 31 | 459 |  500 |  -1 |  655 |  651 |   4 | US | 1895 | N557UW | EWR | CLT |  95 |  529 |  5 |  0 | 2013-12-31 05:00:00 |\n| 2013 | 12 | 31 | 514 |  515 |  -1 |  814 |  812 |   2 | UA |  700 | N470UA | EWR | IAH | 223 | 1400 |  5 | 15 | 2013-12-31 05:00:00 |\n| 2013 | 12 | 31 | 549 |  551 |  -2 |  925 |  900 |  25 | UA |  274 | N577UA | EWR | LAX | 346 | 2454 |  5 | 51 | 2013-12-31 05:00:00 |\n| 2013 | 12 | 31 | 550 |  600 | -10 |  725 |  745 | -20 | AA |  301 | N3CXAA | LGA | ORD | 127 |  733 |  6 |  0 | 2013-12-31 06:00:00 |\n| 2013 | 12 | 31 | 552 |  600 |  -8 |  811 |  826 | -15 | EV | 3825 | N14916 | EWR | IND | 118 |  645 |  6 |  0 | 2013-12-31 06:00:00 |\n| 2013 | 12 | 31 | 553 |  600 |  -7 |  741 |  754 | -13 | DL |  731 | N333NB | LGA | DTW |  86 |  502 |  6 |  0 | 2013-12-31 06:00:00 |\n| 2013 | 12 | 31 | 554 |  550 |   4 | 1024 | 1027 |  -3 | B6 |  939 | N552JB | JFK | BQN | 195 | 1576 |  5 | 50 | 2013-12-31 05:00:00 |\n| 2013 | 12 | 31 | 555 |  600 |  -5 |  901 |  849 |  12 | B6 |  353 | N746JB | JFK | PBI | 167 | 1028 |  6 |  0 | 2013-12-31 06:00:00 |\n| 2013 | 12 | 31 | 555 |  600 |  -5 |  835 |  831 |   4 | DL |  904 | N3741S | LGA | ATL | 137 |  762 |  6 |  0 | 2013-12-31 06:00:00 |\n| 2013 | 12 | 31 | 555 |  551 |   4 |  853 |  851 |   2 | UA |  566 | N491UA | EWR | TPA | 164 |  997 |  5 | 51 | 2013-12-31 05:00:00 |\n| 2013 | 12 | 31 | 556 |  600 |  -4 |  909 |  846 |  23 | B6 |  583 | N715JB | JFK | MCO | 162 |  944 |  6 |  0 | 2013-12-31 06:00:00 |\n| 2013 | 12 | 31 | 556 |  605 |  -9 |  808 |  814 |  -6 | DL | 1919 | N958DL | LGA | MSP | 160 | 1020 |  6 |  5 | 2013-12-31 06:00:00 |\n| 2013 | 12 | 31 | 557 |  603 |  -6 |  719 |  719 |   0 | EV | 4241 | N15574 | EWR | DCA |  45 |  199 |  6 |  3 | 2013-12-31 06:00:00 |\n| 2013 | 12 | 31 | 558 |  600 |  -2 |  919 |  905 |  14 | AA | 1175 | N3JEAA | LGA | MIA | 173 | 1096 |  6 |  0 | 2013-12-31 06:00:00 |\n| 2013 | 12 | 31 | 559 |  600 |  -1 |  917 |  855 |  22 | B6 |  605 | N597JB | EWR | FLL | 167 | 1065 |  6 |  0 | 2013-12-31 06:00:00 |\n| 2013 | 12 | 31 | 600 |  540 |  20 |  928 |  850 |  38 | AA | 2243 | N5EMAA | JFK | MIA | 171 | 1089 |  5 | 40 | 2013-12-31 05:00:00 |\n| 2013 | 12 | 31 | 602 |  605 |  -3 |  744 |  805 | -21 | DL | 2505 | N358NB | EWR | DTW |  87 |  488 |  6 |  5 | 2013-12-31 06:00:00 |\n| 2013 | 12 | 31 | 602 |  605 |  -3 |  708 |  723 | -15 | EV | 6177 | N14543 | EWR | IAD |  45 |  212 |  6 |  5 | 2013-12-31 06:00:00 |\n| 2013 | 12 | 31 | 603 |  611 |  -8 | 1045 | 1055 | -10 | B6 | 1403 | N547JB | JFK | SJU | 198 | 1598 |  6 | 11 | 2013-12-31 06:00:00 |\n| 2013 | 12 | 31 | 607 |  600 |   7 |  848 |  825 |  23 | WN | 1716 | N7740A | LGA | ATL | 137 |  762 |  6 |  0 | 2013-12-31 06:00:00 |\n| 2013 | 12 | 31 | 608 |  615 |  -7 |  812 |  818 |  -6 | US | 1963 | N192UW | EWR | CLT | 106 |  529 |  6 | 15 | 2013-12-31 06:00:00 |\n| 2013 | 12 | 31 | 609 |  610 |  -1 |  911 |  915 |  -4 | AA | 1205 | N5DHAA | EWR | MIA | 163 | 1085 |  6 | 10 | 2013-12-31 06:00:00 |\n| 2013 | 12 | 31 | 609 |  615 |  -6 |  848 |  850 |  -2 | DL |  404 | N392DA | JFK | ATL | 133 |  760 |  6 | 15 | 2013-12-31 06:00:00 |\n| 2013 | 12 | 31 | 609 |  614 |  -5 |  755 |  751 |   4 | EV | 3812 | N13994 | EWR | RDU |  81 |  416 |  6 | 14 | 2013-12-31 06:00:00 |\n| 2013 | 12 | 31 | 610 |  615 |  -5 |  828 |  849 | -21 | DL |  479 | N3766  | JFK | ATL | 119 |  760 |  6 | 15 | 2013-12-31 06:00:00 |\n| 2013 | 12 | 31 | 616 |  611 |   5 |  933 |  912 |  21 | B6 |  601 | N643JB | JFK | FLL | 173 | 1069 |  6 | 11 | 2013-12-31 06:00:00 |\n| 2013 | 12 | 31 | 616 |  630 | -14 |  922 |  919 |   3 | B6 | 1099 | N563JB | LGA | MCO | 159 |  950 |  6 | 30 | 2013-12-31 06:00:00 |\n| ⋮ | ⋮ | ⋮ | ⋮ | ⋮ | ⋮ | ⋮ | ⋮ | ⋮ | ⋮ | ⋮ | ⋮ | ⋮ | ⋮ | ⋮ | ⋮ | ⋮ | ⋮ | ⋮ |\n| 2013 | 12 | 31 | 2155 | 2039 |  76 |  253 | 2355 |  NA | B6 | 1205 | N627JB | JFK | PDX |  NA | 2454 | 20 | 39 | 2013-12-31 20:00:00 |\n| 2013 | 12 | 31 | 2155 | 2150 |   5 |  110 |   51 |  19 | B6 | 1901 | N729JB | JFK | FLL | 164 | 1069 | 21 | 50 | 2013-12-31 21:00:00 |\n| 2013 | 12 | 31 | 2159 | 2155 |   4 |   55 |   46 |   9 | B6 | 2053 | N593JB | JFK | PBI | 155 | 1028 | 21 | 55 | 2013-12-31 21:00:00 |\n| 2013 | 12 | 31 | 2206 | 2110 |  56 |   44 | 2339 |  65 | B6 |  775 | N184JB | JFK | MSY | 195 | 1182 | 21 | 10 | 2013-12-31 21:00:00 |\n| 2013 | 12 | 31 | 2211 | 2159 |  12 |  100 |   45 |  15 | B6 | 1183 | N715JB | JFK | MCO | 148 |  944 | 21 | 59 | 2013-12-31 21:00:00 |\n| 2013 | 12 | 31 | 2218 | 2219 |  -1 |  315 |  304 |  11 | B6 | 1203 | N625JB | JFK | SJU | 202 | 1598 | 22 | 19 | 2013-12-31 22:00:00 |\n| 2013 | 12 | 31 | 2235 | 2245 | -10 | 2351 | 2355 |  -4 | B6 |  234 | N355JB | JFK | BTV |  49 |  266 | 22 | 45 | 2013-12-31 22:00:00 |\n| 2013 | 12 | 31 | 2245 | 2250 |  -5 | 2359 | 2356 |   3 | B6 | 1816 | N318JB | JFK | SYR |  51 |  209 | 22 | 50 | 2013-12-31 22:00:00 |\n| 2013 | 12 | 31 | 2310 | 2255 |  15 |    7 | 2356 |  11 | B6 |  718 | N279JB | JFK | BOS |  40 |  187 | 22 | 55 | 2013-12-31 22:00:00 |\n| 2013 | 12 | 31 | 2321 | 2250 |  31 |   46 |    8 |  38 | B6 | 2002 | N179JB | JFK | BUF |  66 |  301 | 22 | 50 | 2013-12-31 22:00:00 |\n| 2013 | 12 | 31 | 2328 | 2330 |  -2 |  412 |  409 |   3 | B6 | 1389 | N651JB | EWR | SJU | 198 | 1608 | 23 | 30 | 2013-12-31 23:00:00 |\n| 2013 | 12 | 31 | 2332 | 2245 |  47 |   58 |    3 |  55 | B6 |  486 | N334JB | JFK | ROC |  60 |  264 | 22 | 45 | 2013-12-31 22:00:00 |\n| 2013 | 12 | 31 | 2355 | 2359 |  -4 |  430 |  440 | -10 | B6 | 1503 | N509JB | JFK | SJU | 195 | 1598 | 23 | 59 | 2013-12-31 23:00:00 |\n| 2013 | 12 | 31 | 2356 | 2359 |  -3 |  436 |  445 |  -9 | B6 |  745 | N665JB | JFK | PSE | 200 | 1617 | 23 | 59 | 2013-12-31 23:00:00 |\n| 2013 | 12 | 31 |   NA | 1520 |  NA |   NA | 1705 |  NA | AA |  341 | N568AA | LGA | ORD |  NA |  733 | 15 | 20 | 2013-12-31 15:00:00 |\n| 2013 | 12 | 31 |   NA | 2025 |  NA |   NA | 2205 |  NA | AA |  371 | N482AA | LGA | ORD |  NA |  733 | 20 | 25 | 2013-12-31 20:00:00 |\n| 2013 | 12 | 31 |   NA | 1932 |  NA |   NA | 2305 |  NA | B6 |  161 | N516JB | JFK | SMF |  NA | 2521 | 19 | 32 | 2013-12-31 19:00:00 |\n| 2013 | 12 | 31 |   NA | 1505 |  NA |   NA | 1725 |  NA | EV | 4181 | N24103 | EWR | MCI |  NA | 1092 | 15 |  5 | 2013-12-31 15:00:00 |\n| 2013 | 12 | 31 |   NA | 1000 |  NA |   NA | 1252 |  NA | UA | 1124 | NA     | EWR | EGE |  NA | 1725 | 10 |  0 | 2013-12-31 10:00:00 |\n| 2013 | 12 | 31 |   NA |  840 |  NA |   NA | 1205 |  NA | UA | 1151 | NA     | EWR | SEA |  NA | 2402 |  8 | 40 | 2013-12-31 08:00:00 |\n| 2013 | 12 | 31 |   NA |  754 |  NA |   NA | 1118 |  NA | UA | 1455 | NA     | EWR | LAX |  NA | 2454 |  7 | 54 | 2013-12-31 07:00:00 |\n| 2013 | 12 | 31 |   NA | 2000 |  NA |   NA | 2146 |  NA | UA | 1482 | NA     | EWR | ORD |  NA |  719 | 20 |  0 | 2013-12-31 20:00:00 |\n| 2013 | 12 | 31 |   NA | 1500 |  NA |   NA | 1817 |  NA | UA | 1483 | NA     | EWR | AUS |  NA | 1504 | 15 |  0 | 2013-12-31 15:00:00 |\n| 2013 | 12 | 31 |   NA | 1430 |  NA |   NA | 1750 |  NA | UA | 1493 | NA     | EWR | LAX |  NA | 2454 | 14 | 30 | 2013-12-31 14:00:00 |\n| 2013 | 12 | 31 |   NA |  855 |  NA |   NA | 1142 |  NA | UA | 1506 | NA     | EWR | JAC |  NA | 1874 |  8 | 55 | 2013-12-31 08:00:00 |\n| 2013 | 12 | 31 |   NA |  705 |  NA |   NA |  931 |  NA | UA | 1729 | NA     | EWR | DEN |  NA | 1605 |  7 |  5 | 2013-12-31 07:00:00 |\n| 2013 | 12 | 31 |   NA |  825 |  NA |   NA | 1029 |  NA | US | 1831 | NA     | JFK | CLT |  NA |  541 |  8 | 25 | 2013-12-31 08:00:00 |\n| 2013 | 12 | 31 |   NA | 1615 |  NA |   NA | 1800 |  NA | MQ | 3301 | N844MQ | LGA | RDU |  NA |  431 | 16 | 15 | 2013-12-31 16:00:00 |\n| 2013 | 12 | 31 |   NA |  600 |  NA |   NA |  735 |  NA | UA |  219 | NA     | EWR | ORD |  NA |  719 |  6 |  0 | 2013-12-31 06:00:00 |\n| 2013 | 12 | 31 |   NA |  830 |  NA |   NA | 1154 |  NA | UA |  443 | NA     | JFK | LAX |  NA | 2475 |  8 | 30 | 2013-12-31 08:00:00 |\n\n",
            "text/latex": "A data.frame: 776 × 19\n\\begin{tabular}{lllllllllllllllllll}\n year & month & day & dep\\_time & sched\\_dep\\_time & dep\\_delay & arr\\_time & sched\\_arr\\_time & arr\\_delay & carrier & flight & tailnum & origin & dest & air\\_time & distance & hour & minute & time\\_hour\\\\\n <int> & <int> & <int> & <int> & <int> & <int> & <int> & <int> & <int> & <chr> & <int> & <chr> & <chr> & <chr> & <int> & <int> & <int> & <int> & <chr>\\\\\n\\hline\n\t 2013 & 12 & 31 &  13 & 2359 &  14 &  439 &  437 &   2 & B6 &  839 & N566JB & JFK & BQN & 189 & 1576 & 23 & 59 & 2013-12-31 23:00:00\\\\\n\t 2013 & 12 & 31 &  18 & 2359 &  19 &  449 &  444 &   5 & DL &  412 & N713TW & JFK & SJU & 192 & 1598 & 23 & 59 & 2013-12-31 23:00:00\\\\\n\t 2013 & 12 & 31 &  26 & 2245 & 101 &  129 & 2353 &  96 & B6 &  108 & N374JB & JFK & PWM &  50 &  273 & 22 & 45 & 2013-12-31 22:00:00\\\\\n\t 2013 & 12 & 31 & 459 &  500 &  -1 &  655 &  651 &   4 & US & 1895 & N557UW & EWR & CLT &  95 &  529 &  5 &  0 & 2013-12-31 05:00:00\\\\\n\t 2013 & 12 & 31 & 514 &  515 &  -1 &  814 &  812 &   2 & UA &  700 & N470UA & EWR & IAH & 223 & 1400 &  5 & 15 & 2013-12-31 05:00:00\\\\\n\t 2013 & 12 & 31 & 549 &  551 &  -2 &  925 &  900 &  25 & UA &  274 & N577UA & EWR & LAX & 346 & 2454 &  5 & 51 & 2013-12-31 05:00:00\\\\\n\t 2013 & 12 & 31 & 550 &  600 & -10 &  725 &  745 & -20 & AA &  301 & N3CXAA & LGA & ORD & 127 &  733 &  6 &  0 & 2013-12-31 06:00:00\\\\\n\t 2013 & 12 & 31 & 552 &  600 &  -8 &  811 &  826 & -15 & EV & 3825 & N14916 & EWR & IND & 118 &  645 &  6 &  0 & 2013-12-31 06:00:00\\\\\n\t 2013 & 12 & 31 & 553 &  600 &  -7 &  741 &  754 & -13 & DL &  731 & N333NB & LGA & DTW &  86 &  502 &  6 &  0 & 2013-12-31 06:00:00\\\\\n\t 2013 & 12 & 31 & 554 &  550 &   4 & 1024 & 1027 &  -3 & B6 &  939 & N552JB & JFK & BQN & 195 & 1576 &  5 & 50 & 2013-12-31 05:00:00\\\\\n\t 2013 & 12 & 31 & 555 &  600 &  -5 &  901 &  849 &  12 & B6 &  353 & N746JB & JFK & PBI & 167 & 1028 &  6 &  0 & 2013-12-31 06:00:00\\\\\n\t 2013 & 12 & 31 & 555 &  600 &  -5 &  835 &  831 &   4 & DL &  904 & N3741S & LGA & ATL & 137 &  762 &  6 &  0 & 2013-12-31 06:00:00\\\\\n\t 2013 & 12 & 31 & 555 &  551 &   4 &  853 &  851 &   2 & UA &  566 & N491UA & EWR & TPA & 164 &  997 &  5 & 51 & 2013-12-31 05:00:00\\\\\n\t 2013 & 12 & 31 & 556 &  600 &  -4 &  909 &  846 &  23 & B6 &  583 & N715JB & JFK & MCO & 162 &  944 &  6 &  0 & 2013-12-31 06:00:00\\\\\n\t 2013 & 12 & 31 & 556 &  605 &  -9 &  808 &  814 &  -6 & DL & 1919 & N958DL & LGA & MSP & 160 & 1020 &  6 &  5 & 2013-12-31 06:00:00\\\\\n\t 2013 & 12 & 31 & 557 &  603 &  -6 &  719 &  719 &   0 & EV & 4241 & N15574 & EWR & DCA &  45 &  199 &  6 &  3 & 2013-12-31 06:00:00\\\\\n\t 2013 & 12 & 31 & 558 &  600 &  -2 &  919 &  905 &  14 & AA & 1175 & N3JEAA & LGA & MIA & 173 & 1096 &  6 &  0 & 2013-12-31 06:00:00\\\\\n\t 2013 & 12 & 31 & 559 &  600 &  -1 &  917 &  855 &  22 & B6 &  605 & N597JB & EWR & FLL & 167 & 1065 &  6 &  0 & 2013-12-31 06:00:00\\\\\n\t 2013 & 12 & 31 & 600 &  540 &  20 &  928 &  850 &  38 & AA & 2243 & N5EMAA & JFK & MIA & 171 & 1089 &  5 & 40 & 2013-12-31 05:00:00\\\\\n\t 2013 & 12 & 31 & 602 &  605 &  -3 &  744 &  805 & -21 & DL & 2505 & N358NB & EWR & DTW &  87 &  488 &  6 &  5 & 2013-12-31 06:00:00\\\\\n\t 2013 & 12 & 31 & 602 &  605 &  -3 &  708 &  723 & -15 & EV & 6177 & N14543 & EWR & IAD &  45 &  212 &  6 &  5 & 2013-12-31 06:00:00\\\\\n\t 2013 & 12 & 31 & 603 &  611 &  -8 & 1045 & 1055 & -10 & B6 & 1403 & N547JB & JFK & SJU & 198 & 1598 &  6 & 11 & 2013-12-31 06:00:00\\\\\n\t 2013 & 12 & 31 & 607 &  600 &   7 &  848 &  825 &  23 & WN & 1716 & N7740A & LGA & ATL & 137 &  762 &  6 &  0 & 2013-12-31 06:00:00\\\\\n\t 2013 & 12 & 31 & 608 &  615 &  -7 &  812 &  818 &  -6 & US & 1963 & N192UW & EWR & CLT & 106 &  529 &  6 & 15 & 2013-12-31 06:00:00\\\\\n\t 2013 & 12 & 31 & 609 &  610 &  -1 &  911 &  915 &  -4 & AA & 1205 & N5DHAA & EWR & MIA & 163 & 1085 &  6 & 10 & 2013-12-31 06:00:00\\\\\n\t 2013 & 12 & 31 & 609 &  615 &  -6 &  848 &  850 &  -2 & DL &  404 & N392DA & JFK & ATL & 133 &  760 &  6 & 15 & 2013-12-31 06:00:00\\\\\n\t 2013 & 12 & 31 & 609 &  614 &  -5 &  755 &  751 &   4 & EV & 3812 & N13994 & EWR & RDU &  81 &  416 &  6 & 14 & 2013-12-31 06:00:00\\\\\n\t 2013 & 12 & 31 & 610 &  615 &  -5 &  828 &  849 & -21 & DL &  479 & N3766  & JFK & ATL & 119 &  760 &  6 & 15 & 2013-12-31 06:00:00\\\\\n\t 2013 & 12 & 31 & 616 &  611 &   5 &  933 &  912 &  21 & B6 &  601 & N643JB & JFK & FLL & 173 & 1069 &  6 & 11 & 2013-12-31 06:00:00\\\\\n\t 2013 & 12 & 31 & 616 &  630 & -14 &  922 &  919 &   3 & B6 & 1099 & N563JB & LGA & MCO & 159 &  950 &  6 & 30 & 2013-12-31 06:00:00\\\\\n\t ⋮ & ⋮ & ⋮ & ⋮ & ⋮ & ⋮ & ⋮ & ⋮ & ⋮ & ⋮ & ⋮ & ⋮ & ⋮ & ⋮ & ⋮ & ⋮ & ⋮ & ⋮ & ⋮\\\\\n\t 2013 & 12 & 31 & 2155 & 2039 &  76 &  253 & 2355 &  NA & B6 & 1205 & N627JB & JFK & PDX &  NA & 2454 & 20 & 39 & 2013-12-31 20:00:00\\\\\n\t 2013 & 12 & 31 & 2155 & 2150 &   5 &  110 &   51 &  19 & B6 & 1901 & N729JB & JFK & FLL & 164 & 1069 & 21 & 50 & 2013-12-31 21:00:00\\\\\n\t 2013 & 12 & 31 & 2159 & 2155 &   4 &   55 &   46 &   9 & B6 & 2053 & N593JB & JFK & PBI & 155 & 1028 & 21 & 55 & 2013-12-31 21:00:00\\\\\n\t 2013 & 12 & 31 & 2206 & 2110 &  56 &   44 & 2339 &  65 & B6 &  775 & N184JB & JFK & MSY & 195 & 1182 & 21 & 10 & 2013-12-31 21:00:00\\\\\n\t 2013 & 12 & 31 & 2211 & 2159 &  12 &  100 &   45 &  15 & B6 & 1183 & N715JB & JFK & MCO & 148 &  944 & 21 & 59 & 2013-12-31 21:00:00\\\\\n\t 2013 & 12 & 31 & 2218 & 2219 &  -1 &  315 &  304 &  11 & B6 & 1203 & N625JB & JFK & SJU & 202 & 1598 & 22 & 19 & 2013-12-31 22:00:00\\\\\n\t 2013 & 12 & 31 & 2235 & 2245 & -10 & 2351 & 2355 &  -4 & B6 &  234 & N355JB & JFK & BTV &  49 &  266 & 22 & 45 & 2013-12-31 22:00:00\\\\\n\t 2013 & 12 & 31 & 2245 & 2250 &  -5 & 2359 & 2356 &   3 & B6 & 1816 & N318JB & JFK & SYR &  51 &  209 & 22 & 50 & 2013-12-31 22:00:00\\\\\n\t 2013 & 12 & 31 & 2310 & 2255 &  15 &    7 & 2356 &  11 & B6 &  718 & N279JB & JFK & BOS &  40 &  187 & 22 & 55 & 2013-12-31 22:00:00\\\\\n\t 2013 & 12 & 31 & 2321 & 2250 &  31 &   46 &    8 &  38 & B6 & 2002 & N179JB & JFK & BUF &  66 &  301 & 22 & 50 & 2013-12-31 22:00:00\\\\\n\t 2013 & 12 & 31 & 2328 & 2330 &  -2 &  412 &  409 &   3 & B6 & 1389 & N651JB & EWR & SJU & 198 & 1608 & 23 & 30 & 2013-12-31 23:00:00\\\\\n\t 2013 & 12 & 31 & 2332 & 2245 &  47 &   58 &    3 &  55 & B6 &  486 & N334JB & JFK & ROC &  60 &  264 & 22 & 45 & 2013-12-31 22:00:00\\\\\n\t 2013 & 12 & 31 & 2355 & 2359 &  -4 &  430 &  440 & -10 & B6 & 1503 & N509JB & JFK & SJU & 195 & 1598 & 23 & 59 & 2013-12-31 23:00:00\\\\\n\t 2013 & 12 & 31 & 2356 & 2359 &  -3 &  436 &  445 &  -9 & B6 &  745 & N665JB & JFK & PSE & 200 & 1617 & 23 & 59 & 2013-12-31 23:00:00\\\\\n\t 2013 & 12 & 31 &   NA & 1520 &  NA &   NA & 1705 &  NA & AA &  341 & N568AA & LGA & ORD &  NA &  733 & 15 & 20 & 2013-12-31 15:00:00\\\\\n\t 2013 & 12 & 31 &   NA & 2025 &  NA &   NA & 2205 &  NA & AA &  371 & N482AA & LGA & ORD &  NA &  733 & 20 & 25 & 2013-12-31 20:00:00\\\\\n\t 2013 & 12 & 31 &   NA & 1932 &  NA &   NA & 2305 &  NA & B6 &  161 & N516JB & JFK & SMF &  NA & 2521 & 19 & 32 & 2013-12-31 19:00:00\\\\\n\t 2013 & 12 & 31 &   NA & 1505 &  NA &   NA & 1725 &  NA & EV & 4181 & N24103 & EWR & MCI &  NA & 1092 & 15 &  5 & 2013-12-31 15:00:00\\\\\n\t 2013 & 12 & 31 &   NA & 1000 &  NA &   NA & 1252 &  NA & UA & 1124 & NA     & EWR & EGE &  NA & 1725 & 10 &  0 & 2013-12-31 10:00:00\\\\\n\t 2013 & 12 & 31 &   NA &  840 &  NA &   NA & 1205 &  NA & UA & 1151 & NA     & EWR & SEA &  NA & 2402 &  8 & 40 & 2013-12-31 08:00:00\\\\\n\t 2013 & 12 & 31 &   NA &  754 &  NA &   NA & 1118 &  NA & UA & 1455 & NA     & EWR & LAX &  NA & 2454 &  7 & 54 & 2013-12-31 07:00:00\\\\\n\t 2013 & 12 & 31 &   NA & 2000 &  NA &   NA & 2146 &  NA & UA & 1482 & NA     & EWR & ORD &  NA &  719 & 20 &  0 & 2013-12-31 20:00:00\\\\\n\t 2013 & 12 & 31 &   NA & 1500 &  NA &   NA & 1817 &  NA & UA & 1483 & NA     & EWR & AUS &  NA & 1504 & 15 &  0 & 2013-12-31 15:00:00\\\\\n\t 2013 & 12 & 31 &   NA & 1430 &  NA &   NA & 1750 &  NA & UA & 1493 & NA     & EWR & LAX &  NA & 2454 & 14 & 30 & 2013-12-31 14:00:00\\\\\n\t 2013 & 12 & 31 &   NA &  855 &  NA &   NA & 1142 &  NA & UA & 1506 & NA     & EWR & JAC &  NA & 1874 &  8 & 55 & 2013-12-31 08:00:00\\\\\n\t 2013 & 12 & 31 &   NA &  705 &  NA &   NA &  931 &  NA & UA & 1729 & NA     & EWR & DEN &  NA & 1605 &  7 &  5 & 2013-12-31 07:00:00\\\\\n\t 2013 & 12 & 31 &   NA &  825 &  NA &   NA & 1029 &  NA & US & 1831 & NA     & JFK & CLT &  NA &  541 &  8 & 25 & 2013-12-31 08:00:00\\\\\n\t 2013 & 12 & 31 &   NA & 1615 &  NA &   NA & 1800 &  NA & MQ & 3301 & N844MQ & LGA & RDU &  NA &  431 & 16 & 15 & 2013-12-31 16:00:00\\\\\n\t 2013 & 12 & 31 &   NA &  600 &  NA &   NA &  735 &  NA & UA &  219 & NA     & EWR & ORD &  NA &  719 &  6 &  0 & 2013-12-31 06:00:00\\\\\n\t 2013 & 12 & 31 &   NA &  830 &  NA &   NA & 1154 &  NA & UA &  443 & NA     & JFK & LAX &  NA & 2475 &  8 & 30 & 2013-12-31 08:00:00\\\\\n\\end{tabular}\n",
            "text/plain": [
              "    year month day dep_time sched_dep_time dep_delay arr_time sched_arr_time\n",
              "1   2013 12    31   13      2359            14        439      437          \n",
              "2   2013 12    31   18      2359            19        449      444          \n",
              "3   2013 12    31   26      2245           101        129     2353          \n",
              "4   2013 12    31  459       500            -1        655      651          \n",
              "5   2013 12    31  514       515            -1        814      812          \n",
              "6   2013 12    31  549       551            -2        925      900          \n",
              "7   2013 12    31  550       600           -10        725      745          \n",
              "8   2013 12    31  552       600            -8        811      826          \n",
              "9   2013 12    31  553       600            -7        741      754          \n",
              "10  2013 12    31  554       550             4       1024     1027          \n",
              "11  2013 12    31  555       600            -5        901      849          \n",
              "12  2013 12    31  555       600            -5        835      831          \n",
              "13  2013 12    31  555       551             4        853      851          \n",
              "14  2013 12    31  556       600            -4        909      846          \n",
              "15  2013 12    31  556       605            -9        808      814          \n",
              "16  2013 12    31  557       603            -6        719      719          \n",
              "17  2013 12    31  558       600            -2        919      905          \n",
              "18  2013 12    31  559       600            -1        917      855          \n",
              "19  2013 12    31  600       540            20        928      850          \n",
              "20  2013 12    31  602       605            -3        744      805          \n",
              "21  2013 12    31  602       605            -3        708      723          \n",
              "22  2013 12    31  603       611            -8       1045     1055          \n",
              "23  2013 12    31  607       600             7        848      825          \n",
              "24  2013 12    31  608       615            -7        812      818          \n",
              "25  2013 12    31  609       610            -1        911      915          \n",
              "26  2013 12    31  609       615            -6        848      850          \n",
              "27  2013 12    31  609       614            -5        755      751          \n",
              "28  2013 12    31  610       615            -5        828      849          \n",
              "29  2013 12    31  616       611             5        933      912          \n",
              "30  2013 12    31  616       630           -14        922      919          \n",
              "⋮   ⋮    ⋮     ⋮   ⋮        ⋮              ⋮         ⋮        ⋮             \n",
              "747 2013 12    31  2155     2039            76        253     2355          \n",
              "748 2013 12    31  2155     2150             5        110       51          \n",
              "749 2013 12    31  2159     2155             4         55       46          \n",
              "750 2013 12    31  2206     2110            56         44     2339          \n",
              "751 2013 12    31  2211     2159            12        100       45          \n",
              "752 2013 12    31  2218     2219            -1        315      304          \n",
              "753 2013 12    31  2235     2245           -10       2351     2355          \n",
              "754 2013 12    31  2245     2250            -5       2359     2356          \n",
              "755 2013 12    31  2310     2255            15          7     2356          \n",
              "756 2013 12    31  2321     2250            31         46        8          \n",
              "757 2013 12    31  2328     2330            -2        412      409          \n",
              "758 2013 12    31  2332     2245            47         58        3          \n",
              "759 2013 12    31  2355     2359            -4        430      440          \n",
              "760 2013 12    31  2356     2359            -3        436      445          \n",
              "761 2013 12    31    NA     1520            NA         NA     1705          \n",
              "762 2013 12    31    NA     2025            NA         NA     2205          \n",
              "763 2013 12    31    NA     1932            NA         NA     2305          \n",
              "764 2013 12    31    NA     1505            NA         NA     1725          \n",
              "765 2013 12    31    NA     1000            NA         NA     1252          \n",
              "766 2013 12    31    NA      840            NA         NA     1205          \n",
              "767 2013 12    31    NA      754            NA         NA     1118          \n",
              "768 2013 12    31    NA     2000            NA         NA     2146          \n",
              "769 2013 12    31    NA     1500            NA         NA     1817          \n",
              "770 2013 12    31    NA     1430            NA         NA     1750          \n",
              "771 2013 12    31    NA      855            NA         NA     1142          \n",
              "772 2013 12    31    NA      705            NA         NA      931          \n",
              "773 2013 12    31    NA      825            NA         NA     1029          \n",
              "774 2013 12    31    NA     1615            NA         NA     1800          \n",
              "775 2013 12    31    NA      600            NA         NA      735          \n",
              "776 2013 12    31    NA      830            NA         NA     1154          \n",
              "    arr_delay carrier flight tailnum origin dest air_time distance hour minute\n",
              "1     2       B6       839   N566JB  JFK    BQN  189      1576     23   59    \n",
              "2     5       DL       412   N713TW  JFK    SJU  192      1598     23   59    \n",
              "3    96       B6       108   N374JB  JFK    PWM   50       273     22   45    \n",
              "4     4       US      1895   N557UW  EWR    CLT   95       529      5    0    \n",
              "5     2       UA       700   N470UA  EWR    IAH  223      1400      5   15    \n",
              "6    25       UA       274   N577UA  EWR    LAX  346      2454      5   51    \n",
              "7   -20       AA       301   N3CXAA  LGA    ORD  127       733      6    0    \n",
              "8   -15       EV      3825   N14916  EWR    IND  118       645      6    0    \n",
              "9   -13       DL       731   N333NB  LGA    DTW   86       502      6    0    \n",
              "10   -3       B6       939   N552JB  JFK    BQN  195      1576      5   50    \n",
              "11   12       B6       353   N746JB  JFK    PBI  167      1028      6    0    \n",
              "12    4       DL       904   N3741S  LGA    ATL  137       762      6    0    \n",
              "13    2       UA       566   N491UA  EWR    TPA  164       997      5   51    \n",
              "14   23       B6       583   N715JB  JFK    MCO  162       944      6    0    \n",
              "15   -6       DL      1919   N958DL  LGA    MSP  160      1020      6    5    \n",
              "16    0       EV      4241   N15574  EWR    DCA   45       199      6    3    \n",
              "17   14       AA      1175   N3JEAA  LGA    MIA  173      1096      6    0    \n",
              "18   22       B6       605   N597JB  EWR    FLL  167      1065      6    0    \n",
              "19   38       AA      2243   N5EMAA  JFK    MIA  171      1089      5   40    \n",
              "20  -21       DL      2505   N358NB  EWR    DTW   87       488      6    5    \n",
              "21  -15       EV      6177   N14543  EWR    IAD   45       212      6    5    \n",
              "22  -10       B6      1403   N547JB  JFK    SJU  198      1598      6   11    \n",
              "23   23       WN      1716   N7740A  LGA    ATL  137       762      6    0    \n",
              "24   -6       US      1963   N192UW  EWR    CLT  106       529      6   15    \n",
              "25   -4       AA      1205   N5DHAA  EWR    MIA  163      1085      6   10    \n",
              "26   -2       DL       404   N392DA  JFK    ATL  133       760      6   15    \n",
              "27    4       EV      3812   N13994  EWR    RDU   81       416      6   14    \n",
              "28  -21       DL       479   N3766   JFK    ATL  119       760      6   15    \n",
              "29   21       B6       601   N643JB  JFK    FLL  173      1069      6   11    \n",
              "30    3       B6      1099   N563JB  LGA    MCO  159       950      6   30    \n",
              "⋮   ⋮         ⋮       ⋮      ⋮       ⋮      ⋮    ⋮        ⋮        ⋮    ⋮     \n",
              "747  NA       B6      1205   N627JB  JFK    PDX   NA      2454     20   39    \n",
              "748  19       B6      1901   N729JB  JFK    FLL  164      1069     21   50    \n",
              "749   9       B6      2053   N593JB  JFK    PBI  155      1028     21   55    \n",
              "750  65       B6       775   N184JB  JFK    MSY  195      1182     21   10    \n",
              "751  15       B6      1183   N715JB  JFK    MCO  148       944     21   59    \n",
              "752  11       B6      1203   N625JB  JFK    SJU  202      1598     22   19    \n",
              "753  -4       B6       234   N355JB  JFK    BTV   49       266     22   45    \n",
              "754   3       B6      1816   N318JB  JFK    SYR   51       209     22   50    \n",
              "755  11       B6       718   N279JB  JFK    BOS   40       187     22   55    \n",
              "756  38       B6      2002   N179JB  JFK    BUF   66       301     22   50    \n",
              "757   3       B6      1389   N651JB  EWR    SJU  198      1608     23   30    \n",
              "758  55       B6       486   N334JB  JFK    ROC   60       264     22   45    \n",
              "759 -10       B6      1503   N509JB  JFK    SJU  195      1598     23   59    \n",
              "760  -9       B6       745   N665JB  JFK    PSE  200      1617     23   59    \n",
              "761  NA       AA       341   N568AA  LGA    ORD   NA       733     15   20    \n",
              "762  NA       AA       371   N482AA  LGA    ORD   NA       733     20   25    \n",
              "763  NA       B6       161   N516JB  JFK    SMF   NA      2521     19   32    \n",
              "764  NA       EV      4181   N24103  EWR    MCI   NA      1092     15    5    \n",
              "765  NA       UA      1124   NA      EWR    EGE   NA      1725     10    0    \n",
              "766  NA       UA      1151   NA      EWR    SEA   NA      2402      8   40    \n",
              "767  NA       UA      1455   NA      EWR    LAX   NA      2454      7   54    \n",
              "768  NA       UA      1482   NA      EWR    ORD   NA       719     20    0    \n",
              "769  NA       UA      1483   NA      EWR    AUS   NA      1504     15    0    \n",
              "770  NA       UA      1493   NA      EWR    LAX   NA      2454     14   30    \n",
              "771  NA       UA      1506   NA      EWR    JAC   NA      1874      8   55    \n",
              "772  NA       UA      1729   NA      EWR    DEN   NA      1605      7    5    \n",
              "773  NA       US      1831   NA      JFK    CLT   NA       541      8   25    \n",
              "774  NA       MQ      3301   N844MQ  LGA    RDU   NA       431     16   15    \n",
              "775  NA       UA       219   NA      EWR    ORD   NA       719      6    0    \n",
              "776  NA       UA       443   NA      JFK    LAX   NA      2475      8   30    \n",
              "    time_hour          \n",
              "1   2013-12-31 23:00:00\n",
              "2   2013-12-31 23:00:00\n",
              "3   2013-12-31 22:00:00\n",
              "4   2013-12-31 05:00:00\n",
              "5   2013-12-31 05:00:00\n",
              "6   2013-12-31 05:00:00\n",
              "7   2013-12-31 06:00:00\n",
              "8   2013-12-31 06:00:00\n",
              "9   2013-12-31 06:00:00\n",
              "10  2013-12-31 05:00:00\n",
              "11  2013-12-31 06:00:00\n",
              "12  2013-12-31 06:00:00\n",
              "13  2013-12-31 05:00:00\n",
              "14  2013-12-31 06:00:00\n",
              "15  2013-12-31 06:00:00\n",
              "16  2013-12-31 06:00:00\n",
              "17  2013-12-31 06:00:00\n",
              "18  2013-12-31 06:00:00\n",
              "19  2013-12-31 05:00:00\n",
              "20  2013-12-31 06:00:00\n",
              "21  2013-12-31 06:00:00\n",
              "22  2013-12-31 06:00:00\n",
              "23  2013-12-31 06:00:00\n",
              "24  2013-12-31 06:00:00\n",
              "25  2013-12-31 06:00:00\n",
              "26  2013-12-31 06:00:00\n",
              "27  2013-12-31 06:00:00\n",
              "28  2013-12-31 06:00:00\n",
              "29  2013-12-31 06:00:00\n",
              "30  2013-12-31 06:00:00\n",
              "⋮   ⋮                  \n",
              "747 2013-12-31 20:00:00\n",
              "748 2013-12-31 21:00:00\n",
              "749 2013-12-31 21:00:00\n",
              "750 2013-12-31 21:00:00\n",
              "751 2013-12-31 21:00:00\n",
              "752 2013-12-31 22:00:00\n",
              "753 2013-12-31 22:00:00\n",
              "754 2013-12-31 22:00:00\n",
              "755 2013-12-31 22:00:00\n",
              "756 2013-12-31 22:00:00\n",
              "757 2013-12-31 23:00:00\n",
              "758 2013-12-31 22:00:00\n",
              "759 2013-12-31 23:00:00\n",
              "760 2013-12-31 23:00:00\n",
              "761 2013-12-31 15:00:00\n",
              "762 2013-12-31 20:00:00\n",
              "763 2013-12-31 19:00:00\n",
              "764 2013-12-31 15:00:00\n",
              "765 2013-12-31 10:00:00\n",
              "766 2013-12-31 08:00:00\n",
              "767 2013-12-31 07:00:00\n",
              "768 2013-12-31 20:00:00\n",
              "769 2013-12-31 15:00:00\n",
              "770 2013-12-31 14:00:00\n",
              "771 2013-12-31 08:00:00\n",
              "772 2013-12-31 07:00:00\n",
              "773 2013-12-31 08:00:00\n",
              "774 2013-12-31 16:00:00\n",
              "775 2013-12-31 06:00:00\n",
              "776 2013-12-31 08:00:00"
            ]
          },
          "metadata": {}
        }
      ]
    },
    {
      "cell_type": "markdown",
      "metadata": {
        "id": "H4FP6WNIRPyY"
      },
      "source": [
        "### 4.2 Función count()\n",
        "\n",
        "Como su nombre lo indica, esta función nos permite contar registros de una tabla. Es de suma utilidad cuando se utiliza dentro de agrupaciones de tablas. Estas últimas las veremos más adelante.\n",
        "\n",
        "Alternativamente, en la librería _dplyr_, contamos con la función `N()` la cual también retorna el conteo de registros."
      ]
    },
    {
      "cell_type": "code",
      "metadata": {
        "trusted": true,
        "id": "LmMG115pRPyY",
        "colab": {
          "base_uri": "https://localhost:8080/",
          "height": 164
        },
        "outputId": "e92222b7-6acf-4268-a4f1-b29a494aaaea"
      },
      "source": [
        "# count() y N() ----------------------------------------------------------------\n",
        "count(vuelos)# Retorna un dataframe con el conteo\n",
        "\n",
        "\n"
      ],
      "execution_count": null,
      "outputs": [
        {
          "output_type": "display_data",
          "data": {
            "text/html": [
              "<table class=\"dataframe\">\n",
              "<caption>A data.frame: 1 × 1</caption>\n",
              "<thead>\n",
              "\t<tr><th scope=col>n</th></tr>\n",
              "\t<tr><th scope=col>&lt;int&gt;</th></tr>\n",
              "</thead>\n",
              "<tbody>\n",
              "\t<tr><td>336776</td></tr>\n",
              "</tbody>\n",
              "</table>\n"
            ],
            "text/markdown": "\nA data.frame: 1 × 1\n\n| n &lt;int&gt; |\n|---|\n| 336776 |\n\n",
            "text/latex": "A data.frame: 1 × 1\n\\begin{tabular}{l}\n n\\\\\n <int>\\\\\n\\hline\n\t 336776\\\\\n\\end{tabular}\n",
            "text/plain": [
              "  n     \n",
              "1 336776"
            ]
          },
          "metadata": {}
        }
      ]
    },
    {
      "cell_type": "code",
      "source": [
        "# count() nos permite generar conteos agrupados por categorías\n",
        "# Contar la cantidad de vuelos por aeropuerto de origen\n",
        "count(vuelos, origin) # Aperturando por una columna\n",
        "count(vuelos, origin, carrier)# Aperturando por dos columnas\n",
        "\n",
        "# NOTA la función count() genera automáticamente una columna llamada \"n\" con el total de registros contabilizados."
      ],
      "metadata": {
        "colab": {
          "base_uri": "https://localhost:8080/",
          "height": 1000
        },
        "id": "6JPRMiZXS3ZX",
        "outputId": "de358d8f-87ff-439d-a43d-1dbe32304892"
      },
      "execution_count": null,
      "outputs": [
        {
          "output_type": "display_data",
          "data": {
            "text/html": [
              "<table class=\"dataframe\">\n",
              "<caption>A data.frame: 3 × 2</caption>\n",
              "<thead>\n",
              "\t<tr><th scope=col>origin</th><th scope=col>n</th></tr>\n",
              "\t<tr><th scope=col>&lt;chr&gt;</th><th scope=col>&lt;int&gt;</th></tr>\n",
              "</thead>\n",
              "<tbody>\n",
              "\t<tr><td>EWR</td><td>120835</td></tr>\n",
              "\t<tr><td>JFK</td><td>111279</td></tr>\n",
              "\t<tr><td>LGA</td><td>104662</td></tr>\n",
              "</tbody>\n",
              "</table>\n"
            ],
            "text/markdown": "\nA data.frame: 3 × 2\n\n| origin &lt;chr&gt; | n &lt;int&gt; |\n|---|---|\n| EWR | 120835 |\n| JFK | 111279 |\n| LGA | 104662 |\n\n",
            "text/latex": "A data.frame: 3 × 2\n\\begin{tabular}{ll}\n origin & n\\\\\n <chr> & <int>\\\\\n\\hline\n\t EWR & 120835\\\\\n\t JFK & 111279\\\\\n\t LGA & 104662\\\\\n\\end{tabular}\n",
            "text/plain": [
              "  origin n     \n",
              "1 EWR    120835\n",
              "2 JFK    111279\n",
              "3 LGA    104662"
            ]
          },
          "metadata": {}
        },
        {
          "output_type": "display_data",
          "data": {
            "text/html": [
              "<table class=\"dataframe\">\n",
              "<caption>A data.frame: 35 × 3</caption>\n",
              "<thead>\n",
              "\t<tr><th scope=col>origin</th><th scope=col>carrier</th><th scope=col>n</th></tr>\n",
              "\t<tr><th scope=col>&lt;chr&gt;</th><th scope=col>&lt;chr&gt;</th><th scope=col>&lt;int&gt;</th></tr>\n",
              "</thead>\n",
              "<tbody>\n",
              "\t<tr><td>EWR</td><td>9E</td><td> 1268</td></tr>\n",
              "\t<tr><td>EWR</td><td>AA</td><td> 3487</td></tr>\n",
              "\t<tr><td>EWR</td><td>AS</td><td>  714</td></tr>\n",
              "\t<tr><td>EWR</td><td>B6</td><td> 6557</td></tr>\n",
              "\t<tr><td>EWR</td><td>DL</td><td> 4342</td></tr>\n",
              "\t<tr><td>EWR</td><td>EV</td><td>43939</td></tr>\n",
              "\t<tr><td>EWR</td><td>MQ</td><td> 2276</td></tr>\n",
              "\t<tr><td>EWR</td><td>OO</td><td>    6</td></tr>\n",
              "\t<tr><td>EWR</td><td>UA</td><td>46087</td></tr>\n",
              "\t<tr><td>EWR</td><td>US</td><td> 4405</td></tr>\n",
              "\t<tr><td>EWR</td><td>VX</td><td> 1566</td></tr>\n",
              "\t<tr><td>EWR</td><td>WN</td><td> 6188</td></tr>\n",
              "\t<tr><td>JFK</td><td>9E</td><td>14651</td></tr>\n",
              "\t<tr><td>JFK</td><td>AA</td><td>13783</td></tr>\n",
              "\t<tr><td>JFK</td><td>B6</td><td>42076</td></tr>\n",
              "\t<tr><td>JFK</td><td>DL</td><td>20701</td></tr>\n",
              "\t<tr><td>JFK</td><td>EV</td><td> 1408</td></tr>\n",
              "\t<tr><td>JFK</td><td>HA</td><td>  342</td></tr>\n",
              "\t<tr><td>JFK</td><td>MQ</td><td> 7193</td></tr>\n",
              "\t<tr><td>JFK</td><td>UA</td><td> 4534</td></tr>\n",
              "\t<tr><td>JFK</td><td>US</td><td> 2995</td></tr>\n",
              "\t<tr><td>JFK</td><td>VX</td><td> 3596</td></tr>\n",
              "\t<tr><td>LGA</td><td>9E</td><td> 2541</td></tr>\n",
              "\t<tr><td>LGA</td><td>AA</td><td>15459</td></tr>\n",
              "\t<tr><td>LGA</td><td>B6</td><td> 6002</td></tr>\n",
              "\t<tr><td>LGA</td><td>DL</td><td>23067</td></tr>\n",
              "\t<tr><td>LGA</td><td>EV</td><td> 8826</td></tr>\n",
              "\t<tr><td>LGA</td><td>F9</td><td>  685</td></tr>\n",
              "\t<tr><td>LGA</td><td>FL</td><td> 3260</td></tr>\n",
              "\t<tr><td>LGA</td><td>MQ</td><td>16928</td></tr>\n",
              "\t<tr><td>LGA</td><td>OO</td><td>   26</td></tr>\n",
              "\t<tr><td>LGA</td><td>UA</td><td> 8044</td></tr>\n",
              "\t<tr><td>LGA</td><td>US</td><td>13136</td></tr>\n",
              "\t<tr><td>LGA</td><td>WN</td><td> 6087</td></tr>\n",
              "\t<tr><td>LGA</td><td>YV</td><td>  601</td></tr>\n",
              "</tbody>\n",
              "</table>\n"
            ],
            "text/markdown": "\nA data.frame: 35 × 3\n\n| origin &lt;chr&gt; | carrier &lt;chr&gt; | n &lt;int&gt; |\n|---|---|---|\n| EWR | 9E |  1268 |\n| EWR | AA |  3487 |\n| EWR | AS |   714 |\n| EWR | B6 |  6557 |\n| EWR | DL |  4342 |\n| EWR | EV | 43939 |\n| EWR | MQ |  2276 |\n| EWR | OO |     6 |\n| EWR | UA | 46087 |\n| EWR | US |  4405 |\n| EWR | VX |  1566 |\n| EWR | WN |  6188 |\n| JFK | 9E | 14651 |\n| JFK | AA | 13783 |\n| JFK | B6 | 42076 |\n| JFK | DL | 20701 |\n| JFK | EV |  1408 |\n| JFK | HA |   342 |\n| JFK | MQ |  7193 |\n| JFK | UA |  4534 |\n| JFK | US |  2995 |\n| JFK | VX |  3596 |\n| LGA | 9E |  2541 |\n| LGA | AA | 15459 |\n| LGA | B6 |  6002 |\n| LGA | DL | 23067 |\n| LGA | EV |  8826 |\n| LGA | F9 |   685 |\n| LGA | FL |  3260 |\n| LGA | MQ | 16928 |\n| LGA | OO |    26 |\n| LGA | UA |  8044 |\n| LGA | US | 13136 |\n| LGA | WN |  6087 |\n| LGA | YV |   601 |\n\n",
            "text/latex": "A data.frame: 35 × 3\n\\begin{tabular}{lll}\n origin & carrier & n\\\\\n <chr> & <chr> & <int>\\\\\n\\hline\n\t EWR & 9E &  1268\\\\\n\t EWR & AA &  3487\\\\\n\t EWR & AS &   714\\\\\n\t EWR & B6 &  6557\\\\\n\t EWR & DL &  4342\\\\\n\t EWR & EV & 43939\\\\\n\t EWR & MQ &  2276\\\\\n\t EWR & OO &     6\\\\\n\t EWR & UA & 46087\\\\\n\t EWR & US &  4405\\\\\n\t EWR & VX &  1566\\\\\n\t EWR & WN &  6188\\\\\n\t JFK & 9E & 14651\\\\\n\t JFK & AA & 13783\\\\\n\t JFK & B6 & 42076\\\\\n\t JFK & DL & 20701\\\\\n\t JFK & EV &  1408\\\\\n\t JFK & HA &   342\\\\\n\t JFK & MQ &  7193\\\\\n\t JFK & UA &  4534\\\\\n\t JFK & US &  2995\\\\\n\t JFK & VX &  3596\\\\\n\t LGA & 9E &  2541\\\\\n\t LGA & AA & 15459\\\\\n\t LGA & B6 &  6002\\\\\n\t LGA & DL & 23067\\\\\n\t LGA & EV &  8826\\\\\n\t LGA & F9 &   685\\\\\n\t LGA & FL &  3260\\\\\n\t LGA & MQ & 16928\\\\\n\t LGA & OO &    26\\\\\n\t LGA & UA &  8044\\\\\n\t LGA & US & 13136\\\\\n\t LGA & WN &  6087\\\\\n\t LGA & YV &   601\\\\\n\\end{tabular}\n",
            "text/plain": [
              "   origin carrier n    \n",
              "1  EWR    9E       1268\n",
              "2  EWR    AA       3487\n",
              "3  EWR    AS        714\n",
              "4  EWR    B6       6557\n",
              "5  EWR    DL       4342\n",
              "6  EWR    EV      43939\n",
              "7  EWR    MQ       2276\n",
              "8  EWR    OO          6\n",
              "9  EWR    UA      46087\n",
              "10 EWR    US       4405\n",
              "11 EWR    VX       1566\n",
              "12 EWR    WN       6188\n",
              "13 JFK    9E      14651\n",
              "14 JFK    AA      13783\n",
              "15 JFK    B6      42076\n",
              "16 JFK    DL      20701\n",
              "17 JFK    EV       1408\n",
              "18 JFK    HA        342\n",
              "19 JFK    MQ       7193\n",
              "20 JFK    UA       4534\n",
              "21 JFK    US       2995\n",
              "22 JFK    VX       3596\n",
              "23 LGA    9E       2541\n",
              "24 LGA    AA      15459\n",
              "25 LGA    B6       6002\n",
              "26 LGA    DL      23067\n",
              "27 LGA    EV       8826\n",
              "28 LGA    F9        685\n",
              "29 LGA    FL       3260\n",
              "30 LGA    MQ      16928\n",
              "31 LGA    OO         26\n",
              "32 LGA    UA       8044\n",
              "33 LGA    US      13136\n",
              "34 LGA    WN       6087\n",
              "35 LGA    YV        601"
            ]
          },
          "metadata": {}
        }
      ]
    },
    {
      "cell_type": "code",
      "source": [
        "# ¿Cuántos vuelos hay registrados para el 25 de dic? ¿y el primero de enero?\n",
        "# OP 1: filtrar y contar\n",
        "count(filter(vuelos, (year == 2013 & month == 12 & day == 25) | (year == 2013 & month == 1 & day == 1) ), year,month,day)\n",
        "# En el 1 de enero se registraron 842 vuelos mientras que....."
      ],
      "metadata": {
        "colab": {
          "base_uri": "https://localhost:8080/",
          "height": 160
        },
        "id": "RewVE3zsS2q6",
        "outputId": "5dee5493-707a-48f1-e2c4-4572042eba09"
      },
      "execution_count": null,
      "outputs": [
        {
          "output_type": "display_data",
          "data": {
            "text/html": [
              "<table class=\"dataframe\">\n",
              "<caption>A data.frame: 2 × 4</caption>\n",
              "<thead>\n",
              "\t<tr><th scope=col>year</th><th scope=col>month</th><th scope=col>day</th><th scope=col>n</th></tr>\n",
              "\t<tr><th scope=col>&lt;int&gt;</th><th scope=col>&lt;int&gt;</th><th scope=col>&lt;int&gt;</th><th scope=col>&lt;int&gt;</th></tr>\n",
              "</thead>\n",
              "<tbody>\n",
              "\t<tr><td>2013</td><td> 1</td><td> 1</td><td>842</td></tr>\n",
              "\t<tr><td>2013</td><td>12</td><td>25</td><td>719</td></tr>\n",
              "</tbody>\n",
              "</table>\n"
            ],
            "text/markdown": "\nA data.frame: 2 × 4\n\n| year &lt;int&gt; | month &lt;int&gt; | day &lt;int&gt; | n &lt;int&gt; |\n|---|---|---|---|\n| 2013 |  1 |  1 | 842 |\n| 2013 | 12 | 25 | 719 |\n\n",
            "text/latex": "A data.frame: 2 × 4\n\\begin{tabular}{llll}\n year & month & day & n\\\\\n <int> & <int> & <int> & <int>\\\\\n\\hline\n\t 2013 &  1 &  1 & 842\\\\\n\t 2013 & 12 & 25 & 719\\\\\n\\end{tabular}\n",
            "text/plain": [
              "  year month day n  \n",
              "1 2013  1     1  842\n",
              "2 2013 12    25  719"
            ]
          },
          "metadata": {}
        }
      ]
    },
    {
      "cell_type": "code",
      "source": [
        "filter(count(vuelos, year,month,day), (year == 2013 & month == 12 & day == 25) | (year == 2013 & month == 1 & day == 1) )"
      ],
      "metadata": {
        "colab": {
          "base_uri": "https://localhost:8080/",
          "height": 160
        },
        "id": "ZWBlnctQUVZU",
        "outputId": "11ebe992-e49d-4137-e636-c2a6d2d757f9"
      },
      "execution_count": null,
      "outputs": [
        {
          "output_type": "display_data",
          "data": {
            "text/html": [
              "<table class=\"dataframe\">\n",
              "<caption>A data.frame: 2 × 4</caption>\n",
              "<thead>\n",
              "\t<tr><th scope=col>year</th><th scope=col>month</th><th scope=col>day</th><th scope=col>n</th></tr>\n",
              "\t<tr><th scope=col>&lt;int&gt;</th><th scope=col>&lt;int&gt;</th><th scope=col>&lt;int&gt;</th><th scope=col>&lt;int&gt;</th></tr>\n",
              "</thead>\n",
              "<tbody>\n",
              "\t<tr><td>2013</td><td> 1</td><td> 1</td><td>842</td></tr>\n",
              "\t<tr><td>2013</td><td>12</td><td>25</td><td>719</td></tr>\n",
              "</tbody>\n",
              "</table>\n"
            ],
            "text/markdown": "\nA data.frame: 2 × 4\n\n| year &lt;int&gt; | month &lt;int&gt; | day &lt;int&gt; | n &lt;int&gt; |\n|---|---|---|---|\n| 2013 |  1 |  1 | 842 |\n| 2013 | 12 | 25 | 719 |\n\n",
            "text/latex": "A data.frame: 2 × 4\n\\begin{tabular}{llll}\n year & month & day & n\\\\\n <int> & <int> & <int> & <int>\\\\\n\\hline\n\t 2013 &  1 &  1 & 842\\\\\n\t 2013 & 12 & 25 & 719\\\\\n\\end{tabular}\n",
            "text/plain": [
              "  year month day n  \n",
              "1 2013  1     1  842\n",
              "2 2013 12    25  719"
            ]
          },
          "metadata": {}
        }
      ]
    },
    {
      "cell_type": "code",
      "source": [
        "resumen <- count(vuelos, year, month, day)"
      ],
      "metadata": {
        "id": "Y72ghATNUlhe"
      },
      "execution_count": null,
      "outputs": []
    },
    {
      "cell_type": "code",
      "source": [
        "head(resumen)"
      ],
      "metadata": {
        "colab": {
          "base_uri": "https://localhost:8080/",
          "height": 286
        },
        "id": "n2hCDY3VUz8k",
        "outputId": "73820e6e-9e2a-4253-e306-4ed4965b8b9d"
      },
      "execution_count": null,
      "outputs": [
        {
          "output_type": "display_data",
          "data": {
            "text/html": [
              "<table class=\"dataframe\">\n",
              "<caption>A data.frame: 6 × 4</caption>\n",
              "<thead>\n",
              "\t<tr><th></th><th scope=col>year</th><th scope=col>month</th><th scope=col>day</th><th scope=col>n</th></tr>\n",
              "\t<tr><th></th><th scope=col>&lt;int&gt;</th><th scope=col>&lt;int&gt;</th><th scope=col>&lt;int&gt;</th><th scope=col>&lt;int&gt;</th></tr>\n",
              "</thead>\n",
              "<tbody>\n",
              "\t<tr><th scope=row>1</th><td>2013</td><td>1</td><td>1</td><td>842</td></tr>\n",
              "\t<tr><th scope=row>2</th><td>2013</td><td>1</td><td>2</td><td>943</td></tr>\n",
              "\t<tr><th scope=row>3</th><td>2013</td><td>1</td><td>3</td><td>914</td></tr>\n",
              "\t<tr><th scope=row>4</th><td>2013</td><td>1</td><td>4</td><td>915</td></tr>\n",
              "\t<tr><th scope=row>5</th><td>2013</td><td>1</td><td>5</td><td>720</td></tr>\n",
              "\t<tr><th scope=row>6</th><td>2013</td><td>1</td><td>6</td><td>832</td></tr>\n",
              "</tbody>\n",
              "</table>\n"
            ],
            "text/markdown": "\nA data.frame: 6 × 4\n\n| <!--/--> | year &lt;int&gt; | month &lt;int&gt; | day &lt;int&gt; | n &lt;int&gt; |\n|---|---|---|---|---|\n| 1 | 2013 | 1 | 1 | 842 |\n| 2 | 2013 | 1 | 2 | 943 |\n| 3 | 2013 | 1 | 3 | 914 |\n| 4 | 2013 | 1 | 4 | 915 |\n| 5 | 2013 | 1 | 5 | 720 |\n| 6 | 2013 | 1 | 6 | 832 |\n\n",
            "text/latex": "A data.frame: 6 × 4\n\\begin{tabular}{r|llll}\n  & year & month & day & n\\\\\n  & <int> & <int> & <int> & <int>\\\\\n\\hline\n\t1 & 2013 & 1 & 1 & 842\\\\\n\t2 & 2013 & 1 & 2 & 943\\\\\n\t3 & 2013 & 1 & 3 & 914\\\\\n\t4 & 2013 & 1 & 4 & 915\\\\\n\t5 & 2013 & 1 & 5 & 720\\\\\n\t6 & 2013 & 1 & 6 & 832\\\\\n\\end{tabular}\n",
            "text/plain": [
              "  year month day n  \n",
              "1 2013 1     1   842\n",
              "2 2013 1     2   943\n",
              "3 2013 1     3   914\n",
              "4 2013 1     4   915\n",
              "5 2013 1     5   720\n",
              "6 2013 1     6   832"
            ]
          },
          "metadata": {}
        }
      ]
    },
    {
      "cell_type": "code",
      "metadata": {
        "trusted": true,
        "id": "pvkqzxk3RPyf"
      },
      "source": [
        "#si quisiéramos guardar resgidtros en el disco, una manera es usando write.csv()\n",
        "write.csv(resumen, file = \"tabla_resumen.csv\", row.names = F ) # Al escribir solo el ombre y no la ruta completa, se guarda directamente en el WD.\n"
      ],
      "execution_count": null,
      "outputs": []
    },
    {
      "cell_type": "code",
      "source": [
        "getwd()"
      ],
      "metadata": {
        "colab": {
          "base_uri": "https://localhost:8080/",
          "height": 34
        },
        "id": "Vdt9vpuDVGAB",
        "outputId": "b17f7de0-6fa9-4b07-ea05-fe97add2f849"
      },
      "execution_count": null,
      "outputs": [
        {
          "output_type": "display_data",
          "data": {
            "text/html": [
              "'/content'"
            ],
            "text/markdown": "'/content'",
            "text/latex": "'/content'",
            "text/plain": [
              "[1] \"/content\""
            ]
          },
          "metadata": {}
        }
      ]
    },
    {
      "cell_type": "markdown",
      "source": [
        "# NOTA\n",
        "Podemos guardar variables de nuestra sesión en archivos *.rds para luego cargarlos en una nueva sesión."
      ],
      "metadata": {
        "id": "yo3f_ZDJVoq0"
      }
    },
    {
      "cell_type": "code",
      "source": [
        "lista_ejemplo <- list(res = resumen,\n",
        "                      cod_aerop = vuelos$dest)"
      ],
      "metadata": {
        "id": "gzhUzYNFVlQ2"
      },
      "execution_count": null,
      "outputs": []
    },
    {
      "cell_type": "code",
      "source": [
        "str(lista_ejemplo)"
      ],
      "metadata": {
        "colab": {
          "base_uri": "https://localhost:8080/"
        },
        "id": "xOoqTGsOWOTu",
        "outputId": "e2ecc0a1-9af6-4376-873d-cb4d1bd987b0"
      },
      "execution_count": null,
      "outputs": [
        {
          "output_type": "stream",
          "name": "stdout",
          "text": [
            "List of 2\n",
            " $ res      :'data.frame':\t365 obs. of  4 variables:\n",
            "  ..$ year : int [1:365] 2013 2013 2013 2013 2013 2013 2013 2013 2013 2013 ...\n",
            "  ..$ month: int [1:365] 1 1 1 1 1 1 1 1 1 1 ...\n",
            "  ..$ day  : int [1:365] 1 2 3 4 5 6 7 8 9 10 ...\n",
            "  ..$ n    : int [1:365] 842 943 914 915 720 832 933 899 902 932 ...\n",
            " $ cod_aerop: chr [1:336776] \"IAH\" \"IAH\" \"MIA\" \"BQN\" ...\n"
          ]
        }
      ]
    },
    {
      "cell_type": "code",
      "source": [
        "saveRDS(lista_ejemplo, \"lista.rds\")\n",
        "saveRDS(resumen, \"resumen.rds\")\n"
      ],
      "metadata": {
        "id": "IbafTKxjWTOu"
      },
      "execution_count": null,
      "outputs": []
    },
    {
      "cell_type": "code",
      "source": [
        "rm(lista_ejemplo)\n",
        "rm(resumen)"
      ],
      "metadata": {
        "id": "gAvSJmgbWo4i"
      },
      "execution_count": null,
      "outputs": []
    },
    {
      "cell_type": "code",
      "source": [
        "# Podemos cargar con readRDS\n",
        "\n",
        "lista_ejemplo <- readRDS(\"lista.rds\")"
      ],
      "metadata": {
        "id": "ghUFKiUTWtl3"
      },
      "execution_count": null,
      "outputs": []
    },
    {
      "cell_type": "code",
      "source": [
        "resumen <- readRDS(\"resumen.rds\")"
      ],
      "metadata": {
        "id": "Vq41NySTXMEM"
      },
      "execution_count": null,
      "outputs": []
    },
    {
      "cell_type": "code",
      "source": [
        "str(lista_ejemplo)"
      ],
      "metadata": {
        "colab": {
          "base_uri": "https://localhost:8080/"
        },
        "id": "B9FPLYq7W-oB",
        "outputId": "86232845-371f-483a-a049-404e04a57e98"
      },
      "execution_count": null,
      "outputs": [
        {
          "output_type": "stream",
          "name": "stdout",
          "text": [
            "List of 2\n",
            " $ res      :'data.frame':\t365 obs. of  4 variables:\n",
            "  ..$ year : int [1:365] 2013 2013 2013 2013 2013 2013 2013 2013 2013 2013 ...\n",
            "  ..$ month: int [1:365] 1 1 1 1 1 1 1 1 1 1 ...\n",
            "  ..$ day  : int [1:365] 1 2 3 4 5 6 7 8 9 10 ...\n",
            "  ..$ n    : int [1:365] 842 943 914 915 720 832 933 899 902 932 ...\n",
            " $ cod_aerop: chr [1:336776] \"IAH\" \"IAH\" \"MIA\" \"BQN\" ...\n"
          ]
        }
      ]
    },
    {
      "cell_type": "code",
      "source": [
        "# save() nos permite guardar múltiples objetos de la sesión en un solo archivo\n",
        "save(resumen, vuelos, lista_ejemplo, file = \"varios.RData\")\n"
      ],
      "metadata": {
        "id": "TumKfui6XIIZ"
      },
      "execution_count": null,
      "outputs": []
    },
    {
      "cell_type": "code",
      "source": [
        "rm(list = c(\"resumen\", \"vuelos\", \"lista_ejemplo\"))"
      ],
      "metadata": {
        "id": "Za73V5WSXh33"
      },
      "execution_count": null,
      "outputs": []
    },
    {
      "cell_type": "code",
      "source": [
        "# load(): Cargarmos archivos RData\n",
        "\n",
        "load(\"varios.RData\")"
      ],
      "metadata": {
        "id": "4IhMzpznXnm4"
      },
      "execution_count": null,
      "outputs": []
    },
    {
      "cell_type": "code",
      "source": [
        "ls()# muestra los objetos que están en la sesión global. Solo para validar que lo que borramos se volvió a cargar."
      ],
      "metadata": {
        "colab": {
          "base_uri": "https://localhost:8080/",
          "height": 34
        },
        "id": "eM6gQfAJXxY0",
        "outputId": "52b15262-a509-4852-ce08-6ce1ccf42df1"
      },
      "execution_count": null,
      "outputs": [
        {
          "output_type": "display_data",
          "data": {
            "text/html": [
              "<style>\n",
              ".list-inline {list-style: none; margin:0; padding: 0}\n",
              ".list-inline>li {display: inline-block}\n",
              ".list-inline>li:not(:last-child)::after {content: \"\\00b7\"; padding: 0 .5ex}\n",
              "</style>\n",
              "<ol class=list-inline><li>'lista_ejemplo'</li><li>'resumen'</li><li>'vuelos'</li></ol>\n"
            ],
            "text/markdown": "1. 'lista_ejemplo'\n2. 'resumen'\n3. 'vuelos'\n\n\n",
            "text/latex": "\\begin{enumerate*}\n\\item 'lista\\_ejemplo'\n\\item 'resumen'\n\\item 'vuelos'\n\\end{enumerate*}\n",
            "text/plain": [
              "[1] \"lista_ejemplo\" \"resumen\"       \"vuelos\"       "
            ]
          },
          "metadata": {}
        }
      ]
    },
    {
      "cell_type": "code",
      "source": [
        "head(resumen)"
      ],
      "metadata": {
        "colab": {
          "base_uri": "https://localhost:8080/",
          "height": 286
        },
        "id": "D4F5m8KGX0KH",
        "outputId": "bbaaddfa-7a08-4da9-9712-5330ebff88c5"
      },
      "execution_count": null,
      "outputs": [
        {
          "output_type": "display_data",
          "data": {
            "text/html": [
              "<table class=\"dataframe\">\n",
              "<caption>A data.frame: 6 × 4</caption>\n",
              "<thead>\n",
              "\t<tr><th></th><th scope=col>year</th><th scope=col>month</th><th scope=col>day</th><th scope=col>n</th></tr>\n",
              "\t<tr><th></th><th scope=col>&lt;int&gt;</th><th scope=col>&lt;int&gt;</th><th scope=col>&lt;int&gt;</th><th scope=col>&lt;int&gt;</th></tr>\n",
              "</thead>\n",
              "<tbody>\n",
              "\t<tr><th scope=row>1</th><td>2013</td><td>1</td><td>1</td><td>842</td></tr>\n",
              "\t<tr><th scope=row>2</th><td>2013</td><td>1</td><td>2</td><td>943</td></tr>\n",
              "\t<tr><th scope=row>3</th><td>2013</td><td>1</td><td>3</td><td>914</td></tr>\n",
              "\t<tr><th scope=row>4</th><td>2013</td><td>1</td><td>4</td><td>915</td></tr>\n",
              "\t<tr><th scope=row>5</th><td>2013</td><td>1</td><td>5</td><td>720</td></tr>\n",
              "\t<tr><th scope=row>6</th><td>2013</td><td>1</td><td>6</td><td>832</td></tr>\n",
              "</tbody>\n",
              "</table>\n"
            ],
            "text/markdown": "\nA data.frame: 6 × 4\n\n| <!--/--> | year &lt;int&gt; | month &lt;int&gt; | day &lt;int&gt; | n &lt;int&gt; |\n|---|---|---|---|---|\n| 1 | 2013 | 1 | 1 | 842 |\n| 2 | 2013 | 1 | 2 | 943 |\n| 3 | 2013 | 1 | 3 | 914 |\n| 4 | 2013 | 1 | 4 | 915 |\n| 5 | 2013 | 1 | 5 | 720 |\n| 6 | 2013 | 1 | 6 | 832 |\n\n",
            "text/latex": "A data.frame: 6 × 4\n\\begin{tabular}{r|llll}\n  & year & month & day & n\\\\\n  & <int> & <int> & <int> & <int>\\\\\n\\hline\n\t1 & 2013 & 1 & 1 & 842\\\\\n\t2 & 2013 & 1 & 2 & 943\\\\\n\t3 & 2013 & 1 & 3 & 914\\\\\n\t4 & 2013 & 1 & 4 & 915\\\\\n\t5 & 2013 & 1 & 5 & 720\\\\\n\t6 & 2013 & 1 & 6 & 832\\\\\n\\end{tabular}\n",
            "text/plain": [
              "  year month day n  \n",
              "1 2013 1     1   842\n",
              "2 2013 1     2   943\n",
              "3 2013 1     3   914\n",
              "4 2013 1     4   915\n",
              "5 2013 1     5   720\n",
              "6 2013 1     6   832"
            ]
          },
          "metadata": {}
        }
      ]
    },
    {
      "cell_type": "code",
      "metadata": {
        "trusted": true,
        "id": "SIuMwcy8RPyh"
      },
      "source": [
        "# ¿Cuántos vuelos hay registrados entre noviembre y diciembre?¿A qué porcentaje del total corresponde?\n"
      ],
      "execution_count": null,
      "outputs": []
    },
    {
      "cell_type": "code",
      "metadata": {
        "trusted": true,
        "id": "3XFpG_fYRPyj"
      },
      "source": [
        "# ¿Qué porcentaje de vuelos tienen un retraso  (de salida o llegada) mayor a una hora?\n",
        "\n",
        "#columnas arr_delay o dep_delay\n"
      ],
      "execution_count": null,
      "outputs": []
    },
    {
      "cell_type": "code",
      "metadata": {
        "trusted": true,
        "id": "qnB-hTU-RPyl"
      },
      "source": [
        "# ¿Cuántos vuelos llegaron con al menos dos horas de retraso pero no se retrasaron al partir?\n"
      ],
      "execution_count": null,
      "outputs": []
    },
    {
      "cell_type": "markdown",
      "metadata": {
        "id": "zr5FIczKRPym"
      },
      "source": [
        "### 4.3 Función arrange()\n",
        "\n",
        "Esta función nos permite ordernar registros basándose en la indexación de alguna columna. Es el equivalente a la sentencia `order by` en sql.\n",
        "Esta función recibe como argumento principal un dataset a ordenar, y los nombres de las columnas por las cuales se quiere ordenar. Para más información consultar la ayuda de esta función (?arrange)\n"
      ]
    },
    {
      "cell_type": "code",
      "metadata": {
        "trusted": true,
        "id": "aGK8DaZVRPyn",
        "colab": {
          "base_uri": "https://localhost:8080/",
          "height": 1000
        },
        "outputId": "b43f172f-b266-4265-e611-3309632f1a26"
      },
      "source": [
        "# arrange() ----------------------------------------------------------------\n",
        "# Ejemplo, podemos ordenar la data flights por mes y arr_delay\n",
        "arrange(vuelos, month, arr_delay)\n"
      ],
      "execution_count": null,
      "outputs": [
        {
          "output_type": "display_data",
          "data": {
            "text/html": [
              "<table class=\"dataframe\">\n",
              "<caption>A data.frame: 336776 × 19</caption>\n",
              "<thead>\n",
              "\t<tr><th scope=col>year</th><th scope=col>month</th><th scope=col>day</th><th scope=col>dep_time</th><th scope=col>sched_dep_time</th><th scope=col>dep_delay</th><th scope=col>arr_time</th><th scope=col>sched_arr_time</th><th scope=col>arr_delay</th><th scope=col>carrier</th><th scope=col>flight</th><th scope=col>tailnum</th><th scope=col>origin</th><th scope=col>dest</th><th scope=col>air_time</th><th scope=col>distance</th><th scope=col>hour</th><th scope=col>minute</th><th scope=col>time_hour</th></tr>\n",
              "\t<tr><th scope=col>&lt;int&gt;</th><th scope=col>&lt;int&gt;</th><th scope=col>&lt;int&gt;</th><th scope=col>&lt;int&gt;</th><th scope=col>&lt;int&gt;</th><th scope=col>&lt;int&gt;</th><th scope=col>&lt;int&gt;</th><th scope=col>&lt;int&gt;</th><th scope=col>&lt;int&gt;</th><th scope=col>&lt;chr&gt;</th><th scope=col>&lt;int&gt;</th><th scope=col>&lt;chr&gt;</th><th scope=col>&lt;chr&gt;</th><th scope=col>&lt;chr&gt;</th><th scope=col>&lt;int&gt;</th><th scope=col>&lt;int&gt;</th><th scope=col>&lt;int&gt;</th><th scope=col>&lt;int&gt;</th><th scope=col>&lt;chr&gt;</th></tr>\n",
              "</thead>\n",
              "<tbody>\n",
              "\t<tr><td>2013</td><td>1</td><td> 4</td><td>1026</td><td>1030</td><td> -4</td><td>1305</td><td>1415</td><td>-70</td><td>VX</td><td>  23</td><td>N855VA</td><td>JFK</td><td>SFO</td><td>324</td><td>2586</td><td>10</td><td>30</td><td>2013-01-04 10:00:00</td></tr>\n",
              "\t<tr><td>2013</td><td>1</td><td> 3</td><td> 941</td><td> 945</td><td> -4</td><td>1153</td><td>1258</td><td>-65</td><td>B6</td><td> 679</td><td>N789JB</td><td>JFK</td><td>LAX</td><td>297</td><td>2475</td><td> 9</td><td>45</td><td>2013-01-03 09:00:00</td></tr>\n",
              "\t<tr><td>2013</td><td>1</td><td>14</td><td>1840</td><td>1845</td><td> -5</td><td>2117</td><td>2221</td><td>-64</td><td>DL</td><td>2190</td><td>N324US</td><td>JFK</td><td>MIA</td><td>146</td><td>1089</td><td>18</td><td>45</td><td>2013-01-14 18:00:00</td></tr>\n",
              "\t<tr><td>2013</td><td>1</td><td> 3</td><td>1153</td><td>1200</td><td> -7</td><td>1442</td><td>1545</td><td>-63</td><td>VX</td><td>  25</td><td>N847VA</td><td>JFK</td><td>SFO</td><td>333</td><td>2586</td><td>12</td><td> 0</td><td>2013-01-03 12:00:00</td></tr>\n",
              "\t<tr><td>2013</td><td>1</td><td> 3</td><td>1228</td><td>1235</td><td> -7</td><td>1503</td><td>1606</td><td>-63</td><td>DL</td><td>2174</td><td>N389DA</td><td>JFK</td><td>SLC</td><td>260</td><td>1990</td><td>12</td><td>35</td><td>2013-01-03 12:00:00</td></tr>\n",
              "\t<tr><td>2013</td><td>1</td><td>27</td><td>1845</td><td>1850</td><td> -5</td><td>2110</td><td>2212</td><td>-62</td><td>DL</td><td>2159</td><td>N398DA</td><td>JFK</td><td>MCO</td><td>127</td><td> 944</td><td>18</td><td>50</td><td>2013-01-27 18:00:00</td></tr>\n",
              "\t<tr><td>2013</td><td>1</td><td> 3</td><td>1605</td><td>1610</td><td> -5</td><td>1816</td><td>1917</td><td>-61</td><td>DL</td><td>  91</td><td>N3740C</td><td>JFK</td><td>LAS</td><td>282</td><td>2248</td><td>16</td><td>10</td><td>2013-01-03 16:00:00</td></tr>\n",
              "\t<tr><td>2013</td><td>1</td><td> 3</td><td>1857</td><td>1900</td><td> -3</td><td>2200</td><td>2301</td><td>-61</td><td>DL</td><td>1465</td><td>N722TW</td><td>JFK</td><td>SFO</td><td>329</td><td>2586</td><td>19</td><td> 0</td><td>2013-01-03 19:00:00</td></tr>\n",
              "\t<tr><td>2013</td><td>1</td><td> 4</td><td>1219</td><td>1221</td><td> -2</td><td>1454</td><td>1555</td><td>-61</td><td>UA</td><td> 551</td><td>N830UA</td><td>EWR</td><td>SFO</td><td>313</td><td>2565</td><td>12</td><td>21</td><td>2013-01-04 12:00:00</td></tr>\n",
              "\t<tr><td>2013</td><td>1</td><td> 6</td><td> 812</td><td> 819</td><td> -7</td><td>1102</td><td>1203</td><td>-61</td><td>UA</td><td> 665</td><td>N805UA</td><td>EWR</td><td>SFO</td><td>336</td><td>2565</td><td> 8</td><td>19</td><td>2013-01-06 08:00:00</td></tr>\n",
              "\t<tr><td>2013</td><td>1</td><td>12</td><td> 913</td><td> 920</td><td> -7</td><td>1347</td><td>1448</td><td>-61</td><td>DL</td><td> 675</td><td>N711ZX</td><td>JFK</td><td>STT</td><td>181</td><td>1623</td><td> 9</td><td>20</td><td>2013-01-12 09:00:00</td></tr>\n",
              "\t<tr><td>2013</td><td>1</td><td> 3</td><td>1920</td><td>1920</td><td>  0</td><td>2158</td><td>2258</td><td>-60</td><td>DL</td><td>   6</td><td>N3768 </td><td>JFK</td><td>SLC</td><td>250</td><td>1990</td><td>19</td><td>20</td><td>2013-01-03 19:00:00</td></tr>\n",
              "\t<tr><td>2013</td><td>1</td><td> 2</td><td> 654</td><td> 700</td><td> -6</td><td> 946</td><td>1045</td><td>-59</td><td>DL</td><td>1865</td><td>N711ZX</td><td>JFK</td><td>SFO</td><td>323</td><td>2586</td><td> 7</td><td> 0</td><td>2013-01-02 07:00:00</td></tr>\n",
              "\t<tr><td>2013</td><td>1</td><td> 3</td><td>1626</td><td>1630</td><td> -4</td><td>1853</td><td>1952</td><td>-59</td><td>B6</td><td> 675</td><td>N652JB</td><td>JFK</td><td>LAX</td><td>301</td><td>2475</td><td>16</td><td>30</td><td>2013-01-03 16:00:00</td></tr>\n",
              "\t<tr><td>2013</td><td>1</td><td>27</td><td>1839</td><td>1845</td><td> -6</td><td>2038</td><td>2137</td><td>-59</td><td>9E</td><td>3369</td><td>N919XJ</td><td>JFK</td><td>MSY</td><td>166</td><td>1182</td><td>18</td><td>45</td><td>2013-01-27 18:00:00</td></tr>\n",
              "\t<tr><td>2013</td><td>1</td><td>26</td><td>1651</td><td>1659</td><td> -8</td><td>1946</td><td>2044</td><td>-58</td><td>9E</td><td>3375</td><td>N930XJ</td><td>JFK</td><td>SAT</td><td>214</td><td>1587</td><td>16</td><td>59</td><td>2013-01-26 16:00:00</td></tr>\n",
              "\t<tr><td>2013</td><td>1</td><td> 2</td><td> 857</td><td> 900</td><td> -3</td><td>1130</td><td>1227</td><td>-57</td><td>DL</td><td> 120</td><td>N710TW</td><td>JFK</td><td>LAX</td><td>310</td><td>2475</td><td> 9</td><td> 0</td><td>2013-01-02 09:00:00</td></tr>\n",
              "\t<tr><td>2013</td><td>1</td><td> 3</td><td>1957</td><td>1945</td><td> 12</td><td>2232</td><td>2329</td><td>-57</td><td>B6</td><td> 645</td><td>N793JB</td><td>JFK</td><td>SFO</td><td>315</td><td>2586</td><td>19</td><td>45</td><td>2013-01-03 19:00:00</td></tr>\n",
              "\t<tr><td>2013</td><td>1</td><td> 4</td><td> 650</td><td> 655</td><td> -5</td><td> 933</td><td>1030</td><td>-57</td><td>DL</td><td>1415</td><td>N397DA</td><td>JFK</td><td>SLC</td><td>265</td><td>1990</td><td> 6</td><td>55</td><td>2013-01-04 06:00:00</td></tr>\n",
              "\t<tr><td>2013</td><td>1</td><td> 4</td><td> 829</td><td> 830</td><td> -1</td><td>1113</td><td>1210</td><td>-57</td><td>UA</td><td>1480</td><td>N36207</td><td>EWR</td><td>SFO</td><td>326</td><td>2565</td><td> 8</td><td>30</td><td>2013-01-04 08:00:00</td></tr>\n",
              "\t<tr><td>2013</td><td>1</td><td> 4</td><td>1657</td><td>1700</td><td> -3</td><td>1952</td><td>2049</td><td>-57</td><td>DL</td><td>  31</td><td>N722TW</td><td>JFK</td><td>SFO</td><td>326</td><td>2586</td><td>17</td><td> 0</td><td>2013-01-04 17:00:00</td></tr>\n",
              "\t<tr><td>2013</td><td>1</td><td>30</td><td>1915</td><td>1915</td><td>  0</td><td>2133</td><td>2230</td><td>-57</td><td>DL</td><td>1729</td><td>N3754A</td><td>JFK</td><td>LAS</td><td>294</td><td>2248</td><td>19</td><td>15</td><td>2013-01-30 19:00:00</td></tr>\n",
              "\t<tr><td>2013</td><td>1</td><td> 3</td><td>1806</td><td>1810</td><td> -4</td><td>2036</td><td>2132</td><td>-56</td><td>B6</td><td> 217</td><td>N559JB</td><td>JFK</td><td>LGB</td><td>293</td><td>2465</td><td>18</td><td>10</td><td>2013-01-03 18:00:00</td></tr>\n",
              "\t<tr><td>2013</td><td>1</td><td> 3</td><td>1919</td><td>1920</td><td> -1</td><td>2219</td><td>2315</td><td>-56</td><td>DL</td><td>1345</td><td>N3769L</td><td>JFK</td><td>PHX</td><td>273</td><td>2153</td><td>19</td><td>20</td><td>2013-01-03 19:00:00</td></tr>\n",
              "\t<tr><td>2013</td><td>1</td><td>14</td><td>1838</td><td>1850</td><td>-12</td><td>2116</td><td>2212</td><td>-56</td><td>DL</td><td>2159</td><td>N384DA</td><td>JFK</td><td>MCO</td><td>135</td><td> 944</td><td>18</td><td>50</td><td>2013-01-14 18:00:00</td></tr>\n",
              "\t<tr><td>2013</td><td>1</td><td> 2</td><td>1240</td><td>1245</td><td> -5</td><td>1521</td><td>1616</td><td>-55</td><td>DL</td><td>2174</td><td>N3751B</td><td>JFK</td><td>SLC</td><td>264</td><td>1990</td><td>12</td><td>45</td><td>2013-01-02 12:00:00</td></tr>\n",
              "\t<tr><td>2013</td><td>1</td><td> 4</td><td>1118</td><td>1130</td><td>-12</td><td>1350</td><td>1445</td><td>-55</td><td>UA</td><td> 703</td><td>N512UA</td><td>JFK</td><td>LAX</td><td>309</td><td>2475</td><td>11</td><td>30</td><td>2013-01-04 11:00:00</td></tr>\n",
              "\t<tr><td>2013</td><td>1</td><td> 8</td><td>1847</td><td>1850</td><td> -3</td><td>2117</td><td>2212</td><td>-55</td><td>DL</td><td>2159</td><td>N386DA</td><td>JFK</td><td>MCO</td><td>132</td><td> 944</td><td>18</td><td>50</td><td>2013-01-08 18:00:00</td></tr>\n",
              "\t<tr><td>2013</td><td>1</td><td>11</td><td>1845</td><td>1850</td><td> -5</td><td>2117</td><td>2212</td><td>-55</td><td>DL</td><td>2159</td><td>N3768 </td><td>JFK</td><td>MCO</td><td>125</td><td> 944</td><td>18</td><td>50</td><td>2013-01-11 18:00:00</td></tr>\n",
              "\t<tr><td>2013</td><td>1</td><td>13</td><td> 723</td><td> 730</td><td> -7</td><td>1020</td><td>1115</td><td>-55</td><td>VX</td><td>  11</td><td>N841VA</td><td>JFK</td><td>SFO</td><td>339</td><td>2586</td><td> 7</td><td>30</td><td>2013-01-13 07:00:00</td></tr>\n",
              "\t<tr><td>⋮</td><td>⋮</td><td>⋮</td><td>⋮</td><td>⋮</td><td>⋮</td><td>⋮</td><td>⋮</td><td>⋮</td><td>⋮</td><td>⋮</td><td>⋮</td><td>⋮</td><td>⋮</td><td>⋮</td><td>⋮</td><td>⋮</td><td>⋮</td><td>⋮</td></tr>\n",
              "\t<tr><td>2013</td><td>12</td><td>30</td><td>  NA</td><td>1635</td><td>NA</td><td> NA</td><td>1825</td><td>NA</td><td>AA</td><td> 343</td><td>N4XVAA</td><td>LGA</td><td>ORD</td><td>NA</td><td> 733</td><td>16</td><td>35</td><td>2013-12-30 16:00:00</td></tr>\n",
              "\t<tr><td>2013</td><td>12</td><td>30</td><td>  NA</td><td> 600</td><td>NA</td><td> NA</td><td> 855</td><td>NA</td><td>B6</td><td> 605</td><td>N708JB</td><td>EWR</td><td>FLL</td><td>NA</td><td>1065</td><td> 6</td><td> 0</td><td>2013-12-30 06:00:00</td></tr>\n",
              "\t<tr><td>2013</td><td>12</td><td>30</td><td>  NA</td><td>1430</td><td>NA</td><td> NA</td><td>1626</td><td>NA</td><td>EV</td><td>4261</td><td>N27200</td><td>LGA</td><td>CLE</td><td>NA</td><td> 419</td><td>14</td><td>30</td><td>2013-12-30 14:00:00</td></tr>\n",
              "\t<tr><td>2013</td><td>12</td><td>30</td><td>  NA</td><td>1350</td><td>NA</td><td> NA</td><td>1602</td><td>NA</td><td>EV</td><td>4193</td><td>N36915</td><td>EWR</td><td>MSP</td><td>NA</td><td>1008</td><td>13</td><td>50</td><td>2013-12-30 13:00:00</td></tr>\n",
              "\t<tr><td>2013</td><td>12</td><td>30</td><td>  NA</td><td>1452</td><td>NA</td><td> NA</td><td>1559</td><td>NA</td><td>EV</td><td>4372</td><td>N14573</td><td>EWR</td><td>DCA</td><td>NA</td><td> 199</td><td>14</td><td>52</td><td>2013-12-30 14:00:00</td></tr>\n",
              "\t<tr><td>2013</td><td>12</td><td>30</td><td>  NA</td><td>1935</td><td>NA</td><td> NA</td><td>2055</td><td>NA</td><td>EV</td><td>5714</td><td>N832AS</td><td>JFK</td><td>IAD</td><td>NA</td><td> 228</td><td>19</td><td>35</td><td>2013-12-30 19:00:00</td></tr>\n",
              "\t<tr><td>2013</td><td>12</td><td>30</td><td>  NA</td><td>1011</td><td>NA</td><td> NA</td><td>1134</td><td>NA</td><td>EV</td><td>6054</td><td>N16919</td><td>EWR</td><td>IAD</td><td>NA</td><td> 212</td><td>10</td><td>11</td><td>2013-12-30 10:00:00</td></tr>\n",
              "\t<tr><td>2013</td><td>12</td><td>30</td><td>  NA</td><td> 605</td><td>NA</td><td> NA</td><td> 723</td><td>NA</td><td>EV</td><td>6177</td><td>N13553</td><td>EWR</td><td>IAD</td><td>NA</td><td> 212</td><td> 6</td><td> 5</td><td>2013-12-30 06:00:00</td></tr>\n",
              "\t<tr><td>2013</td><td>12</td><td>30</td><td>  NA</td><td>1505</td><td>NA</td><td> NA</td><td>1759</td><td>NA</td><td>UA</td><td> 321</td><td>NA    </td><td>EWR</td><td>MCO</td><td>NA</td><td> 937</td><td>15</td><td> 5</td><td>2013-12-30 15:00:00</td></tr>\n",
              "\t<tr><td>2013</td><td>12</td><td>30</td><td>  NA</td><td>1355</td><td>NA</td><td> NA</td><td>1535</td><td>NA</td><td>MQ</td><td>3305</td><td>N821MQ</td><td>LGA</td><td>RDU</td><td>NA</td><td> 431</td><td>13</td><td>55</td><td>2013-12-30 13:00:00</td></tr>\n",
              "\t<tr><td>2013</td><td>12</td><td>30</td><td>  NA</td><td>2100</td><td>NA</td><td> NA</td><td>  48</td><td>NA</td><td>UA</td><td>1081</td><td>NA    </td><td>EWR</td><td>SFO</td><td>NA</td><td>2565</td><td>21</td><td> 0</td><td>2013-12-30 21:00:00</td></tr>\n",
              "\t<tr><td>2013</td><td>12</td><td>30</td><td>  NA</td><td>1221</td><td>NA</td><td> NA</td><td>1545</td><td>NA</td><td>UA</td><td>1297</td><td>NA    </td><td>EWR</td><td>SNA</td><td>NA</td><td>2434</td><td>12</td><td>21</td><td>2013-12-30 12:00:00</td></tr>\n",
              "\t<tr><td>2013</td><td>12</td><td>30</td><td>  NA</td><td> 855</td><td>NA</td><td> NA</td><td>1142</td><td>NA</td><td>UA</td><td>1506</td><td>NA    </td><td>EWR</td><td>JAC</td><td>NA</td><td>1874</td><td> 8</td><td>55</td><td>2013-12-30 08:00:00</td></tr>\n",
              "\t<tr><td>2013</td><td>12</td><td>31</td><td>2155</td><td>2039</td><td>76</td><td>253</td><td>2355</td><td>NA</td><td>B6</td><td>1205</td><td>N627JB</td><td>JFK</td><td>PDX</td><td>NA</td><td>2454</td><td>20</td><td>39</td><td>2013-12-31 20:00:00</td></tr>\n",
              "\t<tr><td>2013</td><td>12</td><td>31</td><td>  NA</td><td>1520</td><td>NA</td><td> NA</td><td>1705</td><td>NA</td><td>AA</td><td> 341</td><td>N568AA</td><td>LGA</td><td>ORD</td><td>NA</td><td> 733</td><td>15</td><td>20</td><td>2013-12-31 15:00:00</td></tr>\n",
              "\t<tr><td>2013</td><td>12</td><td>31</td><td>  NA</td><td>2025</td><td>NA</td><td> NA</td><td>2205</td><td>NA</td><td>AA</td><td> 371</td><td>N482AA</td><td>LGA</td><td>ORD</td><td>NA</td><td> 733</td><td>20</td><td>25</td><td>2013-12-31 20:00:00</td></tr>\n",
              "\t<tr><td>2013</td><td>12</td><td>31</td><td>  NA</td><td>1932</td><td>NA</td><td> NA</td><td>2305</td><td>NA</td><td>B6</td><td> 161</td><td>N516JB</td><td>JFK</td><td>SMF</td><td>NA</td><td>2521</td><td>19</td><td>32</td><td>2013-12-31 19:00:00</td></tr>\n",
              "\t<tr><td>2013</td><td>12</td><td>31</td><td>  NA</td><td>1505</td><td>NA</td><td> NA</td><td>1725</td><td>NA</td><td>EV</td><td>4181</td><td>N24103</td><td>EWR</td><td>MCI</td><td>NA</td><td>1092</td><td>15</td><td> 5</td><td>2013-12-31 15:00:00</td></tr>\n",
              "\t<tr><td>2013</td><td>12</td><td>31</td><td>  NA</td><td>1000</td><td>NA</td><td> NA</td><td>1252</td><td>NA</td><td>UA</td><td>1124</td><td>NA    </td><td>EWR</td><td>EGE</td><td>NA</td><td>1725</td><td>10</td><td> 0</td><td>2013-12-31 10:00:00</td></tr>\n",
              "\t<tr><td>2013</td><td>12</td><td>31</td><td>  NA</td><td> 840</td><td>NA</td><td> NA</td><td>1205</td><td>NA</td><td>UA</td><td>1151</td><td>NA    </td><td>EWR</td><td>SEA</td><td>NA</td><td>2402</td><td> 8</td><td>40</td><td>2013-12-31 08:00:00</td></tr>\n",
              "\t<tr><td>2013</td><td>12</td><td>31</td><td>  NA</td><td> 754</td><td>NA</td><td> NA</td><td>1118</td><td>NA</td><td>UA</td><td>1455</td><td>NA    </td><td>EWR</td><td>LAX</td><td>NA</td><td>2454</td><td> 7</td><td>54</td><td>2013-12-31 07:00:00</td></tr>\n",
              "\t<tr><td>2013</td><td>12</td><td>31</td><td>  NA</td><td>2000</td><td>NA</td><td> NA</td><td>2146</td><td>NA</td><td>UA</td><td>1482</td><td>NA    </td><td>EWR</td><td>ORD</td><td>NA</td><td> 719</td><td>20</td><td> 0</td><td>2013-12-31 20:00:00</td></tr>\n",
              "\t<tr><td>2013</td><td>12</td><td>31</td><td>  NA</td><td>1500</td><td>NA</td><td> NA</td><td>1817</td><td>NA</td><td>UA</td><td>1483</td><td>NA    </td><td>EWR</td><td>AUS</td><td>NA</td><td>1504</td><td>15</td><td> 0</td><td>2013-12-31 15:00:00</td></tr>\n",
              "\t<tr><td>2013</td><td>12</td><td>31</td><td>  NA</td><td>1430</td><td>NA</td><td> NA</td><td>1750</td><td>NA</td><td>UA</td><td>1493</td><td>NA    </td><td>EWR</td><td>LAX</td><td>NA</td><td>2454</td><td>14</td><td>30</td><td>2013-12-31 14:00:00</td></tr>\n",
              "\t<tr><td>2013</td><td>12</td><td>31</td><td>  NA</td><td> 855</td><td>NA</td><td> NA</td><td>1142</td><td>NA</td><td>UA</td><td>1506</td><td>NA    </td><td>EWR</td><td>JAC</td><td>NA</td><td>1874</td><td> 8</td><td>55</td><td>2013-12-31 08:00:00</td></tr>\n",
              "\t<tr><td>2013</td><td>12</td><td>31</td><td>  NA</td><td> 705</td><td>NA</td><td> NA</td><td> 931</td><td>NA</td><td>UA</td><td>1729</td><td>NA    </td><td>EWR</td><td>DEN</td><td>NA</td><td>1605</td><td> 7</td><td> 5</td><td>2013-12-31 07:00:00</td></tr>\n",
              "\t<tr><td>2013</td><td>12</td><td>31</td><td>  NA</td><td> 825</td><td>NA</td><td> NA</td><td>1029</td><td>NA</td><td>US</td><td>1831</td><td>NA    </td><td>JFK</td><td>CLT</td><td>NA</td><td> 541</td><td> 8</td><td>25</td><td>2013-12-31 08:00:00</td></tr>\n",
              "\t<tr><td>2013</td><td>12</td><td>31</td><td>  NA</td><td>1615</td><td>NA</td><td> NA</td><td>1800</td><td>NA</td><td>MQ</td><td>3301</td><td>N844MQ</td><td>LGA</td><td>RDU</td><td>NA</td><td> 431</td><td>16</td><td>15</td><td>2013-12-31 16:00:00</td></tr>\n",
              "\t<tr><td>2013</td><td>12</td><td>31</td><td>  NA</td><td> 600</td><td>NA</td><td> NA</td><td> 735</td><td>NA</td><td>UA</td><td> 219</td><td>NA    </td><td>EWR</td><td>ORD</td><td>NA</td><td> 719</td><td> 6</td><td> 0</td><td>2013-12-31 06:00:00</td></tr>\n",
              "\t<tr><td>2013</td><td>12</td><td>31</td><td>  NA</td><td> 830</td><td>NA</td><td> NA</td><td>1154</td><td>NA</td><td>UA</td><td> 443</td><td>NA    </td><td>JFK</td><td>LAX</td><td>NA</td><td>2475</td><td> 8</td><td>30</td><td>2013-12-31 08:00:00</td></tr>\n",
              "</tbody>\n",
              "</table>\n"
            ],
            "text/markdown": "\nA data.frame: 336776 × 19\n\n| year &lt;int&gt; | month &lt;int&gt; | day &lt;int&gt; | dep_time &lt;int&gt; | sched_dep_time &lt;int&gt; | dep_delay &lt;int&gt; | arr_time &lt;int&gt; | sched_arr_time &lt;int&gt; | arr_delay &lt;int&gt; | carrier &lt;chr&gt; | flight &lt;int&gt; | tailnum &lt;chr&gt; | origin &lt;chr&gt; | dest &lt;chr&gt; | air_time &lt;int&gt; | distance &lt;int&gt; | hour &lt;int&gt; | minute &lt;int&gt; | time_hour &lt;chr&gt; |\n|---|---|---|---|---|---|---|---|---|---|---|---|---|---|---|---|---|---|---|\n| 2013 | 1 |  4 | 1026 | 1030 |  -4 | 1305 | 1415 | -70 | VX |   23 | N855VA | JFK | SFO | 324 | 2586 | 10 | 30 | 2013-01-04 10:00:00 |\n| 2013 | 1 |  3 |  941 |  945 |  -4 | 1153 | 1258 | -65 | B6 |  679 | N789JB | JFK | LAX | 297 | 2475 |  9 | 45 | 2013-01-03 09:00:00 |\n| 2013 | 1 | 14 | 1840 | 1845 |  -5 | 2117 | 2221 | -64 | DL | 2190 | N324US | JFK | MIA | 146 | 1089 | 18 | 45 | 2013-01-14 18:00:00 |\n| 2013 | 1 |  3 | 1153 | 1200 |  -7 | 1442 | 1545 | -63 | VX |   25 | N847VA | JFK | SFO | 333 | 2586 | 12 |  0 | 2013-01-03 12:00:00 |\n| 2013 | 1 |  3 | 1228 | 1235 |  -7 | 1503 | 1606 | -63 | DL | 2174 | N389DA | JFK | SLC | 260 | 1990 | 12 | 35 | 2013-01-03 12:00:00 |\n| 2013 | 1 | 27 | 1845 | 1850 |  -5 | 2110 | 2212 | -62 | DL | 2159 | N398DA | JFK | MCO | 127 |  944 | 18 | 50 | 2013-01-27 18:00:00 |\n| 2013 | 1 |  3 | 1605 | 1610 |  -5 | 1816 | 1917 | -61 | DL |   91 | N3740C | JFK | LAS | 282 | 2248 | 16 | 10 | 2013-01-03 16:00:00 |\n| 2013 | 1 |  3 | 1857 | 1900 |  -3 | 2200 | 2301 | -61 | DL | 1465 | N722TW | JFK | SFO | 329 | 2586 | 19 |  0 | 2013-01-03 19:00:00 |\n| 2013 | 1 |  4 | 1219 | 1221 |  -2 | 1454 | 1555 | -61 | UA |  551 | N830UA | EWR | SFO | 313 | 2565 | 12 | 21 | 2013-01-04 12:00:00 |\n| 2013 | 1 |  6 |  812 |  819 |  -7 | 1102 | 1203 | -61 | UA |  665 | N805UA | EWR | SFO | 336 | 2565 |  8 | 19 | 2013-01-06 08:00:00 |\n| 2013 | 1 | 12 |  913 |  920 |  -7 | 1347 | 1448 | -61 | DL |  675 | N711ZX | JFK | STT | 181 | 1623 |  9 | 20 | 2013-01-12 09:00:00 |\n| 2013 | 1 |  3 | 1920 | 1920 |   0 | 2158 | 2258 | -60 | DL |    6 | N3768  | JFK | SLC | 250 | 1990 | 19 | 20 | 2013-01-03 19:00:00 |\n| 2013 | 1 |  2 |  654 |  700 |  -6 |  946 | 1045 | -59 | DL | 1865 | N711ZX | JFK | SFO | 323 | 2586 |  7 |  0 | 2013-01-02 07:00:00 |\n| 2013 | 1 |  3 | 1626 | 1630 |  -4 | 1853 | 1952 | -59 | B6 |  675 | N652JB | JFK | LAX | 301 | 2475 | 16 | 30 | 2013-01-03 16:00:00 |\n| 2013 | 1 | 27 | 1839 | 1845 |  -6 | 2038 | 2137 | -59 | 9E | 3369 | N919XJ | JFK | MSY | 166 | 1182 | 18 | 45 | 2013-01-27 18:00:00 |\n| 2013 | 1 | 26 | 1651 | 1659 |  -8 | 1946 | 2044 | -58 | 9E | 3375 | N930XJ | JFK | SAT | 214 | 1587 | 16 | 59 | 2013-01-26 16:00:00 |\n| 2013 | 1 |  2 |  857 |  900 |  -3 | 1130 | 1227 | -57 | DL |  120 | N710TW | JFK | LAX | 310 | 2475 |  9 |  0 | 2013-01-02 09:00:00 |\n| 2013 | 1 |  3 | 1957 | 1945 |  12 | 2232 | 2329 | -57 | B6 |  645 | N793JB | JFK | SFO | 315 | 2586 | 19 | 45 | 2013-01-03 19:00:00 |\n| 2013 | 1 |  4 |  650 |  655 |  -5 |  933 | 1030 | -57 | DL | 1415 | N397DA | JFK | SLC | 265 | 1990 |  6 | 55 | 2013-01-04 06:00:00 |\n| 2013 | 1 |  4 |  829 |  830 |  -1 | 1113 | 1210 | -57 | UA | 1480 | N36207 | EWR | SFO | 326 | 2565 |  8 | 30 | 2013-01-04 08:00:00 |\n| 2013 | 1 |  4 | 1657 | 1700 |  -3 | 1952 | 2049 | -57 | DL |   31 | N722TW | JFK | SFO | 326 | 2586 | 17 |  0 | 2013-01-04 17:00:00 |\n| 2013 | 1 | 30 | 1915 | 1915 |   0 | 2133 | 2230 | -57 | DL | 1729 | N3754A | JFK | LAS | 294 | 2248 | 19 | 15 | 2013-01-30 19:00:00 |\n| 2013 | 1 |  3 | 1806 | 1810 |  -4 | 2036 | 2132 | -56 | B6 |  217 | N559JB | JFK | LGB | 293 | 2465 | 18 | 10 | 2013-01-03 18:00:00 |\n| 2013 | 1 |  3 | 1919 | 1920 |  -1 | 2219 | 2315 | -56 | DL | 1345 | N3769L | JFK | PHX | 273 | 2153 | 19 | 20 | 2013-01-03 19:00:00 |\n| 2013 | 1 | 14 | 1838 | 1850 | -12 | 2116 | 2212 | -56 | DL | 2159 | N384DA | JFK | MCO | 135 |  944 | 18 | 50 | 2013-01-14 18:00:00 |\n| 2013 | 1 |  2 | 1240 | 1245 |  -5 | 1521 | 1616 | -55 | DL | 2174 | N3751B | JFK | SLC | 264 | 1990 | 12 | 45 | 2013-01-02 12:00:00 |\n| 2013 | 1 |  4 | 1118 | 1130 | -12 | 1350 | 1445 | -55 | UA |  703 | N512UA | JFK | LAX | 309 | 2475 | 11 | 30 | 2013-01-04 11:00:00 |\n| 2013 | 1 |  8 | 1847 | 1850 |  -3 | 2117 | 2212 | -55 | DL | 2159 | N386DA | JFK | MCO | 132 |  944 | 18 | 50 | 2013-01-08 18:00:00 |\n| 2013 | 1 | 11 | 1845 | 1850 |  -5 | 2117 | 2212 | -55 | DL | 2159 | N3768  | JFK | MCO | 125 |  944 | 18 | 50 | 2013-01-11 18:00:00 |\n| 2013 | 1 | 13 |  723 |  730 |  -7 | 1020 | 1115 | -55 | VX |   11 | N841VA | JFK | SFO | 339 | 2586 |  7 | 30 | 2013-01-13 07:00:00 |\n| ⋮ | ⋮ | ⋮ | ⋮ | ⋮ | ⋮ | ⋮ | ⋮ | ⋮ | ⋮ | ⋮ | ⋮ | ⋮ | ⋮ | ⋮ | ⋮ | ⋮ | ⋮ | ⋮ |\n| 2013 | 12 | 30 |   NA | 1635 | NA |  NA | 1825 | NA | AA |  343 | N4XVAA | LGA | ORD | NA |  733 | 16 | 35 | 2013-12-30 16:00:00 |\n| 2013 | 12 | 30 |   NA |  600 | NA |  NA |  855 | NA | B6 |  605 | N708JB | EWR | FLL | NA | 1065 |  6 |  0 | 2013-12-30 06:00:00 |\n| 2013 | 12 | 30 |   NA | 1430 | NA |  NA | 1626 | NA | EV | 4261 | N27200 | LGA | CLE | NA |  419 | 14 | 30 | 2013-12-30 14:00:00 |\n| 2013 | 12 | 30 |   NA | 1350 | NA |  NA | 1602 | NA | EV | 4193 | N36915 | EWR | MSP | NA | 1008 | 13 | 50 | 2013-12-30 13:00:00 |\n| 2013 | 12 | 30 |   NA | 1452 | NA |  NA | 1559 | NA | EV | 4372 | N14573 | EWR | DCA | NA |  199 | 14 | 52 | 2013-12-30 14:00:00 |\n| 2013 | 12 | 30 |   NA | 1935 | NA |  NA | 2055 | NA | EV | 5714 | N832AS | JFK | IAD | NA |  228 | 19 | 35 | 2013-12-30 19:00:00 |\n| 2013 | 12 | 30 |   NA | 1011 | NA |  NA | 1134 | NA | EV | 6054 | N16919 | EWR | IAD | NA |  212 | 10 | 11 | 2013-12-30 10:00:00 |\n| 2013 | 12 | 30 |   NA |  605 | NA |  NA |  723 | NA | EV | 6177 | N13553 | EWR | IAD | NA |  212 |  6 |  5 | 2013-12-30 06:00:00 |\n| 2013 | 12 | 30 |   NA | 1505 | NA |  NA | 1759 | NA | UA |  321 | NA     | EWR | MCO | NA |  937 | 15 |  5 | 2013-12-30 15:00:00 |\n| 2013 | 12 | 30 |   NA | 1355 | NA |  NA | 1535 | NA | MQ | 3305 | N821MQ | LGA | RDU | NA |  431 | 13 | 55 | 2013-12-30 13:00:00 |\n| 2013 | 12 | 30 |   NA | 2100 | NA |  NA |   48 | NA | UA | 1081 | NA     | EWR | SFO | NA | 2565 | 21 |  0 | 2013-12-30 21:00:00 |\n| 2013 | 12 | 30 |   NA | 1221 | NA |  NA | 1545 | NA | UA | 1297 | NA     | EWR | SNA | NA | 2434 | 12 | 21 | 2013-12-30 12:00:00 |\n| 2013 | 12 | 30 |   NA |  855 | NA |  NA | 1142 | NA | UA | 1506 | NA     | EWR | JAC | NA | 1874 |  8 | 55 | 2013-12-30 08:00:00 |\n| 2013 | 12 | 31 | 2155 | 2039 | 76 | 253 | 2355 | NA | B6 | 1205 | N627JB | JFK | PDX | NA | 2454 | 20 | 39 | 2013-12-31 20:00:00 |\n| 2013 | 12 | 31 |   NA | 1520 | NA |  NA | 1705 | NA | AA |  341 | N568AA | LGA | ORD | NA |  733 | 15 | 20 | 2013-12-31 15:00:00 |\n| 2013 | 12 | 31 |   NA | 2025 | NA |  NA | 2205 | NA | AA |  371 | N482AA | LGA | ORD | NA |  733 | 20 | 25 | 2013-12-31 20:00:00 |\n| 2013 | 12 | 31 |   NA | 1932 | NA |  NA | 2305 | NA | B6 |  161 | N516JB | JFK | SMF | NA | 2521 | 19 | 32 | 2013-12-31 19:00:00 |\n| 2013 | 12 | 31 |   NA | 1505 | NA |  NA | 1725 | NA | EV | 4181 | N24103 | EWR | MCI | NA | 1092 | 15 |  5 | 2013-12-31 15:00:00 |\n| 2013 | 12 | 31 |   NA | 1000 | NA |  NA | 1252 | NA | UA | 1124 | NA     | EWR | EGE | NA | 1725 | 10 |  0 | 2013-12-31 10:00:00 |\n| 2013 | 12 | 31 |   NA |  840 | NA |  NA | 1205 | NA | UA | 1151 | NA     | EWR | SEA | NA | 2402 |  8 | 40 | 2013-12-31 08:00:00 |\n| 2013 | 12 | 31 |   NA |  754 | NA |  NA | 1118 | NA | UA | 1455 | NA     | EWR | LAX | NA | 2454 |  7 | 54 | 2013-12-31 07:00:00 |\n| 2013 | 12 | 31 |   NA | 2000 | NA |  NA | 2146 | NA | UA | 1482 | NA     | EWR | ORD | NA |  719 | 20 |  0 | 2013-12-31 20:00:00 |\n| 2013 | 12 | 31 |   NA | 1500 | NA |  NA | 1817 | NA | UA | 1483 | NA     | EWR | AUS | NA | 1504 | 15 |  0 | 2013-12-31 15:00:00 |\n| 2013 | 12 | 31 |   NA | 1430 | NA |  NA | 1750 | NA | UA | 1493 | NA     | EWR | LAX | NA | 2454 | 14 | 30 | 2013-12-31 14:00:00 |\n| 2013 | 12 | 31 |   NA |  855 | NA |  NA | 1142 | NA | UA | 1506 | NA     | EWR | JAC | NA | 1874 |  8 | 55 | 2013-12-31 08:00:00 |\n| 2013 | 12 | 31 |   NA |  705 | NA |  NA |  931 | NA | UA | 1729 | NA     | EWR | DEN | NA | 1605 |  7 |  5 | 2013-12-31 07:00:00 |\n| 2013 | 12 | 31 |   NA |  825 | NA |  NA | 1029 | NA | US | 1831 | NA     | JFK | CLT | NA |  541 |  8 | 25 | 2013-12-31 08:00:00 |\n| 2013 | 12 | 31 |   NA | 1615 | NA |  NA | 1800 | NA | MQ | 3301 | N844MQ | LGA | RDU | NA |  431 | 16 | 15 | 2013-12-31 16:00:00 |\n| 2013 | 12 | 31 |   NA |  600 | NA |  NA |  735 | NA | UA |  219 | NA     | EWR | ORD | NA |  719 |  6 |  0 | 2013-12-31 06:00:00 |\n| 2013 | 12 | 31 |   NA |  830 | NA |  NA | 1154 | NA | UA |  443 | NA     | JFK | LAX | NA | 2475 |  8 | 30 | 2013-12-31 08:00:00 |\n\n",
            "text/latex": "A data.frame: 336776 × 19\n\\begin{tabular}{lllllllllllllllllll}\n year & month & day & dep\\_time & sched\\_dep\\_time & dep\\_delay & arr\\_time & sched\\_arr\\_time & arr\\_delay & carrier & flight & tailnum & origin & dest & air\\_time & distance & hour & minute & time\\_hour\\\\\n <int> & <int> & <int> & <int> & <int> & <int> & <int> & <int> & <int> & <chr> & <int> & <chr> & <chr> & <chr> & <int> & <int> & <int> & <int> & <chr>\\\\\n\\hline\n\t 2013 & 1 &  4 & 1026 & 1030 &  -4 & 1305 & 1415 & -70 & VX &   23 & N855VA & JFK & SFO & 324 & 2586 & 10 & 30 & 2013-01-04 10:00:00\\\\\n\t 2013 & 1 &  3 &  941 &  945 &  -4 & 1153 & 1258 & -65 & B6 &  679 & N789JB & JFK & LAX & 297 & 2475 &  9 & 45 & 2013-01-03 09:00:00\\\\\n\t 2013 & 1 & 14 & 1840 & 1845 &  -5 & 2117 & 2221 & -64 & DL & 2190 & N324US & JFK & MIA & 146 & 1089 & 18 & 45 & 2013-01-14 18:00:00\\\\\n\t 2013 & 1 &  3 & 1153 & 1200 &  -7 & 1442 & 1545 & -63 & VX &   25 & N847VA & JFK & SFO & 333 & 2586 & 12 &  0 & 2013-01-03 12:00:00\\\\\n\t 2013 & 1 &  3 & 1228 & 1235 &  -7 & 1503 & 1606 & -63 & DL & 2174 & N389DA & JFK & SLC & 260 & 1990 & 12 & 35 & 2013-01-03 12:00:00\\\\\n\t 2013 & 1 & 27 & 1845 & 1850 &  -5 & 2110 & 2212 & -62 & DL & 2159 & N398DA & JFK & MCO & 127 &  944 & 18 & 50 & 2013-01-27 18:00:00\\\\\n\t 2013 & 1 &  3 & 1605 & 1610 &  -5 & 1816 & 1917 & -61 & DL &   91 & N3740C & JFK & LAS & 282 & 2248 & 16 & 10 & 2013-01-03 16:00:00\\\\\n\t 2013 & 1 &  3 & 1857 & 1900 &  -3 & 2200 & 2301 & -61 & DL & 1465 & N722TW & JFK & SFO & 329 & 2586 & 19 &  0 & 2013-01-03 19:00:00\\\\\n\t 2013 & 1 &  4 & 1219 & 1221 &  -2 & 1454 & 1555 & -61 & UA &  551 & N830UA & EWR & SFO & 313 & 2565 & 12 & 21 & 2013-01-04 12:00:00\\\\\n\t 2013 & 1 &  6 &  812 &  819 &  -7 & 1102 & 1203 & -61 & UA &  665 & N805UA & EWR & SFO & 336 & 2565 &  8 & 19 & 2013-01-06 08:00:00\\\\\n\t 2013 & 1 & 12 &  913 &  920 &  -7 & 1347 & 1448 & -61 & DL &  675 & N711ZX & JFK & STT & 181 & 1623 &  9 & 20 & 2013-01-12 09:00:00\\\\\n\t 2013 & 1 &  3 & 1920 & 1920 &   0 & 2158 & 2258 & -60 & DL &    6 & N3768  & JFK & SLC & 250 & 1990 & 19 & 20 & 2013-01-03 19:00:00\\\\\n\t 2013 & 1 &  2 &  654 &  700 &  -6 &  946 & 1045 & -59 & DL & 1865 & N711ZX & JFK & SFO & 323 & 2586 &  7 &  0 & 2013-01-02 07:00:00\\\\\n\t 2013 & 1 &  3 & 1626 & 1630 &  -4 & 1853 & 1952 & -59 & B6 &  675 & N652JB & JFK & LAX & 301 & 2475 & 16 & 30 & 2013-01-03 16:00:00\\\\\n\t 2013 & 1 & 27 & 1839 & 1845 &  -6 & 2038 & 2137 & -59 & 9E & 3369 & N919XJ & JFK & MSY & 166 & 1182 & 18 & 45 & 2013-01-27 18:00:00\\\\\n\t 2013 & 1 & 26 & 1651 & 1659 &  -8 & 1946 & 2044 & -58 & 9E & 3375 & N930XJ & JFK & SAT & 214 & 1587 & 16 & 59 & 2013-01-26 16:00:00\\\\\n\t 2013 & 1 &  2 &  857 &  900 &  -3 & 1130 & 1227 & -57 & DL &  120 & N710TW & JFK & LAX & 310 & 2475 &  9 &  0 & 2013-01-02 09:00:00\\\\\n\t 2013 & 1 &  3 & 1957 & 1945 &  12 & 2232 & 2329 & -57 & B6 &  645 & N793JB & JFK & SFO & 315 & 2586 & 19 & 45 & 2013-01-03 19:00:00\\\\\n\t 2013 & 1 &  4 &  650 &  655 &  -5 &  933 & 1030 & -57 & DL & 1415 & N397DA & JFK & SLC & 265 & 1990 &  6 & 55 & 2013-01-04 06:00:00\\\\\n\t 2013 & 1 &  4 &  829 &  830 &  -1 & 1113 & 1210 & -57 & UA & 1480 & N36207 & EWR & SFO & 326 & 2565 &  8 & 30 & 2013-01-04 08:00:00\\\\\n\t 2013 & 1 &  4 & 1657 & 1700 &  -3 & 1952 & 2049 & -57 & DL &   31 & N722TW & JFK & SFO & 326 & 2586 & 17 &  0 & 2013-01-04 17:00:00\\\\\n\t 2013 & 1 & 30 & 1915 & 1915 &   0 & 2133 & 2230 & -57 & DL & 1729 & N3754A & JFK & LAS & 294 & 2248 & 19 & 15 & 2013-01-30 19:00:00\\\\\n\t 2013 & 1 &  3 & 1806 & 1810 &  -4 & 2036 & 2132 & -56 & B6 &  217 & N559JB & JFK & LGB & 293 & 2465 & 18 & 10 & 2013-01-03 18:00:00\\\\\n\t 2013 & 1 &  3 & 1919 & 1920 &  -1 & 2219 & 2315 & -56 & DL & 1345 & N3769L & JFK & PHX & 273 & 2153 & 19 & 20 & 2013-01-03 19:00:00\\\\\n\t 2013 & 1 & 14 & 1838 & 1850 & -12 & 2116 & 2212 & -56 & DL & 2159 & N384DA & JFK & MCO & 135 &  944 & 18 & 50 & 2013-01-14 18:00:00\\\\\n\t 2013 & 1 &  2 & 1240 & 1245 &  -5 & 1521 & 1616 & -55 & DL & 2174 & N3751B & JFK & SLC & 264 & 1990 & 12 & 45 & 2013-01-02 12:00:00\\\\\n\t 2013 & 1 &  4 & 1118 & 1130 & -12 & 1350 & 1445 & -55 & UA &  703 & N512UA & JFK & LAX & 309 & 2475 & 11 & 30 & 2013-01-04 11:00:00\\\\\n\t 2013 & 1 &  8 & 1847 & 1850 &  -3 & 2117 & 2212 & -55 & DL & 2159 & N386DA & JFK & MCO & 132 &  944 & 18 & 50 & 2013-01-08 18:00:00\\\\\n\t 2013 & 1 & 11 & 1845 & 1850 &  -5 & 2117 & 2212 & -55 & DL & 2159 & N3768  & JFK & MCO & 125 &  944 & 18 & 50 & 2013-01-11 18:00:00\\\\\n\t 2013 & 1 & 13 &  723 &  730 &  -7 & 1020 & 1115 & -55 & VX &   11 & N841VA & JFK & SFO & 339 & 2586 &  7 & 30 & 2013-01-13 07:00:00\\\\\n\t ⋮ & ⋮ & ⋮ & ⋮ & ⋮ & ⋮ & ⋮ & ⋮ & ⋮ & ⋮ & ⋮ & ⋮ & ⋮ & ⋮ & ⋮ & ⋮ & ⋮ & ⋮ & ⋮\\\\\n\t 2013 & 12 & 30 &   NA & 1635 & NA &  NA & 1825 & NA & AA &  343 & N4XVAA & LGA & ORD & NA &  733 & 16 & 35 & 2013-12-30 16:00:00\\\\\n\t 2013 & 12 & 30 &   NA &  600 & NA &  NA &  855 & NA & B6 &  605 & N708JB & EWR & FLL & NA & 1065 &  6 &  0 & 2013-12-30 06:00:00\\\\\n\t 2013 & 12 & 30 &   NA & 1430 & NA &  NA & 1626 & NA & EV & 4261 & N27200 & LGA & CLE & NA &  419 & 14 & 30 & 2013-12-30 14:00:00\\\\\n\t 2013 & 12 & 30 &   NA & 1350 & NA &  NA & 1602 & NA & EV & 4193 & N36915 & EWR & MSP & NA & 1008 & 13 & 50 & 2013-12-30 13:00:00\\\\\n\t 2013 & 12 & 30 &   NA & 1452 & NA &  NA & 1559 & NA & EV & 4372 & N14573 & EWR & DCA & NA &  199 & 14 & 52 & 2013-12-30 14:00:00\\\\\n\t 2013 & 12 & 30 &   NA & 1935 & NA &  NA & 2055 & NA & EV & 5714 & N832AS & JFK & IAD & NA &  228 & 19 & 35 & 2013-12-30 19:00:00\\\\\n\t 2013 & 12 & 30 &   NA & 1011 & NA &  NA & 1134 & NA & EV & 6054 & N16919 & EWR & IAD & NA &  212 & 10 & 11 & 2013-12-30 10:00:00\\\\\n\t 2013 & 12 & 30 &   NA &  605 & NA &  NA &  723 & NA & EV & 6177 & N13553 & EWR & IAD & NA &  212 &  6 &  5 & 2013-12-30 06:00:00\\\\\n\t 2013 & 12 & 30 &   NA & 1505 & NA &  NA & 1759 & NA & UA &  321 & NA     & EWR & MCO & NA &  937 & 15 &  5 & 2013-12-30 15:00:00\\\\\n\t 2013 & 12 & 30 &   NA & 1355 & NA &  NA & 1535 & NA & MQ & 3305 & N821MQ & LGA & RDU & NA &  431 & 13 & 55 & 2013-12-30 13:00:00\\\\\n\t 2013 & 12 & 30 &   NA & 2100 & NA &  NA &   48 & NA & UA & 1081 & NA     & EWR & SFO & NA & 2565 & 21 &  0 & 2013-12-30 21:00:00\\\\\n\t 2013 & 12 & 30 &   NA & 1221 & NA &  NA & 1545 & NA & UA & 1297 & NA     & EWR & SNA & NA & 2434 & 12 & 21 & 2013-12-30 12:00:00\\\\\n\t 2013 & 12 & 30 &   NA &  855 & NA &  NA & 1142 & NA & UA & 1506 & NA     & EWR & JAC & NA & 1874 &  8 & 55 & 2013-12-30 08:00:00\\\\\n\t 2013 & 12 & 31 & 2155 & 2039 & 76 & 253 & 2355 & NA & B6 & 1205 & N627JB & JFK & PDX & NA & 2454 & 20 & 39 & 2013-12-31 20:00:00\\\\\n\t 2013 & 12 & 31 &   NA & 1520 & NA &  NA & 1705 & NA & AA &  341 & N568AA & LGA & ORD & NA &  733 & 15 & 20 & 2013-12-31 15:00:00\\\\\n\t 2013 & 12 & 31 &   NA & 2025 & NA &  NA & 2205 & NA & AA &  371 & N482AA & LGA & ORD & NA &  733 & 20 & 25 & 2013-12-31 20:00:00\\\\\n\t 2013 & 12 & 31 &   NA & 1932 & NA &  NA & 2305 & NA & B6 &  161 & N516JB & JFK & SMF & NA & 2521 & 19 & 32 & 2013-12-31 19:00:00\\\\\n\t 2013 & 12 & 31 &   NA & 1505 & NA &  NA & 1725 & NA & EV & 4181 & N24103 & EWR & MCI & NA & 1092 & 15 &  5 & 2013-12-31 15:00:00\\\\\n\t 2013 & 12 & 31 &   NA & 1000 & NA &  NA & 1252 & NA & UA & 1124 & NA     & EWR & EGE & NA & 1725 & 10 &  0 & 2013-12-31 10:00:00\\\\\n\t 2013 & 12 & 31 &   NA &  840 & NA &  NA & 1205 & NA & UA & 1151 & NA     & EWR & SEA & NA & 2402 &  8 & 40 & 2013-12-31 08:00:00\\\\\n\t 2013 & 12 & 31 &   NA &  754 & NA &  NA & 1118 & NA & UA & 1455 & NA     & EWR & LAX & NA & 2454 &  7 & 54 & 2013-12-31 07:00:00\\\\\n\t 2013 & 12 & 31 &   NA & 2000 & NA &  NA & 2146 & NA & UA & 1482 & NA     & EWR & ORD & NA &  719 & 20 &  0 & 2013-12-31 20:00:00\\\\\n\t 2013 & 12 & 31 &   NA & 1500 & NA &  NA & 1817 & NA & UA & 1483 & NA     & EWR & AUS & NA & 1504 & 15 &  0 & 2013-12-31 15:00:00\\\\\n\t 2013 & 12 & 31 &   NA & 1430 & NA &  NA & 1750 & NA & UA & 1493 & NA     & EWR & LAX & NA & 2454 & 14 & 30 & 2013-12-31 14:00:00\\\\\n\t 2013 & 12 & 31 &   NA &  855 & NA &  NA & 1142 & NA & UA & 1506 & NA     & EWR & JAC & NA & 1874 &  8 & 55 & 2013-12-31 08:00:00\\\\\n\t 2013 & 12 & 31 &   NA &  705 & NA &  NA &  931 & NA & UA & 1729 & NA     & EWR & DEN & NA & 1605 &  7 &  5 & 2013-12-31 07:00:00\\\\\n\t 2013 & 12 & 31 &   NA &  825 & NA &  NA & 1029 & NA & US & 1831 & NA     & JFK & CLT & NA &  541 &  8 & 25 & 2013-12-31 08:00:00\\\\\n\t 2013 & 12 & 31 &   NA & 1615 & NA &  NA & 1800 & NA & MQ & 3301 & N844MQ & LGA & RDU & NA &  431 & 16 & 15 & 2013-12-31 16:00:00\\\\\n\t 2013 & 12 & 31 &   NA &  600 & NA &  NA &  735 & NA & UA &  219 & NA     & EWR & ORD & NA &  719 &  6 &  0 & 2013-12-31 06:00:00\\\\\n\t 2013 & 12 & 31 &   NA &  830 & NA &  NA & 1154 & NA & UA &  443 & NA     & JFK & LAX & NA & 2475 &  8 & 30 & 2013-12-31 08:00:00\\\\\n\\end{tabular}\n",
            "text/plain": [
              "       year month day dep_time sched_dep_time dep_delay arr_time sched_arr_time\n",
              "1      2013 1      4  1026     1030            -4       1305     1415          \n",
              "2      2013 1      3   941      945            -4       1153     1258          \n",
              "3      2013 1     14  1840     1845            -5       2117     2221          \n",
              "4      2013 1      3  1153     1200            -7       1442     1545          \n",
              "5      2013 1      3  1228     1235            -7       1503     1606          \n",
              "6      2013 1     27  1845     1850            -5       2110     2212          \n",
              "7      2013 1      3  1605     1610            -5       1816     1917          \n",
              "8      2013 1      3  1857     1900            -3       2200     2301          \n",
              "9      2013 1      4  1219     1221            -2       1454     1555          \n",
              "10     2013 1      6   812      819            -7       1102     1203          \n",
              "11     2013 1     12   913      920            -7       1347     1448          \n",
              "12     2013 1      3  1920     1920             0       2158     2258          \n",
              "13     2013 1      2   654      700            -6        946     1045          \n",
              "14     2013 1      3  1626     1630            -4       1853     1952          \n",
              "15     2013 1     27  1839     1845            -6       2038     2137          \n",
              "16     2013 1     26  1651     1659            -8       1946     2044          \n",
              "17     2013 1      2   857      900            -3       1130     1227          \n",
              "18     2013 1      3  1957     1945            12       2232     2329          \n",
              "19     2013 1      4   650      655            -5        933     1030          \n",
              "20     2013 1      4   829      830            -1       1113     1210          \n",
              "21     2013 1      4  1657     1700            -3       1952     2049          \n",
              "22     2013 1     30  1915     1915             0       2133     2230          \n",
              "23     2013 1      3  1806     1810            -4       2036     2132          \n",
              "24     2013 1      3  1919     1920            -1       2219     2315          \n",
              "25     2013 1     14  1838     1850           -12       2116     2212          \n",
              "26     2013 1      2  1240     1245            -5       1521     1616          \n",
              "27     2013 1      4  1118     1130           -12       1350     1445          \n",
              "28     2013 1      8  1847     1850            -3       2117     2212          \n",
              "29     2013 1     11  1845     1850            -5       2117     2212          \n",
              "30     2013 1     13   723      730            -7       1020     1115          \n",
              "⋮      ⋮    ⋮     ⋮   ⋮        ⋮              ⋮         ⋮        ⋮             \n",
              "336747 2013 12    30    NA     1635           NA         NA      1825          \n",
              "336748 2013 12    30    NA      600           NA         NA       855          \n",
              "336749 2013 12    30    NA     1430           NA         NA      1626          \n",
              "336750 2013 12    30    NA     1350           NA         NA      1602          \n",
              "336751 2013 12    30    NA     1452           NA         NA      1559          \n",
              "336752 2013 12    30    NA     1935           NA         NA      2055          \n",
              "336753 2013 12    30    NA     1011           NA         NA      1134          \n",
              "336754 2013 12    30    NA      605           NA         NA       723          \n",
              "336755 2013 12    30    NA     1505           NA         NA      1759          \n",
              "336756 2013 12    30    NA     1355           NA         NA      1535          \n",
              "336757 2013 12    30    NA     2100           NA         NA        48          \n",
              "336758 2013 12    30    NA     1221           NA         NA      1545          \n",
              "336759 2013 12    30    NA      855           NA         NA      1142          \n",
              "336760 2013 12    31  2155     2039           76        253      2355          \n",
              "336761 2013 12    31    NA     1520           NA         NA      1705          \n",
              "336762 2013 12    31    NA     2025           NA         NA      2205          \n",
              "336763 2013 12    31    NA     1932           NA         NA      2305          \n",
              "336764 2013 12    31    NA     1505           NA         NA      1725          \n",
              "336765 2013 12    31    NA     1000           NA         NA      1252          \n",
              "336766 2013 12    31    NA      840           NA         NA      1205          \n",
              "336767 2013 12    31    NA      754           NA         NA      1118          \n",
              "336768 2013 12    31    NA     2000           NA         NA      2146          \n",
              "336769 2013 12    31    NA     1500           NA         NA      1817          \n",
              "336770 2013 12    31    NA     1430           NA         NA      1750          \n",
              "336771 2013 12    31    NA      855           NA         NA      1142          \n",
              "336772 2013 12    31    NA      705           NA         NA       931          \n",
              "336773 2013 12    31    NA      825           NA         NA      1029          \n",
              "336774 2013 12    31    NA     1615           NA         NA      1800          \n",
              "336775 2013 12    31    NA      600           NA         NA       735          \n",
              "336776 2013 12    31    NA      830           NA         NA      1154          \n",
              "       arr_delay carrier flight tailnum origin dest air_time distance hour\n",
              "1      -70       VX        23   N855VA  JFK    SFO  324      2586     10  \n",
              "2      -65       B6       679   N789JB  JFK    LAX  297      2475      9  \n",
              "3      -64       DL      2190   N324US  JFK    MIA  146      1089     18  \n",
              "4      -63       VX        25   N847VA  JFK    SFO  333      2586     12  \n",
              "5      -63       DL      2174   N389DA  JFK    SLC  260      1990     12  \n",
              "6      -62       DL      2159   N398DA  JFK    MCO  127       944     18  \n",
              "7      -61       DL        91   N3740C  JFK    LAS  282      2248     16  \n",
              "8      -61       DL      1465   N722TW  JFK    SFO  329      2586     19  \n",
              "9      -61       UA       551   N830UA  EWR    SFO  313      2565     12  \n",
              "10     -61       UA       665   N805UA  EWR    SFO  336      2565      8  \n",
              "11     -61       DL       675   N711ZX  JFK    STT  181      1623      9  \n",
              "12     -60       DL         6   N3768   JFK    SLC  250      1990     19  \n",
              "13     -59       DL      1865   N711ZX  JFK    SFO  323      2586      7  \n",
              "14     -59       B6       675   N652JB  JFK    LAX  301      2475     16  \n",
              "15     -59       9E      3369   N919XJ  JFK    MSY  166      1182     18  \n",
              "16     -58       9E      3375   N930XJ  JFK    SAT  214      1587     16  \n",
              "17     -57       DL       120   N710TW  JFK    LAX  310      2475      9  \n",
              "18     -57       B6       645   N793JB  JFK    SFO  315      2586     19  \n",
              "19     -57       DL      1415   N397DA  JFK    SLC  265      1990      6  \n",
              "20     -57       UA      1480   N36207  EWR    SFO  326      2565      8  \n",
              "21     -57       DL        31   N722TW  JFK    SFO  326      2586     17  \n",
              "22     -57       DL      1729   N3754A  JFK    LAS  294      2248     19  \n",
              "23     -56       B6       217   N559JB  JFK    LGB  293      2465     18  \n",
              "24     -56       DL      1345   N3769L  JFK    PHX  273      2153     19  \n",
              "25     -56       DL      2159   N384DA  JFK    MCO  135       944     18  \n",
              "26     -55       DL      2174   N3751B  JFK    SLC  264      1990     12  \n",
              "27     -55       UA       703   N512UA  JFK    LAX  309      2475     11  \n",
              "28     -55       DL      2159   N386DA  JFK    MCO  132       944     18  \n",
              "29     -55       DL      2159   N3768   JFK    MCO  125       944     18  \n",
              "30     -55       VX        11   N841VA  JFK    SFO  339      2586      7  \n",
              "⋮      ⋮         ⋮       ⋮      ⋮       ⋮      ⋮    ⋮        ⋮        ⋮   \n",
              "336747 NA        AA       343   N4XVAA  LGA    ORD  NA        733     16  \n",
              "336748 NA        B6       605   N708JB  EWR    FLL  NA       1065      6  \n",
              "336749 NA        EV      4261   N27200  LGA    CLE  NA        419     14  \n",
              "336750 NA        EV      4193   N36915  EWR    MSP  NA       1008     13  \n",
              "336751 NA        EV      4372   N14573  EWR    DCA  NA        199     14  \n",
              "336752 NA        EV      5714   N832AS  JFK    IAD  NA        228     19  \n",
              "336753 NA        EV      6054   N16919  EWR    IAD  NA        212     10  \n",
              "336754 NA        EV      6177   N13553  EWR    IAD  NA        212      6  \n",
              "336755 NA        UA       321   NA      EWR    MCO  NA        937     15  \n",
              "336756 NA        MQ      3305   N821MQ  LGA    RDU  NA        431     13  \n",
              "336757 NA        UA      1081   NA      EWR    SFO  NA       2565     21  \n",
              "336758 NA        UA      1297   NA      EWR    SNA  NA       2434     12  \n",
              "336759 NA        UA      1506   NA      EWR    JAC  NA       1874      8  \n",
              "336760 NA        B6      1205   N627JB  JFK    PDX  NA       2454     20  \n",
              "336761 NA        AA       341   N568AA  LGA    ORD  NA        733     15  \n",
              "336762 NA        AA       371   N482AA  LGA    ORD  NA        733     20  \n",
              "336763 NA        B6       161   N516JB  JFK    SMF  NA       2521     19  \n",
              "336764 NA        EV      4181   N24103  EWR    MCI  NA       1092     15  \n",
              "336765 NA        UA      1124   NA      EWR    EGE  NA       1725     10  \n",
              "336766 NA        UA      1151   NA      EWR    SEA  NA       2402      8  \n",
              "336767 NA        UA      1455   NA      EWR    LAX  NA       2454      7  \n",
              "336768 NA        UA      1482   NA      EWR    ORD  NA        719     20  \n",
              "336769 NA        UA      1483   NA      EWR    AUS  NA       1504     15  \n",
              "336770 NA        UA      1493   NA      EWR    LAX  NA       2454     14  \n",
              "336771 NA        UA      1506   NA      EWR    JAC  NA       1874      8  \n",
              "336772 NA        UA      1729   NA      EWR    DEN  NA       1605      7  \n",
              "336773 NA        US      1831   NA      JFK    CLT  NA        541      8  \n",
              "336774 NA        MQ      3301   N844MQ  LGA    RDU  NA        431     16  \n",
              "336775 NA        UA       219   NA      EWR    ORD  NA        719      6  \n",
              "336776 NA        UA       443   NA      JFK    LAX  NA       2475      8  \n",
              "       minute time_hour          \n",
              "1      30     2013-01-04 10:00:00\n",
              "2      45     2013-01-03 09:00:00\n",
              "3      45     2013-01-14 18:00:00\n",
              "4       0     2013-01-03 12:00:00\n",
              "5      35     2013-01-03 12:00:00\n",
              "6      50     2013-01-27 18:00:00\n",
              "7      10     2013-01-03 16:00:00\n",
              "8       0     2013-01-03 19:00:00\n",
              "9      21     2013-01-04 12:00:00\n",
              "10     19     2013-01-06 08:00:00\n",
              "11     20     2013-01-12 09:00:00\n",
              "12     20     2013-01-03 19:00:00\n",
              "13      0     2013-01-02 07:00:00\n",
              "14     30     2013-01-03 16:00:00\n",
              "15     45     2013-01-27 18:00:00\n",
              "16     59     2013-01-26 16:00:00\n",
              "17      0     2013-01-02 09:00:00\n",
              "18     45     2013-01-03 19:00:00\n",
              "19     55     2013-01-04 06:00:00\n",
              "20     30     2013-01-04 08:00:00\n",
              "21      0     2013-01-04 17:00:00\n",
              "22     15     2013-01-30 19:00:00\n",
              "23     10     2013-01-03 18:00:00\n",
              "24     20     2013-01-03 19:00:00\n",
              "25     50     2013-01-14 18:00:00\n",
              "26     45     2013-01-02 12:00:00\n",
              "27     30     2013-01-04 11:00:00\n",
              "28     50     2013-01-08 18:00:00\n",
              "29     50     2013-01-11 18:00:00\n",
              "30     30     2013-01-13 07:00:00\n",
              "⋮      ⋮      ⋮                  \n",
              "336747 35     2013-12-30 16:00:00\n",
              "336748  0     2013-12-30 06:00:00\n",
              "336749 30     2013-12-30 14:00:00\n",
              "336750 50     2013-12-30 13:00:00\n",
              "336751 52     2013-12-30 14:00:00\n",
              "336752 35     2013-12-30 19:00:00\n",
              "336753 11     2013-12-30 10:00:00\n",
              "336754  5     2013-12-30 06:00:00\n",
              "336755  5     2013-12-30 15:00:00\n",
              "336756 55     2013-12-30 13:00:00\n",
              "336757  0     2013-12-30 21:00:00\n",
              "336758 21     2013-12-30 12:00:00\n",
              "336759 55     2013-12-30 08:00:00\n",
              "336760 39     2013-12-31 20:00:00\n",
              "336761 20     2013-12-31 15:00:00\n",
              "336762 25     2013-12-31 20:00:00\n",
              "336763 32     2013-12-31 19:00:00\n",
              "336764  5     2013-12-31 15:00:00\n",
              "336765  0     2013-12-31 10:00:00\n",
              "336766 40     2013-12-31 08:00:00\n",
              "336767 54     2013-12-31 07:00:00\n",
              "336768  0     2013-12-31 20:00:00\n",
              "336769  0     2013-12-31 15:00:00\n",
              "336770 30     2013-12-31 14:00:00\n",
              "336771 55     2013-12-31 08:00:00\n",
              "336772  5     2013-12-31 07:00:00\n",
              "336773 25     2013-12-31 08:00:00\n",
              "336774 15     2013-12-31 16:00:00\n",
              "336775  0     2013-12-31 06:00:00\n",
              "336776 30     2013-12-31 08:00:00"
            ]
          },
          "metadata": {}
        }
      ]
    },
    {
      "cell_type": "code",
      "source": [
        "# Vemos que arrange ordena de menor a mayor por defecto (ascendente).\n",
        "#para ordenar de manera descendente\n",
        "arrange(vuelos, desc(month), arr_delay)\n",
        "\n"
      ],
      "metadata": {
        "colab": {
          "base_uri": "https://localhost:8080/",
          "height": 1000
        },
        "id": "-QqkxA_RZfEx",
        "outputId": "d073894d-2848-4ec3-9ef1-ba792ab961ef"
      },
      "execution_count": null,
      "outputs": [
        {
          "output_type": "display_data",
          "data": {
            "text/html": [
              "<table class=\"dataframe\">\n",
              "<caption>A data.frame: 336776 × 19</caption>\n",
              "<thead>\n",
              "\t<tr><th scope=col>year</th><th scope=col>month</th><th scope=col>day</th><th scope=col>dep_time</th><th scope=col>sched_dep_time</th><th scope=col>dep_delay</th><th scope=col>arr_time</th><th scope=col>sched_arr_time</th><th scope=col>arr_delay</th><th scope=col>carrier</th><th scope=col>flight</th><th scope=col>tailnum</th><th scope=col>origin</th><th scope=col>dest</th><th scope=col>air_time</th><th scope=col>distance</th><th scope=col>hour</th><th scope=col>minute</th><th scope=col>time_hour</th></tr>\n",
              "\t<tr><th scope=col>&lt;int&gt;</th><th scope=col>&lt;int&gt;</th><th scope=col>&lt;int&gt;</th><th scope=col>&lt;int&gt;</th><th scope=col>&lt;int&gt;</th><th scope=col>&lt;int&gt;</th><th scope=col>&lt;int&gt;</th><th scope=col>&lt;int&gt;</th><th scope=col>&lt;int&gt;</th><th scope=col>&lt;chr&gt;</th><th scope=col>&lt;int&gt;</th><th scope=col>&lt;chr&gt;</th><th scope=col>&lt;chr&gt;</th><th scope=col>&lt;chr&gt;</th><th scope=col>&lt;int&gt;</th><th scope=col>&lt;int&gt;</th><th scope=col>&lt;int&gt;</th><th scope=col>&lt;int&gt;</th><th scope=col>&lt;chr&gt;</th></tr>\n",
              "</thead>\n",
              "<tbody>\n",
              "\t<tr><td>2013</td><td>12</td><td>27</td><td> 853</td><td> 856</td><td> -3</td><td>1052</td><td>1200</td><td>-68</td><td>UA</td><td> 452</td><td>N430UA</td><td>EWR</td><td>LAS</td><td>277</td><td>2227</td><td> 8</td><td>56</td><td>2013-12-27 08:00:00</td></tr>\n",
              "\t<tr><td>2013</td><td>12</td><td>27</td><td>1833</td><td>1836</td><td> -3</td><td>2050</td><td>2157</td><td>-67</td><td>DL</td><td>2357</td><td>N3749D</td><td>JFK</td><td>SAN</td><td>293</td><td>2446</td><td>18</td><td>36</td><td>2013-12-27 18:00:00</td></tr>\n",
              "\t<tr><td>2013</td><td>12</td><td>27</td><td>1728</td><td>1729</td><td> -1</td><td>2011</td><td>2115</td><td>-64</td><td>VX</td><td> 193</td><td>N844VA</td><td>EWR</td><td>SFO</td><td>323</td><td>2565</td><td>17</td><td>29</td><td>2013-12-27 17:00:00</td></tr>\n",
              "\t<tr><td>2013</td><td>12</td><td>27</td><td>1622</td><td>1630</td><td> -8</td><td>1908</td><td>2011</td><td>-63</td><td>US</td><td> 629</td><td>N541UW</td><td>JFK</td><td>PHX</td><td>267</td><td>2153</td><td>16</td><td>30</td><td>2013-12-27 16:00:00</td></tr>\n",
              "\t<tr><td>2013</td><td>12</td><td>29</td><td>1017</td><td>1025</td><td> -8</td><td>1304</td><td>1404</td><td>-60</td><td>UA</td><td> 642</td><td>N510UA</td><td>JFK</td><td>SFO</td><td>330</td><td>2586</td><td>10</td><td>25</td><td>2013-12-29 10:00:00</td></tr>\n",
              "\t<tr><td>2013</td><td>12</td><td>26</td><td> 753</td><td> 800</td><td> -7</td><td>1053</td><td>1151</td><td>-58</td><td>UA</td><td> 397</td><td>N590UA</td><td>JFK</td><td>SFO</td><td>333</td><td>2586</td><td> 8</td><td> 0</td><td>2013-12-26 08:00:00</td></tr>\n",
              "\t<tr><td>2013</td><td>12</td><td>28</td><td> 625</td><td> 630</td><td> -5</td><td> 916</td><td>1014</td><td>-58</td><td>US</td><td> 690</td><td>N656AW</td><td>EWR</td><td>PHX</td><td>272</td><td>2133</td><td> 6</td><td>30</td><td>2013-12-28 06:00:00</td></tr>\n",
              "\t<tr><td>2013</td><td>12</td><td>29</td><td> 818</td><td> 830</td><td>-12</td><td>1056</td><td>1154</td><td>-58</td><td>UA</td><td> 443</td><td>N595UA</td><td>JFK</td><td>LAX</td><td>321</td><td>2475</td><td> 8</td><td>30</td><td>2013-12-29 08:00:00</td></tr>\n",
              "\t<tr><td>2013</td><td>12</td><td>27</td><td>1153</td><td>1200</td><td> -7</td><td>1438</td><td>1535</td><td>-57</td><td>UA</td><td> 766</td><td>N596UA</td><td>JFK</td><td>SFO</td><td>326</td><td>2586</td><td>12</td><td> 0</td><td>2013-12-27 12:00:00</td></tr>\n",
              "\t<tr><td>2013</td><td>12</td><td>27</td><td>1410</td><td>1413</td><td> -3</td><td>1637</td><td>1733</td><td>-56</td><td>UA</td><td>1493</td><td>N69806</td><td>EWR</td><td>LAX</td><td>308</td><td>2454</td><td>14</td><td>13</td><td>2013-12-27 14:00:00</td></tr>\n",
              "\t<tr><td>2013</td><td>12</td><td>27</td><td>1636</td><td>1640</td><td> -4</td><td>1856</td><td>1952</td><td>-56</td><td>B6</td><td>  89</td><td>N592JB</td><td>JFK</td><td>SAN</td><td>298</td><td>2446</td><td>16</td><td>40</td><td>2013-12-27 16:00:00</td></tr>\n",
              "\t<tr><td>2013</td><td>12</td><td>27</td><td>1741</td><td>1740</td><td>  1</td><td>2023</td><td>2118</td><td>-55</td><td>B6</td><td> 135</td><td>N566JB</td><td>JFK</td><td>PHX</td><td>262</td><td>2153</td><td>17</td><td>40</td><td>2013-12-27 17:00:00</td></tr>\n",
              "\t<tr><td>2013</td><td>12</td><td>26</td><td>1733</td><td>1740</td><td> -7</td><td>1946</td><td>2040</td><td>-54</td><td>DL</td><td>2546</td><td>N3735D</td><td>JFK</td><td>LAS</td><td>293</td><td>2248</td><td>17</td><td>40</td><td>2013-12-26 17:00:00</td></tr>\n",
              "\t<tr><td>2013</td><td>12</td><td>26</td><td>1734</td><td>1729</td><td>  5</td><td>2021</td><td>2115</td><td>-54</td><td>VX</td><td> 193</td><td>N851VA</td><td>EWR</td><td>SFO</td><td>330</td><td>2565</td><td>17</td><td>29</td><td>2013-12-26 17:00:00</td></tr>\n",
              "\t<tr><td>2013</td><td>12</td><td>26</td><td>1649</td><td>1648</td><td>  1</td><td>1945</td><td>2038</td><td>-53</td><td>UA</td><td>1284</td><td>N53441</td><td>EWR</td><td>SFO</td><td>336</td><td>2565</td><td>16</td><td>48</td><td>2013-12-26 16:00:00</td></tr>\n",
              "\t<tr><td>2013</td><td>12</td><td>27</td><td>1318</td><td>1315</td><td>  3</td><td>1604</td><td>1657</td><td>-53</td><td>US</td><td> 456</td><td>N673AW</td><td>JFK</td><td>PHX</td><td>259</td><td>2153</td><td>13</td><td>15</td><td>2013-12-27 13:00:00</td></tr>\n",
              "\t<tr><td>2013</td><td>12</td><td>27</td><td>1626</td><td>1630</td><td> -4</td><td>1904</td><td>1957</td><td>-53</td><td>US</td><td> 627</td><td>N668AW</td><td>EWR</td><td>PHX</td><td>258</td><td>2133</td><td>16</td><td>30</td><td>2013-12-27 16:00:00</td></tr>\n",
              "\t<tr><td>2013</td><td>12</td><td>27</td><td>1630</td><td>1635</td><td> -5</td><td>1859</td><td>1952</td><td>-53</td><td>B6</td><td> 423</td><td>N655JB</td><td>JFK</td><td>LAX</td><td>304</td><td>2475</td><td>16</td><td>35</td><td>2013-12-27 16:00:00</td></tr>\n",
              "\t<tr><td>2013</td><td>12</td><td>27</td><td>1008</td><td>1015</td><td> -7</td><td>1250</td><td>1342</td><td>-52</td><td>US</td><td> 604</td><td>N680AW</td><td>EWR</td><td>PHX</td><td>266</td><td>2133</td><td>10</td><td>15</td><td>2013-12-27 10:00:00</td></tr>\n",
              "\t<tr><td>2013</td><td>12</td><td>27</td><td>1214</td><td>1221</td><td> -7</td><td>1453</td><td>1545</td><td>-52</td><td>UA</td><td>1551</td><td>N27722</td><td>EWR</td><td>SNA</td><td>320</td><td>2434</td><td>12</td><td>21</td><td>2013-12-27 12:00:00</td></tr>\n",
              "\t<tr><td>2013</td><td>12</td><td>27</td><td>1346</td><td>1339</td><td>  7</td><td>1625</td><td>1717</td><td>-52</td><td>UA</td><td> 394</td><td>N819UA</td><td>EWR</td><td>SFO</td><td>322</td><td>2565</td><td>13</td><td>39</td><td>2013-12-27 13:00:00</td></tr>\n",
              "\t<tr><td>2013</td><td>12</td><td>28</td><td>1939</td><td>1950</td><td>-11</td><td>2110</td><td>2202</td><td>-52</td><td>DL</td><td>2131</td><td>N332NB</td><td>LGA</td><td>DTW</td><td> 76</td><td> 502</td><td>19</td><td>50</td><td>2013-12-28 19:00:00</td></tr>\n",
              "\t<tr><td>2013</td><td>12</td><td>11</td><td>1755</td><td>1759</td><td> -4</td><td>2032</td><td>2123</td><td>-51</td><td>UA</td><td> 997</td><td>N587UA</td><td>JFK</td><td>LAX</td><td>323</td><td>2475</td><td>17</td><td>59</td><td>2013-12-11 17:00:00</td></tr>\n",
              "\t<tr><td>2013</td><td>12</td><td>21</td><td>1857</td><td>1900</td><td> -3</td><td>2158</td><td>2249</td><td>-51</td><td>DL</td><td> 435</td><td>N727TW</td><td>JFK</td><td>SFO</td><td>340</td><td>2586</td><td>19</td><td> 0</td><td>2013-12-21 19:00:00</td></tr>\n",
              "\t<tr><td>2013</td><td>12</td><td>25</td><td>1530</td><td>1530</td><td>  0</td><td>1824</td><td>1915</td><td>-51</td><td>AA</td><td>  85</td><td>N399AA</td><td>JFK</td><td>SFO</td><td>332</td><td>2586</td><td>15</td><td>30</td><td>2013-12-25 15:00:00</td></tr>\n",
              "\t<tr><td>2013</td><td>12</td><td>26</td><td>1754</td><td>1756</td><td> -2</td><td>2033</td><td>2124</td><td>-51</td><td>UA</td><td> 535</td><td>N518UA</td><td>JFK</td><td>LAX</td><td>312</td><td>2475</td><td>17</td><td>56</td><td>2013-12-26 17:00:00</td></tr>\n",
              "\t<tr><td>2013</td><td>12</td><td>27</td><td> 623</td><td> 625</td><td> -2</td><td> 918</td><td>1009</td><td>-51</td><td>US</td><td> 690</td><td>N647AW</td><td>EWR</td><td>PHX</td><td>265</td><td>2133</td><td> 6</td><td>25</td><td>2013-12-27 06:00:00</td></tr>\n",
              "\t<tr><td>2013</td><td>12</td><td>27</td><td>1810</td><td>1815</td><td> -5</td><td>2059</td><td>2150</td><td>-51</td><td>DL</td><td> 426</td><td>N188DN</td><td>JFK</td><td>LAX</td><td>318</td><td>2475</td><td>18</td><td>15</td><td>2013-12-27 18:00:00</td></tr>\n",
              "\t<tr><td>2013</td><td>12</td><td>28</td><td> 757</td><td> 800</td><td> -3</td><td>1100</td><td>1151</td><td>-51</td><td>UA</td><td> 397</td><td>N546UA</td><td>JFK</td><td>SFO</td><td>340</td><td>2586</td><td> 8</td><td> 0</td><td>2013-12-28 08:00:00</td></tr>\n",
              "\t<tr><td>2013</td><td>12</td><td>29</td><td>2015</td><td>2015</td><td>  0</td><td>2253</td><td>2344</td><td>-51</td><td>DL</td><td> 427</td><td>N197DN</td><td>JFK</td><td>LAX</td><td>318</td><td>2475</td><td>20</td><td>15</td><td>2013-12-29 20:00:00</td></tr>\n",
              "\t<tr><td>⋮</td><td>⋮</td><td>⋮</td><td>⋮</td><td>⋮</td><td>⋮</td><td>⋮</td><td>⋮</td><td>⋮</td><td>⋮</td><td>⋮</td><td>⋮</td><td>⋮</td><td>⋮</td><td>⋮</td><td>⋮</td><td>⋮</td><td>⋮</td><td>⋮</td></tr>\n",
              "\t<tr><td>2013</td><td>1</td><td>31</td><td>NA</td><td>1245</td><td>NA</td><td>NA</td><td>1600</td><td>NA</td><td>AA</td><td>2253</td><td>N3DTAA</td><td>LGA</td><td>MIA</td><td>NA</td><td>1096</td><td>12</td><td>45</td><td>2013-01-31 12:00:00</td></tr>\n",
              "\t<tr><td>2013</td><td>1</td><td>31</td><td>NA</td><td>1240</td><td>NA</td><td>NA</td><td>1540</td><td>NA</td><td>AA</td><td>1853</td><td>N4YDAA</td><td>EWR</td><td>DFW</td><td>NA</td><td>1372</td><td>12</td><td>40</td><td>2013-01-31 12:00:00</td></tr>\n",
              "\t<tr><td>2013</td><td>1</td><td>31</td><td>NA</td><td>1200</td><td>NA</td><td>NA</td><td>1304</td><td>NA</td><td>B6</td><td>1174</td><td>N203JB</td><td>EWR</td><td>BOS</td><td>NA</td><td> 200</td><td>12</td><td> 0</td><td>2013-01-31 12:00:00</td></tr>\n",
              "\t<tr><td>2013</td><td>1</td><td>31</td><td>NA</td><td>1415</td><td>NA</td><td>NA</td><td>1724</td><td>NA</td><td>B6</td><td> 377</td><td>N503JB</td><td>LGA</td><td>FLL</td><td>NA</td><td>1076</td><td>14</td><td>15</td><td>2013-01-31 14:00:00</td></tr>\n",
              "\t<tr><td>2013</td><td>1</td><td>31</td><td>NA</td><td> 825</td><td>NA</td><td>NA</td><td>1026</td><td>NA</td><td>US</td><td> 487</td><td>NA    </td><td>JFK</td><td>CLT</td><td>NA</td><td> 541</td><td> 8</td><td>25</td><td>2013-01-31 08:00:00</td></tr>\n",
              "\t<tr><td>2013</td><td>1</td><td>31</td><td>NA</td><td>1130</td><td>NA</td><td>NA</td><td>1334</td><td>NA</td><td>US</td><td>1625</td><td>NA    </td><td>LGA</td><td>CLT</td><td>NA</td><td> 544</td><td>11</td><td>30</td><td>2013-01-31 11:00:00</td></tr>\n",
              "\t<tr><td>2013</td><td>1</td><td>31</td><td>NA</td><td>1500</td><td>NA</td><td>NA</td><td>1653</td><td>NA</td><td>US</td><td> 720</td><td>NA    </td><td>EWR</td><td>CLT</td><td>NA</td><td> 529</td><td>15</td><td> 0</td><td>2013-01-31 15:00:00</td></tr>\n",
              "\t<tr><td>2013</td><td>1</td><td>31</td><td>NA</td><td> 600</td><td>NA</td><td>NA</td><td> 703</td><td>NA</td><td>US</td><td>2114</td><td>NA    </td><td>LGA</td><td>BOS</td><td>NA</td><td> 184</td><td> 6</td><td> 0</td><td>2013-01-31 06:00:00</td></tr>\n",
              "\t<tr><td>2013</td><td>1</td><td>31</td><td>NA</td><td> 700</td><td>NA</td><td>NA</td><td> 807</td><td>NA</td><td>US</td><td>2116</td><td>NA    </td><td>LGA</td><td>BOS</td><td>NA</td><td> 184</td><td> 7</td><td> 0</td><td>2013-01-31 07:00:00</td></tr>\n",
              "\t<tr><td>2013</td><td>1</td><td>31</td><td>NA</td><td> 800</td><td>NA</td><td>NA</td><td> 908</td><td>NA</td><td>US</td><td>2118</td><td>NA    </td><td>LGA</td><td>BOS</td><td>NA</td><td> 184</td><td> 8</td><td> 0</td><td>2013-01-31 08:00:00</td></tr>\n",
              "\t<tr><td>2013</td><td>1</td><td>31</td><td>NA</td><td>1200</td><td>NA</td><td>NA</td><td>1305</td><td>NA</td><td>US</td><td>2126</td><td>NA    </td><td>LGA</td><td>BOS</td><td>NA</td><td> 184</td><td>12</td><td> 0</td><td>2013-01-31 12:00:00</td></tr>\n",
              "\t<tr><td>2013</td><td>1</td><td>31</td><td>NA</td><td>1300</td><td>NA</td><td>NA</td><td>1406</td><td>NA</td><td>US</td><td>2128</td><td>NA    </td><td>LGA</td><td>BOS</td><td>NA</td><td> 184</td><td>13</td><td> 0</td><td>2013-01-31 13:00:00</td></tr>\n",
              "\t<tr><td>2013</td><td>1</td><td>31</td><td>NA</td><td>1500</td><td>NA</td><td>NA</td><td>1608</td><td>NA</td><td>US</td><td>2132</td><td>NA    </td><td>LGA</td><td>BOS</td><td>NA</td><td> 184</td><td>15</td><td> 0</td><td>2013-01-31 15:00:00</td></tr>\n",
              "\t<tr><td>2013</td><td>1</td><td>31</td><td>NA</td><td>2100</td><td>NA</td><td>NA</td><td>2207</td><td>NA</td><td>US</td><td>2144</td><td>NA    </td><td>LGA</td><td>BOS</td><td>NA</td><td> 184</td><td>21</td><td> 0</td><td>2013-01-31 21:00:00</td></tr>\n",
              "\t<tr><td>2013</td><td>1</td><td>31</td><td>NA</td><td> 700</td><td>NA</td><td>NA</td><td> 807</td><td>NA</td><td>US</td><td>2163</td><td>NA    </td><td>LGA</td><td>DCA</td><td>NA</td><td> 214</td><td> 7</td><td> 0</td><td>2013-01-31 07:00:00</td></tr>\n",
              "\t<tr><td>2013</td><td>1</td><td>31</td><td>NA</td><td> 800</td><td>NA</td><td>NA</td><td> 917</td><td>NA</td><td>US</td><td>2165</td><td>NA    </td><td>LGA</td><td>DCA</td><td>NA</td><td> 214</td><td> 8</td><td> 0</td><td>2013-01-31 08:00:00</td></tr>\n",
              "\t<tr><td>2013</td><td>1</td><td>31</td><td>NA</td><td> 900</td><td>NA</td><td>NA</td><td>1022</td><td>NA</td><td>US</td><td>2167</td><td>NA    </td><td>LGA</td><td>DCA</td><td>NA</td><td> 214</td><td> 9</td><td> 0</td><td>2013-01-31 09:00:00</td></tr>\n",
              "\t<tr><td>2013</td><td>1</td><td>31</td><td>NA</td><td>1510</td><td>NA</td><td>NA</td><td>1650</td><td>NA</td><td>WN</td><td> 323</td><td>N433LV</td><td>LGA</td><td>MKE</td><td>NA</td><td> 738</td><td>15</td><td>10</td><td>2013-01-31 15:00:00</td></tr>\n",
              "\t<tr><td>2013</td><td>1</td><td>31</td><td>NA</td><td>1940</td><td>NA</td><td>NA</td><td>2100</td><td>NA</td><td>WN</td><td> 633</td><td>N295WN</td><td>EWR</td><td>MDW</td><td>NA</td><td> 711</td><td>19</td><td>40</td><td>2013-01-31 19:00:00</td></tr>\n",
              "\t<tr><td>2013</td><td>1</td><td>31</td><td>NA</td><td>1435</td><td>NA</td><td>NA</td><td>1559</td><td>NA</td><td>YV</td><td>3750</td><td>N507MJ</td><td>LGA</td><td>IAD</td><td>NA</td><td> 229</td><td>14</td><td>35</td><td>2013-01-31 14:00:00</td></tr>\n",
              "\t<tr><td>2013</td><td>1</td><td>31</td><td>NA</td><td>1635</td><td>NA</td><td>NA</td><td>1810</td><td>NA</td><td>MQ</td><td>3695</td><td>N544MQ</td><td>EWR</td><td>ORD</td><td>NA</td><td> 719</td><td>16</td><td>35</td><td>2013-01-31 16:00:00</td></tr>\n",
              "\t<tr><td>2013</td><td>1</td><td>31</td><td>NA</td><td> 825</td><td>NA</td><td>NA</td><td> 945</td><td>NA</td><td>MQ</td><td>4418</td><td>N855MQ</td><td>JFK</td><td>DCA</td><td>NA</td><td> 213</td><td> 8</td><td>25</td><td>2013-01-31 08:00:00</td></tr>\n",
              "\t<tr><td>2013</td><td>1</td><td>31</td><td>NA</td><td>1300</td><td>NA</td><td>NA</td><td>1450</td><td>NA</td><td>MQ</td><td>4426</td><td>N736MQ</td><td>LGA</td><td>CMH</td><td>NA</td><td> 479</td><td>13</td><td> 0</td><td>2013-01-31 13:00:00</td></tr>\n",
              "\t<tr><td>2013</td><td>1</td><td>31</td><td>NA</td><td>1315</td><td>NA</td><td>NA</td><td>1520</td><td>NA</td><td>MQ</td><td>4564</td><td>N737MQ</td><td>LGA</td><td>DTW</td><td>NA</td><td> 502</td><td>13</td><td>15</td><td>2013-01-31 13:00:00</td></tr>\n",
              "\t<tr><td>2013</td><td>1</td><td>31</td><td>NA</td><td> 920</td><td>NA</td><td>NA</td><td>1125</td><td>NA</td><td>MQ</td><td>4582</td><td>N506MQ</td><td>LGA</td><td>CLT</td><td>NA</td><td> 544</td><td> 9</td><td>20</td><td>2013-01-31 09:00:00</td></tr>\n",
              "\t<tr><td>2013</td><td>1</td><td>31</td><td>NA</td><td>1325</td><td>NA</td><td>NA</td><td>1505</td><td>NA</td><td>MQ</td><td>4475</td><td>N730MQ</td><td>LGA</td><td>RDU</td><td>NA</td><td> 431</td><td>13</td><td>25</td><td>2013-01-31 13:00:00</td></tr>\n",
              "\t<tr><td>2013</td><td>1</td><td>31</td><td>NA</td><td>1200</td><td>NA</td><td>NA</td><td>1430</td><td>NA</td><td>MQ</td><td>4658</td><td>N505MQ</td><td>LGA</td><td>ATL</td><td>NA</td><td> 762</td><td>12</td><td> 0</td><td>2013-01-31 12:00:00</td></tr>\n",
              "\t<tr><td>2013</td><td>1</td><td>31</td><td>NA</td><td>1410</td><td>NA</td><td>NA</td><td>1555</td><td>NA</td><td>MQ</td><td>4491</td><td>N734MQ</td><td>LGA</td><td>CLE</td><td>NA</td><td> 419</td><td>14</td><td>10</td><td>2013-01-31 14:00:00</td></tr>\n",
              "\t<tr><td>2013</td><td>1</td><td>31</td><td>NA</td><td>1446</td><td>NA</td><td>NA</td><td>1757</td><td>NA</td><td>UA</td><td> 337</td><td>NA    </td><td>LGA</td><td>IAH</td><td>NA</td><td>1416</td><td>14</td><td>46</td><td>2013-01-31 14:00:00</td></tr>\n",
              "\t<tr><td>2013</td><td>1</td><td>31</td><td>NA</td><td> 625</td><td>NA</td><td>NA</td><td> 934</td><td>NA</td><td>UA</td><td>1497</td><td>NA    </td><td>LGA</td><td>IAH</td><td>NA</td><td>1416</td><td> 6</td><td>25</td><td>2013-01-31 06:00:00</td></tr>\n",
              "</tbody>\n",
              "</table>\n"
            ],
            "text/markdown": "\nA data.frame: 336776 × 19\n\n| year &lt;int&gt; | month &lt;int&gt; | day &lt;int&gt; | dep_time &lt;int&gt; | sched_dep_time &lt;int&gt; | dep_delay &lt;int&gt; | arr_time &lt;int&gt; | sched_arr_time &lt;int&gt; | arr_delay &lt;int&gt; | carrier &lt;chr&gt; | flight &lt;int&gt; | tailnum &lt;chr&gt; | origin &lt;chr&gt; | dest &lt;chr&gt; | air_time &lt;int&gt; | distance &lt;int&gt; | hour &lt;int&gt; | minute &lt;int&gt; | time_hour &lt;chr&gt; |\n|---|---|---|---|---|---|---|---|---|---|---|---|---|---|---|---|---|---|---|\n| 2013 | 12 | 27 |  853 |  856 |  -3 | 1052 | 1200 | -68 | UA |  452 | N430UA | EWR | LAS | 277 | 2227 |  8 | 56 | 2013-12-27 08:00:00 |\n| 2013 | 12 | 27 | 1833 | 1836 |  -3 | 2050 | 2157 | -67 | DL | 2357 | N3749D | JFK | SAN | 293 | 2446 | 18 | 36 | 2013-12-27 18:00:00 |\n| 2013 | 12 | 27 | 1728 | 1729 |  -1 | 2011 | 2115 | -64 | VX |  193 | N844VA | EWR | SFO | 323 | 2565 | 17 | 29 | 2013-12-27 17:00:00 |\n| 2013 | 12 | 27 | 1622 | 1630 |  -8 | 1908 | 2011 | -63 | US |  629 | N541UW | JFK | PHX | 267 | 2153 | 16 | 30 | 2013-12-27 16:00:00 |\n| 2013 | 12 | 29 | 1017 | 1025 |  -8 | 1304 | 1404 | -60 | UA |  642 | N510UA | JFK | SFO | 330 | 2586 | 10 | 25 | 2013-12-29 10:00:00 |\n| 2013 | 12 | 26 |  753 |  800 |  -7 | 1053 | 1151 | -58 | UA |  397 | N590UA | JFK | SFO | 333 | 2586 |  8 |  0 | 2013-12-26 08:00:00 |\n| 2013 | 12 | 28 |  625 |  630 |  -5 |  916 | 1014 | -58 | US |  690 | N656AW | EWR | PHX | 272 | 2133 |  6 | 30 | 2013-12-28 06:00:00 |\n| 2013 | 12 | 29 |  818 |  830 | -12 | 1056 | 1154 | -58 | UA |  443 | N595UA | JFK | LAX | 321 | 2475 |  8 | 30 | 2013-12-29 08:00:00 |\n| 2013 | 12 | 27 | 1153 | 1200 |  -7 | 1438 | 1535 | -57 | UA |  766 | N596UA | JFK | SFO | 326 | 2586 | 12 |  0 | 2013-12-27 12:00:00 |\n| 2013 | 12 | 27 | 1410 | 1413 |  -3 | 1637 | 1733 | -56 | UA | 1493 | N69806 | EWR | LAX | 308 | 2454 | 14 | 13 | 2013-12-27 14:00:00 |\n| 2013 | 12 | 27 | 1636 | 1640 |  -4 | 1856 | 1952 | -56 | B6 |   89 | N592JB | JFK | SAN | 298 | 2446 | 16 | 40 | 2013-12-27 16:00:00 |\n| 2013 | 12 | 27 | 1741 | 1740 |   1 | 2023 | 2118 | -55 | B6 |  135 | N566JB | JFK | PHX | 262 | 2153 | 17 | 40 | 2013-12-27 17:00:00 |\n| 2013 | 12 | 26 | 1733 | 1740 |  -7 | 1946 | 2040 | -54 | DL | 2546 | N3735D | JFK | LAS | 293 | 2248 | 17 | 40 | 2013-12-26 17:00:00 |\n| 2013 | 12 | 26 | 1734 | 1729 |   5 | 2021 | 2115 | -54 | VX |  193 | N851VA | EWR | SFO | 330 | 2565 | 17 | 29 | 2013-12-26 17:00:00 |\n| 2013 | 12 | 26 | 1649 | 1648 |   1 | 1945 | 2038 | -53 | UA | 1284 | N53441 | EWR | SFO | 336 | 2565 | 16 | 48 | 2013-12-26 16:00:00 |\n| 2013 | 12 | 27 | 1318 | 1315 |   3 | 1604 | 1657 | -53 | US |  456 | N673AW | JFK | PHX | 259 | 2153 | 13 | 15 | 2013-12-27 13:00:00 |\n| 2013 | 12 | 27 | 1626 | 1630 |  -4 | 1904 | 1957 | -53 | US |  627 | N668AW | EWR | PHX | 258 | 2133 | 16 | 30 | 2013-12-27 16:00:00 |\n| 2013 | 12 | 27 | 1630 | 1635 |  -5 | 1859 | 1952 | -53 | B6 |  423 | N655JB | JFK | LAX | 304 | 2475 | 16 | 35 | 2013-12-27 16:00:00 |\n| 2013 | 12 | 27 | 1008 | 1015 |  -7 | 1250 | 1342 | -52 | US |  604 | N680AW | EWR | PHX | 266 | 2133 | 10 | 15 | 2013-12-27 10:00:00 |\n| 2013 | 12 | 27 | 1214 | 1221 |  -7 | 1453 | 1545 | -52 | UA | 1551 | N27722 | EWR | SNA | 320 | 2434 | 12 | 21 | 2013-12-27 12:00:00 |\n| 2013 | 12 | 27 | 1346 | 1339 |   7 | 1625 | 1717 | -52 | UA |  394 | N819UA | EWR | SFO | 322 | 2565 | 13 | 39 | 2013-12-27 13:00:00 |\n| 2013 | 12 | 28 | 1939 | 1950 | -11 | 2110 | 2202 | -52 | DL | 2131 | N332NB | LGA | DTW |  76 |  502 | 19 | 50 | 2013-12-28 19:00:00 |\n| 2013 | 12 | 11 | 1755 | 1759 |  -4 | 2032 | 2123 | -51 | UA |  997 | N587UA | JFK | LAX | 323 | 2475 | 17 | 59 | 2013-12-11 17:00:00 |\n| 2013 | 12 | 21 | 1857 | 1900 |  -3 | 2158 | 2249 | -51 | DL |  435 | N727TW | JFK | SFO | 340 | 2586 | 19 |  0 | 2013-12-21 19:00:00 |\n| 2013 | 12 | 25 | 1530 | 1530 |   0 | 1824 | 1915 | -51 | AA |   85 | N399AA | JFK | SFO | 332 | 2586 | 15 | 30 | 2013-12-25 15:00:00 |\n| 2013 | 12 | 26 | 1754 | 1756 |  -2 | 2033 | 2124 | -51 | UA |  535 | N518UA | JFK | LAX | 312 | 2475 | 17 | 56 | 2013-12-26 17:00:00 |\n| 2013 | 12 | 27 |  623 |  625 |  -2 |  918 | 1009 | -51 | US |  690 | N647AW | EWR | PHX | 265 | 2133 |  6 | 25 | 2013-12-27 06:00:00 |\n| 2013 | 12 | 27 | 1810 | 1815 |  -5 | 2059 | 2150 | -51 | DL |  426 | N188DN | JFK | LAX | 318 | 2475 | 18 | 15 | 2013-12-27 18:00:00 |\n| 2013 | 12 | 28 |  757 |  800 |  -3 | 1100 | 1151 | -51 | UA |  397 | N546UA | JFK | SFO | 340 | 2586 |  8 |  0 | 2013-12-28 08:00:00 |\n| 2013 | 12 | 29 | 2015 | 2015 |   0 | 2253 | 2344 | -51 | DL |  427 | N197DN | JFK | LAX | 318 | 2475 | 20 | 15 | 2013-12-29 20:00:00 |\n| ⋮ | ⋮ | ⋮ | ⋮ | ⋮ | ⋮ | ⋮ | ⋮ | ⋮ | ⋮ | ⋮ | ⋮ | ⋮ | ⋮ | ⋮ | ⋮ | ⋮ | ⋮ | ⋮ |\n| 2013 | 1 | 31 | NA | 1245 | NA | NA | 1600 | NA | AA | 2253 | N3DTAA | LGA | MIA | NA | 1096 | 12 | 45 | 2013-01-31 12:00:00 |\n| 2013 | 1 | 31 | NA | 1240 | NA | NA | 1540 | NA | AA | 1853 | N4YDAA | EWR | DFW | NA | 1372 | 12 | 40 | 2013-01-31 12:00:00 |\n| 2013 | 1 | 31 | NA | 1200 | NA | NA | 1304 | NA | B6 | 1174 | N203JB | EWR | BOS | NA |  200 | 12 |  0 | 2013-01-31 12:00:00 |\n| 2013 | 1 | 31 | NA | 1415 | NA | NA | 1724 | NA | B6 |  377 | N503JB | LGA | FLL | NA | 1076 | 14 | 15 | 2013-01-31 14:00:00 |\n| 2013 | 1 | 31 | NA |  825 | NA | NA | 1026 | NA | US |  487 | NA     | JFK | CLT | NA |  541 |  8 | 25 | 2013-01-31 08:00:00 |\n| 2013 | 1 | 31 | NA | 1130 | NA | NA | 1334 | NA | US | 1625 | NA     | LGA | CLT | NA |  544 | 11 | 30 | 2013-01-31 11:00:00 |\n| 2013 | 1 | 31 | NA | 1500 | NA | NA | 1653 | NA | US |  720 | NA     | EWR | CLT | NA |  529 | 15 |  0 | 2013-01-31 15:00:00 |\n| 2013 | 1 | 31 | NA |  600 | NA | NA |  703 | NA | US | 2114 | NA     | LGA | BOS | NA |  184 |  6 |  0 | 2013-01-31 06:00:00 |\n| 2013 | 1 | 31 | NA |  700 | NA | NA |  807 | NA | US | 2116 | NA     | LGA | BOS | NA |  184 |  7 |  0 | 2013-01-31 07:00:00 |\n| 2013 | 1 | 31 | NA |  800 | NA | NA |  908 | NA | US | 2118 | NA     | LGA | BOS | NA |  184 |  8 |  0 | 2013-01-31 08:00:00 |\n| 2013 | 1 | 31 | NA | 1200 | NA | NA | 1305 | NA | US | 2126 | NA     | LGA | BOS | NA |  184 | 12 |  0 | 2013-01-31 12:00:00 |\n| 2013 | 1 | 31 | NA | 1300 | NA | NA | 1406 | NA | US | 2128 | NA     | LGA | BOS | NA |  184 | 13 |  0 | 2013-01-31 13:00:00 |\n| 2013 | 1 | 31 | NA | 1500 | NA | NA | 1608 | NA | US | 2132 | NA     | LGA | BOS | NA |  184 | 15 |  0 | 2013-01-31 15:00:00 |\n| 2013 | 1 | 31 | NA | 2100 | NA | NA | 2207 | NA | US | 2144 | NA     | LGA | BOS | NA |  184 | 21 |  0 | 2013-01-31 21:00:00 |\n| 2013 | 1 | 31 | NA |  700 | NA | NA |  807 | NA | US | 2163 | NA     | LGA | DCA | NA |  214 |  7 |  0 | 2013-01-31 07:00:00 |\n| 2013 | 1 | 31 | NA |  800 | NA | NA |  917 | NA | US | 2165 | NA     | LGA | DCA | NA |  214 |  8 |  0 | 2013-01-31 08:00:00 |\n| 2013 | 1 | 31 | NA |  900 | NA | NA | 1022 | NA | US | 2167 | NA     | LGA | DCA | NA |  214 |  9 |  0 | 2013-01-31 09:00:00 |\n| 2013 | 1 | 31 | NA | 1510 | NA | NA | 1650 | NA | WN |  323 | N433LV | LGA | MKE | NA |  738 | 15 | 10 | 2013-01-31 15:00:00 |\n| 2013 | 1 | 31 | NA | 1940 | NA | NA | 2100 | NA | WN |  633 | N295WN | EWR | MDW | NA |  711 | 19 | 40 | 2013-01-31 19:00:00 |\n| 2013 | 1 | 31 | NA | 1435 | NA | NA | 1559 | NA | YV | 3750 | N507MJ | LGA | IAD | NA |  229 | 14 | 35 | 2013-01-31 14:00:00 |\n| 2013 | 1 | 31 | NA | 1635 | NA | NA | 1810 | NA | MQ | 3695 | N544MQ | EWR | ORD | NA |  719 | 16 | 35 | 2013-01-31 16:00:00 |\n| 2013 | 1 | 31 | NA |  825 | NA | NA |  945 | NA | MQ | 4418 | N855MQ | JFK | DCA | NA |  213 |  8 | 25 | 2013-01-31 08:00:00 |\n| 2013 | 1 | 31 | NA | 1300 | NA | NA | 1450 | NA | MQ | 4426 | N736MQ | LGA | CMH | NA |  479 | 13 |  0 | 2013-01-31 13:00:00 |\n| 2013 | 1 | 31 | NA | 1315 | NA | NA | 1520 | NA | MQ | 4564 | N737MQ | LGA | DTW | NA |  502 | 13 | 15 | 2013-01-31 13:00:00 |\n| 2013 | 1 | 31 | NA |  920 | NA | NA | 1125 | NA | MQ | 4582 | N506MQ | LGA | CLT | NA |  544 |  9 | 20 | 2013-01-31 09:00:00 |\n| 2013 | 1 | 31 | NA | 1325 | NA | NA | 1505 | NA | MQ | 4475 | N730MQ | LGA | RDU | NA |  431 | 13 | 25 | 2013-01-31 13:00:00 |\n| 2013 | 1 | 31 | NA | 1200 | NA | NA | 1430 | NA | MQ | 4658 | N505MQ | LGA | ATL | NA |  762 | 12 |  0 | 2013-01-31 12:00:00 |\n| 2013 | 1 | 31 | NA | 1410 | NA | NA | 1555 | NA | MQ | 4491 | N734MQ | LGA | CLE | NA |  419 | 14 | 10 | 2013-01-31 14:00:00 |\n| 2013 | 1 | 31 | NA | 1446 | NA | NA | 1757 | NA | UA |  337 | NA     | LGA | IAH | NA | 1416 | 14 | 46 | 2013-01-31 14:00:00 |\n| 2013 | 1 | 31 | NA |  625 | NA | NA |  934 | NA | UA | 1497 | NA     | LGA | IAH | NA | 1416 |  6 | 25 | 2013-01-31 06:00:00 |\n\n",
            "text/latex": "A data.frame: 336776 × 19\n\\begin{tabular}{lllllllllllllllllll}\n year & month & day & dep\\_time & sched\\_dep\\_time & dep\\_delay & arr\\_time & sched\\_arr\\_time & arr\\_delay & carrier & flight & tailnum & origin & dest & air\\_time & distance & hour & minute & time\\_hour\\\\\n <int> & <int> & <int> & <int> & <int> & <int> & <int> & <int> & <int> & <chr> & <int> & <chr> & <chr> & <chr> & <int> & <int> & <int> & <int> & <chr>\\\\\n\\hline\n\t 2013 & 12 & 27 &  853 &  856 &  -3 & 1052 & 1200 & -68 & UA &  452 & N430UA & EWR & LAS & 277 & 2227 &  8 & 56 & 2013-12-27 08:00:00\\\\\n\t 2013 & 12 & 27 & 1833 & 1836 &  -3 & 2050 & 2157 & -67 & DL & 2357 & N3749D & JFK & SAN & 293 & 2446 & 18 & 36 & 2013-12-27 18:00:00\\\\\n\t 2013 & 12 & 27 & 1728 & 1729 &  -1 & 2011 & 2115 & -64 & VX &  193 & N844VA & EWR & SFO & 323 & 2565 & 17 & 29 & 2013-12-27 17:00:00\\\\\n\t 2013 & 12 & 27 & 1622 & 1630 &  -8 & 1908 & 2011 & -63 & US &  629 & N541UW & JFK & PHX & 267 & 2153 & 16 & 30 & 2013-12-27 16:00:00\\\\\n\t 2013 & 12 & 29 & 1017 & 1025 &  -8 & 1304 & 1404 & -60 & UA &  642 & N510UA & JFK & SFO & 330 & 2586 & 10 & 25 & 2013-12-29 10:00:00\\\\\n\t 2013 & 12 & 26 &  753 &  800 &  -7 & 1053 & 1151 & -58 & UA &  397 & N590UA & JFK & SFO & 333 & 2586 &  8 &  0 & 2013-12-26 08:00:00\\\\\n\t 2013 & 12 & 28 &  625 &  630 &  -5 &  916 & 1014 & -58 & US &  690 & N656AW & EWR & PHX & 272 & 2133 &  6 & 30 & 2013-12-28 06:00:00\\\\\n\t 2013 & 12 & 29 &  818 &  830 & -12 & 1056 & 1154 & -58 & UA &  443 & N595UA & JFK & LAX & 321 & 2475 &  8 & 30 & 2013-12-29 08:00:00\\\\\n\t 2013 & 12 & 27 & 1153 & 1200 &  -7 & 1438 & 1535 & -57 & UA &  766 & N596UA & JFK & SFO & 326 & 2586 & 12 &  0 & 2013-12-27 12:00:00\\\\\n\t 2013 & 12 & 27 & 1410 & 1413 &  -3 & 1637 & 1733 & -56 & UA & 1493 & N69806 & EWR & LAX & 308 & 2454 & 14 & 13 & 2013-12-27 14:00:00\\\\\n\t 2013 & 12 & 27 & 1636 & 1640 &  -4 & 1856 & 1952 & -56 & B6 &   89 & N592JB & JFK & SAN & 298 & 2446 & 16 & 40 & 2013-12-27 16:00:00\\\\\n\t 2013 & 12 & 27 & 1741 & 1740 &   1 & 2023 & 2118 & -55 & B6 &  135 & N566JB & JFK & PHX & 262 & 2153 & 17 & 40 & 2013-12-27 17:00:00\\\\\n\t 2013 & 12 & 26 & 1733 & 1740 &  -7 & 1946 & 2040 & -54 & DL & 2546 & N3735D & JFK & LAS & 293 & 2248 & 17 & 40 & 2013-12-26 17:00:00\\\\\n\t 2013 & 12 & 26 & 1734 & 1729 &   5 & 2021 & 2115 & -54 & VX &  193 & N851VA & EWR & SFO & 330 & 2565 & 17 & 29 & 2013-12-26 17:00:00\\\\\n\t 2013 & 12 & 26 & 1649 & 1648 &   1 & 1945 & 2038 & -53 & UA & 1284 & N53441 & EWR & SFO & 336 & 2565 & 16 & 48 & 2013-12-26 16:00:00\\\\\n\t 2013 & 12 & 27 & 1318 & 1315 &   3 & 1604 & 1657 & -53 & US &  456 & N673AW & JFK & PHX & 259 & 2153 & 13 & 15 & 2013-12-27 13:00:00\\\\\n\t 2013 & 12 & 27 & 1626 & 1630 &  -4 & 1904 & 1957 & -53 & US &  627 & N668AW & EWR & PHX & 258 & 2133 & 16 & 30 & 2013-12-27 16:00:00\\\\\n\t 2013 & 12 & 27 & 1630 & 1635 &  -5 & 1859 & 1952 & -53 & B6 &  423 & N655JB & JFK & LAX & 304 & 2475 & 16 & 35 & 2013-12-27 16:00:00\\\\\n\t 2013 & 12 & 27 & 1008 & 1015 &  -7 & 1250 & 1342 & -52 & US &  604 & N680AW & EWR & PHX & 266 & 2133 & 10 & 15 & 2013-12-27 10:00:00\\\\\n\t 2013 & 12 & 27 & 1214 & 1221 &  -7 & 1453 & 1545 & -52 & UA & 1551 & N27722 & EWR & SNA & 320 & 2434 & 12 & 21 & 2013-12-27 12:00:00\\\\\n\t 2013 & 12 & 27 & 1346 & 1339 &   7 & 1625 & 1717 & -52 & UA &  394 & N819UA & EWR & SFO & 322 & 2565 & 13 & 39 & 2013-12-27 13:00:00\\\\\n\t 2013 & 12 & 28 & 1939 & 1950 & -11 & 2110 & 2202 & -52 & DL & 2131 & N332NB & LGA & DTW &  76 &  502 & 19 & 50 & 2013-12-28 19:00:00\\\\\n\t 2013 & 12 & 11 & 1755 & 1759 &  -4 & 2032 & 2123 & -51 & UA &  997 & N587UA & JFK & LAX & 323 & 2475 & 17 & 59 & 2013-12-11 17:00:00\\\\\n\t 2013 & 12 & 21 & 1857 & 1900 &  -3 & 2158 & 2249 & -51 & DL &  435 & N727TW & JFK & SFO & 340 & 2586 & 19 &  0 & 2013-12-21 19:00:00\\\\\n\t 2013 & 12 & 25 & 1530 & 1530 &   0 & 1824 & 1915 & -51 & AA &   85 & N399AA & JFK & SFO & 332 & 2586 & 15 & 30 & 2013-12-25 15:00:00\\\\\n\t 2013 & 12 & 26 & 1754 & 1756 &  -2 & 2033 & 2124 & -51 & UA &  535 & N518UA & JFK & LAX & 312 & 2475 & 17 & 56 & 2013-12-26 17:00:00\\\\\n\t 2013 & 12 & 27 &  623 &  625 &  -2 &  918 & 1009 & -51 & US &  690 & N647AW & EWR & PHX & 265 & 2133 &  6 & 25 & 2013-12-27 06:00:00\\\\\n\t 2013 & 12 & 27 & 1810 & 1815 &  -5 & 2059 & 2150 & -51 & DL &  426 & N188DN & JFK & LAX & 318 & 2475 & 18 & 15 & 2013-12-27 18:00:00\\\\\n\t 2013 & 12 & 28 &  757 &  800 &  -3 & 1100 & 1151 & -51 & UA &  397 & N546UA & JFK & SFO & 340 & 2586 &  8 &  0 & 2013-12-28 08:00:00\\\\\n\t 2013 & 12 & 29 & 2015 & 2015 &   0 & 2253 & 2344 & -51 & DL &  427 & N197DN & JFK & LAX & 318 & 2475 & 20 & 15 & 2013-12-29 20:00:00\\\\\n\t ⋮ & ⋮ & ⋮ & ⋮ & ⋮ & ⋮ & ⋮ & ⋮ & ⋮ & ⋮ & ⋮ & ⋮ & ⋮ & ⋮ & ⋮ & ⋮ & ⋮ & ⋮ & ⋮\\\\\n\t 2013 & 1 & 31 & NA & 1245 & NA & NA & 1600 & NA & AA & 2253 & N3DTAA & LGA & MIA & NA & 1096 & 12 & 45 & 2013-01-31 12:00:00\\\\\n\t 2013 & 1 & 31 & NA & 1240 & NA & NA & 1540 & NA & AA & 1853 & N4YDAA & EWR & DFW & NA & 1372 & 12 & 40 & 2013-01-31 12:00:00\\\\\n\t 2013 & 1 & 31 & NA & 1200 & NA & NA & 1304 & NA & B6 & 1174 & N203JB & EWR & BOS & NA &  200 & 12 &  0 & 2013-01-31 12:00:00\\\\\n\t 2013 & 1 & 31 & NA & 1415 & NA & NA & 1724 & NA & B6 &  377 & N503JB & LGA & FLL & NA & 1076 & 14 & 15 & 2013-01-31 14:00:00\\\\\n\t 2013 & 1 & 31 & NA &  825 & NA & NA & 1026 & NA & US &  487 & NA     & JFK & CLT & NA &  541 &  8 & 25 & 2013-01-31 08:00:00\\\\\n\t 2013 & 1 & 31 & NA & 1130 & NA & NA & 1334 & NA & US & 1625 & NA     & LGA & CLT & NA &  544 & 11 & 30 & 2013-01-31 11:00:00\\\\\n\t 2013 & 1 & 31 & NA & 1500 & NA & NA & 1653 & NA & US &  720 & NA     & EWR & CLT & NA &  529 & 15 &  0 & 2013-01-31 15:00:00\\\\\n\t 2013 & 1 & 31 & NA &  600 & NA & NA &  703 & NA & US & 2114 & NA     & LGA & BOS & NA &  184 &  6 &  0 & 2013-01-31 06:00:00\\\\\n\t 2013 & 1 & 31 & NA &  700 & NA & NA &  807 & NA & US & 2116 & NA     & LGA & BOS & NA &  184 &  7 &  0 & 2013-01-31 07:00:00\\\\\n\t 2013 & 1 & 31 & NA &  800 & NA & NA &  908 & NA & US & 2118 & NA     & LGA & BOS & NA &  184 &  8 &  0 & 2013-01-31 08:00:00\\\\\n\t 2013 & 1 & 31 & NA & 1200 & NA & NA & 1305 & NA & US & 2126 & NA     & LGA & BOS & NA &  184 & 12 &  0 & 2013-01-31 12:00:00\\\\\n\t 2013 & 1 & 31 & NA & 1300 & NA & NA & 1406 & NA & US & 2128 & NA     & LGA & BOS & NA &  184 & 13 &  0 & 2013-01-31 13:00:00\\\\\n\t 2013 & 1 & 31 & NA & 1500 & NA & NA & 1608 & NA & US & 2132 & NA     & LGA & BOS & NA &  184 & 15 &  0 & 2013-01-31 15:00:00\\\\\n\t 2013 & 1 & 31 & NA & 2100 & NA & NA & 2207 & NA & US & 2144 & NA     & LGA & BOS & NA &  184 & 21 &  0 & 2013-01-31 21:00:00\\\\\n\t 2013 & 1 & 31 & NA &  700 & NA & NA &  807 & NA & US & 2163 & NA     & LGA & DCA & NA &  214 &  7 &  0 & 2013-01-31 07:00:00\\\\\n\t 2013 & 1 & 31 & NA &  800 & NA & NA &  917 & NA & US & 2165 & NA     & LGA & DCA & NA &  214 &  8 &  0 & 2013-01-31 08:00:00\\\\\n\t 2013 & 1 & 31 & NA &  900 & NA & NA & 1022 & NA & US & 2167 & NA     & LGA & DCA & NA &  214 &  9 &  0 & 2013-01-31 09:00:00\\\\\n\t 2013 & 1 & 31 & NA & 1510 & NA & NA & 1650 & NA & WN &  323 & N433LV & LGA & MKE & NA &  738 & 15 & 10 & 2013-01-31 15:00:00\\\\\n\t 2013 & 1 & 31 & NA & 1940 & NA & NA & 2100 & NA & WN &  633 & N295WN & EWR & MDW & NA &  711 & 19 & 40 & 2013-01-31 19:00:00\\\\\n\t 2013 & 1 & 31 & NA & 1435 & NA & NA & 1559 & NA & YV & 3750 & N507MJ & LGA & IAD & NA &  229 & 14 & 35 & 2013-01-31 14:00:00\\\\\n\t 2013 & 1 & 31 & NA & 1635 & NA & NA & 1810 & NA & MQ & 3695 & N544MQ & EWR & ORD & NA &  719 & 16 & 35 & 2013-01-31 16:00:00\\\\\n\t 2013 & 1 & 31 & NA &  825 & NA & NA &  945 & NA & MQ & 4418 & N855MQ & JFK & DCA & NA &  213 &  8 & 25 & 2013-01-31 08:00:00\\\\\n\t 2013 & 1 & 31 & NA & 1300 & NA & NA & 1450 & NA & MQ & 4426 & N736MQ & LGA & CMH & NA &  479 & 13 &  0 & 2013-01-31 13:00:00\\\\\n\t 2013 & 1 & 31 & NA & 1315 & NA & NA & 1520 & NA & MQ & 4564 & N737MQ & LGA & DTW & NA &  502 & 13 & 15 & 2013-01-31 13:00:00\\\\\n\t 2013 & 1 & 31 & NA &  920 & NA & NA & 1125 & NA & MQ & 4582 & N506MQ & LGA & CLT & NA &  544 &  9 & 20 & 2013-01-31 09:00:00\\\\\n\t 2013 & 1 & 31 & NA & 1325 & NA & NA & 1505 & NA & MQ & 4475 & N730MQ & LGA & RDU & NA &  431 & 13 & 25 & 2013-01-31 13:00:00\\\\\n\t 2013 & 1 & 31 & NA & 1200 & NA & NA & 1430 & NA & MQ & 4658 & N505MQ & LGA & ATL & NA &  762 & 12 &  0 & 2013-01-31 12:00:00\\\\\n\t 2013 & 1 & 31 & NA & 1410 & NA & NA & 1555 & NA & MQ & 4491 & N734MQ & LGA & CLE & NA &  419 & 14 & 10 & 2013-01-31 14:00:00\\\\\n\t 2013 & 1 & 31 & NA & 1446 & NA & NA & 1757 & NA & UA &  337 & NA     & LGA & IAH & NA & 1416 & 14 & 46 & 2013-01-31 14:00:00\\\\\n\t 2013 & 1 & 31 & NA &  625 & NA & NA &  934 & NA & UA & 1497 & NA     & LGA & IAH & NA & 1416 &  6 & 25 & 2013-01-31 06:00:00\\\\\n\\end{tabular}\n",
            "text/plain": [
              "       year month day dep_time sched_dep_time dep_delay arr_time sched_arr_time\n",
              "1      2013 12    27   853      856            -3       1052     1200          \n",
              "2      2013 12    27  1833     1836            -3       2050     2157          \n",
              "3      2013 12    27  1728     1729            -1       2011     2115          \n",
              "4      2013 12    27  1622     1630            -8       1908     2011          \n",
              "5      2013 12    29  1017     1025            -8       1304     1404          \n",
              "6      2013 12    26   753      800            -7       1053     1151          \n",
              "7      2013 12    28   625      630            -5        916     1014          \n",
              "8      2013 12    29   818      830           -12       1056     1154          \n",
              "9      2013 12    27  1153     1200            -7       1438     1535          \n",
              "10     2013 12    27  1410     1413            -3       1637     1733          \n",
              "11     2013 12    27  1636     1640            -4       1856     1952          \n",
              "12     2013 12    27  1741     1740             1       2023     2118          \n",
              "13     2013 12    26  1733     1740            -7       1946     2040          \n",
              "14     2013 12    26  1734     1729             5       2021     2115          \n",
              "15     2013 12    26  1649     1648             1       1945     2038          \n",
              "16     2013 12    27  1318     1315             3       1604     1657          \n",
              "17     2013 12    27  1626     1630            -4       1904     1957          \n",
              "18     2013 12    27  1630     1635            -5       1859     1952          \n",
              "19     2013 12    27  1008     1015            -7       1250     1342          \n",
              "20     2013 12    27  1214     1221            -7       1453     1545          \n",
              "21     2013 12    27  1346     1339             7       1625     1717          \n",
              "22     2013 12    28  1939     1950           -11       2110     2202          \n",
              "23     2013 12    11  1755     1759            -4       2032     2123          \n",
              "24     2013 12    21  1857     1900            -3       2158     2249          \n",
              "25     2013 12    25  1530     1530             0       1824     1915          \n",
              "26     2013 12    26  1754     1756            -2       2033     2124          \n",
              "27     2013 12    27   623      625            -2        918     1009          \n",
              "28     2013 12    27  1810     1815            -5       2059     2150          \n",
              "29     2013 12    28   757      800            -3       1100     1151          \n",
              "30     2013 12    29  2015     2015             0       2253     2344          \n",
              "⋮      ⋮    ⋮     ⋮   ⋮        ⋮              ⋮         ⋮        ⋮             \n",
              "336747 2013 1     31  NA       1245           NA        NA       1600          \n",
              "336748 2013 1     31  NA       1240           NA        NA       1540          \n",
              "336749 2013 1     31  NA       1200           NA        NA       1304          \n",
              "336750 2013 1     31  NA       1415           NA        NA       1724          \n",
              "336751 2013 1     31  NA        825           NA        NA       1026          \n",
              "336752 2013 1     31  NA       1130           NA        NA       1334          \n",
              "336753 2013 1     31  NA       1500           NA        NA       1653          \n",
              "336754 2013 1     31  NA        600           NA        NA        703          \n",
              "336755 2013 1     31  NA        700           NA        NA        807          \n",
              "336756 2013 1     31  NA        800           NA        NA        908          \n",
              "336757 2013 1     31  NA       1200           NA        NA       1305          \n",
              "336758 2013 1     31  NA       1300           NA        NA       1406          \n",
              "336759 2013 1     31  NA       1500           NA        NA       1608          \n",
              "336760 2013 1     31  NA       2100           NA        NA       2207          \n",
              "336761 2013 1     31  NA        700           NA        NA        807          \n",
              "336762 2013 1     31  NA        800           NA        NA        917          \n",
              "336763 2013 1     31  NA        900           NA        NA       1022          \n",
              "336764 2013 1     31  NA       1510           NA        NA       1650          \n",
              "336765 2013 1     31  NA       1940           NA        NA       2100          \n",
              "336766 2013 1     31  NA       1435           NA        NA       1559          \n",
              "336767 2013 1     31  NA       1635           NA        NA       1810          \n",
              "336768 2013 1     31  NA        825           NA        NA        945          \n",
              "336769 2013 1     31  NA       1300           NA        NA       1450          \n",
              "336770 2013 1     31  NA       1315           NA        NA       1520          \n",
              "336771 2013 1     31  NA        920           NA        NA       1125          \n",
              "336772 2013 1     31  NA       1325           NA        NA       1505          \n",
              "336773 2013 1     31  NA       1200           NA        NA       1430          \n",
              "336774 2013 1     31  NA       1410           NA        NA       1555          \n",
              "336775 2013 1     31  NA       1446           NA        NA       1757          \n",
              "336776 2013 1     31  NA        625           NA        NA        934          \n",
              "       arr_delay carrier flight tailnum origin dest air_time distance hour\n",
              "1      -68       UA       452   N430UA  EWR    LAS  277      2227      8  \n",
              "2      -67       DL      2357   N3749D  JFK    SAN  293      2446     18  \n",
              "3      -64       VX       193   N844VA  EWR    SFO  323      2565     17  \n",
              "4      -63       US       629   N541UW  JFK    PHX  267      2153     16  \n",
              "5      -60       UA       642   N510UA  JFK    SFO  330      2586     10  \n",
              "6      -58       UA       397   N590UA  JFK    SFO  333      2586      8  \n",
              "7      -58       US       690   N656AW  EWR    PHX  272      2133      6  \n",
              "8      -58       UA       443   N595UA  JFK    LAX  321      2475      8  \n",
              "9      -57       UA       766   N596UA  JFK    SFO  326      2586     12  \n",
              "10     -56       UA      1493   N69806  EWR    LAX  308      2454     14  \n",
              "11     -56       B6        89   N592JB  JFK    SAN  298      2446     16  \n",
              "12     -55       B6       135   N566JB  JFK    PHX  262      2153     17  \n",
              "13     -54       DL      2546   N3735D  JFK    LAS  293      2248     17  \n",
              "14     -54       VX       193   N851VA  EWR    SFO  330      2565     17  \n",
              "15     -53       UA      1284   N53441  EWR    SFO  336      2565     16  \n",
              "16     -53       US       456   N673AW  JFK    PHX  259      2153     13  \n",
              "17     -53       US       627   N668AW  EWR    PHX  258      2133     16  \n",
              "18     -53       B6       423   N655JB  JFK    LAX  304      2475     16  \n",
              "19     -52       US       604   N680AW  EWR    PHX  266      2133     10  \n",
              "20     -52       UA      1551   N27722  EWR    SNA  320      2434     12  \n",
              "21     -52       UA       394   N819UA  EWR    SFO  322      2565     13  \n",
              "22     -52       DL      2131   N332NB  LGA    DTW   76       502     19  \n",
              "23     -51       UA       997   N587UA  JFK    LAX  323      2475     17  \n",
              "24     -51       DL       435   N727TW  JFK    SFO  340      2586     19  \n",
              "25     -51       AA        85   N399AA  JFK    SFO  332      2586     15  \n",
              "26     -51       UA       535   N518UA  JFK    LAX  312      2475     17  \n",
              "27     -51       US       690   N647AW  EWR    PHX  265      2133      6  \n",
              "28     -51       DL       426   N188DN  JFK    LAX  318      2475     18  \n",
              "29     -51       UA       397   N546UA  JFK    SFO  340      2586      8  \n",
              "30     -51       DL       427   N197DN  JFK    LAX  318      2475     20  \n",
              "⋮      ⋮         ⋮       ⋮      ⋮       ⋮      ⋮    ⋮        ⋮        ⋮   \n",
              "336747 NA        AA      2253   N3DTAA  LGA    MIA  NA       1096     12  \n",
              "336748 NA        AA      1853   N4YDAA  EWR    DFW  NA       1372     12  \n",
              "336749 NA        B6      1174   N203JB  EWR    BOS  NA        200     12  \n",
              "336750 NA        B6       377   N503JB  LGA    FLL  NA       1076     14  \n",
              "336751 NA        US       487   NA      JFK    CLT  NA        541      8  \n",
              "336752 NA        US      1625   NA      LGA    CLT  NA        544     11  \n",
              "336753 NA        US       720   NA      EWR    CLT  NA        529     15  \n",
              "336754 NA        US      2114   NA      LGA    BOS  NA        184      6  \n",
              "336755 NA        US      2116   NA      LGA    BOS  NA        184      7  \n",
              "336756 NA        US      2118   NA      LGA    BOS  NA        184      8  \n",
              "336757 NA        US      2126   NA      LGA    BOS  NA        184     12  \n",
              "336758 NA        US      2128   NA      LGA    BOS  NA        184     13  \n",
              "336759 NA        US      2132   NA      LGA    BOS  NA        184     15  \n",
              "336760 NA        US      2144   NA      LGA    BOS  NA        184     21  \n",
              "336761 NA        US      2163   NA      LGA    DCA  NA        214      7  \n",
              "336762 NA        US      2165   NA      LGA    DCA  NA        214      8  \n",
              "336763 NA        US      2167   NA      LGA    DCA  NA        214      9  \n",
              "336764 NA        WN       323   N433LV  LGA    MKE  NA        738     15  \n",
              "336765 NA        WN       633   N295WN  EWR    MDW  NA        711     19  \n",
              "336766 NA        YV      3750   N507MJ  LGA    IAD  NA        229     14  \n",
              "336767 NA        MQ      3695   N544MQ  EWR    ORD  NA        719     16  \n",
              "336768 NA        MQ      4418   N855MQ  JFK    DCA  NA        213      8  \n",
              "336769 NA        MQ      4426   N736MQ  LGA    CMH  NA        479     13  \n",
              "336770 NA        MQ      4564   N737MQ  LGA    DTW  NA        502     13  \n",
              "336771 NA        MQ      4582   N506MQ  LGA    CLT  NA        544      9  \n",
              "336772 NA        MQ      4475   N730MQ  LGA    RDU  NA        431     13  \n",
              "336773 NA        MQ      4658   N505MQ  LGA    ATL  NA        762     12  \n",
              "336774 NA        MQ      4491   N734MQ  LGA    CLE  NA        419     14  \n",
              "336775 NA        UA       337   NA      LGA    IAH  NA       1416     14  \n",
              "336776 NA        UA      1497   NA      LGA    IAH  NA       1416      6  \n",
              "       minute time_hour          \n",
              "1      56     2013-12-27 08:00:00\n",
              "2      36     2013-12-27 18:00:00\n",
              "3      29     2013-12-27 17:00:00\n",
              "4      30     2013-12-27 16:00:00\n",
              "5      25     2013-12-29 10:00:00\n",
              "6       0     2013-12-26 08:00:00\n",
              "7      30     2013-12-28 06:00:00\n",
              "8      30     2013-12-29 08:00:00\n",
              "9       0     2013-12-27 12:00:00\n",
              "10     13     2013-12-27 14:00:00\n",
              "11     40     2013-12-27 16:00:00\n",
              "12     40     2013-12-27 17:00:00\n",
              "13     40     2013-12-26 17:00:00\n",
              "14     29     2013-12-26 17:00:00\n",
              "15     48     2013-12-26 16:00:00\n",
              "16     15     2013-12-27 13:00:00\n",
              "17     30     2013-12-27 16:00:00\n",
              "18     35     2013-12-27 16:00:00\n",
              "19     15     2013-12-27 10:00:00\n",
              "20     21     2013-12-27 12:00:00\n",
              "21     39     2013-12-27 13:00:00\n",
              "22     50     2013-12-28 19:00:00\n",
              "23     59     2013-12-11 17:00:00\n",
              "24      0     2013-12-21 19:00:00\n",
              "25     30     2013-12-25 15:00:00\n",
              "26     56     2013-12-26 17:00:00\n",
              "27     25     2013-12-27 06:00:00\n",
              "28     15     2013-12-27 18:00:00\n",
              "29      0     2013-12-28 08:00:00\n",
              "30     15     2013-12-29 20:00:00\n",
              "⋮      ⋮      ⋮                  \n",
              "336747 45     2013-01-31 12:00:00\n",
              "336748 40     2013-01-31 12:00:00\n",
              "336749  0     2013-01-31 12:00:00\n",
              "336750 15     2013-01-31 14:00:00\n",
              "336751 25     2013-01-31 08:00:00\n",
              "336752 30     2013-01-31 11:00:00\n",
              "336753  0     2013-01-31 15:00:00\n",
              "336754  0     2013-01-31 06:00:00\n",
              "336755  0     2013-01-31 07:00:00\n",
              "336756  0     2013-01-31 08:00:00\n",
              "336757  0     2013-01-31 12:00:00\n",
              "336758  0     2013-01-31 13:00:00\n",
              "336759  0     2013-01-31 15:00:00\n",
              "336760  0     2013-01-31 21:00:00\n",
              "336761  0     2013-01-31 07:00:00\n",
              "336762  0     2013-01-31 08:00:00\n",
              "336763  0     2013-01-31 09:00:00\n",
              "336764 10     2013-01-31 15:00:00\n",
              "336765 40     2013-01-31 19:00:00\n",
              "336766 35     2013-01-31 14:00:00\n",
              "336767 35     2013-01-31 16:00:00\n",
              "336768 25     2013-01-31 08:00:00\n",
              "336769  0     2013-01-31 13:00:00\n",
              "336770 15     2013-01-31 13:00:00\n",
              "336771 20     2013-01-31 09:00:00\n",
              "336772 25     2013-01-31 13:00:00\n",
              "336773  0     2013-01-31 12:00:00\n",
              "336774 10     2013-01-31 14:00:00\n",
              "336775 46     2013-01-31 14:00:00\n",
              "336776 25     2013-01-31 06:00:00"
            ]
          },
          "metadata": {}
        }
      ]
    },
    {
      "cell_type": "markdown",
      "metadata": {
        "id": "7HrxhqMGRPyp"
      },
      "source": [
        "### 4.3 Funciones select() y rename()\n",
        "\n",
        "La con la función `select` podemos seleccionar un subconjunto de columas de la tabla original. A difernecia de SQL en esta sentencia no podremos crear nuevas columnas, sólo renombrarlas en algunos casos. Notar que (obviamente) no se mantienen las columnas que no ingresan como argumento a la función.\n",
        "\n",
        "La función rename() permite renombrar columnas existentes, manteniendo las columnas que no se están renombrando."
      ]
    },
    {
      "cell_type": "code",
      "metadata": {
        "trusted": true,
        "id": "he9R_3AURPyp",
        "colab": {
          "base_uri": "https://localhost:8080/",
          "height": 555
        },
        "outputId": "1f366e09-b6d8-441a-a582-01568372dd5b"
      },
      "source": [
        "# select() y rename() ----------------------------------------------------------------\n",
        "# Ejemplo: Podemos seleccionar las columnas year, month, day, origin, dest\n",
        "\n",
        "# Cómo lo haríamos con la sintaxis básica? (recorr como acceder a través del nombre a un vector, matrix, lista, o data.frame)\n",
        "head(vuelos[, c(\"year\", \"month\", \"day\", \"origin\", \"dest\")])\n",
        "head(vuelos[c(\"year\", \"month\", \"day\", \"origin\", \"dest\")])\n",
        "\n"
      ],
      "execution_count": null,
      "outputs": [
        {
          "output_type": "display_data",
          "data": {
            "text/html": [
              "<table class=\"dataframe\">\n",
              "<caption>A data.frame: 6 × 5</caption>\n",
              "<thead>\n",
              "\t<tr><th></th><th scope=col>year</th><th scope=col>month</th><th scope=col>day</th><th scope=col>origin</th><th scope=col>dest</th></tr>\n",
              "\t<tr><th></th><th scope=col>&lt;int&gt;</th><th scope=col>&lt;int&gt;</th><th scope=col>&lt;int&gt;</th><th scope=col>&lt;chr&gt;</th><th scope=col>&lt;chr&gt;</th></tr>\n",
              "</thead>\n",
              "<tbody>\n",
              "\t<tr><th scope=row>1</th><td>2013</td><td>1</td><td>1</td><td>EWR</td><td>IAH</td></tr>\n",
              "\t<tr><th scope=row>2</th><td>2013</td><td>1</td><td>1</td><td>LGA</td><td>IAH</td></tr>\n",
              "\t<tr><th scope=row>3</th><td>2013</td><td>1</td><td>1</td><td>JFK</td><td>MIA</td></tr>\n",
              "\t<tr><th scope=row>4</th><td>2013</td><td>1</td><td>1</td><td>JFK</td><td>BQN</td></tr>\n",
              "\t<tr><th scope=row>5</th><td>2013</td><td>1</td><td>1</td><td>LGA</td><td>ATL</td></tr>\n",
              "\t<tr><th scope=row>6</th><td>2013</td><td>1</td><td>1</td><td>EWR</td><td>ORD</td></tr>\n",
              "</tbody>\n",
              "</table>\n"
            ],
            "text/markdown": "\nA data.frame: 6 × 5\n\n| <!--/--> | year &lt;int&gt; | month &lt;int&gt; | day &lt;int&gt; | origin &lt;chr&gt; | dest &lt;chr&gt; |\n|---|---|---|---|---|---|\n| 1 | 2013 | 1 | 1 | EWR | IAH |\n| 2 | 2013 | 1 | 1 | LGA | IAH |\n| 3 | 2013 | 1 | 1 | JFK | MIA |\n| 4 | 2013 | 1 | 1 | JFK | BQN |\n| 5 | 2013 | 1 | 1 | LGA | ATL |\n| 6 | 2013 | 1 | 1 | EWR | ORD |\n\n",
            "text/latex": "A data.frame: 6 × 5\n\\begin{tabular}{r|lllll}\n  & year & month & day & origin & dest\\\\\n  & <int> & <int> & <int> & <chr> & <chr>\\\\\n\\hline\n\t1 & 2013 & 1 & 1 & EWR & IAH\\\\\n\t2 & 2013 & 1 & 1 & LGA & IAH\\\\\n\t3 & 2013 & 1 & 1 & JFK & MIA\\\\\n\t4 & 2013 & 1 & 1 & JFK & BQN\\\\\n\t5 & 2013 & 1 & 1 & LGA & ATL\\\\\n\t6 & 2013 & 1 & 1 & EWR & ORD\\\\\n\\end{tabular}\n",
            "text/plain": [
              "  year month day origin dest\n",
              "1 2013 1     1   EWR    IAH \n",
              "2 2013 1     1   LGA    IAH \n",
              "3 2013 1     1   JFK    MIA \n",
              "4 2013 1     1   JFK    BQN \n",
              "5 2013 1     1   LGA    ATL \n",
              "6 2013 1     1   EWR    ORD "
            ]
          },
          "metadata": {}
        },
        {
          "output_type": "display_data",
          "data": {
            "text/html": [
              "<table class=\"dataframe\">\n",
              "<caption>A data.frame: 6 × 5</caption>\n",
              "<thead>\n",
              "\t<tr><th></th><th scope=col>year</th><th scope=col>month</th><th scope=col>day</th><th scope=col>origin</th><th scope=col>dest</th></tr>\n",
              "\t<tr><th></th><th scope=col>&lt;int&gt;</th><th scope=col>&lt;int&gt;</th><th scope=col>&lt;int&gt;</th><th scope=col>&lt;chr&gt;</th><th scope=col>&lt;chr&gt;</th></tr>\n",
              "</thead>\n",
              "<tbody>\n",
              "\t<tr><th scope=row>1</th><td>2013</td><td>1</td><td>1</td><td>EWR</td><td>IAH</td></tr>\n",
              "\t<tr><th scope=row>2</th><td>2013</td><td>1</td><td>1</td><td>LGA</td><td>IAH</td></tr>\n",
              "\t<tr><th scope=row>3</th><td>2013</td><td>1</td><td>1</td><td>JFK</td><td>MIA</td></tr>\n",
              "\t<tr><th scope=row>4</th><td>2013</td><td>1</td><td>1</td><td>JFK</td><td>BQN</td></tr>\n",
              "\t<tr><th scope=row>5</th><td>2013</td><td>1</td><td>1</td><td>LGA</td><td>ATL</td></tr>\n",
              "\t<tr><th scope=row>6</th><td>2013</td><td>1</td><td>1</td><td>EWR</td><td>ORD</td></tr>\n",
              "</tbody>\n",
              "</table>\n"
            ],
            "text/markdown": "\nA data.frame: 6 × 5\n\n| <!--/--> | year &lt;int&gt; | month &lt;int&gt; | day &lt;int&gt; | origin &lt;chr&gt; | dest &lt;chr&gt; |\n|---|---|---|---|---|---|\n| 1 | 2013 | 1 | 1 | EWR | IAH |\n| 2 | 2013 | 1 | 1 | LGA | IAH |\n| 3 | 2013 | 1 | 1 | JFK | MIA |\n| 4 | 2013 | 1 | 1 | JFK | BQN |\n| 5 | 2013 | 1 | 1 | LGA | ATL |\n| 6 | 2013 | 1 | 1 | EWR | ORD |\n\n",
            "text/latex": "A data.frame: 6 × 5\n\\begin{tabular}{r|lllll}\n  & year & month & day & origin & dest\\\\\n  & <int> & <int> & <int> & <chr> & <chr>\\\\\n\\hline\n\t1 & 2013 & 1 & 1 & EWR & IAH\\\\\n\t2 & 2013 & 1 & 1 & LGA & IAH\\\\\n\t3 & 2013 & 1 & 1 & JFK & MIA\\\\\n\t4 & 2013 & 1 & 1 & JFK & BQN\\\\\n\t5 & 2013 & 1 & 1 & LGA & ATL\\\\\n\t6 & 2013 & 1 & 1 & EWR & ORD\\\\\n\\end{tabular}\n",
            "text/plain": [
              "  year month day origin dest\n",
              "1 2013 1     1   EWR    IAH \n",
              "2 2013 1     1   LGA    IAH \n",
              "3 2013 1     1   JFK    MIA \n",
              "4 2013 1     1   JFK    BQN \n",
              "5 2013 1     1   LGA    ATL \n",
              "6 2013 1     1   EWR    ORD "
            ]
          },
          "metadata": {}
        }
      ]
    },
    {
      "cell_type": "code",
      "source": [
        "# Con select()\n",
        "select(vuelos, year, month, day, origin, dest)"
      ],
      "metadata": {
        "colab": {
          "base_uri": "https://localhost:8080/",
          "height": 1000
        },
        "id": "U1XEw9Wfavzx",
        "outputId": "6e5a6640-a92d-4f3d-e86a-89c503b5657b"
      },
      "execution_count": null,
      "outputs": [
        {
          "output_type": "display_data",
          "data": {
            "text/html": [
              "<table class=\"dataframe\">\n",
              "<caption>A data.frame: 336776 × 5</caption>\n",
              "<thead>\n",
              "\t<tr><th scope=col>year</th><th scope=col>month</th><th scope=col>day</th><th scope=col>origin</th><th scope=col>dest</th></tr>\n",
              "\t<tr><th scope=col>&lt;int&gt;</th><th scope=col>&lt;int&gt;</th><th scope=col>&lt;int&gt;</th><th scope=col>&lt;chr&gt;</th><th scope=col>&lt;chr&gt;</th></tr>\n",
              "</thead>\n",
              "<tbody>\n",
              "\t<tr><td>2013</td><td>1</td><td>1</td><td>EWR</td><td>IAH</td></tr>\n",
              "\t<tr><td>2013</td><td>1</td><td>1</td><td>LGA</td><td>IAH</td></tr>\n",
              "\t<tr><td>2013</td><td>1</td><td>1</td><td>JFK</td><td>MIA</td></tr>\n",
              "\t<tr><td>2013</td><td>1</td><td>1</td><td>JFK</td><td>BQN</td></tr>\n",
              "\t<tr><td>2013</td><td>1</td><td>1</td><td>LGA</td><td>ATL</td></tr>\n",
              "\t<tr><td>2013</td><td>1</td><td>1</td><td>EWR</td><td>ORD</td></tr>\n",
              "\t<tr><td>2013</td><td>1</td><td>1</td><td>EWR</td><td>FLL</td></tr>\n",
              "\t<tr><td>2013</td><td>1</td><td>1</td><td>LGA</td><td>IAD</td></tr>\n",
              "\t<tr><td>2013</td><td>1</td><td>1</td><td>JFK</td><td>MCO</td></tr>\n",
              "\t<tr><td>2013</td><td>1</td><td>1</td><td>LGA</td><td>ORD</td></tr>\n",
              "\t<tr><td>2013</td><td>1</td><td>1</td><td>JFK</td><td>PBI</td></tr>\n",
              "\t<tr><td>2013</td><td>1</td><td>1</td><td>JFK</td><td>TPA</td></tr>\n",
              "\t<tr><td>2013</td><td>1</td><td>1</td><td>JFK</td><td>LAX</td></tr>\n",
              "\t<tr><td>2013</td><td>1</td><td>1</td><td>EWR</td><td>SFO</td></tr>\n",
              "\t<tr><td>2013</td><td>1</td><td>1</td><td>LGA</td><td>DFW</td></tr>\n",
              "\t<tr><td>2013</td><td>1</td><td>1</td><td>JFK</td><td>BOS</td></tr>\n",
              "\t<tr><td>2013</td><td>1</td><td>1</td><td>EWR</td><td>LAS</td></tr>\n",
              "\t<tr><td>2013</td><td>1</td><td>1</td><td>LGA</td><td>FLL</td></tr>\n",
              "\t<tr><td>2013</td><td>1</td><td>1</td><td>LGA</td><td>ATL</td></tr>\n",
              "\t<tr><td>2013</td><td>1</td><td>1</td><td>EWR</td><td>PBI</td></tr>\n",
              "\t<tr><td>2013</td><td>1</td><td>1</td><td>LGA</td><td>MSP</td></tr>\n",
              "\t<tr><td>2013</td><td>1</td><td>1</td><td>LGA</td><td>DTW</td></tr>\n",
              "\t<tr><td>2013</td><td>1</td><td>1</td><td>EWR</td><td>MIA</td></tr>\n",
              "\t<tr><td>2013</td><td>1</td><td>1</td><td>JFK</td><td>ATL</td></tr>\n",
              "\t<tr><td>2013</td><td>1</td><td>1</td><td>EWR</td><td>MIA</td></tr>\n",
              "\t<tr><td>2013</td><td>1</td><td>1</td><td>EWR</td><td>ORD</td></tr>\n",
              "\t<tr><td>2013</td><td>1</td><td>1</td><td>JFK</td><td>SFO</td></tr>\n",
              "\t<tr><td>2013</td><td>1</td><td>1</td><td>JFK</td><td>RSW</td></tr>\n",
              "\t<tr><td>2013</td><td>1</td><td>1</td><td>JFK</td><td>SJU</td></tr>\n",
              "\t<tr><td>2013</td><td>1</td><td>1</td><td>EWR</td><td>ATL</td></tr>\n",
              "\t<tr><td>⋮</td><td>⋮</td><td>⋮</td><td>⋮</td><td>⋮</td></tr>\n",
              "\t<tr><td>2013</td><td>9</td><td>30</td><td>LGA</td><td>CHO</td></tr>\n",
              "\t<tr><td>2013</td><td>9</td><td>30</td><td>EWR</td><td>CLT</td></tr>\n",
              "\t<tr><td>2013</td><td>9</td><td>30</td><td>JFK</td><td>DEN</td></tr>\n",
              "\t<tr><td>2013</td><td>9</td><td>30</td><td>LGA</td><td>RIC</td></tr>\n",
              "\t<tr><td>2013</td><td>9</td><td>30</td><td>JFK</td><td>DCA</td></tr>\n",
              "\t<tr><td>2013</td><td>9</td><td>30</td><td>JFK</td><td>LAX</td></tr>\n",
              "\t<tr><td>2013</td><td>9</td><td>30</td><td>EWR</td><td>PWM</td></tr>\n",
              "\t<tr><td>2013</td><td>9</td><td>30</td><td>JFK</td><td>SJU</td></tr>\n",
              "\t<tr><td>2013</td><td>9</td><td>30</td><td>LGA</td><td>FLL</td></tr>\n",
              "\t<tr><td>2013</td><td>9</td><td>30</td><td>EWR</td><td>BOS</td></tr>\n",
              "\t<tr><td>2013</td><td>9</td><td>30</td><td>EWR</td><td>MHT</td></tr>\n",
              "\t<tr><td>2013</td><td>9</td><td>30</td><td>JFK</td><td>BUF</td></tr>\n",
              "\t<tr><td>2013</td><td>9</td><td>30</td><td>LGA</td><td>BGR</td></tr>\n",
              "\t<tr><td>2013</td><td>9</td><td>30</td><td>LGA</td><td>BNA</td></tr>\n",
              "\t<tr><td>2013</td><td>9</td><td>30</td><td>EWR</td><td>STL</td></tr>\n",
              "\t<tr><td>2013</td><td>9</td><td>30</td><td>JFK</td><td>PWM</td></tr>\n",
              "\t<tr><td>2013</td><td>9</td><td>30</td><td>EWR</td><td>SFO</td></tr>\n",
              "\t<tr><td>2013</td><td>9</td><td>30</td><td>JFK</td><td>MCO</td></tr>\n",
              "\t<tr><td>2013</td><td>9</td><td>30</td><td>JFK</td><td>BTV</td></tr>\n",
              "\t<tr><td>2013</td><td>9</td><td>30</td><td>JFK</td><td>SYR</td></tr>\n",
              "\t<tr><td>2013</td><td>9</td><td>30</td><td>JFK</td><td>BUF</td></tr>\n",
              "\t<tr><td>2013</td><td>9</td><td>30</td><td>JFK</td><td>ROC</td></tr>\n",
              "\t<tr><td>2013</td><td>9</td><td>30</td><td>JFK</td><td>BOS</td></tr>\n",
              "\t<tr><td>2013</td><td>9</td><td>30</td><td>JFK</td><td>PSE</td></tr>\n",
              "\t<tr><td>2013</td><td>9</td><td>30</td><td>LGA</td><td>BNA</td></tr>\n",
              "\t<tr><td>2013</td><td>9</td><td>30</td><td>JFK</td><td>DCA</td></tr>\n",
              "\t<tr><td>2013</td><td>9</td><td>30</td><td>LGA</td><td>SYR</td></tr>\n",
              "\t<tr><td>2013</td><td>9</td><td>30</td><td>LGA</td><td>BNA</td></tr>\n",
              "\t<tr><td>2013</td><td>9</td><td>30</td><td>LGA</td><td>CLE</td></tr>\n",
              "\t<tr><td>2013</td><td>9</td><td>30</td><td>LGA</td><td>RDU</td></tr>\n",
              "</tbody>\n",
              "</table>\n"
            ],
            "text/markdown": "\nA data.frame: 336776 × 5\n\n| year &lt;int&gt; | month &lt;int&gt; | day &lt;int&gt; | origin &lt;chr&gt; | dest &lt;chr&gt; |\n|---|---|---|---|---|\n| 2013 | 1 | 1 | EWR | IAH |\n| 2013 | 1 | 1 | LGA | IAH |\n| 2013 | 1 | 1 | JFK | MIA |\n| 2013 | 1 | 1 | JFK | BQN |\n| 2013 | 1 | 1 | LGA | ATL |\n| 2013 | 1 | 1 | EWR | ORD |\n| 2013 | 1 | 1 | EWR | FLL |\n| 2013 | 1 | 1 | LGA | IAD |\n| 2013 | 1 | 1 | JFK | MCO |\n| 2013 | 1 | 1 | LGA | ORD |\n| 2013 | 1 | 1 | JFK | PBI |\n| 2013 | 1 | 1 | JFK | TPA |\n| 2013 | 1 | 1 | JFK | LAX |\n| 2013 | 1 | 1 | EWR | SFO |\n| 2013 | 1 | 1 | LGA | DFW |\n| 2013 | 1 | 1 | JFK | BOS |\n| 2013 | 1 | 1 | EWR | LAS |\n| 2013 | 1 | 1 | LGA | FLL |\n| 2013 | 1 | 1 | LGA | ATL |\n| 2013 | 1 | 1 | EWR | PBI |\n| 2013 | 1 | 1 | LGA | MSP |\n| 2013 | 1 | 1 | LGA | DTW |\n| 2013 | 1 | 1 | EWR | MIA |\n| 2013 | 1 | 1 | JFK | ATL |\n| 2013 | 1 | 1 | EWR | MIA |\n| 2013 | 1 | 1 | EWR | ORD |\n| 2013 | 1 | 1 | JFK | SFO |\n| 2013 | 1 | 1 | JFK | RSW |\n| 2013 | 1 | 1 | JFK | SJU |\n| 2013 | 1 | 1 | EWR | ATL |\n| ⋮ | ⋮ | ⋮ | ⋮ | ⋮ |\n| 2013 | 9 | 30 | LGA | CHO |\n| 2013 | 9 | 30 | EWR | CLT |\n| 2013 | 9 | 30 | JFK | DEN |\n| 2013 | 9 | 30 | LGA | RIC |\n| 2013 | 9 | 30 | JFK | DCA |\n| 2013 | 9 | 30 | JFK | LAX |\n| 2013 | 9 | 30 | EWR | PWM |\n| 2013 | 9 | 30 | JFK | SJU |\n| 2013 | 9 | 30 | LGA | FLL |\n| 2013 | 9 | 30 | EWR | BOS |\n| 2013 | 9 | 30 | EWR | MHT |\n| 2013 | 9 | 30 | JFK | BUF |\n| 2013 | 9 | 30 | LGA | BGR |\n| 2013 | 9 | 30 | LGA | BNA |\n| 2013 | 9 | 30 | EWR | STL |\n| 2013 | 9 | 30 | JFK | PWM |\n| 2013 | 9 | 30 | EWR | SFO |\n| 2013 | 9 | 30 | JFK | MCO |\n| 2013 | 9 | 30 | JFK | BTV |\n| 2013 | 9 | 30 | JFK | SYR |\n| 2013 | 9 | 30 | JFK | BUF |\n| 2013 | 9 | 30 | JFK | ROC |\n| 2013 | 9 | 30 | JFK | BOS |\n| 2013 | 9 | 30 | JFK | PSE |\n| 2013 | 9 | 30 | LGA | BNA |\n| 2013 | 9 | 30 | JFK | DCA |\n| 2013 | 9 | 30 | LGA | SYR |\n| 2013 | 9 | 30 | LGA | BNA |\n| 2013 | 9 | 30 | LGA | CLE |\n| 2013 | 9 | 30 | LGA | RDU |\n\n",
            "text/latex": "A data.frame: 336776 × 5\n\\begin{tabular}{lllll}\n year & month & day & origin & dest\\\\\n <int> & <int> & <int> & <chr> & <chr>\\\\\n\\hline\n\t 2013 & 1 & 1 & EWR & IAH\\\\\n\t 2013 & 1 & 1 & LGA & IAH\\\\\n\t 2013 & 1 & 1 & JFK & MIA\\\\\n\t 2013 & 1 & 1 & JFK & BQN\\\\\n\t 2013 & 1 & 1 & LGA & ATL\\\\\n\t 2013 & 1 & 1 & EWR & ORD\\\\\n\t 2013 & 1 & 1 & EWR & FLL\\\\\n\t 2013 & 1 & 1 & LGA & IAD\\\\\n\t 2013 & 1 & 1 & JFK & MCO\\\\\n\t 2013 & 1 & 1 & LGA & ORD\\\\\n\t 2013 & 1 & 1 & JFK & PBI\\\\\n\t 2013 & 1 & 1 & JFK & TPA\\\\\n\t 2013 & 1 & 1 & JFK & LAX\\\\\n\t 2013 & 1 & 1 & EWR & SFO\\\\\n\t 2013 & 1 & 1 & LGA & DFW\\\\\n\t 2013 & 1 & 1 & JFK & BOS\\\\\n\t 2013 & 1 & 1 & EWR & LAS\\\\\n\t 2013 & 1 & 1 & LGA & FLL\\\\\n\t 2013 & 1 & 1 & LGA & ATL\\\\\n\t 2013 & 1 & 1 & EWR & PBI\\\\\n\t 2013 & 1 & 1 & LGA & MSP\\\\\n\t 2013 & 1 & 1 & LGA & DTW\\\\\n\t 2013 & 1 & 1 & EWR & MIA\\\\\n\t 2013 & 1 & 1 & JFK & ATL\\\\\n\t 2013 & 1 & 1 & EWR & MIA\\\\\n\t 2013 & 1 & 1 & EWR & ORD\\\\\n\t 2013 & 1 & 1 & JFK & SFO\\\\\n\t 2013 & 1 & 1 & JFK & RSW\\\\\n\t 2013 & 1 & 1 & JFK & SJU\\\\\n\t 2013 & 1 & 1 & EWR & ATL\\\\\n\t ⋮ & ⋮ & ⋮ & ⋮ & ⋮\\\\\n\t 2013 & 9 & 30 & LGA & CHO\\\\\n\t 2013 & 9 & 30 & EWR & CLT\\\\\n\t 2013 & 9 & 30 & JFK & DEN\\\\\n\t 2013 & 9 & 30 & LGA & RIC\\\\\n\t 2013 & 9 & 30 & JFK & DCA\\\\\n\t 2013 & 9 & 30 & JFK & LAX\\\\\n\t 2013 & 9 & 30 & EWR & PWM\\\\\n\t 2013 & 9 & 30 & JFK & SJU\\\\\n\t 2013 & 9 & 30 & LGA & FLL\\\\\n\t 2013 & 9 & 30 & EWR & BOS\\\\\n\t 2013 & 9 & 30 & EWR & MHT\\\\\n\t 2013 & 9 & 30 & JFK & BUF\\\\\n\t 2013 & 9 & 30 & LGA & BGR\\\\\n\t 2013 & 9 & 30 & LGA & BNA\\\\\n\t 2013 & 9 & 30 & EWR & STL\\\\\n\t 2013 & 9 & 30 & JFK & PWM\\\\\n\t 2013 & 9 & 30 & EWR & SFO\\\\\n\t 2013 & 9 & 30 & JFK & MCO\\\\\n\t 2013 & 9 & 30 & JFK & BTV\\\\\n\t 2013 & 9 & 30 & JFK & SYR\\\\\n\t 2013 & 9 & 30 & JFK & BUF\\\\\n\t 2013 & 9 & 30 & JFK & ROC\\\\\n\t 2013 & 9 & 30 & JFK & BOS\\\\\n\t 2013 & 9 & 30 & JFK & PSE\\\\\n\t 2013 & 9 & 30 & LGA & BNA\\\\\n\t 2013 & 9 & 30 & JFK & DCA\\\\\n\t 2013 & 9 & 30 & LGA & SYR\\\\\n\t 2013 & 9 & 30 & LGA & BNA\\\\\n\t 2013 & 9 & 30 & LGA & CLE\\\\\n\t 2013 & 9 & 30 & LGA & RDU\\\\\n\\end{tabular}\n",
            "text/plain": [
              "       year month day origin dest\n",
              "1      2013 1     1   EWR    IAH \n",
              "2      2013 1     1   LGA    IAH \n",
              "3      2013 1     1   JFK    MIA \n",
              "4      2013 1     1   JFK    BQN \n",
              "5      2013 1     1   LGA    ATL \n",
              "6      2013 1     1   EWR    ORD \n",
              "7      2013 1     1   EWR    FLL \n",
              "8      2013 1     1   LGA    IAD \n",
              "9      2013 1     1   JFK    MCO \n",
              "10     2013 1     1   LGA    ORD \n",
              "11     2013 1     1   JFK    PBI \n",
              "12     2013 1     1   JFK    TPA \n",
              "13     2013 1     1   JFK    LAX \n",
              "14     2013 1     1   EWR    SFO \n",
              "15     2013 1     1   LGA    DFW \n",
              "16     2013 1     1   JFK    BOS \n",
              "17     2013 1     1   EWR    LAS \n",
              "18     2013 1     1   LGA    FLL \n",
              "19     2013 1     1   LGA    ATL \n",
              "20     2013 1     1   EWR    PBI \n",
              "21     2013 1     1   LGA    MSP \n",
              "22     2013 1     1   LGA    DTW \n",
              "23     2013 1     1   EWR    MIA \n",
              "24     2013 1     1   JFK    ATL \n",
              "25     2013 1     1   EWR    MIA \n",
              "26     2013 1     1   EWR    ORD \n",
              "27     2013 1     1   JFK    SFO \n",
              "28     2013 1     1   JFK    RSW \n",
              "29     2013 1     1   JFK    SJU \n",
              "30     2013 1     1   EWR    ATL \n",
              "⋮      ⋮    ⋮     ⋮   ⋮      ⋮   \n",
              "336747 2013 9     30  LGA    CHO \n",
              "336748 2013 9     30  EWR    CLT \n",
              "336749 2013 9     30  JFK    DEN \n",
              "336750 2013 9     30  LGA    RIC \n",
              "336751 2013 9     30  JFK    DCA \n",
              "336752 2013 9     30  JFK    LAX \n",
              "336753 2013 9     30  EWR    PWM \n",
              "336754 2013 9     30  JFK    SJU \n",
              "336755 2013 9     30  LGA    FLL \n",
              "336756 2013 9     30  EWR    BOS \n",
              "336757 2013 9     30  EWR    MHT \n",
              "336758 2013 9     30  JFK    BUF \n",
              "336759 2013 9     30  LGA    BGR \n",
              "336760 2013 9     30  LGA    BNA \n",
              "336761 2013 9     30  EWR    STL \n",
              "336762 2013 9     30  JFK    PWM \n",
              "336763 2013 9     30  EWR    SFO \n",
              "336764 2013 9     30  JFK    MCO \n",
              "336765 2013 9     30  JFK    BTV \n",
              "336766 2013 9     30  JFK    SYR \n",
              "336767 2013 9     30  JFK    BUF \n",
              "336768 2013 9     30  JFK    ROC \n",
              "336769 2013 9     30  JFK    BOS \n",
              "336770 2013 9     30  JFK    PSE \n",
              "336771 2013 9     30  LGA    BNA \n",
              "336772 2013 9     30  JFK    DCA \n",
              "336773 2013 9     30  LGA    SYR \n",
              "336774 2013 9     30  LGA    BNA \n",
              "336775 2013 9     30  LGA    CLE \n",
              "336776 2013 9     30  LGA    RDU "
            ]
          },
          "metadata": {}
        }
      ]
    },
    {
      "cell_type": "code",
      "metadata": {
        "trusted": true,
        "scrolled": false,
        "id": "HFlJeLmMRPyr",
        "colab": {
          "base_uri": "https://localhost:8080/",
          "height": 1000
        },
        "outputId": "3430f9bb-8544-4e05-a16d-7e693ba19e09"
      },
      "source": [
        "# podemos renombrar la columna year y month\n",
        "rename(vuelos,\n",
        "        anio = year,\n",
        "        mes = month)\n",
        "\n"
      ],
      "execution_count": null,
      "outputs": [
        {
          "output_type": "display_data",
          "data": {
            "text/html": [
              "<table class=\"dataframe\">\n",
              "<caption>A data.frame: 336776 × 19</caption>\n",
              "<thead>\n",
              "\t<tr><th scope=col>anio</th><th scope=col>mes</th><th scope=col>day</th><th scope=col>dep_time</th><th scope=col>sched_dep_time</th><th scope=col>dep_delay</th><th scope=col>arr_time</th><th scope=col>sched_arr_time</th><th scope=col>arr_delay</th><th scope=col>carrier</th><th scope=col>flight</th><th scope=col>tailnum</th><th scope=col>origin</th><th scope=col>dest</th><th scope=col>air_time</th><th scope=col>distance</th><th scope=col>hour</th><th scope=col>minute</th><th scope=col>time_hour</th></tr>\n",
              "\t<tr><th scope=col>&lt;int&gt;</th><th scope=col>&lt;int&gt;</th><th scope=col>&lt;int&gt;</th><th scope=col>&lt;int&gt;</th><th scope=col>&lt;int&gt;</th><th scope=col>&lt;int&gt;</th><th scope=col>&lt;int&gt;</th><th scope=col>&lt;int&gt;</th><th scope=col>&lt;int&gt;</th><th scope=col>&lt;chr&gt;</th><th scope=col>&lt;int&gt;</th><th scope=col>&lt;chr&gt;</th><th scope=col>&lt;chr&gt;</th><th scope=col>&lt;chr&gt;</th><th scope=col>&lt;int&gt;</th><th scope=col>&lt;int&gt;</th><th scope=col>&lt;int&gt;</th><th scope=col>&lt;int&gt;</th><th scope=col>&lt;chr&gt;</th></tr>\n",
              "</thead>\n",
              "<tbody>\n",
              "\t<tr><td>2013</td><td>1</td><td>1</td><td>517</td><td>515</td><td> 2</td><td> 830</td><td> 819</td><td> 11</td><td>UA</td><td>1545</td><td>N14228</td><td>EWR</td><td>IAH</td><td>227</td><td>1400</td><td>5</td><td>15</td><td>2013-01-01 05:00:00</td></tr>\n",
              "\t<tr><td>2013</td><td>1</td><td>1</td><td>533</td><td>529</td><td> 4</td><td> 850</td><td> 830</td><td> 20</td><td>UA</td><td>1714</td><td>N24211</td><td>LGA</td><td>IAH</td><td>227</td><td>1416</td><td>5</td><td>29</td><td>2013-01-01 05:00:00</td></tr>\n",
              "\t<tr><td>2013</td><td>1</td><td>1</td><td>542</td><td>540</td><td> 2</td><td> 923</td><td> 850</td><td> 33</td><td>AA</td><td>1141</td><td>N619AA</td><td>JFK</td><td>MIA</td><td>160</td><td>1089</td><td>5</td><td>40</td><td>2013-01-01 05:00:00</td></tr>\n",
              "\t<tr><td>2013</td><td>1</td><td>1</td><td>544</td><td>545</td><td>-1</td><td>1004</td><td>1022</td><td>-18</td><td>B6</td><td> 725</td><td>N804JB</td><td>JFK</td><td>BQN</td><td>183</td><td>1576</td><td>5</td><td>45</td><td>2013-01-01 05:00:00</td></tr>\n",
              "\t<tr><td>2013</td><td>1</td><td>1</td><td>554</td><td>600</td><td>-6</td><td> 812</td><td> 837</td><td>-25</td><td>DL</td><td> 461</td><td>N668DN</td><td>LGA</td><td>ATL</td><td>116</td><td> 762</td><td>6</td><td> 0</td><td>2013-01-01 06:00:00</td></tr>\n",
              "\t<tr><td>2013</td><td>1</td><td>1</td><td>554</td><td>558</td><td>-4</td><td> 740</td><td> 728</td><td> 12</td><td>UA</td><td>1696</td><td>N39463</td><td>EWR</td><td>ORD</td><td>150</td><td> 719</td><td>5</td><td>58</td><td>2013-01-01 05:00:00</td></tr>\n",
              "\t<tr><td>2013</td><td>1</td><td>1</td><td>555</td><td>600</td><td>-5</td><td> 913</td><td> 854</td><td> 19</td><td>B6</td><td> 507</td><td>N516JB</td><td>EWR</td><td>FLL</td><td>158</td><td>1065</td><td>6</td><td> 0</td><td>2013-01-01 06:00:00</td></tr>\n",
              "\t<tr><td>2013</td><td>1</td><td>1</td><td>557</td><td>600</td><td>-3</td><td> 709</td><td> 723</td><td>-14</td><td>EV</td><td>5708</td><td>N829AS</td><td>LGA</td><td>IAD</td><td> 53</td><td> 229</td><td>6</td><td> 0</td><td>2013-01-01 06:00:00</td></tr>\n",
              "\t<tr><td>2013</td><td>1</td><td>1</td><td>557</td><td>600</td><td>-3</td><td> 838</td><td> 846</td><td> -8</td><td>B6</td><td>  79</td><td>N593JB</td><td>JFK</td><td>MCO</td><td>140</td><td> 944</td><td>6</td><td> 0</td><td>2013-01-01 06:00:00</td></tr>\n",
              "\t<tr><td>2013</td><td>1</td><td>1</td><td>558</td><td>600</td><td>-2</td><td> 753</td><td> 745</td><td>  8</td><td>AA</td><td> 301</td><td>N3ALAA</td><td>LGA</td><td>ORD</td><td>138</td><td> 733</td><td>6</td><td> 0</td><td>2013-01-01 06:00:00</td></tr>\n",
              "\t<tr><td>2013</td><td>1</td><td>1</td><td>558</td><td>600</td><td>-2</td><td> 849</td><td> 851</td><td> -2</td><td>B6</td><td>  49</td><td>N793JB</td><td>JFK</td><td>PBI</td><td>149</td><td>1028</td><td>6</td><td> 0</td><td>2013-01-01 06:00:00</td></tr>\n",
              "\t<tr><td>2013</td><td>1</td><td>1</td><td>558</td><td>600</td><td>-2</td><td> 853</td><td> 856</td><td> -3</td><td>B6</td><td>  71</td><td>N657JB</td><td>JFK</td><td>TPA</td><td>158</td><td>1005</td><td>6</td><td> 0</td><td>2013-01-01 06:00:00</td></tr>\n",
              "\t<tr><td>2013</td><td>1</td><td>1</td><td>558</td><td>600</td><td>-2</td><td> 924</td><td> 917</td><td>  7</td><td>UA</td><td> 194</td><td>N29129</td><td>JFK</td><td>LAX</td><td>345</td><td>2475</td><td>6</td><td> 0</td><td>2013-01-01 06:00:00</td></tr>\n",
              "\t<tr><td>2013</td><td>1</td><td>1</td><td>558</td><td>600</td><td>-2</td><td> 923</td><td> 937</td><td>-14</td><td>UA</td><td>1124</td><td>N53441</td><td>EWR</td><td>SFO</td><td>361</td><td>2565</td><td>6</td><td> 0</td><td>2013-01-01 06:00:00</td></tr>\n",
              "\t<tr><td>2013</td><td>1</td><td>1</td><td>559</td><td>600</td><td>-1</td><td> 941</td><td> 910</td><td> 31</td><td>AA</td><td> 707</td><td>N3DUAA</td><td>LGA</td><td>DFW</td><td>257</td><td>1389</td><td>6</td><td> 0</td><td>2013-01-01 06:00:00</td></tr>\n",
              "\t<tr><td>2013</td><td>1</td><td>1</td><td>559</td><td>559</td><td> 0</td><td> 702</td><td> 706</td><td> -4</td><td>B6</td><td>1806</td><td>N708JB</td><td>JFK</td><td>BOS</td><td> 44</td><td> 187</td><td>5</td><td>59</td><td>2013-01-01 05:00:00</td></tr>\n",
              "\t<tr><td>2013</td><td>1</td><td>1</td><td>559</td><td>600</td><td>-1</td><td> 854</td><td> 902</td><td> -8</td><td>UA</td><td>1187</td><td>N76515</td><td>EWR</td><td>LAS</td><td>337</td><td>2227</td><td>6</td><td> 0</td><td>2013-01-01 06:00:00</td></tr>\n",
              "\t<tr><td>2013</td><td>1</td><td>1</td><td>600</td><td>600</td><td> 0</td><td> 851</td><td> 858</td><td> -7</td><td>B6</td><td> 371</td><td>N595JB</td><td>LGA</td><td>FLL</td><td>152</td><td>1076</td><td>6</td><td> 0</td><td>2013-01-01 06:00:00</td></tr>\n",
              "\t<tr><td>2013</td><td>1</td><td>1</td><td>600</td><td>600</td><td> 0</td><td> 837</td><td> 825</td><td> 12</td><td>MQ</td><td>4650</td><td>N542MQ</td><td>LGA</td><td>ATL</td><td>134</td><td> 762</td><td>6</td><td> 0</td><td>2013-01-01 06:00:00</td></tr>\n",
              "\t<tr><td>2013</td><td>1</td><td>1</td><td>601</td><td>600</td><td> 1</td><td> 844</td><td> 850</td><td> -6</td><td>B6</td><td> 343</td><td>N644JB</td><td>EWR</td><td>PBI</td><td>147</td><td>1023</td><td>6</td><td> 0</td><td>2013-01-01 06:00:00</td></tr>\n",
              "\t<tr><td>2013</td><td>1</td><td>1</td><td>602</td><td>610</td><td>-8</td><td> 812</td><td> 820</td><td> -8</td><td>DL</td><td>1919</td><td>N971DL</td><td>LGA</td><td>MSP</td><td>170</td><td>1020</td><td>6</td><td>10</td><td>2013-01-01 06:00:00</td></tr>\n",
              "\t<tr><td>2013</td><td>1</td><td>1</td><td>602</td><td>605</td><td>-3</td><td> 821</td><td> 805</td><td> 16</td><td>MQ</td><td>4401</td><td>N730MQ</td><td>LGA</td><td>DTW</td><td>105</td><td> 502</td><td>6</td><td> 5</td><td>2013-01-01 06:00:00</td></tr>\n",
              "\t<tr><td>2013</td><td>1</td><td>1</td><td>606</td><td>610</td><td>-4</td><td> 858</td><td> 910</td><td>-12</td><td>AA</td><td>1895</td><td>N633AA</td><td>EWR</td><td>MIA</td><td>152</td><td>1085</td><td>6</td><td>10</td><td>2013-01-01 06:00:00</td></tr>\n",
              "\t<tr><td>2013</td><td>1</td><td>1</td><td>606</td><td>610</td><td>-4</td><td> 837</td><td> 845</td><td> -8</td><td>DL</td><td>1743</td><td>N3739P</td><td>JFK</td><td>ATL</td><td>128</td><td> 760</td><td>6</td><td>10</td><td>2013-01-01 06:00:00</td></tr>\n",
              "\t<tr><td>2013</td><td>1</td><td>1</td><td>607</td><td>607</td><td> 0</td><td> 858</td><td> 915</td><td>-17</td><td>UA</td><td>1077</td><td>N53442</td><td>EWR</td><td>MIA</td><td>157</td><td>1085</td><td>6</td><td> 7</td><td>2013-01-01 06:00:00</td></tr>\n",
              "\t<tr><td>2013</td><td>1</td><td>1</td><td>608</td><td>600</td><td> 8</td><td> 807</td><td> 735</td><td> 32</td><td>MQ</td><td>3768</td><td>N9EAMQ</td><td>EWR</td><td>ORD</td><td>139</td><td> 719</td><td>6</td><td> 0</td><td>2013-01-01 06:00:00</td></tr>\n",
              "\t<tr><td>2013</td><td>1</td><td>1</td><td>611</td><td>600</td><td>11</td><td> 945</td><td> 931</td><td> 14</td><td>UA</td><td> 303</td><td>N532UA</td><td>JFK</td><td>SFO</td><td>366</td><td>2586</td><td>6</td><td> 0</td><td>2013-01-01 06:00:00</td></tr>\n",
              "\t<tr><td>2013</td><td>1</td><td>1</td><td>613</td><td>610</td><td> 3</td><td> 925</td><td> 921</td><td>  4</td><td>B6</td><td> 135</td><td>N635JB</td><td>JFK</td><td>RSW</td><td>175</td><td>1074</td><td>6</td><td>10</td><td>2013-01-01 06:00:00</td></tr>\n",
              "\t<tr><td>2013</td><td>1</td><td>1</td><td>615</td><td>615</td><td> 0</td><td>1039</td><td>1100</td><td>-21</td><td>B6</td><td> 709</td><td>N794JB</td><td>JFK</td><td>SJU</td><td>182</td><td>1598</td><td>6</td><td>15</td><td>2013-01-01 06:00:00</td></tr>\n",
              "\t<tr><td>2013</td><td>1</td><td>1</td><td>615</td><td>615</td><td> 0</td><td> 833</td><td> 842</td><td> -9</td><td>DL</td><td> 575</td><td>N326NB</td><td>EWR</td><td>ATL</td><td>120</td><td> 746</td><td>6</td><td>15</td><td>2013-01-01 06:00:00</td></tr>\n",
              "\t<tr><td>⋮</td><td>⋮</td><td>⋮</td><td>⋮</td><td>⋮</td><td>⋮</td><td>⋮</td><td>⋮</td><td>⋮</td><td>⋮</td><td>⋮</td><td>⋮</td><td>⋮</td><td>⋮</td><td>⋮</td><td>⋮</td><td>⋮</td><td>⋮</td><td>⋮</td></tr>\n",
              "\t<tr><td>2013</td><td>9</td><td>30</td><td>2123</td><td>2125</td><td> -2</td><td>2223</td><td>2247</td><td>-24</td><td>EV</td><td>5489</td><td>N712EV</td><td>LGA</td><td>CHO</td><td> 45</td><td> 305</td><td>21</td><td>25</td><td>2013-09-30 21:00:00</td></tr>\n",
              "\t<tr><td>2013</td><td>9</td><td>30</td><td>2127</td><td>2129</td><td> -2</td><td>2314</td><td>2323</td><td> -9</td><td>EV</td><td>3833</td><td>N16546</td><td>EWR</td><td>CLT</td><td> 72</td><td> 529</td><td>21</td><td>29</td><td>2013-09-30 21:00:00</td></tr>\n",
              "\t<tr><td>2013</td><td>9</td><td>30</td><td>2128</td><td>2130</td><td> -2</td><td>2328</td><td>2359</td><td>-31</td><td>B6</td><td>  97</td><td>N807JB</td><td>JFK</td><td>DEN</td><td>213</td><td>1626</td><td>21</td><td>30</td><td>2013-09-30 21:00:00</td></tr>\n",
              "\t<tr><td>2013</td><td>9</td><td>30</td><td>2129</td><td>2059</td><td> 30</td><td>2230</td><td>2232</td><td> -2</td><td>EV</td><td>5048</td><td>N751EV</td><td>LGA</td><td>RIC</td><td> 45</td><td> 292</td><td>20</td><td>59</td><td>2013-09-30 20:00:00</td></tr>\n",
              "\t<tr><td>2013</td><td>9</td><td>30</td><td>2131</td><td>2140</td><td> -9</td><td>2225</td><td>2255</td><td>-30</td><td>MQ</td><td>3621</td><td>N807MQ</td><td>JFK</td><td>DCA</td><td> 36</td><td> 213</td><td>21</td><td>40</td><td>2013-09-30 21:00:00</td></tr>\n",
              "\t<tr><td>2013</td><td>9</td><td>30</td><td>2140</td><td>2140</td><td>  0</td><td>  10</td><td>  40</td><td>-30</td><td>AA</td><td> 185</td><td>N335AA</td><td>JFK</td><td>LAX</td><td>298</td><td>2475</td><td>21</td><td>40</td><td>2013-09-30 21:00:00</td></tr>\n",
              "\t<tr><td>2013</td><td>9</td><td>30</td><td>2142</td><td>2129</td><td> 13</td><td>2250</td><td>2239</td><td> 11</td><td>EV</td><td>4509</td><td>N12957</td><td>EWR</td><td>PWM</td><td> 47</td><td> 284</td><td>21</td><td>29</td><td>2013-09-30 21:00:00</td></tr>\n",
              "\t<tr><td>2013</td><td>9</td><td>30</td><td>2145</td><td>2145</td><td>  0</td><td> 115</td><td> 140</td><td>-25</td><td>B6</td><td>1103</td><td>N633JB</td><td>JFK</td><td>SJU</td><td>192</td><td>1598</td><td>21</td><td>45</td><td>2013-09-30 21:00:00</td></tr>\n",
              "\t<tr><td>2013</td><td>9</td><td>30</td><td>2147</td><td>2137</td><td> 10</td><td>  30</td><td>  27</td><td>  3</td><td>B6</td><td>1371</td><td>N627JB</td><td>LGA</td><td>FLL</td><td>139</td><td>1076</td><td>21</td><td>37</td><td>2013-09-30 21:00:00</td></tr>\n",
              "\t<tr><td>2013</td><td>9</td><td>30</td><td>2149</td><td>2156</td><td> -7</td><td>2245</td><td>2308</td><td>-23</td><td>UA</td><td> 523</td><td>N813UA</td><td>EWR</td><td>BOS</td><td> 37</td><td> 200</td><td>21</td><td>56</td><td>2013-09-30 21:00:00</td></tr>\n",
              "\t<tr><td>2013</td><td>9</td><td>30</td><td>2150</td><td>2159</td><td> -9</td><td>2250</td><td>2306</td><td>-16</td><td>EV</td><td>3842</td><td>N10575</td><td>EWR</td><td>MHT</td><td> 39</td><td> 209</td><td>21</td><td>59</td><td>2013-09-30 21:00:00</td></tr>\n",
              "\t<tr><td>2013</td><td>9</td><td>30</td><td>2159</td><td>1845</td><td>194</td><td>2344</td><td>2030</td><td>194</td><td>9E</td><td>3320</td><td>N906XJ</td><td>JFK</td><td>BUF</td><td> 50</td><td> 301</td><td>18</td><td>45</td><td>2013-09-30 18:00:00</td></tr>\n",
              "\t<tr><td>2013</td><td>9</td><td>30</td><td>2203</td><td>2205</td><td> -2</td><td>2339</td><td>2331</td><td>  8</td><td>EV</td><td>5311</td><td>N722EV</td><td>LGA</td><td>BGR</td><td> 61</td><td> 378</td><td>22</td><td> 5</td><td>2013-09-30 22:00:00</td></tr>\n",
              "\t<tr><td>2013</td><td>9</td><td>30</td><td>2207</td><td>2140</td><td> 27</td><td>2257</td><td>2250</td><td>  7</td><td>MQ</td><td>3660</td><td>N532MQ</td><td>LGA</td><td>BNA</td><td> 97</td><td> 764</td><td>21</td><td>40</td><td>2013-09-30 21:00:00</td></tr>\n",
              "\t<tr><td>2013</td><td>9</td><td>30</td><td>2211</td><td>2059</td><td> 72</td><td>2339</td><td>2242</td><td> 57</td><td>EV</td><td>4672</td><td>N12145</td><td>EWR</td><td>STL</td><td>120</td><td> 872</td><td>20</td><td>59</td><td>2013-09-30 20:00:00</td></tr>\n",
              "\t<tr><td>2013</td><td>9</td><td>30</td><td>2231</td><td>2245</td><td>-14</td><td>2335</td><td>2356</td><td>-21</td><td>B6</td><td> 108</td><td>N193JB</td><td>JFK</td><td>PWM</td><td> 48</td><td> 273</td><td>22</td><td>45</td><td>2013-09-30 22:00:00</td></tr>\n",
              "\t<tr><td>2013</td><td>9</td><td>30</td><td>2233</td><td>2113</td><td> 80</td><td> 112</td><td>  30</td><td> 42</td><td>UA</td><td> 471</td><td>N578UA</td><td>EWR</td><td>SFO</td><td>318</td><td>2565</td><td>21</td><td>13</td><td>2013-09-30 21:00:00</td></tr>\n",
              "\t<tr><td>2013</td><td>9</td><td>30</td><td>2235</td><td>2001</td><td>154</td><td>  59</td><td>2249</td><td>130</td><td>B6</td><td>1083</td><td>N804JB</td><td>JFK</td><td>MCO</td><td>123</td><td> 944</td><td>20</td><td> 1</td><td>2013-09-30 20:00:00</td></tr>\n",
              "\t<tr><td>2013</td><td>9</td><td>30</td><td>2237</td><td>2245</td><td> -8</td><td>2345</td><td>2353</td><td> -8</td><td>B6</td><td> 234</td><td>N318JB</td><td>JFK</td><td>BTV</td><td> 43</td><td> 266</td><td>22</td><td>45</td><td>2013-09-30 22:00:00</td></tr>\n",
              "\t<tr><td>2013</td><td>9</td><td>30</td><td>2240</td><td>2245</td><td> -5</td><td>2334</td><td>2351</td><td>-17</td><td>B6</td><td>1816</td><td>N354JB</td><td>JFK</td><td>SYR</td><td> 41</td><td> 209</td><td>22</td><td>45</td><td>2013-09-30 22:00:00</td></tr>\n",
              "\t<tr><td>2013</td><td>9</td><td>30</td><td>2240</td><td>2250</td><td>-10</td><td>2347</td><td>   7</td><td>-20</td><td>B6</td><td>2002</td><td>N281JB</td><td>JFK</td><td>BUF</td><td> 52</td><td> 301</td><td>22</td><td>50</td><td>2013-09-30 22:00:00</td></tr>\n",
              "\t<tr><td>2013</td><td>9</td><td>30</td><td>2241</td><td>2246</td><td> -5</td><td>2345</td><td>   1</td><td>-16</td><td>B6</td><td> 486</td><td>N346JB</td><td>JFK</td><td>ROC</td><td> 47</td><td> 264</td><td>22</td><td>46</td><td>2013-09-30 22:00:00</td></tr>\n",
              "\t<tr><td>2013</td><td>9</td><td>30</td><td>2307</td><td>2255</td><td> 12</td><td>2359</td><td>2358</td><td>  1</td><td>B6</td><td> 718</td><td>N565JB</td><td>JFK</td><td>BOS</td><td> 33</td><td> 187</td><td>22</td><td>55</td><td>2013-09-30 22:00:00</td></tr>\n",
              "\t<tr><td>2013</td><td>9</td><td>30</td><td>2349</td><td>2359</td><td>-10</td><td> 325</td><td> 350</td><td>-25</td><td>B6</td><td> 745</td><td>N516JB</td><td>JFK</td><td>PSE</td><td>196</td><td>1617</td><td>23</td><td>59</td><td>2013-09-30 23:00:00</td></tr>\n",
              "\t<tr><td>2013</td><td>9</td><td>30</td><td>  NA</td><td>1842</td><td> NA</td><td>  NA</td><td>2019</td><td> NA</td><td>EV</td><td>5274</td><td>N740EV</td><td>LGA</td><td>BNA</td><td> NA</td><td> 764</td><td>18</td><td>42</td><td>2013-09-30 18:00:00</td></tr>\n",
              "\t<tr><td>2013</td><td>9</td><td>30</td><td>  NA</td><td>1455</td><td> NA</td><td>  NA</td><td>1634</td><td> NA</td><td>9E</td><td>3393</td><td>NA    </td><td>JFK</td><td>DCA</td><td> NA</td><td> 213</td><td>14</td><td>55</td><td>2013-09-30 14:00:00</td></tr>\n",
              "\t<tr><td>2013</td><td>9</td><td>30</td><td>  NA</td><td>2200</td><td> NA</td><td>  NA</td><td>2312</td><td> NA</td><td>9E</td><td>3525</td><td>NA    </td><td>LGA</td><td>SYR</td><td> NA</td><td> 198</td><td>22</td><td> 0</td><td>2013-09-30 22:00:00</td></tr>\n",
              "\t<tr><td>2013</td><td>9</td><td>30</td><td>  NA</td><td>1210</td><td> NA</td><td>  NA</td><td>1330</td><td> NA</td><td>MQ</td><td>3461</td><td>N535MQ</td><td>LGA</td><td>BNA</td><td> NA</td><td> 764</td><td>12</td><td>10</td><td>2013-09-30 12:00:00</td></tr>\n",
              "\t<tr><td>2013</td><td>9</td><td>30</td><td>  NA</td><td>1159</td><td> NA</td><td>  NA</td><td>1344</td><td> NA</td><td>MQ</td><td>3572</td><td>N511MQ</td><td>LGA</td><td>CLE</td><td> NA</td><td> 419</td><td>11</td><td>59</td><td>2013-09-30 11:00:00</td></tr>\n",
              "\t<tr><td>2013</td><td>9</td><td>30</td><td>  NA</td><td> 840</td><td> NA</td><td>  NA</td><td>1020</td><td> NA</td><td>MQ</td><td>3531</td><td>N839MQ</td><td>LGA</td><td>RDU</td><td> NA</td><td> 431</td><td> 8</td><td>40</td><td>2013-09-30 08:00:00</td></tr>\n",
              "</tbody>\n",
              "</table>\n"
            ],
            "text/markdown": "\nA data.frame: 336776 × 19\n\n| anio &lt;int&gt; | mes &lt;int&gt; | day &lt;int&gt; | dep_time &lt;int&gt; | sched_dep_time &lt;int&gt; | dep_delay &lt;int&gt; | arr_time &lt;int&gt; | sched_arr_time &lt;int&gt; | arr_delay &lt;int&gt; | carrier &lt;chr&gt; | flight &lt;int&gt; | tailnum &lt;chr&gt; | origin &lt;chr&gt; | dest &lt;chr&gt; | air_time &lt;int&gt; | distance &lt;int&gt; | hour &lt;int&gt; | minute &lt;int&gt; | time_hour &lt;chr&gt; |\n|---|---|---|---|---|---|---|---|---|---|---|---|---|---|---|---|---|---|---|\n| 2013 | 1 | 1 | 517 | 515 |  2 |  830 |  819 |  11 | UA | 1545 | N14228 | EWR | IAH | 227 | 1400 | 5 | 15 | 2013-01-01 05:00:00 |\n| 2013 | 1 | 1 | 533 | 529 |  4 |  850 |  830 |  20 | UA | 1714 | N24211 | LGA | IAH | 227 | 1416 | 5 | 29 | 2013-01-01 05:00:00 |\n| 2013 | 1 | 1 | 542 | 540 |  2 |  923 |  850 |  33 | AA | 1141 | N619AA | JFK | MIA | 160 | 1089 | 5 | 40 | 2013-01-01 05:00:00 |\n| 2013 | 1 | 1 | 544 | 545 | -1 | 1004 | 1022 | -18 | B6 |  725 | N804JB | JFK | BQN | 183 | 1576 | 5 | 45 | 2013-01-01 05:00:00 |\n| 2013 | 1 | 1 | 554 | 600 | -6 |  812 |  837 | -25 | DL |  461 | N668DN | LGA | ATL | 116 |  762 | 6 |  0 | 2013-01-01 06:00:00 |\n| 2013 | 1 | 1 | 554 | 558 | -4 |  740 |  728 |  12 | UA | 1696 | N39463 | EWR | ORD | 150 |  719 | 5 | 58 | 2013-01-01 05:00:00 |\n| 2013 | 1 | 1 | 555 | 600 | -5 |  913 |  854 |  19 | B6 |  507 | N516JB | EWR | FLL | 158 | 1065 | 6 |  0 | 2013-01-01 06:00:00 |\n| 2013 | 1 | 1 | 557 | 600 | -3 |  709 |  723 | -14 | EV | 5708 | N829AS | LGA | IAD |  53 |  229 | 6 |  0 | 2013-01-01 06:00:00 |\n| 2013 | 1 | 1 | 557 | 600 | -3 |  838 |  846 |  -8 | B6 |   79 | N593JB | JFK | MCO | 140 |  944 | 6 |  0 | 2013-01-01 06:00:00 |\n| 2013 | 1 | 1 | 558 | 600 | -2 |  753 |  745 |   8 | AA |  301 | N3ALAA | LGA | ORD | 138 |  733 | 6 |  0 | 2013-01-01 06:00:00 |\n| 2013 | 1 | 1 | 558 | 600 | -2 |  849 |  851 |  -2 | B6 |   49 | N793JB | JFK | PBI | 149 | 1028 | 6 |  0 | 2013-01-01 06:00:00 |\n| 2013 | 1 | 1 | 558 | 600 | -2 |  853 |  856 |  -3 | B6 |   71 | N657JB | JFK | TPA | 158 | 1005 | 6 |  0 | 2013-01-01 06:00:00 |\n| 2013 | 1 | 1 | 558 | 600 | -2 |  924 |  917 |   7 | UA |  194 | N29129 | JFK | LAX | 345 | 2475 | 6 |  0 | 2013-01-01 06:00:00 |\n| 2013 | 1 | 1 | 558 | 600 | -2 |  923 |  937 | -14 | UA | 1124 | N53441 | EWR | SFO | 361 | 2565 | 6 |  0 | 2013-01-01 06:00:00 |\n| 2013 | 1 | 1 | 559 | 600 | -1 |  941 |  910 |  31 | AA |  707 | N3DUAA | LGA | DFW | 257 | 1389 | 6 |  0 | 2013-01-01 06:00:00 |\n| 2013 | 1 | 1 | 559 | 559 |  0 |  702 |  706 |  -4 | B6 | 1806 | N708JB | JFK | BOS |  44 |  187 | 5 | 59 | 2013-01-01 05:00:00 |\n| 2013 | 1 | 1 | 559 | 600 | -1 |  854 |  902 |  -8 | UA | 1187 | N76515 | EWR | LAS | 337 | 2227 | 6 |  0 | 2013-01-01 06:00:00 |\n| 2013 | 1 | 1 | 600 | 600 |  0 |  851 |  858 |  -7 | B6 |  371 | N595JB | LGA | FLL | 152 | 1076 | 6 |  0 | 2013-01-01 06:00:00 |\n| 2013 | 1 | 1 | 600 | 600 |  0 |  837 |  825 |  12 | MQ | 4650 | N542MQ | LGA | ATL | 134 |  762 | 6 |  0 | 2013-01-01 06:00:00 |\n| 2013 | 1 | 1 | 601 | 600 |  1 |  844 |  850 |  -6 | B6 |  343 | N644JB | EWR | PBI | 147 | 1023 | 6 |  0 | 2013-01-01 06:00:00 |\n| 2013 | 1 | 1 | 602 | 610 | -8 |  812 |  820 |  -8 | DL | 1919 | N971DL | LGA | MSP | 170 | 1020 | 6 | 10 | 2013-01-01 06:00:00 |\n| 2013 | 1 | 1 | 602 | 605 | -3 |  821 |  805 |  16 | MQ | 4401 | N730MQ | LGA | DTW | 105 |  502 | 6 |  5 | 2013-01-01 06:00:00 |\n| 2013 | 1 | 1 | 606 | 610 | -4 |  858 |  910 | -12 | AA | 1895 | N633AA | EWR | MIA | 152 | 1085 | 6 | 10 | 2013-01-01 06:00:00 |\n| 2013 | 1 | 1 | 606 | 610 | -4 |  837 |  845 |  -8 | DL | 1743 | N3739P | JFK | ATL | 128 |  760 | 6 | 10 | 2013-01-01 06:00:00 |\n| 2013 | 1 | 1 | 607 | 607 |  0 |  858 |  915 | -17 | UA | 1077 | N53442 | EWR | MIA | 157 | 1085 | 6 |  7 | 2013-01-01 06:00:00 |\n| 2013 | 1 | 1 | 608 | 600 |  8 |  807 |  735 |  32 | MQ | 3768 | N9EAMQ | EWR | ORD | 139 |  719 | 6 |  0 | 2013-01-01 06:00:00 |\n| 2013 | 1 | 1 | 611 | 600 | 11 |  945 |  931 |  14 | UA |  303 | N532UA | JFK | SFO | 366 | 2586 | 6 |  0 | 2013-01-01 06:00:00 |\n| 2013 | 1 | 1 | 613 | 610 |  3 |  925 |  921 |   4 | B6 |  135 | N635JB | JFK | RSW | 175 | 1074 | 6 | 10 | 2013-01-01 06:00:00 |\n| 2013 | 1 | 1 | 615 | 615 |  0 | 1039 | 1100 | -21 | B6 |  709 | N794JB | JFK | SJU | 182 | 1598 | 6 | 15 | 2013-01-01 06:00:00 |\n| 2013 | 1 | 1 | 615 | 615 |  0 |  833 |  842 |  -9 | DL |  575 | N326NB | EWR | ATL | 120 |  746 | 6 | 15 | 2013-01-01 06:00:00 |\n| ⋮ | ⋮ | ⋮ | ⋮ | ⋮ | ⋮ | ⋮ | ⋮ | ⋮ | ⋮ | ⋮ | ⋮ | ⋮ | ⋮ | ⋮ | ⋮ | ⋮ | ⋮ | ⋮ |\n| 2013 | 9 | 30 | 2123 | 2125 |  -2 | 2223 | 2247 | -24 | EV | 5489 | N712EV | LGA | CHO |  45 |  305 | 21 | 25 | 2013-09-30 21:00:00 |\n| 2013 | 9 | 30 | 2127 | 2129 |  -2 | 2314 | 2323 |  -9 | EV | 3833 | N16546 | EWR | CLT |  72 |  529 | 21 | 29 | 2013-09-30 21:00:00 |\n| 2013 | 9 | 30 | 2128 | 2130 |  -2 | 2328 | 2359 | -31 | B6 |   97 | N807JB | JFK | DEN | 213 | 1626 | 21 | 30 | 2013-09-30 21:00:00 |\n| 2013 | 9 | 30 | 2129 | 2059 |  30 | 2230 | 2232 |  -2 | EV | 5048 | N751EV | LGA | RIC |  45 |  292 | 20 | 59 | 2013-09-30 20:00:00 |\n| 2013 | 9 | 30 | 2131 | 2140 |  -9 | 2225 | 2255 | -30 | MQ | 3621 | N807MQ | JFK | DCA |  36 |  213 | 21 | 40 | 2013-09-30 21:00:00 |\n| 2013 | 9 | 30 | 2140 | 2140 |   0 |   10 |   40 | -30 | AA |  185 | N335AA | JFK | LAX | 298 | 2475 | 21 | 40 | 2013-09-30 21:00:00 |\n| 2013 | 9 | 30 | 2142 | 2129 |  13 | 2250 | 2239 |  11 | EV | 4509 | N12957 | EWR | PWM |  47 |  284 | 21 | 29 | 2013-09-30 21:00:00 |\n| 2013 | 9 | 30 | 2145 | 2145 |   0 |  115 |  140 | -25 | B6 | 1103 | N633JB | JFK | SJU | 192 | 1598 | 21 | 45 | 2013-09-30 21:00:00 |\n| 2013 | 9 | 30 | 2147 | 2137 |  10 |   30 |   27 |   3 | B6 | 1371 | N627JB | LGA | FLL | 139 | 1076 | 21 | 37 | 2013-09-30 21:00:00 |\n| 2013 | 9 | 30 | 2149 | 2156 |  -7 | 2245 | 2308 | -23 | UA |  523 | N813UA | EWR | BOS |  37 |  200 | 21 | 56 | 2013-09-30 21:00:00 |\n| 2013 | 9 | 30 | 2150 | 2159 |  -9 | 2250 | 2306 | -16 | EV | 3842 | N10575 | EWR | MHT |  39 |  209 | 21 | 59 | 2013-09-30 21:00:00 |\n| 2013 | 9 | 30 | 2159 | 1845 | 194 | 2344 | 2030 | 194 | 9E | 3320 | N906XJ | JFK | BUF |  50 |  301 | 18 | 45 | 2013-09-30 18:00:00 |\n| 2013 | 9 | 30 | 2203 | 2205 |  -2 | 2339 | 2331 |   8 | EV | 5311 | N722EV | LGA | BGR |  61 |  378 | 22 |  5 | 2013-09-30 22:00:00 |\n| 2013 | 9 | 30 | 2207 | 2140 |  27 | 2257 | 2250 |   7 | MQ | 3660 | N532MQ | LGA | BNA |  97 |  764 | 21 | 40 | 2013-09-30 21:00:00 |\n| 2013 | 9 | 30 | 2211 | 2059 |  72 | 2339 | 2242 |  57 | EV | 4672 | N12145 | EWR | STL | 120 |  872 | 20 | 59 | 2013-09-30 20:00:00 |\n| 2013 | 9 | 30 | 2231 | 2245 | -14 | 2335 | 2356 | -21 | B6 |  108 | N193JB | JFK | PWM |  48 |  273 | 22 | 45 | 2013-09-30 22:00:00 |\n| 2013 | 9 | 30 | 2233 | 2113 |  80 |  112 |   30 |  42 | UA |  471 | N578UA | EWR | SFO | 318 | 2565 | 21 | 13 | 2013-09-30 21:00:00 |\n| 2013 | 9 | 30 | 2235 | 2001 | 154 |   59 | 2249 | 130 | B6 | 1083 | N804JB | JFK | MCO | 123 |  944 | 20 |  1 | 2013-09-30 20:00:00 |\n| 2013 | 9 | 30 | 2237 | 2245 |  -8 | 2345 | 2353 |  -8 | B6 |  234 | N318JB | JFK | BTV |  43 |  266 | 22 | 45 | 2013-09-30 22:00:00 |\n| 2013 | 9 | 30 | 2240 | 2245 |  -5 | 2334 | 2351 | -17 | B6 | 1816 | N354JB | JFK | SYR |  41 |  209 | 22 | 45 | 2013-09-30 22:00:00 |\n| 2013 | 9 | 30 | 2240 | 2250 | -10 | 2347 |    7 | -20 | B6 | 2002 | N281JB | JFK | BUF |  52 |  301 | 22 | 50 | 2013-09-30 22:00:00 |\n| 2013 | 9 | 30 | 2241 | 2246 |  -5 | 2345 |    1 | -16 | B6 |  486 | N346JB | JFK | ROC |  47 |  264 | 22 | 46 | 2013-09-30 22:00:00 |\n| 2013 | 9 | 30 | 2307 | 2255 |  12 | 2359 | 2358 |   1 | B6 |  718 | N565JB | JFK | BOS |  33 |  187 | 22 | 55 | 2013-09-30 22:00:00 |\n| 2013 | 9 | 30 | 2349 | 2359 | -10 |  325 |  350 | -25 | B6 |  745 | N516JB | JFK | PSE | 196 | 1617 | 23 | 59 | 2013-09-30 23:00:00 |\n| 2013 | 9 | 30 |   NA | 1842 |  NA |   NA | 2019 |  NA | EV | 5274 | N740EV | LGA | BNA |  NA |  764 | 18 | 42 | 2013-09-30 18:00:00 |\n| 2013 | 9 | 30 |   NA | 1455 |  NA |   NA | 1634 |  NA | 9E | 3393 | NA     | JFK | DCA |  NA |  213 | 14 | 55 | 2013-09-30 14:00:00 |\n| 2013 | 9 | 30 |   NA | 2200 |  NA |   NA | 2312 |  NA | 9E | 3525 | NA     | LGA | SYR |  NA |  198 | 22 |  0 | 2013-09-30 22:00:00 |\n| 2013 | 9 | 30 |   NA | 1210 |  NA |   NA | 1330 |  NA | MQ | 3461 | N535MQ | LGA | BNA |  NA |  764 | 12 | 10 | 2013-09-30 12:00:00 |\n| 2013 | 9 | 30 |   NA | 1159 |  NA |   NA | 1344 |  NA | MQ | 3572 | N511MQ | LGA | CLE |  NA |  419 | 11 | 59 | 2013-09-30 11:00:00 |\n| 2013 | 9 | 30 |   NA |  840 |  NA |   NA | 1020 |  NA | MQ | 3531 | N839MQ | LGA | RDU |  NA |  431 |  8 | 40 | 2013-09-30 08:00:00 |\n\n",
            "text/latex": "A data.frame: 336776 × 19\n\\begin{tabular}{lllllllllllllllllll}\n anio & mes & day & dep\\_time & sched\\_dep\\_time & dep\\_delay & arr\\_time & sched\\_arr\\_time & arr\\_delay & carrier & flight & tailnum & origin & dest & air\\_time & distance & hour & minute & time\\_hour\\\\\n <int> & <int> & <int> & <int> & <int> & <int> & <int> & <int> & <int> & <chr> & <int> & <chr> & <chr> & <chr> & <int> & <int> & <int> & <int> & <chr>\\\\\n\\hline\n\t 2013 & 1 & 1 & 517 & 515 &  2 &  830 &  819 &  11 & UA & 1545 & N14228 & EWR & IAH & 227 & 1400 & 5 & 15 & 2013-01-01 05:00:00\\\\\n\t 2013 & 1 & 1 & 533 & 529 &  4 &  850 &  830 &  20 & UA & 1714 & N24211 & LGA & IAH & 227 & 1416 & 5 & 29 & 2013-01-01 05:00:00\\\\\n\t 2013 & 1 & 1 & 542 & 540 &  2 &  923 &  850 &  33 & AA & 1141 & N619AA & JFK & MIA & 160 & 1089 & 5 & 40 & 2013-01-01 05:00:00\\\\\n\t 2013 & 1 & 1 & 544 & 545 & -1 & 1004 & 1022 & -18 & B6 &  725 & N804JB & JFK & BQN & 183 & 1576 & 5 & 45 & 2013-01-01 05:00:00\\\\\n\t 2013 & 1 & 1 & 554 & 600 & -6 &  812 &  837 & -25 & DL &  461 & N668DN & LGA & ATL & 116 &  762 & 6 &  0 & 2013-01-01 06:00:00\\\\\n\t 2013 & 1 & 1 & 554 & 558 & -4 &  740 &  728 &  12 & UA & 1696 & N39463 & EWR & ORD & 150 &  719 & 5 & 58 & 2013-01-01 05:00:00\\\\\n\t 2013 & 1 & 1 & 555 & 600 & -5 &  913 &  854 &  19 & B6 &  507 & N516JB & EWR & FLL & 158 & 1065 & 6 &  0 & 2013-01-01 06:00:00\\\\\n\t 2013 & 1 & 1 & 557 & 600 & -3 &  709 &  723 & -14 & EV & 5708 & N829AS & LGA & IAD &  53 &  229 & 6 &  0 & 2013-01-01 06:00:00\\\\\n\t 2013 & 1 & 1 & 557 & 600 & -3 &  838 &  846 &  -8 & B6 &   79 & N593JB & JFK & MCO & 140 &  944 & 6 &  0 & 2013-01-01 06:00:00\\\\\n\t 2013 & 1 & 1 & 558 & 600 & -2 &  753 &  745 &   8 & AA &  301 & N3ALAA & LGA & ORD & 138 &  733 & 6 &  0 & 2013-01-01 06:00:00\\\\\n\t 2013 & 1 & 1 & 558 & 600 & -2 &  849 &  851 &  -2 & B6 &   49 & N793JB & JFK & PBI & 149 & 1028 & 6 &  0 & 2013-01-01 06:00:00\\\\\n\t 2013 & 1 & 1 & 558 & 600 & -2 &  853 &  856 &  -3 & B6 &   71 & N657JB & JFK & TPA & 158 & 1005 & 6 &  0 & 2013-01-01 06:00:00\\\\\n\t 2013 & 1 & 1 & 558 & 600 & -2 &  924 &  917 &   7 & UA &  194 & N29129 & JFK & LAX & 345 & 2475 & 6 &  0 & 2013-01-01 06:00:00\\\\\n\t 2013 & 1 & 1 & 558 & 600 & -2 &  923 &  937 & -14 & UA & 1124 & N53441 & EWR & SFO & 361 & 2565 & 6 &  0 & 2013-01-01 06:00:00\\\\\n\t 2013 & 1 & 1 & 559 & 600 & -1 &  941 &  910 &  31 & AA &  707 & N3DUAA & LGA & DFW & 257 & 1389 & 6 &  0 & 2013-01-01 06:00:00\\\\\n\t 2013 & 1 & 1 & 559 & 559 &  0 &  702 &  706 &  -4 & B6 & 1806 & N708JB & JFK & BOS &  44 &  187 & 5 & 59 & 2013-01-01 05:00:00\\\\\n\t 2013 & 1 & 1 & 559 & 600 & -1 &  854 &  902 &  -8 & UA & 1187 & N76515 & EWR & LAS & 337 & 2227 & 6 &  0 & 2013-01-01 06:00:00\\\\\n\t 2013 & 1 & 1 & 600 & 600 &  0 &  851 &  858 &  -7 & B6 &  371 & N595JB & LGA & FLL & 152 & 1076 & 6 &  0 & 2013-01-01 06:00:00\\\\\n\t 2013 & 1 & 1 & 600 & 600 &  0 &  837 &  825 &  12 & MQ & 4650 & N542MQ & LGA & ATL & 134 &  762 & 6 &  0 & 2013-01-01 06:00:00\\\\\n\t 2013 & 1 & 1 & 601 & 600 &  1 &  844 &  850 &  -6 & B6 &  343 & N644JB & EWR & PBI & 147 & 1023 & 6 &  0 & 2013-01-01 06:00:00\\\\\n\t 2013 & 1 & 1 & 602 & 610 & -8 &  812 &  820 &  -8 & DL & 1919 & N971DL & LGA & MSP & 170 & 1020 & 6 & 10 & 2013-01-01 06:00:00\\\\\n\t 2013 & 1 & 1 & 602 & 605 & -3 &  821 &  805 &  16 & MQ & 4401 & N730MQ & LGA & DTW & 105 &  502 & 6 &  5 & 2013-01-01 06:00:00\\\\\n\t 2013 & 1 & 1 & 606 & 610 & -4 &  858 &  910 & -12 & AA & 1895 & N633AA & EWR & MIA & 152 & 1085 & 6 & 10 & 2013-01-01 06:00:00\\\\\n\t 2013 & 1 & 1 & 606 & 610 & -4 &  837 &  845 &  -8 & DL & 1743 & N3739P & JFK & ATL & 128 &  760 & 6 & 10 & 2013-01-01 06:00:00\\\\\n\t 2013 & 1 & 1 & 607 & 607 &  0 &  858 &  915 & -17 & UA & 1077 & N53442 & EWR & MIA & 157 & 1085 & 6 &  7 & 2013-01-01 06:00:00\\\\\n\t 2013 & 1 & 1 & 608 & 600 &  8 &  807 &  735 &  32 & MQ & 3768 & N9EAMQ & EWR & ORD & 139 &  719 & 6 &  0 & 2013-01-01 06:00:00\\\\\n\t 2013 & 1 & 1 & 611 & 600 & 11 &  945 &  931 &  14 & UA &  303 & N532UA & JFK & SFO & 366 & 2586 & 6 &  0 & 2013-01-01 06:00:00\\\\\n\t 2013 & 1 & 1 & 613 & 610 &  3 &  925 &  921 &   4 & B6 &  135 & N635JB & JFK & RSW & 175 & 1074 & 6 & 10 & 2013-01-01 06:00:00\\\\\n\t 2013 & 1 & 1 & 615 & 615 &  0 & 1039 & 1100 & -21 & B6 &  709 & N794JB & JFK & SJU & 182 & 1598 & 6 & 15 & 2013-01-01 06:00:00\\\\\n\t 2013 & 1 & 1 & 615 & 615 &  0 &  833 &  842 &  -9 & DL &  575 & N326NB & EWR & ATL & 120 &  746 & 6 & 15 & 2013-01-01 06:00:00\\\\\n\t ⋮ & ⋮ & ⋮ & ⋮ & ⋮ & ⋮ & ⋮ & ⋮ & ⋮ & ⋮ & ⋮ & ⋮ & ⋮ & ⋮ & ⋮ & ⋮ & ⋮ & ⋮ & ⋮\\\\\n\t 2013 & 9 & 30 & 2123 & 2125 &  -2 & 2223 & 2247 & -24 & EV & 5489 & N712EV & LGA & CHO &  45 &  305 & 21 & 25 & 2013-09-30 21:00:00\\\\\n\t 2013 & 9 & 30 & 2127 & 2129 &  -2 & 2314 & 2323 &  -9 & EV & 3833 & N16546 & EWR & CLT &  72 &  529 & 21 & 29 & 2013-09-30 21:00:00\\\\\n\t 2013 & 9 & 30 & 2128 & 2130 &  -2 & 2328 & 2359 & -31 & B6 &   97 & N807JB & JFK & DEN & 213 & 1626 & 21 & 30 & 2013-09-30 21:00:00\\\\\n\t 2013 & 9 & 30 & 2129 & 2059 &  30 & 2230 & 2232 &  -2 & EV & 5048 & N751EV & LGA & RIC &  45 &  292 & 20 & 59 & 2013-09-30 20:00:00\\\\\n\t 2013 & 9 & 30 & 2131 & 2140 &  -9 & 2225 & 2255 & -30 & MQ & 3621 & N807MQ & JFK & DCA &  36 &  213 & 21 & 40 & 2013-09-30 21:00:00\\\\\n\t 2013 & 9 & 30 & 2140 & 2140 &   0 &   10 &   40 & -30 & AA &  185 & N335AA & JFK & LAX & 298 & 2475 & 21 & 40 & 2013-09-30 21:00:00\\\\\n\t 2013 & 9 & 30 & 2142 & 2129 &  13 & 2250 & 2239 &  11 & EV & 4509 & N12957 & EWR & PWM &  47 &  284 & 21 & 29 & 2013-09-30 21:00:00\\\\\n\t 2013 & 9 & 30 & 2145 & 2145 &   0 &  115 &  140 & -25 & B6 & 1103 & N633JB & JFK & SJU & 192 & 1598 & 21 & 45 & 2013-09-30 21:00:00\\\\\n\t 2013 & 9 & 30 & 2147 & 2137 &  10 &   30 &   27 &   3 & B6 & 1371 & N627JB & LGA & FLL & 139 & 1076 & 21 & 37 & 2013-09-30 21:00:00\\\\\n\t 2013 & 9 & 30 & 2149 & 2156 &  -7 & 2245 & 2308 & -23 & UA &  523 & N813UA & EWR & BOS &  37 &  200 & 21 & 56 & 2013-09-30 21:00:00\\\\\n\t 2013 & 9 & 30 & 2150 & 2159 &  -9 & 2250 & 2306 & -16 & EV & 3842 & N10575 & EWR & MHT &  39 &  209 & 21 & 59 & 2013-09-30 21:00:00\\\\\n\t 2013 & 9 & 30 & 2159 & 1845 & 194 & 2344 & 2030 & 194 & 9E & 3320 & N906XJ & JFK & BUF &  50 &  301 & 18 & 45 & 2013-09-30 18:00:00\\\\\n\t 2013 & 9 & 30 & 2203 & 2205 &  -2 & 2339 & 2331 &   8 & EV & 5311 & N722EV & LGA & BGR &  61 &  378 & 22 &  5 & 2013-09-30 22:00:00\\\\\n\t 2013 & 9 & 30 & 2207 & 2140 &  27 & 2257 & 2250 &   7 & MQ & 3660 & N532MQ & LGA & BNA &  97 &  764 & 21 & 40 & 2013-09-30 21:00:00\\\\\n\t 2013 & 9 & 30 & 2211 & 2059 &  72 & 2339 & 2242 &  57 & EV & 4672 & N12145 & EWR & STL & 120 &  872 & 20 & 59 & 2013-09-30 20:00:00\\\\\n\t 2013 & 9 & 30 & 2231 & 2245 & -14 & 2335 & 2356 & -21 & B6 &  108 & N193JB & JFK & PWM &  48 &  273 & 22 & 45 & 2013-09-30 22:00:00\\\\\n\t 2013 & 9 & 30 & 2233 & 2113 &  80 &  112 &   30 &  42 & UA &  471 & N578UA & EWR & SFO & 318 & 2565 & 21 & 13 & 2013-09-30 21:00:00\\\\\n\t 2013 & 9 & 30 & 2235 & 2001 & 154 &   59 & 2249 & 130 & B6 & 1083 & N804JB & JFK & MCO & 123 &  944 & 20 &  1 & 2013-09-30 20:00:00\\\\\n\t 2013 & 9 & 30 & 2237 & 2245 &  -8 & 2345 & 2353 &  -8 & B6 &  234 & N318JB & JFK & BTV &  43 &  266 & 22 & 45 & 2013-09-30 22:00:00\\\\\n\t 2013 & 9 & 30 & 2240 & 2245 &  -5 & 2334 & 2351 & -17 & B6 & 1816 & N354JB & JFK & SYR &  41 &  209 & 22 & 45 & 2013-09-30 22:00:00\\\\\n\t 2013 & 9 & 30 & 2240 & 2250 & -10 & 2347 &    7 & -20 & B6 & 2002 & N281JB & JFK & BUF &  52 &  301 & 22 & 50 & 2013-09-30 22:00:00\\\\\n\t 2013 & 9 & 30 & 2241 & 2246 &  -5 & 2345 &    1 & -16 & B6 &  486 & N346JB & JFK & ROC &  47 &  264 & 22 & 46 & 2013-09-30 22:00:00\\\\\n\t 2013 & 9 & 30 & 2307 & 2255 &  12 & 2359 & 2358 &   1 & B6 &  718 & N565JB & JFK & BOS &  33 &  187 & 22 & 55 & 2013-09-30 22:00:00\\\\\n\t 2013 & 9 & 30 & 2349 & 2359 & -10 &  325 &  350 & -25 & B6 &  745 & N516JB & JFK & PSE & 196 & 1617 & 23 & 59 & 2013-09-30 23:00:00\\\\\n\t 2013 & 9 & 30 &   NA & 1842 &  NA &   NA & 2019 &  NA & EV & 5274 & N740EV & LGA & BNA &  NA &  764 & 18 & 42 & 2013-09-30 18:00:00\\\\\n\t 2013 & 9 & 30 &   NA & 1455 &  NA &   NA & 1634 &  NA & 9E & 3393 & NA     & JFK & DCA &  NA &  213 & 14 & 55 & 2013-09-30 14:00:00\\\\\n\t 2013 & 9 & 30 &   NA & 2200 &  NA &   NA & 2312 &  NA & 9E & 3525 & NA     & LGA & SYR &  NA &  198 & 22 &  0 & 2013-09-30 22:00:00\\\\\n\t 2013 & 9 & 30 &   NA & 1210 &  NA &   NA & 1330 &  NA & MQ & 3461 & N535MQ & LGA & BNA &  NA &  764 & 12 & 10 & 2013-09-30 12:00:00\\\\\n\t 2013 & 9 & 30 &   NA & 1159 &  NA &   NA & 1344 &  NA & MQ & 3572 & N511MQ & LGA & CLE &  NA &  419 & 11 & 59 & 2013-09-30 11:00:00\\\\\n\t 2013 & 9 & 30 &   NA &  840 &  NA &   NA & 1020 &  NA & MQ & 3531 & N839MQ & LGA & RDU &  NA &  431 &  8 & 40 & 2013-09-30 08:00:00\\\\\n\\end{tabular}\n",
            "text/plain": [
              "       anio mes day dep_time sched_dep_time dep_delay arr_time sched_arr_time\n",
              "1      2013 1   1   517      515             2         830      819          \n",
              "2      2013 1   1   533      529             4         850      830          \n",
              "3      2013 1   1   542      540             2         923      850          \n",
              "4      2013 1   1   544      545            -1        1004     1022          \n",
              "5      2013 1   1   554      600            -6         812      837          \n",
              "6      2013 1   1   554      558            -4         740      728          \n",
              "7      2013 1   1   555      600            -5         913      854          \n",
              "8      2013 1   1   557      600            -3         709      723          \n",
              "9      2013 1   1   557      600            -3         838      846          \n",
              "10     2013 1   1   558      600            -2         753      745          \n",
              "11     2013 1   1   558      600            -2         849      851          \n",
              "12     2013 1   1   558      600            -2         853      856          \n",
              "13     2013 1   1   558      600            -2         924      917          \n",
              "14     2013 1   1   558      600            -2         923      937          \n",
              "15     2013 1   1   559      600            -1         941      910          \n",
              "16     2013 1   1   559      559             0         702      706          \n",
              "17     2013 1   1   559      600            -1         854      902          \n",
              "18     2013 1   1   600      600             0         851      858          \n",
              "19     2013 1   1   600      600             0         837      825          \n",
              "20     2013 1   1   601      600             1         844      850          \n",
              "21     2013 1   1   602      610            -8         812      820          \n",
              "22     2013 1   1   602      605            -3         821      805          \n",
              "23     2013 1   1   606      610            -4         858      910          \n",
              "24     2013 1   1   606      610            -4         837      845          \n",
              "25     2013 1   1   607      607             0         858      915          \n",
              "26     2013 1   1   608      600             8         807      735          \n",
              "27     2013 1   1   611      600            11         945      931          \n",
              "28     2013 1   1   613      610             3         925      921          \n",
              "29     2013 1   1   615      615             0        1039     1100          \n",
              "30     2013 1   1   615      615             0         833      842          \n",
              "⋮      ⋮    ⋮   ⋮   ⋮        ⋮              ⋮         ⋮        ⋮             \n",
              "336747 2013 9   30  2123     2125            -2       2223     2247          \n",
              "336748 2013 9   30  2127     2129            -2       2314     2323          \n",
              "336749 2013 9   30  2128     2130            -2       2328     2359          \n",
              "336750 2013 9   30  2129     2059            30       2230     2232          \n",
              "336751 2013 9   30  2131     2140            -9       2225     2255          \n",
              "336752 2013 9   30  2140     2140             0         10       40          \n",
              "336753 2013 9   30  2142     2129            13       2250     2239          \n",
              "336754 2013 9   30  2145     2145             0        115      140          \n",
              "336755 2013 9   30  2147     2137            10         30       27          \n",
              "336756 2013 9   30  2149     2156            -7       2245     2308          \n",
              "336757 2013 9   30  2150     2159            -9       2250     2306          \n",
              "336758 2013 9   30  2159     1845           194       2344     2030          \n",
              "336759 2013 9   30  2203     2205            -2       2339     2331          \n",
              "336760 2013 9   30  2207     2140            27       2257     2250          \n",
              "336761 2013 9   30  2211     2059            72       2339     2242          \n",
              "336762 2013 9   30  2231     2245           -14       2335     2356          \n",
              "336763 2013 9   30  2233     2113            80        112       30          \n",
              "336764 2013 9   30  2235     2001           154         59     2249          \n",
              "336765 2013 9   30  2237     2245            -8       2345     2353          \n",
              "336766 2013 9   30  2240     2245            -5       2334     2351          \n",
              "336767 2013 9   30  2240     2250           -10       2347        7          \n",
              "336768 2013 9   30  2241     2246            -5       2345        1          \n",
              "336769 2013 9   30  2307     2255            12       2359     2358          \n",
              "336770 2013 9   30  2349     2359           -10        325      350          \n",
              "336771 2013 9   30    NA     1842            NA         NA     2019          \n",
              "336772 2013 9   30    NA     1455            NA         NA     1634          \n",
              "336773 2013 9   30    NA     2200            NA         NA     2312          \n",
              "336774 2013 9   30    NA     1210            NA         NA     1330          \n",
              "336775 2013 9   30    NA     1159            NA         NA     1344          \n",
              "336776 2013 9   30    NA      840            NA         NA     1020          \n",
              "       arr_delay carrier flight tailnum origin dest air_time distance hour\n",
              "1       11       UA      1545   N14228  EWR    IAH  227      1400     5   \n",
              "2       20       UA      1714   N24211  LGA    IAH  227      1416     5   \n",
              "3       33       AA      1141   N619AA  JFK    MIA  160      1089     5   \n",
              "4      -18       B6       725   N804JB  JFK    BQN  183      1576     5   \n",
              "5      -25       DL       461   N668DN  LGA    ATL  116       762     6   \n",
              "6       12       UA      1696   N39463  EWR    ORD  150       719     5   \n",
              "7       19       B6       507   N516JB  EWR    FLL  158      1065     6   \n",
              "8      -14       EV      5708   N829AS  LGA    IAD   53       229     6   \n",
              "9       -8       B6        79   N593JB  JFK    MCO  140       944     6   \n",
              "10       8       AA       301   N3ALAA  LGA    ORD  138       733     6   \n",
              "11      -2       B6        49   N793JB  JFK    PBI  149      1028     6   \n",
              "12      -3       B6        71   N657JB  JFK    TPA  158      1005     6   \n",
              "13       7       UA       194   N29129  JFK    LAX  345      2475     6   \n",
              "14     -14       UA      1124   N53441  EWR    SFO  361      2565     6   \n",
              "15      31       AA       707   N3DUAA  LGA    DFW  257      1389     6   \n",
              "16      -4       B6      1806   N708JB  JFK    BOS   44       187     5   \n",
              "17      -8       UA      1187   N76515  EWR    LAS  337      2227     6   \n",
              "18      -7       B6       371   N595JB  LGA    FLL  152      1076     6   \n",
              "19      12       MQ      4650   N542MQ  LGA    ATL  134       762     6   \n",
              "20      -6       B6       343   N644JB  EWR    PBI  147      1023     6   \n",
              "21      -8       DL      1919   N971DL  LGA    MSP  170      1020     6   \n",
              "22      16       MQ      4401   N730MQ  LGA    DTW  105       502     6   \n",
              "23     -12       AA      1895   N633AA  EWR    MIA  152      1085     6   \n",
              "24      -8       DL      1743   N3739P  JFK    ATL  128       760     6   \n",
              "25     -17       UA      1077   N53442  EWR    MIA  157      1085     6   \n",
              "26      32       MQ      3768   N9EAMQ  EWR    ORD  139       719     6   \n",
              "27      14       UA       303   N532UA  JFK    SFO  366      2586     6   \n",
              "28       4       B6       135   N635JB  JFK    RSW  175      1074     6   \n",
              "29     -21       B6       709   N794JB  JFK    SJU  182      1598     6   \n",
              "30      -9       DL       575   N326NB  EWR    ATL  120       746     6   \n",
              "⋮      ⋮         ⋮       ⋮      ⋮       ⋮      ⋮    ⋮        ⋮        ⋮   \n",
              "336747 -24       EV      5489   N712EV  LGA    CHO   45       305     21  \n",
              "336748  -9       EV      3833   N16546  EWR    CLT   72       529     21  \n",
              "336749 -31       B6        97   N807JB  JFK    DEN  213      1626     21  \n",
              "336750  -2       EV      5048   N751EV  LGA    RIC   45       292     20  \n",
              "336751 -30       MQ      3621   N807MQ  JFK    DCA   36       213     21  \n",
              "336752 -30       AA       185   N335AA  JFK    LAX  298      2475     21  \n",
              "336753  11       EV      4509   N12957  EWR    PWM   47       284     21  \n",
              "336754 -25       B6      1103   N633JB  JFK    SJU  192      1598     21  \n",
              "336755   3       B6      1371   N627JB  LGA    FLL  139      1076     21  \n",
              "336756 -23       UA       523   N813UA  EWR    BOS   37       200     21  \n",
              "336757 -16       EV      3842   N10575  EWR    MHT   39       209     21  \n",
              "336758 194       9E      3320   N906XJ  JFK    BUF   50       301     18  \n",
              "336759   8       EV      5311   N722EV  LGA    BGR   61       378     22  \n",
              "336760   7       MQ      3660   N532MQ  LGA    BNA   97       764     21  \n",
              "336761  57       EV      4672   N12145  EWR    STL  120       872     20  \n",
              "336762 -21       B6       108   N193JB  JFK    PWM   48       273     22  \n",
              "336763  42       UA       471   N578UA  EWR    SFO  318      2565     21  \n",
              "336764 130       B6      1083   N804JB  JFK    MCO  123       944     20  \n",
              "336765  -8       B6       234   N318JB  JFK    BTV   43       266     22  \n",
              "336766 -17       B6      1816   N354JB  JFK    SYR   41       209     22  \n",
              "336767 -20       B6      2002   N281JB  JFK    BUF   52       301     22  \n",
              "336768 -16       B6       486   N346JB  JFK    ROC   47       264     22  \n",
              "336769   1       B6       718   N565JB  JFK    BOS   33       187     22  \n",
              "336770 -25       B6       745   N516JB  JFK    PSE  196      1617     23  \n",
              "336771  NA       EV      5274   N740EV  LGA    BNA   NA       764     18  \n",
              "336772  NA       9E      3393   NA      JFK    DCA   NA       213     14  \n",
              "336773  NA       9E      3525   NA      LGA    SYR   NA       198     22  \n",
              "336774  NA       MQ      3461   N535MQ  LGA    BNA   NA       764     12  \n",
              "336775  NA       MQ      3572   N511MQ  LGA    CLE   NA       419     11  \n",
              "336776  NA       MQ      3531   N839MQ  LGA    RDU   NA       431      8  \n",
              "       minute time_hour          \n",
              "1      15     2013-01-01 05:00:00\n",
              "2      29     2013-01-01 05:00:00\n",
              "3      40     2013-01-01 05:00:00\n",
              "4      45     2013-01-01 05:00:00\n",
              "5       0     2013-01-01 06:00:00\n",
              "6      58     2013-01-01 05:00:00\n",
              "7       0     2013-01-01 06:00:00\n",
              "8       0     2013-01-01 06:00:00\n",
              "9       0     2013-01-01 06:00:00\n",
              "10      0     2013-01-01 06:00:00\n",
              "11      0     2013-01-01 06:00:00\n",
              "12      0     2013-01-01 06:00:00\n",
              "13      0     2013-01-01 06:00:00\n",
              "14      0     2013-01-01 06:00:00\n",
              "15      0     2013-01-01 06:00:00\n",
              "16     59     2013-01-01 05:00:00\n",
              "17      0     2013-01-01 06:00:00\n",
              "18      0     2013-01-01 06:00:00\n",
              "19      0     2013-01-01 06:00:00\n",
              "20      0     2013-01-01 06:00:00\n",
              "21     10     2013-01-01 06:00:00\n",
              "22      5     2013-01-01 06:00:00\n",
              "23     10     2013-01-01 06:00:00\n",
              "24     10     2013-01-01 06:00:00\n",
              "25      7     2013-01-01 06:00:00\n",
              "26      0     2013-01-01 06:00:00\n",
              "27      0     2013-01-01 06:00:00\n",
              "28     10     2013-01-01 06:00:00\n",
              "29     15     2013-01-01 06:00:00\n",
              "30     15     2013-01-01 06:00:00\n",
              "⋮      ⋮      ⋮                  \n",
              "336747 25     2013-09-30 21:00:00\n",
              "336748 29     2013-09-30 21:00:00\n",
              "336749 30     2013-09-30 21:00:00\n",
              "336750 59     2013-09-30 20:00:00\n",
              "336751 40     2013-09-30 21:00:00\n",
              "336752 40     2013-09-30 21:00:00\n",
              "336753 29     2013-09-30 21:00:00\n",
              "336754 45     2013-09-30 21:00:00\n",
              "336755 37     2013-09-30 21:00:00\n",
              "336756 56     2013-09-30 21:00:00\n",
              "336757 59     2013-09-30 21:00:00\n",
              "336758 45     2013-09-30 18:00:00\n",
              "336759  5     2013-09-30 22:00:00\n",
              "336760 40     2013-09-30 21:00:00\n",
              "336761 59     2013-09-30 20:00:00\n",
              "336762 45     2013-09-30 22:00:00\n",
              "336763 13     2013-09-30 21:00:00\n",
              "336764  1     2013-09-30 20:00:00\n",
              "336765 45     2013-09-30 22:00:00\n",
              "336766 45     2013-09-30 22:00:00\n",
              "336767 50     2013-09-30 22:00:00\n",
              "336768 46     2013-09-30 22:00:00\n",
              "336769 55     2013-09-30 22:00:00\n",
              "336770 59     2013-09-30 23:00:00\n",
              "336771 42     2013-09-30 18:00:00\n",
              "336772 55     2013-09-30 14:00:00\n",
              "336773  0     2013-09-30 22:00:00\n",
              "336774 10     2013-09-30 12:00:00\n",
              "336775 59     2013-09-30 11:00:00\n",
              "336776 40     2013-09-30 08:00:00"
            ]
          },
          "metadata": {}
        }
      ]
    },
    {
      "cell_type": "code",
      "source": [
        "# NOTA: esto no modifica el dataset original\n",
        "names(vuelos)\n",
        "head(vuelos)"
      ],
      "metadata": {
        "colab": {
          "base_uri": "https://localhost:8080/",
          "height": 531
        },
        "id": "0CIXSK55bMZo",
        "outputId": "b70c809a-8961-413a-8751-97f362afe5c6"
      },
      "execution_count": null,
      "outputs": [
        {
          "output_type": "display_data",
          "data": {
            "text/html": [
              "<style>\n",
              ".list-inline {list-style: none; margin:0; padding: 0}\n",
              ".list-inline>li {display: inline-block}\n",
              ".list-inline>li:not(:last-child)::after {content: \"\\00b7\"; padding: 0 .5ex}\n",
              "</style>\n",
              "<ol class=list-inline><li>'year'</li><li>'month'</li><li>'day'</li><li>'dep_time'</li><li>'sched_dep_time'</li><li>'dep_delay'</li><li>'arr_time'</li><li>'sched_arr_time'</li><li>'arr_delay'</li><li>'carrier'</li><li>'flight'</li><li>'tailnum'</li><li>'origin'</li><li>'dest'</li><li>'air_time'</li><li>'distance'</li><li>'hour'</li><li>'minute'</li><li>'time_hour'</li></ol>\n"
            ],
            "text/markdown": "1. 'year'\n2. 'month'\n3. 'day'\n4. 'dep_time'\n5. 'sched_dep_time'\n6. 'dep_delay'\n7. 'arr_time'\n8. 'sched_arr_time'\n9. 'arr_delay'\n10. 'carrier'\n11. 'flight'\n12. 'tailnum'\n13. 'origin'\n14. 'dest'\n15. 'air_time'\n16. 'distance'\n17. 'hour'\n18. 'minute'\n19. 'time_hour'\n\n\n",
            "text/latex": "\\begin{enumerate*}\n\\item 'year'\n\\item 'month'\n\\item 'day'\n\\item 'dep\\_time'\n\\item 'sched\\_dep\\_time'\n\\item 'dep\\_delay'\n\\item 'arr\\_time'\n\\item 'sched\\_arr\\_time'\n\\item 'arr\\_delay'\n\\item 'carrier'\n\\item 'flight'\n\\item 'tailnum'\n\\item 'origin'\n\\item 'dest'\n\\item 'air\\_time'\n\\item 'distance'\n\\item 'hour'\n\\item 'minute'\n\\item 'time\\_hour'\n\\end{enumerate*}\n",
            "text/plain": [
              " [1] \"year\"           \"month\"          \"day\"            \"dep_time\"      \n",
              " [5] \"sched_dep_time\" \"dep_delay\"      \"arr_time\"       \"sched_arr_time\"\n",
              " [9] \"arr_delay\"      \"carrier\"        \"flight\"         \"tailnum\"       \n",
              "[13] \"origin\"         \"dest\"           \"air_time\"       \"distance\"      \n",
              "[17] \"hour\"           \"minute\"         \"time_hour\"     "
            ]
          },
          "metadata": {}
        },
        {
          "output_type": "display_data",
          "data": {
            "text/html": [
              "<table class=\"dataframe\">\n",
              "<caption>A data.frame: 6 × 19</caption>\n",
              "<thead>\n",
              "\t<tr><th></th><th scope=col>year</th><th scope=col>month</th><th scope=col>day</th><th scope=col>dep_time</th><th scope=col>sched_dep_time</th><th scope=col>dep_delay</th><th scope=col>arr_time</th><th scope=col>sched_arr_time</th><th scope=col>arr_delay</th><th scope=col>carrier</th><th scope=col>flight</th><th scope=col>tailnum</th><th scope=col>origin</th><th scope=col>dest</th><th scope=col>air_time</th><th scope=col>distance</th><th scope=col>hour</th><th scope=col>minute</th><th scope=col>time_hour</th></tr>\n",
              "\t<tr><th></th><th scope=col>&lt;int&gt;</th><th scope=col>&lt;int&gt;</th><th scope=col>&lt;int&gt;</th><th scope=col>&lt;int&gt;</th><th scope=col>&lt;int&gt;</th><th scope=col>&lt;int&gt;</th><th scope=col>&lt;int&gt;</th><th scope=col>&lt;int&gt;</th><th scope=col>&lt;int&gt;</th><th scope=col>&lt;chr&gt;</th><th scope=col>&lt;int&gt;</th><th scope=col>&lt;chr&gt;</th><th scope=col>&lt;chr&gt;</th><th scope=col>&lt;chr&gt;</th><th scope=col>&lt;int&gt;</th><th scope=col>&lt;int&gt;</th><th scope=col>&lt;int&gt;</th><th scope=col>&lt;int&gt;</th><th scope=col>&lt;chr&gt;</th></tr>\n",
              "</thead>\n",
              "<tbody>\n",
              "\t<tr><th scope=row>1</th><td>2013</td><td>1</td><td>1</td><td>517</td><td>515</td><td> 2</td><td> 830</td><td> 819</td><td> 11</td><td>UA</td><td>1545</td><td>N14228</td><td>EWR</td><td>IAH</td><td>227</td><td>1400</td><td>5</td><td>15</td><td>2013-01-01 05:00:00</td></tr>\n",
              "\t<tr><th scope=row>2</th><td>2013</td><td>1</td><td>1</td><td>533</td><td>529</td><td> 4</td><td> 850</td><td> 830</td><td> 20</td><td>UA</td><td>1714</td><td>N24211</td><td>LGA</td><td>IAH</td><td>227</td><td>1416</td><td>5</td><td>29</td><td>2013-01-01 05:00:00</td></tr>\n",
              "\t<tr><th scope=row>3</th><td>2013</td><td>1</td><td>1</td><td>542</td><td>540</td><td> 2</td><td> 923</td><td> 850</td><td> 33</td><td>AA</td><td>1141</td><td>N619AA</td><td>JFK</td><td>MIA</td><td>160</td><td>1089</td><td>5</td><td>40</td><td>2013-01-01 05:00:00</td></tr>\n",
              "\t<tr><th scope=row>4</th><td>2013</td><td>1</td><td>1</td><td>544</td><td>545</td><td>-1</td><td>1004</td><td>1022</td><td>-18</td><td>B6</td><td> 725</td><td>N804JB</td><td>JFK</td><td>BQN</td><td>183</td><td>1576</td><td>5</td><td>45</td><td>2013-01-01 05:00:00</td></tr>\n",
              "\t<tr><th scope=row>5</th><td>2013</td><td>1</td><td>1</td><td>554</td><td>600</td><td>-6</td><td> 812</td><td> 837</td><td>-25</td><td>DL</td><td> 461</td><td>N668DN</td><td>LGA</td><td>ATL</td><td>116</td><td> 762</td><td>6</td><td> 0</td><td>2013-01-01 06:00:00</td></tr>\n",
              "\t<tr><th scope=row>6</th><td>2013</td><td>1</td><td>1</td><td>554</td><td>558</td><td>-4</td><td> 740</td><td> 728</td><td> 12</td><td>UA</td><td>1696</td><td>N39463</td><td>EWR</td><td>ORD</td><td>150</td><td> 719</td><td>5</td><td>58</td><td>2013-01-01 05:00:00</td></tr>\n",
              "</tbody>\n",
              "</table>\n"
            ],
            "text/markdown": "\nA data.frame: 6 × 19\n\n| <!--/--> | year &lt;int&gt; | month &lt;int&gt; | day &lt;int&gt; | dep_time &lt;int&gt; | sched_dep_time &lt;int&gt; | dep_delay &lt;int&gt; | arr_time &lt;int&gt; | sched_arr_time &lt;int&gt; | arr_delay &lt;int&gt; | carrier &lt;chr&gt; | flight &lt;int&gt; | tailnum &lt;chr&gt; | origin &lt;chr&gt; | dest &lt;chr&gt; | air_time &lt;int&gt; | distance &lt;int&gt; | hour &lt;int&gt; | minute &lt;int&gt; | time_hour &lt;chr&gt; |\n|---|---|---|---|---|---|---|---|---|---|---|---|---|---|---|---|---|---|---|---|\n| 1 | 2013 | 1 | 1 | 517 | 515 |  2 |  830 |  819 |  11 | UA | 1545 | N14228 | EWR | IAH | 227 | 1400 | 5 | 15 | 2013-01-01 05:00:00 |\n| 2 | 2013 | 1 | 1 | 533 | 529 |  4 |  850 |  830 |  20 | UA | 1714 | N24211 | LGA | IAH | 227 | 1416 | 5 | 29 | 2013-01-01 05:00:00 |\n| 3 | 2013 | 1 | 1 | 542 | 540 |  2 |  923 |  850 |  33 | AA | 1141 | N619AA | JFK | MIA | 160 | 1089 | 5 | 40 | 2013-01-01 05:00:00 |\n| 4 | 2013 | 1 | 1 | 544 | 545 | -1 | 1004 | 1022 | -18 | B6 |  725 | N804JB | JFK | BQN | 183 | 1576 | 5 | 45 | 2013-01-01 05:00:00 |\n| 5 | 2013 | 1 | 1 | 554 | 600 | -6 |  812 |  837 | -25 | DL |  461 | N668DN | LGA | ATL | 116 |  762 | 6 |  0 | 2013-01-01 06:00:00 |\n| 6 | 2013 | 1 | 1 | 554 | 558 | -4 |  740 |  728 |  12 | UA | 1696 | N39463 | EWR | ORD | 150 |  719 | 5 | 58 | 2013-01-01 05:00:00 |\n\n",
            "text/latex": "A data.frame: 6 × 19\n\\begin{tabular}{r|lllllllllllllllllll}\n  & year & month & day & dep\\_time & sched\\_dep\\_time & dep\\_delay & arr\\_time & sched\\_arr\\_time & arr\\_delay & carrier & flight & tailnum & origin & dest & air\\_time & distance & hour & minute & time\\_hour\\\\\n  & <int> & <int> & <int> & <int> & <int> & <int> & <int> & <int> & <int> & <chr> & <int> & <chr> & <chr> & <chr> & <int> & <int> & <int> & <int> & <chr>\\\\\n\\hline\n\t1 & 2013 & 1 & 1 & 517 & 515 &  2 &  830 &  819 &  11 & UA & 1545 & N14228 & EWR & IAH & 227 & 1400 & 5 & 15 & 2013-01-01 05:00:00\\\\\n\t2 & 2013 & 1 & 1 & 533 & 529 &  4 &  850 &  830 &  20 & UA & 1714 & N24211 & LGA & IAH & 227 & 1416 & 5 & 29 & 2013-01-01 05:00:00\\\\\n\t3 & 2013 & 1 & 1 & 542 & 540 &  2 &  923 &  850 &  33 & AA & 1141 & N619AA & JFK & MIA & 160 & 1089 & 5 & 40 & 2013-01-01 05:00:00\\\\\n\t4 & 2013 & 1 & 1 & 544 & 545 & -1 & 1004 & 1022 & -18 & B6 &  725 & N804JB & JFK & BQN & 183 & 1576 & 5 & 45 & 2013-01-01 05:00:00\\\\\n\t5 & 2013 & 1 & 1 & 554 & 600 & -6 &  812 &  837 & -25 & DL &  461 & N668DN & LGA & ATL & 116 &  762 & 6 &  0 & 2013-01-01 06:00:00\\\\\n\t6 & 2013 & 1 & 1 & 554 & 558 & -4 &  740 &  728 &  12 & UA & 1696 & N39463 & EWR & ORD & 150 &  719 & 5 & 58 & 2013-01-01 05:00:00\\\\\n\\end{tabular}\n",
            "text/plain": [
              "  year month day dep_time sched_dep_time dep_delay arr_time sched_arr_time\n",
              "1 2013 1     1   517      515             2         830      819          \n",
              "2 2013 1     1   533      529             4         850      830          \n",
              "3 2013 1     1   542      540             2         923      850          \n",
              "4 2013 1     1   544      545            -1        1004     1022          \n",
              "5 2013 1     1   554      600            -6         812      837          \n",
              "6 2013 1     1   554      558            -4         740      728          \n",
              "  arr_delay carrier flight tailnum origin dest air_time distance hour minute\n",
              "1  11       UA      1545   N14228  EWR    IAH  227      1400     5    15    \n",
              "2  20       UA      1714   N24211  LGA    IAH  227      1416     5    29    \n",
              "3  33       AA      1141   N619AA  JFK    MIA  160      1089     5    40    \n",
              "4 -18       B6       725   N804JB  JFK    BQN  183      1576     5    45    \n",
              "5 -25       DL       461   N668DN  LGA    ATL  116       762     6     0    \n",
              "6  12       UA      1696   N39463  EWR    ORD  150       719     5    58    \n",
              "  time_hour          \n",
              "1 2013-01-01 05:00:00\n",
              "2 2013-01-01 05:00:00\n",
              "3 2013-01-01 05:00:00\n",
              "4 2013-01-01 05:00:00\n",
              "5 2013-01-01 06:00:00\n",
              "6 2013-01-01 05:00:00"
            ]
          },
          "metadata": {}
        }
      ]
    },
    {
      "cell_type": "code",
      "source": [
        "# Si realmente queremos cambiar los nombres\n",
        "vuelos <- rename(vuelos,\n",
        "                  anio = year,\n",
        "                  mes = month)"
      ],
      "metadata": {
        "id": "RDEPqkDYbZqI"
      },
      "execution_count": null,
      "outputs": []
    },
    {
      "cell_type": "code",
      "source": [
        "head(vuelos)"
      ],
      "metadata": {
        "colab": {
          "base_uri": "https://localhost:8080/",
          "height": 514
        },
        "id": "NNjYOxvmbiq-",
        "outputId": "fbf2ca9f-32bc-43ef-e1dd-764beb4c6c55"
      },
      "execution_count": null,
      "outputs": [
        {
          "output_type": "display_data",
          "data": {
            "text/html": [
              "<table class=\"dataframe\">\n",
              "<caption>A data.frame: 6 × 19</caption>\n",
              "<thead>\n",
              "\t<tr><th></th><th scope=col>anio</th><th scope=col>mes</th><th scope=col>day</th><th scope=col>dep_time</th><th scope=col>sched_dep_time</th><th scope=col>dep_delay</th><th scope=col>arr_time</th><th scope=col>sched_arr_time</th><th scope=col>arr_delay</th><th scope=col>carrier</th><th scope=col>flight</th><th scope=col>tailnum</th><th scope=col>origin</th><th scope=col>dest</th><th scope=col>air_time</th><th scope=col>distance</th><th scope=col>hour</th><th scope=col>minute</th><th scope=col>time_hour</th></tr>\n",
              "\t<tr><th></th><th scope=col>&lt;int&gt;</th><th scope=col>&lt;int&gt;</th><th scope=col>&lt;int&gt;</th><th scope=col>&lt;int&gt;</th><th scope=col>&lt;int&gt;</th><th scope=col>&lt;int&gt;</th><th scope=col>&lt;int&gt;</th><th scope=col>&lt;int&gt;</th><th scope=col>&lt;int&gt;</th><th scope=col>&lt;chr&gt;</th><th scope=col>&lt;int&gt;</th><th scope=col>&lt;chr&gt;</th><th scope=col>&lt;chr&gt;</th><th scope=col>&lt;chr&gt;</th><th scope=col>&lt;int&gt;</th><th scope=col>&lt;int&gt;</th><th scope=col>&lt;int&gt;</th><th scope=col>&lt;int&gt;</th><th scope=col>&lt;chr&gt;</th></tr>\n",
              "</thead>\n",
              "<tbody>\n",
              "\t<tr><th scope=row>1</th><td>2013</td><td>1</td><td>1</td><td>517</td><td>515</td><td> 2</td><td> 830</td><td> 819</td><td> 11</td><td>UA</td><td>1545</td><td>N14228</td><td>EWR</td><td>IAH</td><td>227</td><td>1400</td><td>5</td><td>15</td><td>2013-01-01 05:00:00</td></tr>\n",
              "\t<tr><th scope=row>2</th><td>2013</td><td>1</td><td>1</td><td>533</td><td>529</td><td> 4</td><td> 850</td><td> 830</td><td> 20</td><td>UA</td><td>1714</td><td>N24211</td><td>LGA</td><td>IAH</td><td>227</td><td>1416</td><td>5</td><td>29</td><td>2013-01-01 05:00:00</td></tr>\n",
              "\t<tr><th scope=row>3</th><td>2013</td><td>1</td><td>1</td><td>542</td><td>540</td><td> 2</td><td> 923</td><td> 850</td><td> 33</td><td>AA</td><td>1141</td><td>N619AA</td><td>JFK</td><td>MIA</td><td>160</td><td>1089</td><td>5</td><td>40</td><td>2013-01-01 05:00:00</td></tr>\n",
              "\t<tr><th scope=row>4</th><td>2013</td><td>1</td><td>1</td><td>544</td><td>545</td><td>-1</td><td>1004</td><td>1022</td><td>-18</td><td>B6</td><td> 725</td><td>N804JB</td><td>JFK</td><td>BQN</td><td>183</td><td>1576</td><td>5</td><td>45</td><td>2013-01-01 05:00:00</td></tr>\n",
              "\t<tr><th scope=row>5</th><td>2013</td><td>1</td><td>1</td><td>554</td><td>600</td><td>-6</td><td> 812</td><td> 837</td><td>-25</td><td>DL</td><td> 461</td><td>N668DN</td><td>LGA</td><td>ATL</td><td>116</td><td> 762</td><td>6</td><td> 0</td><td>2013-01-01 06:00:00</td></tr>\n",
              "\t<tr><th scope=row>6</th><td>2013</td><td>1</td><td>1</td><td>554</td><td>558</td><td>-4</td><td> 740</td><td> 728</td><td> 12</td><td>UA</td><td>1696</td><td>N39463</td><td>EWR</td><td>ORD</td><td>150</td><td> 719</td><td>5</td><td>58</td><td>2013-01-01 05:00:00</td></tr>\n",
              "</tbody>\n",
              "</table>\n"
            ],
            "text/markdown": "\nA data.frame: 6 × 19\n\n| <!--/--> | anio &lt;int&gt; | mes &lt;int&gt; | day &lt;int&gt; | dep_time &lt;int&gt; | sched_dep_time &lt;int&gt; | dep_delay &lt;int&gt; | arr_time &lt;int&gt; | sched_arr_time &lt;int&gt; | arr_delay &lt;int&gt; | carrier &lt;chr&gt; | flight &lt;int&gt; | tailnum &lt;chr&gt; | origin &lt;chr&gt; | dest &lt;chr&gt; | air_time &lt;int&gt; | distance &lt;int&gt; | hour &lt;int&gt; | minute &lt;int&gt; | time_hour &lt;chr&gt; |\n|---|---|---|---|---|---|---|---|---|---|---|---|---|---|---|---|---|---|---|---|\n| 1 | 2013 | 1 | 1 | 517 | 515 |  2 |  830 |  819 |  11 | UA | 1545 | N14228 | EWR | IAH | 227 | 1400 | 5 | 15 | 2013-01-01 05:00:00 |\n| 2 | 2013 | 1 | 1 | 533 | 529 |  4 |  850 |  830 |  20 | UA | 1714 | N24211 | LGA | IAH | 227 | 1416 | 5 | 29 | 2013-01-01 05:00:00 |\n| 3 | 2013 | 1 | 1 | 542 | 540 |  2 |  923 |  850 |  33 | AA | 1141 | N619AA | JFK | MIA | 160 | 1089 | 5 | 40 | 2013-01-01 05:00:00 |\n| 4 | 2013 | 1 | 1 | 544 | 545 | -1 | 1004 | 1022 | -18 | B6 |  725 | N804JB | JFK | BQN | 183 | 1576 | 5 | 45 | 2013-01-01 05:00:00 |\n| 5 | 2013 | 1 | 1 | 554 | 600 | -6 |  812 |  837 | -25 | DL |  461 | N668DN | LGA | ATL | 116 |  762 | 6 |  0 | 2013-01-01 06:00:00 |\n| 6 | 2013 | 1 | 1 | 554 | 558 | -4 |  740 |  728 |  12 | UA | 1696 | N39463 | EWR | ORD | 150 |  719 | 5 | 58 | 2013-01-01 05:00:00 |\n\n",
            "text/latex": "A data.frame: 6 × 19\n\\begin{tabular}{r|lllllllllllllllllll}\n  & anio & mes & day & dep\\_time & sched\\_dep\\_time & dep\\_delay & arr\\_time & sched\\_arr\\_time & arr\\_delay & carrier & flight & tailnum & origin & dest & air\\_time & distance & hour & minute & time\\_hour\\\\\n  & <int> & <int> & <int> & <int> & <int> & <int> & <int> & <int> & <int> & <chr> & <int> & <chr> & <chr> & <chr> & <int> & <int> & <int> & <int> & <chr>\\\\\n\\hline\n\t1 & 2013 & 1 & 1 & 517 & 515 &  2 &  830 &  819 &  11 & UA & 1545 & N14228 & EWR & IAH & 227 & 1400 & 5 & 15 & 2013-01-01 05:00:00\\\\\n\t2 & 2013 & 1 & 1 & 533 & 529 &  4 &  850 &  830 &  20 & UA & 1714 & N24211 & LGA & IAH & 227 & 1416 & 5 & 29 & 2013-01-01 05:00:00\\\\\n\t3 & 2013 & 1 & 1 & 542 & 540 &  2 &  923 &  850 &  33 & AA & 1141 & N619AA & JFK & MIA & 160 & 1089 & 5 & 40 & 2013-01-01 05:00:00\\\\\n\t4 & 2013 & 1 & 1 & 544 & 545 & -1 & 1004 & 1022 & -18 & B6 &  725 & N804JB & JFK & BQN & 183 & 1576 & 5 & 45 & 2013-01-01 05:00:00\\\\\n\t5 & 2013 & 1 & 1 & 554 & 600 & -6 &  812 &  837 & -25 & DL &  461 & N668DN & LGA & ATL & 116 &  762 & 6 &  0 & 2013-01-01 06:00:00\\\\\n\t6 & 2013 & 1 & 1 & 554 & 558 & -4 &  740 &  728 &  12 & UA & 1696 & N39463 & EWR & ORD & 150 &  719 & 5 & 58 & 2013-01-01 05:00:00\\\\\n\\end{tabular}\n",
            "text/plain": [
              "  anio mes day dep_time sched_dep_time dep_delay arr_time sched_arr_time\n",
              "1 2013 1   1   517      515             2         830      819          \n",
              "2 2013 1   1   533      529             4         850      830          \n",
              "3 2013 1   1   542      540             2         923      850          \n",
              "4 2013 1   1   544      545            -1        1004     1022          \n",
              "5 2013 1   1   554      600            -6         812      837          \n",
              "6 2013 1   1   554      558            -4         740      728          \n",
              "  arr_delay carrier flight tailnum origin dest air_time distance hour minute\n",
              "1  11       UA      1545   N14228  EWR    IAH  227      1400     5    15    \n",
              "2  20       UA      1714   N24211  LGA    IAH  227      1416     5    29    \n",
              "3  33       AA      1141   N619AA  JFK    MIA  160      1089     5    40    \n",
              "4 -18       B6       725   N804JB  JFK    BQN  183      1576     5    45    \n",
              "5 -25       DL       461   N668DN  LGA    ATL  116       762     6     0    \n",
              "6  12       UA      1696   N39463  EWR    ORD  150       719     5    58    \n",
              "  time_hour          \n",
              "1 2013-01-01 05:00:00\n",
              "2 2013-01-01 05:00:00\n",
              "3 2013-01-01 05:00:00\n",
              "4 2013-01-01 05:00:00\n",
              "5 2013-01-01 06:00:00\n",
              "6 2013-01-01 05:00:00"
            ]
          },
          "metadata": {}
        }
      ]
    },
    {
      "cell_type": "code",
      "metadata": {
        "trusted": true,
        "id": "Hg-abspERPyw",
        "colab": {
          "base_uri": "https://localhost:8080/",
          "height": 1000
        },
        "outputId": "f41b6ff6-f2aa-4924-a614-ba5bc15a0257"
      },
      "source": [
        "#Existe gran variedad (pueden consultar la documentación respectiva)  de otras funciones dentro del package dplyr, por ejemplo: Seleccionar solo las variables que comiencen con \"d\"\n",
        "# para su estudio\n",
        "select(vuelos, ends_with(\"_delay\"))\n"
      ],
      "execution_count": null,
      "outputs": [
        {
          "output_type": "display_data",
          "data": {
            "text/html": [
              "<table class=\"dataframe\">\n",
              "<caption>A data.frame: 336776 × 2</caption>\n",
              "<thead>\n",
              "\t<tr><th scope=col>dep_delay</th><th scope=col>arr_delay</th></tr>\n",
              "\t<tr><th scope=col>&lt;int&gt;</th><th scope=col>&lt;int&gt;</th></tr>\n",
              "</thead>\n",
              "<tbody>\n",
              "\t<tr><td> 2</td><td> 11</td></tr>\n",
              "\t<tr><td> 4</td><td> 20</td></tr>\n",
              "\t<tr><td> 2</td><td> 33</td></tr>\n",
              "\t<tr><td>-1</td><td>-18</td></tr>\n",
              "\t<tr><td>-6</td><td>-25</td></tr>\n",
              "\t<tr><td>-4</td><td> 12</td></tr>\n",
              "\t<tr><td>-5</td><td> 19</td></tr>\n",
              "\t<tr><td>-3</td><td>-14</td></tr>\n",
              "\t<tr><td>-3</td><td> -8</td></tr>\n",
              "\t<tr><td>-2</td><td>  8</td></tr>\n",
              "\t<tr><td>-2</td><td> -2</td></tr>\n",
              "\t<tr><td>-2</td><td> -3</td></tr>\n",
              "\t<tr><td>-2</td><td>  7</td></tr>\n",
              "\t<tr><td>-2</td><td>-14</td></tr>\n",
              "\t<tr><td>-1</td><td> 31</td></tr>\n",
              "\t<tr><td> 0</td><td> -4</td></tr>\n",
              "\t<tr><td>-1</td><td> -8</td></tr>\n",
              "\t<tr><td> 0</td><td> -7</td></tr>\n",
              "\t<tr><td> 0</td><td> 12</td></tr>\n",
              "\t<tr><td> 1</td><td> -6</td></tr>\n",
              "\t<tr><td>-8</td><td> -8</td></tr>\n",
              "\t<tr><td>-3</td><td> 16</td></tr>\n",
              "\t<tr><td>-4</td><td>-12</td></tr>\n",
              "\t<tr><td>-4</td><td> -8</td></tr>\n",
              "\t<tr><td> 0</td><td>-17</td></tr>\n",
              "\t<tr><td> 8</td><td> 32</td></tr>\n",
              "\t<tr><td>11</td><td> 14</td></tr>\n",
              "\t<tr><td> 3</td><td>  4</td></tr>\n",
              "\t<tr><td> 0</td><td>-21</td></tr>\n",
              "\t<tr><td> 0</td><td> -9</td></tr>\n",
              "\t<tr><td>⋮</td><td>⋮</td></tr>\n",
              "\t<tr><td> -2</td><td>-24</td></tr>\n",
              "\t<tr><td> -2</td><td> -9</td></tr>\n",
              "\t<tr><td> -2</td><td>-31</td></tr>\n",
              "\t<tr><td> 30</td><td> -2</td></tr>\n",
              "\t<tr><td> -9</td><td>-30</td></tr>\n",
              "\t<tr><td>  0</td><td>-30</td></tr>\n",
              "\t<tr><td> 13</td><td> 11</td></tr>\n",
              "\t<tr><td>  0</td><td>-25</td></tr>\n",
              "\t<tr><td> 10</td><td>  3</td></tr>\n",
              "\t<tr><td> -7</td><td>-23</td></tr>\n",
              "\t<tr><td> -9</td><td>-16</td></tr>\n",
              "\t<tr><td>194</td><td>194</td></tr>\n",
              "\t<tr><td> -2</td><td>  8</td></tr>\n",
              "\t<tr><td> 27</td><td>  7</td></tr>\n",
              "\t<tr><td> 72</td><td> 57</td></tr>\n",
              "\t<tr><td>-14</td><td>-21</td></tr>\n",
              "\t<tr><td> 80</td><td> 42</td></tr>\n",
              "\t<tr><td>154</td><td>130</td></tr>\n",
              "\t<tr><td> -8</td><td> -8</td></tr>\n",
              "\t<tr><td> -5</td><td>-17</td></tr>\n",
              "\t<tr><td>-10</td><td>-20</td></tr>\n",
              "\t<tr><td> -5</td><td>-16</td></tr>\n",
              "\t<tr><td> 12</td><td>  1</td></tr>\n",
              "\t<tr><td>-10</td><td>-25</td></tr>\n",
              "\t<tr><td> NA</td><td> NA</td></tr>\n",
              "\t<tr><td> NA</td><td> NA</td></tr>\n",
              "\t<tr><td> NA</td><td> NA</td></tr>\n",
              "\t<tr><td> NA</td><td> NA</td></tr>\n",
              "\t<tr><td> NA</td><td> NA</td></tr>\n",
              "\t<tr><td> NA</td><td> NA</td></tr>\n",
              "</tbody>\n",
              "</table>\n"
            ],
            "text/markdown": "\nA data.frame: 336776 × 2\n\n| dep_delay &lt;int&gt; | arr_delay &lt;int&gt; |\n|---|---|\n|  2 |  11 |\n|  4 |  20 |\n|  2 |  33 |\n| -1 | -18 |\n| -6 | -25 |\n| -4 |  12 |\n| -5 |  19 |\n| -3 | -14 |\n| -3 |  -8 |\n| -2 |   8 |\n| -2 |  -2 |\n| -2 |  -3 |\n| -2 |   7 |\n| -2 | -14 |\n| -1 |  31 |\n|  0 |  -4 |\n| -1 |  -8 |\n|  0 |  -7 |\n|  0 |  12 |\n|  1 |  -6 |\n| -8 |  -8 |\n| -3 |  16 |\n| -4 | -12 |\n| -4 |  -8 |\n|  0 | -17 |\n|  8 |  32 |\n| 11 |  14 |\n|  3 |   4 |\n|  0 | -21 |\n|  0 |  -9 |\n| ⋮ | ⋮ |\n|  -2 | -24 |\n|  -2 |  -9 |\n|  -2 | -31 |\n|  30 |  -2 |\n|  -9 | -30 |\n|   0 | -30 |\n|  13 |  11 |\n|   0 | -25 |\n|  10 |   3 |\n|  -7 | -23 |\n|  -9 | -16 |\n| 194 | 194 |\n|  -2 |   8 |\n|  27 |   7 |\n|  72 |  57 |\n| -14 | -21 |\n|  80 |  42 |\n| 154 | 130 |\n|  -8 |  -8 |\n|  -5 | -17 |\n| -10 | -20 |\n|  -5 | -16 |\n|  12 |   1 |\n| -10 | -25 |\n|  NA |  NA |\n|  NA |  NA |\n|  NA |  NA |\n|  NA |  NA |\n|  NA |  NA |\n|  NA |  NA |\n\n",
            "text/latex": "A data.frame: 336776 × 2\n\\begin{tabular}{ll}\n dep\\_delay & arr\\_delay\\\\\n <int> & <int>\\\\\n\\hline\n\t  2 &  11\\\\\n\t  4 &  20\\\\\n\t  2 &  33\\\\\n\t -1 & -18\\\\\n\t -6 & -25\\\\\n\t -4 &  12\\\\\n\t -5 &  19\\\\\n\t -3 & -14\\\\\n\t -3 &  -8\\\\\n\t -2 &   8\\\\\n\t -2 &  -2\\\\\n\t -2 &  -3\\\\\n\t -2 &   7\\\\\n\t -2 & -14\\\\\n\t -1 &  31\\\\\n\t  0 &  -4\\\\\n\t -1 &  -8\\\\\n\t  0 &  -7\\\\\n\t  0 &  12\\\\\n\t  1 &  -6\\\\\n\t -8 &  -8\\\\\n\t -3 &  16\\\\\n\t -4 & -12\\\\\n\t -4 &  -8\\\\\n\t  0 & -17\\\\\n\t  8 &  32\\\\\n\t 11 &  14\\\\\n\t  3 &   4\\\\\n\t  0 & -21\\\\\n\t  0 &  -9\\\\\n\t ⋮ & ⋮\\\\\n\t  -2 & -24\\\\\n\t  -2 &  -9\\\\\n\t  -2 & -31\\\\\n\t  30 &  -2\\\\\n\t  -9 & -30\\\\\n\t   0 & -30\\\\\n\t  13 &  11\\\\\n\t   0 & -25\\\\\n\t  10 &   3\\\\\n\t  -7 & -23\\\\\n\t  -9 & -16\\\\\n\t 194 & 194\\\\\n\t  -2 &   8\\\\\n\t  27 &   7\\\\\n\t  72 &  57\\\\\n\t -14 & -21\\\\\n\t  80 &  42\\\\\n\t 154 & 130\\\\\n\t  -8 &  -8\\\\\n\t  -5 & -17\\\\\n\t -10 & -20\\\\\n\t  -5 & -16\\\\\n\t  12 &   1\\\\\n\t -10 & -25\\\\\n\t  NA &  NA\\\\\n\t  NA &  NA\\\\\n\t  NA &  NA\\\\\n\t  NA &  NA\\\\\n\t  NA &  NA\\\\\n\t  NA &  NA\\\\\n\\end{tabular}\n",
            "text/plain": [
              "       dep_delay arr_delay\n",
              "1       2         11      \n",
              "2       4         20      \n",
              "3       2         33      \n",
              "4      -1        -18      \n",
              "5      -6        -25      \n",
              "6      -4         12      \n",
              "7      -5         19      \n",
              "8      -3        -14      \n",
              "9      -3         -8      \n",
              "10     -2          8      \n",
              "11     -2         -2      \n",
              "12     -2         -3      \n",
              "13     -2          7      \n",
              "14     -2        -14      \n",
              "15     -1         31      \n",
              "16      0         -4      \n",
              "17     -1         -8      \n",
              "18      0         -7      \n",
              "19      0         12      \n",
              "20      1         -6      \n",
              "21     -8         -8      \n",
              "22     -3         16      \n",
              "23     -4        -12      \n",
              "24     -4         -8      \n",
              "25      0        -17      \n",
              "26      8         32      \n",
              "27     11         14      \n",
              "28      3          4      \n",
              "29      0        -21      \n",
              "30      0         -9      \n",
              "⋮      ⋮         ⋮        \n",
              "336747  -2       -24      \n",
              "336748  -2        -9      \n",
              "336749  -2       -31      \n",
              "336750  30        -2      \n",
              "336751  -9       -30      \n",
              "336752   0       -30      \n",
              "336753  13        11      \n",
              "336754   0       -25      \n",
              "336755  10         3      \n",
              "336756  -7       -23      \n",
              "336757  -9       -16      \n",
              "336758 194       194      \n",
              "336759  -2         8      \n",
              "336760  27         7      \n",
              "336761  72        57      \n",
              "336762 -14       -21      \n",
              "336763  80        42      \n",
              "336764 154       130      \n",
              "336765  -8        -8      \n",
              "336766  -5       -17      \n",
              "336767 -10       -20      \n",
              "336768  -5       -16      \n",
              "336769  12         1      \n",
              "336770 -10       -25      \n",
              "336771  NA        NA      \n",
              "336772  NA        NA      \n",
              "336773  NA        NA      \n",
              "336774  NA        NA      \n",
              "336775  NA        NA      \n",
              "336776  NA        NA      "
            ]
          },
          "metadata": {}
        }
      ]
    },
    {
      "cell_type": "code",
      "source": [
        "select(vuelos, 1:3)"
      ],
      "metadata": {
        "colab": {
          "base_uri": "https://localhost:8080/",
          "height": 1000
        },
        "id": "Cbq0DFRCcDc3",
        "outputId": "09998bc7-e81f-4508-eac7-7ed2ba82f470"
      },
      "execution_count": null,
      "outputs": [
        {
          "output_type": "display_data",
          "data": {
            "text/html": [
              "<table class=\"dataframe\">\n",
              "<caption>A data.frame: 336776 × 3</caption>\n",
              "<thead>\n",
              "\t<tr><th scope=col>anio</th><th scope=col>mes</th><th scope=col>day</th></tr>\n",
              "\t<tr><th scope=col>&lt;int&gt;</th><th scope=col>&lt;int&gt;</th><th scope=col>&lt;int&gt;</th></tr>\n",
              "</thead>\n",
              "<tbody>\n",
              "\t<tr><td>2013</td><td>1</td><td>1</td></tr>\n",
              "\t<tr><td>2013</td><td>1</td><td>1</td></tr>\n",
              "\t<tr><td>2013</td><td>1</td><td>1</td></tr>\n",
              "\t<tr><td>2013</td><td>1</td><td>1</td></tr>\n",
              "\t<tr><td>2013</td><td>1</td><td>1</td></tr>\n",
              "\t<tr><td>2013</td><td>1</td><td>1</td></tr>\n",
              "\t<tr><td>2013</td><td>1</td><td>1</td></tr>\n",
              "\t<tr><td>2013</td><td>1</td><td>1</td></tr>\n",
              "\t<tr><td>2013</td><td>1</td><td>1</td></tr>\n",
              "\t<tr><td>2013</td><td>1</td><td>1</td></tr>\n",
              "\t<tr><td>2013</td><td>1</td><td>1</td></tr>\n",
              "\t<tr><td>2013</td><td>1</td><td>1</td></tr>\n",
              "\t<tr><td>2013</td><td>1</td><td>1</td></tr>\n",
              "\t<tr><td>2013</td><td>1</td><td>1</td></tr>\n",
              "\t<tr><td>2013</td><td>1</td><td>1</td></tr>\n",
              "\t<tr><td>2013</td><td>1</td><td>1</td></tr>\n",
              "\t<tr><td>2013</td><td>1</td><td>1</td></tr>\n",
              "\t<tr><td>2013</td><td>1</td><td>1</td></tr>\n",
              "\t<tr><td>2013</td><td>1</td><td>1</td></tr>\n",
              "\t<tr><td>2013</td><td>1</td><td>1</td></tr>\n",
              "\t<tr><td>2013</td><td>1</td><td>1</td></tr>\n",
              "\t<tr><td>2013</td><td>1</td><td>1</td></tr>\n",
              "\t<tr><td>2013</td><td>1</td><td>1</td></tr>\n",
              "\t<tr><td>2013</td><td>1</td><td>1</td></tr>\n",
              "\t<tr><td>2013</td><td>1</td><td>1</td></tr>\n",
              "\t<tr><td>2013</td><td>1</td><td>1</td></tr>\n",
              "\t<tr><td>2013</td><td>1</td><td>1</td></tr>\n",
              "\t<tr><td>2013</td><td>1</td><td>1</td></tr>\n",
              "\t<tr><td>2013</td><td>1</td><td>1</td></tr>\n",
              "\t<tr><td>2013</td><td>1</td><td>1</td></tr>\n",
              "\t<tr><td>⋮</td><td>⋮</td><td>⋮</td></tr>\n",
              "\t<tr><td>2013</td><td>9</td><td>30</td></tr>\n",
              "\t<tr><td>2013</td><td>9</td><td>30</td></tr>\n",
              "\t<tr><td>2013</td><td>9</td><td>30</td></tr>\n",
              "\t<tr><td>2013</td><td>9</td><td>30</td></tr>\n",
              "\t<tr><td>2013</td><td>9</td><td>30</td></tr>\n",
              "\t<tr><td>2013</td><td>9</td><td>30</td></tr>\n",
              "\t<tr><td>2013</td><td>9</td><td>30</td></tr>\n",
              "\t<tr><td>2013</td><td>9</td><td>30</td></tr>\n",
              "\t<tr><td>2013</td><td>9</td><td>30</td></tr>\n",
              "\t<tr><td>2013</td><td>9</td><td>30</td></tr>\n",
              "\t<tr><td>2013</td><td>9</td><td>30</td></tr>\n",
              "\t<tr><td>2013</td><td>9</td><td>30</td></tr>\n",
              "\t<tr><td>2013</td><td>9</td><td>30</td></tr>\n",
              "\t<tr><td>2013</td><td>9</td><td>30</td></tr>\n",
              "\t<tr><td>2013</td><td>9</td><td>30</td></tr>\n",
              "\t<tr><td>2013</td><td>9</td><td>30</td></tr>\n",
              "\t<tr><td>2013</td><td>9</td><td>30</td></tr>\n",
              "\t<tr><td>2013</td><td>9</td><td>30</td></tr>\n",
              "\t<tr><td>2013</td><td>9</td><td>30</td></tr>\n",
              "\t<tr><td>2013</td><td>9</td><td>30</td></tr>\n",
              "\t<tr><td>2013</td><td>9</td><td>30</td></tr>\n",
              "\t<tr><td>2013</td><td>9</td><td>30</td></tr>\n",
              "\t<tr><td>2013</td><td>9</td><td>30</td></tr>\n",
              "\t<tr><td>2013</td><td>9</td><td>30</td></tr>\n",
              "\t<tr><td>2013</td><td>9</td><td>30</td></tr>\n",
              "\t<tr><td>2013</td><td>9</td><td>30</td></tr>\n",
              "\t<tr><td>2013</td><td>9</td><td>30</td></tr>\n",
              "\t<tr><td>2013</td><td>9</td><td>30</td></tr>\n",
              "\t<tr><td>2013</td><td>9</td><td>30</td></tr>\n",
              "\t<tr><td>2013</td><td>9</td><td>30</td></tr>\n",
              "</tbody>\n",
              "</table>\n"
            ],
            "text/markdown": "\nA data.frame: 336776 × 3\n\n| anio &lt;int&gt; | mes &lt;int&gt; | day &lt;int&gt; |\n|---|---|---|\n| 2013 | 1 | 1 |\n| 2013 | 1 | 1 |\n| 2013 | 1 | 1 |\n| 2013 | 1 | 1 |\n| 2013 | 1 | 1 |\n| 2013 | 1 | 1 |\n| 2013 | 1 | 1 |\n| 2013 | 1 | 1 |\n| 2013 | 1 | 1 |\n| 2013 | 1 | 1 |\n| 2013 | 1 | 1 |\n| 2013 | 1 | 1 |\n| 2013 | 1 | 1 |\n| 2013 | 1 | 1 |\n| 2013 | 1 | 1 |\n| 2013 | 1 | 1 |\n| 2013 | 1 | 1 |\n| 2013 | 1 | 1 |\n| 2013 | 1 | 1 |\n| 2013 | 1 | 1 |\n| 2013 | 1 | 1 |\n| 2013 | 1 | 1 |\n| 2013 | 1 | 1 |\n| 2013 | 1 | 1 |\n| 2013 | 1 | 1 |\n| 2013 | 1 | 1 |\n| 2013 | 1 | 1 |\n| 2013 | 1 | 1 |\n| 2013 | 1 | 1 |\n| 2013 | 1 | 1 |\n| ⋮ | ⋮ | ⋮ |\n| 2013 | 9 | 30 |\n| 2013 | 9 | 30 |\n| 2013 | 9 | 30 |\n| 2013 | 9 | 30 |\n| 2013 | 9 | 30 |\n| 2013 | 9 | 30 |\n| 2013 | 9 | 30 |\n| 2013 | 9 | 30 |\n| 2013 | 9 | 30 |\n| 2013 | 9 | 30 |\n| 2013 | 9 | 30 |\n| 2013 | 9 | 30 |\n| 2013 | 9 | 30 |\n| 2013 | 9 | 30 |\n| 2013 | 9 | 30 |\n| 2013 | 9 | 30 |\n| 2013 | 9 | 30 |\n| 2013 | 9 | 30 |\n| 2013 | 9 | 30 |\n| 2013 | 9 | 30 |\n| 2013 | 9 | 30 |\n| 2013 | 9 | 30 |\n| 2013 | 9 | 30 |\n| 2013 | 9 | 30 |\n| 2013 | 9 | 30 |\n| 2013 | 9 | 30 |\n| 2013 | 9 | 30 |\n| 2013 | 9 | 30 |\n| 2013 | 9 | 30 |\n| 2013 | 9 | 30 |\n\n",
            "text/latex": "A data.frame: 336776 × 3\n\\begin{tabular}{lll}\n anio & mes & day\\\\\n <int> & <int> & <int>\\\\\n\\hline\n\t 2013 & 1 & 1\\\\\n\t 2013 & 1 & 1\\\\\n\t 2013 & 1 & 1\\\\\n\t 2013 & 1 & 1\\\\\n\t 2013 & 1 & 1\\\\\n\t 2013 & 1 & 1\\\\\n\t 2013 & 1 & 1\\\\\n\t 2013 & 1 & 1\\\\\n\t 2013 & 1 & 1\\\\\n\t 2013 & 1 & 1\\\\\n\t 2013 & 1 & 1\\\\\n\t 2013 & 1 & 1\\\\\n\t 2013 & 1 & 1\\\\\n\t 2013 & 1 & 1\\\\\n\t 2013 & 1 & 1\\\\\n\t 2013 & 1 & 1\\\\\n\t 2013 & 1 & 1\\\\\n\t 2013 & 1 & 1\\\\\n\t 2013 & 1 & 1\\\\\n\t 2013 & 1 & 1\\\\\n\t 2013 & 1 & 1\\\\\n\t 2013 & 1 & 1\\\\\n\t 2013 & 1 & 1\\\\\n\t 2013 & 1 & 1\\\\\n\t 2013 & 1 & 1\\\\\n\t 2013 & 1 & 1\\\\\n\t 2013 & 1 & 1\\\\\n\t 2013 & 1 & 1\\\\\n\t 2013 & 1 & 1\\\\\n\t 2013 & 1 & 1\\\\\n\t ⋮ & ⋮ & ⋮\\\\\n\t 2013 & 9 & 30\\\\\n\t 2013 & 9 & 30\\\\\n\t 2013 & 9 & 30\\\\\n\t 2013 & 9 & 30\\\\\n\t 2013 & 9 & 30\\\\\n\t 2013 & 9 & 30\\\\\n\t 2013 & 9 & 30\\\\\n\t 2013 & 9 & 30\\\\\n\t 2013 & 9 & 30\\\\\n\t 2013 & 9 & 30\\\\\n\t 2013 & 9 & 30\\\\\n\t 2013 & 9 & 30\\\\\n\t 2013 & 9 & 30\\\\\n\t 2013 & 9 & 30\\\\\n\t 2013 & 9 & 30\\\\\n\t 2013 & 9 & 30\\\\\n\t 2013 & 9 & 30\\\\\n\t 2013 & 9 & 30\\\\\n\t 2013 & 9 & 30\\\\\n\t 2013 & 9 & 30\\\\\n\t 2013 & 9 & 30\\\\\n\t 2013 & 9 & 30\\\\\n\t 2013 & 9 & 30\\\\\n\t 2013 & 9 & 30\\\\\n\t 2013 & 9 & 30\\\\\n\t 2013 & 9 & 30\\\\\n\t 2013 & 9 & 30\\\\\n\t 2013 & 9 & 30\\\\\n\t 2013 & 9 & 30\\\\\n\t 2013 & 9 & 30\\\\\n\\end{tabular}\n",
            "text/plain": [
              "       anio mes day\n",
              "1      2013 1   1  \n",
              "2      2013 1   1  \n",
              "3      2013 1   1  \n",
              "4      2013 1   1  \n",
              "5      2013 1   1  \n",
              "6      2013 1   1  \n",
              "7      2013 1   1  \n",
              "8      2013 1   1  \n",
              "9      2013 1   1  \n",
              "10     2013 1   1  \n",
              "11     2013 1   1  \n",
              "12     2013 1   1  \n",
              "13     2013 1   1  \n",
              "14     2013 1   1  \n",
              "15     2013 1   1  \n",
              "16     2013 1   1  \n",
              "17     2013 1   1  \n",
              "18     2013 1   1  \n",
              "19     2013 1   1  \n",
              "20     2013 1   1  \n",
              "21     2013 1   1  \n",
              "22     2013 1   1  \n",
              "23     2013 1   1  \n",
              "24     2013 1   1  \n",
              "25     2013 1   1  \n",
              "26     2013 1   1  \n",
              "27     2013 1   1  \n",
              "28     2013 1   1  \n",
              "29     2013 1   1  \n",
              "30     2013 1   1  \n",
              "⋮      ⋮    ⋮   ⋮  \n",
              "336747 2013 9   30 \n",
              "336748 2013 9   30 \n",
              "336749 2013 9   30 \n",
              "336750 2013 9   30 \n",
              "336751 2013 9   30 \n",
              "336752 2013 9   30 \n",
              "336753 2013 9   30 \n",
              "336754 2013 9   30 \n",
              "336755 2013 9   30 \n",
              "336756 2013 9   30 \n",
              "336757 2013 9   30 \n",
              "336758 2013 9   30 \n",
              "336759 2013 9   30 \n",
              "336760 2013 9   30 \n",
              "336761 2013 9   30 \n",
              "336762 2013 9   30 \n",
              "336763 2013 9   30 \n",
              "336764 2013 9   30 \n",
              "336765 2013 9   30 \n",
              "336766 2013 9   30 \n",
              "336767 2013 9   30 \n",
              "336768 2013 9   30 \n",
              "336769 2013 9   30 \n",
              "336770 2013 9   30 \n",
              "336771 2013 9   30 \n",
              "336772 2013 9   30 \n",
              "336773 2013 9   30 \n",
              "336774 2013 9   30 \n",
              "336775 2013 9   30 \n",
              "336776 2013 9   30 "
            ]
          },
          "metadata": {}
        }
      ]
    },
    {
      "cell_type": "code",
      "source": [
        "names(vuelos)"
      ],
      "metadata": {
        "colab": {
          "base_uri": "https://localhost:8080/",
          "height": 34
        },
        "id": "3lNA4RwJcL_U",
        "outputId": "0b67f746-e846-43f0-ad77-13a688124c60"
      },
      "execution_count": null,
      "outputs": [
        {
          "output_type": "display_data",
          "data": {
            "text/html": [
              "<style>\n",
              ".list-inline {list-style: none; margin:0; padding: 0}\n",
              ".list-inline>li {display: inline-block}\n",
              ".list-inline>li:not(:last-child)::after {content: \"\\00b7\"; padding: 0 .5ex}\n",
              "</style>\n",
              "<ol class=list-inline><li>'anio'</li><li>'mes'</li><li>'day'</li><li>'dep_time'</li><li>'sched_dep_time'</li><li>'dep_delay'</li><li>'arr_time'</li><li>'sched_arr_time'</li><li>'arr_delay'</li><li>'carrier'</li><li>'flight'</li><li>'tailnum'</li><li>'origin'</li><li>'dest'</li><li>'air_time'</li><li>'distance'</li><li>'hour'</li><li>'minute'</li><li>'time_hour'</li></ol>\n"
            ],
            "text/markdown": "1. 'anio'\n2. 'mes'\n3. 'day'\n4. 'dep_time'\n5. 'sched_dep_time'\n6. 'dep_delay'\n7. 'arr_time'\n8. 'sched_arr_time'\n9. 'arr_delay'\n10. 'carrier'\n11. 'flight'\n12. 'tailnum'\n13. 'origin'\n14. 'dest'\n15. 'air_time'\n16. 'distance'\n17. 'hour'\n18. 'minute'\n19. 'time_hour'\n\n\n",
            "text/latex": "\\begin{enumerate*}\n\\item 'anio'\n\\item 'mes'\n\\item 'day'\n\\item 'dep\\_time'\n\\item 'sched\\_dep\\_time'\n\\item 'dep\\_delay'\n\\item 'arr\\_time'\n\\item 'sched\\_arr\\_time'\n\\item 'arr\\_delay'\n\\item 'carrier'\n\\item 'flight'\n\\item 'tailnum'\n\\item 'origin'\n\\item 'dest'\n\\item 'air\\_time'\n\\item 'distance'\n\\item 'hour'\n\\item 'minute'\n\\item 'time\\_hour'\n\\end{enumerate*}\n",
            "text/plain": [
              " [1] \"anio\"           \"mes\"            \"day\"            \"dep_time\"      \n",
              " [5] \"sched_dep_time\" \"dep_delay\"      \"arr_time\"       \"sched_arr_time\"\n",
              " [9] \"arr_delay\"      \"carrier\"        \"flight\"         \"tailnum\"       \n",
              "[13] \"origin\"         \"dest\"           \"air_time\"       \"distance\"      \n",
              "[17] \"hour\"           \"minute\"         \"time_hour\"     "
            ]
          },
          "metadata": {}
        }
      ]
    },
    {
      "cell_type": "code",
      "metadata": {
        "trusted": true,
        "id": "hBiqCaokRPyy",
        "colab": {
          "base_uri": "https://localhost:8080/",
          "height": 1000
        },
        "outputId": "322f6224-a7b2-4b07-99d3-4ccaae451eed"
      },
      "source": [
        "select(vuelos, dep_time:carrier)"
      ],
      "execution_count": null,
      "outputs": [
        {
          "output_type": "display_data",
          "data": {
            "text/html": [
              "<table class=\"dataframe\">\n",
              "<caption>A data.frame: 336776 × 7</caption>\n",
              "<thead>\n",
              "\t<tr><th scope=col>dep_time</th><th scope=col>sched_dep_time</th><th scope=col>dep_delay</th><th scope=col>arr_time</th><th scope=col>sched_arr_time</th><th scope=col>arr_delay</th><th scope=col>carrier</th></tr>\n",
              "\t<tr><th scope=col>&lt;int&gt;</th><th scope=col>&lt;int&gt;</th><th scope=col>&lt;int&gt;</th><th scope=col>&lt;int&gt;</th><th scope=col>&lt;int&gt;</th><th scope=col>&lt;int&gt;</th><th scope=col>&lt;chr&gt;</th></tr>\n",
              "</thead>\n",
              "<tbody>\n",
              "\t<tr><td>517</td><td>515</td><td> 2</td><td> 830</td><td> 819</td><td> 11</td><td>UA</td></tr>\n",
              "\t<tr><td>533</td><td>529</td><td> 4</td><td> 850</td><td> 830</td><td> 20</td><td>UA</td></tr>\n",
              "\t<tr><td>542</td><td>540</td><td> 2</td><td> 923</td><td> 850</td><td> 33</td><td>AA</td></tr>\n",
              "\t<tr><td>544</td><td>545</td><td>-1</td><td>1004</td><td>1022</td><td>-18</td><td>B6</td></tr>\n",
              "\t<tr><td>554</td><td>600</td><td>-6</td><td> 812</td><td> 837</td><td>-25</td><td>DL</td></tr>\n",
              "\t<tr><td>554</td><td>558</td><td>-4</td><td> 740</td><td> 728</td><td> 12</td><td>UA</td></tr>\n",
              "\t<tr><td>555</td><td>600</td><td>-5</td><td> 913</td><td> 854</td><td> 19</td><td>B6</td></tr>\n",
              "\t<tr><td>557</td><td>600</td><td>-3</td><td> 709</td><td> 723</td><td>-14</td><td>EV</td></tr>\n",
              "\t<tr><td>557</td><td>600</td><td>-3</td><td> 838</td><td> 846</td><td> -8</td><td>B6</td></tr>\n",
              "\t<tr><td>558</td><td>600</td><td>-2</td><td> 753</td><td> 745</td><td>  8</td><td>AA</td></tr>\n",
              "\t<tr><td>558</td><td>600</td><td>-2</td><td> 849</td><td> 851</td><td> -2</td><td>B6</td></tr>\n",
              "\t<tr><td>558</td><td>600</td><td>-2</td><td> 853</td><td> 856</td><td> -3</td><td>B6</td></tr>\n",
              "\t<tr><td>558</td><td>600</td><td>-2</td><td> 924</td><td> 917</td><td>  7</td><td>UA</td></tr>\n",
              "\t<tr><td>558</td><td>600</td><td>-2</td><td> 923</td><td> 937</td><td>-14</td><td>UA</td></tr>\n",
              "\t<tr><td>559</td><td>600</td><td>-1</td><td> 941</td><td> 910</td><td> 31</td><td>AA</td></tr>\n",
              "\t<tr><td>559</td><td>559</td><td> 0</td><td> 702</td><td> 706</td><td> -4</td><td>B6</td></tr>\n",
              "\t<tr><td>559</td><td>600</td><td>-1</td><td> 854</td><td> 902</td><td> -8</td><td>UA</td></tr>\n",
              "\t<tr><td>600</td><td>600</td><td> 0</td><td> 851</td><td> 858</td><td> -7</td><td>B6</td></tr>\n",
              "\t<tr><td>600</td><td>600</td><td> 0</td><td> 837</td><td> 825</td><td> 12</td><td>MQ</td></tr>\n",
              "\t<tr><td>601</td><td>600</td><td> 1</td><td> 844</td><td> 850</td><td> -6</td><td>B6</td></tr>\n",
              "\t<tr><td>602</td><td>610</td><td>-8</td><td> 812</td><td> 820</td><td> -8</td><td>DL</td></tr>\n",
              "\t<tr><td>602</td><td>605</td><td>-3</td><td> 821</td><td> 805</td><td> 16</td><td>MQ</td></tr>\n",
              "\t<tr><td>606</td><td>610</td><td>-4</td><td> 858</td><td> 910</td><td>-12</td><td>AA</td></tr>\n",
              "\t<tr><td>606</td><td>610</td><td>-4</td><td> 837</td><td> 845</td><td> -8</td><td>DL</td></tr>\n",
              "\t<tr><td>607</td><td>607</td><td> 0</td><td> 858</td><td> 915</td><td>-17</td><td>UA</td></tr>\n",
              "\t<tr><td>608</td><td>600</td><td> 8</td><td> 807</td><td> 735</td><td> 32</td><td>MQ</td></tr>\n",
              "\t<tr><td>611</td><td>600</td><td>11</td><td> 945</td><td> 931</td><td> 14</td><td>UA</td></tr>\n",
              "\t<tr><td>613</td><td>610</td><td> 3</td><td> 925</td><td> 921</td><td>  4</td><td>B6</td></tr>\n",
              "\t<tr><td>615</td><td>615</td><td> 0</td><td>1039</td><td>1100</td><td>-21</td><td>B6</td></tr>\n",
              "\t<tr><td>615</td><td>615</td><td> 0</td><td> 833</td><td> 842</td><td> -9</td><td>DL</td></tr>\n",
              "\t<tr><td>⋮</td><td>⋮</td><td>⋮</td><td>⋮</td><td>⋮</td><td>⋮</td><td>⋮</td></tr>\n",
              "\t<tr><td>2123</td><td>2125</td><td> -2</td><td>2223</td><td>2247</td><td>-24</td><td>EV</td></tr>\n",
              "\t<tr><td>2127</td><td>2129</td><td> -2</td><td>2314</td><td>2323</td><td> -9</td><td>EV</td></tr>\n",
              "\t<tr><td>2128</td><td>2130</td><td> -2</td><td>2328</td><td>2359</td><td>-31</td><td>B6</td></tr>\n",
              "\t<tr><td>2129</td><td>2059</td><td> 30</td><td>2230</td><td>2232</td><td> -2</td><td>EV</td></tr>\n",
              "\t<tr><td>2131</td><td>2140</td><td> -9</td><td>2225</td><td>2255</td><td>-30</td><td>MQ</td></tr>\n",
              "\t<tr><td>2140</td><td>2140</td><td>  0</td><td>  10</td><td>  40</td><td>-30</td><td>AA</td></tr>\n",
              "\t<tr><td>2142</td><td>2129</td><td> 13</td><td>2250</td><td>2239</td><td> 11</td><td>EV</td></tr>\n",
              "\t<tr><td>2145</td><td>2145</td><td>  0</td><td> 115</td><td> 140</td><td>-25</td><td>B6</td></tr>\n",
              "\t<tr><td>2147</td><td>2137</td><td> 10</td><td>  30</td><td>  27</td><td>  3</td><td>B6</td></tr>\n",
              "\t<tr><td>2149</td><td>2156</td><td> -7</td><td>2245</td><td>2308</td><td>-23</td><td>UA</td></tr>\n",
              "\t<tr><td>2150</td><td>2159</td><td> -9</td><td>2250</td><td>2306</td><td>-16</td><td>EV</td></tr>\n",
              "\t<tr><td>2159</td><td>1845</td><td>194</td><td>2344</td><td>2030</td><td>194</td><td>9E</td></tr>\n",
              "\t<tr><td>2203</td><td>2205</td><td> -2</td><td>2339</td><td>2331</td><td>  8</td><td>EV</td></tr>\n",
              "\t<tr><td>2207</td><td>2140</td><td> 27</td><td>2257</td><td>2250</td><td>  7</td><td>MQ</td></tr>\n",
              "\t<tr><td>2211</td><td>2059</td><td> 72</td><td>2339</td><td>2242</td><td> 57</td><td>EV</td></tr>\n",
              "\t<tr><td>2231</td><td>2245</td><td>-14</td><td>2335</td><td>2356</td><td>-21</td><td>B6</td></tr>\n",
              "\t<tr><td>2233</td><td>2113</td><td> 80</td><td> 112</td><td>  30</td><td> 42</td><td>UA</td></tr>\n",
              "\t<tr><td>2235</td><td>2001</td><td>154</td><td>  59</td><td>2249</td><td>130</td><td>B6</td></tr>\n",
              "\t<tr><td>2237</td><td>2245</td><td> -8</td><td>2345</td><td>2353</td><td> -8</td><td>B6</td></tr>\n",
              "\t<tr><td>2240</td><td>2245</td><td> -5</td><td>2334</td><td>2351</td><td>-17</td><td>B6</td></tr>\n",
              "\t<tr><td>2240</td><td>2250</td><td>-10</td><td>2347</td><td>   7</td><td>-20</td><td>B6</td></tr>\n",
              "\t<tr><td>2241</td><td>2246</td><td> -5</td><td>2345</td><td>   1</td><td>-16</td><td>B6</td></tr>\n",
              "\t<tr><td>2307</td><td>2255</td><td> 12</td><td>2359</td><td>2358</td><td>  1</td><td>B6</td></tr>\n",
              "\t<tr><td>2349</td><td>2359</td><td>-10</td><td> 325</td><td> 350</td><td>-25</td><td>B6</td></tr>\n",
              "\t<tr><td>  NA</td><td>1842</td><td> NA</td><td>  NA</td><td>2019</td><td> NA</td><td>EV</td></tr>\n",
              "\t<tr><td>  NA</td><td>1455</td><td> NA</td><td>  NA</td><td>1634</td><td> NA</td><td>9E</td></tr>\n",
              "\t<tr><td>  NA</td><td>2200</td><td> NA</td><td>  NA</td><td>2312</td><td> NA</td><td>9E</td></tr>\n",
              "\t<tr><td>  NA</td><td>1210</td><td> NA</td><td>  NA</td><td>1330</td><td> NA</td><td>MQ</td></tr>\n",
              "\t<tr><td>  NA</td><td>1159</td><td> NA</td><td>  NA</td><td>1344</td><td> NA</td><td>MQ</td></tr>\n",
              "\t<tr><td>  NA</td><td> 840</td><td> NA</td><td>  NA</td><td>1020</td><td> NA</td><td>MQ</td></tr>\n",
              "</tbody>\n",
              "</table>\n"
            ],
            "text/markdown": "\nA data.frame: 336776 × 7\n\n| dep_time &lt;int&gt; | sched_dep_time &lt;int&gt; | dep_delay &lt;int&gt; | arr_time &lt;int&gt; | sched_arr_time &lt;int&gt; | arr_delay &lt;int&gt; | carrier &lt;chr&gt; |\n|---|---|---|---|---|---|---|\n| 517 | 515 |  2 |  830 |  819 |  11 | UA |\n| 533 | 529 |  4 |  850 |  830 |  20 | UA |\n| 542 | 540 |  2 |  923 |  850 |  33 | AA |\n| 544 | 545 | -1 | 1004 | 1022 | -18 | B6 |\n| 554 | 600 | -6 |  812 |  837 | -25 | DL |\n| 554 | 558 | -4 |  740 |  728 |  12 | UA |\n| 555 | 600 | -5 |  913 |  854 |  19 | B6 |\n| 557 | 600 | -3 |  709 |  723 | -14 | EV |\n| 557 | 600 | -3 |  838 |  846 |  -8 | B6 |\n| 558 | 600 | -2 |  753 |  745 |   8 | AA |\n| 558 | 600 | -2 |  849 |  851 |  -2 | B6 |\n| 558 | 600 | -2 |  853 |  856 |  -3 | B6 |\n| 558 | 600 | -2 |  924 |  917 |   7 | UA |\n| 558 | 600 | -2 |  923 |  937 | -14 | UA |\n| 559 | 600 | -1 |  941 |  910 |  31 | AA |\n| 559 | 559 |  0 |  702 |  706 |  -4 | B6 |\n| 559 | 600 | -1 |  854 |  902 |  -8 | UA |\n| 600 | 600 |  0 |  851 |  858 |  -7 | B6 |\n| 600 | 600 |  0 |  837 |  825 |  12 | MQ |\n| 601 | 600 |  1 |  844 |  850 |  -6 | B6 |\n| 602 | 610 | -8 |  812 |  820 |  -8 | DL |\n| 602 | 605 | -3 |  821 |  805 |  16 | MQ |\n| 606 | 610 | -4 |  858 |  910 | -12 | AA |\n| 606 | 610 | -4 |  837 |  845 |  -8 | DL |\n| 607 | 607 |  0 |  858 |  915 | -17 | UA |\n| 608 | 600 |  8 |  807 |  735 |  32 | MQ |\n| 611 | 600 | 11 |  945 |  931 |  14 | UA |\n| 613 | 610 |  3 |  925 |  921 |   4 | B6 |\n| 615 | 615 |  0 | 1039 | 1100 | -21 | B6 |\n| 615 | 615 |  0 |  833 |  842 |  -9 | DL |\n| ⋮ | ⋮ | ⋮ | ⋮ | ⋮ | ⋮ | ⋮ |\n| 2123 | 2125 |  -2 | 2223 | 2247 | -24 | EV |\n| 2127 | 2129 |  -2 | 2314 | 2323 |  -9 | EV |\n| 2128 | 2130 |  -2 | 2328 | 2359 | -31 | B6 |\n| 2129 | 2059 |  30 | 2230 | 2232 |  -2 | EV |\n| 2131 | 2140 |  -9 | 2225 | 2255 | -30 | MQ |\n| 2140 | 2140 |   0 |   10 |   40 | -30 | AA |\n| 2142 | 2129 |  13 | 2250 | 2239 |  11 | EV |\n| 2145 | 2145 |   0 |  115 |  140 | -25 | B6 |\n| 2147 | 2137 |  10 |   30 |   27 |   3 | B6 |\n| 2149 | 2156 |  -7 | 2245 | 2308 | -23 | UA |\n| 2150 | 2159 |  -9 | 2250 | 2306 | -16 | EV |\n| 2159 | 1845 | 194 | 2344 | 2030 | 194 | 9E |\n| 2203 | 2205 |  -2 | 2339 | 2331 |   8 | EV |\n| 2207 | 2140 |  27 | 2257 | 2250 |   7 | MQ |\n| 2211 | 2059 |  72 | 2339 | 2242 |  57 | EV |\n| 2231 | 2245 | -14 | 2335 | 2356 | -21 | B6 |\n| 2233 | 2113 |  80 |  112 |   30 |  42 | UA |\n| 2235 | 2001 | 154 |   59 | 2249 | 130 | B6 |\n| 2237 | 2245 |  -8 | 2345 | 2353 |  -8 | B6 |\n| 2240 | 2245 |  -5 | 2334 | 2351 | -17 | B6 |\n| 2240 | 2250 | -10 | 2347 |    7 | -20 | B6 |\n| 2241 | 2246 |  -5 | 2345 |    1 | -16 | B6 |\n| 2307 | 2255 |  12 | 2359 | 2358 |   1 | B6 |\n| 2349 | 2359 | -10 |  325 |  350 | -25 | B6 |\n|   NA | 1842 |  NA |   NA | 2019 |  NA | EV |\n|   NA | 1455 |  NA |   NA | 1634 |  NA | 9E |\n|   NA | 2200 |  NA |   NA | 2312 |  NA | 9E |\n|   NA | 1210 |  NA |   NA | 1330 |  NA | MQ |\n|   NA | 1159 |  NA |   NA | 1344 |  NA | MQ |\n|   NA |  840 |  NA |   NA | 1020 |  NA | MQ |\n\n",
            "text/latex": "A data.frame: 336776 × 7\n\\begin{tabular}{lllllll}\n dep\\_time & sched\\_dep\\_time & dep\\_delay & arr\\_time & sched\\_arr\\_time & arr\\_delay & carrier\\\\\n <int> & <int> & <int> & <int> & <int> & <int> & <chr>\\\\\n\\hline\n\t 517 & 515 &  2 &  830 &  819 &  11 & UA\\\\\n\t 533 & 529 &  4 &  850 &  830 &  20 & UA\\\\\n\t 542 & 540 &  2 &  923 &  850 &  33 & AA\\\\\n\t 544 & 545 & -1 & 1004 & 1022 & -18 & B6\\\\\n\t 554 & 600 & -6 &  812 &  837 & -25 & DL\\\\\n\t 554 & 558 & -4 &  740 &  728 &  12 & UA\\\\\n\t 555 & 600 & -5 &  913 &  854 &  19 & B6\\\\\n\t 557 & 600 & -3 &  709 &  723 & -14 & EV\\\\\n\t 557 & 600 & -3 &  838 &  846 &  -8 & B6\\\\\n\t 558 & 600 & -2 &  753 &  745 &   8 & AA\\\\\n\t 558 & 600 & -2 &  849 &  851 &  -2 & B6\\\\\n\t 558 & 600 & -2 &  853 &  856 &  -3 & B6\\\\\n\t 558 & 600 & -2 &  924 &  917 &   7 & UA\\\\\n\t 558 & 600 & -2 &  923 &  937 & -14 & UA\\\\\n\t 559 & 600 & -1 &  941 &  910 &  31 & AA\\\\\n\t 559 & 559 &  0 &  702 &  706 &  -4 & B6\\\\\n\t 559 & 600 & -1 &  854 &  902 &  -8 & UA\\\\\n\t 600 & 600 &  0 &  851 &  858 &  -7 & B6\\\\\n\t 600 & 600 &  0 &  837 &  825 &  12 & MQ\\\\\n\t 601 & 600 &  1 &  844 &  850 &  -6 & B6\\\\\n\t 602 & 610 & -8 &  812 &  820 &  -8 & DL\\\\\n\t 602 & 605 & -3 &  821 &  805 &  16 & MQ\\\\\n\t 606 & 610 & -4 &  858 &  910 & -12 & AA\\\\\n\t 606 & 610 & -4 &  837 &  845 &  -8 & DL\\\\\n\t 607 & 607 &  0 &  858 &  915 & -17 & UA\\\\\n\t 608 & 600 &  8 &  807 &  735 &  32 & MQ\\\\\n\t 611 & 600 & 11 &  945 &  931 &  14 & UA\\\\\n\t 613 & 610 &  3 &  925 &  921 &   4 & B6\\\\\n\t 615 & 615 &  0 & 1039 & 1100 & -21 & B6\\\\\n\t 615 & 615 &  0 &  833 &  842 &  -9 & DL\\\\\n\t ⋮ & ⋮ & ⋮ & ⋮ & ⋮ & ⋮ & ⋮\\\\\n\t 2123 & 2125 &  -2 & 2223 & 2247 & -24 & EV\\\\\n\t 2127 & 2129 &  -2 & 2314 & 2323 &  -9 & EV\\\\\n\t 2128 & 2130 &  -2 & 2328 & 2359 & -31 & B6\\\\\n\t 2129 & 2059 &  30 & 2230 & 2232 &  -2 & EV\\\\\n\t 2131 & 2140 &  -9 & 2225 & 2255 & -30 & MQ\\\\\n\t 2140 & 2140 &   0 &   10 &   40 & -30 & AA\\\\\n\t 2142 & 2129 &  13 & 2250 & 2239 &  11 & EV\\\\\n\t 2145 & 2145 &   0 &  115 &  140 & -25 & B6\\\\\n\t 2147 & 2137 &  10 &   30 &   27 &   3 & B6\\\\\n\t 2149 & 2156 &  -7 & 2245 & 2308 & -23 & UA\\\\\n\t 2150 & 2159 &  -9 & 2250 & 2306 & -16 & EV\\\\\n\t 2159 & 1845 & 194 & 2344 & 2030 & 194 & 9E\\\\\n\t 2203 & 2205 &  -2 & 2339 & 2331 &   8 & EV\\\\\n\t 2207 & 2140 &  27 & 2257 & 2250 &   7 & MQ\\\\\n\t 2211 & 2059 &  72 & 2339 & 2242 &  57 & EV\\\\\n\t 2231 & 2245 & -14 & 2335 & 2356 & -21 & B6\\\\\n\t 2233 & 2113 &  80 &  112 &   30 &  42 & UA\\\\\n\t 2235 & 2001 & 154 &   59 & 2249 & 130 & B6\\\\\n\t 2237 & 2245 &  -8 & 2345 & 2353 &  -8 & B6\\\\\n\t 2240 & 2245 &  -5 & 2334 & 2351 & -17 & B6\\\\\n\t 2240 & 2250 & -10 & 2347 &    7 & -20 & B6\\\\\n\t 2241 & 2246 &  -5 & 2345 &    1 & -16 & B6\\\\\n\t 2307 & 2255 &  12 & 2359 & 2358 &   1 & B6\\\\\n\t 2349 & 2359 & -10 &  325 &  350 & -25 & B6\\\\\n\t   NA & 1842 &  NA &   NA & 2019 &  NA & EV\\\\\n\t   NA & 1455 &  NA &   NA & 1634 &  NA & 9E\\\\\n\t   NA & 2200 &  NA &   NA & 2312 &  NA & 9E\\\\\n\t   NA & 1210 &  NA &   NA & 1330 &  NA & MQ\\\\\n\t   NA & 1159 &  NA &   NA & 1344 &  NA & MQ\\\\\n\t   NA &  840 &  NA &   NA & 1020 &  NA & MQ\\\\\n\\end{tabular}\n",
            "text/plain": [
              "       dep_time sched_dep_time dep_delay arr_time sched_arr_time arr_delay\n",
              "1      517      515             2         830      819            11      \n",
              "2      533      529             4         850      830            20      \n",
              "3      542      540             2         923      850            33      \n",
              "4      544      545            -1        1004     1022           -18      \n",
              "5      554      600            -6         812      837           -25      \n",
              "6      554      558            -4         740      728            12      \n",
              "7      555      600            -5         913      854            19      \n",
              "8      557      600            -3         709      723           -14      \n",
              "9      557      600            -3         838      846            -8      \n",
              "10     558      600            -2         753      745             8      \n",
              "11     558      600            -2         849      851            -2      \n",
              "12     558      600            -2         853      856            -3      \n",
              "13     558      600            -2         924      917             7      \n",
              "14     558      600            -2         923      937           -14      \n",
              "15     559      600            -1         941      910            31      \n",
              "16     559      559             0         702      706            -4      \n",
              "17     559      600            -1         854      902            -8      \n",
              "18     600      600             0         851      858            -7      \n",
              "19     600      600             0         837      825            12      \n",
              "20     601      600             1         844      850            -6      \n",
              "21     602      610            -8         812      820            -8      \n",
              "22     602      605            -3         821      805            16      \n",
              "23     606      610            -4         858      910           -12      \n",
              "24     606      610            -4         837      845            -8      \n",
              "25     607      607             0         858      915           -17      \n",
              "26     608      600             8         807      735            32      \n",
              "27     611      600            11         945      931            14      \n",
              "28     613      610             3         925      921             4      \n",
              "29     615      615             0        1039     1100           -21      \n",
              "30     615      615             0         833      842            -9      \n",
              "⋮      ⋮        ⋮              ⋮         ⋮        ⋮              ⋮        \n",
              "336747 2123     2125            -2       2223     2247           -24      \n",
              "336748 2127     2129            -2       2314     2323            -9      \n",
              "336749 2128     2130            -2       2328     2359           -31      \n",
              "336750 2129     2059            30       2230     2232            -2      \n",
              "336751 2131     2140            -9       2225     2255           -30      \n",
              "336752 2140     2140             0         10       40           -30      \n",
              "336753 2142     2129            13       2250     2239            11      \n",
              "336754 2145     2145             0        115      140           -25      \n",
              "336755 2147     2137            10         30       27             3      \n",
              "336756 2149     2156            -7       2245     2308           -23      \n",
              "336757 2150     2159            -9       2250     2306           -16      \n",
              "336758 2159     1845           194       2344     2030           194      \n",
              "336759 2203     2205            -2       2339     2331             8      \n",
              "336760 2207     2140            27       2257     2250             7      \n",
              "336761 2211     2059            72       2339     2242            57      \n",
              "336762 2231     2245           -14       2335     2356           -21      \n",
              "336763 2233     2113            80        112       30            42      \n",
              "336764 2235     2001           154         59     2249           130      \n",
              "336765 2237     2245            -8       2345     2353            -8      \n",
              "336766 2240     2245            -5       2334     2351           -17      \n",
              "336767 2240     2250           -10       2347        7           -20      \n",
              "336768 2241     2246            -5       2345        1           -16      \n",
              "336769 2307     2255            12       2359     2358             1      \n",
              "336770 2349     2359           -10        325      350           -25      \n",
              "336771   NA     1842            NA         NA     2019            NA      \n",
              "336772   NA     1455            NA         NA     1634            NA      \n",
              "336773   NA     2200            NA         NA     2312            NA      \n",
              "336774   NA     1210            NA         NA     1330            NA      \n",
              "336775   NA     1159            NA         NA     1344            NA      \n",
              "336776   NA      840            NA         NA     1020            NA      \n",
              "       carrier\n",
              "1      UA     \n",
              "2      UA     \n",
              "3      AA     \n",
              "4      B6     \n",
              "5      DL     \n",
              "6      UA     \n",
              "7      B6     \n",
              "8      EV     \n",
              "9      B6     \n",
              "10     AA     \n",
              "11     B6     \n",
              "12     B6     \n",
              "13     UA     \n",
              "14     UA     \n",
              "15     AA     \n",
              "16     B6     \n",
              "17     UA     \n",
              "18     B6     \n",
              "19     MQ     \n",
              "20     B6     \n",
              "21     DL     \n",
              "22     MQ     \n",
              "23     AA     \n",
              "24     DL     \n",
              "25     UA     \n",
              "26     MQ     \n",
              "27     UA     \n",
              "28     B6     \n",
              "29     B6     \n",
              "30     DL     \n",
              "⋮      ⋮      \n",
              "336747 EV     \n",
              "336748 EV     \n",
              "336749 B6     \n",
              "336750 EV     \n",
              "336751 MQ     \n",
              "336752 AA     \n",
              "336753 EV     \n",
              "336754 B6     \n",
              "336755 B6     \n",
              "336756 UA     \n",
              "336757 EV     \n",
              "336758 9E     \n",
              "336759 EV     \n",
              "336760 MQ     \n",
              "336761 EV     \n",
              "336762 B6     \n",
              "336763 UA     \n",
              "336764 B6     \n",
              "336765 B6     \n",
              "336766 B6     \n",
              "336767 B6     \n",
              "336768 B6     \n",
              "336769 B6     \n",
              "336770 B6     \n",
              "336771 EV     \n",
              "336772 9E     \n",
              "336773 9E     \n",
              "336774 MQ     \n",
              "336775 MQ     \n",
              "336776 MQ     "
            ]
          },
          "metadata": {}
        }
      ]
    },
    {
      "cell_type": "markdown",
      "metadata": {
        "id": "6k5I_iHZRPy0"
      },
      "source": [
        "### 4.4 Función mutate()\n",
        "\n",
        "Una de las funciones más útiles de dplyr es la función mutate(), la cual permite crear nuevas columnas, o modificar las existentes."
      ]
    },
    {
      "cell_type": "code",
      "metadata": {
        "trusted": true,
        "scrolled": false,
        "id": "id5cyTJ2RPy0"
      },
      "source": [
        "# mutate() ----------------------------------------------------------------\n",
        "# Crear una nueva columna llamada retraso_neto, que contenga la suma de arr_delay y dep_delay\n",
        "\n",
        "#antes\n",
        "vuelos$retraso_neto <- vuelos$arr_delay + vuelos$dep_delay\n",
        "# vuelos[[retraso_neto]] <- vuelos$arr_delay + vuelos$dep_delay\n"
      ],
      "execution_count": null,
      "outputs": []
    },
    {
      "cell_type": "code",
      "source": [
        "head(vuelos)"
      ],
      "metadata": {
        "id": "ACSpcFN5gon5",
        "outputId": "6599e35e-445d-4372-9f4e-e23d3b76a543",
        "colab": {
          "base_uri": "https://localhost:8080/",
          "height": 514
        }
      },
      "execution_count": null,
      "outputs": [
        {
          "output_type": "display_data",
          "data": {
            "text/html": [
              "<table class=\"dataframe\">\n",
              "<caption>A data.frame: 6 × 20</caption>\n",
              "<thead>\n",
              "\t<tr><th></th><th scope=col>anio</th><th scope=col>mes</th><th scope=col>day</th><th scope=col>dep_time</th><th scope=col>sched_dep_time</th><th scope=col>dep_delay</th><th scope=col>arr_time</th><th scope=col>sched_arr_time</th><th scope=col>arr_delay</th><th scope=col>carrier</th><th scope=col>flight</th><th scope=col>tailnum</th><th scope=col>origin</th><th scope=col>dest</th><th scope=col>air_time</th><th scope=col>distance</th><th scope=col>hour</th><th scope=col>minute</th><th scope=col>time_hour</th><th scope=col>retraso_neto</th></tr>\n",
              "\t<tr><th></th><th scope=col>&lt;int&gt;</th><th scope=col>&lt;int&gt;</th><th scope=col>&lt;int&gt;</th><th scope=col>&lt;int&gt;</th><th scope=col>&lt;int&gt;</th><th scope=col>&lt;int&gt;</th><th scope=col>&lt;int&gt;</th><th scope=col>&lt;int&gt;</th><th scope=col>&lt;int&gt;</th><th scope=col>&lt;chr&gt;</th><th scope=col>&lt;int&gt;</th><th scope=col>&lt;chr&gt;</th><th scope=col>&lt;chr&gt;</th><th scope=col>&lt;chr&gt;</th><th scope=col>&lt;int&gt;</th><th scope=col>&lt;int&gt;</th><th scope=col>&lt;int&gt;</th><th scope=col>&lt;int&gt;</th><th scope=col>&lt;chr&gt;</th><th scope=col>&lt;int&gt;</th></tr>\n",
              "</thead>\n",
              "<tbody>\n",
              "\t<tr><th scope=row>1</th><td>2013</td><td>1</td><td>1</td><td>517</td><td>515</td><td> 2</td><td> 830</td><td> 819</td><td> 11</td><td>UA</td><td>1545</td><td>N14228</td><td>EWR</td><td>IAH</td><td>227</td><td>1400</td><td>5</td><td>15</td><td>2013-01-01 05:00:00</td><td> 13</td></tr>\n",
              "\t<tr><th scope=row>2</th><td>2013</td><td>1</td><td>1</td><td>533</td><td>529</td><td> 4</td><td> 850</td><td> 830</td><td> 20</td><td>UA</td><td>1714</td><td>N24211</td><td>LGA</td><td>IAH</td><td>227</td><td>1416</td><td>5</td><td>29</td><td>2013-01-01 05:00:00</td><td> 24</td></tr>\n",
              "\t<tr><th scope=row>3</th><td>2013</td><td>1</td><td>1</td><td>542</td><td>540</td><td> 2</td><td> 923</td><td> 850</td><td> 33</td><td>AA</td><td>1141</td><td>N619AA</td><td>JFK</td><td>MIA</td><td>160</td><td>1089</td><td>5</td><td>40</td><td>2013-01-01 05:00:00</td><td> 35</td></tr>\n",
              "\t<tr><th scope=row>4</th><td>2013</td><td>1</td><td>1</td><td>544</td><td>545</td><td>-1</td><td>1004</td><td>1022</td><td>-18</td><td>B6</td><td> 725</td><td>N804JB</td><td>JFK</td><td>BQN</td><td>183</td><td>1576</td><td>5</td><td>45</td><td>2013-01-01 05:00:00</td><td>-19</td></tr>\n",
              "\t<tr><th scope=row>5</th><td>2013</td><td>1</td><td>1</td><td>554</td><td>600</td><td>-6</td><td> 812</td><td> 837</td><td>-25</td><td>DL</td><td> 461</td><td>N668DN</td><td>LGA</td><td>ATL</td><td>116</td><td> 762</td><td>6</td><td> 0</td><td>2013-01-01 06:00:00</td><td>-31</td></tr>\n",
              "\t<tr><th scope=row>6</th><td>2013</td><td>1</td><td>1</td><td>554</td><td>558</td><td>-4</td><td> 740</td><td> 728</td><td> 12</td><td>UA</td><td>1696</td><td>N39463</td><td>EWR</td><td>ORD</td><td>150</td><td> 719</td><td>5</td><td>58</td><td>2013-01-01 05:00:00</td><td>  8</td></tr>\n",
              "</tbody>\n",
              "</table>\n"
            ],
            "text/markdown": "\nA data.frame: 6 × 20\n\n| <!--/--> | anio &lt;int&gt; | mes &lt;int&gt; | day &lt;int&gt; | dep_time &lt;int&gt; | sched_dep_time &lt;int&gt; | dep_delay &lt;int&gt; | arr_time &lt;int&gt; | sched_arr_time &lt;int&gt; | arr_delay &lt;int&gt; | carrier &lt;chr&gt; | flight &lt;int&gt; | tailnum &lt;chr&gt; | origin &lt;chr&gt; | dest &lt;chr&gt; | air_time &lt;int&gt; | distance &lt;int&gt; | hour &lt;int&gt; | minute &lt;int&gt; | time_hour &lt;chr&gt; | retraso_neto &lt;int&gt; |\n|---|---|---|---|---|---|---|---|---|---|---|---|---|---|---|---|---|---|---|---|---|\n| 1 | 2013 | 1 | 1 | 517 | 515 |  2 |  830 |  819 |  11 | UA | 1545 | N14228 | EWR | IAH | 227 | 1400 | 5 | 15 | 2013-01-01 05:00:00 |  13 |\n| 2 | 2013 | 1 | 1 | 533 | 529 |  4 |  850 |  830 |  20 | UA | 1714 | N24211 | LGA | IAH | 227 | 1416 | 5 | 29 | 2013-01-01 05:00:00 |  24 |\n| 3 | 2013 | 1 | 1 | 542 | 540 |  2 |  923 |  850 |  33 | AA | 1141 | N619AA | JFK | MIA | 160 | 1089 | 5 | 40 | 2013-01-01 05:00:00 |  35 |\n| 4 | 2013 | 1 | 1 | 544 | 545 | -1 | 1004 | 1022 | -18 | B6 |  725 | N804JB | JFK | BQN | 183 | 1576 | 5 | 45 | 2013-01-01 05:00:00 | -19 |\n| 5 | 2013 | 1 | 1 | 554 | 600 | -6 |  812 |  837 | -25 | DL |  461 | N668DN | LGA | ATL | 116 |  762 | 6 |  0 | 2013-01-01 06:00:00 | -31 |\n| 6 | 2013 | 1 | 1 | 554 | 558 | -4 |  740 |  728 |  12 | UA | 1696 | N39463 | EWR | ORD | 150 |  719 | 5 | 58 | 2013-01-01 05:00:00 |   8 |\n\n",
            "text/latex": "A data.frame: 6 × 20\n\\begin{tabular}{r|llllllllllllllllllll}\n  & anio & mes & day & dep\\_time & sched\\_dep\\_time & dep\\_delay & arr\\_time & sched\\_arr\\_time & arr\\_delay & carrier & flight & tailnum & origin & dest & air\\_time & distance & hour & minute & time\\_hour & retraso\\_neto\\\\\n  & <int> & <int> & <int> & <int> & <int> & <int> & <int> & <int> & <int> & <chr> & <int> & <chr> & <chr> & <chr> & <int> & <int> & <int> & <int> & <chr> & <int>\\\\\n\\hline\n\t1 & 2013 & 1 & 1 & 517 & 515 &  2 &  830 &  819 &  11 & UA & 1545 & N14228 & EWR & IAH & 227 & 1400 & 5 & 15 & 2013-01-01 05:00:00 &  13\\\\\n\t2 & 2013 & 1 & 1 & 533 & 529 &  4 &  850 &  830 &  20 & UA & 1714 & N24211 & LGA & IAH & 227 & 1416 & 5 & 29 & 2013-01-01 05:00:00 &  24\\\\\n\t3 & 2013 & 1 & 1 & 542 & 540 &  2 &  923 &  850 &  33 & AA & 1141 & N619AA & JFK & MIA & 160 & 1089 & 5 & 40 & 2013-01-01 05:00:00 &  35\\\\\n\t4 & 2013 & 1 & 1 & 544 & 545 & -1 & 1004 & 1022 & -18 & B6 &  725 & N804JB & JFK & BQN & 183 & 1576 & 5 & 45 & 2013-01-01 05:00:00 & -19\\\\\n\t5 & 2013 & 1 & 1 & 554 & 600 & -6 &  812 &  837 & -25 & DL &  461 & N668DN & LGA & ATL & 116 &  762 & 6 &  0 & 2013-01-01 06:00:00 & -31\\\\\n\t6 & 2013 & 1 & 1 & 554 & 558 & -4 &  740 &  728 &  12 & UA & 1696 & N39463 & EWR & ORD & 150 &  719 & 5 & 58 & 2013-01-01 05:00:00 &   8\\\\\n\\end{tabular}\n",
            "text/plain": [
              "  anio mes day dep_time sched_dep_time dep_delay arr_time sched_arr_time\n",
              "1 2013 1   1   517      515             2         830      819          \n",
              "2 2013 1   1   533      529             4         850      830          \n",
              "3 2013 1   1   542      540             2         923      850          \n",
              "4 2013 1   1   544      545            -1        1004     1022          \n",
              "5 2013 1   1   554      600            -6         812      837          \n",
              "6 2013 1   1   554      558            -4         740      728          \n",
              "  arr_delay carrier flight tailnum origin dest air_time distance hour minute\n",
              "1  11       UA      1545   N14228  EWR    IAH  227      1400     5    15    \n",
              "2  20       UA      1714   N24211  LGA    IAH  227      1416     5    29    \n",
              "3  33       AA      1141   N619AA  JFK    MIA  160      1089     5    40    \n",
              "4 -18       B6       725   N804JB  JFK    BQN  183      1576     5    45    \n",
              "5 -25       DL       461   N668DN  LGA    ATL  116       762     6     0    \n",
              "6  12       UA      1696   N39463  EWR    ORD  150       719     5    58    \n",
              "  time_hour           retraso_neto\n",
              "1 2013-01-01 05:00:00  13         \n",
              "2 2013-01-01 05:00:00  24         \n",
              "3 2013-01-01 05:00:00  35         \n",
              "4 2013-01-01 05:00:00 -19         \n",
              "5 2013-01-01 06:00:00 -31         \n",
              "6 2013-01-01 05:00:00   8         "
            ]
          },
          "metadata": {}
        }
      ]
    },
    {
      "cell_type": "code",
      "source": [
        "#Ahora con dplyr\n",
        "mutate(vuelos, retraso_neto2 = arr_delay + dep_delay)"
      ],
      "metadata": {
        "id": "6cDLUg-ZgztN",
        "outputId": "2f199a0d-0123-4404-ac8b-c790dc6c869e",
        "colab": {
          "base_uri": "https://localhost:8080/",
          "height": 1000
        }
      },
      "execution_count": null,
      "outputs": [
        {
          "output_type": "display_data",
          "data": {
            "text/html": [
              "<table class=\"dataframe\">\n",
              "<caption>A data.frame: 336776 × 21</caption>\n",
              "<thead>\n",
              "\t<tr><th scope=col>anio</th><th scope=col>mes</th><th scope=col>day</th><th scope=col>dep_time</th><th scope=col>sched_dep_time</th><th scope=col>dep_delay</th><th scope=col>arr_time</th><th scope=col>sched_arr_time</th><th scope=col>arr_delay</th><th scope=col>carrier</th><th scope=col>⋯</th><th scope=col>tailnum</th><th scope=col>origin</th><th scope=col>dest</th><th scope=col>air_time</th><th scope=col>distance</th><th scope=col>hour</th><th scope=col>minute</th><th scope=col>time_hour</th><th scope=col>retraso_neto</th><th scope=col>retraso_neto2</th></tr>\n",
              "\t<tr><th scope=col>&lt;int&gt;</th><th scope=col>&lt;int&gt;</th><th scope=col>&lt;int&gt;</th><th scope=col>&lt;int&gt;</th><th scope=col>&lt;int&gt;</th><th scope=col>&lt;int&gt;</th><th scope=col>&lt;int&gt;</th><th scope=col>&lt;int&gt;</th><th scope=col>&lt;int&gt;</th><th scope=col>&lt;chr&gt;</th><th scope=col>⋯</th><th scope=col>&lt;chr&gt;</th><th scope=col>&lt;chr&gt;</th><th scope=col>&lt;chr&gt;</th><th scope=col>&lt;int&gt;</th><th scope=col>&lt;int&gt;</th><th scope=col>&lt;int&gt;</th><th scope=col>&lt;int&gt;</th><th scope=col>&lt;chr&gt;</th><th scope=col>&lt;int&gt;</th><th scope=col>&lt;int&gt;</th></tr>\n",
              "</thead>\n",
              "<tbody>\n",
              "\t<tr><td>2013</td><td>1</td><td>1</td><td>517</td><td>515</td><td> 2</td><td> 830</td><td> 819</td><td> 11</td><td>UA</td><td>⋯</td><td>N14228</td><td>EWR</td><td>IAH</td><td>227</td><td>1400</td><td>5</td><td>15</td><td>2013-01-01 05:00:00</td><td> 13</td><td> 13</td></tr>\n",
              "\t<tr><td>2013</td><td>1</td><td>1</td><td>533</td><td>529</td><td> 4</td><td> 850</td><td> 830</td><td> 20</td><td>UA</td><td>⋯</td><td>N24211</td><td>LGA</td><td>IAH</td><td>227</td><td>1416</td><td>5</td><td>29</td><td>2013-01-01 05:00:00</td><td> 24</td><td> 24</td></tr>\n",
              "\t<tr><td>2013</td><td>1</td><td>1</td><td>542</td><td>540</td><td> 2</td><td> 923</td><td> 850</td><td> 33</td><td>AA</td><td>⋯</td><td>N619AA</td><td>JFK</td><td>MIA</td><td>160</td><td>1089</td><td>5</td><td>40</td><td>2013-01-01 05:00:00</td><td> 35</td><td> 35</td></tr>\n",
              "\t<tr><td>2013</td><td>1</td><td>1</td><td>544</td><td>545</td><td>-1</td><td>1004</td><td>1022</td><td>-18</td><td>B6</td><td>⋯</td><td>N804JB</td><td>JFK</td><td>BQN</td><td>183</td><td>1576</td><td>5</td><td>45</td><td>2013-01-01 05:00:00</td><td>-19</td><td>-19</td></tr>\n",
              "\t<tr><td>2013</td><td>1</td><td>1</td><td>554</td><td>600</td><td>-6</td><td> 812</td><td> 837</td><td>-25</td><td>DL</td><td>⋯</td><td>N668DN</td><td>LGA</td><td>ATL</td><td>116</td><td> 762</td><td>6</td><td> 0</td><td>2013-01-01 06:00:00</td><td>-31</td><td>-31</td></tr>\n",
              "\t<tr><td>2013</td><td>1</td><td>1</td><td>554</td><td>558</td><td>-4</td><td> 740</td><td> 728</td><td> 12</td><td>UA</td><td>⋯</td><td>N39463</td><td>EWR</td><td>ORD</td><td>150</td><td> 719</td><td>5</td><td>58</td><td>2013-01-01 05:00:00</td><td>  8</td><td>  8</td></tr>\n",
              "\t<tr><td>2013</td><td>1</td><td>1</td><td>555</td><td>600</td><td>-5</td><td> 913</td><td> 854</td><td> 19</td><td>B6</td><td>⋯</td><td>N516JB</td><td>EWR</td><td>FLL</td><td>158</td><td>1065</td><td>6</td><td> 0</td><td>2013-01-01 06:00:00</td><td> 14</td><td> 14</td></tr>\n",
              "\t<tr><td>2013</td><td>1</td><td>1</td><td>557</td><td>600</td><td>-3</td><td> 709</td><td> 723</td><td>-14</td><td>EV</td><td>⋯</td><td>N829AS</td><td>LGA</td><td>IAD</td><td> 53</td><td> 229</td><td>6</td><td> 0</td><td>2013-01-01 06:00:00</td><td>-17</td><td>-17</td></tr>\n",
              "\t<tr><td>2013</td><td>1</td><td>1</td><td>557</td><td>600</td><td>-3</td><td> 838</td><td> 846</td><td> -8</td><td>B6</td><td>⋯</td><td>N593JB</td><td>JFK</td><td>MCO</td><td>140</td><td> 944</td><td>6</td><td> 0</td><td>2013-01-01 06:00:00</td><td>-11</td><td>-11</td></tr>\n",
              "\t<tr><td>2013</td><td>1</td><td>1</td><td>558</td><td>600</td><td>-2</td><td> 753</td><td> 745</td><td>  8</td><td>AA</td><td>⋯</td><td>N3ALAA</td><td>LGA</td><td>ORD</td><td>138</td><td> 733</td><td>6</td><td> 0</td><td>2013-01-01 06:00:00</td><td>  6</td><td>  6</td></tr>\n",
              "\t<tr><td>2013</td><td>1</td><td>1</td><td>558</td><td>600</td><td>-2</td><td> 849</td><td> 851</td><td> -2</td><td>B6</td><td>⋯</td><td>N793JB</td><td>JFK</td><td>PBI</td><td>149</td><td>1028</td><td>6</td><td> 0</td><td>2013-01-01 06:00:00</td><td> -4</td><td> -4</td></tr>\n",
              "\t<tr><td>2013</td><td>1</td><td>1</td><td>558</td><td>600</td><td>-2</td><td> 853</td><td> 856</td><td> -3</td><td>B6</td><td>⋯</td><td>N657JB</td><td>JFK</td><td>TPA</td><td>158</td><td>1005</td><td>6</td><td> 0</td><td>2013-01-01 06:00:00</td><td> -5</td><td> -5</td></tr>\n",
              "\t<tr><td>2013</td><td>1</td><td>1</td><td>558</td><td>600</td><td>-2</td><td> 924</td><td> 917</td><td>  7</td><td>UA</td><td>⋯</td><td>N29129</td><td>JFK</td><td>LAX</td><td>345</td><td>2475</td><td>6</td><td> 0</td><td>2013-01-01 06:00:00</td><td>  5</td><td>  5</td></tr>\n",
              "\t<tr><td>2013</td><td>1</td><td>1</td><td>558</td><td>600</td><td>-2</td><td> 923</td><td> 937</td><td>-14</td><td>UA</td><td>⋯</td><td>N53441</td><td>EWR</td><td>SFO</td><td>361</td><td>2565</td><td>6</td><td> 0</td><td>2013-01-01 06:00:00</td><td>-16</td><td>-16</td></tr>\n",
              "\t<tr><td>2013</td><td>1</td><td>1</td><td>559</td><td>600</td><td>-1</td><td> 941</td><td> 910</td><td> 31</td><td>AA</td><td>⋯</td><td>N3DUAA</td><td>LGA</td><td>DFW</td><td>257</td><td>1389</td><td>6</td><td> 0</td><td>2013-01-01 06:00:00</td><td> 30</td><td> 30</td></tr>\n",
              "\t<tr><td>2013</td><td>1</td><td>1</td><td>559</td><td>559</td><td> 0</td><td> 702</td><td> 706</td><td> -4</td><td>B6</td><td>⋯</td><td>N708JB</td><td>JFK</td><td>BOS</td><td> 44</td><td> 187</td><td>5</td><td>59</td><td>2013-01-01 05:00:00</td><td> -4</td><td> -4</td></tr>\n",
              "\t<tr><td>2013</td><td>1</td><td>1</td><td>559</td><td>600</td><td>-1</td><td> 854</td><td> 902</td><td> -8</td><td>UA</td><td>⋯</td><td>N76515</td><td>EWR</td><td>LAS</td><td>337</td><td>2227</td><td>6</td><td> 0</td><td>2013-01-01 06:00:00</td><td> -9</td><td> -9</td></tr>\n",
              "\t<tr><td>2013</td><td>1</td><td>1</td><td>600</td><td>600</td><td> 0</td><td> 851</td><td> 858</td><td> -7</td><td>B6</td><td>⋯</td><td>N595JB</td><td>LGA</td><td>FLL</td><td>152</td><td>1076</td><td>6</td><td> 0</td><td>2013-01-01 06:00:00</td><td> -7</td><td> -7</td></tr>\n",
              "\t<tr><td>2013</td><td>1</td><td>1</td><td>600</td><td>600</td><td> 0</td><td> 837</td><td> 825</td><td> 12</td><td>MQ</td><td>⋯</td><td>N542MQ</td><td>LGA</td><td>ATL</td><td>134</td><td> 762</td><td>6</td><td> 0</td><td>2013-01-01 06:00:00</td><td> 12</td><td> 12</td></tr>\n",
              "\t<tr><td>2013</td><td>1</td><td>1</td><td>601</td><td>600</td><td> 1</td><td> 844</td><td> 850</td><td> -6</td><td>B6</td><td>⋯</td><td>N644JB</td><td>EWR</td><td>PBI</td><td>147</td><td>1023</td><td>6</td><td> 0</td><td>2013-01-01 06:00:00</td><td> -5</td><td> -5</td></tr>\n",
              "\t<tr><td>2013</td><td>1</td><td>1</td><td>602</td><td>610</td><td>-8</td><td> 812</td><td> 820</td><td> -8</td><td>DL</td><td>⋯</td><td>N971DL</td><td>LGA</td><td>MSP</td><td>170</td><td>1020</td><td>6</td><td>10</td><td>2013-01-01 06:00:00</td><td>-16</td><td>-16</td></tr>\n",
              "\t<tr><td>2013</td><td>1</td><td>1</td><td>602</td><td>605</td><td>-3</td><td> 821</td><td> 805</td><td> 16</td><td>MQ</td><td>⋯</td><td>N730MQ</td><td>LGA</td><td>DTW</td><td>105</td><td> 502</td><td>6</td><td> 5</td><td>2013-01-01 06:00:00</td><td> 13</td><td> 13</td></tr>\n",
              "\t<tr><td>2013</td><td>1</td><td>1</td><td>606</td><td>610</td><td>-4</td><td> 858</td><td> 910</td><td>-12</td><td>AA</td><td>⋯</td><td>N633AA</td><td>EWR</td><td>MIA</td><td>152</td><td>1085</td><td>6</td><td>10</td><td>2013-01-01 06:00:00</td><td>-16</td><td>-16</td></tr>\n",
              "\t<tr><td>2013</td><td>1</td><td>1</td><td>606</td><td>610</td><td>-4</td><td> 837</td><td> 845</td><td> -8</td><td>DL</td><td>⋯</td><td>N3739P</td><td>JFK</td><td>ATL</td><td>128</td><td> 760</td><td>6</td><td>10</td><td>2013-01-01 06:00:00</td><td>-12</td><td>-12</td></tr>\n",
              "\t<tr><td>2013</td><td>1</td><td>1</td><td>607</td><td>607</td><td> 0</td><td> 858</td><td> 915</td><td>-17</td><td>UA</td><td>⋯</td><td>N53442</td><td>EWR</td><td>MIA</td><td>157</td><td>1085</td><td>6</td><td> 7</td><td>2013-01-01 06:00:00</td><td>-17</td><td>-17</td></tr>\n",
              "\t<tr><td>2013</td><td>1</td><td>1</td><td>608</td><td>600</td><td> 8</td><td> 807</td><td> 735</td><td> 32</td><td>MQ</td><td>⋯</td><td>N9EAMQ</td><td>EWR</td><td>ORD</td><td>139</td><td> 719</td><td>6</td><td> 0</td><td>2013-01-01 06:00:00</td><td> 40</td><td> 40</td></tr>\n",
              "\t<tr><td>2013</td><td>1</td><td>1</td><td>611</td><td>600</td><td>11</td><td> 945</td><td> 931</td><td> 14</td><td>UA</td><td>⋯</td><td>N532UA</td><td>JFK</td><td>SFO</td><td>366</td><td>2586</td><td>6</td><td> 0</td><td>2013-01-01 06:00:00</td><td> 25</td><td> 25</td></tr>\n",
              "\t<tr><td>2013</td><td>1</td><td>1</td><td>613</td><td>610</td><td> 3</td><td> 925</td><td> 921</td><td>  4</td><td>B6</td><td>⋯</td><td>N635JB</td><td>JFK</td><td>RSW</td><td>175</td><td>1074</td><td>6</td><td>10</td><td>2013-01-01 06:00:00</td><td>  7</td><td>  7</td></tr>\n",
              "\t<tr><td>2013</td><td>1</td><td>1</td><td>615</td><td>615</td><td> 0</td><td>1039</td><td>1100</td><td>-21</td><td>B6</td><td>⋯</td><td>N794JB</td><td>JFK</td><td>SJU</td><td>182</td><td>1598</td><td>6</td><td>15</td><td>2013-01-01 06:00:00</td><td>-21</td><td>-21</td></tr>\n",
              "\t<tr><td>2013</td><td>1</td><td>1</td><td>615</td><td>615</td><td> 0</td><td> 833</td><td> 842</td><td> -9</td><td>DL</td><td>⋯</td><td>N326NB</td><td>EWR</td><td>ATL</td><td>120</td><td> 746</td><td>6</td><td>15</td><td>2013-01-01 06:00:00</td><td> -9</td><td> -9</td></tr>\n",
              "\t<tr><td>⋮</td><td>⋮</td><td>⋮</td><td>⋮</td><td>⋮</td><td>⋮</td><td>⋮</td><td>⋮</td><td>⋮</td><td>⋮</td><td>⋱</td><td>⋮</td><td>⋮</td><td>⋮</td><td>⋮</td><td>⋮</td><td>⋮</td><td>⋮</td><td>⋮</td><td>⋮</td><td>⋮</td></tr>\n",
              "\t<tr><td>2013</td><td>9</td><td>30</td><td>2123</td><td>2125</td><td> -2</td><td>2223</td><td>2247</td><td>-24</td><td>EV</td><td>⋯</td><td>N712EV</td><td>LGA</td><td>CHO</td><td> 45</td><td> 305</td><td>21</td><td>25</td><td>2013-09-30 21:00:00</td><td>-26</td><td>-26</td></tr>\n",
              "\t<tr><td>2013</td><td>9</td><td>30</td><td>2127</td><td>2129</td><td> -2</td><td>2314</td><td>2323</td><td> -9</td><td>EV</td><td>⋯</td><td>N16546</td><td>EWR</td><td>CLT</td><td> 72</td><td> 529</td><td>21</td><td>29</td><td>2013-09-30 21:00:00</td><td>-11</td><td>-11</td></tr>\n",
              "\t<tr><td>2013</td><td>9</td><td>30</td><td>2128</td><td>2130</td><td> -2</td><td>2328</td><td>2359</td><td>-31</td><td>B6</td><td>⋯</td><td>N807JB</td><td>JFK</td><td>DEN</td><td>213</td><td>1626</td><td>21</td><td>30</td><td>2013-09-30 21:00:00</td><td>-33</td><td>-33</td></tr>\n",
              "\t<tr><td>2013</td><td>9</td><td>30</td><td>2129</td><td>2059</td><td> 30</td><td>2230</td><td>2232</td><td> -2</td><td>EV</td><td>⋯</td><td>N751EV</td><td>LGA</td><td>RIC</td><td> 45</td><td> 292</td><td>20</td><td>59</td><td>2013-09-30 20:00:00</td><td> 28</td><td> 28</td></tr>\n",
              "\t<tr><td>2013</td><td>9</td><td>30</td><td>2131</td><td>2140</td><td> -9</td><td>2225</td><td>2255</td><td>-30</td><td>MQ</td><td>⋯</td><td>N807MQ</td><td>JFK</td><td>DCA</td><td> 36</td><td> 213</td><td>21</td><td>40</td><td>2013-09-30 21:00:00</td><td>-39</td><td>-39</td></tr>\n",
              "\t<tr><td>2013</td><td>9</td><td>30</td><td>2140</td><td>2140</td><td>  0</td><td>  10</td><td>  40</td><td>-30</td><td>AA</td><td>⋯</td><td>N335AA</td><td>JFK</td><td>LAX</td><td>298</td><td>2475</td><td>21</td><td>40</td><td>2013-09-30 21:00:00</td><td>-30</td><td>-30</td></tr>\n",
              "\t<tr><td>2013</td><td>9</td><td>30</td><td>2142</td><td>2129</td><td> 13</td><td>2250</td><td>2239</td><td> 11</td><td>EV</td><td>⋯</td><td>N12957</td><td>EWR</td><td>PWM</td><td> 47</td><td> 284</td><td>21</td><td>29</td><td>2013-09-30 21:00:00</td><td> 24</td><td> 24</td></tr>\n",
              "\t<tr><td>2013</td><td>9</td><td>30</td><td>2145</td><td>2145</td><td>  0</td><td> 115</td><td> 140</td><td>-25</td><td>B6</td><td>⋯</td><td>N633JB</td><td>JFK</td><td>SJU</td><td>192</td><td>1598</td><td>21</td><td>45</td><td>2013-09-30 21:00:00</td><td>-25</td><td>-25</td></tr>\n",
              "\t<tr><td>2013</td><td>9</td><td>30</td><td>2147</td><td>2137</td><td> 10</td><td>  30</td><td>  27</td><td>  3</td><td>B6</td><td>⋯</td><td>N627JB</td><td>LGA</td><td>FLL</td><td>139</td><td>1076</td><td>21</td><td>37</td><td>2013-09-30 21:00:00</td><td> 13</td><td> 13</td></tr>\n",
              "\t<tr><td>2013</td><td>9</td><td>30</td><td>2149</td><td>2156</td><td> -7</td><td>2245</td><td>2308</td><td>-23</td><td>UA</td><td>⋯</td><td>N813UA</td><td>EWR</td><td>BOS</td><td> 37</td><td> 200</td><td>21</td><td>56</td><td>2013-09-30 21:00:00</td><td>-30</td><td>-30</td></tr>\n",
              "\t<tr><td>2013</td><td>9</td><td>30</td><td>2150</td><td>2159</td><td> -9</td><td>2250</td><td>2306</td><td>-16</td><td>EV</td><td>⋯</td><td>N10575</td><td>EWR</td><td>MHT</td><td> 39</td><td> 209</td><td>21</td><td>59</td><td>2013-09-30 21:00:00</td><td>-25</td><td>-25</td></tr>\n",
              "\t<tr><td>2013</td><td>9</td><td>30</td><td>2159</td><td>1845</td><td>194</td><td>2344</td><td>2030</td><td>194</td><td>9E</td><td>⋯</td><td>N906XJ</td><td>JFK</td><td>BUF</td><td> 50</td><td> 301</td><td>18</td><td>45</td><td>2013-09-30 18:00:00</td><td>388</td><td>388</td></tr>\n",
              "\t<tr><td>2013</td><td>9</td><td>30</td><td>2203</td><td>2205</td><td> -2</td><td>2339</td><td>2331</td><td>  8</td><td>EV</td><td>⋯</td><td>N722EV</td><td>LGA</td><td>BGR</td><td> 61</td><td> 378</td><td>22</td><td> 5</td><td>2013-09-30 22:00:00</td><td>  6</td><td>  6</td></tr>\n",
              "\t<tr><td>2013</td><td>9</td><td>30</td><td>2207</td><td>2140</td><td> 27</td><td>2257</td><td>2250</td><td>  7</td><td>MQ</td><td>⋯</td><td>N532MQ</td><td>LGA</td><td>BNA</td><td> 97</td><td> 764</td><td>21</td><td>40</td><td>2013-09-30 21:00:00</td><td> 34</td><td> 34</td></tr>\n",
              "\t<tr><td>2013</td><td>9</td><td>30</td><td>2211</td><td>2059</td><td> 72</td><td>2339</td><td>2242</td><td> 57</td><td>EV</td><td>⋯</td><td>N12145</td><td>EWR</td><td>STL</td><td>120</td><td> 872</td><td>20</td><td>59</td><td>2013-09-30 20:00:00</td><td>129</td><td>129</td></tr>\n",
              "\t<tr><td>2013</td><td>9</td><td>30</td><td>2231</td><td>2245</td><td>-14</td><td>2335</td><td>2356</td><td>-21</td><td>B6</td><td>⋯</td><td>N193JB</td><td>JFK</td><td>PWM</td><td> 48</td><td> 273</td><td>22</td><td>45</td><td>2013-09-30 22:00:00</td><td>-35</td><td>-35</td></tr>\n",
              "\t<tr><td>2013</td><td>9</td><td>30</td><td>2233</td><td>2113</td><td> 80</td><td> 112</td><td>  30</td><td> 42</td><td>UA</td><td>⋯</td><td>N578UA</td><td>EWR</td><td>SFO</td><td>318</td><td>2565</td><td>21</td><td>13</td><td>2013-09-30 21:00:00</td><td>122</td><td>122</td></tr>\n",
              "\t<tr><td>2013</td><td>9</td><td>30</td><td>2235</td><td>2001</td><td>154</td><td>  59</td><td>2249</td><td>130</td><td>B6</td><td>⋯</td><td>N804JB</td><td>JFK</td><td>MCO</td><td>123</td><td> 944</td><td>20</td><td> 1</td><td>2013-09-30 20:00:00</td><td>284</td><td>284</td></tr>\n",
              "\t<tr><td>2013</td><td>9</td><td>30</td><td>2237</td><td>2245</td><td> -8</td><td>2345</td><td>2353</td><td> -8</td><td>B6</td><td>⋯</td><td>N318JB</td><td>JFK</td><td>BTV</td><td> 43</td><td> 266</td><td>22</td><td>45</td><td>2013-09-30 22:00:00</td><td>-16</td><td>-16</td></tr>\n",
              "\t<tr><td>2013</td><td>9</td><td>30</td><td>2240</td><td>2245</td><td> -5</td><td>2334</td><td>2351</td><td>-17</td><td>B6</td><td>⋯</td><td>N354JB</td><td>JFK</td><td>SYR</td><td> 41</td><td> 209</td><td>22</td><td>45</td><td>2013-09-30 22:00:00</td><td>-22</td><td>-22</td></tr>\n",
              "\t<tr><td>2013</td><td>9</td><td>30</td><td>2240</td><td>2250</td><td>-10</td><td>2347</td><td>   7</td><td>-20</td><td>B6</td><td>⋯</td><td>N281JB</td><td>JFK</td><td>BUF</td><td> 52</td><td> 301</td><td>22</td><td>50</td><td>2013-09-30 22:00:00</td><td>-30</td><td>-30</td></tr>\n",
              "\t<tr><td>2013</td><td>9</td><td>30</td><td>2241</td><td>2246</td><td> -5</td><td>2345</td><td>   1</td><td>-16</td><td>B6</td><td>⋯</td><td>N346JB</td><td>JFK</td><td>ROC</td><td> 47</td><td> 264</td><td>22</td><td>46</td><td>2013-09-30 22:00:00</td><td>-21</td><td>-21</td></tr>\n",
              "\t<tr><td>2013</td><td>9</td><td>30</td><td>2307</td><td>2255</td><td> 12</td><td>2359</td><td>2358</td><td>  1</td><td>B6</td><td>⋯</td><td>N565JB</td><td>JFK</td><td>BOS</td><td> 33</td><td> 187</td><td>22</td><td>55</td><td>2013-09-30 22:00:00</td><td> 13</td><td> 13</td></tr>\n",
              "\t<tr><td>2013</td><td>9</td><td>30</td><td>2349</td><td>2359</td><td>-10</td><td> 325</td><td> 350</td><td>-25</td><td>B6</td><td>⋯</td><td>N516JB</td><td>JFK</td><td>PSE</td><td>196</td><td>1617</td><td>23</td><td>59</td><td>2013-09-30 23:00:00</td><td>-35</td><td>-35</td></tr>\n",
              "\t<tr><td>2013</td><td>9</td><td>30</td><td>  NA</td><td>1842</td><td> NA</td><td>  NA</td><td>2019</td><td> NA</td><td>EV</td><td>⋯</td><td>N740EV</td><td>LGA</td><td>BNA</td><td> NA</td><td> 764</td><td>18</td><td>42</td><td>2013-09-30 18:00:00</td><td> NA</td><td> NA</td></tr>\n",
              "\t<tr><td>2013</td><td>9</td><td>30</td><td>  NA</td><td>1455</td><td> NA</td><td>  NA</td><td>1634</td><td> NA</td><td>9E</td><td>⋯</td><td>NA    </td><td>JFK</td><td>DCA</td><td> NA</td><td> 213</td><td>14</td><td>55</td><td>2013-09-30 14:00:00</td><td> NA</td><td> NA</td></tr>\n",
              "\t<tr><td>2013</td><td>9</td><td>30</td><td>  NA</td><td>2200</td><td> NA</td><td>  NA</td><td>2312</td><td> NA</td><td>9E</td><td>⋯</td><td>NA    </td><td>LGA</td><td>SYR</td><td> NA</td><td> 198</td><td>22</td><td> 0</td><td>2013-09-30 22:00:00</td><td> NA</td><td> NA</td></tr>\n",
              "\t<tr><td>2013</td><td>9</td><td>30</td><td>  NA</td><td>1210</td><td> NA</td><td>  NA</td><td>1330</td><td> NA</td><td>MQ</td><td>⋯</td><td>N535MQ</td><td>LGA</td><td>BNA</td><td> NA</td><td> 764</td><td>12</td><td>10</td><td>2013-09-30 12:00:00</td><td> NA</td><td> NA</td></tr>\n",
              "\t<tr><td>2013</td><td>9</td><td>30</td><td>  NA</td><td>1159</td><td> NA</td><td>  NA</td><td>1344</td><td> NA</td><td>MQ</td><td>⋯</td><td>N511MQ</td><td>LGA</td><td>CLE</td><td> NA</td><td> 419</td><td>11</td><td>59</td><td>2013-09-30 11:00:00</td><td> NA</td><td> NA</td></tr>\n",
              "\t<tr><td>2013</td><td>9</td><td>30</td><td>  NA</td><td> 840</td><td> NA</td><td>  NA</td><td>1020</td><td> NA</td><td>MQ</td><td>⋯</td><td>N839MQ</td><td>LGA</td><td>RDU</td><td> NA</td><td> 431</td><td> 8</td><td>40</td><td>2013-09-30 08:00:00</td><td> NA</td><td> NA</td></tr>\n",
              "</tbody>\n",
              "</table>\n"
            ],
            "text/markdown": "\nA data.frame: 336776 × 21\n\n| anio &lt;int&gt; | mes &lt;int&gt; | day &lt;int&gt; | dep_time &lt;int&gt; | sched_dep_time &lt;int&gt; | dep_delay &lt;int&gt; | arr_time &lt;int&gt; | sched_arr_time &lt;int&gt; | arr_delay &lt;int&gt; | carrier &lt;chr&gt; | ⋯ ⋯ | tailnum &lt;chr&gt; | origin &lt;chr&gt; | dest &lt;chr&gt; | air_time &lt;int&gt; | distance &lt;int&gt; | hour &lt;int&gt; | minute &lt;int&gt; | time_hour &lt;chr&gt; | retraso_neto &lt;int&gt; | retraso_neto2 &lt;int&gt; |\n|---|---|---|---|---|---|---|---|---|---|---|---|---|---|---|---|---|---|---|---|---|\n| 2013 | 1 | 1 | 517 | 515 |  2 |  830 |  819 |  11 | UA | ⋯ | N14228 | EWR | IAH | 227 | 1400 | 5 | 15 | 2013-01-01 05:00:00 |  13 |  13 |\n| 2013 | 1 | 1 | 533 | 529 |  4 |  850 |  830 |  20 | UA | ⋯ | N24211 | LGA | IAH | 227 | 1416 | 5 | 29 | 2013-01-01 05:00:00 |  24 |  24 |\n| 2013 | 1 | 1 | 542 | 540 |  2 |  923 |  850 |  33 | AA | ⋯ | N619AA | JFK | MIA | 160 | 1089 | 5 | 40 | 2013-01-01 05:00:00 |  35 |  35 |\n| 2013 | 1 | 1 | 544 | 545 | -1 | 1004 | 1022 | -18 | B6 | ⋯ | N804JB | JFK | BQN | 183 | 1576 | 5 | 45 | 2013-01-01 05:00:00 | -19 | -19 |\n| 2013 | 1 | 1 | 554 | 600 | -6 |  812 |  837 | -25 | DL | ⋯ | N668DN | LGA | ATL | 116 |  762 | 6 |  0 | 2013-01-01 06:00:00 | -31 | -31 |\n| 2013 | 1 | 1 | 554 | 558 | -4 |  740 |  728 |  12 | UA | ⋯ | N39463 | EWR | ORD | 150 |  719 | 5 | 58 | 2013-01-01 05:00:00 |   8 |   8 |\n| 2013 | 1 | 1 | 555 | 600 | -5 |  913 |  854 |  19 | B6 | ⋯ | N516JB | EWR | FLL | 158 | 1065 | 6 |  0 | 2013-01-01 06:00:00 |  14 |  14 |\n| 2013 | 1 | 1 | 557 | 600 | -3 |  709 |  723 | -14 | EV | ⋯ | N829AS | LGA | IAD |  53 |  229 | 6 |  0 | 2013-01-01 06:00:00 | -17 | -17 |\n| 2013 | 1 | 1 | 557 | 600 | -3 |  838 |  846 |  -8 | B6 | ⋯ | N593JB | JFK | MCO | 140 |  944 | 6 |  0 | 2013-01-01 06:00:00 | -11 | -11 |\n| 2013 | 1 | 1 | 558 | 600 | -2 |  753 |  745 |   8 | AA | ⋯ | N3ALAA | LGA | ORD | 138 |  733 | 6 |  0 | 2013-01-01 06:00:00 |   6 |   6 |\n| 2013 | 1 | 1 | 558 | 600 | -2 |  849 |  851 |  -2 | B6 | ⋯ | N793JB | JFK | PBI | 149 | 1028 | 6 |  0 | 2013-01-01 06:00:00 |  -4 |  -4 |\n| 2013 | 1 | 1 | 558 | 600 | -2 |  853 |  856 |  -3 | B6 | ⋯ | N657JB | JFK | TPA | 158 | 1005 | 6 |  0 | 2013-01-01 06:00:00 |  -5 |  -5 |\n| 2013 | 1 | 1 | 558 | 600 | -2 |  924 |  917 |   7 | UA | ⋯ | N29129 | JFK | LAX | 345 | 2475 | 6 |  0 | 2013-01-01 06:00:00 |   5 |   5 |\n| 2013 | 1 | 1 | 558 | 600 | -2 |  923 |  937 | -14 | UA | ⋯ | N53441 | EWR | SFO | 361 | 2565 | 6 |  0 | 2013-01-01 06:00:00 | -16 | -16 |\n| 2013 | 1 | 1 | 559 | 600 | -1 |  941 |  910 |  31 | AA | ⋯ | N3DUAA | LGA | DFW | 257 | 1389 | 6 |  0 | 2013-01-01 06:00:00 |  30 |  30 |\n| 2013 | 1 | 1 | 559 | 559 |  0 |  702 |  706 |  -4 | B6 | ⋯ | N708JB | JFK | BOS |  44 |  187 | 5 | 59 | 2013-01-01 05:00:00 |  -4 |  -4 |\n| 2013 | 1 | 1 | 559 | 600 | -1 |  854 |  902 |  -8 | UA | ⋯ | N76515 | EWR | LAS | 337 | 2227 | 6 |  0 | 2013-01-01 06:00:00 |  -9 |  -9 |\n| 2013 | 1 | 1 | 600 | 600 |  0 |  851 |  858 |  -7 | B6 | ⋯ | N595JB | LGA | FLL | 152 | 1076 | 6 |  0 | 2013-01-01 06:00:00 |  -7 |  -7 |\n| 2013 | 1 | 1 | 600 | 600 |  0 |  837 |  825 |  12 | MQ | ⋯ | N542MQ | LGA | ATL | 134 |  762 | 6 |  0 | 2013-01-01 06:00:00 |  12 |  12 |\n| 2013 | 1 | 1 | 601 | 600 |  1 |  844 |  850 |  -6 | B6 | ⋯ | N644JB | EWR | PBI | 147 | 1023 | 6 |  0 | 2013-01-01 06:00:00 |  -5 |  -5 |\n| 2013 | 1 | 1 | 602 | 610 | -8 |  812 |  820 |  -8 | DL | ⋯ | N971DL | LGA | MSP | 170 | 1020 | 6 | 10 | 2013-01-01 06:00:00 | -16 | -16 |\n| 2013 | 1 | 1 | 602 | 605 | -3 |  821 |  805 |  16 | MQ | ⋯ | N730MQ | LGA | DTW | 105 |  502 | 6 |  5 | 2013-01-01 06:00:00 |  13 |  13 |\n| 2013 | 1 | 1 | 606 | 610 | -4 |  858 |  910 | -12 | AA | ⋯ | N633AA | EWR | MIA | 152 | 1085 | 6 | 10 | 2013-01-01 06:00:00 | -16 | -16 |\n| 2013 | 1 | 1 | 606 | 610 | -4 |  837 |  845 |  -8 | DL | ⋯ | N3739P | JFK | ATL | 128 |  760 | 6 | 10 | 2013-01-01 06:00:00 | -12 | -12 |\n| 2013 | 1 | 1 | 607 | 607 |  0 |  858 |  915 | -17 | UA | ⋯ | N53442 | EWR | MIA | 157 | 1085 | 6 |  7 | 2013-01-01 06:00:00 | -17 | -17 |\n| 2013 | 1 | 1 | 608 | 600 |  8 |  807 |  735 |  32 | MQ | ⋯ | N9EAMQ | EWR | ORD | 139 |  719 | 6 |  0 | 2013-01-01 06:00:00 |  40 |  40 |\n| 2013 | 1 | 1 | 611 | 600 | 11 |  945 |  931 |  14 | UA | ⋯ | N532UA | JFK | SFO | 366 | 2586 | 6 |  0 | 2013-01-01 06:00:00 |  25 |  25 |\n| 2013 | 1 | 1 | 613 | 610 |  3 |  925 |  921 |   4 | B6 | ⋯ | N635JB | JFK | RSW | 175 | 1074 | 6 | 10 | 2013-01-01 06:00:00 |   7 |   7 |\n| 2013 | 1 | 1 | 615 | 615 |  0 | 1039 | 1100 | -21 | B6 | ⋯ | N794JB | JFK | SJU | 182 | 1598 | 6 | 15 | 2013-01-01 06:00:00 | -21 | -21 |\n| 2013 | 1 | 1 | 615 | 615 |  0 |  833 |  842 |  -9 | DL | ⋯ | N326NB | EWR | ATL | 120 |  746 | 6 | 15 | 2013-01-01 06:00:00 |  -9 |  -9 |\n| ⋮ | ⋮ | ⋮ | ⋮ | ⋮ | ⋮ | ⋮ | ⋮ | ⋮ | ⋮ | ⋱ | ⋮ | ⋮ | ⋮ | ⋮ | ⋮ | ⋮ | ⋮ | ⋮ | ⋮ | ⋮ |\n| 2013 | 9 | 30 | 2123 | 2125 |  -2 | 2223 | 2247 | -24 | EV | ⋯ | N712EV | LGA | CHO |  45 |  305 | 21 | 25 | 2013-09-30 21:00:00 | -26 | -26 |\n| 2013 | 9 | 30 | 2127 | 2129 |  -2 | 2314 | 2323 |  -9 | EV | ⋯ | N16546 | EWR | CLT |  72 |  529 | 21 | 29 | 2013-09-30 21:00:00 | -11 | -11 |\n| 2013 | 9 | 30 | 2128 | 2130 |  -2 | 2328 | 2359 | -31 | B6 | ⋯ | N807JB | JFK | DEN | 213 | 1626 | 21 | 30 | 2013-09-30 21:00:00 | -33 | -33 |\n| 2013 | 9 | 30 | 2129 | 2059 |  30 | 2230 | 2232 |  -2 | EV | ⋯ | N751EV | LGA | RIC |  45 |  292 | 20 | 59 | 2013-09-30 20:00:00 |  28 |  28 |\n| 2013 | 9 | 30 | 2131 | 2140 |  -9 | 2225 | 2255 | -30 | MQ | ⋯ | N807MQ | JFK | DCA |  36 |  213 | 21 | 40 | 2013-09-30 21:00:00 | -39 | -39 |\n| 2013 | 9 | 30 | 2140 | 2140 |   0 |   10 |   40 | -30 | AA | ⋯ | N335AA | JFK | LAX | 298 | 2475 | 21 | 40 | 2013-09-30 21:00:00 | -30 | -30 |\n| 2013 | 9 | 30 | 2142 | 2129 |  13 | 2250 | 2239 |  11 | EV | ⋯ | N12957 | EWR | PWM |  47 |  284 | 21 | 29 | 2013-09-30 21:00:00 |  24 |  24 |\n| 2013 | 9 | 30 | 2145 | 2145 |   0 |  115 |  140 | -25 | B6 | ⋯ | N633JB | JFK | SJU | 192 | 1598 | 21 | 45 | 2013-09-30 21:00:00 | -25 | -25 |\n| 2013 | 9 | 30 | 2147 | 2137 |  10 |   30 |   27 |   3 | B6 | ⋯ | N627JB | LGA | FLL | 139 | 1076 | 21 | 37 | 2013-09-30 21:00:00 |  13 |  13 |\n| 2013 | 9 | 30 | 2149 | 2156 |  -7 | 2245 | 2308 | -23 | UA | ⋯ | N813UA | EWR | BOS |  37 |  200 | 21 | 56 | 2013-09-30 21:00:00 | -30 | -30 |\n| 2013 | 9 | 30 | 2150 | 2159 |  -9 | 2250 | 2306 | -16 | EV | ⋯ | N10575 | EWR | MHT |  39 |  209 | 21 | 59 | 2013-09-30 21:00:00 | -25 | -25 |\n| 2013 | 9 | 30 | 2159 | 1845 | 194 | 2344 | 2030 | 194 | 9E | ⋯ | N906XJ | JFK | BUF |  50 |  301 | 18 | 45 | 2013-09-30 18:00:00 | 388 | 388 |\n| 2013 | 9 | 30 | 2203 | 2205 |  -2 | 2339 | 2331 |   8 | EV | ⋯ | N722EV | LGA | BGR |  61 |  378 | 22 |  5 | 2013-09-30 22:00:00 |   6 |   6 |\n| 2013 | 9 | 30 | 2207 | 2140 |  27 | 2257 | 2250 |   7 | MQ | ⋯ | N532MQ | LGA | BNA |  97 |  764 | 21 | 40 | 2013-09-30 21:00:00 |  34 |  34 |\n| 2013 | 9 | 30 | 2211 | 2059 |  72 | 2339 | 2242 |  57 | EV | ⋯ | N12145 | EWR | STL | 120 |  872 | 20 | 59 | 2013-09-30 20:00:00 | 129 | 129 |\n| 2013 | 9 | 30 | 2231 | 2245 | -14 | 2335 | 2356 | -21 | B6 | ⋯ | N193JB | JFK | PWM |  48 |  273 | 22 | 45 | 2013-09-30 22:00:00 | -35 | -35 |\n| 2013 | 9 | 30 | 2233 | 2113 |  80 |  112 |   30 |  42 | UA | ⋯ | N578UA | EWR | SFO | 318 | 2565 | 21 | 13 | 2013-09-30 21:00:00 | 122 | 122 |\n| 2013 | 9 | 30 | 2235 | 2001 | 154 |   59 | 2249 | 130 | B6 | ⋯ | N804JB | JFK | MCO | 123 |  944 | 20 |  1 | 2013-09-30 20:00:00 | 284 | 284 |\n| 2013 | 9 | 30 | 2237 | 2245 |  -8 | 2345 | 2353 |  -8 | B6 | ⋯ | N318JB | JFK | BTV |  43 |  266 | 22 | 45 | 2013-09-30 22:00:00 | -16 | -16 |\n| 2013 | 9 | 30 | 2240 | 2245 |  -5 | 2334 | 2351 | -17 | B6 | ⋯ | N354JB | JFK | SYR |  41 |  209 | 22 | 45 | 2013-09-30 22:00:00 | -22 | -22 |\n| 2013 | 9 | 30 | 2240 | 2250 | -10 | 2347 |    7 | -20 | B6 | ⋯ | N281JB | JFK | BUF |  52 |  301 | 22 | 50 | 2013-09-30 22:00:00 | -30 | -30 |\n| 2013 | 9 | 30 | 2241 | 2246 |  -5 | 2345 |    1 | -16 | B6 | ⋯ | N346JB | JFK | ROC |  47 |  264 | 22 | 46 | 2013-09-30 22:00:00 | -21 | -21 |\n| 2013 | 9 | 30 | 2307 | 2255 |  12 | 2359 | 2358 |   1 | B6 | ⋯ | N565JB | JFK | BOS |  33 |  187 | 22 | 55 | 2013-09-30 22:00:00 |  13 |  13 |\n| 2013 | 9 | 30 | 2349 | 2359 | -10 |  325 |  350 | -25 | B6 | ⋯ | N516JB | JFK | PSE | 196 | 1617 | 23 | 59 | 2013-09-30 23:00:00 | -35 | -35 |\n| 2013 | 9 | 30 |   NA | 1842 |  NA |   NA | 2019 |  NA | EV | ⋯ | N740EV | LGA | BNA |  NA |  764 | 18 | 42 | 2013-09-30 18:00:00 |  NA |  NA |\n| 2013 | 9 | 30 |   NA | 1455 |  NA |   NA | 1634 |  NA | 9E | ⋯ | NA     | JFK | DCA |  NA |  213 | 14 | 55 | 2013-09-30 14:00:00 |  NA |  NA |\n| 2013 | 9 | 30 |   NA | 2200 |  NA |   NA | 2312 |  NA | 9E | ⋯ | NA     | LGA | SYR |  NA |  198 | 22 |  0 | 2013-09-30 22:00:00 |  NA |  NA |\n| 2013 | 9 | 30 |   NA | 1210 |  NA |   NA | 1330 |  NA | MQ | ⋯ | N535MQ | LGA | BNA |  NA |  764 | 12 | 10 | 2013-09-30 12:00:00 |  NA |  NA |\n| 2013 | 9 | 30 |   NA | 1159 |  NA |   NA | 1344 |  NA | MQ | ⋯ | N511MQ | LGA | CLE |  NA |  419 | 11 | 59 | 2013-09-30 11:00:00 |  NA |  NA |\n| 2013 | 9 | 30 |   NA |  840 |  NA |   NA | 1020 |  NA | MQ | ⋯ | N839MQ | LGA | RDU |  NA |  431 |  8 | 40 | 2013-09-30 08:00:00 |  NA |  NA |\n\n",
            "text/latex": "A data.frame: 336776 × 21\n\\begin{tabular}{lllllllllllllllllllll}\n anio & mes & day & dep\\_time & sched\\_dep\\_time & dep\\_delay & arr\\_time & sched\\_arr\\_time & arr\\_delay & carrier & ⋯ & tailnum & origin & dest & air\\_time & distance & hour & minute & time\\_hour & retraso\\_neto & retraso\\_neto2\\\\\n <int> & <int> & <int> & <int> & <int> & <int> & <int> & <int> & <int> & <chr> & ⋯ & <chr> & <chr> & <chr> & <int> & <int> & <int> & <int> & <chr> & <int> & <int>\\\\\n\\hline\n\t 2013 & 1 & 1 & 517 & 515 &  2 &  830 &  819 &  11 & UA & ⋯ & N14228 & EWR & IAH & 227 & 1400 & 5 & 15 & 2013-01-01 05:00:00 &  13 &  13\\\\\n\t 2013 & 1 & 1 & 533 & 529 &  4 &  850 &  830 &  20 & UA & ⋯ & N24211 & LGA & IAH & 227 & 1416 & 5 & 29 & 2013-01-01 05:00:00 &  24 &  24\\\\\n\t 2013 & 1 & 1 & 542 & 540 &  2 &  923 &  850 &  33 & AA & ⋯ & N619AA & JFK & MIA & 160 & 1089 & 5 & 40 & 2013-01-01 05:00:00 &  35 &  35\\\\\n\t 2013 & 1 & 1 & 544 & 545 & -1 & 1004 & 1022 & -18 & B6 & ⋯ & N804JB & JFK & BQN & 183 & 1576 & 5 & 45 & 2013-01-01 05:00:00 & -19 & -19\\\\\n\t 2013 & 1 & 1 & 554 & 600 & -6 &  812 &  837 & -25 & DL & ⋯ & N668DN & LGA & ATL & 116 &  762 & 6 &  0 & 2013-01-01 06:00:00 & -31 & -31\\\\\n\t 2013 & 1 & 1 & 554 & 558 & -4 &  740 &  728 &  12 & UA & ⋯ & N39463 & EWR & ORD & 150 &  719 & 5 & 58 & 2013-01-01 05:00:00 &   8 &   8\\\\\n\t 2013 & 1 & 1 & 555 & 600 & -5 &  913 &  854 &  19 & B6 & ⋯ & N516JB & EWR & FLL & 158 & 1065 & 6 &  0 & 2013-01-01 06:00:00 &  14 &  14\\\\\n\t 2013 & 1 & 1 & 557 & 600 & -3 &  709 &  723 & -14 & EV & ⋯ & N829AS & LGA & IAD &  53 &  229 & 6 &  0 & 2013-01-01 06:00:00 & -17 & -17\\\\\n\t 2013 & 1 & 1 & 557 & 600 & -3 &  838 &  846 &  -8 & B6 & ⋯ & N593JB & JFK & MCO & 140 &  944 & 6 &  0 & 2013-01-01 06:00:00 & -11 & -11\\\\\n\t 2013 & 1 & 1 & 558 & 600 & -2 &  753 &  745 &   8 & AA & ⋯ & N3ALAA & LGA & ORD & 138 &  733 & 6 &  0 & 2013-01-01 06:00:00 &   6 &   6\\\\\n\t 2013 & 1 & 1 & 558 & 600 & -2 &  849 &  851 &  -2 & B6 & ⋯ & N793JB & JFK & PBI & 149 & 1028 & 6 &  0 & 2013-01-01 06:00:00 &  -4 &  -4\\\\\n\t 2013 & 1 & 1 & 558 & 600 & -2 &  853 &  856 &  -3 & B6 & ⋯ & N657JB & JFK & TPA & 158 & 1005 & 6 &  0 & 2013-01-01 06:00:00 &  -5 &  -5\\\\\n\t 2013 & 1 & 1 & 558 & 600 & -2 &  924 &  917 &   7 & UA & ⋯ & N29129 & JFK & LAX & 345 & 2475 & 6 &  0 & 2013-01-01 06:00:00 &   5 &   5\\\\\n\t 2013 & 1 & 1 & 558 & 600 & -2 &  923 &  937 & -14 & UA & ⋯ & N53441 & EWR & SFO & 361 & 2565 & 6 &  0 & 2013-01-01 06:00:00 & -16 & -16\\\\\n\t 2013 & 1 & 1 & 559 & 600 & -1 &  941 &  910 &  31 & AA & ⋯ & N3DUAA & LGA & DFW & 257 & 1389 & 6 &  0 & 2013-01-01 06:00:00 &  30 &  30\\\\\n\t 2013 & 1 & 1 & 559 & 559 &  0 &  702 &  706 &  -4 & B6 & ⋯ & N708JB & JFK & BOS &  44 &  187 & 5 & 59 & 2013-01-01 05:00:00 &  -4 &  -4\\\\\n\t 2013 & 1 & 1 & 559 & 600 & -1 &  854 &  902 &  -8 & UA & ⋯ & N76515 & EWR & LAS & 337 & 2227 & 6 &  0 & 2013-01-01 06:00:00 &  -9 &  -9\\\\\n\t 2013 & 1 & 1 & 600 & 600 &  0 &  851 &  858 &  -7 & B6 & ⋯ & N595JB & LGA & FLL & 152 & 1076 & 6 &  0 & 2013-01-01 06:00:00 &  -7 &  -7\\\\\n\t 2013 & 1 & 1 & 600 & 600 &  0 &  837 &  825 &  12 & MQ & ⋯ & N542MQ & LGA & ATL & 134 &  762 & 6 &  0 & 2013-01-01 06:00:00 &  12 &  12\\\\\n\t 2013 & 1 & 1 & 601 & 600 &  1 &  844 &  850 &  -6 & B6 & ⋯ & N644JB & EWR & PBI & 147 & 1023 & 6 &  0 & 2013-01-01 06:00:00 &  -5 &  -5\\\\\n\t 2013 & 1 & 1 & 602 & 610 & -8 &  812 &  820 &  -8 & DL & ⋯ & N971DL & LGA & MSP & 170 & 1020 & 6 & 10 & 2013-01-01 06:00:00 & -16 & -16\\\\\n\t 2013 & 1 & 1 & 602 & 605 & -3 &  821 &  805 &  16 & MQ & ⋯ & N730MQ & LGA & DTW & 105 &  502 & 6 &  5 & 2013-01-01 06:00:00 &  13 &  13\\\\\n\t 2013 & 1 & 1 & 606 & 610 & -4 &  858 &  910 & -12 & AA & ⋯ & N633AA & EWR & MIA & 152 & 1085 & 6 & 10 & 2013-01-01 06:00:00 & -16 & -16\\\\\n\t 2013 & 1 & 1 & 606 & 610 & -4 &  837 &  845 &  -8 & DL & ⋯ & N3739P & JFK & ATL & 128 &  760 & 6 & 10 & 2013-01-01 06:00:00 & -12 & -12\\\\\n\t 2013 & 1 & 1 & 607 & 607 &  0 &  858 &  915 & -17 & UA & ⋯ & N53442 & EWR & MIA & 157 & 1085 & 6 &  7 & 2013-01-01 06:00:00 & -17 & -17\\\\\n\t 2013 & 1 & 1 & 608 & 600 &  8 &  807 &  735 &  32 & MQ & ⋯ & N9EAMQ & EWR & ORD & 139 &  719 & 6 &  0 & 2013-01-01 06:00:00 &  40 &  40\\\\\n\t 2013 & 1 & 1 & 611 & 600 & 11 &  945 &  931 &  14 & UA & ⋯ & N532UA & JFK & SFO & 366 & 2586 & 6 &  0 & 2013-01-01 06:00:00 &  25 &  25\\\\\n\t 2013 & 1 & 1 & 613 & 610 &  3 &  925 &  921 &   4 & B6 & ⋯ & N635JB & JFK & RSW & 175 & 1074 & 6 & 10 & 2013-01-01 06:00:00 &   7 &   7\\\\\n\t 2013 & 1 & 1 & 615 & 615 &  0 & 1039 & 1100 & -21 & B6 & ⋯ & N794JB & JFK & SJU & 182 & 1598 & 6 & 15 & 2013-01-01 06:00:00 & -21 & -21\\\\\n\t 2013 & 1 & 1 & 615 & 615 &  0 &  833 &  842 &  -9 & DL & ⋯ & N326NB & EWR & ATL & 120 &  746 & 6 & 15 & 2013-01-01 06:00:00 &  -9 &  -9\\\\\n\t ⋮ & ⋮ & ⋮ & ⋮ & ⋮ & ⋮ & ⋮ & ⋮ & ⋮ & ⋮ & ⋱ & ⋮ & ⋮ & ⋮ & ⋮ & ⋮ & ⋮ & ⋮ & ⋮ & ⋮ & ⋮\\\\\n\t 2013 & 9 & 30 & 2123 & 2125 &  -2 & 2223 & 2247 & -24 & EV & ⋯ & N712EV & LGA & CHO &  45 &  305 & 21 & 25 & 2013-09-30 21:00:00 & -26 & -26\\\\\n\t 2013 & 9 & 30 & 2127 & 2129 &  -2 & 2314 & 2323 &  -9 & EV & ⋯ & N16546 & EWR & CLT &  72 &  529 & 21 & 29 & 2013-09-30 21:00:00 & -11 & -11\\\\\n\t 2013 & 9 & 30 & 2128 & 2130 &  -2 & 2328 & 2359 & -31 & B6 & ⋯ & N807JB & JFK & DEN & 213 & 1626 & 21 & 30 & 2013-09-30 21:00:00 & -33 & -33\\\\\n\t 2013 & 9 & 30 & 2129 & 2059 &  30 & 2230 & 2232 &  -2 & EV & ⋯ & N751EV & LGA & RIC &  45 &  292 & 20 & 59 & 2013-09-30 20:00:00 &  28 &  28\\\\\n\t 2013 & 9 & 30 & 2131 & 2140 &  -9 & 2225 & 2255 & -30 & MQ & ⋯ & N807MQ & JFK & DCA &  36 &  213 & 21 & 40 & 2013-09-30 21:00:00 & -39 & -39\\\\\n\t 2013 & 9 & 30 & 2140 & 2140 &   0 &   10 &   40 & -30 & AA & ⋯ & N335AA & JFK & LAX & 298 & 2475 & 21 & 40 & 2013-09-30 21:00:00 & -30 & -30\\\\\n\t 2013 & 9 & 30 & 2142 & 2129 &  13 & 2250 & 2239 &  11 & EV & ⋯ & N12957 & EWR & PWM &  47 &  284 & 21 & 29 & 2013-09-30 21:00:00 &  24 &  24\\\\\n\t 2013 & 9 & 30 & 2145 & 2145 &   0 &  115 &  140 & -25 & B6 & ⋯ & N633JB & JFK & SJU & 192 & 1598 & 21 & 45 & 2013-09-30 21:00:00 & -25 & -25\\\\\n\t 2013 & 9 & 30 & 2147 & 2137 &  10 &   30 &   27 &   3 & B6 & ⋯ & N627JB & LGA & FLL & 139 & 1076 & 21 & 37 & 2013-09-30 21:00:00 &  13 &  13\\\\\n\t 2013 & 9 & 30 & 2149 & 2156 &  -7 & 2245 & 2308 & -23 & UA & ⋯ & N813UA & EWR & BOS &  37 &  200 & 21 & 56 & 2013-09-30 21:00:00 & -30 & -30\\\\\n\t 2013 & 9 & 30 & 2150 & 2159 &  -9 & 2250 & 2306 & -16 & EV & ⋯ & N10575 & EWR & MHT &  39 &  209 & 21 & 59 & 2013-09-30 21:00:00 & -25 & -25\\\\\n\t 2013 & 9 & 30 & 2159 & 1845 & 194 & 2344 & 2030 & 194 & 9E & ⋯ & N906XJ & JFK & BUF &  50 &  301 & 18 & 45 & 2013-09-30 18:00:00 & 388 & 388\\\\\n\t 2013 & 9 & 30 & 2203 & 2205 &  -2 & 2339 & 2331 &   8 & EV & ⋯ & N722EV & LGA & BGR &  61 &  378 & 22 &  5 & 2013-09-30 22:00:00 &   6 &   6\\\\\n\t 2013 & 9 & 30 & 2207 & 2140 &  27 & 2257 & 2250 &   7 & MQ & ⋯ & N532MQ & LGA & BNA &  97 &  764 & 21 & 40 & 2013-09-30 21:00:00 &  34 &  34\\\\\n\t 2013 & 9 & 30 & 2211 & 2059 &  72 & 2339 & 2242 &  57 & EV & ⋯ & N12145 & EWR & STL & 120 &  872 & 20 & 59 & 2013-09-30 20:00:00 & 129 & 129\\\\\n\t 2013 & 9 & 30 & 2231 & 2245 & -14 & 2335 & 2356 & -21 & B6 & ⋯ & N193JB & JFK & PWM &  48 &  273 & 22 & 45 & 2013-09-30 22:00:00 & -35 & -35\\\\\n\t 2013 & 9 & 30 & 2233 & 2113 &  80 &  112 &   30 &  42 & UA & ⋯ & N578UA & EWR & SFO & 318 & 2565 & 21 & 13 & 2013-09-30 21:00:00 & 122 & 122\\\\\n\t 2013 & 9 & 30 & 2235 & 2001 & 154 &   59 & 2249 & 130 & B6 & ⋯ & N804JB & JFK & MCO & 123 &  944 & 20 &  1 & 2013-09-30 20:00:00 & 284 & 284\\\\\n\t 2013 & 9 & 30 & 2237 & 2245 &  -8 & 2345 & 2353 &  -8 & B6 & ⋯ & N318JB & JFK & BTV &  43 &  266 & 22 & 45 & 2013-09-30 22:00:00 & -16 & -16\\\\\n\t 2013 & 9 & 30 & 2240 & 2245 &  -5 & 2334 & 2351 & -17 & B6 & ⋯ & N354JB & JFK & SYR &  41 &  209 & 22 & 45 & 2013-09-30 22:00:00 & -22 & -22\\\\\n\t 2013 & 9 & 30 & 2240 & 2250 & -10 & 2347 &    7 & -20 & B6 & ⋯ & N281JB & JFK & BUF &  52 &  301 & 22 & 50 & 2013-09-30 22:00:00 & -30 & -30\\\\\n\t 2013 & 9 & 30 & 2241 & 2246 &  -5 & 2345 &    1 & -16 & B6 & ⋯ & N346JB & JFK & ROC &  47 &  264 & 22 & 46 & 2013-09-30 22:00:00 & -21 & -21\\\\\n\t 2013 & 9 & 30 & 2307 & 2255 &  12 & 2359 & 2358 &   1 & B6 & ⋯ & N565JB & JFK & BOS &  33 &  187 & 22 & 55 & 2013-09-30 22:00:00 &  13 &  13\\\\\n\t 2013 & 9 & 30 & 2349 & 2359 & -10 &  325 &  350 & -25 & B6 & ⋯ & N516JB & JFK & PSE & 196 & 1617 & 23 & 59 & 2013-09-30 23:00:00 & -35 & -35\\\\\n\t 2013 & 9 & 30 &   NA & 1842 &  NA &   NA & 2019 &  NA & EV & ⋯ & N740EV & LGA & BNA &  NA &  764 & 18 & 42 & 2013-09-30 18:00:00 &  NA &  NA\\\\\n\t 2013 & 9 & 30 &   NA & 1455 &  NA &   NA & 1634 &  NA & 9E & ⋯ & NA     & JFK & DCA &  NA &  213 & 14 & 55 & 2013-09-30 14:00:00 &  NA &  NA\\\\\n\t 2013 & 9 & 30 &   NA & 2200 &  NA &   NA & 2312 &  NA & 9E & ⋯ & NA     & LGA & SYR &  NA &  198 & 22 &  0 & 2013-09-30 22:00:00 &  NA &  NA\\\\\n\t 2013 & 9 & 30 &   NA & 1210 &  NA &   NA & 1330 &  NA & MQ & ⋯ & N535MQ & LGA & BNA &  NA &  764 & 12 & 10 & 2013-09-30 12:00:00 &  NA &  NA\\\\\n\t 2013 & 9 & 30 &   NA & 1159 &  NA &   NA & 1344 &  NA & MQ & ⋯ & N511MQ & LGA & CLE &  NA &  419 & 11 & 59 & 2013-09-30 11:00:00 &  NA &  NA\\\\\n\t 2013 & 9 & 30 &   NA &  840 &  NA &   NA & 1020 &  NA & MQ & ⋯ & N839MQ & LGA & RDU &  NA &  431 &  8 & 40 & 2013-09-30 08:00:00 &  NA &  NA\\\\\n\\end{tabular}\n",
            "text/plain": [
              "       anio mes day dep_time sched_dep_time dep_delay arr_time sched_arr_time\n",
              "1      2013 1   1   517      515             2         830      819          \n",
              "2      2013 1   1   533      529             4         850      830          \n",
              "3      2013 1   1   542      540             2         923      850          \n",
              "4      2013 1   1   544      545            -1        1004     1022          \n",
              "5      2013 1   1   554      600            -6         812      837          \n",
              "6      2013 1   1   554      558            -4         740      728          \n",
              "7      2013 1   1   555      600            -5         913      854          \n",
              "8      2013 1   1   557      600            -3         709      723          \n",
              "9      2013 1   1   557      600            -3         838      846          \n",
              "10     2013 1   1   558      600            -2         753      745          \n",
              "11     2013 1   1   558      600            -2         849      851          \n",
              "12     2013 1   1   558      600            -2         853      856          \n",
              "13     2013 1   1   558      600            -2         924      917          \n",
              "14     2013 1   1   558      600            -2         923      937          \n",
              "15     2013 1   1   559      600            -1         941      910          \n",
              "16     2013 1   1   559      559             0         702      706          \n",
              "17     2013 1   1   559      600            -1         854      902          \n",
              "18     2013 1   1   600      600             0         851      858          \n",
              "19     2013 1   1   600      600             0         837      825          \n",
              "20     2013 1   1   601      600             1         844      850          \n",
              "21     2013 1   1   602      610            -8         812      820          \n",
              "22     2013 1   1   602      605            -3         821      805          \n",
              "23     2013 1   1   606      610            -4         858      910          \n",
              "24     2013 1   1   606      610            -4         837      845          \n",
              "25     2013 1   1   607      607             0         858      915          \n",
              "26     2013 1   1   608      600             8         807      735          \n",
              "27     2013 1   1   611      600            11         945      931          \n",
              "28     2013 1   1   613      610             3         925      921          \n",
              "29     2013 1   1   615      615             0        1039     1100          \n",
              "30     2013 1   1   615      615             0         833      842          \n",
              "⋮      ⋮    ⋮   ⋮   ⋮        ⋮              ⋮         ⋮        ⋮             \n",
              "336747 2013 9   30  2123     2125            -2       2223     2247          \n",
              "336748 2013 9   30  2127     2129            -2       2314     2323          \n",
              "336749 2013 9   30  2128     2130            -2       2328     2359          \n",
              "336750 2013 9   30  2129     2059            30       2230     2232          \n",
              "336751 2013 9   30  2131     2140            -9       2225     2255          \n",
              "336752 2013 9   30  2140     2140             0         10       40          \n",
              "336753 2013 9   30  2142     2129            13       2250     2239          \n",
              "336754 2013 9   30  2145     2145             0        115      140          \n",
              "336755 2013 9   30  2147     2137            10         30       27          \n",
              "336756 2013 9   30  2149     2156            -7       2245     2308          \n",
              "336757 2013 9   30  2150     2159            -9       2250     2306          \n",
              "336758 2013 9   30  2159     1845           194       2344     2030          \n",
              "336759 2013 9   30  2203     2205            -2       2339     2331          \n",
              "336760 2013 9   30  2207     2140            27       2257     2250          \n",
              "336761 2013 9   30  2211     2059            72       2339     2242          \n",
              "336762 2013 9   30  2231     2245           -14       2335     2356          \n",
              "336763 2013 9   30  2233     2113            80        112       30          \n",
              "336764 2013 9   30  2235     2001           154         59     2249          \n",
              "336765 2013 9   30  2237     2245            -8       2345     2353          \n",
              "336766 2013 9   30  2240     2245            -5       2334     2351          \n",
              "336767 2013 9   30  2240     2250           -10       2347        7          \n",
              "336768 2013 9   30  2241     2246            -5       2345        1          \n",
              "336769 2013 9   30  2307     2255            12       2359     2358          \n",
              "336770 2013 9   30  2349     2359           -10        325      350          \n",
              "336771 2013 9   30    NA     1842            NA         NA     2019          \n",
              "336772 2013 9   30    NA     1455            NA         NA     1634          \n",
              "336773 2013 9   30    NA     2200            NA         NA     2312          \n",
              "336774 2013 9   30    NA     1210            NA         NA     1330          \n",
              "336775 2013 9   30    NA     1159            NA         NA     1344          \n",
              "336776 2013 9   30    NA      840            NA         NA     1020          \n",
              "       arr_delay carrier ⋯ tailnum origin dest air_time distance hour minute\n",
              "1       11       UA      ⋯ N14228  EWR    IAH  227      1400     5    15    \n",
              "2       20       UA      ⋯ N24211  LGA    IAH  227      1416     5    29    \n",
              "3       33       AA      ⋯ N619AA  JFK    MIA  160      1089     5    40    \n",
              "4      -18       B6      ⋯ N804JB  JFK    BQN  183      1576     5    45    \n",
              "5      -25       DL      ⋯ N668DN  LGA    ATL  116       762     6     0    \n",
              "6       12       UA      ⋯ N39463  EWR    ORD  150       719     5    58    \n",
              "7       19       B6      ⋯ N516JB  EWR    FLL  158      1065     6     0    \n",
              "8      -14       EV      ⋯ N829AS  LGA    IAD   53       229     6     0    \n",
              "9       -8       B6      ⋯ N593JB  JFK    MCO  140       944     6     0    \n",
              "10       8       AA      ⋯ N3ALAA  LGA    ORD  138       733     6     0    \n",
              "11      -2       B6      ⋯ N793JB  JFK    PBI  149      1028     6     0    \n",
              "12      -3       B6      ⋯ N657JB  JFK    TPA  158      1005     6     0    \n",
              "13       7       UA      ⋯ N29129  JFK    LAX  345      2475     6     0    \n",
              "14     -14       UA      ⋯ N53441  EWR    SFO  361      2565     6     0    \n",
              "15      31       AA      ⋯ N3DUAA  LGA    DFW  257      1389     6     0    \n",
              "16      -4       B6      ⋯ N708JB  JFK    BOS   44       187     5    59    \n",
              "17      -8       UA      ⋯ N76515  EWR    LAS  337      2227     6     0    \n",
              "18      -7       B6      ⋯ N595JB  LGA    FLL  152      1076     6     0    \n",
              "19      12       MQ      ⋯ N542MQ  LGA    ATL  134       762     6     0    \n",
              "20      -6       B6      ⋯ N644JB  EWR    PBI  147      1023     6     0    \n",
              "21      -8       DL      ⋯ N971DL  LGA    MSP  170      1020     6    10    \n",
              "22      16       MQ      ⋯ N730MQ  LGA    DTW  105       502     6     5    \n",
              "23     -12       AA      ⋯ N633AA  EWR    MIA  152      1085     6    10    \n",
              "24      -8       DL      ⋯ N3739P  JFK    ATL  128       760     6    10    \n",
              "25     -17       UA      ⋯ N53442  EWR    MIA  157      1085     6     7    \n",
              "26      32       MQ      ⋯ N9EAMQ  EWR    ORD  139       719     6     0    \n",
              "27      14       UA      ⋯ N532UA  JFK    SFO  366      2586     6     0    \n",
              "28       4       B6      ⋯ N635JB  JFK    RSW  175      1074     6    10    \n",
              "29     -21       B6      ⋯ N794JB  JFK    SJU  182      1598     6    15    \n",
              "30      -9       DL      ⋯ N326NB  EWR    ATL  120       746     6    15    \n",
              "⋮      ⋮         ⋮       ⋱ ⋮       ⋮      ⋮    ⋮        ⋮        ⋮    ⋮     \n",
              "336747 -24       EV      ⋯ N712EV  LGA    CHO   45       305     21   25    \n",
              "336748  -9       EV      ⋯ N16546  EWR    CLT   72       529     21   29    \n",
              "336749 -31       B6      ⋯ N807JB  JFK    DEN  213      1626     21   30    \n",
              "336750  -2       EV      ⋯ N751EV  LGA    RIC   45       292     20   59    \n",
              "336751 -30       MQ      ⋯ N807MQ  JFK    DCA   36       213     21   40    \n",
              "336752 -30       AA      ⋯ N335AA  JFK    LAX  298      2475     21   40    \n",
              "336753  11       EV      ⋯ N12957  EWR    PWM   47       284     21   29    \n",
              "336754 -25       B6      ⋯ N633JB  JFK    SJU  192      1598     21   45    \n",
              "336755   3       B6      ⋯ N627JB  LGA    FLL  139      1076     21   37    \n",
              "336756 -23       UA      ⋯ N813UA  EWR    BOS   37       200     21   56    \n",
              "336757 -16       EV      ⋯ N10575  EWR    MHT   39       209     21   59    \n",
              "336758 194       9E      ⋯ N906XJ  JFK    BUF   50       301     18   45    \n",
              "336759   8       EV      ⋯ N722EV  LGA    BGR   61       378     22    5    \n",
              "336760   7       MQ      ⋯ N532MQ  LGA    BNA   97       764     21   40    \n",
              "336761  57       EV      ⋯ N12145  EWR    STL  120       872     20   59    \n",
              "336762 -21       B6      ⋯ N193JB  JFK    PWM   48       273     22   45    \n",
              "336763  42       UA      ⋯ N578UA  EWR    SFO  318      2565     21   13    \n",
              "336764 130       B6      ⋯ N804JB  JFK    MCO  123       944     20    1    \n",
              "336765  -8       B6      ⋯ N318JB  JFK    BTV   43       266     22   45    \n",
              "336766 -17       B6      ⋯ N354JB  JFK    SYR   41       209     22   45    \n",
              "336767 -20       B6      ⋯ N281JB  JFK    BUF   52       301     22   50    \n",
              "336768 -16       B6      ⋯ N346JB  JFK    ROC   47       264     22   46    \n",
              "336769   1       B6      ⋯ N565JB  JFK    BOS   33       187     22   55    \n",
              "336770 -25       B6      ⋯ N516JB  JFK    PSE  196      1617     23   59    \n",
              "336771  NA       EV      ⋯ N740EV  LGA    BNA   NA       764     18   42    \n",
              "336772  NA       9E      ⋯ NA      JFK    DCA   NA       213     14   55    \n",
              "336773  NA       9E      ⋯ NA      LGA    SYR   NA       198     22    0    \n",
              "336774  NA       MQ      ⋯ N535MQ  LGA    BNA   NA       764     12   10    \n",
              "336775  NA       MQ      ⋯ N511MQ  LGA    CLE   NA       419     11   59    \n",
              "336776  NA       MQ      ⋯ N839MQ  LGA    RDU   NA       431      8   40    \n",
              "       time_hour           retraso_neto retraso_neto2\n",
              "1      2013-01-01 05:00:00  13           13          \n",
              "2      2013-01-01 05:00:00  24           24          \n",
              "3      2013-01-01 05:00:00  35           35          \n",
              "4      2013-01-01 05:00:00 -19          -19          \n",
              "5      2013-01-01 06:00:00 -31          -31          \n",
              "6      2013-01-01 05:00:00   8            8          \n",
              "7      2013-01-01 06:00:00  14           14          \n",
              "8      2013-01-01 06:00:00 -17          -17          \n",
              "9      2013-01-01 06:00:00 -11          -11          \n",
              "10     2013-01-01 06:00:00   6            6          \n",
              "11     2013-01-01 06:00:00  -4           -4          \n",
              "12     2013-01-01 06:00:00  -5           -5          \n",
              "13     2013-01-01 06:00:00   5            5          \n",
              "14     2013-01-01 06:00:00 -16          -16          \n",
              "15     2013-01-01 06:00:00  30           30          \n",
              "16     2013-01-01 05:00:00  -4           -4          \n",
              "17     2013-01-01 06:00:00  -9           -9          \n",
              "18     2013-01-01 06:00:00  -7           -7          \n",
              "19     2013-01-01 06:00:00  12           12          \n",
              "20     2013-01-01 06:00:00  -5           -5          \n",
              "21     2013-01-01 06:00:00 -16          -16          \n",
              "22     2013-01-01 06:00:00  13           13          \n",
              "23     2013-01-01 06:00:00 -16          -16          \n",
              "24     2013-01-01 06:00:00 -12          -12          \n",
              "25     2013-01-01 06:00:00 -17          -17          \n",
              "26     2013-01-01 06:00:00  40           40          \n",
              "27     2013-01-01 06:00:00  25           25          \n",
              "28     2013-01-01 06:00:00   7            7          \n",
              "29     2013-01-01 06:00:00 -21          -21          \n",
              "30     2013-01-01 06:00:00  -9           -9          \n",
              "⋮      ⋮                   ⋮            ⋮            \n",
              "336747 2013-09-30 21:00:00 -26          -26          \n",
              "336748 2013-09-30 21:00:00 -11          -11          \n",
              "336749 2013-09-30 21:00:00 -33          -33          \n",
              "336750 2013-09-30 20:00:00  28           28          \n",
              "336751 2013-09-30 21:00:00 -39          -39          \n",
              "336752 2013-09-30 21:00:00 -30          -30          \n",
              "336753 2013-09-30 21:00:00  24           24          \n",
              "336754 2013-09-30 21:00:00 -25          -25          \n",
              "336755 2013-09-30 21:00:00  13           13          \n",
              "336756 2013-09-30 21:00:00 -30          -30          \n",
              "336757 2013-09-30 21:00:00 -25          -25          \n",
              "336758 2013-09-30 18:00:00 388          388          \n",
              "336759 2013-09-30 22:00:00   6            6          \n",
              "336760 2013-09-30 21:00:00  34           34          \n",
              "336761 2013-09-30 20:00:00 129          129          \n",
              "336762 2013-09-30 22:00:00 -35          -35          \n",
              "336763 2013-09-30 21:00:00 122          122          \n",
              "336764 2013-09-30 20:00:00 284          284          \n",
              "336765 2013-09-30 22:00:00 -16          -16          \n",
              "336766 2013-09-30 22:00:00 -22          -22          \n",
              "336767 2013-09-30 22:00:00 -30          -30          \n",
              "336768 2013-09-30 22:00:00 -21          -21          \n",
              "336769 2013-09-30 22:00:00  13           13          \n",
              "336770 2013-09-30 23:00:00 -35          -35          \n",
              "336771 2013-09-30 18:00:00  NA           NA          \n",
              "336772 2013-09-30 14:00:00  NA           NA          \n",
              "336773 2013-09-30 22:00:00  NA           NA          \n",
              "336774 2013-09-30 12:00:00  NA           NA          \n",
              "336775 2013-09-30 11:00:00  NA           NA          \n",
              "336776 2013-09-30 08:00:00  NA           NA          "
            ]
          },
          "metadata": {}
        }
      ]
    },
    {
      "cell_type": "code",
      "source": [
        "# OJO: Esto no altera el df original\n",
        "head(vuelos)"
      ],
      "metadata": {
        "id": "TqawuzeZhDCV",
        "outputId": "57895e13-d8b0-4ce5-ea34-6b0c24218fc1",
        "colab": {
          "base_uri": "https://localhost:8080/",
          "height": 514
        }
      },
      "execution_count": null,
      "outputs": [
        {
          "output_type": "display_data",
          "data": {
            "text/html": [
              "<table class=\"dataframe\">\n",
              "<caption>A data.frame: 6 × 20</caption>\n",
              "<thead>\n",
              "\t<tr><th></th><th scope=col>anio</th><th scope=col>mes</th><th scope=col>day</th><th scope=col>dep_time</th><th scope=col>sched_dep_time</th><th scope=col>dep_delay</th><th scope=col>arr_time</th><th scope=col>sched_arr_time</th><th scope=col>arr_delay</th><th scope=col>carrier</th><th scope=col>flight</th><th scope=col>tailnum</th><th scope=col>origin</th><th scope=col>dest</th><th scope=col>air_time</th><th scope=col>distance</th><th scope=col>hour</th><th scope=col>minute</th><th scope=col>time_hour</th><th scope=col>retraso_neto</th></tr>\n",
              "\t<tr><th></th><th scope=col>&lt;int&gt;</th><th scope=col>&lt;int&gt;</th><th scope=col>&lt;int&gt;</th><th scope=col>&lt;int&gt;</th><th scope=col>&lt;int&gt;</th><th scope=col>&lt;int&gt;</th><th scope=col>&lt;int&gt;</th><th scope=col>&lt;int&gt;</th><th scope=col>&lt;int&gt;</th><th scope=col>&lt;chr&gt;</th><th scope=col>&lt;int&gt;</th><th scope=col>&lt;chr&gt;</th><th scope=col>&lt;chr&gt;</th><th scope=col>&lt;chr&gt;</th><th scope=col>&lt;int&gt;</th><th scope=col>&lt;int&gt;</th><th scope=col>&lt;int&gt;</th><th scope=col>&lt;int&gt;</th><th scope=col>&lt;chr&gt;</th><th scope=col>&lt;int&gt;</th></tr>\n",
              "</thead>\n",
              "<tbody>\n",
              "\t<tr><th scope=row>1</th><td>2013</td><td>1</td><td>1</td><td>517</td><td>515</td><td> 2</td><td> 830</td><td> 819</td><td> 11</td><td>UA</td><td>1545</td><td>N14228</td><td>EWR</td><td>IAH</td><td>227</td><td>1400</td><td>5</td><td>15</td><td>2013-01-01 05:00:00</td><td> 13</td></tr>\n",
              "\t<tr><th scope=row>2</th><td>2013</td><td>1</td><td>1</td><td>533</td><td>529</td><td> 4</td><td> 850</td><td> 830</td><td> 20</td><td>UA</td><td>1714</td><td>N24211</td><td>LGA</td><td>IAH</td><td>227</td><td>1416</td><td>5</td><td>29</td><td>2013-01-01 05:00:00</td><td> 24</td></tr>\n",
              "\t<tr><th scope=row>3</th><td>2013</td><td>1</td><td>1</td><td>542</td><td>540</td><td> 2</td><td> 923</td><td> 850</td><td> 33</td><td>AA</td><td>1141</td><td>N619AA</td><td>JFK</td><td>MIA</td><td>160</td><td>1089</td><td>5</td><td>40</td><td>2013-01-01 05:00:00</td><td> 35</td></tr>\n",
              "\t<tr><th scope=row>4</th><td>2013</td><td>1</td><td>1</td><td>544</td><td>545</td><td>-1</td><td>1004</td><td>1022</td><td>-18</td><td>B6</td><td> 725</td><td>N804JB</td><td>JFK</td><td>BQN</td><td>183</td><td>1576</td><td>5</td><td>45</td><td>2013-01-01 05:00:00</td><td>-19</td></tr>\n",
              "\t<tr><th scope=row>5</th><td>2013</td><td>1</td><td>1</td><td>554</td><td>600</td><td>-6</td><td> 812</td><td> 837</td><td>-25</td><td>DL</td><td> 461</td><td>N668DN</td><td>LGA</td><td>ATL</td><td>116</td><td> 762</td><td>6</td><td> 0</td><td>2013-01-01 06:00:00</td><td>-31</td></tr>\n",
              "\t<tr><th scope=row>6</th><td>2013</td><td>1</td><td>1</td><td>554</td><td>558</td><td>-4</td><td> 740</td><td> 728</td><td> 12</td><td>UA</td><td>1696</td><td>N39463</td><td>EWR</td><td>ORD</td><td>150</td><td> 719</td><td>5</td><td>58</td><td>2013-01-01 05:00:00</td><td>  8</td></tr>\n",
              "</tbody>\n",
              "</table>\n"
            ],
            "text/markdown": "\nA data.frame: 6 × 20\n\n| <!--/--> | anio &lt;int&gt; | mes &lt;int&gt; | day &lt;int&gt; | dep_time &lt;int&gt; | sched_dep_time &lt;int&gt; | dep_delay &lt;int&gt; | arr_time &lt;int&gt; | sched_arr_time &lt;int&gt; | arr_delay &lt;int&gt; | carrier &lt;chr&gt; | flight &lt;int&gt; | tailnum &lt;chr&gt; | origin &lt;chr&gt; | dest &lt;chr&gt; | air_time &lt;int&gt; | distance &lt;int&gt; | hour &lt;int&gt; | minute &lt;int&gt; | time_hour &lt;chr&gt; | retraso_neto &lt;int&gt; |\n|---|---|---|---|---|---|---|---|---|---|---|---|---|---|---|---|---|---|---|---|---|\n| 1 | 2013 | 1 | 1 | 517 | 515 |  2 |  830 |  819 |  11 | UA | 1545 | N14228 | EWR | IAH | 227 | 1400 | 5 | 15 | 2013-01-01 05:00:00 |  13 |\n| 2 | 2013 | 1 | 1 | 533 | 529 |  4 |  850 |  830 |  20 | UA | 1714 | N24211 | LGA | IAH | 227 | 1416 | 5 | 29 | 2013-01-01 05:00:00 |  24 |\n| 3 | 2013 | 1 | 1 | 542 | 540 |  2 |  923 |  850 |  33 | AA | 1141 | N619AA | JFK | MIA | 160 | 1089 | 5 | 40 | 2013-01-01 05:00:00 |  35 |\n| 4 | 2013 | 1 | 1 | 544 | 545 | -1 | 1004 | 1022 | -18 | B6 |  725 | N804JB | JFK | BQN | 183 | 1576 | 5 | 45 | 2013-01-01 05:00:00 | -19 |\n| 5 | 2013 | 1 | 1 | 554 | 600 | -6 |  812 |  837 | -25 | DL |  461 | N668DN | LGA | ATL | 116 |  762 | 6 |  0 | 2013-01-01 06:00:00 | -31 |\n| 6 | 2013 | 1 | 1 | 554 | 558 | -4 |  740 |  728 |  12 | UA | 1696 | N39463 | EWR | ORD | 150 |  719 | 5 | 58 | 2013-01-01 05:00:00 |   8 |\n\n",
            "text/latex": "A data.frame: 6 × 20\n\\begin{tabular}{r|llllllllllllllllllll}\n  & anio & mes & day & dep\\_time & sched\\_dep\\_time & dep\\_delay & arr\\_time & sched\\_arr\\_time & arr\\_delay & carrier & flight & tailnum & origin & dest & air\\_time & distance & hour & minute & time\\_hour & retraso\\_neto\\\\\n  & <int> & <int> & <int> & <int> & <int> & <int> & <int> & <int> & <int> & <chr> & <int> & <chr> & <chr> & <chr> & <int> & <int> & <int> & <int> & <chr> & <int>\\\\\n\\hline\n\t1 & 2013 & 1 & 1 & 517 & 515 &  2 &  830 &  819 &  11 & UA & 1545 & N14228 & EWR & IAH & 227 & 1400 & 5 & 15 & 2013-01-01 05:00:00 &  13\\\\\n\t2 & 2013 & 1 & 1 & 533 & 529 &  4 &  850 &  830 &  20 & UA & 1714 & N24211 & LGA & IAH & 227 & 1416 & 5 & 29 & 2013-01-01 05:00:00 &  24\\\\\n\t3 & 2013 & 1 & 1 & 542 & 540 &  2 &  923 &  850 &  33 & AA & 1141 & N619AA & JFK & MIA & 160 & 1089 & 5 & 40 & 2013-01-01 05:00:00 &  35\\\\\n\t4 & 2013 & 1 & 1 & 544 & 545 & -1 & 1004 & 1022 & -18 & B6 &  725 & N804JB & JFK & BQN & 183 & 1576 & 5 & 45 & 2013-01-01 05:00:00 & -19\\\\\n\t5 & 2013 & 1 & 1 & 554 & 600 & -6 &  812 &  837 & -25 & DL &  461 & N668DN & LGA & ATL & 116 &  762 & 6 &  0 & 2013-01-01 06:00:00 & -31\\\\\n\t6 & 2013 & 1 & 1 & 554 & 558 & -4 &  740 &  728 &  12 & UA & 1696 & N39463 & EWR & ORD & 150 &  719 & 5 & 58 & 2013-01-01 05:00:00 &   8\\\\\n\\end{tabular}\n",
            "text/plain": [
              "  anio mes day dep_time sched_dep_time dep_delay arr_time sched_arr_time\n",
              "1 2013 1   1   517      515             2         830      819          \n",
              "2 2013 1   1   533      529             4         850      830          \n",
              "3 2013 1   1   542      540             2         923      850          \n",
              "4 2013 1   1   544      545            -1        1004     1022          \n",
              "5 2013 1   1   554      600            -6         812      837          \n",
              "6 2013 1   1   554      558            -4         740      728          \n",
              "  arr_delay carrier flight tailnum origin dest air_time distance hour minute\n",
              "1  11       UA      1545   N14228  EWR    IAH  227      1400     5    15    \n",
              "2  20       UA      1714   N24211  LGA    IAH  227      1416     5    29    \n",
              "3  33       AA      1141   N619AA  JFK    MIA  160      1089     5    40    \n",
              "4 -18       B6       725   N804JB  JFK    BQN  183      1576     5    45    \n",
              "5 -25       DL       461   N668DN  LGA    ATL  116       762     6     0    \n",
              "6  12       UA      1696   N39463  EWR    ORD  150       719     5    58    \n",
              "  time_hour           retraso_neto\n",
              "1 2013-01-01 05:00:00  13         \n",
              "2 2013-01-01 05:00:00  24         \n",
              "3 2013-01-01 05:00:00  35         \n",
              "4 2013-01-01 05:00:00 -19         \n",
              "5 2013-01-01 06:00:00 -31         \n",
              "6 2013-01-01 05:00:00   8         "
            ]
          },
          "metadata": {}
        }
      ]
    },
    {
      "cell_type": "code",
      "source": [
        "# Si queremos hacer persistente el cambio en el dataframe\n",
        "vuelos <- mutate(vuelos, retraso_neto2 = arr_delay + dep_delay)"
      ],
      "metadata": {
        "id": "MW-zvLKVhKaE"
      },
      "execution_count": null,
      "outputs": []
    },
    {
      "cell_type": "code",
      "source": [
        "names(vuelos)"
      ],
      "metadata": {
        "id": "RQ-NhlKUhTFg",
        "outputId": "6a10d916-ca63-4ce6-8a20-c0700e2c4a5c",
        "colab": {
          "base_uri": "https://localhost:8080/",
          "height": 52
        }
      },
      "execution_count": null,
      "outputs": [
        {
          "output_type": "display_data",
          "data": {
            "text/html": [
              "<style>\n",
              ".list-inline {list-style: none; margin:0; padding: 0}\n",
              ".list-inline>li {display: inline-block}\n",
              ".list-inline>li:not(:last-child)::after {content: \"\\00b7\"; padding: 0 .5ex}\n",
              "</style>\n",
              "<ol class=list-inline><li>'anio'</li><li>'mes'</li><li>'day'</li><li>'dep_time'</li><li>'sched_dep_time'</li><li>'dep_delay'</li><li>'arr_time'</li><li>'sched_arr_time'</li><li>'arr_delay'</li><li>'carrier'</li><li>'flight'</li><li>'tailnum'</li><li>'origin'</li><li>'dest'</li><li>'air_time'</li><li>'distance'</li><li>'hour'</li><li>'minute'</li><li>'time_hour'</li><li>'retraso_neto'</li><li>'retraso_neto2'</li></ol>\n"
            ],
            "text/markdown": "1. 'anio'\n2. 'mes'\n3. 'day'\n4. 'dep_time'\n5. 'sched_dep_time'\n6. 'dep_delay'\n7. 'arr_time'\n8. 'sched_arr_time'\n9. 'arr_delay'\n10. 'carrier'\n11. 'flight'\n12. 'tailnum'\n13. 'origin'\n14. 'dest'\n15. 'air_time'\n16. 'distance'\n17. 'hour'\n18. 'minute'\n19. 'time_hour'\n20. 'retraso_neto'\n21. 'retraso_neto2'\n\n\n",
            "text/latex": "\\begin{enumerate*}\n\\item 'anio'\n\\item 'mes'\n\\item 'day'\n\\item 'dep\\_time'\n\\item 'sched\\_dep\\_time'\n\\item 'dep\\_delay'\n\\item 'arr\\_time'\n\\item 'sched\\_arr\\_time'\n\\item 'arr\\_delay'\n\\item 'carrier'\n\\item 'flight'\n\\item 'tailnum'\n\\item 'origin'\n\\item 'dest'\n\\item 'air\\_time'\n\\item 'distance'\n\\item 'hour'\n\\item 'minute'\n\\item 'time\\_hour'\n\\item 'retraso\\_neto'\n\\item 'retraso\\_neto2'\n\\end{enumerate*}\n",
            "text/plain": [
              " [1] \"anio\"           \"mes\"            \"day\"            \"dep_time\"      \n",
              " [5] \"sched_dep_time\" \"dep_delay\"      \"arr_time\"       \"sched_arr_time\"\n",
              " [9] \"arr_delay\"      \"carrier\"        \"flight\"         \"tailnum\"       \n",
              "[13] \"origin\"         \"dest\"           \"air_time\"       \"distance\"      \n",
              "[17] \"hour\"           \"minute\"         \"time_hour\"      \"retraso_neto\"  \n",
              "[21] \"retraso_neto2\" "
            ]
          },
          "metadata": {}
        }
      ]
    },
    {
      "cell_type": "code",
      "metadata": {
        "trusted": true,
        "id": "jwsvIq-eRPy2"
      },
      "source": [
        "# Primero defina una nueva data llamada muestra_fl que contenga la fecha, los retrasos, la distancia, y el tiempo de vuelo\n",
        "# Cree una columna llamada gain que contenga la diferenecia entre arr_delay y dep_delay, y otra llamada speed que mida la velocidad en horas (distancia / tiempo de vuelo * 60)\n",
        "muestra_fl <- select(vuelos,\n",
        "                     anio,\n",
        "                     mes,\n",
        "                     day,\n",
        "                     arr_delay,\n",
        "                     dep_delay,\n",
        "                     distance,\n",
        "                     air_time)\n",
        "\n",
        "\n"
      ],
      "execution_count": null,
      "outputs": []
    },
    {
      "cell_type": "code",
      "source": [
        "muestra_fl <- mutate(muestra_fl, gain = arr_delay - dep_delay,\n",
        "                                 speed = 60*distance/air_time,\n",
        "                                 speed2 = distance/air_time*60,\n",
        "                                 gain_abs = abs(gain))\n",
        "muestra_fl"
      ],
      "metadata": {
        "id": "E4HinlzChv4l",
        "outputId": "aa4f6d82-83fb-40f3-b715-724c22a287b5",
        "colab": {
          "base_uri": "https://localhost:8080/",
          "height": 1000
        }
      },
      "execution_count": null,
      "outputs": [
        {
          "output_type": "display_data",
          "data": {
            "text/html": [
              "<table class=\"dataframe\">\n",
              "<caption>A data.frame: 336776 × 11</caption>\n",
              "<thead>\n",
              "\t<tr><th scope=col>anio</th><th scope=col>mes</th><th scope=col>day</th><th scope=col>arr_delay</th><th scope=col>dep_delay</th><th scope=col>distance</th><th scope=col>air_time</th><th scope=col>gain</th><th scope=col>speed</th><th scope=col>speed2</th><th scope=col>gain_abs</th></tr>\n",
              "\t<tr><th scope=col>&lt;int&gt;</th><th scope=col>&lt;int&gt;</th><th scope=col>&lt;int&gt;</th><th scope=col>&lt;int&gt;</th><th scope=col>&lt;int&gt;</th><th scope=col>&lt;int&gt;</th><th scope=col>&lt;int&gt;</th><th scope=col>&lt;int&gt;</th><th scope=col>&lt;dbl&gt;</th><th scope=col>&lt;dbl&gt;</th><th scope=col>&lt;int&gt;</th></tr>\n",
              "</thead>\n",
              "<tbody>\n",
              "\t<tr><td>2013</td><td>1</td><td>1</td><td> 11</td><td> 2</td><td>1400</td><td>227</td><td>  9</td><td>370.0441</td><td>370.0441</td><td> 9</td></tr>\n",
              "\t<tr><td>2013</td><td>1</td><td>1</td><td> 20</td><td> 4</td><td>1416</td><td>227</td><td> 16</td><td>374.2731</td><td>374.2731</td><td>16</td></tr>\n",
              "\t<tr><td>2013</td><td>1</td><td>1</td><td> 33</td><td> 2</td><td>1089</td><td>160</td><td> 31</td><td>408.3750</td><td>408.3750</td><td>31</td></tr>\n",
              "\t<tr><td>2013</td><td>1</td><td>1</td><td>-18</td><td>-1</td><td>1576</td><td>183</td><td>-17</td><td>516.7213</td><td>516.7213</td><td>17</td></tr>\n",
              "\t<tr><td>2013</td><td>1</td><td>1</td><td>-25</td><td>-6</td><td> 762</td><td>116</td><td>-19</td><td>394.1379</td><td>394.1379</td><td>19</td></tr>\n",
              "\t<tr><td>2013</td><td>1</td><td>1</td><td> 12</td><td>-4</td><td> 719</td><td>150</td><td> 16</td><td>287.6000</td><td>287.6000</td><td>16</td></tr>\n",
              "\t<tr><td>2013</td><td>1</td><td>1</td><td> 19</td><td>-5</td><td>1065</td><td>158</td><td> 24</td><td>404.4304</td><td>404.4304</td><td>24</td></tr>\n",
              "\t<tr><td>2013</td><td>1</td><td>1</td><td>-14</td><td>-3</td><td> 229</td><td> 53</td><td>-11</td><td>259.2453</td><td>259.2453</td><td>11</td></tr>\n",
              "\t<tr><td>2013</td><td>1</td><td>1</td><td> -8</td><td>-3</td><td> 944</td><td>140</td><td> -5</td><td>404.5714</td><td>404.5714</td><td> 5</td></tr>\n",
              "\t<tr><td>2013</td><td>1</td><td>1</td><td>  8</td><td>-2</td><td> 733</td><td>138</td><td> 10</td><td>318.6957</td><td>318.6957</td><td>10</td></tr>\n",
              "\t<tr><td>2013</td><td>1</td><td>1</td><td> -2</td><td>-2</td><td>1028</td><td>149</td><td>  0</td><td>413.9597</td><td>413.9597</td><td> 0</td></tr>\n",
              "\t<tr><td>2013</td><td>1</td><td>1</td><td> -3</td><td>-2</td><td>1005</td><td>158</td><td> -1</td><td>381.6456</td><td>381.6456</td><td> 1</td></tr>\n",
              "\t<tr><td>2013</td><td>1</td><td>1</td><td>  7</td><td>-2</td><td>2475</td><td>345</td><td>  9</td><td>430.4348</td><td>430.4348</td><td> 9</td></tr>\n",
              "\t<tr><td>2013</td><td>1</td><td>1</td><td>-14</td><td>-2</td><td>2565</td><td>361</td><td>-12</td><td>426.3158</td><td>426.3158</td><td>12</td></tr>\n",
              "\t<tr><td>2013</td><td>1</td><td>1</td><td> 31</td><td>-1</td><td>1389</td><td>257</td><td> 32</td><td>324.2802</td><td>324.2802</td><td>32</td></tr>\n",
              "\t<tr><td>2013</td><td>1</td><td>1</td><td> -4</td><td> 0</td><td> 187</td><td> 44</td><td> -4</td><td>255.0000</td><td>255.0000</td><td> 4</td></tr>\n",
              "\t<tr><td>2013</td><td>1</td><td>1</td><td> -8</td><td>-1</td><td>2227</td><td>337</td><td> -7</td><td>396.4985</td><td>396.4985</td><td> 7</td></tr>\n",
              "\t<tr><td>2013</td><td>1</td><td>1</td><td> -7</td><td> 0</td><td>1076</td><td>152</td><td> -7</td><td>424.7368</td><td>424.7368</td><td> 7</td></tr>\n",
              "\t<tr><td>2013</td><td>1</td><td>1</td><td> 12</td><td> 0</td><td> 762</td><td>134</td><td> 12</td><td>341.1940</td><td>341.1940</td><td>12</td></tr>\n",
              "\t<tr><td>2013</td><td>1</td><td>1</td><td> -6</td><td> 1</td><td>1023</td><td>147</td><td> -7</td><td>417.5510</td><td>417.5510</td><td> 7</td></tr>\n",
              "\t<tr><td>2013</td><td>1</td><td>1</td><td> -8</td><td>-8</td><td>1020</td><td>170</td><td>  0</td><td>360.0000</td><td>360.0000</td><td> 0</td></tr>\n",
              "\t<tr><td>2013</td><td>1</td><td>1</td><td> 16</td><td>-3</td><td> 502</td><td>105</td><td> 19</td><td>286.8571</td><td>286.8571</td><td>19</td></tr>\n",
              "\t<tr><td>2013</td><td>1</td><td>1</td><td>-12</td><td>-4</td><td>1085</td><td>152</td><td> -8</td><td>428.2895</td><td>428.2895</td><td> 8</td></tr>\n",
              "\t<tr><td>2013</td><td>1</td><td>1</td><td> -8</td><td>-4</td><td> 760</td><td>128</td><td> -4</td><td>356.2500</td><td>356.2500</td><td> 4</td></tr>\n",
              "\t<tr><td>2013</td><td>1</td><td>1</td><td>-17</td><td> 0</td><td>1085</td><td>157</td><td>-17</td><td>414.6497</td><td>414.6497</td><td>17</td></tr>\n",
              "\t<tr><td>2013</td><td>1</td><td>1</td><td> 32</td><td> 8</td><td> 719</td><td>139</td><td> 24</td><td>310.3597</td><td>310.3597</td><td>24</td></tr>\n",
              "\t<tr><td>2013</td><td>1</td><td>1</td><td> 14</td><td>11</td><td>2586</td><td>366</td><td>  3</td><td>423.9344</td><td>423.9344</td><td> 3</td></tr>\n",
              "\t<tr><td>2013</td><td>1</td><td>1</td><td>  4</td><td> 3</td><td>1074</td><td>175</td><td>  1</td><td>368.2286</td><td>368.2286</td><td> 1</td></tr>\n",
              "\t<tr><td>2013</td><td>1</td><td>1</td><td>-21</td><td> 0</td><td>1598</td><td>182</td><td>-21</td><td>526.8132</td><td>526.8132</td><td>21</td></tr>\n",
              "\t<tr><td>2013</td><td>1</td><td>1</td><td> -9</td><td> 0</td><td> 746</td><td>120</td><td> -9</td><td>373.0000</td><td>373.0000</td><td> 9</td></tr>\n",
              "\t<tr><td>⋮</td><td>⋮</td><td>⋮</td><td>⋮</td><td>⋮</td><td>⋮</td><td>⋮</td><td>⋮</td><td>⋮</td><td>⋮</td><td>⋮</td></tr>\n",
              "\t<tr><td>2013</td><td>9</td><td>30</td><td>-24</td><td> -2</td><td> 305</td><td> 45</td><td>-22</td><td>406.6667</td><td>406.6667</td><td>22</td></tr>\n",
              "\t<tr><td>2013</td><td>9</td><td>30</td><td> -9</td><td> -2</td><td> 529</td><td> 72</td><td> -7</td><td>440.8333</td><td>440.8333</td><td> 7</td></tr>\n",
              "\t<tr><td>2013</td><td>9</td><td>30</td><td>-31</td><td> -2</td><td>1626</td><td>213</td><td>-29</td><td>458.0282</td><td>458.0282</td><td>29</td></tr>\n",
              "\t<tr><td>2013</td><td>9</td><td>30</td><td> -2</td><td> 30</td><td> 292</td><td> 45</td><td>-32</td><td>389.3333</td><td>389.3333</td><td>32</td></tr>\n",
              "\t<tr><td>2013</td><td>9</td><td>30</td><td>-30</td><td> -9</td><td> 213</td><td> 36</td><td>-21</td><td>355.0000</td><td>355.0000</td><td>21</td></tr>\n",
              "\t<tr><td>2013</td><td>9</td><td>30</td><td>-30</td><td>  0</td><td>2475</td><td>298</td><td>-30</td><td>498.3221</td><td>498.3221</td><td>30</td></tr>\n",
              "\t<tr><td>2013</td><td>9</td><td>30</td><td> 11</td><td> 13</td><td> 284</td><td> 47</td><td> -2</td><td>362.5532</td><td>362.5532</td><td> 2</td></tr>\n",
              "\t<tr><td>2013</td><td>9</td><td>30</td><td>-25</td><td>  0</td><td>1598</td><td>192</td><td>-25</td><td>499.3750</td><td>499.3750</td><td>25</td></tr>\n",
              "\t<tr><td>2013</td><td>9</td><td>30</td><td>  3</td><td> 10</td><td>1076</td><td>139</td><td> -7</td><td>464.4604</td><td>464.4604</td><td> 7</td></tr>\n",
              "\t<tr><td>2013</td><td>9</td><td>30</td><td>-23</td><td> -7</td><td> 200</td><td> 37</td><td>-16</td><td>324.3243</td><td>324.3243</td><td>16</td></tr>\n",
              "\t<tr><td>2013</td><td>9</td><td>30</td><td>-16</td><td> -9</td><td> 209</td><td> 39</td><td> -7</td><td>321.5385</td><td>321.5385</td><td> 7</td></tr>\n",
              "\t<tr><td>2013</td><td>9</td><td>30</td><td>194</td><td>194</td><td> 301</td><td> 50</td><td>  0</td><td>361.2000</td><td>361.2000</td><td> 0</td></tr>\n",
              "\t<tr><td>2013</td><td>9</td><td>30</td><td>  8</td><td> -2</td><td> 378</td><td> 61</td><td> 10</td><td>371.8033</td><td>371.8033</td><td>10</td></tr>\n",
              "\t<tr><td>2013</td><td>9</td><td>30</td><td>  7</td><td> 27</td><td> 764</td><td> 97</td><td>-20</td><td>472.5773</td><td>472.5773</td><td>20</td></tr>\n",
              "\t<tr><td>2013</td><td>9</td><td>30</td><td> 57</td><td> 72</td><td> 872</td><td>120</td><td>-15</td><td>436.0000</td><td>436.0000</td><td>15</td></tr>\n",
              "\t<tr><td>2013</td><td>9</td><td>30</td><td>-21</td><td>-14</td><td> 273</td><td> 48</td><td> -7</td><td>341.2500</td><td>341.2500</td><td> 7</td></tr>\n",
              "\t<tr><td>2013</td><td>9</td><td>30</td><td> 42</td><td> 80</td><td>2565</td><td>318</td><td>-38</td><td>483.9623</td><td>483.9623</td><td>38</td></tr>\n",
              "\t<tr><td>2013</td><td>9</td><td>30</td><td>130</td><td>154</td><td> 944</td><td>123</td><td>-24</td><td>460.4878</td><td>460.4878</td><td>24</td></tr>\n",
              "\t<tr><td>2013</td><td>9</td><td>30</td><td> -8</td><td> -8</td><td> 266</td><td> 43</td><td>  0</td><td>371.1628</td><td>371.1628</td><td> 0</td></tr>\n",
              "\t<tr><td>2013</td><td>9</td><td>30</td><td>-17</td><td> -5</td><td> 209</td><td> 41</td><td>-12</td><td>305.8537</td><td>305.8537</td><td>12</td></tr>\n",
              "\t<tr><td>2013</td><td>9</td><td>30</td><td>-20</td><td>-10</td><td> 301</td><td> 52</td><td>-10</td><td>347.3077</td><td>347.3077</td><td>10</td></tr>\n",
              "\t<tr><td>2013</td><td>9</td><td>30</td><td>-16</td><td> -5</td><td> 264</td><td> 47</td><td>-11</td><td>337.0213</td><td>337.0213</td><td>11</td></tr>\n",
              "\t<tr><td>2013</td><td>9</td><td>30</td><td>  1</td><td> 12</td><td> 187</td><td> 33</td><td>-11</td><td>340.0000</td><td>340.0000</td><td>11</td></tr>\n",
              "\t<tr><td>2013</td><td>9</td><td>30</td><td>-25</td><td>-10</td><td>1617</td><td>196</td><td>-15</td><td>495.0000</td><td>495.0000</td><td>15</td></tr>\n",
              "\t<tr><td>2013</td><td>9</td><td>30</td><td> NA</td><td> NA</td><td> 764</td><td> NA</td><td> NA</td><td>      NA</td><td>      NA</td><td>NA</td></tr>\n",
              "\t<tr><td>2013</td><td>9</td><td>30</td><td> NA</td><td> NA</td><td> 213</td><td> NA</td><td> NA</td><td>      NA</td><td>      NA</td><td>NA</td></tr>\n",
              "\t<tr><td>2013</td><td>9</td><td>30</td><td> NA</td><td> NA</td><td> 198</td><td> NA</td><td> NA</td><td>      NA</td><td>      NA</td><td>NA</td></tr>\n",
              "\t<tr><td>2013</td><td>9</td><td>30</td><td> NA</td><td> NA</td><td> 764</td><td> NA</td><td> NA</td><td>      NA</td><td>      NA</td><td>NA</td></tr>\n",
              "\t<tr><td>2013</td><td>9</td><td>30</td><td> NA</td><td> NA</td><td> 419</td><td> NA</td><td> NA</td><td>      NA</td><td>      NA</td><td>NA</td></tr>\n",
              "\t<tr><td>2013</td><td>9</td><td>30</td><td> NA</td><td> NA</td><td> 431</td><td> NA</td><td> NA</td><td>      NA</td><td>      NA</td><td>NA</td></tr>\n",
              "</tbody>\n",
              "</table>\n"
            ],
            "text/markdown": "\nA data.frame: 336776 × 11\n\n| anio &lt;int&gt; | mes &lt;int&gt; | day &lt;int&gt; | arr_delay &lt;int&gt; | dep_delay &lt;int&gt; | distance &lt;int&gt; | air_time &lt;int&gt; | gain &lt;int&gt; | speed &lt;dbl&gt; | speed2 &lt;dbl&gt; | gain_abs &lt;int&gt; |\n|---|---|---|---|---|---|---|---|---|---|---|\n| 2013 | 1 | 1 |  11 |  2 | 1400 | 227 |   9 | 370.0441 | 370.0441 |  9 |\n| 2013 | 1 | 1 |  20 |  4 | 1416 | 227 |  16 | 374.2731 | 374.2731 | 16 |\n| 2013 | 1 | 1 |  33 |  2 | 1089 | 160 |  31 | 408.3750 | 408.3750 | 31 |\n| 2013 | 1 | 1 | -18 | -1 | 1576 | 183 | -17 | 516.7213 | 516.7213 | 17 |\n| 2013 | 1 | 1 | -25 | -6 |  762 | 116 | -19 | 394.1379 | 394.1379 | 19 |\n| 2013 | 1 | 1 |  12 | -4 |  719 | 150 |  16 | 287.6000 | 287.6000 | 16 |\n| 2013 | 1 | 1 |  19 | -5 | 1065 | 158 |  24 | 404.4304 | 404.4304 | 24 |\n| 2013 | 1 | 1 | -14 | -3 |  229 |  53 | -11 | 259.2453 | 259.2453 | 11 |\n| 2013 | 1 | 1 |  -8 | -3 |  944 | 140 |  -5 | 404.5714 | 404.5714 |  5 |\n| 2013 | 1 | 1 |   8 | -2 |  733 | 138 |  10 | 318.6957 | 318.6957 | 10 |\n| 2013 | 1 | 1 |  -2 | -2 | 1028 | 149 |   0 | 413.9597 | 413.9597 |  0 |\n| 2013 | 1 | 1 |  -3 | -2 | 1005 | 158 |  -1 | 381.6456 | 381.6456 |  1 |\n| 2013 | 1 | 1 |   7 | -2 | 2475 | 345 |   9 | 430.4348 | 430.4348 |  9 |\n| 2013 | 1 | 1 | -14 | -2 | 2565 | 361 | -12 | 426.3158 | 426.3158 | 12 |\n| 2013 | 1 | 1 |  31 | -1 | 1389 | 257 |  32 | 324.2802 | 324.2802 | 32 |\n| 2013 | 1 | 1 |  -4 |  0 |  187 |  44 |  -4 | 255.0000 | 255.0000 |  4 |\n| 2013 | 1 | 1 |  -8 | -1 | 2227 | 337 |  -7 | 396.4985 | 396.4985 |  7 |\n| 2013 | 1 | 1 |  -7 |  0 | 1076 | 152 |  -7 | 424.7368 | 424.7368 |  7 |\n| 2013 | 1 | 1 |  12 |  0 |  762 | 134 |  12 | 341.1940 | 341.1940 | 12 |\n| 2013 | 1 | 1 |  -6 |  1 | 1023 | 147 |  -7 | 417.5510 | 417.5510 |  7 |\n| 2013 | 1 | 1 |  -8 | -8 | 1020 | 170 |   0 | 360.0000 | 360.0000 |  0 |\n| 2013 | 1 | 1 |  16 | -3 |  502 | 105 |  19 | 286.8571 | 286.8571 | 19 |\n| 2013 | 1 | 1 | -12 | -4 | 1085 | 152 |  -8 | 428.2895 | 428.2895 |  8 |\n| 2013 | 1 | 1 |  -8 | -4 |  760 | 128 |  -4 | 356.2500 | 356.2500 |  4 |\n| 2013 | 1 | 1 | -17 |  0 | 1085 | 157 | -17 | 414.6497 | 414.6497 | 17 |\n| 2013 | 1 | 1 |  32 |  8 |  719 | 139 |  24 | 310.3597 | 310.3597 | 24 |\n| 2013 | 1 | 1 |  14 | 11 | 2586 | 366 |   3 | 423.9344 | 423.9344 |  3 |\n| 2013 | 1 | 1 |   4 |  3 | 1074 | 175 |   1 | 368.2286 | 368.2286 |  1 |\n| 2013 | 1 | 1 | -21 |  0 | 1598 | 182 | -21 | 526.8132 | 526.8132 | 21 |\n| 2013 | 1 | 1 |  -9 |  0 |  746 | 120 |  -9 | 373.0000 | 373.0000 |  9 |\n| ⋮ | ⋮ | ⋮ | ⋮ | ⋮ | ⋮ | ⋮ | ⋮ | ⋮ | ⋮ | ⋮ |\n| 2013 | 9 | 30 | -24 |  -2 |  305 |  45 | -22 | 406.6667 | 406.6667 | 22 |\n| 2013 | 9 | 30 |  -9 |  -2 |  529 |  72 |  -7 | 440.8333 | 440.8333 |  7 |\n| 2013 | 9 | 30 | -31 |  -2 | 1626 | 213 | -29 | 458.0282 | 458.0282 | 29 |\n| 2013 | 9 | 30 |  -2 |  30 |  292 |  45 | -32 | 389.3333 | 389.3333 | 32 |\n| 2013 | 9 | 30 | -30 |  -9 |  213 |  36 | -21 | 355.0000 | 355.0000 | 21 |\n| 2013 | 9 | 30 | -30 |   0 | 2475 | 298 | -30 | 498.3221 | 498.3221 | 30 |\n| 2013 | 9 | 30 |  11 |  13 |  284 |  47 |  -2 | 362.5532 | 362.5532 |  2 |\n| 2013 | 9 | 30 | -25 |   0 | 1598 | 192 | -25 | 499.3750 | 499.3750 | 25 |\n| 2013 | 9 | 30 |   3 |  10 | 1076 | 139 |  -7 | 464.4604 | 464.4604 |  7 |\n| 2013 | 9 | 30 | -23 |  -7 |  200 |  37 | -16 | 324.3243 | 324.3243 | 16 |\n| 2013 | 9 | 30 | -16 |  -9 |  209 |  39 |  -7 | 321.5385 | 321.5385 |  7 |\n| 2013 | 9 | 30 | 194 | 194 |  301 |  50 |   0 | 361.2000 | 361.2000 |  0 |\n| 2013 | 9 | 30 |   8 |  -2 |  378 |  61 |  10 | 371.8033 | 371.8033 | 10 |\n| 2013 | 9 | 30 |   7 |  27 |  764 |  97 | -20 | 472.5773 | 472.5773 | 20 |\n| 2013 | 9 | 30 |  57 |  72 |  872 | 120 | -15 | 436.0000 | 436.0000 | 15 |\n| 2013 | 9 | 30 | -21 | -14 |  273 |  48 |  -7 | 341.2500 | 341.2500 |  7 |\n| 2013 | 9 | 30 |  42 |  80 | 2565 | 318 | -38 | 483.9623 | 483.9623 | 38 |\n| 2013 | 9 | 30 | 130 | 154 |  944 | 123 | -24 | 460.4878 | 460.4878 | 24 |\n| 2013 | 9 | 30 |  -8 |  -8 |  266 |  43 |   0 | 371.1628 | 371.1628 |  0 |\n| 2013 | 9 | 30 | -17 |  -5 |  209 |  41 | -12 | 305.8537 | 305.8537 | 12 |\n| 2013 | 9 | 30 | -20 | -10 |  301 |  52 | -10 | 347.3077 | 347.3077 | 10 |\n| 2013 | 9 | 30 | -16 |  -5 |  264 |  47 | -11 | 337.0213 | 337.0213 | 11 |\n| 2013 | 9 | 30 |   1 |  12 |  187 |  33 | -11 | 340.0000 | 340.0000 | 11 |\n| 2013 | 9 | 30 | -25 | -10 | 1617 | 196 | -15 | 495.0000 | 495.0000 | 15 |\n| 2013 | 9 | 30 |  NA |  NA |  764 |  NA |  NA |       NA |       NA | NA |\n| 2013 | 9 | 30 |  NA |  NA |  213 |  NA |  NA |       NA |       NA | NA |\n| 2013 | 9 | 30 |  NA |  NA |  198 |  NA |  NA |       NA |       NA | NA |\n| 2013 | 9 | 30 |  NA |  NA |  764 |  NA |  NA |       NA |       NA | NA |\n| 2013 | 9 | 30 |  NA |  NA |  419 |  NA |  NA |       NA |       NA | NA |\n| 2013 | 9 | 30 |  NA |  NA |  431 |  NA |  NA |       NA |       NA | NA |\n\n",
            "text/latex": "A data.frame: 336776 × 11\n\\begin{tabular}{lllllllllll}\n anio & mes & day & arr\\_delay & dep\\_delay & distance & air\\_time & gain & speed & speed2 & gain\\_abs\\\\\n <int> & <int> & <int> & <int> & <int> & <int> & <int> & <int> & <dbl> & <dbl> & <int>\\\\\n\\hline\n\t 2013 & 1 & 1 &  11 &  2 & 1400 & 227 &   9 & 370.0441 & 370.0441 &  9\\\\\n\t 2013 & 1 & 1 &  20 &  4 & 1416 & 227 &  16 & 374.2731 & 374.2731 & 16\\\\\n\t 2013 & 1 & 1 &  33 &  2 & 1089 & 160 &  31 & 408.3750 & 408.3750 & 31\\\\\n\t 2013 & 1 & 1 & -18 & -1 & 1576 & 183 & -17 & 516.7213 & 516.7213 & 17\\\\\n\t 2013 & 1 & 1 & -25 & -6 &  762 & 116 & -19 & 394.1379 & 394.1379 & 19\\\\\n\t 2013 & 1 & 1 &  12 & -4 &  719 & 150 &  16 & 287.6000 & 287.6000 & 16\\\\\n\t 2013 & 1 & 1 &  19 & -5 & 1065 & 158 &  24 & 404.4304 & 404.4304 & 24\\\\\n\t 2013 & 1 & 1 & -14 & -3 &  229 &  53 & -11 & 259.2453 & 259.2453 & 11\\\\\n\t 2013 & 1 & 1 &  -8 & -3 &  944 & 140 &  -5 & 404.5714 & 404.5714 &  5\\\\\n\t 2013 & 1 & 1 &   8 & -2 &  733 & 138 &  10 & 318.6957 & 318.6957 & 10\\\\\n\t 2013 & 1 & 1 &  -2 & -2 & 1028 & 149 &   0 & 413.9597 & 413.9597 &  0\\\\\n\t 2013 & 1 & 1 &  -3 & -2 & 1005 & 158 &  -1 & 381.6456 & 381.6456 &  1\\\\\n\t 2013 & 1 & 1 &   7 & -2 & 2475 & 345 &   9 & 430.4348 & 430.4348 &  9\\\\\n\t 2013 & 1 & 1 & -14 & -2 & 2565 & 361 & -12 & 426.3158 & 426.3158 & 12\\\\\n\t 2013 & 1 & 1 &  31 & -1 & 1389 & 257 &  32 & 324.2802 & 324.2802 & 32\\\\\n\t 2013 & 1 & 1 &  -4 &  0 &  187 &  44 &  -4 & 255.0000 & 255.0000 &  4\\\\\n\t 2013 & 1 & 1 &  -8 & -1 & 2227 & 337 &  -7 & 396.4985 & 396.4985 &  7\\\\\n\t 2013 & 1 & 1 &  -7 &  0 & 1076 & 152 &  -7 & 424.7368 & 424.7368 &  7\\\\\n\t 2013 & 1 & 1 &  12 &  0 &  762 & 134 &  12 & 341.1940 & 341.1940 & 12\\\\\n\t 2013 & 1 & 1 &  -6 &  1 & 1023 & 147 &  -7 & 417.5510 & 417.5510 &  7\\\\\n\t 2013 & 1 & 1 &  -8 & -8 & 1020 & 170 &   0 & 360.0000 & 360.0000 &  0\\\\\n\t 2013 & 1 & 1 &  16 & -3 &  502 & 105 &  19 & 286.8571 & 286.8571 & 19\\\\\n\t 2013 & 1 & 1 & -12 & -4 & 1085 & 152 &  -8 & 428.2895 & 428.2895 &  8\\\\\n\t 2013 & 1 & 1 &  -8 & -4 &  760 & 128 &  -4 & 356.2500 & 356.2500 &  4\\\\\n\t 2013 & 1 & 1 & -17 &  0 & 1085 & 157 & -17 & 414.6497 & 414.6497 & 17\\\\\n\t 2013 & 1 & 1 &  32 &  8 &  719 & 139 &  24 & 310.3597 & 310.3597 & 24\\\\\n\t 2013 & 1 & 1 &  14 & 11 & 2586 & 366 &   3 & 423.9344 & 423.9344 &  3\\\\\n\t 2013 & 1 & 1 &   4 &  3 & 1074 & 175 &   1 & 368.2286 & 368.2286 &  1\\\\\n\t 2013 & 1 & 1 & -21 &  0 & 1598 & 182 & -21 & 526.8132 & 526.8132 & 21\\\\\n\t 2013 & 1 & 1 &  -9 &  0 &  746 & 120 &  -9 & 373.0000 & 373.0000 &  9\\\\\n\t ⋮ & ⋮ & ⋮ & ⋮ & ⋮ & ⋮ & ⋮ & ⋮ & ⋮ & ⋮ & ⋮\\\\\n\t 2013 & 9 & 30 & -24 &  -2 &  305 &  45 & -22 & 406.6667 & 406.6667 & 22\\\\\n\t 2013 & 9 & 30 &  -9 &  -2 &  529 &  72 &  -7 & 440.8333 & 440.8333 &  7\\\\\n\t 2013 & 9 & 30 & -31 &  -2 & 1626 & 213 & -29 & 458.0282 & 458.0282 & 29\\\\\n\t 2013 & 9 & 30 &  -2 &  30 &  292 &  45 & -32 & 389.3333 & 389.3333 & 32\\\\\n\t 2013 & 9 & 30 & -30 &  -9 &  213 &  36 & -21 & 355.0000 & 355.0000 & 21\\\\\n\t 2013 & 9 & 30 & -30 &   0 & 2475 & 298 & -30 & 498.3221 & 498.3221 & 30\\\\\n\t 2013 & 9 & 30 &  11 &  13 &  284 &  47 &  -2 & 362.5532 & 362.5532 &  2\\\\\n\t 2013 & 9 & 30 & -25 &   0 & 1598 & 192 & -25 & 499.3750 & 499.3750 & 25\\\\\n\t 2013 & 9 & 30 &   3 &  10 & 1076 & 139 &  -7 & 464.4604 & 464.4604 &  7\\\\\n\t 2013 & 9 & 30 & -23 &  -7 &  200 &  37 & -16 & 324.3243 & 324.3243 & 16\\\\\n\t 2013 & 9 & 30 & -16 &  -9 &  209 &  39 &  -7 & 321.5385 & 321.5385 &  7\\\\\n\t 2013 & 9 & 30 & 194 & 194 &  301 &  50 &   0 & 361.2000 & 361.2000 &  0\\\\\n\t 2013 & 9 & 30 &   8 &  -2 &  378 &  61 &  10 & 371.8033 & 371.8033 & 10\\\\\n\t 2013 & 9 & 30 &   7 &  27 &  764 &  97 & -20 & 472.5773 & 472.5773 & 20\\\\\n\t 2013 & 9 & 30 &  57 &  72 &  872 & 120 & -15 & 436.0000 & 436.0000 & 15\\\\\n\t 2013 & 9 & 30 & -21 & -14 &  273 &  48 &  -7 & 341.2500 & 341.2500 &  7\\\\\n\t 2013 & 9 & 30 &  42 &  80 & 2565 & 318 & -38 & 483.9623 & 483.9623 & 38\\\\\n\t 2013 & 9 & 30 & 130 & 154 &  944 & 123 & -24 & 460.4878 & 460.4878 & 24\\\\\n\t 2013 & 9 & 30 &  -8 &  -8 &  266 &  43 &   0 & 371.1628 & 371.1628 &  0\\\\\n\t 2013 & 9 & 30 & -17 &  -5 &  209 &  41 & -12 & 305.8537 & 305.8537 & 12\\\\\n\t 2013 & 9 & 30 & -20 & -10 &  301 &  52 & -10 & 347.3077 & 347.3077 & 10\\\\\n\t 2013 & 9 & 30 & -16 &  -5 &  264 &  47 & -11 & 337.0213 & 337.0213 & 11\\\\\n\t 2013 & 9 & 30 &   1 &  12 &  187 &  33 & -11 & 340.0000 & 340.0000 & 11\\\\\n\t 2013 & 9 & 30 & -25 & -10 & 1617 & 196 & -15 & 495.0000 & 495.0000 & 15\\\\\n\t 2013 & 9 & 30 &  NA &  NA &  764 &  NA &  NA &       NA &       NA & NA\\\\\n\t 2013 & 9 & 30 &  NA &  NA &  213 &  NA &  NA &       NA &       NA & NA\\\\\n\t 2013 & 9 & 30 &  NA &  NA &  198 &  NA &  NA &       NA &       NA & NA\\\\\n\t 2013 & 9 & 30 &  NA &  NA &  764 &  NA &  NA &       NA &       NA & NA\\\\\n\t 2013 & 9 & 30 &  NA &  NA &  419 &  NA &  NA &       NA &       NA & NA\\\\\n\t 2013 & 9 & 30 &  NA &  NA &  431 &  NA &  NA &       NA &       NA & NA\\\\\n\\end{tabular}\n",
            "text/plain": [
              "       anio mes day arr_delay dep_delay distance air_time gain speed   \n",
              "1      2013 1   1    11        2        1400     227        9  370.0441\n",
              "2      2013 1   1    20        4        1416     227       16  374.2731\n",
              "3      2013 1   1    33        2        1089     160       31  408.3750\n",
              "4      2013 1   1   -18       -1        1576     183      -17  516.7213\n",
              "5      2013 1   1   -25       -6         762     116      -19  394.1379\n",
              "6      2013 1   1    12       -4         719     150       16  287.6000\n",
              "7      2013 1   1    19       -5        1065     158       24  404.4304\n",
              "8      2013 1   1   -14       -3         229      53      -11  259.2453\n",
              "9      2013 1   1    -8       -3         944     140       -5  404.5714\n",
              "10     2013 1   1     8       -2         733     138       10  318.6957\n",
              "11     2013 1   1    -2       -2        1028     149        0  413.9597\n",
              "12     2013 1   1    -3       -2        1005     158       -1  381.6456\n",
              "13     2013 1   1     7       -2        2475     345        9  430.4348\n",
              "14     2013 1   1   -14       -2        2565     361      -12  426.3158\n",
              "15     2013 1   1    31       -1        1389     257       32  324.2802\n",
              "16     2013 1   1    -4        0         187      44       -4  255.0000\n",
              "17     2013 1   1    -8       -1        2227     337       -7  396.4985\n",
              "18     2013 1   1    -7        0        1076     152       -7  424.7368\n",
              "19     2013 1   1    12        0         762     134       12  341.1940\n",
              "20     2013 1   1    -6        1        1023     147       -7  417.5510\n",
              "21     2013 1   1    -8       -8        1020     170        0  360.0000\n",
              "22     2013 1   1    16       -3         502     105       19  286.8571\n",
              "23     2013 1   1   -12       -4        1085     152       -8  428.2895\n",
              "24     2013 1   1    -8       -4         760     128       -4  356.2500\n",
              "25     2013 1   1   -17        0        1085     157      -17  414.6497\n",
              "26     2013 1   1    32        8         719     139       24  310.3597\n",
              "27     2013 1   1    14       11        2586     366        3  423.9344\n",
              "28     2013 1   1     4        3        1074     175        1  368.2286\n",
              "29     2013 1   1   -21        0        1598     182      -21  526.8132\n",
              "30     2013 1   1    -9        0         746     120       -9  373.0000\n",
              "⋮      ⋮    ⋮   ⋮   ⋮         ⋮         ⋮        ⋮        ⋮    ⋮       \n",
              "336747 2013 9   30  -24        -2        305      45      -22  406.6667\n",
              "336748 2013 9   30   -9        -2        529      72       -7  440.8333\n",
              "336749 2013 9   30  -31        -2       1626     213      -29  458.0282\n",
              "336750 2013 9   30   -2        30        292      45      -32  389.3333\n",
              "336751 2013 9   30  -30        -9        213      36      -21  355.0000\n",
              "336752 2013 9   30  -30         0       2475     298      -30  498.3221\n",
              "336753 2013 9   30   11        13        284      47       -2  362.5532\n",
              "336754 2013 9   30  -25         0       1598     192      -25  499.3750\n",
              "336755 2013 9   30    3        10       1076     139       -7  464.4604\n",
              "336756 2013 9   30  -23        -7        200      37      -16  324.3243\n",
              "336757 2013 9   30  -16        -9        209      39       -7  321.5385\n",
              "336758 2013 9   30  194       194        301      50        0  361.2000\n",
              "336759 2013 9   30    8        -2        378      61       10  371.8033\n",
              "336760 2013 9   30    7        27        764      97      -20  472.5773\n",
              "336761 2013 9   30   57        72        872     120      -15  436.0000\n",
              "336762 2013 9   30  -21       -14        273      48       -7  341.2500\n",
              "336763 2013 9   30   42        80       2565     318      -38  483.9623\n",
              "336764 2013 9   30  130       154        944     123      -24  460.4878\n",
              "336765 2013 9   30   -8        -8        266      43        0  371.1628\n",
              "336766 2013 9   30  -17        -5        209      41      -12  305.8537\n",
              "336767 2013 9   30  -20       -10        301      52      -10  347.3077\n",
              "336768 2013 9   30  -16        -5        264      47      -11  337.0213\n",
              "336769 2013 9   30    1        12        187      33      -11  340.0000\n",
              "336770 2013 9   30  -25       -10       1617     196      -15  495.0000\n",
              "336771 2013 9   30   NA        NA        764      NA       NA        NA\n",
              "336772 2013 9   30   NA        NA        213      NA       NA        NA\n",
              "336773 2013 9   30   NA        NA        198      NA       NA        NA\n",
              "336774 2013 9   30   NA        NA        764      NA       NA        NA\n",
              "336775 2013 9   30   NA        NA        419      NA       NA        NA\n",
              "336776 2013 9   30   NA        NA        431      NA       NA        NA\n",
              "       speed2   gain_abs\n",
              "1      370.0441  9      \n",
              "2      374.2731 16      \n",
              "3      408.3750 31      \n",
              "4      516.7213 17      \n",
              "5      394.1379 19      \n",
              "6      287.6000 16      \n",
              "7      404.4304 24      \n",
              "8      259.2453 11      \n",
              "9      404.5714  5      \n",
              "10     318.6957 10      \n",
              "11     413.9597  0      \n",
              "12     381.6456  1      \n",
              "13     430.4348  9      \n",
              "14     426.3158 12      \n",
              "15     324.2802 32      \n",
              "16     255.0000  4      \n",
              "17     396.4985  7      \n",
              "18     424.7368  7      \n",
              "19     341.1940 12      \n",
              "20     417.5510  7      \n",
              "21     360.0000  0      \n",
              "22     286.8571 19      \n",
              "23     428.2895  8      \n",
              "24     356.2500  4      \n",
              "25     414.6497 17      \n",
              "26     310.3597 24      \n",
              "27     423.9344  3      \n",
              "28     368.2286  1      \n",
              "29     526.8132 21      \n",
              "30     373.0000  9      \n",
              "⋮      ⋮        ⋮       \n",
              "336747 406.6667 22      \n",
              "336748 440.8333  7      \n",
              "336749 458.0282 29      \n",
              "336750 389.3333 32      \n",
              "336751 355.0000 21      \n",
              "336752 498.3221 30      \n",
              "336753 362.5532  2      \n",
              "336754 499.3750 25      \n",
              "336755 464.4604  7      \n",
              "336756 324.3243 16      \n",
              "336757 321.5385  7      \n",
              "336758 361.2000  0      \n",
              "336759 371.8033 10      \n",
              "336760 472.5773 20      \n",
              "336761 436.0000 15      \n",
              "336762 341.2500  7      \n",
              "336763 483.9623 38      \n",
              "336764 460.4878 24      \n",
              "336765 371.1628  0      \n",
              "336766 305.8537 12      \n",
              "336767 347.3077 10      \n",
              "336768 337.0213 11      \n",
              "336769 340.0000 11      \n",
              "336770 495.0000 15      \n",
              "336771       NA NA      \n",
              "336772       NA NA      \n",
              "336773       NA NA      \n",
              "336774       NA NA      \n",
              "336775       NA NA      \n",
              "336776       NA NA      "
            ]
          },
          "metadata": {}
        }
      ]
    },
    {
      "cell_type": "code",
      "source": [
        "#quiero redefinir gain_abs como gain_abs*2\n",
        "mutate(muestra_fl, gain_abs = gain_abs*2)"
      ],
      "metadata": {
        "id": "fmg8w0vyjAzq",
        "outputId": "603c146d-266b-4244-af1b-86f897d82c61",
        "colab": {
          "base_uri": "https://localhost:8080/",
          "height": 1000
        }
      },
      "execution_count": null,
      "outputs": [
        {
          "output_type": "display_data",
          "data": {
            "text/html": [
              "<table class=\"dataframe\">\n",
              "<caption>A data.frame: 336776 × 11</caption>\n",
              "<thead>\n",
              "\t<tr><th scope=col>anio</th><th scope=col>mes</th><th scope=col>day</th><th scope=col>arr_delay</th><th scope=col>dep_delay</th><th scope=col>distance</th><th scope=col>air_time</th><th scope=col>gain</th><th scope=col>speed</th><th scope=col>speed2</th><th scope=col>gain_abs</th></tr>\n",
              "\t<tr><th scope=col>&lt;int&gt;</th><th scope=col>&lt;int&gt;</th><th scope=col>&lt;int&gt;</th><th scope=col>&lt;int&gt;</th><th scope=col>&lt;int&gt;</th><th scope=col>&lt;int&gt;</th><th scope=col>&lt;int&gt;</th><th scope=col>&lt;int&gt;</th><th scope=col>&lt;dbl&gt;</th><th scope=col>&lt;dbl&gt;</th><th scope=col>&lt;dbl&gt;</th></tr>\n",
              "</thead>\n",
              "<tbody>\n",
              "\t<tr><td>2013</td><td>1</td><td>1</td><td> 11</td><td> 2</td><td>1400</td><td>227</td><td>  9</td><td>370.0441</td><td>370.0441</td><td>18</td></tr>\n",
              "\t<tr><td>2013</td><td>1</td><td>1</td><td> 20</td><td> 4</td><td>1416</td><td>227</td><td> 16</td><td>374.2731</td><td>374.2731</td><td>32</td></tr>\n",
              "\t<tr><td>2013</td><td>1</td><td>1</td><td> 33</td><td> 2</td><td>1089</td><td>160</td><td> 31</td><td>408.3750</td><td>408.3750</td><td>62</td></tr>\n",
              "\t<tr><td>2013</td><td>1</td><td>1</td><td>-18</td><td>-1</td><td>1576</td><td>183</td><td>-17</td><td>516.7213</td><td>516.7213</td><td>34</td></tr>\n",
              "\t<tr><td>2013</td><td>1</td><td>1</td><td>-25</td><td>-6</td><td> 762</td><td>116</td><td>-19</td><td>394.1379</td><td>394.1379</td><td>38</td></tr>\n",
              "\t<tr><td>2013</td><td>1</td><td>1</td><td> 12</td><td>-4</td><td> 719</td><td>150</td><td> 16</td><td>287.6000</td><td>287.6000</td><td>32</td></tr>\n",
              "\t<tr><td>2013</td><td>1</td><td>1</td><td> 19</td><td>-5</td><td>1065</td><td>158</td><td> 24</td><td>404.4304</td><td>404.4304</td><td>48</td></tr>\n",
              "\t<tr><td>2013</td><td>1</td><td>1</td><td>-14</td><td>-3</td><td> 229</td><td> 53</td><td>-11</td><td>259.2453</td><td>259.2453</td><td>22</td></tr>\n",
              "\t<tr><td>2013</td><td>1</td><td>1</td><td> -8</td><td>-3</td><td> 944</td><td>140</td><td> -5</td><td>404.5714</td><td>404.5714</td><td>10</td></tr>\n",
              "\t<tr><td>2013</td><td>1</td><td>1</td><td>  8</td><td>-2</td><td> 733</td><td>138</td><td> 10</td><td>318.6957</td><td>318.6957</td><td>20</td></tr>\n",
              "\t<tr><td>2013</td><td>1</td><td>1</td><td> -2</td><td>-2</td><td>1028</td><td>149</td><td>  0</td><td>413.9597</td><td>413.9597</td><td> 0</td></tr>\n",
              "\t<tr><td>2013</td><td>1</td><td>1</td><td> -3</td><td>-2</td><td>1005</td><td>158</td><td> -1</td><td>381.6456</td><td>381.6456</td><td> 2</td></tr>\n",
              "\t<tr><td>2013</td><td>1</td><td>1</td><td>  7</td><td>-2</td><td>2475</td><td>345</td><td>  9</td><td>430.4348</td><td>430.4348</td><td>18</td></tr>\n",
              "\t<tr><td>2013</td><td>1</td><td>1</td><td>-14</td><td>-2</td><td>2565</td><td>361</td><td>-12</td><td>426.3158</td><td>426.3158</td><td>24</td></tr>\n",
              "\t<tr><td>2013</td><td>1</td><td>1</td><td> 31</td><td>-1</td><td>1389</td><td>257</td><td> 32</td><td>324.2802</td><td>324.2802</td><td>64</td></tr>\n",
              "\t<tr><td>2013</td><td>1</td><td>1</td><td> -4</td><td> 0</td><td> 187</td><td> 44</td><td> -4</td><td>255.0000</td><td>255.0000</td><td> 8</td></tr>\n",
              "\t<tr><td>2013</td><td>1</td><td>1</td><td> -8</td><td>-1</td><td>2227</td><td>337</td><td> -7</td><td>396.4985</td><td>396.4985</td><td>14</td></tr>\n",
              "\t<tr><td>2013</td><td>1</td><td>1</td><td> -7</td><td> 0</td><td>1076</td><td>152</td><td> -7</td><td>424.7368</td><td>424.7368</td><td>14</td></tr>\n",
              "\t<tr><td>2013</td><td>1</td><td>1</td><td> 12</td><td> 0</td><td> 762</td><td>134</td><td> 12</td><td>341.1940</td><td>341.1940</td><td>24</td></tr>\n",
              "\t<tr><td>2013</td><td>1</td><td>1</td><td> -6</td><td> 1</td><td>1023</td><td>147</td><td> -7</td><td>417.5510</td><td>417.5510</td><td>14</td></tr>\n",
              "\t<tr><td>2013</td><td>1</td><td>1</td><td> -8</td><td>-8</td><td>1020</td><td>170</td><td>  0</td><td>360.0000</td><td>360.0000</td><td> 0</td></tr>\n",
              "\t<tr><td>2013</td><td>1</td><td>1</td><td> 16</td><td>-3</td><td> 502</td><td>105</td><td> 19</td><td>286.8571</td><td>286.8571</td><td>38</td></tr>\n",
              "\t<tr><td>2013</td><td>1</td><td>1</td><td>-12</td><td>-4</td><td>1085</td><td>152</td><td> -8</td><td>428.2895</td><td>428.2895</td><td>16</td></tr>\n",
              "\t<tr><td>2013</td><td>1</td><td>1</td><td> -8</td><td>-4</td><td> 760</td><td>128</td><td> -4</td><td>356.2500</td><td>356.2500</td><td> 8</td></tr>\n",
              "\t<tr><td>2013</td><td>1</td><td>1</td><td>-17</td><td> 0</td><td>1085</td><td>157</td><td>-17</td><td>414.6497</td><td>414.6497</td><td>34</td></tr>\n",
              "\t<tr><td>2013</td><td>1</td><td>1</td><td> 32</td><td> 8</td><td> 719</td><td>139</td><td> 24</td><td>310.3597</td><td>310.3597</td><td>48</td></tr>\n",
              "\t<tr><td>2013</td><td>1</td><td>1</td><td> 14</td><td>11</td><td>2586</td><td>366</td><td>  3</td><td>423.9344</td><td>423.9344</td><td> 6</td></tr>\n",
              "\t<tr><td>2013</td><td>1</td><td>1</td><td>  4</td><td> 3</td><td>1074</td><td>175</td><td>  1</td><td>368.2286</td><td>368.2286</td><td> 2</td></tr>\n",
              "\t<tr><td>2013</td><td>1</td><td>1</td><td>-21</td><td> 0</td><td>1598</td><td>182</td><td>-21</td><td>526.8132</td><td>526.8132</td><td>42</td></tr>\n",
              "\t<tr><td>2013</td><td>1</td><td>1</td><td> -9</td><td> 0</td><td> 746</td><td>120</td><td> -9</td><td>373.0000</td><td>373.0000</td><td>18</td></tr>\n",
              "\t<tr><td>⋮</td><td>⋮</td><td>⋮</td><td>⋮</td><td>⋮</td><td>⋮</td><td>⋮</td><td>⋮</td><td>⋮</td><td>⋮</td><td>⋮</td></tr>\n",
              "\t<tr><td>2013</td><td>9</td><td>30</td><td>-24</td><td> -2</td><td> 305</td><td> 45</td><td>-22</td><td>406.6667</td><td>406.6667</td><td>44</td></tr>\n",
              "\t<tr><td>2013</td><td>9</td><td>30</td><td> -9</td><td> -2</td><td> 529</td><td> 72</td><td> -7</td><td>440.8333</td><td>440.8333</td><td>14</td></tr>\n",
              "\t<tr><td>2013</td><td>9</td><td>30</td><td>-31</td><td> -2</td><td>1626</td><td>213</td><td>-29</td><td>458.0282</td><td>458.0282</td><td>58</td></tr>\n",
              "\t<tr><td>2013</td><td>9</td><td>30</td><td> -2</td><td> 30</td><td> 292</td><td> 45</td><td>-32</td><td>389.3333</td><td>389.3333</td><td>64</td></tr>\n",
              "\t<tr><td>2013</td><td>9</td><td>30</td><td>-30</td><td> -9</td><td> 213</td><td> 36</td><td>-21</td><td>355.0000</td><td>355.0000</td><td>42</td></tr>\n",
              "\t<tr><td>2013</td><td>9</td><td>30</td><td>-30</td><td>  0</td><td>2475</td><td>298</td><td>-30</td><td>498.3221</td><td>498.3221</td><td>60</td></tr>\n",
              "\t<tr><td>2013</td><td>9</td><td>30</td><td> 11</td><td> 13</td><td> 284</td><td> 47</td><td> -2</td><td>362.5532</td><td>362.5532</td><td> 4</td></tr>\n",
              "\t<tr><td>2013</td><td>9</td><td>30</td><td>-25</td><td>  0</td><td>1598</td><td>192</td><td>-25</td><td>499.3750</td><td>499.3750</td><td>50</td></tr>\n",
              "\t<tr><td>2013</td><td>9</td><td>30</td><td>  3</td><td> 10</td><td>1076</td><td>139</td><td> -7</td><td>464.4604</td><td>464.4604</td><td>14</td></tr>\n",
              "\t<tr><td>2013</td><td>9</td><td>30</td><td>-23</td><td> -7</td><td> 200</td><td> 37</td><td>-16</td><td>324.3243</td><td>324.3243</td><td>32</td></tr>\n",
              "\t<tr><td>2013</td><td>9</td><td>30</td><td>-16</td><td> -9</td><td> 209</td><td> 39</td><td> -7</td><td>321.5385</td><td>321.5385</td><td>14</td></tr>\n",
              "\t<tr><td>2013</td><td>9</td><td>30</td><td>194</td><td>194</td><td> 301</td><td> 50</td><td>  0</td><td>361.2000</td><td>361.2000</td><td> 0</td></tr>\n",
              "\t<tr><td>2013</td><td>9</td><td>30</td><td>  8</td><td> -2</td><td> 378</td><td> 61</td><td> 10</td><td>371.8033</td><td>371.8033</td><td>20</td></tr>\n",
              "\t<tr><td>2013</td><td>9</td><td>30</td><td>  7</td><td> 27</td><td> 764</td><td> 97</td><td>-20</td><td>472.5773</td><td>472.5773</td><td>40</td></tr>\n",
              "\t<tr><td>2013</td><td>9</td><td>30</td><td> 57</td><td> 72</td><td> 872</td><td>120</td><td>-15</td><td>436.0000</td><td>436.0000</td><td>30</td></tr>\n",
              "\t<tr><td>2013</td><td>9</td><td>30</td><td>-21</td><td>-14</td><td> 273</td><td> 48</td><td> -7</td><td>341.2500</td><td>341.2500</td><td>14</td></tr>\n",
              "\t<tr><td>2013</td><td>9</td><td>30</td><td> 42</td><td> 80</td><td>2565</td><td>318</td><td>-38</td><td>483.9623</td><td>483.9623</td><td>76</td></tr>\n",
              "\t<tr><td>2013</td><td>9</td><td>30</td><td>130</td><td>154</td><td> 944</td><td>123</td><td>-24</td><td>460.4878</td><td>460.4878</td><td>48</td></tr>\n",
              "\t<tr><td>2013</td><td>9</td><td>30</td><td> -8</td><td> -8</td><td> 266</td><td> 43</td><td>  0</td><td>371.1628</td><td>371.1628</td><td> 0</td></tr>\n",
              "\t<tr><td>2013</td><td>9</td><td>30</td><td>-17</td><td> -5</td><td> 209</td><td> 41</td><td>-12</td><td>305.8537</td><td>305.8537</td><td>24</td></tr>\n",
              "\t<tr><td>2013</td><td>9</td><td>30</td><td>-20</td><td>-10</td><td> 301</td><td> 52</td><td>-10</td><td>347.3077</td><td>347.3077</td><td>20</td></tr>\n",
              "\t<tr><td>2013</td><td>9</td><td>30</td><td>-16</td><td> -5</td><td> 264</td><td> 47</td><td>-11</td><td>337.0213</td><td>337.0213</td><td>22</td></tr>\n",
              "\t<tr><td>2013</td><td>9</td><td>30</td><td>  1</td><td> 12</td><td> 187</td><td> 33</td><td>-11</td><td>340.0000</td><td>340.0000</td><td>22</td></tr>\n",
              "\t<tr><td>2013</td><td>9</td><td>30</td><td>-25</td><td>-10</td><td>1617</td><td>196</td><td>-15</td><td>495.0000</td><td>495.0000</td><td>30</td></tr>\n",
              "\t<tr><td>2013</td><td>9</td><td>30</td><td> NA</td><td> NA</td><td> 764</td><td> NA</td><td> NA</td><td>      NA</td><td>      NA</td><td>NA</td></tr>\n",
              "\t<tr><td>2013</td><td>9</td><td>30</td><td> NA</td><td> NA</td><td> 213</td><td> NA</td><td> NA</td><td>      NA</td><td>      NA</td><td>NA</td></tr>\n",
              "\t<tr><td>2013</td><td>9</td><td>30</td><td> NA</td><td> NA</td><td> 198</td><td> NA</td><td> NA</td><td>      NA</td><td>      NA</td><td>NA</td></tr>\n",
              "\t<tr><td>2013</td><td>9</td><td>30</td><td> NA</td><td> NA</td><td> 764</td><td> NA</td><td> NA</td><td>      NA</td><td>      NA</td><td>NA</td></tr>\n",
              "\t<tr><td>2013</td><td>9</td><td>30</td><td> NA</td><td> NA</td><td> 419</td><td> NA</td><td> NA</td><td>      NA</td><td>      NA</td><td>NA</td></tr>\n",
              "\t<tr><td>2013</td><td>9</td><td>30</td><td> NA</td><td> NA</td><td> 431</td><td> NA</td><td> NA</td><td>      NA</td><td>      NA</td><td>NA</td></tr>\n",
              "</tbody>\n",
              "</table>\n"
            ],
            "text/markdown": "\nA data.frame: 336776 × 11\n\n| anio &lt;int&gt; | mes &lt;int&gt; | day &lt;int&gt; | arr_delay &lt;int&gt; | dep_delay &lt;int&gt; | distance &lt;int&gt; | air_time &lt;int&gt; | gain &lt;int&gt; | speed &lt;dbl&gt; | speed2 &lt;dbl&gt; | gain_abs &lt;dbl&gt; |\n|---|---|---|---|---|---|---|---|---|---|---|\n| 2013 | 1 | 1 |  11 |  2 | 1400 | 227 |   9 | 370.0441 | 370.0441 | 18 |\n| 2013 | 1 | 1 |  20 |  4 | 1416 | 227 |  16 | 374.2731 | 374.2731 | 32 |\n| 2013 | 1 | 1 |  33 |  2 | 1089 | 160 |  31 | 408.3750 | 408.3750 | 62 |\n| 2013 | 1 | 1 | -18 | -1 | 1576 | 183 | -17 | 516.7213 | 516.7213 | 34 |\n| 2013 | 1 | 1 | -25 | -6 |  762 | 116 | -19 | 394.1379 | 394.1379 | 38 |\n| 2013 | 1 | 1 |  12 | -4 |  719 | 150 |  16 | 287.6000 | 287.6000 | 32 |\n| 2013 | 1 | 1 |  19 | -5 | 1065 | 158 |  24 | 404.4304 | 404.4304 | 48 |\n| 2013 | 1 | 1 | -14 | -3 |  229 |  53 | -11 | 259.2453 | 259.2453 | 22 |\n| 2013 | 1 | 1 |  -8 | -3 |  944 | 140 |  -5 | 404.5714 | 404.5714 | 10 |\n| 2013 | 1 | 1 |   8 | -2 |  733 | 138 |  10 | 318.6957 | 318.6957 | 20 |\n| 2013 | 1 | 1 |  -2 | -2 | 1028 | 149 |   0 | 413.9597 | 413.9597 |  0 |\n| 2013 | 1 | 1 |  -3 | -2 | 1005 | 158 |  -1 | 381.6456 | 381.6456 |  2 |\n| 2013 | 1 | 1 |   7 | -2 | 2475 | 345 |   9 | 430.4348 | 430.4348 | 18 |\n| 2013 | 1 | 1 | -14 | -2 | 2565 | 361 | -12 | 426.3158 | 426.3158 | 24 |\n| 2013 | 1 | 1 |  31 | -1 | 1389 | 257 |  32 | 324.2802 | 324.2802 | 64 |\n| 2013 | 1 | 1 |  -4 |  0 |  187 |  44 |  -4 | 255.0000 | 255.0000 |  8 |\n| 2013 | 1 | 1 |  -8 | -1 | 2227 | 337 |  -7 | 396.4985 | 396.4985 | 14 |\n| 2013 | 1 | 1 |  -7 |  0 | 1076 | 152 |  -7 | 424.7368 | 424.7368 | 14 |\n| 2013 | 1 | 1 |  12 |  0 |  762 | 134 |  12 | 341.1940 | 341.1940 | 24 |\n| 2013 | 1 | 1 |  -6 |  1 | 1023 | 147 |  -7 | 417.5510 | 417.5510 | 14 |\n| 2013 | 1 | 1 |  -8 | -8 | 1020 | 170 |   0 | 360.0000 | 360.0000 |  0 |\n| 2013 | 1 | 1 |  16 | -3 |  502 | 105 |  19 | 286.8571 | 286.8571 | 38 |\n| 2013 | 1 | 1 | -12 | -4 | 1085 | 152 |  -8 | 428.2895 | 428.2895 | 16 |\n| 2013 | 1 | 1 |  -8 | -4 |  760 | 128 |  -4 | 356.2500 | 356.2500 |  8 |\n| 2013 | 1 | 1 | -17 |  0 | 1085 | 157 | -17 | 414.6497 | 414.6497 | 34 |\n| 2013 | 1 | 1 |  32 |  8 |  719 | 139 |  24 | 310.3597 | 310.3597 | 48 |\n| 2013 | 1 | 1 |  14 | 11 | 2586 | 366 |   3 | 423.9344 | 423.9344 |  6 |\n| 2013 | 1 | 1 |   4 |  3 | 1074 | 175 |   1 | 368.2286 | 368.2286 |  2 |\n| 2013 | 1 | 1 | -21 |  0 | 1598 | 182 | -21 | 526.8132 | 526.8132 | 42 |\n| 2013 | 1 | 1 |  -9 |  0 |  746 | 120 |  -9 | 373.0000 | 373.0000 | 18 |\n| ⋮ | ⋮ | ⋮ | ⋮ | ⋮ | ⋮ | ⋮ | ⋮ | ⋮ | ⋮ | ⋮ |\n| 2013 | 9 | 30 | -24 |  -2 |  305 |  45 | -22 | 406.6667 | 406.6667 | 44 |\n| 2013 | 9 | 30 |  -9 |  -2 |  529 |  72 |  -7 | 440.8333 | 440.8333 | 14 |\n| 2013 | 9 | 30 | -31 |  -2 | 1626 | 213 | -29 | 458.0282 | 458.0282 | 58 |\n| 2013 | 9 | 30 |  -2 |  30 |  292 |  45 | -32 | 389.3333 | 389.3333 | 64 |\n| 2013 | 9 | 30 | -30 |  -9 |  213 |  36 | -21 | 355.0000 | 355.0000 | 42 |\n| 2013 | 9 | 30 | -30 |   0 | 2475 | 298 | -30 | 498.3221 | 498.3221 | 60 |\n| 2013 | 9 | 30 |  11 |  13 |  284 |  47 |  -2 | 362.5532 | 362.5532 |  4 |\n| 2013 | 9 | 30 | -25 |   0 | 1598 | 192 | -25 | 499.3750 | 499.3750 | 50 |\n| 2013 | 9 | 30 |   3 |  10 | 1076 | 139 |  -7 | 464.4604 | 464.4604 | 14 |\n| 2013 | 9 | 30 | -23 |  -7 |  200 |  37 | -16 | 324.3243 | 324.3243 | 32 |\n| 2013 | 9 | 30 | -16 |  -9 |  209 |  39 |  -7 | 321.5385 | 321.5385 | 14 |\n| 2013 | 9 | 30 | 194 | 194 |  301 |  50 |   0 | 361.2000 | 361.2000 |  0 |\n| 2013 | 9 | 30 |   8 |  -2 |  378 |  61 |  10 | 371.8033 | 371.8033 | 20 |\n| 2013 | 9 | 30 |   7 |  27 |  764 |  97 | -20 | 472.5773 | 472.5773 | 40 |\n| 2013 | 9 | 30 |  57 |  72 |  872 | 120 | -15 | 436.0000 | 436.0000 | 30 |\n| 2013 | 9 | 30 | -21 | -14 |  273 |  48 |  -7 | 341.2500 | 341.2500 | 14 |\n| 2013 | 9 | 30 |  42 |  80 | 2565 | 318 | -38 | 483.9623 | 483.9623 | 76 |\n| 2013 | 9 | 30 | 130 | 154 |  944 | 123 | -24 | 460.4878 | 460.4878 | 48 |\n| 2013 | 9 | 30 |  -8 |  -8 |  266 |  43 |   0 | 371.1628 | 371.1628 |  0 |\n| 2013 | 9 | 30 | -17 |  -5 |  209 |  41 | -12 | 305.8537 | 305.8537 | 24 |\n| 2013 | 9 | 30 | -20 | -10 |  301 |  52 | -10 | 347.3077 | 347.3077 | 20 |\n| 2013 | 9 | 30 | -16 |  -5 |  264 |  47 | -11 | 337.0213 | 337.0213 | 22 |\n| 2013 | 9 | 30 |   1 |  12 |  187 |  33 | -11 | 340.0000 | 340.0000 | 22 |\n| 2013 | 9 | 30 | -25 | -10 | 1617 | 196 | -15 | 495.0000 | 495.0000 | 30 |\n| 2013 | 9 | 30 |  NA |  NA |  764 |  NA |  NA |       NA |       NA | NA |\n| 2013 | 9 | 30 |  NA |  NA |  213 |  NA |  NA |       NA |       NA | NA |\n| 2013 | 9 | 30 |  NA |  NA |  198 |  NA |  NA |       NA |       NA | NA |\n| 2013 | 9 | 30 |  NA |  NA |  764 |  NA |  NA |       NA |       NA | NA |\n| 2013 | 9 | 30 |  NA |  NA |  419 |  NA |  NA |       NA |       NA | NA |\n| 2013 | 9 | 30 |  NA |  NA |  431 |  NA |  NA |       NA |       NA | NA |\n\n",
            "text/latex": "A data.frame: 336776 × 11\n\\begin{tabular}{lllllllllll}\n anio & mes & day & arr\\_delay & dep\\_delay & distance & air\\_time & gain & speed & speed2 & gain\\_abs\\\\\n <int> & <int> & <int> & <int> & <int> & <int> & <int> & <int> & <dbl> & <dbl> & <dbl>\\\\\n\\hline\n\t 2013 & 1 & 1 &  11 &  2 & 1400 & 227 &   9 & 370.0441 & 370.0441 & 18\\\\\n\t 2013 & 1 & 1 &  20 &  4 & 1416 & 227 &  16 & 374.2731 & 374.2731 & 32\\\\\n\t 2013 & 1 & 1 &  33 &  2 & 1089 & 160 &  31 & 408.3750 & 408.3750 & 62\\\\\n\t 2013 & 1 & 1 & -18 & -1 & 1576 & 183 & -17 & 516.7213 & 516.7213 & 34\\\\\n\t 2013 & 1 & 1 & -25 & -6 &  762 & 116 & -19 & 394.1379 & 394.1379 & 38\\\\\n\t 2013 & 1 & 1 &  12 & -4 &  719 & 150 &  16 & 287.6000 & 287.6000 & 32\\\\\n\t 2013 & 1 & 1 &  19 & -5 & 1065 & 158 &  24 & 404.4304 & 404.4304 & 48\\\\\n\t 2013 & 1 & 1 & -14 & -3 &  229 &  53 & -11 & 259.2453 & 259.2453 & 22\\\\\n\t 2013 & 1 & 1 &  -8 & -3 &  944 & 140 &  -5 & 404.5714 & 404.5714 & 10\\\\\n\t 2013 & 1 & 1 &   8 & -2 &  733 & 138 &  10 & 318.6957 & 318.6957 & 20\\\\\n\t 2013 & 1 & 1 &  -2 & -2 & 1028 & 149 &   0 & 413.9597 & 413.9597 &  0\\\\\n\t 2013 & 1 & 1 &  -3 & -2 & 1005 & 158 &  -1 & 381.6456 & 381.6456 &  2\\\\\n\t 2013 & 1 & 1 &   7 & -2 & 2475 & 345 &   9 & 430.4348 & 430.4348 & 18\\\\\n\t 2013 & 1 & 1 & -14 & -2 & 2565 & 361 & -12 & 426.3158 & 426.3158 & 24\\\\\n\t 2013 & 1 & 1 &  31 & -1 & 1389 & 257 &  32 & 324.2802 & 324.2802 & 64\\\\\n\t 2013 & 1 & 1 &  -4 &  0 &  187 &  44 &  -4 & 255.0000 & 255.0000 &  8\\\\\n\t 2013 & 1 & 1 &  -8 & -1 & 2227 & 337 &  -7 & 396.4985 & 396.4985 & 14\\\\\n\t 2013 & 1 & 1 &  -7 &  0 & 1076 & 152 &  -7 & 424.7368 & 424.7368 & 14\\\\\n\t 2013 & 1 & 1 &  12 &  0 &  762 & 134 &  12 & 341.1940 & 341.1940 & 24\\\\\n\t 2013 & 1 & 1 &  -6 &  1 & 1023 & 147 &  -7 & 417.5510 & 417.5510 & 14\\\\\n\t 2013 & 1 & 1 &  -8 & -8 & 1020 & 170 &   0 & 360.0000 & 360.0000 &  0\\\\\n\t 2013 & 1 & 1 &  16 & -3 &  502 & 105 &  19 & 286.8571 & 286.8571 & 38\\\\\n\t 2013 & 1 & 1 & -12 & -4 & 1085 & 152 &  -8 & 428.2895 & 428.2895 & 16\\\\\n\t 2013 & 1 & 1 &  -8 & -4 &  760 & 128 &  -4 & 356.2500 & 356.2500 &  8\\\\\n\t 2013 & 1 & 1 & -17 &  0 & 1085 & 157 & -17 & 414.6497 & 414.6497 & 34\\\\\n\t 2013 & 1 & 1 &  32 &  8 &  719 & 139 &  24 & 310.3597 & 310.3597 & 48\\\\\n\t 2013 & 1 & 1 &  14 & 11 & 2586 & 366 &   3 & 423.9344 & 423.9344 &  6\\\\\n\t 2013 & 1 & 1 &   4 &  3 & 1074 & 175 &   1 & 368.2286 & 368.2286 &  2\\\\\n\t 2013 & 1 & 1 & -21 &  0 & 1598 & 182 & -21 & 526.8132 & 526.8132 & 42\\\\\n\t 2013 & 1 & 1 &  -9 &  0 &  746 & 120 &  -9 & 373.0000 & 373.0000 & 18\\\\\n\t ⋮ & ⋮ & ⋮ & ⋮ & ⋮ & ⋮ & ⋮ & ⋮ & ⋮ & ⋮ & ⋮\\\\\n\t 2013 & 9 & 30 & -24 &  -2 &  305 &  45 & -22 & 406.6667 & 406.6667 & 44\\\\\n\t 2013 & 9 & 30 &  -9 &  -2 &  529 &  72 &  -7 & 440.8333 & 440.8333 & 14\\\\\n\t 2013 & 9 & 30 & -31 &  -2 & 1626 & 213 & -29 & 458.0282 & 458.0282 & 58\\\\\n\t 2013 & 9 & 30 &  -2 &  30 &  292 &  45 & -32 & 389.3333 & 389.3333 & 64\\\\\n\t 2013 & 9 & 30 & -30 &  -9 &  213 &  36 & -21 & 355.0000 & 355.0000 & 42\\\\\n\t 2013 & 9 & 30 & -30 &   0 & 2475 & 298 & -30 & 498.3221 & 498.3221 & 60\\\\\n\t 2013 & 9 & 30 &  11 &  13 &  284 &  47 &  -2 & 362.5532 & 362.5532 &  4\\\\\n\t 2013 & 9 & 30 & -25 &   0 & 1598 & 192 & -25 & 499.3750 & 499.3750 & 50\\\\\n\t 2013 & 9 & 30 &   3 &  10 & 1076 & 139 &  -7 & 464.4604 & 464.4604 & 14\\\\\n\t 2013 & 9 & 30 & -23 &  -7 &  200 &  37 & -16 & 324.3243 & 324.3243 & 32\\\\\n\t 2013 & 9 & 30 & -16 &  -9 &  209 &  39 &  -7 & 321.5385 & 321.5385 & 14\\\\\n\t 2013 & 9 & 30 & 194 & 194 &  301 &  50 &   0 & 361.2000 & 361.2000 &  0\\\\\n\t 2013 & 9 & 30 &   8 &  -2 &  378 &  61 &  10 & 371.8033 & 371.8033 & 20\\\\\n\t 2013 & 9 & 30 &   7 &  27 &  764 &  97 & -20 & 472.5773 & 472.5773 & 40\\\\\n\t 2013 & 9 & 30 &  57 &  72 &  872 & 120 & -15 & 436.0000 & 436.0000 & 30\\\\\n\t 2013 & 9 & 30 & -21 & -14 &  273 &  48 &  -7 & 341.2500 & 341.2500 & 14\\\\\n\t 2013 & 9 & 30 &  42 &  80 & 2565 & 318 & -38 & 483.9623 & 483.9623 & 76\\\\\n\t 2013 & 9 & 30 & 130 & 154 &  944 & 123 & -24 & 460.4878 & 460.4878 & 48\\\\\n\t 2013 & 9 & 30 &  -8 &  -8 &  266 &  43 &   0 & 371.1628 & 371.1628 &  0\\\\\n\t 2013 & 9 & 30 & -17 &  -5 &  209 &  41 & -12 & 305.8537 & 305.8537 & 24\\\\\n\t 2013 & 9 & 30 & -20 & -10 &  301 &  52 & -10 & 347.3077 & 347.3077 & 20\\\\\n\t 2013 & 9 & 30 & -16 &  -5 &  264 &  47 & -11 & 337.0213 & 337.0213 & 22\\\\\n\t 2013 & 9 & 30 &   1 &  12 &  187 &  33 & -11 & 340.0000 & 340.0000 & 22\\\\\n\t 2013 & 9 & 30 & -25 & -10 & 1617 & 196 & -15 & 495.0000 & 495.0000 & 30\\\\\n\t 2013 & 9 & 30 &  NA &  NA &  764 &  NA &  NA &       NA &       NA & NA\\\\\n\t 2013 & 9 & 30 &  NA &  NA &  213 &  NA &  NA &       NA &       NA & NA\\\\\n\t 2013 & 9 & 30 &  NA &  NA &  198 &  NA &  NA &       NA &       NA & NA\\\\\n\t 2013 & 9 & 30 &  NA &  NA &  764 &  NA &  NA &       NA &       NA & NA\\\\\n\t 2013 & 9 & 30 &  NA &  NA &  419 &  NA &  NA &       NA &       NA & NA\\\\\n\t 2013 & 9 & 30 &  NA &  NA &  431 &  NA &  NA &       NA &       NA & NA\\\\\n\\end{tabular}\n",
            "text/plain": [
              "       anio mes day arr_delay dep_delay distance air_time gain speed   \n",
              "1      2013 1   1    11        2        1400     227        9  370.0441\n",
              "2      2013 1   1    20        4        1416     227       16  374.2731\n",
              "3      2013 1   1    33        2        1089     160       31  408.3750\n",
              "4      2013 1   1   -18       -1        1576     183      -17  516.7213\n",
              "5      2013 1   1   -25       -6         762     116      -19  394.1379\n",
              "6      2013 1   1    12       -4         719     150       16  287.6000\n",
              "7      2013 1   1    19       -5        1065     158       24  404.4304\n",
              "8      2013 1   1   -14       -3         229      53      -11  259.2453\n",
              "9      2013 1   1    -8       -3         944     140       -5  404.5714\n",
              "10     2013 1   1     8       -2         733     138       10  318.6957\n",
              "11     2013 1   1    -2       -2        1028     149        0  413.9597\n",
              "12     2013 1   1    -3       -2        1005     158       -1  381.6456\n",
              "13     2013 1   1     7       -2        2475     345        9  430.4348\n",
              "14     2013 1   1   -14       -2        2565     361      -12  426.3158\n",
              "15     2013 1   1    31       -1        1389     257       32  324.2802\n",
              "16     2013 1   1    -4        0         187      44       -4  255.0000\n",
              "17     2013 1   1    -8       -1        2227     337       -7  396.4985\n",
              "18     2013 1   1    -7        0        1076     152       -7  424.7368\n",
              "19     2013 1   1    12        0         762     134       12  341.1940\n",
              "20     2013 1   1    -6        1        1023     147       -7  417.5510\n",
              "21     2013 1   1    -8       -8        1020     170        0  360.0000\n",
              "22     2013 1   1    16       -3         502     105       19  286.8571\n",
              "23     2013 1   1   -12       -4        1085     152       -8  428.2895\n",
              "24     2013 1   1    -8       -4         760     128       -4  356.2500\n",
              "25     2013 1   1   -17        0        1085     157      -17  414.6497\n",
              "26     2013 1   1    32        8         719     139       24  310.3597\n",
              "27     2013 1   1    14       11        2586     366        3  423.9344\n",
              "28     2013 1   1     4        3        1074     175        1  368.2286\n",
              "29     2013 1   1   -21        0        1598     182      -21  526.8132\n",
              "30     2013 1   1    -9        0         746     120       -9  373.0000\n",
              "⋮      ⋮    ⋮   ⋮   ⋮         ⋮         ⋮        ⋮        ⋮    ⋮       \n",
              "336747 2013 9   30  -24        -2        305      45      -22  406.6667\n",
              "336748 2013 9   30   -9        -2        529      72       -7  440.8333\n",
              "336749 2013 9   30  -31        -2       1626     213      -29  458.0282\n",
              "336750 2013 9   30   -2        30        292      45      -32  389.3333\n",
              "336751 2013 9   30  -30        -9        213      36      -21  355.0000\n",
              "336752 2013 9   30  -30         0       2475     298      -30  498.3221\n",
              "336753 2013 9   30   11        13        284      47       -2  362.5532\n",
              "336754 2013 9   30  -25         0       1598     192      -25  499.3750\n",
              "336755 2013 9   30    3        10       1076     139       -7  464.4604\n",
              "336756 2013 9   30  -23        -7        200      37      -16  324.3243\n",
              "336757 2013 9   30  -16        -9        209      39       -7  321.5385\n",
              "336758 2013 9   30  194       194        301      50        0  361.2000\n",
              "336759 2013 9   30    8        -2        378      61       10  371.8033\n",
              "336760 2013 9   30    7        27        764      97      -20  472.5773\n",
              "336761 2013 9   30   57        72        872     120      -15  436.0000\n",
              "336762 2013 9   30  -21       -14        273      48       -7  341.2500\n",
              "336763 2013 9   30   42        80       2565     318      -38  483.9623\n",
              "336764 2013 9   30  130       154        944     123      -24  460.4878\n",
              "336765 2013 9   30   -8        -8        266      43        0  371.1628\n",
              "336766 2013 9   30  -17        -5        209      41      -12  305.8537\n",
              "336767 2013 9   30  -20       -10        301      52      -10  347.3077\n",
              "336768 2013 9   30  -16        -5        264      47      -11  337.0213\n",
              "336769 2013 9   30    1        12        187      33      -11  340.0000\n",
              "336770 2013 9   30  -25       -10       1617     196      -15  495.0000\n",
              "336771 2013 9   30   NA        NA        764      NA       NA        NA\n",
              "336772 2013 9   30   NA        NA        213      NA       NA        NA\n",
              "336773 2013 9   30   NA        NA        198      NA       NA        NA\n",
              "336774 2013 9   30   NA        NA        764      NA       NA        NA\n",
              "336775 2013 9   30   NA        NA        419      NA       NA        NA\n",
              "336776 2013 9   30   NA        NA        431      NA       NA        NA\n",
              "       speed2   gain_abs\n",
              "1      370.0441 18      \n",
              "2      374.2731 32      \n",
              "3      408.3750 62      \n",
              "4      516.7213 34      \n",
              "5      394.1379 38      \n",
              "6      287.6000 32      \n",
              "7      404.4304 48      \n",
              "8      259.2453 22      \n",
              "9      404.5714 10      \n",
              "10     318.6957 20      \n",
              "11     413.9597  0      \n",
              "12     381.6456  2      \n",
              "13     430.4348 18      \n",
              "14     426.3158 24      \n",
              "15     324.2802 64      \n",
              "16     255.0000  8      \n",
              "17     396.4985 14      \n",
              "18     424.7368 14      \n",
              "19     341.1940 24      \n",
              "20     417.5510 14      \n",
              "21     360.0000  0      \n",
              "22     286.8571 38      \n",
              "23     428.2895 16      \n",
              "24     356.2500  8      \n",
              "25     414.6497 34      \n",
              "26     310.3597 48      \n",
              "27     423.9344  6      \n",
              "28     368.2286  2      \n",
              "29     526.8132 42      \n",
              "30     373.0000 18      \n",
              "⋮      ⋮        ⋮       \n",
              "336747 406.6667 44      \n",
              "336748 440.8333 14      \n",
              "336749 458.0282 58      \n",
              "336750 389.3333 64      \n",
              "336751 355.0000 42      \n",
              "336752 498.3221 60      \n",
              "336753 362.5532  4      \n",
              "336754 499.3750 50      \n",
              "336755 464.4604 14      \n",
              "336756 324.3243 32      \n",
              "336757 321.5385 14      \n",
              "336758 361.2000  0      \n",
              "336759 371.8033 20      \n",
              "336760 472.5773 40      \n",
              "336761 436.0000 30      \n",
              "336762 341.2500 14      \n",
              "336763 483.9623 76      \n",
              "336764 460.4878 48      \n",
              "336765 371.1628  0      \n",
              "336766 305.8537 24      \n",
              "336767 347.3077 20      \n",
              "336768 337.0213 22      \n",
              "336769 340.0000 22      \n",
              "336770 495.0000 30      \n",
              "336771       NA NA      \n",
              "336772       NA NA      \n",
              "336773       NA NA      \n",
              "336774       NA NA      \n",
              "336775       NA NA      \n",
              "336776       NA NA      "
            ]
          },
          "metadata": {}
        }
      ]
    },
    {
      "cell_type": "code",
      "source": [
        "# si hacemos persistente el cambio\n",
        "muestra_fl <- mutate(muestra_fl, gain_abs = gain_abs*2)\n",
        "head(muestra_fl)"
      ],
      "metadata": {
        "id": "S1Y__TjejWq_",
        "outputId": "b597a312-84a1-4fdf-9dc1-6969c8839266",
        "colab": {
          "base_uri": "https://localhost:8080/",
          "height": 286
        }
      },
      "execution_count": null,
      "outputs": [
        {
          "output_type": "display_data",
          "data": {
            "text/html": [
              "<table class=\"dataframe\">\n",
              "<caption>A data.frame: 6 × 11</caption>\n",
              "<thead>\n",
              "\t<tr><th></th><th scope=col>anio</th><th scope=col>mes</th><th scope=col>day</th><th scope=col>arr_delay</th><th scope=col>dep_delay</th><th scope=col>distance</th><th scope=col>air_time</th><th scope=col>gain</th><th scope=col>speed</th><th scope=col>speed2</th><th scope=col>gain_abs</th></tr>\n",
              "\t<tr><th></th><th scope=col>&lt;int&gt;</th><th scope=col>&lt;int&gt;</th><th scope=col>&lt;int&gt;</th><th scope=col>&lt;int&gt;</th><th scope=col>&lt;int&gt;</th><th scope=col>&lt;int&gt;</th><th scope=col>&lt;int&gt;</th><th scope=col>&lt;int&gt;</th><th scope=col>&lt;dbl&gt;</th><th scope=col>&lt;dbl&gt;</th><th scope=col>&lt;dbl&gt;</th></tr>\n",
              "</thead>\n",
              "<tbody>\n",
              "\t<tr><th scope=row>1</th><td>2013</td><td>1</td><td>1</td><td> 11</td><td> 2</td><td>1400</td><td>227</td><td>  9</td><td>370.0441</td><td>370.0441</td><td>18</td></tr>\n",
              "\t<tr><th scope=row>2</th><td>2013</td><td>1</td><td>1</td><td> 20</td><td> 4</td><td>1416</td><td>227</td><td> 16</td><td>374.2731</td><td>374.2731</td><td>32</td></tr>\n",
              "\t<tr><th scope=row>3</th><td>2013</td><td>1</td><td>1</td><td> 33</td><td> 2</td><td>1089</td><td>160</td><td> 31</td><td>408.3750</td><td>408.3750</td><td>62</td></tr>\n",
              "\t<tr><th scope=row>4</th><td>2013</td><td>1</td><td>1</td><td>-18</td><td>-1</td><td>1576</td><td>183</td><td>-17</td><td>516.7213</td><td>516.7213</td><td>34</td></tr>\n",
              "\t<tr><th scope=row>5</th><td>2013</td><td>1</td><td>1</td><td>-25</td><td>-6</td><td> 762</td><td>116</td><td>-19</td><td>394.1379</td><td>394.1379</td><td>38</td></tr>\n",
              "\t<tr><th scope=row>6</th><td>2013</td><td>1</td><td>1</td><td> 12</td><td>-4</td><td> 719</td><td>150</td><td> 16</td><td>287.6000</td><td>287.6000</td><td>32</td></tr>\n",
              "</tbody>\n",
              "</table>\n"
            ],
            "text/markdown": "\nA data.frame: 6 × 11\n\n| <!--/--> | anio &lt;int&gt; | mes &lt;int&gt; | day &lt;int&gt; | arr_delay &lt;int&gt; | dep_delay &lt;int&gt; | distance &lt;int&gt; | air_time &lt;int&gt; | gain &lt;int&gt; | speed &lt;dbl&gt; | speed2 &lt;dbl&gt; | gain_abs &lt;dbl&gt; |\n|---|---|---|---|---|---|---|---|---|---|---|---|\n| 1 | 2013 | 1 | 1 |  11 |  2 | 1400 | 227 |   9 | 370.0441 | 370.0441 | 18 |\n| 2 | 2013 | 1 | 1 |  20 |  4 | 1416 | 227 |  16 | 374.2731 | 374.2731 | 32 |\n| 3 | 2013 | 1 | 1 |  33 |  2 | 1089 | 160 |  31 | 408.3750 | 408.3750 | 62 |\n| 4 | 2013 | 1 | 1 | -18 | -1 | 1576 | 183 | -17 | 516.7213 | 516.7213 | 34 |\n| 5 | 2013 | 1 | 1 | -25 | -6 |  762 | 116 | -19 | 394.1379 | 394.1379 | 38 |\n| 6 | 2013 | 1 | 1 |  12 | -4 |  719 | 150 |  16 | 287.6000 | 287.6000 | 32 |\n\n",
            "text/latex": "A data.frame: 6 × 11\n\\begin{tabular}{r|lllllllllll}\n  & anio & mes & day & arr\\_delay & dep\\_delay & distance & air\\_time & gain & speed & speed2 & gain\\_abs\\\\\n  & <int> & <int> & <int> & <int> & <int> & <int> & <int> & <int> & <dbl> & <dbl> & <dbl>\\\\\n\\hline\n\t1 & 2013 & 1 & 1 &  11 &  2 & 1400 & 227 &   9 & 370.0441 & 370.0441 & 18\\\\\n\t2 & 2013 & 1 & 1 &  20 &  4 & 1416 & 227 &  16 & 374.2731 & 374.2731 & 32\\\\\n\t3 & 2013 & 1 & 1 &  33 &  2 & 1089 & 160 &  31 & 408.3750 & 408.3750 & 62\\\\\n\t4 & 2013 & 1 & 1 & -18 & -1 & 1576 & 183 & -17 & 516.7213 & 516.7213 & 34\\\\\n\t5 & 2013 & 1 & 1 & -25 & -6 &  762 & 116 & -19 & 394.1379 & 394.1379 & 38\\\\\n\t6 & 2013 & 1 & 1 &  12 & -4 &  719 & 150 &  16 & 287.6000 & 287.6000 & 32\\\\\n\\end{tabular}\n",
            "text/plain": [
              "  anio mes day arr_delay dep_delay distance air_time gain speed    speed2  \n",
              "1 2013 1   1    11        2        1400     227        9  370.0441 370.0441\n",
              "2 2013 1   1    20        4        1416     227       16  374.2731 374.2731\n",
              "3 2013 1   1    33        2        1089     160       31  408.3750 408.3750\n",
              "4 2013 1   1   -18       -1        1576     183      -17  516.7213 516.7213\n",
              "5 2013 1   1   -25       -6         762     116      -19  394.1379 394.1379\n",
              "6 2013 1   1    12       -4         719     150       16  287.6000 287.6000\n",
              "  gain_abs\n",
              "1 18      \n",
              "2 32      \n",
              "3 62      \n",
              "4 34      \n",
              "5 38      \n",
              "6 32      "
            ]
          },
          "metadata": {}
        }
      ]
    },
    {
      "cell_type": "markdown",
      "metadata": {
        "id": "wk8Qt1ICRPy4"
      },
      "source": [
        "### Operador %>% (|>)\n",
        "\n",
        "El operador estrella de dplyr. Funciona como una composición de funciones, y nos permite generar _pipe-lines_, permitiendo  que la generación  del código sea más ordenada, y con ello, su lectura más sencilla.\n",
        "\n",
        "Este operdaor actua de la sifuiente manera, <br>\n",
        "\n",
        "    x %>% f(y) , es equivalente a,  f(x,y)\n",
        "    x |> f(y) , es equivalente a,  f(x,y)\n",
        "\n"
      ]
    },
    {
      "cell_type": "code",
      "metadata": {
        "trusted": true,
        "id": "8s1tOO0RRPy4",
        "colab": {
          "base_uri": "https://localhost:8080/",
          "height": 778
        },
        "outputId": "f610fee3-94aa-4f93-ec14-6dfc8d290d0d"
      },
      "source": [
        "# Operador %>% ----------------------------------------------------------------\n",
        "# Ejemplo sencillo\n",
        "\n",
        "# head(vuelos,10)\n",
        "\n",
        "\n",
        "# Utilizando %>%\n",
        "vuelos %>% head(10)\n",
        "\n"
      ],
      "execution_count": null,
      "outputs": [
        {
          "output_type": "display_data",
          "data": {
            "text/html": [
              "<table class=\"dataframe\">\n",
              "<caption>A data.frame: 10 × 21</caption>\n",
              "<thead>\n",
              "\t<tr><th></th><th scope=col>anio</th><th scope=col>mes</th><th scope=col>day</th><th scope=col>dep_time</th><th scope=col>sched_dep_time</th><th scope=col>dep_delay</th><th scope=col>arr_time</th><th scope=col>sched_arr_time</th><th scope=col>arr_delay</th><th scope=col>carrier</th><th scope=col>⋯</th><th scope=col>tailnum</th><th scope=col>origin</th><th scope=col>dest</th><th scope=col>air_time</th><th scope=col>distance</th><th scope=col>hour</th><th scope=col>minute</th><th scope=col>time_hour</th><th scope=col>retraso_neto</th><th scope=col>retraso_neto2</th></tr>\n",
              "\t<tr><th></th><th scope=col>&lt;int&gt;</th><th scope=col>&lt;int&gt;</th><th scope=col>&lt;int&gt;</th><th scope=col>&lt;int&gt;</th><th scope=col>&lt;int&gt;</th><th scope=col>&lt;int&gt;</th><th scope=col>&lt;int&gt;</th><th scope=col>&lt;int&gt;</th><th scope=col>&lt;int&gt;</th><th scope=col>&lt;chr&gt;</th><th scope=col>⋯</th><th scope=col>&lt;chr&gt;</th><th scope=col>&lt;chr&gt;</th><th scope=col>&lt;chr&gt;</th><th scope=col>&lt;int&gt;</th><th scope=col>&lt;int&gt;</th><th scope=col>&lt;int&gt;</th><th scope=col>&lt;int&gt;</th><th scope=col>&lt;chr&gt;</th><th scope=col>&lt;int&gt;</th><th scope=col>&lt;int&gt;</th></tr>\n",
              "</thead>\n",
              "<tbody>\n",
              "\t<tr><th scope=row>1</th><td>2013</td><td>1</td><td>1</td><td>517</td><td>515</td><td> 2</td><td> 830</td><td> 819</td><td> 11</td><td>UA</td><td>⋯</td><td>N14228</td><td>EWR</td><td>IAH</td><td>227</td><td>1400</td><td>5</td><td>15</td><td>2013-01-01 05:00:00</td><td> 13</td><td> 13</td></tr>\n",
              "\t<tr><th scope=row>2</th><td>2013</td><td>1</td><td>1</td><td>533</td><td>529</td><td> 4</td><td> 850</td><td> 830</td><td> 20</td><td>UA</td><td>⋯</td><td>N24211</td><td>LGA</td><td>IAH</td><td>227</td><td>1416</td><td>5</td><td>29</td><td>2013-01-01 05:00:00</td><td> 24</td><td> 24</td></tr>\n",
              "\t<tr><th scope=row>3</th><td>2013</td><td>1</td><td>1</td><td>542</td><td>540</td><td> 2</td><td> 923</td><td> 850</td><td> 33</td><td>AA</td><td>⋯</td><td>N619AA</td><td>JFK</td><td>MIA</td><td>160</td><td>1089</td><td>5</td><td>40</td><td>2013-01-01 05:00:00</td><td> 35</td><td> 35</td></tr>\n",
              "\t<tr><th scope=row>4</th><td>2013</td><td>1</td><td>1</td><td>544</td><td>545</td><td>-1</td><td>1004</td><td>1022</td><td>-18</td><td>B6</td><td>⋯</td><td>N804JB</td><td>JFK</td><td>BQN</td><td>183</td><td>1576</td><td>5</td><td>45</td><td>2013-01-01 05:00:00</td><td>-19</td><td>-19</td></tr>\n",
              "\t<tr><th scope=row>5</th><td>2013</td><td>1</td><td>1</td><td>554</td><td>600</td><td>-6</td><td> 812</td><td> 837</td><td>-25</td><td>DL</td><td>⋯</td><td>N668DN</td><td>LGA</td><td>ATL</td><td>116</td><td> 762</td><td>6</td><td> 0</td><td>2013-01-01 06:00:00</td><td>-31</td><td>-31</td></tr>\n",
              "\t<tr><th scope=row>6</th><td>2013</td><td>1</td><td>1</td><td>554</td><td>558</td><td>-4</td><td> 740</td><td> 728</td><td> 12</td><td>UA</td><td>⋯</td><td>N39463</td><td>EWR</td><td>ORD</td><td>150</td><td> 719</td><td>5</td><td>58</td><td>2013-01-01 05:00:00</td><td>  8</td><td>  8</td></tr>\n",
              "\t<tr><th scope=row>7</th><td>2013</td><td>1</td><td>1</td><td>555</td><td>600</td><td>-5</td><td> 913</td><td> 854</td><td> 19</td><td>B6</td><td>⋯</td><td>N516JB</td><td>EWR</td><td>FLL</td><td>158</td><td>1065</td><td>6</td><td> 0</td><td>2013-01-01 06:00:00</td><td> 14</td><td> 14</td></tr>\n",
              "\t<tr><th scope=row>8</th><td>2013</td><td>1</td><td>1</td><td>557</td><td>600</td><td>-3</td><td> 709</td><td> 723</td><td>-14</td><td>EV</td><td>⋯</td><td>N829AS</td><td>LGA</td><td>IAD</td><td> 53</td><td> 229</td><td>6</td><td> 0</td><td>2013-01-01 06:00:00</td><td>-17</td><td>-17</td></tr>\n",
              "\t<tr><th scope=row>9</th><td>2013</td><td>1</td><td>1</td><td>557</td><td>600</td><td>-3</td><td> 838</td><td> 846</td><td> -8</td><td>B6</td><td>⋯</td><td>N593JB</td><td>JFK</td><td>MCO</td><td>140</td><td> 944</td><td>6</td><td> 0</td><td>2013-01-01 06:00:00</td><td>-11</td><td>-11</td></tr>\n",
              "\t<tr><th scope=row>10</th><td>2013</td><td>1</td><td>1</td><td>558</td><td>600</td><td>-2</td><td> 753</td><td> 745</td><td>  8</td><td>AA</td><td>⋯</td><td>N3ALAA</td><td>LGA</td><td>ORD</td><td>138</td><td> 733</td><td>6</td><td> 0</td><td>2013-01-01 06:00:00</td><td>  6</td><td>  6</td></tr>\n",
              "</tbody>\n",
              "</table>\n"
            ],
            "text/markdown": "\nA data.frame: 10 × 21\n\n| <!--/--> | anio &lt;int&gt; | mes &lt;int&gt; | day &lt;int&gt; | dep_time &lt;int&gt; | sched_dep_time &lt;int&gt; | dep_delay &lt;int&gt; | arr_time &lt;int&gt; | sched_arr_time &lt;int&gt; | arr_delay &lt;int&gt; | carrier &lt;chr&gt; | ⋯ ⋯ | tailnum &lt;chr&gt; | origin &lt;chr&gt; | dest &lt;chr&gt; | air_time &lt;int&gt; | distance &lt;int&gt; | hour &lt;int&gt; | minute &lt;int&gt; | time_hour &lt;chr&gt; | retraso_neto &lt;int&gt; | retraso_neto2 &lt;int&gt; |\n|---|---|---|---|---|---|---|---|---|---|---|---|---|---|---|---|---|---|---|---|---|---|\n| 1 | 2013 | 1 | 1 | 517 | 515 |  2 |  830 |  819 |  11 | UA | ⋯ | N14228 | EWR | IAH | 227 | 1400 | 5 | 15 | 2013-01-01 05:00:00 |  13 |  13 |\n| 2 | 2013 | 1 | 1 | 533 | 529 |  4 |  850 |  830 |  20 | UA | ⋯ | N24211 | LGA | IAH | 227 | 1416 | 5 | 29 | 2013-01-01 05:00:00 |  24 |  24 |\n| 3 | 2013 | 1 | 1 | 542 | 540 |  2 |  923 |  850 |  33 | AA | ⋯ | N619AA | JFK | MIA | 160 | 1089 | 5 | 40 | 2013-01-01 05:00:00 |  35 |  35 |\n| 4 | 2013 | 1 | 1 | 544 | 545 | -1 | 1004 | 1022 | -18 | B6 | ⋯ | N804JB | JFK | BQN | 183 | 1576 | 5 | 45 | 2013-01-01 05:00:00 | -19 | -19 |\n| 5 | 2013 | 1 | 1 | 554 | 600 | -6 |  812 |  837 | -25 | DL | ⋯ | N668DN | LGA | ATL | 116 |  762 | 6 |  0 | 2013-01-01 06:00:00 | -31 | -31 |\n| 6 | 2013 | 1 | 1 | 554 | 558 | -4 |  740 |  728 |  12 | UA | ⋯ | N39463 | EWR | ORD | 150 |  719 | 5 | 58 | 2013-01-01 05:00:00 |   8 |   8 |\n| 7 | 2013 | 1 | 1 | 555 | 600 | -5 |  913 |  854 |  19 | B6 | ⋯ | N516JB | EWR | FLL | 158 | 1065 | 6 |  0 | 2013-01-01 06:00:00 |  14 |  14 |\n| 8 | 2013 | 1 | 1 | 557 | 600 | -3 |  709 |  723 | -14 | EV | ⋯ | N829AS | LGA | IAD |  53 |  229 | 6 |  0 | 2013-01-01 06:00:00 | -17 | -17 |\n| 9 | 2013 | 1 | 1 | 557 | 600 | -3 |  838 |  846 |  -8 | B6 | ⋯ | N593JB | JFK | MCO | 140 |  944 | 6 |  0 | 2013-01-01 06:00:00 | -11 | -11 |\n| 10 | 2013 | 1 | 1 | 558 | 600 | -2 |  753 |  745 |   8 | AA | ⋯ | N3ALAA | LGA | ORD | 138 |  733 | 6 |  0 | 2013-01-01 06:00:00 |   6 |   6 |\n\n",
            "text/latex": "A data.frame: 10 × 21\n\\begin{tabular}{r|lllllllllllllllllllll}\n  & anio & mes & day & dep\\_time & sched\\_dep\\_time & dep\\_delay & arr\\_time & sched\\_arr\\_time & arr\\_delay & carrier & ⋯ & tailnum & origin & dest & air\\_time & distance & hour & minute & time\\_hour & retraso\\_neto & retraso\\_neto2\\\\\n  & <int> & <int> & <int> & <int> & <int> & <int> & <int> & <int> & <int> & <chr> & ⋯ & <chr> & <chr> & <chr> & <int> & <int> & <int> & <int> & <chr> & <int> & <int>\\\\\n\\hline\n\t1 & 2013 & 1 & 1 & 517 & 515 &  2 &  830 &  819 &  11 & UA & ⋯ & N14228 & EWR & IAH & 227 & 1400 & 5 & 15 & 2013-01-01 05:00:00 &  13 &  13\\\\\n\t2 & 2013 & 1 & 1 & 533 & 529 &  4 &  850 &  830 &  20 & UA & ⋯ & N24211 & LGA & IAH & 227 & 1416 & 5 & 29 & 2013-01-01 05:00:00 &  24 &  24\\\\\n\t3 & 2013 & 1 & 1 & 542 & 540 &  2 &  923 &  850 &  33 & AA & ⋯ & N619AA & JFK & MIA & 160 & 1089 & 5 & 40 & 2013-01-01 05:00:00 &  35 &  35\\\\\n\t4 & 2013 & 1 & 1 & 544 & 545 & -1 & 1004 & 1022 & -18 & B6 & ⋯ & N804JB & JFK & BQN & 183 & 1576 & 5 & 45 & 2013-01-01 05:00:00 & -19 & -19\\\\\n\t5 & 2013 & 1 & 1 & 554 & 600 & -6 &  812 &  837 & -25 & DL & ⋯ & N668DN & LGA & ATL & 116 &  762 & 6 &  0 & 2013-01-01 06:00:00 & -31 & -31\\\\\n\t6 & 2013 & 1 & 1 & 554 & 558 & -4 &  740 &  728 &  12 & UA & ⋯ & N39463 & EWR & ORD & 150 &  719 & 5 & 58 & 2013-01-01 05:00:00 &   8 &   8\\\\\n\t7 & 2013 & 1 & 1 & 555 & 600 & -5 &  913 &  854 &  19 & B6 & ⋯ & N516JB & EWR & FLL & 158 & 1065 & 6 &  0 & 2013-01-01 06:00:00 &  14 &  14\\\\\n\t8 & 2013 & 1 & 1 & 557 & 600 & -3 &  709 &  723 & -14 & EV & ⋯ & N829AS & LGA & IAD &  53 &  229 & 6 &  0 & 2013-01-01 06:00:00 & -17 & -17\\\\\n\t9 & 2013 & 1 & 1 & 557 & 600 & -3 &  838 &  846 &  -8 & B6 & ⋯ & N593JB & JFK & MCO & 140 &  944 & 6 &  0 & 2013-01-01 06:00:00 & -11 & -11\\\\\n\t10 & 2013 & 1 & 1 & 558 & 600 & -2 &  753 &  745 &   8 & AA & ⋯ & N3ALAA & LGA & ORD & 138 &  733 & 6 &  0 & 2013-01-01 06:00:00 &   6 &   6\\\\\n\\end{tabular}\n",
            "text/plain": [
              "   anio mes day dep_time sched_dep_time dep_delay arr_time sched_arr_time\n",
              "1  2013 1   1   517      515             2         830      819          \n",
              "2  2013 1   1   533      529             4         850      830          \n",
              "3  2013 1   1   542      540             2         923      850          \n",
              "4  2013 1   1   544      545            -1        1004     1022          \n",
              "5  2013 1   1   554      600            -6         812      837          \n",
              "6  2013 1   1   554      558            -4         740      728          \n",
              "7  2013 1   1   555      600            -5         913      854          \n",
              "8  2013 1   1   557      600            -3         709      723          \n",
              "9  2013 1   1   557      600            -3         838      846          \n",
              "10 2013 1   1   558      600            -2         753      745          \n",
              "   arr_delay carrier ⋯ tailnum origin dest air_time distance hour minute\n",
              "1   11       UA      ⋯ N14228  EWR    IAH  227      1400     5    15    \n",
              "2   20       UA      ⋯ N24211  LGA    IAH  227      1416     5    29    \n",
              "3   33       AA      ⋯ N619AA  JFK    MIA  160      1089     5    40    \n",
              "4  -18       B6      ⋯ N804JB  JFK    BQN  183      1576     5    45    \n",
              "5  -25       DL      ⋯ N668DN  LGA    ATL  116       762     6     0    \n",
              "6   12       UA      ⋯ N39463  EWR    ORD  150       719     5    58    \n",
              "7   19       B6      ⋯ N516JB  EWR    FLL  158      1065     6     0    \n",
              "8  -14       EV      ⋯ N829AS  LGA    IAD   53       229     6     0    \n",
              "9   -8       B6      ⋯ N593JB  JFK    MCO  140       944     6     0    \n",
              "10   8       AA      ⋯ N3ALAA  LGA    ORD  138       733     6     0    \n",
              "   time_hour           retraso_neto retraso_neto2\n",
              "1  2013-01-01 05:00:00  13           13          \n",
              "2  2013-01-01 05:00:00  24           24          \n",
              "3  2013-01-01 05:00:00  35           35          \n",
              "4  2013-01-01 05:00:00 -19          -19          \n",
              "5  2013-01-01 06:00:00 -31          -31          \n",
              "6  2013-01-01 05:00:00   8            8          \n",
              "7  2013-01-01 06:00:00  14           14          \n",
              "8  2013-01-01 06:00:00 -17          -17          \n",
              "9  2013-01-01 06:00:00 -11          -11          \n",
              "10 2013-01-01 06:00:00   6            6          "
            ]
          },
          "metadata": {}
        }
      ]
    },
    {
      "cell_type": "code",
      "metadata": {
        "trusted": true,
        "id": "6nBWGFwsRPy6",
        "colab": {
          "base_uri": "https://localhost:8080/",
          "height": 411
        },
        "outputId": "0711994a-1ed0-42ae-81fc-7cda16d575c2"
      },
      "source": [
        "# Genere el conteo de vuelos por mes y día,\n",
        "# (NUEVO) Agregar una columna con el máximo de vuelos registrados en algun dia en una col llamad max_vuelos\n",
        "# luego filtre por aquellos registros donde el día es 1,\n",
        "# ordene de manera descendente por n,\n",
        "# finalmente muestra la cabecera del dataset resultante con 10 registros.\n",
        "\n",
        "## ANTES\n",
        "head(arrange(filter(mutate(count(vuelos, mes, day), max_vuelos = max(n)), day == 1),desc(n)),10)\n"
      ],
      "execution_count": null,
      "outputs": [
        {
          "output_type": "display_data",
          "data": {
            "text/html": [
              "<table class=\"dataframe\">\n",
              "<caption>A data.frame: 10 × 4</caption>\n",
              "<thead>\n",
              "\t<tr><th></th><th scope=col>mes</th><th scope=col>day</th><th scope=col>n</th><th scope=col>max_vuelos</th></tr>\n",
              "\t<tr><th></th><th scope=col>&lt;int&gt;</th><th scope=col>&lt;int&gt;</th><th scope=col>&lt;int&gt;</th><th scope=col>&lt;int&gt;</th></tr>\n",
              "</thead>\n",
              "<tbody>\n",
              "\t<tr><th scope=row>1</th><td> 8</td><td>1</td><td>1000</td><td>1014</td></tr>\n",
              "\t<tr><th scope=row>2</th><td>12</td><td>1</td><td> 987</td><td>1014</td></tr>\n",
              "\t<tr><th scope=row>3</th><td>11</td><td>1</td><td> 986</td><td>1014</td></tr>\n",
              "\t<tr><th scope=row>4</th><td> 4</td><td>1</td><td> 970</td><td>1014</td></tr>\n",
              "\t<tr><th scope=row>5</th><td> 7</td><td>1</td><td> 966</td><td>1014</td></tr>\n",
              "\t<tr><th scope=row>6</th><td>10</td><td>1</td><td> 965</td><td>1014</td></tr>\n",
              "\t<tr><th scope=row>7</th><td> 5</td><td>1</td><td> 964</td><td>1014</td></tr>\n",
              "\t<tr><th scope=row>8</th><td> 3</td><td>1</td><td> 958</td><td>1014</td></tr>\n",
              "\t<tr><th scope=row>9</th><td> 2</td><td>1</td><td> 926</td><td>1014</td></tr>\n",
              "\t<tr><th scope=row>10</th><td> 1</td><td>1</td><td> 842</td><td>1014</td></tr>\n",
              "</tbody>\n",
              "</table>\n"
            ],
            "text/markdown": "\nA data.frame: 10 × 4\n\n| <!--/--> | mes &lt;int&gt; | day &lt;int&gt; | n &lt;int&gt; | max_vuelos &lt;int&gt; |\n|---|---|---|---|---|\n| 1 |  8 | 1 | 1000 | 1014 |\n| 2 | 12 | 1 |  987 | 1014 |\n| 3 | 11 | 1 |  986 | 1014 |\n| 4 |  4 | 1 |  970 | 1014 |\n| 5 |  7 | 1 |  966 | 1014 |\n| 6 | 10 | 1 |  965 | 1014 |\n| 7 |  5 | 1 |  964 | 1014 |\n| 8 |  3 | 1 |  958 | 1014 |\n| 9 |  2 | 1 |  926 | 1014 |\n| 10 |  1 | 1 |  842 | 1014 |\n\n",
            "text/latex": "A data.frame: 10 × 4\n\\begin{tabular}{r|llll}\n  & mes & day & n & max\\_vuelos\\\\\n  & <int> & <int> & <int> & <int>\\\\\n\\hline\n\t1 &  8 & 1 & 1000 & 1014\\\\\n\t2 & 12 & 1 &  987 & 1014\\\\\n\t3 & 11 & 1 &  986 & 1014\\\\\n\t4 &  4 & 1 &  970 & 1014\\\\\n\t5 &  7 & 1 &  966 & 1014\\\\\n\t6 & 10 & 1 &  965 & 1014\\\\\n\t7 &  5 & 1 &  964 & 1014\\\\\n\t8 &  3 & 1 &  958 & 1014\\\\\n\t9 &  2 & 1 &  926 & 1014\\\\\n\t10 &  1 & 1 &  842 & 1014\\\\\n\\end{tabular}\n",
            "text/plain": [
              "   mes day n    max_vuelos\n",
              "1   8  1   1000 1014      \n",
              "2  12  1    987 1014      \n",
              "3  11  1    986 1014      \n",
              "4   4  1    970 1014      \n",
              "5   7  1    966 1014      \n",
              "6  10  1    965 1014      \n",
              "7   5  1    964 1014      \n",
              "8   3  1    958 1014      \n",
              "9   2  1    926 1014      \n",
              "10  1  1    842 1014      "
            ]
          },
          "metadata": {}
        }
      ]
    },
    {
      "cell_type": "code",
      "metadata": {
        "trusted": true,
        "id": "Hckg9wkGRPy8",
        "colab": {
          "base_uri": "https://localhost:8080/",
          "height": 411
        },
        "outputId": "b4cc8534-d14b-463a-b161-002e33aced70"
      },
      "source": [
        "# Genere el conteo de vuelos por mes y día,\n",
        "# (NUEVO) Agregar una columna con el máximo de vuelos registrados en algun dia en una col llamad max_vuelos\n",
        "# luego filtre por aquellos registros donde el día es 1,\n",
        "# ordene de manera descendente por n,\n",
        "# finalmente muestra la cabecera del dataset resultante con 10 registros.\n",
        "\n",
        "## AHORA\n",
        "vuelos %>% # |>\n",
        "  count(mes,day) %>%\n",
        "  mutate(max_vuelos = max(n)) %>%\n",
        "  filter(day == 1) %>%\n",
        "  arrange(desc(n)) %>%\n",
        "  head(10)\n",
        "\n",
        "\n"
      ],
      "execution_count": null,
      "outputs": [
        {
          "output_type": "display_data",
          "data": {
            "text/html": [
              "<table class=\"dataframe\">\n",
              "<caption>A data.frame: 10 × 4</caption>\n",
              "<thead>\n",
              "\t<tr><th></th><th scope=col>mes</th><th scope=col>day</th><th scope=col>n</th><th scope=col>max_vuelos</th></tr>\n",
              "\t<tr><th></th><th scope=col>&lt;int&gt;</th><th scope=col>&lt;int&gt;</th><th scope=col>&lt;int&gt;</th><th scope=col>&lt;int&gt;</th></tr>\n",
              "</thead>\n",
              "<tbody>\n",
              "\t<tr><th scope=row>1</th><td> 8</td><td>1</td><td>1000</td><td>1014</td></tr>\n",
              "\t<tr><th scope=row>2</th><td>12</td><td>1</td><td> 987</td><td>1014</td></tr>\n",
              "\t<tr><th scope=row>3</th><td>11</td><td>1</td><td> 986</td><td>1014</td></tr>\n",
              "\t<tr><th scope=row>4</th><td> 4</td><td>1</td><td> 970</td><td>1014</td></tr>\n",
              "\t<tr><th scope=row>5</th><td> 7</td><td>1</td><td> 966</td><td>1014</td></tr>\n",
              "\t<tr><th scope=row>6</th><td>10</td><td>1</td><td> 965</td><td>1014</td></tr>\n",
              "\t<tr><th scope=row>7</th><td> 5</td><td>1</td><td> 964</td><td>1014</td></tr>\n",
              "\t<tr><th scope=row>8</th><td> 3</td><td>1</td><td> 958</td><td>1014</td></tr>\n",
              "\t<tr><th scope=row>9</th><td> 2</td><td>1</td><td> 926</td><td>1014</td></tr>\n",
              "\t<tr><th scope=row>10</th><td> 1</td><td>1</td><td> 842</td><td>1014</td></tr>\n",
              "</tbody>\n",
              "</table>\n"
            ],
            "text/markdown": "\nA data.frame: 10 × 4\n\n| <!--/--> | mes &lt;int&gt; | day &lt;int&gt; | n &lt;int&gt; | max_vuelos &lt;int&gt; |\n|---|---|---|---|---|\n| 1 |  8 | 1 | 1000 | 1014 |\n| 2 | 12 | 1 |  987 | 1014 |\n| 3 | 11 | 1 |  986 | 1014 |\n| 4 |  4 | 1 |  970 | 1014 |\n| 5 |  7 | 1 |  966 | 1014 |\n| 6 | 10 | 1 |  965 | 1014 |\n| 7 |  5 | 1 |  964 | 1014 |\n| 8 |  3 | 1 |  958 | 1014 |\n| 9 |  2 | 1 |  926 | 1014 |\n| 10 |  1 | 1 |  842 | 1014 |\n\n",
            "text/latex": "A data.frame: 10 × 4\n\\begin{tabular}{r|llll}\n  & mes & day & n & max\\_vuelos\\\\\n  & <int> & <int> & <int> & <int>\\\\\n\\hline\n\t1 &  8 & 1 & 1000 & 1014\\\\\n\t2 & 12 & 1 &  987 & 1014\\\\\n\t3 & 11 & 1 &  986 & 1014\\\\\n\t4 &  4 & 1 &  970 & 1014\\\\\n\t5 &  7 & 1 &  966 & 1014\\\\\n\t6 & 10 & 1 &  965 & 1014\\\\\n\t7 &  5 & 1 &  964 & 1014\\\\\n\t8 &  3 & 1 &  958 & 1014\\\\\n\t9 &  2 & 1 &  926 & 1014\\\\\n\t10 &  1 & 1 &  842 & 1014\\\\\n\\end{tabular}\n",
            "text/plain": [
              "   mes day n    max_vuelos\n",
              "1   8  1   1000 1014      \n",
              "2  12  1    987 1014      \n",
              "3  11  1    986 1014      \n",
              "4   4  1    970 1014      \n",
              "5   7  1    966 1014      \n",
              "6  10  1    965 1014      \n",
              "7   5  1    964 1014      \n",
              "8   3  1    958 1014      \n",
              "9   2  1    926 1014      \n",
              "10  1  1    842 1014      "
            ]
          },
          "metadata": {}
        }
      ]
    },
    {
      "cell_type": "code",
      "metadata": {
        "trusted": true,
        "id": "Ml1egmO7RPy-"
      },
      "source": [
        "# A la onsulta anterior podríamos agregar una nueva columna indicando si el totalde vuelos es mayor a 970\n"
      ],
      "execution_count": null,
      "outputs": []
    },
    {
      "cell_type": "code",
      "source": [
        "head(vuelos)"
      ],
      "metadata": {
        "id": "j-roaiFIFHP-",
        "outputId": "d323ea99-7e1a-4171-c98f-c18bceff6388",
        "colab": {
          "base_uri": "https://localhost:8080/",
          "height": 514
        }
      },
      "execution_count": null,
      "outputs": [
        {
          "output_type": "display_data",
          "data": {
            "text/html": [
              "<table class=\"dataframe\">\n",
              "<caption>A data.frame: 6 × 21</caption>\n",
              "<thead>\n",
              "\t<tr><th></th><th scope=col>anio</th><th scope=col>mes</th><th scope=col>day</th><th scope=col>dep_time</th><th scope=col>sched_dep_time</th><th scope=col>dep_delay</th><th scope=col>arr_time</th><th scope=col>sched_arr_time</th><th scope=col>arr_delay</th><th scope=col>carrier</th><th scope=col>⋯</th><th scope=col>tailnum</th><th scope=col>origin</th><th scope=col>dest</th><th scope=col>air_time</th><th scope=col>distance</th><th scope=col>hour</th><th scope=col>minute</th><th scope=col>time_hour</th><th scope=col>retraso_neto</th><th scope=col>retraso_neto2</th></tr>\n",
              "\t<tr><th></th><th scope=col>&lt;int&gt;</th><th scope=col>&lt;int&gt;</th><th scope=col>&lt;int&gt;</th><th scope=col>&lt;int&gt;</th><th scope=col>&lt;int&gt;</th><th scope=col>&lt;int&gt;</th><th scope=col>&lt;int&gt;</th><th scope=col>&lt;int&gt;</th><th scope=col>&lt;int&gt;</th><th scope=col>&lt;chr&gt;</th><th scope=col>⋯</th><th scope=col>&lt;chr&gt;</th><th scope=col>&lt;chr&gt;</th><th scope=col>&lt;chr&gt;</th><th scope=col>&lt;int&gt;</th><th scope=col>&lt;int&gt;</th><th scope=col>&lt;int&gt;</th><th scope=col>&lt;int&gt;</th><th scope=col>&lt;chr&gt;</th><th scope=col>&lt;int&gt;</th><th scope=col>&lt;int&gt;</th></tr>\n",
              "</thead>\n",
              "<tbody>\n",
              "\t<tr><th scope=row>1</th><td>2013</td><td>1</td><td>1</td><td>517</td><td>515</td><td> 2</td><td> 830</td><td> 819</td><td> 11</td><td>UA</td><td>⋯</td><td>N14228</td><td>EWR</td><td>IAH</td><td>227</td><td>1400</td><td>5</td><td>15</td><td>2013-01-01 05:00:00</td><td> 13</td><td> 13</td></tr>\n",
              "\t<tr><th scope=row>2</th><td>2013</td><td>1</td><td>1</td><td>533</td><td>529</td><td> 4</td><td> 850</td><td> 830</td><td> 20</td><td>UA</td><td>⋯</td><td>N24211</td><td>LGA</td><td>IAH</td><td>227</td><td>1416</td><td>5</td><td>29</td><td>2013-01-01 05:00:00</td><td> 24</td><td> 24</td></tr>\n",
              "\t<tr><th scope=row>3</th><td>2013</td><td>1</td><td>1</td><td>542</td><td>540</td><td> 2</td><td> 923</td><td> 850</td><td> 33</td><td>AA</td><td>⋯</td><td>N619AA</td><td>JFK</td><td>MIA</td><td>160</td><td>1089</td><td>5</td><td>40</td><td>2013-01-01 05:00:00</td><td> 35</td><td> 35</td></tr>\n",
              "\t<tr><th scope=row>4</th><td>2013</td><td>1</td><td>1</td><td>544</td><td>545</td><td>-1</td><td>1004</td><td>1022</td><td>-18</td><td>B6</td><td>⋯</td><td>N804JB</td><td>JFK</td><td>BQN</td><td>183</td><td>1576</td><td>5</td><td>45</td><td>2013-01-01 05:00:00</td><td>-19</td><td>-19</td></tr>\n",
              "\t<tr><th scope=row>5</th><td>2013</td><td>1</td><td>1</td><td>554</td><td>600</td><td>-6</td><td> 812</td><td> 837</td><td>-25</td><td>DL</td><td>⋯</td><td>N668DN</td><td>LGA</td><td>ATL</td><td>116</td><td> 762</td><td>6</td><td> 0</td><td>2013-01-01 06:00:00</td><td>-31</td><td>-31</td></tr>\n",
              "\t<tr><th scope=row>6</th><td>2013</td><td>1</td><td>1</td><td>554</td><td>558</td><td>-4</td><td> 740</td><td> 728</td><td> 12</td><td>UA</td><td>⋯</td><td>N39463</td><td>EWR</td><td>ORD</td><td>150</td><td> 719</td><td>5</td><td>58</td><td>2013-01-01 05:00:00</td><td>  8</td><td>  8</td></tr>\n",
              "</tbody>\n",
              "</table>\n"
            ],
            "text/markdown": "\nA data.frame: 6 × 21\n\n| <!--/--> | anio &lt;int&gt; | mes &lt;int&gt; | day &lt;int&gt; | dep_time &lt;int&gt; | sched_dep_time &lt;int&gt; | dep_delay &lt;int&gt; | arr_time &lt;int&gt; | sched_arr_time &lt;int&gt; | arr_delay &lt;int&gt; | carrier &lt;chr&gt; | ⋯ ⋯ | tailnum &lt;chr&gt; | origin &lt;chr&gt; | dest &lt;chr&gt; | air_time &lt;int&gt; | distance &lt;int&gt; | hour &lt;int&gt; | minute &lt;int&gt; | time_hour &lt;chr&gt; | retraso_neto &lt;int&gt; | retraso_neto2 &lt;int&gt; |\n|---|---|---|---|---|---|---|---|---|---|---|---|---|---|---|---|---|---|---|---|---|---|\n| 1 | 2013 | 1 | 1 | 517 | 515 |  2 |  830 |  819 |  11 | UA | ⋯ | N14228 | EWR | IAH | 227 | 1400 | 5 | 15 | 2013-01-01 05:00:00 |  13 |  13 |\n| 2 | 2013 | 1 | 1 | 533 | 529 |  4 |  850 |  830 |  20 | UA | ⋯ | N24211 | LGA | IAH | 227 | 1416 | 5 | 29 | 2013-01-01 05:00:00 |  24 |  24 |\n| 3 | 2013 | 1 | 1 | 542 | 540 |  2 |  923 |  850 |  33 | AA | ⋯ | N619AA | JFK | MIA | 160 | 1089 | 5 | 40 | 2013-01-01 05:00:00 |  35 |  35 |\n| 4 | 2013 | 1 | 1 | 544 | 545 | -1 | 1004 | 1022 | -18 | B6 | ⋯ | N804JB | JFK | BQN | 183 | 1576 | 5 | 45 | 2013-01-01 05:00:00 | -19 | -19 |\n| 5 | 2013 | 1 | 1 | 554 | 600 | -6 |  812 |  837 | -25 | DL | ⋯ | N668DN | LGA | ATL | 116 |  762 | 6 |  0 | 2013-01-01 06:00:00 | -31 | -31 |\n| 6 | 2013 | 1 | 1 | 554 | 558 | -4 |  740 |  728 |  12 | UA | ⋯ | N39463 | EWR | ORD | 150 |  719 | 5 | 58 | 2013-01-01 05:00:00 |   8 |   8 |\n\n",
            "text/latex": "A data.frame: 6 × 21\n\\begin{tabular}{r|lllllllllllllllllllll}\n  & anio & mes & day & dep\\_time & sched\\_dep\\_time & dep\\_delay & arr\\_time & sched\\_arr\\_time & arr\\_delay & carrier & ⋯ & tailnum & origin & dest & air\\_time & distance & hour & minute & time\\_hour & retraso\\_neto & retraso\\_neto2\\\\\n  & <int> & <int> & <int> & <int> & <int> & <int> & <int> & <int> & <int> & <chr> & ⋯ & <chr> & <chr> & <chr> & <int> & <int> & <int> & <int> & <chr> & <int> & <int>\\\\\n\\hline\n\t1 & 2013 & 1 & 1 & 517 & 515 &  2 &  830 &  819 &  11 & UA & ⋯ & N14228 & EWR & IAH & 227 & 1400 & 5 & 15 & 2013-01-01 05:00:00 &  13 &  13\\\\\n\t2 & 2013 & 1 & 1 & 533 & 529 &  4 &  850 &  830 &  20 & UA & ⋯ & N24211 & LGA & IAH & 227 & 1416 & 5 & 29 & 2013-01-01 05:00:00 &  24 &  24\\\\\n\t3 & 2013 & 1 & 1 & 542 & 540 &  2 &  923 &  850 &  33 & AA & ⋯ & N619AA & JFK & MIA & 160 & 1089 & 5 & 40 & 2013-01-01 05:00:00 &  35 &  35\\\\\n\t4 & 2013 & 1 & 1 & 544 & 545 & -1 & 1004 & 1022 & -18 & B6 & ⋯ & N804JB & JFK & BQN & 183 & 1576 & 5 & 45 & 2013-01-01 05:00:00 & -19 & -19\\\\\n\t5 & 2013 & 1 & 1 & 554 & 600 & -6 &  812 &  837 & -25 & DL & ⋯ & N668DN & LGA & ATL & 116 &  762 & 6 &  0 & 2013-01-01 06:00:00 & -31 & -31\\\\\n\t6 & 2013 & 1 & 1 & 554 & 558 & -4 &  740 &  728 &  12 & UA & ⋯ & N39463 & EWR & ORD & 150 &  719 & 5 & 58 & 2013-01-01 05:00:00 &   8 &   8\\\\\n\\end{tabular}\n",
            "text/plain": [
              "  anio mes day dep_time sched_dep_time dep_delay arr_time sched_arr_time\n",
              "1 2013 1   1   517      515             2         830      819          \n",
              "2 2013 1   1   533      529             4         850      830          \n",
              "3 2013 1   1   542      540             2         923      850          \n",
              "4 2013 1   1   544      545            -1        1004     1022          \n",
              "5 2013 1   1   554      600            -6         812      837          \n",
              "6 2013 1   1   554      558            -4         740      728          \n",
              "  arr_delay carrier ⋯ tailnum origin dest air_time distance hour minute\n",
              "1  11       UA      ⋯ N14228  EWR    IAH  227      1400     5    15    \n",
              "2  20       UA      ⋯ N24211  LGA    IAH  227      1416     5    29    \n",
              "3  33       AA      ⋯ N619AA  JFK    MIA  160      1089     5    40    \n",
              "4 -18       B6      ⋯ N804JB  JFK    BQN  183      1576     5    45    \n",
              "5 -25       DL      ⋯ N668DN  LGA    ATL  116       762     6     0    \n",
              "6  12       UA      ⋯ N39463  EWR    ORD  150       719     5    58    \n",
              "  time_hour           retraso_neto retraso_neto2\n",
              "1 2013-01-01 05:00:00  13           13          \n",
              "2 2013-01-01 05:00:00  24           24          \n",
              "3 2013-01-01 05:00:00  35           35          \n",
              "4 2013-01-01 05:00:00 -19          -19          \n",
              "5 2013-01-01 06:00:00 -31          -31          \n",
              "6 2013-01-01 05:00:00   8            8          "
            ]
          },
          "metadata": {}
        }
      ]
    },
    {
      "cell_type": "code",
      "metadata": {
        "trusted": true,
        "id": "eRuQuH-oRPzA",
        "outputId": "8e874150-ad15-4ecf-fd9c-419fb9ae7eb7",
        "colab": {
          "base_uri": "https://localhost:8080/",
          "height": 34
        }
      },
      "source": [
        "# Genere una nueva variable llamada day2 que pegue un \"0\"\n",
        "# a la variable day/mes si es que esta contiene un dígito del 1 al 9.\n",
        "# Para pegar cadena de caracteres sin espacios puede utilizar\n",
        "# la función paste0\n",
        "\n",
        "ifelse(c(1,4,8,2) > 4, \"SI\", \"No\")\n",
        "\n",
        "#?paste0, ?nchar\n",
        "\n",
        "\n"
      ],
      "execution_count": null,
      "outputs": [
        {
          "output_type": "display_data",
          "data": {
            "text/html": [
              "<style>\n",
              ".list-inline {list-style: none; margin:0; padding: 0}\n",
              ".list-inline>li {display: inline-block}\n",
              ".list-inline>li:not(:last-child)::after {content: \"\\00b7\"; padding: 0 .5ex}\n",
              "</style>\n",
              "<ol class=list-inline><li>'No'</li><li>'No'</li><li>'SI'</li><li>'No'</li></ol>\n"
            ],
            "text/markdown": "1. 'No'\n2. 'No'\n3. 'SI'\n4. 'No'\n\n\n",
            "text/latex": "\\begin{enumerate*}\n\\item 'No'\n\\item 'No'\n\\item 'SI'\n\\item 'No'\n\\end{enumerate*}\n",
            "text/plain": [
              "[1] \"No\" \"No\" \"SI\" \"No\""
            ]
          },
          "metadata": {}
        }
      ]
    },
    {
      "cell_type": "code",
      "source": [
        " c(2,5,8) %in% c(1,4,5,8,6)"
      ],
      "metadata": {
        "id": "qzwonGxsG4CL",
        "outputId": "a4b9a6a7-ef5a-4b06-905a-05a8505ae4c7",
        "colab": {
          "base_uri": "https://localhost:8080/",
          "height": 34
        }
      },
      "execution_count": null,
      "outputs": [
        {
          "output_type": "display_data",
          "data": {
            "text/html": [
              "<style>\n",
              ".list-inline {list-style: none; margin:0; padding: 0}\n",
              ".list-inline>li {display: inline-block}\n",
              ".list-inline>li:not(:last-child)::after {content: \"\\00b7\"; padding: 0 .5ex}\n",
              "</style>\n",
              "<ol class=list-inline><li>FALSE</li><li>TRUE</li><li>TRUE</li></ol>\n"
            ],
            "text/markdown": "1. FALSE\n2. TRUE\n3. TRUE\n\n\n",
            "text/latex": "\\begin{enumerate*}\n\\item FALSE\n\\item TRUE\n\\item TRUE\n\\end{enumerate*}\n",
            "text/plain": [
              "[1] FALSE  TRUE  TRUE"
            ]
          },
          "metadata": {}
        }
      ]
    },
    {
      "cell_type": "code",
      "source": [
        "vuelos <- vuelos %>%\n",
        "            mutate(day2 = ifelse(day <= 9, paste(\"0\",day, sep = \"\"), day ),\n",
        "                  mes2 = ifelse(mes <= 9, paste(\"0\",mes, sep = \"\"), mes ),\n",
        "                  no_fecha = paste(anio, mes2, day2, sep = \"-\"),\n",
        "                  fecha = as.Date(no_fecha)  )"
      ],
      "metadata": {
        "id": "i_mIYpNiFwau"
      },
      "execution_count": null,
      "outputs": []
    },
    {
      "cell_type": "code",
      "source": [
        "# Por ejemplo, podemos consultar los vuelos que tengan fecha desde el 20 de noviembre hasta el 30 del mismo mes inclusive\n",
        "vuelos %>%\n",
        "  filter(fecha >= \"2013-11-20\" & fecha <= \"2013-11-30\" )\n",
        "\n"
      ],
      "metadata": {
        "id": "2_66JwM3IPav",
        "outputId": "cf92b292-b2dd-4289-8c51-53bb5137ae69",
        "colab": {
          "base_uri": "https://localhost:8080/",
          "height": 1000
        }
      },
      "execution_count": null,
      "outputs": [
        {
          "output_type": "display_data",
          "data": {
            "text/html": [
              "<table class=\"dataframe\">\n",
              "<caption>A data.frame: 9713 × 25</caption>\n",
              "<thead>\n",
              "\t<tr><th scope=col>anio</th><th scope=col>mes</th><th scope=col>day</th><th scope=col>dep_time</th><th scope=col>sched_dep_time</th><th scope=col>dep_delay</th><th scope=col>arr_time</th><th scope=col>sched_arr_time</th><th scope=col>arr_delay</th><th scope=col>carrier</th><th scope=col>⋯</th><th scope=col>distance</th><th scope=col>hour</th><th scope=col>minute</th><th scope=col>time_hour</th><th scope=col>retraso_neto</th><th scope=col>retraso_neto2</th><th scope=col>day2</th><th scope=col>mes2</th><th scope=col>no_fecha</th><th scope=col>fecha</th></tr>\n",
              "\t<tr><th scope=col>&lt;int&gt;</th><th scope=col>&lt;int&gt;</th><th scope=col>&lt;int&gt;</th><th scope=col>&lt;int&gt;</th><th scope=col>&lt;int&gt;</th><th scope=col>&lt;int&gt;</th><th scope=col>&lt;int&gt;</th><th scope=col>&lt;int&gt;</th><th scope=col>&lt;int&gt;</th><th scope=col>&lt;chr&gt;</th><th scope=col>⋯</th><th scope=col>&lt;int&gt;</th><th scope=col>&lt;int&gt;</th><th scope=col>&lt;int&gt;</th><th scope=col>&lt;chr&gt;</th><th scope=col>&lt;int&gt;</th><th scope=col>&lt;int&gt;</th><th scope=col>&lt;chr&gt;</th><th scope=col>&lt;chr&gt;</th><th scope=col>&lt;chr&gt;</th><th scope=col>&lt;date&gt;</th></tr>\n",
              "</thead>\n",
              "<tbody>\n",
              "\t<tr><td>2013</td><td>11</td><td>20</td><td>455</td><td>500</td><td> -5</td><td> 631</td><td> 651</td><td>-20</td><td>US</td><td>⋯</td><td> 529</td><td>5</td><td> 0</td><td>2013-11-20 05:00:00</td><td>-25</td><td>-25</td><td>20</td><td>11</td><td>2013-11-20</td><td>2013-11-20</td></tr>\n",
              "\t<tr><td>2013</td><td>11</td><td>20</td><td>510</td><td>515</td><td> -5</td><td> 749</td><td> 808</td><td>-19</td><td>UA</td><td>⋯</td><td>1400</td><td>5</td><td>15</td><td>2013-11-20 05:00:00</td><td>-24</td><td>-24</td><td>20</td><td>11</td><td>2013-11-20</td><td>2013-11-20</td></tr>\n",
              "\t<tr><td>2013</td><td>11</td><td>20</td><td>534</td><td>545</td><td>-11</td><td> 806</td><td> 835</td><td>-29</td><td>UA</td><td>⋯</td><td>1416</td><td>5</td><td>45</td><td>2013-11-20 05:00:00</td><td>-40</td><td>-40</td><td>20</td><td>11</td><td>2013-11-20</td><td>2013-11-20</td></tr>\n",
              "\t<tr><td>2013</td><td>11</td><td>20</td><td>536</td><td>545</td><td> -9</td><td> 831</td><td> 855</td><td>-24</td><td>AA</td><td>⋯</td><td>1089</td><td>5</td><td>45</td><td>2013-11-20 05:00:00</td><td>-33</td><td>-33</td><td>20</td><td>11</td><td>2013-11-20</td><td>2013-11-20</td></tr>\n",
              "\t<tr><td>2013</td><td>11</td><td>20</td><td>548</td><td>600</td><td>-12</td><td> 852</td><td> 856</td><td> -4</td><td>B6</td><td>⋯</td><td>1076</td><td>6</td><td> 0</td><td>2013-11-20 06:00:00</td><td>-16</td><td>-16</td><td>20</td><td>11</td><td>2013-11-20</td><td>2013-11-20</td></tr>\n",
              "\t<tr><td>2013</td><td>11</td><td>20</td><td>551</td><td>600</td><td> -9</td><td> 716</td><td> 717</td><td> -1</td><td>EV</td><td>⋯</td><td> 228</td><td>6</td><td> 0</td><td>2013-11-20 06:00:00</td><td>-10</td><td>-10</td><td>20</td><td>11</td><td>2013-11-20</td><td>2013-11-20</td></tr>\n",
              "\t<tr><td>2013</td><td>11</td><td>20</td><td>551</td><td>600</td><td> -9</td><td> 726</td><td> 730</td><td> -4</td><td>AA</td><td>⋯</td><td> 733</td><td>6</td><td> 0</td><td>2013-11-20 06:00:00</td><td>-13</td><td>-13</td><td>20</td><td>11</td><td>2013-11-20</td><td>2013-11-20</td></tr>\n",
              "\t<tr><td>2013</td><td>11</td><td>20</td><td>551</td><td>600</td><td> -9</td><td> 659</td><td> 701</td><td> -2</td><td>US</td><td>⋯</td><td> 184</td><td>6</td><td> 0</td><td>2013-11-20 06:00:00</td><td>-11</td><td>-11</td><td>20</td><td>11</td><td>2013-11-20</td><td>2013-11-20</td></tr>\n",
              "\t<tr><td>2013</td><td>11</td><td>20</td><td>551</td><td>600</td><td> -9</td><td> 647</td><td> 659</td><td>-12</td><td>US</td><td>⋯</td><td> 214</td><td>6</td><td> 0</td><td>2013-11-20 06:00:00</td><td>-21</td><td>-21</td><td>20</td><td>11</td><td>2013-11-20</td><td>2013-11-20</td></tr>\n",
              "\t<tr><td>2013</td><td>11</td><td>20</td><td>552</td><td>600</td><td> -8</td><td> 742</td><td> 756</td><td>-14</td><td>DL</td><td>⋯</td><td> 488</td><td>6</td><td> 0</td><td>2013-11-20 06:00:00</td><td>-22</td><td>-22</td><td>20</td><td>11</td><td>2013-11-20</td><td>2013-11-20</td></tr>\n",
              "\t<tr><td>2013</td><td>11</td><td>20</td><td>552</td><td>601</td><td> -9</td><td> 735</td><td> 811</td><td>-36</td><td>EV</td><td>⋯</td><td> 529</td><td>6</td><td> 1</td><td>2013-11-20 06:00:00</td><td>-45</td><td>-45</td><td>20</td><td>11</td><td>2013-11-20</td><td>2013-11-20</td></tr>\n",
              "\t<tr><td>2013</td><td>11</td><td>20</td><td>554</td><td>600</td><td> -6</td><td> 751</td><td> 754</td><td> -3</td><td>DL</td><td>⋯</td><td> 502</td><td>6</td><td> 0</td><td>2013-11-20 06:00:00</td><td> -9</td><td> -9</td><td>20</td><td>11</td><td>2013-11-20</td><td>2013-11-20</td></tr>\n",
              "\t<tr><td>2013</td><td>11</td><td>20</td><td>554</td><td>600</td><td> -6</td><td> 836</td><td> 846</td><td>-10</td><td>B6</td><td>⋯</td><td> 944</td><td>6</td><td> 0</td><td>2013-11-20 06:00:00</td><td>-16</td><td>-16</td><td>20</td><td>11</td><td>2013-11-20</td><td>2013-11-20</td></tr>\n",
              "\t<tr><td>2013</td><td>11</td><td>20</td><td>556</td><td>600</td><td> -4</td><td> 743</td><td> 810</td><td>-27</td><td>EV</td><td>⋯</td><td> 569</td><td>6</td><td> 0</td><td>2013-11-20 06:00:00</td><td>-31</td><td>-31</td><td>20</td><td>11</td><td>2013-11-20</td><td>2013-11-20</td></tr>\n",
              "\t<tr><td>2013</td><td>11</td><td>20</td><td>556</td><td>600</td><td> -4</td><td> 826</td><td> 834</td><td> -8</td><td>EV</td><td>⋯</td><td> 746</td><td>6</td><td> 0</td><td>2013-11-20 06:00:00</td><td>-12</td><td>-12</td><td>20</td><td>11</td><td>2013-11-20</td><td>2013-11-20</td></tr>\n",
              "\t<tr><td>2013</td><td>11</td><td>20</td><td>556</td><td>600</td><td> -4</td><td> 704</td><td> 719</td><td>-15</td><td>EV</td><td>⋯</td><td> 229</td><td>6</td><td> 0</td><td>2013-11-20 06:00:00</td><td>-19</td><td>-19</td><td>20</td><td>11</td><td>2013-11-20</td><td>2013-11-20</td></tr>\n",
              "\t<tr><td>2013</td><td>11</td><td>20</td><td>556</td><td>600</td><td> -4</td><td> 702</td><td> 719</td><td>-17</td><td>EV</td><td>⋯</td><td> 212</td><td>6</td><td> 0</td><td>2013-11-20 06:00:00</td><td>-21</td><td>-21</td><td>20</td><td>11</td><td>2013-11-20</td><td>2013-11-20</td></tr>\n",
              "\t<tr><td>2013</td><td>11</td><td>20</td><td>557</td><td>600</td><td> -3</td><td> 830</td><td> 827</td><td>  3</td><td>DL</td><td>⋯</td><td> 762</td><td>6</td><td> 0</td><td>2013-11-20 06:00:00</td><td>  0</td><td>  0</td><td>20</td><td>11</td><td>2013-11-20</td><td>2013-11-20</td></tr>\n",
              "\t<tr><td>2013</td><td>11</td><td>20</td><td>557</td><td>600</td><td> -3</td><td> 922</td><td> 933</td><td>-11</td><td>UA</td><td>⋯</td><td>2586</td><td>6</td><td> 0</td><td>2013-11-20 06:00:00</td><td>-14</td><td>-14</td><td>20</td><td>11</td><td>2013-11-20</td><td>2013-11-20</td></tr>\n",
              "\t<tr><td>2013</td><td>11</td><td>20</td><td>557</td><td>600</td><td> -3</td><td> 725</td><td> 736</td><td>-11</td><td>UA</td><td>⋯</td><td> 733</td><td>6</td><td> 0</td><td>2013-11-20 06:00:00</td><td>-14</td><td>-14</td><td>20</td><td>11</td><td>2013-11-20</td><td>2013-11-20</td></tr>\n",
              "\t<tr><td>2013</td><td>11</td><td>20</td><td>558</td><td>600</td><td> -2</td><td> 921</td><td> 927</td><td> -6</td><td>UA</td><td>⋯</td><td>2565</td><td>6</td><td> 0</td><td>2013-11-20 06:00:00</td><td> -8</td><td> -8</td><td>20</td><td>11</td><td>2013-11-20</td><td>2013-11-20</td></tr>\n",
              "\t<tr><td>2013</td><td>11</td><td>20</td><td>558</td><td>600</td><td> -2</td><td> 845</td><td> 854</td><td> -9</td><td>B6</td><td>⋯</td><td>1065</td><td>6</td><td> 0</td><td>2013-11-20 06:00:00</td><td>-11</td><td>-11</td><td>20</td><td>11</td><td>2013-11-20</td><td>2013-11-20</td></tr>\n",
              "\t<tr><td>2013</td><td>11</td><td>20</td><td>559</td><td>600</td><td> -1</td><td>1029</td><td>1043</td><td>-14</td><td>B6</td><td>⋯</td><td>1598</td><td>6</td><td> 0</td><td>2013-11-20 06:00:00</td><td>-15</td><td>-15</td><td>20</td><td>11</td><td>2013-11-20</td><td>2013-11-20</td></tr>\n",
              "\t<tr><td>2013</td><td>11</td><td>20</td><td>559</td><td>600</td><td> -1</td><td> 830</td><td> 825</td><td>  5</td><td>WN</td><td>⋯</td><td> 762</td><td>6</td><td> 0</td><td>2013-11-20 06:00:00</td><td>  4</td><td>  4</td><td>20</td><td>11</td><td>2013-11-20</td><td>2013-11-20</td></tr>\n",
              "\t<tr><td>2013</td><td>11</td><td>20</td><td>600</td><td>610</td><td>-10</td><td> 737</td><td> 801</td><td>-24</td><td>EV</td><td>⋯</td><td> 463</td><td>6</td><td>10</td><td>2013-11-20 06:00:00</td><td>-34</td><td>-34</td><td>20</td><td>11</td><td>2013-11-20</td><td>2013-11-20</td></tr>\n",
              "\t<tr><td>2013</td><td>11</td><td>20</td><td>600</td><td>600</td><td>  0</td><td> 850</td><td> 905</td><td>-15</td><td>AA</td><td>⋯</td><td>1096</td><td>6</td><td> 0</td><td>2013-11-20 06:00:00</td><td>-15</td><td>-15</td><td>20</td><td>11</td><td>2013-11-20</td><td>2013-11-20</td></tr>\n",
              "\t<tr><td>2013</td><td>11</td><td>20</td><td>602</td><td>610</td><td> -8</td><td> 800</td><td> 812</td><td>-12</td><td>DL</td><td>⋯</td><td>1020</td><td>6</td><td>10</td><td>2013-11-20 06:00:00</td><td>-20</td><td>-20</td><td>20</td><td>11</td><td>2013-11-20</td><td>2013-11-20</td></tr>\n",
              "\t<tr><td>2013</td><td>11</td><td>20</td><td>602</td><td>600</td><td>  2</td><td> 728</td><td> 737</td><td> -9</td><td>UA</td><td>⋯</td><td> 719</td><td>6</td><td> 0</td><td>2013-11-20 06:00:00</td><td> -7</td><td> -7</td><td>20</td><td>11</td><td>2013-11-20</td><td>2013-11-20</td></tr>\n",
              "\t<tr><td>2013</td><td>11</td><td>20</td><td>602</td><td>600</td><td>  2</td><td> 653</td><td> 658</td><td> -5</td><td>US</td><td>⋯</td><td>  96</td><td>6</td><td> 0</td><td>2013-11-20 06:00:00</td><td> -3</td><td> -3</td><td>20</td><td>11</td><td>2013-11-20</td><td>2013-11-20</td></tr>\n",
              "\t<tr><td>2013</td><td>11</td><td>20</td><td>603</td><td>611</td><td> -8</td><td> 851</td><td> 912</td><td>-21</td><td>B6</td><td>⋯</td><td>1069</td><td>6</td><td>11</td><td>2013-11-20 06:00:00</td><td>-29</td><td>-29</td><td>20</td><td>11</td><td>2013-11-20</td><td>2013-11-20</td></tr>\n",
              "\t<tr><td>⋮</td><td>⋮</td><td>⋮</td><td>⋮</td><td>⋮</td><td>⋮</td><td>⋮</td><td>⋮</td><td>⋮</td><td>⋮</td><td>⋱</td><td>⋮</td><td>⋮</td><td>⋮</td><td>⋮</td><td>⋮</td><td>⋮</td><td>⋮</td><td>⋮</td><td>⋮</td><td>⋮</td></tr>\n",
              "\t<tr><td>2013</td><td>11</td><td>30</td><td>2132</td><td>2135</td><td> -3</td><td>  48</td><td>  55</td><td> -7</td><td>AA</td><td>⋯</td><td>2475</td><td>21</td><td>35</td><td>2013-11-30 21:00:00</td><td>-10</td><td>-10</td><td>30</td><td>11</td><td>2013-11-30</td><td>2013-11-30</td></tr>\n",
              "\t<tr><td>2013</td><td>11</td><td>30</td><td>2133</td><td>2129</td><td>  4</td><td>2254</td><td>2306</td><td>-12</td><td>UA</td><td>⋯</td><td> 404</td><td>21</td><td>29</td><td>2013-11-30 21:00:00</td><td> -8</td><td> -8</td><td>30</td><td>11</td><td>2013-11-30</td><td>2013-11-30</td></tr>\n",
              "\t<tr><td>2013</td><td>11</td><td>30</td><td>2135</td><td>2127</td><td>  8</td><td>  13</td><td>  19</td><td> -6</td><td>UA</td><td>⋯</td><td>1400</td><td>21</td><td>27</td><td>2013-11-30 21:00:00</td><td>  2</td><td>  2</td><td>30</td><td>11</td><td>2013-11-30</td><td>2013-11-30</td></tr>\n",
              "\t<tr><td>2013</td><td>11</td><td>30</td><td>2137</td><td>2140</td><td> -3</td><td>  17</td><td>  36</td><td>-19</td><td>B6</td><td>⋯</td><td>1005</td><td>21</td><td>40</td><td>2013-11-30 21:00:00</td><td>-22</td><td>-22</td><td>30</td><td>11</td><td>2013-11-30</td><td>2013-11-30</td></tr>\n",
              "\t<tr><td>2013</td><td>11</td><td>30</td><td>2138</td><td>2050</td><td> 48</td><td> 207</td><td> 135</td><td> 32</td><td>UA</td><td>⋯</td><td>1585</td><td>20</td><td>50</td><td>2013-11-30 20:00:00</td><td> 80</td><td> 80</td><td>30</td><td>11</td><td>2013-11-30</td><td>2013-11-30</td></tr>\n",
              "\t<tr><td>2013</td><td>11</td><td>30</td><td>2140</td><td>2145</td><td> -5</td><td>  18</td><td>  33</td><td>-15</td><td>B6</td><td>⋯</td><td>1065</td><td>21</td><td>45</td><td>2013-11-30 21:00:00</td><td>-20</td><td>-20</td><td>30</td><td>11</td><td>2013-11-30</td><td>2013-11-30</td></tr>\n",
              "\t<tr><td>2013</td><td>11</td><td>30</td><td>2142</td><td>2125</td><td> 17</td><td>2326</td><td>2328</td><td> -2</td><td>EV</td><td>⋯</td><td> 594</td><td>21</td><td>25</td><td>2013-11-30 21:00:00</td><td> 15</td><td> 15</td><td>30</td><td>11</td><td>2013-11-30</td><td>2013-11-30</td></tr>\n",
              "\t<tr><td>2013</td><td>11</td><td>30</td><td>2142</td><td>2014</td><td> 88</td><td>   7</td><td>2242</td><td> 85</td><td>EV</td><td>⋯</td><td>1215</td><td>20</td><td>14</td><td>2013-11-30 20:00:00</td><td>173</td><td>173</td><td>30</td><td>11</td><td>2013-11-30</td><td>2013-11-30</td></tr>\n",
              "\t<tr><td>2013</td><td>11</td><td>30</td><td>2143</td><td>2150</td><td> -7</td><td>2248</td><td>2311</td><td>-23</td><td>EV</td><td>⋯</td><td> 246</td><td>21</td><td>50</td><td>2013-11-30 21:00:00</td><td>-30</td><td>-30</td><td>30</td><td>11</td><td>2013-11-30</td><td>2013-11-30</td></tr>\n",
              "\t<tr><td>2013</td><td>11</td><td>30</td><td>2143</td><td>2145</td><td> -2</td><td>  23</td><td>  46</td><td>-23</td><td>B6</td><td>⋯</td><td>1069</td><td>21</td><td>45</td><td>2013-11-30 21:00:00</td><td>-25</td><td>-25</td><td>30</td><td>11</td><td>2013-11-30</td><td>2013-11-30</td></tr>\n",
              "\t<tr><td>2013</td><td>11</td><td>30</td><td>2147</td><td>2152</td><td> -5</td><td>2315</td><td>2342</td><td>-27</td><td>EV</td><td>⋯</td><td> 872</td><td>21</td><td>52</td><td>2013-11-30 21:00:00</td><td>-32</td><td>-32</td><td>30</td><td>11</td><td>2013-11-30</td><td>2013-11-30</td></tr>\n",
              "\t<tr><td>2013</td><td>11</td><td>30</td><td>2148</td><td>2130</td><td> 18</td><td>2348</td><td>2359</td><td>-11</td><td>B6</td><td>⋯</td><td>1626</td><td>21</td><td>30</td><td>2013-11-30 21:00:00</td><td>  7</td><td>  7</td><td>30</td><td>11</td><td>2013-11-30</td><td>2013-11-30</td></tr>\n",
              "\t<tr><td>2013</td><td>11</td><td>30</td><td>2151</td><td>2159</td><td> -8</td><td>2259</td><td>2320</td><td>-21</td><td>EV</td><td>⋯</td><td> 378</td><td>21</td><td>59</td><td>2013-11-30 21:00:00</td><td>-29</td><td>-29</td><td>30</td><td>11</td><td>2013-11-30</td><td>2013-11-30</td></tr>\n",
              "\t<tr><td>2013</td><td>11</td><td>30</td><td>2152</td><td>2150</td><td>  2</td><td>  31</td><td>  36</td><td> -5</td><td>B6</td><td>⋯</td><td> 944</td><td>21</td><td>50</td><td>2013-11-30 21:00:00</td><td> -3</td><td> -3</td><td>30</td><td>11</td><td>2013-11-30</td><td>2013-11-30</td></tr>\n",
              "\t<tr><td>2013</td><td>11</td><td>30</td><td>2156</td><td>2159</td><td> -3</td><td>2254</td><td>2305</td><td>-11</td><td>9E</td><td>⋯</td><td> 198</td><td>21</td><td>59</td><td>2013-11-30 21:00:00</td><td>-14</td><td>-14</td><td>30</td><td>11</td><td>2013-11-30</td><td>2013-11-30</td></tr>\n",
              "\t<tr><td>2013</td><td>11</td><td>30</td><td>2202</td><td>2139</td><td> 23</td><td>2315</td><td>2302</td><td> 13</td><td>B6</td><td>⋯</td><td> 301</td><td>21</td><td>39</td><td>2013-11-30 21:00:00</td><td> 36</td><td> 36</td><td>30</td><td>11</td><td>2013-11-30</td><td>2013-11-30</td></tr>\n",
              "\t<tr><td>2013</td><td>11</td><td>30</td><td>2223</td><td>2229</td><td> -6</td><td>2323</td><td>2343</td><td>-20</td><td>B6</td><td>⋯</td><td> 266</td><td>22</td><td>29</td><td>2013-11-30 22:00:00</td><td>-26</td><td>-26</td><td>30</td><td>11</td><td>2013-11-30</td><td>2013-11-30</td></tr>\n",
              "\t<tr><td>2013</td><td>11</td><td>30</td><td>2226</td><td>2129</td><td> 57</td><td>  59</td><td>  10</td><td> 49</td><td>B6</td><td>⋯</td><td> 937</td><td>21</td><td>29</td><td>2013-11-30 21:00:00</td><td>106</td><td>106</td><td>30</td><td>11</td><td>2013-11-30</td><td>2013-11-30</td></tr>\n",
              "\t<tr><td>2013</td><td>11</td><td>30</td><td>2235</td><td>1950</td><td>165</td><td> 126</td><td>2302</td><td>144</td><td>UA</td><td>⋯</td><td>2402</td><td>19</td><td>50</td><td>2013-11-30 19:00:00</td><td>309</td><td>309</td><td>30</td><td>11</td><td>2013-11-30</td><td>2013-11-30</td></tr>\n",
              "\t<tr><td>2013</td><td>11</td><td>30</td><td>2235</td><td>2245</td><td>-10</td><td>2336</td><td>2353</td><td>-17</td><td>B6</td><td>⋯</td><td> 273</td><td>22</td><td>45</td><td>2013-11-30 22:00:00</td><td>-27</td><td>-27</td><td>30</td><td>11</td><td>2013-11-30</td><td>2013-11-30</td></tr>\n",
              "\t<tr><td>2013</td><td>11</td><td>30</td><td>2240</td><td>2250</td><td>-10</td><td>2352</td><td>   8</td><td>-16</td><td>B6</td><td>⋯</td><td> 301</td><td>22</td><td>50</td><td>2013-11-30 22:00:00</td><td>-26</td><td>-26</td><td>30</td><td>11</td><td>2013-11-30</td><td>2013-11-30</td></tr>\n",
              "\t<tr><td>2013</td><td>11</td><td>30</td><td>2246</td><td>2229</td><td> 17</td><td>2352</td><td>2351</td><td>  1</td><td>B6</td><td>⋯</td><td> 264</td><td>22</td><td>29</td><td>2013-11-30 22:00:00</td><td> 18</td><td> 18</td><td>30</td><td>11</td><td>2013-11-30</td><td>2013-11-30</td></tr>\n",
              "\t<tr><td>2013</td><td>11</td><td>30</td><td>2247</td><td>2157</td><td> 50</td><td>2344</td><td>2306</td><td> 38</td><td>UA</td><td>⋯</td><td> 200</td><td>21</td><td>57</td><td>2013-11-30 21:00:00</td><td> 88</td><td> 88</td><td>30</td><td>11</td><td>2013-11-30</td><td>2013-11-30</td></tr>\n",
              "\t<tr><td>2013</td><td>11</td><td>30</td><td>2248</td><td>2250</td><td> -2</td><td>2351</td><td>2356</td><td> -5</td><td>B6</td><td>⋯</td><td> 209</td><td>22</td><td>50</td><td>2013-11-30 22:00:00</td><td> -7</td><td> -7</td><td>30</td><td>11</td><td>2013-11-30</td><td>2013-11-30</td></tr>\n",
              "\t<tr><td>2013</td><td>11</td><td>30</td><td>2250</td><td>2255</td><td> -5</td><td>2343</td><td>2356</td><td>-13</td><td>B6</td><td>⋯</td><td> 187</td><td>22</td><td>55</td><td>2013-11-30 22:00:00</td><td>-18</td><td>-18</td><td>30</td><td>11</td><td>2013-11-30</td><td>2013-11-30</td></tr>\n",
              "\t<tr><td>2013</td><td>11</td><td>30</td><td>2351</td><td>2359</td><td> -8</td><td> 423</td><td> 437</td><td>-14</td><td>B6</td><td>⋯</td><td>1576</td><td>23</td><td>59</td><td>2013-11-30 23:00:00</td><td>-22</td><td>-22</td><td>30</td><td>11</td><td>2013-11-30</td><td>2013-11-30</td></tr>\n",
              "\t<tr><td>2013</td><td>11</td><td>30</td><td>2354</td><td>2359</td><td> -5</td><td> 430</td><td> 440</td><td>-10</td><td>B6</td><td>⋯</td><td>1598</td><td>23</td><td>59</td><td>2013-11-30 23:00:00</td><td>-15</td><td>-15</td><td>30</td><td>11</td><td>2013-11-30</td><td>2013-11-30</td></tr>\n",
              "\t<tr><td>2013</td><td>11</td><td>30</td><td>  NA</td><td>1642</td><td> NA</td><td>  NA</td><td>1915</td><td> NA</td><td>EV</td><td>⋯</td><td> 746</td><td>16</td><td>42</td><td>2013-11-30 16:00:00</td><td> NA</td><td> NA</td><td>30</td><td>11</td><td>2013-11-30</td><td>2013-11-30</td></tr>\n",
              "\t<tr><td>2013</td><td>11</td><td>30</td><td>  NA</td><td>1500</td><td> NA</td><td>  NA</td><td>1645</td><td> NA</td><td>MQ</td><td>⋯</td><td> 431</td><td>15</td><td> 0</td><td>2013-11-30 15:00:00</td><td> NA</td><td> NA</td><td>30</td><td>11</td><td>2013-11-30</td><td>2013-11-30</td></tr>\n",
              "\t<tr><td>2013</td><td>11</td><td>30</td><td>  NA</td><td>1005</td><td> NA</td><td>  NA</td><td>1155</td><td> NA</td><td>MQ</td><td>⋯</td><td> 419</td><td>10</td><td> 5</td><td>2013-11-30 10:00:00</td><td> NA</td><td> NA</td><td>30</td><td>11</td><td>2013-11-30</td><td>2013-11-30</td></tr>\n",
              "</tbody>\n",
              "</table>\n"
            ],
            "text/markdown": "\nA data.frame: 9713 × 25\n\n| anio &lt;int&gt; | mes &lt;int&gt; | day &lt;int&gt; | dep_time &lt;int&gt; | sched_dep_time &lt;int&gt; | dep_delay &lt;int&gt; | arr_time &lt;int&gt; | sched_arr_time &lt;int&gt; | arr_delay &lt;int&gt; | carrier &lt;chr&gt; | ⋯ ⋯ | distance &lt;int&gt; | hour &lt;int&gt; | minute &lt;int&gt; | time_hour &lt;chr&gt; | retraso_neto &lt;int&gt; | retraso_neto2 &lt;int&gt; | day2 &lt;chr&gt; | mes2 &lt;chr&gt; | no_fecha &lt;chr&gt; | fecha &lt;date&gt; |\n|---|---|---|---|---|---|---|---|---|---|---|---|---|---|---|---|---|---|---|---|---|\n| 2013 | 11 | 20 | 455 | 500 |  -5 |  631 |  651 | -20 | US | ⋯ |  529 | 5 |  0 | 2013-11-20 05:00:00 | -25 | -25 | 20 | 11 | 2013-11-20 | 2013-11-20 |\n| 2013 | 11 | 20 | 510 | 515 |  -5 |  749 |  808 | -19 | UA | ⋯ | 1400 | 5 | 15 | 2013-11-20 05:00:00 | -24 | -24 | 20 | 11 | 2013-11-20 | 2013-11-20 |\n| 2013 | 11 | 20 | 534 | 545 | -11 |  806 |  835 | -29 | UA | ⋯ | 1416 | 5 | 45 | 2013-11-20 05:00:00 | -40 | -40 | 20 | 11 | 2013-11-20 | 2013-11-20 |\n| 2013 | 11 | 20 | 536 | 545 |  -9 |  831 |  855 | -24 | AA | ⋯ | 1089 | 5 | 45 | 2013-11-20 05:00:00 | -33 | -33 | 20 | 11 | 2013-11-20 | 2013-11-20 |\n| 2013 | 11 | 20 | 548 | 600 | -12 |  852 |  856 |  -4 | B6 | ⋯ | 1076 | 6 |  0 | 2013-11-20 06:00:00 | -16 | -16 | 20 | 11 | 2013-11-20 | 2013-11-20 |\n| 2013 | 11 | 20 | 551 | 600 |  -9 |  716 |  717 |  -1 | EV | ⋯ |  228 | 6 |  0 | 2013-11-20 06:00:00 | -10 | -10 | 20 | 11 | 2013-11-20 | 2013-11-20 |\n| 2013 | 11 | 20 | 551 | 600 |  -9 |  726 |  730 |  -4 | AA | ⋯ |  733 | 6 |  0 | 2013-11-20 06:00:00 | -13 | -13 | 20 | 11 | 2013-11-20 | 2013-11-20 |\n| 2013 | 11 | 20 | 551 | 600 |  -9 |  659 |  701 |  -2 | US | ⋯ |  184 | 6 |  0 | 2013-11-20 06:00:00 | -11 | -11 | 20 | 11 | 2013-11-20 | 2013-11-20 |\n| 2013 | 11 | 20 | 551 | 600 |  -9 |  647 |  659 | -12 | US | ⋯ |  214 | 6 |  0 | 2013-11-20 06:00:00 | -21 | -21 | 20 | 11 | 2013-11-20 | 2013-11-20 |\n| 2013 | 11 | 20 | 552 | 600 |  -8 |  742 |  756 | -14 | DL | ⋯ |  488 | 6 |  0 | 2013-11-20 06:00:00 | -22 | -22 | 20 | 11 | 2013-11-20 | 2013-11-20 |\n| 2013 | 11 | 20 | 552 | 601 |  -9 |  735 |  811 | -36 | EV | ⋯ |  529 | 6 |  1 | 2013-11-20 06:00:00 | -45 | -45 | 20 | 11 | 2013-11-20 | 2013-11-20 |\n| 2013 | 11 | 20 | 554 | 600 |  -6 |  751 |  754 |  -3 | DL | ⋯ |  502 | 6 |  0 | 2013-11-20 06:00:00 |  -9 |  -9 | 20 | 11 | 2013-11-20 | 2013-11-20 |\n| 2013 | 11 | 20 | 554 | 600 |  -6 |  836 |  846 | -10 | B6 | ⋯ |  944 | 6 |  0 | 2013-11-20 06:00:00 | -16 | -16 | 20 | 11 | 2013-11-20 | 2013-11-20 |\n| 2013 | 11 | 20 | 556 | 600 |  -4 |  743 |  810 | -27 | EV | ⋯ |  569 | 6 |  0 | 2013-11-20 06:00:00 | -31 | -31 | 20 | 11 | 2013-11-20 | 2013-11-20 |\n| 2013 | 11 | 20 | 556 | 600 |  -4 |  826 |  834 |  -8 | EV | ⋯ |  746 | 6 |  0 | 2013-11-20 06:00:00 | -12 | -12 | 20 | 11 | 2013-11-20 | 2013-11-20 |\n| 2013 | 11 | 20 | 556 | 600 |  -4 |  704 |  719 | -15 | EV | ⋯ |  229 | 6 |  0 | 2013-11-20 06:00:00 | -19 | -19 | 20 | 11 | 2013-11-20 | 2013-11-20 |\n| 2013 | 11 | 20 | 556 | 600 |  -4 |  702 |  719 | -17 | EV | ⋯ |  212 | 6 |  0 | 2013-11-20 06:00:00 | -21 | -21 | 20 | 11 | 2013-11-20 | 2013-11-20 |\n| 2013 | 11 | 20 | 557 | 600 |  -3 |  830 |  827 |   3 | DL | ⋯ |  762 | 6 |  0 | 2013-11-20 06:00:00 |   0 |   0 | 20 | 11 | 2013-11-20 | 2013-11-20 |\n| 2013 | 11 | 20 | 557 | 600 |  -3 |  922 |  933 | -11 | UA | ⋯ | 2586 | 6 |  0 | 2013-11-20 06:00:00 | -14 | -14 | 20 | 11 | 2013-11-20 | 2013-11-20 |\n| 2013 | 11 | 20 | 557 | 600 |  -3 |  725 |  736 | -11 | UA | ⋯ |  733 | 6 |  0 | 2013-11-20 06:00:00 | -14 | -14 | 20 | 11 | 2013-11-20 | 2013-11-20 |\n| 2013 | 11 | 20 | 558 | 600 |  -2 |  921 |  927 |  -6 | UA | ⋯ | 2565 | 6 |  0 | 2013-11-20 06:00:00 |  -8 |  -8 | 20 | 11 | 2013-11-20 | 2013-11-20 |\n| 2013 | 11 | 20 | 558 | 600 |  -2 |  845 |  854 |  -9 | B6 | ⋯ | 1065 | 6 |  0 | 2013-11-20 06:00:00 | -11 | -11 | 20 | 11 | 2013-11-20 | 2013-11-20 |\n| 2013 | 11 | 20 | 559 | 600 |  -1 | 1029 | 1043 | -14 | B6 | ⋯ | 1598 | 6 |  0 | 2013-11-20 06:00:00 | -15 | -15 | 20 | 11 | 2013-11-20 | 2013-11-20 |\n| 2013 | 11 | 20 | 559 | 600 |  -1 |  830 |  825 |   5 | WN | ⋯ |  762 | 6 |  0 | 2013-11-20 06:00:00 |   4 |   4 | 20 | 11 | 2013-11-20 | 2013-11-20 |\n| 2013 | 11 | 20 | 600 | 610 | -10 |  737 |  801 | -24 | EV | ⋯ |  463 | 6 | 10 | 2013-11-20 06:00:00 | -34 | -34 | 20 | 11 | 2013-11-20 | 2013-11-20 |\n| 2013 | 11 | 20 | 600 | 600 |   0 |  850 |  905 | -15 | AA | ⋯ | 1096 | 6 |  0 | 2013-11-20 06:00:00 | -15 | -15 | 20 | 11 | 2013-11-20 | 2013-11-20 |\n| 2013 | 11 | 20 | 602 | 610 |  -8 |  800 |  812 | -12 | DL | ⋯ | 1020 | 6 | 10 | 2013-11-20 06:00:00 | -20 | -20 | 20 | 11 | 2013-11-20 | 2013-11-20 |\n| 2013 | 11 | 20 | 602 | 600 |   2 |  728 |  737 |  -9 | UA | ⋯ |  719 | 6 |  0 | 2013-11-20 06:00:00 |  -7 |  -7 | 20 | 11 | 2013-11-20 | 2013-11-20 |\n| 2013 | 11 | 20 | 602 | 600 |   2 |  653 |  658 |  -5 | US | ⋯ |   96 | 6 |  0 | 2013-11-20 06:00:00 |  -3 |  -3 | 20 | 11 | 2013-11-20 | 2013-11-20 |\n| 2013 | 11 | 20 | 603 | 611 |  -8 |  851 |  912 | -21 | B6 | ⋯ | 1069 | 6 | 11 | 2013-11-20 06:00:00 | -29 | -29 | 20 | 11 | 2013-11-20 | 2013-11-20 |\n| ⋮ | ⋮ | ⋮ | ⋮ | ⋮ | ⋮ | ⋮ | ⋮ | ⋮ | ⋮ | ⋱ | ⋮ | ⋮ | ⋮ | ⋮ | ⋮ | ⋮ | ⋮ | ⋮ | ⋮ | ⋮ |\n| 2013 | 11 | 30 | 2132 | 2135 |  -3 |   48 |   55 |  -7 | AA | ⋯ | 2475 | 21 | 35 | 2013-11-30 21:00:00 | -10 | -10 | 30 | 11 | 2013-11-30 | 2013-11-30 |\n| 2013 | 11 | 30 | 2133 | 2129 |   4 | 2254 | 2306 | -12 | UA | ⋯ |  404 | 21 | 29 | 2013-11-30 21:00:00 |  -8 |  -8 | 30 | 11 | 2013-11-30 | 2013-11-30 |\n| 2013 | 11 | 30 | 2135 | 2127 |   8 |   13 |   19 |  -6 | UA | ⋯ | 1400 | 21 | 27 | 2013-11-30 21:00:00 |   2 |   2 | 30 | 11 | 2013-11-30 | 2013-11-30 |\n| 2013 | 11 | 30 | 2137 | 2140 |  -3 |   17 |   36 | -19 | B6 | ⋯ | 1005 | 21 | 40 | 2013-11-30 21:00:00 | -22 | -22 | 30 | 11 | 2013-11-30 | 2013-11-30 |\n| 2013 | 11 | 30 | 2138 | 2050 |  48 |  207 |  135 |  32 | UA | ⋯ | 1585 | 20 | 50 | 2013-11-30 20:00:00 |  80 |  80 | 30 | 11 | 2013-11-30 | 2013-11-30 |\n| 2013 | 11 | 30 | 2140 | 2145 |  -5 |   18 |   33 | -15 | B6 | ⋯ | 1065 | 21 | 45 | 2013-11-30 21:00:00 | -20 | -20 | 30 | 11 | 2013-11-30 | 2013-11-30 |\n| 2013 | 11 | 30 | 2142 | 2125 |  17 | 2326 | 2328 |  -2 | EV | ⋯ |  594 | 21 | 25 | 2013-11-30 21:00:00 |  15 |  15 | 30 | 11 | 2013-11-30 | 2013-11-30 |\n| 2013 | 11 | 30 | 2142 | 2014 |  88 |    7 | 2242 |  85 | EV | ⋯ | 1215 | 20 | 14 | 2013-11-30 20:00:00 | 173 | 173 | 30 | 11 | 2013-11-30 | 2013-11-30 |\n| 2013 | 11 | 30 | 2143 | 2150 |  -7 | 2248 | 2311 | -23 | EV | ⋯ |  246 | 21 | 50 | 2013-11-30 21:00:00 | -30 | -30 | 30 | 11 | 2013-11-30 | 2013-11-30 |\n| 2013 | 11 | 30 | 2143 | 2145 |  -2 |   23 |   46 | -23 | B6 | ⋯ | 1069 | 21 | 45 | 2013-11-30 21:00:00 | -25 | -25 | 30 | 11 | 2013-11-30 | 2013-11-30 |\n| 2013 | 11 | 30 | 2147 | 2152 |  -5 | 2315 | 2342 | -27 | EV | ⋯ |  872 | 21 | 52 | 2013-11-30 21:00:00 | -32 | -32 | 30 | 11 | 2013-11-30 | 2013-11-30 |\n| 2013 | 11 | 30 | 2148 | 2130 |  18 | 2348 | 2359 | -11 | B6 | ⋯ | 1626 | 21 | 30 | 2013-11-30 21:00:00 |   7 |   7 | 30 | 11 | 2013-11-30 | 2013-11-30 |\n| 2013 | 11 | 30 | 2151 | 2159 |  -8 | 2259 | 2320 | -21 | EV | ⋯ |  378 | 21 | 59 | 2013-11-30 21:00:00 | -29 | -29 | 30 | 11 | 2013-11-30 | 2013-11-30 |\n| 2013 | 11 | 30 | 2152 | 2150 |   2 |   31 |   36 |  -5 | B6 | ⋯ |  944 | 21 | 50 | 2013-11-30 21:00:00 |  -3 |  -3 | 30 | 11 | 2013-11-30 | 2013-11-30 |\n| 2013 | 11 | 30 | 2156 | 2159 |  -3 | 2254 | 2305 | -11 | 9E | ⋯ |  198 | 21 | 59 | 2013-11-30 21:00:00 | -14 | -14 | 30 | 11 | 2013-11-30 | 2013-11-30 |\n| 2013 | 11 | 30 | 2202 | 2139 |  23 | 2315 | 2302 |  13 | B6 | ⋯ |  301 | 21 | 39 | 2013-11-30 21:00:00 |  36 |  36 | 30 | 11 | 2013-11-30 | 2013-11-30 |\n| 2013 | 11 | 30 | 2223 | 2229 |  -6 | 2323 | 2343 | -20 | B6 | ⋯ |  266 | 22 | 29 | 2013-11-30 22:00:00 | -26 | -26 | 30 | 11 | 2013-11-30 | 2013-11-30 |\n| 2013 | 11 | 30 | 2226 | 2129 |  57 |   59 |   10 |  49 | B6 | ⋯ |  937 | 21 | 29 | 2013-11-30 21:00:00 | 106 | 106 | 30 | 11 | 2013-11-30 | 2013-11-30 |\n| 2013 | 11 | 30 | 2235 | 1950 | 165 |  126 | 2302 | 144 | UA | ⋯ | 2402 | 19 | 50 | 2013-11-30 19:00:00 | 309 | 309 | 30 | 11 | 2013-11-30 | 2013-11-30 |\n| 2013 | 11 | 30 | 2235 | 2245 | -10 | 2336 | 2353 | -17 | B6 | ⋯ |  273 | 22 | 45 | 2013-11-30 22:00:00 | -27 | -27 | 30 | 11 | 2013-11-30 | 2013-11-30 |\n| 2013 | 11 | 30 | 2240 | 2250 | -10 | 2352 |    8 | -16 | B6 | ⋯ |  301 | 22 | 50 | 2013-11-30 22:00:00 | -26 | -26 | 30 | 11 | 2013-11-30 | 2013-11-30 |\n| 2013 | 11 | 30 | 2246 | 2229 |  17 | 2352 | 2351 |   1 | B6 | ⋯ |  264 | 22 | 29 | 2013-11-30 22:00:00 |  18 |  18 | 30 | 11 | 2013-11-30 | 2013-11-30 |\n| 2013 | 11 | 30 | 2247 | 2157 |  50 | 2344 | 2306 |  38 | UA | ⋯ |  200 | 21 | 57 | 2013-11-30 21:00:00 |  88 |  88 | 30 | 11 | 2013-11-30 | 2013-11-30 |\n| 2013 | 11 | 30 | 2248 | 2250 |  -2 | 2351 | 2356 |  -5 | B6 | ⋯ |  209 | 22 | 50 | 2013-11-30 22:00:00 |  -7 |  -7 | 30 | 11 | 2013-11-30 | 2013-11-30 |\n| 2013 | 11 | 30 | 2250 | 2255 |  -5 | 2343 | 2356 | -13 | B6 | ⋯ |  187 | 22 | 55 | 2013-11-30 22:00:00 | -18 | -18 | 30 | 11 | 2013-11-30 | 2013-11-30 |\n| 2013 | 11 | 30 | 2351 | 2359 |  -8 |  423 |  437 | -14 | B6 | ⋯ | 1576 | 23 | 59 | 2013-11-30 23:00:00 | -22 | -22 | 30 | 11 | 2013-11-30 | 2013-11-30 |\n| 2013 | 11 | 30 | 2354 | 2359 |  -5 |  430 |  440 | -10 | B6 | ⋯ | 1598 | 23 | 59 | 2013-11-30 23:00:00 | -15 | -15 | 30 | 11 | 2013-11-30 | 2013-11-30 |\n| 2013 | 11 | 30 |   NA | 1642 |  NA |   NA | 1915 |  NA | EV | ⋯ |  746 | 16 | 42 | 2013-11-30 16:00:00 |  NA |  NA | 30 | 11 | 2013-11-30 | 2013-11-30 |\n| 2013 | 11 | 30 |   NA | 1500 |  NA |   NA | 1645 |  NA | MQ | ⋯ |  431 | 15 |  0 | 2013-11-30 15:00:00 |  NA |  NA | 30 | 11 | 2013-11-30 | 2013-11-30 |\n| 2013 | 11 | 30 |   NA | 1005 |  NA |   NA | 1155 |  NA | MQ | ⋯ |  419 | 10 |  5 | 2013-11-30 10:00:00 |  NA |  NA | 30 | 11 | 2013-11-30 | 2013-11-30 |\n\n",
            "text/latex": "A data.frame: 9713 × 25\n\\begin{tabular}{lllllllllllllllllllll}\n anio & mes & day & dep\\_time & sched\\_dep\\_time & dep\\_delay & arr\\_time & sched\\_arr\\_time & arr\\_delay & carrier & ⋯ & distance & hour & minute & time\\_hour & retraso\\_neto & retraso\\_neto2 & day2 & mes2 & no\\_fecha & fecha\\\\\n <int> & <int> & <int> & <int> & <int> & <int> & <int> & <int> & <int> & <chr> & ⋯ & <int> & <int> & <int> & <chr> & <int> & <int> & <chr> & <chr> & <chr> & <date>\\\\\n\\hline\n\t 2013 & 11 & 20 & 455 & 500 &  -5 &  631 &  651 & -20 & US & ⋯ &  529 & 5 &  0 & 2013-11-20 05:00:00 & -25 & -25 & 20 & 11 & 2013-11-20 & 2013-11-20\\\\\n\t 2013 & 11 & 20 & 510 & 515 &  -5 &  749 &  808 & -19 & UA & ⋯ & 1400 & 5 & 15 & 2013-11-20 05:00:00 & -24 & -24 & 20 & 11 & 2013-11-20 & 2013-11-20\\\\\n\t 2013 & 11 & 20 & 534 & 545 & -11 &  806 &  835 & -29 & UA & ⋯ & 1416 & 5 & 45 & 2013-11-20 05:00:00 & -40 & -40 & 20 & 11 & 2013-11-20 & 2013-11-20\\\\\n\t 2013 & 11 & 20 & 536 & 545 &  -9 &  831 &  855 & -24 & AA & ⋯ & 1089 & 5 & 45 & 2013-11-20 05:00:00 & -33 & -33 & 20 & 11 & 2013-11-20 & 2013-11-20\\\\\n\t 2013 & 11 & 20 & 548 & 600 & -12 &  852 &  856 &  -4 & B6 & ⋯ & 1076 & 6 &  0 & 2013-11-20 06:00:00 & -16 & -16 & 20 & 11 & 2013-11-20 & 2013-11-20\\\\\n\t 2013 & 11 & 20 & 551 & 600 &  -9 &  716 &  717 &  -1 & EV & ⋯ &  228 & 6 &  0 & 2013-11-20 06:00:00 & -10 & -10 & 20 & 11 & 2013-11-20 & 2013-11-20\\\\\n\t 2013 & 11 & 20 & 551 & 600 &  -9 &  726 &  730 &  -4 & AA & ⋯ &  733 & 6 &  0 & 2013-11-20 06:00:00 & -13 & -13 & 20 & 11 & 2013-11-20 & 2013-11-20\\\\\n\t 2013 & 11 & 20 & 551 & 600 &  -9 &  659 &  701 &  -2 & US & ⋯ &  184 & 6 &  0 & 2013-11-20 06:00:00 & -11 & -11 & 20 & 11 & 2013-11-20 & 2013-11-20\\\\\n\t 2013 & 11 & 20 & 551 & 600 &  -9 &  647 &  659 & -12 & US & ⋯ &  214 & 6 &  0 & 2013-11-20 06:00:00 & -21 & -21 & 20 & 11 & 2013-11-20 & 2013-11-20\\\\\n\t 2013 & 11 & 20 & 552 & 600 &  -8 &  742 &  756 & -14 & DL & ⋯ &  488 & 6 &  0 & 2013-11-20 06:00:00 & -22 & -22 & 20 & 11 & 2013-11-20 & 2013-11-20\\\\\n\t 2013 & 11 & 20 & 552 & 601 &  -9 &  735 &  811 & -36 & EV & ⋯ &  529 & 6 &  1 & 2013-11-20 06:00:00 & -45 & -45 & 20 & 11 & 2013-11-20 & 2013-11-20\\\\\n\t 2013 & 11 & 20 & 554 & 600 &  -6 &  751 &  754 &  -3 & DL & ⋯ &  502 & 6 &  0 & 2013-11-20 06:00:00 &  -9 &  -9 & 20 & 11 & 2013-11-20 & 2013-11-20\\\\\n\t 2013 & 11 & 20 & 554 & 600 &  -6 &  836 &  846 & -10 & B6 & ⋯ &  944 & 6 &  0 & 2013-11-20 06:00:00 & -16 & -16 & 20 & 11 & 2013-11-20 & 2013-11-20\\\\\n\t 2013 & 11 & 20 & 556 & 600 &  -4 &  743 &  810 & -27 & EV & ⋯ &  569 & 6 &  0 & 2013-11-20 06:00:00 & -31 & -31 & 20 & 11 & 2013-11-20 & 2013-11-20\\\\\n\t 2013 & 11 & 20 & 556 & 600 &  -4 &  826 &  834 &  -8 & EV & ⋯ &  746 & 6 &  0 & 2013-11-20 06:00:00 & -12 & -12 & 20 & 11 & 2013-11-20 & 2013-11-20\\\\\n\t 2013 & 11 & 20 & 556 & 600 &  -4 &  704 &  719 & -15 & EV & ⋯ &  229 & 6 &  0 & 2013-11-20 06:00:00 & -19 & -19 & 20 & 11 & 2013-11-20 & 2013-11-20\\\\\n\t 2013 & 11 & 20 & 556 & 600 &  -4 &  702 &  719 & -17 & EV & ⋯ &  212 & 6 &  0 & 2013-11-20 06:00:00 & -21 & -21 & 20 & 11 & 2013-11-20 & 2013-11-20\\\\\n\t 2013 & 11 & 20 & 557 & 600 &  -3 &  830 &  827 &   3 & DL & ⋯ &  762 & 6 &  0 & 2013-11-20 06:00:00 &   0 &   0 & 20 & 11 & 2013-11-20 & 2013-11-20\\\\\n\t 2013 & 11 & 20 & 557 & 600 &  -3 &  922 &  933 & -11 & UA & ⋯ & 2586 & 6 &  0 & 2013-11-20 06:00:00 & -14 & -14 & 20 & 11 & 2013-11-20 & 2013-11-20\\\\\n\t 2013 & 11 & 20 & 557 & 600 &  -3 &  725 &  736 & -11 & UA & ⋯ &  733 & 6 &  0 & 2013-11-20 06:00:00 & -14 & -14 & 20 & 11 & 2013-11-20 & 2013-11-20\\\\\n\t 2013 & 11 & 20 & 558 & 600 &  -2 &  921 &  927 &  -6 & UA & ⋯ & 2565 & 6 &  0 & 2013-11-20 06:00:00 &  -8 &  -8 & 20 & 11 & 2013-11-20 & 2013-11-20\\\\\n\t 2013 & 11 & 20 & 558 & 600 &  -2 &  845 &  854 &  -9 & B6 & ⋯ & 1065 & 6 &  0 & 2013-11-20 06:00:00 & -11 & -11 & 20 & 11 & 2013-11-20 & 2013-11-20\\\\\n\t 2013 & 11 & 20 & 559 & 600 &  -1 & 1029 & 1043 & -14 & B6 & ⋯ & 1598 & 6 &  0 & 2013-11-20 06:00:00 & -15 & -15 & 20 & 11 & 2013-11-20 & 2013-11-20\\\\\n\t 2013 & 11 & 20 & 559 & 600 &  -1 &  830 &  825 &   5 & WN & ⋯ &  762 & 6 &  0 & 2013-11-20 06:00:00 &   4 &   4 & 20 & 11 & 2013-11-20 & 2013-11-20\\\\\n\t 2013 & 11 & 20 & 600 & 610 & -10 &  737 &  801 & -24 & EV & ⋯ &  463 & 6 & 10 & 2013-11-20 06:00:00 & -34 & -34 & 20 & 11 & 2013-11-20 & 2013-11-20\\\\\n\t 2013 & 11 & 20 & 600 & 600 &   0 &  850 &  905 & -15 & AA & ⋯ & 1096 & 6 &  0 & 2013-11-20 06:00:00 & -15 & -15 & 20 & 11 & 2013-11-20 & 2013-11-20\\\\\n\t 2013 & 11 & 20 & 602 & 610 &  -8 &  800 &  812 & -12 & DL & ⋯ & 1020 & 6 & 10 & 2013-11-20 06:00:00 & -20 & -20 & 20 & 11 & 2013-11-20 & 2013-11-20\\\\\n\t 2013 & 11 & 20 & 602 & 600 &   2 &  728 &  737 &  -9 & UA & ⋯ &  719 & 6 &  0 & 2013-11-20 06:00:00 &  -7 &  -7 & 20 & 11 & 2013-11-20 & 2013-11-20\\\\\n\t 2013 & 11 & 20 & 602 & 600 &   2 &  653 &  658 &  -5 & US & ⋯ &   96 & 6 &  0 & 2013-11-20 06:00:00 &  -3 &  -3 & 20 & 11 & 2013-11-20 & 2013-11-20\\\\\n\t 2013 & 11 & 20 & 603 & 611 &  -8 &  851 &  912 & -21 & B6 & ⋯ & 1069 & 6 & 11 & 2013-11-20 06:00:00 & -29 & -29 & 20 & 11 & 2013-11-20 & 2013-11-20\\\\\n\t ⋮ & ⋮ & ⋮ & ⋮ & ⋮ & ⋮ & ⋮ & ⋮ & ⋮ & ⋮ & ⋱ & ⋮ & ⋮ & ⋮ & ⋮ & ⋮ & ⋮ & ⋮ & ⋮ & ⋮ & ⋮\\\\\n\t 2013 & 11 & 30 & 2132 & 2135 &  -3 &   48 &   55 &  -7 & AA & ⋯ & 2475 & 21 & 35 & 2013-11-30 21:00:00 & -10 & -10 & 30 & 11 & 2013-11-30 & 2013-11-30\\\\\n\t 2013 & 11 & 30 & 2133 & 2129 &   4 & 2254 & 2306 & -12 & UA & ⋯ &  404 & 21 & 29 & 2013-11-30 21:00:00 &  -8 &  -8 & 30 & 11 & 2013-11-30 & 2013-11-30\\\\\n\t 2013 & 11 & 30 & 2135 & 2127 &   8 &   13 &   19 &  -6 & UA & ⋯ & 1400 & 21 & 27 & 2013-11-30 21:00:00 &   2 &   2 & 30 & 11 & 2013-11-30 & 2013-11-30\\\\\n\t 2013 & 11 & 30 & 2137 & 2140 &  -3 &   17 &   36 & -19 & B6 & ⋯ & 1005 & 21 & 40 & 2013-11-30 21:00:00 & -22 & -22 & 30 & 11 & 2013-11-30 & 2013-11-30\\\\\n\t 2013 & 11 & 30 & 2138 & 2050 &  48 &  207 &  135 &  32 & UA & ⋯ & 1585 & 20 & 50 & 2013-11-30 20:00:00 &  80 &  80 & 30 & 11 & 2013-11-30 & 2013-11-30\\\\\n\t 2013 & 11 & 30 & 2140 & 2145 &  -5 &   18 &   33 & -15 & B6 & ⋯ & 1065 & 21 & 45 & 2013-11-30 21:00:00 & -20 & -20 & 30 & 11 & 2013-11-30 & 2013-11-30\\\\\n\t 2013 & 11 & 30 & 2142 & 2125 &  17 & 2326 & 2328 &  -2 & EV & ⋯ &  594 & 21 & 25 & 2013-11-30 21:00:00 &  15 &  15 & 30 & 11 & 2013-11-30 & 2013-11-30\\\\\n\t 2013 & 11 & 30 & 2142 & 2014 &  88 &    7 & 2242 &  85 & EV & ⋯ & 1215 & 20 & 14 & 2013-11-30 20:00:00 & 173 & 173 & 30 & 11 & 2013-11-30 & 2013-11-30\\\\\n\t 2013 & 11 & 30 & 2143 & 2150 &  -7 & 2248 & 2311 & -23 & EV & ⋯ &  246 & 21 & 50 & 2013-11-30 21:00:00 & -30 & -30 & 30 & 11 & 2013-11-30 & 2013-11-30\\\\\n\t 2013 & 11 & 30 & 2143 & 2145 &  -2 &   23 &   46 & -23 & B6 & ⋯ & 1069 & 21 & 45 & 2013-11-30 21:00:00 & -25 & -25 & 30 & 11 & 2013-11-30 & 2013-11-30\\\\\n\t 2013 & 11 & 30 & 2147 & 2152 &  -5 & 2315 & 2342 & -27 & EV & ⋯ &  872 & 21 & 52 & 2013-11-30 21:00:00 & -32 & -32 & 30 & 11 & 2013-11-30 & 2013-11-30\\\\\n\t 2013 & 11 & 30 & 2148 & 2130 &  18 & 2348 & 2359 & -11 & B6 & ⋯ & 1626 & 21 & 30 & 2013-11-30 21:00:00 &   7 &   7 & 30 & 11 & 2013-11-30 & 2013-11-30\\\\\n\t 2013 & 11 & 30 & 2151 & 2159 &  -8 & 2259 & 2320 & -21 & EV & ⋯ &  378 & 21 & 59 & 2013-11-30 21:00:00 & -29 & -29 & 30 & 11 & 2013-11-30 & 2013-11-30\\\\\n\t 2013 & 11 & 30 & 2152 & 2150 &   2 &   31 &   36 &  -5 & B6 & ⋯ &  944 & 21 & 50 & 2013-11-30 21:00:00 &  -3 &  -3 & 30 & 11 & 2013-11-30 & 2013-11-30\\\\\n\t 2013 & 11 & 30 & 2156 & 2159 &  -3 & 2254 & 2305 & -11 & 9E & ⋯ &  198 & 21 & 59 & 2013-11-30 21:00:00 & -14 & -14 & 30 & 11 & 2013-11-30 & 2013-11-30\\\\\n\t 2013 & 11 & 30 & 2202 & 2139 &  23 & 2315 & 2302 &  13 & B6 & ⋯ &  301 & 21 & 39 & 2013-11-30 21:00:00 &  36 &  36 & 30 & 11 & 2013-11-30 & 2013-11-30\\\\\n\t 2013 & 11 & 30 & 2223 & 2229 &  -6 & 2323 & 2343 & -20 & B6 & ⋯ &  266 & 22 & 29 & 2013-11-30 22:00:00 & -26 & -26 & 30 & 11 & 2013-11-30 & 2013-11-30\\\\\n\t 2013 & 11 & 30 & 2226 & 2129 &  57 &   59 &   10 &  49 & B6 & ⋯ &  937 & 21 & 29 & 2013-11-30 21:00:00 & 106 & 106 & 30 & 11 & 2013-11-30 & 2013-11-30\\\\\n\t 2013 & 11 & 30 & 2235 & 1950 & 165 &  126 & 2302 & 144 & UA & ⋯ & 2402 & 19 & 50 & 2013-11-30 19:00:00 & 309 & 309 & 30 & 11 & 2013-11-30 & 2013-11-30\\\\\n\t 2013 & 11 & 30 & 2235 & 2245 & -10 & 2336 & 2353 & -17 & B6 & ⋯ &  273 & 22 & 45 & 2013-11-30 22:00:00 & -27 & -27 & 30 & 11 & 2013-11-30 & 2013-11-30\\\\\n\t 2013 & 11 & 30 & 2240 & 2250 & -10 & 2352 &    8 & -16 & B6 & ⋯ &  301 & 22 & 50 & 2013-11-30 22:00:00 & -26 & -26 & 30 & 11 & 2013-11-30 & 2013-11-30\\\\\n\t 2013 & 11 & 30 & 2246 & 2229 &  17 & 2352 & 2351 &   1 & B6 & ⋯ &  264 & 22 & 29 & 2013-11-30 22:00:00 &  18 &  18 & 30 & 11 & 2013-11-30 & 2013-11-30\\\\\n\t 2013 & 11 & 30 & 2247 & 2157 &  50 & 2344 & 2306 &  38 & UA & ⋯ &  200 & 21 & 57 & 2013-11-30 21:00:00 &  88 &  88 & 30 & 11 & 2013-11-30 & 2013-11-30\\\\\n\t 2013 & 11 & 30 & 2248 & 2250 &  -2 & 2351 & 2356 &  -5 & B6 & ⋯ &  209 & 22 & 50 & 2013-11-30 22:00:00 &  -7 &  -7 & 30 & 11 & 2013-11-30 & 2013-11-30\\\\\n\t 2013 & 11 & 30 & 2250 & 2255 &  -5 & 2343 & 2356 & -13 & B6 & ⋯ &  187 & 22 & 55 & 2013-11-30 22:00:00 & -18 & -18 & 30 & 11 & 2013-11-30 & 2013-11-30\\\\\n\t 2013 & 11 & 30 & 2351 & 2359 &  -8 &  423 &  437 & -14 & B6 & ⋯ & 1576 & 23 & 59 & 2013-11-30 23:00:00 & -22 & -22 & 30 & 11 & 2013-11-30 & 2013-11-30\\\\\n\t 2013 & 11 & 30 & 2354 & 2359 &  -5 &  430 &  440 & -10 & B6 & ⋯ & 1598 & 23 & 59 & 2013-11-30 23:00:00 & -15 & -15 & 30 & 11 & 2013-11-30 & 2013-11-30\\\\\n\t 2013 & 11 & 30 &   NA & 1642 &  NA &   NA & 1915 &  NA & EV & ⋯ &  746 & 16 & 42 & 2013-11-30 16:00:00 &  NA &  NA & 30 & 11 & 2013-11-30 & 2013-11-30\\\\\n\t 2013 & 11 & 30 &   NA & 1500 &  NA &   NA & 1645 &  NA & MQ & ⋯ &  431 & 15 &  0 & 2013-11-30 15:00:00 &  NA &  NA & 30 & 11 & 2013-11-30 & 2013-11-30\\\\\n\t 2013 & 11 & 30 &   NA & 1005 &  NA &   NA & 1155 &  NA & MQ & ⋯ &  419 & 10 &  5 & 2013-11-30 10:00:00 &  NA &  NA & 30 & 11 & 2013-11-30 & 2013-11-30\\\\\n\\end{tabular}\n",
            "text/plain": [
              "     anio mes day dep_time sched_dep_time dep_delay arr_time sched_arr_time\n",
              "1    2013 11  20  455      500             -5        631      651          \n",
              "2    2013 11  20  510      515             -5        749      808          \n",
              "3    2013 11  20  534      545            -11        806      835          \n",
              "4    2013 11  20  536      545             -9        831      855          \n",
              "5    2013 11  20  548      600            -12        852      856          \n",
              "6    2013 11  20  551      600             -9        716      717          \n",
              "7    2013 11  20  551      600             -9        726      730          \n",
              "8    2013 11  20  551      600             -9        659      701          \n",
              "9    2013 11  20  551      600             -9        647      659          \n",
              "10   2013 11  20  552      600             -8        742      756          \n",
              "11   2013 11  20  552      601             -9        735      811          \n",
              "12   2013 11  20  554      600             -6        751      754          \n",
              "13   2013 11  20  554      600             -6        836      846          \n",
              "14   2013 11  20  556      600             -4        743      810          \n",
              "15   2013 11  20  556      600             -4        826      834          \n",
              "16   2013 11  20  556      600             -4        704      719          \n",
              "17   2013 11  20  556      600             -4        702      719          \n",
              "18   2013 11  20  557      600             -3        830      827          \n",
              "19   2013 11  20  557      600             -3        922      933          \n",
              "20   2013 11  20  557      600             -3        725      736          \n",
              "21   2013 11  20  558      600             -2        921      927          \n",
              "22   2013 11  20  558      600             -2        845      854          \n",
              "23   2013 11  20  559      600             -1       1029     1043          \n",
              "24   2013 11  20  559      600             -1        830      825          \n",
              "25   2013 11  20  600      610            -10        737      801          \n",
              "26   2013 11  20  600      600              0        850      905          \n",
              "27   2013 11  20  602      610             -8        800      812          \n",
              "28   2013 11  20  602      600              2        728      737          \n",
              "29   2013 11  20  602      600              2        653      658          \n",
              "30   2013 11  20  603      611             -8        851      912          \n",
              "⋮    ⋮    ⋮   ⋮   ⋮        ⋮              ⋮         ⋮        ⋮             \n",
              "9684 2013 11  30  2132     2135            -3         48       55          \n",
              "9685 2013 11  30  2133     2129             4       2254     2306          \n",
              "9686 2013 11  30  2135     2127             8         13       19          \n",
              "9687 2013 11  30  2137     2140            -3         17       36          \n",
              "9688 2013 11  30  2138     2050            48        207      135          \n",
              "9689 2013 11  30  2140     2145            -5         18       33          \n",
              "9690 2013 11  30  2142     2125            17       2326     2328          \n",
              "9691 2013 11  30  2142     2014            88          7     2242          \n",
              "9692 2013 11  30  2143     2150            -7       2248     2311          \n",
              "9693 2013 11  30  2143     2145            -2         23       46          \n",
              "9694 2013 11  30  2147     2152            -5       2315     2342          \n",
              "9695 2013 11  30  2148     2130            18       2348     2359          \n",
              "9696 2013 11  30  2151     2159            -8       2259     2320          \n",
              "9697 2013 11  30  2152     2150             2         31       36          \n",
              "9698 2013 11  30  2156     2159            -3       2254     2305          \n",
              "9699 2013 11  30  2202     2139            23       2315     2302          \n",
              "9700 2013 11  30  2223     2229            -6       2323     2343          \n",
              "9701 2013 11  30  2226     2129            57         59       10          \n",
              "9702 2013 11  30  2235     1950           165        126     2302          \n",
              "9703 2013 11  30  2235     2245           -10       2336     2353          \n",
              "9704 2013 11  30  2240     2250           -10       2352        8          \n",
              "9705 2013 11  30  2246     2229            17       2352     2351          \n",
              "9706 2013 11  30  2247     2157            50       2344     2306          \n",
              "9707 2013 11  30  2248     2250            -2       2351     2356          \n",
              "9708 2013 11  30  2250     2255            -5       2343     2356          \n",
              "9709 2013 11  30  2351     2359            -8        423      437          \n",
              "9710 2013 11  30  2354     2359            -5        430      440          \n",
              "9711 2013 11  30    NA     1642            NA         NA     1915          \n",
              "9712 2013 11  30    NA     1500            NA         NA     1645          \n",
              "9713 2013 11  30    NA     1005            NA         NA     1155          \n",
              "     arr_delay carrier ⋯ distance hour minute time_hour           retraso_neto\n",
              "1    -20       US      ⋯  529     5     0     2013-11-20 05:00:00 -25         \n",
              "2    -19       UA      ⋯ 1400     5    15     2013-11-20 05:00:00 -24         \n",
              "3    -29       UA      ⋯ 1416     5    45     2013-11-20 05:00:00 -40         \n",
              "4    -24       AA      ⋯ 1089     5    45     2013-11-20 05:00:00 -33         \n",
              "5     -4       B6      ⋯ 1076     6     0     2013-11-20 06:00:00 -16         \n",
              "6     -1       EV      ⋯  228     6     0     2013-11-20 06:00:00 -10         \n",
              "7     -4       AA      ⋯  733     6     0     2013-11-20 06:00:00 -13         \n",
              "8     -2       US      ⋯  184     6     0     2013-11-20 06:00:00 -11         \n",
              "9    -12       US      ⋯  214     6     0     2013-11-20 06:00:00 -21         \n",
              "10   -14       DL      ⋯  488     6     0     2013-11-20 06:00:00 -22         \n",
              "11   -36       EV      ⋯  529     6     1     2013-11-20 06:00:00 -45         \n",
              "12    -3       DL      ⋯  502     6     0     2013-11-20 06:00:00  -9         \n",
              "13   -10       B6      ⋯  944     6     0     2013-11-20 06:00:00 -16         \n",
              "14   -27       EV      ⋯  569     6     0     2013-11-20 06:00:00 -31         \n",
              "15    -8       EV      ⋯  746     6     0     2013-11-20 06:00:00 -12         \n",
              "16   -15       EV      ⋯  229     6     0     2013-11-20 06:00:00 -19         \n",
              "17   -17       EV      ⋯  212     6     0     2013-11-20 06:00:00 -21         \n",
              "18     3       DL      ⋯  762     6     0     2013-11-20 06:00:00   0         \n",
              "19   -11       UA      ⋯ 2586     6     0     2013-11-20 06:00:00 -14         \n",
              "20   -11       UA      ⋯  733     6     0     2013-11-20 06:00:00 -14         \n",
              "21    -6       UA      ⋯ 2565     6     0     2013-11-20 06:00:00  -8         \n",
              "22    -9       B6      ⋯ 1065     6     0     2013-11-20 06:00:00 -11         \n",
              "23   -14       B6      ⋯ 1598     6     0     2013-11-20 06:00:00 -15         \n",
              "24     5       WN      ⋯  762     6     0     2013-11-20 06:00:00   4         \n",
              "25   -24       EV      ⋯  463     6    10     2013-11-20 06:00:00 -34         \n",
              "26   -15       AA      ⋯ 1096     6     0     2013-11-20 06:00:00 -15         \n",
              "27   -12       DL      ⋯ 1020     6    10     2013-11-20 06:00:00 -20         \n",
              "28    -9       UA      ⋯  719     6     0     2013-11-20 06:00:00  -7         \n",
              "29    -5       US      ⋯   96     6     0     2013-11-20 06:00:00  -3         \n",
              "30   -21       B6      ⋯ 1069     6    11     2013-11-20 06:00:00 -29         \n",
              "⋮    ⋮         ⋮       ⋱ ⋮        ⋮    ⋮      ⋮                   ⋮           \n",
              "9684  -7       AA      ⋯ 2475     21   35     2013-11-30 21:00:00 -10         \n",
              "9685 -12       UA      ⋯  404     21   29     2013-11-30 21:00:00  -8         \n",
              "9686  -6       UA      ⋯ 1400     21   27     2013-11-30 21:00:00   2         \n",
              "9687 -19       B6      ⋯ 1005     21   40     2013-11-30 21:00:00 -22         \n",
              "9688  32       UA      ⋯ 1585     20   50     2013-11-30 20:00:00  80         \n",
              "9689 -15       B6      ⋯ 1065     21   45     2013-11-30 21:00:00 -20         \n",
              "9690  -2       EV      ⋯  594     21   25     2013-11-30 21:00:00  15         \n",
              "9691  85       EV      ⋯ 1215     20   14     2013-11-30 20:00:00 173         \n",
              "9692 -23       EV      ⋯  246     21   50     2013-11-30 21:00:00 -30         \n",
              "9693 -23       B6      ⋯ 1069     21   45     2013-11-30 21:00:00 -25         \n",
              "9694 -27       EV      ⋯  872     21   52     2013-11-30 21:00:00 -32         \n",
              "9695 -11       B6      ⋯ 1626     21   30     2013-11-30 21:00:00   7         \n",
              "9696 -21       EV      ⋯  378     21   59     2013-11-30 21:00:00 -29         \n",
              "9697  -5       B6      ⋯  944     21   50     2013-11-30 21:00:00  -3         \n",
              "9698 -11       9E      ⋯  198     21   59     2013-11-30 21:00:00 -14         \n",
              "9699  13       B6      ⋯  301     21   39     2013-11-30 21:00:00  36         \n",
              "9700 -20       B6      ⋯  266     22   29     2013-11-30 22:00:00 -26         \n",
              "9701  49       B6      ⋯  937     21   29     2013-11-30 21:00:00 106         \n",
              "9702 144       UA      ⋯ 2402     19   50     2013-11-30 19:00:00 309         \n",
              "9703 -17       B6      ⋯  273     22   45     2013-11-30 22:00:00 -27         \n",
              "9704 -16       B6      ⋯  301     22   50     2013-11-30 22:00:00 -26         \n",
              "9705   1       B6      ⋯  264     22   29     2013-11-30 22:00:00  18         \n",
              "9706  38       UA      ⋯  200     21   57     2013-11-30 21:00:00  88         \n",
              "9707  -5       B6      ⋯  209     22   50     2013-11-30 22:00:00  -7         \n",
              "9708 -13       B6      ⋯  187     22   55     2013-11-30 22:00:00 -18         \n",
              "9709 -14       B6      ⋯ 1576     23   59     2013-11-30 23:00:00 -22         \n",
              "9710 -10       B6      ⋯ 1598     23   59     2013-11-30 23:00:00 -15         \n",
              "9711  NA       EV      ⋯  746     16   42     2013-11-30 16:00:00  NA         \n",
              "9712  NA       MQ      ⋯  431     15    0     2013-11-30 15:00:00  NA         \n",
              "9713  NA       MQ      ⋯  419     10    5     2013-11-30 10:00:00  NA         \n",
              "     retraso_neto2 day2 mes2 no_fecha   fecha     \n",
              "1    -25           20   11   2013-11-20 2013-11-20\n",
              "2    -24           20   11   2013-11-20 2013-11-20\n",
              "3    -40           20   11   2013-11-20 2013-11-20\n",
              "4    -33           20   11   2013-11-20 2013-11-20\n",
              "5    -16           20   11   2013-11-20 2013-11-20\n",
              "6    -10           20   11   2013-11-20 2013-11-20\n",
              "7    -13           20   11   2013-11-20 2013-11-20\n",
              "8    -11           20   11   2013-11-20 2013-11-20\n",
              "9    -21           20   11   2013-11-20 2013-11-20\n",
              "10   -22           20   11   2013-11-20 2013-11-20\n",
              "11   -45           20   11   2013-11-20 2013-11-20\n",
              "12    -9           20   11   2013-11-20 2013-11-20\n",
              "13   -16           20   11   2013-11-20 2013-11-20\n",
              "14   -31           20   11   2013-11-20 2013-11-20\n",
              "15   -12           20   11   2013-11-20 2013-11-20\n",
              "16   -19           20   11   2013-11-20 2013-11-20\n",
              "17   -21           20   11   2013-11-20 2013-11-20\n",
              "18     0           20   11   2013-11-20 2013-11-20\n",
              "19   -14           20   11   2013-11-20 2013-11-20\n",
              "20   -14           20   11   2013-11-20 2013-11-20\n",
              "21    -8           20   11   2013-11-20 2013-11-20\n",
              "22   -11           20   11   2013-11-20 2013-11-20\n",
              "23   -15           20   11   2013-11-20 2013-11-20\n",
              "24     4           20   11   2013-11-20 2013-11-20\n",
              "25   -34           20   11   2013-11-20 2013-11-20\n",
              "26   -15           20   11   2013-11-20 2013-11-20\n",
              "27   -20           20   11   2013-11-20 2013-11-20\n",
              "28    -7           20   11   2013-11-20 2013-11-20\n",
              "29    -3           20   11   2013-11-20 2013-11-20\n",
              "30   -29           20   11   2013-11-20 2013-11-20\n",
              "⋮    ⋮             ⋮    ⋮    ⋮          ⋮         \n",
              "9684 -10           30   11   2013-11-30 2013-11-30\n",
              "9685  -8           30   11   2013-11-30 2013-11-30\n",
              "9686   2           30   11   2013-11-30 2013-11-30\n",
              "9687 -22           30   11   2013-11-30 2013-11-30\n",
              "9688  80           30   11   2013-11-30 2013-11-30\n",
              "9689 -20           30   11   2013-11-30 2013-11-30\n",
              "9690  15           30   11   2013-11-30 2013-11-30\n",
              "9691 173           30   11   2013-11-30 2013-11-30\n",
              "9692 -30           30   11   2013-11-30 2013-11-30\n",
              "9693 -25           30   11   2013-11-30 2013-11-30\n",
              "9694 -32           30   11   2013-11-30 2013-11-30\n",
              "9695   7           30   11   2013-11-30 2013-11-30\n",
              "9696 -29           30   11   2013-11-30 2013-11-30\n",
              "9697  -3           30   11   2013-11-30 2013-11-30\n",
              "9698 -14           30   11   2013-11-30 2013-11-30\n",
              "9699  36           30   11   2013-11-30 2013-11-30\n",
              "9700 -26           30   11   2013-11-30 2013-11-30\n",
              "9701 106           30   11   2013-11-30 2013-11-30\n",
              "9702 309           30   11   2013-11-30 2013-11-30\n",
              "9703 -27           30   11   2013-11-30 2013-11-30\n",
              "9704 -26           30   11   2013-11-30 2013-11-30\n",
              "9705  18           30   11   2013-11-30 2013-11-30\n",
              "9706  88           30   11   2013-11-30 2013-11-30\n",
              "9707  -7           30   11   2013-11-30 2013-11-30\n",
              "9708 -18           30   11   2013-11-30 2013-11-30\n",
              "9709 -22           30   11   2013-11-30 2013-11-30\n",
              "9710 -15           30   11   2013-11-30 2013-11-30\n",
              "9711  NA           30   11   2013-11-30 2013-11-30\n",
              "9712  NA           30   11   2013-11-30 2013-11-30\n",
              "9713  NA           30   11   2013-11-30 2013-11-30"
            ]
          },
          "metadata": {}
        }
      ]
    },
    {
      "cell_type": "markdown",
      "metadata": {
        "id": "kEFrLb_zRPzG"
      },
      "source": [
        "### 4.5 Función group_by() y summarise()\n",
        "\n",
        "La función `summarise()` calcula medidas agregadas sobre columnas, mientras que la función `group_by`, genera un data.frame \"en bloques\" dados por la(s) columna(s) ingresadas como parámetros en la función.\n",
        "\n"
      ]
    },
    {
      "cell_type": "code",
      "metadata": {
        "trusted": true,
        "id": "4ytKeSHGRPzG",
        "outputId": "7203b9e1-5167-4997-f4f9-6042d513f57b",
        "colab": {
          "base_uri": "https://localhost:8080/",
          "height": 254
        }
      },
      "source": [
        "# group_by() y summarise() ----------------------------------------------------------------\n",
        "# Ejemplo sencillo\n",
        "exam2 <- data.frame(\n",
        "  x = c(1:5),\n",
        "  y = c(7:11),\n",
        "  z = c(\"A\", \"B\", \"A\", \"B\", \"C\")\n",
        ")\n",
        "exam2\n"
      ],
      "execution_count": null,
      "outputs": [
        {
          "output_type": "display_data",
          "data": {
            "text/html": [
              "<table class=\"dataframe\">\n",
              "<caption>A data.frame: 5 × 3</caption>\n",
              "<thead>\n",
              "\t<tr><th scope=col>x</th><th scope=col>y</th><th scope=col>z</th></tr>\n",
              "\t<tr><th scope=col>&lt;int&gt;</th><th scope=col>&lt;int&gt;</th><th scope=col>&lt;chr&gt;</th></tr>\n",
              "</thead>\n",
              "<tbody>\n",
              "\t<tr><td>1</td><td> 7</td><td>A</td></tr>\n",
              "\t<tr><td>2</td><td> 8</td><td>B</td></tr>\n",
              "\t<tr><td>3</td><td> 9</td><td>A</td></tr>\n",
              "\t<tr><td>4</td><td>10</td><td>B</td></tr>\n",
              "\t<tr><td>5</td><td>11</td><td>C</td></tr>\n",
              "</tbody>\n",
              "</table>\n"
            ],
            "text/markdown": "\nA data.frame: 5 × 3\n\n| x &lt;int&gt; | y &lt;int&gt; | z &lt;chr&gt; |\n|---|---|---|\n| 1 |  7 | A |\n| 2 |  8 | B |\n| 3 |  9 | A |\n| 4 | 10 | B |\n| 5 | 11 | C |\n\n",
            "text/latex": "A data.frame: 5 × 3\n\\begin{tabular}{lll}\n x & y & z\\\\\n <int> & <int> & <chr>\\\\\n\\hline\n\t 1 &  7 & A\\\\\n\t 2 &  8 & B\\\\\n\t 3 &  9 & A\\\\\n\t 4 & 10 & B\\\\\n\t 5 & 11 & C\\\\\n\\end{tabular}\n",
            "text/plain": [
              "  x y  z\n",
              "1 1  7 A\n",
              "2 2  8 B\n",
              "3 3  9 A\n",
              "4 4 10 B\n",
              "5 5 11 C"
            ]
          },
          "metadata": {}
        }
      ]
    },
    {
      "cell_type": "code",
      "metadata": {
        "trusted": true,
        "id": "wyjN-OYiRPzI",
        "outputId": "b98a5422-9381-4855-c557-e0c9a9d716f9",
        "colab": {
          "base_uri": "https://localhost:8080/",
          "height": 254
        }
      },
      "source": [
        "# Podemos generar un número de fila por cada grupo\n",
        "exam2 %>%\n",
        "  group_by(z)"
      ],
      "execution_count": null,
      "outputs": [
        {
          "output_type": "display_data",
          "data": {
            "text/html": [
              "<table class=\"dataframe\">\n",
              "<caption>A grouped_df: 5 × 3</caption>\n",
              "<thead>\n",
              "\t<tr><th scope=col>x</th><th scope=col>y</th><th scope=col>z</th></tr>\n",
              "\t<tr><th scope=col>&lt;int&gt;</th><th scope=col>&lt;int&gt;</th><th scope=col>&lt;chr&gt;</th></tr>\n",
              "</thead>\n",
              "<tbody>\n",
              "\t<tr><td>1</td><td> 7</td><td>A</td></tr>\n",
              "\t<tr><td>2</td><td> 8</td><td>B</td></tr>\n",
              "\t<tr><td>3</td><td> 9</td><td>A</td></tr>\n",
              "\t<tr><td>4</td><td>10</td><td>B</td></tr>\n",
              "\t<tr><td>5</td><td>11</td><td>C</td></tr>\n",
              "</tbody>\n",
              "</table>\n"
            ],
            "text/markdown": "\nA grouped_df: 5 × 3\n\n| x &lt;int&gt; | y &lt;int&gt; | z &lt;chr&gt; |\n|---|---|---|\n| 1 |  7 | A |\n| 2 |  8 | B |\n| 3 |  9 | A |\n| 4 | 10 | B |\n| 5 | 11 | C |\n\n",
            "text/latex": "A grouped\\_df: 5 × 3\n\\begin{tabular}{lll}\n x & y & z\\\\\n <int> & <int> & <chr>\\\\\n\\hline\n\t 1 &  7 & A\\\\\n\t 2 &  8 & B\\\\\n\t 3 &  9 & A\\\\\n\t 4 & 10 & B\\\\\n\t 5 & 11 & C\\\\\n\\end{tabular}\n",
            "text/plain": [
              "  x y  z\n",
              "1 1  7 A\n",
              "2 2  8 B\n",
              "3 3  9 A\n",
              "4 4 10 B\n",
              "5 5 11 C"
            ]
          },
          "metadata": {}
        }
      ]
    },
    {
      "cell_type": "code",
      "source": [
        "# Ejemplo, podemos crear una columna con la suma de x\n",
        "exam2 %>%\n",
        "  group_by(z) %>%\n",
        "  mutate(sum_x = sum(x))\n"
      ],
      "metadata": {
        "id": "ByGGI1yGK39P",
        "outputId": "b3129903-9060-4ee5-d679-b6a0e7a99b01",
        "colab": {
          "base_uri": "https://localhost:8080/",
          "height": 254
        }
      },
      "execution_count": null,
      "outputs": [
        {
          "output_type": "display_data",
          "data": {
            "text/html": [
              "<table class=\"dataframe\">\n",
              "<caption>A grouped_df: 5 × 4</caption>\n",
              "<thead>\n",
              "\t<tr><th scope=col>x</th><th scope=col>y</th><th scope=col>z</th><th scope=col>sum_x</th></tr>\n",
              "\t<tr><th scope=col>&lt;int&gt;</th><th scope=col>&lt;int&gt;</th><th scope=col>&lt;chr&gt;</th><th scope=col>&lt;int&gt;</th></tr>\n",
              "</thead>\n",
              "<tbody>\n",
              "\t<tr><td>1</td><td> 7</td><td>A</td><td>4</td></tr>\n",
              "\t<tr><td>2</td><td> 8</td><td>B</td><td>6</td></tr>\n",
              "\t<tr><td>3</td><td> 9</td><td>A</td><td>4</td></tr>\n",
              "\t<tr><td>4</td><td>10</td><td>B</td><td>6</td></tr>\n",
              "\t<tr><td>5</td><td>11</td><td>C</td><td>5</td></tr>\n",
              "</tbody>\n",
              "</table>\n"
            ],
            "text/markdown": "\nA grouped_df: 5 × 4\n\n| x &lt;int&gt; | y &lt;int&gt; | z &lt;chr&gt; | sum_x &lt;int&gt; |\n|---|---|---|---|\n| 1 |  7 | A | 4 |\n| 2 |  8 | B | 6 |\n| 3 |  9 | A | 4 |\n| 4 | 10 | B | 6 |\n| 5 | 11 | C | 5 |\n\n",
            "text/latex": "A grouped\\_df: 5 × 4\n\\begin{tabular}{llll}\n x & y & z & sum\\_x\\\\\n <int> & <int> & <chr> & <int>\\\\\n\\hline\n\t 1 &  7 & A & 4\\\\\n\t 2 &  8 & B & 6\\\\\n\t 3 &  9 & A & 4\\\\\n\t 4 & 10 & B & 6\\\\\n\t 5 & 11 & C & 5\\\\\n\\end{tabular}\n",
            "text/plain": [
              "  x y  z sum_x\n",
              "1 1  7 A 4    \n",
              "2 2  8 B 6    \n",
              "3 3  9 A 4    \n",
              "4 4 10 B 6    \n",
              "5 5 11 C 5    "
            ]
          },
          "metadata": {}
        }
      ]
    },
    {
      "cell_type": "code",
      "source": [
        "# Ejemplo, podemos crear un numero de fila\n",
        "exam2 %>%\n",
        "  mutate(rn = row_number())"
      ],
      "metadata": {
        "id": "6v3FlEXrLknn",
        "outputId": "f430e5b4-f69f-4bf2-d061-41e2c8a9d4b1",
        "colab": {
          "base_uri": "https://localhost:8080/",
          "height": 254
        }
      },
      "execution_count": null,
      "outputs": [
        {
          "output_type": "display_data",
          "data": {
            "text/html": [
              "<table class=\"dataframe\">\n",
              "<caption>A data.frame: 5 × 4</caption>\n",
              "<thead>\n",
              "\t<tr><th scope=col>x</th><th scope=col>y</th><th scope=col>z</th><th scope=col>rn</th></tr>\n",
              "\t<tr><th scope=col>&lt;int&gt;</th><th scope=col>&lt;int&gt;</th><th scope=col>&lt;chr&gt;</th><th scope=col>&lt;int&gt;</th></tr>\n",
              "</thead>\n",
              "<tbody>\n",
              "\t<tr><td>1</td><td> 7</td><td>A</td><td>1</td></tr>\n",
              "\t<tr><td>2</td><td> 8</td><td>B</td><td>2</td></tr>\n",
              "\t<tr><td>3</td><td> 9</td><td>A</td><td>3</td></tr>\n",
              "\t<tr><td>4</td><td>10</td><td>B</td><td>4</td></tr>\n",
              "\t<tr><td>5</td><td>11</td><td>C</td><td>5</td></tr>\n",
              "</tbody>\n",
              "</table>\n"
            ],
            "text/markdown": "\nA data.frame: 5 × 4\n\n| x &lt;int&gt; | y &lt;int&gt; | z &lt;chr&gt; | rn &lt;int&gt; |\n|---|---|---|---|\n| 1 |  7 | A | 1 |\n| 2 |  8 | B | 2 |\n| 3 |  9 | A | 3 |\n| 4 | 10 | B | 4 |\n| 5 | 11 | C | 5 |\n\n",
            "text/latex": "A data.frame: 5 × 4\n\\begin{tabular}{llll}\n x & y & z & rn\\\\\n <int> & <int> & <chr> & <int>\\\\\n\\hline\n\t 1 &  7 & A & 1\\\\\n\t 2 &  8 & B & 2\\\\\n\t 3 &  9 & A & 3\\\\\n\t 4 & 10 & B & 4\\\\\n\t 5 & 11 & C & 5\\\\\n\\end{tabular}\n",
            "text/plain": [
              "  x y  z rn\n",
              "1 1  7 A 1 \n",
              "2 2  8 B 2 \n",
              "3 3  9 A 3 \n",
              "4 4 10 B 4 \n",
              "5 5 11 C 5 "
            ]
          },
          "metadata": {}
        }
      ]
    },
    {
      "cell_type": "code",
      "source": [
        "# Ejemplo, podemos crear un numero de fila por grupos\n",
        "exam2 %>%\n",
        "  group_by(z) %>%\n",
        "   mutate(rn = row_number())"
      ],
      "metadata": {
        "id": "Z2nLftUHLbmy",
        "outputId": "1baff143-6f57-4697-af40-a25442f381a6",
        "colab": {
          "base_uri": "https://localhost:8080/",
          "height": 254
        }
      },
      "execution_count": null,
      "outputs": [
        {
          "output_type": "display_data",
          "data": {
            "text/html": [
              "<table class=\"dataframe\">\n",
              "<caption>A grouped_df: 5 × 4</caption>\n",
              "<thead>\n",
              "\t<tr><th scope=col>x</th><th scope=col>y</th><th scope=col>z</th><th scope=col>rn</th></tr>\n",
              "\t<tr><th scope=col>&lt;int&gt;</th><th scope=col>&lt;int&gt;</th><th scope=col>&lt;chr&gt;</th><th scope=col>&lt;int&gt;</th></tr>\n",
              "</thead>\n",
              "<tbody>\n",
              "\t<tr><td>1</td><td> 7</td><td>A</td><td>1</td></tr>\n",
              "\t<tr><td>2</td><td> 8</td><td>B</td><td>1</td></tr>\n",
              "\t<tr><td>3</td><td> 9</td><td>A</td><td>2</td></tr>\n",
              "\t<tr><td>4</td><td>10</td><td>B</td><td>2</td></tr>\n",
              "\t<tr><td>5</td><td>11</td><td>C</td><td>1</td></tr>\n",
              "</tbody>\n",
              "</table>\n"
            ],
            "text/markdown": "\nA grouped_df: 5 × 4\n\n| x &lt;int&gt; | y &lt;int&gt; | z &lt;chr&gt; | rn &lt;int&gt; |\n|---|---|---|---|\n| 1 |  7 | A | 1 |\n| 2 |  8 | B | 1 |\n| 3 |  9 | A | 2 |\n| 4 | 10 | B | 2 |\n| 5 | 11 | C | 1 |\n\n",
            "text/latex": "A grouped\\_df: 5 × 4\n\\begin{tabular}{llll}\n x & y & z & rn\\\\\n <int> & <int> & <chr> & <int>\\\\\n\\hline\n\t 1 &  7 & A & 1\\\\\n\t 2 &  8 & B & 1\\\\\n\t 3 &  9 & A & 2\\\\\n\t 4 & 10 & B & 2\\\\\n\t 5 & 11 & C & 1\\\\\n\\end{tabular}\n",
            "text/plain": [
              "  x y  z rn\n",
              "1 1  7 A 1 \n",
              "2 2  8 B 1 \n",
              "3 3  9 A 2 \n",
              "4 4 10 B 2 \n",
              "5 5 11 C 1 "
            ]
          },
          "metadata": {}
        }
      ]
    },
    {
      "cell_type": "code",
      "metadata": {
        "trusted": true,
        "id": "nqMyjd6aRPzK",
        "outputId": "fe785d0d-2258-437a-fa3f-d94ad1c0df02",
        "colab": {
          "base_uri": "https://localhost:8080/",
          "height": 338
        }
      },
      "source": [
        "# 1) Aplicar la función summarise a la columna 'y' y calcular su promedio\n",
        "exam2 %>%\n",
        "  summarise(y_prom = mean(y))\n",
        "\n",
        "# 2) Generar grupos según la variable z. (a diferencia de sql, el comando group_by() no requiere de una medida agregada para que este funcione.)\n",
        "# select z, avg(x) mean_x, sum(x) tot_x from exam2 group by z\n",
        "\n",
        "exam2 %>%\n",
        "  group_by(z) %>%\n",
        "  summarise(y_prom = mean(y),\n",
        "            x_sum = sum(x),\n",
        "            y_max = max(y),\n",
        "            x_sd = sd(x))"
      ],
      "execution_count": null,
      "outputs": [
        {
          "output_type": "display_data",
          "data": {
            "text/html": [
              "<table class=\"dataframe\">\n",
              "<caption>A data.frame: 1 × 1</caption>\n",
              "<thead>\n",
              "\t<tr><th scope=col>y_prom</th></tr>\n",
              "\t<tr><th scope=col>&lt;dbl&gt;</th></tr>\n",
              "</thead>\n",
              "<tbody>\n",
              "\t<tr><td>9</td></tr>\n",
              "</tbody>\n",
              "</table>\n"
            ],
            "text/markdown": "\nA data.frame: 1 × 1\n\n| y_prom &lt;dbl&gt; |\n|---|\n| 9 |\n\n",
            "text/latex": "A data.frame: 1 × 1\n\\begin{tabular}{l}\n y\\_prom\\\\\n <dbl>\\\\\n\\hline\n\t 9\\\\\n\\end{tabular}\n",
            "text/plain": [
              "  y_prom\n",
              "1 9     "
            ]
          },
          "metadata": {}
        },
        {
          "output_type": "display_data",
          "data": {
            "text/html": [
              "<table class=\"dataframe\">\n",
              "<caption>A tibble: 3 × 5</caption>\n",
              "<thead>\n",
              "\t<tr><th scope=col>z</th><th scope=col>y_prom</th><th scope=col>x_sum</th><th scope=col>y_max</th><th scope=col>x_sd</th></tr>\n",
              "\t<tr><th scope=col>&lt;chr&gt;</th><th scope=col>&lt;dbl&gt;</th><th scope=col>&lt;int&gt;</th><th scope=col>&lt;int&gt;</th><th scope=col>&lt;dbl&gt;</th></tr>\n",
              "</thead>\n",
              "<tbody>\n",
              "\t<tr><td>A</td><td> 8</td><td>4</td><td> 9</td><td>1.414214</td></tr>\n",
              "\t<tr><td>B</td><td> 9</td><td>6</td><td>10</td><td>1.414214</td></tr>\n",
              "\t<tr><td>C</td><td>11</td><td>5</td><td>11</td><td>      NA</td></tr>\n",
              "</tbody>\n",
              "</table>\n"
            ],
            "text/markdown": "\nA tibble: 3 × 5\n\n| z &lt;chr&gt; | y_prom &lt;dbl&gt; | x_sum &lt;int&gt; | y_max &lt;int&gt; | x_sd &lt;dbl&gt; |\n|---|---|---|---|---|\n| A |  8 | 4 |  9 | 1.414214 |\n| B |  9 | 6 | 10 | 1.414214 |\n| C | 11 | 5 | 11 |       NA |\n\n",
            "text/latex": "A tibble: 3 × 5\n\\begin{tabular}{lllll}\n z & y\\_prom & x\\_sum & y\\_max & x\\_sd\\\\\n <chr> & <dbl> & <int> & <int> & <dbl>\\\\\n\\hline\n\t A &  8 & 4 &  9 & 1.414214\\\\\n\t B &  9 & 6 & 10 & 1.414214\\\\\n\t C & 11 & 5 & 11 &       NA\\\\\n\\end{tabular}\n",
            "text/plain": [
              "  z y_prom x_sum y_max x_sd    \n",
              "1 A  8     4      9    1.414214\n",
              "2 B  9     6     10    1.414214\n",
              "3 C 11     5     11          NA"
            ]
          },
          "metadata": {}
        }
      ]
    },
    {
      "cell_type": "code",
      "metadata": {
        "trusted": true,
        "id": "4-Ru4aPVRPzL"
      },
      "source": [
        "# 3) Calcular media de x e y en cada valor de z.\n",
        "# podemos calcular máximos y mínimos\n"
      ],
      "execution_count": null,
      "outputs": []
    },
    {
      "cell_type": "code",
      "source": [
        "head(vuelos)"
      ],
      "metadata": {
        "id": "CISq-mvPOObt",
        "outputId": "ea0bc652-c662-46ac-aa0e-26d92bd3f29b",
        "colab": {
          "base_uri": "https://localhost:8080/",
          "height": 514
        }
      },
      "execution_count": null,
      "outputs": [
        {
          "output_type": "display_data",
          "data": {
            "text/html": [
              "<table class=\"dataframe\">\n",
              "<caption>A data.frame: 6 × 25</caption>\n",
              "<thead>\n",
              "\t<tr><th></th><th scope=col>anio</th><th scope=col>mes</th><th scope=col>day</th><th scope=col>dep_time</th><th scope=col>sched_dep_time</th><th scope=col>dep_delay</th><th scope=col>arr_time</th><th scope=col>sched_arr_time</th><th scope=col>arr_delay</th><th scope=col>carrier</th><th scope=col>⋯</th><th scope=col>distance</th><th scope=col>hour</th><th scope=col>minute</th><th scope=col>time_hour</th><th scope=col>retraso_neto</th><th scope=col>retraso_neto2</th><th scope=col>day2</th><th scope=col>mes2</th><th scope=col>no_fecha</th><th scope=col>fecha</th></tr>\n",
              "\t<tr><th></th><th scope=col>&lt;int&gt;</th><th scope=col>&lt;int&gt;</th><th scope=col>&lt;int&gt;</th><th scope=col>&lt;int&gt;</th><th scope=col>&lt;int&gt;</th><th scope=col>&lt;int&gt;</th><th scope=col>&lt;int&gt;</th><th scope=col>&lt;int&gt;</th><th scope=col>&lt;int&gt;</th><th scope=col>&lt;chr&gt;</th><th scope=col>⋯</th><th scope=col>&lt;int&gt;</th><th scope=col>&lt;int&gt;</th><th scope=col>&lt;int&gt;</th><th scope=col>&lt;chr&gt;</th><th scope=col>&lt;int&gt;</th><th scope=col>&lt;int&gt;</th><th scope=col>&lt;chr&gt;</th><th scope=col>&lt;chr&gt;</th><th scope=col>&lt;chr&gt;</th><th scope=col>&lt;date&gt;</th></tr>\n",
              "</thead>\n",
              "<tbody>\n",
              "\t<tr><th scope=row>1</th><td>2013</td><td>1</td><td>1</td><td>517</td><td>515</td><td> 2</td><td> 830</td><td> 819</td><td> 11</td><td>UA</td><td>⋯</td><td>1400</td><td>5</td><td>15</td><td>2013-01-01 05:00:00</td><td> 13</td><td> 13</td><td>01</td><td>01</td><td>2013-01-01</td><td>2013-01-01</td></tr>\n",
              "\t<tr><th scope=row>2</th><td>2013</td><td>1</td><td>1</td><td>533</td><td>529</td><td> 4</td><td> 850</td><td> 830</td><td> 20</td><td>UA</td><td>⋯</td><td>1416</td><td>5</td><td>29</td><td>2013-01-01 05:00:00</td><td> 24</td><td> 24</td><td>01</td><td>01</td><td>2013-01-01</td><td>2013-01-01</td></tr>\n",
              "\t<tr><th scope=row>3</th><td>2013</td><td>1</td><td>1</td><td>542</td><td>540</td><td> 2</td><td> 923</td><td> 850</td><td> 33</td><td>AA</td><td>⋯</td><td>1089</td><td>5</td><td>40</td><td>2013-01-01 05:00:00</td><td> 35</td><td> 35</td><td>01</td><td>01</td><td>2013-01-01</td><td>2013-01-01</td></tr>\n",
              "\t<tr><th scope=row>4</th><td>2013</td><td>1</td><td>1</td><td>544</td><td>545</td><td>-1</td><td>1004</td><td>1022</td><td>-18</td><td>B6</td><td>⋯</td><td>1576</td><td>5</td><td>45</td><td>2013-01-01 05:00:00</td><td>-19</td><td>-19</td><td>01</td><td>01</td><td>2013-01-01</td><td>2013-01-01</td></tr>\n",
              "\t<tr><th scope=row>5</th><td>2013</td><td>1</td><td>1</td><td>554</td><td>600</td><td>-6</td><td> 812</td><td> 837</td><td>-25</td><td>DL</td><td>⋯</td><td> 762</td><td>6</td><td> 0</td><td>2013-01-01 06:00:00</td><td>-31</td><td>-31</td><td>01</td><td>01</td><td>2013-01-01</td><td>2013-01-01</td></tr>\n",
              "\t<tr><th scope=row>6</th><td>2013</td><td>1</td><td>1</td><td>554</td><td>558</td><td>-4</td><td> 740</td><td> 728</td><td> 12</td><td>UA</td><td>⋯</td><td> 719</td><td>5</td><td>58</td><td>2013-01-01 05:00:00</td><td>  8</td><td>  8</td><td>01</td><td>01</td><td>2013-01-01</td><td>2013-01-01</td></tr>\n",
              "</tbody>\n",
              "</table>\n"
            ],
            "text/markdown": "\nA data.frame: 6 × 25\n\n| <!--/--> | anio &lt;int&gt; | mes &lt;int&gt; | day &lt;int&gt; | dep_time &lt;int&gt; | sched_dep_time &lt;int&gt; | dep_delay &lt;int&gt; | arr_time &lt;int&gt; | sched_arr_time &lt;int&gt; | arr_delay &lt;int&gt; | carrier &lt;chr&gt; | ⋯ ⋯ | distance &lt;int&gt; | hour &lt;int&gt; | minute &lt;int&gt; | time_hour &lt;chr&gt; | retraso_neto &lt;int&gt; | retraso_neto2 &lt;int&gt; | day2 &lt;chr&gt; | mes2 &lt;chr&gt; | no_fecha &lt;chr&gt; | fecha &lt;date&gt; |\n|---|---|---|---|---|---|---|---|---|---|---|---|---|---|---|---|---|---|---|---|---|---|\n| 1 | 2013 | 1 | 1 | 517 | 515 |  2 |  830 |  819 |  11 | UA | ⋯ | 1400 | 5 | 15 | 2013-01-01 05:00:00 |  13 |  13 | 01 | 01 | 2013-01-01 | 2013-01-01 |\n| 2 | 2013 | 1 | 1 | 533 | 529 |  4 |  850 |  830 |  20 | UA | ⋯ | 1416 | 5 | 29 | 2013-01-01 05:00:00 |  24 |  24 | 01 | 01 | 2013-01-01 | 2013-01-01 |\n| 3 | 2013 | 1 | 1 | 542 | 540 |  2 |  923 |  850 |  33 | AA | ⋯ | 1089 | 5 | 40 | 2013-01-01 05:00:00 |  35 |  35 | 01 | 01 | 2013-01-01 | 2013-01-01 |\n| 4 | 2013 | 1 | 1 | 544 | 545 | -1 | 1004 | 1022 | -18 | B6 | ⋯ | 1576 | 5 | 45 | 2013-01-01 05:00:00 | -19 | -19 | 01 | 01 | 2013-01-01 | 2013-01-01 |\n| 5 | 2013 | 1 | 1 | 554 | 600 | -6 |  812 |  837 | -25 | DL | ⋯ |  762 | 6 |  0 | 2013-01-01 06:00:00 | -31 | -31 | 01 | 01 | 2013-01-01 | 2013-01-01 |\n| 6 | 2013 | 1 | 1 | 554 | 558 | -4 |  740 |  728 |  12 | UA | ⋯ |  719 | 5 | 58 | 2013-01-01 05:00:00 |   8 |   8 | 01 | 01 | 2013-01-01 | 2013-01-01 |\n\n",
            "text/latex": "A data.frame: 6 × 25\n\\begin{tabular}{r|lllllllllllllllllllll}\n  & anio & mes & day & dep\\_time & sched\\_dep\\_time & dep\\_delay & arr\\_time & sched\\_arr\\_time & arr\\_delay & carrier & ⋯ & distance & hour & minute & time\\_hour & retraso\\_neto & retraso\\_neto2 & day2 & mes2 & no\\_fecha & fecha\\\\\n  & <int> & <int> & <int> & <int> & <int> & <int> & <int> & <int> & <int> & <chr> & ⋯ & <int> & <int> & <int> & <chr> & <int> & <int> & <chr> & <chr> & <chr> & <date>\\\\\n\\hline\n\t1 & 2013 & 1 & 1 & 517 & 515 &  2 &  830 &  819 &  11 & UA & ⋯ & 1400 & 5 & 15 & 2013-01-01 05:00:00 &  13 &  13 & 01 & 01 & 2013-01-01 & 2013-01-01\\\\\n\t2 & 2013 & 1 & 1 & 533 & 529 &  4 &  850 &  830 &  20 & UA & ⋯ & 1416 & 5 & 29 & 2013-01-01 05:00:00 &  24 &  24 & 01 & 01 & 2013-01-01 & 2013-01-01\\\\\n\t3 & 2013 & 1 & 1 & 542 & 540 &  2 &  923 &  850 &  33 & AA & ⋯ & 1089 & 5 & 40 & 2013-01-01 05:00:00 &  35 &  35 & 01 & 01 & 2013-01-01 & 2013-01-01\\\\\n\t4 & 2013 & 1 & 1 & 544 & 545 & -1 & 1004 & 1022 & -18 & B6 & ⋯ & 1576 & 5 & 45 & 2013-01-01 05:00:00 & -19 & -19 & 01 & 01 & 2013-01-01 & 2013-01-01\\\\\n\t5 & 2013 & 1 & 1 & 554 & 600 & -6 &  812 &  837 & -25 & DL & ⋯ &  762 & 6 &  0 & 2013-01-01 06:00:00 & -31 & -31 & 01 & 01 & 2013-01-01 & 2013-01-01\\\\\n\t6 & 2013 & 1 & 1 & 554 & 558 & -4 &  740 &  728 &  12 & UA & ⋯ &  719 & 5 & 58 & 2013-01-01 05:00:00 &   8 &   8 & 01 & 01 & 2013-01-01 & 2013-01-01\\\\\n\\end{tabular}\n",
            "text/plain": [
              "  anio mes day dep_time sched_dep_time dep_delay arr_time sched_arr_time\n",
              "1 2013 1   1   517      515             2         830      819          \n",
              "2 2013 1   1   533      529             4         850      830          \n",
              "3 2013 1   1   542      540             2         923      850          \n",
              "4 2013 1   1   544      545            -1        1004     1022          \n",
              "5 2013 1   1   554      600            -6         812      837          \n",
              "6 2013 1   1   554      558            -4         740      728          \n",
              "  arr_delay carrier ⋯ distance hour minute time_hour           retraso_neto\n",
              "1  11       UA      ⋯ 1400     5    15     2013-01-01 05:00:00  13         \n",
              "2  20       UA      ⋯ 1416     5    29     2013-01-01 05:00:00  24         \n",
              "3  33       AA      ⋯ 1089     5    40     2013-01-01 05:00:00  35         \n",
              "4 -18       B6      ⋯ 1576     5    45     2013-01-01 05:00:00 -19         \n",
              "5 -25       DL      ⋯  762     6     0     2013-01-01 06:00:00 -31         \n",
              "6  12       UA      ⋯  719     5    58     2013-01-01 05:00:00   8         \n",
              "  retraso_neto2 day2 mes2 no_fecha   fecha     \n",
              "1  13           01   01   2013-01-01 2013-01-01\n",
              "2  24           01   01   2013-01-01 2013-01-01\n",
              "3  35           01   01   2013-01-01 2013-01-01\n",
              "4 -19           01   01   2013-01-01 2013-01-01\n",
              "5 -31           01   01   2013-01-01 2013-01-01\n",
              "6   8           01   01   2013-01-01 2013-01-01"
            ]
          },
          "metadata": {}
        }
      ]
    },
    {
      "cell_type": "code",
      "metadata": {
        "trusted": true,
        "id": "o837pCUtRPzU",
        "outputId": "50ba5822-aa90-4ad4-c63d-6f9538b12563",
        "colab": {
          "base_uri": "https://localhost:8080/",
          "height": 1000
        }
      },
      "source": [
        "# promedio de retraso de llegada por origen-destino\n",
        "vuelos %>%\n",
        "  group_by(origin, dest) %>%\n",
        "  summarise(prom_arr_del = mean(arr_delay, na.rm = T))\n"
      ],
      "execution_count": null,
      "outputs": [
        {
          "output_type": "stream",
          "name": "stderr",
          "text": [
            "\u001b[1m\u001b[22m`summarise()` has grouped output by 'origin'. You can override using the\n",
            "`.groups` argument.\n"
          ]
        },
        {
          "output_type": "display_data",
          "data": {
            "text/html": [
              "<table class=\"dataframe\">\n",
              "<caption>A grouped_df: 224 × 3</caption>\n",
              "<thead>\n",
              "\t<tr><th scope=col>origin</th><th scope=col>dest</th><th scope=col>prom_arr_del</th></tr>\n",
              "\t<tr><th scope=col>&lt;chr&gt;</th><th scope=col>&lt;chr&gt;</th><th scope=col>&lt;dbl&gt;</th></tr>\n",
              "</thead>\n",
              "<tbody>\n",
              "\t<tr><td>EWR</td><td>ALB</td><td>14.3971292</td></tr>\n",
              "\t<tr><td>EWR</td><td>ANC</td><td>-2.5000000</td></tr>\n",
              "\t<tr><td>EWR</td><td>ATL</td><td>13.2331829</td></tr>\n",
              "\t<tr><td>EWR</td><td>AUS</td><td>-0.4743992</td></tr>\n",
              "\t<tr><td>EWR</td><td>AVL</td><td> 8.8047809</td></tr>\n",
              "\t<tr><td>EWR</td><td>BDL</td><td> 7.0485437</td></tr>\n",
              "\t<tr><td>EWR</td><td>BNA</td><td>12.7081660</td></tr>\n",
              "\t<tr><td>EWR</td><td>BOS</td><td> 4.7836859</td></tr>\n",
              "\t<tr><td>EWR</td><td>BQN</td><td>10.8644068</td></tr>\n",
              "\t<tr><td>EWR</td><td>BTV</td><td>12.1862302</td></tr>\n",
              "\t<tr><td>EWR</td><td>BUF</td><td> 9.6965812</td></tr>\n",
              "\t<tr><td>EWR</td><td>BWI</td><td>15.0763359</td></tr>\n",
              "\t<tr><td>EWR</td><td>BZN</td><td> 7.6000000</td></tr>\n",
              "\t<tr><td>EWR</td><td>CAE</td><td>44.5851064</td></tr>\n",
              "\t<tr><td>EWR</td><td>CHS</td><td>16.1861504</td></tr>\n",
              "\t<tr><td>EWR</td><td>CLE</td><td> 5.0358382</td></tr>\n",
              "\t<tr><td>EWR</td><td>CLT</td><td> 7.7819334</td></tr>\n",
              "\t<tr><td>EWR</td><td>CMH</td><td> 9.6020408</td></tr>\n",
              "\t<tr><td>EWR</td><td>CVG</td><td>14.9255869</td></tr>\n",
              "\t<tr><td>EWR</td><td>DAY</td><td>18.3841060</td></tr>\n",
              "\t<tr><td>EWR</td><td>DCA</td><td>21.3139757</td></tr>\n",
              "\t<tr><td>EWR</td><td>DEN</td><td> 9.0337478</td></tr>\n",
              "\t<tr><td>EWR</td><td>DFW</td><td> 1.8981420</td></tr>\n",
              "\t<tr><td>EWR</td><td>DSM</td><td>23.5487179</td></tr>\n",
              "\t<tr><td>EWR</td><td>DTW</td><td>10.9155866</td></tr>\n",
              "\t<tr><td>EWR</td><td>EGE</td><td>-5.3490566</td></tr>\n",
              "\t<tr><td>EWR</td><td>FLL</td><td> 7.7612299</td></tr>\n",
              "\t<tr><td>EWR</td><td>GRR</td><td>19.3706395</td></tr>\n",
              "\t<tr><td>EWR</td><td>GSO</td><td>17.6622010</td></tr>\n",
              "\t<tr><td>EWR</td><td>GSP</td><td>18.1430636</td></tr>\n",
              "\t<tr><td>⋮</td><td>⋮</td><td>⋮</td></tr>\n",
              "\t<tr><td>LGA</td><td>MDW</td><td> 11.0500736</td></tr>\n",
              "\t<tr><td>LGA</td><td>MEM</td><td>  1.3464286</td></tr>\n",
              "\t<tr><td>LGA</td><td>MHT</td><td> 17.5277778</td></tr>\n",
              "\t<tr><td>LGA</td><td>MIA</td><td> -0.0657664</td></tr>\n",
              "\t<tr><td>LGA</td><td>MKE</td><td>  7.2528736</td></tr>\n",
              "\t<tr><td>LGA</td><td>MSN</td><td> 15.2890995</td></tr>\n",
              "\t<tr><td>LGA</td><td>MSP</td><td>  6.1312155</td></tr>\n",
              "\t<tr><td>LGA</td><td>MSY</td><td>  2.3336673</td></tr>\n",
              "\t<tr><td>LGA</td><td>MYR</td><td> -3.0000000</td></tr>\n",
              "\t<tr><td>LGA</td><td>OMA</td><td> 13.7362637</td></tr>\n",
              "\t<tr><td>LGA</td><td>ORD</td><td>  1.8334313</td></tr>\n",
              "\t<tr><td>LGA</td><td>ORF</td><td>  7.7846154</td></tr>\n",
              "\t<tr><td>LGA</td><td>PBI</td><td>  6.0152326</td></tr>\n",
              "\t<tr><td>LGA</td><td>PHL</td><td>  5.7792642</td></tr>\n",
              "\t<tr><td>LGA</td><td>PIT</td><td>  9.6343874</td></tr>\n",
              "\t<tr><td>LGA</td><td>PWM</td><td>  1.8608059</td></tr>\n",
              "\t<tr><td>LGA</td><td>RDU</td><td>  8.4166172</td></tr>\n",
              "\t<tr><td>LGA</td><td>RIC</td><td>  5.6424242</td></tr>\n",
              "\t<tr><td>LGA</td><td>ROC</td><td>  1.8101852</td></tr>\n",
              "\t<tr><td>LGA</td><td>RSW</td><td>  7.0611702</td></tr>\n",
              "\t<tr><td>LGA</td><td>SAV</td><td>-10.5147059</td></tr>\n",
              "\t<tr><td>LGA</td><td>SBN</td><td> 14.5000000</td></tr>\n",
              "\t<tr><td>LGA</td><td>SDF</td><td> -3.4428571</td></tr>\n",
              "\t<tr><td>LGA</td><td>SRQ</td><td>  4.5939643</td></tr>\n",
              "\t<tr><td>LGA</td><td>STL</td><td>  4.0882852</td></tr>\n",
              "\t<tr><td>LGA</td><td>SYR</td><td>  9.2527881</td></tr>\n",
              "\t<tr><td>LGA</td><td>TPA</td><td>  8.2064911</td></tr>\n",
              "\t<tr><td>LGA</td><td>TVC</td><td> 15.9726027</td></tr>\n",
              "\t<tr><td>LGA</td><td>TYS</td><td>  3.8943396</td></tr>\n",
              "\t<tr><td>LGA</td><td>XNA</td><td>  7.1142454</td></tr>\n",
              "</tbody>\n",
              "</table>\n"
            ],
            "text/markdown": "\nA grouped_df: 224 × 3\n\n| origin &lt;chr&gt; | dest &lt;chr&gt; | prom_arr_del &lt;dbl&gt; |\n|---|---|---|\n| EWR | ALB | 14.3971292 |\n| EWR | ANC | -2.5000000 |\n| EWR | ATL | 13.2331829 |\n| EWR | AUS | -0.4743992 |\n| EWR | AVL |  8.8047809 |\n| EWR | BDL |  7.0485437 |\n| EWR | BNA | 12.7081660 |\n| EWR | BOS |  4.7836859 |\n| EWR | BQN | 10.8644068 |\n| EWR | BTV | 12.1862302 |\n| EWR | BUF |  9.6965812 |\n| EWR | BWI | 15.0763359 |\n| EWR | BZN |  7.6000000 |\n| EWR | CAE | 44.5851064 |\n| EWR | CHS | 16.1861504 |\n| EWR | CLE |  5.0358382 |\n| EWR | CLT |  7.7819334 |\n| EWR | CMH |  9.6020408 |\n| EWR | CVG | 14.9255869 |\n| EWR | DAY | 18.3841060 |\n| EWR | DCA | 21.3139757 |\n| EWR | DEN |  9.0337478 |\n| EWR | DFW |  1.8981420 |\n| EWR | DSM | 23.5487179 |\n| EWR | DTW | 10.9155866 |\n| EWR | EGE | -5.3490566 |\n| EWR | FLL |  7.7612299 |\n| EWR | GRR | 19.3706395 |\n| EWR | GSO | 17.6622010 |\n| EWR | GSP | 18.1430636 |\n| ⋮ | ⋮ | ⋮ |\n| LGA | MDW |  11.0500736 |\n| LGA | MEM |   1.3464286 |\n| LGA | MHT |  17.5277778 |\n| LGA | MIA |  -0.0657664 |\n| LGA | MKE |   7.2528736 |\n| LGA | MSN |  15.2890995 |\n| LGA | MSP |   6.1312155 |\n| LGA | MSY |   2.3336673 |\n| LGA | MYR |  -3.0000000 |\n| LGA | OMA |  13.7362637 |\n| LGA | ORD |   1.8334313 |\n| LGA | ORF |   7.7846154 |\n| LGA | PBI |   6.0152326 |\n| LGA | PHL |   5.7792642 |\n| LGA | PIT |   9.6343874 |\n| LGA | PWM |   1.8608059 |\n| LGA | RDU |   8.4166172 |\n| LGA | RIC |   5.6424242 |\n| LGA | ROC |   1.8101852 |\n| LGA | RSW |   7.0611702 |\n| LGA | SAV | -10.5147059 |\n| LGA | SBN |  14.5000000 |\n| LGA | SDF |  -3.4428571 |\n| LGA | SRQ |   4.5939643 |\n| LGA | STL |   4.0882852 |\n| LGA | SYR |   9.2527881 |\n| LGA | TPA |   8.2064911 |\n| LGA | TVC |  15.9726027 |\n| LGA | TYS |   3.8943396 |\n| LGA | XNA |   7.1142454 |\n\n",
            "text/latex": "A grouped\\_df: 224 × 3\n\\begin{tabular}{lll}\n origin & dest & prom\\_arr\\_del\\\\\n <chr> & <chr> & <dbl>\\\\\n\\hline\n\t EWR & ALB & 14.3971292\\\\\n\t EWR & ANC & -2.5000000\\\\\n\t EWR & ATL & 13.2331829\\\\\n\t EWR & AUS & -0.4743992\\\\\n\t EWR & AVL &  8.8047809\\\\\n\t EWR & BDL &  7.0485437\\\\\n\t EWR & BNA & 12.7081660\\\\\n\t EWR & BOS &  4.7836859\\\\\n\t EWR & BQN & 10.8644068\\\\\n\t EWR & BTV & 12.1862302\\\\\n\t EWR & BUF &  9.6965812\\\\\n\t EWR & BWI & 15.0763359\\\\\n\t EWR & BZN &  7.6000000\\\\\n\t EWR & CAE & 44.5851064\\\\\n\t EWR & CHS & 16.1861504\\\\\n\t EWR & CLE &  5.0358382\\\\\n\t EWR & CLT &  7.7819334\\\\\n\t EWR & CMH &  9.6020408\\\\\n\t EWR & CVG & 14.9255869\\\\\n\t EWR & DAY & 18.3841060\\\\\n\t EWR & DCA & 21.3139757\\\\\n\t EWR & DEN &  9.0337478\\\\\n\t EWR & DFW &  1.8981420\\\\\n\t EWR & DSM & 23.5487179\\\\\n\t EWR & DTW & 10.9155866\\\\\n\t EWR & EGE & -5.3490566\\\\\n\t EWR & FLL &  7.7612299\\\\\n\t EWR & GRR & 19.3706395\\\\\n\t EWR & GSO & 17.6622010\\\\\n\t EWR & GSP & 18.1430636\\\\\n\t ⋮ & ⋮ & ⋮\\\\\n\t LGA & MDW &  11.0500736\\\\\n\t LGA & MEM &   1.3464286\\\\\n\t LGA & MHT &  17.5277778\\\\\n\t LGA & MIA &  -0.0657664\\\\\n\t LGA & MKE &   7.2528736\\\\\n\t LGA & MSN &  15.2890995\\\\\n\t LGA & MSP &   6.1312155\\\\\n\t LGA & MSY &   2.3336673\\\\\n\t LGA & MYR &  -3.0000000\\\\\n\t LGA & OMA &  13.7362637\\\\\n\t LGA & ORD &   1.8334313\\\\\n\t LGA & ORF &   7.7846154\\\\\n\t LGA & PBI &   6.0152326\\\\\n\t LGA & PHL &   5.7792642\\\\\n\t LGA & PIT &   9.6343874\\\\\n\t LGA & PWM &   1.8608059\\\\\n\t LGA & RDU &   8.4166172\\\\\n\t LGA & RIC &   5.6424242\\\\\n\t LGA & ROC &   1.8101852\\\\\n\t LGA & RSW &   7.0611702\\\\\n\t LGA & SAV & -10.5147059\\\\\n\t LGA & SBN &  14.5000000\\\\\n\t LGA & SDF &  -3.4428571\\\\\n\t LGA & SRQ &   4.5939643\\\\\n\t LGA & STL &   4.0882852\\\\\n\t LGA & SYR &   9.2527881\\\\\n\t LGA & TPA &   8.2064911\\\\\n\t LGA & TVC &  15.9726027\\\\\n\t LGA & TYS &   3.8943396\\\\\n\t LGA & XNA &   7.1142454\\\\\n\\end{tabular}\n",
            "text/plain": [
              "    origin dest prom_arr_del\n",
              "1   EWR    ALB  14.3971292  \n",
              "2   EWR    ANC  -2.5000000  \n",
              "3   EWR    ATL  13.2331829  \n",
              "4   EWR    AUS  -0.4743992  \n",
              "5   EWR    AVL   8.8047809  \n",
              "6   EWR    BDL   7.0485437  \n",
              "7   EWR    BNA  12.7081660  \n",
              "8   EWR    BOS   4.7836859  \n",
              "9   EWR    BQN  10.8644068  \n",
              "10  EWR    BTV  12.1862302  \n",
              "11  EWR    BUF   9.6965812  \n",
              "12  EWR    BWI  15.0763359  \n",
              "13  EWR    BZN   7.6000000  \n",
              "14  EWR    CAE  44.5851064  \n",
              "15  EWR    CHS  16.1861504  \n",
              "16  EWR    CLE   5.0358382  \n",
              "17  EWR    CLT   7.7819334  \n",
              "18  EWR    CMH   9.6020408  \n",
              "19  EWR    CVG  14.9255869  \n",
              "20  EWR    DAY  18.3841060  \n",
              "21  EWR    DCA  21.3139757  \n",
              "22  EWR    DEN   9.0337478  \n",
              "23  EWR    DFW   1.8981420  \n",
              "24  EWR    DSM  23.5487179  \n",
              "25  EWR    DTW  10.9155866  \n",
              "26  EWR    EGE  -5.3490566  \n",
              "27  EWR    FLL   7.7612299  \n",
              "28  EWR    GRR  19.3706395  \n",
              "29  EWR    GSO  17.6622010  \n",
              "30  EWR    GSP  18.1430636  \n",
              "⋮   ⋮      ⋮    ⋮           \n",
              "195 LGA    MDW   11.0500736 \n",
              "196 LGA    MEM    1.3464286 \n",
              "197 LGA    MHT   17.5277778 \n",
              "198 LGA    MIA   -0.0657664 \n",
              "199 LGA    MKE    7.2528736 \n",
              "200 LGA    MSN   15.2890995 \n",
              "201 LGA    MSP    6.1312155 \n",
              "202 LGA    MSY    2.3336673 \n",
              "203 LGA    MYR   -3.0000000 \n",
              "204 LGA    OMA   13.7362637 \n",
              "205 LGA    ORD    1.8334313 \n",
              "206 LGA    ORF    7.7846154 \n",
              "207 LGA    PBI    6.0152326 \n",
              "208 LGA    PHL    5.7792642 \n",
              "209 LGA    PIT    9.6343874 \n",
              "210 LGA    PWM    1.8608059 \n",
              "211 LGA    RDU    8.4166172 \n",
              "212 LGA    RIC    5.6424242 \n",
              "213 LGA    ROC    1.8101852 \n",
              "214 LGA    RSW    7.0611702 \n",
              "215 LGA    SAV  -10.5147059 \n",
              "216 LGA    SBN   14.5000000 \n",
              "217 LGA    SDF   -3.4428571 \n",
              "218 LGA    SRQ    4.5939643 \n",
              "219 LGA    STL    4.0882852 \n",
              "220 LGA    SYR    9.2527881 \n",
              "221 LGA    TPA    8.2064911 \n",
              "222 LGA    TVC   15.9726027 \n",
              "223 LGA    TYS    3.8943396 \n",
              "224 LGA    XNA    7.1142454 "
            ]
          },
          "metadata": {}
        }
      ]
    },
    {
      "cell_type": "code",
      "source": [
        "mean(c(1,2,NA,3,4), na.rm = T)"
      ],
      "metadata": {
        "id": "HO76T6S_QR5Q",
        "outputId": "38eab595-0b68-4f73-8688-98ee33149bc9",
        "colab": {
          "base_uri": "https://localhost:8080/",
          "height": 34
        }
      },
      "execution_count": null,
      "outputs": [
        {
          "output_type": "display_data",
          "data": {
            "text/html": [
              "2.5"
            ],
            "text/markdown": "2.5",
            "text/latex": "2.5",
            "text/plain": [
              "[1] 2.5"
            ]
          },
          "metadata": {}
        }
      ]
    },
    {
      "cell_type": "code",
      "source": [
        "vuelos %>%\n",
        "  filter(origin == \"EWR\" & dest == \"ALB\")# Hay informacion en arr_delay pero existen NAs que podrian estar matando nuestro calculo"
      ],
      "metadata": {
        "id": "mrPTqf6OP4ei",
        "outputId": "0cc5b885-35fa-48d6-c648-d55dfee6d1af",
        "colab": {
          "base_uri": "https://localhost:8080/",
          "height": 1000
        }
      },
      "execution_count": null,
      "outputs": [
        {
          "output_type": "display_data",
          "data": {
            "text/html": [
              "<table class=\"dataframe\">\n",
              "<caption>A data.frame: 439 × 25</caption>\n",
              "<thead>\n",
              "\t<tr><th scope=col>anio</th><th scope=col>mes</th><th scope=col>day</th><th scope=col>dep_time</th><th scope=col>sched_dep_time</th><th scope=col>dep_delay</th><th scope=col>arr_time</th><th scope=col>sched_arr_time</th><th scope=col>arr_delay</th><th scope=col>carrier</th><th scope=col>⋯</th><th scope=col>distance</th><th scope=col>hour</th><th scope=col>minute</th><th scope=col>time_hour</th><th scope=col>retraso_neto</th><th scope=col>retraso_neto2</th><th scope=col>day2</th><th scope=col>mes2</th><th scope=col>no_fecha</th><th scope=col>fecha</th></tr>\n",
              "\t<tr><th scope=col>&lt;int&gt;</th><th scope=col>&lt;int&gt;</th><th scope=col>&lt;int&gt;</th><th scope=col>&lt;int&gt;</th><th scope=col>&lt;int&gt;</th><th scope=col>&lt;int&gt;</th><th scope=col>&lt;int&gt;</th><th scope=col>&lt;int&gt;</th><th scope=col>&lt;int&gt;</th><th scope=col>&lt;chr&gt;</th><th scope=col>⋯</th><th scope=col>&lt;int&gt;</th><th scope=col>&lt;int&gt;</th><th scope=col>&lt;int&gt;</th><th scope=col>&lt;chr&gt;</th><th scope=col>&lt;int&gt;</th><th scope=col>&lt;int&gt;</th><th scope=col>&lt;chr&gt;</th><th scope=col>&lt;chr&gt;</th><th scope=col>&lt;chr&gt;</th><th scope=col>&lt;date&gt;</th></tr>\n",
              "</thead>\n",
              "<tbody>\n",
              "\t<tr><td>2013</td><td>1</td><td> 1</td><td>1315</td><td>1317</td><td> -2</td><td>1413</td><td>1423</td><td>-10</td><td>EV</td><td>⋯</td><td>143</td><td>13</td><td>17</td><td>2013-01-01 13:00:00</td><td>-12</td><td>-12</td><td>01</td><td>01</td><td>2013-01-01</td><td>2013-01-01</td></tr>\n",
              "\t<tr><td>2013</td><td>1</td><td> 1</td><td>1655</td><td>1621</td><td> 34</td><td>1804</td><td>1724</td><td> 40</td><td>EV</td><td>⋯</td><td>143</td><td>16</td><td>21</td><td>2013-01-01 16:00:00</td><td> 74</td><td> 74</td><td>01</td><td>01</td><td>2013-01-01</td><td>2013-01-01</td></tr>\n",
              "\t<tr><td>2013</td><td>1</td><td> 1</td><td>2056</td><td>2004</td><td> 52</td><td>2156</td><td>2112</td><td> 44</td><td>EV</td><td>⋯</td><td>143</td><td>20</td><td> 4</td><td>2013-01-01 20:00:00</td><td> 96</td><td> 96</td><td>01</td><td>01</td><td>2013-01-01</td><td>2013-01-01</td></tr>\n",
              "\t<tr><td>2013</td><td>1</td><td> 2</td><td>1332</td><td>1327</td><td>  5</td><td>1419</td><td>1433</td><td>-14</td><td>EV</td><td>⋯</td><td>143</td><td>13</td><td>27</td><td>2013-01-02 13:00:00</td><td> -9</td><td> -9</td><td>02</td><td>01</td><td>2013-01-02</td><td>2013-01-02</td></tr>\n",
              "\t<tr><td>2013</td><td>1</td><td> 2</td><td>1746</td><td>1621</td><td> 85</td><td>1835</td><td>1724</td><td> 71</td><td>EV</td><td>⋯</td><td>143</td><td>16</td><td>21</td><td>2013-01-02 16:00:00</td><td>156</td><td>156</td><td>02</td><td>01</td><td>2013-01-02</td><td>2013-01-02</td></tr>\n",
              "\t<tr><td>2013</td><td>1</td><td> 2</td><td>2148</td><td>2004</td><td>104</td><td>2234</td><td>2112</td><td> 82</td><td>EV</td><td>⋯</td><td>143</td><td>20</td><td> 4</td><td>2013-01-02 20:00:00</td><td>186</td><td>186</td><td>02</td><td>01</td><td>2013-01-02</td><td>2013-01-02</td></tr>\n",
              "\t<tr><td>2013</td><td>1</td><td> 3</td><td>1716</td><td>1619</td><td> 57</td><td>1803</td><td>1723</td><td> 40</td><td>EV</td><td>⋯</td><td>143</td><td>16</td><td>19</td><td>2013-01-03 16:00:00</td><td> 97</td><td> 97</td><td>03</td><td>01</td><td>2013-01-03</td><td>2013-01-03</td></tr>\n",
              "\t<tr><td>2013</td><td>1</td><td> 3</td><td>2031</td><td>2038</td><td> -7</td><td>2131</td><td>2139</td><td> -8</td><td>EV</td><td>⋯</td><td>143</td><td>20</td><td>38</td><td>2013-01-03 20:00:00</td><td>-15</td><td>-15</td><td>03</td><td>01</td><td>2013-01-03</td><td>2013-01-03</td></tr>\n",
              "\t<tr><td>2013</td><td>1</td><td> 4</td><td>1618</td><td>1619</td><td> -1</td><td>1714</td><td>1723</td><td> -9</td><td>EV</td><td>⋯</td><td>143</td><td>16</td><td>19</td><td>2013-01-04 16:00:00</td><td>-10</td><td>-10</td><td>04</td><td>01</td><td>2013-01-04</td><td>2013-01-04</td></tr>\n",
              "\t<tr><td>2013</td><td>1</td><td> 4</td><td>2031</td><td>2000</td><td> 31</td><td>2131</td><td>2101</td><td> 30</td><td>EV</td><td>⋯</td><td>143</td><td>20</td><td> 0</td><td>2013-01-04 20:00:00</td><td> 61</td><td> 61</td><td>04</td><td>01</td><td>2013-01-04</td><td>2013-01-04</td></tr>\n",
              "\t<tr><td>2013</td><td>1</td><td> 5</td><td>1619</td><td>1620</td><td> -1</td><td>1714</td><td>1724</td><td>-10</td><td>EV</td><td>⋯</td><td>143</td><td>16</td><td>20</td><td>2013-01-05 16:00:00</td><td>-11</td><td>-11</td><td>05</td><td>01</td><td>2013-01-05</td><td>2013-01-05</td></tr>\n",
              "\t<tr><td>2013</td><td>1</td><td> 5</td><td>1959</td><td>2000</td><td> -1</td><td>2056</td><td>2104</td><td> -8</td><td>EV</td><td>⋯</td><td>143</td><td>20</td><td> 0</td><td>2013-01-05 20:00:00</td><td> -9</td><td> -9</td><td>05</td><td>01</td><td>2013-01-05</td><td>2013-01-05</td></tr>\n",
              "\t<tr><td>2013</td><td>1</td><td> 6</td><td>1755</td><td>1619</td><td> 96</td><td>1858</td><td>1723</td><td> 95</td><td>EV</td><td>⋯</td><td>143</td><td>16</td><td>19</td><td>2013-01-06 16:00:00</td><td>191</td><td>191</td><td>06</td><td>01</td><td>2013-01-06</td><td>2013-01-06</td></tr>\n",
              "\t<tr><td>2013</td><td>1</td><td> 6</td><td>2004</td><td>2005</td><td> -1</td><td>2113</td><td>2109</td><td>  4</td><td>EV</td><td>⋯</td><td>143</td><td>20</td><td> 5</td><td>2013-01-06 20:00:00</td><td>  3</td><td>  3</td><td>06</td><td>01</td><td>2013-01-06</td><td>2013-01-06</td></tr>\n",
              "\t<tr><td>2013</td><td>1</td><td> 7</td><td>1619</td><td>1619</td><td>  0</td><td>1714</td><td>1723</td><td> -9</td><td>EV</td><td>⋯</td><td>143</td><td>16</td><td>19</td><td>2013-01-07 16:00:00</td><td> -9</td><td> -9</td><td>07</td><td>01</td><td>2013-01-07</td><td>2013-01-07</td></tr>\n",
              "\t<tr><td>2013</td><td>1</td><td> 7</td><td>2045</td><td>2000</td><td> 45</td><td>2142</td><td>2101</td><td> 41</td><td>EV</td><td>⋯</td><td>143</td><td>20</td><td> 0</td><td>2013-01-07 20:00:00</td><td> 86</td><td> 86</td><td>07</td><td>01</td><td>2013-01-07</td><td>2013-01-07</td></tr>\n",
              "\t<tr><td>2013</td><td>1</td><td> 8</td><td>1618</td><td>1619</td><td> -1</td><td>1708</td><td>1723</td><td>-15</td><td>EV</td><td>⋯</td><td>143</td><td>16</td><td>19</td><td>2013-01-08 16:00:00</td><td>-16</td><td>-16</td><td>08</td><td>01</td><td>2013-01-08</td><td>2013-01-08</td></tr>\n",
              "\t<tr><td>2013</td><td>1</td><td> 8</td><td>2005</td><td>2000</td><td>  5</td><td>2056</td><td>2101</td><td> -5</td><td>EV</td><td>⋯</td><td>143</td><td>20</td><td> 0</td><td>2013-01-08 20:00:00</td><td>  0</td><td>  0</td><td>08</td><td>01</td><td>2013-01-08</td><td>2013-01-08</td></tr>\n",
              "\t<tr><td>2013</td><td>1</td><td> 9</td><td>1615</td><td>1619</td><td> -4</td><td>1706</td><td>1723</td><td>-17</td><td>EV</td><td>⋯</td><td>143</td><td>16</td><td>19</td><td>2013-01-09 16:00:00</td><td>-21</td><td>-21</td><td>09</td><td>01</td><td>2013-01-09</td><td>2013-01-09</td></tr>\n",
              "\t<tr><td>2013</td><td>1</td><td> 9</td><td>1954</td><td>2000</td><td> -6</td><td>2045</td><td>2101</td><td>-16</td><td>EV</td><td>⋯</td><td>143</td><td>20</td><td> 0</td><td>2013-01-09 20:00:00</td><td>-22</td><td>-22</td><td>09</td><td>01</td><td>2013-01-09</td><td>2013-01-09</td></tr>\n",
              "\t<tr><td>2013</td><td>1</td><td>10</td><td>1801</td><td>1619</td><td>102</td><td>1923</td><td>1723</td><td>120</td><td>EV</td><td>⋯</td><td>143</td><td>16</td><td>19</td><td>2013-01-10 16:00:00</td><td>222</td><td>222</td><td>10</td><td>01</td><td>2013-01-10</td><td>2013-01-10</td></tr>\n",
              "\t<tr><td>2013</td><td>1</td><td>10</td><td>2127</td><td>2038</td><td> 49</td><td>2214</td><td>2139</td><td> 35</td><td>EV</td><td>⋯</td><td>143</td><td>20</td><td>38</td><td>2013-01-10 20:00:00</td><td> 84</td><td> 84</td><td>10</td><td>01</td><td>2013-01-10</td><td>2013-01-10</td></tr>\n",
              "\t<tr><td>2013</td><td>1</td><td>11</td><td>1614</td><td>1619</td><td> -5</td><td>1718</td><td>1723</td><td> -5</td><td>EV</td><td>⋯</td><td>143</td><td>16</td><td>19</td><td>2013-01-11 16:00:00</td><td>-10</td><td>-10</td><td>11</td><td>01</td><td>2013-01-11</td><td>2013-01-11</td></tr>\n",
              "\t<tr><td>2013</td><td>1</td><td>11</td><td>1956</td><td>2000</td><td> -4</td><td>2059</td><td>2101</td><td> -2</td><td>EV</td><td>⋯</td><td>143</td><td>20</td><td> 0</td><td>2013-01-11 20:00:00</td><td> -6</td><td> -6</td><td>11</td><td>01</td><td>2013-01-11</td><td>2013-01-11</td></tr>\n",
              "\t<tr><td>2013</td><td>1</td><td>12</td><td>1619</td><td>1620</td><td> -1</td><td>1718</td><td>1724</td><td> -6</td><td>EV</td><td>⋯</td><td>143</td><td>16</td><td>20</td><td>2013-01-12 16:00:00</td><td> -7</td><td> -7</td><td>12</td><td>01</td><td>2013-01-12</td><td>2013-01-12</td></tr>\n",
              "\t<tr><td>2013</td><td>1</td><td>12</td><td>1958</td><td>2000</td><td> -2</td><td>2049</td><td>2104</td><td>-15</td><td>EV</td><td>⋯</td><td>143</td><td>20</td><td> 0</td><td>2013-01-12 20:00:00</td><td>-17</td><td>-17</td><td>12</td><td>01</td><td>2013-01-12</td><td>2013-01-12</td></tr>\n",
              "\t<tr><td>2013</td><td>1</td><td>13</td><td>1721</td><td>1619</td><td> 62</td><td>1821</td><td>1723</td><td> 58</td><td>EV</td><td>⋯</td><td>143</td><td>16</td><td>19</td><td>2013-01-13 16:00:00</td><td>120</td><td>120</td><td>13</td><td>01</td><td>2013-01-13</td><td>2013-01-13</td></tr>\n",
              "\t<tr><td>2013</td><td>1</td><td>13</td><td>2034</td><td>2005</td><td> 29</td><td>2152</td><td>2109</td><td> 43</td><td>EV</td><td>⋯</td><td>143</td><td>20</td><td> 5</td><td>2013-01-13 20:00:00</td><td> 72</td><td> 72</td><td>13</td><td>01</td><td>2013-01-13</td><td>2013-01-13</td></tr>\n",
              "\t<tr><td>2013</td><td>1</td><td>14</td><td>1616</td><td>1619</td><td> -3</td><td>1709</td><td>1723</td><td>-14</td><td>EV</td><td>⋯</td><td>143</td><td>16</td><td>19</td><td>2013-01-14 16:00:00</td><td>-17</td><td>-17</td><td>14</td><td>01</td><td>2013-01-14</td><td>2013-01-14</td></tr>\n",
              "\t<tr><td>2013</td><td>1</td><td>14</td><td>2022</td><td>2000</td><td> 22</td><td>2115</td><td>2101</td><td> 14</td><td>EV</td><td>⋯</td><td>143</td><td>20</td><td> 0</td><td>2013-01-14 20:00:00</td><td> 36</td><td> 36</td><td>14</td><td>01</td><td>2013-01-14</td><td>2013-01-14</td></tr>\n",
              "\t<tr><td>⋮</td><td>⋮</td><td>⋮</td><td>⋮</td><td>⋮</td><td>⋮</td><td>⋮</td><td>⋮</td><td>⋮</td><td>⋮</td><td>⋱</td><td>⋮</td><td>⋮</td><td>⋮</td><td>⋮</td><td>⋮</td><td>⋮</td><td>⋮</td><td>⋮</td><td>⋮</td><td>⋮</td></tr>\n",
              "\t<tr><td>2013</td><td>8</td><td>16</td><td> 717</td><td> 720</td><td> -3</td><td> 810</td><td> 831</td><td>-21</td><td>EV</td><td>⋯</td><td>143</td><td> 7</td><td>20</td><td>2013-08-16 07:00:00</td><td>-24</td><td>-24</td><td>16</td><td>08</td><td>2013-08-16</td><td>2013-08-16</td></tr>\n",
              "\t<tr><td>2013</td><td>8</td><td>17</td><td> 714</td><td> 720</td><td> -6</td><td> 803</td><td> 831</td><td>-28</td><td>EV</td><td>⋯</td><td>143</td><td> 7</td><td>20</td><td>2013-08-17 07:00:00</td><td>-34</td><td>-34</td><td>17</td><td>08</td><td>2013-08-17</td><td>2013-08-17</td></tr>\n",
              "\t<tr><td>2013</td><td>8</td><td>19</td><td> 717</td><td> 720</td><td> -3</td><td> 810</td><td> 831</td><td>-21</td><td>EV</td><td>⋯</td><td>143</td><td> 7</td><td>20</td><td>2013-08-19 07:00:00</td><td>-24</td><td>-24</td><td>19</td><td>08</td><td>2013-08-19</td><td>2013-08-19</td></tr>\n",
              "\t<tr><td>2013</td><td>8</td><td>20</td><td> 711</td><td> 720</td><td> -9</td><td> 800</td><td> 831</td><td>-31</td><td>EV</td><td>⋯</td><td>143</td><td> 7</td><td>20</td><td>2013-08-20 07:00:00</td><td>-40</td><td>-40</td><td>20</td><td>08</td><td>2013-08-20</td><td>2013-08-20</td></tr>\n",
              "\t<tr><td>2013</td><td>8</td><td>21</td><td> 715</td><td> 720</td><td> -5</td><td> 813</td><td> 831</td><td>-18</td><td>EV</td><td>⋯</td><td>143</td><td> 7</td><td>20</td><td>2013-08-21 07:00:00</td><td>-23</td><td>-23</td><td>21</td><td>08</td><td>2013-08-21</td><td>2013-08-21</td></tr>\n",
              "\t<tr><td>2013</td><td>8</td><td>22</td><td> 728</td><td> 720</td><td>  8</td><td> 836</td><td> 831</td><td>  5</td><td>EV</td><td>⋯</td><td>143</td><td> 7</td><td>20</td><td>2013-08-22 07:00:00</td><td> 13</td><td> 13</td><td>22</td><td>08</td><td>2013-08-22</td><td>2013-08-22</td></tr>\n",
              "\t<tr><td>2013</td><td>8</td><td>23</td><td> 721</td><td> 720</td><td>  1</td><td> 813</td><td> 831</td><td>-18</td><td>EV</td><td>⋯</td><td>143</td><td> 7</td><td>20</td><td>2013-08-23 07:00:00</td><td>-17</td><td>-17</td><td>23</td><td>08</td><td>2013-08-23</td><td>2013-08-23</td></tr>\n",
              "\t<tr><td>2013</td><td>8</td><td>24</td><td> 720</td><td> 720</td><td>  0</td><td> 811</td><td> 831</td><td>-20</td><td>EV</td><td>⋯</td><td>143</td><td> 7</td><td>20</td><td>2013-08-24 07:00:00</td><td>-20</td><td>-20</td><td>24</td><td>08</td><td>2013-08-24</td><td>2013-08-24</td></tr>\n",
              "\t<tr><td>2013</td><td>8</td><td>26</td><td> 715</td><td> 720</td><td> -5</td><td> 808</td><td> 831</td><td>-23</td><td>EV</td><td>⋯</td><td>143</td><td> 7</td><td>20</td><td>2013-08-26 07:00:00</td><td>-28</td><td>-28</td><td>26</td><td>08</td><td>2013-08-26</td><td>2013-08-26</td></tr>\n",
              "\t<tr><td>2013</td><td>8</td><td>27</td><td>2153</td><td>2159</td><td> -6</td><td>2242</td><td>2307</td><td>-25</td><td>EV</td><td>⋯</td><td>143</td><td>21</td><td>59</td><td>2013-08-27 21:00:00</td><td>-31</td><td>-31</td><td>27</td><td>08</td><td>2013-08-27</td><td>2013-08-27</td></tr>\n",
              "\t<tr><td>2013</td><td>9</td><td> 5</td><td>2155</td><td>2159</td><td> -4</td><td>2248</td><td>2307</td><td>-19</td><td>EV</td><td>⋯</td><td>143</td><td>21</td><td>59</td><td>2013-09-05 21:00:00</td><td>-23</td><td>-23</td><td>05</td><td>09</td><td>2013-09-05</td><td>2013-09-05</td></tr>\n",
              "\t<tr><td>2013</td><td>9</td><td> 6</td><td>2207</td><td>2159</td><td>  8</td><td>2255</td><td>2303</td><td> -8</td><td>EV</td><td>⋯</td><td>143</td><td>21</td><td>59</td><td>2013-09-06 21:00:00</td><td>  0</td><td>  0</td><td>06</td><td>09</td><td>2013-09-06</td><td>2013-09-06</td></tr>\n",
              "\t<tr><td>2013</td><td>9</td><td> 7</td><td>2157</td><td>2159</td><td> -2</td><td>2253</td><td>2303</td><td>-10</td><td>EV</td><td>⋯</td><td>143</td><td>21</td><td>59</td><td>2013-09-07 21:00:00</td><td>-12</td><td>-12</td><td>07</td><td>09</td><td>2013-09-07</td><td>2013-09-07</td></tr>\n",
              "\t<tr><td>2013</td><td>9</td><td> 8</td><td>2156</td><td>2159</td><td> -3</td><td>2250</td><td>2303</td><td>-13</td><td>EV</td><td>⋯</td><td>143</td><td>21</td><td>59</td><td>2013-09-08 21:00:00</td><td>-16</td><td>-16</td><td>08</td><td>09</td><td>2013-09-08</td><td>2013-09-08</td></tr>\n",
              "\t<tr><td>2013</td><td>9</td><td> 9</td><td>2151</td><td>2159</td><td> -8</td><td>2242</td><td>2303</td><td>-21</td><td>EV</td><td>⋯</td><td>143</td><td>21</td><td>59</td><td>2013-09-09 21:00:00</td><td>-29</td><td>-29</td><td>09</td><td>09</td><td>2013-09-09</td><td>2013-09-09</td></tr>\n",
              "\t<tr><td>2013</td><td>9</td><td>10</td><td>2237</td><td>2159</td><td> 38</td><td>2328</td><td>2303</td><td> 25</td><td>EV</td><td>⋯</td><td>143</td><td>21</td><td>59</td><td>2013-09-10 21:00:00</td><td> 63</td><td> 63</td><td>10</td><td>09</td><td>2013-09-10</td><td>2013-09-10</td></tr>\n",
              "\t<tr><td>2013</td><td>9</td><td>11</td><td>2254</td><td>2159</td><td> 55</td><td>2336</td><td>2303</td><td> 33</td><td>EV</td><td>⋯</td><td>143</td><td>21</td><td>59</td><td>2013-09-11 21:00:00</td><td> 88</td><td> 88</td><td>11</td><td>09</td><td>2013-09-11</td><td>2013-09-11</td></tr>\n",
              "\t<tr><td>2013</td><td>9</td><td>12</td><td>  NA</td><td>2159</td><td> NA</td><td>  NA</td><td>2303</td><td> NA</td><td>EV</td><td>⋯</td><td>143</td><td>21</td><td>59</td><td>2013-09-12 21:00:00</td><td> NA</td><td> NA</td><td>12</td><td>09</td><td>2013-09-12</td><td>2013-09-12</td></tr>\n",
              "\t<tr><td>2013</td><td>9</td><td>13</td><td>2158</td><td>2159</td><td> -1</td><td>2300</td><td>2303</td><td> -3</td><td>EV</td><td>⋯</td><td>143</td><td>21</td><td>59</td><td>2013-09-13 21:00:00</td><td> -4</td><td> -4</td><td>13</td><td>09</td><td>2013-09-13</td><td>2013-09-13</td></tr>\n",
              "\t<tr><td>2013</td><td>9</td><td>14</td><td>2156</td><td>2159</td><td> -3</td><td>2240</td><td>2303</td><td>-23</td><td>EV</td><td>⋯</td><td>143</td><td>21</td><td>59</td><td>2013-09-14 21:00:00</td><td>-26</td><td>-26</td><td>14</td><td>09</td><td>2013-09-14</td><td>2013-09-14</td></tr>\n",
              "\t<tr><td>2013</td><td>9</td><td>15</td><td>2154</td><td>2159</td><td> -5</td><td>2240</td><td>2303</td><td>-23</td><td>EV</td><td>⋯</td><td>143</td><td>21</td><td>59</td><td>2013-09-15 21:00:00</td><td>-28</td><td>-28</td><td>15</td><td>09</td><td>2013-09-15</td><td>2013-09-15</td></tr>\n",
              "\t<tr><td>2013</td><td>9</td><td>16</td><td>2145</td><td>2159</td><td>-14</td><td>2233</td><td>2303</td><td>-30</td><td>EV</td><td>⋯</td><td>143</td><td>21</td><td>59</td><td>2013-09-16 21:00:00</td><td>-44</td><td>-44</td><td>16</td><td>09</td><td>2013-09-16</td><td>2013-09-16</td></tr>\n",
              "\t<tr><td>2013</td><td>9</td><td>17</td><td>2149</td><td>2159</td><td>-10</td><td>2235</td><td>2303</td><td>-28</td><td>EV</td><td>⋯</td><td>143</td><td>21</td><td>59</td><td>2013-09-17 21:00:00</td><td>-38</td><td>-38</td><td>17</td><td>09</td><td>2013-09-17</td><td>2013-09-17</td></tr>\n",
              "\t<tr><td>2013</td><td>9</td><td>18</td><td>2215</td><td>2159</td><td> 16</td><td>2301</td><td>2303</td><td> -2</td><td>EV</td><td>⋯</td><td>143</td><td>21</td><td>59</td><td>2013-09-18 21:00:00</td><td> 14</td><td> 14</td><td>18</td><td>09</td><td>2013-09-18</td><td>2013-09-18</td></tr>\n",
              "\t<tr><td>2013</td><td>9</td><td>19</td><td>2155</td><td>2159</td><td> -4</td><td>2243</td><td>2303</td><td>-20</td><td>EV</td><td>⋯</td><td>143</td><td>21</td><td>59</td><td>2013-09-19 21:00:00</td><td>-24</td><td>-24</td><td>19</td><td>09</td><td>2013-09-19</td><td>2013-09-19</td></tr>\n",
              "\t<tr><td>2013</td><td>9</td><td>20</td><td>2154</td><td>2159</td><td> -5</td><td>2245</td><td>2303</td><td>-18</td><td>EV</td><td>⋯</td><td>143</td><td>21</td><td>59</td><td>2013-09-20 21:00:00</td><td>-23</td><td>-23</td><td>20</td><td>09</td><td>2013-09-20</td><td>2013-09-20</td></tr>\n",
              "\t<tr><td>2013</td><td>9</td><td>21</td><td>2153</td><td>2159</td><td> -6</td><td>2241</td><td>2303</td><td>-22</td><td>EV</td><td>⋯</td><td>143</td><td>21</td><td>59</td><td>2013-09-21 21:00:00</td><td>-28</td><td>-28</td><td>21</td><td>09</td><td>2013-09-21</td><td>2013-09-21</td></tr>\n",
              "\t<tr><td>2013</td><td>9</td><td>22</td><td>2156</td><td>2159</td><td> -3</td><td>2243</td><td>2303</td><td>-20</td><td>EV</td><td>⋯</td><td>143</td><td>21</td><td>59</td><td>2013-09-22 21:00:00</td><td>-23</td><td>-23</td><td>22</td><td>09</td><td>2013-09-22</td><td>2013-09-22</td></tr>\n",
              "\t<tr><td>2013</td><td>9</td><td>23</td><td>2228</td><td>2159</td><td> 29</td><td>2312</td><td>2303</td><td>  9</td><td>EV</td><td>⋯</td><td>143</td><td>21</td><td>59</td><td>2013-09-23 21:00:00</td><td> 38</td><td> 38</td><td>23</td><td>09</td><td>2013-09-23</td><td>2013-09-23</td></tr>\n",
              "\t<tr><td>2013</td><td>9</td><td>24</td><td>2151</td><td>2159</td><td> -8</td><td>2240</td><td>2303</td><td>-23</td><td>EV</td><td>⋯</td><td>143</td><td>21</td><td>59</td><td>2013-09-24 21:00:00</td><td>-31</td><td>-31</td><td>24</td><td>09</td><td>2013-09-24</td><td>2013-09-24</td></tr>\n",
              "</tbody>\n",
              "</table>\n"
            ],
            "text/markdown": "\nA data.frame: 439 × 25\n\n| anio &lt;int&gt; | mes &lt;int&gt; | day &lt;int&gt; | dep_time &lt;int&gt; | sched_dep_time &lt;int&gt; | dep_delay &lt;int&gt; | arr_time &lt;int&gt; | sched_arr_time &lt;int&gt; | arr_delay &lt;int&gt; | carrier &lt;chr&gt; | ⋯ ⋯ | distance &lt;int&gt; | hour &lt;int&gt; | minute &lt;int&gt; | time_hour &lt;chr&gt; | retraso_neto &lt;int&gt; | retraso_neto2 &lt;int&gt; | day2 &lt;chr&gt; | mes2 &lt;chr&gt; | no_fecha &lt;chr&gt; | fecha &lt;date&gt; |\n|---|---|---|---|---|---|---|---|---|---|---|---|---|---|---|---|---|---|---|---|---|\n| 2013 | 1 |  1 | 1315 | 1317 |  -2 | 1413 | 1423 | -10 | EV | ⋯ | 143 | 13 | 17 | 2013-01-01 13:00:00 | -12 | -12 | 01 | 01 | 2013-01-01 | 2013-01-01 |\n| 2013 | 1 |  1 | 1655 | 1621 |  34 | 1804 | 1724 |  40 | EV | ⋯ | 143 | 16 | 21 | 2013-01-01 16:00:00 |  74 |  74 | 01 | 01 | 2013-01-01 | 2013-01-01 |\n| 2013 | 1 |  1 | 2056 | 2004 |  52 | 2156 | 2112 |  44 | EV | ⋯ | 143 | 20 |  4 | 2013-01-01 20:00:00 |  96 |  96 | 01 | 01 | 2013-01-01 | 2013-01-01 |\n| 2013 | 1 |  2 | 1332 | 1327 |   5 | 1419 | 1433 | -14 | EV | ⋯ | 143 | 13 | 27 | 2013-01-02 13:00:00 |  -9 |  -9 | 02 | 01 | 2013-01-02 | 2013-01-02 |\n| 2013 | 1 |  2 | 1746 | 1621 |  85 | 1835 | 1724 |  71 | EV | ⋯ | 143 | 16 | 21 | 2013-01-02 16:00:00 | 156 | 156 | 02 | 01 | 2013-01-02 | 2013-01-02 |\n| 2013 | 1 |  2 | 2148 | 2004 | 104 | 2234 | 2112 |  82 | EV | ⋯ | 143 | 20 |  4 | 2013-01-02 20:00:00 | 186 | 186 | 02 | 01 | 2013-01-02 | 2013-01-02 |\n| 2013 | 1 |  3 | 1716 | 1619 |  57 | 1803 | 1723 |  40 | EV | ⋯ | 143 | 16 | 19 | 2013-01-03 16:00:00 |  97 |  97 | 03 | 01 | 2013-01-03 | 2013-01-03 |\n| 2013 | 1 |  3 | 2031 | 2038 |  -7 | 2131 | 2139 |  -8 | EV | ⋯ | 143 | 20 | 38 | 2013-01-03 20:00:00 | -15 | -15 | 03 | 01 | 2013-01-03 | 2013-01-03 |\n| 2013 | 1 |  4 | 1618 | 1619 |  -1 | 1714 | 1723 |  -9 | EV | ⋯ | 143 | 16 | 19 | 2013-01-04 16:00:00 | -10 | -10 | 04 | 01 | 2013-01-04 | 2013-01-04 |\n| 2013 | 1 |  4 | 2031 | 2000 |  31 | 2131 | 2101 |  30 | EV | ⋯ | 143 | 20 |  0 | 2013-01-04 20:00:00 |  61 |  61 | 04 | 01 | 2013-01-04 | 2013-01-04 |\n| 2013 | 1 |  5 | 1619 | 1620 |  -1 | 1714 | 1724 | -10 | EV | ⋯ | 143 | 16 | 20 | 2013-01-05 16:00:00 | -11 | -11 | 05 | 01 | 2013-01-05 | 2013-01-05 |\n| 2013 | 1 |  5 | 1959 | 2000 |  -1 | 2056 | 2104 |  -8 | EV | ⋯ | 143 | 20 |  0 | 2013-01-05 20:00:00 |  -9 |  -9 | 05 | 01 | 2013-01-05 | 2013-01-05 |\n| 2013 | 1 |  6 | 1755 | 1619 |  96 | 1858 | 1723 |  95 | EV | ⋯ | 143 | 16 | 19 | 2013-01-06 16:00:00 | 191 | 191 | 06 | 01 | 2013-01-06 | 2013-01-06 |\n| 2013 | 1 |  6 | 2004 | 2005 |  -1 | 2113 | 2109 |   4 | EV | ⋯ | 143 | 20 |  5 | 2013-01-06 20:00:00 |   3 |   3 | 06 | 01 | 2013-01-06 | 2013-01-06 |\n| 2013 | 1 |  7 | 1619 | 1619 |   0 | 1714 | 1723 |  -9 | EV | ⋯ | 143 | 16 | 19 | 2013-01-07 16:00:00 |  -9 |  -9 | 07 | 01 | 2013-01-07 | 2013-01-07 |\n| 2013 | 1 |  7 | 2045 | 2000 |  45 | 2142 | 2101 |  41 | EV | ⋯ | 143 | 20 |  0 | 2013-01-07 20:00:00 |  86 |  86 | 07 | 01 | 2013-01-07 | 2013-01-07 |\n| 2013 | 1 |  8 | 1618 | 1619 |  -1 | 1708 | 1723 | -15 | EV | ⋯ | 143 | 16 | 19 | 2013-01-08 16:00:00 | -16 | -16 | 08 | 01 | 2013-01-08 | 2013-01-08 |\n| 2013 | 1 |  8 | 2005 | 2000 |   5 | 2056 | 2101 |  -5 | EV | ⋯ | 143 | 20 |  0 | 2013-01-08 20:00:00 |   0 |   0 | 08 | 01 | 2013-01-08 | 2013-01-08 |\n| 2013 | 1 |  9 | 1615 | 1619 |  -4 | 1706 | 1723 | -17 | EV | ⋯ | 143 | 16 | 19 | 2013-01-09 16:00:00 | -21 | -21 | 09 | 01 | 2013-01-09 | 2013-01-09 |\n| 2013 | 1 |  9 | 1954 | 2000 |  -6 | 2045 | 2101 | -16 | EV | ⋯ | 143 | 20 |  0 | 2013-01-09 20:00:00 | -22 | -22 | 09 | 01 | 2013-01-09 | 2013-01-09 |\n| 2013 | 1 | 10 | 1801 | 1619 | 102 | 1923 | 1723 | 120 | EV | ⋯ | 143 | 16 | 19 | 2013-01-10 16:00:00 | 222 | 222 | 10 | 01 | 2013-01-10 | 2013-01-10 |\n| 2013 | 1 | 10 | 2127 | 2038 |  49 | 2214 | 2139 |  35 | EV | ⋯ | 143 | 20 | 38 | 2013-01-10 20:00:00 |  84 |  84 | 10 | 01 | 2013-01-10 | 2013-01-10 |\n| 2013 | 1 | 11 | 1614 | 1619 |  -5 | 1718 | 1723 |  -5 | EV | ⋯ | 143 | 16 | 19 | 2013-01-11 16:00:00 | -10 | -10 | 11 | 01 | 2013-01-11 | 2013-01-11 |\n| 2013 | 1 | 11 | 1956 | 2000 |  -4 | 2059 | 2101 |  -2 | EV | ⋯ | 143 | 20 |  0 | 2013-01-11 20:00:00 |  -6 |  -6 | 11 | 01 | 2013-01-11 | 2013-01-11 |\n| 2013 | 1 | 12 | 1619 | 1620 |  -1 | 1718 | 1724 |  -6 | EV | ⋯ | 143 | 16 | 20 | 2013-01-12 16:00:00 |  -7 |  -7 | 12 | 01 | 2013-01-12 | 2013-01-12 |\n| 2013 | 1 | 12 | 1958 | 2000 |  -2 | 2049 | 2104 | -15 | EV | ⋯ | 143 | 20 |  0 | 2013-01-12 20:00:00 | -17 | -17 | 12 | 01 | 2013-01-12 | 2013-01-12 |\n| 2013 | 1 | 13 | 1721 | 1619 |  62 | 1821 | 1723 |  58 | EV | ⋯ | 143 | 16 | 19 | 2013-01-13 16:00:00 | 120 | 120 | 13 | 01 | 2013-01-13 | 2013-01-13 |\n| 2013 | 1 | 13 | 2034 | 2005 |  29 | 2152 | 2109 |  43 | EV | ⋯ | 143 | 20 |  5 | 2013-01-13 20:00:00 |  72 |  72 | 13 | 01 | 2013-01-13 | 2013-01-13 |\n| 2013 | 1 | 14 | 1616 | 1619 |  -3 | 1709 | 1723 | -14 | EV | ⋯ | 143 | 16 | 19 | 2013-01-14 16:00:00 | -17 | -17 | 14 | 01 | 2013-01-14 | 2013-01-14 |\n| 2013 | 1 | 14 | 2022 | 2000 |  22 | 2115 | 2101 |  14 | EV | ⋯ | 143 | 20 |  0 | 2013-01-14 20:00:00 |  36 |  36 | 14 | 01 | 2013-01-14 | 2013-01-14 |\n| ⋮ | ⋮ | ⋮ | ⋮ | ⋮ | ⋮ | ⋮ | ⋮ | ⋮ | ⋮ | ⋱ | ⋮ | ⋮ | ⋮ | ⋮ | ⋮ | ⋮ | ⋮ | ⋮ | ⋮ | ⋮ |\n| 2013 | 8 | 16 |  717 |  720 |  -3 |  810 |  831 | -21 | EV | ⋯ | 143 |  7 | 20 | 2013-08-16 07:00:00 | -24 | -24 | 16 | 08 | 2013-08-16 | 2013-08-16 |\n| 2013 | 8 | 17 |  714 |  720 |  -6 |  803 |  831 | -28 | EV | ⋯ | 143 |  7 | 20 | 2013-08-17 07:00:00 | -34 | -34 | 17 | 08 | 2013-08-17 | 2013-08-17 |\n| 2013 | 8 | 19 |  717 |  720 |  -3 |  810 |  831 | -21 | EV | ⋯ | 143 |  7 | 20 | 2013-08-19 07:00:00 | -24 | -24 | 19 | 08 | 2013-08-19 | 2013-08-19 |\n| 2013 | 8 | 20 |  711 |  720 |  -9 |  800 |  831 | -31 | EV | ⋯ | 143 |  7 | 20 | 2013-08-20 07:00:00 | -40 | -40 | 20 | 08 | 2013-08-20 | 2013-08-20 |\n| 2013 | 8 | 21 |  715 |  720 |  -5 |  813 |  831 | -18 | EV | ⋯ | 143 |  7 | 20 | 2013-08-21 07:00:00 | -23 | -23 | 21 | 08 | 2013-08-21 | 2013-08-21 |\n| 2013 | 8 | 22 |  728 |  720 |   8 |  836 |  831 |   5 | EV | ⋯ | 143 |  7 | 20 | 2013-08-22 07:00:00 |  13 |  13 | 22 | 08 | 2013-08-22 | 2013-08-22 |\n| 2013 | 8 | 23 |  721 |  720 |   1 |  813 |  831 | -18 | EV | ⋯ | 143 |  7 | 20 | 2013-08-23 07:00:00 | -17 | -17 | 23 | 08 | 2013-08-23 | 2013-08-23 |\n| 2013 | 8 | 24 |  720 |  720 |   0 |  811 |  831 | -20 | EV | ⋯ | 143 |  7 | 20 | 2013-08-24 07:00:00 | -20 | -20 | 24 | 08 | 2013-08-24 | 2013-08-24 |\n| 2013 | 8 | 26 |  715 |  720 |  -5 |  808 |  831 | -23 | EV | ⋯ | 143 |  7 | 20 | 2013-08-26 07:00:00 | -28 | -28 | 26 | 08 | 2013-08-26 | 2013-08-26 |\n| 2013 | 8 | 27 | 2153 | 2159 |  -6 | 2242 | 2307 | -25 | EV | ⋯ | 143 | 21 | 59 | 2013-08-27 21:00:00 | -31 | -31 | 27 | 08 | 2013-08-27 | 2013-08-27 |\n| 2013 | 9 |  5 | 2155 | 2159 |  -4 | 2248 | 2307 | -19 | EV | ⋯ | 143 | 21 | 59 | 2013-09-05 21:00:00 | -23 | -23 | 05 | 09 | 2013-09-05 | 2013-09-05 |\n| 2013 | 9 |  6 | 2207 | 2159 |   8 | 2255 | 2303 |  -8 | EV | ⋯ | 143 | 21 | 59 | 2013-09-06 21:00:00 |   0 |   0 | 06 | 09 | 2013-09-06 | 2013-09-06 |\n| 2013 | 9 |  7 | 2157 | 2159 |  -2 | 2253 | 2303 | -10 | EV | ⋯ | 143 | 21 | 59 | 2013-09-07 21:00:00 | -12 | -12 | 07 | 09 | 2013-09-07 | 2013-09-07 |\n| 2013 | 9 |  8 | 2156 | 2159 |  -3 | 2250 | 2303 | -13 | EV | ⋯ | 143 | 21 | 59 | 2013-09-08 21:00:00 | -16 | -16 | 08 | 09 | 2013-09-08 | 2013-09-08 |\n| 2013 | 9 |  9 | 2151 | 2159 |  -8 | 2242 | 2303 | -21 | EV | ⋯ | 143 | 21 | 59 | 2013-09-09 21:00:00 | -29 | -29 | 09 | 09 | 2013-09-09 | 2013-09-09 |\n| 2013 | 9 | 10 | 2237 | 2159 |  38 | 2328 | 2303 |  25 | EV | ⋯ | 143 | 21 | 59 | 2013-09-10 21:00:00 |  63 |  63 | 10 | 09 | 2013-09-10 | 2013-09-10 |\n| 2013 | 9 | 11 | 2254 | 2159 |  55 | 2336 | 2303 |  33 | EV | ⋯ | 143 | 21 | 59 | 2013-09-11 21:00:00 |  88 |  88 | 11 | 09 | 2013-09-11 | 2013-09-11 |\n| 2013 | 9 | 12 |   NA | 2159 |  NA |   NA | 2303 |  NA | EV | ⋯ | 143 | 21 | 59 | 2013-09-12 21:00:00 |  NA |  NA | 12 | 09 | 2013-09-12 | 2013-09-12 |\n| 2013 | 9 | 13 | 2158 | 2159 |  -1 | 2300 | 2303 |  -3 | EV | ⋯ | 143 | 21 | 59 | 2013-09-13 21:00:00 |  -4 |  -4 | 13 | 09 | 2013-09-13 | 2013-09-13 |\n| 2013 | 9 | 14 | 2156 | 2159 |  -3 | 2240 | 2303 | -23 | EV | ⋯ | 143 | 21 | 59 | 2013-09-14 21:00:00 | -26 | -26 | 14 | 09 | 2013-09-14 | 2013-09-14 |\n| 2013 | 9 | 15 | 2154 | 2159 |  -5 | 2240 | 2303 | -23 | EV | ⋯ | 143 | 21 | 59 | 2013-09-15 21:00:00 | -28 | -28 | 15 | 09 | 2013-09-15 | 2013-09-15 |\n| 2013 | 9 | 16 | 2145 | 2159 | -14 | 2233 | 2303 | -30 | EV | ⋯ | 143 | 21 | 59 | 2013-09-16 21:00:00 | -44 | -44 | 16 | 09 | 2013-09-16 | 2013-09-16 |\n| 2013 | 9 | 17 | 2149 | 2159 | -10 | 2235 | 2303 | -28 | EV | ⋯ | 143 | 21 | 59 | 2013-09-17 21:00:00 | -38 | -38 | 17 | 09 | 2013-09-17 | 2013-09-17 |\n| 2013 | 9 | 18 | 2215 | 2159 |  16 | 2301 | 2303 |  -2 | EV | ⋯ | 143 | 21 | 59 | 2013-09-18 21:00:00 |  14 |  14 | 18 | 09 | 2013-09-18 | 2013-09-18 |\n| 2013 | 9 | 19 | 2155 | 2159 |  -4 | 2243 | 2303 | -20 | EV | ⋯ | 143 | 21 | 59 | 2013-09-19 21:00:00 | -24 | -24 | 19 | 09 | 2013-09-19 | 2013-09-19 |\n| 2013 | 9 | 20 | 2154 | 2159 |  -5 | 2245 | 2303 | -18 | EV | ⋯ | 143 | 21 | 59 | 2013-09-20 21:00:00 | -23 | -23 | 20 | 09 | 2013-09-20 | 2013-09-20 |\n| 2013 | 9 | 21 | 2153 | 2159 |  -6 | 2241 | 2303 | -22 | EV | ⋯ | 143 | 21 | 59 | 2013-09-21 21:00:00 | -28 | -28 | 21 | 09 | 2013-09-21 | 2013-09-21 |\n| 2013 | 9 | 22 | 2156 | 2159 |  -3 | 2243 | 2303 | -20 | EV | ⋯ | 143 | 21 | 59 | 2013-09-22 21:00:00 | -23 | -23 | 22 | 09 | 2013-09-22 | 2013-09-22 |\n| 2013 | 9 | 23 | 2228 | 2159 |  29 | 2312 | 2303 |   9 | EV | ⋯ | 143 | 21 | 59 | 2013-09-23 21:00:00 |  38 |  38 | 23 | 09 | 2013-09-23 | 2013-09-23 |\n| 2013 | 9 | 24 | 2151 | 2159 |  -8 | 2240 | 2303 | -23 | EV | ⋯ | 143 | 21 | 59 | 2013-09-24 21:00:00 | -31 | -31 | 24 | 09 | 2013-09-24 | 2013-09-24 |\n\n",
            "text/latex": "A data.frame: 439 × 25\n\\begin{tabular}{lllllllllllllllllllll}\n anio & mes & day & dep\\_time & sched\\_dep\\_time & dep\\_delay & arr\\_time & sched\\_arr\\_time & arr\\_delay & carrier & ⋯ & distance & hour & minute & time\\_hour & retraso\\_neto & retraso\\_neto2 & day2 & mes2 & no\\_fecha & fecha\\\\\n <int> & <int> & <int> & <int> & <int> & <int> & <int> & <int> & <int> & <chr> & ⋯ & <int> & <int> & <int> & <chr> & <int> & <int> & <chr> & <chr> & <chr> & <date>\\\\\n\\hline\n\t 2013 & 1 &  1 & 1315 & 1317 &  -2 & 1413 & 1423 & -10 & EV & ⋯ & 143 & 13 & 17 & 2013-01-01 13:00:00 & -12 & -12 & 01 & 01 & 2013-01-01 & 2013-01-01\\\\\n\t 2013 & 1 &  1 & 1655 & 1621 &  34 & 1804 & 1724 &  40 & EV & ⋯ & 143 & 16 & 21 & 2013-01-01 16:00:00 &  74 &  74 & 01 & 01 & 2013-01-01 & 2013-01-01\\\\\n\t 2013 & 1 &  1 & 2056 & 2004 &  52 & 2156 & 2112 &  44 & EV & ⋯ & 143 & 20 &  4 & 2013-01-01 20:00:00 &  96 &  96 & 01 & 01 & 2013-01-01 & 2013-01-01\\\\\n\t 2013 & 1 &  2 & 1332 & 1327 &   5 & 1419 & 1433 & -14 & EV & ⋯ & 143 & 13 & 27 & 2013-01-02 13:00:00 &  -9 &  -9 & 02 & 01 & 2013-01-02 & 2013-01-02\\\\\n\t 2013 & 1 &  2 & 1746 & 1621 &  85 & 1835 & 1724 &  71 & EV & ⋯ & 143 & 16 & 21 & 2013-01-02 16:00:00 & 156 & 156 & 02 & 01 & 2013-01-02 & 2013-01-02\\\\\n\t 2013 & 1 &  2 & 2148 & 2004 & 104 & 2234 & 2112 &  82 & EV & ⋯ & 143 & 20 &  4 & 2013-01-02 20:00:00 & 186 & 186 & 02 & 01 & 2013-01-02 & 2013-01-02\\\\\n\t 2013 & 1 &  3 & 1716 & 1619 &  57 & 1803 & 1723 &  40 & EV & ⋯ & 143 & 16 & 19 & 2013-01-03 16:00:00 &  97 &  97 & 03 & 01 & 2013-01-03 & 2013-01-03\\\\\n\t 2013 & 1 &  3 & 2031 & 2038 &  -7 & 2131 & 2139 &  -8 & EV & ⋯ & 143 & 20 & 38 & 2013-01-03 20:00:00 & -15 & -15 & 03 & 01 & 2013-01-03 & 2013-01-03\\\\\n\t 2013 & 1 &  4 & 1618 & 1619 &  -1 & 1714 & 1723 &  -9 & EV & ⋯ & 143 & 16 & 19 & 2013-01-04 16:00:00 & -10 & -10 & 04 & 01 & 2013-01-04 & 2013-01-04\\\\\n\t 2013 & 1 &  4 & 2031 & 2000 &  31 & 2131 & 2101 &  30 & EV & ⋯ & 143 & 20 &  0 & 2013-01-04 20:00:00 &  61 &  61 & 04 & 01 & 2013-01-04 & 2013-01-04\\\\\n\t 2013 & 1 &  5 & 1619 & 1620 &  -1 & 1714 & 1724 & -10 & EV & ⋯ & 143 & 16 & 20 & 2013-01-05 16:00:00 & -11 & -11 & 05 & 01 & 2013-01-05 & 2013-01-05\\\\\n\t 2013 & 1 &  5 & 1959 & 2000 &  -1 & 2056 & 2104 &  -8 & EV & ⋯ & 143 & 20 &  0 & 2013-01-05 20:00:00 &  -9 &  -9 & 05 & 01 & 2013-01-05 & 2013-01-05\\\\\n\t 2013 & 1 &  6 & 1755 & 1619 &  96 & 1858 & 1723 &  95 & EV & ⋯ & 143 & 16 & 19 & 2013-01-06 16:00:00 & 191 & 191 & 06 & 01 & 2013-01-06 & 2013-01-06\\\\\n\t 2013 & 1 &  6 & 2004 & 2005 &  -1 & 2113 & 2109 &   4 & EV & ⋯ & 143 & 20 &  5 & 2013-01-06 20:00:00 &   3 &   3 & 06 & 01 & 2013-01-06 & 2013-01-06\\\\\n\t 2013 & 1 &  7 & 1619 & 1619 &   0 & 1714 & 1723 &  -9 & EV & ⋯ & 143 & 16 & 19 & 2013-01-07 16:00:00 &  -9 &  -9 & 07 & 01 & 2013-01-07 & 2013-01-07\\\\\n\t 2013 & 1 &  7 & 2045 & 2000 &  45 & 2142 & 2101 &  41 & EV & ⋯ & 143 & 20 &  0 & 2013-01-07 20:00:00 &  86 &  86 & 07 & 01 & 2013-01-07 & 2013-01-07\\\\\n\t 2013 & 1 &  8 & 1618 & 1619 &  -1 & 1708 & 1723 & -15 & EV & ⋯ & 143 & 16 & 19 & 2013-01-08 16:00:00 & -16 & -16 & 08 & 01 & 2013-01-08 & 2013-01-08\\\\\n\t 2013 & 1 &  8 & 2005 & 2000 &   5 & 2056 & 2101 &  -5 & EV & ⋯ & 143 & 20 &  0 & 2013-01-08 20:00:00 &   0 &   0 & 08 & 01 & 2013-01-08 & 2013-01-08\\\\\n\t 2013 & 1 &  9 & 1615 & 1619 &  -4 & 1706 & 1723 & -17 & EV & ⋯ & 143 & 16 & 19 & 2013-01-09 16:00:00 & -21 & -21 & 09 & 01 & 2013-01-09 & 2013-01-09\\\\\n\t 2013 & 1 &  9 & 1954 & 2000 &  -6 & 2045 & 2101 & -16 & EV & ⋯ & 143 & 20 &  0 & 2013-01-09 20:00:00 & -22 & -22 & 09 & 01 & 2013-01-09 & 2013-01-09\\\\\n\t 2013 & 1 & 10 & 1801 & 1619 & 102 & 1923 & 1723 & 120 & EV & ⋯ & 143 & 16 & 19 & 2013-01-10 16:00:00 & 222 & 222 & 10 & 01 & 2013-01-10 & 2013-01-10\\\\\n\t 2013 & 1 & 10 & 2127 & 2038 &  49 & 2214 & 2139 &  35 & EV & ⋯ & 143 & 20 & 38 & 2013-01-10 20:00:00 &  84 &  84 & 10 & 01 & 2013-01-10 & 2013-01-10\\\\\n\t 2013 & 1 & 11 & 1614 & 1619 &  -5 & 1718 & 1723 &  -5 & EV & ⋯ & 143 & 16 & 19 & 2013-01-11 16:00:00 & -10 & -10 & 11 & 01 & 2013-01-11 & 2013-01-11\\\\\n\t 2013 & 1 & 11 & 1956 & 2000 &  -4 & 2059 & 2101 &  -2 & EV & ⋯ & 143 & 20 &  0 & 2013-01-11 20:00:00 &  -6 &  -6 & 11 & 01 & 2013-01-11 & 2013-01-11\\\\\n\t 2013 & 1 & 12 & 1619 & 1620 &  -1 & 1718 & 1724 &  -6 & EV & ⋯ & 143 & 16 & 20 & 2013-01-12 16:00:00 &  -7 &  -7 & 12 & 01 & 2013-01-12 & 2013-01-12\\\\\n\t 2013 & 1 & 12 & 1958 & 2000 &  -2 & 2049 & 2104 & -15 & EV & ⋯ & 143 & 20 &  0 & 2013-01-12 20:00:00 & -17 & -17 & 12 & 01 & 2013-01-12 & 2013-01-12\\\\\n\t 2013 & 1 & 13 & 1721 & 1619 &  62 & 1821 & 1723 &  58 & EV & ⋯ & 143 & 16 & 19 & 2013-01-13 16:00:00 & 120 & 120 & 13 & 01 & 2013-01-13 & 2013-01-13\\\\\n\t 2013 & 1 & 13 & 2034 & 2005 &  29 & 2152 & 2109 &  43 & EV & ⋯ & 143 & 20 &  5 & 2013-01-13 20:00:00 &  72 &  72 & 13 & 01 & 2013-01-13 & 2013-01-13\\\\\n\t 2013 & 1 & 14 & 1616 & 1619 &  -3 & 1709 & 1723 & -14 & EV & ⋯ & 143 & 16 & 19 & 2013-01-14 16:00:00 & -17 & -17 & 14 & 01 & 2013-01-14 & 2013-01-14\\\\\n\t 2013 & 1 & 14 & 2022 & 2000 &  22 & 2115 & 2101 &  14 & EV & ⋯ & 143 & 20 &  0 & 2013-01-14 20:00:00 &  36 &  36 & 14 & 01 & 2013-01-14 & 2013-01-14\\\\\n\t ⋮ & ⋮ & ⋮ & ⋮ & ⋮ & ⋮ & ⋮ & ⋮ & ⋮ & ⋮ & ⋱ & ⋮ & ⋮ & ⋮ & ⋮ & ⋮ & ⋮ & ⋮ & ⋮ & ⋮ & ⋮\\\\\n\t 2013 & 8 & 16 &  717 &  720 &  -3 &  810 &  831 & -21 & EV & ⋯ & 143 &  7 & 20 & 2013-08-16 07:00:00 & -24 & -24 & 16 & 08 & 2013-08-16 & 2013-08-16\\\\\n\t 2013 & 8 & 17 &  714 &  720 &  -6 &  803 &  831 & -28 & EV & ⋯ & 143 &  7 & 20 & 2013-08-17 07:00:00 & -34 & -34 & 17 & 08 & 2013-08-17 & 2013-08-17\\\\\n\t 2013 & 8 & 19 &  717 &  720 &  -3 &  810 &  831 & -21 & EV & ⋯ & 143 &  7 & 20 & 2013-08-19 07:00:00 & -24 & -24 & 19 & 08 & 2013-08-19 & 2013-08-19\\\\\n\t 2013 & 8 & 20 &  711 &  720 &  -9 &  800 &  831 & -31 & EV & ⋯ & 143 &  7 & 20 & 2013-08-20 07:00:00 & -40 & -40 & 20 & 08 & 2013-08-20 & 2013-08-20\\\\\n\t 2013 & 8 & 21 &  715 &  720 &  -5 &  813 &  831 & -18 & EV & ⋯ & 143 &  7 & 20 & 2013-08-21 07:00:00 & -23 & -23 & 21 & 08 & 2013-08-21 & 2013-08-21\\\\\n\t 2013 & 8 & 22 &  728 &  720 &   8 &  836 &  831 &   5 & EV & ⋯ & 143 &  7 & 20 & 2013-08-22 07:00:00 &  13 &  13 & 22 & 08 & 2013-08-22 & 2013-08-22\\\\\n\t 2013 & 8 & 23 &  721 &  720 &   1 &  813 &  831 & -18 & EV & ⋯ & 143 &  7 & 20 & 2013-08-23 07:00:00 & -17 & -17 & 23 & 08 & 2013-08-23 & 2013-08-23\\\\\n\t 2013 & 8 & 24 &  720 &  720 &   0 &  811 &  831 & -20 & EV & ⋯ & 143 &  7 & 20 & 2013-08-24 07:00:00 & -20 & -20 & 24 & 08 & 2013-08-24 & 2013-08-24\\\\\n\t 2013 & 8 & 26 &  715 &  720 &  -5 &  808 &  831 & -23 & EV & ⋯ & 143 &  7 & 20 & 2013-08-26 07:00:00 & -28 & -28 & 26 & 08 & 2013-08-26 & 2013-08-26\\\\\n\t 2013 & 8 & 27 & 2153 & 2159 &  -6 & 2242 & 2307 & -25 & EV & ⋯ & 143 & 21 & 59 & 2013-08-27 21:00:00 & -31 & -31 & 27 & 08 & 2013-08-27 & 2013-08-27\\\\\n\t 2013 & 9 &  5 & 2155 & 2159 &  -4 & 2248 & 2307 & -19 & EV & ⋯ & 143 & 21 & 59 & 2013-09-05 21:00:00 & -23 & -23 & 05 & 09 & 2013-09-05 & 2013-09-05\\\\\n\t 2013 & 9 &  6 & 2207 & 2159 &   8 & 2255 & 2303 &  -8 & EV & ⋯ & 143 & 21 & 59 & 2013-09-06 21:00:00 &   0 &   0 & 06 & 09 & 2013-09-06 & 2013-09-06\\\\\n\t 2013 & 9 &  7 & 2157 & 2159 &  -2 & 2253 & 2303 & -10 & EV & ⋯ & 143 & 21 & 59 & 2013-09-07 21:00:00 & -12 & -12 & 07 & 09 & 2013-09-07 & 2013-09-07\\\\\n\t 2013 & 9 &  8 & 2156 & 2159 &  -3 & 2250 & 2303 & -13 & EV & ⋯ & 143 & 21 & 59 & 2013-09-08 21:00:00 & -16 & -16 & 08 & 09 & 2013-09-08 & 2013-09-08\\\\\n\t 2013 & 9 &  9 & 2151 & 2159 &  -8 & 2242 & 2303 & -21 & EV & ⋯ & 143 & 21 & 59 & 2013-09-09 21:00:00 & -29 & -29 & 09 & 09 & 2013-09-09 & 2013-09-09\\\\\n\t 2013 & 9 & 10 & 2237 & 2159 &  38 & 2328 & 2303 &  25 & EV & ⋯ & 143 & 21 & 59 & 2013-09-10 21:00:00 &  63 &  63 & 10 & 09 & 2013-09-10 & 2013-09-10\\\\\n\t 2013 & 9 & 11 & 2254 & 2159 &  55 & 2336 & 2303 &  33 & EV & ⋯ & 143 & 21 & 59 & 2013-09-11 21:00:00 &  88 &  88 & 11 & 09 & 2013-09-11 & 2013-09-11\\\\\n\t 2013 & 9 & 12 &   NA & 2159 &  NA &   NA & 2303 &  NA & EV & ⋯ & 143 & 21 & 59 & 2013-09-12 21:00:00 &  NA &  NA & 12 & 09 & 2013-09-12 & 2013-09-12\\\\\n\t 2013 & 9 & 13 & 2158 & 2159 &  -1 & 2300 & 2303 &  -3 & EV & ⋯ & 143 & 21 & 59 & 2013-09-13 21:00:00 &  -4 &  -4 & 13 & 09 & 2013-09-13 & 2013-09-13\\\\\n\t 2013 & 9 & 14 & 2156 & 2159 &  -3 & 2240 & 2303 & -23 & EV & ⋯ & 143 & 21 & 59 & 2013-09-14 21:00:00 & -26 & -26 & 14 & 09 & 2013-09-14 & 2013-09-14\\\\\n\t 2013 & 9 & 15 & 2154 & 2159 &  -5 & 2240 & 2303 & -23 & EV & ⋯ & 143 & 21 & 59 & 2013-09-15 21:00:00 & -28 & -28 & 15 & 09 & 2013-09-15 & 2013-09-15\\\\\n\t 2013 & 9 & 16 & 2145 & 2159 & -14 & 2233 & 2303 & -30 & EV & ⋯ & 143 & 21 & 59 & 2013-09-16 21:00:00 & -44 & -44 & 16 & 09 & 2013-09-16 & 2013-09-16\\\\\n\t 2013 & 9 & 17 & 2149 & 2159 & -10 & 2235 & 2303 & -28 & EV & ⋯ & 143 & 21 & 59 & 2013-09-17 21:00:00 & -38 & -38 & 17 & 09 & 2013-09-17 & 2013-09-17\\\\\n\t 2013 & 9 & 18 & 2215 & 2159 &  16 & 2301 & 2303 &  -2 & EV & ⋯ & 143 & 21 & 59 & 2013-09-18 21:00:00 &  14 &  14 & 18 & 09 & 2013-09-18 & 2013-09-18\\\\\n\t 2013 & 9 & 19 & 2155 & 2159 &  -4 & 2243 & 2303 & -20 & EV & ⋯ & 143 & 21 & 59 & 2013-09-19 21:00:00 & -24 & -24 & 19 & 09 & 2013-09-19 & 2013-09-19\\\\\n\t 2013 & 9 & 20 & 2154 & 2159 &  -5 & 2245 & 2303 & -18 & EV & ⋯ & 143 & 21 & 59 & 2013-09-20 21:00:00 & -23 & -23 & 20 & 09 & 2013-09-20 & 2013-09-20\\\\\n\t 2013 & 9 & 21 & 2153 & 2159 &  -6 & 2241 & 2303 & -22 & EV & ⋯ & 143 & 21 & 59 & 2013-09-21 21:00:00 & -28 & -28 & 21 & 09 & 2013-09-21 & 2013-09-21\\\\\n\t 2013 & 9 & 22 & 2156 & 2159 &  -3 & 2243 & 2303 & -20 & EV & ⋯ & 143 & 21 & 59 & 2013-09-22 21:00:00 & -23 & -23 & 22 & 09 & 2013-09-22 & 2013-09-22\\\\\n\t 2013 & 9 & 23 & 2228 & 2159 &  29 & 2312 & 2303 &   9 & EV & ⋯ & 143 & 21 & 59 & 2013-09-23 21:00:00 &  38 &  38 & 23 & 09 & 2013-09-23 & 2013-09-23\\\\\n\t 2013 & 9 & 24 & 2151 & 2159 &  -8 & 2240 & 2303 & -23 & EV & ⋯ & 143 & 21 & 59 & 2013-09-24 21:00:00 & -31 & -31 & 24 & 09 & 2013-09-24 & 2013-09-24\\\\\n\\end{tabular}\n",
            "text/plain": [
              "    anio mes day dep_time sched_dep_time dep_delay arr_time sched_arr_time\n",
              "1   2013 1    1  1315     1317            -2       1413     1423          \n",
              "2   2013 1    1  1655     1621            34       1804     1724          \n",
              "3   2013 1    1  2056     2004            52       2156     2112          \n",
              "4   2013 1    2  1332     1327             5       1419     1433          \n",
              "5   2013 1    2  1746     1621            85       1835     1724          \n",
              "6   2013 1    2  2148     2004           104       2234     2112          \n",
              "7   2013 1    3  1716     1619            57       1803     1723          \n",
              "8   2013 1    3  2031     2038            -7       2131     2139          \n",
              "9   2013 1    4  1618     1619            -1       1714     1723          \n",
              "10  2013 1    4  2031     2000            31       2131     2101          \n",
              "11  2013 1    5  1619     1620            -1       1714     1724          \n",
              "12  2013 1    5  1959     2000            -1       2056     2104          \n",
              "13  2013 1    6  1755     1619            96       1858     1723          \n",
              "14  2013 1    6  2004     2005            -1       2113     2109          \n",
              "15  2013 1    7  1619     1619             0       1714     1723          \n",
              "16  2013 1    7  2045     2000            45       2142     2101          \n",
              "17  2013 1    8  1618     1619            -1       1708     1723          \n",
              "18  2013 1    8  2005     2000             5       2056     2101          \n",
              "19  2013 1    9  1615     1619            -4       1706     1723          \n",
              "20  2013 1    9  1954     2000            -6       2045     2101          \n",
              "21  2013 1   10  1801     1619           102       1923     1723          \n",
              "22  2013 1   10  2127     2038            49       2214     2139          \n",
              "23  2013 1   11  1614     1619            -5       1718     1723          \n",
              "24  2013 1   11  1956     2000            -4       2059     2101          \n",
              "25  2013 1   12  1619     1620            -1       1718     1724          \n",
              "26  2013 1   12  1958     2000            -2       2049     2104          \n",
              "27  2013 1   13  1721     1619            62       1821     1723          \n",
              "28  2013 1   13  2034     2005            29       2152     2109          \n",
              "29  2013 1   14  1616     1619            -3       1709     1723          \n",
              "30  2013 1   14  2022     2000            22       2115     2101          \n",
              "⋮   ⋮    ⋮   ⋮   ⋮        ⋮              ⋮         ⋮        ⋮             \n",
              "410 2013 8   16   717      720            -3        810      831          \n",
              "411 2013 8   17   714      720            -6        803      831          \n",
              "412 2013 8   19   717      720            -3        810      831          \n",
              "413 2013 8   20   711      720            -9        800      831          \n",
              "414 2013 8   21   715      720            -5        813      831          \n",
              "415 2013 8   22   728      720             8        836      831          \n",
              "416 2013 8   23   721      720             1        813      831          \n",
              "417 2013 8   24   720      720             0        811      831          \n",
              "418 2013 8   26   715      720            -5        808      831          \n",
              "419 2013 8   27  2153     2159            -6       2242     2307          \n",
              "420 2013 9    5  2155     2159            -4       2248     2307          \n",
              "421 2013 9    6  2207     2159             8       2255     2303          \n",
              "422 2013 9    7  2157     2159            -2       2253     2303          \n",
              "423 2013 9    8  2156     2159            -3       2250     2303          \n",
              "424 2013 9    9  2151     2159            -8       2242     2303          \n",
              "425 2013 9   10  2237     2159            38       2328     2303          \n",
              "426 2013 9   11  2254     2159            55       2336     2303          \n",
              "427 2013 9   12    NA     2159            NA         NA     2303          \n",
              "428 2013 9   13  2158     2159            -1       2300     2303          \n",
              "429 2013 9   14  2156     2159            -3       2240     2303          \n",
              "430 2013 9   15  2154     2159            -5       2240     2303          \n",
              "431 2013 9   16  2145     2159           -14       2233     2303          \n",
              "432 2013 9   17  2149     2159           -10       2235     2303          \n",
              "433 2013 9   18  2215     2159            16       2301     2303          \n",
              "434 2013 9   19  2155     2159            -4       2243     2303          \n",
              "435 2013 9   20  2154     2159            -5       2245     2303          \n",
              "436 2013 9   21  2153     2159            -6       2241     2303          \n",
              "437 2013 9   22  2156     2159            -3       2243     2303          \n",
              "438 2013 9   23  2228     2159            29       2312     2303          \n",
              "439 2013 9   24  2151     2159            -8       2240     2303          \n",
              "    arr_delay carrier ⋯ distance hour minute time_hour           retraso_neto\n",
              "1   -10       EV      ⋯ 143      13   17     2013-01-01 13:00:00 -12         \n",
              "2    40       EV      ⋯ 143      16   21     2013-01-01 16:00:00  74         \n",
              "3    44       EV      ⋯ 143      20    4     2013-01-01 20:00:00  96         \n",
              "4   -14       EV      ⋯ 143      13   27     2013-01-02 13:00:00  -9         \n",
              "5    71       EV      ⋯ 143      16   21     2013-01-02 16:00:00 156         \n",
              "6    82       EV      ⋯ 143      20    4     2013-01-02 20:00:00 186         \n",
              "7    40       EV      ⋯ 143      16   19     2013-01-03 16:00:00  97         \n",
              "8    -8       EV      ⋯ 143      20   38     2013-01-03 20:00:00 -15         \n",
              "9    -9       EV      ⋯ 143      16   19     2013-01-04 16:00:00 -10         \n",
              "10   30       EV      ⋯ 143      20    0     2013-01-04 20:00:00  61         \n",
              "11  -10       EV      ⋯ 143      16   20     2013-01-05 16:00:00 -11         \n",
              "12   -8       EV      ⋯ 143      20    0     2013-01-05 20:00:00  -9         \n",
              "13   95       EV      ⋯ 143      16   19     2013-01-06 16:00:00 191         \n",
              "14    4       EV      ⋯ 143      20    5     2013-01-06 20:00:00   3         \n",
              "15   -9       EV      ⋯ 143      16   19     2013-01-07 16:00:00  -9         \n",
              "16   41       EV      ⋯ 143      20    0     2013-01-07 20:00:00  86         \n",
              "17  -15       EV      ⋯ 143      16   19     2013-01-08 16:00:00 -16         \n",
              "18   -5       EV      ⋯ 143      20    0     2013-01-08 20:00:00   0         \n",
              "19  -17       EV      ⋯ 143      16   19     2013-01-09 16:00:00 -21         \n",
              "20  -16       EV      ⋯ 143      20    0     2013-01-09 20:00:00 -22         \n",
              "21  120       EV      ⋯ 143      16   19     2013-01-10 16:00:00 222         \n",
              "22   35       EV      ⋯ 143      20   38     2013-01-10 20:00:00  84         \n",
              "23   -5       EV      ⋯ 143      16   19     2013-01-11 16:00:00 -10         \n",
              "24   -2       EV      ⋯ 143      20    0     2013-01-11 20:00:00  -6         \n",
              "25   -6       EV      ⋯ 143      16   20     2013-01-12 16:00:00  -7         \n",
              "26  -15       EV      ⋯ 143      20    0     2013-01-12 20:00:00 -17         \n",
              "27   58       EV      ⋯ 143      16   19     2013-01-13 16:00:00 120         \n",
              "28   43       EV      ⋯ 143      20    5     2013-01-13 20:00:00  72         \n",
              "29  -14       EV      ⋯ 143      16   19     2013-01-14 16:00:00 -17         \n",
              "30   14       EV      ⋯ 143      20    0     2013-01-14 20:00:00  36         \n",
              "⋮   ⋮         ⋮       ⋱ ⋮        ⋮    ⋮      ⋮                   ⋮           \n",
              "410 -21       EV      ⋯ 143       7   20     2013-08-16 07:00:00 -24         \n",
              "411 -28       EV      ⋯ 143       7   20     2013-08-17 07:00:00 -34         \n",
              "412 -21       EV      ⋯ 143       7   20     2013-08-19 07:00:00 -24         \n",
              "413 -31       EV      ⋯ 143       7   20     2013-08-20 07:00:00 -40         \n",
              "414 -18       EV      ⋯ 143       7   20     2013-08-21 07:00:00 -23         \n",
              "415   5       EV      ⋯ 143       7   20     2013-08-22 07:00:00  13         \n",
              "416 -18       EV      ⋯ 143       7   20     2013-08-23 07:00:00 -17         \n",
              "417 -20       EV      ⋯ 143       7   20     2013-08-24 07:00:00 -20         \n",
              "418 -23       EV      ⋯ 143       7   20     2013-08-26 07:00:00 -28         \n",
              "419 -25       EV      ⋯ 143      21   59     2013-08-27 21:00:00 -31         \n",
              "420 -19       EV      ⋯ 143      21   59     2013-09-05 21:00:00 -23         \n",
              "421  -8       EV      ⋯ 143      21   59     2013-09-06 21:00:00   0         \n",
              "422 -10       EV      ⋯ 143      21   59     2013-09-07 21:00:00 -12         \n",
              "423 -13       EV      ⋯ 143      21   59     2013-09-08 21:00:00 -16         \n",
              "424 -21       EV      ⋯ 143      21   59     2013-09-09 21:00:00 -29         \n",
              "425  25       EV      ⋯ 143      21   59     2013-09-10 21:00:00  63         \n",
              "426  33       EV      ⋯ 143      21   59     2013-09-11 21:00:00  88         \n",
              "427  NA       EV      ⋯ 143      21   59     2013-09-12 21:00:00  NA         \n",
              "428  -3       EV      ⋯ 143      21   59     2013-09-13 21:00:00  -4         \n",
              "429 -23       EV      ⋯ 143      21   59     2013-09-14 21:00:00 -26         \n",
              "430 -23       EV      ⋯ 143      21   59     2013-09-15 21:00:00 -28         \n",
              "431 -30       EV      ⋯ 143      21   59     2013-09-16 21:00:00 -44         \n",
              "432 -28       EV      ⋯ 143      21   59     2013-09-17 21:00:00 -38         \n",
              "433  -2       EV      ⋯ 143      21   59     2013-09-18 21:00:00  14         \n",
              "434 -20       EV      ⋯ 143      21   59     2013-09-19 21:00:00 -24         \n",
              "435 -18       EV      ⋯ 143      21   59     2013-09-20 21:00:00 -23         \n",
              "436 -22       EV      ⋯ 143      21   59     2013-09-21 21:00:00 -28         \n",
              "437 -20       EV      ⋯ 143      21   59     2013-09-22 21:00:00 -23         \n",
              "438   9       EV      ⋯ 143      21   59     2013-09-23 21:00:00  38         \n",
              "439 -23       EV      ⋯ 143      21   59     2013-09-24 21:00:00 -31         \n",
              "    retraso_neto2 day2 mes2 no_fecha   fecha     \n",
              "1   -12           01   01   2013-01-01 2013-01-01\n",
              "2    74           01   01   2013-01-01 2013-01-01\n",
              "3    96           01   01   2013-01-01 2013-01-01\n",
              "4    -9           02   01   2013-01-02 2013-01-02\n",
              "5   156           02   01   2013-01-02 2013-01-02\n",
              "6   186           02   01   2013-01-02 2013-01-02\n",
              "7    97           03   01   2013-01-03 2013-01-03\n",
              "8   -15           03   01   2013-01-03 2013-01-03\n",
              "9   -10           04   01   2013-01-04 2013-01-04\n",
              "10   61           04   01   2013-01-04 2013-01-04\n",
              "11  -11           05   01   2013-01-05 2013-01-05\n",
              "12   -9           05   01   2013-01-05 2013-01-05\n",
              "13  191           06   01   2013-01-06 2013-01-06\n",
              "14    3           06   01   2013-01-06 2013-01-06\n",
              "15   -9           07   01   2013-01-07 2013-01-07\n",
              "16   86           07   01   2013-01-07 2013-01-07\n",
              "17  -16           08   01   2013-01-08 2013-01-08\n",
              "18    0           08   01   2013-01-08 2013-01-08\n",
              "19  -21           09   01   2013-01-09 2013-01-09\n",
              "20  -22           09   01   2013-01-09 2013-01-09\n",
              "21  222           10   01   2013-01-10 2013-01-10\n",
              "22   84           10   01   2013-01-10 2013-01-10\n",
              "23  -10           11   01   2013-01-11 2013-01-11\n",
              "24   -6           11   01   2013-01-11 2013-01-11\n",
              "25   -7           12   01   2013-01-12 2013-01-12\n",
              "26  -17           12   01   2013-01-12 2013-01-12\n",
              "27  120           13   01   2013-01-13 2013-01-13\n",
              "28   72           13   01   2013-01-13 2013-01-13\n",
              "29  -17           14   01   2013-01-14 2013-01-14\n",
              "30   36           14   01   2013-01-14 2013-01-14\n",
              "⋮   ⋮             ⋮    ⋮    ⋮          ⋮         \n",
              "410 -24           16   08   2013-08-16 2013-08-16\n",
              "411 -34           17   08   2013-08-17 2013-08-17\n",
              "412 -24           19   08   2013-08-19 2013-08-19\n",
              "413 -40           20   08   2013-08-20 2013-08-20\n",
              "414 -23           21   08   2013-08-21 2013-08-21\n",
              "415  13           22   08   2013-08-22 2013-08-22\n",
              "416 -17           23   08   2013-08-23 2013-08-23\n",
              "417 -20           24   08   2013-08-24 2013-08-24\n",
              "418 -28           26   08   2013-08-26 2013-08-26\n",
              "419 -31           27   08   2013-08-27 2013-08-27\n",
              "420 -23           05   09   2013-09-05 2013-09-05\n",
              "421   0           06   09   2013-09-06 2013-09-06\n",
              "422 -12           07   09   2013-09-07 2013-09-07\n",
              "423 -16           08   09   2013-09-08 2013-09-08\n",
              "424 -29           09   09   2013-09-09 2013-09-09\n",
              "425  63           10   09   2013-09-10 2013-09-10\n",
              "426  88           11   09   2013-09-11 2013-09-11\n",
              "427  NA           12   09   2013-09-12 2013-09-12\n",
              "428  -4           13   09   2013-09-13 2013-09-13\n",
              "429 -26           14   09   2013-09-14 2013-09-14\n",
              "430 -28           15   09   2013-09-15 2013-09-15\n",
              "431 -44           16   09   2013-09-16 2013-09-16\n",
              "432 -38           17   09   2013-09-17 2013-09-17\n",
              "433  14           18   09   2013-09-18 2013-09-18\n",
              "434 -24           19   09   2013-09-19 2013-09-19\n",
              "435 -23           20   09   2013-09-20 2013-09-20\n",
              "436 -28           21   09   2013-09-21 2013-09-21\n",
              "437 -23           22   09   2013-09-22 2013-09-22\n",
              "438  38           23   09   2013-09-23 2013-09-23\n",
              "439 -31           24   09   2013-09-24 2013-09-24"
            ]
          },
          "metadata": {}
        }
      ]
    },
    {
      "cell_type": "code",
      "metadata": {
        "trusted": true,
        "id": "DsrFjp7oRPzW",
        "outputId": "2c58ae79-6d18-4317-93c2-6533b9d70cad",
        "colab": {
          "base_uri": "https://localhost:8080/",
          "height": 192
        }
      },
      "source": [
        "# ¿Cuáles son 3 los aeropuertos de destino con mayor retraso medio en su llegada?\n",
        "vuelos %>%\n",
        "  group_by(dest) %>%\n",
        "  summarise(prom_arr_del = mean(arr_delay, na.rm = T)) %>%\n",
        "  arrange(desc(prom_arr_del)) %>%\n",
        "  head(3)\n",
        "# Los 3 aerop..... son CAE, TUL y OKC\n"
      ],
      "execution_count": null,
      "outputs": [
        {
          "output_type": "display_data",
          "data": {
            "text/html": [
              "<table class=\"dataframe\">\n",
              "<caption>A tibble: 3 × 2</caption>\n",
              "<thead>\n",
              "\t<tr><th scope=col>dest</th><th scope=col>prom_arr_del</th></tr>\n",
              "\t<tr><th scope=col>&lt;chr&gt;</th><th scope=col>&lt;dbl&gt;</th></tr>\n",
              "</thead>\n",
              "<tbody>\n",
              "\t<tr><td>CAE</td><td>41.76415</td></tr>\n",
              "\t<tr><td>TUL</td><td>33.65986</td></tr>\n",
              "\t<tr><td>OKC</td><td>30.61905</td></tr>\n",
              "</tbody>\n",
              "</table>\n"
            ],
            "text/markdown": "\nA tibble: 3 × 2\n\n| dest &lt;chr&gt; | prom_arr_del &lt;dbl&gt; |\n|---|---|\n| CAE | 41.76415 |\n| TUL | 33.65986 |\n| OKC | 30.61905 |\n\n",
            "text/latex": "A tibble: 3 × 2\n\\begin{tabular}{ll}\n dest & prom\\_arr\\_del\\\\\n <chr> & <dbl>\\\\\n\\hline\n\t CAE & 41.76415\\\\\n\t TUL & 33.65986\\\\\n\t OKC & 30.61905\\\\\n\\end{tabular}\n",
            "text/plain": [
              "  dest prom_arr_del\n",
              "1 CAE  41.76415    \n",
              "2 TUL  33.65986    \n",
              "3 OKC  30.61905    "
            ]
          },
          "metadata": {}
        }
      ]
    },
    {
      "cell_type": "code",
      "source": [
        "vuelos %>%\n",
        "  group_by(dest) %>%\n",
        "  summarise(prom_arr_del = mean(arr_delay, na.rm = T)) %>%\n",
        "  slice_max(prom_arr_del, n = 3)"
      ],
      "metadata": {
        "id": "z6BqDBmTR__u",
        "outputId": "c1f6d8c8-dc0a-4eaf-c963-959f53257eed",
        "colab": {
          "base_uri": "https://localhost:8080/",
          "height": 192
        }
      },
      "execution_count": null,
      "outputs": [
        {
          "output_type": "display_data",
          "data": {
            "text/html": [
              "<table class=\"dataframe\">\n",
              "<caption>A tibble: 3 × 2</caption>\n",
              "<thead>\n",
              "\t<tr><th scope=col>dest</th><th scope=col>prom_arr_del</th></tr>\n",
              "\t<tr><th scope=col>&lt;chr&gt;</th><th scope=col>&lt;dbl&gt;</th></tr>\n",
              "</thead>\n",
              "<tbody>\n",
              "\t<tr><td>CAE</td><td>41.76415</td></tr>\n",
              "\t<tr><td>TUL</td><td>33.65986</td></tr>\n",
              "\t<tr><td>OKC</td><td>30.61905</td></tr>\n",
              "</tbody>\n",
              "</table>\n"
            ],
            "text/markdown": "\nA tibble: 3 × 2\n\n| dest &lt;chr&gt; | prom_arr_del &lt;dbl&gt; |\n|---|---|\n| CAE | 41.76415 |\n| TUL | 33.65986 |\n| OKC | 30.61905 |\n\n",
            "text/latex": "A tibble: 3 × 2\n\\begin{tabular}{ll}\n dest & prom\\_arr\\_del\\\\\n <chr> & <dbl>\\\\\n\\hline\n\t CAE & 41.76415\\\\\n\t TUL & 33.65986\\\\\n\t OKC & 30.61905\\\\\n\\end{tabular}\n",
            "text/plain": [
              "  dest prom_arr_del\n",
              "1 CAE  41.76415    \n",
              "2 TUL  33.65986    \n",
              "3 OKC  30.61905    "
            ]
          },
          "metadata": {}
        }
      ]
    },
    {
      "cell_type": "code",
      "metadata": {
        "trusted": true,
        "id": "CH9XRbK8RPzZ"
      },
      "source": [
        "# si quisiéramos tratar los NA's, podemos hacerlo de la sgte. manera\n",
        "\n",
        "# consultamos los NA en arr_delay\n",
        "\n",
        "# Recordar que NA == NA retorna NA . is.na(NA) retorna TRUE\n",
        "\n"
      ],
      "execution_count": null,
      "outputs": []
    },
    {
      "cell_type": "code",
      "source": [],
      "metadata": {
        "id": "tCkY603mVsC7"
      },
      "execution_count": null,
      "outputs": []
    },
    {
      "cell_type": "code",
      "metadata": {
        "trusted": true,
        "id": "H_X1J0OyRPzc",
        "outputId": "9aad2c17-c7a2-4feb-af48-1ca65f6e5206",
        "colab": {
          "base_uri": "https://localhost:8080/",
          "height": 34
        }
      },
      "source": [
        "# Si queremos reemplazar los NA's por el promedio de arr_delay (?)\n",
        "prom_del_global <- mean(vuelos$arr_delay, na.rm = T)\n",
        "prom_del_global"
      ],
      "execution_count": null,
      "outputs": [
        {
          "output_type": "display_data",
          "data": {
            "text/html": [
              "6.89537675731489"
            ],
            "text/markdown": "6.89537675731489",
            "text/latex": "6.89537675731489",
            "text/plain": [
              "[1] 6.895377"
            ]
          },
          "metadata": {}
        }
      ]
    },
    {
      "cell_type": "code",
      "source": [
        "vuelos2 <- vuelos %>%\n",
        "  #mutate(arr_delay = ifelse( arr_delay == NA, prom_del_global, arr_delay ) ) # No es válido\n",
        "  mutate(arr_delay = ifelse(is.na(arr_delay), prom_del_global, arr_delay ) )"
      ],
      "metadata": {
        "id": "hEoOl6IpVOqs"
      },
      "execution_count": null,
      "outputs": []
    },
    {
      "cell_type": "code",
      "source": [
        "summary(vuelos$arr_delay)\n",
        "summary(vuelos2$arr_delay)"
      ],
      "metadata": {
        "id": "nKbEFedtWFHx",
        "outputId": "07c39387-b72b-4388-cca1-6561d9e0392f",
        "colab": {
          "base_uri": "https://localhost:8080/",
          "height": 86
        }
      },
      "execution_count": null,
      "outputs": [
        {
          "output_type": "display_data",
          "data": {
            "text/plain": [
              "    Min.  1st Qu.   Median     Mean  3rd Qu.     Max.     NA's \n",
              " -86.000  -17.000   -5.000    6.895   14.000 1272.000     9430 "
            ]
          },
          "metadata": {}
        },
        {
          "output_type": "display_data",
          "data": {
            "text/plain": [
              "    Min.  1st Qu.   Median     Mean  3rd Qu.     Max. \n",
              " -86.000  -16.000   -4.000    6.895   13.000 1272.000 "
            ]
          },
          "metadata": {}
        }
      ]
    },
    {
      "cell_type": "code",
      "metadata": {
        "trusted": true,
        "id": "KM0gkGfVRPze",
        "outputId": "6f6bd2bf-fe61-4422-8564-cafe1a184883",
        "colab": {
          "base_uri": "https://localhost:8080/",
          "height": 286
        }
      },
      "source": [
        "# ¿Cuál es el promedio de arr_delay y distance por cada aeropuerto de destino?¿Cuántos vuelos llegaron acada uno de los destinos?. Ayuda: Recuerde que el conteo se puede determinar de dos maneras: con la función count() o con la función n().\n",
        "vuelos2 %>%\n",
        "  group_by(dest) %>%\n",
        "  summarise(prom_arr_del = mean(arr_delay, na.rm = T),\n",
        "            prom_dist = mean(distance, na.rm = T),\n",
        "            total_vuelos = n()) %>% # Con n() podemos generar conteos en una columna dentro de un flujo\n",
        "  head()\n"
      ],
      "execution_count": null,
      "outputs": [
        {
          "output_type": "display_data",
          "data": {
            "text/html": [
              "<table class=\"dataframe\">\n",
              "<caption>A tibble: 6 × 4</caption>\n",
              "<thead>\n",
              "\t<tr><th scope=col>dest</th><th scope=col>prom_arr_del</th><th scope=col>prom_dist</th><th scope=col>total_vuelos</th></tr>\n",
              "\t<tr><th scope=col>&lt;chr&gt;</th><th scope=col>&lt;dbl&gt;</th><th scope=col>&lt;dbl&gt;</th><th scope=col>&lt;int&gt;</th></tr>\n",
              "</thead>\n",
              "<tbody>\n",
              "\t<tr><td>ABQ</td><td> 4.381890</td><td>1826.0000</td><td>  254</td></tr>\n",
              "\t<tr><td>ACK</td><td> 4.859983</td><td> 199.0000</td><td>  265</td></tr>\n",
              "\t<tr><td>ALB</td><td>14.038275</td><td> 143.0000</td><td>  439</td></tr>\n",
              "\t<tr><td>ANC</td><td>-2.500000</td><td>3370.0000</td><td>    8</td></tr>\n",
              "\t<tr><td>ATL</td><td>11.203395</td><td> 757.1082</td><td>17215</td></tr>\n",
              "\t<tr><td>AUS</td><td> 6.029959</td><td>1514.2530</td><td> 2439</td></tr>\n",
              "</tbody>\n",
              "</table>\n"
            ],
            "text/markdown": "\nA tibble: 6 × 4\n\n| dest &lt;chr&gt; | prom_arr_del &lt;dbl&gt; | prom_dist &lt;dbl&gt; | total_vuelos &lt;int&gt; |\n|---|---|---|---|\n| ABQ |  4.381890 | 1826.0000 |   254 |\n| ACK |  4.859983 |  199.0000 |   265 |\n| ALB | 14.038275 |  143.0000 |   439 |\n| ANC | -2.500000 | 3370.0000 |     8 |\n| ATL | 11.203395 |  757.1082 | 17215 |\n| AUS |  6.029959 | 1514.2530 |  2439 |\n\n",
            "text/latex": "A tibble: 6 × 4\n\\begin{tabular}{llll}\n dest & prom\\_arr\\_del & prom\\_dist & total\\_vuelos\\\\\n <chr> & <dbl> & <dbl> & <int>\\\\\n\\hline\n\t ABQ &  4.381890 & 1826.0000 &   254\\\\\n\t ACK &  4.859983 &  199.0000 &   265\\\\\n\t ALB & 14.038275 &  143.0000 &   439\\\\\n\t ANC & -2.500000 & 3370.0000 &     8\\\\\n\t ATL & 11.203395 &  757.1082 & 17215\\\\\n\t AUS &  6.029959 & 1514.2530 &  2439\\\\\n\\end{tabular}\n",
            "text/plain": [
              "  dest prom_arr_del prom_dist total_vuelos\n",
              "1 ABQ   4.381890    1826.0000   254       \n",
              "2 ACK   4.859983     199.0000   265       \n",
              "3 ALB  14.038275     143.0000   439       \n",
              "4 ANC  -2.500000    3370.0000     8       \n",
              "5 ATL  11.203395     757.1082 17215       \n",
              "6 AUS   6.029959    1514.2530  2439       "
            ]
          },
          "metadata": {}
        }
      ]
    },
    {
      "cell_type": "markdown",
      "metadata": {
        "id": "0AaOeJiZRPzj"
      },
      "source": [
        "### 4.6 Función sample_n() y sample_frac()\n",
        "\n",
        "Estas funciones nos permitirán extraer muestras aleatorias de nuestros conjuntos de datos. Esto será de suma importancia cuando trabajemos con modelos de ML."
      ]
    },
    {
      "cell_type": "code",
      "metadata": {
        "trusted": true,
        "id": "Ggzl8QxDRPzk",
        "outputId": "15508e45-aa3c-4ee5-c722-4dcc6f06758b",
        "colab": {
          "base_uri": "https://localhost:8080/",
          "height": 250
        }
      },
      "source": [
        "# sample_n() y sample_frac()-------------------------------------------------------------\n",
        "\n",
        "# muestra aleatoria de 2 registros de vuelos\n",
        "vuelos %>%\n",
        "  sample_n(2)\n",
        "\n",
        "\n"
      ],
      "execution_count": null,
      "outputs": [
        {
          "output_type": "display_data",
          "data": {
            "text/html": [
              "<table class=\"dataframe\">\n",
              "<caption>A data.frame: 2 × 25</caption>\n",
              "<thead>\n",
              "\t<tr><th scope=col>anio</th><th scope=col>mes</th><th scope=col>day</th><th scope=col>dep_time</th><th scope=col>sched_dep_time</th><th scope=col>dep_delay</th><th scope=col>arr_time</th><th scope=col>sched_arr_time</th><th scope=col>arr_delay</th><th scope=col>carrier</th><th scope=col>⋯</th><th scope=col>distance</th><th scope=col>hour</th><th scope=col>minute</th><th scope=col>time_hour</th><th scope=col>retraso_neto</th><th scope=col>retraso_neto2</th><th scope=col>day2</th><th scope=col>mes2</th><th scope=col>no_fecha</th><th scope=col>fecha</th></tr>\n",
              "\t<tr><th scope=col>&lt;int&gt;</th><th scope=col>&lt;int&gt;</th><th scope=col>&lt;int&gt;</th><th scope=col>&lt;int&gt;</th><th scope=col>&lt;int&gt;</th><th scope=col>&lt;int&gt;</th><th scope=col>&lt;int&gt;</th><th scope=col>&lt;int&gt;</th><th scope=col>&lt;int&gt;</th><th scope=col>&lt;chr&gt;</th><th scope=col>⋯</th><th scope=col>&lt;int&gt;</th><th scope=col>&lt;int&gt;</th><th scope=col>&lt;int&gt;</th><th scope=col>&lt;chr&gt;</th><th scope=col>&lt;int&gt;</th><th scope=col>&lt;int&gt;</th><th scope=col>&lt;chr&gt;</th><th scope=col>&lt;chr&gt;</th><th scope=col>&lt;chr&gt;</th><th scope=col>&lt;date&gt;</th></tr>\n",
              "</thead>\n",
              "<tbody>\n",
              "\t<tr><td>2013</td><td> 3</td><td>27</td><td>1122</td><td>1124</td><td>-2</td><td>1214</td><td>1224</td><td>-10</td><td>EV</td><td>⋯</td><td>160</td><td>11</td><td>24</td><td>2013-03-27 11:00:00</td><td>-12</td><td>-12</td><td>27</td><td>03</td><td>2013-03-27</td><td>2013-03-27</td></tr>\n",
              "\t<tr><td>2013</td><td>10</td><td>22</td><td>1023</td><td>1029</td><td>-6</td><td>1146</td><td>1214</td><td>-28</td><td>AA</td><td>⋯</td><td>733</td><td>10</td><td>29</td><td>2013-10-22 10:00:00</td><td>-34</td><td>-34</td><td>22</td><td>10</td><td>2013-10-22</td><td>2013-10-22</td></tr>\n",
              "</tbody>\n",
              "</table>\n"
            ],
            "text/markdown": "\nA data.frame: 2 × 25\n\n| anio &lt;int&gt; | mes &lt;int&gt; | day &lt;int&gt; | dep_time &lt;int&gt; | sched_dep_time &lt;int&gt; | dep_delay &lt;int&gt; | arr_time &lt;int&gt; | sched_arr_time &lt;int&gt; | arr_delay &lt;int&gt; | carrier &lt;chr&gt; | ⋯ ⋯ | distance &lt;int&gt; | hour &lt;int&gt; | minute &lt;int&gt; | time_hour &lt;chr&gt; | retraso_neto &lt;int&gt; | retraso_neto2 &lt;int&gt; | day2 &lt;chr&gt; | mes2 &lt;chr&gt; | no_fecha &lt;chr&gt; | fecha &lt;date&gt; |\n|---|---|---|---|---|---|---|---|---|---|---|---|---|---|---|---|---|---|---|---|---|\n| 2013 |  3 | 27 | 1122 | 1124 | -2 | 1214 | 1224 | -10 | EV | ⋯ | 160 | 11 | 24 | 2013-03-27 11:00:00 | -12 | -12 | 27 | 03 | 2013-03-27 | 2013-03-27 |\n| 2013 | 10 | 22 | 1023 | 1029 | -6 | 1146 | 1214 | -28 | AA | ⋯ | 733 | 10 | 29 | 2013-10-22 10:00:00 | -34 | -34 | 22 | 10 | 2013-10-22 | 2013-10-22 |\n\n",
            "text/latex": "A data.frame: 2 × 25\n\\begin{tabular}{lllllllllllllllllllll}\n anio & mes & day & dep\\_time & sched\\_dep\\_time & dep\\_delay & arr\\_time & sched\\_arr\\_time & arr\\_delay & carrier & ⋯ & distance & hour & minute & time\\_hour & retraso\\_neto & retraso\\_neto2 & day2 & mes2 & no\\_fecha & fecha\\\\\n <int> & <int> & <int> & <int> & <int> & <int> & <int> & <int> & <int> & <chr> & ⋯ & <int> & <int> & <int> & <chr> & <int> & <int> & <chr> & <chr> & <chr> & <date>\\\\\n\\hline\n\t 2013 &  3 & 27 & 1122 & 1124 & -2 & 1214 & 1224 & -10 & EV & ⋯ & 160 & 11 & 24 & 2013-03-27 11:00:00 & -12 & -12 & 27 & 03 & 2013-03-27 & 2013-03-27\\\\\n\t 2013 & 10 & 22 & 1023 & 1029 & -6 & 1146 & 1214 & -28 & AA & ⋯ & 733 & 10 & 29 & 2013-10-22 10:00:00 & -34 & -34 & 22 & 10 & 2013-10-22 & 2013-10-22\\\\\n\\end{tabular}\n",
            "text/plain": [
              "  anio mes day dep_time sched_dep_time dep_delay arr_time sched_arr_time\n",
              "1 2013  3  27  1122     1124           -2        1214     1224          \n",
              "2 2013 10  22  1023     1029           -6        1146     1214          \n",
              "  arr_delay carrier ⋯ distance hour minute time_hour           retraso_neto\n",
              "1 -10       EV      ⋯ 160      11   24     2013-03-27 11:00:00 -12         \n",
              "2 -28       AA      ⋯ 733      10   29     2013-10-22 10:00:00 -34         \n",
              "  retraso_neto2 day2 mes2 no_fecha   fecha     \n",
              "1 -12           27   03   2013-03-27 2013-03-27\n",
              "2 -34           22   10   2013-10-22 2013-10-22"
            ]
          },
          "metadata": {}
        }
      ]
    },
    {
      "cell_type": "code",
      "source": [
        "vuelos %>%\n",
        "  sample_frac(0.0001)"
      ],
      "metadata": {
        "id": "9sj70kkaYEQw",
        "outputId": "4de59b64-999b-4aa6-e979-ac5899d0a346",
        "colab": {
          "base_uri": "https://localhost:8080/",
          "height": 1000
        }
      },
      "execution_count": null,
      "outputs": [
        {
          "output_type": "display_data",
          "data": {
            "text/html": [
              "<table class=\"dataframe\">\n",
              "<caption>A data.frame: 34 × 25</caption>\n",
              "<thead>\n",
              "\t<tr><th scope=col>anio</th><th scope=col>mes</th><th scope=col>day</th><th scope=col>dep_time</th><th scope=col>sched_dep_time</th><th scope=col>dep_delay</th><th scope=col>arr_time</th><th scope=col>sched_arr_time</th><th scope=col>arr_delay</th><th scope=col>carrier</th><th scope=col>⋯</th><th scope=col>distance</th><th scope=col>hour</th><th scope=col>minute</th><th scope=col>time_hour</th><th scope=col>retraso_neto</th><th scope=col>retraso_neto2</th><th scope=col>day2</th><th scope=col>mes2</th><th scope=col>no_fecha</th><th scope=col>fecha</th></tr>\n",
              "\t<tr><th scope=col>&lt;int&gt;</th><th scope=col>&lt;int&gt;</th><th scope=col>&lt;int&gt;</th><th scope=col>&lt;int&gt;</th><th scope=col>&lt;int&gt;</th><th scope=col>&lt;int&gt;</th><th scope=col>&lt;int&gt;</th><th scope=col>&lt;int&gt;</th><th scope=col>&lt;int&gt;</th><th scope=col>&lt;chr&gt;</th><th scope=col>⋯</th><th scope=col>&lt;int&gt;</th><th scope=col>&lt;int&gt;</th><th scope=col>&lt;int&gt;</th><th scope=col>&lt;chr&gt;</th><th scope=col>&lt;int&gt;</th><th scope=col>&lt;int&gt;</th><th scope=col>&lt;chr&gt;</th><th scope=col>&lt;chr&gt;</th><th scope=col>&lt;chr&gt;</th><th scope=col>&lt;date&gt;</th></tr>\n",
              "</thead>\n",
              "<tbody>\n",
              "\t<tr><td>2013</td><td> 1</td><td>19</td><td>1440</td><td>1447</td><td> -7</td><td>1639</td><td>1642</td><td> -3</td><td>EV</td><td>⋯</td><td> 488</td><td>14</td><td>47</td><td>2013-01-19 14:00:00</td><td>-10</td><td>-10</td><td>19</td><td>01</td><td>2013-01-19</td><td>2013-01-19</td></tr>\n",
              "\t<tr><td>2013</td><td> 3</td><td>16</td><td>2026</td><td>2000</td><td> 26</td><td>2312</td><td>2300</td><td> 12</td><td>B6</td><td>⋯</td><td>1005</td><td>20</td><td> 0</td><td>2013-03-16 20:00:00</td><td> 38</td><td> 38</td><td>16</td><td>03</td><td>2013-03-16</td><td>2013-03-16</td></tr>\n",
              "\t<tr><td>2013</td><td> 2</td><td> 6</td><td>2159</td><td>1945</td><td>134</td><td>2300</td><td>2105</td><td>115</td><td>EV</td><td>⋯</td><td> 212</td><td>19</td><td>45</td><td>2013-02-06 19:00:00</td><td>249</td><td>249</td><td>06</td><td>02</td><td>2013-02-06</td><td>2013-02-06</td></tr>\n",
              "\t<tr><td>2013</td><td> 3</td><td>22</td><td>1654</td><td>1700</td><td> -6</td><td>1751</td><td>1817</td><td>-26</td><td>US</td><td>⋯</td><td> 214</td><td>17</td><td> 0</td><td>2013-03-22 17:00:00</td><td>-32</td><td>-32</td><td>22</td><td>03</td><td>2013-03-22</td><td>2013-03-22</td></tr>\n",
              "\t<tr><td>2013</td><td>10</td><td>13</td><td>1704</td><td>1700</td><td>  4</td><td>1824</td><td>1817</td><td>  7</td><td>US</td><td>⋯</td><td> 214</td><td>17</td><td> 0</td><td>2013-10-13 17:00:00</td><td> 11</td><td> 11</td><td>13</td><td>10</td><td>2013-10-13</td><td>2013-10-13</td></tr>\n",
              "\t<tr><td>2013</td><td> 8</td><td>19</td><td>1823</td><td>1825</td><td> -2</td><td>2105</td><td>2147</td><td>-42</td><td>AS</td><td>⋯</td><td>2402</td><td>18</td><td>25</td><td>2013-08-19 18:00:00</td><td>-44</td><td>-44</td><td>19</td><td>08</td><td>2013-08-19</td><td>2013-08-19</td></tr>\n",
              "\t<tr><td>2013</td><td> 5</td><td>22</td><td>1320</td><td>1325</td><td> -5</td><td>1606</td><td>1500</td><td> 66</td><td>AA</td><td>⋯</td><td> 733</td><td>13</td><td>25</td><td>2013-05-22 13:00:00</td><td> 61</td><td> 61</td><td>22</td><td>05</td><td>2013-05-22</td><td>2013-05-22</td></tr>\n",
              "\t<tr><td>2013</td><td> 6</td><td> 3</td><td>1110</td><td>1059</td><td> 11</td><td>1333</td><td>1329</td><td>  4</td><td>DL</td><td>⋯</td><td> 762</td><td>10</td><td>59</td><td>2013-06-03 10:00:00</td><td> 15</td><td> 15</td><td>03</td><td>06</td><td>2013-06-03</td><td>2013-06-03</td></tr>\n",
              "\t<tr><td>2013</td><td> 4</td><td>25</td><td> 752</td><td> 759</td><td> -7</td><td>1103</td><td>1048</td><td> 15</td><td>UA</td><td>⋯</td><td>1372</td><td> 7</td><td>59</td><td>2013-04-25 07:00:00</td><td>  8</td><td>  8</td><td>25</td><td>04</td><td>2013-04-25</td><td>2013-04-25</td></tr>\n",
              "\t<tr><td>2013</td><td> 2</td><td>21</td><td> 848</td><td> 840</td><td>  8</td><td>1139</td><td>1136</td><td>  3</td><td>B6</td><td>⋯</td><td>1005</td><td> 8</td><td>40</td><td>2013-02-21 08:00:00</td><td> 11</td><td> 11</td><td>21</td><td>02</td><td>2013-02-21</td><td>2013-02-21</td></tr>\n",
              "\t<tr><td>2013</td><td>11</td><td> 5</td><td>1835</td><td>1845</td><td>-10</td><td>1951</td><td>2026</td><td>-35</td><td>EV</td><td>⋯</td><td> 764</td><td>18</td><td>45</td><td>2013-11-05 18:00:00</td><td>-45</td><td>-45</td><td>05</td><td>11</td><td>2013-11-05</td><td>2013-11-05</td></tr>\n",
              "\t<tr><td>2013</td><td> 3</td><td> 5</td><td>2128</td><td>2138</td><td>-10</td><td>  25</td><td>  29</td><td> -4</td><td>B6</td><td>⋯</td><td>1076</td><td>21</td><td>38</td><td>2013-03-05 21:00:00</td><td>-14</td><td>-14</td><td>05</td><td>03</td><td>2013-03-05</td><td>2013-03-05</td></tr>\n",
              "\t<tr><td>2013</td><td> 5</td><td> 5</td><td>1216</td><td>1210</td><td>  6</td><td>1404</td><td>1355</td><td>  9</td><td>MQ</td><td>⋯</td><td> 431</td><td>12</td><td>10</td><td>2013-05-05 12:00:00</td><td> 15</td><td> 15</td><td>05</td><td>05</td><td>2013-05-05</td><td>2013-05-05</td></tr>\n",
              "\t<tr><td>2013</td><td> 6</td><td>24</td><td>  NA</td><td>1700</td><td> NA</td><td>  NA</td><td>1912</td><td> NA</td><td>B6</td><td>⋯</td><td> 541</td><td>17</td><td> 0</td><td>2013-06-24 17:00:00</td><td> NA</td><td> NA</td><td>24</td><td>06</td><td>2013-06-24</td><td>2013-06-24</td></tr>\n",
              "\t<tr><td>2013</td><td> 7</td><td>11</td><td>2102</td><td>2057</td><td>  5</td><td>2356</td><td>2359</td><td> -3</td><td>UA</td><td>⋯</td><td> 997</td><td>20</td><td>57</td><td>2013-07-11 20:00:00</td><td>  2</td><td>  2</td><td>11</td><td>07</td><td>2013-07-11</td><td>2013-07-11</td></tr>\n",
              "\t<tr><td>2013</td><td>11</td><td>29</td><td>1456</td><td>1459</td><td> -3</td><td>1750</td><td>1813</td><td>-23</td><td>UA</td><td>⋯</td><td>1504</td><td>14</td><td>59</td><td>2013-11-29 14:00:00</td><td>-26</td><td>-26</td><td>29</td><td>11</td><td>2013-11-29</td><td>2013-11-29</td></tr>\n",
              "\t<tr><td>2013</td><td>12</td><td>18</td><td>2038</td><td>1900</td><td> 98</td><td> 133</td><td>2359</td><td> 94</td><td>AA</td><td>⋯</td><td>1598</td><td>19</td><td> 0</td><td>2013-12-18 19:00:00</td><td>192</td><td>192</td><td>18</td><td>12</td><td>2013-12-18</td><td>2013-12-18</td></tr>\n",
              "\t<tr><td>2013</td><td>11</td><td>21</td><td>1517</td><td>1520</td><td> -3</td><td>1710</td><td>1723</td><td>-13</td><td>EV</td><td>⋯</td><td> 594</td><td>15</td><td>20</td><td>2013-11-21 15:00:00</td><td>-16</td><td>-16</td><td>21</td><td>11</td><td>2013-11-21</td><td>2013-11-21</td></tr>\n",
              "\t<tr><td>2013</td><td>12</td><td>25</td><td> 849</td><td> 900</td><td>-11</td><td>1015</td><td>1023</td><td> -8</td><td>US</td><td>⋯</td><td> 214</td><td> 9</td><td> 0</td><td>2013-12-25 09:00:00</td><td>-19</td><td>-19</td><td>25</td><td>12</td><td>2013-12-25</td><td>2013-12-25</td></tr>\n",
              "\t<tr><td>2013</td><td> 5</td><td> 3</td><td>1115</td><td>1115</td><td>  0</td><td>1301</td><td>1250</td><td> 11</td><td>WN</td><td>⋯</td><td> 764</td><td>11</td><td>15</td><td>2013-05-03 11:00:00</td><td> 11</td><td> 11</td><td>03</td><td>05</td><td>2013-05-03</td><td>2013-05-03</td></tr>\n",
              "\t<tr><td>2013</td><td> 3</td><td>19</td><td>1146</td><td>1144</td><td>  2</td><td>1444</td><td>1434</td><td> 10</td><td>UA</td><td>⋯</td><td> 937</td><td>11</td><td>44</td><td>2013-03-19 11:00:00</td><td> 12</td><td> 12</td><td>19</td><td>03</td><td>2013-03-19</td><td>2013-03-19</td></tr>\n",
              "\t<tr><td>2013</td><td>11</td><td>30</td><td> 748</td><td> 750</td><td> -2</td><td>1241</td><td>1255</td><td>-14</td><td>AA</td><td>⋯</td><td>1623</td><td> 7</td><td>50</td><td>2013-11-30 07:00:00</td><td>-16</td><td>-16</td><td>30</td><td>11</td><td>2013-11-30</td><td>2013-11-30</td></tr>\n",
              "\t<tr><td>2013</td><td> 2</td><td>22</td><td>2008</td><td>2010</td><td> -2</td><td>2310</td><td>2320</td><td>-10</td><td>UA</td><td>⋯</td><td>1068</td><td>20</td><td>10</td><td>2013-02-22 20:00:00</td><td>-12</td><td>-12</td><td>22</td><td>02</td><td>2013-02-22</td><td>2013-02-22</td></tr>\n",
              "\t<tr><td>2013</td><td> 1</td><td> 6</td><td> 749</td><td> 737</td><td> 12</td><td>1113</td><td>1113</td><td>  0</td><td>B6</td><td>⋯</td><td>2586</td><td> 7</td><td>37</td><td>2013-01-06 07:00:00</td><td> 12</td><td> 12</td><td>06</td><td>01</td><td>2013-01-06</td><td>2013-01-06</td></tr>\n",
              "\t<tr><td>2013</td><td> 4</td><td> 8</td><td>1155</td><td>1200</td><td> -5</td><td>1253</td><td>1305</td><td>-12</td><td>B6</td><td>⋯</td><td> 200</td><td>12</td><td> 0</td><td>2013-04-08 12:00:00</td><td>-17</td><td>-17</td><td>08</td><td>04</td><td>2013-04-08</td><td>2013-04-08</td></tr>\n",
              "\t<tr><td>2013</td><td> 1</td><td>29</td><td>1953</td><td>2000</td><td> -7</td><td>2100</td><td>2114</td><td>-14</td><td>US</td><td>⋯</td><td> 184</td><td>20</td><td> 0</td><td>2013-01-29 20:00:00</td><td>-21</td><td>-21</td><td>29</td><td>01</td><td>2013-01-29</td><td>2013-01-29</td></tr>\n",
              "\t<tr><td>2013</td><td> 7</td><td>22</td><td>2040</td><td>1645</td><td>235</td><td>2243</td><td>1807</td><td>276</td><td>EV</td><td>⋯</td><td> 246</td><td>16</td><td>45</td><td>2013-07-22 16:00:00</td><td>511</td><td>511</td><td>22</td><td>07</td><td>2013-07-22</td><td>2013-07-22</td></tr>\n",
              "\t<tr><td>2013</td><td> 8</td><td>11</td><td>2121</td><td>2057</td><td> 24</td><td>  33</td><td>2359</td><td> 34</td><td>UA</td><td>⋯</td><td>2454</td><td>20</td><td>57</td><td>2013-08-11 20:00:00</td><td> 58</td><td> 58</td><td>11</td><td>08</td><td>2013-08-11</td><td>2013-08-11</td></tr>\n",
              "\t<tr><td>2013</td><td> 8</td><td>14</td><td> 741</td><td> 659</td><td> 42</td><td>1038</td><td> 942</td><td> 56</td><td>B6</td><td>⋯</td><td>1028</td><td> 6</td><td>59</td><td>2013-08-14 06:00:00</td><td> 98</td><td> 98</td><td>14</td><td>08</td><td>2013-08-14</td><td>2013-08-14</td></tr>\n",
              "\t<tr><td>2013</td><td>10</td><td>29</td><td>1332</td><td>1335</td><td> -3</td><td>1514</td><td>1500</td><td> 14</td><td>WN</td><td>⋯</td><td> 725</td><td>13</td><td>35</td><td>2013-10-29 13:00:00</td><td> 11</td><td> 11</td><td>29</td><td>10</td><td>2013-10-29</td><td>2013-10-29</td></tr>\n",
              "\t<tr><td>2013</td><td> 6</td><td> 9</td><td>1756</td><td>1540</td><td>136</td><td>1948</td><td>1736</td><td>132</td><td>9E</td><td>⋯</td><td> 740</td><td>15</td><td>40</td><td>2013-06-09 15:00:00</td><td>268</td><td>268</td><td>09</td><td>06</td><td>2013-06-09</td><td>2013-06-09</td></tr>\n",
              "\t<tr><td>2013</td><td> 3</td><td>21</td><td> 947</td><td> 950</td><td> -3</td><td>1309</td><td>1254</td><td> 15</td><td>B6</td><td>⋯</td><td>1069</td><td> 9</td><td>50</td><td>2013-03-21 09:00:00</td><td> 12</td><td> 12</td><td>21</td><td>03</td><td>2013-03-21</td><td>2013-03-21</td></tr>\n",
              "\t<tr><td>2013</td><td> 3</td><td>28</td><td>1403</td><td>1359</td><td>  4</td><td>1655</td><td>1655</td><td>  0</td><td>UA</td><td>⋯</td><td>1400</td><td>13</td><td>59</td><td>2013-03-28 13:00:00</td><td>  4</td><td>  4</td><td>28</td><td>03</td><td>2013-03-28</td><td>2013-03-28</td></tr>\n",
              "\t<tr><td>2013</td><td>12</td><td>21</td><td>1513</td><td>1500</td><td> 13</td><td>1838</td><td>1807</td><td> 31</td><td>DL</td><td>⋯</td><td> 950</td><td>15</td><td> 0</td><td>2013-12-21 15:00:00</td><td> 44</td><td> 44</td><td>21</td><td>12</td><td>2013-12-21</td><td>2013-12-21</td></tr>\n",
              "</tbody>\n",
              "</table>\n"
            ],
            "text/markdown": "\nA data.frame: 34 × 25\n\n| anio &lt;int&gt; | mes &lt;int&gt; | day &lt;int&gt; | dep_time &lt;int&gt; | sched_dep_time &lt;int&gt; | dep_delay &lt;int&gt; | arr_time &lt;int&gt; | sched_arr_time &lt;int&gt; | arr_delay &lt;int&gt; | carrier &lt;chr&gt; | ⋯ ⋯ | distance &lt;int&gt; | hour &lt;int&gt; | minute &lt;int&gt; | time_hour &lt;chr&gt; | retraso_neto &lt;int&gt; | retraso_neto2 &lt;int&gt; | day2 &lt;chr&gt; | mes2 &lt;chr&gt; | no_fecha &lt;chr&gt; | fecha &lt;date&gt; |\n|---|---|---|---|---|---|---|---|---|---|---|---|---|---|---|---|---|---|---|---|---|\n| 2013 |  1 | 19 | 1440 | 1447 |  -7 | 1639 | 1642 |  -3 | EV | ⋯ |  488 | 14 | 47 | 2013-01-19 14:00:00 | -10 | -10 | 19 | 01 | 2013-01-19 | 2013-01-19 |\n| 2013 |  3 | 16 | 2026 | 2000 |  26 | 2312 | 2300 |  12 | B6 | ⋯ | 1005 | 20 |  0 | 2013-03-16 20:00:00 |  38 |  38 | 16 | 03 | 2013-03-16 | 2013-03-16 |\n| 2013 |  2 |  6 | 2159 | 1945 | 134 | 2300 | 2105 | 115 | EV | ⋯ |  212 | 19 | 45 | 2013-02-06 19:00:00 | 249 | 249 | 06 | 02 | 2013-02-06 | 2013-02-06 |\n| 2013 |  3 | 22 | 1654 | 1700 |  -6 | 1751 | 1817 | -26 | US | ⋯ |  214 | 17 |  0 | 2013-03-22 17:00:00 | -32 | -32 | 22 | 03 | 2013-03-22 | 2013-03-22 |\n| 2013 | 10 | 13 | 1704 | 1700 |   4 | 1824 | 1817 |   7 | US | ⋯ |  214 | 17 |  0 | 2013-10-13 17:00:00 |  11 |  11 | 13 | 10 | 2013-10-13 | 2013-10-13 |\n| 2013 |  8 | 19 | 1823 | 1825 |  -2 | 2105 | 2147 | -42 | AS | ⋯ | 2402 | 18 | 25 | 2013-08-19 18:00:00 | -44 | -44 | 19 | 08 | 2013-08-19 | 2013-08-19 |\n| 2013 |  5 | 22 | 1320 | 1325 |  -5 | 1606 | 1500 |  66 | AA | ⋯ |  733 | 13 | 25 | 2013-05-22 13:00:00 |  61 |  61 | 22 | 05 | 2013-05-22 | 2013-05-22 |\n| 2013 |  6 |  3 | 1110 | 1059 |  11 | 1333 | 1329 |   4 | DL | ⋯ |  762 | 10 | 59 | 2013-06-03 10:00:00 |  15 |  15 | 03 | 06 | 2013-06-03 | 2013-06-03 |\n| 2013 |  4 | 25 |  752 |  759 |  -7 | 1103 | 1048 |  15 | UA | ⋯ | 1372 |  7 | 59 | 2013-04-25 07:00:00 |   8 |   8 | 25 | 04 | 2013-04-25 | 2013-04-25 |\n| 2013 |  2 | 21 |  848 |  840 |   8 | 1139 | 1136 |   3 | B6 | ⋯ | 1005 |  8 | 40 | 2013-02-21 08:00:00 |  11 |  11 | 21 | 02 | 2013-02-21 | 2013-02-21 |\n| 2013 | 11 |  5 | 1835 | 1845 | -10 | 1951 | 2026 | -35 | EV | ⋯ |  764 | 18 | 45 | 2013-11-05 18:00:00 | -45 | -45 | 05 | 11 | 2013-11-05 | 2013-11-05 |\n| 2013 |  3 |  5 | 2128 | 2138 | -10 |   25 |   29 |  -4 | B6 | ⋯ | 1076 | 21 | 38 | 2013-03-05 21:00:00 | -14 | -14 | 05 | 03 | 2013-03-05 | 2013-03-05 |\n| 2013 |  5 |  5 | 1216 | 1210 |   6 | 1404 | 1355 |   9 | MQ | ⋯ |  431 | 12 | 10 | 2013-05-05 12:00:00 |  15 |  15 | 05 | 05 | 2013-05-05 | 2013-05-05 |\n| 2013 |  6 | 24 |   NA | 1700 |  NA |   NA | 1912 |  NA | B6 | ⋯ |  541 | 17 |  0 | 2013-06-24 17:00:00 |  NA |  NA | 24 | 06 | 2013-06-24 | 2013-06-24 |\n| 2013 |  7 | 11 | 2102 | 2057 |   5 | 2356 | 2359 |  -3 | UA | ⋯ |  997 | 20 | 57 | 2013-07-11 20:00:00 |   2 |   2 | 11 | 07 | 2013-07-11 | 2013-07-11 |\n| 2013 | 11 | 29 | 1456 | 1459 |  -3 | 1750 | 1813 | -23 | UA | ⋯ | 1504 | 14 | 59 | 2013-11-29 14:00:00 | -26 | -26 | 29 | 11 | 2013-11-29 | 2013-11-29 |\n| 2013 | 12 | 18 | 2038 | 1900 |  98 |  133 | 2359 |  94 | AA | ⋯ | 1598 | 19 |  0 | 2013-12-18 19:00:00 | 192 | 192 | 18 | 12 | 2013-12-18 | 2013-12-18 |\n| 2013 | 11 | 21 | 1517 | 1520 |  -3 | 1710 | 1723 | -13 | EV | ⋯ |  594 | 15 | 20 | 2013-11-21 15:00:00 | -16 | -16 | 21 | 11 | 2013-11-21 | 2013-11-21 |\n| 2013 | 12 | 25 |  849 |  900 | -11 | 1015 | 1023 |  -8 | US | ⋯ |  214 |  9 |  0 | 2013-12-25 09:00:00 | -19 | -19 | 25 | 12 | 2013-12-25 | 2013-12-25 |\n| 2013 |  5 |  3 | 1115 | 1115 |   0 | 1301 | 1250 |  11 | WN | ⋯ |  764 | 11 | 15 | 2013-05-03 11:00:00 |  11 |  11 | 03 | 05 | 2013-05-03 | 2013-05-03 |\n| 2013 |  3 | 19 | 1146 | 1144 |   2 | 1444 | 1434 |  10 | UA | ⋯ |  937 | 11 | 44 | 2013-03-19 11:00:00 |  12 |  12 | 19 | 03 | 2013-03-19 | 2013-03-19 |\n| 2013 | 11 | 30 |  748 |  750 |  -2 | 1241 | 1255 | -14 | AA | ⋯ | 1623 |  7 | 50 | 2013-11-30 07:00:00 | -16 | -16 | 30 | 11 | 2013-11-30 | 2013-11-30 |\n| 2013 |  2 | 22 | 2008 | 2010 |  -2 | 2310 | 2320 | -10 | UA | ⋯ | 1068 | 20 | 10 | 2013-02-22 20:00:00 | -12 | -12 | 22 | 02 | 2013-02-22 | 2013-02-22 |\n| 2013 |  1 |  6 |  749 |  737 |  12 | 1113 | 1113 |   0 | B6 | ⋯ | 2586 |  7 | 37 | 2013-01-06 07:00:00 |  12 |  12 | 06 | 01 | 2013-01-06 | 2013-01-06 |\n| 2013 |  4 |  8 | 1155 | 1200 |  -5 | 1253 | 1305 | -12 | B6 | ⋯ |  200 | 12 |  0 | 2013-04-08 12:00:00 | -17 | -17 | 08 | 04 | 2013-04-08 | 2013-04-08 |\n| 2013 |  1 | 29 | 1953 | 2000 |  -7 | 2100 | 2114 | -14 | US | ⋯ |  184 | 20 |  0 | 2013-01-29 20:00:00 | -21 | -21 | 29 | 01 | 2013-01-29 | 2013-01-29 |\n| 2013 |  7 | 22 | 2040 | 1645 | 235 | 2243 | 1807 | 276 | EV | ⋯ |  246 | 16 | 45 | 2013-07-22 16:00:00 | 511 | 511 | 22 | 07 | 2013-07-22 | 2013-07-22 |\n| 2013 |  8 | 11 | 2121 | 2057 |  24 |   33 | 2359 |  34 | UA | ⋯ | 2454 | 20 | 57 | 2013-08-11 20:00:00 |  58 |  58 | 11 | 08 | 2013-08-11 | 2013-08-11 |\n| 2013 |  8 | 14 |  741 |  659 |  42 | 1038 |  942 |  56 | B6 | ⋯ | 1028 |  6 | 59 | 2013-08-14 06:00:00 |  98 |  98 | 14 | 08 | 2013-08-14 | 2013-08-14 |\n| 2013 | 10 | 29 | 1332 | 1335 |  -3 | 1514 | 1500 |  14 | WN | ⋯ |  725 | 13 | 35 | 2013-10-29 13:00:00 |  11 |  11 | 29 | 10 | 2013-10-29 | 2013-10-29 |\n| 2013 |  6 |  9 | 1756 | 1540 | 136 | 1948 | 1736 | 132 | 9E | ⋯ |  740 | 15 | 40 | 2013-06-09 15:00:00 | 268 | 268 | 09 | 06 | 2013-06-09 | 2013-06-09 |\n| 2013 |  3 | 21 |  947 |  950 |  -3 | 1309 | 1254 |  15 | B6 | ⋯ | 1069 |  9 | 50 | 2013-03-21 09:00:00 |  12 |  12 | 21 | 03 | 2013-03-21 | 2013-03-21 |\n| 2013 |  3 | 28 | 1403 | 1359 |   4 | 1655 | 1655 |   0 | UA | ⋯ | 1400 | 13 | 59 | 2013-03-28 13:00:00 |   4 |   4 | 28 | 03 | 2013-03-28 | 2013-03-28 |\n| 2013 | 12 | 21 | 1513 | 1500 |  13 | 1838 | 1807 |  31 | DL | ⋯ |  950 | 15 |  0 | 2013-12-21 15:00:00 |  44 |  44 | 21 | 12 | 2013-12-21 | 2013-12-21 |\n\n",
            "text/latex": "A data.frame: 34 × 25\n\\begin{tabular}{lllllllllllllllllllll}\n anio & mes & day & dep\\_time & sched\\_dep\\_time & dep\\_delay & arr\\_time & sched\\_arr\\_time & arr\\_delay & carrier & ⋯ & distance & hour & minute & time\\_hour & retraso\\_neto & retraso\\_neto2 & day2 & mes2 & no\\_fecha & fecha\\\\\n <int> & <int> & <int> & <int> & <int> & <int> & <int> & <int> & <int> & <chr> & ⋯ & <int> & <int> & <int> & <chr> & <int> & <int> & <chr> & <chr> & <chr> & <date>\\\\\n\\hline\n\t 2013 &  1 & 19 & 1440 & 1447 &  -7 & 1639 & 1642 &  -3 & EV & ⋯ &  488 & 14 & 47 & 2013-01-19 14:00:00 & -10 & -10 & 19 & 01 & 2013-01-19 & 2013-01-19\\\\\n\t 2013 &  3 & 16 & 2026 & 2000 &  26 & 2312 & 2300 &  12 & B6 & ⋯ & 1005 & 20 &  0 & 2013-03-16 20:00:00 &  38 &  38 & 16 & 03 & 2013-03-16 & 2013-03-16\\\\\n\t 2013 &  2 &  6 & 2159 & 1945 & 134 & 2300 & 2105 & 115 & EV & ⋯ &  212 & 19 & 45 & 2013-02-06 19:00:00 & 249 & 249 & 06 & 02 & 2013-02-06 & 2013-02-06\\\\\n\t 2013 &  3 & 22 & 1654 & 1700 &  -6 & 1751 & 1817 & -26 & US & ⋯ &  214 & 17 &  0 & 2013-03-22 17:00:00 & -32 & -32 & 22 & 03 & 2013-03-22 & 2013-03-22\\\\\n\t 2013 & 10 & 13 & 1704 & 1700 &   4 & 1824 & 1817 &   7 & US & ⋯ &  214 & 17 &  0 & 2013-10-13 17:00:00 &  11 &  11 & 13 & 10 & 2013-10-13 & 2013-10-13\\\\\n\t 2013 &  8 & 19 & 1823 & 1825 &  -2 & 2105 & 2147 & -42 & AS & ⋯ & 2402 & 18 & 25 & 2013-08-19 18:00:00 & -44 & -44 & 19 & 08 & 2013-08-19 & 2013-08-19\\\\\n\t 2013 &  5 & 22 & 1320 & 1325 &  -5 & 1606 & 1500 &  66 & AA & ⋯ &  733 & 13 & 25 & 2013-05-22 13:00:00 &  61 &  61 & 22 & 05 & 2013-05-22 & 2013-05-22\\\\\n\t 2013 &  6 &  3 & 1110 & 1059 &  11 & 1333 & 1329 &   4 & DL & ⋯ &  762 & 10 & 59 & 2013-06-03 10:00:00 &  15 &  15 & 03 & 06 & 2013-06-03 & 2013-06-03\\\\\n\t 2013 &  4 & 25 &  752 &  759 &  -7 & 1103 & 1048 &  15 & UA & ⋯ & 1372 &  7 & 59 & 2013-04-25 07:00:00 &   8 &   8 & 25 & 04 & 2013-04-25 & 2013-04-25\\\\\n\t 2013 &  2 & 21 &  848 &  840 &   8 & 1139 & 1136 &   3 & B6 & ⋯ & 1005 &  8 & 40 & 2013-02-21 08:00:00 &  11 &  11 & 21 & 02 & 2013-02-21 & 2013-02-21\\\\\n\t 2013 & 11 &  5 & 1835 & 1845 & -10 & 1951 & 2026 & -35 & EV & ⋯ &  764 & 18 & 45 & 2013-11-05 18:00:00 & -45 & -45 & 05 & 11 & 2013-11-05 & 2013-11-05\\\\\n\t 2013 &  3 &  5 & 2128 & 2138 & -10 &   25 &   29 &  -4 & B6 & ⋯ & 1076 & 21 & 38 & 2013-03-05 21:00:00 & -14 & -14 & 05 & 03 & 2013-03-05 & 2013-03-05\\\\\n\t 2013 &  5 &  5 & 1216 & 1210 &   6 & 1404 & 1355 &   9 & MQ & ⋯ &  431 & 12 & 10 & 2013-05-05 12:00:00 &  15 &  15 & 05 & 05 & 2013-05-05 & 2013-05-05\\\\\n\t 2013 &  6 & 24 &   NA & 1700 &  NA &   NA & 1912 &  NA & B6 & ⋯ &  541 & 17 &  0 & 2013-06-24 17:00:00 &  NA &  NA & 24 & 06 & 2013-06-24 & 2013-06-24\\\\\n\t 2013 &  7 & 11 & 2102 & 2057 &   5 & 2356 & 2359 &  -3 & UA & ⋯ &  997 & 20 & 57 & 2013-07-11 20:00:00 &   2 &   2 & 11 & 07 & 2013-07-11 & 2013-07-11\\\\\n\t 2013 & 11 & 29 & 1456 & 1459 &  -3 & 1750 & 1813 & -23 & UA & ⋯ & 1504 & 14 & 59 & 2013-11-29 14:00:00 & -26 & -26 & 29 & 11 & 2013-11-29 & 2013-11-29\\\\\n\t 2013 & 12 & 18 & 2038 & 1900 &  98 &  133 & 2359 &  94 & AA & ⋯ & 1598 & 19 &  0 & 2013-12-18 19:00:00 & 192 & 192 & 18 & 12 & 2013-12-18 & 2013-12-18\\\\\n\t 2013 & 11 & 21 & 1517 & 1520 &  -3 & 1710 & 1723 & -13 & EV & ⋯ &  594 & 15 & 20 & 2013-11-21 15:00:00 & -16 & -16 & 21 & 11 & 2013-11-21 & 2013-11-21\\\\\n\t 2013 & 12 & 25 &  849 &  900 & -11 & 1015 & 1023 &  -8 & US & ⋯ &  214 &  9 &  0 & 2013-12-25 09:00:00 & -19 & -19 & 25 & 12 & 2013-12-25 & 2013-12-25\\\\\n\t 2013 &  5 &  3 & 1115 & 1115 &   0 & 1301 & 1250 &  11 & WN & ⋯ &  764 & 11 & 15 & 2013-05-03 11:00:00 &  11 &  11 & 03 & 05 & 2013-05-03 & 2013-05-03\\\\\n\t 2013 &  3 & 19 & 1146 & 1144 &   2 & 1444 & 1434 &  10 & UA & ⋯ &  937 & 11 & 44 & 2013-03-19 11:00:00 &  12 &  12 & 19 & 03 & 2013-03-19 & 2013-03-19\\\\\n\t 2013 & 11 & 30 &  748 &  750 &  -2 & 1241 & 1255 & -14 & AA & ⋯ & 1623 &  7 & 50 & 2013-11-30 07:00:00 & -16 & -16 & 30 & 11 & 2013-11-30 & 2013-11-30\\\\\n\t 2013 &  2 & 22 & 2008 & 2010 &  -2 & 2310 & 2320 & -10 & UA & ⋯ & 1068 & 20 & 10 & 2013-02-22 20:00:00 & -12 & -12 & 22 & 02 & 2013-02-22 & 2013-02-22\\\\\n\t 2013 &  1 &  6 &  749 &  737 &  12 & 1113 & 1113 &   0 & B6 & ⋯ & 2586 &  7 & 37 & 2013-01-06 07:00:00 &  12 &  12 & 06 & 01 & 2013-01-06 & 2013-01-06\\\\\n\t 2013 &  4 &  8 & 1155 & 1200 &  -5 & 1253 & 1305 & -12 & B6 & ⋯ &  200 & 12 &  0 & 2013-04-08 12:00:00 & -17 & -17 & 08 & 04 & 2013-04-08 & 2013-04-08\\\\\n\t 2013 &  1 & 29 & 1953 & 2000 &  -7 & 2100 & 2114 & -14 & US & ⋯ &  184 & 20 &  0 & 2013-01-29 20:00:00 & -21 & -21 & 29 & 01 & 2013-01-29 & 2013-01-29\\\\\n\t 2013 &  7 & 22 & 2040 & 1645 & 235 & 2243 & 1807 & 276 & EV & ⋯ &  246 & 16 & 45 & 2013-07-22 16:00:00 & 511 & 511 & 22 & 07 & 2013-07-22 & 2013-07-22\\\\\n\t 2013 &  8 & 11 & 2121 & 2057 &  24 &   33 & 2359 &  34 & UA & ⋯ & 2454 & 20 & 57 & 2013-08-11 20:00:00 &  58 &  58 & 11 & 08 & 2013-08-11 & 2013-08-11\\\\\n\t 2013 &  8 & 14 &  741 &  659 &  42 & 1038 &  942 &  56 & B6 & ⋯ & 1028 &  6 & 59 & 2013-08-14 06:00:00 &  98 &  98 & 14 & 08 & 2013-08-14 & 2013-08-14\\\\\n\t 2013 & 10 & 29 & 1332 & 1335 &  -3 & 1514 & 1500 &  14 & WN & ⋯ &  725 & 13 & 35 & 2013-10-29 13:00:00 &  11 &  11 & 29 & 10 & 2013-10-29 & 2013-10-29\\\\\n\t 2013 &  6 &  9 & 1756 & 1540 & 136 & 1948 & 1736 & 132 & 9E & ⋯ &  740 & 15 & 40 & 2013-06-09 15:00:00 & 268 & 268 & 09 & 06 & 2013-06-09 & 2013-06-09\\\\\n\t 2013 &  3 & 21 &  947 &  950 &  -3 & 1309 & 1254 &  15 & B6 & ⋯ & 1069 &  9 & 50 & 2013-03-21 09:00:00 &  12 &  12 & 21 & 03 & 2013-03-21 & 2013-03-21\\\\\n\t 2013 &  3 & 28 & 1403 & 1359 &   4 & 1655 & 1655 &   0 & UA & ⋯ & 1400 & 13 & 59 & 2013-03-28 13:00:00 &   4 &   4 & 28 & 03 & 2013-03-28 & 2013-03-28\\\\\n\t 2013 & 12 & 21 & 1513 & 1500 &  13 & 1838 & 1807 &  31 & DL & ⋯ &  950 & 15 &  0 & 2013-12-21 15:00:00 &  44 &  44 & 21 & 12 & 2013-12-21 & 2013-12-21\\\\\n\\end{tabular}\n",
            "text/plain": [
              "   anio mes day dep_time sched_dep_time dep_delay arr_time sched_arr_time\n",
              "1  2013  1  19  1440     1447            -7       1639     1642          \n",
              "2  2013  3  16  2026     2000            26       2312     2300          \n",
              "3  2013  2   6  2159     1945           134       2300     2105          \n",
              "4  2013  3  22  1654     1700            -6       1751     1817          \n",
              "5  2013 10  13  1704     1700             4       1824     1817          \n",
              "6  2013  8  19  1823     1825            -2       2105     2147          \n",
              "7  2013  5  22  1320     1325            -5       1606     1500          \n",
              "8  2013  6   3  1110     1059            11       1333     1329          \n",
              "9  2013  4  25   752      759            -7       1103     1048          \n",
              "10 2013  2  21   848      840             8       1139     1136          \n",
              "11 2013 11   5  1835     1845           -10       1951     2026          \n",
              "12 2013  3   5  2128     2138           -10         25       29          \n",
              "13 2013  5   5  1216     1210             6       1404     1355          \n",
              "14 2013  6  24    NA     1700            NA         NA     1912          \n",
              "15 2013  7  11  2102     2057             5       2356     2359          \n",
              "16 2013 11  29  1456     1459            -3       1750     1813          \n",
              "17 2013 12  18  2038     1900            98        133     2359          \n",
              "18 2013 11  21  1517     1520            -3       1710     1723          \n",
              "19 2013 12  25   849      900           -11       1015     1023          \n",
              "20 2013  5   3  1115     1115             0       1301     1250          \n",
              "21 2013  3  19  1146     1144             2       1444     1434          \n",
              "22 2013 11  30   748      750            -2       1241     1255          \n",
              "23 2013  2  22  2008     2010            -2       2310     2320          \n",
              "24 2013  1   6   749      737            12       1113     1113          \n",
              "25 2013  4   8  1155     1200            -5       1253     1305          \n",
              "26 2013  1  29  1953     2000            -7       2100     2114          \n",
              "27 2013  7  22  2040     1645           235       2243     1807          \n",
              "28 2013  8  11  2121     2057            24         33     2359          \n",
              "29 2013  8  14   741      659            42       1038      942          \n",
              "30 2013 10  29  1332     1335            -3       1514     1500          \n",
              "31 2013  6   9  1756     1540           136       1948     1736          \n",
              "32 2013  3  21   947      950            -3       1309     1254          \n",
              "33 2013  3  28  1403     1359             4       1655     1655          \n",
              "34 2013 12  21  1513     1500            13       1838     1807          \n",
              "   arr_delay carrier ⋯ distance hour minute time_hour           retraso_neto\n",
              "1   -3       EV      ⋯  488     14   47     2013-01-19 14:00:00 -10         \n",
              "2   12       B6      ⋯ 1005     20    0     2013-03-16 20:00:00  38         \n",
              "3  115       EV      ⋯  212     19   45     2013-02-06 19:00:00 249         \n",
              "4  -26       US      ⋯  214     17    0     2013-03-22 17:00:00 -32         \n",
              "5    7       US      ⋯  214     17    0     2013-10-13 17:00:00  11         \n",
              "6  -42       AS      ⋯ 2402     18   25     2013-08-19 18:00:00 -44         \n",
              "7   66       AA      ⋯  733     13   25     2013-05-22 13:00:00  61         \n",
              "8    4       DL      ⋯  762     10   59     2013-06-03 10:00:00  15         \n",
              "9   15       UA      ⋯ 1372      7   59     2013-04-25 07:00:00   8         \n",
              "10   3       B6      ⋯ 1005      8   40     2013-02-21 08:00:00  11         \n",
              "11 -35       EV      ⋯  764     18   45     2013-11-05 18:00:00 -45         \n",
              "12  -4       B6      ⋯ 1076     21   38     2013-03-05 21:00:00 -14         \n",
              "13   9       MQ      ⋯  431     12   10     2013-05-05 12:00:00  15         \n",
              "14  NA       B6      ⋯  541     17    0     2013-06-24 17:00:00  NA         \n",
              "15  -3       UA      ⋯  997     20   57     2013-07-11 20:00:00   2         \n",
              "16 -23       UA      ⋯ 1504     14   59     2013-11-29 14:00:00 -26         \n",
              "17  94       AA      ⋯ 1598     19    0     2013-12-18 19:00:00 192         \n",
              "18 -13       EV      ⋯  594     15   20     2013-11-21 15:00:00 -16         \n",
              "19  -8       US      ⋯  214      9    0     2013-12-25 09:00:00 -19         \n",
              "20  11       WN      ⋯  764     11   15     2013-05-03 11:00:00  11         \n",
              "21  10       UA      ⋯  937     11   44     2013-03-19 11:00:00  12         \n",
              "22 -14       AA      ⋯ 1623      7   50     2013-11-30 07:00:00 -16         \n",
              "23 -10       UA      ⋯ 1068     20   10     2013-02-22 20:00:00 -12         \n",
              "24   0       B6      ⋯ 2586      7   37     2013-01-06 07:00:00  12         \n",
              "25 -12       B6      ⋯  200     12    0     2013-04-08 12:00:00 -17         \n",
              "26 -14       US      ⋯  184     20    0     2013-01-29 20:00:00 -21         \n",
              "27 276       EV      ⋯  246     16   45     2013-07-22 16:00:00 511         \n",
              "28  34       UA      ⋯ 2454     20   57     2013-08-11 20:00:00  58         \n",
              "29  56       B6      ⋯ 1028      6   59     2013-08-14 06:00:00  98         \n",
              "30  14       WN      ⋯  725     13   35     2013-10-29 13:00:00  11         \n",
              "31 132       9E      ⋯  740     15   40     2013-06-09 15:00:00 268         \n",
              "32  15       B6      ⋯ 1069      9   50     2013-03-21 09:00:00  12         \n",
              "33   0       UA      ⋯ 1400     13   59     2013-03-28 13:00:00   4         \n",
              "34  31       DL      ⋯  950     15    0     2013-12-21 15:00:00  44         \n",
              "   retraso_neto2 day2 mes2 no_fecha   fecha     \n",
              "1  -10           19   01   2013-01-19 2013-01-19\n",
              "2   38           16   03   2013-03-16 2013-03-16\n",
              "3  249           06   02   2013-02-06 2013-02-06\n",
              "4  -32           22   03   2013-03-22 2013-03-22\n",
              "5   11           13   10   2013-10-13 2013-10-13\n",
              "6  -44           19   08   2013-08-19 2013-08-19\n",
              "7   61           22   05   2013-05-22 2013-05-22\n",
              "8   15           03   06   2013-06-03 2013-06-03\n",
              "9    8           25   04   2013-04-25 2013-04-25\n",
              "10  11           21   02   2013-02-21 2013-02-21\n",
              "11 -45           05   11   2013-11-05 2013-11-05\n",
              "12 -14           05   03   2013-03-05 2013-03-05\n",
              "13  15           05   05   2013-05-05 2013-05-05\n",
              "14  NA           24   06   2013-06-24 2013-06-24\n",
              "15   2           11   07   2013-07-11 2013-07-11\n",
              "16 -26           29   11   2013-11-29 2013-11-29\n",
              "17 192           18   12   2013-12-18 2013-12-18\n",
              "18 -16           21   11   2013-11-21 2013-11-21\n",
              "19 -19           25   12   2013-12-25 2013-12-25\n",
              "20  11           03   05   2013-05-03 2013-05-03\n",
              "21  12           19   03   2013-03-19 2013-03-19\n",
              "22 -16           30   11   2013-11-30 2013-11-30\n",
              "23 -12           22   02   2013-02-22 2013-02-22\n",
              "24  12           06   01   2013-01-06 2013-01-06\n",
              "25 -17           08   04   2013-04-08 2013-04-08\n",
              "26 -21           29   01   2013-01-29 2013-01-29\n",
              "27 511           22   07   2013-07-22 2013-07-22\n",
              "28  58           11   08   2013-08-11 2013-08-11\n",
              "29  98           14   08   2013-08-14 2013-08-14\n",
              "30  11           29   10   2013-10-29 2013-10-29\n",
              "31 268           09   06   2013-06-09 2013-06-09\n",
              "32  12           21   03   2013-03-21 2013-03-21\n",
              "33   4           28   03   2013-03-28 2013-03-28\n",
              "34  44           21   12   2013-12-21 2013-12-21"
            ]
          },
          "metadata": {}
        }
      ]
    }
  ]
}