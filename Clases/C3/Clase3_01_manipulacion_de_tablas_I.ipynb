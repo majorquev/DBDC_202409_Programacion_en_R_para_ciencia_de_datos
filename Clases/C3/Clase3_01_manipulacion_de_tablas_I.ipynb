{
  "nbformat": 4,
  "nbformat_minor": 0,
  "metadata": {
    "colab": {
      "provenance": [],
      "include_colab_link": true
    },
    "kernelspec": {
      "name": "ir",
      "display_name": "R"
    }
  },
  "cells": [
    {
      "cell_type": "markdown",
      "metadata": {
        "id": "view-in-github",
        "colab_type": "text"
      },
      "source": [
        "<a href=\"https://colab.research.google.com/github/majorquev/DBDC_202409_Programacion_en_R_para_ciencia_de_datos/blob/main/Clases/C3/Clase3_01_manipulacion_de_tablas_I.ipynb\" target=\"_parent\"><img src=\"https://colab.research.google.com/assets/colab-badge.svg\" alt=\"Open In Colab\"/></a>"
      ]
    },
    {
      "cell_type": "markdown",
      "metadata": {
        "trusted": true,
        "id": "ID-hRx0URPyD"
      },
      "source": [
        "# Parte 2: Manipulación de tablas en R (Parte I)\n",
        "\n",
        "\n",
        "**Autor:** Miguel Jorquera Viguera<br>\n",
        "**E-mail:** majorquev@gmail.com<br>\n",
        "**Ayudante:** Rodrigo Morales<br>\n",
        "**E-mail ayudante:** rumorale1@gmail.com\n",
        "\n",
        "## 1. Instalación de librerías\n",
        "\n",
        "En esta sección aprenderemos a realizar operaciones simples de manipulación de tablas en R. Para ello trabajaremos con la librería _dplyr_, la cual cuenta con una gran variedad de funciones para manipular tablas, entre otras.\n",
        "\n",
        "\n",
        "Una manera de instalar librerías en R es me diante la función `install.packages()`, la cual recibe como argunmento principal el nombre (enre comillas) de la librería que se desea cargar.\n",
        "\n",
        "Una vez instalada la librería la debemos cargar en la sesión de trbajao, para lo cual podemos utilizar la función `library()` la cual recibe como argumento el nombre de la librería que se quiere cargar.\n"
      ]
    },
    {
      "cell_type": "code",
      "metadata": {
        "id": "FPF3jDwbRnTs"
      },
      "source": [
        "install.packages(\"tidyr\")"
      ],
      "execution_count": null,
      "outputs": []
    },
    {
      "cell_type": "code",
      "metadata": {
        "trusted": true,
        "id": "jcbeiXarRPyE"
      },
      "source": [
        "# 1. Instalación de package\n",
        "# install.packages(\"dplyr\") # No instalaremos la librería pues ya viene cargada en los notebooks de azure.Probablemente sea necesario hacerlo en su entorno local.\n",
        "# Para cargar la librería\n",
        "library(\"dplyr\") # sin comillas también funciona\n",
        "\n",
        "\n"
      ],
      "execution_count": null,
      "outputs": []
    },
    {
      "cell_type": "markdown",
      "metadata": {
        "trusted": true,
        "id": "97hMfOQQRPyI"
      },
      "source": [
        "## 2. Funciones básicas en dplyr\n",
        "\n",
        "En todo proyecto analítico es necesario procesar, limpar y unificar disntintas fuentes de información para poder generar los análisis requeridos. Para dichas tareas, en la librería _dplyr_ contamos con funciones que nos permitirán filtrar datos, crear columnas, agrupar tablas, y cruzar tablas.\n",
        "\n",
        "A continuación trabajaremos con la siguientes funciones:<br>\n",
        "\n",
        "   `filter()`                        : Para filtrar los datos (por filas).<br>\n",
        "   `arrange()`                       : Para ordenar un dataset.<br>\n",
        "   `select()`                        : Para seleccionar y renombrar columnas.<br>\n",
        "   `mutate()`                        : Para crear (o modificar) nuevas columnas basadas en columnas existentes.<br>\n",
        "   `group_by()`                     : Para agrupar tablas.<br>\n",
        "   `sample_n()` and `sample_frac()`  : Para generar muestras aleatorias<br>\n",
        "   \n",
        "   \n",
        "Para entender el funcionamiento de estas funciones trabjaremos con el set de datos _nycflights13_, el cual contiene la información de los vuelos con salida en los aeropuertos de Nueva York en el año 2013.\n",
        "\n",
        "## 3. Carga de datos\n",
        "\n",
        "En R es posible cargar datos provenientes de archivos de texto plano. Un ejemplo de ellos son los de extensión *.csv (comma separated values). Para cargar los datos a la sesión, lo podemos realizar a través de la función `read.csv()`, la cual recibe como argumento principal la ruta del archivo a cargar.\n",
        "\n",
        "   \n",
        "   \n",
        "   "
      ]
    },
    {
      "cell_type": "code",
      "metadata": {
        "trusted": true,
        "id": "gKV9NYMORPyI"
      },
      "source": [
        "getwd()"
      ],
      "execution_count": null,
      "outputs": []
    },
    {
      "cell_type": "code",
      "metadata": {
        "trusted": true,
        "id": "Ga1OFuNwRPyL"
      },
      "source": [
        "# Carga de datos ------\n",
        "# Usaremos la función read.csv para cargar el archivo Datasets_flights.csv ubicado en \"./Datasets/\", y lo guardamos en una variable llamada vuelo.\n",
        "\n",
        "\n"
      ],
      "execution_count": null,
      "outputs": []
    },
    {
      "cell_type": "code",
      "metadata": {
        "trusted": true,
        "id": "XH_T6QWVRPyN"
      },
      "source": [
        "# Podemos inspeccionar los datos cargados\n",
        "# Para ello son de utilidad las funciones head() y summary()\n",
        "# ¿Cuántos registros tienen las tablas?\n"
      ],
      "execution_count": null,
      "outputs": []
    },
    {
      "cell_type": "code",
      "metadata": {
        "trusted": true,
        "id": "lnAkEF3NRPyQ"
      },
      "source": [
        "summary(vuelos)"
      ],
      "execution_count": null,
      "outputs": []
    },
    {
      "cell_type": "code",
      "metadata": {
        "trusted": true,
        "id": "OlWowRWVRPyS"
      },
      "source": [
        "#glimpse() o str()\n"
      ],
      "execution_count": null,
      "outputs": []
    },
    {
      "cell_type": "markdown",
      "metadata": {
        "id": "jAHBUxNxRPyV"
      },
      "source": [
        "## 4. Funciones básicas de dplyr\n",
        "\n",
        "A continuación exploraremos los datos de vuelos utilizando la librería dplyr.\n",
        "\n",
        "### 4.1 Función filter()\n",
        "\n",
        "La función filter() de dplyr es el equivalente a la sentencia where de sql."
      ]
    },
    {
      "cell_type": "code",
      "metadata": {
        "trusted": true,
        "scrolled": true,
        "id": "mv1lhelWRPyV"
      },
      "source": [
        "# filter() # where de sql----------------------------------------------------------------\n",
        "# Registros que tengan fecha 31 de diciembre\n",
        "# Antes\n",
        "# Ahora"
      ],
      "execution_count": null,
      "outputs": []
    },
    {
      "cell_type": "markdown",
      "metadata": {
        "id": "H4FP6WNIRPyY"
      },
      "source": [
        "### 4.2 Función count()\n",
        "\n",
        "Como su nombre lo indica, esta función nos permite contar registros de una tabla. Es de suma utilidad cuando se utiliza dentro de agrupaciones de tablas. Estas últimas las veremos más adelante.\n",
        "\n",
        "Alternativamente, en la librería _dplyr_, contamos con la función `N()` la cual también retorna el conteo de registros."
      ]
    },
    {
      "cell_type": "code",
      "metadata": {
        "trusted": true,
        "id": "LmMG115pRPyY"
      },
      "source": [
        "# count() y N() ----------------------------------------------------------------\n",
        "# ¿Cuántos vuelos hay registrados para el 25 de dic?¿y el primero de enero?\n",
        "\n"
      ],
      "execution_count": null,
      "outputs": []
    },
    {
      "cell_type": "code",
      "metadata": {
        "trusted": true,
        "id": "pvkqzxk3RPyf"
      },
      "source": [
        "#si quisiéramos guardar resgidtros en el disco, una manera es usando write.csv()\n",
        "\n"
      ],
      "execution_count": null,
      "outputs": []
    },
    {
      "cell_type": "code",
      "metadata": {
        "trusted": true,
        "id": "SIuMwcy8RPyh"
      },
      "source": [
        "# ¿Cuántos vuelos hay registrados entre noviembre y diciembre?¿A qué porcentaje del total corresponde?\n"
      ],
      "execution_count": null,
      "outputs": []
    },
    {
      "cell_type": "code",
      "metadata": {
        "trusted": true,
        "id": "3XFpG_fYRPyj"
      },
      "source": [
        "# ¿Qué porcentaje de vuelos tienen un retraso  (de salida o llegada) mayor a una hora?\n",
        "\n",
        "#columnas arr_delay o dep_delay\n"
      ],
      "execution_count": null,
      "outputs": []
    },
    {
      "cell_type": "code",
      "metadata": {
        "trusted": true,
        "id": "qnB-hTU-RPyl"
      },
      "source": [
        "# ¿Cuántos vuelos llegaron con al menos dos horas de retraso pero no se retrasaron al partir?\n"
      ],
      "execution_count": null,
      "outputs": []
    },
    {
      "cell_type": "markdown",
      "metadata": {
        "id": "zr5FIczKRPym"
      },
      "source": [
        "### 4.3 Función arrange()\n",
        "\n",
        "Esta función nos permite ordernar registros basándose en la indexación de alguna columna. Es el equivalente a la sentencia `order by` en sql.\n",
        "Esta función recibe como argumento principal un dataset a ordenar, y los nombres de las columnas por las cuales se quiere ordenar. Para más información consultar la ayuda de esta función (?arrange)\n"
      ]
    },
    {
      "cell_type": "code",
      "metadata": {
        "trusted": true,
        "id": "aGK8DaZVRPyn"
      },
      "source": [
        "# arrange() ----------------------------------------------------------------\n",
        "# Ejemplo, podemos ordenar la data flights por mes y arr_delay\n",
        "\n"
      ],
      "execution_count": null,
      "outputs": []
    },
    {
      "cell_type": "markdown",
      "metadata": {
        "id": "7HrxhqMGRPyp"
      },
      "source": [
        "### 4.3 Funciones select() y rename()\n",
        "\n",
        "La con la función `select` podemos seleccionar un subconjunto de columas de la tabla original. A difernecia de SQL en esta sentencia no podremos crear nuevas columnas, sólo renombrarlas en algunos casos. Notar que (obviamente) no se mantienen las columnas que no ingresan como argumento a la función.\n",
        "\n",
        "La función rename() permite renombrar columnas existentes, manteniendo las columnas que no se están renombrando."
      ]
    },
    {
      "cell_type": "code",
      "metadata": {
        "trusted": true,
        "id": "he9R_3AURPyp"
      },
      "source": [
        "# select() y rename() ----------------------------------------------------------------\n",
        "# Ejemplo: Podemos seleccionar las columnas year, month, day, origin, dest\n",
        "\n",
        "# Cómo lo haríamos con la sintaxis básica? (recorr como acceder a través del nombre a un vector, matrix, lista, o data.frame)\n",
        "\n",
        "\n"
      ],
      "execution_count": null,
      "outputs": []
    },
    {
      "cell_type": "code",
      "metadata": {
        "trusted": true,
        "scrolled": false,
        "id": "HFlJeLmMRPyr"
      },
      "source": [
        "# podemos renombrar la columna year\n",
        ")\n",
        "\n",
        "# NOTA: esto no modifica el dataset original\n"
      ],
      "execution_count": null,
      "outputs": []
    },
    {
      "cell_type": "code",
      "metadata": {
        "trusted": true,
        "id": "Hg-abspERPyw"
      },
      "source": [
        "#Existe gran variedad (pueden consultar la documentación respectiva)  de otras funciones dentro del package dplyr, por ejemplo: Seleccionar solo las variables que comiencen con \"d\"\n",
        "# para su estudio\n",
        "\n"
      ],
      "execution_count": null,
      "outputs": []
    },
    {
      "cell_type": "code",
      "metadata": {
        "trusted": true,
        "id": "hBiqCaokRPyy"
      },
      "source": [],
      "execution_count": null,
      "outputs": []
    },
    {
      "cell_type": "markdown",
      "metadata": {
        "id": "6k5I_iHZRPy0"
      },
      "source": [
        "### 4.4 Función mutate()\n",
        "\n",
        "Una de las funciones más útiles de dplyr es la función mutate(), la cual permite crear nuevas columnas, o modificar las existentes."
      ]
    },
    {
      "cell_type": "code",
      "metadata": {
        "trusted": true,
        "scrolled": false,
        "id": "id5cyTJ2RPy0"
      },
      "source": [
        "# mutate() ----------------------------------------------------------------\n",
        "# Crear una nueva columna llamada retraso_neto, que contenga la suma de arr_delay y dep_delay\n",
        "\n",
        "#antes\n",
        "\n",
        "#ahora\n",
        "\n",
        "# Recordar que esta nueva columna solo existe en la ejecución y no se ha modificado el dataset original.\n"
      ],
      "execution_count": null,
      "outputs": []
    },
    {
      "cell_type": "code",
      "metadata": {
        "trusted": true,
        "id": "jwsvIq-eRPy2"
      },
      "source": [
        "# Primero defina una nueva data llamada muestra_fl que contenga la fecha, los retrasos, la distancia, y el tiempo de vuelo\n",
        "# Cree una columna llamada gain que contenga la diferenecia entre arr_delay y dep_delay, y otra llamada speed que mida la velocidad en horas (distancia / tiempo de vuelo * 60)\n"
      ],
      "execution_count": null,
      "outputs": []
    },
    {
      "cell_type": "markdown",
      "metadata": {
        "id": "wk8Qt1ICRPy4"
      },
      "source": [
        "### Operador %>%\n",
        "\n",
        "El operador estrella de dplyr. Funciona como una composición de funciones, y nos permite generar _pipe-lines_, permitiendo  que la generación  del código sea más ordenada, y con ello, su lectura más sencilla.\n",
        "\n",
        "Este operdaor actua de la sifuiente manera, <br>\n",
        "\n",
        "    x %>% f(y) , es equivalente a,  f(x,y)\n",
        "\n"
      ]
    },
    {
      "cell_type": "code",
      "metadata": {
        "trusted": true,
        "id": "8s1tOO0RRPy4"
      },
      "source": [
        "# Operador %>% ----------------------------------------------------------------\n",
        "# Ejemplo sencillo\n",
        "\n",
        "# head(vuelos)\n",
        "\n",
        "\n",
        "# Utilizando %>%\n",
        "\n",
        "\n"
      ],
      "execution_count": null,
      "outputs": []
    },
    {
      "cell_type": "code",
      "metadata": {
        "trusted": true,
        "id": "6nBWGFwsRPy6"
      },
      "source": [
        "# Genere el conteo de vuelos por mes y día,\n",
        "# luego filtre por aquellos registros donde el día es 1,\n",
        "# ordene de manera descendiente por n,\n",
        "# finalmente muestra la cabecera del dataset resultante.\n",
        "\n",
        "## ANTES\n"
      ],
      "execution_count": null,
      "outputs": []
    },
    {
      "cell_type": "code",
      "metadata": {
        "trusted": true,
        "id": "Hckg9wkGRPy8"
      },
      "source": [
        "# Genere el conteo de vuelos por mes y día,\n",
        "# luego filtre por aquellos registros donde el día es 1,\n",
        "# ordene de manera descendiente por n,\n",
        "# finalmente muestra la cabecera del dataset resultante.\n",
        "\n",
        "## AHORA\n",
        "\n"
      ],
      "execution_count": null,
      "outputs": []
    },
    {
      "cell_type": "code",
      "metadata": {
        "trusted": true,
        "id": "Ml1egmO7RPy-"
      },
      "source": [
        "# A la onsulta anterior podríamos agregar una nueva columna indicando si el totalde vuelos es mayor a 970\n"
      ],
      "execution_count": null,
      "outputs": []
    },
    {
      "cell_type": "code",
      "metadata": {
        "trusted": true,
        "id": "eRuQuH-oRPzA"
      },
      "source": [
        "# Genere una nueva variable llamada day2 que pegue un \"0\"\n",
        "# a la variable day si es que esta contiene un dígito del 1 al 9.\n",
        "# Para pegar cadena de caracteres sin espacios puede utilizar\n",
        "# la función paste0\n",
        "\n",
        "#?paste0, ?nchar\n",
        "\n",
        "\n"
      ],
      "execution_count": null,
      "outputs": []
    },
    {
      "cell_type": "code",
      "metadata": {
        "trusted": true,
        "id": "Md5AK7xfRPzE"
      },
      "source": [
        "# Con esta variable genere un entero llamado fecha, que concatena year,month y day 2."
      ],
      "execution_count": null,
      "outputs": []
    },
    {
      "cell_type": "markdown",
      "metadata": {
        "id": "kEFrLb_zRPzG"
      },
      "source": [
        "### 4.5 Función group_by() y summarise()\n",
        "\n",
        "La función `summarise()` calcula medidas agregadas sobre columnas, mientras que la función `group_by`, genera un data.frame \"en bloques\" dados por la(s) columna(s) ingresadas como parámetros en la función.\n",
        "\n"
      ]
    },
    {
      "cell_type": "code",
      "metadata": {
        "trusted": true,
        "id": "4ytKeSHGRPzG"
      },
      "source": [
        "# group_by() y summarise() ----------------------------------------------------------------\n",
        "# Ejemplo sencillo\n",
        "exam2 <- data.frame(\n",
        "  x = c(1:5),\n",
        "  y = c(7:11),\n",
        "  z = c(\"A\", \"B\", \"A\", \"B\", \"C\")\n",
        ")\n",
        "exam2\n"
      ],
      "execution_count": null,
      "outputs": []
    },
    {
      "cell_type": "code",
      "metadata": {
        "trusted": true,
        "id": "wyjN-OYiRPzI"
      },
      "source": [
        "# Podemos generar un número de fila por cada grupo\n"
      ],
      "execution_count": null,
      "outputs": []
    },
    {
      "cell_type": "code",
      "metadata": {
        "trusted": true,
        "id": "nqMyjd6aRPzK"
      },
      "source": [
        "# 1) Aplicar la función summarise a la columna 'y' y calcular su promedio\n",
        "\n",
        "\n",
        "# 2) Generar grupos según la variable z. (a diferencia de sql, el comando group_by() no requiere de una medida agregada para que este funcione.)\n",
        "# select z, avg(x) mean_x, sum(x) tot_x from exam2 group by z\n",
        "\n"
      ],
      "execution_count": null,
      "outputs": []
    },
    {
      "cell_type": "code",
      "metadata": {
        "trusted": true,
        "id": "4-Ru4aPVRPzL"
      },
      "source": [
        "# 3) Calcular media de x e y en cada valor de z.\n",
        "# podemos calcular máximos y mínimos\n"
      ],
      "execution_count": null,
      "outputs": []
    },
    {
      "cell_type": "code",
      "metadata": {
        "trusted": true,
        "id": "o837pCUtRPzU"
      },
      "source": [
        "# promedio de retraso de llegada por origen-destino\n",
        "\n"
      ],
      "execution_count": null,
      "outputs": []
    },
    {
      "cell_type": "code",
      "metadata": {
        "trusted": true,
        "id": "DsrFjp7oRPzW"
      },
      "source": [
        "# ¿Cuáles son los aeropuertos de destino con mayor retraso medio en su llegada?\n",
        "\n"
      ],
      "execution_count": null,
      "outputs": []
    },
    {
      "cell_type": "code",
      "metadata": {
        "trusted": true,
        "id": "Cb8r9XleRPzX"
      },
      "source": [
        "# los podemos remover mediante el argumento na.rm de la función mean()\n"
      ],
      "execution_count": null,
      "outputs": []
    },
    {
      "cell_type": "code",
      "metadata": {
        "trusted": true,
        "id": "CH9XRbK8RPzZ"
      },
      "source": [
        "# si quisiéramos ratar los NA's, podemos hacerlo de la sgte. manera\n",
        "\n",
        "#consultamos los NA en arr_delay\n",
        "\n",
        "# Recordar que NA == NA retorna NA . is.na(NA) retorna TRUE\n",
        "\n"
      ],
      "execution_count": null,
      "outputs": []
    },
    {
      "cell_type": "code",
      "metadata": {
        "trusted": true,
        "id": "H_X1J0OyRPzc"
      },
      "source": [
        "# Si queremos reemplazar los NA's por el promedio de arr_delay (?)\n",
        "\n",
        ""
      ],
      "execution_count": null,
      "outputs": []
    },
    {
      "cell_type": "code",
      "metadata": {
        "trusted": true,
        "id": "KM0gkGfVRPze"
      },
      "source": [
        "# ¿Cuál es el promedio de arr_delay y distance por cada aeropuerto de destino?¿Cuántos vuelos llegaron acada uno de los destinos?. Ayuda: Recuerde que el conteo se puede determinar de dos maneras: con la función count() o con la función n().\n",
        "\n",
        ")\n",
        "\n"
      ],
      "execution_count": null,
      "outputs": []
    },
    {
      "cell_type": "markdown",
      "metadata": {
        "id": "0AaOeJiZRPzj"
      },
      "source": [
        "### 4.6 Función sample_n() y sample_frac()\n",
        "\n",
        "Estas funciones nos permitirán extraer muestras aleatorias de nuestros conjuntos de datos. Esto será de suma importancia cuando trabajemos con modelos de ML."
      ]
    },
    {
      "cell_type": "code",
      "metadata": {
        "trusted": true,
        "id": "Ggzl8QxDRPzk"
      },
      "source": [
        "# sample_n() y sample_frac()-------------------------------------------------------------\n",
        "\n",
        "# muestra aleatoria de 100 registros de vuelos\n",
        "\n",
        "\n",
        "\n"
      ],
      "execution_count": null,
      "outputs": []
    }
  ]
}