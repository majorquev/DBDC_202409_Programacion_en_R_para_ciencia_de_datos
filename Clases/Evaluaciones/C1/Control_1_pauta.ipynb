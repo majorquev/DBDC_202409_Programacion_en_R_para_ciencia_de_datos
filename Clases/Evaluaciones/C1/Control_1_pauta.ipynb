{
  "nbformat": 4,
  "nbformat_minor": 0,
  "metadata": {
    "colab": {
      "provenance": [],
      "include_colab_link": true
    },
    "kernelspec": {
      "name": "ir",
      "display_name": "R"
    }
  },
  "cells": [
    {
      "cell_type": "markdown",
      "metadata": {
        "id": "view-in-github",
        "colab_type": "text"
      },
      "source": [
        "<a href=\"https://colab.research.google.com/github/majorquev/DBDC_202409_Programacion_en_R_para_ciencia_de_datos/blob/main/Clases/Evaluaciones/C1/Control_1_pauta.ipynb\" target=\"_parent\"><img src=\"https://colab.research.google.com/assets/colab-badge.svg\" alt=\"Open In Colab\"/></a>"
      ]
    },
    {
      "cell_type": "markdown",
      "metadata": {
        "id": "SvIjRoDOw-lT"
      },
      "source": [
        "# Control 1: Sintaxis básica y manipulación de objetos simples en R\n"
      ]
    },
    {
      "cell_type": "markdown",
      "metadata": {
        "trusted": true,
        "id": "S4w2AM2-yrW2"
      },
      "source": [
        "Nombre 1: _Puede incluir su nombre acá haciendo doble click_                                                                                                                                      <br>\n",
        "Nombre 2: _Puede incluir su nombre acá haciendo doble click_   \n",
        "\n",
        "# Instrucciones\n",
        "\n",
        "El siguiente test podrá desarrollarlo de manera individual o en pareja con otro(a) de sus compañeros(as).<br>\n",
        "\n",
        "Lea atentamente cada una de las preguntas propuestas y sea claro en los comentarios (si es que los incluye) de los desarrollos de sus respuestas. Para el desarrollo de las mismas, dispone de celdas de código después de cada pregunta. Sin embargo podrá agregar más celdas si así lo estima conveniente.<br>\n",
        "Las preguntas formuladas en este test pueden ser abordadas con las herramientas trabajadas en clases, sin embaro, usted podrá hacer uso de las funcionalidades y/o packages que estime convenientes, a menos que se indique explícitamente lo contrario.\n",
        "\n",
        "## Tiempo y entrega\n",
        "Dispondrán hasta el día jueves **18 de Julio** hasta las 23:59 hrs para hacer envío de sus respuestas.\n",
        "Una vez finalizado el desarrollo del test, deberá entregarlo teniendo en cuenta las siguientes consideraciones :\n",
        "\n",
        " * Descargue el notebook en **formato `*.ipynb`** (uno por pareja), e indique en el nombre del archivo los nombres de los integrantes, `Control1_nombres_integrantes.ipynb`.\n",
        "\n",
        " * En caso de trabajar en Rstudio, deberá enviar el script de extensión `*.R` con el siguiente nombre: `Control1_nombres_integrantes.R` , **procurando indicar con comentarios claros, qué pregunta está respondiendo en cada caso**.\n",
        " * Envíe el archivo al correo rumorale1@gmail.com, con copia a majorquev@gmail.com con el asunto \"DBDC-R-C1: 'nombre y apellido de los integrantes' \"\n",
        "\n",
        "**NOTA**:\n",
        "   * Los correos cuyo asunto no comiencen con \"DBDC-R-C1\" no llegarán a destino y por ende no serán calificados.\n",
        "   * Los archivos que no contengan nombre serán calificados con la nota mínima 1.0.\n",
        "   * Los correos enviados posterior a la fecha y hora de entrega indicados tendrán una penalización de 1 punto por día (o fracción) de retraso en la entrega, por ejemplo, si usted envía sus respuestas a las 00:05 hrs del viernes 19 de Julio, su nota máxima será un 6.0."
      ]
    },
    {
      "cell_type": "markdown",
      "metadata": {
        "id": "V8C56DqZyrW2"
      },
      "source": [
        "# Sección 1\n",
        "\n",
        "La siguiente línea de código permite cargar en memoria, un objeto de extensión *.rds que está almacenado en el disco de la máquina en la ruta actual de trabajo.\n",
        "\n",
        "Este archivo contiene la información del catálogo de productos del supermercado Santa Isabel para 5 categorías de productos disponibles en una de sus sucursales el día 16 de julio de 2022.\n",
        "\n",
        "Dentro de la información disponible encontrarán los siguientes campos.\n",
        "\n",
        "**NOTA:** Deben tener en cuenta que el formato del archivo con el que trabajarán no viene estructurado de esta forma necesariamente, la siguiente tabla es solo ilustrativa y define el tipo de información que encontrarán.\n",
        "\n",
        "| Variable | Definición | Ejemplo |\n",
        "| --- | --- | --- |\n",
        "| title | Es el titulo del producto | Pasta dental triple 3 un. 90 gl |\n",
        "| brand | Es la marca del producto | Pepsodent |\n",
        "| normal_price | Es el precio normal | 2.790 |\n",
        "| low_price | Es el precio con oferta | 2.590 |\n",
        "| high_price | Es el precio antes de la oferta | 3.190 |\n",
        "| oferta | Si el producto tiene una oferta | SI |\n",
        "| categoria1 | Categoría de los productos | supermercados |\n",
        "| categoria2 | Subcategoria de los productos | belleza-y-cuidado-personal |\n",
        "| datetime | Fecha en que se recoletaron los datos | 2022-07-16 |\n",
        "| Atributos | Es el peso del producto | 500 g |\n",
        "| link | Enlace hacia el producto | https://www.santaisabel.cl/queso-mantecoso-granulado-c-y-co-250g/p |\n",
        "| sin_stock | Si el producto esta disponible | o |\n",
        "| page | Paginas donde se encuentra el producto en la website | 3 |"
      ]
    },
    {
      "cell_type": "markdown",
      "source": [
        "Para cargar el archivo a la sesión, deben dejar disponible el archivo llamado `productos.RDS` en el directorio de trabajo. Recuerden que en COLAB por defecto este es `./content`."
      ],
      "metadata": {
        "id": "ABsBqlNvUUCM"
      }
    },
    {
      "cell_type": "code",
      "metadata": {
        "trusted": true,
        "id": "EIcOaJN9yrW3"
      },
      "source": [
        "# Carga de casos\n",
        "productos <- readRDS(\"productos.RDS\")"
      ],
      "execution_count": null,
      "outputs": []
    },
    {
      "cell_type": "markdown",
      "metadata": {
        "id": "mA2dxeK6yrW9"
      },
      "source": [
        "## Pregunta 1.1\n",
        "\n",
        "**1a) (1pt)** ¿Qué clase de objetos es `productos`? <br>\n",
        "**1b) (1pt)** ¿Cuántos elementos posee este objeto?\n",
        "NOTA: Cada uno de estos elementos corresponde a la categoría de producto.<br>\n",
        "**1c) (1pt)** ¿Cuáles son los nombres de este objeto?<br>\n",
        "**1d) (2pt)** ¿Qué clase de objeto está almacenado en el _slot_ llamado `carniceria` y cuántos elementos posee?<br>\n",
        "**1e) (2pt)** Dentro del _slot_ `despensa`, ¿qué clase de objeto está almacenado en la entrada llamada `pastas_y_salsas` y cuántos elementos posee?. NOTA: Este segundo nivel, corresponde a la subcategoría de producto. Así, por ejemplo, la información contenida en `productos$despensa$pastas_y_salsas` corresponde a todos los productos de categoría carnicería y subcategoría vacuno.\n",
        "\n",
        "\n",
        "\n"
      ]
    },
    {
      "cell_type": "code",
      "metadata": {
        "trusted": true,
        "id": "cAV1etTgyrW-",
        "colab": {
          "base_uri": "https://localhost:8080/",
          "height": 156
        },
        "outputId": "aae5598e-93a7-49c9-b42a-38059c0abaea"
      },
      "source": [
        "# P1.1\n",
        "## Respusta\n",
        "#a) ---------------------------------------------------------------------\n",
        "class(productos) # es una lista\n",
        "\n",
        "#b) ---------------------------------------------------------------------\n",
        "length(productos) # 5 elementos\n",
        "\n",
        "#c) ---------------------------------------------------------------------\n",
        "names(productos) # 'carniceria''despensa''frutas-y-verduras''lacteos' y 'supermercados'\n",
        "\n",
        "#d) ---------------------------------------------------------------------\n",
        "class(productos$carniceria)\n",
        "length(productos$carniceria)\n",
        "names(productos$carniceria)# es una lista con 4 elementos, a saber: cerdo, pavo, pollo y vacuno'\n",
        "\n",
        "#e) ---------------------------------------------------------------------\n",
        "class(productos$despensa$pastas_y_salsas); dim(productos$despensa$pastas_y_salsas) # es un data.frame con 378 filas  y 10 columnas\n"
      ],
      "execution_count": null,
      "outputs": [
        {
          "output_type": "display_data",
          "data": {
            "text/html": [
              "'list'"
            ],
            "text/markdown": "'list'",
            "text/latex": "'list'",
            "text/plain": [
              "[1] \"list\""
            ]
          },
          "metadata": {}
        },
        {
          "output_type": "display_data",
          "data": {
            "text/html": [
              "5"
            ],
            "text/markdown": "5",
            "text/latex": "5",
            "text/plain": [
              "[1] 5"
            ]
          },
          "metadata": {}
        },
        {
          "output_type": "display_data",
          "data": {
            "text/html": [
              "<style>\n",
              ".list-inline {list-style: none; margin:0; padding: 0}\n",
              ".list-inline>li {display: inline-block}\n",
              ".list-inline>li:not(:last-child)::after {content: \"\\00b7\"; padding: 0 .5ex}\n",
              "</style>\n",
              "<ol class=list-inline><li>'carniceria'</li><li>'despensa'</li><li>'frutas_y_verduras'</li><li>'lacteos'</li><li>'supermercados'</li></ol>\n"
            ],
            "text/markdown": "1. 'carniceria'\n2. 'despensa'\n3. 'frutas_y_verduras'\n4. 'lacteos'\n5. 'supermercados'\n\n\n",
            "text/latex": "\\begin{enumerate*}\n\\item 'carniceria'\n\\item 'despensa'\n\\item 'frutas\\_y\\_verduras'\n\\item 'lacteos'\n\\item 'supermercados'\n\\end{enumerate*}\n",
            "text/plain": [
              "[1] \"carniceria\"        \"despensa\"          \"frutas_y_verduras\"\n",
              "[4] \"lacteos\"           \"supermercados\"    "
            ]
          },
          "metadata": {}
        },
        {
          "output_type": "display_data",
          "data": {
            "text/html": [
              "'list'"
            ],
            "text/markdown": "'list'",
            "text/latex": "'list'",
            "text/plain": [
              "[1] \"list\""
            ]
          },
          "metadata": {}
        },
        {
          "output_type": "display_data",
          "data": {
            "text/html": [
              "4"
            ],
            "text/markdown": "4",
            "text/latex": "4",
            "text/plain": [
              "[1] 4"
            ]
          },
          "metadata": {}
        },
        {
          "output_type": "display_data",
          "data": {
            "text/html": [
              "<style>\n",
              ".list-inline {list-style: none; margin:0; padding: 0}\n",
              ".list-inline>li {display: inline-block}\n",
              ".list-inline>li:not(:last-child)::after {content: \"\\00b7\"; padding: 0 .5ex}\n",
              "</style>\n",
              "<ol class=list-inline><li>'cerdo'</li><li>'pavo'</li><li>'pollo'</li><li>'vacuno'</li></ol>\n"
            ],
            "text/markdown": "1. 'cerdo'\n2. 'pavo'\n3. 'pollo'\n4. 'vacuno'\n\n\n",
            "text/latex": "\\begin{enumerate*}\n\\item 'cerdo'\n\\item 'pavo'\n\\item 'pollo'\n\\item 'vacuno'\n\\end{enumerate*}\n",
            "text/plain": [
              "[1] \"cerdo\"  \"pavo\"   \"pollo\"  \"vacuno\""
            ]
          },
          "metadata": {}
        },
        {
          "output_type": "display_data",
          "data": {
            "text/html": [
              "'data.frame'"
            ],
            "text/markdown": "'data.frame'",
            "text/latex": "'data.frame'",
            "text/plain": [
              "[1] \"data.frame\""
            ]
          },
          "metadata": {}
        },
        {
          "output_type": "display_data",
          "data": {
            "text/html": [
              "<style>\n",
              ".list-inline {list-style: none; margin:0; padding: 0}\n",
              ".list-inline>li {display: inline-block}\n",
              ".list-inline>li:not(:last-child)::after {content: \"\\00b7\"; padding: 0 .5ex}\n",
              "</style>\n",
              "<ol class=list-inline><li>378</li><li>10</li></ol>\n"
            ],
            "text/markdown": "1. 378\n2. 10\n\n\n",
            "text/latex": "\\begin{enumerate*}\n\\item 378\n\\item 10\n\\end{enumerate*}\n",
            "text/plain": [
              "[1] 378  10"
            ]
          },
          "metadata": {}
        }
      ]
    },
    {
      "cell_type": "markdown",
      "metadata": {
        "id": "ZVn0kUr4yrXA"
      },
      "source": [
        "## Pregunta 1.2\n",
        "\n",
        "**2a) (2pts)** ¿Cuántos productos de la marca `Carozzi` son de la categoría `despensa` y subcategoría `pastas_y_salsas`? (indique claramente la expresión de R para obtener el valor solicitado) .<br>\n",
        "**2b) (1pts)** Genere nueve nuevas variables llamadas `aceites_sal_y_condimentos`,`aderezos_y_salsas`,`arroz_y_legumbres`,`coctel`,`conservas`,`harina_y_complementos`,`instantaneos_y_sopas`,`pastas_y_salsas` y `reposteria`, que contengan los dataframes delas respectivas subcategorías de la categoría `despensa` (por ejemplo, la variable `aceites_sal_y_condimentos` debe contener una dataframe de dimensión $348\\times 10$.<br>\n",
        "**2c) (2pts)** Para cada dataframe del paso anterior, genere una nueva columna llamada `subcategoria`, que repita el nombre de la subcategoría correspondiente por cada fila.<br>\n",
        "\n"
      ]
    },
    {
      "cell_type": "code",
      "metadata": {
        "trusted": true,
        "id": "of36hDlhyrXB",
        "colab": {
          "base_uri": "https://localhost:8080/",
          "height": 34
        },
        "outputId": "0274e799-0f1d-4705-b326-4ec0b1377088"
      },
      "source": [
        "# P1.2\n",
        "## Respusta\n",
        "#a) ---------------------------------------------------------------------\n",
        "aux <- productos$despensa$pastas_y_salsas[productos$despensa$pastas_y_salsas$brand == \"Carozzi\",] # 1pt por acceder al data.frame, 1pt por filtrar el dia correctamente.\n",
        "nrow(aux)# 135 productos de tal categoría/subcategoría.\n",
        "\n"
      ],
      "execution_count": null,
      "outputs": [
        {
          "output_type": "display_data",
          "data": {
            "text/html": [
              "135"
            ],
            "text/markdown": "135",
            "text/latex": "135",
            "text/plain": [
              "[1] 135"
            ]
          },
          "metadata": {}
        }
      ]
    },
    {
      "cell_type": "code",
      "metadata": {
        "trusted": true,
        "id": "5FzZngEsyrXF"
      },
      "source": [
        "#b) ---------------------------------------------------------------------\n",
        "\n",
        "aceites_sal_y_condimentos <- productos$despensa$aceites_sal_y_condimentos\n",
        "        aderezos_y_salsas <- productos$despensa$aderezos_y_salsas\n",
        "        arroz_y_legumbres <- productos$despensa$arroz_y_legumbres\n",
        "                   coctel <- productos$despensa$coctel\n",
        "                conservas <- productos$despensa$conservas\n",
        "    harina_y_complementos <- productos$despensa$harina_y_complementos\n",
        "     instantaneos_y_sopas <- productos$despensa$instantaneos_y_sopas\n",
        "          pastas_y_salsas <- productos$despensa$pastas_y_salsas\n",
        "               reposteria <- productos$despensa$reposteria\n",
        "\n",
        "\n",
        "\n",
        "\n",
        "#c) ---------------------------------------------------------------------\n",
        "# 1 pt por crear el vector con el mes  más 1 pt por asignarlo al data.frame\n",
        "\n",
        "aceites_sal_y_condimentos$subcategoria <- \"aceites_sal_y_condimentos\"\n",
        "        aderezos_y_salsas$subcategoria <- \"aderezos_y_salsas\"\n",
        "        arroz_y_legumbres$subcategoria <- \"arroz_y_legumbres\"\n",
        "                   coctel$subcategoria <- \"coctel\"\n",
        "                conservas$subcategoria <- \"conservas\"\n",
        "    harina_y_complementos$subcategoria <- \"harina_y_complementos\"\n",
        "     instantaneos_y_sopas$subcategoria <- \"instantaneos_y_sopas\"\n",
        "          pastas_y_salsas$subcategoria <- \"pastas_y_salsas\"\n",
        "               reposteria$subcategoria <- \"reposteria\"\n",
        "\n"
      ],
      "execution_count": null,
      "outputs": []
    },
    {
      "cell_type": "markdown",
      "metadata": {
        "id": "8tPrWtIRyrXL"
      },
      "source": [
        "## Pregunta 1.3\n",
        "\n",
        "**3a) (1pts)** Con la ayuda de lafunción rbind() , una las filas de las 9 tablas generadas en la pregunta anterior y guarde la tabla resultante en una variable llamada `despensa`.<br>\n",
        "**3b) (1pt)**Considerando el dataset `despensa` ¿Cuál es la subcategoría con más productos? <br>\n",
        "**3c) (1pt)** Considerando el dataframe `despensa`, ¿Cuál es el precio de los productos de marca _Gourmet_ sin oferta en promedio? Considere el campo `normal_price`. <br>\n",
        "**3d) (2pts)** En promedio, ¿Cuál es el precio sin oferta en promedio **en cada subcategoría** ? Considere el campo `normal_price`.<br>\n",
        "**3e) (2pts)**Cuántos productos hay registrados de marca Gourmet en las subcategorías `conservas` y `harina_y_complementos`.<br>\n",
        "\n",
        "\n"
      ]
    },
    {
      "cell_type": "code",
      "metadata": {
        "trusted": true,
        "id": "aoM3D3ccyrXO",
        "colab": {
          "base_uri": "https://localhost:8080/"
        },
        "outputId": "5f2a9f5f-d175-48ce-ffcb-62653c2e38c4"
      },
      "source": [
        "# P1.3\n",
        "## Respusta\n",
        "#a) ---------------------------------------------------------------------\n",
        "despensa <- rbind(aceites_sal_y_condimentos,\n",
        "                  aderezos_y_salsas,\n",
        "                  arroz_y_legumbres,\n",
        "                  coctel,\n",
        "                  conservas,\n",
        "                  harina_y_complementos,\n",
        "                  instantaneos_y_sopas,\n",
        "                  pastas_y_salsas,\n",
        "                  reposteria)\n",
        "str(despensa)"
      ],
      "execution_count": null,
      "outputs": [
        {
          "output_type": "stream",
          "name": "stdout",
          "text": [
            "'data.frame':\t2485 obs. of  11 variables:\n",
            " $ title       : chr  \"Aceite Vegetal 900 ml\" \"Aceite vegetal libre de colesterol 900 ml\" \"Sal fina 1 kg\" \"Aceite de canola 1 L\" ...\n",
            " $ brand       : chr  \"Máxima MP\" \"Cuisine & Co\" \"Lobos\" \"Cuisine & Co\" ...\n",
            " $ normal_price: num  0 0 399 3299 2949 ...\n",
            " $ low_price   : num  0 0 0 0 0 0 0 0 0 151 ...\n",
            " $ high_price  : num  0 0 0 0 0 0 0 0 0 189 ...\n",
            " $ oferta      : chr  \"NO\" \"NO\" \"NO\" \"NO\" ...\n",
            " $ datetime    : chr  \"2022-07-16 20:20:00.576384\" \"2022-07-16 20:20:00.576384\" \"2022-07-16 20:20:00.576384\" \"2022-07-16 20:20:00.576384\" ...\n",
            " $ Atributos   : chr  \"1 un\" \"1 un\" \"1 un\" \"1 un\" ...\n",
            " $ sin_stock   : int  0 0 1 1 1 1 1 1 1 1 ...\n",
            " $ page        : int  1 1 1 1 1 1 1 1 1 1 ...\n",
            " $ subcategoria: chr  \"aceites_sal_y_condimentos\" \"aceites_sal_y_condimentos\" \"aceites_sal_y_condimentos\" \"aceites_sal_y_condimentos\" ...\n"
          ]
        }
      ]
    },
    {
      "cell_type": "code",
      "metadata": {
        "trusted": true,
        "id": "r7gpybkjyrXT",
        "colab": {
          "base_uri": "https://localhost:8080/",
          "height": 787
        },
        "outputId": "81368f31-592b-4357-b699-de9796792595"
      },
      "source": [
        "#b) ---------------------------------------------------------------------\n",
        "#Con herramientas básicas de R podemos proceder de la siguiete manera\n",
        "nrow(despensa[despensa$subcategoria == \"aceites_sal_y_condimentos\",])\n",
        "nrow(despensa[despensa$subcategoria == \"aderezos_y_salsas\",])\n",
        "nrow(despensa[despensa$subcategoria == \"arroz_y_legumbres\",])\n",
        "nrow(despensa[despensa$subcategoria == \"coctel\",])\n",
        "nrow(despensa[despensa$subcategoria == \"conservas\",])\n",
        "nrow(despensa[despensa$subcategoria == \"harina_y_complementos\",])\n",
        "nrow(despensa[despensa$subcategoria == \"instantaneos_y_sopas\",])\n",
        "nrow(despensa[despensa$subcategoria == \"pastas_y_salsas\",])\n",
        "nrow(despensa[despensa$subcategoria == \"reposteria\",])\n",
        "# Por inspecciòn visual podemos notar que la subcategorìa conservas es la que más cantidad de productos posee.\n",
        "\n",
        "## Cualquier otra respuesta que involucre maryor cantidad de código u otras funciones como which(), etc, son vàlidas también.\n",
        "\n",
        "# Con dplyr (opcional)\n",
        "library(dplyr)\n",
        "count(despensa, subcategoria)# Visualmente se obtiene la misma conclusión\n"
      ],
      "execution_count": null,
      "outputs": [
        {
          "output_type": "display_data",
          "data": {
            "text/html": [
              "348"
            ],
            "text/markdown": "348",
            "text/latex": "348",
            "text/plain": [
              "[1] 348"
            ]
          },
          "metadata": {}
        },
        {
          "output_type": "display_data",
          "data": {
            "text/html": [
              "408"
            ],
            "text/markdown": "408",
            "text/latex": "408",
            "text/plain": [
              "[1] 408"
            ]
          },
          "metadata": {}
        },
        {
          "output_type": "display_data",
          "data": {
            "text/html": [
              "328"
            ],
            "text/markdown": "328",
            "text/latex": "328",
            "text/plain": [
              "[1] 328"
            ]
          },
          "metadata": {}
        },
        {
          "output_type": "display_data",
          "data": {
            "text/html": [
              "241"
            ],
            "text/markdown": "241",
            "text/latex": "241",
            "text/plain": [
              "[1] 241"
            ]
          },
          "metadata": {}
        },
        {
          "output_type": "display_data",
          "data": {
            "text/html": [
              "480"
            ],
            "text/markdown": "480",
            "text/latex": "480",
            "text/plain": [
              "[1] 480"
            ]
          },
          "metadata": {}
        },
        {
          "output_type": "display_data",
          "data": {
            "text/html": [
              "108"
            ],
            "text/markdown": "108",
            "text/latex": "108",
            "text/plain": [
              "[1] 108"
            ]
          },
          "metadata": {}
        },
        {
          "output_type": "display_data",
          "data": {
            "text/html": [
              "69"
            ],
            "text/markdown": "69",
            "text/latex": "69",
            "text/plain": [
              "[1] 69"
            ]
          },
          "metadata": {}
        },
        {
          "output_type": "display_data",
          "data": {
            "text/html": [
              "378"
            ],
            "text/markdown": "378",
            "text/latex": "378",
            "text/plain": [
              "[1] 378"
            ]
          },
          "metadata": {}
        },
        {
          "output_type": "display_data",
          "data": {
            "text/html": [
              "125"
            ],
            "text/markdown": "125",
            "text/latex": "125",
            "text/plain": [
              "[1] 125"
            ]
          },
          "metadata": {}
        },
        {
          "output_type": "stream",
          "name": "stderr",
          "text": [
            "\n",
            "Attaching package: ‘dplyr’\n",
            "\n",
            "\n",
            "The following objects are masked from ‘package:stats’:\n",
            "\n",
            "    filter, lag\n",
            "\n",
            "\n",
            "The following objects are masked from ‘package:base’:\n",
            "\n",
            "    intersect, setdiff, setequal, union\n",
            "\n",
            "\n"
          ]
        },
        {
          "output_type": "display_data",
          "data": {
            "text/html": [
              "<table class=\"dataframe\">\n",
              "<caption>A data.frame: 9 × 2</caption>\n",
              "<thead>\n",
              "\t<tr><th scope=col>subcategoria</th><th scope=col>n</th></tr>\n",
              "\t<tr><th scope=col>&lt;chr&gt;</th><th scope=col>&lt;int&gt;</th></tr>\n",
              "</thead>\n",
              "<tbody>\n",
              "\t<tr><td>aceites_sal_y_condimentos</td><td>348</td></tr>\n",
              "\t<tr><td>aderezos_y_salsas        </td><td>408</td></tr>\n",
              "\t<tr><td>arroz_y_legumbres        </td><td>328</td></tr>\n",
              "\t<tr><td>coctel                   </td><td>241</td></tr>\n",
              "\t<tr><td>conservas                </td><td>480</td></tr>\n",
              "\t<tr><td>harina_y_complementos    </td><td>108</td></tr>\n",
              "\t<tr><td>instantaneos_y_sopas     </td><td> 69</td></tr>\n",
              "\t<tr><td>pastas_y_salsas          </td><td>378</td></tr>\n",
              "\t<tr><td>reposteria               </td><td>125</td></tr>\n",
              "</tbody>\n",
              "</table>\n"
            ],
            "text/markdown": "\nA data.frame: 9 × 2\n\n| subcategoria &lt;chr&gt; | n &lt;int&gt; |\n|---|---|\n| aceites_sal_y_condimentos | 348 |\n| aderezos_y_salsas         | 408 |\n| arroz_y_legumbres         | 328 |\n| coctel                    | 241 |\n| conservas                 | 480 |\n| harina_y_complementos     | 108 |\n| instantaneos_y_sopas      |  69 |\n| pastas_y_salsas           | 378 |\n| reposteria                | 125 |\n\n",
            "text/latex": "A data.frame: 9 × 2\n\\begin{tabular}{ll}\n subcategoria & n\\\\\n <chr> & <int>\\\\\n\\hline\n\t aceites\\_sal\\_y\\_condimentos & 348\\\\\n\t aderezos\\_y\\_salsas         & 408\\\\\n\t arroz\\_y\\_legumbres         & 328\\\\\n\t coctel                    & 241\\\\\n\t conservas                 & 480\\\\\n\t harina\\_y\\_complementos     & 108\\\\\n\t instantaneos\\_y\\_sopas      &  69\\\\\n\t pastas\\_y\\_salsas           & 378\\\\\n\t reposteria                & 125\\\\\n\\end{tabular}\n",
            "text/plain": [
              "  subcategoria              n  \n",
              "1 aceites_sal_y_condimentos 348\n",
              "2 aderezos_y_salsas         408\n",
              "3 arroz_y_legumbres         328\n",
              "4 coctel                    241\n",
              "5 conservas                 480\n",
              "6 harina_y_complementos     108\n",
              "7 instantaneos_y_sopas       69\n",
              "8 pastas_y_salsas           378\n",
              "9 reposteria                125"
            ]
          },
          "metadata": {}
        }
      ]
    },
    {
      "cell_type": "code",
      "metadata": {
        "trusted": true,
        "id": "VuSk2-AhyrXV",
        "colab": {
          "base_uri": "https://localhost:8080/",
          "height": 191
        },
        "outputId": "ad1dffc6-6a99-402e-e343-dae367fa168f"
      },
      "source": [
        "#c) ---------------------------------------------------------------------\n",
        "#1pt por filtrar correctamente y 1 pt por calcular promedio\n",
        "mean(despensa[despensa$brand == \"Gourmet\" & despensa$oferta == \"NO\" ,\"normal_price\"])# Precio promedio productos Gourmet de despensa $1.287 pesos\n",
        "\n",
        "#d) ---------------------------------------------------------------------\n",
        "#1pt por filtrar correctamente y 1 pt por calcular promedio\n",
        "#precios por subcategoría\n",
        "mean(despensa[despensa$oferta == \"NO\" & despensa$subcategoria == \"aceites_sal_y_condimentos\",\"normal_price\"])#$1901\n",
        "mean(despensa[despensa$oferta == \"NO\" & despensa$subcategoria == \"aderezos_y_salsas\",\"normal_price\"])# $2184\n",
        "mean(despensa[despensa$oferta == \"NO\" & despensa$subcategoria == \"arroz_y_legumbres\",\"normal_price\"])# 1789\n",
        "mean(despensa[despensa$oferta == \"NO\" & despensa$subcategoria == \"coctel\",\"normal_price\"])# $1937\n",
        "mean(despensa[despensa$oferta == \"NO\" & despensa$subcategoria == \"conservas\",\"normal_price\"])# $1632\n",
        "mean(despensa[despensa$oferta == \"NO\" & despensa$subcategoria == \"harina_y_complementos\",\"normal_price\"])# $2556\n",
        "mean(despensa[despensa$oferta == \"NO\" & despensa$subcategoria == \"instantaneos_y_sopas\",\"normal_price\"])# $1012\n",
        "mean(despensa[despensa$oferta == \"NO\" & despensa$subcategoria == \"pastas_y_salsas\",\"normal_price\"])# $1270\n",
        "mean(despensa[despensa$oferta == \"NO\" & despensa$subcategoria == \"reposteria\",\"normal_price\"])# $2246\n"
      ],
      "execution_count": null,
      "outputs": [
        {
          "output_type": "display_data",
          "data": {
            "text/html": [
              "1287.46560846561"
            ],
            "text/markdown": "1287.46560846561",
            "text/latex": "1287.46560846561",
            "text/plain": [
              "[1] 1287.466"
            ]
          },
          "metadata": {}
        },
        {
          "output_type": "display_data",
          "data": {
            "text/html": [
              "1901.89333333333"
            ],
            "text/markdown": "1901.89333333333",
            "text/latex": "1901.89333333333",
            "text/plain": [
              "[1] 1901.893"
            ]
          },
          "metadata": {}
        },
        {
          "output_type": "display_data",
          "data": {
            "text/html": [
              "2183.65137614679"
            ],
            "text/markdown": "2183.65137614679",
            "text/latex": "2183.65137614679",
            "text/plain": [
              "[1] 2183.651"
            ]
          },
          "metadata": {}
        },
        {
          "output_type": "display_data",
          "data": {
            "text/html": [
              "1788.73417721519"
            ],
            "text/markdown": "1788.73417721519",
            "text/latex": "1788.73417721519",
            "text/plain": [
              "[1] 1788.734"
            ]
          },
          "metadata": {}
        },
        {
          "output_type": "display_data",
          "data": {
            "text/html": [
              "1937.05263157895"
            ],
            "text/markdown": "1937.05263157895",
            "text/latex": "1937.05263157895",
            "text/plain": [
              "[1] 1937.053"
            ]
          },
          "metadata": {}
        },
        {
          "output_type": "display_data",
          "data": {
            "text/html": [
              "1632.34586466165"
            ],
            "text/markdown": "1632.34586466165",
            "text/latex": "1632.34586466165",
            "text/plain": [
              "[1] 1632.346"
            ]
          },
          "metadata": {}
        },
        {
          "output_type": "display_data",
          "data": {
            "text/html": [
              "2555.71428571429"
            ],
            "text/markdown": "2555.71428571429",
            "text/latex": "2555.71428571429",
            "text/plain": [
              "[1] 2555.714"
            ]
          },
          "metadata": {}
        },
        {
          "output_type": "display_data",
          "data": {
            "text/html": [
              "1011.95918367347"
            ],
            "text/markdown": "1011.95918367347",
            "text/latex": "1011.95918367347",
            "text/plain": [
              "[1] 1011.959"
            ]
          },
          "metadata": {}
        },
        {
          "output_type": "display_data",
          "data": {
            "text/html": [
              "1269.5612244898"
            ],
            "text/markdown": "1269.5612244898",
            "text/latex": "1269.5612244898",
            "text/plain": [
              "[1] 1269.561"
            ]
          },
          "metadata": {}
        },
        {
          "output_type": "display_data",
          "data": {
            "text/html": [
              "2246.13157894737"
            ],
            "text/markdown": "2246.13157894737",
            "text/latex": "2246.13157894737",
            "text/plain": [
              "[1] 2246.132"
            ]
          },
          "metadata": {}
        }
      ]
    },
    {
      "cell_type": "code",
      "source": [
        "#e) ---------------------------------------------------------------------\n",
        "# No hay productos Gourmet en las subcategorias indicadas.\n",
        "nrow(despensa[despensa$brand == \"Gourmet\" & despensa$subcategoria == \"conservas\",])\n",
        "nrow(despensa[despensa$brand == \"Gourmet\" & despensa$subcategoria == \"harina_y_complementos\",])"
      ],
      "metadata": {
        "colab": {
          "base_uri": "https://localhost:8080/",
          "height": 52
        },
        "id": "nyKYwZfuo-IV",
        "outputId": "3f49dec4-75ac-4150-ec82-db0536bc061b"
      },
      "execution_count": null,
      "outputs": [
        {
          "output_type": "display_data",
          "data": {
            "text/html": [
              "0"
            ],
            "text/markdown": "0",
            "text/latex": "0",
            "text/plain": [
              "[1] 0"
            ]
          },
          "metadata": {}
        },
        {
          "output_type": "display_data",
          "data": {
            "text/html": [
              "0"
            ],
            "text/markdown": "0",
            "text/latex": "0",
            "text/plain": [
              "[1] 0"
            ]
          },
          "metadata": {}
        }
      ]
    },
    {
      "cell_type": "markdown",
      "metadata": {
        "id": "bDPDvb7EyrXX"
      },
      "source": [
        "# Sección 2\n",
        "\n",
        "Suponga que quiere basar sus compras basado en un pequeño análisis de precios. Para ello deberá escoger por cada categoría y subcategoría, los productos con mayor y menor precio. El siguiente archivo contiene una modificación de precios en la columna normal_price y ya viene con las columnas categoria y subcategoria integradas.\n"
      ]
    },
    {
      "cell_type": "code",
      "source": [
        "productos2 <- readRDS(\"productos2.RDS\")\n"
      ],
      "metadata": {
        "id": "c6wI5ti51688",
        "colab": {
          "base_uri": "https://localhost:8080/"
        },
        "outputId": "f860a0ae-f2d3-4125-b1e9-051a1ed59e53"
      },
      "execution_count": null,
      "outputs": [
        {
          "output_type": "stream",
          "name": "stderr",
          "text": [
            "\n",
            "Attaching package: ‘dplyr’\n",
            "\n",
            "\n",
            "The following objects are masked from ‘package:stats’:\n",
            "\n",
            "    filter, lag\n",
            "\n",
            "\n",
            "The following objects are masked from ‘package:base’:\n",
            "\n",
            "    intersect, setdiff, setequal, union\n",
            "\n",
            "\n"
          ]
        }
      ]
    },
    {
      "cell_type": "markdown",
      "metadata": {
        "id": "75S5dwvMyrXc"
      },
      "source": [
        "##  Pregunta 2.1\n",
        "\n",
        "**1a) (2pts)** Genere un dataframe llamado `df_temp` que contenga solamente el nombre del producto, la marca, categoría, subcategoría y precio (normal_price), para los productos con stock (`sin_stock = 1`). Para ello una los dataframes de cada categoría/subcategoría de la lista _productos2_.<br>\n",
        "**NOTA:** Su dataframe se debe ver de la siguiente manera y debe tener un total de 4261 filas y 5 columnas. <br>\n",
        "**NOTA2:** Es un error del nombre de la columna, pero es correcto asumir que los productos con stock estàn marcados con `sin_stock = 1`. <br>\n",
        "\n",
        "![image.png](data:image/png;base64,iVBORw0KGgoAAAANSUhEUgAABFQAAAH8CAYAAAD/ivt0AAAgAElEQVR4nOzdf4wU553v+0+uozuWr0Tkc+k1UYyy7un4Xo+Tq0kH7QgU2k0SzMgb7OvQd67Cj2ymd8BDTDasMLjP4AnrjOnTBnzinNgBw+xMdjHsSW8TZDhrDcZemsEy4i7pnXuzjLWmp2VriDKkORtlpEMy0lrcP6q6u6q6+kfN74H3S0L2dFfX89Svp6q+9X2e+sStW7duCQAAAAAAAHX7n+a6AgAAAAAAAAsNARUAAAAAAACPCKgAAAAAAAB4REAFAAAAAADAIwIqAAAAAAAAHhFQAQAAAAAA8IiACgAAAAAAgEcEVAAA80xeyahffr9f8cuT+X1Gcc+/zStzOT+ZwuwlJ4x6+/1xZaY8t7mVSfjlTziWYiypqL+wjH75o0mVrTXHNNFU5fWaSVT/fkqcdfX75fdHlRybmeIAAMCdh4AKAGB+GTungXRY4bDU+xOXG/Zpl1cy2qJXPpzibMaSeuVwWIn3csrluhSclrrNkctxRQ47PhtLKroipkAyp1zO+Jd6MKYWa1Dlclx+6zTvJaRdLa7BrUzCX17GdLqWVVodSuVK9c3l+tS2ZAbLBAAAdxQCKgCAeSX/7oDS4Va9+J0OKT2gcwslo+BaVmkFFFjwN+wZxduyCoftnxrbJaHNy0qfBb+dULi4jfJK/qRX2pJSV2GaJW3atkXqfdua6WJkEEUOh8vKqFijhDOzxMhiqpaFlP8wK4UDWlpfEQAAAJ4RUAEAzCMZHdmVVvixVfIta1WH0hp4t1aOinGDXupiki2fIlGp64eRnRJLS+ldLZYuLKVuR6V/lbvx5FNR+dt6JfUqYnZzyaei8ieSxfkUurZUroulrpbfFX9r68JS3nXFPl/H92NJRevq7pJXMhpRdt+L2vag/RtfpE+5vjb5Kv52VNm01PE1e25OMJZTLlb6LJ96Rb1bUsrlXlRrreoU5vG1gGIrSvXPJFo08NilUuDGrTbZtPRgoEp9AQAApoaACgBg/rg8oF6F1fpln6SgNu8LK/3muSrdfowAgHGDnlMud0mtb8bUa50iFVXkg4QuFbt9XFIinFasK6m8fGrru6REWArvu1QMGGQSLYo9mLJ0FUmpQ72KOMcUMfkifcolOySzi0lfxLyNPxxT9jvGPPoivhp1sbD8LpfsMII9XdKLha42W6y/MYI/EVnqm7QHILSkTX11dHfJp55VTAm9GKkvDJF/d6CUlTOWVVZhBe53BrjsW88X6bMFWOqyrEuX9kmxFcY8I0qV1rF7zZT9QNLhCOOnAACAGUNABQAwb2Te7pW2bCve+Pu+3KpwOqYjlbp2XD6iWLpDqeINuk9t8YSsPUnKMyt8WvVY9b4mzqwKKajWLV6XRpI61GrJoqi7LtauNcta1SGp4zul3y0NWH4zdk4DtnUgaVmXEXT5qYehcceSenaXlIhXy0KxuBxXy660OpLW8WLSiq0YUGvOPobKdAw864v06dK+sLQlVUdAxsiW0ZYqQSYAAIApIqACAJgnMho47OgysmSVWsPOMThKXMfJWBJQwG3iy/FitkLLrnRdNcqnosXfTGoA1UpjeNSqi5euKteySptdjaxdibzVN69kV0za92J9g7Zejsvf1qvwPme3m7AS71kCLEva9OK+sNK7jkz5rUf5VNRYV4cj5W8fKhNUV84RFFu22cgG8hJkAgAAqOKTc10BAAAkc2wNSWrz27rsSJLSA8rEgpN6c07xRlzGG3jalpifvVn5N6U30HQoletTsPDZJMqfal1qzvPDrFnPKbxZaOycBtJSOt0i/y7rFxH5DzvmbQmmVO92Y/D9sWt4y5vLcbXsUnGdGa9brq98S00UeLD2VAAAAPUiQwUAMA/kde7NtL2LhqXbSFi9esWl24jvjwNSOqtR64djWWUd8w3vu2R7Ze5otlqGipkpk7S+/tgck2MaltFbXWozAhZZZafSlWVJm/oc6z21Reb2KA+mdCRz5cGMJavUGk4re83+8XS8bSfztpSyrLNg7JJa33R/HbOkCoPwGtswHOC9PwAAYHoQUAEAzL2xcxpIh5X4tkuOhdntx3Vw2mWblQhbB4s1uq44QxTpbCnkkk9FHd1hjMwF6zSSlP2wVFomYbwJaDpUr8skFLqy2Aa2NQaGnY6xS4rGkoqawRT3t+v41PadDvW2Wd6GNJbUs4W3Nk2h6GDMmX3jU1tfpXqoGNyxdu/Jp55VLN2hbZ6yWgAAACojoAIAmHOZn8aUDrdqlev4HcaNutIDOleWhWG+peeDwttcWjTwWEIdtu9T6rC87aXlzVZdStrnF/xah/lGmLgyCqrLHEy1OB6JUsaAqIcHisEC4/XGXsbjqK8u3pnrQDG1FMdQiShr7ZJT92uTK8v81AhU9bY5X/vsL2WKLOtSLqnSeC4rYlKdXYOml3O/8KtlV2Bq3aIAAAAcPnHr1q1bc10JAAAAAACAhYQMFQAAAAAAAI8IqAAAAAAAAHhEQAUAAAAAAMAjAioAAAAAAAAeEVABAAAAAADwiIAKAAAAAACARwRUAAAAAAAAPCKgAgAAAAAA4BEBFQAAAAAAAI8IqAAAAAAAAHhEQAUAAAAAAMAjAioAAAAAAAAeEVABAAAAAADwiIAKAAAAAACARwRUAADzQv70VjX7H9Law1e8//hyXH6/v/QvkZn+CgJ1ySju98sfTSo/11VxyCT88vujSo7NdU3gyURGr379Ifm/FNOZ3851ZTAz5m+7MafY92ubZ9c/U7qWW6AIqAAAZtzo6e3asHrrlG7kpmMeAGAY1akdG/ToNm5gcYcZz+jVrWvV8kMePADTgYAKAGDG5a+c0sWRiarT+NYe1FDufZ3e8rD3eSzrUi6XU+69hMJTrSyAO0Be/3LyorI357oedWgI6un/9r5yv0hozb1zXRkseDez+sWZK8pXPyXPD+z7tc2z659a13K3IwIqAIAZY3Qx8CtyWJLSiq0opKXGVXw2ViNdta551GHig6T2tLXoIb9f/s+3KJpIa/Tj6VhKwM24rqRiWvt5Y3/bfiyr4v2Luc/HL0/oyuENavb79dCK7Tp1rTBBXsmo5ZjwP6SWtu06+svSHZBxXMR16uKriq54yJjme0ftAYL8RfXuiKjl88Y8Nrw+O0s+4z4eVTqxVY9+qbSOoqlSnkmhzSj8a169VfF3RgvfGl0r/BH1SlI6pha3tufjvC7+uFRG87rtOvrP45ZKTCib2qPIiofs7Zffr/hlc5KbWZ1KRM31b9Tj1YuWfBjP+4FLdy1n+/mlR7WVtm32jV9RsjtS3NbO/Smfitr3jYpdfKq0G1KNfb9GuzGWVNTvl39FTGlJOhxxPX50M2tZlofUsjmu9EfWOtiPDdf902x7mov12KPkB5Ylmff7vrl9Xjiliz82j2GX7ZG/2Kvt65qN8j/fokh30tYGF9rpzM0r6v1Ws9lOnzLraJSx52CvNnzJr4e+HteZN1/S2s/79dDXX1Lmptt6KD8XTMvS1jyfmPWIJjV67YxiX39Ifn+zIj/OlJ3XanU9Gn0nrq2rm0vTWY+Bmu3u/ERABQBw+xs7pa3fiOno5bxx8r+ZV/pwVI++cFEL4SEdFqB0XNFdSV25KelmXqe6/1y9v7RPMv5GXJHERY1Lmhg7pe3fr9T9ZEL5y6e055txXbTtsL3avuElpccmjGlO71H8TXMONzOKr9+g+MmM8jeNeUwshGyMWj4eVbLzUUUPn1G2zjEVxkfOqHfzX+roR7WnNUwo8182aMMPS2WM//Mp7VkXLc3j8ktau+uoAs9dUi6X09DfdmipGtR2cEhdyyR9nNXRzWu1/XDaXP9GPV7asEGvDjvqV/d+UIffZnXmcFR/+V9Ha0+LaTKuM91rFTuWKW7rSavWbnje9yu1G9Xkdep71mWZUP6dXkX/dE9xHvmTz2rDD6+p7afvK5fL6XxPWFJAXQN9alsi6eZF7Wk12p7xYj2OKvaNZ8vGQZn3+37fdm34oXkM38zrVHdcb5iBnYl392j1hrhOFW74b+aVORbT2v94RvYQwLje+E8Rxd8dl9FOb9eek6WlPLo/rou/lSaGe7V126u6clOaGH5Vb/w/bhttMtu0XuXnkz//a8c4KBNX1Pu9rUoOT0gaV+aHG/TSZbd5uRtNRfXo5l6dGXELktTR7s5TBFQAADMmGMspl8sptUWSwkq8Z/ydy3UpWJioRrpqXfOo4crJl5S+uVSbDho3P7mhY+q4X5r4m3O6c4ZNw6y6J6in/9a82T6ySQ0a1Stv25/YJY8lteZHl5S7+pa6viApnZVxK+BTW19hP88pd/W8ng9LujmqUccNyaLHEjp/NafcsQ41SEpnjTnkz7yi3hEp8Gd9unTVegwtcP98VHvemVDDV5/X6V+U1lFfxFecpNBmGOtuSMeiSyVlNJqXpKC6cjnlcil1SFI4oUuFaWNmizKe1t/+OCuFu3R6KGe5aczo3D8ZN0ITfzDvZu6yVm5Cfyg8Hf//3lD84oQavprQW++b84iH1aCsXjnjfT+ouO0K7af5zwjsSJlRRoaZPYVgZUBrYn1667337fuTF9XajZr7fo12Y0mb+qzn2i2p8nkMJ/XSOxNauuGg0W4Ujp+bR3XODOz8YcK8Gb6rwb4O/t34v/yZIzr6Wymw5ZiGCvPYEpBuntLP0vb9cv7v+4u0Zt955XI5HYs2SEore02S8jrzN0c1roA6/naodF3RKE2c/pnsi5nU0ZNr9PKlnHIDXXpYpXZakvTF5/XWuYSWS1I4ofPm/4/eGJeXc8HUNSj43WPGdh/q06Z7pNHXBuyZwBeP6qh26PS/5PT+kTZJE8p+aC5sra5HH2d09K/SmrgnrOffGCotU1+bfFJd7e589cm5rgAAADNt4nfGxcvRrS06Osd1wR3iT9r0rS8bNymLHn5YyyWlHU8UG9a+rB+s9UnyqeONnHGDb8pf7NXeg0ml382qcsJzWF3PtWnpXZIeCBhlmN+MfnjRmOJPw/LdVen3C0/+QyPlftOfbdLDFcZUmPjglF764RG9ceHK5DIGbv7OWOfpuNY2x10naQi2qs2X1MDzIfm3jqthycMK/+Ux7V6zyKjnyBVNSAqvWaWAed+5NNyq5Up72g9q1zWrU//lJR05ldaVMfLt5oZPj8ePabRru15JRHUmIeneoDb91Q/1/Nql7j/5uMK2qtJu1LPv19duVHHzd0ZA49hWtRxzn2Tpl5/Qcr2kIx0PKT42oUWNy7Vp31+ro8n4fvRfjVYo/LXlWnSXJC3S8q+FpcNZydEdZ97v++Eu/SBibMPA/25rYfUv70hSWK1fNo55LVqu1q9KvSMqBVYlSQ16fN8P9LhPkq9Dp3OFpTRCFeFvtirQcE4NksKPrdJS8/8LprxN67Zcbd9cbpwvFj2sh/9E5SctBbSj52k9fI+kryaUyyXqn30+a3Qh+rPN2vSFReXf19HuzldkqAAAZkle4/82R/NoaJC0VJsOntf7Vy1PezxkuQCeTEh/kKSPx3Xxp71KS3r40/aLyOUrg3K5rJQ+6NWGDXENfzFhPC38xWl1eRxt0PdpY8/O/qsRTBwfTir5jteFmH8WLTZubpJ/c1RX3J7Qjp/Rnm9sV+//vFn/7f/NKff+eR3cUOGmVpL++7h+4xxz4a67jf+Gu2yZANYn+aMnX9LR/BP6wT8YT1rff++0Dn53eTF45Wt8WA2SLp45p+yEpI8nlE0P6KKkpZ9qsBVXcT+oaVxn/mqtth9u0Oafv6/c1fd1/uAmVVlazBTfcj195JLev/q+zid3KDyR0dHv7dEpx4P10dG89HFe6Rf2GGP4OFVpN2ru+17bjX/La7xs329Qg6SlGw7q/Pv2fb9rmVHBiz+N6+IXtqnvnJGJM3T2mJ6PBIpBgKX/m1Fo+u2Lxvw/HtfFt41AxKJ7bpd9f6k+/1VJSmvgXTPM8duLGnhHkhbpU/dYp12uFcHJLeV0nAvqNyGZWUbj7x5Rb1rSF5Y6tk9Yy5smOft7/8jYPn9/REd/6RIaqqPdna/IUAEAzLyGBklXFP+6X8Zzhw6lzGBGJlEYcNZ0OCL/YRmp+IVU0BrzyKeiatmVrjiP4JptCvz4JR3d+og9Q2VLanJp2UAtF2N6xB8r/X1PWJvXBOr77f8wnhJP/Diih348ueKXLm9VUBeV7n5E/u7JzWM+alj+hJ5uPKpX39mjtV/aU/qicCxPTOg3NyWd3q6W09urz+seSb+Ma+3n4vZ5+ML6v9c2KH06rrVfsj4pDSvxnjlOhCQpqa1fSpbmtySotud+qOcfWyo1rVJH46t69Z2YHn3Ivh/seLLOt1+MJRUtDCAqqTAod0xSRzKnrmUTmvjthKRT2r7ilKovLWZOXsloi2Jpx8f3/JFx2pK0aMlSNUg6s6NF/h1VZlWl3ai579fbbhRuXFNb1Zwy/je875Jx0/p/tGpb46t66dhWPWLLUCmdbyUZx81DpWNjUeMabfvPL6vjCw3yLf8/Fb4nrfThDWq2ntsbn9a3vlpnYGHe7/s+LX8srIZ30ur9VrMtOBb47rcUnmT8pEwd27TW9U/9oYiLioWMdWxoUPjbrarzrFX7Wq5huZ74bkBHf5zWnieaVdqDzX2r7nZ3/iFDBQAw44Ib+7RjTWCST6KmYR5NTyt14nk9vsynhtpTA1Pg0+efXK6Hl5h72j0+Pbxmh4693afH670g/OJmHfvLsHz3SNIiBZ98Xi/Hlnurxmc36YevbFLwXnMeGxLqe24+vFRzihqC2nH8mLqeDJrrx8G3Rl0vFZa7Qb6vdqivZ5PLhEF968gOrWl0a1EWac1/fkt9W9YoUKFrxdLHNutxx2cTYxkd3faSzoyX6llqs4y6vPzzg/XvBzX5tCb2sjZ90SxhSVgdR56X29JiNi1SYE2HXv758zJ7gKlheYde3mBmY9wb1KZ9fY5MgzrajVr7fr3thm+NuvZtUnCJy9nwrof19ImUnq9Uhhq0/Bvbym6yx0fOKP50rzEm2ZLHdfDnCW0qnm8XKfhkl44d36HgtJ2A537f9z15UKet6/HeoB6PHdOxvwhO33XGdJwL6tZgBJllBMh2/O2g+p6czsyQBgX/4piOxR533/fqaHfnq0/cunXr1lxXAgAAAFgYxnVqW7O2v9mmg0MJ46b543Gd+Y/N2pqa/09TgUn7+IpeXbVWL93bpdM/79DDdxmf9X5jreK/dGSxYMEwsktouyaLLj8AAABA3X6n3/3a/N/CGBTjoxq9IemLqxSc3939gcn793H95t8k3StjvI27pIlfX9Pob6WGDStUZ2c2zJayrlNORhCl3m49cEdABQAAAKjbUm06dEzj34/r+yv92npT0r0Brfm/XtZbf/G4ArfRW5UAm4bl6vp5QnqhVxseimtcxthBa759TIN/vpwutbgj0eUHAAAAAADAIwalBQAAAAAA8IiACgAAAAAAgEcEVAAAAAAAADwioAIAAAAAAOARARUAAAAAAACPCKgAAAAAAAB4REAFAAAAAADAIwIqAAAAAAAAHhFQAQAAAAAA8IiACgAAAAAAgEcEVAAAAAAAADwioAIAAAAAAOARARUAAAAAAACPCKgAAAAAAAB4REAFAAAAAADAIwIqAAAAAAAAHhFQAQAAAAAA8IiACgAAAAAAgEcEVAAAAAAAADwioAIAAAAAAOARARUAAAAAAACPCKgAAOa3saSifr/8icxc1wSYHezzd4RMwi+/P6rk2FzXBJhd7PsLn3Mb1t6meSWjfvn9hX+3z/YnoAIAAAAAAOARARUAwOz56JRi34rr4vjsFz36ZkzRF9LKfzz7ZeMONp7Rq9/aquRHc1D2tTOKbY4rnZ+Dsu8wo6dj2pC4qPFZb18mdOVgVNuPZTUx20UDH48rc3CDtv7X0TkonH1/RszYNvWprS+nXC6n1JYKk9y8olc3b9fRDxbWFiWgAgCYFfl0XGv/dLuSvx5X/reOL8czOrojopbPl9JB45cd0/x7Vme6I2r2++X/UkRx613i5bj5mwldObxBzX6/HlqxXaeuFSaY0MRvf6dMX1Shb76qKzdnbjmBgokPjmrrqoheyuSV/zdHFHHG93lp4uZv9LtMr6KrInr1lwvrAnXB+Div9Atr9ej3ksr/W16/c3w9/s9Htb2tRQ8V09zjcnbkGv+nXkVXPCS//yG1fO+ossX2yUyRjyY1eu2MYl9/SH5/syI/zpRuID8eV/6/53Wm+1Gt3XVGowSMMVtuZnX0eyFF9meU/22+LJg4+k5cW1c3l7p4RJNyxnbZ9+eZats0f1G9xXPWQ9rwuvssxq8kze3l3KZ1+B95/e7XZ7Snda1ib85FkG5yCKgAAGbYhLLHtmp1tFej4ef11hsJPf5Zy9c3M4qvi2jPyYzy1U68fTFtPZbRuCT9NqPebUeUcVxAjb8RVyRxUeOSJsZOafv3CxdwDQpsOKjBEzv08PBLWvtETKfmImMAd4x8Oq7IN/Yo/ekO9Z1L6ekvLip9OSv7vNTw4CYdPJfSjqYreumJtYqdXjgXqAvCzayOfm+1on2jCve8pdP7HtfSu0pfT1yOK7Juj05dzld5gp5W/HtxpccmJE0of3qP4m86bjsnrqj3e1uVHJ6QNK7MDzfopULw7S6fws+d1ls/apNSW/XoN19VZg4yAHGHyacVb1urPeml6ugbVGprUIss+/5oKqpHN/fqzEi1nZF9f16ptk1vZhRfv0Hx4jlrQhOu56604ptj5vYytumf//WV+uvgC6vrjbf0ckRKbntUkYOZOcj6846ACgBg5nw8qlO71urR7rQCO1Ma/NEmBe6xT5J/8xX1jkiBP+vT+feNdNBcLqeuZY553fOwnj42pNzV80qEJd3MKuu49koeS2rNjy4pd/UtdX1BUjor6y3koi8+rdS5PnU0vKHtf7rW/sQfmA4fjytzMKJQtFcTj72st97oUthnn2Q293ktCurpvxtUX7RBb3zvUa2l29v0+OiUYk88qj3pgHacGNTBDQE12CbI642f9CqrgDYdOa/3rxa2c5eCjlkteiyh81dzyh3rUIOkdNYR+Lp4VEe1Q6f/Jaf3j7RJmlD2Q/uOsHRtQqcHnld45CVFVm1dcCnzWDjG//lVRVZF1TvxhF7+h9PqcjZwH2d09K/SmrgnrOffGCq2b7m+NjmmZN+fJ2pt0/yZ0jnr0tVq3XYaFPzuMWOaoT5tukcafW2gLCuvqruW6vF9p/VWT1jZ/RGFvGa5zIFPznUFAAB3ttFsWlJQm74d1tKGKhNufF47li+StEiBByWlyydpWPuyfrDWJ8mnjjdy6piRGgNTwz5/JxhVNi1p2SZ1fHWpKm/msLqeazMyWx4IaLncNnNAO3qe1sP3SPpqQrlcYqYqDUxdPmvcAP/ZZm36wqIqE7LvLxSjH16UJIX/NCzfXdWmXK62by43pln0sB7+E0np2z/ARYYKAGDm1PGkYdGnH5aU0dGfpjU6xfPu8pVBVbt8q/lkDZiquxYpuDWlwb4ONby5XY8+UT4o7Gzu8xrP6NVvhhTtm9ATP3pLp5+rdUGMunz2cSXeeEvPh7N6aV1IW8sGxlykpV+QdPmoet8Z1cSUsoLCWt5UfYrR0zGtbd2jdOMOpc4d1KYHq0XqgMmrmel57x9pqST9/REd/eVU++Cw78+GWtvU92kjry77r0YG0fhwUsl33OY0If278X/j7x5Rb1rSF5ZWP0c51ZHZPN8QUAEAzDBj/JKzfR1amt6jRx3jlwTWbFb4Hin7N1E98lBpgM5oajq74xjjuITWvaQrTTt02jmOCzDNfOEupX7+vMK/NgeF/efSjcXs7POWQXGHH9aON04rsXbptM7/jndPQJt+dFZ90aVKdz+qtbtOWQbGDKj122E1KKujmx/RQ58rbOeokmPTWAfLoLiKHNRbf/e0gp7uXoBJ8IXVlTyt58Oj6o2G7GNdNCzXE98NSDfT2vOEZVBalwGZp4R9f3pV2aZLl7cqKCnd/Yj8fr+avx5TcsRtJhcVCxnbu/lbvcqqQeFvtyogScoobu4LkcOSlFZshWNA9nxa8Sce1faU1PbKW2Vj88xXBFQAALPCF+7S6X94WW2fXiTfvZYvljyugz9/WR1rAt6eYnjSoIZ7P6VgtE+Df2emDwMzrDgobNAn33+w7N2zss9LDff8kT4VNAfF/QJPbWeEZWBM33/w6VOWr3xPHtTpH3VoTeMMbuW7Fsn3v/q0puctnd63xjYoLjCj7glo048GldoZlO9en+XGt0HBvzimY7HHFVwyg+0O+/70q7RNP7tJP3xlk4L3StIiBTck1Pdc2PZT38OPa3mTz+ze2CBf0xrt+NtB9T3pIRP4f/HpU59eo+cHTivx2MJ5APCJW7du3ZrrSgAAAAAAACwkZKgAAAAAAAB4REAFAAAAAADAIwIqAAAAAAAAHhFQAQAAAAAA8IiACgAAAAAAgEcEVAAAAAAAADwioAIAAAAAAOARARUAAAAAAACPCKgAAAAAAAB4REAFAAAAAADAIwIqAAAAAAAAHhFQAQAAAAAA8OiTV69enes6AAAAAAAAePa5z31uzsr+xO9///tbc1Y6AAAAAADAJN19991zVjZdfgAAAAAAADwioAIAAAAAAOARARUAAAAAAACPCKgAAAAAAAB4REAFAAAAAADAIwIqAAAAAAAAHhFQAQAAAAAA8IiACgAAAAAAgEcEVAAAAAAAADwioAIAAAAAAOARARUAcHVDJ55qUlOT279OnbjuYVbXT6jT62+mwY2TnWp66oRuzG6xkzLlus7ROsYsyewvOw73Z+a6UnW4fkKds1bvIe1fKOvltjUL24C2DneohXRNc1uynYfd2iDHdbPbtnKcy93ayqED1nPmfg3NzNJMKwIqAFBFaO+ghoeHbf8G90rdqxZGIw8sdDdOdqppo3Tcehye69HIxiZ1npy/l9ZDB5rUtOqsVp9bWB1Fa8wAACAASURBVPXGVDRr5/CwdgZnsIj71unQ8CGtu28GywAAq8x+NW0cUU/hfPZ6o+M6+IZOPBVSt3o0WLhWbj2rkDWoktmvpo39an+9cE48Lm20B1VunOzU+r724vn+eLRf6xdAEI2ACgB4tPjJTrWrX2d5EgzMsBs6PzCo0N52NVs/vm+dXtgb0uDA+fl5oZXZr/V9IfWcc9z43rdOh15v1+Du58gwAAAsCEP/2K/Q3hdK57Ngu3pWWq6Dr5/X2Qsh9fxgnRabHy1+8gX1qFv9mdI8FD1uCTg3a+fr7ep/rRAwGVL/7kG1v76zeL5vfua42i+U5jFfEVABgCkaOtCkpgNDNT+zf3fCnhrpnNali0Otp9o3Tnba0iTPu03kmG/tJ+XOrk/ONE/n9/bMnaEDTeo8eUL7Hemd9dTVnvY5mW5W9vo4yzxB+vCCMThyreyzxU8e0vBrpYu3msdhoavEyRppy1WPkSHtt83DPVPNuHDsdM8iCO7UsDPDwNk1yLYclcocKh5XRj1HXAqrfnze3mq0XTXaWLe2q9DlYMjRlpTWqUuXH2c5bvtopTpeP6HOQltVSKEv6/Lj1j31TtrOmHsL9DoBdWt+ZliHnlxc9vnIR2ab+aucBtWoRts5b7EaP1eY5oZGrkqhxvvtM/iMX6ELOV2TpOsjGlFI/s/YStbqqKWceYqACgB4NHRgvfrVrtVTSevu69bZ1sFi2mN73/rSxfz1E+q0plYOD2twb6j6U+3MfoV2y5KOKXXvHrRNUt514rgad4eqBFVcUjht3Z2GtL8pZFmOYQ3uHdF6x8XS4O6z8pv12hmsp67Gxdf6q85y67xYun5Cnau6pb2DGh42n3TUsX4wHy3Wuqfapb7103TBPKju3aVjwNl9r75jZFDdA35z39xpz5wx5uJ+4VhJZr+ja9Cgeq6ud9x4O8u8oRNPrVd/9HjxN6sHutVvm7FxfHZ/7njx+Dwe7S87Pm9PNdquOtvYsrZLki5065BeKG2rlf1aXyF47pbiXmrrzXZOpe1jpNE79/F+dY90Gt9bAogFQwfs23h4+LjaVaVOwLRaoNcJmJIbJ59T94V2dRaCLJ/xK6QRjTgCaSNXCw9EjOBK2cORX+U0WPida1DG4PZQZT4hoAIAVQzuDpU9xTT6d7rdSHmwskcvFKP9Rtrj4O5+4wLDpY/84hWrFao4sxs68ZozHXOnjkft05wfsKdSlpXr5JrCecgSpDirfttymCmeK/t1yHoDunK1HikuSx11rZQ6unJQZ9+r8ZTiV6VgSulpSj3rB/NWcKd54ypJg+peNbWn8NZjwL6/1n+MhFofKbuxdWr8bK0pDGWp1FqsdT/oUajvkO3GwFZmpl/dF9p1/Jlm+2+sM86cVb+s05jp03dCd8VabVe9bayt7Sqw3ERosR5pDUlXR1wz3VxT3IfNJ73Xz+vsBfv2MdqlQXUfte/Z7V+pfLZpfmZYw9Z5mE90gVmxEK8TMHlmxl1ot6Mr7n2PaPXKQXV/3zpmSr+6L5R+2vwV4+FIKYPP2M63g0/OdQUAYD4L2W7Mp9HnGu03ZJ/xK6SzGrkuNRcvKoa0v2m95alzSKtdZ3ZNuQtS41P2et7fGJKu2qfpv9Ck8tNXu3sdzacFnRUGP7zx0Yh0oV+hpu6y70Ktlj9sy1pHXV3LNW5cus0nHe4G1b3ReILVbruZrWf9YH5brHWvDWtd4U/zyf/6p/wadHlqX5kzndh4atZtPv2q9xipJ1gy8tENKVhrOvMJXl9ITbvL62o93q1l3vhoRFq5WrYcmPsa1Wids9s05s32obrqtoDVaLtKarSxznZaklb6VV/ukZmp1Fph6l/lNKh+DTa53FDYAiLOfbZCaSc7FbI+wSeogtmw4K4TMCXBnRoe3qlCZlLTyHEzoLtY614blJ4KlbZ19LiRFWn97etS08bCOTakntd7FLpwdg4WZHoRUAGA+cbssjIo8y1DTy42P5vCSef6iEYktb8+fW+guDYyKK3s8XhDO8Xy1Fl1mtDeQb2g5xTauF+rp5pFhPmreGF2Vuevr5ueN55M2zFiDdK4HRnGhWjuqWHtDBo3DjMWuHUpe+SqZIu83Ilmoo316MZHI5Kmnu04dKBJ6/tkzuuQmgufTUstgamZj9cJmA5Gd9zujWc19Eyz2YY5Hnzohk485QgqFwMypsx+dRcDY24PFg11d6GdI3T5AYBpZ960VONMEbf0Hb3x3lkNrjT6BRdvsn6VU+URP+6Xf2X5oF3GhYXJfHrtaWAv1z6xllIbQ1JhMLG61VHXKn1xq59UQ1q9YnHxLUylMQTqKBPzU2Z/5XFTPuOv0g1Ocj8OB5X7Vfk0ocb7J3eMVNC8qbzLTlGmX90XClkHxr7ptX/44s82lh97ZkCo6jSFJ791dkdasGq0Xd7b2MmoMGZA4dvPNkpV6lifIZ3tkzlGSyEwU8f5B5guC+46Ad4Z49VUf4mBy4DcZres1SuMNvaGy4sAjG6Rq82umI1qLDtHG23cfD9nEVABgCm6vzEkWW+eHP1GXV3o1nPFk9OQ9m/st/dHtV6AXD+hzo3V+pkaTwpsAypm9ptPLQua1e4y6OLQgabKb7op9Im19ue3vGGiPHCh4ttK9lcco6GOurr0xTUGQCudmKszxr0o9dWtZ/1gXgq2q2floG3g2IKho90atLxJp97jsH+jdRBa68B6kzhGKrlvnTqjg+UDJJrHcmlsgNKgu9Zjxni7RZUxYsxXVpaOvRs68f1ue0AguLrs+JyWAbUXghptlySPbezkGGMGHCrfnw4MlfZt65gD5k1J7bev2VlvPIcOhGqff4DpsmCvE1A/oyuV/dzovG41upOWXoFsnpMs5+jFK1YrZH0Fcma/1veF1LOp+JJkte8N2c7RQwfWq39lj9rn+TmLLj8AMEWLnzyk4yNNWr+qSd1Seb9RN9EerR4ojZtgTfkvzq/Ytz6knnPH1bhqvc6+d0Pr3LoGBHdq+PX9airUQe3q2RtS94C9noPqVKg4jWqk4pb6xDY1FT4LqedcYTDHZu0cPi41rVeT5UKnZpeJmnU10kYbDzRZ+l1by61DcKexDTZ2yn/ukNYFd2pwr3XZy9cP5iNjX3jkZKdCpZ1QkqWrRmHKuo7DkHr2SuuL87J3ufB+jFTW/Mywhr9i3c/NEp3HR1m/8vJ6lSs/NkN7e9R+wVpSs3YOD8pvO36nYUDtBaFG2zWZNnYyyto6SdHjxUFky8YckNfuX83aea5HnassY/BEj2tw7yGFdltT8YGZsoCvE1A3t3Ojs61qfmZQPY4xVGwDZt+3Todez9nHUHFsr/Lr33YdH56d7mJT8Ynf//73t+a6EgBwJzH6tztONJh1N052KjTSyXa4U5hjZKzmghsAgNvK3XffPWdl0+UHAHCbM/r/NjlSjp/bPVj1daQAAABANXT5AQDc5hZr3WvHlfOacgwAAABUQZcfAAAAAACwINHlBwAAAAAAYAEhoAIAAAAAAOARARUAAAAAAACPCKgAAAAAAAB4REAFAAAAAADAIwIqAAAAAAAAHhFQAQAAAAAA8IiACgAAAAAAgEefuHXr1q25rgQAAAAAAMBCQoYKAAAAAACARwRUAAAAAAAAPCKgAgAAAAAA4BEBFQAAAAAAAI8IqAAAAAAAAHhEQAUAAAAAAMAjAioAAAAAAAAeEVABAAAAAADwiIAKAAAAAACARwRUAAAAAAAAPCKgAgAAAAAA4BEBFQBzYyypqN8vv+Vf/LJ9kkzCL38iM6Vi8qmo/NGk8l5+dDmjqZU6HTLKXK49VTWTWvY5MuW6jiUV9UeVHJvOWmHeuBy3tRVu7cW8VEc7N30yii+U9XLbmoVtQFuHO9RCuqa53VW6Ps+nopbznUs75TiXu7WVmYT1nBmfB9fjtRFQATDrMgm//CsG1PpeTrmc+e+9hLJtfkVTc3yqvByXv21gbuugjOL+iOa6FsB8kE9F5W+TUrl52F5UMa/bOcyQoLpyOXUtm8EilrSpL9entiUzWAYAVHI5rsjh8o8zCb9adgWK5+pL+6TYCktA5HJc/rZedSQL58SU1GYPquRTUUUOdxTnkdrSq8gCCKIRUAEwuy7HFTkcVuI9xwXhkjb1JTuU3vUsT94AmPI692Za4X2bFbR+vKRNL+4LK/3mufl5oUU7BwC47WQUb8sqHHZ8PJbUK4eljmRX8Vzti2xTh3o1YAZMMm/3SltSloBzUF3JDvX+pBAwyejIrrRtHsFYSh3pmI7M88xLAioAZpXRoG5zf7q2rEu5sidvWSWjlvQ/a4qhW+pzzXTovH1+/vLoudSriDUV0aW7QcUnzBXKL0uPdMyzND8jO6VXUm+b5TcuXQec6Zb2VMu4ztVc9nrSKZ2/cS5blfVpLnc0lVTckd5Zu67OtE+PKe7F9VWqj7PMJOnDC0Y6O1r2mS/Sp1xfm3zm324pyLbPCsdmKl59v6p4bErG8Wmdh/vx47mdcx7ftuWoVGameFwZ9cy6FFb9+Ly91Wi7arTrbm1XoctBxtGWlNapS5cfZzlu+2ilOo4lFS20VX6/0V6VnWMm064D02mBXifAo7yS0Yiy+17UtgcdX13LKq0Otdqy86wZe3llP5DCgaX2390fUDid1agkjWWVVViB++3zaN0iZT+c51dqtwBg1vzm1s/aH7jV/ve/qWvqX/ynB2498MADt/b+U/GTW3sfsPz+1z+71f5A+62f/dryI8dnv/n79lsPtP/s1m/cfl/4/oG9t35R+OCf9tr/dinD+I2jXMcyPvCffmH5zCi3sBxlZZbVyz59+d+Felo++6e99jqZ35eW3VyfLvWyf+ayLJZ52Otee30a29CxrmrWtVK5ldb5Lft2+vXPbrU76lXP+sE8VdhWD7jsSxbl+7fjM3O/sO6fzv213mOz+n7jrZ0r2zfL2hC3Mp3TmH+7tBvWdWIcj9blu13VaLvqaNfd2i5jGuu2dd9W9na50jnM5Vzh3BcK+6x1GkfdvbfrwHRaQNcJmBLr9bSz3Sl+V+V87XaOtm1n5/V3td/NM2SoAJh1gT/21Z6oIJzQZkt6YOsW96fVdbk8oN5wQi9GSuX7Ii8qEe7VK5UyTlz6q/u+3CpntqPlW7V9p0M6PGDJfBlQbzFyb3RhsKY0FtIe07uOVHiq6NIvf1mrOop/5JX8Sa/C+14s1XNZl1JbHHOJ5ZSLWTtOGOuzorFzGkiHlYiXsgB8kT7lcmbd612f4VatKq6/OurqWu6LSoTTGni3xlOKa0lFV8SkfZfUV6xXfesH89SyLuVyl5QIS1JasRVTewpvT0m27q/1H5vhx1apVitWbzuXeduxb8qntnhC4cOv2J622sq8fESxdIdSxePZ/I11xma7k7Ic88FYypaCfduq1XbV267b2q6CDm0rti0+rXosLH2Qdc10c01xz+WMtmnsnAbS9u1jtEtpxX5q37M7vmbr8GbjuV0HptNCvE6Ad2NJPbtLtvVdJh1Ty9utxTHDjDFUSllDwa91SIcjlgw+YzvfDj451xUAcOfJfpiXltUZVHkwUPPGpV75D7NSulct/ljZd+HHav261BXH/IVaK026rFUdimjgcpeCy0oX1cYl76iyaak37Vf5aaSj7BPHEigZbVEs7fyFMc/Ad+xramkgLH3gMpdUVC27LDOpdPF9Lau0AtpWYfDDutenbRvWUVfXco0bl1h2VKq4R6QVazOWq8N2M+tt/WA+8qmtL6e2wp9m97xINKBLfVUu8Mo404l9CjxYCtLWe2zWEyypr50z0qDTh1vk31VeV2sbYy0z/2FWCrfKljy9JKCAdc5u05g32694aYMXohptV0mNdt3t/BMOONZpJWaK+2MVpr6WVVq9SvtdbihsbbJzn61QWr3tOjCdFtx1ArzLK9llPKiqOhh2OKFLluCuL/KiEm+2KPbTjNpiQePhSFLytxXOsWElkgmF0wv/FQwEVADMIuvNi9vJzggYZL8zM29JGM2mjQbfyw3YmJHxkJYU3ndJuYjP/KzaCcC4aYm8nVHXMmngcFiJ98yTzFhWWUkdSS/LaLno35JSri9Y/MyLTMJvjszeoVSuT8HCZ57mUjKp9TkFo9m0pG1Vpwnvu6QX9axa2uJqzXWp8nNdLGjFC7MBnRtrm543nkzq2HTjpZ0zbhzCtoyqmWTc5NsiL3eiSbXr0yv/YVZGWzy1dmq623VgOs3H6wR4NHZOA2kpnXYG/iPyHzbaMPewsXEutFnWpVyuq/T35bhixcBYQGENKDsmBR3n9LKxV+YZuvwAmFXBb5enshddPqJYur6ncRVdyypd4aulgbBUGPyqTvl3B5QOJ3SpkKZdo4wCI7VxQMnUK+q1prKaT5E9DbBVSN3PWVK7zZs/w1IFwuXzNC4sCjIaOCzzdXWFC3jz5qqS+wMKK6tshUHeJrM+66qra7kVBjSzCav1y77iyPKR4uCP9awfzEuX45UHGrw/UKXrneS+f6eVvVY+TTiwdHLHZgX1t3PGvum1G6PvjwPlx56tTagwTeHJr5dulwtRjbZrsu26N/bsp7Jv/zggValjfSbRrgPTacFdJ8CzJW3qy+WKXXmM1xnLeMBntju+L7eWBpctsm+PvMuLAIwM7lazK2ZAgbJztNHGzfdzFgEVALNrSZu2bUnb+lVKMp4OtjnHEqg1L6PxLfU3r94fs/xGW8W3axT7dLqdpK0nCbOeNS3brES4V7Fdacd4C0Ft3hcue21qJuG3nGjcLiasdcoobj5dNZdMbd9xvIr1ctx8amlnnWcmYe8+VGbJKrWGHf35LW+YqGt9lqmjroVyu0on3nzqWcXSRsCkNmPci1Jf3frXD+aZZZuVCKcVW1E+XkrmpzGlLW/SWRoIS9YgxuUjrvt3b5v1zU/PKpYujIlRz7FZp7rbucKYSxHbMWO83aLKGDFm+1I69oyUbNviLmstOz4ziYhlPKfbWI22S9Lk2nWPjMD6K+X7UyJT2re7rPuW8Zagim+Rq8BTuw5MpwV7nYBptaRN27bYt7NzexhBF8srkC/HFTkcVuLbxZcka/O+sO0cnUlE1GsbS3F+ossPgFkXjOWU+1pc/hV+WXvVek+1D6rrvYSyKyLyH5Zq98cMqiuXkvyF6V3KXbJKreGYYiv8Gth3SX2RPqWyfkWK/dzDSryXUmBFRAPv5tVWMU3fHKwwrbKTuy/Sp0uKqsW6/LaUWLMf8K4W+d9M6FJfly7ts0/fkbykxE9aFHs7o65lhb6p1nXaocS+sGJv2tdVdIUlZXNLSpf2vaKWXQPKxIIuaec+tfVdkqIt8vuLFVXivcJgjnWsTzc162qMlxFI+C39rq3l1mFZl1JbehVpiyrwXp/aljnXobNMzE/GvrAqFVVLaSeUZOmqUZiycKwWtvGWlLEP2H+lxD4pUpyXvctF7WOzfnW3c2X9ysvrVa782AzvS6gjbS0pqK7cJQVsx+/Uu5gsDDXarkm36x6VtXUynuqamYaFOlrHl/DW/Wsy7TownRbwdQKmVTCWUyrhr7AfyMh0SWbtY6g4tpevrG3uUCo3O93FpuITt27dujXXlQAAYLblU1G1ZLc53pCB25Y5RkYrF9wAAGCa0OUHAHCbyysZNdPsC8aSenZXuurrSAEAAIBq6PIDALjN+dTWl1LWa8oxAAAAUAVdfgAAAAAAADyiyw8AAAAAAIBHBFQAAAAAAAA8IqACAAAAAADgEQEVAAAAAAAAjwioAAAAAAAAeERABQAAAAAAwCMCKgAAAAAAAB4RUAEAAAAAAPDok3/4wx/mug4AAAAAAACe3X333XNWNhkqAAAAAAAAHhFQAQAAAAAA8IiACgAAAAAAgEcEVAAAAAAAADwioAIAAAAAAOARARUAAAAAAACPCKgAAAAAAAB4REAFAAAAAADAIwIqAAAAAAAAHhFQAQAAAAAA8IiACgDMmBs68VSTmprc/nXqxHUv8xrS/qYm7c94K38oc8NblefIjZOdanrqhCZd2+sn1Ol5nWLByOwvO4a8HQtz5PoJdc5avSfTRmB6zcI2oK3DHWrK1wmYGtt52L0NunGys/o0jnO5W1s5dMB6ztyvoRlZmOlFQAUAZlho76CGh4dt/wb3St2rZvJEcUMnngrp0EczVgAwK26c7FTTRum49Rg616ORjU3qPDl/L62HDjSpadVZrT63sOqNqWjWzuFh7QzOYBH3rdOh4UNad98MlgEAVpn9ato4op7C+ez1xrJr2KEDTQrtbiyeq8uuczP71bSxX+2vF86Jx6WN9qDKjZOdWt/XXpzH8Wi/1i+AIBoBFQCYA4uf7FS7+nWWp8lAFTd0fmBQob3tarZ+fN86vbA3pMGB8/PzQiuzX+v7Quo557jxvW+dDr3ersHdz5FhAABYEIb+sV+hvS+UzmfBdvWstFzDXj+hQ31S++s7i+dq53Xu0D/2S9HjloBzs3a+3q7+1woBkyH17x60zaP5meNqv9Ct/nl+rUxABQDmBbfuQTUyWBypk6Wn3kZ2SvcFaXB3yJIiO4kyyn7jTOF0fl/+xKLz5Antd6R32tNC9+u8S8n2tE+PKe7Frhal+jjLPEH68IIxOHKt7LPFTx7S8GvrtNj8e+hAk5oO2Pdm22eFrhIna6QtVzyuJKNLh3Ue7sePceHY6Z5FENypYWeGgbNrkG05KpU5VDyujHqOuBRW/fi8vdVou1y6kVm3tVvbVehyMORoS0rr1KXLj7Mct320Uh2vn1Bnoa1qajLaq7IuP5Np14HptECvE1C35meGdejJxWWfj3xktpm/ymlQ7Vpty86zZuzd0MhVKdR4v30Gn/ErdCGna5J0fUQjCsn/Gfs8Vkct5cxTBFQAYA4MHVivfsvJZ+hASN2fO27pFnRc7erX+gPul8Xl3SCOq3F3yLwhWKx1rw2qZ6XZ3ci86fRaRjEwox4NuqZwDml/U0hnWwctXZlGtN5xsTS4+6z8ZprozqCkzH6FdsuSOip17x50lNuk9Ved5dZ5sXT9hDpXdUt7BzU8bD7pqFkm5qfFWvdUu9S3fpoumAfVvVsVU5KrH1eWeQz4zX1zpz1zxpiL+4VjJZn9jq5Bg+q5ut5x4+0s84ZOPLVe/dHjxd+sHuhWv23GxvFpPeaPR/vLjs/bU4226/oJdVrT14eHNbg3VJY5VNZ2SdKFbh3SC6VttbJKG+qS4t7et97cn8x2TpY2+fVGl3auX90jncb3lgBigfd2HZhOC/Q6AVNy4+Rz6r7Qrk4zyHLjoxFppV/3VxxnZbEaP+fycORXOQ1qRCPXC//fqEaXBxFuD1XmEwIqADDDBneHyp6EGn1ErWmNwxp+xnprZkTl3RndIKxpkYXUycHd/RVvlryVIen6eZ29EFLPD0oX8YufPGQJUpxV/8oevWB5arH4yRfUs7Jfh6w3oCtX65HiCfKGTrzmTB3dqePWeriW+4J6Vg7q7Hs1nlL8qhRMKT1NqaNMzF/BneaNqyQNqnvV1J7C21OSrftr/cdVqPWRshtbp8bP1prCUJZKrcVa94MehfoO2W4MbGVm+tV9oV3Hi8ez+RvrjDNn1S/rNGb69J3Q1bBW2+UyDsniFavt609ytF0FpZsIabEeaQ1JV0dcM91cU9yHzSe918/r7AX79jHapUF1H7Xv2e1fKQ/bFefotV0HptNCvE7A5JkBk9Bul664F7oV+sfVjrECS0GV5q8YD0dKGXzGdr4dfHKuKwAAt7uQ7ea+uhsnOxWyPoVxvTC+ptwFqf9Ck8pPRe3TVIaKTws6Kwx+eOOjEelCv0JN3WXfhVotf3yu0XLzadS98Sn7+ri/MSRdrVaucePSPXJNqngrO6jujcZytdtuZusoE/PcYq17bVjrCn+aT/7XP+XXoMtT+8qc6cTGU7Nu8+lXvcdVPcGSkY9uSMFa0xnZLIN9ITXtLq/r6gplGk8DV8uWA3Nfoxqtc3abxrzZPlRX3RawGm1XyZD2N623bG/7Ore3XaaVftWXe2RmKrVWmPpXOQ2qX4NNLjcUtjbZuc9WKK3edh2YTgvuOgFTEtyp4eGdKmQmNY0cLwV0V/Zo0BLcXfzkC+oZCKn76JDWPdNs/PZ1qWlj4RwbUs/rPQpdODsHCzK9CKgAwDwwdKBJ6/skqV3Hhw+pufCZ28TXRzQiqf11b2+T8FRGHa6NDBonUE83tJN3bWRQUmfVaUJ7B/WCnlNo436tdu2OgdtC8cLsrM5fXzc9bzyZ5HFVzhqkcTsyjAvR3FPD2hk0bhy8BF2nxrjJt0Ve7kRmt8BBmd0in1xsfjZ7F/Y3PhqR0RZPrZ2a7nYdmE7z8ToB08Hojtu98ayGnmmuEGQ2zoU2xYCMKbNf3cXAmF8hndXIdanZcU6vuwvtHKHLDwDMuSGd7ZPZz75wcW3e+Lgxn0R7G6TLYxmSMVhYoW+ri/sbQ1JhMLG63S//yvK6GxdB1cqtZ1yKkFavWFwcWb40hkAdZWJ+yuyvPG7KZ/zlXTRs3PbvQeV+VT5NqPH+SR5X7po3lXfZKcr0q/tCIevA2De99g9f/NnG8mPPDAhVnabw5LfO7kgLVo2268Z7ZzW40hh7oRjI+lVO09siVBgzoPDtZxulKnWszyTadWA6LbjrBHhnjFdjH0vMbvGK1aXBZS2/s26PGy4vAjC6Ra42u2I2qrHsHG20cfP9nEVABQDmCevFw9AB4y097prV7jKA4tCBJsvJyv1ivv4yJN33iFavdPTnt7xhojxwoeLbSvZXHKPBeKphq3tmv/mE1VHu90snXmMANCNgUpsx7kWpr24dZWJ+CrarZ+WgbeDYgqGj3Rq0vEnn/saQZA1iZPpd9+/+jdZBaK0D69VzXNXpvnXqjA6WD5B4/YQ6N1rHBigNums9Zoy3W1QZI8Z8ZWXp2LuhE9/vtgcEgqvLjk/nYNi3rRptlyT7TZ65XaabMWbAofL96cBQad/+oDA8VQAAIABJREFUvnXfMt4SVO3GxY2ndh2YTgv2OgH1M7pS2c+NQ9q/sb80jsp969QZtW9n5/Ywgi6WVyBn9mt9X0g9m4qjCap9b8h2jh46sF79K3vUPs/PWXT5AYA516yd53rUucoyjkL0uAb3HlJot5FO6UwJX/zkIQ2qU6FVTSr2THak1TZ/pV3auF5N5gC4XssovC1IT4XU1FT4LKSec4XBHJu1c/i41LReTZYLnZpdJoI7Nfz6fjUV696unr0hdQ9Yyx1W44EmS79ra7l1CO403miysVP+c4e0LrhTg3ut68tZJuYnY1945GSnQqWdUJKlq0ZhyicP6fhIk9YXtnH0uLEP2H+lnr3S+uK87F0u6jmu6tX8zLCGv2Ldz80SncdHWb/y8nqVKz82Q3t71H7BWlKzdg4Pym87fqfexWRhqNF2FfaV4vglIfWcO67GVet19r0bWjdd3a/K2jpJ0dKYA4U6WseX8Nb9y/u5A5heC/g6AXVzOzc626rmZ4Z1/EBThf1AxmDgr+fsY6g4ttfisra5XceHZ6e72FR84ve///2tua4EAACz7cbJToVGOh1vyMBtyxwjYzUX3AAA3FbuvvvuOSubLj8AgNuc0f+3yZFy/NzuwaqvIwUAAACqocsPAOA2t1jrXjuunNeUYwAAAKAKuvwAAAAAAIAFiS4/AAAAAAAACwgBFQAAAAAAAI8IqAAAAAAAAHhEQAUAAAAAAMAjAioAAAAAAAAeEVABAAAAAADwiIAKAAAAAACARwRUAAAAAAAAPPrErVu3bs11JQAAAAAAABYSMlQAAAAAAAA8IqACAAAAAADgEQEVAAAAAAAAjwioAAAAAAAAeERABQAAAAAAwCMCKgAAAAAAAB4RUAEAAAAAAPCIgAoAAAAAAIBHBFQAAAAAAAA8IqACAAAAAADgEQEVAAAAAAAAjwioALeNvJJRv/x+t39RJce8zCujuN+v+OWZqmv98qmooqm8NJZU1PNyLAz5VFT+aFL5ua7IHJryOriN9w/coS7HK7Tn9bfrtC2zbRbOnbR1uEPRns0x2znJrQ1y3Ie4bSvHec2trcwkrOe5uDIzszTT6pNzXQEA0yu875L6Ij7bZ/lUVC0r4grkuhSco3pNTl7n3pRa477aky5gvkifcpG5rgWAeWVZl3K5LvOPvJLRFg08Vt6+Yz4JqiuXm9kilrSpL9c2s2UAgNXluPxtWSXey6ltifm37b7COEfFlNClXJt8Mu89otKlPuNvYx696kjm1LVMKgagi38bv4kc7lDKnG8m4VckGijNY54iQwW4A/gi29ShXg3Mg4wTT8bOaUCtWrVkrisCAAAA3Hkyb/cqvO9FI5giScs2KxG23FeMndNAOqxEvBT48EVeVEIxHblcmoe2pIrBEymormSHen9SyGTJ6MiutDqSpYe/wVhKHenSPOYrAirAHSiT8MufyNT8zP5d0p7K55zWJT09mqqemJlPRatPfy2r9IMBe1T63coph/Utl7NrlDOd0Pl9eVqjPR2xVuq1GYFPJRWtkObolsZarYx8KmrbHtFUvjiPjG2d1lq2etIpa62P6uszk/Armkoq7ljuvKOe59zWnKf17DBWWN+l+jjLTJI+jIVuzN6uuLbNFsVjoMo0t48abVeNc5Zb21W7nXXp8uMsx+0cVamOY0lFC21VIYW+rMvPZNp1YDot0OsE1C0Yy7lmR2Y/NNvMa1mlFVDA9gDUp8CDhWnyyn4ghQNL7TO4P6BwOqtRSRrLKquwAvfbSlbrFks58xQBFeAOkElE1KsOtS6rPW1Fh2MaeOyScrmccrmUOg5HShefY0lFzVRA4/ucLu0LK73r2cont8txtewKKGVOn3svITmmz7zdq46vWTsppRV7M6BLxTKk2AovF44Zxf0tluXI6dK+rCKWk3sm0aLYgynL91Ksq3DTbVwURD5IOOpQ+yTeu2tArYX1k+xQb1ul35hlqFSHXDJQXsbhmLLfMb4vnuTSMb2iF83fXVIi3KuI5eLduWy5XEodsk9TXpdCCqfbOq+9PiUpvWtAAXPZu5bJ3PYq7S9JKbYrXb4OJrGeJRn744qYtO+ScoV01JplAgtNRvEVMQWSOUtb0SEdjrj2S8+noqVjILawOn96V6PtqvOcVdZ2STXbWRtLinv5ubPOtl69imW3Gd+7pL17b9eB6bRArxMwJfnUs4qlO7StcP15f0BhZZV1BNKyH0jp7KgKwRXj/y2uZZUu/M41KGMo+908Q0AFuM2kd7WUPXWz9kectHBCLxaj00aaXnrXEeOEuKRNfbm+UiqgJN+XWxWuMrv8h1n7B2XzyGjgcHkQqOM7lnTCL7e6NOBVXB5Qr205zJTEcK9eSZUi6Fa+SF/pIrZSSmM4rYF3q0fP7amSXUptSSv2U5cL3rFzGkh3KGW94XGd3i1AZjm5yadVj4WlD7LFDIxgzHkjZUT+K3Jd3j5LkKLW+iwsvLXbVl7JnzhTR7uUstZjCutZ10rBlNLTlDrKBBYcY7yOLms7sKxVHS5TjhaDKfZ2+rZVq+2q95wVdutyWr2dtXJNcS8Ewetu6+V4sGDnuV0HptNCvE7A5JkZdy270grv21y6r1iySq3htOUBpKTLRxSzxMCCX3MG/I3tfDtgUFrgNuM2KO20cHa9uT+gsAaUHZOCliBI3B9RqXkMq7XC7HyRberYFVHE3+te77GssuGA7MmBzlRAb/IfZqV0r1r8sbLvwo9Jkk9t3+lQrC0i/2GjPNsNiBk93+ZIaVz1WFgxMwJfSeCP7d8tDYSlN7PKO8Nc17JKq1dpv8tJxnoxUbZuKnzmwnhSbTnLVbr4dl1ey3xqrk+Tbd8ZVTYtBb7jsj4KwaxJr+e0Ym3GcnXY1ncdZQILlvmE2HJI24Iq6ZgiaeNTtyd/t6UabVdJjXOW87wn1d3OFlPcH6swdb1tfZ3nvbrbdWA6LbjrBExJcbB047zjz6bMgK5PbX2XpGhLaVtvSSm1pVcR62+Tkr/Nb7a5YSWSCYXTA3OwINOLgAqAqTO7WKRlBEZyEZ/5WbVG0ny6qsKFYIv8u0qBlfy7A9L/z979vLaRHn4c/xR62D/AJoHN0q6s7UEnIwKGsNEqpQazt2Dhg0mhEt7ElBzXWeOse6jX/mrjHENxssYuNBiqr0xui8Gl1spLwDQVPunQlcUum+Ub1763N38PMyPNL2lmJNmWnfcLArE0mueZmefXPPM8z3z8ZU+rxB9rJSmdb79auKuymL0R06zVsdJuv7rfkzgaI3d6MKLIRyUfU+aZzP2vNVdQ73B/oc5nD4U5z+lHe/pSn2lkYkljF+6tVkAUts6Au0XV15KNz5zSyr/8UpobUSY/9hZM9wmhozqrt3pV1ve6XAd6qR/bCegF6wHkliqzSbMMG9TEWt3WVj5SIefqVHa8vU7SqyXNNjrG/B7UGjxrr/QZpvwAkN9UFw/3kGbbXMejb7dUShvzWBujTF7XFHaFCmN4qDmH/esdHVmvS/6w2+rXeVzvxdOStfhVcKw0sWbNkTeHkLaZIxpU2LsX1PqxVvJ9+jn4y7gUZRpTaBVtPZM5l7/5mru21933eJuinc/GrxRPtzgfbcMNc57TGvtwsPFWq+YaAiHCBC6aV1ta1ZSxDpXVSfKmppp7u/SYbl01Gr+t1le5dALKrm7rrHBarBlgfduTsr6Dch3opQvXTkB0xno17V804bMgtzkty2rL+76A4W+r0t0xcypmXHGVVHvt3O/WM+8o735DhwrwFnovnpaePWku3OWa5+irNKvPGoVpRUsTq875k/YK801BuYn28yKN1dvti5IdaefrktIf39KgflStg9clBx2X90ZbjbdkGJWAuRK943tbheAzR9RYmCsd2PnjWOzw1ZIyz9LK/87nueT1T5R3z0M1K6qgtyaFYW+gVPIj7a+7dbx/dp8vY9G34PPpx7ix854Pn3A7OM8GY42f5s1jiDCBC8l+Q2EsUtsyS5trEKxOvAVvgAkouyRFrrM6YawZ8MT/bXQ9LOsjletAL13YdgLCM6ZSORftdt8HGGs3NV+BfKTC3KxKd+83ps0PfjimtP0VyJ62cFKfPEo76qhKPqPVdF6fdPNSjTPAlB/gLTSYWVOxFlPmRkyzkneeo5+7eY19bUzLkZxrnjT215gLnlb+ZVHxGxltfXukCZ81Xby/MeJRzwxKr77S6q/GNOf5VbfHldRcvSjFrDVSDFMFa2HHQU2sFVXz+d6oEIxRK/F8zDYfOB1qocepR2PasuLV9jc+81DVi7Vxkpp7mVfuRvMa6m5Re4+eaOSBfcimf1xisUZMbHEPOp8tXJ9TvbCkWON8TCn/KK3Zr+3hdnae7WEU764qM5FT/OWaJq7Pae9RTiMtwwQuGE+alqYKe8r/aUSzf6to7ro3RydnjbfMZHLxMxuCfz4Cyq4O6qyOeMo6GfWcOaKo+7K+k3Id6KUL3E5AaIOZNe3JWd+4y6rk7J7yrjVUHFNMr05orVBzrqHiul7ee4MpFev9X1f97OTk5OS8IwGgvxnzsYvMve+IuaZBUOMBZ+6omNNI7T7pGgAAAB1hyg8A4JLzm8pV0GcPSm1fRwoAAAC0w5QfAMAl13oqF6OGAAAA0Cmm/AAAAAAAAETElB8AAAAAAICI6FABAAAAAACIiA4VAAAAAACAiOhQAQAAAAAAiIgOFQAAAAAAgIjoUAEAAAAAAIiIDhUAAAAAAICI6FABAAAAAACI6Of//e9/zzsOAAAAAAAAkb3zzjvnFjYjVAAAAAAAACKiQwUAAAAAACAiOlQAAAAAAAAiokMFAAAAAAAgIjpUAAAAAAAAIqJDBQAAAAAAICI6VAAAAAAAACKiQwUAAAAAACAiOlQAAAAAAAAiokMFAAAAAAAgIjpUAPSBfS0nEkrY/k2/OHZucrip6cS0Ng+7CKajfexrv9JFmGfmosTT3/GLaSXubeo4eFN/vUgf6F+VZUf5kEgktHwR0vvhpqbPLN5GOXohzsuldQbXgLIOb6mu2wnomf3HCSUe7/t/3qjvluXZwlWX+5WVgfvoQ3SoADhXxy+mlUhMSs+rqlatfxsaepjyLazP1r6WE5PaPudYBLso8QSiO34xrcQdaaNqKyN2FnRwx6fjtY/sP04ocWtbozsXK97oxrBmqlXNJE8xiCvjWqmuaPzKKYYBAK1UljW55v34+MW0Jteyjbp6I7euSXsHWGVZiTvryj5vtvV1x9mpEriPPkWHCoDzc7ipzx+WlX3uboAOa2ZnQam1SZ62Am+1Y32zVVZqMath+8dXxvXFYkrlrW/6s6FVWdbkWkoLO64b3yvjWnmeVfnh54wwAABcMPtavnOg1E335966evjTDWV357VutuP3/74u5TZs7f1hzTzPav2p1WGyr/WHZWWfz7TcR7+iQwXAuTl+ua3yzQVl/Z7mXRnXit+Tvpf24YLOYc9+QxBbDUtscA0/bD45NkZ9rEtav2Pbh88Q/uCRNMfavJdoGW/v984hjtYxOIZB3mtWQN547ms5Ma3NF8ve/bU83tOL+/SLzcaULquDzBiZ1PzNNz4hO4d9Rhzi3rhOzfi4w9xk+PCFUT547fls4PaKqk/HNWD+HZj/rakSL1qXIZIC8kibvGXf6u/rUm7afxRBckZV9wgDd7niOI5WYTqnSk6/OPAJrH3+vNwCyi6faWT2a+1XdllTDvZdZUnznPpM+XGH45dGW8XxcFPTVllllfueKT/u43zbrjPO3wVtJyCiY23em9TB4hea/iD6bw++k1JD15wfvxtTareu15J0eKADpRR7177BsEZz0sEP/d1So0MFwLl5fVCWPhhq3BAFK2t+K6ayORSwvCjN3+q84eidSmBMNTIa1cOaqW4oKxnDEz8dlrSv5VvzGrJPT3qeldqOpDnW5r2U5rXQIt77Wk6ktD1WbuyzvHigSXeDeG1S279uxjO7O6/PW8bTfa6M3n7jeA+0sNOcfqDG8Z5e3MsPtxUzw5xJSqosK/VQzXg8l+Yfll3hJjT5nTvckI2lw01N35qXFsuNYw8OE/1pQOP3jDzWmwZzWfMPm3neXYa0LxNs+3DlLacWDcdWKsuuqUFlLXw36brxdodpNGzXcxuN34xuzWvdsWMjf85/sNHInxu5dW/ZcikFlF2Hm5q2l4XVqsqLKc/IIU/ZJUm781rRF81rdXNdk6061X2GuGfXJs30ZJZzal6f6vMhn3JuXfMH08b3tg5Ey/5j5zWuVjeUVZs4AT11QdsJiOz4xeea14K+uO3Xah/QR2MplR+u2+rTFa0rq9Gk8f3QBz4PR36qq6wDHRxa/x/SkM+DCL+HKv2EDhUA5yr0TYcpe6/ZoBy4MaqUVRBHZgxPtA8ttIYf2isEJ5/58clRZdsFc/iNtndTWvijLd63V2w3+ttav+msoAZuf6GFm+tasd/EOUbyGD32QRVMauwjW+PbGo75RfPJeNC0iZ7FfVQfNSrIY20+XXfGIzmjjVxQuF9o4WZZ2y8DnlL81OxMWWnEK0SY6F/JGfPGVZLKmr/V3VN4e553ptfwZYIzb/kb+kW4ruL9v7vSpgY0/scFpdZWHDcGjjAr65rfzWqj0YFq/sa+48q21mXfxhw+rXVt9/nw6a4FlV0+65AY9YmLo+yyZDXdKFuMmwh9d+BbhvoOca9WjbLp8Btt7zqvj1EulTX/F2fKzv7a223X2OOn9o50I4xRyjaclYvYTkB0h5v6/KEc59tt4PaK2Vlm1NGprVGVbQ8dhn/tfgBpXOfL4OfnHQEAbzejUyDsGBX3UMBuvFZ9V1rfTchbnLftIlHjicxuiF+YPe7TLRYQPP7hQNpdVyox7/kuNWb7I9JIHoPzhs443qF7zr0M3BhV6qEx3NKz/1OJu388rg2lpO/ahWvcuMy3TS9lzd8xnmBlQxy7I0z0uQGNP61q3PrTfPI/eS+mss9T+9bcZYjx1Gze7JwMWyaE6Sw5+OFYSgZtZ4xmKa+llHjojetoizCPfziQbo7K0R19ZUhD9j37bWPebK+EitsFFlB2NTWnTBqc59y33L0ZU7jHAOZIpbEWW/9UV1nrKid8bigcHSLh6r3jF9NK2Z/g06mCs3Dh2gmI7libfzAeVLVeDNtsF3+woWp1xfjInO7YWCcxOaPqcylxx6pjU1p4vqDU7sV/pQIdKgDOzbWhlLR1oGMN+1Z9+48TWhmyjzToocMDHUg+C+K2Y2t85zZUfTrc+KxTrw/K0s2FiDeFPfRTXWVJ0x389Kzj/vogOKapxbK+0OdK3VnWqO90DFwKjYbZtr45HO/NG086KhP82Dtp/HKG0fCs36tqJmncOKQWT6mc8wn74DvJ0fPyNjKnBZZlnPvq7QHzs7Nr2B//cCApq40uy6n9xwnzjRtZbVRXNGx91pNYAt3px3YCIjr8Rtu7UnnX3fE/qcSaWYZZoyafukfcrWvy7/uaSQ43PqtWZ5rbVJY13+gYiymlbR0cSsOuOj3qaPazxpQfAOdm4PZ069W7Dze1shZ+2Lw/8+bBj/k0N9JCV9YQ+qptiLV5E9bSu7G205KuDaUka0GuU3VNsZve4zWeYrd44noqcfePh9EIahdumHUpUhq9MWCkK8caAiHCRH+qLLdeN+XdmHeKhoNf/i+r/pN3m9TQtc7KhBaGf+udstNQWdf8rjXqwEibUeeHD/xiyJv3XGWR7zbWk9+uytULIKDsshZEL1vTb6RG53LvtFgzwPr2F0NSx1NWLfvaXjPXz2p0zLSp94Beu3DtBERmviSiavu3kZPxYDFCh/Cxz4sAjGmRo+ZUzCENeepoo4zr9zqLDhUA52hY2cWU1l3vobcWfy075p4HuzaUkuw3MZV1x7Qcv7DdixDuP7a/QcevUrdX4GY820XqykcavemaE297S4P35l+NN36Ef2W0f+PDyVowzHa85murW64HcSpxNxYZdcSjsmw+YXWF+4dmxXv84nPN7xodJsGMdS+ac3VDhIn+lMxq4WbZd/Hp/b/Mq2x7k07Y/L9+x74I7eea37XWxAhTJoR0ZVzTubJ3gcTDTU3fsa8N0Fx0155njLdbtFkjJpl1LYZqDMl2lEXJUU/+3H88aVsk8BILKLskOW/yzOvSa8aaASv+b6Oz0vYf7GnLeEtQ8NvXnOxl//7jVJt6D+ixC9tOQE956iQ1rpm1BtTAjVGl7A9RK8uaXEtp4beNVVbMe4Jm3bf/eFLrrd4G2keY8gPgXA3cXlH1xqambyWUsH3eGIYdcV8bBwlN3kpoXpJyG8ZwwzbblzWtlLW95Bqaas7HfZhSYmtB5aczKi86t88+L2vhaUrz9iGNzlA0/rQs3Usp0TjAlBZ2rAURjbf0KDGphK2xEG3agTue/uP5B26vqPqLZSVs8W8/1eCU4p6cUfW5PR5ZLSymNL9lD7eqoccJ27xre7ghWENN70wrtrOi8aT72rnDRH8y0sJHL6aVSiQc37jLiHD5P6WFRWmysS/nlIvgMiG84U+rqv7amd8kn/zhmVfujZeXN2+mFheU3bWHNKyZalkxR/7tforJxRBQdllppbF+SUoLOxsaujWp7ZfHGu/V9CtPWSfjqa45wtGKo319iWjTv4Y1s7Og6Vu2ofi5DZUXV5R6uK39T4ffgmuN83WB2wnooVbpoOp4EcLK87pzDRXX9RrwlM1ZbVTPaUp8BD/7z3/+c3LekQAA4Kwdv5hW6mDa9YYMXFrmGhmjNLgBALhU3nnnnXMLmyk/AIBL7lib98xh9hZzulO715ECAAAA7TDlBwBwyQ1o/OmG6l1NqwIAAACcmPIDAAAAAAAuJKb8AAAAAAAAXCB0qAAAAAAAAEREhwoAAAAAAEBEdKgAAAAAAABERIcKAAAAAABARHSoAAAAAAAARESHCgAAAAAAQER0qAAAAAAAAET0s5OTk5PzjgQAAAAAAMBFwggVAAAAAACAiOhQAQAAAAAAiIgOFQAAAAAAgIjoUAEAAAAAAIiIDhUAAAAAAICI6FABAAAAAACIiA4VAAAAAACAiOhQAQAAAAAAiIgOFQAAAAAAgIjoUAEAAAAAAIiIDhUAAAAAAICI6FCBTUVLsZhitn+54tGphFN55Qxzyfz7qJhTLFfQkc93p6mSjymWr5x+QF07u3NyFpzXu19580Xz35K6TjVvCsrFciq8ifazo2LOFZfo+zhTruPseZ7r8DziLfBqycgj51zWXIzyDt05gzqasg5vKcrQs1HJB9//+bfhjlTI2dqljmvl+q5V+/VNQbl23/epn593BNAfjoo5jTwoaapQV/269WlFS7ERxWpF1WeTPQqpoqVYRirUZewxqbl6vUf7xkUzmFlTPXPesQhnqlDX3HXnZ5V8TJlcXHtrExo8w7hU8jFl/pXXXn2tGe6rJcVuxFTziWdfuDqhtfrEeccCb6HK31aldFrp0qy+ejVxbvnjIpV36NQZtGkoSwGckko+pswzKf2ozUavlpR5Jumu/cMjFXIjmlVee3WjTXxUzGkkJ7ONPKiJtbqcJZf5m1/d18RV86PXNZU0pWJ9Tr268zwLjFCB9Kagz8zOFGdDM6m5l3mln2UuzYgIoJeSv8srXdrSzpn2nFe09Uya+r2rE+f6nIp3pdW/XYSRVsBZsfLLlxpLkz8AAPAyRtdlnqWVTgdsN1HzbvNmR1ultPJLzbbpYOZL5TWrr1rcQx4VP9NsaUpF20P7o+9rUjqu97o4kvNAhwp09O2WSum8PvF7and1Qmt1V0eLeziWe8iXNbza870xOmVV0uqE9XmU4bF+w8XsUy4qWorlVCguBU7HqOSdQ9JqgWGFmdrhnhri+k3b89Yq7s595oremHYSV8fxe4bTmdekaI+v8b1jmonPsEvnfp1D9I6KOcXyhUZcc8Ujn+Gb7mNxDfNzpy3XtDRrCKL7+jrj2cm1DS/qOfBopJP28ap97/1tcrZuG03mdx29eS04LbTIU65r4TiWNwXlYksqWOklV9CR7zD1mvNauMoS97SmSFMQfc6jc39m/Bg+fKkdFZ9oVVMauz6oWx+npWdbrnzVaXnXvhwxhkwXGuX30iu/4ert64xQ5fQrdx3hTs2nW971t+7rk1bXsOIqS5ztEFc527JN1AynZRxDlaVBbSPgtAXktQ7KS8lbZ+/4hNw2/yC0o+ITrd4tql7/UmOtt1Ihl1Ht0Ze6/yvXV69rKimu+FX7h4OK/8q/vdp8mO8cifJjrST9Kn6mo7574gRvvX/+z/sn7//PP8Nt/I/Fk/fff/9k8R+NX58svm/7/f/99ST7fvbkr//n/N69fau///2/2ZP3s389+bfPd954usK2/m783t+//zd78v77iyf/dPzt3U/2f//d8jde7riY8bXi8o/Fk/cd5+XfJ3/NBsXdvY35d7vzb4XbJq7Oc2zbr+u82/dh7NN+TtznyB1X7zFb57kZd3dc3PFwnXdP2rK+b35mxdN9ftzxjnK+vGm21XlrFf/258BxXP/315OsK+35aaTZ99vF3bqOtnPmd03CpAVXnvLmB9d5No/DkR5c1y/wWv1j0RmGz/V3CDqP7jxolmVB5QUuMv9y1pmXOynvgusIYx8+5ZU7b7WoMzopp731TCfl3WXRq/rEb5t2dZ8rjbVoMxm/D643Q5elbdtGwGkKyGsdlpfBdXZwmwudMM6rXzvUXi95yh3fNppPGWdy3CO5t3/f/u9iXE86VHDyz/8JvoGzb+vJGPYbH0+DzrOHjjtUguPjLbSDwz858WT4fyy2zOQt9+2++fOJp+e3jsLHJ+5++zQbV87Gmjvc4PPm5nfe28fFdT7+768nWZ/jt18fv04pR7hBN8x+/BqWrmvnSCMdnS/rxsXnnz2sNpWJdZ58O+as3/0jXGdK23g5jt0/PwR1oAamBfOYPOfLfm7d6dR+nC1vApz7CO7EdGl7Hv3zr3+FjkvDJ096r3mq78GAAAAgAElEQVQH5V2IOsIvbTnyVkCd4Sc4b/rdzHdfP1xIp1SfBNZjgQ+C3OG1rzfDlKV+Ij0oA7oRlB47Ki9D1Nkh2lzoRItzGNiG83ZwNTrBPGVRq3rIpzM48L6yP7AoLSRJpdqPUuAAqyPV/iWlP3bNbLs+pik9Ue2NlLz+ifLpEc3eiGlWku72ckFbMxbmAroNd53fx3/Z5jje1FRTWmPX7B8aQ9Ia+/++JpVWNRKb9fw8/XGLOH1fk9JjLeb8Geet9GxEsQeePTqG1tnj7rvPq3HFA8NNauyu9OT7I+l6m3PxakmxiVVbVJyD/NqeR7fXNZW0qlJs1fud/fq0mxdpDhe8f7XVBpbm1DFzp87hiW2GCnZzvvwWpQ2OvzHNYNaev3zPQUmzE0aangp93o3FD+fMv4x8MauRfNyR59zX8b14Wvq6piMlnQvahk4LP6pWklZLMXmv9pTt/2nFr3k2cEjHXWfiWlxpbRllSea+ph5klDHTVPrRntYyQeem1Xk04hz/vc+5+FfALnFhGdNZx/SlLU8mfzMlPdvSzpuJ5iJ4ilbeha4jIpdFProop7uqHy6606xPQs/vb9FmcsQxRL0ZoiyVgttGwKkIyGudlZch6uywbS70wJEKc7PSoz1Hvek0qIm1PSk30rzWd4sq3l2VZy32V1ta1ZSKnja1s10rSbLuK/9c0USP7yd7iQ4V+N9g2VTyMT2J72mt1dsJ3tRUk8wbfdsqzq+WFJvIKPZMPelYsVaelqZUrK8paX3W1V69fqyVpHS+h29uMSqGcDeEvWA04hw9L/ZvG42utPIv65q4an72dRchfl+TTntV7jcF5W7MqiTjXNYzg+ZnW13uuP356taPtZKk+4HbpR/t6Ut9ppGJJY11cB4HM2vaU04jD7ZUmU2G+n1HacHM74EdTF1rVqxGPI0OyaB81O15xGVR0VcPSpJKvg35rW+PNNFhedz7OsLrNMppc8+nWt5dGKdWn4TXq3rzrNpGQCfOorz0hBeizYUI3uxoqySVSu4HwxnFntnLMPebfI5UyHk7lSt/W5XuFkOWe86H3v2KRWmhwcx9TZVarML8pqAnz6ynYEaiNkaz2PguRCTp+pzq9brqhSmfhQCjMt/UUKir3si4ZsMwiqtxxVVS7bX9Q+d+3ounpVJNP7p/28bgL+NtfvOejF1G2WOLfZo3s+3DNXv2fZ9cHmnn65LRgKyvNXqajQqoc4O/jEuqqdbNYmDX4kq32Ye1ePJevd68oX5dU5SYRz9fEfjG33xC6R6J4ZHW2IeDRl7UqjLuhZ7teyzmWi44aFwHJ/diYM0FvzpMC+YoKd9FxiIKW5YMZtZUr9e19yit0tc7bRaRbXUejTzoey5wOb3a0qrZGVGvO/8V70qlB191XCd1Uke4ta8zelNOn2p51+/OoD4J1qLNZH3bi3qzV20joFMBea2z8jJEnd1VmwuRmC8ocdejulu0lTs+C3Kbb/4Z+9Be37S5Rr4vL7gY15QOFUhK6pNHaa1OuN8AUtHSjVmV7hYbT6KN4dL21yhXtDSxKt0dMzLUqyXPKttGT6T5fYtCMiz77yr5Ec1Gbv1Yx2p/88dnjv343tSabwxp+Tai62Oa0qqe2N+w8GrJvPEd1MTv3eet/Y2xsc9PlE/b42EMuXMcshmuPa6VfMZ8q0Xrs2Bv4B0Vc+bTrS5c/0T5dEmzc943WIR+M8vVWxpLlzT7Z/d5t6Une6X8pqDchM9Q6bbx7Ox8hWLF33YOjLTlrkzaSWqu4E0rdo306ffWkT+tKv3oE0evf+nBZ83z92pJmWdp5X/X3CJ6WjDykGO/Mlfaj/rGHJ+yxIq/N3+YN5kf3wrxlMt9Ho086D0XUSKLi8Sod+77Dk9O/mZK0qq2Qr1dzqujOsKtbZ1h6LqcPs3yrt+dRX0SgtFmeuItK/OV3tSbpu7bRkCHAvJaZ+VliDq7J20u9I4xnXT1T9b1MO9ZPPVwm059n7RkvVr5/pmM8O8cU34gyXwC/GFBuRsxxWyfN4bCWq7Pqf4y7tzOPp3n+pz2HuU0Yq2hIplD/awbOHN+44MRxb7Oa28t7LjjpOZe5pW7YRtudreovUdPIk1xsI51TzmNxGKN+OXvlprxVVJz9aIUM6crmdpPcTB+sxSzD4ezDYO7Pqd6QYpN2NedCBrq25yP2Ijqo7ymSvbh60nN1fcUt23Tfr+DmlgrqmY/tnRee4W4Ria86wqE5zN3UlGnOXmP1xjubj6hzaypWIs11tQwvisqfiMTYfh+1PMVhTHUMZ6P2c6BLf5hXZ8z5pxO5BT3/a0xFWbMEY5hqlDXmiuNTj0a01YjP9rj03laaOQhTz6POKT3bl7xP8UUMxv/9vQy6LneMsqasOnJfR49ZdOU8o/Smu16CgX6jjmycqrQIlebndWzf6t0OG2tkzrCfx+t6oxkT8rp0yzv+t1Z1CchXJ9TvbCkmL2stLWZuq83e9c2AjoTkNc6LS89ecddZ/eozYWeSc7uKe9aQ8Wz3IPvWpYWv7R0Meqsn52cnJycdyQAAL1mLLaoU1/r5OI6KuY0Urvf84WzAQAA8HZgyg8A4JI7UiFnDrO3vCnoswclTf2GzhQAAAB0hik/AIBLzmd6k87iTUUAAAC4zJjyAwAAAAAAEBFTfgAAAAAAACKiQwUAAAAAACAiOlQAAAAAAAAiokMFAAAAAAAgIjpUAAAAAAAAIqJDBQAAAAAAICI6VAAAAAAAACKiQwUAAAAAACCin//3v/897zgAAAAAAABE9s4775xb2IxQAQAAAAAAiIgOFQAAAAAAgIjoUAEAAAAAAIiIDhUAAAAAAICI6FABAAAAAACIiA4VAAAAAACAiOhQAQAAAAAAiIgOFQAAAAAAgIjoUAEAAAAAAIiIDhUAAAAAAICI6FAB0DPHL6aVSCRs/5a179pm/3FCicfuT6PpZB/HlX0d2+N5b7Pxt3Ss/cqx/w8vpX0tW9eoi2thXe/lShfht4jD/uP26Ug61uY92zaO64lLp7LsKls6SXfn4HBT02cWbyNfXYjzcmmdwTU43NR0Ylqbh6cYBtCHvG03nBffdrhPfZdwl1WuutyvrAxu//UfOlQA9IDRiExtjapcrapq/isvHmiyDxp+xy+mlXp60Ph74PaKqk/HNWB8q817Ka38cF6xO3vHL1a0fnPBuFafDne4l32tPywr+7yqmWSEnx1uajoxqYPFsplONpRdm9T0C1v31otpTa5ltWGmo43cuiZdjaj9xynNyzyGalkLmleqy4469KfjF9NK3FEjPVSrVVV3FnRwJ+FIN/1m/3FCiVvbGt25WPFGN4Y1U41YJkZ1ZVwr1RWNXznFMACglcqyJtd8Pv+prrKyzrraXlZVlpW4s67s82qj/ac7zk6VMO2/fkSHCoCu7T+eNG7QG50UhoHbK9rIlTX/h/4vDN8mrw/K0gdDjmsVXWc3Dvt/mVf55oK+uG2FPqzsYkrlrW/MNGJ11MzI6uoZ/nRD2d15rVuV7uGmVtZSWvijld4GNP7HBaXWVs698w69dqxvtspKLWbl6Pq7Mq4vHOmmz1SWNbmW0sKO68b3yrhWnmdVfvg5aRUAcMHsa/nOgVI3vd8c/3Ag3YzpWqtf/n1dym3Y2o3Dmnme1frTzfDtvz5FhwqALu1re03K3hv3vUEf/rRqGw1iOXBO17CPLPAbzhw4xNk1/cM2RPD4xbRSD8vS7rxS5j6aw0aN0Snzu1L5Yco2lNS9P++wQ/f0prZPnK34v1huPQwyMMx9LTv2YX7nN8Sy5UgNI4zJNUlrk4047D9OaPrFZmMaTuNpgWtopvMYjX3ZP2u5H9tvDr6TUmMfeTreGmnk8EAHSin2rv13wxrNSQc/mGH9VFdZQxpy3Kh+pNGbZdV/anHocl+zZW0yfPjCKB+89nzmHGnmPwTZ8VmofKiAdN8iH7oYDcdp/1EEyRnnU7tG3Frl4VZhOqfOTb84kFfrsvHycx97+6Hn7mvtV55Zdce+qyxxltOuss8djl8abRXHw01NW2WVNbXRUx8G11fA6QrIawHlUKu2g7vO/sYn5Lb5Bz12rM17kzpY/ELTH3i/bf+wzmz/Dbm6W96NKbVb12spXPuvT9GhAqA7vgVggLV51e9VW075iGZfy4mUtsfKrqlGRoU9cHtF5cWUdHNBZc8w6QGNPy1r4aaUWiw3bs72H6c0/8GGbcjihrJa16TVEK4sK/VwqDmscWdBCnziXNb8w+a0hfKiNH+r2agIDNPax1bMnOYyo2Hta/nWvIae24ZXPs9Ka5Mt5vAPaPxpVRs5SbkNx01d+eG2YubUhJmk3zSLDQ09TAVeJ/d+nF6rvisN/UKtO9T8OkusfZs31e2egrSsdCvLSj2UFqzpF8+l+YfltseCfjCg8XtZswOwFw3m9vkwXLp350O3Fg3HVirLrqlBZS18N+m68XaHaTRs13Mbjd+Mbs1r3bFjo2y0lysbufVG2Xi5mZ3ljWmBrmt9uKnpOwfN8qBaVXkx5Rk55Fue7c5rRV80r9VNdzlt4zPEvVnfmR3cspX7z4c0f8udxtc1fzBtfO95OBG27gBOS0BeC2ijWTx5LbDONvPPd+5w6VQ5LccvPte87COMHd/q4DvZ6mp3fT2goQ98Ho78VFdZBzo4VKj2X7+iQwVAD/gXgC3dXFDWNuRvNNdFYVnZ1vpNZwE/cPsLLdxc10qHnTTDn7rXFjHiaDn+wfUkOOScdvswRnccg8K0OEd3+Ey7SY4q2z4a/m6O6qNG/I1pFvb4WkMzyw/X29+MOfbjb/3O59IfnTcY3S5U3N6xNp+uK7X4RfMaJWeMjiX0v+SMeeMqSWXN3+ruKXzrfBg+3btHWfkZ+kW4SXX7f3elzRZT2BxhVtY1v5vVRqPMMH9j33FlW+uyb2MOn9a6tvt8+HTXDr/R9q59WqA5osnqAPMpswdujDrPn9SiPMtqulHfDOijsZT03YHvSDffIe7VqlZuD5hxdF4fo1wqa/4vzpSd/XXrta7C1h3AqQjKa2HbaK42SGCd7RvuF1q4Wdb2y/4ezXAhHW7q84dynG8n44GZcq07iId/7X7gZ1zny+Dn5x0BAJeB0bs8HLZTpev1O5qOfziQdteVSsx7vkuNdblva7qQxazMB25PK/twUpMJoyJILZaNBnJb7lE8Rm/9/MFryXY2WoVp8b9Ja05dskTuVHFcE6NiXN9NyFvVBew5xLXNPrffyJhzaO+saPO3KxqPFOmwzJEx95wxuzaUkr47lQDRc8boqkb6MJ/8T96LedZuaq9dPlTodB+ms+Tgh2MpGbSd8VSvvJZS4qE3rqMtwjRGaY06R2ldGdKQfc9+25g32yuh4naBmU86pwPrpH0tJyZt19t5zn3LszZrBDhZUxxbbP1TXWWtq5zwuaFwlPvhRoAG1R3AqQjIa6HbaD5tkLZ1tm+4Rgenu12Fbh1r8w/z0mK5zYND8wGf/aNkVgs3U5r/y77GPx02Ho48lxJ3rDo2pYXnC0rtbp9y/E8fHSoAunNlSEOaN9au8CtoDzc1fauuad+h8d17fVA2pvNEuqlqb/+xuc6IstqormjY+qyxRbPiMBqxxs1QuI6VTsP0/VXzZiC3oerT4cZnXTk80IEU/Q0+nXo3ppQObP/f9u2gs6ZQDPxiSDLn3LrPdthRAbjgGg2zbX1zON6bN570LN37d5Y2GR2g9XtVzSSNG4duyo5ozGHZQ4EbXm6Hm5q+Na+yzOmetwfMz86uYW+MdMxqo8u6sbO6Azgbp9FGCwxP02cQ0lvk8Btt70rlXXfH/6QSa+3KMKMudEjOqFq1dbtUljXf6BgLbv/1K6b8AOiS8ZaW5irdTsZbXcI+0Wvhp7parXZxbSjVuLnuDXOR3ef29RHMmxAfxtBWc/592zeOuBdMta+zEC3MBmtIv/31x+ZNYVfMJ929XwSsxeJi9nmzV4Y05DlXxvlpdJaYHTAHjsUbjeG//k9yryl20xuu0fBCX6sst1435d2Yd4qGg18eapMPe5juh3/b5q1TlXXNN9KqkTajTnm0dyo2uPK+7zaNdYwuecejXxlhc/xyW2Xz1fGNjqw29UxnWqwZYH37iyGpTRzD6bDuAHolIK911kYLUWf7hhtx/SqEc2VcK45XIdvX4jPLHd+XRzivx7HPiwCMaZGj5lTMEO2/PkWHCoCuDdyeVnZ3XilXQWm8Tz7VZs6lD7NAbc4hbz/HcuD2tHcBPvONGdY8Tf8bi8YefBu99op8/7FzOo2x8rx9/Qbz1a4B6yqs37Evfvm55nftc/Hbh9mavUFhLFLb/U2B+Spj1wKN+48TXb8VZ/i37gV897V8x1ahWh10d+wL9hqv5W6su3NlXNOO13Ebw1HLrd6qYi5s6jieyrL5VBd9LZnVws2yY+FYy/5fnNf82lBKsndiVNZ981DrfNjDdG+lUfcCiYebmr5jXxugueiufSFpbxnjksy6FkM184Bjm1FP2bj/eFLrymr0LEaenSfzrV+OtUjcDX57nWBel14z1gxY8aanx/vNtP0He9oy3hIUdZH2zuoOoAcC8lqYNppXiDrbCteWf4zyPKXRG/19830p+aQDdzt34MaoUvZXIFeWjXuE3zZekhzc/utTTPkB0APGFJjRxwnXPNlOhjMPa2ZnQQe3JpVYk4LnWA5rprohJaztzZDtw/aTo8rKWPMk+7zqWQVk+NdZ6U5z6OLMzoKmb9mGNuY2VF5cUerhtvY/Hdbw7RVtHCQaa6hY21TbDtlPaWFRmkwkrBjazs1wcJh+u0zOqLw4rdSthKyznn1e1sLTlOb/vq+ZZOcDyQdur6gs5757Mmz3yrhWdqRp+35zG45FFQc85zerjaoz3OFPy1q4l2qmt5sLKn/a5ng95yqrhcWU5re6ORicPmPtlI9eTCvVyDuGxlQNa0sr3VjXOLdhvNXG+as2+bC36X7406qqv15Wwr4v+Uwp8swr98bLy3hDme6lZB1KanFB2V17SMOaqZYVs23TiykmF4P3/EgpLeyY6zd5ypiUFnY2NHRrUtsvjzXeq+lXyRlVn7vSgK28s+JorzejTf/qsO4AeiYgr4Vpo/nx5B13nW3UDUOOdqc9XJwtv3Tgqm+ujGvled25horreoVp//Wjn/3nP/85Oe9IAMClZs7NH6Wi7yvHL6aVOph2vSEDlxb5EACAS+mdd945t7CZ8gMAuOSOtXkv4Xw18+GmPn9Ybvs6UgAAAKAdpvwAAC65AY0/3VA96pBjAAAAoA2m/AAAAAAAgAuJKT8AAAAAAAAXCB0qAAAAAAAAEdGhAgAAAAAAEBEdKgAAAAAAABHRoQIAAAAAABARHSoAAAAAAAAR0aECAAAAAAAQER0qAAAAAAAAEf3s5OTk5LwjAQAAAAAAcJEwQgUAAAAAACAiOlQAAAAAAAAiokMFAAAAAAAgIjpUAAAAAAAAIqJDBQAAAAAAICI6VAAAAAAAACKiQwUAAAAAACAiOlQAAAAAAAAiokMFAAAAAAAgIjpUAAAAAAAAIqJDBQAAAAAAICI6VIAOVfIxxWK2f7mCjuwbvCkoF8up8KarULQUi2npVZTfHKny6ih4s1N29Kqi7mLRybGfl4sUV6dKPqZYvnLe0dBRMefNQ1H0JL8BfeTVkrOO8fwLTu9d5ytEdAZ1AWUd3lKUZ/2jVdvxqJhrX0e56jW/stJ5f7Wk82+hBqNDBYjqTUG5WEwZFVWv1xv/ir+a1ci5Z/wjFXIjevL9uUZCR8WcRv5UO99IIJTkbF312eR5RwOA2/U5Wx2zp3xaSj/as322pomr5x1JOCU1V69r7vopBnF1QmtcewDn5dWSMs+8H1fyMY08iKto1lF7j6TZG7b7oldLik2saqpg1WFFacLZqXJUzCnzbKqxj+LdVWUuQCcaHSpAJEcqzM2qdLfouQlNzu4pn15Vpg+e9gMAAABA71S0NFFTOu36+E1BT55JU4U5WXdHg5n7mtKqtswOk8rfVqW7RVuHc1JzhSmt/snqMKnoqwclxz6Ss0VNlWb1VZ+PAKdDBYjizY62Smnlf+f3RH9QE2s+T/u/XWo5/M1vyFzgFAzXcLlc0eq3NUanzJak0oMR27DIIxVy7qHirUfS+IbvGWLs3mdzf0fFnEYelKTSrEZsv/FMkfIMBTSGSjePy2eEi88Q+ObxhztfnmNreT6t415SwRrCmGsW+oFxNUcytQzXxTjvBed59fmN8zw6z+FRMefYR+NY2pwD7/VufW3t2zvi4X56EOI6OYeFLmkn6PyFOIf+v3emTXuYBYYP46KLmE8aeeCt6Ph3l2WuOiegnKrkY8oVC42yfulVc8pBxVWW2EpU75SfgDqoXZnuWwcF1scXZ5g8LouAvBaiXeHOa1KIdoIC8g967EiFXEa1R1/q/q9cX72uqaQpjTlG59lH7B2p9i8pHX/P+btrcaVLNf0oSW9qqimt+DXnPsbuSrXv+7yldgIgvH8snrz//uLJP8Ns+39/Pcm+//7J+9m/nvzb/Ojf/5t1/P6f//P+yfv/49yb87N/niy+//7J4j/8f299n/3fRggnf83a//YLw/iNO1znMWZP/vp/zY/+/b9Z23G4w/TGy7m9928rns3PzL8bcTL/th27cT594uX6zHsstn244h54Pq1r6DhXIeLaItyW5/zEvE6O8+p/bb3pqXn8xt/2cIPPgV96s8fTiJcrzbbZX6jr5E5jZhzdaaz9cbjYwzWvmz2NBocJ9DNv2R4mn9jL3sDy8lJpVV6aZVmIcsoo6/y28SmXW9TZ7ctf929PvOWUXx3kinvkOh7oqYC8FqLN6JfXguvs4DYResten7jLncZ31nV633tN/e55HNe5xT2W7+/6DCNUgKjScb0XvFXD1O8nNGj+f/DDMaVVU62jHvQj7XztHApnDZcrPfiq5dMo7xoZRm9vS9c/UT5d0ta3zZEvO1+XlP74lnEcr7a0ms7ry8xg4yeDmS+VT6/qSYvRIoOZNdXXmudBGtStj23jBV99pdnSlIqNeA5qYikvx4hCn3njxvlszXd4Yb2utcygopzPqd/Yzl+IuLYa1qhnW+2fGjrOqysu1uioJVt6ynzpulaSXE8I2p8Dl1dbWpX92MzhlrYhm1Y8P7Htb+yuVKr9aPwZeJ2OVPjTqtKPvmxuc31ORUea9FmH4PqYprwx9npdUO7GrPRoz3aMYcIELprw+eTHYk4jD6T8y7dk7Q3f8nJN9bpZ3oetT9JjuuU5X1O63yhbzLrsXzXfkW5ty983O9oqOctbo1wqafbPzprCUQe5RK7jgV4Kymth24yOvBaizg7dJkJPvCnoswdynG+P0qxG/jbWWOfLWEOlOWoo+Zsp6VnGNoLPuM6Xwc/POwLAhWMOTWtZoDi4h65140fVStJqKSZv8RN8q9mYimNp2eAyGoizX+/oKDOhQbPSGlsyjvjo+5pUWtVIbNbzy/THAZEwF6Rq/mCsuc/0mLOj6mpccd+dVLQUy9jOQVpjvtuZwws/btX9FfZ8Oq9hcFxbhHt9TFN6otobKdnqhuZXcWe6uhZXWlvGb17XVFJc9x2/Na9VzZYiHR1+QefAyffYzMb5k++PpOuD/vH01eo6Gec9/nvnHt6Lp6V/eWLUmMZmaZ/SS5qdMDae+qV9/1HCBC6agHxSmlWmZHwafxs6UyRz+Lm7vPQTUJ/4lXWhH6oElL+vayppVaWYzw2Fo34O144IX8cDPRSQ10K3GR15LUSdHbZNhB4w1o/Uo732HfLpvPZsnbuDmS+V/3pEs3+uaGI2aSy0XpBiE1a7O618Ia90aeuU43/66FABorDf4PoVKq+WFPtTXHtrbXpwO/WmppqkqUK0NwhU8jFzNe4pFetrSlqftfnN4IdjSj/Y0s6bCd36dkulu/e1Zh7vj7WSUWhGOMZmQy+t/Mu6Jq6an30d/jj0xhh5UJL5povMoPlZhwVxh+ezY2Z4/p1EnfuxVpJ0v8d7tTNuCkJHvCfXyXaTc7eo+lqy8VmQ9KM9fanPNDKxpLG6ffQRcNmEzSdp5V9+Kc2NKJMf461eUu/rkw4cfV+TUS93V051UscDZ6WTNmPX4Z1qm+gt9GZHWyWpVBpR7IH9i4xiz4wyzL/beFBx91or1+dUr881/361pNlGx1jreyzP2it9hik/QBRXJ3TfZziuwRy6FurpfSvmzatv2MYoiGgLM1W09UzmK8qsRlubMBph3dJYuqStbwvGitu24cbvxdONUTrhmFOGHu05XvNpVHqGwV/Gvfs0OyAae/l2S6V0Xnv26SqvayqpFaMgb0xF8RxjJ+czTFxbhGs+TWn7hNg9bNz+m2txn+liLRb5CopLq639js16UvTLcKk6+Dq9p3jae97t6aEx9ahuG8ruSg/+0hr7cLCxsnzzjVshwgQumrD5JD2mW1cHNfF793DrS8y3vGyKXp90on35O/jLuNTxFGBLh3U80CsBeS16m1EKVWd31CZCR65OaK1eb0zlMV5nLKMj3yx3Bj8cay4u2+C8Hkc+LwIwpkWOmVMx44qrpNpr+z6MMi5sG/S80KECRJT8XV7pZxmflfpHXGtrBHsvnpaePWmuSv7qK8ewbVfI+uRRWqUHn3nfFNQooPwbcPZKyYhnUMyMxnfpwaxWXWtyeG9W1XjThNVQ97sxt8fJeM+87cvrn7heOW2+ntodLfs+3xSUm2g/99KYr/mkxZuVwpxPHyHi6p0nWtHShK3SaKU0q88ac4qN36QffWJWNEYn1+xcM25Hxc80WzI6ETo7B+5jG/Nc20o+40kDgdpeJytt2c77qyVnepDkvNGoaOmGT3poyVqzxroGYcMELpoI+cRcg2B14i14A4xVXv7ZXU/Z3gISsT7pRNvy11yvzF6mW28JCnx7nUv0Oh7okYC8FqbN6BWizu6wTYRTcnVC9+86r7P7et85rZIAACAASURBVBidLrZXIL9aUuaZ/c2pRrvcXkdV8hmtOtbt609M+QGiujqhtfotFXIjisVsn6fz2qtHG9I4mFlTsRZT5kZMs5J0t6ji3dWWQ3UHM2vaU04j1vZWuLahlMnfTEkTzWF4cy/zyt2wDdO7W9TeoycaebClymyy9Q2+eXO96ukESGquXpRiGcVslZtj6sz1MU0po0xs1fh8raiafft0XnuFuEYmjGlFE1cHNbG2J9nOafpRXlOl5pzbxrlqzDdPK/+yqPiNjLa+PdKE3yKr1+dULywpZj9fd4uNp7lhzqdXcFx1fU71l3HlbsTUSCK2cFu6m9fY181rlXYsrGq8ljuej9nmIqeDF5kMOAdOSc3V9xR3pO1oQ9JDXSdPnKaUf5TWrDUF7Pqc9h45r8tUYU/5P41o9m8VzV0PEZvrc0Zemsgp/nJNE559usIELpoO8klytqipZxllcqc0NbVveMtpR3nZSX3SiYDy14qjfX0JZ7kfJNl5HQ/0REBeC9Nm9BPUTui0TYRTk5ytq5iPtUgHMu6fCjXnGiqu6+VtQ06pGPHe6jz87OTk5OS8IwEAbztjznuIThf0zFExp5Hafc45AAAAOsKUHwDAJXekQs41zelNQZ+51gcCAAAAomDKDwDgkhvUhHvamc7wDU8AAAC4lJjyAwAAAAAAEBFTfgAAAAAAACKiQwUAAAAAACAiOlQAAAAAAAAiokMFAAAAAAAgIjpUAAAAAAAAIqJDBQAAAAAAICI6VAAAAAAAACL6+X//+9/zjgMAAAAAAEBk77zzzrmFzQgVAAAAAACAiOhQAQAAAAAAiIgOFQAAAAAAgIjoUAEAAAAAAIiIDhUAAAAAAICI6FABAAAAAACIiA4VAAAAAACAiOhQAQAAAAAAiIgOFQAAAAAAgIjoUAEAAAAAAIiIDhUAAAAAAICI6FABgAvtWJv3Ekok/P5Na/Mwwq4ONzUd9TedqCw74rlc8W6y/9h+HMva92zhOu57mzo+5WjjHLnSTKt003cONzV9ZvHe1/JFOS+X1hlcg7Mqp4E+c/ximrq+T+w/Tijx2NYy86mjG//abNdZ+6//0KECAJdAarGsarXq+FdelOZv9VllVFlW4s66ss+teG5Id5yV6vGLaU2uZbVhHsdGbl2TrkbU/uOU5rWgcrWqarWsBc0r9bivjhQ9cvxiWok7aqSHarWq6s6CDu4kNP2if5vW+48TStza1ujOxYo3ujGsmWpVM8lTDOLKuFaqKxq/cophAEArlWVNrrk+S8542qDV51lJKS38drjxu160//oRHSoAcEkN3J5WVuva7qMn1vt/X5dyG7YbjmHNPM9q/alVYe5r/WFZ2eczGra2+HRD2d15rVvHcbiplbWUFv44rgFJ0oDG/7ig1NoKT20vnWN9s1VWajHbSA+SpCvj+mIxpfLWN/3Z0Kosa3ItpYUd143vlXGtPM+q/PBz0ioA4ILZ1/KdA6VuhtluXanFLxp1YE/af32KDhUAeEt4hmi2+Mz53aZzao17W59hnq2fvh/r4DspNXTN+fG7MaV263otSYcHOlBKsXftGwxrNCcd/GDu96e6yhrSkONG9SON3iyr/lPr4z9+Me0YRrrJ8OELo3zw2vPZwO0VVZ9anWoh0rc1VeKFPc36TJ1wpWlnet7XsmMf/iPAjIbjtP8oguSMqu4RBu6pQY7jaBWmMb2kGc8Dn8DcUwL7bMTaqXIfu+taB5Rd+48Tmn6x2TjHy5XmlIN9V1nSPKc+U37c4fil0VZxPNzUtFVWWVMbPVN+/KZ9vk3XGecvIK8FlEN+eU3y1tnf+ITcNv+gx461eW9SB4tfaPqD9lvuP57U+s0FfXHbqqF71P7rU3SoAMAltf94UuvKarSb4edr89oeKzeGZ2bXJps3HYebmr5zoIUd+zSjVJun7wMa+sDn5vinuso60MGh/DtLTNbvjn84kG7GdM27SetKt7Ks1EM14/pcmn9YDnkScH4GNH4vK61N9qjBXNb8w+b0Ife0OO/0og0NPUy5OlXKmt+KmdPNZpwjZ4y9+DccW6ksu6YGlbXw3aTrxtsdptGwXc9tNH4zujWvdceO97WcSGn+g41G/tzIrWvyrbjZPtbmPfu0QNe1Dll2lR9uK2Zu03iqujuvFX3RvFY31zXZarqhzxD3Zhlq3GROasM2RH5I87fcaXxd8wfTxve2DkTL/mPnNa5WN5RVmzgBPRWQ18xyqNmOqKq8eOAphzx5LbDONvPPd+5w6VQ5LccvPte87J0kLRxuamVNyt6zl1e9af/1KzpUAOASKD9MeZ62GvNQ/W74InA8YTCGZ5YfrhsNIZ+5/AM3RpVqs7vhXxs3x80nuMfafLre5he9YIRhH3qq5Iw2cqccLHojOWPeuEpSWfO3unsKbx9OPHD7Cy3cXNeKeYP7zZZzuLEnzZtSYx95bmzdhn4RtIVh/++utNliCpsjzMq65nez2vh02Pkb+44r21qXfRtz+HSfTQM8FYffaHvXPi3QHNFklYdhy66bo/rI07jParpRJg7oo7GU9N2B70g33yHu1apWbg+YcXReH6NcKmv+L86Unf1161J8+NOqqvZ9mE90gTMRlNcq266RCu5y1+TIayHqbN9wv9DCzbK2X/b3aIYL6XBTnz+U43y3cvxyW+WbC8q6HuadT/vvbPz8vCMAAOhearFsNNJ77YMhZ+X5bkwpbevgUBpuNH72tZyYtD0dT2m01f6SM6o+lxJ3Eub2KS08X1Bqd7v3cW94rfquNHTPeX6uDaWk704xWPTQgMafVjVu/Wk++Z+8F1PZ56l9a+7hxMZTs3nz6Vd9V1rfTcjbxMs6/grTWXLww7GUDGx66uA7qbyWUuKhN672fGQP0xilNeocpXVlSEP2PfttY95sr4SK2wVmPumcDly4NaDscpd/UsvRcV7mSKWxFlv/VFdZ6yonfG4oHB0i7jTbIrQX00rZn+DTqYKzEJDXjn84kHbXlUrMe75Ljdn+cOS1EHW2b7hGB6dRnl/i8u3MHWvzD/PSYjnEYtjmumdjX3ivwLm0/84GHSoAgM4cbmr61rzKMt8ydHvA/CygckzOqFqdaf5dWdZ8o2Hk12FjsKZQDPxiSDLn3Lor7LCjAnDBNRpm2/rmcLw3bzw5PNCBpOzzbt/SYu+k8UuPxhD5+r2qZpLGjcOpdYj6hH3wneToeXkbdVp29dDxDweSuh9FuP84Yb5xI6uN6oqGrc96EkugO68PytLNhYgd312Gp+kzCOktcviNtnel8q67439SCfdIaHPk0OgfW1ztLtt//YopPwDw1jJvrtpxD2W3zXG1hnWWrSHsje/bhOizEKwxLH7UHIo/pCG5F5fd1/aarbPk3ZhS1pxbi1mJ+z/JvabYTe/6KkbDC32tstx63ZR3Y22nl/mnb3fasq13Yo7w6MXid8O/bfPWqcq65htp1UibUeeH2zsVG8wOobbbWE9+L3vHo18ZYdNJ2RVdizUDrG9/MSS1iWM4RtlorNFi3dSEKNeBXgnIa9eGUj7lUJAQdbZvuBHXr0I4V8a14nol8kZOUm7Du45Ym3VQetL+61N0qADAW+LaUEqy3+RV1jW/G/Cj3Xl93pjnbL0Gz/YKW3tD6XBT03faz4cduDGqlP0VeNbrZX/beEmesosprd9pro9hrRbfmI97ZVzTubLm/2BVzMZw1HKrt6qYC5s6FpysLJtPddHXklkt3Cw7Fo617P/Fec3Dpm972jp+8bnmd601MYy0516YdP9xIvrboKw06l4g0cwjzbUBmovu2t8MY7zdos0aMcmsazFUMw84thn1LE7ak4WqLwLzrV+OtUjcb8eJWHZ1wlgzYMWbnh7vN9P2H+xpy3hLUOs3pfmz33juP04Fl+tArwTktYHb095Fks23mi23XMspRJ1thWvLP0Z5ntLojf6++b7M2r00oCftvz7FlB8AeEsM3F7RxkFCk7cSmpek3Ibx1o92P8otaHSrOczTPjWhsb/GGgApLexsaOjWpLZfHmvcbwrDlXGtPK8759DuuBaH9Ow3q42qc7jw8KdlLdxLNedl31xQ+dM2A+eTMyovTitlHbuyWlhMaX6r3cHj/Blrp3z0YlqpRMLxTWOqhrVlqPSd0sKiNNnYl3O48sDtFZVlTyfqeLj68KdVVX+9rIR9X/KZUuSZV+6Nl9eAxp+WpXspWYeSWlxQdtce0rBmqmXFbNv0YorJxeA9P46yppOyqxPJGVWfu9JAbqOxiKwVR/v6EtGmfw1rZmdB07dsQ/FzGyovrij1cFv7nw6/Bdca5ysgr2lYM9UNKTGphK1DJHBqpSfvuOtso24Yepyw5R9vewJn6/VBWfpg2r++7FH7rx/97D//+c/JeUcCANB/jHn4G643SFwexy+mlTqYvrTHBxdzjYxRGtwAAFwq77zzzrmFzZQfAMAld6zNe+Ywe8vhpj5/WG77OlIAAACgHab8AAAuuQGNP91QPeqQYwAAAKANpvwAAAAAAIALiSk/AAAAAAAAFwgdKgAAAAAAABHRoQIAAAAAABARHSoAAAAAAAAR0aECAAAAAAAQER0qAAAAAAAAEdGhAgAAAAAAEBEdKgAAAAAAABH97OTk5OS8IwEAAAAAAHCRMEIFAAAAAAAgIjpUAAAAAAAAIqJDBQAAAAAAICI6VAAAAAAAACKiQwUAAAAAACAiOlQAAAAAAAAiokMFAAAAAAAgIjpUAAAAAAAAIqJDBQAAAAAAICI6VAAAAAAAACKiQwUAAAAAACAiOlQAnJOKlmIxxXz/LakSYU9HxZxiuYKOTi2unankY4rloxxJj/f/pqBcLKfCm7OJT2ivlhzXe+mVd5NKPig9HKmQs23Th9cfPeRKM63STd95U1DuzOJtlKkX4rxcWmdwDVzlOvC26Ne23tvB1eYy/+WK5tXwqaMb/+ztzp60//oPHSoAztVUoa563fmveHdVGSrN7l2d0Fp9TRNXzzsiNq+WFJtYtV33ojThrFSPijllnk2p2CY9VPIjmlVee/W66vU95TWrkX7oLELPHRVzik2okR7q9brqL/OqTdgac32oko8pdmNLYy8vVrzRjaTm6nXNXT/FIPqxXAdwyf2oWsnbZl/LDBpfX5/ztOXrhSlJaeV/lzS26VH7rx/RoQKg7yR/l1e6tKUdnsBdOpW/rUp3i7YbjqTmClNa/ZNVYVb01YOSpgpzSlpbzBY1VZrVV1al+6agJ8/Syi9NyKjKBzWxlFf62ROe2l46R9r5uqT0o08a6UGSdHVCXz5Kq/T1Tn82tF4tKfMsrfxL143v1QmtFaZUevAZaRUAcDG8qammtOLXwv6goqWJVaUffdmoA3vS/utTdKgA6HN+Q6jbDas2vys6h9q7t3UOKYwpFjiE2m+4Y7ShiNHDlHcYpWcURs0ZL/v3QUPD3dMRXPu2pgg54u1+UuAzzLP10/cj1f4lpePvOT++Fle6VNOPUotKO6mxu1Lte3O/r2sqKa6440b1lsbSJdVetwha5kgH27UrMHz4wijVfvR8NphZU33N6lTzn9Lm+MzKD8Wl9nnQlaad6bmiJcc+/MsAo+F4338UwfU51d0jDNrmxVZhOqdN5oo1n8Dc5dbFGD7dG+5jd13rgLKrko8pVyw0zvHSq+aUg4qrLGmeU5+6KaAMd9YLrji+KShnlVVW+esp17uvm4DuBOS1gHLIL69J3jp7xyfktvkHvePX7mqjks9oNZ3Xl9YIll61//oUHSoA+syRCnOzKqXHdKuLIc2rD2xD7QtTWp1oVrRHxZwy/7Kmi5hTRtIlzc61vrmu5Ec0+6uibThjUVNaVSbkNJNOwvQbHjn1LOO8wXs2q9rv23zfbt+O6Qh7yv8r4+2weZbR1m9s+y/N6jNr/28Kyk3UlLdNadh7lG7z9H1Q8V/53By/rqmkmmpv1LbStn539H1NSsf1nneT1pXuqyWNPFAzrgVp9kGpzQlCfxjUxO+npGeZHjWYS5p90Jw+tPdImr3RbNx7pxcVFX8w4spTJc1+HTfz8pxz5IyxF/+GYyuh8qI7zCMVchmt3i02fjP29axWHTuuaCnmLLeKd1eVeStuto9UyNmnBbqudciyq/RgS3Fzm8ZT1dKsnuhLWzneph5oW4YbN5kZ2eqVQlyzN9xpfFWztfvG97YOREu3dRPQnYC8ZpZDWx/v2fJazVMOefJaYJ1t5p9/ucOlU+U0HH1fk7SqTJiHZ28KevJMmvq9vbzqTfuvX9GhAuBcrU64n6yZFbNPwzEK+zBDXZ9T8W5Js382qm/3k21pULc+TrfdX3K2rvqs/dbJ6DUPq5MwfYdH2uesSlI6r09s34/dDVfxVP7mHIrZctpMu/37zOUf/HBM7Y4q+Rvj5rj5BPdIhT+ttvlFLxhheNPEKQeL3rg+Z964SlJJsze6ewpvH048mPlS+fSqnpg3uDtfO4cbW0OSSw++coSV/vhWYPkU/2W4EixsXnSE+eorzZamVGyUSeZv7Dt+taVV2bcxh09rVVt9Pny6a292tFWyTws0y2CrAyxs2eXbsT+l+40y2CzH/1Xz7RhvW4a/2dFWyXl93HVVI8TfeLvtGnvssm4CuhKU115tuUYquMtdkyOvhaizfcP9Uvl0SVvf9vdohovox1pJ0lTAwwbD0bdbKjnajobzaf+djZ+fdwQAvN2mCqezgJ/7Zua9eFr6uqYjJW03JcbTw4b0WOB+j4o5jdifkkRtuIYO03zK/XHAU+5fxTvoeDL2XXo2otgD93dpOWIUav8VLcUytqfjrn3YXZ9TvSDFJmLm9mnlC8aaOafHWEwt/nufNPGvUwwWPTSoibW6Jqw/zXyUycUjdr66hxM7n5rVStJqKSZvE2/K8VeYzpLa90fS9aDtwudFe5jGKK0x5yitq3HF7Xv228a82X4SKm4XmPmk837gKMeAssuv/GsxOs4roAx/XVNJqyrFfG4oHPVKuHULuq6bgE4E5LWj72tSaVUjsVnPd+mPbX848lqIOts3XKODc7b2o9TVIzm4GR23jk/0yaO0Rh58pUrG/hDCXPfs4y+9V+Bc2n9ngw4VAG+dZsMzrfzLuiaump993fo3lXxMmWeS0UO/pqT12SmGeXqMxkr60Z5ztEtUbwrK3ZhVSca+6plB87OAyvH6nOr1uebfr5Y022gYxZXWlmpvpKSrgWZNoRj8ZVwy59y6Yx92VAAuuEbDbEs7byZ688aTNzXV1ItOXnsnjV96NIbI135f19z1HuXF0IybfEfPy9uo07Krh4wh9FMq+k4bC6/bugk4TT/WSlK6+1HHkcLT/TMICYO/9KlIzJFDY0strnaX7b9+xZQfABePeePTjnstjR9rJfMJiPXWkD3HwpBGJdxKRVvPrNfFWY1f88YklE7CbDHftCfeUzzd/b6tYZ179mlIr2tqd1RHPgvBGsPix8yh+HHF5V5c1jj/jc6Sa3GlrTm3FrMS93+Saxyvb5pAf3u11HrdlGvxttPL/POoO23Z1jsxR3j0YvG75O/avHXq1VeabaTVzvKivVOxwVUu+m5jPfm97B2PfmWETSdlV3Tty3DjZqR1HMPptm4CuhSQ194zCjhFK+FC1Nm+4UZcvwohGevVuKf3+K5n12YdlJ60//oUHSoA+pxRsTZfqyZV/jwb2PB1LC5ovcL0d83ngPZGrvHe++CY2Cv3Sn5EsxFb31HDNOabOm/K/N5kEl1zoU/72yiMFfUjrkthbyi9KSg30X4+7OCHY0rbX4HnuTbGMNLViWY8rNXiG/Nxr07o/l37gr7mQsat3qpiHq83TUQ5UJyL658Yizff8KbLyp+d1/y9eNqZX1595ZtH7WnrqPiZZkvWmhhG2nMvTFrJ+7zdKoiVRt0LJJp5pLk2QId58fonrsVQzTzg2GbMszhpJZ/RqqY0dgrTLPuK+dYvx1ok7rfjRCy7OtG2DLfStmNhcuMtQaEWFrfptm4COhaQ1wYz972LJJtvNfN/U6MUqs62wrXlH6M8T2vsw/6++b54jKlUjrXE3hT02YOSa+HZ9i8N6En7r08x5QdAnxvUxFpRtVimMQd3qmC8KaGdqUdj2roRk/GLtPIv15o3MOb+YlblnM5rrxDXSMvpA0nNvcwrd8O2zsHdovYePdHIgy1VZpMBQ7Y7CVPmtIYlxRrHYYTrXICwQ565rFLU4eeDmTUVazFlGmsApJV/WVT8RkZb3x5pwm8Kw9UJrRVqzjm0L12LQ3r2O6Vi3VlpJ2f3lM+NNOdlp/Paa3ders9p71FOI41zOaX8o7Rmz2XKFcIz1k65VcxpJBZzfNOYqmFtaaUb6xrfLRpvtXH+SvlHUqaxL2eaH8ysaU/2dKKOh6snZ+uq/8aVf+UzpaijvDioibU9KTci61DSj/KaKtlDSmquvqe4bZteTDG5GLznx1HWdFJ2dSKgDLfiaF9fItr0r27rJqBbAXlNSc3Vi5K9/aMQUys9ecddZxt1Qzwfs+Ufb3sCvdGoG231sN81NEaD3/evL3vU/utHPzs5OTk570gAQO8YiwzqlBa7xeVxVMxppHa/Nx1U6H/mGhljNLgBAECPMOUHAHDJGfN/Y64hx589KLV9HSkAAADQDlN+AACXnM+UK53eK7sBAADwdmDKDwAAAAAAQERM+QEAAAAAAIiIDhUAAAAAAICI6FABAAAAAACIiA4VAAAAAACAiOhQAQAAAAAAiIgOFQAAAAAAgIjoUAEAAAAAAIjo5//973/POw4AAAAAAOD/27uD1zbO/I/jn4U95A+wSWBTupHVHnQyImAIjSqXNZjego0Pxj/4SbiJWHqsU+PUe1jHXiX2sSxOauwfbDBUK5NbMXhZq0oJhM0Kn3TYlUVLU9aufe/e9DvMjDQzGkkztmRJ8fsFhUYezfNImvk+zzzzfZ5BYFeuXOla2WSoAAAAAAAABMSACgAAAAAAQEAMqAAAAAAAAATEgAoAAAAAAEBADKgAAAAAAAAExIAKAAAAAABAQAyoAAAAAAAABMSACgAAAAAAQEAMqAAAAAAAAATEgAoAAAAAAEBADKgAAAAAAAAExIAK0C2FVUUiqzrodj16yGnhQKft3mlhVZFIpOF/qedWiQdabbJd5N6OWbdT7dyzv8/pYC2iyJr1qwbZtn+dPk/Zvp8u7eN4R6lISjvH56gEet7p85Tr3OzUb36qg8I5o1G7Y3w7jnHOkw4z2pHVQgeL4DfEJdWOvgbOztn+umJQs762vZ97vKOUZx+85mDN/v7+uE76dbcrAACSEahju2PKPxnuwN4T2i7Oyc+eE8+Kmot2oAoAzuVgLaLpfy8pX1zXgPViYVWR0YjKbT1vT7VzL6a98bzWiQUIZFhzxWJni7g6ofXiRGfLAACb0+cpxR5IS/tFTVyVMTAympL2141/R+dULM4531RYVWTmUEv/Y/W+D7Q6uigt51W8M2DuI6bVd2vt9+nzlKY3a332g7WIpu+FlH8yUWv3exAZKgAAoMcdaG9TStxzdaqic9pOSlt/74d7WAAA9JtTfbubV2z5oTF4IklXJ/RwWVr8S6O290CrM1vO9xT2tKWEUncGbPuIaeuJlXV0oK0HeSWe1W6ADn+2rcSLRW11MuuvDRhQAXqcM/XNlWJnpf4+X61Lj3O8zz2txJVy52faiTvV3p2m16yeVprmgWMftTQ+Y+Q7L71YVMx87+nzlCJrO9q55yrvDHXva+40Svfndf3d8btYx0fB+Z2509Edv929He3UTUU6rf4OvlIwPVI/3cfLqetY+NZjN02P/Vaqx4nzOLOXuUP6cN85/KH+1xr+rKjiZ7b8M3eMcJ03zeORkZ2y+ELKP4jVTfVzHtdBU5Hd+3Af0z7LeLna/LxoFhMulRbfd4s4dbAWUer5TnUq6GqhdVvmOeWnRQxv3cabscqaelo35acdxyZwHkFjm/P49DrXpAvoJ8CnNyq/kIbedeaIDLw7JP370LMPdbA2ra3bS3p4J0BeyfGhDhVT6Df2F4c1lvRu+3sJAypAzzIaICPFvahisaj8srQ46m4w8lrcDZnb5LV0e0vTkYj2PjLeU9xfUmxzutbBK6wqMrqooWfm34vbSmxONx2YsKf6WfvUg5i5T7Oe2jb3V1Tx2VB9PV8sal0PzW3MepplDtxZV345Jt020vmro9mbiyrfM/a5fmfgTHXva4VVRWa2lHB9XqvTf/o8ZaRTun4X5wVUXotPpIfVYyimrRnnIIORXmn+fXxPi5v2ShxoNWJMfyhW93Go6UYd9uMdpex1MsvMP/iidjwUVp3H0zNp8UHethO/x34DxztKWWml1lSvlmWitw0rsRwzBjmaXjAaKcW1GFFU8VlCssdAqUk8GtDEk7yWbkux5byKZprxwVpMi+/ZYlxxWwnVYpgf7n3kl6XFP9QG9PyVYY/31nnhGjScUfV8Lha3NVQXEy4Dc2BM7hhifld+4pSk/IM9hcxtqlPKmrRldZrGcJ9tp7a0eJgy/u6R9t6OYxM4uxbnms8+RN251ul+AgK4rtDt+kGN0x8OpRdlvXFvfryjdc+M0jEltKV129qFWw/yio1/aGz3U1l5DWnoqnuHUv6wrpSewoAK0KuOv9Xei5iW/lgLSAN3Hmrpdl57L51BrRa0BvThuDEwkbA6f1eHNGTb9uDvW1Jy27bewLDmniWkzb0GFyjeqX7rVqN3/K32XiS0bb9DHJ3TdjLvSgW0pflZ9Wwwsm1/z5htDYPgdbcYg0z1i2XVX5RtzXgvqtXRRQYb8Py81uBSwxTMmPK73zq+V3ujNnBrTDEd6vBY8kqvNI4x25sLe3V3GYxt7I2izdUJrdsHxaplWk6188SVBmpO26gKcOzX+ak2mLJerbOPMtHzBu6smxeLkuOcdmQZGeeIYz2V6Jj5Hrtg8aguC8a8a+bfqQ7/7fF5bBfI/srwOi+sc9GICfbz2YqRUs88uwAAERVJREFU+QdblytjwTOGrNcGWFvGKdPtMX1Y17n3f+w0jeG+204p8VHjFcDOf2wC59DqXPPbh3Ccax3uJyAgI845B5yN/qOX05d7ytuvQ6qGNWcO8ht962npWdHWV+tfLEoL9CpzpDbl6MwZQW3x8I1UbULc6XHNGJ362Ph158vRMSW0rsNjabiu82im+t1rEPB+KiuvLeUjW/V/szd+t0O6Xr9Fc473nKXuln5clLbB563y/l0Gbo0p9sC4Y2D8pcnxYaZXjjn+PqCh92y1+OFQerGlWGSx7u2x8Wb1P9BqZFq1oyKmsSb1vj4Uk6wLTt/HvlteizNGA59wpKb6KBN9whwwMf9lZM8tKrY25LqorE3dsTgGVc4Sj6rl2TqRvi9cBzRxL6HFmWlFNiUppqV95wW9vzLcd++M83XRvHtXfiFtvYioPhrXDym91TxjiJdGccr03lB9tPF97LSI4X7bTp9t/NmPTeAcWpxrvvsQjnOtk/0EnMXAnXXllVJsNCLjl0xo+1lCWzPuLc2bfeMP638Ba5Ha/aKKV41td+5FFNFSzy862woDKkCfeXOYl5Rq706PD3UoKXSGt57+cKggAxZtd466n41xAbPXZIvY0PUzbNsmP5XVziPkzWHemIrlt7Ezp9vkZU6ZqK7k3uxbCFCXFp8stpzXQ32h2Myqxrp1TOLCVDt5D/Z08Nmwhu0XyMltFZ8My7poPo+DtYimNyUj1q3Xnj4QZCfVpyCYgz2jES3aBlbOXYYZC3tnULiHdTBO+dWutrMtxybQIYH7EO0or919ZEgyM4/u1P59+jwl3R5zDjCbmUNjf3T/2lbWUd52I2FAE39c0t7onr49ntDEb0KKac/zBmnb+8ptxpQfoFf9JmSbmmEx73idObAYF/h1cxGbzFtsNHeyusd3h6S6enbCWereGdeHYg3mcxpPIrEv3BVkW6cGn7e258ZzWv3eQb06pCHlVf7JsQfH1ITrQzHvObINWKme+aItjdMc5GlWb6MTZDrzsR/T2K0BDdxJudYQ8FEmepqxOKH3uilGDDKZTxHYLtqmQZgDDWdnPmHoWbGWxu4xhce/AU08sdbfsNLT/ZbR5Lwwp3f2+uJ9F8IzhtS0jlPt0DyGt6ftbPexCQTU4lwL2ocw39XBfgLO4sDjYQVGJsqHzoGy8/TJPfukrfrKvYEBFaBXXf1QY7fzjkULT59/ocUXxkXjWQ1/5F6g0Xi0mZJjDe6SWXMn7XPwjTS91PNTKZrQkque1pMOgiyEOPDuUMtGN3jdO2Pg1phitsVhq7UxVzW3zxsNsq2b8XnXHQus1Ro1jzmtxzv64oFHA9e4BCXqFqn9wjFNon5wQtWnqDRcV8b+Ox7vKDVjT2k3pj64F6mdti+Ee+5j31pbxzpWfJSJnlY9DuueymTd9UrYYoC9k20sUhvsQtn7QtjeuT9Yc04nas1MbXacR+adPNsx3boMr/PCWtPDWrj3i/qYcdmeZmXFkL+445Ztwcqmcao9msbwNrWd0nmPTeAcWpxrZ+pDXEg/AUG4Y5mz7alpfFPP4zfVqXb+sKh8df2c+j6pn75yL2DKD9BVW5r2mD9tpGwbdzGH1iK2uaeN5937Fp1TcT+k1GhEEeu15LZr/QGnalp9pPoOxWyLfk48yUv3Yo45sjHHoqB+6jWmhKY1HTGeiOA54/8MdTd4f89e79+a8Vp/QHKkZl+d0HpxSKuRmCIPbJt4pbUG2dYtOqfis1VFqnNWnfUduLOu4rvOvwf93gfurGv7MFL7fm4vaSmZr5VnLiKmiLX2g/ltNJhWULc/xbS0v62h0WntvTzVxJ0Bj8+V0NJyTIu71b2c/9iPzmk7uaXpmZRC++uaiM4pv+yc/+ssE73NWDtlzHFMGBLPilq3jsW631lKPMtr6UlMi38/0FzU39Dr8EcJaWZakU3jvJ/bX1Jq1HYOJ7eVX163TTVqZUATT7ZV9jiPJsyOpL8yYloaL9tisXPKSP08d11oun3vGKi2S7VmyxZD/MSpdmgRw8/fdvo9boBOaXGuBexDVF1EPwH+efShvKYrvjnMS++lvNubFvFQ8upDJrRd7P3261e//PJLpduVAAD0joO1iNaHAg6I9aHT5ynFDlM+BuQAAADQq65cudK1spnyAwCXlkd6eWFV05tvW8qs13QLY3pUs8eRAgAAAM2QoQIAl5ntaReGtzVl1v14VJ6GAgAA8DboZoYKAyoAAAAAAKAvMeUHAAAAAACgjzCgAgAAAAAAEBADKgAAAAAAAAExoAIAAAAAABAQAyoAAAAAAAABMaACAAAAAAAQEAMqAAAAAAAAATGgAgAAAAAAENCvKpVKpduVAAAAAAAA6CdkqAAAAAAAAATEgAoAAAAAAEBADKgAAAAAAAAExIAKAAAAAABAQAyoAAAAAAAABMSACgAAAAAAQEAMqAAAAAAAAATEgAoAAAAAAEBADKgAAAAAAAAExIAKAAAAAABAQAyoAAAAAAAABMSACoAeUNBKKKSQ7b9k9sS5yVFGyVBSmaNzFHOmfRRUeH2OMi9Mv9TT20k2qVAyo5PWm3prx/EB9JLXK46YWP9f6+P93OcVAjLaspVOxmJiHS4p4lnvKKRDCqUL3q9X26gV1W3hate8YmXLffQgBlQAdNVJNqlQaFLKlFUuW/9lFb4/4hmsL1ZBK6FJ7Xa5Fq31Sz0B+HZzwRYTXykdl+KPX9le29TUtW5XEk5RLZTLWrjZwSKuTWmT3x5At7xe0eTT+pdPsklNPp1V1myjsnc3NGkfAHu9otDUhmYztb6+ppyDKi330aMYUAHQPUcZfX4/p9mMuwMa1cLLtOJPJzt7pw8AAACADwWtTJUUj7tfP9H+NznFH3+iqPlKdD6r2dy8vjL78YW/bUh3s7b+flQLmVlt/NkaMCnoq/s5zWYWGu6jVzGgAqBrTr7bVS6e1ided/OuTWnT607fdysNU969UhAbpSVWudIPa1ONjKyPDUkbU7Z9HGWUdKfet8ykOVEm2SxV3/13Z4qj9RkcaZDJWgNUX8+CVkJJZbIr9ftr+Hk7V/dkNlOd0mUNkBmZSbX37HuU7Ez7DJjiXv2davVxl5khfRj9LmA8qp4DXc/+uwgtYpfHlCp7PPSKXdaUg4IrltS+TY8pP+5yvNqoRnU8yihpxSor7tdN+XF/zv5Jk8fbok/7CQjoRJnkpEqPH+nT94O/t/QvKR5+x/ny9bDiuZJ+lKSjkkqKK3zdvkFU43el0vc93lOrAECX/PNPNyo3/vRPfxv/5+tK4saNyo3E15WfzZd+/muicuPGcsXag9f+HK/95+tK4kai8vV/vN9fqfyzsnzjRiXx158d/17+R6XBvyuVyj+WKzfcrzn8XPk60aze7jIbfC6PerSqp73M2n5rn9/6Tu1ld6butjKr35ntNfM7rJXTqFzXfuzsv63X52pZJtDLjHPCea62jkc//zVRPcZbnkNvlRaxy9UW1P5ee80rdhnb2H8Hs5xqu+P6TeraB3vMdL+3Uh+nrHbPvo2r7vXtnhn//batwLn0UT8B52JvT7z62+7f1U8f3fE7/2PZ1Sdv8r4eQ4YKgK6qG61uYfb3Uxo0/3/wg3HFVVLpTHckjPREe2qhlX6Yu/9Vg7t7HvPjb45rtlkxR/vazcWVXrHVe3JT5bJZ7utdbcTTejQ5WH3L4OQjpeMb+tKePeLI5DFG7HOlH5t+wvjHo6rt1UrHfFSbe39tSo8ex5X7Zt87S6NtdR/XaHW+/4kyf95w1uPmgrJ3W5X7SOl4TrvftbhL8Saj5K156fErbVbr5aNMoO/4j0c/ZpMauS+lX16StTdaxS6PdUiM9sTFEbsss/q0GlsGNfpxXPpXyTOGeqa4l8tGbDra125uVtn5WgtkxKWc5v/P2QLN/i6qRqLzZZXt+zDbB+BC9GM/AcEdZfT5fTm+b7fByU29elzSpJkxNPLNuF6VbdN3fjcrOabyG7/z2+DX3a4AgMvNGBRoFJ7d3KmA5/GjSjlpIxdSfThvOkQiI+1xRPM5H+94U1JOYX3a4CLm5PuSlNvQSGi+7m/xj23/eD/s+1uyhH9rf4fxecO/d+5l8INxxe8b6ZZ1++9I3b3r8U44Lv2rWbnGhct80+Mlp/kp40eZ9fHZHWUCfatFPMrNazJnvBq+DIMpUsvYVVObMmmIa9z+Z6+4Gw/L320AM8X94wZbvykppw3lQh4XFI4BEX/t3kk2qZH7toOAQRVchL7rJyC4E2UWjBtVjQfkzXbo/azK5U3jJXO6Y3WdxJsLKmek0JTV744rnUkrnuv/RyowoAKga94Jx6VvSjpR1LPpK6RD+jJszzRoo6OSSpLHgrjN2Drfd7Mqb0arr53Vj6WcFE/r1WbjUf+OelNSTtKnZ3jrRdf9x1LrmsYfv9Ijfa6RqRWNl+3ZR8Dbxm88iiv98pG0MKLJ9Lgrm+GSOjIy2XIyn5w0OWi+dnEd+5PvS5JmlT1nnCqkQ+YTN2aVLW8qar3WlloC59OL/QQEdLSv3ZyUy40odN/+h0mFnpox7PVXms/NKrvpzrjb0OTfClq4Ga2+Vi4v1LZ5vaL56sBYWHHtqnQkRV0DN0Gz2S8aU34AdM3g5KeNV+8+yujLp+4si6CMO4SeroUVVsCFrl7vakPm49ysixJzYKah6+Gm05LeCccla0GujnpH4Xj95z35vtT4jmtH6u5dD6MT1KzcBguaOcQ1/sGgcVxpQ5PVxR99lAn0G7/xKD6u0WuDmvq9O936LdYidlkLor+ypt9I1cHl9hlU+P3GUzMHfxuWzjxl1VLQ7lOZjyG1BmaatHtAu/VdPwGBmQ+JKNv+y96VMZAfYED4xONBAMa0yHFzKmZYYeVUemN/lxHjznct0HkMqADooqg+eRzXhus59FJBK7fmlXPMPW/tnXBcevplbZX311850uC9ys7d/7z+SUHVgO/VqNsbcLOezSp1bVTjcdeceNtTGuov/lV9cof/Cx/vzoeTkQrr+LzmY6uda610uu7GhZ2jHq9XzDusrnIXag3vSfZzzeeMAZPWjLVwahePPsoE+lKAeGSuQbAxdQmeANMidklyXuQdZZScav9cfmPNgC+9n0Z38xOlXXHOekpQ66evOdljfyE90qTdA9qsb/sJaKubnygdd/3O5m9mrQE1+MG44vabqK9XNPk0rvT/VldZMa8Jam1UIT2pjUZPA+0hTPkB0FWDk5sqf5BR8lZIIdvr1TTsgPvKlkKavBXSvCTdzRrphk22f6WkRqztJVdqqjkf9/6IQt+k9WpzQa8eO7efzbxS+s8jmrenNDpL0dTmKyk5olD1A8Zti0NGtVDOSqFJhWydhWBTkdz1DDf8vOXfrihkq3/8cbMpVR2q+80FlTP2eswq/Tiu+W/s5ZYVTods867jwRbUtFJNp5IKv9zU1E33b+cuE+gzdcd063gUnc9q9umkJpPh7k0zvBAtYpfVVlTXL4kr/TKr8K1J7X53oql2TTOti3Uy7uqaGUVWHe3rSzSPyW5RLbxMK3nLlop/N6tXj7/UyP1dFeajTHtEh/VxPwFt1Og4KDsehLCZKTnXUHH9XoN1sXlW2XLvt1W/qlQqlW5XAgCAi3aSTWqk9ClrSgAAAOBMmPIDAHjLnSiTNNPsLeZ0p2aPIwUAAACaIUMFAHAJuB+PGnRaFQAAAODEgAoAAAAAAEBATPkBAAAAAAAIiAEVAAAAAACAgBhQAQAAAAAACIgBFQAAAAAAgIAYUAEAAAAAAAiIARUAAAAAAICAGFABAAAAAAAI6Nf//e9/u10HAAAAAACAwK5cudK1sslQAQAAAAAACOj/AYypx3NZLrbQAAAAAElFTkSuQmCC)"
      ]
    },
    {
      "cell_type": "code",
      "metadata": {
        "trusted": true,
        "id": "gs9Evl5PyrXc",
        "colab": {
          "base_uri": "https://localhost:8080/",
          "height": 34
        },
        "outputId": "c2f104b2-fe7f-4347-bb61-7c5556b8957a"
      },
      "source": [
        "#a) ---------------------------------------------------------------------\n",
        "#opción válida\n",
        "temp_df <- bind_rows(\n",
        " productos2$carniceria$cerdo\n",
        ",productos2$carniceria$pavo\n",
        ",productos2$carniceria$pollo\n",
        ",productos2$carniceria$vacuno\n",
        ",productos2$despensa$aceites_sal_y_condimentos\n",
        ",productos2$despensa$aderezos_y_salsas\n",
        ",productos2$despensa$arroz_y_legumbres\n",
        ",productos2$despensa$coctel\n",
        ",productos2$despensa$conservas\n",
        ",productos2$despensa$harina_y_complementos\n",
        ",productos2$despensa$instantaneos_y_sopas\n",
        ",productos2$despensa$pastas_y_salsas\n",
        ",productos2$despensa$reposteria\n",
        ",productos2$frutas_y_verduras$frutas\n",
        ",productos2$frutas_y_verduras$frutos_secos_y_semillas\n",
        ",productos2$frutas_y_verduras$verduras\n",
        ",productos2$lacteos$lacteos\n",
        ",productos2$lacteos$leches\n",
        ",productos2$lacteos$mantequillas_y_margarinas\n",
        ",productos2$lacteos$postres\n",
        ",productos2$supermercados$belleza_y_cuidado_personal\n",
        ",productos2$supermercados$comidas_preparadas\n",
        ",productos2$supermercados$congelados\n",
        ",productos2$supermercados$desayuno_y_dulces\n",
        ",productos2$supermercados$pescaderia\n",
        ",productos2$supermercados$vinos_cervezas_y_licores)\n",
        "\n",
        "temp_df <- temp_df[temp_df$sin_stock == 1,]\n",
        "temp_df <- temp_df[,c(\"title\",\"brand\",\"categoria\",\"subcategoria\",\"normal_price\")]\n",
        "dim(temp_df)"
      ],
      "execution_count": null,
      "outputs": [
        {
          "output_type": "display_data",
          "data": {
            "text/html": [
              "<style>\n",
              ".list-inline {list-style: none; margin:0; padding: 0}\n",
              ".list-inline>li {display: inline-block}\n",
              ".list-inline>li:not(:last-child)::after {content: \"\\00b7\"; padding: 0 .5ex}\n",
              "</style>\n",
              "<ol class=list-inline><li>4261</li><li>5</li></ol>\n"
            ],
            "text/markdown": "1. 4261\n2. 5\n\n\n",
            "text/latex": "\\begin{enumerate*}\n\\item 4261\n\\item 5\n\\end{enumerate*}\n",
            "text/plain": [
              "[1] 4261    5"
            ]
          },
          "metadata": {}
        }
      ]
    },
    {
      "cell_type": "code",
      "source": [
        "#Opción avanzada(Opcional, ver documentación de purrr)\n",
        "temp_df <- productos2 %>%\n",
        "  purrr::map(~bind_rows(.)) %>%\n",
        "  bind_rows() %>%\n",
        "  filter(sin_stock ==1) %>%\n",
        "  select(title,brand,categoria,subcategoria,normal_price)\n",
        "\n",
        "dim(temp_df)"
      ],
      "metadata": {
        "colab": {
          "base_uri": "https://localhost:8080/",
          "height": 34
        },
        "id": "SuSpMMtMFVQG",
        "outputId": "3f1a9e65-c9bf-4970-d695-7f86fc11941d"
      },
      "execution_count": null,
      "outputs": [
        {
          "output_type": "display_data",
          "data": {
            "text/html": [
              "<style>\n",
              ".list-inline {list-style: none; margin:0; padding: 0}\n",
              ".list-inline>li {display: inline-block}\n",
              ".list-inline>li:not(:last-child)::after {content: \"\\00b7\"; padding: 0 .5ex}\n",
              "</style>\n",
              "<ol class=list-inline><li>4261</li><li>5</li></ol>\n"
            ],
            "text/markdown": "1. 4261\n2. 5\n\n\n",
            "text/latex": "\\begin{enumerate*}\n\\item 4261\n\\item 5\n\\end{enumerate*}\n",
            "text/plain": [
              "[1] 4261    5"
            ]
          },
          "metadata": {}
        }
      ]
    },
    {
      "cell_type": "code",
      "source": [
        "count(temp_df, categoria,subcategoria)"
      ],
      "metadata": {
        "colab": {
          "base_uri": "https://localhost:8080/",
          "height": 913
        },
        "id": "Saib3pO-KhYf",
        "outputId": "46f7325f-bbec-4196-8fca-24a8703b6a5c"
      },
      "execution_count": null,
      "outputs": [
        {
          "output_type": "display_data",
          "data": {
            "text/html": [
              "<table class=\"dataframe\">\n",
              "<caption>A data.frame: 26 × 3</caption>\n",
              "<thead>\n",
              "\t<tr><th scope=col>categoria</th><th scope=col>subcategoria</th><th scope=col>n</th></tr>\n",
              "\t<tr><th scope=col>&lt;chr&gt;</th><th scope=col>&lt;chr&gt;</th><th scope=col>&lt;int&gt;</th></tr>\n",
              "</thead>\n",
              "<tbody>\n",
              "\t<tr><td>carniceria       </td><td>cerdo                     </td><td> 25</td></tr>\n",
              "\t<tr><td>carniceria       </td><td>pavo                      </td><td>  7</td></tr>\n",
              "\t<tr><td>carniceria       </td><td>pollo                     </td><td> 16</td></tr>\n",
              "\t<tr><td>carniceria       </td><td>vacuno                    </td><td> 30</td></tr>\n",
              "\t<tr><td>despensa         </td><td>aceites_sal_y_condimentos </td><td>342</td></tr>\n",
              "\t<tr><td>despensa         </td><td>aderezos_y_salsas         </td><td>390</td></tr>\n",
              "\t<tr><td>despensa         </td><td>arroz_y_legumbres         </td><td>312</td></tr>\n",
              "\t<tr><td>despensa         </td><td>coctel                    </td><td>226</td></tr>\n",
              "\t<tr><td>despensa         </td><td>conservas                 </td><td>465</td></tr>\n",
              "\t<tr><td>despensa         </td><td>harina_y_complementos     </td><td>105</td></tr>\n",
              "\t<tr><td>despensa         </td><td>instantaneos_y_sopas      </td><td> 64</td></tr>\n",
              "\t<tr><td>despensa         </td><td>pastas_y_salsas           </td><td>354</td></tr>\n",
              "\t<tr><td>despensa         </td><td>reposteria                </td><td>124</td></tr>\n",
              "\t<tr><td>frutas_y_verduras</td><td>frutas                    </td><td> 19</td></tr>\n",
              "\t<tr><td>frutas_y_verduras</td><td>frutos_secos_y_semillas   </td><td> 22</td></tr>\n",
              "\t<tr><td>frutas_y_verduras</td><td>verduras                  </td><td> 59</td></tr>\n",
              "\t<tr><td>lacteos          </td><td>lacteos                   </td><td>427</td></tr>\n",
              "\t<tr><td>lacteos          </td><td>leches                    </td><td>155</td></tr>\n",
              "\t<tr><td>lacteos          </td><td>mantequillas_y_margarinas </td><td> 46</td></tr>\n",
              "\t<tr><td>lacteos          </td><td>postres                   </td><td> 45</td></tr>\n",
              "\t<tr><td>supermercados    </td><td>belleza_y_cuidado_personal</td><td>229</td></tr>\n",
              "\t<tr><td>supermercados    </td><td>comidas_preparadas        </td><td> 43</td></tr>\n",
              "\t<tr><td>supermercados    </td><td>congelados                </td><td>236</td></tr>\n",
              "\t<tr><td>supermercados    </td><td>desayuno_y_dulces         </td><td>218</td></tr>\n",
              "\t<tr><td>supermercados    </td><td>pescaderia                </td><td> 72</td></tr>\n",
              "\t<tr><td>supermercados    </td><td>vinos_cervezas_y_licores  </td><td>230</td></tr>\n",
              "</tbody>\n",
              "</table>\n"
            ],
            "text/markdown": "\nA data.frame: 26 × 3\n\n| categoria &lt;chr&gt; | subcategoria &lt;chr&gt; | n &lt;int&gt; |\n|---|---|---|\n| carniceria        | cerdo                      |  25 |\n| carniceria        | pavo                       |   7 |\n| carniceria        | pollo                      |  16 |\n| carniceria        | vacuno                     |  30 |\n| despensa          | aceites_sal_y_condimentos  | 342 |\n| despensa          | aderezos_y_salsas          | 390 |\n| despensa          | arroz_y_legumbres          | 312 |\n| despensa          | coctel                     | 226 |\n| despensa          | conservas                  | 465 |\n| despensa          | harina_y_complementos      | 105 |\n| despensa          | instantaneos_y_sopas       |  64 |\n| despensa          | pastas_y_salsas            | 354 |\n| despensa          | reposteria                 | 124 |\n| frutas_y_verduras | frutas                     |  19 |\n| frutas_y_verduras | frutos_secos_y_semillas    |  22 |\n| frutas_y_verduras | verduras                   |  59 |\n| lacteos           | lacteos                    | 427 |\n| lacteos           | leches                     | 155 |\n| lacteos           | mantequillas_y_margarinas  |  46 |\n| lacteos           | postres                    |  45 |\n| supermercados     | belleza_y_cuidado_personal | 229 |\n| supermercados     | comidas_preparadas         |  43 |\n| supermercados     | congelados                 | 236 |\n| supermercados     | desayuno_y_dulces          | 218 |\n| supermercados     | pescaderia                 |  72 |\n| supermercados     | vinos_cervezas_y_licores   | 230 |\n\n",
            "text/latex": "A data.frame: 26 × 3\n\\begin{tabular}{lll}\n categoria & subcategoria & n\\\\\n <chr> & <chr> & <int>\\\\\n\\hline\n\t carniceria        & cerdo                      &  25\\\\\n\t carniceria        & pavo                       &   7\\\\\n\t carniceria        & pollo                      &  16\\\\\n\t carniceria        & vacuno                     &  30\\\\\n\t despensa          & aceites\\_sal\\_y\\_condimentos  & 342\\\\\n\t despensa          & aderezos\\_y\\_salsas          & 390\\\\\n\t despensa          & arroz\\_y\\_legumbres          & 312\\\\\n\t despensa          & coctel                     & 226\\\\\n\t despensa          & conservas                  & 465\\\\\n\t despensa          & harina\\_y\\_complementos      & 105\\\\\n\t despensa          & instantaneos\\_y\\_sopas       &  64\\\\\n\t despensa          & pastas\\_y\\_salsas            & 354\\\\\n\t despensa          & reposteria                 & 124\\\\\n\t frutas\\_y\\_verduras & frutas                     &  19\\\\\n\t frutas\\_y\\_verduras & frutos\\_secos\\_y\\_semillas    &  22\\\\\n\t frutas\\_y\\_verduras & verduras                   &  59\\\\\n\t lacteos           & lacteos                    & 427\\\\\n\t lacteos           & leches                     & 155\\\\\n\t lacteos           & mantequillas\\_y\\_margarinas  &  46\\\\\n\t lacteos           & postres                    &  45\\\\\n\t supermercados     & belleza\\_y\\_cuidado\\_personal & 229\\\\\n\t supermercados     & comidas\\_preparadas         &  43\\\\\n\t supermercados     & congelados                 & 236\\\\\n\t supermercados     & desayuno\\_y\\_dulces          & 218\\\\\n\t supermercados     & pescaderia                 &  72\\\\\n\t supermercados     & vinos\\_cervezas\\_y\\_licores   & 230\\\\\n\\end{tabular}\n",
            "text/plain": [
              "   categoria         subcategoria               n  \n",
              "1  carniceria        cerdo                       25\n",
              "2  carniceria        pavo                         7\n",
              "3  carniceria        pollo                       16\n",
              "4  carniceria        vacuno                      30\n",
              "5  despensa          aceites_sal_y_condimentos  342\n",
              "6  despensa          aderezos_y_salsas          390\n",
              "7  despensa          arroz_y_legumbres          312\n",
              "8  despensa          coctel                     226\n",
              "9  despensa          conservas                  465\n",
              "10 despensa          harina_y_complementos      105\n",
              "11 despensa          instantaneos_y_sopas        64\n",
              "12 despensa          pastas_y_salsas            354\n",
              "13 despensa          reposteria                 124\n",
              "14 frutas_y_verduras frutas                      19\n",
              "15 frutas_y_verduras frutos_secos_y_semillas     22\n",
              "16 frutas_y_verduras verduras                    59\n",
              "17 lacteos           lacteos                    427\n",
              "18 lacteos           leches                     155\n",
              "19 lacteos           mantequillas_y_margarinas   46\n",
              "20 lacteos           postres                     45\n",
              "21 supermercados     belleza_y_cuidado_personal 229\n",
              "22 supermercados     comidas_preparadas          43\n",
              "23 supermercados     congelados                 236\n",
              "24 supermercados     desayuno_y_dulces          218\n",
              "25 supermercados     pescaderia                  72\n",
              "26 supermercados     vinos_cervezas_y_licores   230"
            ]
          },
          "metadata": {}
        }
      ]
    },
    {
      "cell_type": "markdown",
      "source": [
        "**2a) (4pts)** Usted debe comprar los siguientes productos:\n",
        "  * \"Spaghetti\"\n",
        "  * \"Salsa de Tomate\"\n",
        "  * \"Chuleta\"\n",
        "\n",
        "Para ello debera identificar las marcas que ofrecen estos productos al menor precio y al mayor precio.<br>\n",
        "**NOTA:** Para buscar estos productos en el campo title puede utilizar la función `grepl` vista en clases.<br>\n",
        "**NOTA2:** Busque los términos indicados en la lista de arriba, por ejemplo si la búsqueda de \"Salsa de Tomate\" arroja 81 resultados, asuma que estos son los únicos productos de salsa de tomate (no se compliquen buscando otros como \"Salsa bolognesa\" por ejemplo). <br>\n",
        "**NOTA3:** De ser de utilidad, la función `unique()` retorna los elementos únicos de un vector. Acontinuación un ejemplo:\n"
      ],
      "metadata": {
        "id": "JgDNXiGUF2hs"
      }
    },
    {
      "cell_type": "code",
      "source": [
        "unique(c(\"Talliani\",\"Talliani\",\"Talliani\",\"Lucchetti\",\"Lucchetti\"))"
      ],
      "metadata": {
        "colab": {
          "base_uri": "https://localhost:8080/",
          "height": 34
        },
        "id": "o_RTtZ6MNJTr",
        "outputId": "44dca5d5-6120-49e9-9245-085eb7f80ed9"
      },
      "execution_count": null,
      "outputs": [
        {
          "output_type": "display_data",
          "data": {
            "text/html": [
              "<style>\n",
              ".list-inline {list-style: none; margin:0; padding: 0}\n",
              ".list-inline>li {display: inline-block}\n",
              ".list-inline>li:not(:last-child)::after {content: \"\\00b7\"; padding: 0 .5ex}\n",
              "</style>\n",
              "<ol class=list-inline><li>'Talliani'</li><li>'Lucchetti'</li></ol>\n"
            ],
            "text/markdown": "1. 'Talliani'\n2. 'Lucchetti'\n\n\n",
            "text/latex": "\\begin{enumerate*}\n\\item 'Talliani'\n\\item 'Lucchetti'\n\\end{enumerate*}\n",
            "text/plain": [
              "[1] \"Talliani\"  \"Lucchetti\""
            ]
          },
          "metadata": {}
        }
      ]
    },
    {
      "cell_type": "code",
      "source": [
        "#b) ---------------------------------------------------------------------\n",
        "#Spaghetti a menor precio: 'Talliani''Lucchetti'\n",
        "min_price_spaghetti <- min(temp_df[grepl(\"Spaghetti\",temp_df$title),\"normal_price\"])\n",
        "unique(temp_df[grepl(\"Spaghetti\",temp_df$title) & temp_df$normal_price == min_price_spaghetti ,\"brand\"])\n",
        "\n",
        "#Spaghetti a mayor precio: 'Carozzi'\n",
        "max_price_spaghetti <- max(temp_df[grepl(\"Spaghetti\",temp_df$title),\"normal_price\"])\n",
        "unique(temp_df[grepl(\"Spaghetti\",temp_df$title) & temp_df$normal_price == max_price_spaghetti ,\"brand\"])\n",
        "\n",
        "\n",
        "\n"
      ],
      "metadata": {
        "colab": {
          "base_uri": "https://localhost:8080/",
          "height": 52
        },
        "id": "rC6w25VlGSE9",
        "outputId": "c99890f0-9603-4ebc-db4b-ef88e371f198"
      },
      "execution_count": null,
      "outputs": [
        {
          "output_type": "display_data",
          "data": {
            "text/html": [
              "<style>\n",
              ".list-inline {list-style: none; margin:0; padding: 0}\n",
              ".list-inline>li {display: inline-block}\n",
              ".list-inline>li:not(:last-child)::after {content: \"\\00b7\"; padding: 0 .5ex}\n",
              "</style>\n",
              "<ol class=list-inline><li>'Talliani'</li><li>'Lucchetti'</li></ol>\n"
            ],
            "text/markdown": "1. 'Talliani'\n2. 'Lucchetti'\n\n\n",
            "text/latex": "\\begin{enumerate*}\n\\item 'Talliani'\n\\item 'Lucchetti'\n\\end{enumerate*}\n",
            "text/plain": [
              "[1] \"Talliani\"  \"Lucchetti\""
            ]
          },
          "metadata": {}
        },
        {
          "output_type": "display_data",
          "data": {
            "text/html": [
              "'Carozzi'"
            ],
            "text/markdown": "'Carozzi'",
            "text/latex": "'Carozzi'",
            "text/plain": [
              "[1] \"Carozzi\""
            ]
          },
          "metadata": {}
        }
      ]
    },
    {
      "cell_type": "code",
      "source": [
        "#Salsa a menor precio: 'Lucchetti'\n",
        "min_price_salsa <- min(temp_df[grepl(\"Salsa de Tomate\",temp_df$title),\"normal_price\"])\n",
        "unique(temp_df[grepl(\"Salsa de Tomate\",temp_df$title) & temp_df$normal_price == min_price_salsa ,\"brand\"])\n",
        "min_price_salsa\n",
        "\n",
        "#Salsa a mayor precio: 'Lucchetti'\n",
        "max_price_salsa <- max(temp_df[grepl(\"Salsa de Tomate\",temp_df$title),\"normal_price\"])\n",
        "unique(temp_df[grepl(\"Salsa de Tomate\",temp_df$title) & temp_df$normal_price == max_price_salsa ,\"brand\"])\n",
        "max_price_salsa"
      ],
      "metadata": {
        "colab": {
          "base_uri": "https://localhost:8080/",
          "height": 86
        },
        "id": "45NqB3DtOLU1",
        "outputId": "9f239b09-203a-4292-bfde-1b1d4838af47"
      },
      "execution_count": null,
      "outputs": [
        {
          "output_type": "display_data",
          "data": {
            "text/html": [
              "'Lucchetti'"
            ],
            "text/markdown": "'Lucchetti'",
            "text/latex": "'Lucchetti'",
            "text/plain": [
              "[1] \"Lucchetti\""
            ]
          },
          "metadata": {}
        },
        {
          "output_type": "display_data",
          "data": {
            "text/html": [
              "569"
            ],
            "text/markdown": "569",
            "text/latex": "569",
            "text/plain": [
              "[1] 569"
            ]
          },
          "metadata": {}
        },
        {
          "output_type": "display_data",
          "data": {
            "text/html": [
              "'Lucchetti'"
            ],
            "text/markdown": "'Lucchetti'",
            "text/latex": "'Lucchetti'",
            "text/plain": [
              "[1] \"Lucchetti\""
            ]
          },
          "metadata": {}
        },
        {
          "output_type": "display_data",
          "data": {
            "text/html": [
              "2549"
            ],
            "text/markdown": "2549",
            "text/latex": "2549",
            "text/plain": [
              "[1] 2549"
            ]
          },
          "metadata": {}
        }
      ]
    },
    {
      "cell_type": "code",
      "source": [
        "#Chuleta a menor precio: 'Super Cerdo'\n",
        "min_price_chuleta <- min(temp_df[grepl(\"Chuleta\",temp_df$title),\"normal_price\"])\n",
        "unique(temp_df[grepl(\"Chuleta\",temp_df$title) & temp_df$normal_price == min_price_chuleta ,\"brand\"])\n",
        "\n",
        "#Chuleta a mayor precio: 'Super Cerdo''Tak'\n",
        "max_price_chuleta <- max(temp_df[grepl(\"Chuleta\",temp_df$title),\"normal_price\"])\n",
        "unique(temp_df[grepl(\"Chuleta\",temp_df$title) & temp_df$normal_price == max_price_chuleta ,\"brand\"])"
      ],
      "metadata": {
        "colab": {
          "base_uri": "https://localhost:8080/",
          "height": 52
        },
        "id": "FcUlj9SSGZtj",
        "outputId": "bb0b56cf-c816-4268-bc34-8a83253572a1"
      },
      "execution_count": null,
      "outputs": [
        {
          "output_type": "display_data",
          "data": {
            "text/html": [
              "'Super Cerdo'"
            ],
            "text/markdown": "'Super Cerdo'",
            "text/latex": "'Super Cerdo'",
            "text/plain": [
              "[1] \"Super Cerdo\""
            ]
          },
          "metadata": {}
        },
        {
          "output_type": "display_data",
          "data": {
            "text/html": [
              "<style>\n",
              ".list-inline {list-style: none; margin:0; padding: 0}\n",
              ".list-inline>li {display: inline-block}\n",
              ".list-inline>li:not(:last-child)::after {content: \"\\00b7\"; padding: 0 .5ex}\n",
              "</style>\n",
              "<ol class=list-inline><li>'Super Cerdo'</li><li>'Tak'</li></ol>\n"
            ],
            "text/markdown": "1. 'Super Cerdo'\n2. 'Tak'\n\n\n",
            "text/latex": "\\begin{enumerate*}\n\\item 'Super Cerdo'\n\\item 'Tak'\n\\end{enumerate*}\n",
            "text/plain": [
              "[1] \"Super Cerdo\" \"Tak\"        "
            ]
          },
          "metadata": {}
        }
      ]
    },
    {
      "cell_type": "code",
      "source": [],
      "metadata": {
        "id": "epiA0hubnV_A"
      },
      "execution_count": null,
      "outputs": []
    }
  ]
}