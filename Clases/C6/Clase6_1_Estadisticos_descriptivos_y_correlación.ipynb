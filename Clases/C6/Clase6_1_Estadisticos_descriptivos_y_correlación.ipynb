{
  "nbformat": 4,
  "nbformat_minor": 0,
  "metadata": {
    "colab": {
      "provenance": [],
      "include_colab_link": true
    },
    "kernelspec": {
      "name": "ir",
      "display_name": "R"
    }
  },
  "cells": [
    {
      "cell_type": "markdown",
      "metadata": {
        "id": "view-in-github",
        "colab_type": "text"
      },
      "source": [
        "<a href=\"https://colab.research.google.com/github/majorquev/DBDC_202409_Programacion_en_R_para_ciencia_de_datos/blob/main/Clases/C6/Clase6_1_Estadisticos_descriptivos_y_correlaci%C3%B3n.ipynb\" target=\"_parent\"><img src=\"https://colab.research.google.com/assets/colab-badge.svg\" alt=\"Open In Colab\"/></a>"
      ]
    },
    {
      "cell_type": "code",
      "metadata": {
        "trusted": true,
        "id": "SiyCstC3taEv"
      },
      "source": [
        "options(repr.plot.width=8, repr.plot.height=6)"
      ],
      "execution_count": 1,
      "outputs": []
    },
    {
      "cell_type": "markdown",
      "metadata": {
        "id": "A1CRkvEqtaEy"
      },
      "source": [
        "# Parte 4: Análisis descriptivo con R\n",
        "\n",
        "**Autor:** Miguel Jorquera Viguera<br>\n",
        "**E-mail:** majorquev@gmail.com<br>\n",
        "**Ayudante:** Rodrigo Morales<br>\n",
        "**E-mail ayudante:** rumorale1@gmail.com\n",
        "\n",
        "\n",
        "Una de las fases principales dentro de un proyecto de Data Science, corresponde al análisis exploratorio de datos. Es en esta etapa donde se realizan los primeros hallazgos, se verifica la calidad de los datos, se detectan anomalías, se identifican patrones y se realizan preguntas claves que permitan comenzar a realizar inferencias , o si es el caso, comenzar a plantear modelos con fines predictivos.\n",
        "\n",
        "## I. Estadísticos descriptivos\n",
        "### a) Medidas de posición\n",
        "Corresponden a valores que nos permiten dividir nuestra muestra en conjuntos con aproximadamente la misma cantidad de individuos.\n",
        "### b) Medidas de tendencia central\n",
        "Corresponden a medidas a las que tienden “agruparse” los datos de la muestra .\n",
        "### c) Medidas de dispersión\n",
        "Medidas que cuantifican el nivel de heterogeneidad de una variable numérica.\n",
        "\n",
        "\n",
        "En R contamos con funciones para lo anterior:\n",
        "\n",
        " - summary(): Por defecto entrega estadísticos de posición (cuartiles), min, max y media.\n",
        " - quantiles(): Retorna uno o varios percentiles de interés.\n",
        " - mean(): Calcula la media de un vector numérico.\n",
        " - median(): Calcula la mediana de un vector numérico.\n",
        " - sd(): Retorna la desviación estándar muestral.\n",
        " - var(): Retorna la varianza muestral.\n",
        "\n",
        "### I.1. Descripción de data _mpg_\n",
        "\n",
        "Analicemos el rendimiento en ciudad en función de los estadísticos descriptivos más conocidos.\n"
      ]
    },
    {
      "cell_type": "code",
      "metadata": {
        "trusted": true,
        "id": "oXGQ0nTUtaEz",
        "outputId": "cdd5dc47-fdf6-42f5-ff4e-7e4b3764b33d",
        "colab": {
          "base_uri": "https://localhost:8080/"
        }
      },
      "source": [
        "library(ggplot2)\n",
        "library(dplyr)"
      ],
      "execution_count": 2,
      "outputs": [
        {
          "output_type": "stream",
          "name": "stderr",
          "text": [
            "\n",
            "Attaching package: ‘dplyr’\n",
            "\n",
            "\n",
            "The following objects are masked from ‘package:stats’:\n",
            "\n",
            "    filter, lag\n",
            "\n",
            "\n",
            "The following objects are masked from ‘package:base’:\n",
            "\n",
            "    intersect, setdiff, setequal, union\n",
            "\n",
            "\n"
          ]
        }
      ]
    },
    {
      "cell_type": "code",
      "metadata": {
        "id": "FtACdAo07S_x",
        "outputId": "fcdab27c-4c94-423e-8a5e-431b5c5fcc15",
        "colab": {
          "base_uri": "https://localhost:8080/",
          "height": 286
        }
      },
      "source": [
        "data(mpg)\n",
        "head(mpg)\n",
        "# cyl: cilindros\n",
        "# displ: Engine displacement, in lt \"cilindrada\"\n",
        "# drv: traccion\n",
        "# cty: city miles miles per gallonb\n",
        "# hwy: highway miles per gallon\n",
        "# fl: fuel type\n",
        "# class: \"type\" of car"
      ],
      "execution_count": 3,
      "outputs": [
        {
          "output_type": "display_data",
          "data": {
            "text/html": [
              "<table class=\"dataframe\">\n",
              "<caption>A tibble: 6 × 11</caption>\n",
              "<thead>\n",
              "\t<tr><th scope=col>manufacturer</th><th scope=col>model</th><th scope=col>displ</th><th scope=col>year</th><th scope=col>cyl</th><th scope=col>trans</th><th scope=col>drv</th><th scope=col>cty</th><th scope=col>hwy</th><th scope=col>fl</th><th scope=col>class</th></tr>\n",
              "\t<tr><th scope=col>&lt;chr&gt;</th><th scope=col>&lt;chr&gt;</th><th scope=col>&lt;dbl&gt;</th><th scope=col>&lt;int&gt;</th><th scope=col>&lt;int&gt;</th><th scope=col>&lt;chr&gt;</th><th scope=col>&lt;chr&gt;</th><th scope=col>&lt;int&gt;</th><th scope=col>&lt;int&gt;</th><th scope=col>&lt;chr&gt;</th><th scope=col>&lt;chr&gt;</th></tr>\n",
              "</thead>\n",
              "<tbody>\n",
              "\t<tr><td>audi</td><td>a4</td><td>1.8</td><td>1999</td><td>4</td><td>auto(l5)  </td><td>f</td><td>18</td><td>29</td><td>p</td><td>compact</td></tr>\n",
              "\t<tr><td>audi</td><td>a4</td><td>1.8</td><td>1999</td><td>4</td><td>manual(m5)</td><td>f</td><td>21</td><td>29</td><td>p</td><td>compact</td></tr>\n",
              "\t<tr><td>audi</td><td>a4</td><td>2.0</td><td>2008</td><td>4</td><td>manual(m6)</td><td>f</td><td>20</td><td>31</td><td>p</td><td>compact</td></tr>\n",
              "\t<tr><td>audi</td><td>a4</td><td>2.0</td><td>2008</td><td>4</td><td>auto(av)  </td><td>f</td><td>21</td><td>30</td><td>p</td><td>compact</td></tr>\n",
              "\t<tr><td>audi</td><td>a4</td><td>2.8</td><td>1999</td><td>6</td><td>auto(l5)  </td><td>f</td><td>16</td><td>26</td><td>p</td><td>compact</td></tr>\n",
              "\t<tr><td>audi</td><td>a4</td><td>2.8</td><td>1999</td><td>6</td><td>manual(m5)</td><td>f</td><td>18</td><td>26</td><td>p</td><td>compact</td></tr>\n",
              "</tbody>\n",
              "</table>\n"
            ],
            "text/markdown": "\nA tibble: 6 × 11\n\n| manufacturer &lt;chr&gt; | model &lt;chr&gt; | displ &lt;dbl&gt; | year &lt;int&gt; | cyl &lt;int&gt; | trans &lt;chr&gt; | drv &lt;chr&gt; | cty &lt;int&gt; | hwy &lt;int&gt; | fl &lt;chr&gt; | class &lt;chr&gt; |\n|---|---|---|---|---|---|---|---|---|---|---|\n| audi | a4 | 1.8 | 1999 | 4 | auto(l5)   | f | 18 | 29 | p | compact |\n| audi | a4 | 1.8 | 1999 | 4 | manual(m5) | f | 21 | 29 | p | compact |\n| audi | a4 | 2.0 | 2008 | 4 | manual(m6) | f | 20 | 31 | p | compact |\n| audi | a4 | 2.0 | 2008 | 4 | auto(av)   | f | 21 | 30 | p | compact |\n| audi | a4 | 2.8 | 1999 | 6 | auto(l5)   | f | 16 | 26 | p | compact |\n| audi | a4 | 2.8 | 1999 | 6 | manual(m5) | f | 18 | 26 | p | compact |\n\n",
            "text/latex": "A tibble: 6 × 11\n\\begin{tabular}{lllllllllll}\n manufacturer & model & displ & year & cyl & trans & drv & cty & hwy & fl & class\\\\\n <chr> & <chr> & <dbl> & <int> & <int> & <chr> & <chr> & <int> & <int> & <chr> & <chr>\\\\\n\\hline\n\t audi & a4 & 1.8 & 1999 & 4 & auto(l5)   & f & 18 & 29 & p & compact\\\\\n\t audi & a4 & 1.8 & 1999 & 4 & manual(m5) & f & 21 & 29 & p & compact\\\\\n\t audi & a4 & 2.0 & 2008 & 4 & manual(m6) & f & 20 & 31 & p & compact\\\\\n\t audi & a4 & 2.0 & 2008 & 4 & auto(av)   & f & 21 & 30 & p & compact\\\\\n\t audi & a4 & 2.8 & 1999 & 6 & auto(l5)   & f & 16 & 26 & p & compact\\\\\n\t audi & a4 & 2.8 & 1999 & 6 & manual(m5) & f & 18 & 26 & p & compact\\\\\n\\end{tabular}\n",
            "text/plain": [
              "  manufacturer model displ year cyl trans      drv cty hwy fl class  \n",
              "1 audi         a4    1.8   1999 4   auto(l5)   f   18  29  p  compact\n",
              "2 audi         a4    1.8   1999 4   manual(m5) f   21  29  p  compact\n",
              "3 audi         a4    2.0   2008 4   manual(m6) f   20  31  p  compact\n",
              "4 audi         a4    2.0   2008 4   auto(av)   f   21  30  p  compact\n",
              "5 audi         a4    2.8   1999 6   auto(l5)   f   16  26  p  compact\n",
              "6 audi         a4    2.8   1999 6   manual(m5) f   18  26  p  compact"
            ]
          },
          "metadata": {}
        }
      ]
    },
    {
      "cell_type": "markdown",
      "metadata": {
        "id": "uFwlRpMnsGhY"
      },
      "source": [
        "### Media, Mediana  y percentiles\n",
        "Los percentiles, en particular la mediana corresponden a estadísticos de posición, ya que nos permiten \"ubicarnos\" dentro de la muestra que estamos analizando y nos dan una primera idea sobre la distribución de los datos a analizar. Por su parte la media (aritmética) corresponde a un estadístico de tendencia central."
      ]
    },
    {
      "cell_type": "code",
      "metadata": {
        "trusted": true,
        "id": "QTX6t-qetaE2",
        "outputId": "0cc0577e-0e43-4dca-dfa3-67b320c42fee",
        "colab": {
          "base_uri": "https://localhost:8080/",
          "height": 86
        }
      },
      "source": [
        "# describamos el rendimiento en carretera en función de los estadísticos de pos., tendencia central  y dispersión\n",
        "\n",
        "# promedio\n",
        "print(paste(\"El promedio es: \", mean(mpg$hwy)))\n",
        "# mediana\n",
        "print(paste(\"La mediana es: \", median(mpg$hwy))) # el 50% de los vehículos analizados tiene un rendimiento menor o igual a 24mpg\n",
        "# percentiles\n",
        "quantile(median(mpg$hwy), 0.5)\n",
        "# Más de un percentil a la vez\n",
        "quantile(mpg$hwy, c(0.25,0.5,0.75)) # Son los cuartiles\n"
      ],
      "execution_count": 9,
      "outputs": [
        {
          "output_type": "stream",
          "name": "stdout",
          "text": [
            "[1] \"El promedio es:  23.4401709401709\"\n",
            "[1] \"La mediana es:  24\"\n"
          ]
        },
        {
          "output_type": "display_data",
          "data": {
            "text/html": [
              "<strong>50%:</strong> 24"
            ],
            "text/markdown": "**50%:** 24",
            "text/latex": "\\textbf{50\\textbackslash{}\\%:} 24",
            "text/plain": [
              "50% \n",
              " 24 "
            ]
          },
          "metadata": {}
        },
        {
          "output_type": "display_data",
          "data": {
            "text/html": [
              "<style>\n",
              ".dl-inline {width: auto; margin:0; padding: 0}\n",
              ".dl-inline>dt, .dl-inline>dd {float: none; width: auto; display: inline-block}\n",
              ".dl-inline>dt::after {content: \":\\0020\"; padding-right: .5ex}\n",
              ".dl-inline>dt:not(:first-of-type) {padding-left: .5ex}\n",
              "</style><dl class=dl-inline><dt>25%</dt><dd>18</dd><dt>50%</dt><dd>24</dd><dt>75%</dt><dd>27</dd></dl>\n"
            ],
            "text/markdown": "25%\n:   1850%\n:   2475%\n:   27\n\n",
            "text/latex": "\\begin{description*}\n\\item[25\\textbackslash{}\\%] 18\n\\item[50\\textbackslash{}\\%] 24\n\\item[75\\textbackslash{}\\%] 27\n\\end{description*}\n",
            "text/plain": [
              "25% 50% 75% \n",
              " 18  24  27 "
            ]
          },
          "metadata": {}
        }
      ]
    },
    {
      "cell_type": "code",
      "metadata": {
        "trusted": true,
        "id": "OOslmhxItaE_",
        "outputId": "b8686d34-58b1-4294-82e4-55c3fcf4eb74",
        "colab": {
          "base_uri": "https://localhost:8080/",
          "height": 377
        }
      },
      "source": [
        "# recordar que podemos visualizar los cuartiles en un boxplot\n",
        "mpg %>%\n",
        "  ggplot() +\n",
        "  aes(y = hwy) +\n",
        "  geom_boxplot()\n"
      ],
      "execution_count": 8,
      "outputs": [
        {
          "output_type": "display_data",
          "data": {
            "text/plain": [
              "plot without title"
            ],
            "image/png": "[encoded data removed]"
          },
          "metadata": {
            "image/png": {
              "width": 480,
              "height": 360
            }
          }
        }
      ]
    },
    {
      "cell_type": "markdown",
      "metadata": {
        "id": "cAFXlV4OtqkN"
      },
      "source": [
        "### Medidas de dispersión\n",
        "Rango, desviación estándar  y rango intercuartílico. Son medidas que buscan cuantificar el nivel de dispersión o heterogeneidad de nuestra muestra."
      ]
    },
    {
      "cell_type": "code",
      "metadata": {
        "trusted": true,
        "id": "TzOiNHZxtaFE",
        "outputId": "23591541-9b01-4e61-a230-23be6bf15f90",
        "colab": {
          "base_uri": "https://localhost:8080/",
          "height": 52
        }
      },
      "source": [
        "# medidas de dispersión ---------------\n",
        "\n",
        "# Rango\n",
        "max(mpg$hwy) - min(mpg$hwy)\n",
        "\n",
        "# Cómo saber cuál es el auto que tiene el menor rendimiento en carretera\n",
        "# Desviación estándar\n",
        "sd(mpg$hwy) # Podemos decir \"que en promedio los rendimientos 'distan' de la media en 6 millas por galon\".\n",
        "\n",
        "\n"
      ],
      "execution_count": 10,
      "outputs": [
        {
          "output_type": "display_data",
          "data": {
            "text/html": [
              "32"
            ],
            "text/markdown": "32",
            "text/latex": "32",
            "text/plain": [
              "[1] 32"
            ]
          },
          "metadata": {}
        },
        {
          "output_type": "display_data",
          "data": {
            "text/html": [
              "5.95464344116645"
            ],
            "text/markdown": "5.95464344116645",
            "text/latex": "5.95464344116645",
            "text/plain": [
              "[1] 5.954643"
            ]
          },
          "metadata": {}
        }
      ]
    },
    {
      "cell_type": "code",
      "source": [
        "# Esa desviación estandar es alta o baja?\n",
        "# podemos relativizar dicha medida a la media"
      ],
      "metadata": {
        "id": "EEuxobr_qN2_"
      },
      "execution_count": null,
      "outputs": []
    },
    {
      "cell_type": "code",
      "source": [
        "# Coef de variación = desviación estandar / |promedio|\n",
        "  sd(mpg$hwy)/abs(mean(mpg$hwy))"
      ],
      "metadata": {
        "id": "pLPEfQb2qMSY",
        "outputId": "74ec645a-fe1c-4d05-c121-ce761d77c042",
        "colab": {
          "base_uri": "https://localhost:8080/",
          "height": 34
        }
      },
      "execution_count": 11,
      "outputs": [
        {
          "output_type": "display_data",
          "data": {
            "text/html": [
              "0.254035836870182"
            ],
            "text/markdown": "0.254035836870182",
            "text/latex": "0.254035836870182",
            "text/plain": [
              "[1] 0.2540358"
            ]
          },
          "metadata": {}
        }
      ]
    },
    {
      "cell_type": "code",
      "source": [
        "# Muestra A: sd = 300000, mean = 50000000\n",
        "# Muestra B: sd = 300000, mean = 700000\n",
        "\n",
        "(cv_A = 300000/50000000)\n",
        "(cv_B = 300000/700000)"
      ],
      "metadata": {
        "id": "ZjY0oPoBrPgw",
        "outputId": "785fb88e-70e2-46ba-a30c-c53a104449be",
        "colab": {
          "base_uri": "https://localhost:8080/",
          "height": 52
        }
      },
      "execution_count": 12,
      "outputs": [
        {
          "output_type": "display_data",
          "data": {
            "text/html": [
              "0.006"
            ],
            "text/markdown": "0.006",
            "text/latex": "0.006",
            "text/plain": [
              "[1] 0.006"
            ]
          },
          "metadata": {}
        },
        {
          "output_type": "display_data",
          "data": {
            "text/html": [
              "0.428571428571429"
            ],
            "text/markdown": "0.428571428571429",
            "text/latex": "0.428571428571429",
            "text/plain": [
              "[1] 0.4285714"
            ]
          },
          "metadata": {}
        }
      ]
    },
    {
      "cell_type": "code",
      "metadata": {
        "trusted": true,
        "id": "JCFwaE3_taFB",
        "outputId": "c1feea5a-2c04-4e7f-a13b-63926c0abd6e",
        "colab": {
          "base_uri": "https://localhost:8080/",
          "height": 52
        }
      },
      "source": [
        "# Rango Inter-cuartílico\n",
        "# Corresponde a la diferencia entre el percentil 75 y el percetil 25. Reppresenta el \"anchho de la caja\" en un boxplot.\n",
        "\n",
        "quantile(mpg$hwy,0.75) - quantile(mpg$hwy,0.25)\n",
        "IQR(mpg$hwy)\n",
        "# Corresponde al rango del 50% central de la muestra."
      ],
      "execution_count": 15,
      "outputs": [
        {
          "output_type": "display_data",
          "data": {
            "text/html": [
              "<strong>75%:</strong> 9"
            ],
            "text/markdown": "**75%:** 9",
            "text/latex": "\\textbf{75\\textbackslash{}\\%:} 9",
            "text/plain": [
              "75% \n",
              "  9 "
            ]
          },
          "metadata": {}
        },
        {
          "output_type": "display_data",
          "data": {
            "text/html": [
              "9"
            ],
            "text/markdown": "9",
            "text/latex": "9",
            "text/plain": [
              "[1] 9"
            ]
          },
          "metadata": {}
        }
      ]
    },
    {
      "cell_type": "code",
      "source": [
        "# Una obs se considera \"extrema\" si si valor está por sobre (debajo) 1.5 veces el rango intercuartílico (RI = Q3- Q1)\n",
        "# IQR(mpg$hwy)\n",
        "mpg %>%\n",
        "  ggplot() +\n",
        "  aes(y = hwy) +\n",
        "  geom_boxplot()"
      ],
      "metadata": {
        "id": "E1YVPIT9s98h",
        "outputId": "578d439e-3fa8-4474-bcb5-c2c6d01a3b29",
        "colab": {
          "base_uri": "https://localhost:8080/",
          "height": 377
        }
      },
      "execution_count": 14,
      "outputs": [
        {
          "output_type": "display_data",
          "data": {
            "text/plain": [
              "plot without title"
            ],
            "image/png": "[encoded data removed]"
          },
          "metadata": {
            "image/png": {
              "width": 480,
              "height": 360
            }
          }
        }
      ]
    },
    {
      "cell_type": "code",
      "source": [
        "head(mpg)"
      ],
      "metadata": {
        "id": "y5C_q0eZu_eA",
        "outputId": "f6086522-bb3e-471d-ce01-6844aa2abccf",
        "colab": {
          "base_uri": "https://localhost:8080/",
          "height": 286
        }
      },
      "execution_count": 16,
      "outputs": [
        {
          "output_type": "display_data",
          "data": {
            "text/html": [
              "<table class=\"dataframe\">\n",
              "<caption>A tibble: 6 × 11</caption>\n",
              "<thead>\n",
              "\t<tr><th scope=col>manufacturer</th><th scope=col>model</th><th scope=col>displ</th><th scope=col>year</th><th scope=col>cyl</th><th scope=col>trans</th><th scope=col>drv</th><th scope=col>cty</th><th scope=col>hwy</th><th scope=col>fl</th><th scope=col>class</th></tr>\n",
              "\t<tr><th scope=col>&lt;chr&gt;</th><th scope=col>&lt;chr&gt;</th><th scope=col>&lt;dbl&gt;</th><th scope=col>&lt;int&gt;</th><th scope=col>&lt;int&gt;</th><th scope=col>&lt;chr&gt;</th><th scope=col>&lt;chr&gt;</th><th scope=col>&lt;int&gt;</th><th scope=col>&lt;int&gt;</th><th scope=col>&lt;chr&gt;</th><th scope=col>&lt;chr&gt;</th></tr>\n",
              "</thead>\n",
              "<tbody>\n",
              "\t<tr><td>audi</td><td>a4</td><td>1.8</td><td>1999</td><td>4</td><td>auto(l5)  </td><td>f</td><td>18</td><td>29</td><td>p</td><td>compact</td></tr>\n",
              "\t<tr><td>audi</td><td>a4</td><td>1.8</td><td>1999</td><td>4</td><td>manual(m5)</td><td>f</td><td>21</td><td>29</td><td>p</td><td>compact</td></tr>\n",
              "\t<tr><td>audi</td><td>a4</td><td>2.0</td><td>2008</td><td>4</td><td>manual(m6)</td><td>f</td><td>20</td><td>31</td><td>p</td><td>compact</td></tr>\n",
              "\t<tr><td>audi</td><td>a4</td><td>2.0</td><td>2008</td><td>4</td><td>auto(av)  </td><td>f</td><td>21</td><td>30</td><td>p</td><td>compact</td></tr>\n",
              "\t<tr><td>audi</td><td>a4</td><td>2.8</td><td>1999</td><td>6</td><td>auto(l5)  </td><td>f</td><td>16</td><td>26</td><td>p</td><td>compact</td></tr>\n",
              "\t<tr><td>audi</td><td>a4</td><td>2.8</td><td>1999</td><td>6</td><td>manual(m5)</td><td>f</td><td>18</td><td>26</td><td>p</td><td>compact</td></tr>\n",
              "</tbody>\n",
              "</table>\n"
            ],
            "text/markdown": "\nA tibble: 6 × 11\n\n| manufacturer &lt;chr&gt; | model &lt;chr&gt; | displ &lt;dbl&gt; | year &lt;int&gt; | cyl &lt;int&gt; | trans &lt;chr&gt; | drv &lt;chr&gt; | cty &lt;int&gt; | hwy &lt;int&gt; | fl &lt;chr&gt; | class &lt;chr&gt; |\n|---|---|---|---|---|---|---|---|---|---|---|\n| audi | a4 | 1.8 | 1999 | 4 | auto(l5)   | f | 18 | 29 | p | compact |\n| audi | a4 | 1.8 | 1999 | 4 | manual(m5) | f | 21 | 29 | p | compact |\n| audi | a4 | 2.0 | 2008 | 4 | manual(m6) | f | 20 | 31 | p | compact |\n| audi | a4 | 2.0 | 2008 | 4 | auto(av)   | f | 21 | 30 | p | compact |\n| audi | a4 | 2.8 | 1999 | 6 | auto(l5)   | f | 16 | 26 | p | compact |\n| audi | a4 | 2.8 | 1999 | 6 | manual(m5) | f | 18 | 26 | p | compact |\n\n",
            "text/latex": "A tibble: 6 × 11\n\\begin{tabular}{lllllllllll}\n manufacturer & model & displ & year & cyl & trans & drv & cty & hwy & fl & class\\\\\n <chr> & <chr> & <dbl> & <int> & <int> & <chr> & <chr> & <int> & <int> & <chr> & <chr>\\\\\n\\hline\n\t audi & a4 & 1.8 & 1999 & 4 & auto(l5)   & f & 18 & 29 & p & compact\\\\\n\t audi & a4 & 1.8 & 1999 & 4 & manual(m5) & f & 21 & 29 & p & compact\\\\\n\t audi & a4 & 2.0 & 2008 & 4 & manual(m6) & f & 20 & 31 & p & compact\\\\\n\t audi & a4 & 2.0 & 2008 & 4 & auto(av)   & f & 21 & 30 & p & compact\\\\\n\t audi & a4 & 2.8 & 1999 & 6 & auto(l5)   & f & 16 & 26 & p & compact\\\\\n\t audi & a4 & 2.8 & 1999 & 6 & manual(m5) & f & 18 & 26 & p & compact\\\\\n\\end{tabular}\n",
            "text/plain": [
              "  manufacturer model displ year cyl trans      drv cty hwy fl class  \n",
              "1 audi         a4    1.8   1999 4   auto(l5)   f   18  29  p  compact\n",
              "2 audi         a4    1.8   1999 4   manual(m5) f   21  29  p  compact\n",
              "3 audi         a4    2.0   2008 4   manual(m6) f   20  31  p  compact\n",
              "4 audi         a4    2.0   2008 4   auto(av)   f   21  30  p  compact\n",
              "5 audi         a4    2.8   1999 6   auto(l5)   f   16  26  p  compact\n",
              "6 audi         a4    2.8   1999 6   manual(m5) f   18  26  p  compact"
            ]
          },
          "metadata": {}
        }
      ]
    },
    {
      "cell_type": "code",
      "source": [
        "# lim sup 1.5*IQR (por \"arriba\")\n",
        "mpg %>%\n",
        "  mutate(umbral_iqr_alto = quantile(hwy,0.75) + 1.5*IQR(hwy)) %>%\n",
        "  filter(hwy > umbral_iqr_alto)\n",
        "\n",
        ""
      ],
      "metadata": {
        "id": "cx6H0ob2uLcr",
        "outputId": "70a11c2c-fbce-429c-8a90-c3a05f43a5fe",
        "colab": {
          "base_uri": "https://localhost:8080/",
          "height": 192
        }
      },
      "execution_count": 18,
      "outputs": [
        {
          "output_type": "display_data",
          "data": {
            "text/html": [
              "<table class=\"dataframe\">\n",
              "<caption>A tibble: 3 × 12</caption>\n",
              "<thead>\n",
              "\t<tr><th scope=col>manufacturer</th><th scope=col>model</th><th scope=col>displ</th><th scope=col>year</th><th scope=col>cyl</th><th scope=col>trans</th><th scope=col>drv</th><th scope=col>cty</th><th scope=col>hwy</th><th scope=col>fl</th><th scope=col>class</th><th scope=col>umbral_iqr_alto</th></tr>\n",
              "\t<tr><th scope=col>&lt;chr&gt;</th><th scope=col>&lt;chr&gt;</th><th scope=col>&lt;dbl&gt;</th><th scope=col>&lt;int&gt;</th><th scope=col>&lt;int&gt;</th><th scope=col>&lt;chr&gt;</th><th scope=col>&lt;chr&gt;</th><th scope=col>&lt;int&gt;</th><th scope=col>&lt;int&gt;</th><th scope=col>&lt;chr&gt;</th><th scope=col>&lt;chr&gt;</th><th scope=col>&lt;dbl&gt;</th></tr>\n",
              "</thead>\n",
              "<tbody>\n",
              "\t<tr><td>volkswagen</td><td>jetta     </td><td>1.9</td><td>1999</td><td>4</td><td>manual(m5)</td><td>f</td><td>33</td><td>44</td><td>d</td><td>compact   </td><td>40.5</td></tr>\n",
              "\t<tr><td>volkswagen</td><td>new beetle</td><td>1.9</td><td>1999</td><td>4</td><td>manual(m5)</td><td>f</td><td>35</td><td>44</td><td>d</td><td>subcompact</td><td>40.5</td></tr>\n",
              "\t<tr><td>volkswagen</td><td>new beetle</td><td>1.9</td><td>1999</td><td>4</td><td>auto(l4)  </td><td>f</td><td>29</td><td>41</td><td>d</td><td>subcompact</td><td>40.5</td></tr>\n",
              "</tbody>\n",
              "</table>\n"
            ],
            "text/markdown": "\nA tibble: 3 × 12\n\n| manufacturer &lt;chr&gt; | model &lt;chr&gt; | displ &lt;dbl&gt; | year &lt;int&gt; | cyl &lt;int&gt; | trans &lt;chr&gt; | drv &lt;chr&gt; | cty &lt;int&gt; | hwy &lt;int&gt; | fl &lt;chr&gt; | class &lt;chr&gt; | umbral_iqr_alto &lt;dbl&gt; |\n|---|---|---|---|---|---|---|---|---|---|---|---|\n| volkswagen | jetta      | 1.9 | 1999 | 4 | manual(m5) | f | 33 | 44 | d | compact    | 40.5 |\n| volkswagen | new beetle | 1.9 | 1999 | 4 | manual(m5) | f | 35 | 44 | d | subcompact | 40.5 |\n| volkswagen | new beetle | 1.9 | 1999 | 4 | auto(l4)   | f | 29 | 41 | d | subcompact | 40.5 |\n\n",
            "text/latex": "A tibble: 3 × 12\n\\begin{tabular}{llllllllllll}\n manufacturer & model & displ & year & cyl & trans & drv & cty & hwy & fl & class & umbral\\_iqr\\_alto\\\\\n <chr> & <chr> & <dbl> & <int> & <int> & <chr> & <chr> & <int> & <int> & <chr> & <chr> & <dbl>\\\\\n\\hline\n\t volkswagen & jetta      & 1.9 & 1999 & 4 & manual(m5) & f & 33 & 44 & d & compact    & 40.5\\\\\n\t volkswagen & new beetle & 1.9 & 1999 & 4 & manual(m5) & f & 35 & 44 & d & subcompact & 40.5\\\\\n\t volkswagen & new beetle & 1.9 & 1999 & 4 & auto(l4)   & f & 29 & 41 & d & subcompact & 40.5\\\\\n\\end{tabular}\n",
            "text/plain": [
              "  manufacturer model      displ year cyl trans      drv cty hwy fl class     \n",
              "1 volkswagen   jetta      1.9   1999 4   manual(m5) f   33  44  d  compact   \n",
              "2 volkswagen   new beetle 1.9   1999 4   manual(m5) f   35  44  d  subcompact\n",
              "3 volkswagen   new beetle 1.9   1999 4   auto(l4)   f   29  41  d  subcompact\n",
              "  umbral_iqr_alto\n",
              "1 40.5           \n",
              "2 40.5           \n",
              "3 40.5           "
            ]
          },
          "metadata": {}
        }
      ]
    },
    {
      "cell_type": "code",
      "source": [
        "mpg %>%\n",
        "  ggplot() +\n",
        "  aes(x = drv, y = hwy) +\n",
        "  geom_boxplot()"
      ],
      "metadata": {
        "id": "vgZcehTWv83m",
        "outputId": "965e113d-eac2-4cbc-bb1f-da4e95c637a7",
        "colab": {
          "base_uri": "https://localhost:8080/",
          "height": 377
        }
      },
      "execution_count": 19,
      "outputs": [
        {
          "output_type": "display_data",
          "data": {
            "text/plain": [
              "plot without title"
            ],
            "image/png": "[encoded data removed]"
          },
          "metadata": {
            "image/png": {
              "width": 480,
              "height": 360
            }
          }
        }
      ]
    },
    {
      "cell_type": "code",
      "metadata": {
        "id": "JeKxvq20_re2",
        "outputId": "ee110298-2733-4543-cac9-de2cfe9c460a",
        "colab": {
          "base_uri": "https://localhost:8080/",
          "height": 380
        }
      },
      "source": [
        "# Si consideramos solo los autos de tracción frontal, vemos que existen outliers por arriba y abajo\n",
        "# lim inf 1.5*IQR (por \"arriba\")\n",
        "mpg %>%\n",
        "  filter(drv == \"f\") %>%\n",
        "  mutate(umbral_iqr_alto = quantile(hwy,0.75) + 1.5*IQR(hwy)) %>%\n",
        "  filter(hwy > umbral_iqr_alto)\n",
        "\n"
      ],
      "execution_count": 20,
      "outputs": [
        {
          "output_type": "display_data",
          "data": {
            "text/html": [
              "<table class=\"dataframe\">\n",
              "<caption>A tibble: 9 × 12</caption>\n",
              "<thead>\n",
              "\t<tr><th scope=col>manufacturer</th><th scope=col>model</th><th scope=col>displ</th><th scope=col>year</th><th scope=col>cyl</th><th scope=col>trans</th><th scope=col>drv</th><th scope=col>cty</th><th scope=col>hwy</th><th scope=col>fl</th><th scope=col>class</th><th scope=col>umbral_iqr_alto</th></tr>\n",
              "\t<tr><th scope=col>&lt;chr&gt;</th><th scope=col>&lt;chr&gt;</th><th scope=col>&lt;dbl&gt;</th><th scope=col>&lt;int&gt;</th><th scope=col>&lt;int&gt;</th><th scope=col>&lt;chr&gt;</th><th scope=col>&lt;chr&gt;</th><th scope=col>&lt;int&gt;</th><th scope=col>&lt;int&gt;</th><th scope=col>&lt;chr&gt;</th><th scope=col>&lt;chr&gt;</th><th scope=col>&lt;dbl&gt;</th></tr>\n",
              "</thead>\n",
              "<tbody>\n",
              "\t<tr><td>honda     </td><td>civic     </td><td>1.8</td><td>2008</td><td>4</td><td>manual(m5)</td><td>f</td><td>26</td><td>34</td><td>r</td><td>subcompact</td><td>33.5</td></tr>\n",
              "\t<tr><td>honda     </td><td>civic     </td><td>1.8</td><td>2008</td><td>4</td><td>auto(l5)  </td><td>f</td><td>25</td><td>36</td><td>r</td><td>subcompact</td><td>33.5</td></tr>\n",
              "\t<tr><td>honda     </td><td>civic     </td><td>1.8</td><td>2008</td><td>4</td><td>auto(l5)  </td><td>f</td><td>24</td><td>36</td><td>c</td><td>subcompact</td><td>33.5</td></tr>\n",
              "\t<tr><td>toyota    </td><td>corolla   </td><td>1.8</td><td>1999</td><td>4</td><td>manual(m5)</td><td>f</td><td>26</td><td>35</td><td>r</td><td>compact   </td><td>33.5</td></tr>\n",
              "\t<tr><td>toyota    </td><td>corolla   </td><td>1.8</td><td>2008</td><td>4</td><td>manual(m5)</td><td>f</td><td>28</td><td>37</td><td>r</td><td>compact   </td><td>33.5</td></tr>\n",
              "\t<tr><td>toyota    </td><td>corolla   </td><td>1.8</td><td>2008</td><td>4</td><td>auto(l4)  </td><td>f</td><td>26</td><td>35</td><td>r</td><td>compact   </td><td>33.5</td></tr>\n",
              "\t<tr><td>volkswagen</td><td>jetta     </td><td>1.9</td><td>1999</td><td>4</td><td>manual(m5)</td><td>f</td><td>33</td><td>44</td><td>d</td><td>compact   </td><td>33.5</td></tr>\n",
              "\t<tr><td>volkswagen</td><td>new beetle</td><td>1.9</td><td>1999</td><td>4</td><td>manual(m5)</td><td>f</td><td>35</td><td>44</td><td>d</td><td>subcompact</td><td>33.5</td></tr>\n",
              "\t<tr><td>volkswagen</td><td>new beetle</td><td>1.9</td><td>1999</td><td>4</td><td>auto(l4)  </td><td>f</td><td>29</td><td>41</td><td>d</td><td>subcompact</td><td>33.5</td></tr>\n",
              "</tbody>\n",
              "</table>\n"
            ],
            "text/markdown": "\nA tibble: 9 × 12\n\n| manufacturer &lt;chr&gt; | model &lt;chr&gt; | displ &lt;dbl&gt; | year &lt;int&gt; | cyl &lt;int&gt; | trans &lt;chr&gt; | drv &lt;chr&gt; | cty &lt;int&gt; | hwy &lt;int&gt; | fl &lt;chr&gt; | class &lt;chr&gt; | umbral_iqr_alto &lt;dbl&gt; |\n|---|---|---|---|---|---|---|---|---|---|---|---|\n| honda      | civic      | 1.8 | 2008 | 4 | manual(m5) | f | 26 | 34 | r | subcompact | 33.5 |\n| honda      | civic      | 1.8 | 2008 | 4 | auto(l5)   | f | 25 | 36 | r | subcompact | 33.5 |\n| honda      | civic      | 1.8 | 2008 | 4 | auto(l5)   | f | 24 | 36 | c | subcompact | 33.5 |\n| toyota     | corolla    | 1.8 | 1999 | 4 | manual(m5) | f | 26 | 35 | r | compact    | 33.5 |\n| toyota     | corolla    | 1.8 | 2008 | 4 | manual(m5) | f | 28 | 37 | r | compact    | 33.5 |\n| toyota     | corolla    | 1.8 | 2008 | 4 | auto(l4)   | f | 26 | 35 | r | compact    | 33.5 |\n| volkswagen | jetta      | 1.9 | 1999 | 4 | manual(m5) | f | 33 | 44 | d | compact    | 33.5 |\n| volkswagen | new beetle | 1.9 | 1999 | 4 | manual(m5) | f | 35 | 44 | d | subcompact | 33.5 |\n| volkswagen | new beetle | 1.9 | 1999 | 4 | auto(l4)   | f | 29 | 41 | d | subcompact | 33.5 |\n\n",
            "text/latex": "A tibble: 9 × 12\n\\begin{tabular}{llllllllllll}\n manufacturer & model & displ & year & cyl & trans & drv & cty & hwy & fl & class & umbral\\_iqr\\_alto\\\\\n <chr> & <chr> & <dbl> & <int> & <int> & <chr> & <chr> & <int> & <int> & <chr> & <chr> & <dbl>\\\\\n\\hline\n\t honda      & civic      & 1.8 & 2008 & 4 & manual(m5) & f & 26 & 34 & r & subcompact & 33.5\\\\\n\t honda      & civic      & 1.8 & 2008 & 4 & auto(l5)   & f & 25 & 36 & r & subcompact & 33.5\\\\\n\t honda      & civic      & 1.8 & 2008 & 4 & auto(l5)   & f & 24 & 36 & c & subcompact & 33.5\\\\\n\t toyota     & corolla    & 1.8 & 1999 & 4 & manual(m5) & f & 26 & 35 & r & compact    & 33.5\\\\\n\t toyota     & corolla    & 1.8 & 2008 & 4 & manual(m5) & f & 28 & 37 & r & compact    & 33.5\\\\\n\t toyota     & corolla    & 1.8 & 2008 & 4 & auto(l4)   & f & 26 & 35 & r & compact    & 33.5\\\\\n\t volkswagen & jetta      & 1.9 & 1999 & 4 & manual(m5) & f & 33 & 44 & d & compact    & 33.5\\\\\n\t volkswagen & new beetle & 1.9 & 1999 & 4 & manual(m5) & f & 35 & 44 & d & subcompact & 33.5\\\\\n\t volkswagen & new beetle & 1.9 & 1999 & 4 & auto(l4)   & f & 29 & 41 & d & subcompact & 33.5\\\\\n\\end{tabular}\n",
            "text/plain": [
              "  manufacturer model      displ year cyl trans      drv cty hwy fl class     \n",
              "1 honda        civic      1.8   2008 4   manual(m5) f   26  34  r  subcompact\n",
              "2 honda        civic      1.8   2008 4   auto(l5)   f   25  36  r  subcompact\n",
              "3 honda        civic      1.8   2008 4   auto(l5)   f   24  36  c  subcompact\n",
              "4 toyota       corolla    1.8   1999 4   manual(m5) f   26  35  r  compact   \n",
              "5 toyota       corolla    1.8   2008 4   manual(m5) f   28  37  r  compact   \n",
              "6 toyota       corolla    1.8   2008 4   auto(l4)   f   26  35  r  compact   \n",
              "7 volkswagen   jetta      1.9   1999 4   manual(m5) f   33  44  d  compact   \n",
              "8 volkswagen   new beetle 1.9   1999 4   manual(m5) f   35  44  d  subcompact\n",
              "9 volkswagen   new beetle 1.9   1999 4   auto(l4)   f   29  41  d  subcompact\n",
              "  umbral_iqr_alto\n",
              "1 33.5           \n",
              "2 33.5           \n",
              "3 33.5           \n",
              "4 33.5           \n",
              "5 33.5           \n",
              "6 33.5           \n",
              "7 33.5           \n",
              "8 33.5           \n",
              "9 33.5           "
            ]
          },
          "metadata": {}
        }
      ]
    },
    {
      "cell_type": "code",
      "source": [
        "# lim inf 1.5*IQR (por \"debajo\")\n",
        "mpg %>%\n",
        "  filter(drv == \"f\") %>%\n",
        "  mutate(umbral_iqr_bajo = quantile(hwy,0.25) - 1.5*IQR(hwy)) %>%\n",
        "  filter(hwy < umbral_iqr_bajo)"
      ],
      "metadata": {
        "id": "jKBZirzGwbhx",
        "outputId": "0af4d778-08e1-4229-e1a7-754ce3c0f1d2",
        "colab": {
          "base_uri": "https://localhost:8080/",
          "height": 160
        }
      },
      "execution_count": 22,
      "outputs": [
        {
          "output_type": "display_data",
          "data": {
            "text/html": [
              "<table class=\"dataframe\">\n",
              "<caption>A tibble: 2 × 12</caption>\n",
              "<thead>\n",
              "\t<tr><th scope=col>manufacturer</th><th scope=col>model</th><th scope=col>displ</th><th scope=col>year</th><th scope=col>cyl</th><th scope=col>trans</th><th scope=col>drv</th><th scope=col>cty</th><th scope=col>hwy</th><th scope=col>fl</th><th scope=col>class</th><th scope=col>umbral_iqr_bajo</th></tr>\n",
              "\t<tr><th scope=col>&lt;chr&gt;</th><th scope=col>&lt;chr&gt;</th><th scope=col>&lt;dbl&gt;</th><th scope=col>&lt;int&gt;</th><th scope=col>&lt;int&gt;</th><th scope=col>&lt;chr&gt;</th><th scope=col>&lt;chr&gt;</th><th scope=col>&lt;int&gt;</th><th scope=col>&lt;int&gt;</th><th scope=col>&lt;chr&gt;</th><th scope=col>&lt;chr&gt;</th><th scope=col>&lt;dbl&gt;</th></tr>\n",
              "</thead>\n",
              "<tbody>\n",
              "\t<tr><td>dodge</td><td>caravan 2wd</td><td>3.3</td><td>2008</td><td>6</td><td>auto(l4)</td><td>f</td><td>11</td><td>17</td><td>e</td><td>minivan</td><td>21.5</td></tr>\n",
              "\t<tr><td>dodge</td><td>caravan 2wd</td><td>3.8</td><td>1999</td><td>6</td><td>auto(l4)</td><td>f</td><td>15</td><td>21</td><td>r</td><td>minivan</td><td>21.5</td></tr>\n",
              "</tbody>\n",
              "</table>\n"
            ],
            "text/markdown": "\nA tibble: 2 × 12\n\n| manufacturer &lt;chr&gt; | model &lt;chr&gt; | displ &lt;dbl&gt; | year &lt;int&gt; | cyl &lt;int&gt; | trans &lt;chr&gt; | drv &lt;chr&gt; | cty &lt;int&gt; | hwy &lt;int&gt; | fl &lt;chr&gt; | class &lt;chr&gt; | umbral_iqr_bajo &lt;dbl&gt; |\n|---|---|---|---|---|---|---|---|---|---|---|---|\n| dodge | caravan 2wd | 3.3 | 2008 | 6 | auto(l4) | f | 11 | 17 | e | minivan | 21.5 |\n| dodge | caravan 2wd | 3.8 | 1999 | 6 | auto(l4) | f | 15 | 21 | r | minivan | 21.5 |\n\n",
            "text/latex": "A tibble: 2 × 12\n\\begin{tabular}{llllllllllll}\n manufacturer & model & displ & year & cyl & trans & drv & cty & hwy & fl & class & umbral\\_iqr\\_bajo\\\\\n <chr> & <chr> & <dbl> & <int> & <int> & <chr> & <chr> & <int> & <int> & <chr> & <chr> & <dbl>\\\\\n\\hline\n\t dodge & caravan 2wd & 3.3 & 2008 & 6 & auto(l4) & f & 11 & 17 & e & minivan & 21.5\\\\\n\t dodge & caravan 2wd & 3.8 & 1999 & 6 & auto(l4) & f & 15 & 21 & r & minivan & 21.5\\\\\n\\end{tabular}\n",
            "text/plain": [
              "  manufacturer model       displ year cyl trans    drv cty hwy fl class  \n",
              "1 dodge        caravan 2wd 3.3   2008 6   auto(l4) f   11  17  e  minivan\n",
              "2 dodge        caravan 2wd 3.8   1999 6   auto(l4) f   15  21  r  minivan\n",
              "  umbral_iqr_bajo\n",
              "1 21.5           \n",
              "2 21.5           "
            ]
          },
          "metadata": {}
        }
      ]
    },
    {
      "cell_type": "markdown",
      "metadata": {
        "id": "YgmHOgY6taFL"
      },
      "source": [
        "## II. Correlación de variables"
      ]
    },
    {
      "cell_type": "markdown",
      "metadata": {
        "id": "M1Pb8F5_taFL"
      },
      "source": [
        "Las medidas de correlación buscan cuantificar el nivel de asociación que existe entre dos variables. Uno de los coeficientes más populares para medir la dependencia lineal entre dos variables corresponde al coeficiente de corelación de Pearson.\n",
        "\n",
        "Matemáticamente, el coeficiente de correlación de Pearson entre dos variables aleatorias X e Y se define como\n",
        "\n",
        "$$\\rho = \\dfrac{\\mathbb{E}[(X-\\mu_X)(Y-\\mu_Y)]}{\\sqrt{\\sigma^2_X\\sigma^2_Y}}$$\n",
        "\n",
        "Este coeficiente varía entre -1 y 1, y alcanza dichos valores siempre que X e Y formen una recta.\n",
        "\n",
        "Exploremos algunos ejemplos\n",
        "\n",
        "\n",
        "\n",
        "\n"
      ]
    },
    {
      "cell_type": "markdown",
      "metadata": {
        "trusted": true,
        "id": "AjZgijXTtaFM"
      },
      "source": [
        "**¿Cómo es la relación entre el rendimiento en carretera y el tamaño del motor?**"
      ]
    },
    {
      "cell_type": "code",
      "metadata": {
        "trusted": true,
        "id": "J7OZkTYOtaFM",
        "outputId": "c8a04003-f3b2-493d-ee2c-4baed37c8d37",
        "colab": {
          "base_uri": "https://localhost:8080/",
          "height": 377
        }
      },
      "source": [
        "# Gráficamente x = displ, y = hwy\n",
        "ggplot(mpg, aes(x = displ, y = hwy)) +\n",
        "  geom_point()"
      ],
      "execution_count": 23,
      "outputs": [
        {
          "output_type": "display_data",
          "data": {
            "text/plain": [
              "plot without title"
            ],
            "image/png": "[encoded data removed]"
          },
          "metadata": {
            "image/png": {
              "width": 480,
              "height": 360
            }
          }
        }
      ]
    },
    {
      "cell_type": "code",
      "metadata": {
        "id": "anffOHwKPx4i",
        "outputId": "735451cc-fc94-4feb-94dd-3e3eb197f21e",
        "colab": {
          "base_uri": "https://localhost:8080/",
          "height": 394
        }
      },
      "source": [
        "# podemos añadir \"recta\" de tendencia\n",
        "ggplot(mpg, aes(x = displ, y = hwy)) +\n",
        "  geom_point() +\n",
        "  geom_smooth(method = \"lm\")"
      ],
      "execution_count": 25,
      "outputs": [
        {
          "output_type": "stream",
          "name": "stderr",
          "text": [
            "\u001b[1m\u001b[22m`geom_smooth()` using formula = 'y ~ x'\n"
          ]
        },
        {
          "output_type": "display_data",
          "data": {
            "text/plain": [
              "plot without title"
            ],
            "image/png": "[encoded data removed]"
          },
          "metadata": {
            "image/png": {
              "width": 480,
              "height": 360
            }
          }
        }
      ]
    },
    {
      "cell_type": "markdown",
      "metadata": {
        "trusted": true,
        "id": "BRyrWN-_taFO"
      },
      "source": [
        "Podemos seleccionar las columnas *mpg,disp,hp,drat,wt,qsec* y generar un gráfico de dispersión para cada par de ellas, con la función plot() del paquete _base_."
      ]
    },
    {
      "cell_type": "markdown",
      "metadata": {
        "id": "StGYYhpptaFY"
      },
      "source": [
        "### P1. Comando cor\n",
        "Investigue el comando cor y utilícelo con la selección previa de columnas.\n",
        "¿Qué observa?"
      ]
    },
    {
      "cell_type": "code",
      "source": [
        "cor( mpg$displ, mpg$hwy)# Por defecto retorna Pearson (dependencia lineal)\n",
        "cor( mpg$displ, mpg$hwy, method =  \"spearman\")"
      ],
      "metadata": {
        "id": "rBRT1VuC08mV",
        "outputId": "db16e754-af30-419e-b237-68b318e1dfc3",
        "colab": {
          "base_uri": "https://localhost:8080/",
          "height": 52
        }
      },
      "execution_count": 27,
      "outputs": [
        {
          "output_type": "display_data",
          "data": {
            "text/html": [
              "-0.766020020886467"
            ],
            "text/markdown": "-0.766020020886467",
            "text/latex": "-0.766020020886467",
            "text/plain": [
              "[1] -0.76602"
            ]
          },
          "metadata": {}
        },
        {
          "output_type": "display_data",
          "data": {
            "text/html": [
              "-0.826657569542553"
            ],
            "text/markdown": "-0.826657569542553",
            "text/latex": "-0.826657569542553",
            "text/plain": [
              "[1] -0.8266576"
            ]
          },
          "metadata": {}
        }
      ]
    },
    {
      "cell_type": "code",
      "metadata": {
        "trusted": true,
        "id": "SyjyY4fdtaFP"
      },
      "source": [
        "data(mtcars)\n",
        "head(mtcars)"
      ],
      "execution_count": null,
      "outputs": []
    },
    {
      "cell_type": "code",
      "metadata": {
        "trusted": true,
        "id": "MblLPSs6taFV"
      },
      "source": [
        "#Podemos graficar algunas de las variables de interés\n",
        "\n",
        "\n",
        "aux <- mtcars %>%\n",
        "    select(mpg,disp,hp,drat,wt,qsec)"
      ],
      "execution_count": null,
      "outputs": []
    },
    {
      "cell_type": "code",
      "metadata": {
        "trusted": true,
        "id": "h29oaP0itaFX"
      },
      "source": [
        "options(repr.plot.width=16, repr.plot.height=9)\n",
        "plot(aux)"
      ],
      "execution_count": null,
      "outputs": []
    },
    {
      "cell_type": "markdown",
      "metadata": {
        "id": "sMjtfLV5taFZ"
      },
      "source": [
        "### P2. De acuerdo a  la documentación, cambie el método de cálculo a \"spearman\"\n",
        "¿Que observa?"
      ]
    },
    {
      "cell_type": "code",
      "metadata": {
        "trusted": true,
        "scrolled": false,
        "id": "ibmQvQtRtaFZ"
      },
      "source": [
        "cor(aux) # por defecto calcula correlación de pearson\n"
      ],
      "execution_count": null,
      "outputs": []
    },
    {
      "cell_type": "markdown",
      "metadata": {
        "id": "0FajK0QWtaFc"
      },
      "source": [
        "## NOTA: parámetro method de la función cor()"
      ]
    },
    {
      "cell_type": "code",
      "metadata": {
        "trusted": true,
        "id": "1IJqGrv0taFc"
      },
      "source": [
        "set.seed(123) # Semilla para generar númeos aleatorios\n",
        "x <- rnorm(100) # variable X\n",
        "e <- rnorm(100, sd = .5) # error aleatorio\n",
        "# Modelar y como funcion de x y un error aleatorio\n",
        "# y = f(x) + e\n",
        "y <- 1+ 3*x^3 + e\n",
        "\n",
        "A <- data.frame(x = x, y = y)\n"
      ],
      "execution_count": null,
      "outputs": []
    },
    {
      "cell_type": "markdown",
      "metadata": {
        "id": "rc6j4U1iSVqt"
      },
      "source": [
        "$y = f(x) + \\epsilon$ \\\\\n",
        "$y = 3x^{3} + 1 + \\epsilon$"
      ]
    },
    {
      "cell_type": "code",
      "metadata": {
        "trusted": true,
        "id": "war1LE7itaFe"
      },
      "source": [
        "# Gráficamente la relación de x e  y\n",
        "\n",
        "A %>%\n",
        "    ggplot() +\n",
        "    aes(x = x, y = y) +\n",
        "    geom_point()"
      ],
      "execution_count": null,
      "outputs": []
    },
    {
      "cell_type": "code",
      "metadata": {
        "trusted": true,
        "id": "cYwfxmErtaFg"
      },
      "source": [
        "# parámetro method de la función cor()\n",
        "cor(A$x,A$y)\n",
        "cor(A$x,A$y, method = \"spearman\")"
      ],
      "execution_count": null,
      "outputs": []
    },
    {
      "cell_type": "markdown",
      "metadata": {
        "id": "Gm2FQf2-taFi"
      },
      "source": [
        "## Gráfico de correlación"
      ]
    },
    {
      "cell_type": "code",
      "metadata": {
        "trusted": true,
        "id": "jk-NPuEotaFj"
      },
      "source": [
        "#install.packages(\"corrplot\")\n",
        "library(corrplot)\n",
        "\n",
        "# función corrplot()"
      ],
      "execution_count": null,
      "outputs": []
    },
    {
      "cell_type": "markdown",
      "metadata": {
        "id": "-ESr1IKbtaFk"
      },
      "source": [
        "### P3. Opciones de corrplot\n",
        "Identifique (en la documentación de la función corplot) otros métodos de visualización"
      ]
    },
    {
      "cell_type": "code",
      "metadata": {
        "trusted": true,
        "id": "s7HTVoZJtaFl"
      },
      "source": [
        "matriz_cor <- cor(aux)\n",
        "matriz_cor"
      ],
      "execution_count": null,
      "outputs": []
    },
    {
      "cell_type": "code",
      "metadata": {
        "trusted": true,
        "id": "XERoyCK6taFn"
      },
      "source": [
        "# Función corplot()\n",
        "# podemos modificar el parámetro \"method\"\n",
        "corrplot(matriz_cor)"
      ],
      "execution_count": null,
      "outputs": []
    }
  ]
}