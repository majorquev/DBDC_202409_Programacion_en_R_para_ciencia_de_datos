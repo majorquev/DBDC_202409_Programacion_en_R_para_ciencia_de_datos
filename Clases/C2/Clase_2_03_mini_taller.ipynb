{
  "nbformat": 4,
  "nbformat_minor": 0,
  "metadata": {
    "colab": {
      "provenance": [],
      "include_colab_link": true
    },
    "kernelspec": {
      "name": "ir",
      "display_name": "R"
    }
  },
  "cells": [
    {
      "cell_type": "markdown",
      "metadata": {
        "id": "view-in-github",
        "colab_type": "text"
      },
      "source": [
        "<a href=\"https://colab.research.google.com/github/majorquev/DBDC_202409_Programacion_en_R_para_ciencia_de_datos/blob/main/Clases/C2/Clase_2_03_mini_taller.ipynb\" target=\"_parent\"><img src=\"https://colab.research.google.com/assets/colab-badge.svg\" alt=\"Open In Colab\"/></a>"
      ]
    },
    {
      "cell_type": "markdown",
      "metadata": {
        "id": "x-GJ_euMr-qr"
      },
      "source": [
        "#**Mini taller 1**\n",
        "**Autor:** Miguel Jorquera Viguera <br>\n",
        "**E-mail:** majorquev@gmail.com<br>\n",
        "**Ayudante:** Rodrigo Morales<br>\n",
        "**E-mail ayudante:**  rumorale1@gmail.com<br>"
      ]
    },
    {
      "cell_type": "code",
      "source": [],
      "metadata": {
        "id": "QLHYdMp1RJtM"
      },
      "execution_count": null,
      "outputs": []
    },
    {
      "cell_type": "markdown",
      "metadata": {
        "collapsed": true,
        "id": "EZ0yOlnfm5Zb"
      },
      "source": [
        "\n",
        "Los dataframes corresponden a uno de los objetos más utilizados en R para analizar datos tabulares,\n",
        "por lo que se hace necesario en muchos casos realizar consultas a los datos que contiene un dataframe,\n",
        "(filtros, cruces de tablas, creación de columnas, etc). Por ahora veremos una de las formas más \"primitivas\" para la manipulación de un data.frame.\n",
        "\n",
        "Para ello consideremos el siguiente ejercicio.\n",
        "\n",
        "**Paso 1**\n",
        "Mediante la función rnorm(), genere una muestra aleatoria de 100 datos , con media 21 y desviación estándar 8 (más adelante veremos esto con un poco más de detalle), y guárdela en una variable llamada temp.\n",
        "\n"
      ]
    },
    {
      "cell_type": "code",
      "metadata": {
        "trusted": true,
        "id": "9f6cXmN3m5Zc"
      },
      "source": [
        "# 5.3 Mini taller --------\n",
        "# Paso 1\n",
        "temp <- rnorm(n = 100, mean = 21, sd = 8)\n",
        "temp\n"
      ],
      "execution_count": null,
      "outputs": []
    },
    {
      "cell_type": "code",
      "metadata": {
        "trusted": true,
        "id": "Y6ILF-Szm5Zg"
      },
      "source": [
        "# Dejar como parámetro el largo del vector temp\n"
      ],
      "execution_count": null,
      "outputs": []
    },
    {
      "cell_type": "markdown",
      "metadata": {
        "id": "C4MEJWjBm5Zi"
      },
      "source": [
        "**Paso 2**\n",
        "\n",
        "Genere un vector llamado _dia_ del mismo largo que que *temp*, que contenga los días consecutivos de la semana, partiendo del lunes. (utilice la función _rep()_ )"
      ]
    },
    {
      "cell_type": "code",
      "metadata": {
        "trusted": true,
        "id": "1PWK1DPXm5Zj"
      },
      "source": [
        "# Paso 2\n",
        "#dia <- rep(c(\"L\",\"M\",\"W\",\"J\",\"V\",\"S\",\"D\"), 100 ) repite el vector de largo7, 100 veces. Genera un vector resultante de largo 700\n"
      ],
      "execution_count": null,
      "outputs": []
    },
    {
      "cell_type": "markdown",
      "metadata": {
        "id": "n1n3ptOIm5Zm"
      },
      "source": [
        "**Paso 3**\n",
        "\n",
        "Genere un vector llamado _est_, del mismo largo que _temp_, que en el primer tercio contenga el valor \"E1\", en el segundo tercio \"E2\", y en el tercer tercio \"E3\". Por ejemplo, si _temp_ tuviese 10 datos, el vector _est_ se vería como\n",
        "\n",
        "\n",
        "<center> _est_ = (E1,E1,E1,E2,E2,E2,E3,E3,E3,E3) </center>"
      ]
    },
    {
      "cell_type": "code",
      "metadata": {
        "trusted": true,
        "id": "eobMVmXxm5Zn"
      },
      "source": [
        "# Paso 3\n"
      ],
      "execution_count": null,
      "outputs": []
    },
    {
      "cell_type": "markdown",
      "metadata": {
        "id": "bZZScNwUm5Zp"
      },
      "source": [
        "**Paso 4**\n",
        "\n",
        "Genere un vector llamado _lluvia_ del mismo largo que _temp_, que sea TRUE en las posiciones en que _temp_ sea menor que 20, y FALSE en caso contrario."
      ]
    },
    {
      "cell_type": "code",
      "metadata": {
        "trusted": true,
        "id": "AbtOs123m5Zq"
      },
      "source": [
        "# Paso 4\n"
      ],
      "execution_count": null,
      "outputs": []
    },
    {
      "cell_type": "markdown",
      "metadata": {
        "id": "i7p8FIdtm5Zs"
      },
      "source": [
        "**Paso 5**\n",
        "\n",
        "Finalmente cree un data frame llamado _precipitaciones_ con las siguientes columnas:<br>\n",
        "\n",
        "*Dia_semana* (con los valores del vector _dia_)<br>\n",
        "*Temperatura* (con los valores del vector _temp_)<br>\n",
        "*Llueve* (con los valores del vector _lluvia_)<br>\n",
        "*Estacion* (con los valores del vector _est_)<br>"
      ]
    },
    {
      "cell_type": "code",
      "metadata": {
        "trusted": true,
        "id": "o-TVm7uum5Zs"
      },
      "source": [
        "# Paso 5\n"
      ],
      "execution_count": null,
      "outputs": []
    },
    {
      "cell_type": "markdown",
      "metadata": {
        "id": "kIjelA5sm5Zx"
      },
      "source": [
        "#### Strings como factores\n",
        "Cuando en R se declara una variable como factor, internamente se codifican sus categorías con valores 0 o 1. Por ejemplo, para las variables _Dia_ y _Estacion_ podemos generar sus matriz de diseño, indicando un 1 si el día (o estación) corresponde a la nueva columna generada, 0 si  no:\n",
        "\n",
        " |Dia |Temperatura    |Llueve| Estacion| | Dia.L|Dia.M|Dia.W|Dia.J|Dia.V|Dia.S|Dia.D|Est.1|Est.2|Est.3|\n",
        " |----|------------   |------|---------| |---   |---  |---  |---  |---  |---  |---  |---  |---  |---  |\n",
        " |L\t  |16.300201      |TRUE  |\tE1     | |1     |0    |0    |0    |0    |0    |0    |1    |0    |0    |\n",
        " |M   |21.042854      |FALSE |\tE1     | |0     |1    |0    |0    |0    |0    |0    |1    |0    |0    |\n",
        " |J\t  |31.256043      |FALSE |\tE3     | |0     |0    |0    |1    |0    |0    |0    |0    |0    |1    |\n",
        " |S\t  |40.083514      |FALSE |\tE3     | |0     |0    |0    |0    |0    |1    |0    |0    |0    |1    |\n",
        "\n",
        " Cuando se quiere generar un resumen de una variable categórica, o cuando se quiere incluir una variable de este tipo en el entrenamiento de un modelo será necesario declarar dicha variable como factor."
      ]
    },
    {
      "cell_type": "code",
      "metadata": {
        "trusted": true,
        "id": "UQN71LvGm5Z-"
      },
      "source": [
        "#podemos volver a coercionar las columnas a clase factor,  con la función as.factor\n"
      ],
      "execution_count": null,
      "outputs": []
    },
    {
      "cell_type": "code",
      "metadata": {
        "trusted": true,
        "id": "5kjmwaOUm5aA"
      },
      "source": [
        "# Un poco de exploración --------------------------------\n",
        "# ¿Cuál es la temperatura promedio cuando llovió?\n",
        "\n",
        "# ¿Cuál es la temperatura promedio cuando NO llovió?\n",
        "\n",
        "\n",
        "\n",
        "#Lo mismo pero sólo de los registros de E1\n",
        "\n"
      ],
      "execution_count": null,
      "outputs": []
    },
    {
      "cell_type": "code",
      "metadata": {
        "trusted": true,
        "id": "TJuAlpPxm5aC"
      },
      "source": [
        "# ¿Qué día era cuando se alcanzó la mínima temperatura?¿y la ,máxima?\n",
        "#La función which.min #o .max . retorna la posición donde se alcanza el min/max de un vector.\n",
        "\n",
        "# opcion 1\n",
        "\n",
        "# opcion 2\n"
      ],
      "execution_count": null,
      "outputs": []
    },
    {
      "cell_type": "code",
      "metadata": {
        "trusted": true,
        "id": "WHf5YnPWm5aF"
      },
      "source": [
        "# Una forma de eliminar registros en vector\n",
        "\n",
        "\n"
      ],
      "execution_count": null,
      "outputs": []
    },
    {
      "cell_type": "code",
      "metadata": {
        "trusted": true,
        "id": "6Vx1ojnAm5aH"
      },
      "source": [
        "# POdemos eliminar los registros de posición 3 y 4\n"
      ],
      "execution_count": null,
      "outputs": []
    },
    {
      "cell_type": "code",
      "metadata": {
        "trusted": true,
        "id": "K9Qv9n_nm5aJ"
      },
      "source": [
        "# Si queremos ver esa misma fila de la tabla precipitaciones.\n",
        "\n",
        "\n",
        "# Se sabe que la Estación E3 falla todos los días domingo, por lo que se quiere eliminar tales registros de la tabla. Elimínelos!\n",
        "\n"
      ],
      "execution_count": null,
      "outputs": []
    },
    {
      "cell_type": "code",
      "metadata": {
        "trusted": true,
        "id": "nuW7ux65m5aL"
      },
      "source": [
        "dim(precipitaciones)"
      ],
      "execution_count": null,
      "outputs": []
    },
    {
      "cell_type": "markdown",
      "metadata": {
        "id": "5fmGF0Qam5aN"
      },
      "source": [
        "## 5.4 Cómo guardar ambiente de trabajo o variables definidas en el\n",
        "\n",
        "### Directorio de trabajo\n",
        "\n",
        "El directorio de trabajo corresponde a la ubicación en el sistema de archivos, desde donde la sesión de R podrá acceder directamente para guardar o cargar datos.\n"
      ]
    },
    {
      "cell_type": "code",
      "metadata": {
        "trusted": true,
        "id": "OfyO5MKOm5aO"
      },
      "source": [
        "# para saber en qué directorio se está trabajando\n"
      ],
      "execution_count": null,
      "outputs": []
    },
    {
      "cell_type": "code",
      "metadata": {
        "trusted": true,
        "id": "fHZIjYhRm5aQ"
      },
      "source": [
        "# para cambiar el directorio de trabajo\n",
        "\n"
      ],
      "execution_count": null,
      "outputs": []
    },
    {
      "cell_type": "markdown",
      "metadata": {
        "id": "_M-D6sgRm5aU"
      },
      "source": [
        "### Formato rds\n",
        "\n",
        "Una manera de guardar variables creadas en el ambiente de la sessión de R, es mediante la utilización del formato *.rds. Este formato permite guardar los objetos declarados y leerlos rápidamente en cualquier otra sesión que se inicie posteriormente. Es últil por ejemplo para guardar en disco modelos entrenados para ser utilizados para predicciones futuras.\n"
      ]
    },
    {
      "cell_type": "code",
      "metadata": {
        "trusted": true,
        "id": "11jJ5B50m5aV"
      },
      "source": [
        "# Función saveRDS() # Guardar\n",
        "# guarde en el directorio actual el dataframe _precipitaciones_\n"
      ],
      "execution_count": null,
      "outputs": []
    },
    {
      "cell_type": "code",
      "metadata": {
        "trusted": true,
        "id": "DixES_Kjm5ah"
      },
      "source": [
        "# readRDS()  Leer, pero ojo que es necesario asignar  a una variable\n"
      ],
      "execution_count": null,
      "outputs": []
    },
    {
      "cell_type": "markdown",
      "metadata": {
        "id": "_4pmC4cBm5as"
      },
      "source": [
        "### Formato RData\n",
        "\n",
        "Cuando se quiere guardar el ambiente de trabajo completo, o bien un mayor número de objetos ya creados, se puede utilizar la función _save_\n"
      ]
    },
    {
      "cell_type": "code",
      "metadata": {
        "trusted": true,
        "id": "M5yFyJ27m5at"
      },
      "source": [
        "# Función save para guardar uno o más objetos del ambiente.\n",
        "\n"
      ],
      "execution_count": null,
      "outputs": []
    },
    {
      "cell_type": "code",
      "metadata": {
        "trusted": true,
        "id": "YDmd1Npmm5ay"
      },
      "source": [
        "# Eventualmente podemos \"cargar \" a sesión, con la función load()\n"
      ],
      "execution_count": null,
      "outputs": []
    }
  ]
}