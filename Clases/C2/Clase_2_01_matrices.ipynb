{
  "nbformat": 4,
  "nbformat_minor": 0,
  "metadata": {
    "colab": {
      "provenance": [],
      "include_colab_link": true
    },
    "kernelspec": {
      "name": "ir",
      "display_name": "R"
    }
  },
  "cells": [
    {
      "cell_type": "markdown",
      "metadata": {
        "id": "view-in-github",
        "colab_type": "text"
      },
      "source": [
        "<a href=\"https://colab.research.google.com/github/majorquev/DBDC_202409_Programacion_en_R_para_ciencia_de_datos/blob/main/Clases/C2/Clase_2_01_matrices.ipynb\" target=\"_parent\"><img src=\"https://colab.research.google.com/assets/colab-badge.svg\" alt=\"Open In Colab\"/></a>"
      ]
    },
    {
      "cell_type": "markdown",
      "metadata": {
        "collapsed": true,
        "id": "qGvtNqVzSqoX"
      },
      "source": [
        "# Parte 1: Introducción a R (continuación)\n",
        "\n",
        "**Autor:** Miguel Jorquera Viguera<br>\n",
        "**E-mail:** majorquev@gmail.com<br>\n",
        "**Ayudante:** Rodrigo Morales <br>\n",
        "**E-mail ayudante:** rumorale1@gmail.com\n",
        "\n",
        "\n",
        "\n",
        "### 3.2 Matrices\n",
        "\n",
        "En R, así como en otros lenguajes de programación, una matriz es básicamente un arreglo bi-dimensional, donde las entradas horizontales se entienden como filas y las verticales como columnas. Es posible imaginar una matriz como un arreglo de vectores como columnas (o filas) del mismo largo.\n",
        "\n",
        " * ¿Qué se guarda en una matriz?<br>\n",
        "    Sólo datos de un mismo tipo.\n",
        "     \n",
        " * ¿Cómo se declara una matriz?<br>\n",
        "    Se puede definir de varias maneras, indicando los elementos que la componen, o combinando vectores como filas o columnas.\n",
        "\n",
        " * ¿Cómo se accede a sus elementos?<br>\n",
        "    Indicando la posición del vector fila, seguido de la posición del vector columna (como es usual)."
      ]
    },
    {
      "cell_type": "code",
      "metadata": {
        "trusted": true,
        "id": "TKVO3cuZSqoY",
        "outputId": "5cf68bc8-f35b-4a80-aa8b-968d834bd26c",
        "colab": {
          "base_uri": "https://localhost:8080/",
          "height": 132
        }
      },
      "source": [
        "# 3.2 Matrices ------------\n",
        "#?matrix de dos filas y 3 columnas, parametros ncol, nrow y byrow\n",
        "# recibe un vector de elementos\n",
        "A <- matrix(c(1,1,2,3,5,8), ncol = 3, nrow = 2)\n",
        "A\n",
        "\n"
      ],
      "execution_count": 1,
      "outputs": [
        {
          "output_type": "display_data",
          "data": {
            "text/html": [
              "<table class=\"dataframe\">\n",
              "<caption>A matrix: 2 × 3 of type dbl</caption>\n",
              "<tbody>\n",
              "\t<tr><td>1</td><td>2</td><td>5</td></tr>\n",
              "\t<tr><td>1</td><td>3</td><td>8</td></tr>\n",
              "</tbody>\n",
              "</table>\n"
            ],
            "text/markdown": "\nA matrix: 2 × 3 of type dbl\n\n| 1 | 2 | 5 |\n| 1 | 3 | 8 |\n\n",
            "text/latex": "A matrix: 2 × 3 of type dbl\n\\begin{tabular}{lll}\n\t 1 & 2 & 5\\\\\n\t 1 & 3 & 8\\\\\n\\end{tabular}\n",
            "text/plain": [
              "     [,1] [,2] [,3]\n",
              "[1,] 1    2    5   \n",
              "[2,] 1    3    8   "
            ]
          },
          "metadata": {}
        }
      ]
    },
    {
      "cell_type": "code",
      "source": [
        "B <- matrix(c(1,1,2,3,5,8), ncol = 3, nrow = 2, byrow = T)\n",
        "B"
      ],
      "metadata": {
        "id": "F32hSYydSFNM",
        "outputId": "1f0acfb7-b560-4360-b1f9-10d6a2ef227d",
        "colab": {
          "base_uri": "https://localhost:8080/",
          "height": 132
        }
      },
      "execution_count": 2,
      "outputs": [
        {
          "output_type": "display_data",
          "data": {
            "text/html": [
              "<table class=\"dataframe\">\n",
              "<caption>A matrix: 2 × 3 of type dbl</caption>\n",
              "<tbody>\n",
              "\t<tr><td>1</td><td>1</td><td>2</td></tr>\n",
              "\t<tr><td>3</td><td>5</td><td>8</td></tr>\n",
              "</tbody>\n",
              "</table>\n"
            ],
            "text/markdown": "\nA matrix: 2 × 3 of type dbl\n\n| 1 | 1 | 2 |\n| 3 | 5 | 8 |\n\n",
            "text/latex": "A matrix: 2 × 3 of type dbl\n\\begin{tabular}{lll}\n\t 1 & 1 & 2\\\\\n\t 3 & 5 & 8\\\\\n\\end{tabular}\n",
            "text/plain": [
              "     [,1] [,2] [,3]\n",
              "[1,] 1    1    2   \n",
              "[2,] 3    5    8   "
            ]
          },
          "metadata": {}
        }
      ]
    },
    {
      "cell_type": "code",
      "metadata": {
        "trusted": true,
        "id": "Gm3PDTciSqof",
        "outputId": "8b2bd23d-3be3-47b5-b25e-26bf8a643402",
        "colab": {
          "base_uri": "https://localhost:8080/",
          "height": 34
        }
      },
      "source": [
        "# clase y atributo dim\n",
        "class(A)"
      ],
      "execution_count": 3,
      "outputs": [
        {
          "output_type": "display_data",
          "data": {
            "text/html": [
              "<style>\n",
              ".list-inline {list-style: none; margin:0; padding: 0}\n",
              ".list-inline>li {display: inline-block}\n",
              ".list-inline>li:not(:last-child)::after {content: \"\\00b7\"; padding: 0 .5ex}\n",
              "</style>\n",
              "<ol class=list-inline><li>'matrix'</li><li>'array'</li></ol>\n"
            ],
            "text/markdown": "1. 'matrix'\n2. 'array'\n\n\n",
            "text/latex": "\\begin{enumerate*}\n\\item 'matrix'\n\\item 'array'\n\\end{enumerate*}\n",
            "text/plain": [
              "[1] \"matrix\" \"array\" "
            ]
          },
          "metadata": {}
        }
      ]
    },
    {
      "cell_type": "code",
      "source": [
        "dim(A)"
      ],
      "metadata": {
        "id": "m-oJiCdlSq4W",
        "outputId": "4afe7de7-3d71-40e2-b340-378676b3c11e",
        "colab": {
          "base_uri": "https://localhost:8080/",
          "height": 34
        }
      },
      "execution_count": 4,
      "outputs": [
        {
          "output_type": "display_data",
          "data": {
            "text/html": [
              "<style>\n",
              ".list-inline {list-style: none; margin:0; padding: 0}\n",
              ".list-inline>li {display: inline-block}\n",
              ".list-inline>li:not(:last-child)::after {content: \"\\00b7\"; padding: 0 .5ex}\n",
              "</style>\n",
              "<ol class=list-inline><li>2</li><li>3</li></ol>\n"
            ],
            "text/markdown": "1. 2\n2. 3\n\n\n",
            "text/latex": "\\begin{enumerate*}\n\\item 2\n\\item 3\n\\end{enumerate*}\n",
            "text/plain": [
              "[1] 2 3"
            ]
          },
          "metadata": {}
        }
      ]
    },
    {
      "cell_type": "code",
      "metadata": {
        "trusted": true,
        "id": "2TXNSoedSqoh",
        "outputId": "c40f34ad-b537-426b-b62f-71b8cf8ebab3",
        "colab": {
          "base_uri": "https://localhost:8080/",
          "height": 52
        }
      },
      "source": [
        "# Genere dos vectores del mismo largo y forme una matriz.\n",
        "c1 <- 1:4\n",
        "c2 <- 10:13\n",
        "c1\n",
        "c2\n",
        "\n"
      ],
      "execution_count": 6,
      "outputs": [
        {
          "output_type": "display_data",
          "data": {
            "text/html": [
              "<style>\n",
              ".list-inline {list-style: none; margin:0; padding: 0}\n",
              ".list-inline>li {display: inline-block}\n",
              ".list-inline>li:not(:last-child)::after {content: \"\\00b7\"; padding: 0 .5ex}\n",
              "</style>\n",
              "<ol class=list-inline><li>1</li><li>2</li><li>3</li><li>4</li></ol>\n"
            ],
            "text/markdown": "1. 1\n2. 2\n3. 3\n4. 4\n\n\n",
            "text/latex": "\\begin{enumerate*}\n\\item 1\n\\item 2\n\\item 3\n\\item 4\n\\end{enumerate*}\n",
            "text/plain": [
              "[1] 1 2 3 4"
            ]
          },
          "metadata": {}
        },
        {
          "output_type": "display_data",
          "data": {
            "text/html": [
              "<style>\n",
              ".list-inline {list-style: none; margin:0; padding: 0}\n",
              ".list-inline>li {display: inline-block}\n",
              ".list-inline>li:not(:last-child)::after {content: \"\\00b7\"; padding: 0 .5ex}\n",
              "</style>\n",
              "<ol class=list-inline><li>10</li><li>11</li><li>12</li><li>13</li></ol>\n"
            ],
            "text/markdown": "1. 10\n2. 11\n3. 12\n4. 13\n\n\n",
            "text/latex": "\\begin{enumerate*}\n\\item 10\n\\item 11\n\\item 12\n\\item 13\n\\end{enumerate*}\n",
            "text/plain": [
              "[1] 10 11 12 13"
            ]
          },
          "metadata": {}
        }
      ]
    },
    {
      "cell_type": "code",
      "metadata": {
        "trusted": true,
        "id": "W3g76XEkSqok",
        "outputId": "5b38b9a6-e413-4838-9702-d41e489aeaa2",
        "colab": {
          "base_uri": "https://localhost:8080/",
          "height": 226
        }
      },
      "source": [
        "# funciones cbind() [une vectores como columnas]\n",
        "# y rbind() [une vectores como filas] (pensadas para matrices)\n",
        "#?cbind\n",
        "M1 <- cbind(c1,c2)\n",
        "M1"
      ],
      "execution_count": 8,
      "outputs": [
        {
          "output_type": "display_data",
          "data": {
            "text/html": [
              "<table class=\"dataframe\">\n",
              "<caption>A matrix: 4 × 2 of type int</caption>\n",
              "<thead>\n",
              "\t<tr><th scope=col>c1</th><th scope=col>c2</th></tr>\n",
              "</thead>\n",
              "<tbody>\n",
              "\t<tr><td>1</td><td>10</td></tr>\n",
              "\t<tr><td>2</td><td>11</td></tr>\n",
              "\t<tr><td>3</td><td>12</td></tr>\n",
              "\t<tr><td>4</td><td>13</td></tr>\n",
              "</tbody>\n",
              "</table>\n"
            ],
            "text/markdown": "\nA matrix: 4 × 2 of type int\n\n| c1 | c2 |\n|---|---|\n| 1 | 10 |\n| 2 | 11 |\n| 3 | 12 |\n| 4 | 13 |\n\n",
            "text/latex": "A matrix: 4 × 2 of type int\n\\begin{tabular}{ll}\n c1 & c2\\\\\n\\hline\n\t 1 & 10\\\\\n\t 2 & 11\\\\\n\t 3 & 12\\\\\n\t 4 & 13\\\\\n\\end{tabular}\n",
            "text/plain": [
              "     c1 c2\n",
              "[1,] 1  10\n",
              "[2,] 2  11\n",
              "[3,] 3  12\n",
              "[4,] 4  13"
            ]
          },
          "metadata": {}
        }
      ]
    },
    {
      "cell_type": "code",
      "source": [
        "M2 <- rbind(c1,c2)\n",
        "M2"
      ],
      "metadata": {
        "id": "N0BCnABuTMgl",
        "outputId": "02c66e7a-f782-470d-fc65-40da71fb8aa4",
        "colab": {
          "base_uri": "https://localhost:8080/",
          "height": 114
        }
      },
      "execution_count": 9,
      "outputs": [
        {
          "output_type": "display_data",
          "data": {
            "text/html": [
              "<table class=\"dataframe\">\n",
              "<caption>A matrix: 2 × 4 of type int</caption>\n",
              "<tbody>\n",
              "\t<tr><th scope=row>c1</th><td> 1</td><td> 2</td><td> 3</td><td> 4</td></tr>\n",
              "\t<tr><th scope=row>c2</th><td>10</td><td>11</td><td>12</td><td>13</td></tr>\n",
              "</tbody>\n",
              "</table>\n"
            ],
            "text/markdown": "\nA matrix: 2 × 4 of type int\n\n| c1 |  1 |  2 |  3 |  4 |\n| c2 | 10 | 11 | 12 | 13 |\n\n",
            "text/latex": "A matrix: 2 × 4 of type int\n\\begin{tabular}{r|llll}\n\tc1 &  1 &  2 &  3 &  4\\\\\n\tc2 & 10 & 11 & 12 & 13\\\\\n\\end{tabular}\n",
            "text/plain": [
              "   [,1] [,2] [,3] [,4]\n",
              "c1  1    2    3    4  \n",
              "c2 10   11   12   13  "
            ]
          },
          "metadata": {}
        }
      ]
    },
    {
      "cell_type": "code",
      "source": [
        "colnames(M1)\n",
        "rownames(M1)"
      ],
      "metadata": {
        "id": "gg7Va0hsTdQP",
        "outputId": "838eff6e-e958-43b9-be3c-c1c4c73d9307",
        "colab": {
          "base_uri": "https://localhost:8080/",
          "height": 52
        }
      },
      "execution_count": 11,
      "outputs": [
        {
          "output_type": "display_data",
          "data": {
            "text/html": [
              "<style>\n",
              ".list-inline {list-style: none; margin:0; padding: 0}\n",
              ".list-inline>li {display: inline-block}\n",
              ".list-inline>li:not(:last-child)::after {content: \"\\00b7\"; padding: 0 .5ex}\n",
              "</style>\n",
              "<ol class=list-inline><li>'c1'</li><li>'c2'</li></ol>\n"
            ],
            "text/markdown": "1. 'c1'\n2. 'c2'\n\n\n",
            "text/latex": "\\begin{enumerate*}\n\\item 'c1'\n\\item 'c2'\n\\end{enumerate*}\n",
            "text/plain": [
              "[1] \"c1\" \"c2\""
            ]
          },
          "metadata": {}
        },
        {
          "output_type": "display_data",
          "data": {
            "text/plain": [
              "NULL"
            ]
          },
          "metadata": {}
        }
      ]
    },
    {
      "cell_type": "code",
      "source": [
        "colnames(M2)\n",
        "rownames(M2)"
      ],
      "metadata": {
        "id": "d74OuUR2Trza",
        "outputId": "c44bd892-fc37-4cd7-c23b-8c491738987f",
        "colab": {
          "base_uri": "https://localhost:8080/",
          "height": 52
        }
      },
      "execution_count": 12,
      "outputs": [
        {
          "output_type": "display_data",
          "data": {
            "text/plain": [
              "NULL"
            ]
          },
          "metadata": {}
        },
        {
          "output_type": "display_data",
          "data": {
            "text/html": [
              "<style>\n",
              ".list-inline {list-style: none; margin:0; padding: 0}\n",
              ".list-inline>li {display: inline-block}\n",
              ".list-inline>li:not(:last-child)::after {content: \"\\00b7\"; padding: 0 .5ex}\n",
              "</style>\n",
              "<ol class=list-inline><li>'c1'</li><li>'c2'</li></ol>\n"
            ],
            "text/markdown": "1. 'c1'\n2. 'c2'\n\n\n",
            "text/latex": "\\begin{enumerate*}\n\\item 'c1'\n\\item 'c2'\n\\end{enumerate*}\n",
            "text/plain": [
              "[1] \"c1\" \"c2\""
            ]
          },
          "metadata": {}
        }
      ]
    },
    {
      "cell_type": "code",
      "source": [
        "# NOTA: Podemos añadir una fila/columna a una matriz existente\n"
      ],
      "metadata": {
        "id": "ds9erwbP3sMG"
      },
      "execution_count": null,
      "outputs": []
    },
    {
      "cell_type": "code",
      "metadata": {
        "trusted": true,
        "id": "gDzbcsNVSqom",
        "outputId": "c6a64022-41af-4726-ce64-2af07aabf239",
        "colab": {
          "base_uri": "https://localhost:8080/",
          "height": 34
        }
      },
      "source": [
        "# si combinamos vectores de distinto largo?\n",
        "# R recicla valores (recordar explicación)\n",
        "c3 <- c(-1:-4)\n",
        "c3\n"
      ],
      "execution_count": 14,
      "outputs": [
        {
          "output_type": "display_data",
          "data": {
            "text/html": [
              "<style>\n",
              ".list-inline {list-style: none; margin:0; padding: 0}\n",
              ".list-inline>li {display: inline-block}\n",
              ".list-inline>li:not(:last-child)::after {content: \"\\00b7\"; padding: 0 .5ex}\n",
              "</style>\n",
              "<ol class=list-inline><li>-1</li><li>-2</li><li>-3</li><li>-4</li></ol>\n"
            ],
            "text/markdown": "1. -1\n2. -2\n3. -3\n4. -4\n\n\n",
            "text/latex": "\\begin{enumerate*}\n\\item -1\n\\item -2\n\\item -3\n\\item -4\n\\end{enumerate*}\n",
            "text/plain": [
              "[1] -1 -2 -3 -4"
            ]
          },
          "metadata": {}
        }
      ]
    },
    {
      "cell_type": "code",
      "source": [
        "# Añadiremos c3 como nueva columna a M1\n",
        "M1 <- cbind(M1,c3)\n",
        "M1"
      ],
      "metadata": {
        "id": "yfqMabuwUBdP",
        "outputId": "8c3429f5-d48c-41bb-d58d-184ae7e78993",
        "colab": {
          "base_uri": "https://localhost:8080/",
          "height": 209
        }
      },
      "execution_count": 18,
      "outputs": [
        {
          "output_type": "display_data",
          "data": {
            "text/html": [
              "<table class=\"dataframe\">\n",
              "<caption>A matrix: 4 × 3 of type int</caption>\n",
              "<thead>\n",
              "\t<tr><th scope=col>c1</th><th scope=col>c2</th><th scope=col>c3</th></tr>\n",
              "</thead>\n",
              "<tbody>\n",
              "\t<tr><td>1</td><td>10</td><td>-1</td></tr>\n",
              "\t<tr><td>2</td><td>11</td><td>-2</td></tr>\n",
              "\t<tr><td>3</td><td>12</td><td>-3</td></tr>\n",
              "\t<tr><td>4</td><td>13</td><td>-4</td></tr>\n",
              "</tbody>\n",
              "</table>\n"
            ],
            "text/markdown": "\nA matrix: 4 × 3 of type int\n\n| c1 | c2 | c3 |\n|---|---|---|\n| 1 | 10 | -1 |\n| 2 | 11 | -2 |\n| 3 | 12 | -3 |\n| 4 | 13 | -4 |\n\n",
            "text/latex": "A matrix: 4 × 3 of type int\n\\begin{tabular}{lll}\n c1 & c2 & c3\\\\\n\\hline\n\t 1 & 10 & -1\\\\\n\t 2 & 11 & -2\\\\\n\t 3 & 12 & -3\\\\\n\t 4 & 13 & -4\\\\\n\\end{tabular}\n",
            "text/plain": [
              "     c1 c2 c3\n",
              "[1,] 1  10 -1\n",
              "[2,] 2  11 -2\n",
              "[3,] 3  12 -3\n",
              "[4,] 4  13 -4"
            ]
          },
          "metadata": {}
        }
      ]
    },
    {
      "cell_type": "code",
      "metadata": {
        "trusted": true,
        "id": "QLOH0514Sqoo",
        "outputId": "ba2b683e-67a5-4998-9a5d-62aa35162316",
        "colab": {
          "base_uri": "https://localhost:8080/",
          "height": 163
        }
      },
      "source": [
        "# función diag para la definición de matrices diagonales\n",
        "#?diag\n",
        "\n",
        "diag(c(1,4,6))\n"
      ],
      "execution_count": 16,
      "outputs": [
        {
          "output_type": "display_data",
          "data": {
            "text/html": [
              "<table class=\"dataframe\">\n",
              "<caption>A matrix: 3 × 3 of type dbl</caption>\n",
              "<tbody>\n",
              "\t<tr><td>1</td><td>0</td><td>0</td></tr>\n",
              "\t<tr><td>0</td><td>4</td><td>0</td></tr>\n",
              "\t<tr><td>0</td><td>0</td><td>6</td></tr>\n",
              "</tbody>\n",
              "</table>\n"
            ],
            "text/markdown": "\nA matrix: 3 × 3 of type dbl\n\n| 1 | 0 | 0 |\n| 0 | 4 | 0 |\n| 0 | 0 | 6 |\n\n",
            "text/latex": "A matrix: 3 × 3 of type dbl\n\\begin{tabular}{lll}\n\t 1 & 0 & 0\\\\\n\t 0 & 4 & 0\\\\\n\t 0 & 0 & 6\\\\\n\\end{tabular}\n",
            "text/plain": [
              "     [,1] [,2] [,3]\n",
              "[1,] 1    0    0   \n",
              "[2,] 0    4    0   \n",
              "[3,] 0    0    6   "
            ]
          },
          "metadata": {}
        }
      ]
    },
    {
      "cell_type": "code",
      "source": [
        "M1"
      ],
      "metadata": {
        "id": "_26clIhtU6Rn",
        "outputId": "ce6d9271-6b24-4e75-c763-fddb498bab50",
        "colab": {
          "base_uri": "https://localhost:8080/",
          "height": 209
        }
      },
      "execution_count": 22,
      "outputs": [
        {
          "output_type": "display_data",
          "data": {
            "text/html": [
              "<table class=\"dataframe\">\n",
              "<caption>A matrix: 4 × 3 of type int</caption>\n",
              "<thead>\n",
              "\t<tr><th scope=col>c1</th><th scope=col>c2</th><th scope=col>c3</th></tr>\n",
              "</thead>\n",
              "<tbody>\n",
              "\t<tr><td>1</td><td>10</td><td>-1</td></tr>\n",
              "\t<tr><td>2</td><td>11</td><td>-2</td></tr>\n",
              "\t<tr><td>3</td><td>12</td><td>-3</td></tr>\n",
              "\t<tr><td>4</td><td>13</td><td>-4</td></tr>\n",
              "</tbody>\n",
              "</table>\n"
            ],
            "text/markdown": "\nA matrix: 4 × 3 of type int\n\n| c1 | c2 | c3 |\n|---|---|---|\n| 1 | 10 | -1 |\n| 2 | 11 | -2 |\n| 3 | 12 | -3 |\n| 4 | 13 | -4 |\n\n",
            "text/latex": "A matrix: 4 × 3 of type int\n\\begin{tabular}{lll}\n c1 & c2 & c3\\\\\n\\hline\n\t 1 & 10 & -1\\\\\n\t 2 & 11 & -2\\\\\n\t 3 & 12 & -3\\\\\n\t 4 & 13 & -4\\\\\n\\end{tabular}\n",
            "text/plain": [
              "     c1 c2 c3\n",
              "[1,] 1  10 -1\n",
              "[2,] 2  11 -2\n",
              "[3,] 3  12 -3\n",
              "[4,] 4  13 -4"
            ]
          },
          "metadata": {}
        }
      ]
    },
    {
      "cell_type": "code",
      "metadata": {
        "trusted": true,
        "id": "xIfUV82ASqot",
        "outputId": "6a02e3ac-ee89-4a9d-d0a6-61985e9c850e",
        "colab": {
          "base_uri": "https://localhost:8080/",
          "height": 34
        }
      },
      "source": [
        "# Podemos acceder a los elementos de una matriz\n",
        "# indicando la posición de la fila y la columna de la casilla correspondiente.\n",
        "# Ejemplo: el \"-2\" de la posición (2,3)\n",
        "M1[2,3]\n"
      ],
      "execution_count": 20,
      "outputs": [
        {
          "output_type": "display_data",
          "data": {
            "text/html": [
              "<strong>c3:</strong> -2"
            ],
            "text/markdown": "**c3:** -2",
            "text/latex": "\\textbf{c3:} -2",
            "text/plain": [
              "c3 \n",
              "-2 "
            ]
          },
          "metadata": {}
        }
      ]
    },
    {
      "cell_type": "code",
      "source": [
        "# CUIDADO:No es lo mismo que\n",
        "M1[c(8,10)]"
      ],
      "metadata": {
        "id": "XZ9li5x25CT5",
        "outputId": "5f5839fa-e2e8-402e-90d9-8c1e4c2df3e8",
        "colab": {
          "base_uri": "https://localhost:8080/",
          "height": 34
        }
      },
      "execution_count": 23,
      "outputs": [
        {
          "output_type": "display_data",
          "data": {
            "text/html": [
              "<style>\n",
              ".list-inline {list-style: none; margin:0; padding: 0}\n",
              ".list-inline>li {display: inline-block}\n",
              ".list-inline>li:not(:last-child)::after {content: \"\\00b7\"; padding: 0 .5ex}\n",
              "</style>\n",
              "<ol class=list-inline><li>13</li><li>-2</li></ol>\n"
            ],
            "text/markdown": "1. 13\n2. -2\n\n\n",
            "text/latex": "\\begin{enumerate*}\n\\item 13\n\\item -2\n\\end{enumerate*}\n",
            "text/plain": [
              "[1] 13 -2"
            ]
          },
          "metadata": {}
        }
      ]
    },
    {
      "cell_type": "code",
      "metadata": {
        "trusted": true,
        "id": "0irI-CBJSqou",
        "outputId": "2d851f3d-f9b2-49e2-cb1d-2cd758512d2a",
        "colab": {
          "base_uri": "https://localhost:8080/",
          "height": 52
        }
      },
      "source": [
        "# Para acceder a una fila completa\n",
        "# Fila 3\n",
        "M1[3,]\n",
        "\n",
        "# Para acceder a una columna completa\n",
        "# Columna 2\n",
        "M1[,2]\n"
      ],
      "execution_count": 25,
      "outputs": [
        {
          "output_type": "display_data",
          "data": {
            "text/html": [
              "<style>\n",
              ".dl-inline {width: auto; margin:0; padding: 0}\n",
              ".dl-inline>dt, .dl-inline>dd {float: none; width: auto; display: inline-block}\n",
              ".dl-inline>dt::after {content: \":\\0020\"; padding-right: .5ex}\n",
              ".dl-inline>dt:not(:first-of-type) {padding-left: .5ex}\n",
              "</style><dl class=dl-inline><dt>c1</dt><dd>3</dd><dt>c2</dt><dd>12</dd><dt>c3</dt><dd>-3</dd></dl>\n"
            ],
            "text/markdown": "c1\n:   3c2\n:   12c3\n:   -3\n\n",
            "text/latex": "\\begin{description*}\n\\item[c1] 3\n\\item[c2] 12\n\\item[c3] -3\n\\end{description*}\n",
            "text/plain": [
              "c1 c2 c3 \n",
              " 3 12 -3 "
            ]
          },
          "metadata": {}
        },
        {
          "output_type": "display_data",
          "data": {
            "text/html": [
              "<style>\n",
              ".list-inline {list-style: none; margin:0; padding: 0}\n",
              ".list-inline>li {display: inline-block}\n",
              ".list-inline>li:not(:last-child)::after {content: \"\\00b7\"; padding: 0 .5ex}\n",
              "</style>\n",
              "<ol class=list-inline><li>10</li><li>11</li><li>12</li><li>13</li></ol>\n"
            ],
            "text/markdown": "1. 10\n2. 11\n3. 12\n4. 13\n\n\n",
            "text/latex": "\\begin{enumerate*}\n\\item 10\n\\item 11\n\\item 12\n\\item 13\n\\end{enumerate*}\n",
            "text/plain": [
              "[1] 10 11 12 13"
            ]
          },
          "metadata": {}
        }
      ]
    },
    {
      "cell_type": "code",
      "metadata": {
        "trusted": true,
        "id": "rkq7J4nLSqow",
        "outputId": "30cef04e-34f6-4eb0-8ca8-7e765761745e",
        "colab": {
          "base_uri": "https://localhost:8080/",
          "height": 209
        }
      },
      "source": [
        "#Recordemos que podemos actualizar elementos de un vector como:\n",
        "\n",
        "# quiero cambiar el -2 por un -99 (el -2 de la pos 2,3)\n",
        "M1[2,3] <- -99\n",
        "M1\n"
      ],
      "execution_count": 26,
      "outputs": [
        {
          "output_type": "display_data",
          "data": {
            "text/html": [
              "<table class=\"dataframe\">\n",
              "<caption>A matrix: 4 × 3 of type dbl</caption>\n",
              "<thead>\n",
              "\t<tr><th scope=col>c1</th><th scope=col>c2</th><th scope=col>c3</th></tr>\n",
              "</thead>\n",
              "<tbody>\n",
              "\t<tr><td>1</td><td>10</td><td> -1</td></tr>\n",
              "\t<tr><td>2</td><td>11</td><td>-99</td></tr>\n",
              "\t<tr><td>3</td><td>12</td><td> -3</td></tr>\n",
              "\t<tr><td>4</td><td>13</td><td> -4</td></tr>\n",
              "</tbody>\n",
              "</table>\n"
            ],
            "text/markdown": "\nA matrix: 4 × 3 of type dbl\n\n| c1 | c2 | c3 |\n|---|---|---|\n| 1 | 10 |  -1 |\n| 2 | 11 | -99 |\n| 3 | 12 |  -3 |\n| 4 | 13 |  -4 |\n\n",
            "text/latex": "A matrix: 4 × 3 of type dbl\n\\begin{tabular}{lll}\n c1 & c2 & c3\\\\\n\\hline\n\t 1 & 10 &  -1\\\\\n\t 2 & 11 & -99\\\\\n\t 3 & 12 &  -3\\\\\n\t 4 & 13 &  -4\\\\\n\\end{tabular}\n",
            "text/plain": [
              "     c1 c2 c3 \n",
              "[1,] 1  10  -1\n",
              "[2,] 2  11 -99\n",
              "[3,] 3  12  -3\n",
              "[4,] 4  13  -4"
            ]
          },
          "metadata": {}
        }
      ]
    },
    {
      "cell_type": "code",
      "source": [],
      "metadata": {
        "id": "yb2dYBtk6QT8"
      },
      "execution_count": null,
      "outputs": []
    },
    {
      "cell_type": "code",
      "metadata": {
        "id": "KstW38ylSkSV",
        "outputId": "4e033994-a6f6-4e03-ece5-01192dc52b3d",
        "colab": {
          "base_uri": "https://localhost:8080/",
          "height": 209
        }
      },
      "source": [
        "# Acceso mediante nombres\n",
        "M1"
      ],
      "execution_count": 27,
      "outputs": [
        {
          "output_type": "display_data",
          "data": {
            "text/html": [
              "<table class=\"dataframe\">\n",
              "<caption>A matrix: 4 × 3 of type dbl</caption>\n",
              "<thead>\n",
              "\t<tr><th scope=col>c1</th><th scope=col>c2</th><th scope=col>c3</th></tr>\n",
              "</thead>\n",
              "<tbody>\n",
              "\t<tr><td>1</td><td>10</td><td> -1</td></tr>\n",
              "\t<tr><td>2</td><td>11</td><td>-99</td></tr>\n",
              "\t<tr><td>3</td><td>12</td><td> -3</td></tr>\n",
              "\t<tr><td>4</td><td>13</td><td> -4</td></tr>\n",
              "</tbody>\n",
              "</table>\n"
            ],
            "text/markdown": "\nA matrix: 4 × 3 of type dbl\n\n| c1 | c2 | c3 |\n|---|---|---|\n| 1 | 10 |  -1 |\n| 2 | 11 | -99 |\n| 3 | 12 |  -3 |\n| 4 | 13 |  -4 |\n\n",
            "text/latex": "A matrix: 4 × 3 of type dbl\n\\begin{tabular}{lll}\n c1 & c2 & c3\\\\\n\\hline\n\t 1 & 10 &  -1\\\\\n\t 2 & 11 & -99\\\\\n\t 3 & 12 &  -3\\\\\n\t 4 & 13 &  -4\\\\\n\\end{tabular}\n",
            "text/plain": [
              "     c1 c2 c3 \n",
              "[1,] 1  10  -1\n",
              "[2,] 2  11 -99\n",
              "[3,] 3  12  -3\n",
              "[4,] 4  13  -4"
            ]
          },
          "metadata": {}
        }
      ]
    },
    {
      "cell_type": "code",
      "source": [
        "rownames(M1) <- paste(\"f\",1:4,sep = \"_\")"
      ],
      "metadata": {
        "id": "BMjfal-UV5rY"
      },
      "execution_count": 29,
      "outputs": []
    },
    {
      "cell_type": "code",
      "source": [
        "M1"
      ],
      "metadata": {
        "id": "kXZrEXB3WLq5",
        "outputId": "9f58034c-7306-4145-c18f-58b5a0587c00",
        "colab": {
          "base_uri": "https://localhost:8080/",
          "height": 209
        }
      },
      "execution_count": 30,
      "outputs": [
        {
          "output_type": "display_data",
          "data": {
            "text/html": [
              "<table class=\"dataframe\">\n",
              "<caption>A matrix: 4 × 3 of type dbl</caption>\n",
              "<thead>\n",
              "\t<tr><th></th><th scope=col>c1</th><th scope=col>c2</th><th scope=col>c3</th></tr>\n",
              "</thead>\n",
              "<tbody>\n",
              "\t<tr><th scope=row>f_1</th><td>1</td><td>10</td><td> -1</td></tr>\n",
              "\t<tr><th scope=row>f_2</th><td>2</td><td>11</td><td>-99</td></tr>\n",
              "\t<tr><th scope=row>f_3</th><td>3</td><td>12</td><td> -3</td></tr>\n",
              "\t<tr><th scope=row>f_4</th><td>4</td><td>13</td><td> -4</td></tr>\n",
              "</tbody>\n",
              "</table>\n"
            ],
            "text/markdown": "\nA matrix: 4 × 3 of type dbl\n\n| <!--/--> | c1 | c2 | c3 |\n|---|---|---|---|\n| f_1 | 1 | 10 |  -1 |\n| f_2 | 2 | 11 | -99 |\n| f_3 | 3 | 12 |  -3 |\n| f_4 | 4 | 13 |  -4 |\n\n",
            "text/latex": "A matrix: 4 × 3 of type dbl\n\\begin{tabular}{r|lll}\n  & c1 & c2 & c3\\\\\n\\hline\n\tf\\_1 & 1 & 10 &  -1\\\\\n\tf\\_2 & 2 & 11 & -99\\\\\n\tf\\_3 & 3 & 12 &  -3\\\\\n\tf\\_4 & 4 & 13 &  -4\\\\\n\\end{tabular}\n",
            "text/plain": [
              "    c1 c2 c3 \n",
              "f_1 1  10  -1\n",
              "f_2 2  11 -99\n",
              "f_3 3  12  -3\n",
              "f_4 4  13  -4"
            ]
          },
          "metadata": {}
        }
      ]
    },
    {
      "cell_type": "code",
      "metadata": {
        "id": "0mKL1vhcSkVc",
        "outputId": "138619bf-09b7-4db1-a616-c81871ba54eb",
        "colab": {
          "base_uri": "https://localhost:8080/",
          "height": 34
        }
      },
      "source": [
        "# Acceso mediante nomnbres\n",
        "# Elemento de la segunda fila tercera columna (2,3)\n",
        "\n",
        "M1[\"f_2\",\"c3\"]"
      ],
      "execution_count": 32,
      "outputs": [
        {
          "output_type": "display_data",
          "data": {
            "text/html": [
              "-99"
            ],
            "text/markdown": "-99",
            "text/latex": "-99",
            "text/plain": [
              "[1] -99"
            ]
          },
          "metadata": {}
        }
      ]
    },
    {
      "cell_type": "code",
      "source": [
        "M1[\"f_2\",]\n",
        "M1[,\"c3\"]"
      ],
      "metadata": {
        "id": "m-OMLsPVWdMI",
        "outputId": "8593d48f-6383-45ee-b7aa-c0c3c2e2201b",
        "colab": {
          "base_uri": "https://localhost:8080/",
          "height": 52
        }
      },
      "execution_count": 34,
      "outputs": [
        {
          "output_type": "display_data",
          "data": {
            "text/html": [
              "<style>\n",
              ".dl-inline {width: auto; margin:0; padding: 0}\n",
              ".dl-inline>dt, .dl-inline>dd {float: none; width: auto; display: inline-block}\n",
              ".dl-inline>dt::after {content: \":\\0020\"; padding-right: .5ex}\n",
              ".dl-inline>dt:not(:first-of-type) {padding-left: .5ex}\n",
              "</style><dl class=dl-inline><dt>c1</dt><dd>2</dd><dt>c2</dt><dd>11</dd><dt>c3</dt><dd>-99</dd></dl>\n"
            ],
            "text/markdown": "c1\n:   2c2\n:   11c3\n:   -99\n\n",
            "text/latex": "\\begin{description*}\n\\item[c1] 2\n\\item[c2] 11\n\\item[c3] -99\n\\end{description*}\n",
            "text/plain": [
              " c1  c2  c3 \n",
              "  2  11 -99 "
            ]
          },
          "metadata": {}
        },
        {
          "output_type": "display_data",
          "data": {
            "text/html": [
              "<style>\n",
              ".dl-inline {width: auto; margin:0; padding: 0}\n",
              ".dl-inline>dt, .dl-inline>dd {float: none; width: auto; display: inline-block}\n",
              ".dl-inline>dt::after {content: \":\\0020\"; padding-right: .5ex}\n",
              ".dl-inline>dt:not(:first-of-type) {padding-left: .5ex}\n",
              "</style><dl class=dl-inline><dt>f_1</dt><dd>-1</dd><dt>f_2</dt><dd>-99</dd><dt>f_3</dt><dd>-3</dd><dt>f_4</dt><dd>-4</dd></dl>\n"
            ],
            "text/markdown": "f_1\n:   -1f_2\n:   -99f_3\n:   -3f_4\n:   -4\n\n",
            "text/latex": "\\begin{description*}\n\\item[f\\textbackslash{}\\_1] -1\n\\item[f\\textbackslash{}\\_2] -99\n\\item[f\\textbackslash{}\\_3] -3\n\\item[f\\textbackslash{}\\_4] -4\n\\end{description*}\n",
            "text/plain": [
              "f_1 f_2 f_3 f_4 \n",
              " -1 -99  -3  -4 "
            ]
          },
          "metadata": {}
        }
      ]
    },
    {
      "cell_type": "code",
      "metadata": {
        "trusted": true,
        "id": "qt9bcwQgSqo0",
        "outputId": "5fb939e5-e8fb-447d-e86d-196f73fbb0fa",
        "colab": {
          "base_uri": "https://localhost:8080/",
          "height": 160
        }
      },
      "source": [
        "# Acceso mediante \"indicatrices\" lógicas\n",
        "# Quiero obtener los elementos (1,1) y (2,3) de M3\n",
        "# 1: Crear una matriz de 4x3 con TRUE en dichas posiciones y FALSE en las restantes.\n",
        "#rep(x = F, times = 12)\n",
        "ind <- matrix(rep(F,12), ncol = 3, nrow = 4)\n",
        "ind[1,1] <- T\n",
        "ind[2,3] <- T\n",
        "ind\n"
      ],
      "execution_count": 40,
      "outputs": [
        {
          "output_type": "display_data",
          "data": {
            "text/html": [
              "<table class=\"dataframe\">\n",
              "<caption>A matrix: 4 × 3 of type lgl</caption>\n",
              "<tbody>\n",
              "\t<tr><td> TRUE</td><td>FALSE</td><td>FALSE</td></tr>\n",
              "\t<tr><td>FALSE</td><td>FALSE</td><td> TRUE</td></tr>\n",
              "\t<tr><td>FALSE</td><td>FALSE</td><td>FALSE</td></tr>\n",
              "\t<tr><td>FALSE</td><td>FALSE</td><td>FALSE</td></tr>\n",
              "</tbody>\n",
              "</table>\n"
            ],
            "text/markdown": "\nA matrix: 4 × 3 of type lgl\n\n|  TRUE | FALSE | FALSE |\n| FALSE | FALSE |  TRUE |\n| FALSE | FALSE | FALSE |\n| FALSE | FALSE | FALSE |\n\n",
            "text/latex": "A matrix: 4 × 3 of type lgl\n\\begin{tabular}{lll}\n\t  TRUE & FALSE & FALSE\\\\\n\t FALSE & FALSE &  TRUE\\\\\n\t FALSE & FALSE & FALSE\\\\\n\t FALSE & FALSE & FALSE\\\\\n\\end{tabular}\n",
            "text/plain": [
              "     [,1]  [,2]  [,3] \n",
              "[1,]  TRUE FALSE FALSE\n",
              "[2,] FALSE FALSE  TRUE\n",
              "[3,] FALSE FALSE FALSE\n",
              "[4,] FALSE FALSE FALSE"
            ]
          },
          "metadata": {}
        }
      ]
    },
    {
      "cell_type": "code",
      "source": [
        "M1"
      ],
      "metadata": {
        "id": "sIbP_WhGXiw8",
        "outputId": "a1656722-75c5-4516-fe4a-ac7ebe540e7f",
        "colab": {
          "base_uri": "https://localhost:8080/",
          "height": 209
        }
      },
      "execution_count": 42,
      "outputs": [
        {
          "output_type": "display_data",
          "data": {
            "text/html": [
              "<table class=\"dataframe\">\n",
              "<caption>A matrix: 4 × 3 of type dbl</caption>\n",
              "<thead>\n",
              "\t<tr><th></th><th scope=col>c1</th><th scope=col>c2</th><th scope=col>c3</th></tr>\n",
              "</thead>\n",
              "<tbody>\n",
              "\t<tr><th scope=row>f_1</th><td>1</td><td>10</td><td> -1</td></tr>\n",
              "\t<tr><th scope=row>f_2</th><td>2</td><td>11</td><td>-99</td></tr>\n",
              "\t<tr><th scope=row>f_3</th><td>3</td><td>12</td><td> -3</td></tr>\n",
              "\t<tr><th scope=row>f_4</th><td>4</td><td>13</td><td> -4</td></tr>\n",
              "</tbody>\n",
              "</table>\n"
            ],
            "text/markdown": "\nA matrix: 4 × 3 of type dbl\n\n| <!--/--> | c1 | c2 | c3 |\n|---|---|---|---|\n| f_1 | 1 | 10 |  -1 |\n| f_2 | 2 | 11 | -99 |\n| f_3 | 3 | 12 |  -3 |\n| f_4 | 4 | 13 |  -4 |\n\n",
            "text/latex": "A matrix: 4 × 3 of type dbl\n\\begin{tabular}{r|lll}\n  & c1 & c2 & c3\\\\\n\\hline\n\tf\\_1 & 1 & 10 &  -1\\\\\n\tf\\_2 & 2 & 11 & -99\\\\\n\tf\\_3 & 3 & 12 &  -3\\\\\n\tf\\_4 & 4 & 13 &  -4\\\\\n\\end{tabular}\n",
            "text/plain": [
              "    c1 c2 c3 \n",
              "f_1 1  10  -1\n",
              "f_2 2  11 -99\n",
              "f_3 3  12  -3\n",
              "f_4 4  13  -4"
            ]
          },
          "metadata": {}
        }
      ]
    },
    {
      "cell_type": "code",
      "source": [],
      "metadata": {
        "id": "ZbQFEwOwXn_7"
      },
      "execution_count": null,
      "outputs": []
    },
    {
      "cell_type": "code",
      "source": [
        "M1[ind]"
      ],
      "metadata": {
        "id": "7J6avJS774KM",
        "outputId": "a1ac6a8e-ea29-4a5b-95bd-0b52afc1083c",
        "colab": {
          "base_uri": "https://localhost:8080/",
          "height": 34
        }
      },
      "execution_count": 41,
      "outputs": [
        {
          "output_type": "display_data",
          "data": {
            "text/html": [
              "<style>\n",
              ".list-inline {list-style: none; margin:0; padding: 0}\n",
              ".list-inline>li {display: inline-block}\n",
              ".list-inline>li:not(:last-child)::after {content: \"\\00b7\"; padding: 0 .5ex}\n",
              "</style>\n",
              "<ol class=list-inline><li>1</li><li>-99</li></ol>\n"
            ],
            "text/markdown": "1. 1\n2. -99\n\n\n",
            "text/latex": "\\begin{enumerate*}\n\\item 1\n\\item -99\n\\end{enumerate*}\n",
            "text/plain": [
              "[1]   1 -99"
            ]
          },
          "metadata": {}
        }
      ]
    },
    {
      "cell_type": "code",
      "metadata": {
        "trusted": true,
        "id": "m4DDikCTSqo2",
        "outputId": "b9c6939e-aa74-4c8e-9edd-cc832f71fa15",
        "colab": {
          "base_uri": "https://localhost:8080/",
          "height": 34
        }
      },
      "source": [
        "# Podemos evaluar las casillas de una atriz mediante sentencias lógicas\n",
        "M1[M1 >= 12]"
      ],
      "execution_count": 44,
      "outputs": [
        {
          "output_type": "display_data",
          "data": {
            "text/html": [
              "<style>\n",
              ".list-inline {list-style: none; margin:0; padding: 0}\n",
              ".list-inline>li {display: inline-block}\n",
              ".list-inline>li:not(:last-child)::after {content: \"\\00b7\"; padding: 0 .5ex}\n",
              "</style>\n",
              "<ol class=list-inline><li>12</li><li>13</li></ol>\n"
            ],
            "text/markdown": "1. 12\n2. 13\n\n\n",
            "text/latex": "\\begin{enumerate*}\n\\item 12\n\\item 13\n\\end{enumerate*}\n",
            "text/plain": [
              "[1] 12 13"
            ]
          },
          "metadata": {}
        }
      ]
    },
    {
      "cell_type": "code",
      "source": [
        "M1[M1[,3] <= -4,3]"
      ],
      "metadata": {
        "id": "hIBSC9WiX2rs",
        "outputId": "9296d776-7805-41f4-9b78-f49edc450ec9",
        "colab": {
          "base_uri": "https://localhost:8080/",
          "height": 34
        }
      },
      "execution_count": 47,
      "outputs": [
        {
          "output_type": "display_data",
          "data": {
            "text/html": [
              "<style>\n",
              ".dl-inline {width: auto; margin:0; padding: 0}\n",
              ".dl-inline>dt, .dl-inline>dd {float: none; width: auto; display: inline-block}\n",
              ".dl-inline>dt::after {content: \":\\0020\"; padding-right: .5ex}\n",
              ".dl-inline>dt:not(:first-of-type) {padding-left: .5ex}\n",
              "</style><dl class=dl-inline><dt>f_2</dt><dd>-99</dd><dt>f_4</dt><dd>-4</dd></dl>\n"
            ],
            "text/markdown": "f_2\n:   -99f_4\n:   -4\n\n",
            "text/latex": "\\begin{description*}\n\\item[f\\textbackslash{}\\_2] -99\n\\item[f\\textbackslash{}\\_4] -4\n\\end{description*}\n",
            "text/plain": [
              "f_2 f_4 \n",
              "-99  -4 "
            ]
          },
          "metadata": {}
        }
      ]
    },
    {
      "cell_type": "markdown",
      "metadata": {
        "id": "DtKi8VpVSqo8"
      },
      "source": [
        "**Álgebra de matrices**\n",
        "\n",
        "Las operaciones suma (resta) y ponderación por escalar se llevan cabo mediante los mismos operadores utilizados para valores numéricos y vectores (+,-,*, /). Para multiplicar matrices en cambio, se utiliza el operador %*%, mientras que para invertirlas se utiliza la función solve(), t() para transponer y det() para el cálculo del determinante en el caso de matrices cuadradas."
      ]
    },
    {
      "cell_type": "code",
      "metadata": {
        "trusted": true,
        "id": "yxrjsz27Sqo8"
      },
      "source": [
        "# transponer una matriz\n",
        "# t()"
      ],
      "execution_count": null,
      "outputs": []
    },
    {
      "cell_type": "code",
      "metadata": {
        "trusted": true,
        "id": "tSphDch3Sqo-",
        "outputId": "f4cf927c-7dfa-4753-e57a-2102149f4639",
        "colab": {
          "base_uri": "https://localhost:8080/",
          "height": 209
        }
      },
      "source": [
        "# 3.2 Álgbra de matrices  ------------\n",
        "# Ejemplo simple de álgebra de matrices\n",
        "M1 + M1\n"
      ],
      "execution_count": 48,
      "outputs": [
        {
          "output_type": "display_data",
          "data": {
            "text/html": [
              "<table class=\"dataframe\">\n",
              "<caption>A matrix: 4 × 3 of type dbl</caption>\n",
              "<thead>\n",
              "\t<tr><th></th><th scope=col>c1</th><th scope=col>c2</th><th scope=col>c3</th></tr>\n",
              "</thead>\n",
              "<tbody>\n",
              "\t<tr><th scope=row>f_1</th><td>2</td><td>20</td><td>  -2</td></tr>\n",
              "\t<tr><th scope=row>f_2</th><td>4</td><td>22</td><td>-198</td></tr>\n",
              "\t<tr><th scope=row>f_3</th><td>6</td><td>24</td><td>  -6</td></tr>\n",
              "\t<tr><th scope=row>f_4</th><td>8</td><td>26</td><td>  -8</td></tr>\n",
              "</tbody>\n",
              "</table>\n"
            ],
            "text/markdown": "\nA matrix: 4 × 3 of type dbl\n\n| <!--/--> | c1 | c2 | c3 |\n|---|---|---|---|\n| f_1 | 2 | 20 |   -2 |\n| f_2 | 4 | 22 | -198 |\n| f_3 | 6 | 24 |   -6 |\n| f_4 | 8 | 26 |   -8 |\n\n",
            "text/latex": "A matrix: 4 × 3 of type dbl\n\\begin{tabular}{r|lll}\n  & c1 & c2 & c3\\\\\n\\hline\n\tf\\_1 & 2 & 20 &   -2\\\\\n\tf\\_2 & 4 & 22 & -198\\\\\n\tf\\_3 & 6 & 24 &   -6\\\\\n\tf\\_4 & 8 & 26 &   -8\\\\\n\\end{tabular}\n",
            "text/plain": [
              "    c1 c2 c3  \n",
              "f_1 2  20   -2\n",
              "f_2 4  22 -198\n",
              "f_3 6  24   -6\n",
              "f_4 8  26   -8"
            ]
          },
          "metadata": {}
        }
      ]
    },
    {
      "cell_type": "code",
      "metadata": {
        "trusted": true,
        "id": "crNocLSqSqpA"
      },
      "source": [
        "# Multiplicación de matrices\n",
        "M2 * M1 # multiplicación componente a componente\n"
      ],
      "execution_count": null,
      "outputs": []
    },
    {
      "cell_type": "code",
      "metadata": {
        "trusted": true,
        "id": "RdPKIzaySqpC"
      },
      "source": [
        "# podemos calcular determinantes\n",
        "# ?det\n",
        "\n"
      ],
      "execution_count": null,
      "outputs": []
    },
    {
      "cell_type": "code",
      "metadata": {
        "trusted": true,
        "id": "Tymq9t9NSqpH"
      },
      "source": [
        "# Podemos invertir matrices\n",
        "# ?solve\n"
      ],
      "execution_count": null,
      "outputs": []
    }
  ]
}