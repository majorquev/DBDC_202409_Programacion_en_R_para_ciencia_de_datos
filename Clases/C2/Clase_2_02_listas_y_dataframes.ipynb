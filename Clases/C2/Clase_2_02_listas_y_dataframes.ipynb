{
  "nbformat": 4,
  "nbformat_minor": 0,
  "metadata": {
    "colab": {
      "provenance": [],
      "include_colab_link": true
    },
    "kernelspec": {
      "name": "ir",
      "display_name": "R"
    }
  },
  "cells": [
    {
      "cell_type": "markdown",
      "metadata": {
        "id": "view-in-github",
        "colab_type": "text"
      },
      "source": [
        "<a href=\"https://colab.research.google.com/github/majorquev/DBDC_202409_Programacion_en_R_para_ciencia_de_datos/blob/main/Clases/C2/Clase_2_02_listas_y_dataframes.ipynb\" target=\"_parent\"><img src=\"https://colab.research.google.com/assets/colab-badge.svg\" alt=\"Open In Colab\"/></a>"
      ]
    },
    {
      "cell_type": "markdown",
      "metadata": {
        "collapsed": true,
        "id": "fgQ2azLwTpRn"
      },
      "source": [
        "# Parte 1: Introducción a R (continuación)\n",
        "\n",
        "**Autor:** Miguel Jorquera Viguera<br>\n",
        "**E-mail:** majorquev@gmail.com<br>\n",
        "**Ayudante:** Rodrigo Morales <br>\n",
        "**E-mail ayudante:** rumorale1@gmail.com\n",
        "\n",
        "\n",
        "## 5. Listas y Dataframes\n",
        "\n",
        "### 5.1 Listas\n",
        "\n",
        "Hasta aquí contamos con dos tipos de objetos para almacenar datos; vectores y matrices. Sin embargo, en ambos casos se tiene la limitante de que no es posible combinar distintos tipos de datos en diferentes entradas. Un objeto que permite una mayor flexibilidad son las listas. En R, una lista es básicamente un arreglo unidimensional, donde en cada entrada es posible almacenar distintos **objetos** (los cuales a su vez pueden almacenar distintos tipos de datos (u otros objetos).\n",
        "En resumen,\n",
        "\n",
        "   * ¿Qué son?<br>\n",
        "    Arreglos unidimensionales que guardan distintos tipos de datos u objetos.<br>\n",
        "\n",
        "   * ¿Cómo se declaran?<br>\n",
        "    Se pueden declarar mediante el comando list() o combinando listas existentes. <br>\n",
        "    \n",
        "   * ¿Cómo se accede a sus elementos?<br>\n",
        "    Usando [ ] (retorna lista), o bien usando [ [ ] ] (retorna el objeto).\n",
        "    En cada caso se puede indicar la posición o nombre del objeto que se quiere rescatar.<br>\n",
        "    Otra manera es mediante el símbolo $ seguido del nombre del objeto.\n",
        "\n"
      ]
    },
    {
      "cell_type": "code",
      "metadata": {
        "trusted": true,
        "id": "zZHpLzzRTpRp"
      },
      "source": [
        "# 5. Listas y dataframes ------------\n",
        "# 5.1 Listas  ------------\n",
        "# Cómo declarar una lista (comando list() )\n",
        "#num,letra, pl, mat, lista\n",
        " l1 <- list(num = 10:15,\n",
        "            letra = c(\"x\",\"y\",\"z\"),\n",
        "            pl = \"palabra\",\n",
        "            mat = diag(1:3),\n",
        "            subl = list(a = c(T,T,F), fecha = as.Date(\"2024-09-24\")))"
      ],
      "execution_count": 4,
      "outputs": []
    },
    {
      "cell_type": "code",
      "source": [
        "l1"
      ],
      "metadata": {
        "id": "PaLEQPNzcvvK",
        "outputId": "1fac893c-7c0c-41aa-8841-b8ab7bb77ffd",
        "colab": {
          "base_uri": "https://localhost:8080/",
          "height": 413
        }
      },
      "execution_count": 5,
      "outputs": [
        {
          "output_type": "display_data",
          "data": {
            "text/html": [
              "<dl>\n",
              "\t<dt>$num</dt>\n",
              "\t\t<dd><style>\n",
              ".list-inline {list-style: none; margin:0; padding: 0}\n",
              ".list-inline>li {display: inline-block}\n",
              ".list-inline>li:not(:last-child)::after {content: \"\\00b7\"; padding: 0 .5ex}\n",
              "</style>\n",
              "<ol class=list-inline><li>10</li><li>11</li><li>12</li><li>13</li><li>14</li><li>15</li></ol>\n",
              "</dd>\n",
              "\t<dt>$letra</dt>\n",
              "\t\t<dd><style>\n",
              ".list-inline {list-style: none; margin:0; padding: 0}\n",
              ".list-inline>li {display: inline-block}\n",
              ".list-inline>li:not(:last-child)::after {content: \"\\00b7\"; padding: 0 .5ex}\n",
              "</style>\n",
              "<ol class=list-inline><li>'x'</li><li>'y'</li><li>'z'</li></ol>\n",
              "</dd>\n",
              "\t<dt>$pl</dt>\n",
              "\t\t<dd>'palabra'</dd>\n",
              "\t<dt>$mat</dt>\n",
              "\t\t<dd><table class=\"dataframe\">\n",
              "<caption>A matrix: 3 × 3 of type int</caption>\n",
              "<tbody>\n",
              "\t<tr><td>1</td><td>0</td><td>0</td></tr>\n",
              "\t<tr><td>0</td><td>2</td><td>0</td></tr>\n",
              "\t<tr><td>0</td><td>0</td><td>3</td></tr>\n",
              "</tbody>\n",
              "</table>\n",
              "</dd>\n",
              "\t<dt>$subl</dt>\n",
              "\t\t<dd><dl>\n",
              "\t<dt>$a</dt>\n",
              "\t\t<dd><style>\n",
              ".list-inline {list-style: none; margin:0; padding: 0}\n",
              ".list-inline>li {display: inline-block}\n",
              ".list-inline>li:not(:last-child)::after {content: \"\\00b7\"; padding: 0 .5ex}\n",
              "</style>\n",
              "<ol class=list-inline><li>TRUE</li><li>TRUE</li><li>FALSE</li></ol>\n",
              "</dd>\n",
              "\t<dt>$fecha</dt>\n",
              "\t\t<dd><time datetime=\"2024-09-24\">2024-09-24</time></dd>\n",
              "</dl>\n",
              "</dd>\n",
              "</dl>\n"
            ],
            "text/markdown": "$num\n:   1. 10\n2. 11\n3. 12\n4. 13\n5. 14\n6. 15\n\n\n\n$letra\n:   1. 'x'\n2. 'y'\n3. 'z'\n\n\n\n$pl\n:   'palabra'\n$mat\n:   \nA matrix: 3 × 3 of type int\n\n| 1 | 0 | 0 |\n| 0 | 2 | 0 |\n| 0 | 0 | 3 |\n\n\n$subl\n:   $a\n:   1. TRUE\n2. TRUE\n3. FALSE\n\n\n\n$fecha\n:   2024-09-24\n\n\n\n\n\n",
            "text/latex": "\\begin{description}\n\\item[\\$num] \\begin{enumerate*}\n\\item 10\n\\item 11\n\\item 12\n\\item 13\n\\item 14\n\\item 15\n\\end{enumerate*}\n\n\\item[\\$letra] \\begin{enumerate*}\n\\item 'x'\n\\item 'y'\n\\item 'z'\n\\end{enumerate*}\n\n\\item[\\$pl] 'palabra'\n\\item[\\$mat] A matrix: 3 × 3 of type int\n\\begin{tabular}{lll}\n\t 1 & 0 & 0\\\\\n\t 0 & 2 & 0\\\\\n\t 0 & 0 & 3\\\\\n\\end{tabular}\n\n\\item[\\$subl] \\begin{description}\n\\item[\\$a] \\begin{enumerate*}\n\\item TRUE\n\\item TRUE\n\\item FALSE\n\\end{enumerate*}\n\n\\item[\\$fecha] 2024-09-24\n\\end{description}\n\n\\end{description}\n",
            "text/plain": [
              "$num\n",
              "[1] 10 11 12 13 14 15\n",
              "\n",
              "$letra\n",
              "[1] \"x\" \"y\" \"z\"\n",
              "\n",
              "$pl\n",
              "[1] \"palabra\"\n",
              "\n",
              "$mat\n",
              "     [,1] [,2] [,3]\n",
              "[1,]    1    0    0\n",
              "[2,]    0    2    0\n",
              "[3,]    0    0    3\n",
              "\n",
              "$subl\n",
              "$subl$a\n",
              "[1]  TRUE  TRUE FALSE\n",
              "\n",
              "$subl$fecha\n",
              "[1] \"2024-09-24\"\n",
              "\n"
            ]
          },
          "metadata": {}
        }
      ]
    },
    {
      "cell_type": "code",
      "source": [
        "length(l1)"
      ],
      "metadata": {
        "id": "vCBrIreac8wb",
        "outputId": "37142034-0520-43cd-a825-f99f6743bce1",
        "colab": {
          "base_uri": "https://localhost:8080/",
          "height": 34
        }
      },
      "execution_count": 6,
      "outputs": [
        {
          "output_type": "display_data",
          "data": {
            "text/html": [
              "5"
            ],
            "text/markdown": "5",
            "text/latex": "5",
            "text/plain": [
              "[1] 5"
            ]
          },
          "metadata": {}
        }
      ]
    },
    {
      "cell_type": "code",
      "metadata": {
        "id": "_iwOQA-xTzww",
        "outputId": "2d619cf4-9d76-4019-ed34-89c81a8bd7f4",
        "colab": {
          "base_uri": "https://localhost:8080/"
        }
      },
      "source": [
        "# estructura\n",
        "str(l1)"
      ],
      "execution_count": 7,
      "outputs": [
        {
          "output_type": "stream",
          "name": "stdout",
          "text": [
            "List of 5\n",
            " $ num  : int [1:6] 10 11 12 13 14 15\n",
            " $ letra: chr [1:3] \"x\" \"y\" \"z\"\n",
            " $ pl   : chr \"palabra\"\n",
            " $ mat  : int [1:3, 1:3] 1 0 0 0 2 0 0 0 3\n",
            " $ subl :List of 2\n",
            "  ..$ a    : logi [1:3] TRUE TRUE FALSE\n",
            "  ..$ fecha: Date[1:1], format: \"2024-09-24\"\n"
          ]
        }
      ]
    },
    {
      "cell_type": "code",
      "metadata": {
        "trusted": true,
        "id": "Ao1wFCByTpRx",
        "outputId": "1bac39ae-282d-47b8-d143-463d0aeda797",
        "colab": {
          "base_uri": "https://localhost:8080/",
          "height": 229
        }
      },
      "source": [
        "# Podemos guardar los objetos en slots sin nombres (no se los recomiendo en general)\n",
        "list(1,\"ha\",diag(1:2))"
      ],
      "execution_count": 9,
      "outputs": [
        {
          "output_type": "display_data",
          "data": {
            "text/html": [
              "<ol>\n",
              "\t<li>1</li>\n",
              "\t<li>'ha'</li>\n",
              "\t<li><table class=\"dataframe\">\n",
              "<caption>A matrix: 2 × 2 of type int</caption>\n",
              "<tbody>\n",
              "\t<tr><td>1</td><td>0</td></tr>\n",
              "\t<tr><td>0</td><td>2</td></tr>\n",
              "</tbody>\n",
              "</table>\n",
              "</li>\n",
              "</ol>\n"
            ],
            "text/markdown": "1. 1\n2. 'ha'\n3. \nA matrix: 2 × 2 of type int\n\n| 1 | 0 |\n| 0 | 2 |\n\n\n\n\n",
            "text/latex": "\\begin{enumerate}\n\\item 1\n\\item 'ha'\n\\item A matrix: 2 × 2 of type int\n\\begin{tabular}{ll}\n\t 1 & 0\\\\\n\t 0 & 2\\\\\n\\end{tabular}\n\n\\end{enumerate}\n",
            "text/plain": [
              "[[1]]\n",
              "[1] 1\n",
              "\n",
              "[[2]]\n",
              "[1] \"ha\"\n",
              "\n",
              "[[3]]\n",
              "     [,1] [,2]\n",
              "[1,]    1    0\n",
              "[2,]    0    2\n"
            ]
          },
          "metadata": {}
        }
      ]
    },
    {
      "cell_type": "code",
      "source": [
        "letters"
      ],
      "metadata": {
        "id": "6ua7Zp_ZdzjM",
        "outputId": "5b2c384c-fe75-4e73-f459-6ded111381cc",
        "colab": {
          "base_uri": "https://localhost:8080/",
          "height": 34
        }
      },
      "execution_count": 11,
      "outputs": [
        {
          "output_type": "display_data",
          "data": {
            "text/html": [
              "<style>\n",
              ".list-inline {list-style: none; margin:0; padding: 0}\n",
              ".list-inline>li {display: inline-block}\n",
              ".list-inline>li:not(:last-child)::after {content: \"\\00b7\"; padding: 0 .5ex}\n",
              "</style>\n",
              "<ol class=list-inline><li>'a'</li><li>'b'</li><li>'c'</li><li>'d'</li><li>'e'</li><li>'f'</li><li>'g'</li><li>'h'</li><li>'i'</li><li>'j'</li><li>'k'</li><li>'l'</li><li>'m'</li><li>'n'</li><li>'o'</li><li>'p'</li><li>'q'</li><li>'r'</li><li>'s'</li><li>'t'</li><li>'u'</li><li>'v'</li><li>'w'</li><li>'x'</li><li>'y'</li><li>'z'</li></ol>\n"
            ],
            "text/markdown": "1. 'a'\n2. 'b'\n3. 'c'\n4. 'd'\n5. 'e'\n6. 'f'\n7. 'g'\n8. 'h'\n9. 'i'\n10. 'j'\n11. 'k'\n12. 'l'\n13. 'm'\n14. 'n'\n15. 'o'\n16. 'p'\n17. 'q'\n18. 'r'\n19. 's'\n20. 't'\n21. 'u'\n22. 'v'\n23. 'w'\n24. 'x'\n25. 'y'\n26. 'z'\n\n\n",
            "text/latex": "\\begin{enumerate*}\n\\item 'a'\n\\item 'b'\n\\item 'c'\n\\item 'd'\n\\item 'e'\n\\item 'f'\n\\item 'g'\n\\item 'h'\n\\item 'i'\n\\item 'j'\n\\item 'k'\n\\item 'l'\n\\item 'm'\n\\item 'n'\n\\item 'o'\n\\item 'p'\n\\item 'q'\n\\item 'r'\n\\item 's'\n\\item 't'\n\\item 'u'\n\\item 'v'\n\\item 'w'\n\\item 'x'\n\\item 'y'\n\\item 'z'\n\\end{enumerate*}\n",
            "text/plain": [
              " [1] \"a\" \"b\" \"c\" \"d\" \"e\" \"f\" \"g\" \"h\" \"i\" \"j\" \"k\" \"l\" \"m\" \"n\" \"o\" \"p\" \"q\" \"r\" \"s\"\n",
              "[20] \"t\" \"u\" \"v\" \"w\" \"x\" \"y\" \"z\""
            ]
          },
          "metadata": {}
        }
      ]
    },
    {
      "cell_type": "code",
      "metadata": {
        "trusted": true,
        "id": "GBuxGL4cTpR0",
        "outputId": "20b9a7d7-1462-4afb-fc25-640c337ff6b7",
        "colab": {
          "base_uri": "https://localhost:8080/"
        }
      },
      "source": [
        "# Podemos combinar listas\n",
        "l2 <- list(v1 = LETTERS,\n",
        "           num2 = 45.7)\n",
        "\n",
        "str(l2)\n",
        "\n",
        "l3 <- c(l1,l2)"
      ],
      "execution_count": 14,
      "outputs": [
        {
          "output_type": "stream",
          "name": "stdout",
          "text": [
            "List of 2\n",
            " $ v1  : chr [1:26] \"A\" \"B\" \"C\" \"D\" ...\n",
            " $ num2: num 45.7\n"
          ]
        }
      ]
    },
    {
      "cell_type": "code",
      "source": [
        "str(l3)"
      ],
      "metadata": {
        "id": "C7pN2hsgeKgN",
        "outputId": "103632f6-c13f-4347-878b-1fa7cde9b165",
        "colab": {
          "base_uri": "https://localhost:8080/"
        }
      },
      "execution_count": 15,
      "outputs": [
        {
          "output_type": "stream",
          "name": "stdout",
          "text": [
            "List of 7\n",
            " $ num  : int [1:6] 10 11 12 13 14 15\n",
            " $ letra: chr [1:3] \"x\" \"y\" \"z\"\n",
            " $ pl   : chr \"palabra\"\n",
            " $ mat  : int [1:3, 1:3] 1 0 0 0 2 0 0 0 3\n",
            " $ subl :List of 2\n",
            "  ..$ a    : logi [1:3] TRUE TRUE FALSE\n",
            "  ..$ fecha: Date[1:1], format: \"2024-09-24\"\n",
            " $ v1   : chr [1:26] \"A\" \"B\" \"C\" \"D\" ...\n",
            " $ num2 : num 45.7\n"
          ]
        }
      ]
    },
    {
      "cell_type": "code",
      "metadata": {
        "trusted": true,
        "id": "uUv7BQfnTpR3",
        "outputId": "4e56ac37-7f28-4e2d-b0ed-7084ee97ef6a",
        "colab": {
          "base_uri": "https://localhost:8080/",
          "height": 52
        }
      },
      "source": [
        "# Acceso mediante posición\n",
        "v <- l3[2]\n",
        "v"
      ],
      "execution_count": 18,
      "outputs": [
        {
          "output_type": "display_data",
          "data": {
            "text/html": [
              "<strong>$letra</strong> = <style>\n",
              ".list-inline {list-style: none; margin:0; padding: 0}\n",
              ".list-inline>li {display: inline-block}\n",
              ".list-inline>li:not(:last-child)::after {content: \"\\00b7\"; padding: 0 .5ex}\n",
              "</style>\n",
              "<ol class=list-inline><li>'x'</li><li>'y'</li><li>'z'</li></ol>\n"
            ],
            "text/markdown": "**$letra** = 1. 'x'\n2. 'y'\n3. 'z'\n\n\n",
            "text/latex": "\\textbf{\\$letra} = \\begin{enumerate*}\n\\item 'x'\n\\item 'y'\n\\item 'z'\n\\end{enumerate*}\n",
            "text/plain": [
              "$letra\n",
              "[1] \"x\" \"y\" \"z\"\n"
            ]
          },
          "metadata": {}
        }
      ]
    },
    {
      "cell_type": "code",
      "metadata": {
        "trusted": true,
        "id": "L3RDKUqOTpR5",
        "outputId": "d7ccada3-086d-4e3f-a5ff-21e9cc9ab92d",
        "colab": {
          "base_uri": "https://localhost:8080/",
          "height": 243
        }
      },
      "source": [
        "l3[c(2,4)]"
      ],
      "execution_count": 23,
      "outputs": [
        {
          "output_type": "display_data",
          "data": {
            "text/html": [
              "<dl>\n",
              "\t<dt>$letra</dt>\n",
              "\t\t<dd><style>\n",
              ".list-inline {list-style: none; margin:0; padding: 0}\n",
              ".list-inline>li {display: inline-block}\n",
              ".list-inline>li:not(:last-child)::after {content: \"\\00b7\"; padding: 0 .5ex}\n",
              "</style>\n",
              "<ol class=list-inline><li>'x'</li><li>'y'</li><li>'z'</li></ol>\n",
              "</dd>\n",
              "\t<dt>$mat</dt>\n",
              "\t\t<dd><table class=\"dataframe\">\n",
              "<caption>A matrix: 3 × 3 of type int</caption>\n",
              "<tbody>\n",
              "\t<tr><td>1</td><td>0</td><td>0</td></tr>\n",
              "\t<tr><td>0</td><td>2</td><td>0</td></tr>\n",
              "\t<tr><td>0</td><td>0</td><td>3</td></tr>\n",
              "</tbody>\n",
              "</table>\n",
              "</dd>\n",
              "</dl>\n"
            ],
            "text/markdown": "$letra\n:   1. 'x'\n2. 'y'\n3. 'z'\n\n\n\n$mat\n:   \nA matrix: 3 × 3 of type int\n\n| 1 | 0 | 0 |\n| 0 | 2 | 0 |\n| 0 | 0 | 3 |\n\n\n\n\n",
            "text/latex": "\\begin{description}\n\\item[\\$letra] \\begin{enumerate*}\n\\item 'x'\n\\item 'y'\n\\item 'z'\n\\end{enumerate*}\n\n\\item[\\$mat] A matrix: 3 × 3 of type int\n\\begin{tabular}{lll}\n\t 1 & 0 & 0\\\\\n\t 0 & 2 & 0\\\\\n\t 0 & 0 & 3\\\\\n\\end{tabular}\n\n\\end{description}\n",
            "text/plain": [
              "$letra\n",
              "[1] \"x\" \"y\" \"z\"\n",
              "\n",
              "$mat\n",
              "     [,1] [,2] [,3]\n",
              "[1,]    1    0    0\n",
              "[2,]    0    2    0\n",
              "[3,]    0    0    3\n"
            ]
          },
          "metadata": {}
        }
      ]
    },
    {
      "cell_type": "code",
      "metadata": {
        "trusted": true,
        "id": "QbQ8QHARTpR7",
        "outputId": "51fb1422-ee77-4ff0-b68f-069ce80cfb47",
        "colab": {
          "base_uri": "https://localhost:8080/",
          "height": 52
        }
      },
      "source": [
        "# NOTA lista[.] retorna un lista con un elemento,\n",
        "# lista[[.]] retorna el elmento de la lista lista[.]\n",
        "l3[2]# es una lista con el vector c(x,y,z)\n",
        "\n"
      ],
      "execution_count": 26,
      "outputs": [
        {
          "output_type": "display_data",
          "data": {
            "text/html": [
              "<strong>$letra</strong> = <style>\n",
              ".list-inline {list-style: none; margin:0; padding: 0}\n",
              ".list-inline>li {display: inline-block}\n",
              ".list-inline>li:not(:last-child)::after {content: \"\\00b7\"; padding: 0 .5ex}\n",
              "</style>\n",
              "<ol class=list-inline><li>'x'</li><li>'y'</li><li>'z'</li></ol>\n"
            ],
            "text/markdown": "**$letra** = 1. 'x'\n2. 'y'\n3. 'z'\n\n\n",
            "text/latex": "\\textbf{\\$letra} = \\begin{enumerate*}\n\\item 'x'\n\\item 'y'\n\\item 'z'\n\\end{enumerate*}\n",
            "text/plain": [
              "$letra\n",
              "[1] \"x\" \"y\" \"z\"\n"
            ]
          },
          "metadata": {}
        }
      ]
    },
    {
      "cell_type": "code",
      "source": [
        "l3[[2]] # Es el vector x,y,z"
      ],
      "metadata": {
        "id": "Sgo9nf75femb",
        "outputId": "4c51bab6-f94c-484c-9a44-fe6629dd7c8a",
        "colab": {
          "base_uri": "https://localhost:8080/",
          "height": 34
        }
      },
      "execution_count": 27,
      "outputs": [
        {
          "output_type": "display_data",
          "data": {
            "text/html": [
              "<style>\n",
              ".list-inline {list-style: none; margin:0; padding: 0}\n",
              ".list-inline>li {display: inline-block}\n",
              ".list-inline>li:not(:last-child)::after {content: \"\\00b7\"; padding: 0 .5ex}\n",
              "</style>\n",
              "<ol class=list-inline><li>'x'</li><li>'y'</li><li>'z'</li></ol>\n"
            ],
            "text/markdown": "1. 'x'\n2. 'y'\n3. 'z'\n\n\n",
            "text/latex": "\\begin{enumerate*}\n\\item 'x'\n\\item 'y'\n\\item 'z'\n\\end{enumerate*}\n",
            "text/plain": [
              "[1] \"x\" \"y\" \"z\""
            ]
          },
          "metadata": {}
        }
      ]
    },
    {
      "cell_type": "code",
      "source": [
        "class(l3)\n",
        "class(l3[2])\n",
        "class(l3[[2]]) # Este es efectivamente el vector"
      ],
      "metadata": {
        "id": "fCZd2qXifkKw",
        "outputId": "44ac6e34-993d-4ebc-a3d5-454409038377",
        "colab": {
          "base_uri": "https://localhost:8080/",
          "height": 69
        }
      },
      "execution_count": 30,
      "outputs": [
        {
          "output_type": "display_data",
          "data": {
            "text/html": [
              "'list'"
            ],
            "text/markdown": "'list'",
            "text/latex": "'list'",
            "text/plain": [
              "[1] \"list\""
            ]
          },
          "metadata": {}
        },
        {
          "output_type": "display_data",
          "data": {
            "text/html": [
              "'list'"
            ],
            "text/markdown": "'list'",
            "text/latex": "'list'",
            "text/plain": [
              "[1] \"list\""
            ]
          },
          "metadata": {}
        },
        {
          "output_type": "display_data",
          "data": {
            "text/html": [
              "'character'"
            ],
            "text/markdown": "'character'",
            "text/latex": "'character'",
            "text/plain": [
              "[1] \"character\""
            ]
          },
          "metadata": {}
        }
      ]
    },
    {
      "cell_type": "code",
      "source": [
        "# El tercer elmento del vector que está en la pos 2 de la lista l3\n",
        "l3[[2]][3]"
      ],
      "metadata": {
        "id": "jtO0Zg0Lf1dC",
        "outputId": "c4c2531c-a35d-46ac-c693-6fe20cc23cd1",
        "colab": {
          "base_uri": "https://localhost:8080/",
          "height": 34
        }
      },
      "execution_count": 32,
      "outputs": [
        {
          "output_type": "display_data",
          "data": {
            "text/html": [
              "'z'"
            ],
            "text/markdown": "'z'",
            "text/latex": "'z'",
            "text/plain": [
              "[1] \"z\""
            ]
          },
          "metadata": {}
        }
      ]
    },
    {
      "cell_type": "code",
      "metadata": {
        "trusted": true,
        "id": "kaOJqYJETpSC",
        "outputId": "0c729d33-f05a-44d9-d198-b24cdaaf2f1c",
        "colab": {
          "base_uri": "https://localhost:8080/"
        }
      },
      "source": [
        "# de la lista l3[[5]], quieo el elemtno que está en el slot llamado \"fecha\" (segundo elemento)\n",
        "str(l3)"
      ],
      "execution_count": 33,
      "outputs": [
        {
          "output_type": "stream",
          "name": "stdout",
          "text": [
            "List of 7\n",
            " $ num  : int [1:6] 10 11 12 13 14 15\n",
            " $ letra: chr [1:3] \"x\" \"y\" \"z\"\n",
            " $ pl   : chr \"palabra\"\n",
            " $ mat  : int [1:3, 1:3] 1 0 0 0 2 0 0 0 3\n",
            " $ subl :List of 2\n",
            "  ..$ a    : logi [1:3] TRUE TRUE FALSE\n",
            "  ..$ fecha: Date[1:1], format: \"2024-09-24\"\n",
            " $ v1   : chr [1:26] \"A\" \"B\" \"C\" \"D\" ...\n",
            " $ num2 : num 45.7\n"
          ]
        }
      ]
    },
    {
      "cell_type": "code",
      "source": [
        "l3[[5]] # Este si es el 5to elemento (que  a s vez es una lista)\n"
      ],
      "metadata": {
        "id": "xlKJQCz9gVpo",
        "outputId": "17d5f90e-b907-4875-b6dd-50615da9002a",
        "colab": {
          "base_uri": "https://localhost:8080/",
          "height": 114
        }
      },
      "execution_count": 35,
      "outputs": [
        {
          "output_type": "display_data",
          "data": {
            "text/html": [
              "<dl>\n",
              "\t<dt>$a</dt>\n",
              "\t\t<dd><style>\n",
              ".list-inline {list-style: none; margin:0; padding: 0}\n",
              ".list-inline>li {display: inline-block}\n",
              ".list-inline>li:not(:last-child)::after {content: \"\\00b7\"; padding: 0 .5ex}\n",
              "</style>\n",
              "<ol class=list-inline><li>TRUE</li><li>TRUE</li><li>FALSE</li></ol>\n",
              "</dd>\n",
              "\t<dt>$fecha</dt>\n",
              "\t\t<dd><time datetime=\"2024-09-24\">2024-09-24</time></dd>\n",
              "</dl>\n"
            ],
            "text/markdown": "$a\n:   1. TRUE\n2. TRUE\n3. FALSE\n\n\n\n$fecha\n:   2024-09-24\n\n\n",
            "text/latex": "\\begin{description}\n\\item[\\$a] \\begin{enumerate*}\n\\item TRUE\n\\item TRUE\n\\item FALSE\n\\end{enumerate*}\n\n\\item[\\$fecha] 2024-09-24\n\\end{description}\n",
            "text/plain": [
              "$a\n",
              "[1]  TRUE  TRUE FALSE\n",
              "\n",
              "$fecha\n",
              "[1] \"2024-09-24\"\n"
            ]
          },
          "metadata": {}
        }
      ]
    },
    {
      "cell_type": "code",
      "metadata": {
        "trusted": true,
        "id": "UZ4k5DQ9TpSE",
        "outputId": "4da61e6c-3132-4339-abc2-b8819a7ee6cb",
        "colab": {
          "base_uri": "https://localhost:8080/",
          "height": 34
        }
      },
      "source": [
        "l3[[5]][[2]]\n"
      ],
      "execution_count": 37,
      "outputs": [
        {
          "output_type": "display_data",
          "data": {
            "text/html": [
              "<time datetime=\"2024-09-24\">2024-09-24</time>"
            ],
            "text/markdown": "2024-09-24",
            "text/latex": "2024-09-24",
            "text/plain": [
              "[1] \"2024-09-24\""
            ]
          },
          "metadata": {}
        }
      ]
    },
    {
      "cell_type": "code",
      "source": [
        "str(l3)"
      ],
      "metadata": {
        "id": "gJqNECrEhC_O",
        "outputId": "1c53e9fc-08bf-45bf-d36e-a2c96db23df1",
        "colab": {
          "base_uri": "https://localhost:8080/"
        }
      },
      "execution_count": 38,
      "outputs": [
        {
          "output_type": "stream",
          "name": "stdout",
          "text": [
            "List of 7\n",
            " $ num  : int [1:6] 10 11 12 13 14 15\n",
            " $ letra: chr [1:3] \"x\" \"y\" \"z\"\n",
            " $ pl   : chr \"palabra\"\n",
            " $ mat  : int [1:3, 1:3] 1 0 0 0 2 0 0 0 3\n",
            " $ subl :List of 2\n",
            "  ..$ a    : logi [1:3] TRUE TRUE FALSE\n",
            "  ..$ fecha: Date[1:1], format: \"2024-09-24\"\n",
            " $ v1   : chr [1:26] \"A\" \"B\" \"C\" \"D\" ...\n",
            " $ num2 : num 45.7\n"
          ]
        }
      ]
    },
    {
      "cell_type": "code",
      "metadata": {
        "trusted": true,
        "id": "jYFKb27-TpSG",
        "outputId": "eb86dc2b-6976-4d2c-e2aa-089d25328d70",
        "colab": {
          "base_uri": "https://localhost:8080/",
          "height": 34
        }
      },
      "source": [
        "# Acceso mediante nombre\n",
        "# Tercer elemento del vector de la pos 2\n",
        "l3[[\"letra\"]][3]\n"
      ],
      "execution_count": 40,
      "outputs": [
        {
          "output_type": "display_data",
          "data": {
            "text/html": [
              "'z'"
            ],
            "text/markdown": "'z'",
            "text/latex": "'z'",
            "text/plain": [
              "[1] \"z\""
            ]
          },
          "metadata": {}
        }
      ]
    },
    {
      "cell_type": "code",
      "source": [
        "# de la lista subl, quiero el elemento que está en el slot llamado \"fecha\" (segundo elemento)\n",
        "l3[[\"subl\"]][[\"fecha\"]]"
      ],
      "metadata": {
        "id": "7svfAvSehQXt",
        "outputId": "9046d6f9-2e06-48fa-e37e-a78f6860957f",
        "colab": {
          "base_uri": "https://localhost:8080/",
          "height": 34
        }
      },
      "execution_count": 42,
      "outputs": [
        {
          "output_type": "display_data",
          "data": {
            "text/html": [
              "<time datetime=\"2024-09-24\">2024-09-24</time>"
            ],
            "text/markdown": "2024-09-24",
            "text/latex": "2024-09-24",
            "text/plain": [
              "[1] \"2024-09-24\""
            ]
          },
          "metadata": {}
        }
      ]
    },
    {
      "cell_type": "code",
      "metadata": {
        "trusted": true,
        "id": "a9UBaNOuTpSI",
        "outputId": "c3b222b6-eff1-445e-9ab8-1d191e256cba",
        "colab": {
          "base_uri": "https://localhost:8080/",
          "height": 69
        }
      },
      "source": [
        "# acceso vía \"$\"\n",
        "l3$letra\n",
        "l3[[\"letra\"]] # es equivalente\n",
        "l3[[2]] # es equivalente\n",
        "\n",
        "\n"
      ],
      "execution_count": 44,
      "outputs": [
        {
          "output_type": "display_data",
          "data": {
            "text/html": [
              "<style>\n",
              ".list-inline {list-style: none; margin:0; padding: 0}\n",
              ".list-inline>li {display: inline-block}\n",
              ".list-inline>li:not(:last-child)::after {content: \"\\00b7\"; padding: 0 .5ex}\n",
              "</style>\n",
              "<ol class=list-inline><li>'x'</li><li>'y'</li><li>'z'</li></ol>\n"
            ],
            "text/markdown": "1. 'x'\n2. 'y'\n3. 'z'\n\n\n",
            "text/latex": "\\begin{enumerate*}\n\\item 'x'\n\\item 'y'\n\\item 'z'\n\\end{enumerate*}\n",
            "text/plain": [
              "[1] \"x\" \"y\" \"z\""
            ]
          },
          "metadata": {}
        },
        {
          "output_type": "display_data",
          "data": {
            "text/html": [
              "<style>\n",
              ".list-inline {list-style: none; margin:0; padding: 0}\n",
              ".list-inline>li {display: inline-block}\n",
              ".list-inline>li:not(:last-child)::after {content: \"\\00b7\"; padding: 0 .5ex}\n",
              "</style>\n",
              "<ol class=list-inline><li>'x'</li><li>'y'</li><li>'z'</li></ol>\n"
            ],
            "text/markdown": "1. 'x'\n2. 'y'\n3. 'z'\n\n\n",
            "text/latex": "\\begin{enumerate*}\n\\item 'x'\n\\item 'y'\n\\item 'z'\n\\end{enumerate*}\n",
            "text/plain": [
              "[1] \"x\" \"y\" \"z\""
            ]
          },
          "metadata": {}
        },
        {
          "output_type": "display_data",
          "data": {
            "text/html": [
              "<style>\n",
              ".list-inline {list-style: none; margin:0; padding: 0}\n",
              ".list-inline>li {display: inline-block}\n",
              ".list-inline>li:not(:last-child)::after {content: \"\\00b7\"; padding: 0 .5ex}\n",
              "</style>\n",
              "<ol class=list-inline><li>'x'</li><li>'y'</li><li>'z'</li></ol>\n"
            ],
            "text/markdown": "1. 'x'\n2. 'y'\n3. 'z'\n\n\n",
            "text/latex": "\\begin{enumerate*}\n\\item 'x'\n\\item 'y'\n\\item 'z'\n\\end{enumerate*}\n",
            "text/plain": [
              "[1] \"x\" \"y\" \"z\""
            ]
          },
          "metadata": {}
        }
      ]
    },
    {
      "cell_type": "code",
      "source": [
        "l3$letra[3]\n",
        "l3$subl$fecha"
      ],
      "metadata": {
        "id": "AokagqYeh5CP",
        "outputId": "5673113a-4217-4d44-80e0-2178fd0c5e8c",
        "colab": {
          "base_uri": "https://localhost:8080/",
          "height": 52
        }
      },
      "execution_count": 46,
      "outputs": [
        {
          "output_type": "display_data",
          "data": {
            "text/html": [
              "'z'"
            ],
            "text/markdown": "'z'",
            "text/latex": "'z'",
            "text/plain": [
              "[1] \"z\""
            ]
          },
          "metadata": {}
        },
        {
          "output_type": "display_data",
          "data": {
            "text/html": [
              "<time datetime=\"2024-09-24\">2024-09-24</time>"
            ],
            "text/markdown": "2024-09-24",
            "text/latex": "2024-09-24",
            "text/plain": [
              "[1] \"2024-09-24\""
            ]
          },
          "metadata": {}
        }
      ]
    },
    {
      "cell_type": "code",
      "source": [
        "# Nota:\n"
      ],
      "metadata": {
        "id": "BFxi91jmiOv1"
      },
      "execution_count": null,
      "outputs": []
    },
    {
      "cell_type": "code",
      "metadata": {
        "trusted": true,
        "id": "Dumeo0-NTpSM",
        "outputId": "e7917f4a-cb76-4aae-92da-ab665fd1ecb6",
        "colab": {
          "base_uri": "https://localhost:8080/",
          "height": 52
        }
      },
      "source": [
        "# para saber el largo de la lista/vector\n",
        "length(l3)\n",
        "# Para obtener los nombres de la lista\n",
        "names(l3)\n",
        "# si quisiéramos renombrar los slots:\n",
        "names(l3)[7] <- \"numero_2\""
      ],
      "execution_count": 49,
      "outputs": [
        {
          "output_type": "display_data",
          "data": {
            "text/html": [
              "7"
            ],
            "text/markdown": "7",
            "text/latex": "7",
            "text/plain": [
              "[1] 7"
            ]
          },
          "metadata": {}
        },
        {
          "output_type": "display_data",
          "data": {
            "text/html": [
              "<style>\n",
              ".list-inline {list-style: none; margin:0; padding: 0}\n",
              ".list-inline>li {display: inline-block}\n",
              ".list-inline>li:not(:last-child)::after {content: \"\\00b7\"; padding: 0 .5ex}\n",
              "</style>\n",
              "<ol class=list-inline><li>'num'</li><li>'letra'</li><li>'pl'</li><li>'mat'</li><li>'subl'</li><li>'v1'</li><li>'num2'</li></ol>\n"
            ],
            "text/markdown": "1. 'num'\n2. 'letra'\n3. 'pl'\n4. 'mat'\n5. 'subl'\n6. 'v1'\n7. 'num2'\n\n\n",
            "text/latex": "\\begin{enumerate*}\n\\item 'num'\n\\item 'letra'\n\\item 'pl'\n\\item 'mat'\n\\item 'subl'\n\\item 'v1'\n\\item 'num2'\n\\end{enumerate*}\n",
            "text/plain": [
              "[1] \"num\"   \"letra\" \"pl\"    \"mat\"   \"subl\"  \"v1\"    \"num2\" "
            ]
          },
          "metadata": {}
        }
      ]
    },
    {
      "cell_type": "code",
      "source": [
        "str(l3)"
      ],
      "metadata": {
        "id": "7Lp_nF8Fj227",
        "outputId": "f07c801a-fc80-4281-ea8c-aa5183f1e583",
        "colab": {
          "base_uri": "https://localhost:8080/"
        }
      },
      "execution_count": 50,
      "outputs": [
        {
          "output_type": "stream",
          "name": "stdout",
          "text": [
            "List of 7\n",
            " $ num     : int [1:6] 10 11 12 13 14 15\n",
            " $ letra   : chr [1:3] \"x\" \"y\" \"z\"\n",
            " $ pl      : chr \"palabra\"\n",
            " $ mat     : int [1:3, 1:3] 1 0 0 0 2 0 0 0 3\n",
            " $ subl    :List of 2\n",
            "  ..$ a    : logi [1:3] TRUE TRUE FALSE\n",
            "  ..$ fecha: Date[1:1], format: \"2024-09-24\"\n",
            " $ v1      : chr [1:26] \"A\" \"B\" \"C\" \"D\" ...\n",
            " $ numero_2: num 45.7\n"
          ]
        }
      ]
    },
    {
      "cell_type": "code",
      "metadata": {
        "trusted": true,
        "id": "Uij1PdVrTpSO"
      },
      "source": [
        "# También podemos crear nuevos \"slots\"\n",
        "## Indicando nombre en [[]] y luego asignando\n",
        "l3[[\"nuevo\"]] <- letters"
      ],
      "execution_count": 52,
      "outputs": []
    },
    {
      "cell_type": "code",
      "source": [
        "l3$nuevo2 <- \"HOLA\""
      ],
      "metadata": {
        "id": "20-vzsJlkMXI"
      },
      "execution_count": 55,
      "outputs": []
    },
    {
      "cell_type": "code",
      "source": [
        "str(l3)"
      ],
      "metadata": {
        "id": "WfFVANTikGVb",
        "outputId": "2ece1ed6-ec28-45e6-fe1c-c86110a44962",
        "colab": {
          "base_uri": "https://localhost:8080/"
        }
      },
      "execution_count": 56,
      "outputs": [
        {
          "output_type": "stream",
          "name": "stdout",
          "text": [
            "List of 9\n",
            " $ num     : int [1:6] 10 11 12 13 14 15\n",
            " $ letra   : chr [1:3] \"x\" \"y\" \"z\"\n",
            " $ pl      : chr \"palabra\"\n",
            " $ mat     : int [1:3, 1:3] 1 0 0 0 2 0 0 0 3\n",
            " $ subl    :List of 2\n",
            "  ..$ a    : logi [1:3] TRUE TRUE FALSE\n",
            "  ..$ fecha: Date[1:1], format: \"2024-09-24\"\n",
            " $ v1      : chr [1:26] \"A\" \"B\" \"C\" \"D\" ...\n",
            " $ numero_2: num 45.7\n",
            " $ nuevo   : chr [1:26] \"a\" \"b\" \"c\" \"d\" ...\n",
            " $ nuevo2  : chr \"HOLA\"\n"
          ]
        }
      ]
    },
    {
      "cell_type": "code",
      "metadata": {
        "trusted": true,
        "id": "rBB4hT9RTpSQ"
      },
      "source": [
        "# podemos modificar elementos dentro de un slot\n",
        "# cambiar la fecha del ejemplo de mas arriba\n",
        "\n",
        "l3$subl$fecha <- as.Date(\"2024-09-25\")\n"
      ],
      "execution_count": 58,
      "outputs": []
    },
    {
      "cell_type": "code",
      "source": [
        "l3$subl$fecha"
      ],
      "metadata": {
        "id": "XBjl0pVGkqZR",
        "outputId": "2218fa7a-674b-4ac3-8f8a-f9639d5789f2",
        "colab": {
          "base_uri": "https://localhost:8080/",
          "height": 34
        }
      },
      "execution_count": 59,
      "outputs": [
        {
          "output_type": "display_data",
          "data": {
            "text/html": [
              "<time datetime=\"2024-09-25\">2024-09-25</time>"
            ],
            "text/markdown": "2024-09-25",
            "text/latex": "2024-09-25",
            "text/plain": [
              "[1] \"2024-09-25\""
            ]
          },
          "metadata": {}
        }
      ]
    },
    {
      "cell_type": "markdown",
      "metadata": {
        "id": "128wI4ZoTpSS"
      },
      "source": [
        "### 5.2 Dataframes\n",
        "\n",
        "Un dataframe es un caso particular de una lista, donde los objetos de cada entrada corresponden a vectores de datos del mismo largo. E este caso cada vector corresponde a una columna del data.frame, mientras que la cantidad de filas corresponde al largo común de los vectores de cada entrada. El objeto resultante es una *tabla*, de ahora en adelante *data.frame*, cuyas columnas poseen distintos tipos de datos entre sí.\n",
        "\n",
        " * ¿Cómo se declara un dataframe?<br>\n",
        "     Mediante la función data.frame(), indicando los vectores que conformarán las columnas.\n",
        "\n",
        " * ¿Cómo se accede a los datos de un data.frame?<br>\n",
        "    Al ser una lista, se puede acceder de la misma manera. Sin embargo también es posible acceder del modo en que se accede a los elementos de una matriz."
      ]
    },
    {
      "cell_type": "code",
      "metadata": {
        "trusted": true,
        "id": "qJ-2zVWVTpST"
      },
      "source": [
        "# 5.2 Dataframes ----------\n",
        "# Ejemplo sencillo de definición de un data.frame\n",
        "# recordar que 1:3 es lo mismo que c(1,2,3)\n",
        "df <- data.frame(edad = c(10,20,40),\n",
        "                 rut = c(\"1-a\", \"4-b\", \"5-a\"),\n",
        "                 nombre = c(\"Miguel\", \"Macarena\", \"Milton\") )\n"
      ],
      "execution_count": 60,
      "outputs": []
    },
    {
      "cell_type": "code",
      "source": [
        "df"
      ],
      "metadata": {
        "id": "iQ27mAH3l8L-",
        "outputId": "7b5bd046-9a98-4f7c-d234-2eabeec7d938",
        "colab": {
          "base_uri": "https://localhost:8080/",
          "height": 192
        }
      },
      "execution_count": 61,
      "outputs": [
        {
          "output_type": "display_data",
          "data": {
            "text/html": [
              "<table class=\"dataframe\">\n",
              "<caption>A data.frame: 3 × 3</caption>\n",
              "<thead>\n",
              "\t<tr><th scope=col>edad</th><th scope=col>rut</th><th scope=col>nombre</th></tr>\n",
              "\t<tr><th scope=col>&lt;dbl&gt;</th><th scope=col>&lt;chr&gt;</th><th scope=col>&lt;chr&gt;</th></tr>\n",
              "</thead>\n",
              "<tbody>\n",
              "\t<tr><td>10</td><td>1-a</td><td>Miguel  </td></tr>\n",
              "\t<tr><td>20</td><td>4-b</td><td>Macarena</td></tr>\n",
              "\t<tr><td>40</td><td>5-a</td><td>Milton  </td></tr>\n",
              "</tbody>\n",
              "</table>\n"
            ],
            "text/markdown": "\nA data.frame: 3 × 3\n\n| edad &lt;dbl&gt; | rut &lt;chr&gt; | nombre &lt;chr&gt; |\n|---|---|---|\n| 10 | 1-a | Miguel   |\n| 20 | 4-b | Macarena |\n| 40 | 5-a | Milton   |\n\n",
            "text/latex": "A data.frame: 3 × 3\n\\begin{tabular}{lll}\n edad & rut & nombre\\\\\n <dbl> & <chr> & <chr>\\\\\n\\hline\n\t 10 & 1-a & Miguel  \\\\\n\t 20 & 4-b & Macarena\\\\\n\t 40 & 5-a & Milton  \\\\\n\\end{tabular}\n",
            "text/plain": [
              "  edad rut nombre  \n",
              "1 10   1-a Miguel  \n",
              "2 20   4-b Macarena\n",
              "3 40   5-a Milton  "
            ]
          },
          "metadata": {}
        }
      ]
    },
    {
      "cell_type": "code",
      "metadata": {
        "trusted": true,
        "id": "nv7stC8ITpSY",
        "outputId": "a37c6381-9bbf-4575-a2c8-a84edf066b14",
        "colab": {
          "base_uri": "https://localhost:8080/",
          "height": 226
        }
      },
      "source": [
        "# Acceso a columnas de un data.frame\n",
        "## Igual que en una lista\n",
        "df[2]\n"
      ],
      "execution_count": 62,
      "outputs": [
        {
          "output_type": "display_data",
          "data": {
            "text/html": [
              "<table class=\"dataframe\">\n",
              "<caption>A data.frame: 3 × 1</caption>\n",
              "<thead>\n",
              "\t<tr><th scope=col>rut</th></tr>\n",
              "\t<tr><th scope=col>&lt;chr&gt;</th></tr>\n",
              "</thead>\n",
              "<tbody>\n",
              "\t<tr><td>1-a</td></tr>\n",
              "\t<tr><td>4-b</td></tr>\n",
              "\t<tr><td>5-a</td></tr>\n",
              "</tbody>\n",
              "</table>\n"
            ],
            "text/markdown": "\nA data.frame: 3 × 1\n\n| rut &lt;chr&gt; |\n|---|\n| 1-a |\n| 4-b |\n| 5-a |\n\n",
            "text/latex": "A data.frame: 3 × 1\n\\begin{tabular}{l}\n rut\\\\\n <chr>\\\\\n\\hline\n\t 1-a\\\\\n\t 4-b\\\\\n\t 5-a\\\\\n\\end{tabular}\n",
            "text/plain": [
              "  rut\n",
              "1 1-a\n",
              "2 4-b\n",
              "3 5-a"
            ]
          },
          "metadata": {}
        }
      ]
    },
    {
      "cell_type": "code",
      "metadata": {
        "trusted": true,
        "id": "3t6_J3BHTpSb",
        "outputId": "a31ec595-642d-4644-b1e5-2871b0f85384",
        "colab": {
          "base_uri": "https://localhost:8080/",
          "height": 104
        }
      },
      "source": [
        "df[[2]]\n",
        "df[[\"rut\"]]\n",
        "df$rut\n",
        "df[,2] #  Ganamos acceso como matriz\n",
        "df[,\"rut\"] #  Ganamos acceso como matriz"
      ],
      "execution_count": 66,
      "outputs": [
        {
          "output_type": "display_data",
          "data": {
            "text/html": [
              "<style>\n",
              ".list-inline {list-style: none; margin:0; padding: 0}\n",
              ".list-inline>li {display: inline-block}\n",
              ".list-inline>li:not(:last-child)::after {content: \"\\00b7\"; padding: 0 .5ex}\n",
              "</style>\n",
              "<ol class=list-inline><li>'1-a'</li><li>'4-b'</li><li>'5-a'</li></ol>\n"
            ],
            "text/markdown": "1. '1-a'\n2. '4-b'\n3. '5-a'\n\n\n",
            "text/latex": "\\begin{enumerate*}\n\\item '1-a'\n\\item '4-b'\n\\item '5-a'\n\\end{enumerate*}\n",
            "text/plain": [
              "[1] \"1-a\" \"4-b\" \"5-a\""
            ]
          },
          "metadata": {}
        },
        {
          "output_type": "display_data",
          "data": {
            "text/html": [
              "<style>\n",
              ".list-inline {list-style: none; margin:0; padding: 0}\n",
              ".list-inline>li {display: inline-block}\n",
              ".list-inline>li:not(:last-child)::after {content: \"\\00b7\"; padding: 0 .5ex}\n",
              "</style>\n",
              "<ol class=list-inline><li>'1-a'</li><li>'4-b'</li><li>'5-a'</li></ol>\n"
            ],
            "text/markdown": "1. '1-a'\n2. '4-b'\n3. '5-a'\n\n\n",
            "text/latex": "\\begin{enumerate*}\n\\item '1-a'\n\\item '4-b'\n\\item '5-a'\n\\end{enumerate*}\n",
            "text/plain": [
              "[1] \"1-a\" \"4-b\" \"5-a\""
            ]
          },
          "metadata": {}
        },
        {
          "output_type": "display_data",
          "data": {
            "text/html": [
              "<style>\n",
              ".list-inline {list-style: none; margin:0; padding: 0}\n",
              ".list-inline>li {display: inline-block}\n",
              ".list-inline>li:not(:last-child)::after {content: \"\\00b7\"; padding: 0 .5ex}\n",
              "</style>\n",
              "<ol class=list-inline><li>'1-a'</li><li>'4-b'</li><li>'5-a'</li></ol>\n"
            ],
            "text/markdown": "1. '1-a'\n2. '4-b'\n3. '5-a'\n\n\n",
            "text/latex": "\\begin{enumerate*}\n\\item '1-a'\n\\item '4-b'\n\\item '5-a'\n\\end{enumerate*}\n",
            "text/plain": [
              "[1] \"1-a\" \"4-b\" \"5-a\""
            ]
          },
          "metadata": {}
        },
        {
          "output_type": "display_data",
          "data": {
            "text/html": [
              "<style>\n",
              ".list-inline {list-style: none; margin:0; padding: 0}\n",
              ".list-inline>li {display: inline-block}\n",
              ".list-inline>li:not(:last-child)::after {content: \"\\00b7\"; padding: 0 .5ex}\n",
              "</style>\n",
              "<ol class=list-inline><li>'1-a'</li><li>'4-b'</li><li>'5-a'</li></ol>\n"
            ],
            "text/markdown": "1. '1-a'\n2. '4-b'\n3. '5-a'\n\n\n",
            "text/latex": "\\begin{enumerate*}\n\\item '1-a'\n\\item '4-b'\n\\item '5-a'\n\\end{enumerate*}\n",
            "text/plain": [
              "[1] \"1-a\" \"4-b\" \"5-a\""
            ]
          },
          "metadata": {}
        },
        {
          "output_type": "display_data",
          "data": {
            "text/html": [
              "<style>\n",
              ".list-inline {list-style: none; margin:0; padding: 0}\n",
              ".list-inline>li {display: inline-block}\n",
              ".list-inline>li:not(:last-child)::after {content: \"\\00b7\"; padding: 0 .5ex}\n",
              "</style>\n",
              "<ol class=list-inline><li>'1-a'</li><li>'4-b'</li><li>'5-a'</li></ol>\n"
            ],
            "text/markdown": "1. '1-a'\n2. '4-b'\n3. '5-a'\n\n\n",
            "text/latex": "\\begin{enumerate*}\n\\item '1-a'\n\\item '4-b'\n\\item '5-a'\n\\end{enumerate*}\n",
            "text/plain": [
              "[1] \"1-a\" \"4-b\" \"5-a\""
            ]
          },
          "metadata": {}
        }
      ]
    },
    {
      "cell_type": "code",
      "metadata": {
        "trusted": true,
        "id": "CojdmEs9TpSd",
        "outputId": "df8a71ef-a8e1-4129-a2ae-55007aa4c557",
        "colab": {
          "base_uri": "https://localhost:8080/",
          "height": 181
        }
      },
      "source": [
        "##  Ganamos acceso como matriz\n",
        "# segundafila de df\n",
        "df[2,]\n",
        "\n",
        "# segunda columna y segunda fila\n",
        "df[2,2]\n",
        "df[2,\"rut\"]\n",
        "df$rut[2]# acceder como si fuese lista\n",
        "\n"
      ],
      "execution_count": 69,
      "outputs": [
        {
          "output_type": "display_data",
          "data": {
            "text/html": [
              "<table class=\"dataframe\">\n",
              "<caption>A data.frame: 1 × 3</caption>\n",
              "<thead>\n",
              "\t<tr><th></th><th scope=col>edad</th><th scope=col>rut</th><th scope=col>nombre</th></tr>\n",
              "\t<tr><th></th><th scope=col>&lt;dbl&gt;</th><th scope=col>&lt;chr&gt;</th><th scope=col>&lt;chr&gt;</th></tr>\n",
              "</thead>\n",
              "<tbody>\n",
              "\t<tr><th scope=row>2</th><td>20</td><td>4-b</td><td>Macarena</td></tr>\n",
              "</tbody>\n",
              "</table>\n"
            ],
            "text/markdown": "\nA data.frame: 1 × 3\n\n| <!--/--> | edad &lt;dbl&gt; | rut &lt;chr&gt; | nombre &lt;chr&gt; |\n|---|---|---|---|\n| 2 | 20 | 4-b | Macarena |\n\n",
            "text/latex": "A data.frame: 1 × 3\n\\begin{tabular}{r|lll}\n  & edad & rut & nombre\\\\\n  & <dbl> & <chr> & <chr>\\\\\n\\hline\n\t2 & 20 & 4-b & Macarena\\\\\n\\end{tabular}\n",
            "text/plain": [
              "  edad rut nombre  \n",
              "2 20   4-b Macarena"
            ]
          },
          "metadata": {}
        },
        {
          "output_type": "display_data",
          "data": {
            "text/html": [
              "'4-b'"
            ],
            "text/markdown": "'4-b'",
            "text/latex": "'4-b'",
            "text/plain": [
              "[1] \"4-b\""
            ]
          },
          "metadata": {}
        },
        {
          "output_type": "display_data",
          "data": {
            "text/html": [
              "'4-b'"
            ],
            "text/markdown": "'4-b'",
            "text/latex": "'4-b'",
            "text/plain": [
              "[1] \"4-b\""
            ]
          },
          "metadata": {}
        },
        {
          "output_type": "display_data",
          "data": {
            "text/html": [
              "'4-b'"
            ],
            "text/markdown": "'4-b'",
            "text/latex": "'4-b'",
            "text/plain": [
              "[1] \"4-b\""
            ]
          },
          "metadata": {}
        }
      ]
    },
    {
      "cell_type": "code",
      "metadata": {
        "trusted": true,
        "id": "FgD5Q8hFTpSf"
      },
      "source": [
        "#Podemos crear nuevas columnas , del mismmo modo que creamos \"slots\" en una lista\n"
      ],
      "execution_count": null,
      "outputs": []
    },
    {
      "cell_type": "code",
      "metadata": {
        "trusted": true,
        "id": "LcNQ5JHVTpSh",
        "outputId": "2b1143b6-d70f-4453-8e41-a8f4ba4de4e5",
        "colab": {
          "base_uri": "https://localhost:8080/",
          "height": 716
        }
      },
      "source": [
        "# podemos seleccionar más de una columna a la vez. Ej: seleccionar col1y col3\n",
        "df[,c(2,3)] # Pensando como matriz\n",
        "df[c(2,3)]  # Pensando como lista\n",
        "# Referenciando el nombre de las columnas\n",
        "df[,c(\"rut\",\"nombre\")]# Pensando como matriz\n",
        "df[c(\"rut\",\"nombre\")]# Pensando como lista"
      ],
      "execution_count": 73,
      "outputs": [
        {
          "output_type": "display_data",
          "data": {
            "text/html": [
              "<table class=\"dataframe\">\n",
              "<caption>A data.frame: 3 × 2</caption>\n",
              "<thead>\n",
              "\t<tr><th scope=col>rut</th><th scope=col>nombre</th></tr>\n",
              "\t<tr><th scope=col>&lt;chr&gt;</th><th scope=col>&lt;chr&gt;</th></tr>\n",
              "</thead>\n",
              "<tbody>\n",
              "\t<tr><td>1-a</td><td>Miguel  </td></tr>\n",
              "\t<tr><td>4-b</td><td>Macarena</td></tr>\n",
              "\t<tr><td>5-a</td><td>Milton  </td></tr>\n",
              "</tbody>\n",
              "</table>\n"
            ],
            "text/markdown": "\nA data.frame: 3 × 2\n\n| rut &lt;chr&gt; | nombre &lt;chr&gt; |\n|---|---|\n| 1-a | Miguel   |\n| 4-b | Macarena |\n| 5-a | Milton   |\n\n",
            "text/latex": "A data.frame: 3 × 2\n\\begin{tabular}{ll}\n rut & nombre\\\\\n <chr> & <chr>\\\\\n\\hline\n\t 1-a & Miguel  \\\\\n\t 4-b & Macarena\\\\\n\t 5-a & Milton  \\\\\n\\end{tabular}\n",
            "text/plain": [
              "  rut nombre  \n",
              "1 1-a Miguel  \n",
              "2 4-b Macarena\n",
              "3 5-a Milton  "
            ]
          },
          "metadata": {}
        },
        {
          "output_type": "display_data",
          "data": {
            "text/html": [
              "<table class=\"dataframe\">\n",
              "<caption>A data.frame: 3 × 2</caption>\n",
              "<thead>\n",
              "\t<tr><th scope=col>rut</th><th scope=col>nombre</th></tr>\n",
              "\t<tr><th scope=col>&lt;chr&gt;</th><th scope=col>&lt;chr&gt;</th></tr>\n",
              "</thead>\n",
              "<tbody>\n",
              "\t<tr><td>1-a</td><td>Miguel  </td></tr>\n",
              "\t<tr><td>4-b</td><td>Macarena</td></tr>\n",
              "\t<tr><td>5-a</td><td>Milton  </td></tr>\n",
              "</tbody>\n",
              "</table>\n"
            ],
            "text/markdown": "\nA data.frame: 3 × 2\n\n| rut &lt;chr&gt; | nombre &lt;chr&gt; |\n|---|---|\n| 1-a | Miguel   |\n| 4-b | Macarena |\n| 5-a | Milton   |\n\n",
            "text/latex": "A data.frame: 3 × 2\n\\begin{tabular}{ll}\n rut & nombre\\\\\n <chr> & <chr>\\\\\n\\hline\n\t 1-a & Miguel  \\\\\n\t 4-b & Macarena\\\\\n\t 5-a & Milton  \\\\\n\\end{tabular}\n",
            "text/plain": [
              "  rut nombre  \n",
              "1 1-a Miguel  \n",
              "2 4-b Macarena\n",
              "3 5-a Milton  "
            ]
          },
          "metadata": {}
        },
        {
          "output_type": "display_data",
          "data": {
            "text/html": [
              "<table class=\"dataframe\">\n",
              "<caption>A data.frame: 3 × 2</caption>\n",
              "<thead>\n",
              "\t<tr><th scope=col>rut</th><th scope=col>nombre</th></tr>\n",
              "\t<tr><th scope=col>&lt;chr&gt;</th><th scope=col>&lt;chr&gt;</th></tr>\n",
              "</thead>\n",
              "<tbody>\n",
              "\t<tr><td>1-a</td><td>Miguel  </td></tr>\n",
              "\t<tr><td>4-b</td><td>Macarena</td></tr>\n",
              "\t<tr><td>5-a</td><td>Milton  </td></tr>\n",
              "</tbody>\n",
              "</table>\n"
            ],
            "text/markdown": "\nA data.frame: 3 × 2\n\n| rut &lt;chr&gt; | nombre &lt;chr&gt; |\n|---|---|\n| 1-a | Miguel   |\n| 4-b | Macarena |\n| 5-a | Milton   |\n\n",
            "text/latex": "A data.frame: 3 × 2\n\\begin{tabular}{ll}\n rut & nombre\\\\\n <chr> & <chr>\\\\\n\\hline\n\t 1-a & Miguel  \\\\\n\t 4-b & Macarena\\\\\n\t 5-a & Milton  \\\\\n\\end{tabular}\n",
            "text/plain": [
              "  rut nombre  \n",
              "1 1-a Miguel  \n",
              "2 4-b Macarena\n",
              "3 5-a Milton  "
            ]
          },
          "metadata": {}
        },
        {
          "output_type": "display_data",
          "data": {
            "text/html": [
              "<table class=\"dataframe\">\n",
              "<caption>A data.frame: 3 × 2</caption>\n",
              "<thead>\n",
              "\t<tr><th scope=col>rut</th><th scope=col>nombre</th></tr>\n",
              "\t<tr><th scope=col>&lt;chr&gt;</th><th scope=col>&lt;chr&gt;</th></tr>\n",
              "</thead>\n",
              "<tbody>\n",
              "\t<tr><td>1-a</td><td>Miguel  </td></tr>\n",
              "\t<tr><td>4-b</td><td>Macarena</td></tr>\n",
              "\t<tr><td>5-a</td><td>Milton  </td></tr>\n",
              "</tbody>\n",
              "</table>\n"
            ],
            "text/markdown": "\nA data.frame: 3 × 2\n\n| rut &lt;chr&gt; | nombre &lt;chr&gt; |\n|---|---|\n| 1-a | Miguel   |\n| 4-b | Macarena |\n| 5-a | Milton   |\n\n",
            "text/latex": "A data.frame: 3 × 2\n\\begin{tabular}{ll}\n rut & nombre\\\\\n <chr> & <chr>\\\\\n\\hline\n\t 1-a & Miguel  \\\\\n\t 4-b & Macarena\\\\\n\t 5-a & Milton  \\\\\n\\end{tabular}\n",
            "text/plain": [
              "  rut nombre  \n",
              "1 1-a Miguel  \n",
              "2 4-b Macarena\n",
              "3 5-a Milton  "
            ]
          },
          "metadata": {}
        }
      ]
    },
    {
      "cell_type": "code",
      "source": [
        "df"
      ],
      "metadata": {
        "id": "oLtqBjXLnvw8",
        "outputId": "8f888ae0-45f5-449b-8bd9-a839eaaefeee",
        "colab": {
          "base_uri": "https://localhost:8080/",
          "height": 192
        }
      },
      "execution_count": 74,
      "outputs": [
        {
          "output_type": "display_data",
          "data": {
            "text/html": [
              "<table class=\"dataframe\">\n",
              "<caption>A data.frame: 3 × 3</caption>\n",
              "<thead>\n",
              "\t<tr><th scope=col>edad</th><th scope=col>rut</th><th scope=col>nombre</th></tr>\n",
              "\t<tr><th scope=col>&lt;dbl&gt;</th><th scope=col>&lt;chr&gt;</th><th scope=col>&lt;chr&gt;</th></tr>\n",
              "</thead>\n",
              "<tbody>\n",
              "\t<tr><td>10</td><td>1-a</td><td>Miguel  </td></tr>\n",
              "\t<tr><td>20</td><td>4-b</td><td>Macarena</td></tr>\n",
              "\t<tr><td>40</td><td>5-a</td><td>Milton  </td></tr>\n",
              "</tbody>\n",
              "</table>\n"
            ],
            "text/markdown": "\nA data.frame: 3 × 3\n\n| edad &lt;dbl&gt; | rut &lt;chr&gt; | nombre &lt;chr&gt; |\n|---|---|---|\n| 10 | 1-a | Miguel   |\n| 20 | 4-b | Macarena |\n| 40 | 5-a | Milton   |\n\n",
            "text/latex": "A data.frame: 3 × 3\n\\begin{tabular}{lll}\n edad & rut & nombre\\\\\n <dbl> & <chr> & <chr>\\\\\n\\hline\n\t 10 & 1-a & Miguel  \\\\\n\t 20 & 4-b & Macarena\\\\\n\t 40 & 5-a & Milton  \\\\\n\\end{tabular}\n",
            "text/plain": [
              "  edad rut nombre  \n",
              "1 10   1-a Miguel  \n",
              "2 20   4-b Macarena\n",
              "3 40   5-a Milton  "
            ]
          },
          "metadata": {}
        }
      ]
    },
    {
      "cell_type": "code",
      "source": [
        "df[df$edad > 15 ,]"
      ],
      "metadata": {
        "id": "VVxStpepoaKj",
        "outputId": "68c7893e-438b-4861-c449-4c7be6c39f6a",
        "colab": {
          "base_uri": "https://localhost:8080/",
          "height": 160
        }
      },
      "execution_count": 77,
      "outputs": [
        {
          "output_type": "display_data",
          "data": {
            "text/html": [
              "<table class=\"dataframe\">\n",
              "<caption>A data.frame: 2 × 3</caption>\n",
              "<thead>\n",
              "\t<tr><th></th><th scope=col>edad</th><th scope=col>rut</th><th scope=col>nombre</th></tr>\n",
              "\t<tr><th></th><th scope=col>&lt;dbl&gt;</th><th scope=col>&lt;chr&gt;</th><th scope=col>&lt;chr&gt;</th></tr>\n",
              "</thead>\n",
              "<tbody>\n",
              "\t<tr><th scope=row>2</th><td>20</td><td>4-b</td><td>Macarena</td></tr>\n",
              "\t<tr><th scope=row>3</th><td>40</td><td>5-a</td><td>Milton  </td></tr>\n",
              "</tbody>\n",
              "</table>\n"
            ],
            "text/markdown": "\nA data.frame: 2 × 3\n\n| <!--/--> | edad &lt;dbl&gt; | rut &lt;chr&gt; | nombre &lt;chr&gt; |\n|---|---|---|---|\n| 2 | 20 | 4-b | Macarena |\n| 3 | 40 | 5-a | Milton   |\n\n",
            "text/latex": "A data.frame: 2 × 3\n\\begin{tabular}{r|lll}\n  & edad & rut & nombre\\\\\n  & <dbl> & <chr> & <chr>\\\\\n\\hline\n\t2 & 20 & 4-b & Macarena\\\\\n\t3 & 40 & 5-a & Milton  \\\\\n\\end{tabular}\n",
            "text/plain": [
              "  edad rut nombre  \n",
              "2 20   4-b Macarena\n",
              "3 40   5-a Milton  "
            ]
          },
          "metadata": {}
        }
      ]
    },
    {
      "cell_type": "code",
      "source": [
        "df[df$edad > 15 & grepl(\"-b\", df$rut) ,]"
      ],
      "metadata": {
        "id": "IZJMZaXfnl3w",
        "outputId": "8e03ea73-16ae-41e1-84e2-559615e1f2ae",
        "colab": {
          "base_uri": "https://localhost:8080/",
          "height": 129
        }
      },
      "execution_count": 76,
      "outputs": [
        {
          "output_type": "display_data",
          "data": {
            "text/html": [
              "<table class=\"dataframe\">\n",
              "<caption>A data.frame: 1 × 3</caption>\n",
              "<thead>\n",
              "\t<tr><th></th><th scope=col>edad</th><th scope=col>rut</th><th scope=col>nombre</th></tr>\n",
              "\t<tr><th></th><th scope=col>&lt;dbl&gt;</th><th scope=col>&lt;chr&gt;</th><th scope=col>&lt;chr&gt;</th></tr>\n",
              "</thead>\n",
              "<tbody>\n",
              "\t<tr><th scope=row>2</th><td>20</td><td>4-b</td><td>Macarena</td></tr>\n",
              "</tbody>\n",
              "</table>\n"
            ],
            "text/markdown": "\nA data.frame: 1 × 3\n\n| <!--/--> | edad &lt;dbl&gt; | rut &lt;chr&gt; | nombre &lt;chr&gt; |\n|---|---|---|---|\n| 2 | 20 | 4-b | Macarena |\n\n",
            "text/latex": "A data.frame: 1 × 3\n\\begin{tabular}{r|lll}\n  & edad & rut & nombre\\\\\n  & <dbl> & <chr> & <chr>\\\\\n\\hline\n\t2 & 20 & 4-b & Macarena\\\\\n\\end{tabular}\n",
            "text/plain": [
              "  edad rut nombre  \n",
              "2 20   4-b Macarena"
            ]
          },
          "metadata": {}
        }
      ]
    }
  ]
}