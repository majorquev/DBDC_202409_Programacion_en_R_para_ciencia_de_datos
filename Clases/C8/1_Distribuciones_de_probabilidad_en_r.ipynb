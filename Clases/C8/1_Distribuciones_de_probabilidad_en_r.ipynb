{
  "nbformat": 4,
  "nbformat_minor": 0,
  "metadata": {
    "colab": {
      "provenance": [],
      "include_colab_link": true
    },
    "kernelspec": {
      "name": "ir",
      "display_name": "R"
    }
  },
  "cells": [
    {
      "cell_type": "markdown",
      "metadata": {
        "id": "view-in-github",
        "colab_type": "text"
      },
      "source": [
        "<a href=\"https://colab.research.google.com/github/majorquev/DBDC_202409_Programacion_en_R_para_ciencia_de_datos/blob/main/Clases/C8/1_Distribuciones_de_probabilidad_en_r.ipynb\" target=\"_parent\"><img src=\"https://colab.research.google.com/assets/colab-badge.svg\" alt=\"Open In Colab\"/></a>"
      ]
    },
    {
      "cell_type": "markdown",
      "metadata": {
        "collapsed": true,
        "id": "OejoCTBMIzQV"
      },
      "source": [
        "# Parte 6: Distribuciones de probabilidad\n",
        "\n",
        "**Autor:** Miguel Jorquera Viguera.<br>\n",
        "**E-mail:** majorquev@gmail.com<br>\n",
        "**Ayudante:** Rodrigo Morales<br>\n",
        "**E-mail ayudante:** rumorale1@gmail.com\n",
        "\n",
        "En R podemos obtener valores tanto de las funciones de densidad, distribución de probabilidad, cuantiles de una distribución o bien generar valores aleatorios de diversas distribuciones paramétricas.\n",
        "Casi todas las distribuciones que se encuentran implementadas en la librería base de R se referencian de la misma manera.\n",
        "\n",
        "* Funciones de densidad (PDFs) comienzan con la letra “d.”\n",
        "* Funciones de distribución acumulada comienzan con la letra “p.”\n",
        "* Funcioenes que retornan quantiles de una distribución comienzan con la letra “q.”\n",
        "* Funciones que generan valores aleatorios comienzan con la letra“r.”\n",
        "\n",
        "Por defecto, en R contamos con una amplia variedad familias de distribuciones enre las que destacan las siguientes.\n",
        "\n",
        "\n",
        "\n",
        "**Distribution**| **R name**| **additional arguments**\n",
        "-----| -----| -----\n",
        "beta |`beta` |shape1, shape2, ncp\n",
        "binomial| `binom`| size, prob\n",
        "Cauchy|`cauchy` |location, scale\n",
        "chi-squared| `chisq`| df, ncp\n",
        "exponential| `exp` |rate\n",
        "F| `f` |df1, df2, ncp\n",
        "gamma |`gamma` |shape, scale\n",
        "geometric |`geom` |prob\n",
        "hypergeometric| `hyper`| m, n, k\n",
        "log-normal| `lnorm` |meanlog, sdlog\n",
        "logistic |`logis` |location, scale\n",
        "negative| `binomial`| nbinom size, prob\n",
        "normal |`norm` |mean, sd\n",
        "Poisson| `pois`| lambda\n",
        "signed rank |`signrank`| n\n",
        "Student’s t| `t`| df, ncp\n",
        "uniform |`unif`| min, max\n",
        "Weibull| `weibull`| shape, scale\n",
        "Wilcoxon |`wilcox`|m, n\n",
        "\n",
        "\n"
      ]
    },
    {
      "cell_type": "markdown",
      "metadata": {
        "id": "-PTP0v_EIzQV"
      },
      "source": [
        "# I) Distribución normal\n",
        "\n",
        "## Función de densidad\n",
        "$$f(x) = \\frac{1}{\\sqrt{2 π \\sigma^2}} e^{-\\frac{1}{2\\sigma^2}(x - \\mu)^2}$$\n",
        "\n",
        "## En R...\n",
        "\n",
        "* `dnorm(x, mean = 0, sd = 1, log = FALSE)`: Evalúa la función de densidad.\n",
        "* `pnorm(q, mean = 0, sd = 1, lower.tail = TRUE, log.p = FALSE)`: Calcula la probabilidad acumulada (función de distribución).\n",
        "* `qnorm(p, mean = 0, sd = 1, lower.tail = TRUE, log.p = FALSE)`: Calcula los quantiles de la distribución. (Función inversa de la función de distribución de probabilidad).\n",
        "* `rnorm(n, mean = 0, sd = 1)`: Genera muestras aleatroias.\n",
        "\n",
        "\n",
        "\n",
        "\n",
        "**P1.** Se sabe que la estatura de la población adulta de sexo masculino chilena sigue una distribución normal con media 171,8 cms y una desviación estándar de 5cms\n",
        "\n",
        "**a)** ¿Cuál es la probabilidad de encontrar de que una persona hombre  adulta tenga una estatura\n",
        "menor o igual a 160 cms?"
      ]
    },
    {
      "cell_type": "code",
      "metadata": {
        "trusted": true,
        "id": "ToHwVVRJIzQV",
        "outputId": "2572e11c-931e-4a12-c101-197a86a1f003",
        "colab": {
          "base_uri": "https://localhost:8080/",
          "height": 34
        }
      },
      "source": [
        "# pnorm()\n",
        "pnorm(160, mean = 171.8, sd = 5) # Hay una prob de un 0.9% de encontrar una persona Chilena ..... que mida 1.60 mts o menos.\n",
        "\n",
        "\n"
      ],
      "execution_count": 1,
      "outputs": [
        {
          "output_type": "display_data",
          "data": {
            "text/html": [
              "0.00913746753057262"
            ],
            "text/markdown": "0.00913746753057262",
            "text/latex": "0.00913746753057262",
            "text/plain": [
              "[1] 0.009137468"
            ]
          },
          "metadata": {}
        }
      ]
    },
    {
      "cell_type": "code",
      "metadata": {
        "trusted": true,
        "id": "aurFMEakIzQW"
      },
      "source": [
        "?pnorm"
      ],
      "execution_count": null,
      "outputs": []
    },
    {
      "cell_type": "markdown",
      "metadata": {
        "id": "h-zASRnGIzQW"
      },
      "source": [
        "  \n",
        "**b)** ¿Cuál es la probabilidad de encontrar de que una persona adulta tenga una estatura mayor  a 160 cms?\n",
        "  "
      ]
    },
    {
      "cell_type": "code",
      "metadata": {
        "trusted": true,
        "id": "jQ8cahkIIzQW",
        "outputId": "afb68844-6ba5-48df-af01-4fbd941f50d9",
        "colab": {
          "base_uri": "https://localhost:8080/",
          "height": 52
        }
      },
      "source": [
        "#P(estatura > 160) = 1- P(estatura <= 160)\n",
        "1-pnorm(160, mean = 171.8, sd = 5) # 99% de prob de que un adulto Chileno mida más de 1.60.\n",
        "\n",
        "#NOTA\n",
        "# lower.tail\n",
        "pnorm(160, mean = 171.8, sd = 5, lower.tail = F )"
      ],
      "execution_count": 4,
      "outputs": [
        {
          "output_type": "display_data",
          "data": {
            "text/html": [
              "0.990862532469427"
            ],
            "text/markdown": "0.990862532469427",
            "text/latex": "0.990862532469427",
            "text/plain": [
              "[1] 0.9908625"
            ]
          },
          "metadata": {}
        },
        {
          "output_type": "display_data",
          "data": {
            "text/html": [
              "0.990862532469427"
            ],
            "text/markdown": "0.990862532469427",
            "text/latex": "0.990862532469427",
            "text/plain": [
              "[1] 0.9908625"
            ]
          },
          "metadata": {}
        }
      ]
    },
    {
      "cell_type": "markdown",
      "metadata": {
        "id": "RW1a4CYOIzQW"
      },
      "source": [
        "**c)** ¿Cuál es la probabilidad de encontrar una persona con estatura entre 180cms y 190 cms?"
      ]
    },
    {
      "cell_type": "code",
      "metadata": {
        "trusted": true,
        "id": "OvapQgJnIzQW",
        "outputId": "d05c88b6-268c-4a68-9681-7c24f1f24010",
        "colab": {
          "base_uri": "https://localhost:8080/",
          "height": 34
        }
      },
      "source": [
        "pnorm(190, mean = 171.8, sd = 5) - pnorm(180, mean = 171.8, sd = 5)\n",
        "# Hay un 5% de prob de encontrar una persona con estatura entre 1.8 y 1.9 mts."
      ],
      "execution_count": 5,
      "outputs": [
        {
          "output_type": "display_data",
          "data": {
            "text/html": [
              "0.0503662644536582"
            ],
            "text/markdown": "0.0503662644536582",
            "text/latex": "0.0503662644536582",
            "text/plain": [
              "[1] 0.05036626"
            ]
          },
          "metadata": {}
        }
      ]
    },
    {
      "cell_type": "code",
      "source": [],
      "metadata": {
        "id": "o2o9LtULeZ2-"
      },
      "execution_count": null,
      "outputs": []
    },
    {
      "cell_type": "markdown",
      "metadata": {
        "id": "wKeJk1S1IzQX"
      },
      "source": [
        "**d)** ¿Cuál es la estatura que corresponde al percentil 90?"
      ]
    },
    {
      "cell_type": "code",
      "metadata": {
        "trusted": true,
        "id": "uH4r-tSjIzQX",
        "outputId": "ea345811-d029-4fd5-f5d5-c9495e9e4ccd",
        "colab": {
          "base_uri": "https://localhost:8080/",
          "height": 52
        }
      },
      "source": [
        "# Cual es la estatura que acumula el 90% de probabilidad\n",
        "# dnorm evalua la funcion de densidad/masa?\n",
        "# pnorm evalua la funcion de distribucion acumulada?\n",
        "# qnorm retorna cuantiles?\n",
        "# rnorm genera muestras aleatorias?\n",
        "\n",
        "qnorm(0.9, mean = 171.8, sd = 5)\n",
        "# El percentil 90 corresponde a 178.2 cms\n",
        "# NOTA para recordar que estamos calculando.\n",
        "qnorm(0.5, mean = 171.8, sd = 5)\n",
        "\n"
      ],
      "execution_count": 7,
      "outputs": [
        {
          "output_type": "display_data",
          "data": {
            "text/html": [
              "178.207757827723"
            ],
            "text/markdown": "178.207757827723",
            "text/latex": "178.207757827723",
            "text/plain": [
              "[1] 178.2078"
            ]
          },
          "metadata": {}
        },
        {
          "output_type": "display_data",
          "data": {
            "text/html": [
              "171.8"
            ],
            "text/markdown": "171.8",
            "text/latex": "171.8",
            "text/plain": [
              "[1] 171.8"
            ]
          },
          "metadata": {}
        }
      ]
    },
    {
      "cell_type": "markdown",
      "metadata": {
        "id": "8BETYF90IzQX"
      },
      "source": [
        "**d)**  Genere una muestra aleatoria de tamaño 1000 y guárdela en un vector llamado _estaturas_, provenientes de una distribución normal con media 171,8 y desviación estandar igual a 5."
      ]
    },
    {
      "cell_type": "code",
      "metadata": {
        "trusted": true,
        "id": "_jaKERD8IzQX"
      },
      "source": [
        "# estaturas\n",
        "set.seed(2020) #semilla (Opcional e inncesario)\n",
        "estaturas <- rnorm(1000, mean = 171.8, sd = 5)\n"
      ],
      "execution_count": 18,
      "outputs": []
    },
    {
      "cell_type": "code",
      "source": [
        "head(estaturas, 10)"
      ],
      "metadata": {
        "id": "WFfs_fI9i44s",
        "outputId": "a39717b0-e7c6-4698-8166-60abd473a62d",
        "colab": {
          "base_uri": "https://localhost:8080/",
          "height": 34
        }
      },
      "execution_count": 17,
      "outputs": [
        {
          "output_type": "display_data",
          "data": {
            "text/html": [
              "<style>\n",
              ".list-inline {list-style: none; margin:0; padding: 0}\n",
              ".list-inline>li {display: inline-block}\n",
              ".list-inline>li:not(:last-child)::after {content: \"\\00b7\"; padding: 0 .5ex}\n",
              "</style>\n",
              "<ol class=list-inline><li>166.467593223909</li><li>171.094416139994</li><li>173.253560394735</li><li>176.593897834675</li><li>172.45978197991</li><li>163.960864665</li><li>169.709910916552</li><li>174.276350901787</li><li>174.811390665795</li><li>172.744535714724</li></ol>\n"
            ],
            "text/markdown": "1. 166.467593223909\n2. 171.094416139994\n3. 173.253560394735\n4. 176.593897834675\n5. 172.45978197991\n6. 163.960864665\n7. 169.709910916552\n8. 174.276350901787\n9. 174.811390665795\n10. 172.744535714724\n\n\n",
            "text/latex": "\\begin{enumerate*}\n\\item 166.467593223909\n\\item 171.094416139994\n\\item 173.253560394735\n\\item 176.593897834675\n\\item 172.45978197991\n\\item 163.960864665\n\\item 169.709910916552\n\\item 174.276350901787\n\\item 174.811390665795\n\\item 172.744535714724\n\\end{enumerate*}\n",
            "text/plain": [
              " [1] 166.4676 171.0944 173.2536 176.5939 172.4598 163.9609 169.7099 174.2764\n",
              " [9] 174.8114 172.7445"
            ]
          },
          "metadata": {}
        }
      ]
    },
    {
      "cell_type": "code",
      "source": [
        "summary(estaturas)"
      ],
      "metadata": {
        "id": "aLTNUqkBjQ71",
        "outputId": "eb5bfcb6-e947-4618-d56b-ec4a8affbf40",
        "colab": {
          "base_uri": "https://localhost:8080/",
          "height": 52
        }
      },
      "execution_count": 19,
      "outputs": [
        {
          "output_type": "display_data",
          "data": {
            "text/plain": [
              "   Min. 1st Qu.  Median    Mean 3rd Qu.    Max. \n",
              "  156.0   168.2   171.5   171.7   175.0   190.3 "
            ]
          },
          "metadata": {}
        }
      ]
    },
    {
      "cell_type": "code",
      "source": [
        "sd(estaturas)"
      ],
      "metadata": {
        "id": "-4VhtNlMjhE9",
        "outputId": "3b162e1b-1465-48a1-d4f5-9ea2852e84c7",
        "colab": {
          "base_uri": "https://localhost:8080/",
          "height": 34
        }
      },
      "execution_count": 20,
      "outputs": [
        {
          "output_type": "display_data",
          "data": {
            "text/html": [
              "5.18482653310033"
            ],
            "text/markdown": "5.18482653310033",
            "text/latex": "5.18482653310033",
            "text/plain": [
              "[1] 5.184827"
            ]
          },
          "metadata": {}
        }
      ]
    },
    {
      "cell_type": "markdown",
      "metadata": {
        "id": "xcbBK1N0IzQX"
      },
      "source": [
        "**e)** Mediante la función _hist()_ y la función _curve()_  genere un histograma de la muestra creada y añada la curva de distribución normal con la media y desviación estandar reales."
      ]
    },
    {
      "cell_type": "code",
      "metadata": {
        "trusted": true,
        "id": "2iZisxlHIzQX",
        "outputId": "76da0e0d-2947-41b5-b7f3-4432ba6e645f",
        "colab": {
          "base_uri": "https://localhost:8080/",
          "height": 437
        }
      },
      "source": [
        "## NOTA\n",
        "hist(estaturas, freq = F, breaks = 20 )\n",
        "curve(dnorm(x,mean = 171.8, sd = 5 ), add = T, col = \"red\") # Rojo la densidad normal con los parametros reales\n",
        "curve(dnorm(x,mean = mean(estaturas), sd = sd(estaturas)), add = T, col = \"blue\") # Azul la densidad normal con los parametros estimados"
      ],
      "execution_count": 24,
      "outputs": [
        {
          "output_type": "display_data",
          "data": {
            "text/plain": [
              "Plot with title “Histogram of estaturas”"
            ],
            "image/png": "[encoded data removed]"
          },
          "metadata": {
            "image/png": {
              "width": 420,
              "height": 420
            }
          }
        }
      ]
    },
    {
      "cell_type": "code",
      "metadata": {
        "trusted": true,
        "id": "EDPAiGwpIzQX"
      },
      "source": [
        "library(ggplot2)\n",
        "library(dplyr)"
      ],
      "execution_count": 26,
      "outputs": []
    },
    {
      "cell_type": "code",
      "metadata": {
        "trusted": true,
        "id": "lAB7nivUIzQX",
        "outputId": "22256fed-360d-4543-d1e6-10fde1d0a4f2",
        "colab": {
          "base_uri": "https://localhost:8080/",
          "height": 303
        }
      },
      "source": [
        "# Notar que en un histograma podemos visualizar los conteos o las frecuencias relativas.\n",
        "df <- data.frame(est = estaturas)\n",
        "head(df)\n"
      ],
      "execution_count": 27,
      "outputs": [
        {
          "output_type": "display_data",
          "data": {
            "text/html": [
              "<table class=\"dataframe\">\n",
              "<caption>A data.frame: 6 × 1</caption>\n",
              "<thead>\n",
              "\t<tr><th></th><th scope=col>est</th></tr>\n",
              "\t<tr><th></th><th scope=col>&lt;dbl&gt;</th></tr>\n",
              "</thead>\n",
              "<tbody>\n",
              "\t<tr><th scope=row>1</th><td>173.6849</td></tr>\n",
              "\t<tr><th scope=row>2</th><td>173.3077</td></tr>\n",
              "\t<tr><th scope=row>3</th><td>166.3099</td></tr>\n",
              "\t<tr><th scope=row>4</th><td>166.1480</td></tr>\n",
              "\t<tr><th scope=row>5</th><td>157.8173</td></tr>\n",
              "\t<tr><th scope=row>6</th><td>175.4029</td></tr>\n",
              "</tbody>\n",
              "</table>\n"
            ],
            "text/markdown": "\nA data.frame: 6 × 1\n\n| <!--/--> | est &lt;dbl&gt; |\n|---|---|\n| 1 | 173.6849 |\n| 2 | 173.3077 |\n| 3 | 166.3099 |\n| 4 | 166.1480 |\n| 5 | 157.8173 |\n| 6 | 175.4029 |\n\n",
            "text/latex": "A data.frame: 6 × 1\n\\begin{tabular}{r|l}\n  & est\\\\\n  & <dbl>\\\\\n\\hline\n\t1 & 173.6849\\\\\n\t2 & 173.3077\\\\\n\t3 & 166.3099\\\\\n\t4 & 166.1480\\\\\n\t5 & 157.8173\\\\\n\t6 & 175.4029\\\\\n\\end{tabular}\n",
            "text/plain": [
              "  est     \n",
              "1 173.6849\n",
              "2 173.3077\n",
              "3 166.3099\n",
              "4 166.1480\n",
              "5 157.8173\n",
              "6 175.4029"
            ]
          },
          "metadata": {}
        }
      ]
    },
    {
      "cell_type": "code",
      "source": [
        "df %>%\n",
        "  ggplot() +\n",
        "  aes(x = est) +\n",
        "  geom_histogram(\n",
        "    bins = 20,\n",
        "    fill = \"white\",\n",
        "    color = \"black\",\n",
        "    mapping = aes(y = after_stat(density))\n",
        "  ) +\n",
        "  stat_function(\n",
        "    fun = dnorm,\n",
        "    args = list(mean = 171.8, sd = 5),\n",
        "    col = \"red\" # la densidad normal con los parametros reales\n",
        "  ) +\n",
        "  stat_function(\n",
        "    fun = dnorm,\n",
        "    args = list(mean = mean(df$est), sd = sd(df$est)),\n",
        "    col = \"blue\" # la densidad normal con los parametros reales\n",
        "  )"
      ],
      "metadata": {
        "id": "eXWvc3Shl7Ex",
        "outputId": "119ba26b-7124-404b-d71a-6e3815c5cc03",
        "colab": {
          "base_uri": "https://localhost:8080/",
          "height": 437
        }
      },
      "execution_count": 32,
      "outputs": [
        {
          "output_type": "display_data",
          "data": {
            "text/plain": [
              "plot without title"
            ],
            "image/png": "[encoded data removed]"
          },
          "metadata": {
            "image/png": {
              "width": 420,
              "height": 420
            }
          }
        }
      ]
    },
    {
      "cell_type": "markdown",
      "source": [
        "## Recordatorio (definición de funciones)\n",
        "\n",
        "```\n",
        "function(par1, par2, ...){\n",
        "    ...\n",
        "    return(...)\n",
        "}\n",
        "```"
      ],
      "metadata": {
        "id": "1WdREqOHVtY4"
      }
    },
    {
      "cell_type": "code",
      "source": [
        "suma <- function(a,b){\n",
        "  aux <- a+b\n",
        "  return(aux)\n",
        "}"
      ],
      "metadata": {
        "id": "IAIZ-3YYVs87"
      },
      "execution_count": 33,
      "outputs": []
    },
    {
      "cell_type": "code",
      "source": [
        "suma(8,10)"
      ],
      "metadata": {
        "id": "ZbrrovlKoKZV",
        "outputId": "39e58032-3b9a-4f16-9546-8343e9dc8b0e",
        "colab": {
          "base_uri": "https://localhost:8080/",
          "height": 34
        }
      },
      "execution_count": 34,
      "outputs": [
        {
          "output_type": "display_data",
          "data": {
            "text/html": [
              "18"
            ],
            "text/markdown": "18",
            "text/latex": "18",
            "text/plain": [
              "[1] 18"
            ]
          },
          "metadata": {}
        }
      ]
    },
    {
      "cell_type": "markdown",
      "source": [
        "# NOTA\n",
        "\n",
        "En R tambien podemos visualizar estimaciones de densidades sin un supuesto distribucional previo.\n",
        "\n",
        "Por ejemplo, una manera de estimar la densidad de una variable de forma no paramétrica, es a través destimación vía Kernels (solo para dar la referencia)."
      ],
      "metadata": {
        "id": "It44k1-7orN4"
      }
    },
    {
      "cell_type": "code",
      "source": [
        "df %>%\n",
        "  ggplot() +\n",
        "  aes(x = est) +\n",
        "  geom_histogram(\n",
        "    bins = 20,\n",
        "    fill = \"white\",\n",
        "    color = \"black\",\n",
        "    mapping = aes(y = after_stat(density))\n",
        "  ) +\n",
        "    geom_density(col = \"blue\")\n",
        "\n",
        "\n",
        "  df %>%\n",
        "  ggplot() +\n",
        "  aes(x = 1, y = est) +\n",
        "  geom_violin()\n",
        "\n",
        " df %>%\n",
        "  ggplot() +\n",
        "  aes( y = est) +\n",
        "  geom_boxplot()"
      ],
      "metadata": {
        "id": "v39a2riXoQLG",
        "outputId": "3b570c3a-990b-4bf9-8a86-eadae15fa9c8",
        "colab": {
          "base_uri": "https://localhost:8080/",
          "height": 1000
        }
      },
      "execution_count": 41,
      "outputs": [
        {
          "output_type": "display_data",
          "data": {
            "text/plain": [
              "plot without title"
            ],
            "image/png": "[encoded data removed]"
          },
          "metadata": {
            "image/png": {
              "width": 420,
              "height": 420
            }
          }
        },
        {
          "output_type": "display_data",
          "data": {
            "text/plain": [
              "plot without title"
            ],
            "image/png": "[encoded data removed]"
          },
          "metadata": {
            "image/png": {
              "width": 420,
              "height": 420
            }
          }
        },
        {
          "output_type": "display_data",
          "data": {
            "text/plain": [
              "plot without title"
            ],
            "image/png": "[encoded data removed]"
          },
          "metadata": {
            "image/png": {
              "width": 420,
              "height": 420
            }
          }
        }
      ]
    },
    {
      "cell_type": "markdown",
      "metadata": {
        "id": "fMwNisC-IzQX"
      },
      "source": [
        "# II)Distribucion binomial\n",
        "## Contexto\n",
        "Cuando una variable aleatoria representa la cantidad de éxitos en $n$ ensayos independientes de tipo Bernoulli (0 o 1), se dice que dicha variable sigue una distribución binomial.\n",
        "\n",
        "## Función de probabilidad\n",
        "\n",
        "\n",
        "$$p(x) = {n\\choose x}p^x(1-p)^{n-x}$$\n",
        "Donde $n$ es el total de ensayos realizados y $x$ es la cantidad de éxitos observados y $p$ es la probabilidad de éxito del evento de interés.\n",
        "\n",
        "## En R...\n",
        "\n",
        "* `dbinom(x, size, prob, log = FALSE)`: Evalúa la función de masa. En el caso discreto corresponde a la probabilidad del evento.\n",
        "* `pbinom(q, size, prob, lower.tail = TRUE, log.p = FALSE)`: Calcula la probabilidad acumulada.\n",
        "* `qbinom(p, size, prob, lower.tail = TRUE, log.p = FALSE)`: Retorna cuantiles de la distribución.\n",
        "* `rbinom(n, size, prob)`: Genera muestras aleatorias.\n",
        "\n",
        "**P2.** Suponga que un spot publicitario de un artículo tiene una tasa de efectividad de 20% sobre una determinada población.\n",
        "\n",
        "**a)** Suponga que se logra llegar con el spot a 100 personas. ¿Cuál es la probabilidad de que\n",
        " al menos 30  personas compren el artículo ofrecido?"
      ]
    },
    {
      "cell_type": "code",
      "metadata": {
        "trusted": true,
        "id": "MOm-FppMIzQX",
        "outputId": "e4a13cbb-7f11-4078-a05d-cd88fcaff3fb",
        "colab": {
          "base_uri": "https://localhost:8080/",
          "height": 34
        }
      },
      "source": [
        "# Identifiquemos algunos elementos como\n",
        "# Experimento : Hacer llegar el spot a las 100 personas y registrar el número de clientes que efectivamente compraron el artículo.\n",
        "# Variable aleatoria : X: \"el número de clientes (de los 100) que compraron el artículo\"\n",
        "# Espacio muestral : {0,1,2,...,100}\n",
        "#-------parámetros de pbinom ---------\n",
        "#size (n): 100\n",
        "#prob (p): 0.2\n",
        "\n",
        "\n",
        "#P(X >= 30) = 1 - P(X < 30) = 1-P(X <= 29)\n",
        "\n",
        "1-pbinom(29, size = 100, prob = 0.2) # 1.1% de prob de que 30  o más personas compren .\n",
        "\n",
        "\n"
      ],
      "execution_count": 42,
      "outputs": [
        {
          "output_type": "display_data",
          "data": {
            "text/html": [
              "0.0112489787209917"
            ],
            "text/markdown": "0.0112489787209917",
            "text/latex": "0.0112489787209917",
            "text/plain": [
              "[1] 0.01124898"
            ]
          },
          "metadata": {}
        }
      ]
    },
    {
      "cell_type": "code",
      "metadata": {
        "trusted": true,
        "id": "hNMwMfgAIzQX",
        "outputId": "8d8a9c69-4230-45c8-cc71-578c8de7dbec",
        "colab": {
          "base_uri": "https://localhost:8080/",
          "height": 52
        }
      },
      "source": [
        "# ¿Cuál es la probabilidad de que exactamente 30 personas compren el artículo ofrecido?\n",
        "dbinom(30, size = 100, prob = 0.2)# 0.5% de prob de que 30 compren.\n",
        "\n",
        "# choose(100,30)*0.2^30*(1-0.2)^(100-30)\n",
        "\n"
      ],
      "execution_count": 47,
      "outputs": [
        {
          "output_type": "display_data",
          "data": {
            "text/html": [
              "0.00518964323994865"
            ],
            "text/markdown": "0.00518964323994865",
            "text/latex": "0.00518964323994865",
            "text/plain": [
              "[1] 0.005189643"
            ]
          },
          "metadata": {}
        },
        {
          "output_type": "display_data",
          "data": {
            "text/html": [
              "0.00518964323994867"
            ],
            "text/markdown": "0.00518964323994867",
            "text/latex": "0.00518964323994867",
            "text/plain": [
              "[1] 0.005189643"
            ]
          },
          "metadata": {}
        }
      ]
    },
    {
      "cell_type": "code",
      "source": [
        "# usando pbinom (calculando robs acumuladas), podemos calcular lo anterior?\n",
        "pbinom(30, size = 100, prob = 0.2) - pbinom(29, size = 100, prob = 0.2)"
      ],
      "metadata": {
        "id": "dQa6RVLi1y5L",
        "outputId": "a6ae5a6b-5afe-498b-ab67-71691c75a492",
        "colab": {
          "base_uri": "https://localhost:8080/",
          "height": 34
        }
      },
      "execution_count": 48,
      "outputs": [
        {
          "output_type": "display_data",
          "data": {
            "text/html": [
              "0.00518964323994875"
            ],
            "text/markdown": "0.00518964323994875",
            "text/latex": "0.00518964323994875",
            "text/plain": [
              "[1] 0.005189643"
            ]
          },
          "metadata": {}
        }
      ]
    },
    {
      "cell_type": "markdown",
      "metadata": {
        "id": "cNebkKaeIzQX"
      },
      "source": [
        "**P3.** En una localidad se sabe que el 70% de las casas tienen un televisor.  Se quiere realizar una encuesta a 8 casas ¿cuál es la probabilidad de que 6 o más de ellas tengan televisor?"
      ]
    },
    {
      "cell_type": "code",
      "metadata": {
        "trusted": true,
        "id": "nb9XiMpSIzQX",
        "outputId": "dc8e2b40-6c5a-45e5-b959-91fce2c99180",
        "colab": {
          "base_uri": "https://localhost:8080/",
          "height": 34
        }
      },
      "source": [
        "# size = 8\n",
        "# prob = 0.7\n",
        "# P(X >= 6) = 1-P(X < 6) = 1-P( X <= 5)\n",
        "\n",
        "1-pbinom(5 ,size = 8, prob = 0.7)# Hay un 55% de prob de que 6 o más casas tengan TV."
      ],
      "execution_count": 49,
      "outputs": [
        {
          "output_type": "display_data",
          "data": {
            "text/html": [
              "0.55177381"
            ],
            "text/markdown": "0.55177381",
            "text/latex": "0.55177381",
            "text/plain": [
              "[1] 0.5517738"
            ]
          },
          "metadata": {}
        }
      ]
    },
    {
      "cell_type": "markdown",
      "metadata": {
        "id": "9SSV-KEkIzQX"
      },
      "source": [
        "## Lanzando una moneda\n",
        "**P4** Supongamos que una **honesta** se lanza 14 veces y se anota el número veces que se obtuvo cara.\n",
        "\n",
        "**a)** ¿Cuál es la probabilidad de obtener exactamente 4 caras? ¿y al menos 10?"
      ]
    },
    {
      "cell_type": "code",
      "metadata": {
        "trusted": true,
        "id": "MyXXdYQ8IzQX"
      },
      "source": [
        "#size = n = 14, y prob = p = 0.5 ?\n",
        "\n"
      ],
      "execution_count": null,
      "outputs": []
    },
    {
      "cell_type": "code",
      "source": [
        "# P(X >= 10)\n"
      ],
      "metadata": {
        "id": "R--JQSTujOzg"
      },
      "execution_count": null,
      "outputs": []
    },
    {
      "cell_type": "markdown",
      "metadata": {
        "id": "AlXH-gaYIzQY"
      },
      "source": [
        "  \n",
        "**b)** Si se repite el experimento 5000 veces.\n",
        "\n",
        "\n",
        "*   ¿Qué proporción de caras se debería esperar?¿y si se repite más veces?\n",
        "*   ¿En qué % de casos se obtuvo exactamente 4 caras? ¿ y si se repite más veces?\n",
        "\n",
        "\n",
        " Utillice la función rbinom para simular el experimento 100 veces."
      ]
    },
    {
      "cell_type": "code",
      "metadata": {
        "trusted": true,
        "id": "bVAWrKGZIzQY"
      },
      "source": [
        "# simulamos un experimento binomial\n",
        "set.seed(2024)\n",
        "N <- 5000\n",
        "\n",
        "lanzamientos <- rbinom(n = N, size = 14, prob = 0.5)\n",
        "\n",
        "\n"
      ],
      "execution_count": 56,
      "outputs": []
    },
    {
      "cell_type": "code",
      "source": [
        "lanzamientos"
      ],
      "metadata": {
        "id": "wlx4YB0pon7z",
        "outputId": "d319ae87-1e49-44f5-e4ee-92b2bc05501b",
        "colab": {
          "base_uri": "https://localhost:8080/",
          "height": 139
        }
      },
      "execution_count": 51,
      "outputs": [
        {
          "output_type": "display_data",
          "data": {
            "text/html": [
              "<style>\n",
              ".list-inline {list-style: none; margin:0; padding: 0}\n",
              ".list-inline>li {display: inline-block}\n",
              ".list-inline>li:not(:last-child)::after {content: \"\\00b7\"; padding: 0 .5ex}\n",
              "</style>\n",
              "<ol class=list-inline><li>9</li><li>6</li><li>8</li><li>8</li><li>7</li><li>8</li><li>7</li><li>6</li><li>9</li><li>5</li><li>9</li><li>10</li><li>8</li><li>7</li><li>7</li><li>9</li><li>5</li><li>9</li><li>5</li><li>6</li><li>4</li><li>5</li><li>8</li><li>9</li><li>9</li><li>6</li><li>8</li><li>9</li><li>1</li><li>3</li><li>7</li><li>6</li><li>5</li><li>11</li><li>8</li><li>8</li><li>4</li><li>10</li><li>3</li><li>8</li><li>9</li><li>10</li><li>8</li><li>6</li><li>9</li><li>7</li><li>7</li><li>6</li><li>8</li><li>8</li><li>4</li><li>8</li><li>7</li><li>7</li><li>8</li><li>8</li><li>3</li><li>5</li><li>7</li><li>6</li><li>4</li><li>7</li><li>6</li><li>8</li><li>6</li><li>9</li><li>9</li><li>8</li><li>6</li><li>6</li><li>8</li><li>5</li><li>8</li><li>7</li><li>6</li><li>8</li><li>6</li><li>4</li><li>8</li><li>6</li><li>5</li><li>6</li><li>7</li><li>3</li><li>8</li><li>7</li><li>11</li><li>6</li><li>5</li><li>9</li><li>7</li><li>9</li><li>8</li><li>4</li><li>8</li><li>5</li><li>8</li><li>7</li><li>11</li><li>7</li><li>6</li><li>8</li><li>6</li><li>7</li><li>6</li><li>9</li><li>5</li><li>4</li><li>6</li><li>9</li><li>4</li><li>8</li><li>9</li><li>4</li><li>7</li><li>9</li><li>9</li><li>5</li><li>7</li><li>6</li><li>10</li><li>4</li><li>9</li><li>5</li><li>8</li><li>3</li><li>7</li><li>9</li><li>10</li><li>12</li><li>7</li><li>3</li><li>3</li><li>7</li><li>8</li><li>8</li><li>8</li><li>5</li><li>3</li><li>7</li><li>9</li><li>6</li><li>5</li><li>7</li><li>8</li><li>12</li><li>7</li><li>6</li><li>7</li><li>6</li><li>6</li><li>7</li><li>10</li><li>5</li><li>8</li><li>7</li><li>5</li><li>3</li><li>7</li><li>5</li><li>5</li><li>8</li><li>9</li><li>5</li><li>9</li><li>9</li><li>4</li><li>8</li><li>7</li><li>6</li><li>9</li><li>8</li><li>7</li><li>9</li><li>7</li><li>8</li><li>7</li><li>3</li><li>9</li><li>7</li><li>5</li><li>10</li><li>6</li><li>8</li><li>6</li><li>12</li><li>8</li><li>8</li><li>8</li><li>5</li><li>3</li><li>3</li><li>5</li><li>4</li><li>5</li><li>4</li><li>7</li><li>7</li><li>9</li><li>10</li><li>⋯</li><li>6</li><li>6</li><li>8</li><li>9</li><li>5</li><li>10</li><li>7</li><li>8</li><li>5</li><li>5</li><li>9</li><li>5</li><li>7</li><li>6</li><li>7</li><li>8</li><li>6</li><li>5</li><li>10</li><li>9</li><li>8</li><li>8</li><li>8</li><li>2</li><li>9</li><li>9</li><li>8</li><li>5</li><li>8</li><li>8</li><li>8</li><li>7</li><li>9</li><li>5</li><li>6</li><li>7</li><li>8</li><li>7</li><li>6</li><li>3</li><li>6</li><li>5</li><li>8</li><li>8</li><li>6</li><li>10</li><li>7</li><li>6</li><li>7</li><li>6</li><li>7</li><li>3</li><li>7</li><li>3</li><li>8</li><li>4</li><li>9</li><li>7</li><li>7</li><li>5</li><li>6</li><li>6</li><li>8</li><li>4</li><li>9</li><li>7</li><li>8</li><li>10</li><li>5</li><li>7</li><li>8</li><li>1</li><li>9</li><li>6</li><li>11</li><li>9</li><li>3</li><li>10</li><li>4</li><li>7</li><li>6</li><li>10</li><li>10</li><li>8</li><li>8</li><li>6</li><li>6</li><li>9</li><li>5</li><li>5</li><li>4</li><li>7</li><li>3</li><li>8</li><li>6</li><li>3</li><li>7</li><li>7</li><li>8</li><li>7</li><li>5</li><li>8</li><li>8</li><li>9</li><li>7</li><li>7</li><li>6</li><li>8</li><li>12</li><li>6</li><li>9</li><li>7</li><li>6</li><li>7</li><li>7</li><li>8</li><li>9</li><li>6</li><li>7</li><li>8</li><li>4</li><li>5</li><li>6</li><li>6</li><li>5</li><li>10</li><li>6</li><li>9</li><li>9</li><li>6</li><li>8</li><li>9</li><li>6</li><li>10</li><li>7</li><li>7</li><li>8</li><li>6</li><li>4</li><li>4</li><li>8</li><li>7</li><li>7</li><li>7</li><li>9</li><li>7</li><li>10</li><li>7</li><li>7</li><li>6</li><li>8</li><li>6</li><li>7</li><li>3</li><li>6</li><li>6</li><li>5</li><li>5</li><li>6</li><li>7</li><li>9</li><li>7</li><li>7</li><li>8</li><li>9</li><li>7</li><li>6</li><li>9</li><li>7</li><li>7</li><li>9</li><li>4</li><li>7</li><li>9</li><li>9</li><li>8</li><li>9</li><li>6</li><li>7</li><li>8</li><li>6</li><li>3</li><li>9</li><li>9</li><li>8</li><li>8</li><li>6</li><li>9</li><li>8</li><li>8</li><li>7</li><li>11</li><li>6</li><li>5</li><li>11</li><li>4</li><li>9</li><li>8</li><li>5</li><li>6</li></ol>\n"
            ],
            "text/markdown": "1. 9\n2. 6\n3. 8\n4. 8\n5. 7\n6. 8\n7. 7\n8. 6\n9. 9\n10. 5\n11. 9\n12. 10\n13. 8\n14. 7\n15. 7\n16. 9\n17. 5\n18. 9\n19. 5\n20. 6\n21. 4\n22. 5\n23. 8\n24. 9\n25. 9\n26. 6\n27. 8\n28. 9\n29. 1\n30. 3\n31. 7\n32. 6\n33. 5\n34. 11\n35. 8\n36. 8\n37. 4\n38. 10\n39. 3\n40. 8\n41. 9\n42. 10\n43. 8\n44. 6\n45. 9\n46. 7\n47. 7\n48. 6\n49. 8\n50. 8\n51. 4\n52. 8\n53. 7\n54. 7\n55. 8\n56. 8\n57. 3\n58. 5\n59. 7\n60. 6\n61. 4\n62. 7\n63. 6\n64. 8\n65. 6\n66. 9\n67. 9\n68. 8\n69. 6\n70. 6\n71. 8\n72. 5\n73. 8\n74. 7\n75. 6\n76. 8\n77. 6\n78. 4\n79. 8\n80. 6\n81. 5\n82. 6\n83. 7\n84. 3\n85. 8\n86. 7\n87. 11\n88. 6\n89. 5\n90. 9\n91. 7\n92. 9\n93. 8\n94. 4\n95. 8\n96. 5\n97. 8\n98. 7\n99. 11\n100. 7\n101. 6\n102. 8\n103. 6\n104. 7\n105. 6\n106. 9\n107. 5\n108. 4\n109. 6\n110. 9\n111. 4\n112. 8\n113. 9\n114. 4\n115. 7\n116. 9\n117. 9\n118. 5\n119. 7\n120. 6\n121. 10\n122. 4\n123. 9\n124. 5\n125. 8\n126. 3\n127. 7\n128. 9\n129. 10\n130. 12\n131. 7\n132. 3\n133. 3\n134. 7\n135. 8\n136. 8\n137. 8\n138. 5\n139. 3\n140. 7\n141. 9\n142. 6\n143. 5\n144. 7\n145. 8\n146. 12\n147. 7\n148. 6\n149. 7\n150. 6\n151. 6\n152. 7\n153. 10\n154. 5\n155. 8\n156. 7\n157. 5\n158. 3\n159. 7\n160. 5\n161. 5\n162. 8\n163. 9\n164. 5\n165. 9\n166. 9\n167. 4\n168. 8\n169. 7\n170. 6\n171. 9\n172. 8\n173. 7\n174. 9\n175. 7\n176. 8\n177. 7\n178. 3\n179. 9\n180. 7\n181. 5\n182. 10\n183. 6\n184. 8\n185. 6\n186. 12\n187. 8\n188. 8\n189. 8\n190. 5\n191. 3\n192. 3\n193. 5\n194. 4\n195. 5\n196. 4\n197. 7\n198. 7\n199. 9\n200. 10\n201. ⋯\n202. 6\n203. 6\n204. 8\n205. 9\n206. 5\n207. 10\n208. 7\n209. 8\n210. 5\n211. 5\n212. 9\n213. 5\n214. 7\n215. 6\n216. 7\n217. 8\n218. 6\n219. 5\n220. 10\n221. 9\n222. 8\n223. 8\n224. 8\n225. 2\n226. 9\n227. 9\n228. 8\n229. 5\n230. 8\n231. 8\n232. 8\n233. 7\n234. 9\n235. 5\n236. 6\n237. 7\n238. 8\n239. 7\n240. 6\n241. 3\n242. 6\n243. 5\n244. 8\n245. 8\n246. 6\n247. 10\n248. 7\n249. 6\n250. 7\n251. 6\n252. 7\n253. 3\n254. 7\n255. 3\n256. 8\n257. 4\n258. 9\n259. 7\n260. 7\n261. 5\n262. 6\n263. 6\n264. 8\n265. 4\n266. 9\n267. 7\n268. 8\n269. 10\n270. 5\n271. 7\n272. 8\n273. 1\n274. 9\n275. 6\n276. 11\n277. 9\n278. 3\n279. 10\n280. 4\n281. 7\n282. 6\n283. 10\n284. 10\n285. 8\n286. 8\n287. 6\n288. 6\n289. 9\n290. 5\n291. 5\n292. 4\n293. 7\n294. 3\n295. 8\n296. 6\n297. 3\n298. 7\n299. 7\n300. 8\n301. 7\n302. 5\n303. 8\n304. 8\n305. 9\n306. 7\n307. 7\n308. 6\n309. 8\n310. 12\n311. 6\n312. 9\n313. 7\n314. 6\n315. 7\n316. 7\n317. 8\n318. 9\n319. 6\n320. 7\n321. 8\n322. 4\n323. 5\n324. 6\n325. 6\n326. 5\n327. 10\n328. 6\n329. 9\n330. 9\n331. 6\n332. 8\n333. 9\n334. 6\n335. 10\n336. 7\n337. 7\n338. 8\n339. 6\n340. 4\n341. 4\n342. 8\n343. 7\n344. 7\n345. 7\n346. 9\n347. 7\n348. 10\n349. 7\n350. 7\n351. 6\n352. 8\n353. 6\n354. 7\n355. 3\n356. 6\n357. 6\n358. 5\n359. 5\n360. 6\n361. 7\n362. 9\n363. 7\n364. 7\n365. 8\n366. 9\n367. 7\n368. 6\n369. 9\n370. 7\n371. 7\n372. 9\n373. 4\n374. 7\n375. 9\n376. 9\n377. 8\n378. 9\n379. 6\n380. 7\n381. 8\n382. 6\n383. 3\n384. 9\n385. 9\n386. 8\n387. 8\n388. 6\n389. 9\n390. 8\n391. 8\n392. 7\n393. 11\n394. 6\n395. 5\n396. 11\n397. 4\n398. 9\n399. 8\n400. 5\n401. 6\n\n\n",
            "text/latex": "\\begin{enumerate*}\n\\item 9\n\\item 6\n\\item 8\n\\item 8\n\\item 7\n\\item 8\n\\item 7\n\\item 6\n\\item 9\n\\item 5\n\\item 9\n\\item 10\n\\item 8\n\\item 7\n\\item 7\n\\item 9\n\\item 5\n\\item 9\n\\item 5\n\\item 6\n\\item 4\n\\item 5\n\\item 8\n\\item 9\n\\item 9\n\\item 6\n\\item 8\n\\item 9\n\\item 1\n\\item 3\n\\item 7\n\\item 6\n\\item 5\n\\item 11\n\\item 8\n\\item 8\n\\item 4\n\\item 10\n\\item 3\n\\item 8\n\\item 9\n\\item 10\n\\item 8\n\\item 6\n\\item 9\n\\item 7\n\\item 7\n\\item 6\n\\item 8\n\\item 8\n\\item 4\n\\item 8\n\\item 7\n\\item 7\n\\item 8\n\\item 8\n\\item 3\n\\item 5\n\\item 7\n\\item 6\n\\item 4\n\\item 7\n\\item 6\n\\item 8\n\\item 6\n\\item 9\n\\item 9\n\\item 8\n\\item 6\n\\item 6\n\\item 8\n\\item 5\n\\item 8\n\\item 7\n\\item 6\n\\item 8\n\\item 6\n\\item 4\n\\item 8\n\\item 6\n\\item 5\n\\item 6\n\\item 7\n\\item 3\n\\item 8\n\\item 7\n\\item 11\n\\item 6\n\\item 5\n\\item 9\n\\item 7\n\\item 9\n\\item 8\n\\item 4\n\\item 8\n\\item 5\n\\item 8\n\\item 7\n\\item 11\n\\item 7\n\\item 6\n\\item 8\n\\item 6\n\\item 7\n\\item 6\n\\item 9\n\\item 5\n\\item 4\n\\item 6\n\\item 9\n\\item 4\n\\item 8\n\\item 9\n\\item 4\n\\item 7\n\\item 9\n\\item 9\n\\item 5\n\\item 7\n\\item 6\n\\item 10\n\\item 4\n\\item 9\n\\item 5\n\\item 8\n\\item 3\n\\item 7\n\\item 9\n\\item 10\n\\item 12\n\\item 7\n\\item 3\n\\item 3\n\\item 7\n\\item 8\n\\item 8\n\\item 8\n\\item 5\n\\item 3\n\\item 7\n\\item 9\n\\item 6\n\\item 5\n\\item 7\n\\item 8\n\\item 12\n\\item 7\n\\item 6\n\\item 7\n\\item 6\n\\item 6\n\\item 7\n\\item 10\n\\item 5\n\\item 8\n\\item 7\n\\item 5\n\\item 3\n\\item 7\n\\item 5\n\\item 5\n\\item 8\n\\item 9\n\\item 5\n\\item 9\n\\item 9\n\\item 4\n\\item 8\n\\item 7\n\\item 6\n\\item 9\n\\item 8\n\\item 7\n\\item 9\n\\item 7\n\\item 8\n\\item 7\n\\item 3\n\\item 9\n\\item 7\n\\item 5\n\\item 10\n\\item 6\n\\item 8\n\\item 6\n\\item 12\n\\item 8\n\\item 8\n\\item 8\n\\item 5\n\\item 3\n\\item 3\n\\item 5\n\\item 4\n\\item 5\n\\item 4\n\\item 7\n\\item 7\n\\item 9\n\\item 10\n\\item ⋯\n\\item 6\n\\item 6\n\\item 8\n\\item 9\n\\item 5\n\\item 10\n\\item 7\n\\item 8\n\\item 5\n\\item 5\n\\item 9\n\\item 5\n\\item 7\n\\item 6\n\\item 7\n\\item 8\n\\item 6\n\\item 5\n\\item 10\n\\item 9\n\\item 8\n\\item 8\n\\item 8\n\\item 2\n\\item 9\n\\item 9\n\\item 8\n\\item 5\n\\item 8\n\\item 8\n\\item 8\n\\item 7\n\\item 9\n\\item 5\n\\item 6\n\\item 7\n\\item 8\n\\item 7\n\\item 6\n\\item 3\n\\item 6\n\\item 5\n\\item 8\n\\item 8\n\\item 6\n\\item 10\n\\item 7\n\\item 6\n\\item 7\n\\item 6\n\\item 7\n\\item 3\n\\item 7\n\\item 3\n\\item 8\n\\item 4\n\\item 9\n\\item 7\n\\item 7\n\\item 5\n\\item 6\n\\item 6\n\\item 8\n\\item 4\n\\item 9\n\\item 7\n\\item 8\n\\item 10\n\\item 5\n\\item 7\n\\item 8\n\\item 1\n\\item 9\n\\item 6\n\\item 11\n\\item 9\n\\item 3\n\\item 10\n\\item 4\n\\item 7\n\\item 6\n\\item 10\n\\item 10\n\\item 8\n\\item 8\n\\item 6\n\\item 6\n\\item 9\n\\item 5\n\\item 5\n\\item 4\n\\item 7\n\\item 3\n\\item 8\n\\item 6\n\\item 3\n\\item 7\n\\item 7\n\\item 8\n\\item 7\n\\item 5\n\\item 8\n\\item 8\n\\item 9\n\\item 7\n\\item 7\n\\item 6\n\\item 8\n\\item 12\n\\item 6\n\\item 9\n\\item 7\n\\item 6\n\\item 7\n\\item 7\n\\item 8\n\\item 9\n\\item 6\n\\item 7\n\\item 8\n\\item 4\n\\item 5\n\\item 6\n\\item 6\n\\item 5\n\\item 10\n\\item 6\n\\item 9\n\\item 9\n\\item 6\n\\item 8\n\\item 9\n\\item 6\n\\item 10\n\\item 7\n\\item 7\n\\item 8\n\\item 6\n\\item 4\n\\item 4\n\\item 8\n\\item 7\n\\item 7\n\\item 7\n\\item 9\n\\item 7\n\\item 10\n\\item 7\n\\item 7\n\\item 6\n\\item 8\n\\item 6\n\\item 7\n\\item 3\n\\item 6\n\\item 6\n\\item 5\n\\item 5\n\\item 6\n\\item 7\n\\item 9\n\\item 7\n\\item 7\n\\item 8\n\\item 9\n\\item 7\n\\item 6\n\\item 9\n\\item 7\n\\item 7\n\\item 9\n\\item 4\n\\item 7\n\\item 9\n\\item 9\n\\item 8\n\\item 9\n\\item 6\n\\item 7\n\\item 8\n\\item 6\n\\item 3\n\\item 9\n\\item 9\n\\item 8\n\\item 8\n\\item 6\n\\item 9\n\\item 8\n\\item 8\n\\item 7\n\\item 11\n\\item 6\n\\item 5\n\\item 11\n\\item 4\n\\item 9\n\\item 8\n\\item 5\n\\item 6\n\\end{enumerate*}\n",
            "text/plain": [
              "   [1]  9  6  8  8  7  8  7  6  9  5  9 10  8  7  7  9  5  9  5  6  4  5  8  9\n",
              "  [25]  9  6  8  9  1  3  7  6  5 11  8  8  4 10  3  8  9 10  8  6  9  7  7  6\n",
              "  [49]  8  8  4  8  7  7  8  8  3  5  7  6  4  7  6  8  6  9  9  8  6  6  8  5\n",
              "  [73]  8  7  6  8  6  4  8  6  5  6  7  3  8  7 11  6  5  9  7  9  8  4  8  5\n",
              "  [97]  8  7 11  7  6  8  6  7  6  9  5  4  6  9  4  8  9  4  7  9  9  5  7  6\n",
              " [121] 10  4  9  5  8  3  7  9 10 12  7  3  3  7  8  8  8  5  3  7  9  6  5  7\n",
              " [145]  8 12  7  6  7  6  6  7 10  5  8  7  5  3  7  5  5  8  9  5  9  9  4  8\n",
              " [169]  7  6  9  8  7  9  7  8  7  3  9  7  5 10  6  8  6 12  8  8  8  5  3  3\n",
              " [193]  5  4  5  4  7  7  9 10 11  4  8  5  9  4  7  7  5  9  8  9  7  7  9  7\n",
              " [217]  6  9  5  5  5  7  9  7  6  9  7 10  6  7  4  5 11  6  8 10  7  5  9 10\n",
              " [241]  7  4  6  7  5  5  7  9  6  9  7  5  5  7  5  7  6  6  8  2  5  4  7  8\n",
              " [265]  6  7  7  5 10 11  5  4  5  4  8  7  8  5  6 11  8  7  5  7  6  6 10 11\n",
              " [289]  9  4  8  9 10  8  7  6  9  8  9  5  5  8  7  8 11  5  9  7  6  9  2  6\n",
              " [313]  8  6  6  4  6 11  8  4 10  8  7 10  7  6 10 10  6  5  6 11  7  8  4  7\n",
              " [337]  9  9 11 10  6  7  9 10  6  7  7  6  8  7  9  7  9  8  7  6  8  9  6  8\n",
              " [361]  8  4  7  8  8  9  6  7  6  8  8 10  9  3  6  8  6  4  8  5  6  6  5  8\n",
              " [385]  8  7  9  8  9  6  8  5  9  5  8  9 11  9  4  8  7  9  8 11  6  4  7  7\n",
              " [409]  9  8  5  7  6  7  7  9  9  7  8  4  6 11  8  9  6 11  2  6  8 11  8  6\n",
              " [433]  8  8  8 10  6 10  9  7  6  7 10  6  7  9  7  7  7  5  7  8  7  6  8  7\n",
              " [457]  7  8  8  9 10  6  8  6  7  6  6  8  7  3  7  4  7  6  6  6  7  8  5  9\n",
              " [481]  7  8  9  6 10  5  9  7  5  7 10 10  6  9  7  9  5  9  7  9 10  7  7  6\n",
              " [505]  9  4  6  7  8  9  4  4  7  9  7  5  8  7  5 10  7  9  6 10  8  8  6  7\n",
              " [529]  2  6  8  9  6  8  8  4  8  6  9  7  9  7  7  8  5  8  5  5  8  8  7  7\n",
              " [553]  6  9  4  7  5  8  7  9  8  7  7  8 10  4  7  5  8  9  6  7  6  3  7  6\n",
              " [577]  9  5 12  9  6  3  9  6 10  8  6  7  8  8  8  2  9  9  5 10  5  8  7  8\n",
              " [601]  8  9  6  8  6  8  9  6 10  9  8  8  7  7  8 11  7  6  9  8  8  7  5  4\n",
              " [625]  4  9  5  8 12  7  6 10  7  6  7  9  9  7  6  6  5  5  7  7  8  5  6  8\n",
              " [649] 12  7  7  4  5  7  8  9  3  8  6  8  7  8  6  7  9  4  6  7  9  5  4  8\n",
              " [673] 10  7  3  6  7  7  8  9  6  8  4  7  8  7  7  6  8  4 10  6  5  7  8  5\n",
              " [697]  5 10  9  4  6  7  8  5  8  4  6  6  3  6  6  9  8  7  9  5  9  6  5  8\n",
              " [721]  7  6  8 11  6  5  6  8  8  8  6  5  7  9  7  4  8  7  6  5 10  5  6  7\n",
              " [745]  6  8  7  7  7  8  7  7  7  4  6  7 11  4  5  8  7  8  7  7  7 11  7  7\n",
              " [769] 10  7  8  4  4  3  9  7  7  7  9 10  7 10  8  5  9  6  5  8 10  5  8  7\n",
              " [793]  6  6  7  8  4  6  7  5 11  5  8  6  7  7  5  7  9  5  3  6  7  7  7  7\n",
              " [817]  8  7  8  6 10  7  7  6  9  6  8  5  8  5  7  7  5  6  5  6  4  7  8  7\n",
              " [841]  4  6 10  9  7  8  6  6  9  8  6  5 10  6  4  8  9  7 10  9 11  9 10  6\n",
              " [865]  9  8  5  7  9  7  9 10  4  6  5  8  6  6  7  8  6  9 10  7  7  7  6  8\n",
              " [889]  8  7  6  7  5  9  6  6  7  7  6  7  5  7  9  7  5  8  3  7  8  8  9  3\n",
              " [913]  8  6  8  7  5  4  9  3  8  9  8  5  8  7  9  9  4  7  7  3  7  8  9  5\n",
              " [937] 10  6  6  7  8  5  7  6  6  6  7  6  7  6  7  7  7  3  6  7  6  6  8  7\n",
              " [961]  8 11  6  9  6  7  8  8  5  4  8 11  7  9  7  8  6  6  9 10  7  9  7  8\n",
              " [985]  8  7  7  4  5  8  7  8  6  8  9  7  4  8  8  8  8  6  6  8  8  6  7  8\n",
              "[1009] 11  6  5  7  3  6 10  8  7  8  5  8  7  6  8  6  5  6  9  8  6  5  5  7\n",
              "[1033]  6  7  6  7  7  5  3  5  5  9  6  6  6  7  3  9  6  9 10  9  5  9  8  5\n",
              "[1057]  8  8  8  8  5  8  5  5  7  8  8  5  7 10 11  9  7  6  5  9  4  5  7  9\n",
              "[1081]  5  9  6  7  8  8  5 10  6  7 10  8  8  8  6  5  6  4  7  7  8 10  8  7\n",
              "[1105]  8  3  7  8  7  6  7  5  4  5 10  6  6  7  8  7 10  7 11  6  6  9  7  7\n",
              "[1129]  4  5  7 10  7  4  8  9  7  5  4  8  5  8  5 10  9  8  4  8  9 10 10  6\n",
              "[1153]  6 11  7  8  9  6  4  7  5  7  9  7  4 10  5  8  8  7  7  9  7  7  5  8\n",
              "[1177] 10  6 10  8  7  8  5  6  4  6  8  7  6  3  6  6  6  6 10  4  8  7  6  7\n",
              "[1201]  2  4  9  8  8  9  7  8  7 10  5  9  7  7  3  6  7  7  6 10  5  4  9  8\n",
              "[1225]  6  7 10  7  8  9  5  5  9  5 11  8  7  6  7  7  9  5  5  7  6  7  6  6\n",
              "[1249]  7  6  9  7  6  4  5  8  7  9  7  6  4  7  5  6  4  8  6  5  5 10  9  8\n",
              "[1273]  5  8  8  5  7  8 10  7  6  6  6  6  8  9  8 10  7  9  5  8  5  7 11 10\n",
              "[1297]  6  7  3  6  9  6  5  9  6  7  6  7  8  6  9  8  6  8  6  8  7 10  7  7\n",
              "[1321]  8  6  6  3  7  7  9  7  4  5  8  8  6  7  9  7  7  5  6  2  8  4  7  7\n",
              "[1345]  7  5  6  4  6  8  5  8  7  6  7 10  8  5  4  6  7  8  8 10  8 10 12  6\n",
              "[1369]  8  6  7  3  8  7  7  9  6  5  5 10  6  6  7 10  9  4  9  4  8  7  5  5\n",
              "[1393]  6  7 10  9 10  4  4  8  5  6  9  8  7  8  5  7  6  8  5  7  7  7  6  6\n",
              "[1417]  8  8  8  6  6  7  6  8  7  7  8  5 10  6  6  7  7  5 10  5  8  8  7  7\n",
              "[1441]  9  5  5  7  6  7  7  4  5  8  9  8  9  6  9  9  9  5  7  4  5 12  9  8\n",
              "[1465]  5  8  7  5  4  5  6  9  9  7  8  7 10  7  5  5  7  8  5  7  9  7  6  9\n",
              "[1489]  5  5  7  8  7  7  6  4  9  9  6  6  7  5  8  7 11  9  7  4  9  8  6  2\n",
              "[1513]  7  5  7 10  5  9 11  8  5  6  7  9  4  7  7 10  3  8  6  9  6  8  8  9\n",
              "[1537]  2  6  6  5  6  9  8  8  6  8  7  7  6  8  9  8  5  8  5  7  8  8  8  7\n",
              "[1561]  7  8 10 12  7 10  6 10  8  8  5  8  4  9  7 10  8 10  6  8  8  9  6  7\n",
              "[1585] 10  8  8  5  5  9 12  5  9  6  9  7  5  2  9  6  7 11  7  8  9  9  6  5\n",
              "[1609]  5 10  9  7  5  7  6  7  7  4 10  8  6  6  9 11  7 10  5 10  7  5  7  7\n",
              "[1633]  8  7  5  8  6  7  7  9  5  6  6  7  7  4  8  5  6  9  9  6  6  8  7  8\n",
              "[1657]  5  7  5  7  7  6  5  5  7  4  9  6  5  7  8  4  6  8  5  5  9  6  5  9\n",
              "[1681]  4  7 11  8 11  6  4  5  9  5 10  6  9  3  8  8 11 11  5 10  8 11  7  6\n",
              "[1705] 10  6  6  7  4  5  8  5 10  6  6  7  6  6  6  6  5  8  4  6  6  2  7  7\n",
              "[1729]  8  6  6  6  9 10  7  9  6  4  7  6  9  6  8  7  7  3  5  8 10  5 11 10\n",
              "[1753]  6 11  7  5  7  8  6  7  9  7  3  8  6  5  7  4  8  7  8  8  8  6 10  6\n",
              "[1777]  8  7  9 10  6 12 10  8  6 10  5  6  9  6  4  6  7  9 11  7  9  4  7  7\n",
              "[1801]  8  9  6  6  4  6  7  4  9  8  7  7  6  6  7  6  7  9 11  6  7  8  7  7\n",
              "[1825]  5  7  8  6  7  8  6  7  8  8  7  6  7  5  8  9  7  9  8  7  9  6  7  7\n",
              "[1849]  6  4  6 12  4  4  9 12  9  4 10  7  6  4  9  7  5  9  9  8 11  7  7 10\n",
              "[1873] 10  5  7  7  5  7  6  8  5  6  9  7  5  6  6  9  8  3  9  6  7  3  8  8\n",
              "[1897]  5  7  8  6 10  9 10  5  3  5  8  4  6  7  4  7  8  8  7  7  7  7  9  7\n",
              "[1921]  9  4  5  9  8  7  3  9  6 10  6  9  6  5  8  7  4  6  4  8  9  4  6  6\n",
              "[1945]  5  3  6  7  8  9  7  4  7  4  9  6  5  8  3  7  4  8  7  9  6  6  4  7\n",
              "[1969]  4  8  8  8  7  9  3  6  5  7  6  8  5  6  9  8  6  7  5  8  8  6  9  5\n",
              "[1993]  3  6  6  7  4  5  8  8  7  9  6  7  5  8  6  4  7  8  6  6  5  9  4  5\n",
              "[2017]  8  6  6  8  8  5  8  8  5 10  6  8  3  7  6  7  8  6  6  7  4  6  7  8\n",
              "[2041]  7  7  6  6  4 10  7  7  7  8  7  5  5  7 10  6 10  6  6  6  6  8  5  7\n",
              "[2065]  8  6  5  7  5  6  6  7 10  7  5 10  9  7  7  4  3  5  9  3  7 11  6 10\n",
              "[2089]  7  7  9  7  8  5  5  4  4  7  6  7  8  7  7  6  7  9  6  7 11  5  6  7\n",
              "[2113]  8  5  6  8  8  6  9  5  7  4  7 11  5  9  4 10  3  7  8  6  6 10  7  7\n",
              "[2137]  7  8 10  5  4  5  6  7  9  9  8  6 10 10  8  7  7  9  7 10  8  6  5  6\n",
              "[2161] 10  9  7  8  9  5  7  6  7  5 10  7  6  6  7  7  9  9  8  6  4  4  9  7\n",
              "[2185]  6  7  7  8  5  5  6  4  6  8  5  6  7  8  4  5  8  7  8  7  6 10  5  7\n",
              "[2209]  6 10  9  9 12  7  6  4  7  7  6 10  7  5  7  5  6  6  9 10  6  6  5  7\n",
              "[2233]  6  7 10 10  6  6  7  7  7  4  7  8  7  7  7  8 10  5  8  6  9  9  5  3\n",
              "[2257] 10  8  6  9  8 10  7  6  7  7  9  9  5 10  9  5  7  8  6  7  8 10  7  5\n",
              "[2281]  6 10  5  7  8  6 11  8  4 10  5  7  9  6  8  8  4  6  7  6  6  6  8  7\n",
              "[2305]  6  7 10  5  7  7  6  7  7  9  7 10  7  7  6  4  8 10  8  5  7  7  7  9\n",
              "[2329]  5  6  7  5  2 10  7  7  8  4  9  5 10  8  8  5  6  7  9  5  9  7  8  5\n",
              "[2353]  7  4  9  7  9  8  6  4  8  4 11  7  7  9  6  6  8  7  9  5  5  8 10  8\n",
              "[2377]  7  7  7  9  9  9  6  5  9  8  8  5  9 12  7  4  7 10  5 12  5  9  7  5\n",
              "[2401]  5  5  8  5  4  7  9  4  5  6  6  8  5 10  7  8  8  8  8  4  8  9  8  8\n",
              "[2425]  6  9  7  8 12  8  8  7  9  7  6  6  4  9  5  7 11  8  8  6  5  8  6  8\n",
              "[2449]  7  4 10  5  7  8  8  6  7  9  8  7  8  3  7  6  7  7  7  8  7  7  5  7\n",
              "[2473]  6  8  6  6  5  8  4  8 10  6  8  7  9  8  8  8  6  6  7  8  5  4  4  6\n",
              "[2497]  7  7  8  6  8  4  9  7  3 10  7 10  5 10  7  5  9  6  7  7  7  5  6  7\n",
              "[2521]  5  9  6  8  4  3  4  9  7 11  9  7  6 10  6  5  6  5  9  6  7  9  8  9\n",
              "[2545] 11  7  9  6  7  5 10  8  6  5  8  8  6  3  5  4  6  9  5  6  9  9  6  3\n",
              "[2569] 11  8  9  7 11  7  3  4  6  8  8  6  7  6  3  5  8  9  5  7  8  8 11  7\n",
              "[2593]  8  8  5  7  8  4  6  8  9  7  9  8  6  6 11  9  8  3  8  9  9  8 11  3\n",
              "[2617]  9  7  8  9  8  9  7  6 10  9  7  8  7  6  7  8  6  6  8  7  7  6  5  7\n",
              "[2641]  8  8  8  5  5  9  7  5  5  7  6 10  9  6  5  8  7  5  9  8  7  7  7 10\n",
              "[2665]  5  7  8  8  5  7  7  3  8  9  6  5  6  5  9 11 10  7 11  8  6  6  8  5\n",
              "[2689]  8  5  6  5  6  6  7  8  6  9  8  6  6  6 12  6  5  6  8  8  7  8  9 10\n",
              "[2713] 11 10  9  6  6  8  7  9  6  7  4 11 11  5  8  9  8  6  6  8  8  9  7  6\n",
              "[2737]  5  6  5  7  7  8  5  7 10  9  5  8  6  8  6  6  7  6  5  7  7  9  7 10\n",
              "[2761]  5  6  9  9  6 10  6  5  5  6  6  7  5  9  6  9  7 10  7  6  7  7  9  8\n",
              "[2785]  9  4  7  9  8  8  8  5  5  7  8  6  6  9 10  6  7  7  9  5  6  9  3  8\n",
              "[2809]  9  6 10  8  5  8  4  7  6 12  6  8 12  7  7  3  6 10 10  7  6  3  7  7\n",
              "[2833]  8  7  6  3  7  5  8  8  7  8  9  8  8  7  7  7  5  7  8  8  9  7  7 10\n",
              "[2857]  5  7  7  7  6 10  8  8  7  7  4  7 11  7  5  7  7  5 10  6  4 10  8  8\n",
              "[2881]  9  9  7 10  4  7  6  7  9  5  6  7  6  5  7 10  9  7  7  6  9  7  5  8\n",
              "[2905]  7  7 11  5  7  7  8  7  7  7 11 10  6  8  6  8  6  6  6  5  8  7 11 10\n",
              "[2929]  9  8  6  6  7  5  6  7  7  6  9  9  6  5  4  7  7  5  7  9  7  9  9  9\n",
              "[2953]  9 10  6  8  9 10  8  8  6  7 10  7  8  5  6  9  6  3  8  5  5  5  7  6\n",
              "[2977]  5  7  9  6  8  9 11  4  7  6  7  6  4  5  4  7  7  7  8  6  8  8  5  7\n",
              "[3001] 12  9  7  8  8 11  5  8  6  7  7  4  9  7  7  9 10  8 10  4  8  7 10  7\n",
              "[3025]  7  7  6  7  7  6  6 10 10  8  6  9  8  8  8  6  9  7  5  9 11  6 10  5\n",
              "[3049]  2  9  8  8 10  8 10  9  8  7  7  6  7  6  5  6  6  7  6  5 10  9  8  9\n",
              "[3073]  8  4  6  6  5  6  7  6  5  8  6 10  7  7 11  9  6  8  8  7  4 10  9  9\n",
              "[3097]  8  7  8  8  4  8  6  8  5  8  3  6  3  7  4  9  4 10  8  6  8  4  6  8\n",
              "[3121]  5  7  7  7  9  6  6  4  7  6  8  9  8 10  7  8  8  7  4  5  9  4  7  8\n",
              "[3145]  8  6  8  6  8  5  6  4  8  6  7  9  3  8  6  7  9 10  5  4  6  8 10  8\n",
              "[3169]  5  5  5  7  4  9  9  4  7  5  6  6  6  9 10  8  5  8  9  2  7  7  9  7\n",
              "[3193]  7  7  6  7  8  9  6  6  8  3 10  8  5  6  6  8  5  7  5  6  9 10  5  5\n",
              "[3217]  7  8  4  8  5  8  7  8 10  5  9  9  8  9  8  5 10  5  7  8  8  5  8  8\n",
              "[3241]  8  8  5  7  6  7  7  5 11  8  6  6  4  8  6  6  3  8  6  8  8  6 10  3\n",
              "[3265]  9 11  6  9  7  9  8  7 10  4  7  7  6  4  9  7  7  8 10  6  4  6  8  8\n",
              "[3289]  7  8  8  9  7  8  4  5  9  8  8  6  6  5  5  3  7  7  8 10  7  5  8  6\n",
              "[3313]  6  6  6  6  6  8  5  8  7  6  8  6  5  6  5  8  5 10  8  4  8  7  9  8\n",
              "[3337]  5  8  6  5  8  8  9  6  7  8  8 10  7  9  4  5  6  7  9  6  7 10  4  7\n",
              "[3361]  6 11  5  3  8 10  9  9  5  5  7  9  7 10 10  8  6  5  8  8  6  9  5  6\n",
              "[3385]  7  4  8  9  7  6  7  4  4  4  5 10  7  7  8  7  6  8  6  8  6  6  7  3\n",
              "[3409]  7  8  5  5 10  5  5  9  9  6 12  6  3  5  8  8  9  6  8  6  7  8  6  5\n",
              "[3433]  5  8  5  6  5  8  9  8  8  5  8  5  7  6  5  7  7  5  6  5 10  7  8  6\n",
              "[3457]  9  6  7  8  8  7  7 10  8  8  9  6  7  8  4  8  7  4  6  9  6  6  7  7\n",
              "[3481]  6  7  7 11  8  5  7  7  8  6  7  8  5  5  7  6  8  8 10  6  8  5  7  4\n",
              "[3505]  5  5  6  7  7  9  8 10  5 10  6  7  6  7  7  9  8  8  7  5  5 10  6  6\n",
              "[3529]  8  4  2  9  7  8  5  4  9  4  7  7  7  9  3 10  9  5  8  7  7  5  6  5\n",
              "[3553]  6  5  9  5  8  4  8  9  8 10  6  6  6 11  8  7  5  3  6  7  7  6  8  6\n",
              "[3577]  5  7  7 10 10  5  4  8  4  9  6  6  9  3  7  5  5  5  7  7  8  4  6  5\n",
              "[3601]  5  8  9  8  7  8  9  9  7 11  6  7  8 12  6  7  5  8  8  5 11  6  4 11\n",
              "[3625]  6  4  5  8  8  6 10  8 10  8  8  6  6  7  8  8  6  5  7  6 12  9  9  8\n",
              "[3649]  7  8 11  6  9  7  7  9  7  4  9  5  5  7  7  5  6  7  5 10  5  8 10  6\n",
              "[3673]  6  6  8 10  8  7  8  7  6  6  4  8 10  9  9  6  9  6  9  7  7  5  7  6\n",
              "[3697]  8  6 10  8 10  6 10  7  4  9  5  6 10  6  6 10  6  5  9  7  9  6  9  8\n",
              "[3721]  7  5  7  7 10  9  7  7  6  9  8  6  6  6  2  8  8  9  8  8  7  6  4  6\n",
              "[3745]  6  7  9  8  7  5  8  7 10  9  7  7  7 10  6  5  9  9  8  7  7  5  6 11\n",
              "[3769]  7  4  8  7  8  6  7  3  4  8  6  6  5  6  7  8  8  6  7  8  4 10  7  8\n",
              "[3793]  2  6  6 11  9  7  8  8  9  6 10  4  7  8  9  6  7  8  6  7  6  5  7 11\n",
              "[3817]  8  4  6  7  8 10  5  5 11  7 10  7  6  5  7  8  5  9  4  6  7  8  9  5\n",
              "[3841]  8  6  6  8  7  7  5  6  5  6  9 10  8  9  6  6  9  6  4 11  7  5  8  5\n",
              "[3865]  7  8  7  4  5  6  7  9  7  8 10  9  8  7 11  5  7  9  5  6  5  8  7  6\n",
              "[3889]  3  9 10  8  7  7  9 10  4 10  9  7  9  7  6  9  8  6  6 10  8  5  5  7\n",
              "[3913]  2  9  6  5  9  7  4  9  7  9  8  6  7  6  5  5  5  9  6  8  9  5  8  7\n",
              "[3937]  6  7  7  7  8  9  6  6  7  8  7  9  7  9  6  6  9  5  6  9  9  6  9  9\n",
              "[3961]  8  9  7  5  5 10  6  7  9  6  9  8  5  5 10  5  5  8  4  7  4  8  5  9\n",
              "[3985]  7 10  8  8  8  9  6  6  7  7  9  9  8  6  6  7  9  4  5  4  6  6  3  9\n",
              "[4009]  6  7  3  8  9  7  9  5  5  5  5  5  5 11  6  8 10  7  9  5  6  8  7  7\n",
              "[4033]  6  6  7 10  6  5  7  7  7  8 10  5  4  9  8  5  7  4  6  6  6  7  9  6\n",
              "[4057]  7  8  8  6  7  8  4  3  7  7 11  8  5 11 10  8  9  5  8  9  7  6  9  9\n",
              "[4081]  8  7  8  8  5  9  5  7  9  8  5  7  7  3 11  8  6  6  7  8 12  5 11  7\n",
              "[4105]  5  7  7  8  9  6  8  5  6  5  7  5  8  7  6 11  8  7  8 11  8  7  9  6\n",
              "[4129]  4  6  7  6  6  6  6  9  5  7  6  7  5  7  6  5  5  5 11 11 10  8  7  7\n",
              "[4153]  7  6  9  7  8  7  6  8  5  5  4  2  7  8  9  7  6 10 10  4  7  8  8  7\n",
              "[4177]  7  8  7  8  6  6  7  6  3  8  6  9  9  4  7  6  6  8 10  6  5  5  6  9\n",
              "[4201]  7 10  4  7  9  9  9  2  5  8  6  6  7  7 11  6  5  6  7  6  6  7  8  8\n",
              "[4225]  9  6  7  7  5  8  9  7  9  6  7  5  7  8  7  6  9  8  7  5  8 10  9  6\n",
              "[4249]  9  9  7  6  7  9  7  8 12 10  6  8  9  5  8  6  9  5  7  8  8  4  6  9\n",
              "[4273]  7  5  6  4  8  9  9  9  3  8 10  6 10  5  8  9  9  6  5  6  8  6  4  8\n",
              "[4297]  6  9  3 10  7  7  5  6  8  7  6  7  5  8  8 10  6  7  8  7  9  8  8 11\n",
              "[4321]  6  8  8  9  5  6  7  6  3  4 10  7  9  7  8 10  6  4 10  7  6  5  3  7\n",
              "[4345]  6  7  8  6  7  3  9  6 10  7  9  5  6  6  6  8  7  6  6 10  7  7  9  8\n",
              "[4369]  6  8  7  5  4  7  7  6  5  5  8  6  8  7  6  7  6  7  6  9  8 11  8  6\n",
              "[4393]  4  8  5  9  9  6  7  8  7  7  6  8  5  5  4  4  7  5  8  5 11  7  9  7\n",
              "[4417]  5  4  7  8  8  5  8  7  8  9  6  9  8  5  6  9  5 12  5  3  8  9  9  7\n",
              "[4441]  9 10  5  7  8  7 10  9  7  8  8  9  6  5  7  9  9 11  8  9  7  6  7  9\n",
              "[4465]  8  6  5  8  6  9  7  9  4  6  6  7 12  4  7  7  6  7  9  9  5  7  7  4\n",
              "[4489] 10  7  9  7  8 11  8 10  5  6  6  7  8  7 10  5  7  5  9  7  5  6  7  6\n",
              "[4513]  6  6  9  4  6  6  7  2  8  6  8  5  7  5  6  7  3  7  6  4  8  6  8 10\n",
              "[4537]  7  7  7  9  7 10  5  2  4  6  6  4  7  7  7  8  8  7  6 11  8  8  6 10\n",
              "[4561]  7  6  9  4  8  8  7  6  7  5 10  6  6  9  7  8 10 10  8  7  7  8  6  6\n",
              "[4585]  6  4  6  8  7  7  8  6  5  4  5  7  7  5  8  5  8  7  8  8  5 10  8  6\n",
              "[4609]  7  8  8  6  8  8  8  8  7  5  5  3 10  7  5  4  9  7  6  8  5  6  4  7\n",
              "[4633]  7  5  7  6 10  5  7  6  7 12  8  8  4  8  6  6  5  6  6  8  8  5  6  9\n",
              "[4657]  6  7 10  7  5  5  3  8  9  6  6  4  6  5  6 10  8  7  7  7  9  9  8  7\n",
              "[4681]  9  3 11  3 10  8  6  4  3  7  6  8 11  6  7  6  9  5  4  5  5  8  7  5\n",
              "[4705]  6  8  7  6  4  2  7  4  8  9 10  6  5  8  4  8  7  4  6  6  8  8  7  6\n",
              "[4729]  6  4 11  7  3  5  5  9  7  6  5  6  8  8  9  6  7  3 10  6  8  8  6  9\n",
              "[4753]  3  6  9  4  7  8  9  7  6  9 11  9  9  6  2  9  8  8  4  6  8  4  7  7\n",
              "[4777]  5  5  5  9  7  8  7  5  9  7  5  6  6  9  9  8  6  8  7  9  9  6  6 12\n",
              "[4801]  6  6  8  9  5 10  7  8  5  5  9  5  7  6  7  8  6  5 10  9  8  8  8  2\n",
              "[4825]  9  9  8  5  8  8  8  7  9  5  6  7  8  7  6  3  6  5  8  8  6 10  7  6\n",
              "[4849]  7  6  7  3  7  3  8  4  9  7  7  5  6  6  8  4  9  7  8 10  5  7  8  1\n",
              "[4873]  9  6 11  9  3 10  4  7  6 10 10  8  8  6  6  9  5  5  4  7  3  8  6  3\n",
              "[4897]  7  7  8  7  5  8  8  9  7  7  6  8 12  6  9  7  6  7  7  8  9  6  7  8\n",
              "[4921]  4  5  6  6  5 10  6  9  9  6  8  9  6 10  7  7  8  6  4  4  8  7  7  7\n",
              "[4945]  9  7 10  7  7  6  8  6  7  3  6  6  5  5  6  7  9  7  7  8  9  7  6  9\n",
              "[4969]  7  7  9  4  7  9  9  8  9  6  7  8  6  3  9  9  8  8  6  9  8  8  7 11\n",
              "[4993]  6  5 11  4  9  8  5  6"
            ]
          },
          "metadata": {}
        }
      ]
    },
    {
      "cell_type": "code",
      "source": [
        "mean(lanzamientos) # Promedio de caras obtenidas por realización del exp\n",
        "# Respecto de los 14 intentos por por realización del exp\n",
        "mean(lanzamientos)/14"
      ],
      "metadata": {
        "id": "444rswRK4fwS",
        "outputId": "30b5b516-58a1-4ae2-dda8-4997698bf596",
        "colab": {
          "base_uri": "https://localhost:8080/",
          "height": 52
        }
      },
      "execution_count": 57,
      "outputs": [
        {
          "output_type": "display_data",
          "data": {
            "text/html": [
              "7.0124"
            ],
            "text/markdown": "7.0124",
            "text/latex": "7.0124",
            "text/plain": [
              "[1] 7.0124"
            ]
          },
          "metadata": {}
        },
        {
          "output_type": "display_data",
          "data": {
            "text/html": [
              "0.500885714285714"
            ],
            "text/markdown": "0.500885714285714",
            "text/latex": "0.500885714285714",
            "text/plain": [
              "[1] 0.5008857"
            ]
          },
          "metadata": {}
        }
      ]
    },
    {
      "cell_type": "code",
      "metadata": {
        "trusted": true,
        "id": "Y85JLZ7NIzQY"
      },
      "source": [
        "# Pero si queremos visualizar las frecuencias relativas observadas?\n",
        "# Adicionalmente nos interesaría poder visualizar la función de masa de probabilidad.\n"
      ],
      "execution_count": null,
      "outputs": []
    },
    {
      "cell_type": "code",
      "metadata": {
        "trusted": true,
        "id": "mFBsXgatIzQY",
        "outputId": "15b27c65-b88e-4b46-a263-5c6f063b491f",
        "colab": {
          "base_uri": "https://localhost:8080/",
          "height": 491
        }
      },
      "source": [
        "df_aux <- data.frame(caras = lanzamientos)\n",
        "df_aux2 <- df_aux %>%\n",
        "  count(caras)\n",
        "\n",
        "df_aux2"
      ],
      "execution_count": 58,
      "outputs": [
        {
          "output_type": "display_data",
          "data": {
            "text/html": [
              "<table class=\"dataframe\">\n",
              "<caption>A data.frame: 12 × 2</caption>\n",
              "<thead>\n",
              "\t<tr><th scope=col>caras</th><th scope=col>n</th></tr>\n",
              "\t<tr><th scope=col>&lt;int&gt;</th><th scope=col>&lt;int&gt;</th></tr>\n",
              "</thead>\n",
              "<tbody>\n",
              "\t<tr><td> 1</td><td>   2</td></tr>\n",
              "\t<tr><td> 2</td><td>  25</td></tr>\n",
              "\t<tr><td> 3</td><td> 110</td></tr>\n",
              "\t<tr><td> 4</td><td> 279</td></tr>\n",
              "\t<tr><td> 5</td><td> 611</td></tr>\n",
              "\t<tr><td> 6</td><td> 919</td></tr>\n",
              "\t<tr><td> 7</td><td>1096</td></tr>\n",
              "\t<tr><td> 8</td><td> 912</td></tr>\n",
              "\t<tr><td> 9</td><td> 604</td></tr>\n",
              "\t<tr><td>10</td><td> 302</td></tr>\n",
              "\t<tr><td>11</td><td> 109</td></tr>\n",
              "\t<tr><td>12</td><td>  31</td></tr>\n",
              "</tbody>\n",
              "</table>\n"
            ],
            "text/markdown": "\nA data.frame: 12 × 2\n\n| caras &lt;int&gt; | n &lt;int&gt; |\n|---|---|\n|  1 |    2 |\n|  2 |   25 |\n|  3 |  110 |\n|  4 |  279 |\n|  5 |  611 |\n|  6 |  919 |\n|  7 | 1096 |\n|  8 |  912 |\n|  9 |  604 |\n| 10 |  302 |\n| 11 |  109 |\n| 12 |   31 |\n\n",
            "text/latex": "A data.frame: 12 × 2\n\\begin{tabular}{ll}\n caras & n\\\\\n <int> & <int>\\\\\n\\hline\n\t  1 &    2\\\\\n\t  2 &   25\\\\\n\t  3 &  110\\\\\n\t  4 &  279\\\\\n\t  5 &  611\\\\\n\t  6 &  919\\\\\n\t  7 & 1096\\\\\n\t  8 &  912\\\\\n\t  9 &  604\\\\\n\t 10 &  302\\\\\n\t 11 &  109\\\\\n\t 12 &   31\\\\\n\\end{tabular}\n",
            "text/plain": [
              "   caras n   \n",
              "1   1       2\n",
              "2   2      25\n",
              "3   3     110\n",
              "4   4     279\n",
              "5   5     611\n",
              "6   6     919\n",
              "7   7    1096\n",
              "8   8     912\n",
              "9   9     604\n",
              "10 10     302\n",
              "11 11     109\n",
              "12 12      31"
            ]
          },
          "metadata": {}
        }
      ]
    },
    {
      "cell_type": "code",
      "source": [
        "\n",
        "df_aux2 <- data.frame(caras = c(0,13,14), n = c(0,0,0) ) %>%\n",
        "    bind_rows(df_aux2) %>%\n",
        "    arrange(caras)\n",
        "\n",
        "df_aux2"
      ],
      "metadata": {
        "id": "UG2z7Vhq6MG3",
        "outputId": "fff09353-1276-4917-bda1-70fb1d9c7251",
        "colab": {
          "base_uri": "https://localhost:8080/",
          "height": 585
        }
      },
      "execution_count": 59,
      "outputs": [
        {
          "output_type": "display_data",
          "data": {
            "text/html": [
              "<table class=\"dataframe\">\n",
              "<caption>A data.frame: 15 × 2</caption>\n",
              "<thead>\n",
              "\t<tr><th scope=col>caras</th><th scope=col>n</th></tr>\n",
              "\t<tr><th scope=col>&lt;dbl&gt;</th><th scope=col>&lt;dbl&gt;</th></tr>\n",
              "</thead>\n",
              "<tbody>\n",
              "\t<tr><td> 0</td><td>   0</td></tr>\n",
              "\t<tr><td> 1</td><td>   2</td></tr>\n",
              "\t<tr><td> 2</td><td>  25</td></tr>\n",
              "\t<tr><td> 3</td><td> 110</td></tr>\n",
              "\t<tr><td> 4</td><td> 279</td></tr>\n",
              "\t<tr><td> 5</td><td> 611</td></tr>\n",
              "\t<tr><td> 6</td><td> 919</td></tr>\n",
              "\t<tr><td> 7</td><td>1096</td></tr>\n",
              "\t<tr><td> 8</td><td> 912</td></tr>\n",
              "\t<tr><td> 9</td><td> 604</td></tr>\n",
              "\t<tr><td>10</td><td> 302</td></tr>\n",
              "\t<tr><td>11</td><td> 109</td></tr>\n",
              "\t<tr><td>12</td><td>  31</td></tr>\n",
              "\t<tr><td>13</td><td>   0</td></tr>\n",
              "\t<tr><td>14</td><td>   0</td></tr>\n",
              "</tbody>\n",
              "</table>\n"
            ],
            "text/markdown": "\nA data.frame: 15 × 2\n\n| caras &lt;dbl&gt; | n &lt;dbl&gt; |\n|---|---|\n|  0 |    0 |\n|  1 |    2 |\n|  2 |   25 |\n|  3 |  110 |\n|  4 |  279 |\n|  5 |  611 |\n|  6 |  919 |\n|  7 | 1096 |\n|  8 |  912 |\n|  9 |  604 |\n| 10 |  302 |\n| 11 |  109 |\n| 12 |   31 |\n| 13 |    0 |\n| 14 |    0 |\n\n",
            "text/latex": "A data.frame: 15 × 2\n\\begin{tabular}{ll}\n caras & n\\\\\n <dbl> & <dbl>\\\\\n\\hline\n\t  0 &    0\\\\\n\t  1 &    2\\\\\n\t  2 &   25\\\\\n\t  3 &  110\\\\\n\t  4 &  279\\\\\n\t  5 &  611\\\\\n\t  6 &  919\\\\\n\t  7 & 1096\\\\\n\t  8 &  912\\\\\n\t  9 &  604\\\\\n\t 10 &  302\\\\\n\t 11 &  109\\\\\n\t 12 &   31\\\\\n\t 13 &    0\\\\\n\t 14 &    0\\\\\n\\end{tabular}\n",
            "text/plain": [
              "   caras n   \n",
              "1   0       0\n",
              "2   1       2\n",
              "3   2      25\n",
              "4   3     110\n",
              "5   4     279\n",
              "6   5     611\n",
              "7   6     919\n",
              "8   7    1096\n",
              "9   8     912\n",
              "10  9     604\n",
              "11 10     302\n",
              "12 11     109\n",
              "13 12      31\n",
              "14 13       0\n",
              "15 14       0"
            ]
          },
          "metadata": {}
        }
      ]
    },
    {
      "cell_type": "code",
      "source": [
        "df_aux3 <- df_aux2 %>%\n",
        "    mutate(freq_rel_obs = n/N,\n",
        "           dens_teorica = round(dbinom(caras, size = 14, prob = 0.5),6 ), # curva roja\n",
        "           dens_obs = round(dbinom(caras, size = 14, prob = mean(lanzamientos/14)),6 ) #curva azul\n",
        "         )"
      ],
      "metadata": {
        "id": "D0R_C-Zv6XMP"
      },
      "execution_count": 60,
      "outputs": []
    },
    {
      "cell_type": "code",
      "source": [
        "df_aux3"
      ],
      "metadata": {
        "id": "KSDseO8g67UK",
        "outputId": "3039a01a-b7da-40ec-f0df-a9713fd35955",
        "colab": {
          "base_uri": "https://localhost:8080/",
          "height": 568
        }
      },
      "execution_count": 61,
      "outputs": [
        {
          "output_type": "display_data",
          "data": {
            "text/html": [
              "<table class=\"dataframe\">\n",
              "<caption>A data.frame: 15 × 5</caption>\n",
              "<thead>\n",
              "\t<tr><th scope=col>caras</th><th scope=col>n</th><th scope=col>freq_rel_obs</th><th scope=col>dens_teorica</th><th scope=col>dens_obs</th></tr>\n",
              "\t<tr><th scope=col>&lt;dbl&gt;</th><th scope=col>&lt;dbl&gt;</th><th scope=col>&lt;dbl&gt;</th><th scope=col>&lt;dbl&gt;</th><th scope=col>&lt;dbl&gt;</th></tr>\n",
              "</thead>\n",
              "<tbody>\n",
              "\t<tr><td> 0</td><td>   0</td><td>0.0000</td><td>0.000061</td><td>0.000060</td></tr>\n",
              "\t<tr><td> 1</td><td>   2</td><td>0.0004</td><td>0.000854</td><td>0.000837</td></tr>\n",
              "\t<tr><td> 2</td><td>  25</td><td>0.0050</td><td>0.005554</td><td>0.005457</td></tr>\n",
              "\t<tr><td> 3</td><td> 110</td><td>0.0220</td><td>0.022217</td><td>0.021904</td></tr>\n",
              "\t<tr><td> 4</td><td> 279</td><td>0.0558</td><td>0.061096</td><td>0.060449</td></tr>\n",
              "\t<tr><td> 5</td><td> 611</td><td>0.1222</td><td>0.122192</td><td>0.121327</td></tr>\n",
              "\t<tr><td> 6</td><td> 919</td><td>0.1838</td><td>0.183289</td><td>0.182636</td></tr>\n",
              "\t<tr><td> 7</td><td>1096</td><td>0.2192</td><td>0.209473</td><td>0.209468</td></tr>\n",
              "\t<tr><td> 8</td><td> 912</td><td>0.1824</td><td>0.183289</td><td>0.183935</td></tr>\n",
              "\t<tr><td> 9</td><td> 604</td><td>0.1208</td><td>0.122192</td><td>0.123059</td></tr>\n",
              "\t<tr><td>10</td><td> 302</td><td>0.0604</td><td>0.061096</td><td>0.061748</td></tr>\n",
              "\t<tr><td>11</td><td> 109</td><td>0.0218</td><td>0.022217</td><td>0.022533</td></tr>\n",
              "\t<tr><td>12</td><td>  31</td><td>0.0062</td><td>0.005554</td><td>0.005653</td></tr>\n",
              "\t<tr><td>13</td><td>   0</td><td>0.0000</td><td>0.000854</td><td>0.000873</td></tr>\n",
              "\t<tr><td>14</td><td>   0</td><td>0.0000</td><td>0.000061</td><td>0.000063</td></tr>\n",
              "</tbody>\n",
              "</table>\n"
            ],
            "text/markdown": "\nA data.frame: 15 × 5\n\n| caras &lt;dbl&gt; | n &lt;dbl&gt; | freq_rel_obs &lt;dbl&gt; | dens_teorica &lt;dbl&gt; | dens_obs &lt;dbl&gt; |\n|---|---|---|---|---|\n|  0 |    0 | 0.0000 | 0.000061 | 0.000060 |\n|  1 |    2 | 0.0004 | 0.000854 | 0.000837 |\n|  2 |   25 | 0.0050 | 0.005554 | 0.005457 |\n|  3 |  110 | 0.0220 | 0.022217 | 0.021904 |\n|  4 |  279 | 0.0558 | 0.061096 | 0.060449 |\n|  5 |  611 | 0.1222 | 0.122192 | 0.121327 |\n|  6 |  919 | 0.1838 | 0.183289 | 0.182636 |\n|  7 | 1096 | 0.2192 | 0.209473 | 0.209468 |\n|  8 |  912 | 0.1824 | 0.183289 | 0.183935 |\n|  9 |  604 | 0.1208 | 0.122192 | 0.123059 |\n| 10 |  302 | 0.0604 | 0.061096 | 0.061748 |\n| 11 |  109 | 0.0218 | 0.022217 | 0.022533 |\n| 12 |   31 | 0.0062 | 0.005554 | 0.005653 |\n| 13 |    0 | 0.0000 | 0.000854 | 0.000873 |\n| 14 |    0 | 0.0000 | 0.000061 | 0.000063 |\n\n",
            "text/latex": "A data.frame: 15 × 5\n\\begin{tabular}{lllll}\n caras & n & freq\\_rel\\_obs & dens\\_teorica & dens\\_obs\\\\\n <dbl> & <dbl> & <dbl> & <dbl> & <dbl>\\\\\n\\hline\n\t  0 &    0 & 0.0000 & 0.000061 & 0.000060\\\\\n\t  1 &    2 & 0.0004 & 0.000854 & 0.000837\\\\\n\t  2 &   25 & 0.0050 & 0.005554 & 0.005457\\\\\n\t  3 &  110 & 0.0220 & 0.022217 & 0.021904\\\\\n\t  4 &  279 & 0.0558 & 0.061096 & 0.060449\\\\\n\t  5 &  611 & 0.1222 & 0.122192 & 0.121327\\\\\n\t  6 &  919 & 0.1838 & 0.183289 & 0.182636\\\\\n\t  7 & 1096 & 0.2192 & 0.209473 & 0.209468\\\\\n\t  8 &  912 & 0.1824 & 0.183289 & 0.183935\\\\\n\t  9 &  604 & 0.1208 & 0.122192 & 0.123059\\\\\n\t 10 &  302 & 0.0604 & 0.061096 & 0.061748\\\\\n\t 11 &  109 & 0.0218 & 0.022217 & 0.022533\\\\\n\t 12 &   31 & 0.0062 & 0.005554 & 0.005653\\\\\n\t 13 &    0 & 0.0000 & 0.000854 & 0.000873\\\\\n\t 14 &    0 & 0.0000 & 0.000061 & 0.000063\\\\\n\\end{tabular}\n",
            "text/plain": [
              "   caras n    freq_rel_obs dens_teorica dens_obs\n",
              "1   0       0 0.0000       0.000061     0.000060\n",
              "2   1       2 0.0004       0.000854     0.000837\n",
              "3   2      25 0.0050       0.005554     0.005457\n",
              "4   3     110 0.0220       0.022217     0.021904\n",
              "5   4     279 0.0558       0.061096     0.060449\n",
              "6   5     611 0.1222       0.122192     0.121327\n",
              "7   6     919 0.1838       0.183289     0.182636\n",
              "8   7    1096 0.2192       0.209473     0.209468\n",
              "9   8     912 0.1824       0.183289     0.183935\n",
              "10  9     604 0.1208       0.122192     0.123059\n",
              "11 10     302 0.0604       0.061096     0.061748\n",
              "12 11     109 0.0218       0.022217     0.022533\n",
              "13 12      31 0.0062       0.005554     0.005653\n",
              "14 13       0 0.0000       0.000854     0.000873\n",
              "15 14       0 0.0000       0.000061     0.000063"
            ]
          },
          "metadata": {}
        }
      ]
    },
    {
      "cell_type": "code",
      "source": [
        "\n",
        "df_aux3 %>%\n",
        "  ggplot() +\n",
        "  aes(x = caras, y = freq_rel_obs) +\n",
        "  geom_bar(stat = \"identity\") +\n",
        "  geom_point(mapping = aes(y = dens_teorica), color = \"red\", size = 3,alpha = 0.5) +\n",
        "    geom_point(mapping = aes(y = dens_obs), color = \"blue\", size = 2, alpha = 0.5)"
      ],
      "metadata": {
        "id": "OREgJ1Ny7ILB",
        "outputId": "9a3016a9-8058-423f-f6bb-1153df72a4b9",
        "colab": {
          "base_uri": "https://localhost:8080/",
          "height": 437
        }
      },
      "execution_count": 63,
      "outputs": [
        {
          "output_type": "display_data",
          "data": {
            "text/plain": [
              "plot without title"
            ],
            "image/png": "[encoded data removed]"
          },
          "metadata": {
            "image/png": {
              "width": 420,
              "height": 420
            }
          }
        }
      ]
    },
    {
      "cell_type": "markdown",
      "metadata": {
        "id": "4LDcECLUIzQY"
      },
      "source": [
        "# III) Distribución poisson\n",
        "## Contexto\n",
        "Usualmente una variable aleatoria poisson, representa la cantidad de eventos registrados en un interval fijo de tiempo con una cierta tasa de ocurrencia.\n",
        "## Función de probabilidad\n",
        "\n",
        "$$p(x) = \\lambda^x \\dfrac{e^{-\\lambda}}{x!}$$\n",
        "\n",
        "Donde $\\lambda$ corresponde a la tasa de ocurrencia y $x$ la cantida de eventos observados.\n",
        "\n",
        "## Funciones en R\n",
        " * `dpois(x, lambda, log = FALSE)`\n",
        " * `ppois(q, lambda, lower.tail = TRUE, log.p = FALSE)`\n",
        " * `qpois(p, lambda, lower.tail = TRUE, log.p = FALSE)`\n",
        " * `rpois(n, lambda)`"
      ]
    },
    {
      "cell_type": "code",
      "metadata": {
        "trusted": true,
        "id": "RbyWC9WRIzQY"
      },
      "source": [],
      "execution_count": null,
      "outputs": []
    },
    {
      "cell_type": "markdown",
      "metadata": {
        "id": "9gR972O-IzQY"
      },
      "source": [
        "** P5. ** Suponga que en un restaurant de comida se tiene una tasa de llegada de clientes de 2 clientes por cada 3 minutos en promedio.\n",
        "¿Cuál es la probabilidad de que 5 o más clientes lleguen en un período de 9 minutos?.\n"
      ]
    },
    {
      "cell_type": "code",
      "metadata": {
        "trusted": true,
        "id": "O57Ov87FIzQY"
      },
      "source": [
        "# La tasa de éxito en una dist. poisson es el parámetro lambda\n",
        "# Dada la info, se tiene una tasa de 6 clientes cada 9 minutos\n",
        "\n",
        "\n",
        "\n",
        "\n"
      ],
      "execution_count": null,
      "outputs": []
    },
    {
      "cell_type": "markdown",
      "metadata": {
        "trusted": true,
        "id": "N3dXrqZSIzQY"
      },
      "source": [
        "**P6.** Se sabe que la tasa de falla en la elaboración de ampolletas sigue una distribución poisson, con una tasa de falla de 3 ampolletas defectuosas por semana.\n",
        "¿Cuál es la probabilidad de que al cabo de un mes se genere un total de 20 ampolletas defectuosas o más?\n",
        "\n"
      ]
    },
    {
      "cell_type": "code",
      "metadata": {
        "trusted": true,
        "id": "d8fs6wynIzQY"
      },
      "source": [
        "# lambda = 3*4 = 12 ampolletas defectuosas por mes\n",
        "\n"
      ],
      "execution_count": null,
      "outputs": []
    },
    {
      "cell_type": "code",
      "metadata": {
        "trusted": true,
        "id": "D5uVa3ICIzQY"
      },
      "source": [],
      "execution_count": null,
      "outputs": []
    }
  ]
}