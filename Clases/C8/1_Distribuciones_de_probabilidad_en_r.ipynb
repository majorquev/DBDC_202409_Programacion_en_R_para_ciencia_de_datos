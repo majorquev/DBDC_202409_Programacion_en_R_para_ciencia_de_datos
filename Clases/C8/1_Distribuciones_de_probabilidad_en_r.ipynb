{
  "nbformat": 4,
  "nbformat_minor": 0,
  "metadata": {
    "colab": {
      "provenance": [],
      "include_colab_link": true
    },
    "kernelspec": {
      "name": "ir",
      "display_name": "R"
    }
  },
  "cells": [
    {
      "cell_type": "markdown",
      "metadata": {
        "id": "view-in-github",
        "colab_type": "text"
      },
      "source": [
        "<a href=\"https://colab.research.google.com/github/majorquev/DBDC_202409_Programacion_en_R_para_ciencia_de_datos/blob/main/Clases/C8/1_Distribuciones_de_probabilidad_en_r.ipynb\" target=\"_parent\"><img src=\"https://colab.research.google.com/assets/colab-badge.svg\" alt=\"Open In Colab\"/></a>"
      ]
    },
    {
      "cell_type": "markdown",
      "metadata": {
        "collapsed": true,
        "id": "OejoCTBMIzQV"
      },
      "source": [
        "# Parte 6: Distribuciones de probabilidad\n",
        "\n",
        "**Autor:** Miguel Jorquera Viguera.<br>\n",
        "**E-mail:** majorquev@gmail.com<br>\n",
        "**Ayudante:** Rodrigo Morales<br>\n",
        "**E-mail ayudante:** rumorale1@gmail.com\n",
        "\n",
        "En R podemos obtener valores tanto de las funciones de densidad, distribución de probabilidad, cuantiles de una distribución o bien generar valores aleatorios de diversas distribuciones paramétricas.\n",
        "Casi todas las distribuciones que se encuentran implementadas en la librería base de R se referencian de la misma manera.\n",
        "\n",
        "* Funciones de densidad (PDFs) comienzan con la letra “d.”\n",
        "* Funciones de distribución acumulada comienzan con la letra “p.”\n",
        "* Funcioenes que retornan quantiles de una distribución comienzan con la letra “q.”\n",
        "* Funciones que generan valores aleatorios comienzan con la letra“r.”\n",
        "\n",
        "Por defecto, en R contamos con una amplia variedad familias de distribuciones enre las que destacan las siguientes.\n",
        "\n",
        "\n",
        "\n",
        "**Distribution**| **R name**| **additional arguments**\n",
        "-----| -----| -----\n",
        "beta |`beta` |shape1, shape2, ncp\n",
        "binomial| `binom`| size, prob\n",
        "Cauchy|`cauchy` |location, scale\n",
        "chi-squared| `chisq`| df, ncp\n",
        "exponential| `exp` |rate\n",
        "F| `f` |df1, df2, ncp\n",
        "gamma |`gamma` |shape, scale\n",
        "geometric |`geom` |prob\n",
        "hypergeometric| `hyper`| m, n, k\n",
        "log-normal| `lnorm` |meanlog, sdlog\n",
        "logistic |`logis` |location, scale\n",
        "negative| `binomial`| nbinom size, prob\n",
        "normal |`norm` |mean, sd\n",
        "Poisson| `pois`| lambda\n",
        "signed rank |`signrank`| n\n",
        "Student’s t| `t`| df, ncp\n",
        "uniform |`unif`| min, max\n",
        "Weibull| `weibull`| shape, scale\n",
        "Wilcoxon |`wilcox`|m, n\n",
        "\n",
        "\n"
      ]
    },
    {
      "cell_type": "markdown",
      "metadata": {
        "id": "-PTP0v_EIzQV"
      },
      "source": [
        "# I) Distribución normal\n",
        "\n",
        "## Función de densidad\n",
        "$$f(x) = \\frac{1}{\\sqrt{2 π \\sigma^2}} e^{-\\frac{1}{2\\sigma^2}(x - \\mu)^2}$$\n",
        "\n",
        "## En R...\n",
        "\n",
        "* `dnorm(x, mean = 0, sd = 1, log = FALSE)`: Evalúa la función de densidad.\n",
        "* `pnorm(q, mean = 0, sd = 1, lower.tail = TRUE, log.p = FALSE)`: Calcula la probabilidad acumulada (función de distribución).\n",
        "* `qnorm(p, mean = 0, sd = 1, lower.tail = TRUE, log.p = FALSE)`: Calcula los quantiles de la distribución. (Función inversa de la función de distribución de probabilidad).\n",
        "* `rnorm(n, mean = 0, sd = 1)`: Genera muestras aleatroias.\n",
        "\n",
        "\n",
        "\n",
        "\n",
        "**P1.** Se sabe que la estatura de la población adulta de sexo masculino chilena sigue una distribución normal con media 171,8 cms y una desviación estándar de 5cms\n",
        "\n",
        "**a)** ¿Cuál es la probabilidad de encontrar de que una persona hombre  adulta tenga una estatura\n",
        "menor o igual a 160 cms?"
      ]
    },
    {
      "cell_type": "code",
      "metadata": {
        "trusted": true,
        "id": "ToHwVVRJIzQV"
      },
      "source": [
        "# pnorm()\n",
        "#?pnorm\n",
        "\n"
      ],
      "execution_count": null,
      "outputs": []
    },
    {
      "cell_type": "code",
      "metadata": {
        "trusted": true,
        "id": "aurFMEakIzQW"
      },
      "source": [
        "?pnorm"
      ],
      "execution_count": null,
      "outputs": []
    },
    {
      "cell_type": "markdown",
      "metadata": {
        "id": "h-zASRnGIzQW"
      },
      "source": [
        "  \n",
        "**b)** ¿Cuál es la probabilidad de encontrar de que una persona adulta tenga una estatura mayor  a 160 cms?\n",
        "  "
      ]
    },
    {
      "cell_type": "code",
      "metadata": {
        "trusted": true,
        "id": "jQ8cahkIIzQW"
      },
      "source": [
        "#P(estatura > 160) = 1- P(estatura <= 160)\n",
        "1-pnorm(160, mean = 171.8, sd = 5) # 99% de prob de que un adulto Chileno mida más de 1.60.\n",
        "\n",
        "#NOTA\n",
        "# lower.tail\n"
      ],
      "execution_count": null,
      "outputs": []
    },
    {
      "cell_type": "markdown",
      "metadata": {
        "id": "RW1a4CYOIzQW"
      },
      "source": [
        "**c)** ¿Cuál es la probabilidad de encontrar una persona con estatura entre 180cms y 190 cms?"
      ]
    },
    {
      "cell_type": "code",
      "metadata": {
        "trusted": true,
        "id": "OvapQgJnIzQW"
      },
      "source": [],
      "execution_count": null,
      "outputs": []
    },
    {
      "cell_type": "markdown",
      "metadata": {
        "id": "wKeJk1S1IzQX"
      },
      "source": [
        "**d)** ¿Cuál es la estatura que corresponde al percentil 90?"
      ]
    },
    {
      "cell_type": "code",
      "metadata": {
        "trusted": true,
        "id": "uH4r-tSjIzQX"
      },
      "source": [
        "# Cual es la estatura que acumula el 90 % de probabilidad\n"
      ],
      "execution_count": null,
      "outputs": []
    },
    {
      "cell_type": "markdown",
      "metadata": {
        "id": "8BETYF90IzQX"
      },
      "source": [
        "**d)**  Genere una muestra aleatoria de tamaño 1000 y guárdela en un vector llamado _estaturas_, provenientes de una distribución normal con media 171,8 y desviación estandar igual a 5."
      ]
    },
    {
      "cell_type": "code",
      "metadata": {
        "trusted": true,
        "id": "_jaKERD8IzQX"
      },
      "source": [
        "# estaturas\n",
        "# set.seed(2020) #semilla\n",
        "\n"
      ],
      "execution_count": null,
      "outputs": []
    },
    {
      "cell_type": "markdown",
      "metadata": {
        "id": "xcbBK1N0IzQX"
      },
      "source": [
        "**e)** Mediante la función _hist()_ y la función _curve()_  genere un histograma de la muestra creada y añada la curva de distribución normal con la media y desviación estandar reales."
      ]
    },
    {
      "cell_type": "code",
      "metadata": {
        "trusted": true,
        "id": "2iZisxlHIzQX"
      },
      "source": [
        "## NOTA\n"
      ],
      "execution_count": null,
      "outputs": []
    },
    {
      "cell_type": "code",
      "metadata": {
        "trusted": true,
        "id": "EDPAiGwpIzQX"
      },
      "source": [],
      "execution_count": null,
      "outputs": []
    },
    {
      "cell_type": "code",
      "metadata": {
        "trusted": true,
        "id": "lAB7nivUIzQX"
      },
      "source": [
        "# Notar que en un histograma podemos visualizar los conteos o las frecuencias relativas.\n",
        "\n",
        "\n"
      ],
      "execution_count": null,
      "outputs": []
    },
    {
      "cell_type": "markdown",
      "source": [
        "## Recordatorio (definición de funciones)\n",
        "\n",
        "```\n",
        "function(par1, par2, ...){\n",
        "    ...\n",
        "    return(...)\n",
        "}\n",
        "```"
      ],
      "metadata": {
        "id": "1WdREqOHVtY4"
      }
    },
    {
      "cell_type": "code",
      "source": [
        "suma <- function(a,b){\n",
        "  aux <- a+b\n",
        "  return(aux)\n",
        "}"
      ],
      "metadata": {
        "id": "IAIZ-3YYVs87"
      },
      "execution_count": null,
      "outputs": []
    },
    {
      "cell_type": "markdown",
      "metadata": {
        "id": "fMwNisC-IzQX"
      },
      "source": [
        "# II)Distribucion binomial\n",
        "## Contexto\n",
        "Cuando una variable aleatoria representa la cantidad de éxitos en $n$ ensayos independientes de tipo Bernoulli (0 o 1), se dice que dicha variable sigue una distribución binomial.\n",
        "\n",
        "## Función de probabilidad\n",
        "\n",
        "\n",
        "$$p(x) = {n\\choose x}p^x(1-p)^{n-x}$$\n",
        "Donde $n$ es el total de ensayos realizados y $x$ es la cantidad de éxitos observados y $p$ es la probabilidad de éxito del evento de interés.\n",
        "\n",
        "## En R...\n",
        "\n",
        "* `dbinom(x, size, prob, log = FALSE)`: Evalúa la función de masa. En el caso discreto corresponde a la probabilidad del evento.\n",
        "* `pbinom(q, size, prob, lower.tail = TRUE, log.p = FALSE)`: Calcula la probabilidad acumulada.\n",
        "* `qbinom(p, size, prob, lower.tail = TRUE, log.p = FALSE)`: Retorna cuantiles de la distribución.\n",
        "* `rbinom(n, size, prob)`: Genera muestras aleatorias.\n",
        "\n",
        "**P2.** Suponga que un spot publicitario de un artículo tiene una tasa de efectividad de 20% sobre una determinada población.\n",
        "\n",
        "**a)** Suponga que se logra llegar con el spot a 100 personas. ¿Cuál es la probabilidad de que\n",
        " al menos 30  personas compren el artículo ofrecido?"
      ]
    },
    {
      "cell_type": "code",
      "metadata": {
        "trusted": true,
        "id": "MOm-FppMIzQX"
      },
      "source": [
        "# Identifiquemos algunos elementos como\n",
        "# Experimento : Hacer llegar el spot a las 100 personas y registrar el número de clientes que efectivamente compraron el artículo.\n",
        "# Variable aleatoria : X: \"el número de clientes (de los 100) que compraron el artículo\"\n",
        "# Espacio muestral : {0,1,2,...,100}\n",
        "#-------parámetros de pbinom ---------\n",
        "#size (n): 100\n",
        "#prob (p): 0.2\n",
        "\n",
        "\n",
        "\n"
      ],
      "execution_count": null,
      "outputs": []
    },
    {
      "cell_type": "code",
      "metadata": {
        "trusted": true,
        "id": "hNMwMfgAIzQX"
      },
      "source": [
        "\n",
        "# ¿Cuál es la probabilidad de que exactamente 30 personas compren el artículo ofrecido?\n",
        "\n",
        "\n"
      ],
      "execution_count": null,
      "outputs": []
    },
    {
      "cell_type": "markdown",
      "metadata": {
        "id": "cNebkKaeIzQX"
      },
      "source": [
        "**P3.** En una localidad se sabe que el 70% de las casas tienen un televisor.  Se quiere realizar una encuesta a 8 casas ¿cuál es la probabilidad de que 6 o más de ellas tengan televisor?"
      ]
    },
    {
      "cell_type": "code",
      "metadata": {
        "trusted": true,
        "id": "nb9XiMpSIzQX"
      },
      "source": [
        "# size = 8\n",
        "# prob = 0.7\n"
      ],
      "execution_count": null,
      "outputs": []
    },
    {
      "cell_type": "markdown",
      "metadata": {
        "id": "9SSV-KEkIzQX"
      },
      "source": [
        "## Lanzando una moneda\n",
        "**P4** Supongamos que una **honesta** se lanza 14 veces y se anota el número veces que se obtuvo cara.\n",
        "\n",
        "**a)** ¿Cuál es la probabilidad de obtener exactamente 4 caras? ¿y al menos 10?"
      ]
    },
    {
      "cell_type": "code",
      "metadata": {
        "trusted": true,
        "id": "MyXXdYQ8IzQX"
      },
      "source": [
        "#size = n = 14, y prob = p = 0.5 ?\n",
        "\n"
      ],
      "execution_count": null,
      "outputs": []
    },
    {
      "cell_type": "code",
      "source": [
        "# P(X >= 10)\n"
      ],
      "metadata": {
        "id": "R--JQSTujOzg"
      },
      "execution_count": null,
      "outputs": []
    },
    {
      "cell_type": "markdown",
      "metadata": {
        "id": "AlXH-gaYIzQY"
      },
      "source": [
        "  \n",
        "**b)** Si se repite el experimento 5 veces.\n",
        "\n",
        "\n",
        "*   ¿Qué proporción de caras se debería esperar?¿y si se repite más veces?\n",
        "*   ¿En qué % de casos se obtuvo exactamente 4 caras? ¿ y si se repite más veces?\n",
        "\n",
        "\n",
        " Utillice la función rbinom para simular el experimento 100 veces."
      ]
    },
    {
      "cell_type": "code",
      "metadata": {
        "trusted": true,
        "id": "bVAWrKGZIzQY"
      },
      "source": [
        "# simulamos un experimento binomial\n",
        "\n",
        "\n",
        "\n"
      ],
      "execution_count": null,
      "outputs": []
    },
    {
      "cell_type": "code",
      "source": [],
      "metadata": {
        "id": "wlx4YB0pon7z"
      },
      "execution_count": null,
      "outputs": []
    },
    {
      "cell_type": "code",
      "metadata": {
        "trusted": true,
        "id": "Y85JLZ7NIzQY"
      },
      "source": [
        "# Pero si queremos visualizar las frecuencias relativas observadas?\n",
        "# Adicionalmente nos interesaría poder visualizar la función de masa de probabilidad.\n"
      ],
      "execution_count": null,
      "outputs": []
    },
    {
      "cell_type": "code",
      "metadata": {
        "trusted": true,
        "id": "mFBsXgatIzQY"
      },
      "source": [],
      "execution_count": null,
      "outputs": []
    },
    {
      "cell_type": "markdown",
      "metadata": {
        "id": "4LDcECLUIzQY"
      },
      "source": [
        "# III) Distribución poisson\n",
        "## Contexto\n",
        "Usualmente una variable aleatoria poisson, representa la cantidad de eventos registrados en un interval fijo de tiempo con una cierta tasa de ocurrencia.\n",
        "## Función de probabilidad\n",
        "\n",
        "$$p(x) = \\lambda^x \\dfrac{e^{-\\lambda}}{x!}$$\n",
        "\n",
        "Donde $\\lambda$ corresponde a la tasa de ocurrencia y $x$ la cantida de eventos observados.\n",
        "\n",
        "## Funciones en R\n",
        " * `dpois(x, lambda, log = FALSE)`\n",
        " * `ppois(q, lambda, lower.tail = TRUE, log.p = FALSE)`\n",
        " * `qpois(p, lambda, lower.tail = TRUE, log.p = FALSE)`\n",
        " * `rpois(n, lambda)`"
      ]
    },
    {
      "cell_type": "code",
      "metadata": {
        "trusted": true,
        "id": "RbyWC9WRIzQY"
      },
      "source": [],
      "execution_count": null,
      "outputs": []
    },
    {
      "cell_type": "markdown",
      "metadata": {
        "id": "9gR972O-IzQY"
      },
      "source": [
        "** P5. ** Suponga que en un restaurant de comida se tiene una tasa de llegada de clientes de 2 clientes por cada 3 minutos en promedio.\n",
        "¿Cuál es la probabilidad de que 5 o más clientes lleguen en un período de 9 minutos?.\n"
      ]
    },
    {
      "cell_type": "code",
      "metadata": {
        "trusted": true,
        "id": "O57Ov87FIzQY"
      },
      "source": [
        "# La tasa de éxito en una dist. poisson es el parámetro lambda\n",
        "# Dada la info, se tiene una tasa de 6 clientes cada 9 minutos\n",
        "\n",
        "\n",
        "\n",
        "\n"
      ],
      "execution_count": null,
      "outputs": []
    },
    {
      "cell_type": "markdown",
      "metadata": {
        "trusted": true,
        "id": "N3dXrqZSIzQY"
      },
      "source": [
        "**P6.** Se sabe que la tasa de falla en la elaboración de ampolletas sigue una distribución poisson, con una tasa de falla de 3 ampolletas defectuosas por semana.\n",
        "¿Cuál es la probabilidad de que al cabo de un mes se genere un total de 20 ampolletas defectuosas o más?\n",
        "\n"
      ]
    },
    {
      "cell_type": "code",
      "metadata": {
        "trusted": true,
        "id": "d8fs6wynIzQY"
      },
      "source": [
        "# lambda = 3*4 = 12 ampolletas defectuosas por mes\n",
        "\n"
      ],
      "execution_count": null,
      "outputs": []
    },
    {
      "cell_type": "code",
      "metadata": {
        "trusted": true,
        "id": "D5uVa3ICIzQY"
      },
      "source": [],
      "execution_count": null,
      "outputs": []
    }
  ]
}